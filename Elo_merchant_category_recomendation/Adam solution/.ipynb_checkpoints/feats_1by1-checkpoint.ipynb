{
 "cells": [
  {
   "cell_type": "code",
   "execution_count": 1,
   "metadata": {},
   "outputs": [],
   "source": [
    "import pandas as pd\n",
    "import numpy as np\n",
    "import lightgbm as lgb\n",
    "import matplotlib.pyplot as plt\n",
    "%matplotlib inline"
   ]
  },
  {
   "cell_type": "markdown",
   "metadata": {},
   "source": [
    "### Read in data and fill missing"
   ]
  },
  {
   "cell_type": "code",
   "execution_count": 2,
   "metadata": {},
   "outputs": [],
   "source": [
    "train = pd.read_csv('../input/train.csv', parse_dates=['first_active_month'])\n",
    "test = pd.read_csv('../input/test.csv', parse_dates=['first_active_month'])\n",
    "hist_trans = pd.read_csv('../input/historical_transactions.csv', parse_dates=['purchase_date'])\n",
    "new_trans = pd.read_csv('../input/new_merchant_transactions.csv', parse_dates=['purchase_date'])"
   ]
  },
  {
   "cell_type": "code",
   "execution_count": 3,
   "metadata": {},
   "outputs": [],
   "source": [
    "test.first_active_month.fillna(pd.to_datetime('2017-09-01'), inplace=True)"
   ]
  },
  {
   "cell_type": "markdown",
   "metadata": {},
   "source": [
    "### Define model"
   ]
  },
  {
   "cell_type": "code",
   "execution_count": 4,
   "metadata": {},
   "outputs": [],
   "source": [
    "exclude_feats = ['first_active_month', 'card_id', 'target']\n",
    "cat_feats = ['feature_1', 'feature_2']\n",
    "\n",
    "param = {\n",
    "    'objective': 'regression',\n",
    "    'learning_rate': 0.01,\n",
    "    'num_leaves': 31,\n",
    "    'min_data_in_leaf': 20,\n",
    "    'bagging_fraction': 0.8,\n",
    "    'bagging_freq': 1,\n",
    "    'feature_fraction': 0.8,\n",
    "    # 'lambda_l2': 5.0,\n",
    "    'metric': 'rmse',\n",
    "    'num_threads': 32,\n",
    "}"
   ]
  },
  {
   "cell_type": "code",
   "execution_count": 6,
   "metadata": {},
   "outputs": [],
   "source": [
    "def get_cv(feats, cat_feats=cat_feats):\n",
    "    tr_data = lgb.Dataset(train[feats], label=train.target, categorical_feature=cat_feats)\n",
    "    cv_scores = lgb.cv(param, tr_data, 3000, stratified=False, verbose_eval=200, early_stopping_rounds=600)\n",
    "    print(f'Best cv scores {cv_scores[\"rmse-mean\"][-1]} + {cv_scores[\"rmse-stdv\"][-1]}\\nNum of boost: {len(cv_scores[\"rmse-mean\"])}')"
   ]
  },
  {
   "cell_type": "code",
   "execution_count": 7,
   "metadata": {},
   "outputs": [],
   "source": [
    "feats = [col for col in train.columns if col not in exclude_feats]\n",
    "\n",
    "get_cv(feats)"
   ]
  },
  {
   "cell_type": "code",
   "execution_count": 9,
   "metadata": {},
   "outputs": [
    {
     "name": "stderr",
     "output_type": "stream",
     "text": [
      "/home/jiaz/anaconda3/lib/python3.6/site-packages/lightgbm/basic.py:1186: UserWarning: Using categorical_feature in Dataset.\n",
      "  warnings.warn('Using categorical_feature in Dataset.')\n"
     ]
    },
    {
     "name": "stdout",
     "output_type": "stream",
     "text": [
      "[200]\tcv_agg's rmse: 3.84916 + 0.0314835\n",
      "[400]\tcv_agg's rmse: 3.84904 + 0.0314254\n",
      "[600]\tcv_agg's rmse: 3.84904 + 0.0314057\n",
      "[800]\tcv_agg's rmse: 3.84905 + 0.0314026\n",
      "Best cv scores 3.8490370670219667 + 0.03141751342723746\n",
      "Num of boost: 450\n"
     ]
    }
   ],
   "source": [
    "get_cv(feats)"
   ]
  },
  {
   "cell_type": "markdown",
   "metadata": {},
   "source": [
    "### Calc reference date"
   ]
  },
  {
   "cell_type": "code",
   "execution_count": 8,
   "metadata": {},
   "outputs": [],
   "source": [
    "hist_trans['purchase_year'] = hist_trans.purchase_date.dt.year\n",
    "hist_trans['purchase_month'] = hist_trans.purchase_date.dt.month\n",
    "\n",
    "hist_trans['ref_month_raw'] = hist_trans.purchase_month - hist_trans.month_lag\n",
    "hist_trans['ref_year_raw'] = hist_trans.ref_month_raw // 12\n",
    "hist_trans['ref_month'] = hist_trans.ref_month_raw % 12\n",
    "hist_trans['ref_year'] = hist_trans.ref_year_raw + hist_trans.purchase_year\n",
    "hist_trans['ref_date'] = hist_trans.ref_year.astype(str) + '-' + hist_trans.ref_month.astype(str)\n",
    "hist_trans.ref_date.replace('2018-0', '2017-12', inplace=True)\n",
    "hist_trans.drop(['ref_month_raw', 'ref_year_raw', 'ref_month', 'ref_year'], axis=1, inplace=True)\n",
    "\n",
    "ref_date = hist_trans.groupby('card_id').ref_date.apply(lambda x: x.iloc[0])\n",
    "\n",
    "ref_date = pd.to_datetime(ref_date)"
   ]
  },
  {
   "cell_type": "markdown",
   "metadata": {},
   "source": [
    "### ref_anchor_diff"
   ]
  },
  {
   "cell_type": "code",
   "execution_count": 12,
   "metadata": {},
   "outputs": [],
   "source": [
    "anchor_date = pd.to_datetime('2018-2-1')\n",
    "\n",
    "train = train.join(ref_date, on='card_id')\n",
    "train['anchor_date'] = anchor_date\n",
    "\n",
    "test = test.join(ref_date, on='card_id')\n",
    "test['anchor_date'] = anchor_date\n",
    "\n",
    "train['ref_anchor_diff'] = (train.anchor_date.dt.year - train.ref_date.dt.year)*12 + (train.anchor_date.dt.month - train.ref_date.dt.month)\n",
    "\n",
    "test['ref_anchor_diff'] = (test.anchor_date.dt.year - test.ref_date.dt.year)*12 + (test.anchor_date.dt.month - test.ref_date.dt.month)"
   ]
  },
  {
   "cell_type": "code",
   "execution_count": 17,
   "metadata": {},
   "outputs": [],
   "source": [
    "exclude_feats += ['anchor_date', 'ref_date']"
   ]
  },
  {
   "cell_type": "code",
   "execution_count": 20,
   "metadata": {},
   "outputs": [],
   "source": [
    "feats = [col for col in train.columns if col not in exclude_feats]"
   ]
  },
  {
   "cell_type": "code",
   "execution_count": 19,
   "metadata": {},
   "outputs": [
    {
     "name": "stdout",
     "output_type": "stream",
     "text": [
      "[200]\tcv_agg's rmse: 3.79759 + 0.0334537\n",
      "[400]\tcv_agg's rmse: 3.79503 + 0.0344419\n",
      "[600]\tcv_agg's rmse: 3.79524 + 0.0348927\n",
      "Best cv scores 3.795027092003417 + 0.03442425236192733\n",
      "Num of boost: 395\n"
     ]
    }
   ],
   "source": [
    "get_cv(feats)"
   ]
  },
  {
   "cell_type": "markdown",
   "metadata": {},
   "source": [
    "### active_ref_diff"
   ]
  },
  {
   "cell_type": "code",
   "execution_count": 18,
   "metadata": {},
   "outputs": [],
   "source": [
    "train['active_ref_diff'] = (train.ref_date.dt.year - train.first_active_month.dt.year)*12 + (train.ref_date.dt.month - train.first_active_month.dt.month)\n",
    "\n",
    "test['active_ref_diff'] = (test.ref_date.dt.year - test.first_active_month.dt.year)*12 + (test.ref_date.dt.month - test.first_active_month.dt.month)"
   ]
  },
  {
   "cell_type": "code",
   "execution_count": 20,
   "metadata": {},
   "outputs": [],
   "source": [
    "feats = [col for col in train.columns if col not in exclude_feats]"
   ]
  },
  {
   "cell_type": "code",
   "execution_count": 22,
   "metadata": {},
   "outputs": [
    {
     "name": "stdout",
     "output_type": "stream",
     "text": [
      "[200]\tcv_agg's rmse: 3.78727 + 0.0341518\n",
      "[400]\tcv_agg's rmse: 3.78519 + 0.0351132\n",
      "[600]\tcv_agg's rmse: 3.78631 + 0.0354855\n",
      "Best cv scores 3.7850810447528445 + 0.03499190753140942\n",
      "Num of boost: 346\n"
     ]
    }
   ],
   "source": [
    "get_cv(feats)"
   ]
  },
  {
   "cell_type": "markdown",
   "metadata": {},
   "source": [
    "### active_anchor_diff (no effect)\n",
    "\n",
    "这个值可通过 active_ref_diff 和 ref_anchor_diff 求得，信息重叠了"
   ]
  },
  {
   "cell_type": "code",
   "execution_count": 23,
   "metadata": {},
   "outputs": [],
   "source": [
    "train['active_anchor_diff'] = (train.anchor_date.dt.year - train.first_active_month.dt.year)*12 + (train.anchor_date.dt.month - train.first_active_month.dt.month)"
   ]
  },
  {
   "cell_type": "code",
   "execution_count": 24,
   "metadata": {},
   "outputs": [],
   "source": [
    "feats = [col for col in train.columns if col not in exclude_feats]"
   ]
  },
  {
   "cell_type": "code",
   "execution_count": 25,
   "metadata": {},
   "outputs": [
    {
     "name": "stdout",
     "output_type": "stream",
     "text": [
      "[200]\tcv_agg's rmse: 3.78876 + 0.03341\n",
      "[400]\tcv_agg's rmse: 3.78567 + 0.033823\n",
      "[600]\tcv_agg's rmse: 3.78669 + 0.0340359\n",
      "Best cv scores 3.7856041538083085 + 0.033806035386171725\n",
      "Num of boost: 378\n"
     ]
    }
   ],
   "source": [
    "get_cv(feats)"
   ]
  },
  {
   "cell_type": "markdown",
   "metadata": {},
   "source": [
    "### active_month/active_year (no effect)"
   ]
  },
  {
   "cell_type": "code",
   "execution_count": 20,
   "metadata": {},
   "outputs": [],
   "source": [
    "train['active_month'] = train.first_active_month.dt.month\n",
    "train['active_year'] = train.first_active_month.dt.year"
   ]
  },
  {
   "cell_type": "code",
   "execution_count": 21,
   "metadata": {},
   "outputs": [],
   "source": [
    "test['active_month'] = test.first_active_month.dt.month\n",
    "test['active_year'] = test.first_active_month.dt.year"
   ]
  },
  {
   "cell_type": "code",
   "execution_count": 27,
   "metadata": {},
   "outputs": [],
   "source": [
    "feats = [col for col in train.columns if col not in exclude_feats]"
   ]
  },
  {
   "cell_type": "code",
   "execution_count": 28,
   "metadata": {},
   "outputs": [
    {
     "name": "stdout",
     "output_type": "stream",
     "text": [
      "[200]\tcv_agg's rmse: 3.78702 + 0.0333534\n",
      "[400]\tcv_agg's rmse: 3.78629 + 0.0334772\n",
      "[600]\tcv_agg's rmse: 3.78796 + 0.0335109\n",
      "Best cv scores 3.785805664350682 + 0.03339485166259432\n",
      "Num of boost: 280\n"
     ]
    }
   ],
   "source": [
    "get_cv(feats)"
   ]
  },
  {
   "cell_type": "markdown",
   "metadata": {},
   "source": [
    "### purchase_date"
   ]
  },
  {
   "cell_type": "code",
   "execution_count": 22,
   "metadata": {},
   "outputs": [],
   "source": [
    "hist_trans['anchor_date'] = anchor_date"
   ]
  },
  {
   "cell_type": "code",
   "execution_count": 23,
   "metadata": {},
   "outputs": [],
   "source": [
    "hist_trans.ref_date = pd.to_datetime(hist_trans.ref_date)"
   ]
  },
  {
   "cell_type": "code",
   "execution_count": 24,
   "metadata": {},
   "outputs": [],
   "source": [
    "hist_trans['pur_ref_diff'] = (hist_trans.ref_date - hist_trans.purchase_date).dt.days"
   ]
  },
  {
   "cell_type": "code",
   "execution_count": 25,
   "metadata": {},
   "outputs": [],
   "source": [
    "hist_pur_ref_diff_stats = hist_trans.groupby('card_id').agg({\n",
    "    'pur_ref_diff': ['min', 'max', 'mean', 'median', 'sum', 'std']\n",
    "})"
   ]
  },
  {
   "cell_type": "code",
   "execution_count": 26,
   "metadata": {},
   "outputs": [],
   "source": [
    "def reset_cols(agg_df, prefix):\n",
    "    agg_df.columns = [f'{prefix}_{\"_\".join(col)}' for col in agg_df.columns]"
   ]
  },
  {
   "cell_type": "code",
   "execution_count": 27,
   "metadata": {},
   "outputs": [],
   "source": [
    "reset_cols(hist_pur_ref_diff_stats, 'hist')"
   ]
  },
  {
   "cell_type": "code",
   "execution_count": 28,
   "metadata": {},
   "outputs": [],
   "source": [
    "train = train.join(hist_pur_ref_diff_stats, on='card_id')\n",
    "\n",
    "test = test.join(hist_pur_ref_diff_stats, on='card_id')"
   ]
  },
  {
   "cell_type": "code",
   "execution_count": 30,
   "metadata": {},
   "outputs": [],
   "source": [
    "feats = [col for col in train.columns if col not in exclude_feats]"
   ]
  },
  {
   "cell_type": "code",
   "execution_count": 37,
   "metadata": {},
   "outputs": [
    {
     "name": "stdout",
     "output_type": "stream",
     "text": [
      "[200]\tcv_agg's rmse: 3.77653 + 0.033861\n",
      "[400]\tcv_agg's rmse: 3.77344 + 0.0338537\n",
      "[600]\tcv_agg's rmse: 3.77354 + 0.0340263\n",
      "[800]\tcv_agg's rmse: 3.77411 + 0.0338486\n",
      "Best cv scores 3.7732536164326276 + 0.03390607757820935\n",
      "Num of boost: 476\n"
     ]
    }
   ],
   "source": [
    "get_cv(feats)"
   ]
  },
  {
   "cell_type": "code",
   "execution_count": 31,
   "metadata": {},
   "outputs": [],
   "source": [
    "new_trans = new_trans.join(ref_date, on='card_id')"
   ]
  },
  {
   "cell_type": "code",
   "execution_count": 32,
   "metadata": {},
   "outputs": [],
   "source": [
    "new_trans['pur_ref_diff'] = (new_trans.purchase_date - new_trans.ref_date).dt.days"
   ]
  },
  {
   "cell_type": "code",
   "execution_count": 33,
   "metadata": {},
   "outputs": [],
   "source": [
    "new_pur_ref_diff_stats = new_trans.groupby('card_id').agg({\n",
    "    'pur_ref_diff': ['min', 'max', 'mean', 'median', 'sum', 'std']\n",
    "})"
   ]
  },
  {
   "cell_type": "code",
   "execution_count": 34,
   "metadata": {},
   "outputs": [],
   "source": [
    "reset_cols(new_pur_ref_diff_stats, 'new')"
   ]
  },
  {
   "cell_type": "code",
   "execution_count": 35,
   "metadata": {},
   "outputs": [],
   "source": [
    "train = train.join(new_pur_ref_diff_stats, on='card_id')"
   ]
  },
  {
   "cell_type": "code",
   "execution_count": 36,
   "metadata": {},
   "outputs": [],
   "source": [
    "test = test.join(new_pur_ref_diff_stats, on='card_id')"
   ]
  },
  {
   "cell_type": "code",
   "execution_count": 38,
   "metadata": {},
   "outputs": [],
   "source": [
    "feats = [col for col in train.columns if col not in exclude_feats]"
   ]
  },
  {
   "cell_type": "code",
   "execution_count": 39,
   "metadata": {},
   "outputs": [
    {
     "name": "stderr",
     "output_type": "stream",
     "text": [
      "/home/jiaz/anaconda3/lib/python3.6/site-packages/lightgbm/basic.py:1186: UserWarning: Using categorical_feature in Dataset.\n",
      "  warnings.warn('Using categorical_feature in Dataset.')\n"
     ]
    },
    {
     "name": "stdout",
     "output_type": "stream",
     "text": [
      "[200]\tcv_agg's rmse: 3.7361 + 0.0350328\n",
      "[400]\tcv_agg's rmse: 3.7263 + 0.035275\n",
      "[600]\tcv_agg's rmse: 3.72435 + 0.0348675\n",
      "[800]\tcv_agg's rmse: 3.72355 + 0.0347638\n",
      "[1000]\tcv_agg's rmse: 3.72341 + 0.0344007\n",
      "[1200]\tcv_agg's rmse: 3.72411 + 0.0343264\n",
      "[1400]\tcv_agg's rmse: 3.72473 + 0.0339708\n",
      "Best cv scores 3.7233489788429113 + 0.03446631710325902\n",
      "Num of boost: 975\n"
     ]
    }
   ],
   "source": [
    "get_cv(feats)"
   ]
  },
  {
   "cell_type": "code",
   "execution_count": 40,
   "metadata": {},
   "outputs": [
    {
     "data": {
      "text/plain": [
       "((201917, 22), (123623, 21))"
      ]
     },
     "execution_count": 40,
     "metadata": {},
     "output_type": "execute_result"
    }
   ],
   "source": [
    "train.shape, test.shape"
   ]
  },
  {
   "cell_type": "markdown",
   "metadata": {},
   "source": [
    "### purchase counts journey"
   ]
  },
  {
   "cell_type": "code",
   "execution_count": 37,
   "metadata": {},
   "outputs": [],
   "source": [
    "hist_monthly_pur_cnts = hist_trans.groupby('card_id').month_lag.value_counts().unstack()\n",
    "hist_monthly_pur_cnts.fillna(0, inplace=True)\n",
    "hist_monthly_pur_cnts.columns = [f'hist_pur_cnts_monthlag{col}' for col in hist_monthly_pur_cnts.columns]\n",
    "\n",
    "new_monthly_pur_cnts = new_trans.groupby('card_id').month_lag.value_counts().unstack()\n",
    "new_monthly_pur_cnts.fillna(0, inplace=True)\n",
    "new_monthly_pur_cnts.columns = [f'new_pur_cnts_monthlag{col}' for col in new_monthly_pur_cnts.columns]\n",
    "\n",
    "train = train.join(hist_monthly_pur_cnts, on='card_id')\n",
    "train = train.join(new_monthly_pur_cnts, on='card_id')\n",
    "\n",
    "test = test.join(hist_monthly_pur_cnts, on='card_id')\n",
    "test = test.join(new_monthly_pur_cnts, on='card_id')"
   ]
  },
  {
   "cell_type": "code",
   "execution_count": 41,
   "metadata": {},
   "outputs": [],
   "source": [
    "feats = [col for col in train.columns if col not in exclude_feats]"
   ]
  },
  {
   "cell_type": "code",
   "execution_count": 49,
   "metadata": {},
   "outputs": [
    {
     "name": "stdout",
     "output_type": "stream",
     "text": [
      "[200]\tcv_agg's rmse: 3.73218 + 0.0345765\n",
      "[400]\tcv_agg's rmse: 3.72189 + 0.0346764\n",
      "[600]\tcv_agg's rmse: 3.71929 + 0.034604\n",
      "[800]\tcv_agg's rmse: 3.71845 + 0.0341597\n",
      "[1000]\tcv_agg's rmse: 3.7183 + 0.0340549\n",
      "[1200]\tcv_agg's rmse: 3.71873 + 0.0339464\n",
      "Best cv scores 3.7182999789513453 + 0.034103732537671155\n",
      "Num of boost: 991\n"
     ]
    }
   ],
   "source": [
    "get_cv(feats)"
   ]
  },
  {
   "cell_type": "markdown",
   "metadata": {},
   "source": [
    "### purchase amount"
   ]
  },
  {
   "cell_type": "code",
   "execution_count": 42,
   "metadata": {},
   "outputs": [],
   "source": [
    "hist_trans['purchase_amount0'] = np.round(hist_trans['purchase_amount'] / 0.00150265118 + 497.06,2)\n",
    "new_trans['purchase_amount0'] = np.round(new_trans['purchase_amount'] / 0.00150265118 + 497.06,2)"
   ]
  },
  {
   "cell_type": "code",
   "execution_count": 43,
   "metadata": {},
   "outputs": [],
   "source": [
    "hist_pur_amount_stats = hist_trans.groupby('card_id').agg({\n",
    "    'purchase_amount0': ['sum', 'min', 'max', 'mean', 'median', 'size', 'std']\n",
    "})\n",
    "reset_cols(hist_pur_amount_stats, 'hist')\n",
    "\n",
    "new_pur_amount_stats = new_trans.groupby('card_id').agg({\n",
    "    'purchase_amount0': ['sum', 'min', 'max', 'mean', 'median', 'size', 'std']\n",
    "})\n",
    "reset_cols(new_pur_amount_stats, 'new')\n",
    "\n",
    "train = train.join(hist_pur_amount_stats, on='card_id')\n",
    "train = train.join(new_pur_amount_stats, on='card_id')\n",
    "\n",
    "test = test.join(hist_pur_amount_stats, on='card_id')\n",
    "test = test.join(new_pur_amount_stats, on='card_id')"
   ]
  },
  {
   "cell_type": "code",
   "execution_count": 47,
   "metadata": {},
   "outputs": [],
   "source": [
    "feats = [col for col in train.columns if col not in exclude_feats]"
   ]
  },
  {
   "cell_type": "code",
   "execution_count": 48,
   "metadata": {},
   "outputs": [
    {
     "name": "stderr",
     "output_type": "stream",
     "text": [
      "/home/jiaz/anaconda3/lib/python3.6/site-packages/lightgbm/basic.py:1186: UserWarning: Using categorical_feature in Dataset.\n",
      "  warnings.warn('Using categorical_feature in Dataset.')\n"
     ]
    },
    {
     "name": "stdout",
     "output_type": "stream",
     "text": [
      "[200]\tcv_agg's rmse: 3.71505 + 0.0315578\n",
      "[400]\tcv_agg's rmse: 3.69899 + 0.0310104\n",
      "[600]\tcv_agg's rmse: 3.69327 + 0.0309122\n",
      "[800]\tcv_agg's rmse: 3.69098 + 0.0306848\n",
      "[1000]\tcv_agg's rmse: 3.69002 + 0.0301827\n",
      "[1200]\tcv_agg's rmse: 3.68999 + 0.0297786\n",
      "[1400]\tcv_agg's rmse: 3.68997 + 0.0293678\n",
      "[1600]\tcv_agg's rmse: 3.6899 + 0.0294197\n",
      "[1800]\tcv_agg's rmse: 3.68997 + 0.0292926\n",
      "[2000]\tcv_agg's rmse: 3.69002 + 0.0292724\n",
      "[2200]\tcv_agg's rmse: 3.69058 + 0.028725\n",
      "[2400]\tcv_agg's rmse: 3.69113 + 0.0286976\n",
      "Best cv scores 3.6897968746355922 + 0.029078520227330675\n",
      "Num of boost: 1909\n"
     ]
    }
   ],
   "source": [
    "get_cv(feats)"
   ]
  },
  {
   "cell_type": "code",
   "execution_count": 57,
   "metadata": {},
   "outputs": [],
   "source": [
    "del pur_amount_stats, new_pur_amount_stats"
   ]
  },
  {
   "cell_type": "markdown",
   "metadata": {},
   "source": [
    "### purchase date delta"
   ]
  },
  {
   "cell_type": "code",
   "execution_count": 49,
   "metadata": {},
   "outputs": [],
   "source": [
    "def calc_pur_date_delta(df):\n",
    "    pur_date_sorted = df.purchase_date.sort_values()\n",
    "    date_delta = (pur_date_sorted - pur_date_sorted.shift(1)).dt.days\n",
    "    return pd.Series({\n",
    "        'pur_date_delta_min': date_delta.min(),\n",
    "        'pur_date_delta_max': date_delta.max(),\n",
    "        'pur_date_delta_mean': date_delta.mean(),\n",
    "        'pur_date_delta_median': date_delta.median(),\n",
    "        'pur_date_delta_std': date_delta.std()\n",
    "    })"
   ]
  },
  {
   "cell_type": "code",
   "execution_count": 50,
   "metadata": {},
   "outputs": [],
   "source": [
    "hist_pur_date_delta = hist_trans.groupby('card_id').apply(calc_pur_date_delta)\n",
    "hist_pur_date_delta.columns = [f'hist_{col}' for col in hist_pur_date_delta.columns]"
   ]
  },
  {
   "cell_type": "code",
   "execution_count": 51,
   "metadata": {},
   "outputs": [],
   "source": [
    "new_pur_date_delta = new_trans.groupby('card_id').apply(calc_pur_date_delta)\n",
    "new_pur_date_delta.columns = [f'new_{col}' for col in new_pur_date_delta.columns]"
   ]
  },
  {
   "cell_type": "code",
   "execution_count": 52,
   "metadata": {},
   "outputs": [],
   "source": [
    "train = train.join(hist_pur_date_delta, on='card_id')\n",
    "train = train.join(new_pur_date_delta, on='card_id')"
   ]
  },
  {
   "cell_type": "code",
   "execution_count": 53,
   "metadata": {},
   "outputs": [],
   "source": [
    "test = test.join(hist_pur_date_delta, on='card_id')\n",
    "test = test.join(new_pur_date_delta, on='card_id')"
   ]
  },
  {
   "cell_type": "code",
   "execution_count": 54,
   "metadata": {},
   "outputs": [],
   "source": [
    "feats = [col for col in train.columns if col not in exclude_feats]"
   ]
  },
  {
   "cell_type": "code",
   "execution_count": 63,
   "metadata": {},
   "outputs": [
    {
     "name": "stdout",
     "output_type": "stream",
     "text": [
      "[200]\tcv_agg's rmse: 3.71228 + 0.0320781\n",
      "[400]\tcv_agg's rmse: 3.69494 + 0.0317819\n",
      "[600]\tcv_agg's rmse: 3.68912 + 0.0312993\n",
      "[800]\tcv_agg's rmse: 3.6865 + 0.0309692\n",
      "[1000]\tcv_agg's rmse: 3.6853 + 0.0310519\n",
      "[1200]\tcv_agg's rmse: 3.68476 + 0.0311188\n",
      "[1400]\tcv_agg's rmse: 3.6845 + 0.0313343\n",
      "[1600]\tcv_agg's rmse: 3.68439 + 0.0311712\n",
      "[1800]\tcv_agg's rmse: 3.68429 + 0.0310357\n",
      "[2000]\tcv_agg's rmse: 3.68449 + 0.0307374\n",
      "Best cv scores 3.684166996209364 + 0.03108252573251932\n",
      "Num of boost: 1737\n"
     ]
    }
   ],
   "source": [
    "get_cv(feats)"
   ]
  },
  {
   "cell_type": "code",
   "execution_count": 64,
   "metadata": {},
   "outputs": [],
   "source": [
    "del hist_pur_date_delta, new_pur_date_delta"
   ]
  },
  {
   "cell_type": "markdown",
   "metadata": {},
   "source": [
    "### purchase amount journey hist and linear regression (no effect)"
   ]
  },
  {
   "cell_type": "code",
   "execution_count": 194,
   "metadata": {},
   "outputs": [],
   "source": [
    "hist_monthly_pur_amount = hist_trans.groupby(['card_id', 'month_lag']).purchase_amount0.sum().unstack()\n",
    "hist_monthly_pur_amount.fillna(0, inplace=True)\n",
    "hist_monthly_pur_amount.columns = [f'hist_pur_amount_monghlag{col}' for col in hist_monthly_pur_amount.columns]"
   ]
  },
  {
   "cell_type": "code",
   "execution_count": 204,
   "metadata": {},
   "outputs": [
    {
     "data": {
      "text/html": [
       "<div>\n",
       "<style scoped>\n",
       "    .dataframe tbody tr th:only-of-type {\n",
       "        vertical-align: middle;\n",
       "    }\n",
       "\n",
       "    .dataframe tbody tr th {\n",
       "        vertical-align: top;\n",
       "    }\n",
       "\n",
       "    .dataframe thead th {\n",
       "        text-align: right;\n",
       "    }\n",
       "</style>\n",
       "<table border=\"1\" class=\"dataframe\">\n",
       "  <thead>\n",
       "    <tr style=\"text-align: right;\">\n",
       "      <th></th>\n",
       "      <th>hist_pur_amount_monghlag-13</th>\n",
       "      <th>hist_pur_amount_monghlag-12</th>\n",
       "      <th>hist_pur_amount_monghlag-11</th>\n",
       "      <th>hist_pur_amount_monghlag-10</th>\n",
       "      <th>hist_pur_amount_monghlag-9</th>\n",
       "      <th>hist_pur_amount_monghlag-8</th>\n",
       "      <th>hist_pur_amount_monghlag-7</th>\n",
       "      <th>hist_pur_amount_monghlag-6</th>\n",
       "      <th>hist_pur_amount_monghlag-5</th>\n",
       "      <th>hist_pur_amount_monghlag-4</th>\n",
       "      <th>hist_pur_amount_monghlag-3</th>\n",
       "      <th>hist_pur_amount_monghlag-2</th>\n",
       "      <th>hist_pur_amount_monghlag-1</th>\n",
       "      <th>hist_pur_amount_monghlag0</th>\n",
       "    </tr>\n",
       "    <tr>\n",
       "      <th>card_id</th>\n",
       "      <th></th>\n",
       "      <th></th>\n",
       "      <th></th>\n",
       "      <th></th>\n",
       "      <th></th>\n",
       "      <th></th>\n",
       "      <th></th>\n",
       "      <th></th>\n",
       "      <th></th>\n",
       "      <th></th>\n",
       "      <th></th>\n",
       "      <th></th>\n",
       "      <th></th>\n",
       "      <th></th>\n",
       "    </tr>\n",
       "  </thead>\n",
       "  <tbody>\n",
       "    <tr>\n",
       "      <th>C_ID_00007093c1</th>\n",
       "      <td>0.0</td>\n",
       "      <td>1100.20</td>\n",
       "      <td>1168.90</td>\n",
       "      <td>1633.25</td>\n",
       "      <td>2691.13</td>\n",
       "      <td>2876.63</td>\n",
       "      <td>1307.79</td>\n",
       "      <td>4189.00</td>\n",
       "      <td>524.57</td>\n",
       "      <td>1513.59</td>\n",
       "      <td>940.25</td>\n",
       "      <td>1985.22</td>\n",
       "      <td>1186.59</td>\n",
       "      <td>1805.18</td>\n",
       "    </tr>\n",
       "    <tr>\n",
       "      <th>C_ID_0001238066</th>\n",
       "      <td>0.0</td>\n",
       "      <td>0.00</td>\n",
       "      <td>0.00</td>\n",
       "      <td>0.00</td>\n",
       "      <td>0.00</td>\n",
       "      <td>0.00</td>\n",
       "      <td>0.00</td>\n",
       "      <td>0.00</td>\n",
       "      <td>127.13</td>\n",
       "      <td>943.03</td>\n",
       "      <td>1831.55</td>\n",
       "      <td>4121.19</td>\n",
       "      <td>3884.94</td>\n",
       "      <td>2017.62</td>\n",
       "    </tr>\n",
       "    <tr>\n",
       "      <th>C_ID_0001506ef0</th>\n",
       "      <td>51.0</td>\n",
       "      <td>184.48</td>\n",
       "      <td>286.53</td>\n",
       "      <td>0.00</td>\n",
       "      <td>30.00</td>\n",
       "      <td>24.87</td>\n",
       "      <td>1017.00</td>\n",
       "      <td>849.50</td>\n",
       "      <td>770.50</td>\n",
       "      <td>910.74</td>\n",
       "      <td>1089.28</td>\n",
       "      <td>1579.29</td>\n",
       "      <td>1365.30</td>\n",
       "      <td>1620.25</td>\n",
       "    </tr>\n",
       "    <tr>\n",
       "      <th>C_ID_0001793786</th>\n",
       "      <td>0.0</td>\n",
       "      <td>0.00</td>\n",
       "      <td>0.00</td>\n",
       "      <td>0.00</td>\n",
       "      <td>1269.83</td>\n",
       "      <td>3745.99</td>\n",
       "      <td>7389.91</td>\n",
       "      <td>7783.04</td>\n",
       "      <td>3380.25</td>\n",
       "      <td>14441.70</td>\n",
       "      <td>13971.57</td>\n",
       "      <td>9683.56</td>\n",
       "      <td>14936.02</td>\n",
       "      <td>6282.35</td>\n",
       "    </tr>\n",
       "    <tr>\n",
       "      <th>C_ID_000183fdda</th>\n",
       "      <td>0.0</td>\n",
       "      <td>0.00</td>\n",
       "      <td>0.00</td>\n",
       "      <td>0.00</td>\n",
       "      <td>0.00</td>\n",
       "      <td>0.00</td>\n",
       "      <td>0.00</td>\n",
       "      <td>2831.40</td>\n",
       "      <td>1675.01</td>\n",
       "      <td>2326.11</td>\n",
       "      <td>2237.65</td>\n",
       "      <td>4312.91</td>\n",
       "      <td>8872.47</td>\n",
       "      <td>3510.10</td>\n",
       "    </tr>\n",
       "  </tbody>\n",
       "</table>\n",
       "</div>"
      ],
      "text/plain": [
       "                 hist_pur_amount_monghlag-13  hist_pur_amount_monghlag-12  \\\n",
       "card_id                                                                     \n",
       "C_ID_00007093c1                          0.0                      1100.20   \n",
       "C_ID_0001238066                          0.0                         0.00   \n",
       "C_ID_0001506ef0                         51.0                       184.48   \n",
       "C_ID_0001793786                          0.0                         0.00   \n",
       "C_ID_000183fdda                          0.0                         0.00   \n",
       "\n",
       "                 hist_pur_amount_monghlag-11  hist_pur_amount_monghlag-10  \\\n",
       "card_id                                                                     \n",
       "C_ID_00007093c1                      1168.90                      1633.25   \n",
       "C_ID_0001238066                         0.00                         0.00   \n",
       "C_ID_0001506ef0                       286.53                         0.00   \n",
       "C_ID_0001793786                         0.00                         0.00   \n",
       "C_ID_000183fdda                         0.00                         0.00   \n",
       "\n",
       "                 hist_pur_amount_monghlag-9  hist_pur_amount_monghlag-8  \\\n",
       "card_id                                                                   \n",
       "C_ID_00007093c1                     2691.13                     2876.63   \n",
       "C_ID_0001238066                        0.00                        0.00   \n",
       "C_ID_0001506ef0                       30.00                       24.87   \n",
       "C_ID_0001793786                     1269.83                     3745.99   \n",
       "C_ID_000183fdda                        0.00                        0.00   \n",
       "\n",
       "                 hist_pur_amount_monghlag-7  hist_pur_amount_monghlag-6  \\\n",
       "card_id                                                                   \n",
       "C_ID_00007093c1                     1307.79                     4189.00   \n",
       "C_ID_0001238066                        0.00                        0.00   \n",
       "C_ID_0001506ef0                     1017.00                      849.50   \n",
       "C_ID_0001793786                     7389.91                     7783.04   \n",
       "C_ID_000183fdda                        0.00                     2831.40   \n",
       "\n",
       "                 hist_pur_amount_monghlag-5  hist_pur_amount_monghlag-4  \\\n",
       "card_id                                                                   \n",
       "C_ID_00007093c1                      524.57                     1513.59   \n",
       "C_ID_0001238066                      127.13                      943.03   \n",
       "C_ID_0001506ef0                      770.50                      910.74   \n",
       "C_ID_0001793786                     3380.25                    14441.70   \n",
       "C_ID_000183fdda                     1675.01                     2326.11   \n",
       "\n",
       "                 hist_pur_amount_monghlag-3  hist_pur_amount_monghlag-2  \\\n",
       "card_id                                                                   \n",
       "C_ID_00007093c1                      940.25                     1985.22   \n",
       "C_ID_0001238066                     1831.55                     4121.19   \n",
       "C_ID_0001506ef0                     1089.28                     1579.29   \n",
       "C_ID_0001793786                    13971.57                     9683.56   \n",
       "C_ID_000183fdda                     2237.65                     4312.91   \n",
       "\n",
       "                 hist_pur_amount_monghlag-1  hist_pur_amount_monghlag0  \n",
       "card_id                                                                 \n",
       "C_ID_00007093c1                     1186.59                    1805.18  \n",
       "C_ID_0001238066                     3884.94                    2017.62  \n",
       "C_ID_0001506ef0                     1365.30                    1620.25  \n",
       "C_ID_0001793786                    14936.02                    6282.35  \n",
       "C_ID_000183fdda                     8872.47                    3510.10  "
      ]
     },
     "execution_count": 204,
     "metadata": {},
     "output_type": "execute_result"
    }
   ],
   "source": [
    "hist_monthly_pur_amount.head()"
   ]
  },
  {
   "cell_type": "code",
   "execution_count": 211,
   "metadata": {},
   "outputs": [],
   "source": [
    "def lsq(x, y):\n",
    "    A = np.vstack([x, np.ones(len(x))]).T\n",
    "    return np.linalg.lstsq(A, y, rcond=None)[0]"
   ]
  },
  {
   "cell_type": "code",
   "execution_count": 229,
   "metadata": {},
   "outputs": [],
   "source": [
    "def pur_amount_lsq(y):\n",
    "    x = np.arange(14)\n",
    "    return pd.Series(lsq(x, y), index=['slope', 'intercept'])"
   ]
  },
  {
   "cell_type": "code",
   "execution_count": 232,
   "metadata": {},
   "outputs": [],
   "source": [
    "slope_inter = hist_monthly_pur_amount.apply(pur_amount_lsq, axis=1)"
   ]
  },
  {
   "cell_type": "code",
   "execution_count": 234,
   "metadata": {},
   "outputs": [],
   "source": [
    "train = train.join(slope_inter, on='card_id')"
   ]
  },
  {
   "cell_type": "code",
   "execution_count": 235,
   "metadata": {},
   "outputs": [],
   "source": [
    "feats = [col for col in train.columns if col not in exclude_feats]"
   ]
  },
  {
   "cell_type": "code",
   "execution_count": 236,
   "metadata": {},
   "outputs": [],
   "source": [
    "feats = [col for col in feats if col not in ['hist_category_2_nunique', 'new_category_2_nunique']]"
   ]
  },
  {
   "cell_type": "code",
   "execution_count": 237,
   "metadata": {},
   "outputs": [
    {
     "name": "stderr",
     "output_type": "stream",
     "text": [
      "/home/jiaz/anaconda3/lib/python3.6/site-packages/lightgbm/basic.py:1186: UserWarning: Using categorical_feature in Dataset.\n",
      "  warnings.warn('Using categorical_feature in Dataset.')\n"
     ]
    },
    {
     "name": "stdout",
     "output_type": "stream",
     "text": [
      "[200]\tcv_agg's rmse: 3.67675 + 0.0296724\n",
      "[400]\tcv_agg's rmse: 3.65597 + 0.0276718\n",
      "[600]\tcv_agg's rmse: 3.64882 + 0.0265396\n",
      "[800]\tcv_agg's rmse: 3.6456 + 0.0257452\n",
      "[1000]\tcv_agg's rmse: 3.64483 + 0.0249598\n",
      "[1200]\tcv_agg's rmse: 3.6444 + 0.0245319\n",
      "[1400]\tcv_agg's rmse: 3.64433 + 0.0239371\n",
      "[1600]\tcv_agg's rmse: 3.64435 + 0.02366\n",
      "[1800]\tcv_agg's rmse: 3.64459 + 0.0235053\n",
      "Best cv scores 3.644175942702977 + 0.024150002386227058\n",
      "Num of boost: 1335\n"
     ]
    }
   ],
   "source": [
    "get_cv(feats)"
   ]
  },
  {
   "cell_type": "code",
   "execution_count": null,
   "metadata": {},
   "outputs": [],
   "source": []
  },
  {
   "cell_type": "code",
   "execution_count": 168,
   "metadata": {},
   "outputs": [],
   "source": [
    "new_monthly_pur_amount = new_trans.groupby(['card_id', 'month_lag']).purchase_amount0.sum().unstack()\n",
    "new_monthly_pur_amount.fillna(0, inplace=True)\n",
    "new_monthly_pur_amount.columns = [f'new_pur_amount_monghlag{col}' for col in new_monthly_pur_amount.columns]"
   ]
  },
  {
   "cell_type": "code",
   "execution_count": 200,
   "metadata": {},
   "outputs": [],
   "source": [
    "#train = train.join(hist_monthly_pur_amount, on='card_id')\n",
    "train = train.join(new_monthly_pur_amount, on='card_id')"
   ]
  },
  {
   "cell_type": "code",
   "execution_count": 354,
   "metadata": {},
   "outputs": [],
   "source": [
    "#test = test.join(hist_monthly_pur_amount, on='card_id')\n",
    "test = test.join(new_monthly_pur_amount, on='card_id')"
   ]
  },
  {
   "cell_type": "code",
   "execution_count": 199,
   "metadata": {},
   "outputs": [],
   "source": [
    "# undo\n",
    "train.drop(hist_monthly_pur_amount.columns, axis=1, inplace=True)\n",
    "#train.drop(new_monthly_pur_amount.columns, axis=1, inplace=True)"
   ]
  },
  {
   "cell_type": "code",
   "execution_count": 201,
   "metadata": {},
   "outputs": [],
   "source": [
    "feats = [col for col in train.columns if col not in exclude_feats]"
   ]
  },
  {
   "cell_type": "code",
   "execution_count": 202,
   "metadata": {},
   "outputs": [],
   "source": [
    "feats = [col for col in feats if col not in ['hist_category_2_nunique', 'new_category_2_nunique']]"
   ]
  },
  {
   "cell_type": "code",
   "execution_count": 203,
   "metadata": {},
   "outputs": [
    {
     "name": "stdout",
     "output_type": "stream",
     "text": [
      "[200]\tcv_agg's rmse: 3.67556 + 0.029498\n",
      "[400]\tcv_agg's rmse: 3.65433 + 0.0286206\n",
      "[600]\tcv_agg's rmse: 3.64657 + 0.0275777\n",
      "[800]\tcv_agg's rmse: 3.64404 + 0.0266343\n",
      "[1000]\tcv_agg's rmse: 3.64262 + 0.0261078\n",
      "[1200]\tcv_agg's rmse: 3.64226 + 0.0254748\n",
      "[1400]\tcv_agg's rmse: 3.64237 + 0.0249391\n",
      "[1600]\tcv_agg's rmse: 3.64239 + 0.0243592\n",
      "[1800]\tcv_agg's rmse: 3.64283 + 0.0239157\n",
      "Best cv scores 3.642215382334598 + 0.025350029933420924\n",
      "Num of boost: 1249\n"
     ]
    }
   ],
   "source": [
    "get_cv(feats)"
   ]
  },
  {
   "cell_type": "code",
   "execution_count": 70,
   "metadata": {},
   "outputs": [],
   "source": [
    "del hist_monthly_pur_amount, new_monthly_pur_amount"
   ]
  },
  {
   "cell_type": "markdown",
   "metadata": {},
   "source": [
    "### month_lag (no effect)\n",
    "\n",
    "信息已被包含在 pur_ref_diff_stats 中了"
   ]
  },
  {
   "cell_type": "code",
   "execution_count": 71,
   "metadata": {},
   "outputs": [],
   "source": [
    "hist_monthlag_stats = hist_trans.groupby('card_id').agg({\n",
    "    'month_lag': ['min', 'max', 'mean', 'median', 'sum', 'std']\n",
    "})\n",
    "reset_cols(hist_monthlag_stats, 'hist')"
   ]
  },
  {
   "cell_type": "code",
   "execution_count": 72,
   "metadata": {},
   "outputs": [],
   "source": [
    "new_monthlag_stats = new_trans.groupby('card_id').agg({\n",
    "    'month_lag': ['min', 'max', 'mean', 'median', 'sum', 'std']\n",
    "})\n",
    "reset_cols(new_monthlag_stats, 'new')"
   ]
  },
  {
   "cell_type": "code",
   "execution_count": 73,
   "metadata": {},
   "outputs": [],
   "source": [
    "train = train.join(hist_monthlag_stats, on='card_id')\n",
    "train = train.join(new_monthlag_stats, on='card_id')"
   ]
  },
  {
   "cell_type": "code",
   "execution_count": 74,
   "metadata": {},
   "outputs": [],
   "source": [
    "feats = [col for col in train.columns if col not in exclude_feats]"
   ]
  },
  {
   "cell_type": "code",
   "execution_count": 75,
   "metadata": {},
   "outputs": [
    {
     "name": "stdout",
     "output_type": "stream",
     "text": [
      "[200]\tcv_agg's rmse: 3.71356 + 0.0307921\n",
      "[400]\tcv_agg's rmse: 3.69626 + 0.030553\n",
      "[600]\tcv_agg's rmse: 3.69011 + 0.0308194\n",
      "[800]\tcv_agg's rmse: 3.68791 + 0.0310217\n",
      "[1000]\tcv_agg's rmse: 3.6865 + 0.0310134\n",
      "[1200]\tcv_agg's rmse: 3.68588 + 0.0308469\n",
      "[1400]\tcv_agg's rmse: 3.68591 + 0.0308816\n",
      "[1600]\tcv_agg's rmse: 3.68575 + 0.0307065\n",
      "[1800]\tcv_agg's rmse: 3.68564 + 0.0307191\n",
      "[2000]\tcv_agg's rmse: 3.68561 + 0.0305588\n",
      "[2200]\tcv_agg's rmse: 3.68603 + 0.0301023\n",
      "Best cv scores 3.6855873417992036 + 0.03058826171965253\n",
      "Num of boost: 1954\n"
     ]
    }
   ],
   "source": [
    "get_cv(feats)"
   ]
  },
  {
   "cell_type": "code",
   "execution_count": 76,
   "metadata": {},
   "outputs": [],
   "source": [
    "del hist_monthlag_stats, new_monthlag_stats"
   ]
  },
  {
   "cell_type": "markdown",
   "metadata": {},
   "source": [
    "### authorized_flag"
   ]
  },
  {
   "cell_type": "code",
   "execution_count": 55,
   "metadata": {},
   "outputs": [],
   "source": [
    "hist_trans.authorized_flag = hist_trans.authorized_flag.map({'Y': 1, 'N': 0})"
   ]
  },
  {
   "cell_type": "code",
   "execution_count": 56,
   "metadata": {},
   "outputs": [],
   "source": [
    "auth_flag_stats = hist_trans.groupby('card_id').agg({\n",
    "    'authorized_flag': ['sum', 'mean']\n",
    "})\n",
    "auth_flag_stats.columns = ['_'.join(col) for col in auth_flag_stats.columns]"
   ]
  },
  {
   "cell_type": "code",
   "execution_count": 57,
   "metadata": {},
   "outputs": [],
   "source": [
    "train = train.join(auth_flag_stats, on='card_id')"
   ]
  },
  {
   "cell_type": "code",
   "execution_count": 58,
   "metadata": {},
   "outputs": [],
   "source": [
    "test = test.join(auth_flag_stats, on='card_id')"
   ]
  },
  {
   "cell_type": "code",
   "execution_count": 59,
   "metadata": {},
   "outputs": [],
   "source": [
    "feats = [col for col in train.columns if col not in exclude_feats]"
   ]
  },
  {
   "cell_type": "code",
   "execution_count": 81,
   "metadata": {},
   "outputs": [
    {
     "name": "stdout",
     "output_type": "stream",
     "text": [
      "[200]\tcv_agg's rmse: 3.70756 + 0.0310616\n",
      "[400]\tcv_agg's rmse: 3.68951 + 0.0301512\n",
      "[600]\tcv_agg's rmse: 3.68275 + 0.0297899\n",
      "[800]\tcv_agg's rmse: 3.67972 + 0.0296298\n",
      "[1000]\tcv_agg's rmse: 3.67833 + 0.0298503\n",
      "[1200]\tcv_agg's rmse: 3.67784 + 0.02969\n",
      "[1400]\tcv_agg's rmse: 3.67726 + 0.029423\n",
      "[1600]\tcv_agg's rmse: 3.67742 + 0.0292977\n",
      "[1800]\tcv_agg's rmse: 3.67719 + 0.0291284\n",
      "[2000]\tcv_agg's rmse: 3.67705 + 0.0292033\n",
      "[2200]\tcv_agg's rmse: 3.67748 + 0.0289491\n",
      "Best cv scores 3.677017358436383 + 0.02914502937994817\n",
      "Num of boost: 1965\n"
     ]
    }
   ],
   "source": [
    "get_cv(feats)"
   ]
  },
  {
   "cell_type": "code",
   "execution_count": 82,
   "metadata": {},
   "outputs": [],
   "source": [
    "del auth_flag_stats"
   ]
  },
  {
   "cell_type": "markdown",
   "metadata": {},
   "source": [
    "### category_1"
   ]
  },
  {
   "cell_type": "code",
   "execution_count": 60,
   "metadata": {},
   "outputs": [],
   "source": [
    "hist_trans.category_1 = hist_trans.category_1.map({'Y': 1, 'N': 0})\n",
    "new_trans.category_1 = new_trans.category_1.map({'Y': 1, 'N': 0})"
   ]
  },
  {
   "cell_type": "code",
   "execution_count": 61,
   "metadata": {},
   "outputs": [],
   "source": [
    "hist_category_1_stats = hist_trans.groupby('card_id').agg({\n",
    "    'category_1': ['mean', 'sum']\n",
    "})\n",
    "reset_cols(hist_category_1_stats, 'hist')"
   ]
  },
  {
   "cell_type": "code",
   "execution_count": 62,
   "metadata": {},
   "outputs": [],
   "source": [
    "new_category_1_stats = new_trans.groupby('card_id').agg({\n",
    "    'category_1': ['mean', 'sum']\n",
    "})\n",
    "reset_cols(new_category_1_stats, 'new')"
   ]
  },
  {
   "cell_type": "code",
   "execution_count": 63,
   "metadata": {},
   "outputs": [],
   "source": [
    "train = train.join(hist_category_1_stats, on='card_id')\n",
    "train = train.join(new_category_1_stats, on='card_id')"
   ]
  },
  {
   "cell_type": "code",
   "execution_count": 64,
   "metadata": {},
   "outputs": [],
   "source": [
    "test = test.join(hist_category_1_stats, on='card_id')\n",
    "test = test.join(new_category_1_stats, on='card_id')"
   ]
  },
  {
   "cell_type": "code",
   "execution_count": 65,
   "metadata": {},
   "outputs": [],
   "source": [
    "feats = [col for col in train.columns if col not in exclude_feats]"
   ]
  },
  {
   "cell_type": "code",
   "execution_count": 88,
   "metadata": {},
   "outputs": [
    {
     "name": "stdout",
     "output_type": "stream",
     "text": [
      "[200]\tcv_agg's rmse: 3.68659 + 0.029199\n",
      "[400]\tcv_agg's rmse: 3.6657 + 0.0284934\n",
      "[600]\tcv_agg's rmse: 3.6581 + 0.0274845\n",
      "[800]\tcv_agg's rmse: 3.65483 + 0.026864\n",
      "[1000]\tcv_agg's rmse: 3.65377 + 0.0266761\n",
      "[1200]\tcv_agg's rmse: 3.65336 + 0.0260115\n",
      "[1400]\tcv_agg's rmse: 3.65336 + 0.0258714\n",
      "[1600]\tcv_agg's rmse: 3.65334 + 0.0254449\n",
      "[1800]\tcv_agg's rmse: 3.65316 + 0.0252247\n",
      "[2000]\tcv_agg's rmse: 3.65337 + 0.0249635\n",
      "Best cv scores 3.652987907789875 + 0.02519787808594584\n",
      "Num of boost: 1713\n"
     ]
    }
   ],
   "source": [
    "get_cv(feats)"
   ]
  },
  {
   "cell_type": "code",
   "execution_count": 89,
   "metadata": {},
   "outputs": [],
   "source": [
    "del hist_category_1_stats, new_category_1_stats"
   ]
  },
  {
   "cell_type": "markdown",
   "metadata": {},
   "source": [
    "### category_2 (no effect)"
   ]
  },
  {
   "cell_type": "code",
   "execution_count": 90,
   "metadata": {},
   "outputs": [],
   "source": [
    "hist_trans.category_2 = hist_trans.category_2.fillna(0).astype(int)\n",
    "new_trans.category_2 = new_trans.category_2.fillna(0).astype(int)"
   ]
  },
  {
   "cell_type": "code",
   "execution_count": 92,
   "metadata": {},
   "outputs": [],
   "source": [
    "hist_trans = pd.get_dummies(hist_trans, columns=['category_2'])\n",
    "new_trans = pd.get_dummies(new_trans, columns=['category_2'])"
   ]
  },
  {
   "cell_type": "code",
   "execution_count": 93,
   "metadata": {},
   "outputs": [
    {
     "data": {
      "text/html": [
       "<div>\n",
       "<style scoped>\n",
       "    .dataframe tbody tr th:only-of-type {\n",
       "        vertical-align: middle;\n",
       "    }\n",
       "\n",
       "    .dataframe tbody tr th {\n",
       "        vertical-align: top;\n",
       "    }\n",
       "\n",
       "    .dataframe thead th {\n",
       "        text-align: right;\n",
       "    }\n",
       "</style>\n",
       "<table border=\"1\" class=\"dataframe\">\n",
       "  <thead>\n",
       "    <tr style=\"text-align: right;\">\n",
       "      <th></th>\n",
       "      <th>authorized_flag</th>\n",
       "      <th>card_id</th>\n",
       "      <th>city_id</th>\n",
       "      <th>category_1</th>\n",
       "      <th>installments</th>\n",
       "      <th>category_3</th>\n",
       "      <th>merchant_category_id</th>\n",
       "      <th>merchant_id</th>\n",
       "      <th>month_lag</th>\n",
       "      <th>purchase_amount</th>\n",
       "      <th>...</th>\n",
       "      <th>ref_date</th>\n",
       "      <th>anchor_date</th>\n",
       "      <th>pur_ref_diff</th>\n",
       "      <th>purchase_amount0</th>\n",
       "      <th>category_2_0</th>\n",
       "      <th>category_2_1</th>\n",
       "      <th>category_2_2</th>\n",
       "      <th>category_2_3</th>\n",
       "      <th>category_2_4</th>\n",
       "      <th>category_2_5</th>\n",
       "    </tr>\n",
       "  </thead>\n",
       "  <tbody>\n",
       "    <tr>\n",
       "      <th>0</th>\n",
       "      <td>1</td>\n",
       "      <td>C_ID_4e6213e9bc</td>\n",
       "      <td>88</td>\n",
       "      <td>0</td>\n",
       "      <td>0</td>\n",
       "      <td>A</td>\n",
       "      <td>80</td>\n",
       "      <td>M_ID_e020e9b302</td>\n",
       "      <td>-8</td>\n",
       "      <td>-0.703331</td>\n",
       "      <td>...</td>\n",
       "      <td>2018-02-01</td>\n",
       "      <td>2018-02-01</td>\n",
       "      <td>220</td>\n",
       "      <td>29.00</td>\n",
       "      <td>0</td>\n",
       "      <td>1</td>\n",
       "      <td>0</td>\n",
       "      <td>0</td>\n",
       "      <td>0</td>\n",
       "      <td>0</td>\n",
       "    </tr>\n",
       "    <tr>\n",
       "      <th>1</th>\n",
       "      <td>1</td>\n",
       "      <td>C_ID_4e6213e9bc</td>\n",
       "      <td>88</td>\n",
       "      <td>0</td>\n",
       "      <td>0</td>\n",
       "      <td>A</td>\n",
       "      <td>367</td>\n",
       "      <td>M_ID_86ec983688</td>\n",
       "      <td>-7</td>\n",
       "      <td>-0.733128</td>\n",
       "      <td>...</td>\n",
       "      <td>2018-02-01</td>\n",
       "      <td>2018-02-01</td>\n",
       "      <td>200</td>\n",
       "      <td>9.17</td>\n",
       "      <td>0</td>\n",
       "      <td>1</td>\n",
       "      <td>0</td>\n",
       "      <td>0</td>\n",
       "      <td>0</td>\n",
       "      <td>0</td>\n",
       "    </tr>\n",
       "    <tr>\n",
       "      <th>2</th>\n",
       "      <td>1</td>\n",
       "      <td>C_ID_4e6213e9bc</td>\n",
       "      <td>88</td>\n",
       "      <td>0</td>\n",
       "      <td>0</td>\n",
       "      <td>A</td>\n",
       "      <td>80</td>\n",
       "      <td>M_ID_979ed661fc</td>\n",
       "      <td>-6</td>\n",
       "      <td>-0.720386</td>\n",
       "      <td>...</td>\n",
       "      <td>2018-02-01</td>\n",
       "      <td>2018-02-01</td>\n",
       "      <td>175</td>\n",
       "      <td>17.65</td>\n",
       "      <td>0</td>\n",
       "      <td>1</td>\n",
       "      <td>0</td>\n",
       "      <td>0</td>\n",
       "      <td>0</td>\n",
       "      <td>0</td>\n",
       "    </tr>\n",
       "    <tr>\n",
       "      <th>3</th>\n",
       "      <td>1</td>\n",
       "      <td>C_ID_4e6213e9bc</td>\n",
       "      <td>88</td>\n",
       "      <td>0</td>\n",
       "      <td>0</td>\n",
       "      <td>A</td>\n",
       "      <td>560</td>\n",
       "      <td>M_ID_e6d5ae8ea6</td>\n",
       "      <td>-5</td>\n",
       "      <td>-0.735352</td>\n",
       "      <td>...</td>\n",
       "      <td>2018-02-01</td>\n",
       "      <td>2018-02-01</td>\n",
       "      <td>151</td>\n",
       "      <td>7.69</td>\n",
       "      <td>0</td>\n",
       "      <td>1</td>\n",
       "      <td>0</td>\n",
       "      <td>0</td>\n",
       "      <td>0</td>\n",
       "      <td>0</td>\n",
       "    </tr>\n",
       "    <tr>\n",
       "      <th>4</th>\n",
       "      <td>1</td>\n",
       "      <td>C_ID_4e6213e9bc</td>\n",
       "      <td>88</td>\n",
       "      <td>0</td>\n",
       "      <td>0</td>\n",
       "      <td>A</td>\n",
       "      <td>80</td>\n",
       "      <td>M_ID_e020e9b302</td>\n",
       "      <td>-11</td>\n",
       "      <td>-0.722865</td>\n",
       "      <td>...</td>\n",
       "      <td>2018-02-01</td>\n",
       "      <td>2018-02-01</td>\n",
       "      <td>327</td>\n",
       "      <td>16.00</td>\n",
       "      <td>0</td>\n",
       "      <td>1</td>\n",
       "      <td>0</td>\n",
       "      <td>0</td>\n",
       "      <td>0</td>\n",
       "      <td>0</td>\n",
       "    </tr>\n",
       "  </tbody>\n",
       "</table>\n",
       "<p>5 rows × 25 columns</p>\n",
       "</div>"
      ],
      "text/plain": [
       "   authorized_flag          card_id  city_id  category_1  installments  \\\n",
       "0                1  C_ID_4e6213e9bc       88           0             0   \n",
       "1                1  C_ID_4e6213e9bc       88           0             0   \n",
       "2                1  C_ID_4e6213e9bc       88           0             0   \n",
       "3                1  C_ID_4e6213e9bc       88           0             0   \n",
       "4                1  C_ID_4e6213e9bc       88           0             0   \n",
       "\n",
       "  category_3  merchant_category_id      merchant_id  month_lag  \\\n",
       "0          A                    80  M_ID_e020e9b302         -8   \n",
       "1          A                   367  M_ID_86ec983688         -7   \n",
       "2          A                    80  M_ID_979ed661fc         -6   \n",
       "3          A                   560  M_ID_e6d5ae8ea6         -5   \n",
       "4          A                    80  M_ID_e020e9b302        -11   \n",
       "\n",
       "   purchase_amount      ...        ref_date  anchor_date  pur_ref_diff  \\\n",
       "0        -0.703331      ...      2018-02-01   2018-02-01           220   \n",
       "1        -0.733128      ...      2018-02-01   2018-02-01           200   \n",
       "2        -0.720386      ...      2018-02-01   2018-02-01           175   \n",
       "3        -0.735352      ...      2018-02-01   2018-02-01           151   \n",
       "4        -0.722865      ...      2018-02-01   2018-02-01           327   \n",
       "\n",
       "   purchase_amount0  category_2_0 category_2_1 category_2_2  category_2_3  \\\n",
       "0             29.00             0            1            0             0   \n",
       "1              9.17             0            1            0             0   \n",
       "2             17.65             0            1            0             0   \n",
       "3              7.69             0            1            0             0   \n",
       "4             16.00             0            1            0             0   \n",
       "\n",
       "   category_2_4  category_2_5  \n",
       "0             0             0  \n",
       "1             0             0  \n",
       "2             0             0  \n",
       "3             0             0  \n",
       "4             0             0  \n",
       "\n",
       "[5 rows x 25 columns]"
      ]
     },
     "execution_count": 93,
     "metadata": {},
     "output_type": "execute_result"
    }
   ],
   "source": [
    "hist_trans.head()"
   ]
  },
  {
   "cell_type": "code",
   "execution_count": 94,
   "metadata": {},
   "outputs": [],
   "source": [
    "hist_category_2_stats = hist_trans.groupby('card_id').agg({\n",
    "    'category_2_0': ['sum', 'mean'],\n",
    "    'category_2_1': ['sum', 'mean'],\n",
    "    'category_2_2': ['sum', 'mean'],\n",
    "    'category_2_3': ['sum', 'mean'],\n",
    "    'category_2_4': ['sum', 'mean'],\n",
    "    'category_2_5': ['sum', 'mean']\n",
    "})\n",
    "reset_cols(hist_category_2_stats, 'hist')"
   ]
  },
  {
   "cell_type": "code",
   "execution_count": 95,
   "metadata": {},
   "outputs": [],
   "source": [
    "new_category_2_stats = new_trans.groupby('card_id').agg({\n",
    "    'category_2_0': ['sum', 'mean'],\n",
    "    'category_2_1': ['sum', 'mean'],\n",
    "    'category_2_2': ['sum', 'mean'],\n",
    "    'category_2_3': ['sum', 'mean'],\n",
    "    'category_2_4': ['sum', 'mean'],\n",
    "    'category_2_5': ['sum', 'mean']\n",
    "})\n",
    "reset_cols(new_category_2_stats, 'new')"
   ]
  },
  {
   "cell_type": "code",
   "execution_count": 97,
   "metadata": {},
   "outputs": [],
   "source": [
    "train = train.join(hist_category_2_stats, on='card_id')\n",
    "train = train.join(new_category_2_stats, on='card_id')"
   ]
  },
  {
   "cell_type": "code",
   "execution_count": 98,
   "metadata": {},
   "outputs": [],
   "source": [
    "feats = [col for col in train.columns if col not in exclude_feats]"
   ]
  },
  {
   "cell_type": "code",
   "execution_count": 99,
   "metadata": {},
   "outputs": [
    {
     "name": "stderr",
     "output_type": "stream",
     "text": [
      "/home/jiaz/anaconda3/lib/python3.6/site-packages/lightgbm/basic.py:1186: UserWarning: Using categorical_feature in Dataset.\n",
      "  warnings.warn('Using categorical_feature in Dataset.')\n"
     ]
    },
    {
     "name": "stdout",
     "output_type": "stream",
     "text": [
      "[200]\tcv_agg's rmse: 3.68796 + 0.0271287\n",
      "[400]\tcv_agg's rmse: 3.66714 + 0.0262517\n",
      "[600]\tcv_agg's rmse: 3.65954 + 0.0252917\n",
      "[800]\tcv_agg's rmse: 3.65601 + 0.0244579\n",
      "[1000]\tcv_agg's rmse: 3.65472 + 0.0243091\n",
      "[1200]\tcv_agg's rmse: 3.65426 + 0.0240206\n",
      "[1400]\tcv_agg's rmse: 3.65413 + 0.0238947\n",
      "[1600]\tcv_agg's rmse: 3.65401 + 0.0235283\n",
      "[1800]\tcv_agg's rmse: 3.6542 + 0.0232334\n",
      "Best cv scores 3.653976668312809 + 0.023549825064669138\n",
      "Num of boost: 1596\n"
     ]
    }
   ],
   "source": [
    "get_cv(feats)"
   ]
  },
  {
   "cell_type": "markdown",
   "metadata": {},
   "source": [
    "### category_3 (no effect)"
   ]
  },
  {
   "cell_type": "code",
   "execution_count": 125,
   "metadata": {},
   "outputs": [],
   "source": [
    "hist_trans.category_3.fillna('D', inplace=True)\n",
    "new_trans.category_3.fillna('D', inplace=True)"
   ]
  },
  {
   "cell_type": "code",
   "execution_count": 159,
   "metadata": {},
   "outputs": [],
   "source": [
    "hist_category_3_stats = hist_trans.groupby('card_id').category_3.nunique()\n",
    "hist_category_3_stats.name = 'hist_category_3_nunique'"
   ]
  },
  {
   "cell_type": "code",
   "execution_count": 160,
   "metadata": {},
   "outputs": [],
   "source": [
    "new_category_3_stats = new_trans.groupby('card_id').category_3.nunique()\n",
    "new_category_3_stats.name = 'new_category_3_nunique'"
   ]
  },
  {
   "cell_type": "code",
   "execution_count": 161,
   "metadata": {},
   "outputs": [],
   "source": [
    "train = train.join(hist_category_3_stats, on='card_id')\n",
    "train = train.join(new_category_3_stats, )"
   ]
  },
  {
   "cell_type": "code",
   "execution_count": 166,
   "metadata": {},
   "outputs": [],
   "source": [
    "# undo\n",
    "train.drop('hist_category_3_nunique', axis=1, inplace=True)\n",
    "train.drop('new_category_3_nunique', axis=1, inplace=True)"
   ]
  },
  {
   "cell_type": "code",
   "execution_count": 162,
   "metadata": {},
   "outputs": [],
   "source": [
    "feats = [col for col in train.columns if col not in exclude_feats]"
   ]
  },
  {
   "cell_type": "code",
   "execution_count": 163,
   "metadata": {},
   "outputs": [],
   "source": [
    "feats = [col for col in feats if col not in ['hist_category_2_nunique', 'new_category_2_nunique']]"
   ]
  },
  {
   "cell_type": "code",
   "execution_count": 164,
   "metadata": {},
   "outputs": [
    {
     "name": "stdout",
     "output_type": "stream",
     "text": [
      "[200]\tcv_agg's rmse: 3.67773 + 0.0307143\n",
      "[400]\tcv_agg's rmse: 3.65701 + 0.0293466\n",
      "[600]\tcv_agg's rmse: 3.65013 + 0.0281163\n",
      "[800]\tcv_agg's rmse: 3.64751 + 0.0275952\n",
      "[1000]\tcv_agg's rmse: 3.6464 + 0.0274098\n",
      "[1200]\tcv_agg's rmse: 3.646 + 0.0269346\n",
      "[1400]\tcv_agg's rmse: 3.64553 + 0.0264235\n",
      "[1600]\tcv_agg's rmse: 3.64575 + 0.0259107\n",
      "[1800]\tcv_agg's rmse: 3.64615 + 0.025335\n",
      "[2000]\tcv_agg's rmse: 3.64684 + 0.0250362\n",
      "Best cv scores 3.645425664832311 + 0.026293678798491274\n",
      "Num of boost: 1421\n"
     ]
    }
   ],
   "source": [
    "get_cv(feats)"
   ]
  },
  {
   "cell_type": "markdown",
   "metadata": {},
   "source": [
    "### category_3_dummy (no effect)"
   ]
  },
  {
   "cell_type": "code",
   "execution_count": 130,
   "metadata": {},
   "outputs": [],
   "source": [
    "hist_category_3_dummy = pd.get_dummies(hist_trans.category_3)\n",
    "hist_category_3_dummy.columns = [f'category_3_{col}' for col in hist_category_3_dummy.columns]\n",
    "new_category_3_dummy = pd.get_dummies(new_trans.category_3)\n",
    "new_category_3_dummy.columns = [f'category_3_{col}' for col in new_category_3_dummy.columns]\n",
    "\n",
    "hist_trans = hist_trans.join(hist_category_3_dummy)\n",
    "new_trans = new_trans.join(new_category_3_dummy)"
   ]
  },
  {
   "cell_type": "code",
   "execution_count": 148,
   "metadata": {},
   "outputs": [],
   "source": [
    "hist_category_3_dummy_stats = hist_trans.groupby('card_id').agg({\n",
    "    'category_3_A': ['mean'],\n",
    "    'category_3_B': ['mean'],\n",
    "    'category_3_C': ['mean'],\n",
    "    'category_3_D': ['mean']\n",
    "})\n",
    "reset_cols(hist_category_3_dummy_stats, 'hist')"
   ]
  },
  {
   "cell_type": "code",
   "execution_count": 149,
   "metadata": {},
   "outputs": [],
   "source": [
    "new_category_3_dummy_stats = new_trans.groupby('card_id').agg({\n",
    "    'category_3_A': ['mean'],\n",
    "    'category_3_B': ['mean'],\n",
    "    'category_3_C': ['mean'],\n",
    "    'category_3_D': ['mean']\n",
    "})\n",
    "reset_cols(new_category_3_dummy_stats, 'new')"
   ]
  },
  {
   "cell_type": "code",
   "execution_count": 150,
   "metadata": {},
   "outputs": [],
   "source": [
    "train = train.join(hist_category_3_dummy_stats, on='card_id')\n",
    "train = train.join(new_category_3_dummy_stats, on='card_id')"
   ]
  },
  {
   "cell_type": "code",
   "execution_count": 155,
   "metadata": {},
   "outputs": [],
   "source": [
    "# undo\n",
    "# train.drop(hist_category_3_dummy_stats.columns, axis=1, inplace=True)\n",
    "# train.drop(new_category_3_dummy_stats.columns, axis=1, inplace=True)"
   ]
  },
  {
   "cell_type": "code",
   "execution_count": 156,
   "metadata": {},
   "outputs": [],
   "source": [
    "feats = [col for col in train.columns if col not in exclude_feats]"
   ]
  },
  {
   "cell_type": "code",
   "execution_count": 157,
   "metadata": {},
   "outputs": [],
   "source": [
    "feats = [col for col in feats if col not in ['hist_category_2_nunique', 'new_category_2_nunique']]"
   ]
  },
  {
   "cell_type": "code",
   "execution_count": 158,
   "metadata": {},
   "outputs": [
    {
     "name": "stdout",
     "output_type": "stream",
     "text": [
      "[200]\tcv_agg's rmse: 3.67657 + 0.0300134\n",
      "[400]\tcv_agg's rmse: 3.65552 + 0.0287861\n",
      "[600]\tcv_agg's rmse: 3.64826 + 0.027764\n",
      "[800]\tcv_agg's rmse: 3.64512 + 0.0272449\n",
      "[1000]\tcv_agg's rmse: 3.64361 + 0.0266741\n",
      "[1200]\tcv_agg's rmse: 3.64282 + 0.0263976\n",
      "[1400]\tcv_agg's rmse: 3.64241 + 0.0259892\n",
      "[1600]\tcv_agg's rmse: 3.64254 + 0.0252834\n",
      "[1800]\tcv_agg's rmse: 3.64309 + 0.0250574\n",
      "[2000]\tcv_agg's rmse: 3.64313 + 0.0248032\n",
      "Best cv scores 3.642369763356643 + 0.02587606215295563\n",
      "Num of boost: 1418\n"
     ]
    }
   ],
   "source": [
    "get_cv(feats)"
   ]
  },
  {
   "cell_type": "markdown",
   "metadata": {},
   "source": [
    "### auth_flag_encode"
   ]
  },
  {
   "cell_type": "code",
   "execution_count": 66,
   "metadata": {},
   "outputs": [],
   "source": [
    "agg_funs = {}\n",
    "for col in ['merchant_category_id', 'subsector_id', 'merchant_id', 'state_id', 'city_id']:\n",
    "    hist_trans[col+'_auth_mean'] = hist_trans.groupby(col).authorized_flag.transform('mean')\n",
    "    agg_funs[col+'_auth_mean'] = ['min', 'max', 'sum', 'mean', 'median', 'std']"
   ]
  },
  {
   "cell_type": "code",
   "execution_count": 67,
   "metadata": {},
   "outputs": [],
   "source": [
    "ids_auth_mean_stats = hist_trans.groupby('card_id').agg(agg_funs)\n",
    "\n",
    "reset_cols(ids_auth_mean_stats, 'hist')"
   ]
  },
  {
   "cell_type": "code",
   "execution_count": 68,
   "metadata": {},
   "outputs": [],
   "source": [
    "train = train.join(ids_auth_mean_stats, on='card_id')"
   ]
  },
  {
   "cell_type": "code",
   "execution_count": 69,
   "metadata": {},
   "outputs": [],
   "source": [
    "test = test.join(ids_auth_mean_stats, on='card_id')"
   ]
  },
  {
   "cell_type": "code",
   "execution_count": 70,
   "metadata": {},
   "outputs": [],
   "source": [
    "feats = [col for col in train.columns if col not in exclude_feats]"
   ]
  },
  {
   "cell_type": "code",
   "execution_count": 72,
   "metadata": {},
   "outputs": [
    {
     "name": "stderr",
     "output_type": "stream",
     "text": [
      "/home/jiaz/anaconda3/lib/python3.6/site-packages/lightgbm/basic.py:1186: UserWarning: Using categorical_feature in Dataset.\n",
      "  warnings.warn('Using categorical_feature in Dataset.')\n"
     ]
    },
    {
     "name": "stdout",
     "output_type": "stream",
     "text": [
      "[200]\tcv_agg's rmse: 3.68409 + 0.0292454\n",
      "[400]\tcv_agg's rmse: 3.66297 + 0.0276972\n",
      "[600]\tcv_agg's rmse: 3.65554 + 0.0269507\n",
      "[800]\tcv_agg's rmse: 3.65237 + 0.0264443\n",
      "[1000]\tcv_agg's rmse: 3.65108 + 0.0260441\n",
      "[1200]\tcv_agg's rmse: 3.65075 + 0.0257764\n",
      "[1400]\tcv_agg's rmse: 3.65054 + 0.0253575\n",
      "[1600]\tcv_agg's rmse: 3.65031 + 0.0252107\n",
      "[1800]\tcv_agg's rmse: 3.65033 + 0.0250707\n",
      "[2000]\tcv_agg's rmse: 3.6504 + 0.024722\n",
      "[2200]\tcv_agg's rmse: 3.65064 + 0.0242533\n",
      "[2400]\tcv_agg's rmse: 3.6511 + 0.0240769\n",
      "Best cv scores 3.650195537390289 + 0.025096783423731207\n",
      "Num of boost: 1913\n"
     ]
    }
   ],
   "source": [
    "get_cv(feats)"
   ]
  },
  {
   "cell_type": "code",
   "execution_count": 73,
   "metadata": {},
   "outputs": [
    {
     "data": {
      "text/plain": [
       "((201917, 98), (123623, 97))"
      ]
     },
     "execution_count": 73,
     "metadata": {},
     "output_type": "execute_result"
    }
   ],
   "source": [
    "train.shape, test.shape"
   ]
  },
  {
   "cell_type": "markdown",
   "metadata": {},
   "source": [
    "### category_3 auth_flag_encode (no effect)"
   ]
  },
  {
   "cell_type": "code",
   "execution_count": 238,
   "metadata": {},
   "outputs": [],
   "source": [
    "hist_trans['category_3_auth_mean'] = hist_trans.groupby('category_3').authorized_flag.transform('mean')"
   ]
  },
  {
   "cell_type": "code",
   "execution_count": 239,
   "metadata": {},
   "outputs": [],
   "source": [
    "hist_category_3_auth_encode_stats = hist_trans.groupby('card_id').agg({\n",
    "    'category_3_auth_mean': ['min', 'max', 'median', 'mean', 'std']\n",
    "})\n",
    "reset_cols(hist_category_3_auth_encode_stats, 'hist')"
   ]
  },
  {
   "cell_type": "code",
   "execution_count": 240,
   "metadata": {},
   "outputs": [],
   "source": [
    "train = train.join(hist_category_3_auth_encode_stats, on='card_id')"
   ]
  },
  {
   "cell_type": "code",
   "execution_count": 244,
   "metadata": {},
   "outputs": [],
   "source": [
    "# undo\n",
    "train.drop(hist_category_3_auth_encode_stats, axis=1, inplace=True)"
   ]
  },
  {
   "cell_type": "code",
   "execution_count": 246,
   "metadata": {},
   "outputs": [],
   "source": [
    "feats = [col for col in train.columns if col not in exclude_feats]"
   ]
  },
  {
   "cell_type": "code",
   "execution_count": 247,
   "metadata": {},
   "outputs": [],
   "source": [
    "feats = [col for col in feats if col not in ['hist_category_2_nunique', 'new_category_2_nunique', 'slope', 'intercept']]"
   ]
  },
  {
   "cell_type": "code",
   "execution_count": 248,
   "metadata": {},
   "outputs": [
    {
     "name": "stderr",
     "output_type": "stream",
     "text": [
      "/home/jiaz/anaconda3/lib/python3.6/site-packages/lightgbm/basic.py:1186: UserWarning: Using categorical_feature in Dataset.\n",
      "  warnings.warn('Using categorical_feature in Dataset.')\n"
     ]
    },
    {
     "name": "stdout",
     "output_type": "stream",
     "text": [
      "[200]\tcv_agg's rmse: 3.67556 + 0.029498\n",
      "[400]\tcv_agg's rmse: 3.65433 + 0.0286206\n",
      "[600]\tcv_agg's rmse: 3.64657 + 0.0275777\n",
      "[800]\tcv_agg's rmse: 3.64404 + 0.0266343\n",
      "[1000]\tcv_agg's rmse: 3.64262 + 0.0261078\n",
      "[1200]\tcv_agg's rmse: 3.64226 + 0.0254748\n",
      "[1400]\tcv_agg's rmse: 3.64237 + 0.0249391\n",
      "[1600]\tcv_agg's rmse: 3.64239 + 0.0243592\n",
      "[1800]\tcv_agg's rmse: 3.64283 + 0.0239157\n",
      "Best cv scores 3.642215382334598 + 0.025350029933420865\n",
      "Num of boost: 1249\n"
     ]
    }
   ],
   "source": [
    "get_cv(feats)"
   ]
  },
  {
   "cell_type": "markdown",
   "metadata": {},
   "source": [
    "### category_3_pur_amount_encode (no effect)"
   ]
  },
  {
   "cell_type": "code",
   "execution_count": 249,
   "metadata": {},
   "outputs": [],
   "source": [
    "hist_trans['category_3_pur_amount_encode'] = hist_trans.groupby('category_3').purchase_amount.transform('mean')"
   ]
  },
  {
   "cell_type": "code",
   "execution_count": 250,
   "metadata": {},
   "outputs": [],
   "source": [
    "new_trans['category_3_pur_amount_encode'] = new_trans.groupby('category_3').purchase_amount.transform('mean')"
   ]
  },
  {
   "cell_type": "code",
   "execution_count": 251,
   "metadata": {},
   "outputs": [],
   "source": [
    "hist_category_3_pur_amount_encode_stats = hist_trans.groupby('card_id').agg({\n",
    "    'category_3_pur_amount_encode': ['min', 'max', 'mean', 'sum']\n",
    "})\n",
    "reset_cols(hist_category_3_pur_amount_encode_stats, 'hist')"
   ]
  },
  {
   "cell_type": "code",
   "execution_count": 252,
   "metadata": {},
   "outputs": [],
   "source": [
    "new_category_3_pur_amount_encode_stats = new_trans.groupby('card_id').agg({\n",
    "    'category_3_pur_amount_encode': ['min', 'max', 'mean', 'sum']\n",
    "})\n",
    "reset_cols(new_category_3_pur_amount_encode_stats, 'new')"
   ]
  },
  {
   "cell_type": "code",
   "execution_count": 253,
   "metadata": {},
   "outputs": [],
   "source": [
    "train = train.join(hist_category_3_pur_amount_encode_stats, on='card_id')\n",
    "train = train.join(new_category_3_pur_amount_encode_stats, on='card_id')"
   ]
  },
  {
   "cell_type": "code",
   "execution_count": 257,
   "metadata": {},
   "outputs": [],
   "source": [
    "# undo\n",
    "train.drop(hist_category_3_pur_amount_encode_stats.columns, axis=1, inplace=True)\n",
    "train.drop(new_category_3_pur_amount_encode_stats.columns, axis=1, inplace=True)"
   ]
  },
  {
   "cell_type": "code",
   "execution_count": 258,
   "metadata": {},
   "outputs": [],
   "source": [
    "feats = [col for col in train.columns if col not in exclude_feats]"
   ]
  },
  {
   "cell_type": "code",
   "execution_count": 259,
   "metadata": {},
   "outputs": [],
   "source": [
    "feats = [col for col in feats if col not in ['hist_category_2_nunique', 'new_category_2_nunique', 'slope', 'intercept']]"
   ]
  },
  {
   "cell_type": "code",
   "execution_count": 260,
   "metadata": {},
   "outputs": [
    {
     "name": "stderr",
     "output_type": "stream",
     "text": [
      "/home/jiaz/anaconda3/lib/python3.6/site-packages/lightgbm/basic.py:1186: UserWarning: Using categorical_feature in Dataset.\n",
      "  warnings.warn('Using categorical_feature in Dataset.')\n"
     ]
    },
    {
     "name": "stdout",
     "output_type": "stream",
     "text": [
      "[200]\tcv_agg's rmse: 3.67556 + 0.029498\n",
      "[400]\tcv_agg's rmse: 3.65433 + 0.0286206\n",
      "[600]\tcv_agg's rmse: 3.64657 + 0.0275777\n",
      "[800]\tcv_agg's rmse: 3.64404 + 0.0266343\n",
      "[1000]\tcv_agg's rmse: 3.64262 + 0.0261078\n",
      "[1200]\tcv_agg's rmse: 3.64226 + 0.0254748\n",
      "[1400]\tcv_agg's rmse: 3.64237 + 0.0249391\n",
      "[1600]\tcv_agg's rmse: 3.64239 + 0.0243592\n",
      "[1800]\tcv_agg's rmse: 3.64283 + 0.0239157\n",
      "Best cv scores 3.642215382334598 + 0.025350029933420837\n",
      "Num of boost: 1249\n"
     ]
    }
   ],
   "source": [
    "get_cv(feats)"
   ]
  },
  {
   "cell_type": "markdown",
   "metadata": {},
   "source": [
    "### purchase amount encode (no effect)"
   ]
  },
  {
   "cell_type": "code",
   "execution_count": 126,
   "metadata": {},
   "outputs": [],
   "source": [
    "agg_funs = {}\n",
    "for col in ['merchant_category_id', 'subsector_id', 'merchant_id', 'state_id', 'city_id']:\n",
    "    hist_trans[col+'_pur_amount_mean'] = hist_trans.groupby(col).purchase_amount.transform('mean')\n",
    "    hist_trans[col+'_pur_amount_sum'] = hist_trans.groupby(col).purchase_amount.transform('sum')\n",
    "    agg_funs[col+'_pur_amount_mean'] = ['min', 'max', 'sum', 'mean', 'median', 'std']\n",
    "    agg_funs[col+'_pur_amount_sum'] = ['min', 'max', 'sum', 'mean', 'median', 'std']\n",
    "\n",
    "hist_ids_pur_amount_encode_stats = hist_trans.groupby('card_id').agg(agg_funs)\n",
    "\n",
    "reset_cols(hist_ids_pur_amount_encode_stats, 'hist')"
   ]
  },
  {
   "cell_type": "code",
   "execution_count": 130,
   "metadata": {},
   "outputs": [],
   "source": [
    "agg_funs = {}\n",
    "for col in ['merchant_category_id', 'subsector_id', 'merchant_id', 'state_id', 'city_id']:\n",
    "    new_trans[col+'_pur_amount_mean'] = new_trans.groupby(col).purchase_amount.transform('mean')\n",
    "    new_trans[col+'_pur_amount_sum'] = new_trans.groupby(col).purchase_amount.transform('sum')\n",
    "    agg_funs[col+'_pur_amount_mean'] = ['min', 'max', 'sum', 'mean', 'median', 'std']\n",
    "    agg_funs[col+'_pur_amount_sum'] = ['min', 'max', 'sum', 'mean', 'median', 'std']\n",
    "\n",
    "new_ids_pur_amount_encode_stats = new_trans.groupby('card_id').agg(agg_funs)\n",
    "\n",
    "reset_cols(new_ids_pur_amount_encode_stats, 'new')"
   ]
  },
  {
   "cell_type": "code",
   "execution_count": 131,
   "metadata": {},
   "outputs": [],
   "source": [
    "train = train.join(hist_ids_pur_amount_encode_stats, on='card_id')\n",
    "train = train.join(new_ids_pur_amount_encode_stats, on='card_id')"
   ]
  },
  {
   "cell_type": "code",
   "execution_count": 132,
   "metadata": {},
   "outputs": [],
   "source": [
    "feats = [col for col in train.columns if col not in exclude_feats]"
   ]
  },
  {
   "cell_type": "code",
   "execution_count": 133,
   "metadata": {},
   "outputs": [
    {
     "name": "stderr",
     "output_type": "stream",
     "text": [
      "/home/jiaz/anaconda3/lib/python3.6/site-packages/lightgbm/basic.py:1186: UserWarning: Using categorical_feature in Dataset.\n",
      "  warnings.warn('Using categorical_feature in Dataset.')\n"
     ]
    },
    {
     "name": "stdout",
     "output_type": "stream",
     "text": [
      "[200]\tcv_agg's rmse: 3.68771 + 0.0284762\n",
      "[400]\tcv_agg's rmse: 3.66601 + 0.0278675\n",
      "[600]\tcv_agg's rmse: 3.65868 + 0.0274233\n",
      "[800]\tcv_agg's rmse: 3.65515 + 0.0272552\n",
      "[1000]\tcv_agg's rmse: 3.65372 + 0.0270195\n",
      "[1200]\tcv_agg's rmse: 3.65309 + 0.0265206\n",
      "[1400]\tcv_agg's rmse: 3.65299 + 0.0266464\n",
      "[1600]\tcv_agg's rmse: 3.65336 + 0.0263317\n",
      "[1800]\tcv_agg's rmse: 3.65358 + 0.0259817\n",
      "Best cv scores 3.652831582881859 + 0.026474529384062237\n",
      "Num of boost: 1285\n"
     ]
    }
   ],
   "source": [
    "get_cv(feats)"
   ]
  },
  {
   "cell_type": "markdown",
   "metadata": {},
   "source": [
    "### category_2 auth encode"
   ]
  },
  {
   "cell_type": "code",
   "execution_count": 71,
   "metadata": {},
   "outputs": [],
   "source": [
    "hist_trans['category_2_auth_mean'] = hist_trans.groupby('category_2').authorized_flag.transform('mean')"
   ]
  },
  {
   "cell_type": "code",
   "execution_count": 72,
   "metadata": {},
   "outputs": [],
   "source": [
    "hist_category_2_stats = hist_trans.groupby('card_id').agg({\n",
    "    'category_2_auth_mean': ['min', 'max', 'sum', 'mean', 'median', 'std'],\n",
    "})\n",
    "\n",
    "reset_cols(hist_category_2_stats, 'hist')"
   ]
  },
  {
   "cell_type": "code",
   "execution_count": 73,
   "metadata": {},
   "outputs": [],
   "source": [
    "train = train.join(hist_category_2_stats, on='card_id')"
   ]
  },
  {
   "cell_type": "code",
   "execution_count": 74,
   "metadata": {},
   "outputs": [],
   "source": [
    "test = test.join(hist_category_2_stats, on='card_id')"
   ]
  },
  {
   "cell_type": "code",
   "execution_count": 78,
   "metadata": {},
   "outputs": [],
   "source": [
    "feats = [col for col in train.columns if col not in exclude_feats]"
   ]
  },
  {
   "cell_type": "code",
   "execution_count": 79,
   "metadata": {},
   "outputs": [
    {
     "name": "stdout",
     "output_type": "stream",
     "text": [
      "[200]\tcv_agg's rmse: 3.68443 + 0.0291424\n",
      "[400]\tcv_agg's rmse: 3.66319 + 0.0278439\n",
      "[600]\tcv_agg's rmse: 3.65582 + 0.026866\n",
      "[800]\tcv_agg's rmse: 3.65261 + 0.0263305\n",
      "[1000]\tcv_agg's rmse: 3.65087 + 0.0260562\n",
      "[1200]\tcv_agg's rmse: 3.64997 + 0.0255376\n",
      "[1400]\tcv_agg's rmse: 3.64999 + 0.0253465\n",
      "[1600]\tcv_agg's rmse: 3.64971 + 0.0248838\n",
      "[1800]\tcv_agg's rmse: 3.65002 + 0.0243449\n",
      "[2000]\tcv_agg's rmse: 3.65044 + 0.0240948\n",
      "[2200]\tcv_agg's rmse: 3.65078 + 0.0238313\n",
      "Best cv scores 3.6496642146142917 + 0.02468754886971473\n",
      "Num of boost: 1659\n"
     ]
    }
   ],
   "source": [
    "get_cv(feats)"
   ]
  },
  {
   "cell_type": "markdown",
   "metadata": {},
   "source": [
    "### category_2 (no effect)"
   ]
  },
  {
   "cell_type": "code",
   "execution_count": 99,
   "metadata": {},
   "outputs": [],
   "source": [
    "new_trans.category_2 = new_trans.category_2.fillna(0).astype(int)"
   ]
  },
  {
   "cell_type": "code",
   "execution_count": 100,
   "metadata": {},
   "outputs": [],
   "source": [
    "hist_trans.category_2 = hist_trans.category_2.fillna(0).astype(int)"
   ]
  },
  {
   "cell_type": "code",
   "execution_count": 101,
   "metadata": {},
   "outputs": [],
   "source": [
    "hist_category_2_stats = hist_trans.groupby('card_id').category_2.nunique()\n",
    "hist_category_2_stats.name = 'hist_category_2_nunique'"
   ]
  },
  {
   "cell_type": "code",
   "execution_count": 102,
   "metadata": {},
   "outputs": [],
   "source": [
    "new_category_2_stats = new_trans.groupby('card_id').category_2.nunique()\n",
    "new_category_2_stats.name = 'new_category_2_nunique'"
   ]
  },
  {
   "cell_type": "code",
   "execution_count": 103,
   "metadata": {},
   "outputs": [],
   "source": [
    "train = train.join(hist_category_2_stats, on='card_id')\n",
    "train = train.join(new_category_2_stats, on='card_id')"
   ]
  },
  {
   "cell_type": "code",
   "execution_count": 104,
   "metadata": {},
   "outputs": [],
   "source": [
    "test = test.join(hist_category_2_stats, on='card_id')\n",
    "test = test.join(new_category_2_stats, on='card_id')"
   ]
  },
  {
   "cell_type": "code",
   "execution_count": 105,
   "metadata": {},
   "outputs": [],
   "source": [
    "feats = [col for col in train.columns if col not in exclude_feats]"
   ]
  },
  {
   "cell_type": "code",
   "execution_count": 106,
   "metadata": {},
   "outputs": [
    {
     "name": "stdout",
     "output_type": "stream",
     "text": [
      "[200]\tcv_agg's rmse: 3.67718 + 0.0292867\n",
      "[400]\tcv_agg's rmse: 3.6568 + 0.0277609\n",
      "[600]\tcv_agg's rmse: 3.64974 + 0.0264312\n",
      "[800]\tcv_agg's rmse: 3.6469 + 0.0260231\n",
      "[1000]\tcv_agg's rmse: 3.64563 + 0.0260074\n",
      "[1200]\tcv_agg's rmse: 3.64591 + 0.0252574\n",
      "[1400]\tcv_agg's rmse: 3.64629 + 0.0247341\n",
      "[1600]\tcv_agg's rmse: 3.64635 + 0.0245029\n",
      "Best cv scores 3.64554102722252 + 0.025925221991867642\n",
      "Num of boost: 1017\n"
     ]
    }
   ],
   "source": [
    "get_cv(feats)"
   ]
  },
  {
   "cell_type": "markdown",
   "metadata": {},
   "source": [
    "### category_2_dummy"
   ]
  },
  {
   "cell_type": "code",
   "execution_count": 75,
   "metadata": {},
   "outputs": [],
   "source": [
    "hist_category_2_dummy = pd.get_dummies(hist_trans.category_2)\n",
    "hist_category_2_dummy.columns = [f'category_2_{col}' for col in hist_category_2_dummy.columns]"
   ]
  },
  {
   "cell_type": "code",
   "execution_count": 76,
   "metadata": {},
   "outputs": [],
   "source": [
    "hist_trans = hist_trans.join(hist_category_2_dummy)"
   ]
  },
  {
   "cell_type": "code",
   "execution_count": 77,
   "metadata": {},
   "outputs": [],
   "source": [
    "new_category_2_dummy = pd.get_dummies(new_trans.category_2)\n",
    "new_category_2_dummy.columns = [f'category_2_{col}' for col in new_category_2_dummy.columns]"
   ]
  },
  {
   "cell_type": "code",
   "execution_count": 78,
   "metadata": {},
   "outputs": [],
   "source": [
    "new_trans = new_trans.join(new_category_2_dummy)"
   ]
  },
  {
   "cell_type": "code",
   "execution_count": 80,
   "metadata": {},
   "outputs": [
    {
     "ename": "KeyError",
     "evalue": "\"Column 'category_2_1' does not exist!\"",
     "output_type": "error",
     "traceback": [
      "\u001b[0;31m---------------------------------------------------------------------------\u001b[0m",
      "\u001b[0;31mKeyError\u001b[0m                                  Traceback (most recent call last)",
      "\u001b[0;32m<ipython-input-80-062406f85e33>\u001b[0m in \u001b[0;36m<module>\u001b[0;34m\u001b[0m\n\u001b[1;32m      5\u001b[0m     \u001b[0;34m'category_2_3'\u001b[0m\u001b[0;34m:\u001b[0m \u001b[0;34m[\u001b[0m\u001b[0;34m'mean'\u001b[0m\u001b[0;34m]\u001b[0m\u001b[0;34m,\u001b[0m\u001b[0;34m\u001b[0m\u001b[0;34m\u001b[0m\u001b[0m\n\u001b[1;32m      6\u001b[0m     \u001b[0;34m'category_2_4'\u001b[0m\u001b[0;34m:\u001b[0m \u001b[0;34m[\u001b[0m\u001b[0;34m'mean'\u001b[0m\u001b[0;34m]\u001b[0m\u001b[0;34m,\u001b[0m\u001b[0;34m\u001b[0m\u001b[0;34m\u001b[0m\u001b[0m\n\u001b[0;32m----> 7\u001b[0;31m     \u001b[0;34m'category_2_5'\u001b[0m\u001b[0;34m:\u001b[0m \u001b[0;34m[\u001b[0m\u001b[0;34m'mean'\u001b[0m\u001b[0;34m]\u001b[0m\u001b[0;34m\u001b[0m\u001b[0;34m\u001b[0m\u001b[0m\n\u001b[0m\u001b[1;32m      8\u001b[0m })\n\u001b[1;32m      9\u001b[0m \u001b[0mreset_cols\u001b[0m\u001b[0;34m(\u001b[0m\u001b[0mhist_category_2_dummy_stats\u001b[0m\u001b[0;34m,\u001b[0m \u001b[0;34m'hist'\u001b[0m\u001b[0;34m)\u001b[0m\u001b[0;34m\u001b[0m\u001b[0;34m\u001b[0m\u001b[0m\n",
      "\u001b[0;32m~/anaconda3/lib/python3.6/site-packages/pandas/core/groupby/groupby.py\u001b[0m in \u001b[0;36maggregate\u001b[0;34m(self, arg, *args, **kwargs)\u001b[0m\n\u001b[1;32m   4654\u001b[0m         axis=''))\n\u001b[1;32m   4655\u001b[0m     \u001b[0;32mdef\u001b[0m \u001b[0maggregate\u001b[0m\u001b[0;34m(\u001b[0m\u001b[0mself\u001b[0m\u001b[0;34m,\u001b[0m \u001b[0marg\u001b[0m\u001b[0;34m,\u001b[0m \u001b[0;34m*\u001b[0m\u001b[0margs\u001b[0m\u001b[0;34m,\u001b[0m \u001b[0;34m**\u001b[0m\u001b[0mkwargs\u001b[0m\u001b[0;34m)\u001b[0m\u001b[0;34m:\u001b[0m\u001b[0;34m\u001b[0m\u001b[0;34m\u001b[0m\u001b[0m\n\u001b[0;32m-> 4656\u001b[0;31m         \u001b[0;32mreturn\u001b[0m \u001b[0msuper\u001b[0m\u001b[0;34m(\u001b[0m\u001b[0mDataFrameGroupBy\u001b[0m\u001b[0;34m,\u001b[0m \u001b[0mself\u001b[0m\u001b[0;34m)\u001b[0m\u001b[0;34m.\u001b[0m\u001b[0maggregate\u001b[0m\u001b[0;34m(\u001b[0m\u001b[0marg\u001b[0m\u001b[0;34m,\u001b[0m \u001b[0;34m*\u001b[0m\u001b[0margs\u001b[0m\u001b[0;34m,\u001b[0m \u001b[0;34m**\u001b[0m\u001b[0mkwargs\u001b[0m\u001b[0;34m)\u001b[0m\u001b[0;34m\u001b[0m\u001b[0;34m\u001b[0m\u001b[0m\n\u001b[0m\u001b[1;32m   4657\u001b[0m \u001b[0;34m\u001b[0m\u001b[0m\n\u001b[1;32m   4658\u001b[0m     \u001b[0magg\u001b[0m \u001b[0;34m=\u001b[0m \u001b[0maggregate\u001b[0m\u001b[0;34m\u001b[0m\u001b[0;34m\u001b[0m\u001b[0m\n",
      "\u001b[0;32m~/anaconda3/lib/python3.6/site-packages/pandas/core/groupby/groupby.py\u001b[0m in \u001b[0;36maggregate\u001b[0;34m(self, arg, *args, **kwargs)\u001b[0m\n\u001b[1;32m   4085\u001b[0m \u001b[0;34m\u001b[0m\u001b[0m\n\u001b[1;32m   4086\u001b[0m         \u001b[0m_level\u001b[0m \u001b[0;34m=\u001b[0m \u001b[0mkwargs\u001b[0m\u001b[0;34m.\u001b[0m\u001b[0mpop\u001b[0m\u001b[0;34m(\u001b[0m\u001b[0;34m'_level'\u001b[0m\u001b[0;34m,\u001b[0m \u001b[0;32mNone\u001b[0m\u001b[0;34m)\u001b[0m\u001b[0;34m\u001b[0m\u001b[0;34m\u001b[0m\u001b[0m\n\u001b[0;32m-> 4087\u001b[0;31m         \u001b[0mresult\u001b[0m\u001b[0;34m,\u001b[0m \u001b[0mhow\u001b[0m \u001b[0;34m=\u001b[0m \u001b[0mself\u001b[0m\u001b[0;34m.\u001b[0m\u001b[0m_aggregate\u001b[0m\u001b[0;34m(\u001b[0m\u001b[0marg\u001b[0m\u001b[0;34m,\u001b[0m \u001b[0m_level\u001b[0m\u001b[0;34m=\u001b[0m\u001b[0m_level\u001b[0m\u001b[0;34m,\u001b[0m \u001b[0;34m*\u001b[0m\u001b[0margs\u001b[0m\u001b[0;34m,\u001b[0m \u001b[0;34m**\u001b[0m\u001b[0mkwargs\u001b[0m\u001b[0;34m)\u001b[0m\u001b[0;34m\u001b[0m\u001b[0;34m\u001b[0m\u001b[0m\n\u001b[0m\u001b[1;32m   4088\u001b[0m         \u001b[0;32mif\u001b[0m \u001b[0mhow\u001b[0m \u001b[0;32mis\u001b[0m \u001b[0;32mNone\u001b[0m\u001b[0;34m:\u001b[0m\u001b[0;34m\u001b[0m\u001b[0;34m\u001b[0m\u001b[0m\n\u001b[1;32m   4089\u001b[0m             \u001b[0;32mreturn\u001b[0m \u001b[0mresult\u001b[0m\u001b[0;34m\u001b[0m\u001b[0;34m\u001b[0m\u001b[0m\n",
      "\u001b[0;32m~/anaconda3/lib/python3.6/site-packages/pandas/core/base.py\u001b[0m in \u001b[0;36m_aggregate\u001b[0;34m(self, arg, *args, **kwargs)\u001b[0m\n\u001b[1;32m    400\u001b[0m                             \u001b[0mk\u001b[0m \u001b[0;32mnot\u001b[0m \u001b[0;32min\u001b[0m \u001b[0mobj\u001b[0m\u001b[0;34m.\u001b[0m\u001b[0mcolumns\u001b[0m\u001b[0;34m:\u001b[0m\u001b[0;34m\u001b[0m\u001b[0;34m\u001b[0m\u001b[0m\n\u001b[1;32m    401\u001b[0m                         raise KeyError(\n\u001b[0;32m--> 402\u001b[0;31m                             \"Column '{col}' does not exist!\".format(col=k))\n\u001b[0m\u001b[1;32m    403\u001b[0m \u001b[0;34m\u001b[0m\u001b[0m\n\u001b[1;32m    404\u001b[0m                 \u001b[0marg\u001b[0m \u001b[0;34m=\u001b[0m \u001b[0mnew_arg\u001b[0m\u001b[0;34m\u001b[0m\u001b[0;34m\u001b[0m\u001b[0m\n",
      "\u001b[0;31mKeyError\u001b[0m: \"Column 'category_2_1' does not exist!\""
     ]
    }
   ],
   "source": [
    "hist_category_2_dummy_stats = hist_trans.groupby('card_id').agg({\n",
    "    'category_2_0': ['mean'],\n",
    "    'category_2_1': ['mean'],\n",
    "    'category_2_2': ['mean'],\n",
    "    'category_2_3': ['mean'],\n",
    "    'category_2_4': ['mean'],\n",
    "    'category_2_5': ['mean']   \n",
    "})\n",
    "reset_cols(hist_category_2_dummy_stats, 'hist')"
   ]
  },
  {
   "cell_type": "code",
   "execution_count": null,
   "metadata": {},
   "outputs": [],
   "source": [
    "new_category_2_dummy_stats = new_trans.groupby('card_id').agg({\n",
    "    'category_2_0': ['mean'],\n",
    "    'category_2_1': ['mean'],\n",
    "    'category_2_2': ['mean'],\n",
    "    'category_2_3': ['mean'],\n",
    "    'category_2_4': ['mean'],\n",
    "    'category_2_5': ['mean']   \n",
    "})\n",
    "reset_cols(new_category_2_dummy_stats, 'new')"
   ]
  },
  {
   "cell_type": "code",
   "execution_count": null,
   "metadata": {},
   "outputs": [],
   "source": [
    "train = train.join(hist_category_2_dummy_stats, on='card_id')\n",
    "train = train.join(new_category_2_dummy_stats, on='card_id')"
   ]
  },
  {
   "cell_type": "code",
   "execution_count": null,
   "metadata": {},
   "outputs": [],
   "source": [
    "test = test.join(hist_category_2_dummy_stats, on='card_id')\n",
    "test = test.join(new_category_2_dummy_stats, on='card_id')"
   ]
  },
  {
   "cell_type": "code",
   "execution_count": 115,
   "metadata": {},
   "outputs": [],
   "source": [
    "feats = [col for col in train.columns if col not in exclude_feats]"
   ]
  },
  {
   "cell_type": "code",
   "execution_count": 119,
   "metadata": {},
   "outputs": [],
   "source": [
    "feats = [col for col in feats if col not in ['hist_category_2_nunique', 'new_category_2_nunique']]"
   ]
  },
  {
   "cell_type": "code",
   "execution_count": 116,
   "metadata": {},
   "outputs": [
    {
     "name": "stdout",
     "output_type": "stream",
     "text": [
      "[200]\tcv_agg's rmse: 3.67624 + 0.029029\n",
      "[400]\tcv_agg's rmse: 3.65524 + 0.0278099\n",
      "[600]\tcv_agg's rmse: 3.64776 + 0.0269412\n",
      "[800]\tcv_agg's rmse: 3.64495 + 0.0262129\n",
      "[1000]\tcv_agg's rmse: 3.64368 + 0.025648\n",
      "[1200]\tcv_agg's rmse: 3.643 + 0.0248493\n",
      "[1400]\tcv_agg's rmse: 3.64294 + 0.0243906\n",
      "[1600]\tcv_agg's rmse: 3.64301 + 0.0239928\n",
      "[1800]\tcv_agg's rmse: 3.64314 + 0.0236254\n",
      "[2000]\tcv_agg's rmse: 3.64322 + 0.0234616\n",
      "Best cv scores 3.642863801413514 + 0.024313742952366917\n",
      "Num of boost: 1407\n"
     ]
    }
   ],
   "source": [
    "get_cv(feats)"
   ]
  },
  {
   "cell_type": "code",
   "execution_count": 120,
   "metadata": {},
   "outputs": [
    {
     "name": "stderr",
     "output_type": "stream",
     "text": [
      "/home/jiaz/anaconda3/lib/python3.6/site-packages/lightgbm/basic.py:1186: UserWarning: Using categorical_feature in Dataset.\n",
      "  warnings.warn('Using categorical_feature in Dataset.')\n"
     ]
    },
    {
     "name": "stdout",
     "output_type": "stream",
     "text": [
      "[200]\tcv_agg's rmse: 3.67657 + 0.0300134\n",
      "[400]\tcv_agg's rmse: 3.65552 + 0.0287861\n",
      "[600]\tcv_agg's rmse: 3.64826 + 0.027764\n",
      "[800]\tcv_agg's rmse: 3.64512 + 0.0272449\n",
      "[1000]\tcv_agg's rmse: 3.64361 + 0.0266741\n",
      "[1200]\tcv_agg's rmse: 3.64282 + 0.0263976\n",
      "[1400]\tcv_agg's rmse: 3.64241 + 0.0259892\n",
      "[1600]\tcv_agg's rmse: 3.64254 + 0.0252834\n",
      "[1800]\tcv_agg's rmse: 3.64309 + 0.0250574\n",
      "[2000]\tcv_agg's rmse: 3.64313 + 0.0248032\n",
      "Best cv scores 3.6423697633566428 + 0.025876062152955633\n",
      "Num of boost: 1418\n"
     ]
    }
   ],
   "source": [
    "get_cv(feats)"
   ]
  },
  {
   "cell_type": "markdown",
   "metadata": {},
   "source": [
    "### merchant_id dup"
   ]
  },
  {
   "cell_type": "code",
   "execution_count": 81,
   "metadata": {},
   "outputs": [],
   "source": [
    "def get_dup_stats(Se):\n",
    "    cnts = Se.value_counts()\n",
    "    return pd.Series({\n",
    "        'mean': cnts.mean(),\n",
    "        'median': cnts.median(),\n",
    "        'min': cnts.min(),\n",
    "        'max': cnts.max(),\n",
    "        'std': cnts.std()\n",
    "    })"
   ]
  },
  {
   "cell_type": "code",
   "execution_count": 82,
   "metadata": {},
   "outputs": [],
   "source": [
    "hist_merchant_id_stats = hist_trans.groupby('card_id').merchant_id.apply(get_dup_stats).unstack()"
   ]
  },
  {
   "cell_type": "code",
   "execution_count": 83,
   "metadata": {},
   "outputs": [],
   "source": [
    "hist_merchant_id_stats.columns = [f'hist_merchant_dup_{col}' for col in hist_merchant_id_stats.columns]"
   ]
  },
  {
   "cell_type": "code",
   "execution_count": 84,
   "metadata": {},
   "outputs": [],
   "source": [
    "new_merchant_id_stats = new_trans.groupby('card_id').merchant_id.apply(get_dup_stats).unstack()\n",
    "new_merchant_id_stats.columns = [f'new_merchant_dup_{col}' for col in new_merchant_id_stats.columns]"
   ]
  },
  {
   "cell_type": "code",
   "execution_count": 85,
   "metadata": {},
   "outputs": [],
   "source": [
    "train = train.join(hist_merchant_id_stats, on='card_id')\n",
    "train = train.join(new_merchant_id_stats, on='card_id')"
   ]
  },
  {
   "cell_type": "code",
   "execution_count": 86,
   "metadata": {},
   "outputs": [],
   "source": [
    "test = test.join(hist_merchant_id_stats, on='card_id')\n",
    "test = test.join(new_merchant_id_stats, on='card_id')"
   ]
  },
  {
   "cell_type": "code",
   "execution_count": 87,
   "metadata": {},
   "outputs": [],
   "source": [
    "feats = [col for col in train.columns if col not in exclude_feats]"
   ]
  },
  {
   "cell_type": "code",
   "execution_count": 76,
   "metadata": {},
   "outputs": [
    {
     "name": "stderr",
     "output_type": "stream",
     "text": [
      "/home/jiaz/anaconda3/lib/python3.6/site-packages/lightgbm/basic.py:1186: UserWarning: Using categorical_feature in Dataset.\n",
      "  warnings.warn('Using categorical_feature in Dataset.')\n"
     ]
    },
    {
     "name": "stdout",
     "output_type": "stream",
     "text": [
      "[200]\tcv_agg's rmse: 3.68409 + 0.0290234\n",
      "[400]\tcv_agg's rmse: 3.66229 + 0.0272745\n",
      "[600]\tcv_agg's rmse: 3.65508 + 0.0261339\n",
      "[800]\tcv_agg's rmse: 3.65155 + 0.0255135\n",
      "[1000]\tcv_agg's rmse: 3.65047 + 0.0251522\n",
      "[1200]\tcv_agg's rmse: 3.6499 + 0.0245406\n",
      "[1400]\tcv_agg's rmse: 3.65005 + 0.0240533\n",
      "[1600]\tcv_agg's rmse: 3.64998 + 0.0237164\n",
      "[1800]\tcv_agg's rmse: 3.65014 + 0.023541\n",
      "Best cv scores 3.6498366245121296 + 0.024312069219729115\n",
      "Num of boost: 1264\n"
     ]
    }
   ],
   "source": [
    "get_cv(feats)"
   ]
  },
  {
   "cell_type": "markdown",
   "metadata": {},
   "source": [
    "### dates"
   ]
  },
  {
   "cell_type": "code",
   "execution_count": 88,
   "metadata": {},
   "outputs": [],
   "source": [
    "hist_trans['year'] = hist_trans.purchase_date.dt.year\n",
    "hist_trans['month'] = hist_trans.purchase_date.dt.month\n",
    "hist_trans['weekofyear'] = hist_trans.purchase_date.dt.weekofyear\n",
    "hist_trans['dayofweek'] = hist_trans.purchase_date.dt.dayofweek\n",
    "hist_trans['hour'] = hist_trans.purchase_date.dt.hour\n",
    "hist_trans['weekend'] = (hist_trans.purchase_date.dt.weekday >=5).astype(int)"
   ]
  },
  {
   "cell_type": "code",
   "execution_count": 89,
   "metadata": {},
   "outputs": [],
   "source": [
    "new_trans['year'] = new_trans.purchase_date.dt.year\n",
    "new_trans['month'] = new_trans.purchase_date.dt.month\n",
    "new_trans['weekofyear'] = new_trans.purchase_date.dt.weekofyear\n",
    "new_trans['dayofweek'] = new_trans.purchase_date.dt.dayofweek\n",
    "new_trans['hour'] = new_trans.purchase_date.dt.hour\n",
    "new_trans['weekend'] = (new_trans.purchase_date.dt.weekday >=5).astype(int)"
   ]
  },
  {
   "cell_type": "code",
   "execution_count": 90,
   "metadata": {},
   "outputs": [],
   "source": [
    "hist_dates_stats = hist_trans.groupby('card_id').agg({\n",
    "    'year': ['nunique'],\n",
    "    'month': ['nunique'],\n",
    "    'weekofyear': ['nunique'],\n",
    "    'dayofweek': ['nunique'],\n",
    "    'hour': ['nunique'],\n",
    "    'weekend': ['sum', 'mean']\n",
    "})\n",
    "reset_cols(hist_dates_stats, 'hist')"
   ]
  },
  {
   "cell_type": "code",
   "execution_count": 91,
   "metadata": {},
   "outputs": [],
   "source": [
    "new_dates_stats = new_trans.groupby('card_id').agg({\n",
    "    'year': ['nunique'],\n",
    "    'month': ['nunique'],\n",
    "    'weekofyear': ['nunique'],\n",
    "    'dayofweek': ['nunique'],\n",
    "    'hour': ['nunique'],\n",
    "    'weekend': ['sum', 'mean']\n",
    "})\n",
    "reset_cols(new_dates_stats, 'new')"
   ]
  },
  {
   "cell_type": "code",
   "execution_count": 92,
   "metadata": {},
   "outputs": [],
   "source": [
    "train = train.join(hist_dates_stats, on='card_id')\n",
    "train = train.join(new_dates_stats, on='card_id')"
   ]
  },
  {
   "cell_type": "code",
   "execution_count": 93,
   "metadata": {},
   "outputs": [],
   "source": [
    "test = test.join(hist_dates_stats, on='card_id')\n",
    "test = test.join(new_dates_stats, on='card_id')"
   ]
  },
  {
   "cell_type": "code",
   "execution_count": 94,
   "metadata": {},
   "outputs": [],
   "source": [
    "feats = [col for col in train.columns if col not in exclude_feats]"
   ]
  },
  {
   "cell_type": "code",
   "execution_count": 84,
   "metadata": {},
   "outputs": [
    {
     "name": "stderr",
     "output_type": "stream",
     "text": [
      "/home/jiaz/anaconda3/lib/python3.6/site-packages/lightgbm/basic.py:1186: UserWarning: Using categorical_feature in Dataset.\n",
      "  warnings.warn('Using categorical_feature in Dataset.')\n"
     ]
    },
    {
     "name": "stdout",
     "output_type": "stream",
     "text": [
      "[200]\tcv_agg's rmse: 3.67708 + 0.0295104\n",
      "[400]\tcv_agg's rmse: 3.65656 + 0.0281949\n",
      "[600]\tcv_agg's rmse: 3.64966 + 0.0273305\n",
      "[800]\tcv_agg's rmse: 3.64699 + 0.026829\n",
      "[1000]\tcv_agg's rmse: 3.64547 + 0.0266444\n",
      "[1200]\tcv_agg's rmse: 3.64527 + 0.0258394\n",
      "[1400]\tcv_agg's rmse: 3.64558 + 0.0256182\n",
      "[1600]\tcv_agg's rmse: 3.64553 + 0.025553\n",
      "Best cv scores 3.6450963868564124 + 0.026175415456044408\n",
      "Num of boost: 1128\n"
     ]
    }
   ],
   "source": [
    "get_cv(feats)"
   ]
  },
  {
   "cell_type": "markdown",
   "metadata": {},
   "source": [
    "### installments, merchant_id"
   ]
  },
  {
   "cell_type": "code",
   "execution_count": 95,
   "metadata": {},
   "outputs": [],
   "source": [
    "hist_install_merchant_stats = hist_trans.groupby('card_id').agg({\n",
    "    'installments': ['nunique', 'min', 'max', 'sum', 'mean', 'median', 'std'],\n",
    "    'merchant_id': ['nunique']\n",
    "})\n",
    "reset_cols(hist_install_merchant_stats, 'hist')"
   ]
  },
  {
   "cell_type": "code",
   "execution_count": 96,
   "metadata": {},
   "outputs": [],
   "source": [
    "new_install_merchant_stats = new_trans.groupby('card_id').agg({\n",
    "    'installments': ['nunique', 'min', 'max', 'sum', 'mean', 'median', 'std'],\n",
    "    'merchant_id': ['nunique']\n",
    "})\n",
    "reset_cols(new_install_merchant_stats, 'new')"
   ]
  },
  {
   "cell_type": "code",
   "execution_count": 97,
   "metadata": {},
   "outputs": [],
   "source": [
    "train = train.join(hist_install_merchant_stats, on='card_id')\n",
    "train = train.join(new_install_merchant_stats, on='card_id')"
   ]
  },
  {
   "cell_type": "code",
   "execution_count": 98,
   "metadata": {},
   "outputs": [],
   "source": [
    "test = test.join(hist_install_merchant_stats, on='card_id')\n",
    "test = test.join(new_install_merchant_stats, on='card_id')"
   ]
  },
  {
   "cell_type": "code",
   "execution_count": 99,
   "metadata": {},
   "outputs": [],
   "source": [
    "feats = [col for col in train.columns if col not in exclude_feats]"
   ]
  },
  {
   "cell_type": "code",
   "execution_count": 100,
   "metadata": {},
   "outputs": [
    {
     "name": "stdout",
     "output_type": "stream",
     "text": [
      "[200]\tcv_agg's rmse: 3.67695 + 0.0294337\n",
      "[400]\tcv_agg's rmse: 3.65517 + 0.027743\n",
      "[600]\tcv_agg's rmse: 3.64748 + 0.0266374\n",
      "[800]\tcv_agg's rmse: 3.64421 + 0.0257476\n",
      "[1000]\tcv_agg's rmse: 3.64309 + 0.0251955\n",
      "[1200]\tcv_agg's rmse: 3.64265 + 0.0245461\n",
      "[1400]\tcv_agg's rmse: 3.64239 + 0.0240935\n",
      "[1600]\tcv_agg's rmse: 3.64249 + 0.023782\n",
      "[1800]\tcv_agg's rmse: 3.64293 + 0.0234009\n",
      "Best cv scores 3.6422716121090217 + 0.024083163186012453\n",
      "Num of boost: 1376\n"
     ]
    }
   ],
   "source": [
    "get_cv(feats)"
   ]
  },
  {
   "cell_type": "code",
   "execution_count": null,
   "metadata": {},
   "outputs": [],
   "source": []
  },
  {
   "cell_type": "code",
   "execution_count": null,
   "metadata": {},
   "outputs": [],
   "source": []
  },
  {
   "cell_type": "code",
   "execution_count": null,
   "metadata": {},
   "outputs": [],
   "source": []
  },
  {
   "cell_type": "code",
   "execution_count": 124,
   "metadata": {},
   "outputs": [
    {
     "data": {
      "text/plain": [
       "<matplotlib.axes._subplots.AxesSubplot at 0x7fd63a82cb70>"
      ]
     },
     "execution_count": 124,
     "metadata": {},
     "output_type": "execute_result"
    },
    {
     "data": {
      "image/png": "[encoded data removed]",
      "text/plain": [
       "<Figure size 432x288 with 1 Axes>"
      ]
     },
     "metadata": {
      "needs_background": "light"
     },
     "output_type": "display_data"
    }
   ],
   "source": [
    "lgb.plot_importance(reg, max_num_features=20)"
   ]
  },
  {
   "cell_type": "code",
   "execution_count": 85,
   "metadata": {},
   "outputs": [
    {
     "data": {
      "text/plain": [
       "((201917, 130), (123623, 129))"
      ]
     },
     "execution_count": 85,
     "metadata": {},
     "output_type": "execute_result"
    }
   ],
   "source": [
    "train.shape, test.shape"
   ]
  },
  {
   "cell_type": "code",
   "execution_count": null,
   "metadata": {},
   "outputs": [],
   "source": []
  },
  {
   "cell_type": "markdown",
   "metadata": {},
   "source": [
    "### train a model"
   ]
  },
  {
   "cell_type": "code",
   "execution_count": 356,
   "metadata": {},
   "outputs": [],
   "source": [
    "feats = imp_feats"
   ]
  },
  {
   "cell_type": "code",
   "execution_count": 361,
   "metadata": {},
   "outputs": [],
   "source": [
    "tr_data = lgb.Dataset(train[feats], label=train.target, categorical_feature=cat_feats)"
   ]
  },
  {
   "cell_type": "code",
   "execution_count": 362,
   "metadata": {},
   "outputs": [
    {
     "name": "stdout",
     "output_type": "stream",
     "text": [
      "[100]\ttraining's rmse: 3.66544\n",
      "[200]\ttraining's rmse: 3.58883\n",
      "[300]\ttraining's rmse: 3.54157\n",
      "[400]\ttraining's rmse: 3.50837\n",
      "[500]\ttraining's rmse: 3.48074\n",
      "[600]\ttraining's rmse: 3.4569\n",
      "[700]\ttraining's rmse: 3.43621\n",
      "[800]\ttraining's rmse: 3.41756\n",
      "[900]\ttraining's rmse: 3.4004\n",
      "[1000]\ttraining's rmse: 3.38403\n",
      "[1100]\ttraining's rmse: 3.36805\n",
      "[1200]\ttraining's rmse: 3.35259\n",
      "[1300]\ttraining's rmse: 3.33764\n",
      "[1400]\ttraining's rmse: 3.32252\n",
      "[1500]\ttraining's rmse: 3.30799\n"
     ]
    }
   ],
   "source": [
    "reg = lgb.train(param, tr_data, 1550, valid_sets=(tr_data), verbose_eval=100)"
   ]
  },
  {
   "cell_type": "code",
   "execution_count": 363,
   "metadata": {},
   "outputs": [],
   "source": [
    "pred = reg.predict(test[feats])\n",
    "\n",
    "submit_df = pd.DataFrame({\n",
    "    'card_id': test.card_id,\n",
    "    'target': pred\n",
    "})\n",
    "\n",
    "submit_df.to_csv('eda_cv3.643_50feats.csv', index=False)"
   ]
  },
  {
   "cell_type": "markdown",
   "metadata": {},
   "source": [
    "### monthly auth (no effect)"
   ]
  },
  {
   "cell_type": "code",
   "execution_count": 261,
   "metadata": {},
   "outputs": [],
   "source": [
    "hist_monthly_auth_mean = hist_trans.groupby(['card_id', 'month_lag']).authorized_flag.mean().unstack()\n",
    "hist_monthly_auth_mean.fillna(0, inplace=True)\n",
    "hist_monthly_auth_mean.columns = [f'hist_auth_mean_monghlag{col}' for col in hist_monthly_auth_mean.columns]"
   ]
  },
  {
   "cell_type": "code",
   "execution_count": 262,
   "metadata": {},
   "outputs": [],
   "source": [
    "train = train.join(hist_monthly_auth_mean, on='card_id')"
   ]
  },
  {
   "cell_type": "code",
   "execution_count": 268,
   "metadata": {
    "collapsed": true
   },
   "outputs": [
    {
     "ename": "KeyError",
     "evalue": "\"['hist_auth_mean_monghlag-13' 'hist_auth_mean_monghlag-12'\\n 'hist_auth_mean_monghlag-11' 'hist_auth_mean_monghlag-10'\\n 'hist_auth_mean_monghlag-9' 'hist_auth_mean_monghlag-8'\\n 'hist_auth_mean_monghlag-7' 'hist_auth_mean_monghlag-6'\\n 'hist_auth_mean_monghlag-5' 'hist_auth_mean_monghlag-4'\\n 'hist_auth_mean_monghlag-3' 'hist_auth_mean_monghlag-2'\\n 'hist_auth_mean_monghlag-1' 'hist_auth_mean_monghlag0'] not found in axis\"",
     "output_type": "error",
     "traceback": [
      "\u001b[0;31m---------------------------------------------------------------------------\u001b[0m",
      "\u001b[0;31mKeyError\u001b[0m                                  Traceback (most recent call last)",
      "\u001b[0;32m<ipython-input-268-db2b5477ab28>\u001b[0m in \u001b[0;36m<module>\u001b[0;34m\u001b[0m\n\u001b[1;32m      1\u001b[0m \u001b[0;31m# undo\u001b[0m\u001b[0;34m\u001b[0m\u001b[0;34m\u001b[0m\u001b[0;34m\u001b[0m\u001b[0m\n\u001b[0;32m----> 2\u001b[0;31m \u001b[0mtrain\u001b[0m\u001b[0;34m.\u001b[0m\u001b[0mdrop\u001b[0m\u001b[0;34m(\u001b[0m\u001b[0mhist_monthly_auth_mean\u001b[0m\u001b[0;34m.\u001b[0m\u001b[0mcolumns\u001b[0m\u001b[0;34m,\u001b[0m \u001b[0maxis\u001b[0m\u001b[0;34m=\u001b[0m\u001b[0;36m1\u001b[0m\u001b[0;34m,\u001b[0m \u001b[0minplace\u001b[0m\u001b[0;34m=\u001b[0m\u001b[0;32mTrue\u001b[0m\u001b[0;34m)\u001b[0m\u001b[0;34m\u001b[0m\u001b[0;34m\u001b[0m\u001b[0m\n\u001b[0m",
      "\u001b[0;32m~/anaconda3/lib/python3.6/site-packages/pandas/core/frame.py\u001b[0m in \u001b[0;36mdrop\u001b[0;34m(self, labels, axis, index, columns, level, inplace, errors)\u001b[0m\n\u001b[1;32m   3695\u001b[0m                                            \u001b[0mindex\u001b[0m\u001b[0;34m=\u001b[0m\u001b[0mindex\u001b[0m\u001b[0;34m,\u001b[0m \u001b[0mcolumns\u001b[0m\u001b[0;34m=\u001b[0m\u001b[0mcolumns\u001b[0m\u001b[0;34m,\u001b[0m\u001b[0;34m\u001b[0m\u001b[0;34m\u001b[0m\u001b[0m\n\u001b[1;32m   3696\u001b[0m                                            \u001b[0mlevel\u001b[0m\u001b[0;34m=\u001b[0m\u001b[0mlevel\u001b[0m\u001b[0;34m,\u001b[0m \u001b[0minplace\u001b[0m\u001b[0;34m=\u001b[0m\u001b[0minplace\u001b[0m\u001b[0;34m,\u001b[0m\u001b[0;34m\u001b[0m\u001b[0;34m\u001b[0m\u001b[0m\n\u001b[0;32m-> 3697\u001b[0;31m                                            errors=errors)\n\u001b[0m\u001b[1;32m   3698\u001b[0m \u001b[0;34m\u001b[0m\u001b[0m\n\u001b[1;32m   3699\u001b[0m     @rewrite_axis_style_signature('mapper', [('copy', True),\n",
      "\u001b[0;32m~/anaconda3/lib/python3.6/site-packages/pandas/core/generic.py\u001b[0m in \u001b[0;36mdrop\u001b[0;34m(self, labels, axis, index, columns, level, inplace, errors)\u001b[0m\n\u001b[1;32m   3109\u001b[0m         \u001b[0;32mfor\u001b[0m \u001b[0maxis\u001b[0m\u001b[0;34m,\u001b[0m \u001b[0mlabels\u001b[0m \u001b[0;32min\u001b[0m \u001b[0maxes\u001b[0m\u001b[0;34m.\u001b[0m\u001b[0mitems\u001b[0m\u001b[0;34m(\u001b[0m\u001b[0;34m)\u001b[0m\u001b[0;34m:\u001b[0m\u001b[0;34m\u001b[0m\u001b[0;34m\u001b[0m\u001b[0m\n\u001b[1;32m   3110\u001b[0m             \u001b[0;32mif\u001b[0m \u001b[0mlabels\u001b[0m \u001b[0;32mis\u001b[0m \u001b[0;32mnot\u001b[0m \u001b[0;32mNone\u001b[0m\u001b[0;34m:\u001b[0m\u001b[0;34m\u001b[0m\u001b[0;34m\u001b[0m\u001b[0m\n\u001b[0;32m-> 3111\u001b[0;31m                 \u001b[0mobj\u001b[0m \u001b[0;34m=\u001b[0m \u001b[0mobj\u001b[0m\u001b[0;34m.\u001b[0m\u001b[0m_drop_axis\u001b[0m\u001b[0;34m(\u001b[0m\u001b[0mlabels\u001b[0m\u001b[0;34m,\u001b[0m \u001b[0maxis\u001b[0m\u001b[0;34m,\u001b[0m \u001b[0mlevel\u001b[0m\u001b[0;34m=\u001b[0m\u001b[0mlevel\u001b[0m\u001b[0;34m,\u001b[0m \u001b[0merrors\u001b[0m\u001b[0;34m=\u001b[0m\u001b[0merrors\u001b[0m\u001b[0;34m)\u001b[0m\u001b[0;34m\u001b[0m\u001b[0;34m\u001b[0m\u001b[0m\n\u001b[0m\u001b[1;32m   3112\u001b[0m \u001b[0;34m\u001b[0m\u001b[0m\n\u001b[1;32m   3113\u001b[0m         \u001b[0;32mif\u001b[0m \u001b[0minplace\u001b[0m\u001b[0;34m:\u001b[0m\u001b[0;34m\u001b[0m\u001b[0;34m\u001b[0m\u001b[0m\n",
      "\u001b[0;32m~/anaconda3/lib/python3.6/site-packages/pandas/core/generic.py\u001b[0m in \u001b[0;36m_drop_axis\u001b[0;34m(self, labels, axis, level, errors)\u001b[0m\n\u001b[1;32m   3141\u001b[0m                 \u001b[0mnew_axis\u001b[0m \u001b[0;34m=\u001b[0m \u001b[0maxis\u001b[0m\u001b[0;34m.\u001b[0m\u001b[0mdrop\u001b[0m\u001b[0;34m(\u001b[0m\u001b[0mlabels\u001b[0m\u001b[0;34m,\u001b[0m \u001b[0mlevel\u001b[0m\u001b[0;34m=\u001b[0m\u001b[0mlevel\u001b[0m\u001b[0;34m,\u001b[0m \u001b[0merrors\u001b[0m\u001b[0;34m=\u001b[0m\u001b[0merrors\u001b[0m\u001b[0;34m)\u001b[0m\u001b[0;34m\u001b[0m\u001b[0;34m\u001b[0m\u001b[0m\n\u001b[1;32m   3142\u001b[0m             \u001b[0;32melse\u001b[0m\u001b[0;34m:\u001b[0m\u001b[0;34m\u001b[0m\u001b[0;34m\u001b[0m\u001b[0m\n\u001b[0;32m-> 3143\u001b[0;31m                 \u001b[0mnew_axis\u001b[0m \u001b[0;34m=\u001b[0m \u001b[0maxis\u001b[0m\u001b[0;34m.\u001b[0m\u001b[0mdrop\u001b[0m\u001b[0;34m(\u001b[0m\u001b[0mlabels\u001b[0m\u001b[0;34m,\u001b[0m \u001b[0merrors\u001b[0m\u001b[0;34m=\u001b[0m\u001b[0merrors\u001b[0m\u001b[0;34m)\u001b[0m\u001b[0;34m\u001b[0m\u001b[0;34m\u001b[0m\u001b[0m\n\u001b[0m\u001b[1;32m   3144\u001b[0m             \u001b[0mresult\u001b[0m \u001b[0;34m=\u001b[0m \u001b[0mself\u001b[0m\u001b[0;34m.\u001b[0m\u001b[0mreindex\u001b[0m\u001b[0;34m(\u001b[0m\u001b[0;34m**\u001b[0m\u001b[0;34m{\u001b[0m\u001b[0maxis_name\u001b[0m\u001b[0;34m:\u001b[0m \u001b[0mnew_axis\u001b[0m\u001b[0;34m}\u001b[0m\u001b[0;34m)\u001b[0m\u001b[0;34m\u001b[0m\u001b[0;34m\u001b[0m\u001b[0m\n\u001b[1;32m   3145\u001b[0m \u001b[0;34m\u001b[0m\u001b[0m\n",
      "\u001b[0;32m~/anaconda3/lib/python3.6/site-packages/pandas/core/indexes/base.py\u001b[0m in \u001b[0;36mdrop\u001b[0;34m(self, labels, errors)\u001b[0m\n\u001b[1;32m   4402\u001b[0m             \u001b[0;32mif\u001b[0m \u001b[0merrors\u001b[0m \u001b[0;34m!=\u001b[0m \u001b[0;34m'ignore'\u001b[0m\u001b[0;34m:\u001b[0m\u001b[0;34m\u001b[0m\u001b[0;34m\u001b[0m\u001b[0m\n\u001b[1;32m   4403\u001b[0m                 raise KeyError(\n\u001b[0;32m-> 4404\u001b[0;31m                     '{} not found in axis'.format(labels[mask]))\n\u001b[0m\u001b[1;32m   4405\u001b[0m             \u001b[0mindexer\u001b[0m \u001b[0;34m=\u001b[0m \u001b[0mindexer\u001b[0m\u001b[0;34m[\u001b[0m\u001b[0;34m~\u001b[0m\u001b[0mmask\u001b[0m\u001b[0;34m]\u001b[0m\u001b[0;34m\u001b[0m\u001b[0;34m\u001b[0m\u001b[0m\n\u001b[1;32m   4406\u001b[0m         \u001b[0;32mreturn\u001b[0m \u001b[0mself\u001b[0m\u001b[0;34m.\u001b[0m\u001b[0mdelete\u001b[0m\u001b[0;34m(\u001b[0m\u001b[0mindexer\u001b[0m\u001b[0;34m)\u001b[0m\u001b[0;34m\u001b[0m\u001b[0;34m\u001b[0m\u001b[0m\n",
      "\u001b[0;31mKeyError\u001b[0m: \"['hist_auth_mean_monghlag-13' 'hist_auth_mean_monghlag-12'\\n 'hist_auth_mean_monghlag-11' 'hist_auth_mean_monghlag-10'\\n 'hist_auth_mean_monghlag-9' 'hist_auth_mean_monghlag-8'\\n 'hist_auth_mean_monghlag-7' 'hist_auth_mean_monghlag-6'\\n 'hist_auth_mean_monghlag-5' 'hist_auth_mean_monghlag-4'\\n 'hist_auth_mean_monghlag-3' 'hist_auth_mean_monghlag-2'\\n 'hist_auth_mean_monghlag-1' 'hist_auth_mean_monghlag0'] not found in axis\""
     ]
    }
   ],
   "source": [
    "# undo\n",
    "train.drop(hist_monthly_auth_mean.columns, axis=1, inplace=True)"
   ]
  },
  {
   "cell_type": "code",
   "execution_count": 269,
   "metadata": {},
   "outputs": [],
   "source": [
    "feats = [col for col in train.columns if col not in exclude_feats]"
   ]
  },
  {
   "cell_type": "code",
   "execution_count": 270,
   "metadata": {},
   "outputs": [],
   "source": [
    "feats = [col for col in feats if col not in ['hist_category_2_nunique', 'new_category_2_nunique', 'slope', 'intercept']]"
   ]
  },
  {
   "cell_type": "code",
   "execution_count": 271,
   "metadata": {},
   "outputs": [
    {
     "name": "stderr",
     "output_type": "stream",
     "text": [
      "/home/jiaz/anaconda3/lib/python3.6/site-packages/lightgbm/basic.py:1186: UserWarning: Using categorical_feature in Dataset.\n",
      "  warnings.warn('Using categorical_feature in Dataset.')\n"
     ]
    },
    {
     "name": "stdout",
     "output_type": "stream",
     "text": [
      "[200]\tcv_agg's rmse: 3.67556 + 0.029498\n",
      "[400]\tcv_agg's rmse: 3.65433 + 0.0286206\n",
      "[600]\tcv_agg's rmse: 3.64657 + 0.0275777\n",
      "[800]\tcv_agg's rmse: 3.64404 + 0.0266343\n",
      "[1000]\tcv_agg's rmse: 3.64262 + 0.0261078\n",
      "[1200]\tcv_agg's rmse: 3.64226 + 0.0254748\n",
      "[1400]\tcv_agg's rmse: 3.64237 + 0.0249391\n",
      "[1600]\tcv_agg's rmse: 3.64239 + 0.0243592\n",
      "[1800]\tcv_agg's rmse: 3.64283 + 0.0239157\n",
      "Best cv scores 3.642215382334598 + 0.025350029933421017\n",
      "Num of boost: 1249\n"
     ]
    }
   ],
   "source": [
    "get_cv(feats)"
   ]
  },
  {
   "cell_type": "markdown",
   "metadata": {},
   "source": [
    "### auth_split purchase amount (no effect)"
   ]
  },
  {
   "cell_type": "code",
   "execution_count": 267,
   "metadata": {},
   "outputs": [],
   "source": [
    "auth_trans = hist_trans[hist_trans.authorized_flag == 1]\n",
    "unauth_trans = hist_trans[hist_trans.authorized_flag == 0]"
   ]
  },
  {
   "cell_type": "code",
   "execution_count": 272,
   "metadata": {},
   "outputs": [],
   "source": [
    "auth_pur_amount_stats = auth_trans.groupby('card_id').agg({\n",
    "    'purchase_amount': ['min', 'max', 'mean', 'sum', 'std']\n",
    "})\n",
    "reset_cols(auth_pur_amount_stats, 'auth')"
   ]
  },
  {
   "cell_type": "code",
   "execution_count": 273,
   "metadata": {},
   "outputs": [],
   "source": [
    "unauth_pur_amount_stats = unauth_trans.groupby('card_id').agg({\n",
    "    'purchase_amount': ['min', 'max', 'mean', 'sum', 'std']\n",
    "})\n",
    "reset_cols(unauth_pur_amount_stats, 'unauth')"
   ]
  },
  {
   "cell_type": "code",
   "execution_count": 274,
   "metadata": {},
   "outputs": [],
   "source": [
    "train = train.join(auth_pur_amount_stats, on='card_id')\n",
    "train = train.join(unauth_pur_amount_stats, on='card_id')"
   ]
  },
  {
   "cell_type": "code",
   "execution_count": 278,
   "metadata": {},
   "outputs": [],
   "source": [
    "exclude_feats += auth_pur_amount_stats.columns.tolist()\n",
    "exclude_feats += unauth_pur_amount_stats.columns.tolist()\n",
    "exclude_feats += ['hist_category_2_nunique', 'new_category_2_nunique', 'slope', 'intercept']"
   ]
  },
  {
   "cell_type": "code",
   "execution_count": 279,
   "metadata": {},
   "outputs": [],
   "source": [
    "feats = [col for col in train.columns if col not in exclude_feats]"
   ]
  },
  {
   "cell_type": "code",
   "execution_count": 276,
   "metadata": {},
   "outputs": [],
   "source": [
    "feats = [col for col in feats if col not in ['hist_category_2_nunique', 'new_category_2_nunique', 'slope', 'intercept']]"
   ]
  },
  {
   "cell_type": "code",
   "execution_count": 289,
   "metadata": {},
   "outputs": [],
   "source": [
    "param = {'num_leaves': 31,\n",
    "         'min_data_in_leaf': 20, \n",
    "         'objective':'regression',\n",
    "         'max_depth': -1,\n",
    "         'learning_rate': 0.01,\n",
    "         \"boosting\": \"gbdt\",\n",
    "         \"feature_fraction\": 0.8,\n",
    "         \"bagging_freq\": 1,\n",
    "         \"bagging_fraction\": 0.8,\n",
    "         \"metric\": 'rmse',\n",
    "         \"lambda_l2\": 1.0,\n",
    "         \"nthread\": 32,\n",
    "}"
   ]
  },
  {
   "cell_type": "code",
   "execution_count": 288,
   "metadata": {},
   "outputs": [
    {
     "name": "stdout",
     "output_type": "stream",
     "text": [
      "[200]\tcv_agg's rmse: 3.67537 + 0.0299077\n",
      "[400]\tcv_agg's rmse: 3.65439 + 0.0284317\n",
      "[600]\tcv_agg's rmse: 3.64673 + 0.027161\n",
      "[800]\tcv_agg's rmse: 3.644 + 0.0262374\n",
      "[1000]\tcv_agg's rmse: 3.6429 + 0.0257288\n",
      "[1200]\tcv_agg's rmse: 3.64231 + 0.0251444\n",
      "[1400]\tcv_agg's rmse: 3.64254 + 0.0248431\n",
      "[1600]\tcv_agg's rmse: 3.64273 + 0.024317\n",
      "Best cv scores 3.6422854682176378 + 0.025188426476119057\n",
      "Num of boost: 1190\n"
     ]
    }
   ],
   "source": [
    "get_cv(feats)"
   ]
  },
  {
   "cell_type": "markdown",
   "metadata": {},
   "source": [
    "### auth_split category_1 (no effect)"
   ]
  },
  {
   "cell_type": "code",
   "execution_count": 290,
   "metadata": {},
   "outputs": [],
   "source": [
    "auth_category_1_stats = auth_trans.groupby('card_id').agg({\n",
    "    'category_1': ['sum', 'mean']\n",
    "})\n",
    "reset_cols(auth_category_1_stats, 'auth')"
   ]
  },
  {
   "cell_type": "code",
   "execution_count": 291,
   "metadata": {},
   "outputs": [],
   "source": [
    "unauth_category_1_stats = unauth_trans.groupby('card_id').agg({\n",
    "    'category_1': ['sum', 'mean']\n",
    "})\n",
    "reset_cols(unauth_category_1_stats, 'unauth')"
   ]
  },
  {
   "cell_type": "code",
   "execution_count": 292,
   "metadata": {},
   "outputs": [],
   "source": [
    "train = train.join(auth_category_1_stats, on='card_id')\n",
    "train = train.join(unauth_category_1_stats, on='card_id')"
   ]
  },
  {
   "cell_type": "code",
   "execution_count": 297,
   "metadata": {},
   "outputs": [],
   "source": [
    "exclude_feats += auth_category_1_stats.columns.tolist()\n",
    "exclude_feats += unauth_category_1_stats.columns.tolist()"
   ]
  },
  {
   "cell_type": "code",
   "execution_count": 279,
   "metadata": {},
   "outputs": [],
   "source": [
    "feats = [col for col in train.columns if col not in exclude_feats]"
   ]
  },
  {
   "cell_type": "code",
   "execution_count": 293,
   "metadata": {},
   "outputs": [
    {
     "name": "stderr",
     "output_type": "stream",
     "text": [
      "/home/jiaz/anaconda3/lib/python3.6/site-packages/lightgbm/basic.py:1186: UserWarning: Using categorical_feature in Dataset.\n",
      "  warnings.warn('Using categorical_feature in Dataset.')\n"
     ]
    },
    {
     "name": "stdout",
     "output_type": "stream",
     "text": [
      "[200]\tcv_agg's rmse: 3.67648 + 0.0290966\n",
      "[400]\tcv_agg's rmse: 3.65553 + 0.0281392\n",
      "[600]\tcv_agg's rmse: 3.64826 + 0.0272128\n",
      "[800]\tcv_agg's rmse: 3.64567 + 0.0265311\n",
      "[1000]\tcv_agg's rmse: 3.64435 + 0.0259705\n",
      "[1200]\tcv_agg's rmse: 3.64402 + 0.0254622\n",
      "[1400]\tcv_agg's rmse: 3.64406 + 0.0251705\n",
      "[1600]\tcv_agg's rmse: 3.64424 + 0.0245112\n",
      "[1800]\tcv_agg's rmse: 3.64466 + 0.0240329\n",
      "Best cv scores 3.6438177857472467 + 0.02529878391728963\n",
      "Num of boost: 1249\n"
     ]
    }
   ],
   "source": [
    "get_cv(feats)"
   ]
  },
  {
   "cell_type": "markdown",
   "metadata": {},
   "source": [
    "### outlier encode (no effect)"
   ]
  },
  {
   "cell_type": "code",
   "execution_count": 295,
   "metadata": {},
   "outputs": [],
   "source": [
    "train['outlier'] = (train.target < -33).astype(int)"
   ]
  },
  {
   "cell_type": "code",
   "execution_count": 296,
   "metadata": {},
   "outputs": [],
   "source": [
    "for col in ['feature_1', 'feature_2', 'feature_3', 'active_month', 'active_year']:\n",
    "    encoder = train.groupby(col).outlier.mean()\n",
    "    train[col+'_outlier_ratio'] = train[col].map(encoder)"
   ]
  },
  {
   "cell_type": "code",
   "execution_count": 308,
   "metadata": {},
   "outputs": [],
   "source": [
    "# undo\n",
    "train.drop([col+'_outlier_ratio' for col in ['feature_1', 'feature_2', 'feature_3', 'active_month', 'active_year']], axis=1, inplace=True)"
   ]
  },
  {
   "cell_type": "code",
   "execution_count": 298,
   "metadata": {},
   "outputs": [],
   "source": [
    "feats = [col for col in train.columns if col not in exclude_feats]"
   ]
  },
  {
   "cell_type": "code",
   "execution_count": 299,
   "metadata": {},
   "outputs": [
    {
     "name": "stderr",
     "output_type": "stream",
     "text": [
      "/home/jiaz/anaconda3/lib/python3.6/site-packages/lightgbm/basic.py:1186: UserWarning: Using categorical_feature in Dataset.\n",
      "  warnings.warn('Using categorical_feature in Dataset.')\n"
     ]
    },
    {
     "name": "stdout",
     "output_type": "stream",
     "text": [
      "[200]\tcv_agg's rmse: 3.67684 + 0.0294304\n",
      "[400]\tcv_agg's rmse: 3.65518 + 0.0279487\n",
      "[600]\tcv_agg's rmse: 3.64758 + 0.0266749\n",
      "[800]\tcv_agg's rmse: 3.64488 + 0.0263195\n",
      "[1000]\tcv_agg's rmse: 3.64389 + 0.0255278\n",
      "[1200]\tcv_agg's rmse: 3.64339 + 0.0250192\n",
      "[1400]\tcv_agg's rmse: 3.64309 + 0.0242173\n",
      "[1600]\tcv_agg's rmse: 3.64283 + 0.0239588\n",
      "[1800]\tcv_agg's rmse: 3.64331 + 0.0238594\n",
      "[2000]\tcv_agg's rmse: 3.6437 + 0.0235672\n",
      "Best cv scores 3.6427684649124634 + 0.024046576239138282\n",
      "Num of boost: 1590\n"
     ]
    }
   ],
   "source": [
    "get_cv(feats)"
   ]
  },
  {
   "cell_type": "markdown",
   "metadata": {},
   "source": [
    "### target encode (no effect)"
   ]
  },
  {
   "cell_type": "code",
   "execution_count": 300,
   "metadata": {},
   "outputs": [],
   "source": [
    "for col in ['feature_1', 'feature_2', 'feature_3', 'active_month', 'active_year']:\n",
    "    encoder = train.groupby(col).target.mean()\n",
    "    train[col+'_target_mean'] = train[col].map(encoder)"
   ]
  },
  {
   "cell_type": "code",
   "execution_count": 309,
   "metadata": {},
   "outputs": [],
   "source": [
    "# undo\n",
    "train.drop([col+'_target_mean' for col in ['feature_1', 'feature_2', 'feature_3', 'active_month', 'active_year']], axis=1, inplace=True)"
   ]
  },
  {
   "cell_type": "code",
   "execution_count": 310,
   "metadata": {},
   "outputs": [],
   "source": [
    "feats = [col for col in train.columns if col not in exclude_feats]"
   ]
  },
  {
   "cell_type": "code",
   "execution_count": 312,
   "metadata": {},
   "outputs": [
    {
     "name": "stdout",
     "output_type": "stream",
     "text": [
      "[200]\tcv_agg's rmse: 3.67708 + 0.0298926\n",
      "[400]\tcv_agg's rmse: 3.65575 + 0.0281684\n",
      "[600]\tcv_agg's rmse: 3.64822 + 0.0268817\n",
      "[800]\tcv_agg's rmse: 3.64558 + 0.0259915\n",
      "[1000]\tcv_agg's rmse: 3.64414 + 0.0255101\n",
      "[1200]\tcv_agg's rmse: 3.6438 + 0.0245959\n",
      "[1400]\tcv_agg's rmse: 3.64349 + 0.0238464\n",
      "[1600]\tcv_agg's rmse: 3.64336 + 0.0234687\n",
      "[1800]\tcv_agg's rmse: 3.64365 + 0.0231645\n",
      "[2000]\tcv_agg's rmse: 3.64391 + 0.0225009\n",
      "Best cv scores 3.643109598982195 + 0.023542730767033074\n",
      "Num of boost: 1515\n"
     ]
    }
   ],
   "source": [
    "get_cv(feats)"
   ]
  },
  {
   "cell_type": "code",
   "execution_count": 316,
   "metadata": {},
   "outputs": [],
   "source": [
    "exclude_feats += ['outlier']"
   ]
  },
  {
   "cell_type": "markdown",
   "metadata": {},
   "source": [
    "### feature selection"
   ]
  },
  {
   "cell_type": "code",
   "execution_count": 319,
   "metadata": {},
   "outputs": [],
   "source": [
    "feats = [col for col in train.columns if col not in exclude_feats]"
   ]
  },
  {
   "cell_type": "code",
   "execution_count": 320,
   "metadata": {},
   "outputs": [],
   "source": [
    "tr_data = lgb.Dataset(train[feats], label=train.target, categorical_feature=cat_feats)"
   ]
  },
  {
   "cell_type": "code",
   "execution_count": 321,
   "metadata": {},
   "outputs": [
    {
     "name": "stderr",
     "output_type": "stream",
     "text": [
      "/home/jiaz/anaconda3/lib/python3.6/site-packages/lightgbm/basic.py:1186: UserWarning: Using categorical_feature in Dataset.\n",
      "  warnings.warn('Using categorical_feature in Dataset.')\n"
     ]
    },
    {
     "name": "stdout",
     "output_type": "stream",
     "text": [
      "[100]\ttraining's rmse: 3.66121\n",
      "[200]\ttraining's rmse: 3.58124\n",
      "[300]\ttraining's rmse: 3.53113\n",
      "[400]\ttraining's rmse: 3.49416\n",
      "[500]\ttraining's rmse: 3.46508\n",
      "[600]\ttraining's rmse: 3.43891\n",
      "[700]\ttraining's rmse: 3.41756\n",
      "[800]\ttraining's rmse: 3.39729\n",
      "[900]\ttraining's rmse: 3.37959\n",
      "[1000]\ttraining's rmse: 3.36172\n",
      "[1100]\ttraining's rmse: 3.34502\n",
      "[1200]\ttraining's rmse: 3.32702\n",
      "[1300]\ttraining's rmse: 3.31078\n"
     ]
    }
   ],
   "source": [
    "reg = lgb.train(param, tr_data, 1300, valid_sets=(tr_data), verbose_eval=100)"
   ]
  },
  {
   "cell_type": "code",
   "execution_count": 322,
   "metadata": {},
   "outputs": [],
   "source": [
    "imp_df = pd.DataFrame({\n",
    "    'features': feats,\n",
    "    'split': reg.feature_importance('split'),\n",
    "    'gain': reg.feature_importance('gain')\n",
    "})"
   ]
  },
  {
   "cell_type": "code",
   "execution_count": 325,
   "metadata": {},
   "outputs": [
    {
     "data": {
      "text/html": [
       "<div>\n",
       "<style scoped>\n",
       "    .dataframe tbody tr th:only-of-type {\n",
       "        vertical-align: middle;\n",
       "    }\n",
       "\n",
       "    .dataframe tbody tr th {\n",
       "        vertical-align: top;\n",
       "    }\n",
       "\n",
       "    .dataframe thead th {\n",
       "        text-align: right;\n",
       "    }\n",
       "</style>\n",
       "<table border=\"1\" class=\"dataframe\">\n",
       "  <thead>\n",
       "    <tr style=\"text-align: right;\">\n",
       "      <th></th>\n",
       "      <th>features</th>\n",
       "      <th>split</th>\n",
       "      <th>gain</th>\n",
       "    </tr>\n",
       "  </thead>\n",
       "  <tbody>\n",
       "    <tr>\n",
       "      <th>3</th>\n",
       "      <td>ref_anchor_diff</td>\n",
       "      <td>1714</td>\n",
       "      <td>3.315809e+06</td>\n",
       "    </tr>\n",
       "    <tr>\n",
       "      <th>14</th>\n",
       "      <td>new_pur_ref_diff_max</td>\n",
       "      <td>941</td>\n",
       "      <td>1.565326e+06</td>\n",
       "    </tr>\n",
       "    <tr>\n",
       "      <th>42</th>\n",
       "      <td>new_purchase_amount0_sum</td>\n",
       "      <td>894</td>\n",
       "      <td>1.195613e+06</td>\n",
       "    </tr>\n",
       "    <tr>\n",
       "      <th>60</th>\n",
       "      <td>authorized_flag_mean</td>\n",
       "      <td>743</td>\n",
       "      <td>5.914505e+05</td>\n",
       "    </tr>\n",
       "    <tr>\n",
       "      <th>4</th>\n",
       "      <td>active_ref_diff</td>\n",
       "      <td>729</td>\n",
       "      <td>4.608616e+05</td>\n",
       "    </tr>\n",
       "  </tbody>\n",
       "</table>\n",
       "</div>"
      ],
      "text/plain": [
       "                    features  split          gain\n",
       "3            ref_anchor_diff   1714  3.315809e+06\n",
       "14      new_pur_ref_diff_max    941  1.565326e+06\n",
       "42  new_purchase_amount0_sum    894  1.195613e+06\n",
       "60      authorized_flag_mean    743  5.914505e+05\n",
       "4            active_ref_diff    729  4.608616e+05"
      ]
     },
     "execution_count": 325,
     "metadata": {},
     "output_type": "execute_result"
    }
   ],
   "source": [
    "imp_df.sort_values('split', ascending=False).head()"
   ]
  },
  {
   "cell_type": "code",
   "execution_count": 327,
   "metadata": {},
   "outputs": [
    {
     "data": {
      "text/plain": [
       "(155, 3)"
      ]
     },
     "execution_count": 327,
     "metadata": {},
     "output_type": "execute_result"
    }
   ],
   "source": [
    "imp_df.shape"
   ]
  },
  {
   "cell_type": "code",
   "execution_count": 330,
   "metadata": {},
   "outputs": [],
   "source": [
    "imp_feats = imp_df.sort_values('split', ascending=False).head(100).features.tolist()"
   ]
  },
  {
   "cell_type": "code",
   "execution_count": 332,
   "metadata": {},
   "outputs": [
    {
     "name": "stderr",
     "output_type": "stream",
     "text": [
      "/home/jiaz/anaconda3/lib/python3.6/site-packages/lightgbm/basic.py:1186: UserWarning: Using categorical_feature in Dataset.\n",
      "  warnings.warn('Using categorical_feature in Dataset.')\n"
     ]
    },
    {
     "name": "stdout",
     "output_type": "stream",
     "text": [
      "[200]\tcv_agg's rmse: 3.67795 + 0.0292643\n",
      "[400]\tcv_agg's rmse: 3.65664 + 0.028818\n",
      "[600]\tcv_agg's rmse: 3.64931 + 0.0279393\n",
      "[800]\tcv_agg's rmse: 3.64585 + 0.027078\n",
      "[1000]\tcv_agg's rmse: 3.64448 + 0.0266677\n",
      "[1200]\tcv_agg's rmse: 3.64395 + 0.0260567\n",
      "[1400]\tcv_agg's rmse: 3.64387 + 0.0256911\n",
      "[1600]\tcv_agg's rmse: 3.64395 + 0.0255697\n",
      "[1800]\tcv_agg's rmse: 3.64419 + 0.0249797\n",
      "[2000]\tcv_agg's rmse: 3.64424 + 0.0244675\n",
      "Best cv scores 3.6438063612403213 + 0.025471497683094528\n",
      "Num of boost: 1515\n"
     ]
    }
   ],
   "source": [
    "get_cv(imp_feats)"
   ]
  },
  {
   "cell_type": "code",
   "execution_count": 348,
   "metadata": {},
   "outputs": [],
   "source": [
    "imp_feats = imp_df.sort_values('split', ascending=False).head(50).features.tolist()"
   ]
  },
  {
   "cell_type": "code",
   "execution_count": 349,
   "metadata": {},
   "outputs": [],
   "source": [
    "imp_feats += cat_feats"
   ]
  },
  {
   "cell_type": "code",
   "execution_count": 344,
   "metadata": {
    "scrolled": true
   },
   "outputs": [
    {
     "name": "stderr",
     "output_type": "stream",
     "text": [
      "/home/jiaz/anaconda3/lib/python3.6/site-packages/lightgbm/basic.py:1186: UserWarning: Using categorical_feature in Dataset.\n",
      "  warnings.warn('Using categorical_feature in Dataset.')\n"
     ]
    },
    {
     "name": "stdout",
     "output_type": "stream",
     "text": [
      "[200]\tcv_agg's rmse: 3.67583 + 0.03035\n",
      "[400]\tcv_agg's rmse: 3.65456 + 0.029149\n",
      "[600]\tcv_agg's rmse: 3.64752 + 0.02793\n",
      "[800]\tcv_agg's rmse: 3.64496 + 0.0273282\n",
      "[1000]\tcv_agg's rmse: 3.64352 + 0.0270327\n",
      "[1200]\tcv_agg's rmse: 3.6431 + 0.0263975\n",
      "[1400]\tcv_agg's rmse: 3.64341 + 0.02608\n",
      "[1600]\tcv_agg's rmse: 3.6437 + 0.0257643\n",
      "Best cv scores 3.6429845723901932 + 0.026436267046196248\n",
      "Num of boost: 1165\n"
     ]
    }
   ],
   "source": [
    "get_cv(imp_feats)"
   ]
  },
  {
   "cell_type": "code",
   "execution_count": null,
   "metadata": {},
   "outputs": [],
   "source": []
  },
  {
   "cell_type": "code",
   "execution_count": 366,
   "metadata": {},
   "outputs": [],
   "source": [
    "feats = [col for col in train.columns if col not in exclude_feats]"
   ]
  },
  {
   "cell_type": "code",
   "execution_count": 369,
   "metadata": {},
   "outputs": [
    {
     "data": {
      "text/plain": [
       "(201917, 179)"
      ]
     },
     "execution_count": 369,
     "metadata": {},
     "output_type": "execute_result"
    }
   ],
   "source": [
    "train.shape"
   ]
  },
  {
   "cell_type": "code",
   "execution_count": 370,
   "metadata": {},
   "outputs": [],
   "source": [
    "train.to_pickle('train179.pickle')"
   ]
  },
  {
   "cell_type": "code",
   "execution_count": 371,
   "metadata": {},
   "outputs": [],
   "source": [
    "import pickle"
   ]
  },
  {
   "cell_type": "code",
   "execution_count": 373,
   "metadata": {},
   "outputs": [],
   "source": [
    "with open('feats179.pickle', 'wb') as f:\n",
    "    pickle.dump(feats, f)"
   ]
  },
  {
   "cell_type": "code",
   "execution_count": 374,
   "metadata": {},
   "outputs": [],
   "source": [
    "with open('exclude_feats179.pickle', 'wb') as f:\n",
    "    pickle.dump(exclude_feats, f)"
   ]
  },
  {
   "cell_type": "code",
   "execution_count": null,
   "metadata": {},
   "outputs": [],
   "source": []
  },
  {
   "cell_type": "code",
   "execution_count": null,
   "metadata": {},
   "outputs": [],
   "source": []
  },
  {
   "cell_type": "code",
   "execution_count": 21,
   "metadata": {},
   "outputs": [],
   "source": [
    "new_trans['purchase_amount_is_int'] = new_trans.purchase_amount_new.apply(lambda x: x == np.round(x))"
   ]
  },
  {
   "cell_type": "code",
   "execution_count": 22,
   "metadata": {},
   "outputs": [
    {
     "data": {
      "text/plain": [
       "False    1122934\n",
       "True      840097\n",
       "Name: purchase_amount_is_int, dtype: int64"
      ]
     },
     "execution_count": 22,
     "metadata": {},
     "output_type": "execute_result"
    }
   ],
   "source": [
    "new_trans.purchase_amount_is_int.value_counts()"
   ]
  },
  {
   "cell_type": "code",
   "execution_count": 19,
   "metadata": {},
   "outputs": [],
   "source": [
    "new_trans['purchase_amount_new'] = np.round(new_trans['purchase_amount'] / 0.00150265118 + 497.06,2)"
   ]
  },
  {
   "cell_type": "code",
   "execution_count": 20,
   "metadata": {},
   "outputs": [
    {
     "data": {
      "text/html": [
       "<div>\n",
       "<style scoped>\n",
       "    .dataframe tbody tr th:only-of-type {\n",
       "        vertical-align: middle;\n",
       "    }\n",
       "\n",
       "    .dataframe tbody tr th {\n",
       "        vertical-align: top;\n",
       "    }\n",
       "\n",
       "    .dataframe thead th {\n",
       "        text-align: right;\n",
       "    }\n",
       "</style>\n",
       "<table border=\"1\" class=\"dataframe\">\n",
       "  <thead>\n",
       "    <tr style=\"text-align: right;\">\n",
       "      <th></th>\n",
       "      <th>authorized_flag</th>\n",
       "      <th>card_id</th>\n",
       "      <th>city_id</th>\n",
       "      <th>category_1</th>\n",
       "      <th>installments</th>\n",
       "      <th>category_3</th>\n",
       "      <th>merchant_category_id</th>\n",
       "      <th>merchant_id</th>\n",
       "      <th>month_lag</th>\n",
       "      <th>purchase_amount</th>\n",
       "      <th>purchase_date</th>\n",
       "      <th>category_2</th>\n",
       "      <th>state_id</th>\n",
       "      <th>subsector_id</th>\n",
       "      <th>purchase_amount_is_int</th>\n",
       "      <th>purchase_amount_new</th>\n",
       "    </tr>\n",
       "  </thead>\n",
       "  <tbody>\n",
       "    <tr>\n",
       "      <th>0</th>\n",
       "      <td>Y</td>\n",
       "      <td>C_ID_415bb3a509</td>\n",
       "      <td>107</td>\n",
       "      <td>N</td>\n",
       "      <td>1</td>\n",
       "      <td>B</td>\n",
       "      <td>307</td>\n",
       "      <td>M_ID_b0c793002c</td>\n",
       "      <td>1</td>\n",
       "      <td>-0.557574</td>\n",
       "      <td>2018-03-11 14:57:36</td>\n",
       "      <td>1.0</td>\n",
       "      <td>9</td>\n",
       "      <td>19</td>\n",
       "      <td>False</td>\n",
       "      <td>126.00</td>\n",
       "    </tr>\n",
       "    <tr>\n",
       "      <th>1</th>\n",
       "      <td>Y</td>\n",
       "      <td>C_ID_415bb3a509</td>\n",
       "      <td>140</td>\n",
       "      <td>N</td>\n",
       "      <td>1</td>\n",
       "      <td>B</td>\n",
       "      <td>307</td>\n",
       "      <td>M_ID_88920c89e8</td>\n",
       "      <td>1</td>\n",
       "      <td>-0.569580</td>\n",
       "      <td>2018-03-19 18:53:37</td>\n",
       "      <td>1.0</td>\n",
       "      <td>9</td>\n",
       "      <td>19</td>\n",
       "      <td>False</td>\n",
       "      <td>118.01</td>\n",
       "    </tr>\n",
       "    <tr>\n",
       "      <th>2</th>\n",
       "      <td>Y</td>\n",
       "      <td>C_ID_415bb3a509</td>\n",
       "      <td>330</td>\n",
       "      <td>N</td>\n",
       "      <td>1</td>\n",
       "      <td>B</td>\n",
       "      <td>507</td>\n",
       "      <td>M_ID_ad5237ef6b</td>\n",
       "      <td>2</td>\n",
       "      <td>-0.551037</td>\n",
       "      <td>2018-04-26 14:08:44</td>\n",
       "      <td>1.0</td>\n",
       "      <td>9</td>\n",
       "      <td>14</td>\n",
       "      <td>False</td>\n",
       "      <td>130.35</td>\n",
       "    </tr>\n",
       "    <tr>\n",
       "      <th>3</th>\n",
       "      <td>Y</td>\n",
       "      <td>C_ID_415bb3a509</td>\n",
       "      <td>-1</td>\n",
       "      <td>Y</td>\n",
       "      <td>1</td>\n",
       "      <td>B</td>\n",
       "      <td>661</td>\n",
       "      <td>M_ID_9e84cda3b1</td>\n",
       "      <td>1</td>\n",
       "      <td>-0.671925</td>\n",
       "      <td>2018-03-07 09:43:21</td>\n",
       "      <td>NaN</td>\n",
       "      <td>-1</td>\n",
       "      <td>8</td>\n",
       "      <td>False</td>\n",
       "      <td>49.90</td>\n",
       "    </tr>\n",
       "    <tr>\n",
       "      <th>4</th>\n",
       "      <td>Y</td>\n",
       "      <td>C_ID_ef55cf8d4b</td>\n",
       "      <td>-1</td>\n",
       "      <td>Y</td>\n",
       "      <td>1</td>\n",
       "      <td>B</td>\n",
       "      <td>166</td>\n",
       "      <td>M_ID_3c86fa3831</td>\n",
       "      <td>1</td>\n",
       "      <td>-0.659904</td>\n",
       "      <td>2018-03-22 21:07:53</td>\n",
       "      <td>NaN</td>\n",
       "      <td>-1</td>\n",
       "      <td>29</td>\n",
       "      <td>False</td>\n",
       "      <td>57.90</td>\n",
       "    </tr>\n",
       "  </tbody>\n",
       "</table>\n",
       "</div>"
      ],
      "text/plain": [
       "  authorized_flag          card_id  city_id category_1  installments  \\\n",
       "0               Y  C_ID_415bb3a509      107          N             1   \n",
       "1               Y  C_ID_415bb3a509      140          N             1   \n",
       "2               Y  C_ID_415bb3a509      330          N             1   \n",
       "3               Y  C_ID_415bb3a509       -1          Y             1   \n",
       "4               Y  C_ID_ef55cf8d4b       -1          Y             1   \n",
       "\n",
       "  category_3  merchant_category_id      merchant_id  month_lag  \\\n",
       "0          B                   307  M_ID_b0c793002c          1   \n",
       "1          B                   307  M_ID_88920c89e8          1   \n",
       "2          B                   507  M_ID_ad5237ef6b          2   \n",
       "3          B                   661  M_ID_9e84cda3b1          1   \n",
       "4          B                   166  M_ID_3c86fa3831          1   \n",
       "\n",
       "   purchase_amount       purchase_date  category_2  state_id  subsector_id  \\\n",
       "0        -0.557574 2018-03-11 14:57:36         1.0         9            19   \n",
       "1        -0.569580 2018-03-19 18:53:37         1.0         9            19   \n",
       "2        -0.551037 2018-04-26 14:08:44         1.0         9            14   \n",
       "3        -0.671925 2018-03-07 09:43:21         NaN        -1             8   \n",
       "4        -0.659904 2018-03-22 21:07:53         NaN        -1            29   \n",
       "\n",
       "   purchase_amount_is_int  purchase_amount_new  \n",
       "0                   False               126.00  \n",
       "1                   False               118.01  \n",
       "2                   False               130.35  \n",
       "3                   False                49.90  \n",
       "4                   False                57.90  "
      ]
     },
     "execution_count": 20,
     "metadata": {},
     "output_type": "execute_result"
    }
   ],
   "source": [
    "new_trans.head()"
   ]
  },
  {
   "cell_type": "code",
   "execution_count": 24,
   "metadata": {},
   "outputs": [
    {
     "data": {
      "text/plain": [
       "(0.01, 175625.86)"
      ]
     },
     "execution_count": 24,
     "metadata": {},
     "output_type": "execute_result"
    }
   ],
   "source": [
    "new_trans.purchase_amount_new.min(), new_trans.purchase_amount_new.max()"
   ]
  },
  {
   "cell_type": "code",
   "execution_count": 28,
   "metadata": {},
   "outputs": [
    {
     "data": {
      "image/png": "[encoded data removed]",
      "text/plain": [
       "<Figure size 432x288 with 1 Axes>"
      ]
     },
     "metadata": {
      "needs_background": "light"
     },
     "output_type": "display_data"
    }
   ],
   "source": [
    "plt.hist(new_trans.purchase_amount_new)\n",
    "plt.yscale('log')"
   ]
  },
  {
   "cell_type": "code",
   "execution_count": null,
   "metadata": {},
   "outputs": [],
   "source": [
    "train['target_new'] = "
   ]
  },
  {
   "cell_type": "code",
   "execution_count": 34,
   "metadata": {},
   "outputs": [
    {
     "data": {
      "text/plain": [
       "-33.219280948873624"
      ]
     },
     "execution_count": 34,
     "metadata": {},
     "output_type": "execute_result"
    }
   ],
   "source": [
    "-np.log2(10)*10"
   ]
  },
  {
   "cell_type": "code",
   "execution_count": 36,
   "metadata": {},
   "outputs": [
    {
     "data": {
      "text/plain": [
       "-10.0"
      ]
     },
     "execution_count": 36,
     "metadata": {},
     "output_type": "execute_result"
    }
   ],
   "source": [
    "_34*np.log10(2)"
   ]
  },
  {
   "cell_type": "code",
   "execution_count": 35,
   "metadata": {},
   "outputs": [
    {
     "data": {
      "text/plain": [
       "1e-10"
      ]
     },
     "execution_count": 35,
     "metadata": {},
     "output_type": "execute_result"
    }
   ],
   "source": [
    "10**(_34*np.log10(2))"
   ]
  },
  {
   "cell_type": "code",
   "execution_count": 37,
   "metadata": {},
   "outputs": [
    {
     "data": {
      "text/plain": [
       "10.000000000000002"
      ]
     },
     "execution_count": 37,
     "metadata": {},
     "output_type": "execute_result"
    }
   ],
   "source": [
    "2**(_34 / -10)"
   ]
  },
  {
   "cell_type": "code",
   "execution_count": 38,
   "metadata": {},
   "outputs": [],
   "source": [
    "train['target_new'] = 10**(train['target']*np.log10(2))"
   ]
  },
  {
   "cell_type": "code",
   "execution_count": 40,
   "metadata": {},
   "outputs": [
    {
     "data": {
      "text/html": [
       "<div>\n",
       "<style scoped>\n",
       "    .dataframe tbody tr th:only-of-type {\n",
       "        vertical-align: middle;\n",
       "    }\n",
       "\n",
       "    .dataframe tbody tr th {\n",
       "        vertical-align: top;\n",
       "    }\n",
       "\n",
       "    .dataframe thead th {\n",
       "        text-align: right;\n",
       "    }\n",
       "</style>\n",
       "<table border=\"1\" class=\"dataframe\">\n",
       "  <thead>\n",
       "    <tr style=\"text-align: right;\">\n",
       "      <th></th>\n",
       "      <th>first_active_month</th>\n",
       "      <th>card_id</th>\n",
       "      <th>feature_1</th>\n",
       "      <th>feature_2</th>\n",
       "      <th>feature_3</th>\n",
       "      <th>target</th>\n",
       "      <th>target_new</th>\n",
       "    </tr>\n",
       "  </thead>\n",
       "  <tbody>\n",
       "    <tr>\n",
       "      <th>0</th>\n",
       "      <td>2017-06-01</td>\n",
       "      <td>C_ID_92a2005557</td>\n",
       "      <td>5</td>\n",
       "      <td>2</td>\n",
       "      <td>1</td>\n",
       "      <td>-0.820283</td>\n",
       "      <td>0.566331</td>\n",
       "    </tr>\n",
       "    <tr>\n",
       "      <th>1</th>\n",
       "      <td>2017-01-01</td>\n",
       "      <td>C_ID_3d0044924f</td>\n",
       "      <td>4</td>\n",
       "      <td>1</td>\n",
       "      <td>0</td>\n",
       "      <td>0.392913</td>\n",
       "      <td>1.313042</td>\n",
       "    </tr>\n",
       "    <tr>\n",
       "      <th>2</th>\n",
       "      <td>2016-08-01</td>\n",
       "      <td>C_ID_d639edf6cd</td>\n",
       "      <td>2</td>\n",
       "      <td>2</td>\n",
       "      <td>0</td>\n",
       "      <td>0.688056</td>\n",
       "      <td>1.611111</td>\n",
       "    </tr>\n",
       "    <tr>\n",
       "      <th>3</th>\n",
       "      <td>2017-09-01</td>\n",
       "      <td>C_ID_186d6a6901</td>\n",
       "      <td>4</td>\n",
       "      <td>3</td>\n",
       "      <td>0</td>\n",
       "      <td>0.142495</td>\n",
       "      <td>1.103813</td>\n",
       "    </tr>\n",
       "    <tr>\n",
       "      <th>4</th>\n",
       "      <td>2017-11-01</td>\n",
       "      <td>C_ID_cdbd2c0db2</td>\n",
       "      <td>1</td>\n",
       "      <td>3</td>\n",
       "      <td>0</td>\n",
       "      <td>-0.159749</td>\n",
       "      <td>0.895181</td>\n",
       "    </tr>\n",
       "  </tbody>\n",
       "</table>\n",
       "</div>"
      ],
      "text/plain": [
       "  first_active_month          card_id  feature_1  feature_2  feature_3  \\\n",
       "0         2017-06-01  C_ID_92a2005557          5          2          1   \n",
       "1         2017-01-01  C_ID_3d0044924f          4          1          0   \n",
       "2         2016-08-01  C_ID_d639edf6cd          2          2          0   \n",
       "3         2017-09-01  C_ID_186d6a6901          4          3          0   \n",
       "4         2017-11-01  C_ID_cdbd2c0db2          1          3          0   \n",
       "\n",
       "     target  target_new  \n",
       "0 -0.820283    0.566331  \n",
       "1  0.392913    1.313042  \n",
       "2  0.688056    1.611111  \n",
       "3  0.142495    1.103813  \n",
       "4 -0.159749    0.895181  "
      ]
     },
     "execution_count": 40,
     "metadata": {},
     "output_type": "execute_result"
    }
   ],
   "source": [
    "train.head()"
   ]
  },
  {
   "cell_type": "code",
   "execution_count": 41,
   "metadata": {},
   "outputs": [
    {
     "data": {
      "text/plain": [
       "(9.99999999219256e-11, 255873.00087254902)"
      ]
     },
     "execution_count": 41,
     "metadata": {},
     "output_type": "execute_result"
    }
   ],
   "source": [
    "train.target_new.min(), train.target_new.max()"
   ]
  },
  {
   "cell_type": "code",
   "execution_count": 42,
   "metadata": {},
   "outputs": [
    {
     "data": {
      "text/plain": [
       "(array([2.2070e+03, 0.0000e+00, 0.0000e+00, 0.0000e+00, 0.0000e+00,\n",
       "        0.0000e+00, 0.0000e+00, 0.0000e+00, 0.0000e+00, 0.0000e+00,\n",
       "        0.0000e+00, 0.0000e+00, 0.0000e+00, 0.0000e+00, 0.0000e+00,\n",
       "        4.0000e+00, 1.0000e+00, 6.0000e+00, 6.0000e+00, 8.0000e+00,\n",
       "        4.0000e+00, 1.4000e+01, 2.9000e+01, 5.0000e+01, 1.3500e+02,\n",
       "        2.5100e+02, 6.6600e+02, 1.4920e+03, 3.0540e+03, 6.7100e+03,\n",
       "        1.6108e+04, 4.0764e+04, 6.9713e+04, 3.6022e+04, 1.3775e+04,\n",
       "        5.9710e+03, 2.6400e+03, 1.2540e+03, 5.9500e+02, 2.5900e+02,\n",
       "        8.1000e+01, 4.4000e+01, 2.1000e+01, 1.3000e+01, 6.0000e+00,\n",
       "        6.0000e+00, 1.0000e+00, 4.0000e+00, 1.0000e+00, 2.0000e+00]),\n",
       " array([-33.21928095, -32.19559396, -31.17190698, -30.14821999,\n",
       "        -29.124533  , -28.10084601, -27.07715903, -26.05347204,\n",
       "        -25.02978505, -24.00609807, -22.98241108, -21.95872409,\n",
       "        -20.93503711, -19.91135012, -18.88766313, -17.86397614,\n",
       "        -16.84028916, -15.81660217, -14.79291518, -13.7692282 ,\n",
       "        -12.74554121, -11.72185422, -10.69816724,  -9.67448025,\n",
       "         -8.65079326,  -7.62710627,  -6.60341929,  -5.5797323 ,\n",
       "         -4.55604531,  -3.53235833,  -2.50867134,  -1.48498435,\n",
       "         -0.46129737,   0.56238962,   1.58607661,   2.6097636 ,\n",
       "          3.63345058,   4.65713757,   5.68082456,   6.70451154,\n",
       "          7.72819853,   8.75188552,   9.7755725 ,  10.79925949,\n",
       "         11.82294648,  12.84663347,  13.87032045,  14.89400744,\n",
       "         15.91769443,  16.94138141,  17.9650684 ]),\n",
       " <a list of 50 Patch objects>)"
      ]
     },
     "execution_count": 42,
     "metadata": {},
     "output_type": "execute_result"
    },
    {
     "data": {
      "image/png": "[encoded data removed]",
      "text/plain": [
       "<Figure size 432x288 with 1 Axes>"
      ]
     },
     "metadata": {
      "needs_background": "light"
     },
     "output_type": "display_data"
    }
   ],
   "source": [
    "plt.hist(train.target, bins=50)"
   ]
  },
  {
   "cell_type": "code",
   "execution_count": 44,
   "metadata": {},
   "outputs": [
    {
     "data": {
      "image/png": "[encoded data removed]",
      "text/plain": [
       "<Figure size 432x288 with 1 Axes>"
      ]
     },
     "metadata": {
      "needs_background": "light"
     },
     "output_type": "display_data"
    }
   ],
   "source": [
    "plt.hist(train.target_new, bins=50)\n",
    "plt.yscale('log')"
   ]
  },
  {
   "cell_type": "code",
   "execution_count": 57,
   "metadata": {},
   "outputs": [
    {
     "data": {
      "text/plain": [
       "(array([102678.,  58222.,  16313.,   7121.,   3879.,   2588.,   1801.,\n",
       "          1276.,    967.,    791.]),\n",
       " array([9.99999999e-11, 9.99999997e-01, 1.99999999e+00, 2.99999999e+00,\n",
       "        3.99999999e+00, 4.99999998e+00, 5.99999998e+00, 6.99999998e+00,\n",
       "        7.99999997e+00, 8.99999997e+00, 9.99999997e+00]),\n",
       " <a list of 10 Patch objects>)"
      ]
     },
     "execution_count": 57,
     "metadata": {},
     "output_type": "execute_result"
    },
    {
     "data": {
      "image/png": "[encoded data removed]",
      "text/plain": [
       "<Figure size 432x288 with 1 Axes>"
      ]
     },
     "metadata": {
      "needs_background": "light"
     },
     "output_type": "display_data"
    }
   ],
   "source": [
    "plt.hist(train[train.target_new < 10].target_new)\n",
    "#plt.yscale('log')"
   ]
  },
  {
   "cell_type": "code",
   "execution_count": 65,
   "metadata": {},
   "outputs": [
    {
     "data": {
      "text/html": [
       "<div>\n",
       "<style scoped>\n",
       "    .dataframe tbody tr th:only-of-type {\n",
       "        vertical-align: middle;\n",
       "    }\n",
       "\n",
       "    .dataframe tbody tr th {\n",
       "        vertical-align: top;\n",
       "    }\n",
       "\n",
       "    .dataframe thead th {\n",
       "        text-align: right;\n",
       "    }\n",
       "</style>\n",
       "<table border=\"1\" class=\"dataframe\">\n",
       "  <thead>\n",
       "    <tr style=\"text-align: right;\">\n",
       "      <th></th>\n",
       "      <th>first_active_month</th>\n",
       "      <th>card_id</th>\n",
       "      <th>feature_1</th>\n",
       "      <th>feature_2</th>\n",
       "      <th>feature_3</th>\n",
       "      <th>target</th>\n",
       "      <th>target_new</th>\n",
       "    </tr>\n",
       "  </thead>\n",
       "  <tbody>\n",
       "    <tr>\n",
       "      <th>64</th>\n",
       "      <td>2017-09-01</td>\n",
       "      <td>C_ID_8186f3fcc1</td>\n",
       "      <td>3</td>\n",
       "      <td>1</td>\n",
       "      <td>1</td>\n",
       "      <td>-33.219281</td>\n",
       "      <td>1.000000e-10</td>\n",
       "    </tr>\n",
       "    <tr>\n",
       "      <th>92</th>\n",
       "      <td>2015-05-01</td>\n",
       "      <td>C_ID_b9379a30ea</td>\n",
       "      <td>3</td>\n",
       "      <td>3</td>\n",
       "      <td>1</td>\n",
       "      <td>-33.219281</td>\n",
       "      <td>1.000000e-10</td>\n",
       "    </tr>\n",
       "    <tr>\n",
       "      <th>125</th>\n",
       "      <td>2015-10-01</td>\n",
       "      <td>C_ID_e9120f535c</td>\n",
       "      <td>3</td>\n",
       "      <td>3</td>\n",
       "      <td>1</td>\n",
       "      <td>-33.219281</td>\n",
       "      <td>1.000000e-10</td>\n",
       "    </tr>\n",
       "    <tr>\n",
       "      <th>151</th>\n",
       "      <td>2017-03-01</td>\n",
       "      <td>C_ID_65715cb80d</td>\n",
       "      <td>4</td>\n",
       "      <td>2</td>\n",
       "      <td>0</td>\n",
       "      <td>-33.219281</td>\n",
       "      <td>1.000000e-10</td>\n",
       "    </tr>\n",
       "    <tr>\n",
       "      <th>225</th>\n",
       "      <td>2017-01-01</td>\n",
       "      <td>C_ID_ae77d244b6</td>\n",
       "      <td>2</td>\n",
       "      <td>1</td>\n",
       "      <td>0</td>\n",
       "      <td>-33.219281</td>\n",
       "      <td>1.000000e-10</td>\n",
       "    </tr>\n",
       "    <tr>\n",
       "      <th>248</th>\n",
       "      <td>2015-07-01</td>\n",
       "      <td>C_ID_c4262c902e</td>\n",
       "      <td>5</td>\n",
       "      <td>1</td>\n",
       "      <td>1</td>\n",
       "      <td>-33.219281</td>\n",
       "      <td>1.000000e-10</td>\n",
       "    </tr>\n",
       "    <tr>\n",
       "      <th>254</th>\n",
       "      <td>2017-03-01</td>\n",
       "      <td>C_ID_6a2c823e5f</td>\n",
       "      <td>2</td>\n",
       "      <td>1</td>\n",
       "      <td>0</td>\n",
       "      <td>-33.219281</td>\n",
       "      <td>1.000000e-10</td>\n",
       "    </tr>\n",
       "    <tr>\n",
       "      <th>386</th>\n",
       "      <td>2017-06-01</td>\n",
       "      <td>C_ID_98e1cb10b6</td>\n",
       "      <td>2</td>\n",
       "      <td>3</td>\n",
       "      <td>0</td>\n",
       "      <td>-33.219281</td>\n",
       "      <td>1.000000e-10</td>\n",
       "    </tr>\n",
       "    <tr>\n",
       "      <th>467</th>\n",
       "      <td>2017-03-01</td>\n",
       "      <td>C_ID_eb8175721a</td>\n",
       "      <td>4</td>\n",
       "      <td>1</td>\n",
       "      <td>0</td>\n",
       "      <td>-33.219281</td>\n",
       "      <td>1.000000e-10</td>\n",
       "    </tr>\n",
       "    <tr>\n",
       "      <th>515</th>\n",
       "      <td>2016-04-01</td>\n",
       "      <td>C_ID_a2580006bf</td>\n",
       "      <td>4</td>\n",
       "      <td>2</td>\n",
       "      <td>0</td>\n",
       "      <td>-33.219281</td>\n",
       "      <td>1.000000e-10</td>\n",
       "    </tr>\n",
       "    <tr>\n",
       "      <th>566</th>\n",
       "      <td>2016-12-01</td>\n",
       "      <td>C_ID_2e49ece8b1</td>\n",
       "      <td>2</td>\n",
       "      <td>3</td>\n",
       "      <td>0</td>\n",
       "      <td>-33.219281</td>\n",
       "      <td>1.000000e-10</td>\n",
       "    </tr>\n",
       "    <tr>\n",
       "      <th>578</th>\n",
       "      <td>2016-04-01</td>\n",
       "      <td>C_ID_7efe2311b7</td>\n",
       "      <td>2</td>\n",
       "      <td>2</td>\n",
       "      <td>0</td>\n",
       "      <td>-33.219281</td>\n",
       "      <td>1.000000e-10</td>\n",
       "    </tr>\n",
       "    <tr>\n",
       "      <th>687</th>\n",
       "      <td>2015-12-01</td>\n",
       "      <td>C_ID_bae3e3f87c</td>\n",
       "      <td>2</td>\n",
       "      <td>2</td>\n",
       "      <td>0</td>\n",
       "      <td>-33.219281</td>\n",
       "      <td>1.000000e-10</td>\n",
       "    </tr>\n",
       "    <tr>\n",
       "      <th>761</th>\n",
       "      <td>2017-01-01</td>\n",
       "      <td>C_ID_e1844c986c</td>\n",
       "      <td>3</td>\n",
       "      <td>3</td>\n",
       "      <td>1</td>\n",
       "      <td>-33.219281</td>\n",
       "      <td>1.000000e-10</td>\n",
       "    </tr>\n",
       "    <tr>\n",
       "      <th>810</th>\n",
       "      <td>2016-02-01</td>\n",
       "      <td>C_ID_237b80978f</td>\n",
       "      <td>3</td>\n",
       "      <td>3</td>\n",
       "      <td>1</td>\n",
       "      <td>-33.219281</td>\n",
       "      <td>1.000000e-10</td>\n",
       "    </tr>\n",
       "    <tr>\n",
       "      <th>840</th>\n",
       "      <td>2016-07-01</td>\n",
       "      <td>C_ID_f96d46ff64</td>\n",
       "      <td>3</td>\n",
       "      <td>3</td>\n",
       "      <td>1</td>\n",
       "      <td>-33.219281</td>\n",
       "      <td>1.000000e-10</td>\n",
       "    </tr>\n",
       "    <tr>\n",
       "      <th>922</th>\n",
       "      <td>2013-12-01</td>\n",
       "      <td>C_ID_005799985c</td>\n",
       "      <td>3</td>\n",
       "      <td>3</td>\n",
       "      <td>1</td>\n",
       "      <td>-33.219281</td>\n",
       "      <td>1.000000e-10</td>\n",
       "    </tr>\n",
       "    <tr>\n",
       "      <th>925</th>\n",
       "      <td>2017-06-01</td>\n",
       "      <td>C_ID_962d44f420</td>\n",
       "      <td>3</td>\n",
       "      <td>1</td>\n",
       "      <td>1</td>\n",
       "      <td>-33.219281</td>\n",
       "      <td>1.000000e-10</td>\n",
       "    </tr>\n",
       "    <tr>\n",
       "      <th>1005</th>\n",
       "      <td>2017-07-01</td>\n",
       "      <td>C_ID_d93d15ab8e</td>\n",
       "      <td>2</td>\n",
       "      <td>1</td>\n",
       "      <td>0</td>\n",
       "      <td>-33.219281</td>\n",
       "      <td>1.000000e-10</td>\n",
       "    </tr>\n",
       "    <tr>\n",
       "      <th>1092</th>\n",
       "      <td>2017-07-01</td>\n",
       "      <td>C_ID_42d0ff3842</td>\n",
       "      <td>2</td>\n",
       "      <td>1</td>\n",
       "      <td>0</td>\n",
       "      <td>-33.219281</td>\n",
       "      <td>1.000000e-10</td>\n",
       "    </tr>\n",
       "    <tr>\n",
       "      <th>1153</th>\n",
       "      <td>2016-11-01</td>\n",
       "      <td>C_ID_404d0c0488</td>\n",
       "      <td>2</td>\n",
       "      <td>2</td>\n",
       "      <td>0</td>\n",
       "      <td>-33.219281</td>\n",
       "      <td>1.000000e-10</td>\n",
       "    </tr>\n",
       "    <tr>\n",
       "      <th>1571</th>\n",
       "      <td>2017-05-01</td>\n",
       "      <td>C_ID_5c99cb080c</td>\n",
       "      <td>5</td>\n",
       "      <td>1</td>\n",
       "      <td>1</td>\n",
       "      <td>-33.219281</td>\n",
       "      <td>1.000000e-10</td>\n",
       "    </tr>\n",
       "    <tr>\n",
       "      <th>1574</th>\n",
       "      <td>2016-10-01</td>\n",
       "      <td>C_ID_1dc14ac66a</td>\n",
       "      <td>4</td>\n",
       "      <td>2</td>\n",
       "      <td>0</td>\n",
       "      <td>-33.219281</td>\n",
       "      <td>1.000000e-10</td>\n",
       "    </tr>\n",
       "    <tr>\n",
       "      <th>1601</th>\n",
       "      <td>2016-11-01</td>\n",
       "      <td>C_ID_1e62ff489c</td>\n",
       "      <td>5</td>\n",
       "      <td>2</td>\n",
       "      <td>1</td>\n",
       "      <td>-33.219281</td>\n",
       "      <td>1.000000e-10</td>\n",
       "    </tr>\n",
       "    <tr>\n",
       "      <th>1769</th>\n",
       "      <td>2016-11-01</td>\n",
       "      <td>C_ID_2d8cf677c6</td>\n",
       "      <td>3</td>\n",
       "      <td>1</td>\n",
       "      <td>1</td>\n",
       "      <td>-33.219281</td>\n",
       "      <td>1.000000e-10</td>\n",
       "    </tr>\n",
       "    <tr>\n",
       "      <th>1849</th>\n",
       "      <td>2017-03-01</td>\n",
       "      <td>C_ID_b6f24b5e58</td>\n",
       "      <td>4</td>\n",
       "      <td>1</td>\n",
       "      <td>0</td>\n",
       "      <td>-33.219281</td>\n",
       "      <td>1.000000e-10</td>\n",
       "    </tr>\n",
       "    <tr>\n",
       "      <th>1893</th>\n",
       "      <td>2017-02-01</td>\n",
       "      <td>C_ID_c0120bdf0b</td>\n",
       "      <td>5</td>\n",
       "      <td>2</td>\n",
       "      <td>1</td>\n",
       "      <td>-33.219281</td>\n",
       "      <td>1.000000e-10</td>\n",
       "    </tr>\n",
       "    <tr>\n",
       "      <th>1909</th>\n",
       "      <td>2016-07-01</td>\n",
       "      <td>C_ID_19e7c999ad</td>\n",
       "      <td>5</td>\n",
       "      <td>1</td>\n",
       "      <td>1</td>\n",
       "      <td>-33.219281</td>\n",
       "      <td>1.000000e-10</td>\n",
       "    </tr>\n",
       "    <tr>\n",
       "      <th>1969</th>\n",
       "      <td>2017-06-01</td>\n",
       "      <td>C_ID_efc4226180</td>\n",
       "      <td>4</td>\n",
       "      <td>2</td>\n",
       "      <td>0</td>\n",
       "      <td>-33.219281</td>\n",
       "      <td>1.000000e-10</td>\n",
       "    </tr>\n",
       "    <tr>\n",
       "      <th>1974</th>\n",
       "      <td>2017-03-01</td>\n",
       "      <td>C_ID_4ae8415eae</td>\n",
       "      <td>5</td>\n",
       "      <td>2</td>\n",
       "      <td>1</td>\n",
       "      <td>-33.219281</td>\n",
       "      <td>1.000000e-10</td>\n",
       "    </tr>\n",
       "    <tr>\n",
       "      <th>...</th>\n",
       "      <td>...</td>\n",
       "      <td>...</td>\n",
       "      <td>...</td>\n",
       "      <td>...</td>\n",
       "      <td>...</td>\n",
       "      <td>...</td>\n",
       "      <td>...</td>\n",
       "    </tr>\n",
       "    <tr>\n",
       "      <th>199349</th>\n",
       "      <td>2016-08-01</td>\n",
       "      <td>C_ID_fe4d17480d</td>\n",
       "      <td>5</td>\n",
       "      <td>1</td>\n",
       "      <td>1</td>\n",
       "      <td>-33.219281</td>\n",
       "      <td>1.000000e-10</td>\n",
       "    </tr>\n",
       "    <tr>\n",
       "      <th>199453</th>\n",
       "      <td>2017-02-01</td>\n",
       "      <td>C_ID_c1232adbde</td>\n",
       "      <td>3</td>\n",
       "      <td>2</td>\n",
       "      <td>1</td>\n",
       "      <td>-33.219281</td>\n",
       "      <td>1.000000e-10</td>\n",
       "    </tr>\n",
       "    <tr>\n",
       "      <th>199480</th>\n",
       "      <td>2017-04-01</td>\n",
       "      <td>C_ID_de70600444</td>\n",
       "      <td>2</td>\n",
       "      <td>1</td>\n",
       "      <td>0</td>\n",
       "      <td>-33.219281</td>\n",
       "      <td>1.000000e-10</td>\n",
       "    </tr>\n",
       "    <tr>\n",
       "      <th>199504</th>\n",
       "      <td>2017-04-01</td>\n",
       "      <td>C_ID_533952e85c</td>\n",
       "      <td>3</td>\n",
       "      <td>3</td>\n",
       "      <td>1</td>\n",
       "      <td>-33.219281</td>\n",
       "      <td>1.000000e-10</td>\n",
       "    </tr>\n",
       "    <tr>\n",
       "      <th>199549</th>\n",
       "      <td>2016-11-01</td>\n",
       "      <td>C_ID_e56aaa2eb1</td>\n",
       "      <td>5</td>\n",
       "      <td>2</td>\n",
       "      <td>1</td>\n",
       "      <td>-33.219281</td>\n",
       "      <td>1.000000e-10</td>\n",
       "    </tr>\n",
       "    <tr>\n",
       "      <th>199748</th>\n",
       "      <td>2017-06-01</td>\n",
       "      <td>C_ID_65d6cc2c93</td>\n",
       "      <td>3</td>\n",
       "      <td>2</td>\n",
       "      <td>1</td>\n",
       "      <td>-33.219281</td>\n",
       "      <td>1.000000e-10</td>\n",
       "    </tr>\n",
       "    <tr>\n",
       "      <th>199767</th>\n",
       "      <td>2016-10-01</td>\n",
       "      <td>C_ID_664eb73bf1</td>\n",
       "      <td>2</td>\n",
       "      <td>1</td>\n",
       "      <td>0</td>\n",
       "      <td>-33.219281</td>\n",
       "      <td>1.000000e-10</td>\n",
       "    </tr>\n",
       "    <tr>\n",
       "      <th>199810</th>\n",
       "      <td>2012-11-01</td>\n",
       "      <td>C_ID_d9537fdfc0</td>\n",
       "      <td>3</td>\n",
       "      <td>3</td>\n",
       "      <td>1</td>\n",
       "      <td>-33.219281</td>\n",
       "      <td>1.000000e-10</td>\n",
       "    </tr>\n",
       "    <tr>\n",
       "      <th>199892</th>\n",
       "      <td>2017-05-01</td>\n",
       "      <td>C_ID_9643deae97</td>\n",
       "      <td>3</td>\n",
       "      <td>2</td>\n",
       "      <td>1</td>\n",
       "      <td>-33.219281</td>\n",
       "      <td>1.000000e-10</td>\n",
       "    </tr>\n",
       "    <tr>\n",
       "      <th>200029</th>\n",
       "      <td>2015-06-01</td>\n",
       "      <td>C_ID_277be25179</td>\n",
       "      <td>5</td>\n",
       "      <td>1</td>\n",
       "      <td>1</td>\n",
       "      <td>-33.219281</td>\n",
       "      <td>1.000000e-10</td>\n",
       "    </tr>\n",
       "    <tr>\n",
       "      <th>200115</th>\n",
       "      <td>2017-06-01</td>\n",
       "      <td>C_ID_673eba059b</td>\n",
       "      <td>5</td>\n",
       "      <td>1</td>\n",
       "      <td>1</td>\n",
       "      <td>-33.219281</td>\n",
       "      <td>1.000000e-10</td>\n",
       "    </tr>\n",
       "    <tr>\n",
       "      <th>200208</th>\n",
       "      <td>2016-07-01</td>\n",
       "      <td>C_ID_33137d8248</td>\n",
       "      <td>3</td>\n",
       "      <td>3</td>\n",
       "      <td>1</td>\n",
       "      <td>-33.219281</td>\n",
       "      <td>1.000000e-10</td>\n",
       "    </tr>\n",
       "    <tr>\n",
       "      <th>200250</th>\n",
       "      <td>2017-03-01</td>\n",
       "      <td>C_ID_e07bc509c2</td>\n",
       "      <td>2</td>\n",
       "      <td>1</td>\n",
       "      <td>0</td>\n",
       "      <td>-33.219281</td>\n",
       "      <td>1.000000e-10</td>\n",
       "    </tr>\n",
       "    <tr>\n",
       "      <th>200311</th>\n",
       "      <td>2017-09-01</td>\n",
       "      <td>C_ID_14e3aed970</td>\n",
       "      <td>3</td>\n",
       "      <td>1</td>\n",
       "      <td>1</td>\n",
       "      <td>-33.219281</td>\n",
       "      <td>1.000000e-10</td>\n",
       "    </tr>\n",
       "    <tr>\n",
       "      <th>200381</th>\n",
       "      <td>2016-08-01</td>\n",
       "      <td>C_ID_8beb427440</td>\n",
       "      <td>5</td>\n",
       "      <td>1</td>\n",
       "      <td>1</td>\n",
       "      <td>-33.219281</td>\n",
       "      <td>1.000000e-10</td>\n",
       "    </tr>\n",
       "    <tr>\n",
       "      <th>200426</th>\n",
       "      <td>2017-01-01</td>\n",
       "      <td>C_ID_aabf044bcd</td>\n",
       "      <td>3</td>\n",
       "      <td>2</td>\n",
       "      <td>1</td>\n",
       "      <td>-33.219281</td>\n",
       "      <td>1.000000e-10</td>\n",
       "    </tr>\n",
       "    <tr>\n",
       "      <th>200474</th>\n",
       "      <td>2016-08-01</td>\n",
       "      <td>C_ID_db056389c9</td>\n",
       "      <td>2</td>\n",
       "      <td>2</td>\n",
       "      <td>0</td>\n",
       "      <td>-33.219281</td>\n",
       "      <td>1.000000e-10</td>\n",
       "    </tr>\n",
       "    <tr>\n",
       "      <th>200534</th>\n",
       "      <td>2016-12-01</td>\n",
       "      <td>C_ID_d24bbfba24</td>\n",
       "      <td>4</td>\n",
       "      <td>1</td>\n",
       "      <td>0</td>\n",
       "      <td>-33.219281</td>\n",
       "      <td>1.000000e-10</td>\n",
       "    </tr>\n",
       "    <tr>\n",
       "      <th>200652</th>\n",
       "      <td>2016-10-01</td>\n",
       "      <td>C_ID_951c45ad3f</td>\n",
       "      <td>1</td>\n",
       "      <td>2</td>\n",
       "      <td>0</td>\n",
       "      <td>-33.219281</td>\n",
       "      <td>1.000000e-10</td>\n",
       "    </tr>\n",
       "    <tr>\n",
       "      <th>200682</th>\n",
       "      <td>2015-04-01</td>\n",
       "      <td>C_ID_4199f5b7c0</td>\n",
       "      <td>5</td>\n",
       "      <td>1</td>\n",
       "      <td>1</td>\n",
       "      <td>-33.219281</td>\n",
       "      <td>1.000000e-10</td>\n",
       "    </tr>\n",
       "    <tr>\n",
       "      <th>200751</th>\n",
       "      <td>2016-11-01</td>\n",
       "      <td>C_ID_85cd7bbd0c</td>\n",
       "      <td>3</td>\n",
       "      <td>1</td>\n",
       "      <td>1</td>\n",
       "      <td>-33.219281</td>\n",
       "      <td>1.000000e-10</td>\n",
       "    </tr>\n",
       "    <tr>\n",
       "      <th>200815</th>\n",
       "      <td>2015-03-01</td>\n",
       "      <td>C_ID_22d40c59ff</td>\n",
       "      <td>5</td>\n",
       "      <td>1</td>\n",
       "      <td>1</td>\n",
       "      <td>-33.219281</td>\n",
       "      <td>1.000000e-10</td>\n",
       "    </tr>\n",
       "    <tr>\n",
       "      <th>200831</th>\n",
       "      <td>2017-02-01</td>\n",
       "      <td>C_ID_f28fb61248</td>\n",
       "      <td>2</td>\n",
       "      <td>1</td>\n",
       "      <td>0</td>\n",
       "      <td>-33.219281</td>\n",
       "      <td>1.000000e-10</td>\n",
       "    </tr>\n",
       "    <tr>\n",
       "      <th>201012</th>\n",
       "      <td>2015-01-01</td>\n",
       "      <td>C_ID_9789d0a73d</td>\n",
       "      <td>5</td>\n",
       "      <td>1</td>\n",
       "      <td>1</td>\n",
       "      <td>-33.219281</td>\n",
       "      <td>1.000000e-10</td>\n",
       "    </tr>\n",
       "    <tr>\n",
       "      <th>201050</th>\n",
       "      <td>2017-08-01</td>\n",
       "      <td>C_ID_d8920df04d</td>\n",
       "      <td>2</td>\n",
       "      <td>1</td>\n",
       "      <td>0</td>\n",
       "      <td>-33.219281</td>\n",
       "      <td>1.000000e-10</td>\n",
       "    </tr>\n",
       "    <tr>\n",
       "      <th>201169</th>\n",
       "      <td>2016-07-01</td>\n",
       "      <td>C_ID_e34ea29439</td>\n",
       "      <td>2</td>\n",
       "      <td>2</td>\n",
       "      <td>0</td>\n",
       "      <td>-33.219281</td>\n",
       "      <td>1.000000e-10</td>\n",
       "    </tr>\n",
       "    <tr>\n",
       "      <th>201262</th>\n",
       "      <td>2017-10-01</td>\n",
       "      <td>C_ID_081082a629</td>\n",
       "      <td>5</td>\n",
       "      <td>2</td>\n",
       "      <td>1</td>\n",
       "      <td>-33.219281</td>\n",
       "      <td>1.000000e-10</td>\n",
       "    </tr>\n",
       "    <tr>\n",
       "      <th>201368</th>\n",
       "      <td>2016-08-01</td>\n",
       "      <td>C_ID_6f61bed11c</td>\n",
       "      <td>3</td>\n",
       "      <td>3</td>\n",
       "      <td>1</td>\n",
       "      <td>-33.219281</td>\n",
       "      <td>1.000000e-10</td>\n",
       "    </tr>\n",
       "    <tr>\n",
       "      <th>201519</th>\n",
       "      <td>2017-05-01</td>\n",
       "      <td>C_ID_d6c86b18cd</td>\n",
       "      <td>2</td>\n",
       "      <td>1</td>\n",
       "      <td>0</td>\n",
       "      <td>-33.219281</td>\n",
       "      <td>1.000000e-10</td>\n",
       "    </tr>\n",
       "    <tr>\n",
       "      <th>201521</th>\n",
       "      <td>2016-06-01</td>\n",
       "      <td>C_ID_09250aa6bf</td>\n",
       "      <td>2</td>\n",
       "      <td>2</td>\n",
       "      <td>0</td>\n",
       "      <td>-33.219281</td>\n",
       "      <td>1.000000e-10</td>\n",
       "    </tr>\n",
       "  </tbody>\n",
       "</table>\n",
       "<p>2207 rows × 7 columns</p>\n",
       "</div>"
      ],
      "text/plain": [
       "       first_active_month          card_id  feature_1  feature_2  feature_3  \\\n",
       "64             2017-09-01  C_ID_8186f3fcc1          3          1          1   \n",
       "92             2015-05-01  C_ID_b9379a30ea          3          3          1   \n",
       "125            2015-10-01  C_ID_e9120f535c          3          3          1   \n",
       "151            2017-03-01  C_ID_65715cb80d          4          2          0   \n",
       "225            2017-01-01  C_ID_ae77d244b6          2          1          0   \n",
       "248            2015-07-01  C_ID_c4262c902e          5          1          1   \n",
       "254            2017-03-01  C_ID_6a2c823e5f          2          1          0   \n",
       "386            2017-06-01  C_ID_98e1cb10b6          2          3          0   \n",
       "467            2017-03-01  C_ID_eb8175721a          4          1          0   \n",
       "515            2016-04-01  C_ID_a2580006bf          4          2          0   \n",
       "566            2016-12-01  C_ID_2e49ece8b1          2          3          0   \n",
       "578            2016-04-01  C_ID_7efe2311b7          2          2          0   \n",
       "687            2015-12-01  C_ID_bae3e3f87c          2          2          0   \n",
       "761            2017-01-01  C_ID_e1844c986c          3          3          1   \n",
       "810            2016-02-01  C_ID_237b80978f          3          3          1   \n",
       "840            2016-07-01  C_ID_f96d46ff64          3          3          1   \n",
       "922            2013-12-01  C_ID_005799985c          3          3          1   \n",
       "925            2017-06-01  C_ID_962d44f420          3          1          1   \n",
       "1005           2017-07-01  C_ID_d93d15ab8e          2          1          0   \n",
       "1092           2017-07-01  C_ID_42d0ff3842          2          1          0   \n",
       "1153           2016-11-01  C_ID_404d0c0488          2          2          0   \n",
       "1571           2017-05-01  C_ID_5c99cb080c          5          1          1   \n",
       "1574           2016-10-01  C_ID_1dc14ac66a          4          2          0   \n",
       "1601           2016-11-01  C_ID_1e62ff489c          5          2          1   \n",
       "1769           2016-11-01  C_ID_2d8cf677c6          3          1          1   \n",
       "1849           2017-03-01  C_ID_b6f24b5e58          4          1          0   \n",
       "1893           2017-02-01  C_ID_c0120bdf0b          5          2          1   \n",
       "1909           2016-07-01  C_ID_19e7c999ad          5          1          1   \n",
       "1969           2017-06-01  C_ID_efc4226180          4          2          0   \n",
       "1974           2017-03-01  C_ID_4ae8415eae          5          2          1   \n",
       "...                   ...              ...        ...        ...        ...   \n",
       "199349         2016-08-01  C_ID_fe4d17480d          5          1          1   \n",
       "199453         2017-02-01  C_ID_c1232adbde          3          2          1   \n",
       "199480         2017-04-01  C_ID_de70600444          2          1          0   \n",
       "199504         2017-04-01  C_ID_533952e85c          3          3          1   \n",
       "199549         2016-11-01  C_ID_e56aaa2eb1          5          2          1   \n",
       "199748         2017-06-01  C_ID_65d6cc2c93          3          2          1   \n",
       "199767         2016-10-01  C_ID_664eb73bf1          2          1          0   \n",
       "199810         2012-11-01  C_ID_d9537fdfc0          3          3          1   \n",
       "199892         2017-05-01  C_ID_9643deae97          3          2          1   \n",
       "200029         2015-06-01  C_ID_277be25179          5          1          1   \n",
       "200115         2017-06-01  C_ID_673eba059b          5          1          1   \n",
       "200208         2016-07-01  C_ID_33137d8248          3          3          1   \n",
       "200250         2017-03-01  C_ID_e07bc509c2          2          1          0   \n",
       "200311         2017-09-01  C_ID_14e3aed970          3          1          1   \n",
       "200381         2016-08-01  C_ID_8beb427440          5          1          1   \n",
       "200426         2017-01-01  C_ID_aabf044bcd          3          2          1   \n",
       "200474         2016-08-01  C_ID_db056389c9          2          2          0   \n",
       "200534         2016-12-01  C_ID_d24bbfba24          4          1          0   \n",
       "200652         2016-10-01  C_ID_951c45ad3f          1          2          0   \n",
       "200682         2015-04-01  C_ID_4199f5b7c0          5          1          1   \n",
       "200751         2016-11-01  C_ID_85cd7bbd0c          3          1          1   \n",
       "200815         2015-03-01  C_ID_22d40c59ff          5          1          1   \n",
       "200831         2017-02-01  C_ID_f28fb61248          2          1          0   \n",
       "201012         2015-01-01  C_ID_9789d0a73d          5          1          1   \n",
       "201050         2017-08-01  C_ID_d8920df04d          2          1          0   \n",
       "201169         2016-07-01  C_ID_e34ea29439          2          2          0   \n",
       "201262         2017-10-01  C_ID_081082a629          5          2          1   \n",
       "201368         2016-08-01  C_ID_6f61bed11c          3          3          1   \n",
       "201519         2017-05-01  C_ID_d6c86b18cd          2          1          0   \n",
       "201521         2016-06-01  C_ID_09250aa6bf          2          2          0   \n",
       "\n",
       "           target    target_new  \n",
       "64     -33.219281  1.000000e-10  \n",
       "92     -33.219281  1.000000e-10  \n",
       "125    -33.219281  1.000000e-10  \n",
       "151    -33.219281  1.000000e-10  \n",
       "225    -33.219281  1.000000e-10  \n",
       "248    -33.219281  1.000000e-10  \n",
       "254    -33.219281  1.000000e-10  \n",
       "386    -33.219281  1.000000e-10  \n",
       "467    -33.219281  1.000000e-10  \n",
       "515    -33.219281  1.000000e-10  \n",
       "566    -33.219281  1.000000e-10  \n",
       "578    -33.219281  1.000000e-10  \n",
       "687    -33.219281  1.000000e-10  \n",
       "761    -33.219281  1.000000e-10  \n",
       "810    -33.219281  1.000000e-10  \n",
       "840    -33.219281  1.000000e-10  \n",
       "922    -33.219281  1.000000e-10  \n",
       "925    -33.219281  1.000000e-10  \n",
       "1005   -33.219281  1.000000e-10  \n",
       "1092   -33.219281  1.000000e-10  \n",
       "1153   -33.219281  1.000000e-10  \n",
       "1571   -33.219281  1.000000e-10  \n",
       "1574   -33.219281  1.000000e-10  \n",
       "1601   -33.219281  1.000000e-10  \n",
       "1769   -33.219281  1.000000e-10  \n",
       "1849   -33.219281  1.000000e-10  \n",
       "1893   -33.219281  1.000000e-10  \n",
       "1909   -33.219281  1.000000e-10  \n",
       "1969   -33.219281  1.000000e-10  \n",
       "1974   -33.219281  1.000000e-10  \n",
       "...           ...           ...  \n",
       "199349 -33.219281  1.000000e-10  \n",
       "199453 -33.219281  1.000000e-10  \n",
       "199480 -33.219281  1.000000e-10  \n",
       "199504 -33.219281  1.000000e-10  \n",
       "199549 -33.219281  1.000000e-10  \n",
       "199748 -33.219281  1.000000e-10  \n",
       "199767 -33.219281  1.000000e-10  \n",
       "199810 -33.219281  1.000000e-10  \n",
       "199892 -33.219281  1.000000e-10  \n",
       "200029 -33.219281  1.000000e-10  \n",
       "200115 -33.219281  1.000000e-10  \n",
       "200208 -33.219281  1.000000e-10  \n",
       "200250 -33.219281  1.000000e-10  \n",
       "200311 -33.219281  1.000000e-10  \n",
       "200381 -33.219281  1.000000e-10  \n",
       "200426 -33.219281  1.000000e-10  \n",
       "200474 -33.219281  1.000000e-10  \n",
       "200534 -33.219281  1.000000e-10  \n",
       "200652 -33.219281  1.000000e-10  \n",
       "200682 -33.219281  1.000000e-10  \n",
       "200751 -33.219281  1.000000e-10  \n",
       "200815 -33.219281  1.000000e-10  \n",
       "200831 -33.219281  1.000000e-10  \n",
       "201012 -33.219281  1.000000e-10  \n",
       "201050 -33.219281  1.000000e-10  \n",
       "201169 -33.219281  1.000000e-10  \n",
       "201262 -33.219281  1.000000e-10  \n",
       "201368 -33.219281  1.000000e-10  \n",
       "201519 -33.219281  1.000000e-10  \n",
       "201521 -33.219281  1.000000e-10  \n",
       "\n",
       "[2207 rows x 7 columns]"
      ]
     },
     "execution_count": 65,
     "metadata": {},
     "output_type": "execute_result"
    }
   ],
   "source": [
    "train[train.target_new < 1e-6]"
   ]
  },
  {
   "cell_type": "code",
   "execution_count": 60,
   "metadata": {},
   "outputs": [
    {
     "data": {
      "text/plain": [
       "2207"
      ]
     },
     "execution_count": 60,
     "metadata": {},
     "output_type": "execute_result"
    }
   ],
   "source": [
    "(train.target < -33).sum()"
   ]
  },
  {
   "cell_type": "code",
   "execution_count": null,
   "metadata": {},
   "outputs": [],
   "source": []
  }
 ],
 "metadata": {
  "kernelspec": {
   "display_name": "Python 3",
   "language": "python",
   "name": "python3"
  },
  "language_info": {
   "codemirror_mode": {
    "name": "ipython",
    "version": 3
   },
   "file_extension": ".py",
   "mimetype": "text/x-python",
   "name": "python",
   "nbconvert_exporter": "python",
   "pygments_lexer": "ipython3",
   "version": "3.6.4"
  }
 },
 "nbformat": 4,
 "nbformat_minor": 2
}
