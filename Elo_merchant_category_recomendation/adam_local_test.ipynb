{
 "cells": [
  {
   "cell_type": "code",
   "execution_count": 1,
   "metadata": {},
   "outputs": [],
   "source": [
    "import numpy as np\n",
    "import lightgbm as lgb\n",
    "import pickle\n",
    "import pandas as pd\n",
    "\n",
    "import matplotlib.pyplot as plt\n",
    "%matplotlib inline\n",
    "\n",
    "from sklearn.model_selection import train_test_split\n",
    "from sklearn.metrics import roc_auc_score, roc_curve, mean_squared_error "
   ]
  },
  {
   "cell_type": "code",
   "execution_count": 2,
   "metadata": {},
   "outputs": [],
   "source": [
    "# train = pd.read_pickle('df_train.pickle')\n",
    "# test = pd.read_pickle('df_test.pickle')\n",
    "\n",
    "train = pd.read_csv('df_train_2_extra.csv')\n",
    "test = pd.read_csv('df_test_2_extra.csv')\n",
    "#target = np.loadtxt('wang.target.txt')\n",
    "target=train['target']\n",
    "outlier=train['outliers']\n",
    "#outlier = np.zeros(len(target), dtype=np.int)\n",
    "#outlier[target < -33] = 1"
   ]
  },
  {
   "cell_type": "code",
   "execution_count": 3,
   "metadata": {},
   "outputs": [
    {
     "data": {
      "text/plain": [
       "(123623, 255)"
      ]
     },
     "execution_count": 3,
     "metadata": {},
     "output_type": "execute_result"
    }
   ],
   "source": [
    "test.shape"
   ]
  },
  {
   "cell_type": "markdown",
   "metadata": {},
   "source": [
    "#### outlier ratio"
   ]
  },
  {
   "cell_type": "code",
   "execution_count": 4,
   "metadata": {},
   "outputs": [
    {
     "data": {
      "text/plain": [
       "0.010930233709890698"
      ]
     },
     "execution_count": 4,
     "metadata": {},
     "output_type": "execute_result"
    }
   ],
   "source": [
    "outlier.sum() / len(outlier)"
   ]
  },
  {
   "cell_type": "code",
   "execution_count": 5,
   "metadata": {},
   "outputs": [],
   "source": [
    "feats = [c for c in train.columns if c not in ['card_id', 'first_active_month','target','outliers']]"
   ]
  },
  {
   "cell_type": "code",
   "execution_count": 6,
   "metadata": {},
   "outputs": [],
   "source": [
    "target_with_outlier = pd.DataFrame({\n",
    "    'target': target,\n",
    "    'outlier': outlier\n",
    "})"
   ]
  },
  {
   "cell_type": "code",
   "execution_count": 7,
   "metadata": {},
   "outputs": [
    {
     "data": {
      "text/plain": [
       "0.379747496467408"
      ]
     },
     "execution_count": 7,
     "metadata": {},
     "output_type": "execute_result"
    }
   ],
   "source": [
    "test.shape[0]/(train.shape[0]+test.shape[0])"
   ]
  },
  {
   "cell_type": "code",
   "execution_count": 54,
   "metadata": {},
   "outputs": [
    {
     "data": {
      "text/plain": [
       "253"
      ]
     },
     "execution_count": 54,
     "metadata": {},
     "output_type": "execute_result"
    }
   ],
   "source": [
    "len(feats)"
   ]
  },
  {
   "cell_type": "markdown",
   "metadata": {},
   "source": [
    "#### because test/(test+train) = 0.38, we use test_size=0.38"
   ]
  },
  {
   "cell_type": "code",
   "execution_count": 8,
   "metadata": {},
   "outputs": [],
   "source": [
    "X_tr, X_va, y_tr, y_va = train_test_split(train[feats].values, target_with_outlier, test_size=0.38, random_state=12)"
   ]
  },
  {
   "cell_type": "code",
   "execution_count": 9,
   "metadata": {},
   "outputs": [
    {
     "data": {
      "text/plain": [
       "((125188, 253), (76729, 253), (125188, 2), (76729, 2))"
      ]
     },
     "execution_count": 9,
     "metadata": {},
     "output_type": "execute_result"
    }
   ],
   "source": [
    "X_tr.shape, X_va.shape, y_tr.shape, y_va.shape"
   ]
  },
  {
   "cell_type": "code",
   "execution_count": 10,
   "metadata": {},
   "outputs": [],
   "source": [
    "def get_lb(pred_target):\n",
    "    return mean_squared_error(y_va.target, pred_target) ** 0.5"
   ]
  },
  {
   "cell_type": "markdown",
   "metadata": {},
   "source": [
    "### outlier detection"
   ]
  },
  {
   "cell_type": "code",
   "execution_count": 11,
   "metadata": {},
   "outputs": [],
   "source": [
    "cl_param = {\n",
    "         'num_leaves': 31,\n",
    "         'min_data_in_leaf': 20, \n",
    "         'objective':'binary',\n",
    "         'max_depth': -1,\n",
    "         'learning_rate': 0.01,\n",
    "         \"boosting\": \"gbdt\",\n",
    "         \"feature_fraction\": 0.9, #\n",
    "         \"bagging_freq\": 1,\n",
    "         \"bagging_fraction\": 0.9, #\n",
    "         \"metric\": 'auc',\n",
    "         \"lambda_l1\": 0.1,\n",
    "         \"verbosity\": -1,\n",
    "         \"nthread\": 48,\n",
    "         \"scale_pos_weight\": 15,\n",
    "}"
   ]
  },
  {
   "cell_type": "code",
   "execution_count": 12,
   "metadata": {},
   "outputs": [],
   "source": [
    "tr_data = lgb.Dataset(X_tr, label=y_tr.outlier)"
   ]
  },
  {
   "cell_type": "code",
   "execution_count": 13,
   "metadata": {},
   "outputs": [
    {
     "name": "stdout",
     "output_type": "stream",
     "text": [
      "[100]\tcv_agg's auc: 0.902398 + 0.00697561\n",
      "[200]\tcv_agg's auc: 0.903697 + 0.00662913\n",
      "[300]\tcv_agg's auc: 0.903734 + 0.00670821\n",
      "[400]\tcv_agg's auc: 0.903137 + 0.00668533\n",
      "[500]\tcv_agg's auc: 0.902398 + 0.00650716\n",
      "[600]\tcv_agg's auc: 0.901779 + 0.00654513\n",
      "[700]\tcv_agg's auc: 0.901337 + 0.006394\n",
      "[800]\tcv_agg's auc: 0.900654 + 0.00646067\n"
     ]
    }
   ],
   "source": [
    "cv_score = lgb.cv(cl_param, tr_data, 10000, early_stopping_rounds=600, verbose_eval=100)"
   ]
  },
  {
   "cell_type": "code",
   "execution_count": 14,
   "metadata": {},
   "outputs": [
    {
     "name": "stdout",
     "output_type": "stream",
     "text": [
      "best num:  232 \n",
      "best score: 0.9038768908290219\n"
     ]
    }
   ],
   "source": [
    "print('best num: ', len(cv_score['auc-mean']), '\\nbest score:', cv_score['auc-mean'][-1])"
   ]
  },
  {
   "cell_type": "code",
   "execution_count": 15,
   "metadata": {
    "scrolled": true
   },
   "outputs": [
    {
     "name": "stdout",
     "output_type": "stream",
     "text": [
      "[100]\ttraining's auc: 0.966905\n",
      "[200]\ttraining's auc: 0.974608\n",
      "[300]\ttraining's auc: 0.980398\n",
      "[400]\ttraining's auc: 0.984885\n"
     ]
    }
   ],
   "source": [
    "clf = lgb.train(cl_param, tr_data, 400, valid_sets=(tr_data), verbose_eval=100)"
   ]
  },
  {
   "cell_type": "markdown",
   "metadata": {},
   "source": [
    "Original code\n",
    "[100]\ttraining's auc: 0.966946\n",
    "[200]\ttraining's auc: 0.974508\n",
    "[300]\ttraining's auc: 0.980274\n",
    "[400]\ttraining's auc: 0.984884"
   ]
  },
  {
   "cell_type": "code",
   "execution_count": 16,
   "metadata": {},
   "outputs": [
    {
     "data": {
      "text/plain": [
       "0"
      ]
     },
     "execution_count": 16,
     "metadata": {},
     "output_type": "execute_result"
    }
   ],
   "source": [
    "clf.best_iteration\n"
   ]
  },
  {
   "cell_type": "code",
   "execution_count": 17,
   "metadata": {},
   "outputs": [],
   "source": [
    "prob = clf.predict(X_va, num_iteration=clf.best_iteration)"
   ]
  },
  {
   "cell_type": "code",
   "execution_count": 18,
   "metadata": {},
   "outputs": [
    {
     "data": {
      "text/plain": [
       "0.902935029308729"
      ]
     },
     "execution_count": 18,
     "metadata": {},
     "output_type": "execute_result"
    }
   ],
   "source": [
    "roc_auc_score(y_va.outlier, prob)"
   ]
  },
  {
   "cell_type": "code",
   "execution_count": 19,
   "metadata": {},
   "outputs": [],
   "source": [
    "fpr, tpr, thr = roc_curve(y_va.outlier, prob)"
   ]
  },
  {
   "cell_type": "code",
   "execution_count": 20,
   "metadata": {},
   "outputs": [
    {
     "data": {
      "text/plain": [
       "[<matplotlib.lines.Line2D at 0x1b3833eb400>]"
      ]
     },
     "execution_count": 20,
     "metadata": {},
     "output_type": "execute_result"
    },
    {
     "data": {
      "image/png": "[encoded data removed]",
      "text/plain": [
       "<matplotlib.figure.Figure at 0x1b3eb9a9550>"
      ]
     },
     "metadata": {},
     "output_type": "display_data"
    }
   ],
   "source": [
    "plt.plot(fpr, tpr)"
   ]
  },
  {
   "cell_type": "code",
   "execution_count": 21,
   "metadata": {},
   "outputs": [
    {
     "name": "stdout",
     "output_type": "stream",
     "text": [
      "outlier: 869 \n",
      "not outlier: 75860\n"
     ]
    }
   ],
   "source": [
    "print('outlier:', y_va.outlier.sum(), '\\nnot outlier:', y_va.shape[0] - y_va.outlier.sum())"
   ]
  },
  {
   "cell_type": "code",
   "execution_count": 22,
   "metadata": {
    "scrolled": true
   },
   "outputs": [
    {
     "name": "stdout",
     "output_type": "stream",
     "text": [
      "top 0:  \toutlier 0 \t not outlier 0\n",
      "top 1:  \toutlier 1 \t not outlier 0\n",
      "top 5:  \toutlier 1 \t not outlier 4\n",
      "top 8:  \toutlier 4 \t not outlier 4\n",
      "top 10:  \toutlier 4 \t not outlier 6\n",
      "top 12:  \toutlier 6 \t not outlier 6\n",
      "top 14:  \toutlier 6 \t not outlier 8\n",
      "top 17:  \toutlier 9 \t not outlier 8\n",
      "top 18:  \toutlier 9 \t not outlier 9\n",
      "top 19:  \toutlier 10 \t not outlier 9\n",
      "top 26:  \toutlier 10 \t not outlier 16\n",
      "top 28:  \toutlier 12 \t not outlier 16\n",
      "top 29:  \toutlier 12 \t not outlier 17\n",
      "top 30:  \toutlier 13 \t not outlier 17\n",
      "top 35:  \toutlier 13 \t not outlier 22\n",
      "top 42:  \toutlier 20 \t not outlier 22\n",
      "top 63:  \toutlier 20 \t not outlier 43\n",
      "top 64:  \toutlier 21 \t not outlier 43\n",
      "top 72:  \toutlier 21 \t not outlier 51\n",
      "top 77:  \toutlier 26 \t not outlier 51\n",
      "top 80:  \toutlier 26 \t not outlier 54\n",
      "top 81:  \toutlier 27 \t not outlier 54\n",
      "top 83:  \toutlier 27 \t not outlier 56\n",
      "top 87:  \toutlier 31 \t not outlier 56\n",
      "top 89:  \toutlier 31 \t not outlier 58\n",
      "top 93:  \toutlier 35 \t not outlier 58\n",
      "top 105:  \toutlier 35 \t not outlier 70\n",
      "top 107:  \toutlier 37 \t not outlier 70\n",
      "top 109:  \toutlier 37 \t not outlier 72\n",
      "top 112:  \toutlier 40 \t not outlier 72\n",
      "top 118:  \toutlier 40 \t not outlier 78\n",
      "top 119:  \toutlier 41 \t not outlier 78\n",
      "top 126:  \toutlier 41 \t not outlier 85\n",
      "top 130:  \toutlier 45 \t not outlier 85\n",
      "top 132:  \toutlier 45 \t not outlier 87\n",
      "top 133:  \toutlier 46 \t not outlier 87\n",
      "top 144:  \toutlier 46 \t not outlier 98\n",
      "top 147:  \toutlier 49 \t not outlier 98\n",
      "top 148:  \toutlier 49 \t not outlier 99\n",
      "top 150:  \toutlier 51 \t not outlier 99\n",
      "top 158:  \toutlier 51 \t not outlier 107\n",
      "top 159:  \toutlier 52 \t not outlier 107\n",
      "top 163:  \toutlier 52 \t not outlier 111\n",
      "top 166:  \toutlier 55 \t not outlier 111\n",
      "top 171:  \toutlier 55 \t not outlier 116\n",
      "top 173:  \toutlier 57 \t not outlier 116\n",
      "top 177:  \toutlier 57 \t not outlier 120\n",
      "top 179:  \toutlier 59 \t not outlier 120\n",
      "top 186:  \toutlier 59 \t not outlier 127\n",
      "top 189:  \toutlier 62 \t not outlier 127\n",
      "top 194:  \toutlier 62 \t not outlier 132\n",
      "top 197:  \toutlier 65 \t not outlier 132\n",
      "top 208:  \toutlier 65 \t not outlier 143\n",
      "top 209:  \toutlier 66 \t not outlier 143\n",
      "top 222:  \toutlier 66 \t not outlier 156\n",
      "top 224:  \toutlier 68 \t not outlier 156\n",
      "top 225:  \toutlier 68 \t not outlier 157\n",
      "top 226:  \toutlier 69 \t not outlier 157\n",
      "top 231:  \toutlier 69 \t not outlier 162\n",
      "top 233:  \toutlier 71 \t not outlier 162\n",
      "top 235:  \toutlier 71 \t not outlier 164\n",
      "top 237:  \toutlier 73 \t not outlier 164\n",
      "top 248:  \toutlier 73 \t not outlier 175\n",
      "top 251:  \toutlier 76 \t not outlier 175\n",
      "top 261:  \toutlier 76 \t not outlier 185\n",
      "top 262:  \toutlier 77 \t not outlier 185\n",
      "top 267:  \toutlier 77 \t not outlier 190\n",
      "top 269:  \toutlier 79 \t not outlier 190\n",
      "top 274:  \toutlier 79 \t not outlier 195\n",
      "top 275:  \toutlier 80 \t not outlier 195\n",
      "top 276:  \toutlier 80 \t not outlier 196\n",
      "top 278:  \toutlier 82 \t not outlier 196\n",
      "top 281:  \toutlier 82 \t not outlier 199\n",
      "top 282:  \toutlier 83 \t not outlier 199\n",
      "top 284:  \toutlier 83 \t not outlier 201\n",
      "top 288:  \toutlier 87 \t not outlier 201\n",
      "top 298:  \toutlier 87 \t not outlier 211\n",
      "top 301:  \toutlier 90 \t not outlier 211\n",
      "top 305:  \toutlier 90 \t not outlier 215\n",
      "top 306:  \toutlier 91 \t not outlier 215\n",
      "top 318:  \toutlier 91 \t not outlier 227\n",
      "top 320:  \toutlier 93 \t not outlier 227\n",
      "top 321:  \toutlier 93 \t not outlier 228\n",
      "top 322:  \toutlier 94 \t not outlier 228\n",
      "top 329:  \toutlier 94 \t not outlier 235\n",
      "top 334:  \toutlier 99 \t not outlier 235\n",
      "top 343:  \toutlier 99 \t not outlier 244\n",
      "top 346:  \toutlier 102 \t not outlier 244\n",
      "top 350:  \toutlier 102 \t not outlier 248\n",
      "top 352:  \toutlier 104 \t not outlier 248\n",
      "top 353:  \toutlier 104 \t not outlier 249\n",
      "top 357:  \toutlier 108 \t not outlier 249\n",
      "top 364:  \toutlier 108 \t not outlier 256\n",
      "top 366:  \toutlier 110 \t not outlier 256\n",
      "top 367:  \toutlier 110 \t not outlier 257\n",
      "top 368:  \toutlier 111 \t not outlier 257\n",
      "top 373:  \toutlier 111 \t not outlier 262\n",
      "top 377:  \toutlier 115 \t not outlier 262\n",
      "top 384:  \toutlier 115 \t not outlier 269\n",
      "top 387:  \toutlier 118 \t not outlier 269\n",
      "top 388:  \toutlier 118 \t not outlier 270\n",
      "top 391:  \toutlier 121 \t not outlier 270\n",
      "top 393:  \toutlier 121 \t not outlier 272\n",
      "top 394:  \toutlier 122 \t not outlier 272\n",
      "top 402:  \toutlier 122 \t not outlier 280\n",
      "top 404:  \toutlier 124 \t not outlier 280\n",
      "top 406:  \toutlier 124 \t not outlier 282\n",
      "top 407:  \toutlier 125 \t not outlier 282\n",
      "top 408:  \toutlier 125 \t not outlier 283\n",
      "top 410:  \toutlier 127 \t not outlier 283\n",
      "top 415:  \toutlier 127 \t not outlier 288\n",
      "top 417:  \toutlier 129 \t not outlier 288\n",
      "top 422:  \toutlier 129 \t not outlier 293\n",
      "top 423:  \toutlier 130 \t not outlier 293\n",
      "top 424:  \toutlier 130 \t not outlier 294\n",
      "top 429:  \toutlier 135 \t not outlier 294\n",
      "top 436:  \toutlier 135 \t not outlier 301\n",
      "top 437:  \toutlier 136 \t not outlier 301\n",
      "top 443:  \toutlier 136 \t not outlier 307\n",
      "top 445:  \toutlier 138 \t not outlier 307\n",
      "top 455:  \toutlier 138 \t not outlier 317\n",
      "top 456:  \toutlier 139 \t not outlier 317\n",
      "top 471:  \toutlier 139 \t not outlier 332\n",
      "top 475:  \toutlier 143 \t not outlier 332\n",
      "top 478:  \toutlier 143 \t not outlier 335\n",
      "top 479:  \toutlier 144 \t not outlier 335\n",
      "top 503:  \toutlier 144 \t not outlier 359\n",
      "top 505:  \toutlier 146 \t not outlier 359\n",
      "top 508:  \toutlier 146 \t not outlier 362\n",
      "top 514:  \toutlier 152 \t not outlier 362\n",
      "top 517:  \toutlier 152 \t not outlier 365\n",
      "top 518:  \toutlier 153 \t not outlier 365\n",
      "top 536:  \toutlier 153 \t not outlier 383\n",
      "top 538:  \toutlier 155 \t not outlier 383\n",
      "top 541:  \toutlier 155 \t not outlier 386\n",
      "top 543:  \toutlier 157 \t not outlier 386\n",
      "top 553:  \toutlier 157 \t not outlier 396\n",
      "top 554:  \toutlier 158 \t not outlier 396\n",
      "top 564:  \toutlier 158 \t not outlier 406\n",
      "top 566:  \toutlier 160 \t not outlier 406\n",
      "top 575:  \toutlier 160 \t not outlier 415\n",
      "top 576:  \toutlier 161 \t not outlier 415\n",
      "top 583:  \toutlier 161 \t not outlier 422\n",
      "top 585:  \toutlier 163 \t not outlier 422\n",
      "top 588:  \toutlier 163 \t not outlier 425\n",
      "top 591:  \toutlier 166 \t not outlier 425\n",
      "top 594:  \toutlier 166 \t not outlier 428\n",
      "top 595:  \toutlier 167 \t not outlier 428\n",
      "top 619:  \toutlier 167 \t not outlier 452\n",
      "top 621:  \toutlier 169 \t not outlier 452\n",
      "top 625:  \toutlier 169 \t not outlier 456\n",
      "top 627:  \toutlier 171 \t not outlier 456\n",
      "top 633:  \toutlier 171 \t not outlier 462\n",
      "top 636:  \toutlier 174 \t not outlier 462\n",
      "top 638:  \toutlier 174 \t not outlier 464\n",
      "top 641:  \toutlier 177 \t not outlier 464\n",
      "top 644:  \toutlier 177 \t not outlier 467\n",
      "top 645:  \toutlier 178 \t not outlier 467\n",
      "top 647:  \toutlier 178 \t not outlier 469\n",
      "top 650:  \toutlier 181 \t not outlier 469\n",
      "top 672:  \toutlier 181 \t not outlier 491\n",
      "top 674:  \toutlier 183 \t not outlier 491\n",
      "top 676:  \toutlier 183 \t not outlier 493\n",
      "top 678:  \toutlier 185 \t not outlier 493\n",
      "top 679:  \toutlier 185 \t not outlier 494\n",
      "top 680:  \toutlier 186 \t not outlier 494\n",
      "top 687:  \toutlier 186 \t not outlier 501\n",
      "top 689:  \toutlier 188 \t not outlier 501\n",
      "top 690:  \toutlier 188 \t not outlier 502\n",
      "top 691:  \toutlier 189 \t not outlier 502\n",
      "top 698:  \toutlier 189 \t not outlier 509\n",
      "top 700:  \toutlier 191 \t not outlier 509\n",
      "top 706:  \toutlier 191 \t not outlier 515\n",
      "top 707:  \toutlier 192 \t not outlier 515\n",
      "top 712:  \toutlier 192 \t not outlier 520\n",
      "top 714:  \toutlier 194 \t not outlier 520\n",
      "top 722:  \toutlier 194 \t not outlier 528\n",
      "top 728:  \toutlier 200 \t not outlier 528\n",
      "top 730:  \toutlier 200 \t not outlier 530\n",
      "top 732:  \toutlier 202 \t not outlier 530\n",
      "top 758:  \toutlier 202 \t not outlier 556\n",
      "top 759:  \toutlier 203 \t not outlier 556\n",
      "top 760:  \toutlier 203 \t not outlier 557\n",
      "top 762:  \toutlier 205 \t not outlier 557\n",
      "top 767:  \toutlier 205 \t not outlier 562\n",
      "top 768:  \toutlier 206 \t not outlier 562\n",
      "top 773:  \toutlier 206 \t not outlier 567\n",
      "top 775:  \toutlier 208 \t not outlier 567\n",
      "top 791:  \toutlier 208 \t not outlier 583\n",
      "top 792:  \toutlier 209 \t not outlier 583\n",
      "top 795:  \toutlier 209 \t not outlier 586\n",
      "top 797:  \toutlier 211 \t not outlier 586\n",
      "top 808:  \toutlier 211 \t not outlier 597\n",
      "top 809:  \toutlier 212 \t not outlier 597\n",
      "top 814:  \toutlier 212 \t not outlier 602\n",
      "top 816:  \toutlier 214 \t not outlier 602\n",
      "top 823:  \toutlier 214 \t not outlier 609\n",
      "top 825:  \toutlier 216 \t not outlier 609\n",
      "top 830:  \toutlier 216 \t not outlier 614\n",
      "top 831:  \toutlier 217 \t not outlier 614\n",
      "top 852:  \toutlier 217 \t not outlier 635\n",
      "top 854:  \toutlier 219 \t not outlier 635\n",
      "top 857:  \toutlier 219 \t not outlier 638\n",
      "top 860:  \toutlier 222 \t not outlier 638\n",
      "top 866:  \toutlier 222 \t not outlier 644\n",
      "top 869:  \toutlier 225 \t not outlier 644\n",
      "top 881:  \toutlier 225 \t not outlier 656\n",
      "top 884:  \toutlier 228 \t not outlier 656\n",
      "top 892:  \toutlier 228 \t not outlier 664\n",
      "top 894:  \toutlier 230 \t not outlier 664\n",
      "top 903:  \toutlier 230 \t not outlier 673\n",
      "top 904:  \toutlier 231 \t not outlier 673\n",
      "top 927:  \toutlier 231 \t not outlier 696\n",
      "top 929:  \toutlier 233 \t not outlier 696\n",
      "top 937:  \toutlier 233 \t not outlier 704\n",
      "top 938:  \toutlier 234 \t not outlier 704\n",
      "top 951:  \toutlier 234 \t not outlier 717\n",
      "top 954:  \toutlier 237 \t not outlier 717\n",
      "top 957:  \toutlier 237 \t not outlier 720\n",
      "top 959:  \toutlier 239 \t not outlier 720\n",
      "top 967:  \toutlier 239 \t not outlier 728\n",
      "top 968:  \toutlier 240 \t not outlier 728\n",
      "top 983:  \toutlier 240 \t not outlier 743\n",
      "top 987:  \toutlier 244 \t not outlier 743\n",
      "top 995:  \toutlier 244 \t not outlier 751\n",
      "top 996:  \toutlier 245 \t not outlier 751\n",
      "top 1010:  \toutlier 245 \t not outlier 765\n",
      "top 1012:  \toutlier 247 \t not outlier 765\n",
      "top 1019:  \toutlier 247 \t not outlier 772\n",
      "top 1020:  \toutlier 248 \t not outlier 772\n",
      "top 1028:  \toutlier 248 \t not outlier 780\n",
      "top 1030:  \toutlier 250 \t not outlier 780\n",
      "top 1049:  \toutlier 250 \t not outlier 799\n",
      "top 1050:  \toutlier 251 \t not outlier 799\n",
      "top 1060:  \toutlier 251 \t not outlier 809\n",
      "top 1062:  \toutlier 253 \t not outlier 809\n",
      "top 1066:  \toutlier 253 \t not outlier 813\n",
      "top 1067:  \toutlier 254 \t not outlier 813\n",
      "top 1072:  \toutlier 254 \t not outlier 818\n",
      "top 1074:  \toutlier 256 \t not outlier 818\n",
      "top 1087:  \toutlier 256 \t not outlier 831\n",
      "top 1089:  \toutlier 258 \t not outlier 831\n",
      "top 1094:  \toutlier 258 \t not outlier 836\n",
      "top 1095:  \toutlier 259 \t not outlier 836\n",
      "top 1118:  \toutlier 259 \t not outlier 859\n",
      "top 1121:  \toutlier 262 \t not outlier 859\n",
      "top 1132:  \toutlier 262 \t not outlier 870\n",
      "top 1134:  \toutlier 264 \t not outlier 870\n",
      "top 1137:  \toutlier 264 \t not outlier 873\n",
      "top 1140:  \toutlier 267 \t not outlier 873\n",
      "top 1142:  \toutlier 267 \t not outlier 875\n",
      "top 1143:  \toutlier 268 \t not outlier 875\n",
      "top 1152:  \toutlier 268 \t not outlier 884\n",
      "top 1156:  \toutlier 272 \t not outlier 884\n",
      "top 1160:  \toutlier 272 \t not outlier 888\n",
      "top 1161:  \toutlier 273 \t not outlier 888\n",
      "top 1190:  \toutlier 273 \t not outlier 917\n",
      "top 1192:  \toutlier 275 \t not outlier 917\n",
      "top 1206:  \toutlier 275 \t not outlier 931\n",
      "top 1207:  \toutlier 276 \t not outlier 931\n",
      "top 1209:  \toutlier 276 \t not outlier 933\n",
      "top 1211:  \toutlier 278 \t not outlier 933\n",
      "top 1214:  \toutlier 278 \t not outlier 936\n",
      "top 1215:  \toutlier 279 \t not outlier 936\n",
      "top 1226:  \toutlier 279 \t not outlier 947\n",
      "top 1228:  \toutlier 281 \t not outlier 947\n",
      "top 1233:  \toutlier 281 \t not outlier 952\n",
      "top 1234:  \toutlier 282 \t not outlier 952\n",
      "top 1237:  \toutlier 282 \t not outlier 955\n",
      "top 1239:  \toutlier 284 \t not outlier 955\n",
      "top 1243:  \toutlier 284 \t not outlier 959\n",
      "top 1245:  \toutlier 286 \t not outlier 959\n",
      "top 1249:  \toutlier 286 \t not outlier 963\n",
      "top 1250:  \toutlier 287 \t not outlier 963\n",
      "top 1262:  \toutlier 287 \t not outlier 975\n",
      "top 1268:  \toutlier 293 \t not outlier 975\n",
      "top 1277:  \toutlier 293 \t not outlier 984\n",
      "top 1279:  \toutlier 295 \t not outlier 984\n",
      "top 1284:  \toutlier 295 \t not outlier 989\n",
      "top 1285:  \toutlier 296 \t not outlier 989\n",
      "top 1288:  \toutlier 296 \t not outlier 992\n",
      "top 1290:  \toutlier 298 \t not outlier 992\n",
      "top 1310:  \toutlier 298 \t not outlier 1012\n",
      "top 1313:  \toutlier 301 \t not outlier 1012\n",
      "top 1324:  \toutlier 301 \t not outlier 1023\n",
      "top 1326:  \toutlier 303 \t not outlier 1023\n",
      "top 1334:  \toutlier 303 \t not outlier 1031\n",
      "top 1335:  \toutlier 304 \t not outlier 1031\n",
      "top 1338:  \toutlier 304 \t not outlier 1034\n",
      "top 1340:  \toutlier 306 \t not outlier 1034\n",
      "top 1342:  \toutlier 306 \t not outlier 1036\n",
      "top 1343:  \toutlier 307 \t not outlier 1036\n",
      "top 1346:  \toutlier 307 \t not outlier 1039\n",
      "top 1349:  \toutlier 310 \t not outlier 1039\n",
      "top 1367:  \toutlier 310 \t not outlier 1057\n",
      "top 1371:  \toutlier 314 \t not outlier 1057\n",
      "top 1377:  \toutlier 314 \t not outlier 1063\n",
      "top 1380:  \toutlier 317 \t not outlier 1063\n",
      "top 1392:  \toutlier 317 \t not outlier 1075\n",
      "top 1393:  \toutlier 318 \t not outlier 1075\n",
      "top 1409:  \toutlier 318 \t not outlier 1091\n",
      "top 1411:  \toutlier 320 \t not outlier 1091\n",
      "top 1416:  \toutlier 320 \t not outlier 1096\n",
      "top 1417:  \toutlier 321 \t not outlier 1096\n",
      "top 1418:  \toutlier 321 \t not outlier 1097\n",
      "top 1420:  \toutlier 323 \t not outlier 1097\n",
      "top 1425:  \toutlier 323 \t not outlier 1102\n",
      "top 1428:  \toutlier 326 \t not outlier 1102\n",
      "top 1455:  \toutlier 326 \t not outlier 1129\n",
      "top 1457:  \toutlier 328 \t not outlier 1129\n",
      "top 1472:  \toutlier 328 \t not outlier 1144\n",
      "top 1473:  \toutlier 329 \t not outlier 1144\n",
      "top 1478:  \toutlier 329 \t not outlier 1149\n",
      "top 1480:  \toutlier 331 \t not outlier 1149\n",
      "top 1494:  \toutlier 331 \t not outlier 1163\n",
      "top 1495:  \toutlier 332 \t not outlier 1163\n",
      "top 1508:  \toutlier 332 \t not outlier 1176\n",
      "top 1510:  \toutlier 334 \t not outlier 1176\n",
      "top 1544:  \toutlier 334 \t not outlier 1210\n",
      "top 1545:  \toutlier 335 \t not outlier 1210\n",
      "top 1571:  \toutlier 335 \t not outlier 1236\n",
      "top 1573:  \toutlier 337 \t not outlier 1236\n",
      "top 1582:  \toutlier 337 \t not outlier 1245\n",
      "top 1583:  \toutlier 338 \t not outlier 1245\n",
      "top 1585:  \toutlier 338 \t not outlier 1247\n",
      "top 1589:  \toutlier 342 \t not outlier 1247\n",
      "top 1608:  \toutlier 342 \t not outlier 1266\n",
      "top 1612:  \toutlier 346 \t not outlier 1266\n",
      "top 1617:  \toutlier 346 \t not outlier 1271\n",
      "top 1619:  \toutlier 348 \t not outlier 1271\n",
      "top 1622:  \toutlier 348 \t not outlier 1274\n",
      "top 1623:  \toutlier 349 \t not outlier 1274\n",
      "top 1643:  \toutlier 349 \t not outlier 1294\n",
      "top 1645:  \toutlier 351 \t not outlier 1294\n",
      "top 1648:  \toutlier 351 \t not outlier 1297\n",
      "top 1651:  \toutlier 354 \t not outlier 1297\n",
      "top 1656:  \toutlier 354 \t not outlier 1302\n",
      "top 1658:  \toutlier 356 \t not outlier 1302\n",
      "top 1668:  \toutlier 356 \t not outlier 1312\n",
      "top 1669:  \toutlier 357 \t not outlier 1312\n",
      "top 1672:  \toutlier 357 \t not outlier 1315\n",
      "top 1674:  \toutlier 359 \t not outlier 1315\n",
      "top 1687:  \toutlier 359 \t not outlier 1328\n",
      "top 1688:  \toutlier 360 \t not outlier 1328\n",
      "top 1704:  \toutlier 360 \t not outlier 1344\n",
      "top 1706:  \toutlier 362 \t not outlier 1344\n",
      "top 1720:  \toutlier 362 \t not outlier 1358\n",
      "top 1721:  \toutlier 363 \t not outlier 1358\n",
      "top 1731:  \toutlier 363 \t not outlier 1368\n",
      "top 1734:  \toutlier 366 \t not outlier 1368\n",
      "top 1736:  \toutlier 366 \t not outlier 1370\n",
      "top 1738:  \toutlier 368 \t not outlier 1370\n",
      "top 1739:  \toutlier 368 \t not outlier 1371\n",
      "top 1741:  \toutlier 370 \t not outlier 1371\n",
      "top 1759:  \toutlier 370 \t not outlier 1389\n",
      "top 1760:  \toutlier 371 \t not outlier 1389\n",
      "top 1765:  \toutlier 371 \t not outlier 1394\n",
      "top 1767:  \toutlier 373 \t not outlier 1394\n",
      "top 1773:  \toutlier 373 \t not outlier 1400\n",
      "top 1774:  \toutlier 374 \t not outlier 1400\n",
      "top 1776:  \toutlier 374 \t not outlier 1402\n",
      "top 1778:  \toutlier 376 \t not outlier 1402\n",
      "top 1786:  \toutlier 376 \t not outlier 1410\n",
      "top 1787:  \toutlier 377 \t not outlier 1410\n",
      "top 1793:  \toutlier 377 \t not outlier 1416\n",
      "top 1795:  \toutlier 379 \t not outlier 1416\n",
      "top 1808:  \toutlier 379 \t not outlier 1429\n",
      "top 1809:  \toutlier 380 \t not outlier 1429\n",
      "top 1814:  \toutlier 380 \t not outlier 1434\n",
      "top 1818:  \toutlier 384 \t not outlier 1434\n",
      "top 1824:  \toutlier 384 \t not outlier 1440\n",
      "top 1825:  \toutlier 385 \t not outlier 1440\n",
      "top 1827:  \toutlier 385 \t not outlier 1442\n",
      "top 1829:  \toutlier 387 \t not outlier 1442\n",
      "top 1831:  \toutlier 387 \t not outlier 1444\n",
      "top 1837:  \toutlier 393 \t not outlier 1444\n",
      "top 1838:  \toutlier 393 \t not outlier 1445\n",
      "top 1839:  \toutlier 394 \t not outlier 1445\n",
      "top 1851:  \toutlier 394 \t not outlier 1457\n",
      "top 1853:  \toutlier 396 \t not outlier 1457\n",
      "top 1859:  \toutlier 396 \t not outlier 1463\n",
      "top 1860:  \toutlier 397 \t not outlier 1463\n",
      "top 1866:  \toutlier 397 \t not outlier 1469\n",
      "top 1868:  \toutlier 399 \t not outlier 1469\n",
      "top 1877:  \toutlier 399 \t not outlier 1478\n",
      "top 1880:  \toutlier 402 \t not outlier 1478\n",
      "top 1881:  \toutlier 402 \t not outlier 1479\n",
      "top 1883:  \toutlier 404 \t not outlier 1479\n",
      "top 1886:  \toutlier 404 \t not outlier 1482\n",
      "top 1887:  \toutlier 405 \t not outlier 1482\n",
      "top 1929:  \toutlier 405 \t not outlier 1524\n",
      "top 1931:  \toutlier 407 \t not outlier 1524\n",
      "top 1944:  \toutlier 407 \t not outlier 1537\n",
      "top 1945:  \toutlier 408 \t not outlier 1537\n",
      "top 1968:  \toutlier 408 \t not outlier 1560\n",
      "top 1970:  \toutlier 410 \t not outlier 1560\n",
      "top 1992:  \toutlier 410 \t not outlier 1582\n",
      "top 1993:  \toutlier 411 \t not outlier 1582\n",
      "top 1997:  \toutlier 411 \t not outlier 1586\n",
      "top 1999:  \toutlier 413 \t not outlier 1586\n",
      "top 2018:  \toutlier 413 \t not outlier 1605\n",
      "top 2023:  \toutlier 418 \t not outlier 1605\n",
      "top 2050:  \toutlier 418 \t not outlier 1632\n",
      "top 2051:  \toutlier 419 \t not outlier 1632\n",
      "top 2053:  \toutlier 419 \t not outlier 1634\n",
      "top 2055:  \toutlier 421 \t not outlier 1634\n",
      "top 2060:  \toutlier 421 \t not outlier 1639\n",
      "top 2061:  \toutlier 422 \t not outlier 1639\n",
      "top 2078:  \toutlier 422 \t not outlier 1656\n",
      "top 2081:  \toutlier 425 \t not outlier 1656\n",
      "top 2088:  \toutlier 425 \t not outlier 1663\n",
      "top 2093:  \toutlier 430 \t not outlier 1663\n",
      "top 2117:  \toutlier 430 \t not outlier 1687\n",
      "top 2120:  \toutlier 433 \t not outlier 1687\n",
      "top 2122:  \toutlier 433 \t not outlier 1689\n",
      "top 2124:  \toutlier 435 \t not outlier 1689\n",
      "top 2132:  \toutlier 435 \t not outlier 1697\n",
      "top 2133:  \toutlier 436 \t not outlier 1697\n",
      "top 2139:  \toutlier 436 \t not outlier 1703\n",
      "top 2141:  \toutlier 438 \t not outlier 1703\n",
      "top 2164:  \toutlier 438 \t not outlier 1726\n",
      "top 2165:  \toutlier 439 \t not outlier 1726\n",
      "top 2179:  \toutlier 439 \t not outlier 1740\n",
      "top 2181:  \toutlier 441 \t not outlier 1740\n",
      "top 2196:  \toutlier 441 \t not outlier 1755\n",
      "top 2198:  \toutlier 443 \t not outlier 1755\n",
      "top 2209:  \toutlier 443 \t not outlier 1766\n",
      "top 2210:  \toutlier 444 \t not outlier 1766\n",
      "top 2215:  \toutlier 444 \t not outlier 1771\n",
      "top 2217:  \toutlier 446 \t not outlier 1771\n",
      "top 2228:  \toutlier 446 \t not outlier 1782\n",
      "top 2229:  \toutlier 447 \t not outlier 1782\n",
      "top 2302:  \toutlier 447 \t not outlier 1855\n",
      "top 2304:  \toutlier 449 \t not outlier 1855\n",
      "top 2323:  \toutlier 449 \t not outlier 1874\n",
      "top 2324:  \toutlier 450 \t not outlier 1874\n",
      "top 2339:  \toutlier 450 \t not outlier 1889\n",
      "top 2341:  \toutlier 452 \t not outlier 1889\n",
      "top 2352:  \toutlier 452 \t not outlier 1900\n",
      "top 2353:  \toutlier 453 \t not outlier 1900\n",
      "top 2358:  \toutlier 453 \t not outlier 1905\n",
      "top 2360:  \toutlier 455 \t not outlier 1905\n",
      "top 2382:  \toutlier 455 \t not outlier 1927\n",
      "top 2385:  \toutlier 458 \t not outlier 1927\n",
      "top 2395:  \toutlier 458 \t not outlier 1937\n",
      "top 2397:  \toutlier 460 \t not outlier 1937\n",
      "top 2400:  \toutlier 460 \t not outlier 1940\n",
      "top 2401:  \toutlier 461 \t not outlier 1940\n",
      "top 2430:  \toutlier 461 \t not outlier 1969\n",
      "top 2432:  \toutlier 463 \t not outlier 1969\n",
      "top 2439:  \toutlier 463 \t not outlier 1976\n",
      "top 2440:  \toutlier 464 \t not outlier 1976\n",
      "top 2443:  \toutlier 464 \t not outlier 1979\n",
      "top 2445:  \toutlier 466 \t not outlier 1979\n",
      "top 2446:  \toutlier 466 \t not outlier 1980\n",
      "top 2447:  \toutlier 467 \t not outlier 1980\n",
      "top 2449:  \toutlier 467 \t not outlier 1982\n",
      "top 2451:  \toutlier 469 \t not outlier 1982\n",
      "top 2453:  \toutlier 469 \t not outlier 1984\n",
      "top 2455:  \toutlier 471 \t not outlier 1984\n",
      "top 2471:  \toutlier 471 \t not outlier 2000\n",
      "top 2472:  \toutlier 472 \t not outlier 2000\n",
      "top 2489:  \toutlier 472 \t not outlier 2017\n",
      "top 2492:  \toutlier 475 \t not outlier 2017\n",
      "top 2497:  \toutlier 475 \t not outlier 2022\n",
      "top 2500:  \toutlier 478 \t not outlier 2022\n",
      "top 2508:  \toutlier 478 \t not outlier 2030\n",
      "top 2510:  \toutlier 480 \t not outlier 2030\n",
      "top 2512:  \toutlier 480 \t not outlier 2032\n",
      "top 2513:  \toutlier 481 \t not outlier 2032\n",
      "top 2519:  \toutlier 481 \t not outlier 2038\n",
      "top 2521:  \toutlier 483 \t not outlier 2038\n",
      "top 2549:  \toutlier 483 \t not outlier 2066\n",
      "top 2551:  \toutlier 485 \t not outlier 2066\n",
      "top 2581:  \toutlier 485 \t not outlier 2096\n",
      "top 2582:  \toutlier 486 \t not outlier 2096\n",
      "top 2587:  \toutlier 486 \t not outlier 2101\n",
      "top 2592:  \toutlier 491 \t not outlier 2101\n",
      "top 2602:  \toutlier 491 \t not outlier 2111\n",
      "top 2603:  \toutlier 492 \t not outlier 2111\n",
      "top 2627:  \toutlier 492 \t not outlier 2135\n",
      "top 2629:  \toutlier 494 \t not outlier 2135\n",
      "top 2647:  \toutlier 494 \t not outlier 2153\n",
      "top 2648:  \toutlier 495 \t not outlier 2153\n",
      "top 2680:  \toutlier 495 \t not outlier 2185\n",
      "top 2682:  \toutlier 497 \t not outlier 2185\n",
      "top 2697:  \toutlier 497 \t not outlier 2200\n",
      "top 2699:  \toutlier 499 \t not outlier 2200\n",
      "top 2703:  \toutlier 499 \t not outlier 2204\n",
      "top 2704:  \toutlier 500 \t not outlier 2204\n",
      "top 2717:  \toutlier 500 \t not outlier 2217\n",
      "top 2719:  \toutlier 502 \t not outlier 2217\n",
      "top 2723:  \toutlier 502 \t not outlier 2221\n",
      "top 2724:  \toutlier 503 \t not outlier 2221\n",
      "top 2738:  \toutlier 503 \t not outlier 2235\n",
      "top 2740:  \toutlier 505 \t not outlier 2235\n",
      "top 2747:  \toutlier 505 \t not outlier 2242\n",
      "top 2748:  \toutlier 506 \t not outlier 2242\n",
      "top 2764:  \toutlier 506 \t not outlier 2258\n",
      "top 2766:  \toutlier 508 \t not outlier 2258\n",
      "top 2785:  \toutlier 508 \t not outlier 2277\n",
      "top 2786:  \toutlier 509 \t not outlier 2277\n",
      "top 2809:  \toutlier 509 \t not outlier 2300\n",
      "top 2811:  \toutlier 511 \t not outlier 2300\n",
      "top 2835:  \toutlier 511 \t not outlier 2324\n",
      "top 2837:  \toutlier 513 \t not outlier 2324\n",
      "top 2863:  \toutlier 513 \t not outlier 2350\n",
      "top 2864:  \toutlier 514 \t not outlier 2350\n",
      "top 2865:  \toutlier 514 \t not outlier 2351\n",
      "top 2867:  \toutlier 516 \t not outlier 2351\n",
      "top 2880:  \toutlier 516 \t not outlier 2364\n",
      "top 2881:  \toutlier 517 \t not outlier 2364\n",
      "top 2925:  \toutlier 517 \t not outlier 2408\n",
      "top 2927:  \toutlier 519 \t not outlier 2408\n",
      "top 2930:  \toutlier 519 \t not outlier 2411\n",
      "top 2931:  \toutlier 520 \t not outlier 2411\n",
      "top 2932:  \toutlier 520 \t not outlier 2412\n",
      "top 2934:  \toutlier 522 \t not outlier 2412\n",
      "top 2955:  \toutlier 522 \t not outlier 2433\n",
      "top 2958:  \toutlier 525 \t not outlier 2433\n",
      "top 2974:  \toutlier 525 \t not outlier 2449\n",
      "top 2976:  \toutlier 527 \t not outlier 2449\n",
      "top 3002:  \toutlier 527 \t not outlier 2475\n",
      "top 3003:  \toutlier 528 \t not outlier 2475\n",
      "top 3039:  \toutlier 528 \t not outlier 2511\n",
      "top 3041:  \toutlier 530 \t not outlier 2511\n",
      "top 3046:  \toutlier 530 \t not outlier 2516\n",
      "top 3047:  \toutlier 531 \t not outlier 2516\n",
      "top 3056:  \toutlier 531 \t not outlier 2525\n",
      "top 3058:  \toutlier 533 \t not outlier 2525\n",
      "top 3086:  \toutlier 533 \t not outlier 2553\n",
      "top 3087:  \toutlier 534 \t not outlier 2553\n",
      "top 3096:  \toutlier 534 \t not outlier 2562\n",
      "top 3099:  \toutlier 537 \t not outlier 2562\n",
      "top 3122:  \toutlier 537 \t not outlier 2585\n",
      "top 3124:  \toutlier 539 \t not outlier 2585\n",
      "top 3156:  \toutlier 539 \t not outlier 2617\n",
      "top 3158:  \toutlier 541 \t not outlier 2617\n",
      "top 3181:  \toutlier 541 \t not outlier 2640\n",
      "top 3182:  \toutlier 542 \t not outlier 2640\n",
      "top 3198:  \toutlier 542 \t not outlier 2656\n",
      "top 3200:  \toutlier 544 \t not outlier 2656\n",
      "top 3337:  \toutlier 544 \t not outlier 2793\n",
      "top 3338:  \toutlier 545 \t not outlier 2793\n",
      "top 3375:  \toutlier 545 \t not outlier 2830\n",
      "top 3377:  \toutlier 547 \t not outlier 2830\n",
      "top 3382:  \toutlier 547 \t not outlier 2835\n",
      "top 3383:  \toutlier 548 \t not outlier 2835\n",
      "top 3386:  \toutlier 548 \t not outlier 2838\n",
      "top 3389:  \toutlier 551 \t not outlier 2838\n",
      "top 3392:  \toutlier 551 \t not outlier 2841\n",
      "top 3394:  \toutlier 553 \t not outlier 2841\n",
      "top 3404:  \toutlier 553 \t not outlier 2851\n",
      "top 3406:  \toutlier 555 \t not outlier 2851\n",
      "top 3419:  \toutlier 555 \t not outlier 2864\n",
      "top 3420:  \toutlier 556 \t not outlier 2864\n",
      "top 3460:  \toutlier 556 \t not outlier 2904\n",
      "top 3462:  \toutlier 558 \t not outlier 2904\n",
      "top 3504:  \toutlier 558 \t not outlier 2946\n",
      "top 3505:  \toutlier 559 \t not outlier 2946\n",
      "top 3521:  \toutlier 559 \t not outlier 2962\n",
      "top 3523:  \toutlier 561 \t not outlier 2962\n",
      "top 3536:  \toutlier 561 \t not outlier 2975\n",
      "top 3537:  \toutlier 562 \t not outlier 2975\n",
      "top 3661:  \toutlier 562 \t not outlier 3099\n",
      "top 3663:  \toutlier 564 \t not outlier 3099\n",
      "top 3681:  \toutlier 564 \t not outlier 3117\n",
      "top 3682:  \toutlier 565 \t not outlier 3117\n",
      "top 3730:  \toutlier 565 \t not outlier 3165\n",
      "top 3732:  \toutlier 567 \t not outlier 3165\n",
      "top 3743:  \toutlier 567 \t not outlier 3176\n",
      "top 3745:  \toutlier 569 \t not outlier 3176\n",
      "top 3747:  \toutlier 569 \t not outlier 3178\n",
      "top 3748:  \toutlier 570 \t not outlier 3178\n",
      "top 3756:  \toutlier 570 \t not outlier 3186\n",
      "top 3758:  \toutlier 572 \t not outlier 3186\n",
      "top 3855:  \toutlier 572 \t not outlier 3283\n",
      "top 3856:  \toutlier 573 \t not outlier 3283\n",
      "top 3865:  \toutlier 573 \t not outlier 3292\n",
      "top 3867:  \toutlier 575 \t not outlier 3292\n",
      "top 3885:  \toutlier 575 \t not outlier 3310\n",
      "top 3886:  \toutlier 576 \t not outlier 3310\n",
      "top 3964:  \toutlier 576 \t not outlier 3388\n",
      "top 3966:  \toutlier 578 \t not outlier 3388\n",
      "top 3978:  \toutlier 578 \t not outlier 3400\n",
      "top 3979:  \toutlier 579 \t not outlier 3400\n",
      "top 3981:  \toutlier 579 \t not outlier 3402\n",
      "top 3983:  \toutlier 581 \t not outlier 3402\n",
      "top 3994:  \toutlier 581 \t not outlier 3413\n",
      "top 3995:  \toutlier 582 \t not outlier 3413\n",
      "top 4021:  \toutlier 582 \t not outlier 3439\n",
      "top 4023:  \toutlier 584 \t not outlier 3439\n",
      "top 4025:  \toutlier 584 \t not outlier 3441\n",
      "top 4027:  \toutlier 586 \t not outlier 3441\n",
      "top 4030:  \toutlier 586 \t not outlier 3444\n",
      "top 4031:  \toutlier 587 \t not outlier 3444\n",
      "top 4036:  \toutlier 587 \t not outlier 3449\n",
      "top 4039:  \toutlier 590 \t not outlier 3449\n",
      "top 4065:  \toutlier 590 \t not outlier 3475\n",
      "top 4067:  \toutlier 592 \t not outlier 3475\n",
      "top 4073:  \toutlier 592 \t not outlier 3481\n",
      "top 4074:  \toutlier 593 \t not outlier 3481\n",
      "top 4079:  \toutlier 593 \t not outlier 3486\n",
      "top 4082:  \toutlier 596 \t not outlier 3486\n",
      "top 4148:  \toutlier 596 \t not outlier 3552\n",
      "top 4150:  \toutlier 598 \t not outlier 3552\n",
      "top 4168:  \toutlier 598 \t not outlier 3570\n",
      "top 4170:  \toutlier 600 \t not outlier 3570\n",
      "top 4195:  \toutlier 600 \t not outlier 3595\n",
      "top 4196:  \toutlier 601 \t not outlier 3595\n",
      "top 4208:  \toutlier 601 \t not outlier 3607\n",
      "top 4210:  \toutlier 603 \t not outlier 3607\n",
      "top 4211:  \toutlier 603 \t not outlier 3608\n",
      "top 4212:  \toutlier 604 \t not outlier 3608\n",
      "top 4230:  \toutlier 604 \t not outlier 3626\n",
      "top 4232:  \toutlier 606 \t not outlier 3626\n",
      "top 4239:  \toutlier 606 \t not outlier 3633\n",
      "top 4240:  \toutlier 607 \t not outlier 3633\n",
      "top 4262:  \toutlier 607 \t not outlier 3655\n",
      "top 4264:  \toutlier 609 \t not outlier 3655\n",
      "top 4295:  \toutlier 609 \t not outlier 3686\n",
      "top 4296:  \toutlier 610 \t not outlier 3686\n",
      "top 4313:  \toutlier 610 \t not outlier 3703\n",
      "top 4315:  \toutlier 612 \t not outlier 3703\n",
      "top 4324:  \toutlier 612 \t not outlier 3712\n",
      "top 4326:  \toutlier 614 \t not outlier 3712\n",
      "top 4413:  \toutlier 614 \t not outlier 3799\n",
      "top 4414:  \toutlier 615 \t not outlier 3799\n",
      "top 4436:  \toutlier 615 \t not outlier 3821\n",
      "top 4438:  \toutlier 617 \t not outlier 3821\n",
      "top 4440:  \toutlier 617 \t not outlier 3823\n",
      "top 4443:  \toutlier 620 \t not outlier 3823\n",
      "top 4446:  \toutlier 620 \t not outlier 3826\n",
      "top 4447:  \toutlier 621 \t not outlier 3826\n",
      "top 4460:  \toutlier 621 \t not outlier 3839\n",
      "top 4462:  \toutlier 623 \t not outlier 3839\n",
      "top 4472:  \toutlier 623 \t not outlier 3849\n",
      "top 4473:  \toutlier 624 \t not outlier 3849\n",
      "top 4479:  \toutlier 624 \t not outlier 3855\n",
      "top 4481:  \toutlier 626 \t not outlier 3855\n",
      "top 4484:  \toutlier 626 \t not outlier 3858\n",
      "top 4486:  \toutlier 628 \t not outlier 3858\n",
      "top 4547:  \toutlier 628 \t not outlier 3919\n",
      "top 4548:  \toutlier 629 \t not outlier 3919\n",
      "top 4561:  \toutlier 629 \t not outlier 3932\n",
      "top 4563:  \toutlier 631 \t not outlier 3932\n",
      "top 4571:  \toutlier 631 \t not outlier 3940\n",
      "top 4572:  \toutlier 632 \t not outlier 3940\n",
      "top 4590:  \toutlier 632 \t not outlier 3958\n",
      "top 4592:  \toutlier 634 \t not outlier 3958\n",
      "top 4595:  \toutlier 634 \t not outlier 3961\n",
      "top 4596:  \toutlier 635 \t not outlier 3961\n",
      "top 4621:  \toutlier 635 \t not outlier 3986\n",
      "top 4623:  \toutlier 637 \t not outlier 3986\n",
      "top 4643:  \toutlier 637 \t not outlier 4006\n",
      "top 4644:  \toutlier 638 \t not outlier 4006\n",
      "top 4651:  \toutlier 638 \t not outlier 4013\n",
      "top 4653:  \toutlier 640 \t not outlier 4013\n",
      "top 4656:  \toutlier 640 \t not outlier 4016\n",
      "top 4658:  \toutlier 642 \t not outlier 4016\n",
      "top 4663:  \toutlier 642 \t not outlier 4021\n",
      "top 4664:  \toutlier 643 \t not outlier 4021\n",
      "top 4677:  \toutlier 643 \t not outlier 4034\n",
      "top 4679:  \toutlier 645 \t not outlier 4034\n",
      "top 4751:  \toutlier 645 \t not outlier 4106\n",
      "top 4752:  \toutlier 646 \t not outlier 4106\n",
      "top 4760:  \toutlier 646 \t not outlier 4114\n",
      "top 4762:  \toutlier 648 \t not outlier 4114\n",
      "top 4772:  \toutlier 648 \t not outlier 4124\n",
      "top 4773:  \toutlier 649 \t not outlier 4124\n",
      "top 4802:  \toutlier 649 \t not outlier 4153\n",
      "top 4804:  \toutlier 651 \t not outlier 4153\n",
      "top 4835:  \toutlier 651 \t not outlier 4184\n",
      "top 4836:  \toutlier 652 \t not outlier 4184\n",
      "top 4978:  \toutlier 652 \t not outlier 4326\n",
      "top 4980:  \toutlier 654 \t not outlier 4326\n",
      "top 5010:  \toutlier 654 \t not outlier 4356\n",
      "top 5012:  \toutlier 656 \t not outlier 4356\n",
      "top 5014:  \toutlier 656 \t not outlier 4358\n",
      "top 5015:  \toutlier 657 \t not outlier 4358\n",
      "top 5021:  \toutlier 657 \t not outlier 4364\n",
      "top 5023:  \toutlier 659 \t not outlier 4364\n",
      "top 5049:  \toutlier 659 \t not outlier 4390\n",
      "top 5050:  \toutlier 660 \t not outlier 4390\n",
      "top 5052:  \toutlier 660 \t not outlier 4392\n",
      "top 5054:  \toutlier 662 \t not outlier 4392\n",
      "top 5076:  \toutlier 662 \t not outlier 4414\n",
      "top 5077:  \toutlier 663 \t not outlier 4414\n",
      "top 5082:  \toutlier 663 \t not outlier 4419\n",
      "top 5084:  \toutlier 665 \t not outlier 4419\n",
      "top 5091:  \toutlier 665 \t not outlier 4426\n",
      "top 5092:  \toutlier 666 \t not outlier 4426\n",
      "top 5141:  \toutlier 666 \t not outlier 4475\n",
      "top 5143:  \toutlier 668 \t not outlier 4475\n",
      "top 5158:  \toutlier 668 \t not outlier 4490\n",
      "top 5160:  \toutlier 670 \t not outlier 4490\n",
      "top 5162:  \toutlier 670 \t not outlier 4492\n",
      "top 5163:  \toutlier 671 \t not outlier 4492\n",
      "top 5172:  \toutlier 671 \t not outlier 4501\n",
      "top 5174:  \toutlier 673 \t not outlier 4501\n",
      "top 5181:  \toutlier 673 \t not outlier 4508\n",
      "top 5182:  \toutlier 674 \t not outlier 4508\n",
      "top 5233:  \toutlier 674 \t not outlier 4559\n",
      "top 5235:  \toutlier 676 \t not outlier 4559\n",
      "top 5239:  \toutlier 676 \t not outlier 4563\n",
      "top 5240:  \toutlier 677 \t not outlier 4563\n",
      "top 5298:  \toutlier 677 \t not outlier 4621\n",
      "top 5300:  \toutlier 679 \t not outlier 4621\n",
      "top 5311:  \toutlier 679 \t not outlier 4632\n",
      "top 5312:  \toutlier 680 \t not outlier 4632\n",
      "top 5370:  \toutlier 680 \t not outlier 4690\n",
      "top 5372:  \toutlier 682 \t not outlier 4690\n",
      "top 5378:  \toutlier 682 \t not outlier 4696\n",
      "top 5380:  \toutlier 684 \t not outlier 4696\n",
      "top 5384:  \toutlier 684 \t not outlier 4700\n",
      "top 5385:  \toutlier 685 \t not outlier 4700\n",
      "top 5467:  \toutlier 685 \t not outlier 4782\n",
      "top 5469:  \toutlier 687 \t not outlier 4782\n",
      "top 5472:  \toutlier 687 \t not outlier 4785\n",
      "top 5473:  \toutlier 688 \t not outlier 4785\n",
      "top 5486:  \toutlier 688 \t not outlier 4798\n",
      "top 5488:  \toutlier 690 \t not outlier 4798\n",
      "top 5518:  \toutlier 690 \t not outlier 4828\n",
      "top 5519:  \toutlier 691 \t not outlier 4828\n",
      "top 5539:  \toutlier 691 \t not outlier 4848\n",
      "top 5541:  \toutlier 693 \t not outlier 4848\n",
      "top 5613:  \toutlier 693 \t not outlier 4920\n",
      "top 5616:  \toutlier 696 \t not outlier 4920\n",
      "top 5634:  \toutlier 696 \t not outlier 4938\n",
      "top 5636:  \toutlier 698 \t not outlier 4938\n",
      "top 5665:  \toutlier 698 \t not outlier 4967\n",
      "top 5666:  \toutlier 699 \t not outlier 4967\n",
      "top 5734:  \toutlier 699 \t not outlier 5035\n",
      "top 5736:  \toutlier 701 \t not outlier 5035\n",
      "top 5739:  \toutlier 701 \t not outlier 5038\n",
      "top 5740:  \toutlier 702 \t not outlier 5038\n",
      "top 5748:  \toutlier 702 \t not outlier 5046\n",
      "top 5750:  \toutlier 704 \t not outlier 5046\n",
      "top 5774:  \toutlier 704 \t not outlier 5070\n",
      "top 5775:  \toutlier 705 \t not outlier 5070\n",
      "top 5783:  \toutlier 705 \t not outlier 5078\n",
      "top 5785:  \toutlier 707 \t not outlier 5078\n",
      "top 5818:  \toutlier 707 \t not outlier 5111\n",
      "top 5819:  \toutlier 708 \t not outlier 5111\n",
      "top 5869:  \toutlier 708 \t not outlier 5161\n",
      "top 5871:  \toutlier 710 \t not outlier 5161\n",
      "top 5879:  \toutlier 710 \t not outlier 5169\n",
      "top 5881:  \toutlier 712 \t not outlier 5169\n",
      "top 5943:  \toutlier 712 \t not outlier 5231\n",
      "top 5944:  \toutlier 713 \t not outlier 5231\n",
      "top 5949:  \toutlier 713 \t not outlier 5236\n",
      "top 5952:  \toutlier 716 \t not outlier 5236\n",
      "top 5959:  \toutlier 716 \t not outlier 5243\n",
      "top 5961:  \toutlier 718 \t not outlier 5243\n",
      "top 6004:  \toutlier 718 \t not outlier 5286\n",
      "top 6005:  \toutlier 719 \t not outlier 5286\n",
      "top 6012:  \toutlier 719 \t not outlier 5293\n",
      "top 6014:  \toutlier 721 \t not outlier 5293\n",
      "top 6115:  \toutlier 721 \t not outlier 5394\n",
      "top 6116:  \toutlier 722 \t not outlier 5394\n",
      "top 6119:  \toutlier 722 \t not outlier 5397\n",
      "top 6121:  \toutlier 724 \t not outlier 5397\n",
      "top 6221:  \toutlier 724 \t not outlier 5497\n",
      "top 6223:  \toutlier 726 \t not outlier 5497\n",
      "top 6231:  \toutlier 726 \t not outlier 5505\n",
      "top 6232:  \toutlier 727 \t not outlier 5505\n",
      "top 6261:  \toutlier 727 \t not outlier 5534\n",
      "top 6264:  \toutlier 730 \t not outlier 5534\n",
      "top 6318:  \toutlier 730 \t not outlier 5588\n",
      "top 6320:  \toutlier 732 \t not outlier 5588\n",
      "top 6344:  \toutlier 732 \t not outlier 5612\n",
      "top 6345:  \toutlier 733 \t not outlier 5612\n",
      "top 6353:  \toutlier 733 \t not outlier 5620\n",
      "top 6355:  \toutlier 735 \t not outlier 5620\n",
      "top 6358:  \toutlier 735 \t not outlier 5623\n",
      "top 6359:  \toutlier 736 \t not outlier 5623\n",
      "top 6454:  \toutlier 736 \t not outlier 5718\n",
      "top 6456:  \toutlier 738 \t not outlier 5718\n",
      "top 6464:  \toutlier 738 \t not outlier 5726\n",
      "top 6466:  \toutlier 740 \t not outlier 5726\n",
      "top 6486:  \toutlier 740 \t not outlier 5746\n",
      "top 6487:  \toutlier 741 \t not outlier 5746\n",
      "top 6509:  \toutlier 741 \t not outlier 5768\n",
      "top 6511:  \toutlier 743 \t not outlier 5768\n",
      "top 6561:  \toutlier 743 \t not outlier 5818\n",
      "top 6562:  \toutlier 744 \t not outlier 5818\n",
      "top 6598:  \toutlier 744 \t not outlier 5854\n",
      "top 6600:  \toutlier 746 \t not outlier 5854\n",
      "top 6693:  \toutlier 746 \t not outlier 5947\n",
      "top 6694:  \toutlier 747 \t not outlier 5947\n",
      "top 6812:  \toutlier 747 \t not outlier 6065\n",
      "top 6814:  \toutlier 749 \t not outlier 6065\n",
      "top 6838:  \toutlier 749 \t not outlier 6089\n",
      "top 6839:  \toutlier 750 \t not outlier 6089\n",
      "top 6845:  \toutlier 750 \t not outlier 6095\n",
      "top 6849:  \toutlier 754 \t not outlier 6095\n",
      "top 6886:  \toutlier 754 \t not outlier 6132\n",
      "top 6887:  \toutlier 755 \t not outlier 6132\n",
      "top 6916:  \toutlier 755 \t not outlier 6161\n",
      "top 6918:  \toutlier 757 \t not outlier 6161\n",
      "top 6936:  \toutlier 757 \t not outlier 6179\n",
      "top 6937:  \toutlier 758 \t not outlier 6179\n",
      "top 6942:  \toutlier 758 \t not outlier 6184\n",
      "top 6944:  \toutlier 760 \t not outlier 6184\n",
      "top 6983:  \toutlier 760 \t not outlier 6223\n",
      "top 6984:  \toutlier 761 \t not outlier 6223\n",
      "top 6995:  \toutlier 761 \t not outlier 6234\n",
      "top 6997:  \toutlier 763 \t not outlier 6234\n",
      "top 7010:  \toutlier 763 \t not outlier 6247\n",
      "top 7011:  \toutlier 764 \t not outlier 6247\n",
      "top 7037:  \toutlier 764 \t not outlier 6273\n",
      "top 7039:  \toutlier 766 \t not outlier 6273\n",
      "top 7053:  \toutlier 766 \t not outlier 6287\n",
      "top 7055:  \toutlier 768 \t not outlier 6287\n",
      "top 7065:  \toutlier 768 \t not outlier 6297\n",
      "top 7066:  \toutlier 769 \t not outlier 6297\n",
      "top 7109:  \toutlier 769 \t not outlier 6340\n",
      "top 7111:  \toutlier 771 \t not outlier 6340\n",
      "top 7163:  \toutlier 771 \t not outlier 6392\n",
      "top 7164:  \toutlier 772 \t not outlier 6392\n",
      "top 7175:  \toutlier 772 \t not outlier 6403\n",
      "top 7177:  \toutlier 774 \t not outlier 6403\n",
      "top 7180:  \toutlier 774 \t not outlier 6406\n",
      "top 7181:  \toutlier 775 \t not outlier 6406\n",
      "top 7193:  \toutlier 775 \t not outlier 6418\n",
      "top 7195:  \toutlier 777 \t not outlier 6418\n",
      "top 7241:  \toutlier 777 \t not outlier 6464\n",
      "top 7242:  \toutlier 778 \t not outlier 6464\n",
      "top 7326:  \toutlier 778 \t not outlier 6548\n",
      "top 7328:  \toutlier 780 \t not outlier 6548\n",
      "top 7365:  \toutlier 780 \t not outlier 6585\n",
      "top 7366:  \toutlier 781 \t not outlier 6585\n",
      "top 7400:  \toutlier 781 \t not outlier 6619\n",
      "top 7402:  \toutlier 783 \t not outlier 6619\n",
      "top 7462:  \toutlier 783 \t not outlier 6679\n",
      "top 7464:  \toutlier 785 \t not outlier 6679\n",
      "top 7467:  \toutlier 785 \t not outlier 6682\n",
      "top 7468:  \toutlier 786 \t not outlier 6682\n",
      "top 7505:  \toutlier 786 \t not outlier 6719\n",
      "top 7507:  \toutlier 788 \t not outlier 6719\n",
      "top 7515:  \toutlier 788 \t not outlier 6727\n",
      "top 7516:  \toutlier 789 \t not outlier 6727\n",
      "top 7529:  \toutlier 789 \t not outlier 6740\n",
      "top 7531:  \toutlier 791 \t not outlier 6740\n",
      "top 7542:  \toutlier 791 \t not outlier 6751\n",
      "top 7543:  \toutlier 792 \t not outlier 6751\n",
      "top 7558:  \toutlier 792 \t not outlier 6766\n",
      "top 7560:  \toutlier 794 \t not outlier 6766\n",
      "top 7595:  \toutlier 794 \t not outlier 6801\n",
      "top 7596:  \toutlier 795 \t not outlier 6801\n",
      "top 7614:  \toutlier 795 \t not outlier 6819\n",
      "top 7616:  \toutlier 797 \t not outlier 6819\n",
      "top 7653:  \toutlier 797 \t not outlier 6856\n",
      "top 7655:  \toutlier 799 \t not outlier 6856\n",
      "top 7687:  \toutlier 799 \t not outlier 6888\n",
      "top 7688:  \toutlier 800 \t not outlier 6888\n",
      "top 7774:  \toutlier 800 \t not outlier 6974\n",
      "top 7776:  \toutlier 802 \t not outlier 6974\n",
      "top 7779:  \toutlier 802 \t not outlier 6977\n",
      "top 7780:  \toutlier 803 \t not outlier 6977\n",
      "top 7882:  \toutlier 803 \t not outlier 7079\n",
      "top 7884:  \toutlier 805 \t not outlier 7079\n",
      "top 7925:  \toutlier 805 \t not outlier 7120\n",
      "top 7926:  \toutlier 806 \t not outlier 7120\n",
      "top 8023:  \toutlier 806 \t not outlier 7217\n",
      "top 8025:  \toutlier 808 \t not outlier 7217\n",
      "top 8045:  \toutlier 808 \t not outlier 7237\n",
      "top 8046:  \toutlier 809 \t not outlier 7237\n",
      "top 8115:  \toutlier 809 \t not outlier 7306\n",
      "top 8117:  \toutlier 811 \t not outlier 7306\n",
      "top 8162:  \toutlier 811 \t not outlier 7351\n",
      "top 8164:  \toutlier 813 \t not outlier 7351\n",
      "top 8341:  \toutlier 813 \t not outlier 7528\n",
      "top 8344:  \toutlier 816 \t not outlier 7528\n",
      "top 8426:  \toutlier 816 \t not outlier 7610\n",
      "top 8427:  \toutlier 817 \t not outlier 7610\n",
      "top 8429:  \toutlier 817 \t not outlier 7612\n",
      "top 8431:  \toutlier 819 \t not outlier 7612\n",
      "top 8454:  \toutlier 819 \t not outlier 7635\n",
      "top 8455:  \toutlier 820 \t not outlier 7635\n",
      "top 8477:  \toutlier 820 \t not outlier 7657\n",
      "top 8479:  \toutlier 822 \t not outlier 7657\n",
      "top 8507:  \toutlier 822 \t not outlier 7685\n",
      "top 8508:  \toutlier 823 \t not outlier 7685\n",
      "top 8530:  \toutlier 823 \t not outlier 7707\n",
      "top 8532:  \toutlier 825 \t not outlier 7707\n",
      "top 8572:  \toutlier 825 \t not outlier 7747\n",
      "top 8574:  \toutlier 827 \t not outlier 7747\n",
      "top 8597:  \toutlier 827 \t not outlier 7770\n",
      "top 8598:  \toutlier 828 \t not outlier 7770\n",
      "top 8650:  \toutlier 828 \t not outlier 7822\n",
      "top 8652:  \toutlier 830 \t not outlier 7822\n",
      "top 8671:  \toutlier 830 \t not outlier 7841\n",
      "top 8672:  \toutlier 831 \t not outlier 7841\n",
      "top 8680:  \toutlier 831 \t not outlier 7849\n",
      "top 8682:  \toutlier 833 \t not outlier 7849\n",
      "top 8701:  \toutlier 833 \t not outlier 7868\n",
      "top 8702:  \toutlier 834 \t not outlier 7868\n",
      "top 8730:  \toutlier 834 \t not outlier 7896\n",
      "top 8732:  \toutlier 836 \t not outlier 7896\n",
      "top 8740:  \toutlier 836 \t not outlier 7904\n",
      "top 8741:  \toutlier 837 \t not outlier 7904\n",
      "top 8821:  \toutlier 837 \t not outlier 7984\n",
      "top 8823:  \toutlier 839 \t not outlier 7984\n",
      "top 8841:  \toutlier 839 \t not outlier 8002\n",
      "top 8843:  \toutlier 841 \t not outlier 8002\n",
      "top 8885:  \toutlier 841 \t not outlier 8044\n",
      "top 8886:  \toutlier 842 \t not outlier 8044\n",
      "top 8909:  \toutlier 842 \t not outlier 8067\n",
      "top 8911:  \toutlier 844 \t not outlier 8067\n",
      "top 8957:  \toutlier 844 \t not outlier 8113\n",
      "top 8958:  \toutlier 845 \t not outlier 8113\n",
      "top 9126:  \toutlier 845 \t not outlier 8281\n",
      "top 9128:  \toutlier 847 \t not outlier 8281\n",
      "top 9233:  \toutlier 847 \t not outlier 8386\n",
      "top 9234:  \toutlier 848 \t not outlier 8386\n",
      "top 9253:  \toutlier 848 \t not outlier 8405\n",
      "top 9255:  \toutlier 850 \t not outlier 8405\n",
      "top 9332:  \toutlier 850 \t not outlier 8482\n",
      "top 9333:  \toutlier 851 \t not outlier 8482\n",
      "top 9361:  \toutlier 851 \t not outlier 8510\n",
      "top 9363:  \toutlier 853 \t not outlier 8510\n",
      "top 9476:  \toutlier 853 \t not outlier 8623\n",
      "top 9478:  \toutlier 855 \t not outlier 8623\n",
      "top 9484:  \toutlier 855 \t not outlier 8629\n",
      "top 9485:  \toutlier 856 \t not outlier 8629\n",
      "top 9577:  \toutlier 856 \t not outlier 8721\n",
      "top 9579:  \toutlier 858 \t not outlier 8721\n",
      "top 9584:  \toutlier 858 \t not outlier 8726\n",
      "top 9585:  \toutlier 859 \t not outlier 8726\n",
      "top 9586:  \toutlier 859 \t not outlier 8727\n",
      "top 9588:  \toutlier 861 \t not outlier 8727\n",
      "top 9595:  \toutlier 861 \t not outlier 8734\n",
      "top 9596:  \toutlier 862 \t not outlier 8734\n",
      "top 9660:  \toutlier 862 \t not outlier 8798\n",
      "top 9662:  \toutlier 864 \t not outlier 8798\n",
      "top 9716:  \toutlier 864 \t not outlier 8852\n",
      "top 9717:  \toutlier 865 \t not outlier 8852\n",
      "top 9734:  \toutlier 865 \t not outlier 8869\n",
      "top 9736:  \toutlier 867 \t not outlier 8869\n",
      "top 9904:  \toutlier 867 \t not outlier 9037\n",
      "top 9906:  \toutlier 869 \t not outlier 9037\n",
      "top 9998:  \toutlier 869 \t not outlier 9129\n",
      "top 9999:  \toutlier 870 \t not outlier 9129\n",
      "top 10047:  \toutlier 870 \t not outlier 9177\n",
      "top 10049:  \toutlier 872 \t not outlier 9177\n",
      "top 10051:  \toutlier 872 \t not outlier 9179\n",
      "top 10052:  \toutlier 873 \t not outlier 9179\n",
      "top 10055:  \toutlier 873 \t not outlier 9182\n",
      "top 10057:  \toutlier 875 \t not outlier 9182\n",
      "top 10080:  \toutlier 875 \t not outlier 9205\n",
      "top 10081:  \toutlier 876 \t not outlier 9205\n",
      "top 10097:  \toutlier 876 \t not outlier 9221\n",
      "top 10099:  \toutlier 878 \t not outlier 9221\n",
      "top 10123:  \toutlier 878 \t not outlier 9245\n",
      "top 10124:  \toutlier 879 \t not outlier 9245\n",
      "top 10130:  \toutlier 879 \t not outlier 9251\n",
      "top 10132:  \toutlier 881 \t not outlier 9251\n",
      "top 10140:  \toutlier 881 \t not outlier 9259\n",
      "top 10143:  \toutlier 884 \t not outlier 9259\n",
      "top 10208:  \toutlier 884 \t not outlier 9324\n",
      "top 10210:  \toutlier 886 \t not outlier 9324\n",
      "top 10276:  \toutlier 886 \t not outlier 9390\n",
      "top 10277:  \toutlier 887 \t not outlier 9390\n",
      "top 10301:  \toutlier 887 \t not outlier 9414\n",
      "top 10303:  \toutlier 889 \t not outlier 9414\n",
      "top 10447:  \toutlier 889 \t not outlier 9558\n",
      "top 10448:  \toutlier 890 \t not outlier 9558\n",
      "top 10457:  \toutlier 890 \t not outlier 9567\n",
      "top 10459:  \toutlier 892 \t not outlier 9567\n",
      "top 10462:  \toutlier 892 \t not outlier 9570\n",
      "top 10463:  \toutlier 893 \t not outlier 9570\n",
      "top 10484:  \toutlier 893 \t not outlier 9591\n",
      "top 10486:  \toutlier 895 \t not outlier 9591\n",
      "top 10549:  \toutlier 895 \t not outlier 9654\n",
      "top 10551:  \toutlier 897 \t not outlier 9654\n",
      "top 10596:  \toutlier 897 \t not outlier 9699\n",
      "top 10597:  \toutlier 898 \t not outlier 9699\n",
      "top 10649:  \toutlier 898 \t not outlier 9751\n",
      "top 10651:  \toutlier 900 \t not outlier 9751\n",
      "top 10667:  \toutlier 900 \t not outlier 9767\n",
      "top 10668:  \toutlier 901 \t not outlier 9767\n",
      "top 10736:  \toutlier 901 \t not outlier 9835\n",
      "top 10738:  \toutlier 903 \t not outlier 9835\n",
      "top 10810:  \toutlier 903 \t not outlier 9907\n",
      "top 10811:  \toutlier 904 \t not outlier 9907\n",
      "top 10863:  \toutlier 904 \t not outlier 9959\n",
      "top 10865:  \toutlier 906 \t not outlier 9959\n",
      "top 10886:  \toutlier 906 \t not outlier 9980\n",
      "top 10889:  \toutlier 909 \t not outlier 9980\n",
      "top 10929:  \toutlier 909 \t not outlier 10020\n",
      "top 10931:  \toutlier 911 \t not outlier 10020\n",
      "top 10938:  \toutlier 911 \t not outlier 10027\n",
      "top 10939:  \toutlier 912 \t not outlier 10027\n",
      "top 11288:  \toutlier 912 \t not outlier 10376\n",
      "top 11290:  \toutlier 914 \t not outlier 10376\n",
      "top 11321:  \toutlier 914 \t not outlier 10407\n",
      "top 11322:  \toutlier 915 \t not outlier 10407\n",
      "top 11330:  \toutlier 915 \t not outlier 10415\n",
      "top 11332:  \toutlier 917 \t not outlier 10415\n",
      "top 11472:  \toutlier 917 \t not outlier 10555\n",
      "top 11473:  \toutlier 918 \t not outlier 10555\n",
      "top 11567:  \toutlier 918 \t not outlier 10649\n",
      "top 11569:  \toutlier 920 \t not outlier 10649\n",
      "top 11712:  \toutlier 920 \t not outlier 10792\n",
      "top 11713:  \toutlier 921 \t not outlier 10792\n",
      "top 11729:  \toutlier 921 \t not outlier 10808\n",
      "top 11731:  \toutlier 923 \t not outlier 10808\n",
      "top 11733:  \toutlier 923 \t not outlier 10810\n",
      "top 11735:  \toutlier 925 \t not outlier 10810\n",
      "top 11936:  \toutlier 925 \t not outlier 11011\n",
      "top 11937:  \toutlier 926 \t not outlier 11011\n",
      "top 11970:  \toutlier 926 \t not outlier 11044\n",
      "top 11972:  \toutlier 928 \t not outlier 11044\n",
      "top 12052:  \toutlier 928 \t not outlier 11124\n",
      "top 12053:  \toutlier 929 \t not outlier 11124\n",
      "top 12108:  \toutlier 929 \t not outlier 11179\n",
      "top 12110:  \toutlier 931 \t not outlier 11179\n",
      "top 12200:  \toutlier 931 \t not outlier 11269\n",
      "top 12201:  \toutlier 932 \t not outlier 11269\n",
      "top 12309:  \toutlier 932 \t not outlier 11377\n",
      "top 12311:  \toutlier 934 \t not outlier 11377\n",
      "top 12361:  \toutlier 934 \t not outlier 11427\n",
      "top 12362:  \toutlier 935 \t not outlier 11427\n",
      "top 12396:  \toutlier 935 \t not outlier 11461\n",
      "top 12398:  \toutlier 937 \t not outlier 11461\n",
      "top 12503:  \toutlier 937 \t not outlier 11566\n",
      "top 12505:  \toutlier 939 \t not outlier 11566\n",
      "top 12506:  \toutlier 939 \t not outlier 11567\n",
      "top 12507:  \toutlier 940 \t not outlier 11567\n",
      "top 12625:  \toutlier 940 \t not outlier 11685\n",
      "top 12627:  \toutlier 942 \t not outlier 11685\n",
      "top 12669:  \toutlier 942 \t not outlier 11727\n",
      "top 12672:  \toutlier 945 \t not outlier 11727\n",
      "top 12735:  \toutlier 945 \t not outlier 11790\n",
      "top 12736:  \toutlier 946 \t not outlier 11790\n",
      "top 12757:  \toutlier 946 \t not outlier 11811\n",
      "top 12759:  \toutlier 948 \t not outlier 11811\n",
      "top 12997:  \toutlier 948 \t not outlier 12049\n",
      "top 12998:  \toutlier 949 \t not outlier 12049\n",
      "top 13058:  \toutlier 949 \t not outlier 12109\n",
      "top 13060:  \toutlier 951 \t not outlier 12109\n",
      "top 13234:  \toutlier 951 \t not outlier 12283\n",
      "top 13236:  \toutlier 953 \t not outlier 12283\n",
      "top 13320:  \toutlier 953 \t not outlier 12367\n",
      "top 13321:  \toutlier 954 \t not outlier 12367\n",
      "top 13334:  \toutlier 954 \t not outlier 12380\n",
      "top 13336:  \toutlier 956 \t not outlier 12380\n",
      "top 13355:  \toutlier 956 \t not outlier 12399\n",
      "top 13356:  \toutlier 957 \t not outlier 12399\n",
      "top 13483:  \toutlier 957 \t not outlier 12526\n",
      "top 13485:  \toutlier 959 \t not outlier 12526\n",
      "top 13692:  \toutlier 959 \t not outlier 12733\n",
      "top 13693:  \toutlier 960 \t not outlier 12733\n",
      "top 13735:  \toutlier 960 \t not outlier 12775\n",
      "top 13737:  \toutlier 962 \t not outlier 12775\n",
      "top 13756:  \toutlier 962 \t not outlier 12794\n",
      "top 13757:  \toutlier 963 \t not outlier 12794\n",
      "top 13844:  \toutlier 963 \t not outlier 12881\n",
      "top 13846:  \toutlier 965 \t not outlier 12881\n",
      "top 13970:  \toutlier 965 \t not outlier 13005\n",
      "top 13971:  \toutlier 966 \t not outlier 13005\n",
      "top 14005:  \toutlier 966 \t not outlier 13039\n",
      "top 14007:  \toutlier 968 \t not outlier 13039\n",
      "top 14067:  \toutlier 968 \t not outlier 13099\n",
      "top 14069:  \toutlier 970 \t not outlier 13099\n",
      "top 14115:  \toutlier 970 \t not outlier 13145\n",
      "top 14116:  \toutlier 971 \t not outlier 13145\n",
      "top 14252:  \toutlier 971 \t not outlier 13281\n",
      "top 14254:  \toutlier 973 \t not outlier 13281\n",
      "top 14334:  \toutlier 973 \t not outlier 13361\n",
      "top 14335:  \toutlier 974 \t not outlier 13361\n",
      "top 14356:  \toutlier 974 \t not outlier 13382\n",
      "top 14358:  \toutlier 976 \t not outlier 13382\n",
      "top 14389:  \toutlier 976 \t not outlier 13413\n",
      "top 14390:  \toutlier 977 \t not outlier 13413\n",
      "top 14443:  \toutlier 977 \t not outlier 13466\n",
      "top 14445:  \toutlier 979 \t not outlier 13466\n",
      "top 14619:  \toutlier 979 \t not outlier 13640\n",
      "top 14620:  \toutlier 980 \t not outlier 13640\n",
      "top 14769:  \toutlier 980 \t not outlier 13789\n",
      "top 14771:  \toutlier 982 \t not outlier 13789\n",
      "top 14772:  \toutlier 982 \t not outlier 13790\n",
      "top 14774:  \toutlier 984 \t not outlier 13790\n",
      "top 14800:  \toutlier 984 \t not outlier 13816\n",
      "top 14801:  \toutlier 985 \t not outlier 13816\n",
      "top 14853:  \toutlier 985 \t not outlier 13868\n",
      "top 14855:  \toutlier 987 \t not outlier 13868\n",
      "top 14974:  \toutlier 987 \t not outlier 13987\n",
      "top 14975:  \toutlier 988 \t not outlier 13987\n",
      "top 15060:  \toutlier 988 \t not outlier 14072\n",
      "top 15062:  \toutlier 990 \t not outlier 14072\n",
      "top 15067:  \toutlier 990 \t not outlier 14077\n",
      "top 15068:  \toutlier 991 \t not outlier 14077\n",
      "top 15094:  \toutlier 991 \t not outlier 14103\n",
      "top 15096:  \toutlier 993 \t not outlier 14103\n",
      "top 15097:  \toutlier 993 \t not outlier 14104\n",
      "top 15098:  \toutlier 994 \t not outlier 14104\n",
      "top 15282:  \toutlier 994 \t not outlier 14288\n",
      "top 15284:  \toutlier 996 \t not outlier 14288\n",
      "top 15289:  \toutlier 996 \t not outlier 14293\n",
      "top 15291:  \toutlier 998 \t not outlier 14293\n",
      "top 15499:  \toutlier 998 \t not outlier 14501\n",
      "top 15500:  \toutlier 999 \t not outlier 14501\n",
      "top 15518:  \toutlier 999 \t not outlier 14519\n",
      "top 15520:  \toutlier 1001 \t not outlier 14519\n",
      "top 15545:  \toutlier 1001 \t not outlier 14544\n",
      "top 15546:  \toutlier 1002 \t not outlier 14544\n",
      "top 15742:  \toutlier 1002 \t not outlier 14740\n",
      "top 15744:  \toutlier 1004 \t not outlier 14740\n",
      "top 15810:  \toutlier 1004 \t not outlier 14806\n",
      "top 15811:  \toutlier 1005 \t not outlier 14806\n",
      "top 15904:  \toutlier 1005 \t not outlier 14899\n",
      "top 15906:  \toutlier 1007 \t not outlier 14899\n",
      "top 15921:  \toutlier 1007 \t not outlier 14914\n",
      "top 15922:  \toutlier 1008 \t not outlier 14914\n",
      "top 15957:  \toutlier 1008 \t not outlier 14949\n",
      "top 15959:  \toutlier 1010 \t not outlier 14949\n",
      "top 16385:  \toutlier 1010 \t not outlier 15375\n",
      "top 16387:  \toutlier 1012 \t not outlier 15375\n",
      "top 16408:  \toutlier 1012 \t not outlier 15396\n",
      "top 16409:  \toutlier 1013 \t not outlier 15396\n",
      "top 16645:  \toutlier 1013 \t not outlier 15632\n",
      "top 16647:  \toutlier 1015 \t not outlier 15632\n",
      "top 16651:  \toutlier 1015 \t not outlier 15636\n",
      "top 16652:  \toutlier 1016 \t not outlier 15636\n",
      "top 16695:  \toutlier 1016 \t not outlier 15679\n",
      "top 16697:  \toutlier 1018 \t not outlier 15679\n",
      "top 16783:  \toutlier 1018 \t not outlier 15765\n",
      "top 16784:  \toutlier 1019 \t not outlier 15765\n",
      "top 16819:  \toutlier 1019 \t not outlier 15800\n",
      "top 16821:  \toutlier 1021 \t not outlier 15800\n",
      "top 16848:  \toutlier 1021 \t not outlier 15827\n",
      "top 16849:  \toutlier 1022 \t not outlier 15827\n",
      "top 16917:  \toutlier 1022 \t not outlier 15895\n",
      "top 16919:  \toutlier 1024 \t not outlier 15895\n",
      "top 16942:  \toutlier 1024 \t not outlier 15918\n",
      "top 16944:  \toutlier 1026 \t not outlier 15918\n",
      "top 17013:  \toutlier 1026 \t not outlier 15987\n",
      "top 17014:  \toutlier 1027 \t not outlier 15987\n",
      "top 17177:  \toutlier 1027 \t not outlier 16150\n",
      "top 17179:  \toutlier 1029 \t not outlier 16150\n",
      "top 17332:  \toutlier 1029 \t not outlier 16303\n",
      "top 17333:  \toutlier 1030 \t not outlier 16303\n",
      "top 17431:  \toutlier 1030 \t not outlier 16401\n",
      "top 17433:  \toutlier 1032 \t not outlier 16401\n",
      "top 17445:  \toutlier 1032 \t not outlier 16413\n",
      "top 17446:  \toutlier 1033 \t not outlier 16413\n",
      "top 17508:  \toutlier 1033 \t not outlier 16475\n",
      "top 17510:  \toutlier 1035 \t not outlier 16475\n",
      "top 17581:  \toutlier 1035 \t not outlier 16546\n",
      "top 17582:  \toutlier 1036 \t not outlier 16546\n",
      "top 17607:  \toutlier 1036 \t not outlier 16571\n",
      "top 17609:  \toutlier 1038 \t not outlier 16571\n",
      "top 17620:  \toutlier 1038 \t not outlier 16582\n",
      "top 17622:  \toutlier 1040 \t not outlier 16582\n",
      "top 17678:  \toutlier 1040 \t not outlier 16638\n",
      "top 17679:  \toutlier 1041 \t not outlier 16638\n",
      "top 17958:  \toutlier 1041 \t not outlier 16917\n",
      "top 17960:  \toutlier 1043 \t not outlier 16917\n",
      "top 18004:  \toutlier 1043 \t not outlier 16961\n",
      "top 18005:  \toutlier 1044 \t not outlier 16961\n",
      "top 18225:  \toutlier 1044 \t not outlier 17181\n",
      "top 18227:  \toutlier 1046 \t not outlier 17181\n",
      "top 18247:  \toutlier 1046 \t not outlier 17201\n",
      "top 18248:  \toutlier 1047 \t not outlier 17201\n",
      "top 18383:  \toutlier 1047 \t not outlier 17336\n",
      "top 18385:  \toutlier 1049 \t not outlier 17336\n",
      "top 18529:  \toutlier 1049 \t not outlier 17480\n",
      "top 18530:  \toutlier 1050 \t not outlier 17480\n",
      "top 18573:  \toutlier 1050 \t not outlier 17523\n",
      "top 18575:  \toutlier 1052 \t not outlier 17523\n",
      "top 18719:  \toutlier 1052 \t not outlier 17667\n",
      "top 18721:  \toutlier 1054 \t not outlier 17667\n",
      "top 18840:  \toutlier 1054 \t not outlier 17786\n",
      "top 18841:  \toutlier 1055 \t not outlier 17786\n",
      "top 18967:  \toutlier 1055 \t not outlier 17912\n",
      "top 18969:  \toutlier 1057 \t not outlier 17912\n",
      "top 19089:  \toutlier 1057 \t not outlier 18032\n",
      "top 19090:  \toutlier 1058 \t not outlier 18032\n",
      "top 19651:  \toutlier 1058 \t not outlier 18593\n",
      "top 19653:  \toutlier 1060 \t not outlier 18593\n",
      "top 19731:  \toutlier 1060 \t not outlier 18671\n",
      "top 19732:  \toutlier 1061 \t not outlier 18671\n",
      "top 19774:  \toutlier 1061 \t not outlier 18713\n",
      "top 19776:  \toutlier 1063 \t not outlier 18713\n",
      "top 19888:  \toutlier 1063 \t not outlier 18825\n",
      "top 19889:  \toutlier 1064 \t not outlier 18825\n",
      "top 19951:  \toutlier 1064 \t not outlier 18887\n",
      "top 19953:  \toutlier 1066 \t not outlier 18887\n",
      "top 19961:  \toutlier 1066 \t not outlier 18895\n",
      "top 19963:  \toutlier 1068 \t not outlier 18895\n",
      "top 20005:  \toutlier 1068 \t not outlier 18937\n",
      "top 20006:  \toutlier 1069 \t not outlier 18937\n",
      "top 20112:  \toutlier 1069 \t not outlier 19043\n",
      "top 20114:  \toutlier 1071 \t not outlier 19043\n",
      "top 20251:  \toutlier 1071 \t not outlier 19180\n",
      "top 20252:  \toutlier 1072 \t not outlier 19180\n",
      "top 20431:  \toutlier 1072 \t not outlier 19359\n",
      "top 20433:  \toutlier 1074 \t not outlier 19359\n",
      "top 20749:  \toutlier 1074 \t not outlier 19675\n",
      "top 20750:  \toutlier 1075 \t not outlier 19675\n",
      "top 21056:  \toutlier 1075 \t not outlier 19981\n",
      "top 21058:  \toutlier 1077 \t not outlier 19981\n",
      "top 21106:  \toutlier 1077 \t not outlier 20029\n",
      "top 21107:  \toutlier 1078 \t not outlier 20029\n",
      "top 21215:  \toutlier 1078 \t not outlier 20137\n",
      "top 21217:  \toutlier 1080 \t not outlier 20137\n",
      "top 21482:  \toutlier 1080 \t not outlier 20402\n",
      "top 21484:  \toutlier 1082 \t not outlier 20402\n",
      "top 21489:  \toutlier 1082 \t not outlier 20407\n",
      "top 21490:  \toutlier 1083 \t not outlier 20407\n",
      "top 21672:  \toutlier 1083 \t not outlier 20589\n",
      "top 21674:  \toutlier 1085 \t not outlier 20589\n",
      "top 21700:  \toutlier 1085 \t not outlier 20615\n",
      "top 21701:  \toutlier 1086 \t not outlier 20615\n",
      "top 21741:  \toutlier 1086 \t not outlier 20655\n",
      "top 21743:  \toutlier 1088 \t not outlier 20655\n",
      "top 21782:  \toutlier 1088 \t not outlier 20694\n",
      "top 21783:  \toutlier 1089 \t not outlier 20694\n",
      "top 21786:  \toutlier 1089 \t not outlier 20697\n",
      "top 21788:  \toutlier 1091 \t not outlier 20697\n",
      "top 21947:  \toutlier 1091 \t not outlier 20856\n",
      "top 21948:  \toutlier 1092 \t not outlier 20856\n",
      "top 21997:  \toutlier 1092 \t not outlier 20905\n",
      "top 21999:  \toutlier 1094 \t not outlier 20905\n",
      "top 22071:  \toutlier 1094 \t not outlier 20977\n",
      "top 22073:  \toutlier 1096 \t not outlier 20977\n",
      "top 22376:  \toutlier 1096 \t not outlier 21280\n",
      "top 22377:  \toutlier 1097 \t not outlier 21280\n",
      "top 22392:  \toutlier 1097 \t not outlier 21295\n",
      "top 22394:  \toutlier 1099 \t not outlier 21295\n",
      "top 22402:  \toutlier 1099 \t not outlier 21303\n",
      "top 22403:  \toutlier 1100 \t not outlier 21303\n",
      "top 22598:  \toutlier 1100 \t not outlier 21498\n",
      "top 22600:  \toutlier 1102 \t not outlier 21498\n",
      "top 22698:  \toutlier 1102 \t not outlier 21596\n",
      "top 22699:  \toutlier 1103 \t not outlier 21596\n",
      "top 23370:  \toutlier 1103 \t not outlier 22267\n",
      "top 23372:  \toutlier 1105 \t not outlier 22267\n",
      "top 23588:  \toutlier 1105 \t not outlier 22483\n",
      "top 23589:  \toutlier 1106 \t not outlier 22483\n",
      "top 23743:  \toutlier 1106 \t not outlier 22637\n",
      "top 23745:  \toutlier 1108 \t not outlier 22637\n",
      "top 23878:  \toutlier 1108 \t not outlier 22770\n",
      "top 23880:  \toutlier 1110 \t not outlier 22770\n",
      "top 23901:  \toutlier 1110 \t not outlier 22791\n",
      "top 23902:  \toutlier 1111 \t not outlier 22791\n",
      "top 24092:  \toutlier 1111 \t not outlier 22981\n",
      "top 24094:  \toutlier 1113 \t not outlier 22981\n",
      "top 24318:  \toutlier 1113 \t not outlier 23205\n",
      "top 24319:  \toutlier 1114 \t not outlier 23205\n",
      "top 24532:  \toutlier 1114 \t not outlier 23418\n",
      "top 24534:  \toutlier 1116 \t not outlier 23418\n",
      "top 24574:  \toutlier 1116 \t not outlier 23458\n",
      "top 24575:  \toutlier 1117 \t not outlier 23458\n",
      "top 24739:  \toutlier 1117 \t not outlier 23622\n",
      "top 24741:  \toutlier 1119 \t not outlier 23622\n",
      "top 24809:  \toutlier 1119 \t not outlier 23690\n",
      "top 24810:  \toutlier 1120 \t not outlier 23690\n",
      "top 25187:  \toutlier 1120 \t not outlier 24067\n",
      "top 25189:  \toutlier 1122 \t not outlier 24067\n",
      "top 25315:  \toutlier 1122 \t not outlier 24193\n",
      "top 25317:  \toutlier 1124 \t not outlier 24193\n",
      "top 25341:  \toutlier 1124 \t not outlier 24217\n",
      "top 25342:  \toutlier 1125 \t not outlier 24217\n",
      "top 25373:  \toutlier 1125 \t not outlier 24248\n",
      "top 25375:  \toutlier 1127 \t not outlier 24248\n",
      "top 25384:  \toutlier 1127 \t not outlier 24257\n",
      "top 25387:  \toutlier 1130 \t not outlier 24257\n",
      "top 25576:  \toutlier 1130 \t not outlier 24446\n",
      "top 25577:  \toutlier 1131 \t not outlier 24446\n",
      "top 25698:  \toutlier 1131 \t not outlier 24567\n",
      "top 25700:  \toutlier 1133 \t not outlier 24567\n",
      "top 25727:  \toutlier 1133 \t not outlier 24594\n",
      "top 25728:  \toutlier 1134 \t not outlier 24594\n",
      "top 25997:  \toutlier 1134 \t not outlier 24863\n",
      "top 25999:  \toutlier 1136 \t not outlier 24863\n",
      "top 26040:  \toutlier 1136 \t not outlier 24904\n",
      "top 26042:  \toutlier 1138 \t not outlier 24904\n",
      "top 26224:  \toutlier 1138 \t not outlier 25086\n",
      "top 26225:  \toutlier 1139 \t not outlier 25086\n",
      "top 26520:  \toutlier 1139 \t not outlier 25381\n",
      "top 26522:  \toutlier 1141 \t not outlier 25381\n",
      "top 26767:  \toutlier 1141 \t not outlier 25626\n",
      "top 26768:  \toutlier 1142 \t not outlier 25626\n",
      "top 27537:  \toutlier 1142 \t not outlier 26395\n",
      "top 27539:  \toutlier 1144 \t not outlier 26395\n",
      "top 27659:  \toutlier 1144 \t not outlier 26515\n",
      "top 27660:  \toutlier 1145 \t not outlier 26515\n",
      "top 27944:  \toutlier 1145 \t not outlier 26799\n",
      "top 27946:  \toutlier 1147 \t not outlier 26799\n",
      "top 28660:  \toutlier 1147 \t not outlier 27513\n",
      "top 28661:  \toutlier 1148 \t not outlier 27513\n",
      "top 28684:  \toutlier 1148 \t not outlier 27536\n",
      "top 28686:  \toutlier 1150 \t not outlier 27536\n",
      "top 28703:  \toutlier 1150 \t not outlier 27553\n",
      "top 28705:  \toutlier 1152 \t not outlier 27553\n",
      "top 28817:  \toutlier 1152 \t not outlier 27665\n",
      "top 28818:  \toutlier 1153 \t not outlier 27665\n",
      "top 28848:  \toutlier 1153 \t not outlier 27695\n",
      "top 28850:  \toutlier 1155 \t not outlier 27695\n",
      "top 28858:  \toutlier 1155 \t not outlier 27703\n",
      "top 28859:  \toutlier 1156 \t not outlier 27703\n",
      "top 28953:  \toutlier 1156 \t not outlier 27797\n",
      "top 28955:  \toutlier 1158 \t not outlier 27797\n",
      "top 28989:  \toutlier 1158 \t not outlier 27831\n",
      "top 28990:  \toutlier 1159 \t not outlier 27831\n",
      "top 29111:  \toutlier 1159 \t not outlier 27952\n",
      "top 29113:  \toutlier 1161 \t not outlier 27952\n",
      "top 29383:  \toutlier 1161 \t not outlier 28222\n",
      "top 29384:  \toutlier 1162 \t not outlier 28222\n",
      "top 29932:  \toutlier 1162 \t not outlier 28770\n",
      "top 29934:  \toutlier 1164 \t not outlier 28770\n",
      "top 30735:  \toutlier 1164 \t not outlier 29571\n",
      "top 30736:  \toutlier 1165 \t not outlier 29571\n",
      "top 30838:  \toutlier 1165 \t not outlier 29673\n",
      "top 30842:  \toutlier 1169 \t not outlier 29673\n",
      "top 30927:  \toutlier 1169 \t not outlier 29758\n",
      "top 30928:  \toutlier 1170 \t not outlier 29758\n",
      "top 31130:  \toutlier 1170 \t not outlier 29960\n",
      "top 31132:  \toutlier 1172 \t not outlier 29960\n",
      "top 31517:  \toutlier 1172 \t not outlier 30345\n",
      "top 31518:  \toutlier 1173 \t not outlier 30345\n",
      "top 31624:  \toutlier 1173 \t not outlier 30451\n",
      "top 31626:  \toutlier 1175 \t not outlier 30451\n",
      "top 31655:  \toutlier 1175 \t not outlier 30480\n",
      "top 31656:  \toutlier 1176 \t not outlier 30480\n",
      "top 32525:  \toutlier 1176 \t not outlier 31349\n",
      "top 32527:  \toutlier 1178 \t not outlier 31349\n",
      "top 32555:  \toutlier 1178 \t not outlier 31377\n",
      "top 32556:  \toutlier 1179 \t not outlier 31377\n",
      "top 32567:  \toutlier 1179 \t not outlier 31388\n",
      "top 32569:  \toutlier 1181 \t not outlier 31388\n",
      "top 33061:  \toutlier 1181 \t not outlier 31880\n",
      "top 33063:  \toutlier 1183 \t not outlier 31880\n",
      "top 33325:  \toutlier 1183 \t not outlier 32142\n",
      "top 33326:  \toutlier 1184 \t not outlier 32142\n",
      "top 33338:  \toutlier 1184 \t not outlier 32154\n",
      "top 33340:  \toutlier 1186 \t not outlier 32154\n",
      "top 33386:  \toutlier 1186 \t not outlier 32200\n",
      "top 33387:  \toutlier 1187 \t not outlier 32200\n",
      "top 33440:  \toutlier 1187 \t not outlier 32253\n",
      "top 33442:  \toutlier 1189 \t not outlier 32253\n",
      "top 33473:  \toutlier 1189 \t not outlier 32284\n",
      "top 33474:  \toutlier 1190 \t not outlier 32284\n",
      "top 33680:  \toutlier 1190 \t not outlier 32490\n",
      "top 33682:  \toutlier 1192 \t not outlier 32490\n",
      "top 33760:  \toutlier 1192 \t not outlier 32568\n",
      "top 33761:  \toutlier 1193 \t not outlier 32568\n",
      "top 33867:  \toutlier 1193 \t not outlier 32674\n",
      "top 33869:  \toutlier 1195 \t not outlier 32674\n",
      "top 34059:  \toutlier 1195 \t not outlier 32864\n",
      "top 34061:  \toutlier 1197 \t not outlier 32864\n",
      "top 34192:  \toutlier 1197 \t not outlier 32995\n",
      "top 34193:  \toutlier 1198 \t not outlier 32995\n",
      "top 35289:  \toutlier 1198 \t not outlier 34091\n",
      "top 35291:  \toutlier 1200 \t not outlier 34091\n",
      "top 35310:  \toutlier 1200 \t not outlier 34110\n",
      "top 35311:  \toutlier 1201 \t not outlier 34110\n",
      "top 35410:  \toutlier 1201 \t not outlier 34209\n",
      "top 35412:  \toutlier 1203 \t not outlier 34209\n",
      "top 35415:  \toutlier 1203 \t not outlier 34212\n",
      "top 35416:  \toutlier 1204 \t not outlier 34212\n",
      "top 35525:  \toutlier 1204 \t not outlier 34321\n",
      "top 35527:  \toutlier 1206 \t not outlier 34321\n",
      "top 35869:  \toutlier 1206 \t not outlier 34663\n",
      "top 35870:  \toutlier 1207 \t not outlier 34663\n",
      "top 36130:  \toutlier 1207 \t not outlier 34923\n",
      "top 36132:  \toutlier 1209 \t not outlier 34923\n",
      "top 36230:  \toutlier 1209 \t not outlier 35021\n",
      "top 36232:  \toutlier 1211 \t not outlier 35021\n",
      "top 36277:  \toutlier 1211 \t not outlier 35066\n",
      "top 36278:  \toutlier 1212 \t not outlier 35066\n",
      "top 36336:  \toutlier 1212 \t not outlier 35124\n",
      "top 36338:  \toutlier 1214 \t not outlier 35124\n",
      "top 36691:  \toutlier 1214 \t not outlier 35477\n",
      "top 36692:  \toutlier 1215 \t not outlier 35477\n",
      "top 36927:  \toutlier 1215 \t not outlier 35712\n",
      "top 36929:  \toutlier 1217 \t not outlier 35712\n",
      "top 37028:  \toutlier 1217 \t not outlier 35811\n",
      "top 37029:  \toutlier 1218 \t not outlier 35811\n",
      "top 37114:  \toutlier 1218 \t not outlier 35896\n",
      "top 37116:  \toutlier 1220 \t not outlier 35896\n",
      "top 37208:  \toutlier 1220 \t not outlier 35988\n",
      "top 37209:  \toutlier 1221 \t not outlier 35988\n",
      "top 37380:  \toutlier 1221 \t not outlier 36159\n",
      "top 37382:  \toutlier 1223 \t not outlier 36159\n",
      "top 37819:  \toutlier 1223 \t not outlier 36596\n",
      "top 37821:  \toutlier 1225 \t not outlier 36596\n",
      "top 37838:  \toutlier 1225 \t not outlier 36613\n",
      "top 37839:  \toutlier 1226 \t not outlier 36613\n",
      "top 37989:  \toutlier 1226 \t not outlier 36763\n",
      "top 37991:  \toutlier 1228 \t not outlier 36763\n",
      "top 38004:  \toutlier 1228 \t not outlier 36776\n",
      "top 38005:  \toutlier 1229 \t not outlier 36776\n",
      "top 38980:  \toutlier 1229 \t not outlier 37751\n",
      "top 38982:  \toutlier 1231 \t not outlier 37751\n",
      "top 39348:  \toutlier 1231 \t not outlier 38117\n",
      "top 39349:  \toutlier 1232 \t not outlier 38117\n",
      "top 39689:  \toutlier 1232 \t not outlier 38457\n",
      "top 39691:  \toutlier 1234 \t not outlier 38457\n",
      "top 39880:  \toutlier 1234 \t not outlier 38646\n",
      "top 39881:  \toutlier 1235 \t not outlier 38646\n",
      "top 40023:  \toutlier 1235 \t not outlier 38788\n",
      "top 40025:  \toutlier 1237 \t not outlier 38788\n",
      "top 40296:  \toutlier 1237 \t not outlier 39059\n",
      "top 40298:  \toutlier 1239 \t not outlier 39059\n",
      "top 40710:  \toutlier 1239 \t not outlier 39471\n",
      "top 40711:  \toutlier 1240 \t not outlier 39471\n",
      "top 41180:  \toutlier 1240 \t not outlier 39940\n",
      "top 41182:  \toutlier 1242 \t not outlier 39940\n",
      "top 41772:  \toutlier 1242 \t not outlier 40530\n",
      "top 41773:  \toutlier 1243 \t not outlier 40530\n",
      "top 41968:  \toutlier 1243 \t not outlier 40725\n",
      "top 41970:  \toutlier 1245 \t not outlier 40725\n",
      "top 42168:  \toutlier 1245 \t not outlier 40923\n",
      "top 42169:  \toutlier 1246 \t not outlier 40923\n",
      "top 42302:  \toutlier 1246 \t not outlier 41056\n",
      "top 42304:  \toutlier 1248 \t not outlier 41056\n",
      "top 42508:  \toutlier 1248 \t not outlier 41260\n",
      "top 42509:  \toutlier 1249 \t not outlier 41260\n",
      "top 42872:  \toutlier 1249 \t not outlier 41623\n",
      "top 42874:  \toutlier 1251 \t not outlier 41623\n",
      "top 43062:  \toutlier 1251 \t not outlier 41811\n",
      "top 43064:  \toutlier 1253 \t not outlier 41811\n",
      "top 43632:  \toutlier 1253 \t not outlier 42379\n",
      "top 43633:  \toutlier 1254 \t not outlier 42379\n",
      "top 44532:  \toutlier 1254 \t not outlier 43278\n",
      "top 44534:  \toutlier 1256 \t not outlier 43278\n",
      "top 44650:  \toutlier 1256 \t not outlier 43394\n",
      "top 44651:  \toutlier 1257 \t not outlier 43394\n",
      "top 45101:  \toutlier 1257 \t not outlier 43844\n",
      "top 45103:  \toutlier 1259 \t not outlier 43844\n",
      "top 45240:  \toutlier 1259 \t not outlier 43981\n",
      "top 45241:  \toutlier 1260 \t not outlier 43981\n",
      "top 45368:  \toutlier 1260 \t not outlier 44108\n",
      "top 45370:  \toutlier 1262 \t not outlier 44108\n",
      "top 45791:  \toutlier 1262 \t not outlier 44529\n",
      "top 45792:  \toutlier 1263 \t not outlier 44529\n",
      "top 46081:  \toutlier 1263 \t not outlier 44818\n",
      "top 46083:  \toutlier 1265 \t not outlier 44818\n",
      "top 46481:  \toutlier 1265 \t not outlier 45216\n",
      "top 46483:  \toutlier 1267 \t not outlier 45216\n",
      "top 46604:  \toutlier 1267 \t not outlier 45337\n",
      "top 46605:  \toutlier 1268 \t not outlier 45337\n",
      "top 47148:  \toutlier 1268 \t not outlier 45880\n",
      "top 47150:  \toutlier 1270 \t not outlier 45880\n",
      "top 47885:  \toutlier 1270 \t not outlier 46615\n",
      "top 47886:  \toutlier 1271 \t not outlier 46615\n",
      "top 48103:  \toutlier 1271 \t not outlier 46832\n",
      "top 48105:  \toutlier 1273 \t not outlier 46832\n",
      "top 48228:  \toutlier 1273 \t not outlier 46955\n",
      "top 48229:  \toutlier 1274 \t not outlier 46955\n",
      "top 48596:  \toutlier 1274 \t not outlier 47322\n",
      "top 48598:  \toutlier 1276 \t not outlier 47322\n",
      "top 48610:  \toutlier 1276 \t not outlier 47334\n",
      "top 48611:  \toutlier 1277 \t not outlier 47334\n",
      "top 48996:  \toutlier 1277 \t not outlier 47719\n",
      "top 48998:  \toutlier 1279 \t not outlier 47719\n",
      "top 49169:  \toutlier 1279 \t not outlier 47890\n",
      "top 49171:  \toutlier 1281 \t not outlier 47890\n",
      "top 49190:  \toutlier 1281 \t not outlier 47909\n",
      "top 49191:  \toutlier 1282 \t not outlier 47909\n",
      "top 49194:  \toutlier 1282 \t not outlier 47912\n",
      "top 49196:  \toutlier 1284 \t not outlier 47912\n",
      "top 49739:  \toutlier 1284 \t not outlier 48455\n",
      "top 49740:  \toutlier 1285 \t not outlier 48455\n",
      "top 49929:  \toutlier 1285 \t not outlier 48644\n",
      "top 49931:  \toutlier 1287 \t not outlier 48644\n",
      "top 51141:  \toutlier 1287 \t not outlier 49854\n",
      "top 51142:  \toutlier 1288 \t not outlier 49854\n",
      "top 51397:  \toutlier 1288 \t not outlier 50109\n",
      "top 51399:  \toutlier 1290 \t not outlier 50109\n",
      "top 51807:  \toutlier 1290 \t not outlier 50517\n",
      "top 51808:  \toutlier 1291 \t not outlier 50517\n",
      "top 52177:  \toutlier 1291 \t not outlier 50886\n",
      "top 52179:  \toutlier 1293 \t not outlier 50886\n",
      "top 52740:  \toutlier 1293 \t not outlier 51447\n",
      "top 52742:  \toutlier 1295 \t not outlier 51447\n",
      "top 53227:  \toutlier 1295 \t not outlier 51932\n",
      "top 53228:  \toutlier 1296 \t not outlier 51932\n",
      "top 53299:  \toutlier 1296 \t not outlier 52003\n",
      "top 53301:  \toutlier 1298 \t not outlier 52003\n",
      "top 53801:  \toutlier 1298 \t not outlier 52503\n",
      "top 53802:  \toutlier 1299 \t not outlier 52503\n",
      "top 54967:  \toutlier 1299 \t not outlier 53668\n",
      "top 54969:  \toutlier 1301 \t not outlier 53668\n",
      "top 55867:  \toutlier 1301 \t not outlier 54566\n",
      "top 55868:  \toutlier 1302 \t not outlier 54566\n",
      "top 56198:  \toutlier 1302 \t not outlier 54896\n",
      "top 56200:  \toutlier 1304 \t not outlier 54896\n",
      "top 58342:  \toutlier 1304 \t not outlier 57038\n",
      "top 58343:  \toutlier 1305 \t not outlier 57038\n",
      "top 59294:  \toutlier 1305 \t not outlier 57989\n",
      "top 59296:  \toutlier 1307 \t not outlier 57989\n",
      "top 60163:  \toutlier 1307 \t not outlier 58856\n",
      "top 60165:  \toutlier 1309 \t not outlier 58856\n",
      "top 60465:  \toutlier 1309 \t not outlier 59156\n",
      "top 60466:  \toutlier 1310 \t not outlier 59156\n",
      "top 61960:  \toutlier 1310 \t not outlier 60650\n",
      "top 61962:  \toutlier 1312 \t not outlier 60650\n",
      "top 62215:  \toutlier 1312 \t not outlier 60903\n",
      "top 62216:  \toutlier 1313 \t not outlier 60903\n",
      "top 62644:  \toutlier 1313 \t not outlier 61331\n",
      "top 62646:  \toutlier 1315 \t not outlier 61331\n",
      "top 62673:  \toutlier 1315 \t not outlier 61358\n",
      "top 62674:  \toutlier 1316 \t not outlier 61358\n",
      "top 63130:  \toutlier 1316 \t not outlier 61814\n",
      "top 63132:  \toutlier 1318 \t not outlier 61814\n",
      "top 63901:  \toutlier 1318 \t not outlier 62583\n",
      "top 63902:  \toutlier 1319 \t not outlier 62583\n",
      "top 66038:  \toutlier 1319 \t not outlier 64719\n",
      "top 66040:  \toutlier 1321 \t not outlier 64719\n",
      "top 66391:  \toutlier 1321 \t not outlier 65070\n",
      "top 66393:  \toutlier 1323 \t not outlier 65070\n",
      "top 66912:  \toutlier 1323 \t not outlier 65589\n",
      "top 66913:  \toutlier 1324 \t not outlier 65589\n",
      "top 68080:  \toutlier 1324 \t not outlier 66756\n",
      "top 68082:  \toutlier 1326 \t not outlier 66756\n",
      "top 68280:  \toutlier 1326 \t not outlier 66954\n",
      "top 68281:  \toutlier 1327 \t not outlier 66954\n",
      "top 68923:  \toutlier 1327 \t not outlier 67596\n",
      "top 68925:  \toutlier 1329 \t not outlier 67596\n",
      "top 69282:  \toutlier 1329 \t not outlier 67953\n",
      "top 69283:  \toutlier 1330 \t not outlier 67953\n",
      "top 69564:  \toutlier 1330 \t not outlier 68234\n",
      "top 69566:  \toutlier 1332 \t not outlier 68234\n",
      "top 71889:  \toutlier 1332 \t not outlier 70557\n",
      "top 71890:  \toutlier 1333 \t not outlier 70557\n",
      "top 73103:  \toutlier 1333 \t not outlier 71770\n",
      "top 73105:  \toutlier 1335 \t not outlier 71770\n",
      "top 73510:  \toutlier 1335 \t not outlier 72175\n",
      "top 73512:  \toutlier 1337 \t not outlier 72175\n",
      "top 73758:  \toutlier 1337 \t not outlier 72421\n",
      "top 73759:  \toutlier 1338 \t not outlier 72421\n",
      "top 82141:  \toutlier 1338 \t not outlier 80803\n",
      "top 82143:  \toutlier 1340 \t not outlier 80803\n",
      "top 82173:  \toutlier 1340 \t not outlier 80833\n",
      "top 82174:  \toutlier 1341 \t not outlier 80833\n",
      "top 83456:  \toutlier 1341 \t not outlier 82115\n",
      "top 83458:  \toutlier 1343 \t not outlier 82115\n",
      "top 86830:  \toutlier 1343 \t not outlier 85487\n",
      "top 86831:  \toutlier 1344 \t not outlier 85487\n",
      "top 87969:  \toutlier 1344 \t not outlier 86625\n",
      "top 87971:  \toutlier 1346 \t not outlier 86625\n",
      "top 91629:  \toutlier 1346 \t not outlier 90283\n",
      "top 91630:  \toutlier 1347 \t not outlier 90283\n",
      "top 94429:  \toutlier 1347 \t not outlier 93082\n",
      "top 94431:  \toutlier 1349 \t not outlier 93082\n",
      "top 96568:  \toutlier 1349 \t not outlier 95219\n",
      "top 96570:  \toutlier 1351 \t not outlier 95219\n",
      "top 115280:  \toutlier 1351 \t not outlier 113929\n",
      "top 115283:  \toutlier 1351 \t not outlier 113932\n",
      "top 123623:  \toutlier 1351 \t not outlier 122272\n"
     ]
    }
   ],
   "source": [
    "for i in range(len(fpr)):\n",
    "    real_outlier = int(tpr[i]*1351)\n",
    "    not_outlier = int(fpr[i]*122272)\n",
    "    total = real_outlier + not_outlier\n",
    "    print(f'top {total}:  \\toutlier {real_outlier} \\t not outlier {not_outlier}')"
   ]
  },
  {
   "cell_type": "code",
   "execution_count": 23,
   "metadata": {
    "scrolled": true
   },
   "outputs": [],
   "source": [
    "y_va_sort = y_va.copy()\n",
    "y_va_sort['pred_prob'] = prob\n",
    "y_va_sort = y_va_sort.sort_values('pred_prob', ascending=False)"
   ]
  },
  {
   "cell_type": "code",
   "execution_count": 24,
   "metadata": {
    "scrolled": true
   },
   "outputs": [
    {
     "data": {
      "text/html": [
       "<div>\n",
       "<style scoped>\n",
       "    .dataframe tbody tr th:only-of-type {\n",
       "        vertical-align: middle;\n",
       "    }\n",
       "\n",
       "    .dataframe tbody tr th {\n",
       "        vertical-align: top;\n",
       "    }\n",
       "\n",
       "    .dataframe thead th {\n",
       "        text-align: right;\n",
       "    }\n",
       "</style>\n",
       "<table border=\"1\" class=\"dataframe\">\n",
       "  <thead>\n",
       "    <tr style=\"text-align: right;\">\n",
       "      <th></th>\n",
       "      <th>outlier</th>\n",
       "      <th>target</th>\n",
       "      <th>pred_prob</th>\n",
       "    </tr>\n",
       "  </thead>\n",
       "  <tbody>\n",
       "    <tr>\n",
       "      <th>25347</th>\n",
       "      <td>1</td>\n",
       "      <td>-33.219281</td>\n",
       "      <td>0.859505</td>\n",
       "    </tr>\n",
       "    <tr>\n",
       "      <th>116144</th>\n",
       "      <td>0</td>\n",
       "      <td>-1.170125</td>\n",
       "      <td>0.840169</td>\n",
       "    </tr>\n",
       "    <tr>\n",
       "      <th>94554</th>\n",
       "      <td>0</td>\n",
       "      <td>-1.425834</td>\n",
       "      <td>0.839344</td>\n",
       "    </tr>\n",
       "    <tr>\n",
       "      <th>56803</th>\n",
       "      <td>0</td>\n",
       "      <td>2.033892</td>\n",
       "      <td>0.837220</td>\n",
       "    </tr>\n",
       "    <tr>\n",
       "      <th>42753</th>\n",
       "      <td>1</td>\n",
       "      <td>-33.219281</td>\n",
       "      <td>0.836045</td>\n",
       "    </tr>\n",
       "  </tbody>\n",
       "</table>\n",
       "</div>"
      ],
      "text/plain": [
       "        outlier     target  pred_prob\n",
       "25347         1 -33.219281   0.859505\n",
       "116144        0  -1.170125   0.840169\n",
       "94554         0  -1.425834   0.839344\n",
       "56803         0   2.033892   0.837220\n",
       "42753         1 -33.219281   0.836045"
      ]
     },
     "execution_count": 24,
     "metadata": {},
     "output_type": "execute_result"
    }
   ],
   "source": [
    "y_va_sort.head()"
   ]
  },
  {
   "cell_type": "code",
   "execution_count": 25,
   "metadata": {},
   "outputs": [
    {
     "data": {
      "text/plain": [
       "0.06602833315775794"
      ]
     },
     "execution_count": 25,
     "metadata": {},
     "output_type": "execute_result"
    }
   ],
   "source": [
    "y_va_sort.pred_prob.mean()"
   ]
  },
  {
   "cell_type": "code",
   "execution_count": 26,
   "metadata": {},
   "outputs": [
    {
     "data": {
      "text/plain": [
       "0.010930233709890698"
      ]
     },
     "execution_count": 26,
     "metadata": {},
     "output_type": "execute_result"
    }
   ],
   "source": [
    "outlier.mean()"
   ]
  },
  {
   "cell_type": "code",
   "execution_count": 27,
   "metadata": {
    "scrolled": true
   },
   "outputs": [
    {
     "data": {
      "text/plain": [
       "[<matplotlib.lines.Line2D at 0x1b383f2f9e8>]"
      ]
     },
     "execution_count": 27,
     "metadata": {},
     "output_type": "execute_result"
    },
    {
     "data": {
      "image/png": "[encoded data removed]",
      "text/plain": [
       "<matplotlib.figure.Figure at 0x1b383ef2358>"
      ]
     },
     "metadata": {},
     "output_type": "display_data"
    }
   ],
   "source": [
    "plt.plot(y_va_sort.pred_prob.values)"
   ]
  },
  {
   "cell_type": "markdown",
   "metadata": {},
   "source": [
    "### regression"
   ]
  },
  {
   "cell_type": "code",
   "execution_count": 28,
   "metadata": {},
   "outputs": [],
   "source": [
    "rg_param = {\n",
    "         'num_leaves': 31,\n",
    "         'min_data_in_leaf': 20,\n",
    "         'objective':'regression',\n",
    "         'max_depth': -1,\n",
    "         'learning_rate': 0.01,\n",
    "         \"boosting\": \"gbdt\",\n",
    "         \"feature_fraction\": 0.9,\n",
    "         \"bagging_freq\": 1,\n",
    "         \"bagging_fraction\": 0.9,\n",
    "         \"metric\": 'rmse',\n",
    "         \"lambda_l1\": 0.1,\n",
    "         \"verbosity\": -1,\n",
    "         \"nthread\": 48,\n",
    "}"
   ]
  },
  {
   "cell_type": "code",
   "execution_count": 29,
   "metadata": {},
   "outputs": [],
   "source": [
    "tr_data = lgb.Dataset(X_tr, label=y_tr.target)"
   ]
  },
  {
   "cell_type": "code",
   "execution_count": 30,
   "metadata": {},
   "outputs": [
    {
     "name": "stdout",
     "output_type": "stream",
     "text": [
      "[200]\tcv_agg's rmse: 3.6529 + 0.120686\n",
      "[400]\tcv_agg's rmse: 3.63521 + 0.118588\n",
      "[600]\tcv_agg's rmse: 3.6291 + 0.118203\n",
      "[800]\tcv_agg's rmse: 3.62684 + 0.118228\n",
      "[1000]\tcv_agg's rmse: 3.62651 + 0.118356\n",
      "[1200]\tcv_agg's rmse: 3.62603 + 0.11884\n",
      "[1400]\tcv_agg's rmse: 3.62662 + 0.118514\n",
      "[1600]\tcv_agg's rmse: 3.62699 + 0.118977\n"
     ]
    }
   ],
   "source": [
    "cv_score = lgb.cv(rg_param, tr_data, 10000, early_stopping_rounds=600, verbose_eval=200, stratified=False)"
   ]
  },
  {
   "cell_type": "code",
   "execution_count": 31,
   "metadata": {},
   "outputs": [
    {
     "name": "stdout",
     "output_type": "stream",
     "text": [
      "best num:  1149 \n",
      "best score: 3.625740361079412\n"
     ]
    }
   ],
   "source": [
    "print('best num: ', len(cv_score['rmse-mean']), '\\nbest score:', cv_score['rmse-mean'][-1])"
   ]
  },
  {
   "cell_type": "code",
   "execution_count": 32,
   "metadata": {
    "scrolled": true
   },
   "outputs": [
    {
     "name": "stdout",
     "output_type": "stream",
     "text": [
      "[200]\ttraining's rmse: 3.4864\n",
      "[400]\ttraining's rmse: 3.36918\n",
      "[600]\ttraining's rmse: 3.28943\n",
      "[800]\ttraining's rmse: 3.22785\n",
      "[1000]\ttraining's rmse: 3.17405\n",
      "[1200]\ttraining's rmse: 3.12344\n",
      "[1400]\ttraining's rmse: 3.07776\n",
      "[1600]\ttraining's rmse: 3.03531\n",
      "[1800]\ttraining's rmse: 2.99583\n",
      "[2000]\ttraining's rmse: 2.95647\n"
     ]
    }
   ],
   "source": [
    "clf = lgb.train(rg_param, tr_data, 2000, valid_sets=(tr_data), verbose_eval=200)"
   ]
  },
  {
   "cell_type": "code",
   "execution_count": 33,
   "metadata": {},
   "outputs": [
    {
     "data": {
      "text/plain": [
       "0"
      ]
     },
     "execution_count": 33,
     "metadata": {},
     "output_type": "execute_result"
    }
   ],
   "source": [
    "clf.best_iteration"
   ]
  },
  {
   "cell_type": "code",
   "execution_count": 34,
   "metadata": {},
   "outputs": [],
   "source": [
    "pred = clf.predict(X_va, num_iteration=clf.best_iteration)"
   ]
  },
  {
   "cell_type": "code",
   "execution_count": 35,
   "metadata": {},
   "outputs": [
    {
     "data": {
      "text/plain": [
       "3.7026626002538454"
      ]
     },
     "execution_count": 35,
     "metadata": {},
     "output_type": "execute_result"
    }
   ],
   "source": [
    "get_lb(pred)"
   ]
  },
  {
   "cell_type": "code",
   "execution_count": 36,
   "metadata": {
    "scrolled": true
   },
   "outputs": [
    {
     "data": {
      "text/html": [
       "<div>\n",
       "<style scoped>\n",
       "    .dataframe tbody tr th:only-of-type {\n",
       "        vertical-align: middle;\n",
       "    }\n",
       "\n",
       "    .dataframe tbody tr th {\n",
       "        vertical-align: top;\n",
       "    }\n",
       "\n",
       "    .dataframe thead th {\n",
       "        text-align: right;\n",
       "    }\n",
       "</style>\n",
       "<table border=\"1\" class=\"dataframe\">\n",
       "  <thead>\n",
       "    <tr style=\"text-align: right;\">\n",
       "      <th></th>\n",
       "      <th>outlier</th>\n",
       "      <th>target</th>\n",
       "      <th>pred_prob</th>\n",
       "    </tr>\n",
       "  </thead>\n",
       "  <tbody>\n",
       "    <tr>\n",
       "      <th>25347</th>\n",
       "      <td>1</td>\n",
       "      <td>-33.219281</td>\n",
       "      <td>0.859505</td>\n",
       "    </tr>\n",
       "    <tr>\n",
       "      <th>116144</th>\n",
       "      <td>0</td>\n",
       "      <td>-1.170125</td>\n",
       "      <td>0.840169</td>\n",
       "    </tr>\n",
       "    <tr>\n",
       "      <th>94554</th>\n",
       "      <td>0</td>\n",
       "      <td>-1.425834</td>\n",
       "      <td>0.839344</td>\n",
       "    </tr>\n",
       "    <tr>\n",
       "      <th>56803</th>\n",
       "      <td>0</td>\n",
       "      <td>2.033892</td>\n",
       "      <td>0.837220</td>\n",
       "    </tr>\n",
       "    <tr>\n",
       "      <th>42753</th>\n",
       "      <td>1</td>\n",
       "      <td>-33.219281</td>\n",
       "      <td>0.836045</td>\n",
       "    </tr>\n",
       "  </tbody>\n",
       "</table>\n",
       "</div>"
      ],
      "text/plain": [
       "        outlier     target  pred_prob\n",
       "25347         1 -33.219281   0.859505\n",
       "116144        0  -1.170125   0.840169\n",
       "94554         0  -1.425834   0.839344\n",
       "56803         0   2.033892   0.837220\n",
       "42753         1 -33.219281   0.836045"
      ]
     },
     "execution_count": 36,
     "metadata": {},
     "output_type": "execute_result"
    }
   ],
   "source": [
    "y_va_sort.head()"
   ]
  },
  {
   "cell_type": "markdown",
   "metadata": {},
   "source": [
    "#### let's see top20/50 stratory"
   ]
  },
  {
   "cell_type": "code",
   "execution_count": 37,
   "metadata": {},
   "outputs": [],
   "source": [
    "pred_df = y_va.copy()\n",
    "pred_df['pred_target'] = pred"
   ]
  },
  {
   "cell_type": "code",
   "execution_count": 38,
   "metadata": {},
   "outputs": [],
   "source": [
    "pred_df['pred_prob'] = prob"
   ]
  },
  {
   "cell_type": "code",
   "execution_count": 39,
   "metadata": {},
   "outputs": [
    {
     "data": {
      "text/plain": [
       "Int64Index([ 25347, 116144,  94554,  56803,  42753,  12602,  51267, 135378,\n",
       "             15933, 175726,  83942, 120610, 128262,  92357, 155132,   7071,\n",
       "             82035, 148428, 102057, 159259],\n",
       "           dtype='int64')"
      ]
     },
     "execution_count": 39,
     "metadata": {},
     "output_type": "execute_result"
    }
   ],
   "source": [
    "\n",
    "index_20=pred_df.sort_values('pred_prob', ascending=False).head(20).index\n",
    "index_20"
   ]
  },
  {
   "cell_type": "code",
   "execution_count": 40,
   "metadata": {},
   "outputs": [
    {
     "data": {
      "text/plain": [
       "Int64Index([ 25347, 116144,  94554,  56803,  42753,  12602,  51267, 135378,\n",
       "             15933, 175726,  83942, 120610, 128262,  92357, 155132,   7071,\n",
       "             82035, 148428, 102057, 159259],\n",
       "           dtype='int64')"
      ]
     },
     "execution_count": 40,
     "metadata": {},
     "output_type": "execute_result"
    }
   ],
   "source": [
    "index_20"
   ]
  },
  {
   "cell_type": "code",
   "execution_count": 41,
   "metadata": {},
   "outputs": [],
   "source": [
    "pred_df.loc[pred_df.index.isin(index_20),'pred_target']=-33.21928095\n"
   ]
  },
  {
   "cell_type": "code",
   "execution_count": 42,
   "metadata": {},
   "outputs": [
    {
     "data": {
      "text/html": [
       "<div>\n",
       "<style scoped>\n",
       "    .dataframe tbody tr th:only-of-type {\n",
       "        vertical-align: middle;\n",
       "    }\n",
       "\n",
       "    .dataframe tbody tr th {\n",
       "        vertical-align: top;\n",
       "    }\n",
       "\n",
       "    .dataframe thead th {\n",
       "        text-align: right;\n",
       "    }\n",
       "</style>\n",
       "<table border=\"1\" class=\"dataframe\">\n",
       "  <thead>\n",
       "    <tr style=\"text-align: right;\">\n",
       "      <th></th>\n",
       "      <th>outlier</th>\n",
       "      <th>target</th>\n",
       "      <th>pred_target</th>\n",
       "      <th>pred_prob</th>\n",
       "    </tr>\n",
       "  </thead>\n",
       "  <tbody>\n",
       "    <tr>\n",
       "      <th>25347</th>\n",
       "      <td>1</td>\n",
       "      <td>-33.219281</td>\n",
       "      <td>-33.219281</td>\n",
       "      <td>0.859505</td>\n",
       "    </tr>\n",
       "    <tr>\n",
       "      <th>116144</th>\n",
       "      <td>0</td>\n",
       "      <td>-1.170125</td>\n",
       "      <td>-33.219281</td>\n",
       "      <td>0.840169</td>\n",
       "    </tr>\n",
       "    <tr>\n",
       "      <th>94554</th>\n",
       "      <td>0</td>\n",
       "      <td>-1.425834</td>\n",
       "      <td>-33.219281</td>\n",
       "      <td>0.839344</td>\n",
       "    </tr>\n",
       "    <tr>\n",
       "      <th>56803</th>\n",
       "      <td>0</td>\n",
       "      <td>2.033892</td>\n",
       "      <td>-33.219281</td>\n",
       "      <td>0.837220</td>\n",
       "    </tr>\n",
       "    <tr>\n",
       "      <th>42753</th>\n",
       "      <td>1</td>\n",
       "      <td>-33.219281</td>\n",
       "      <td>-33.219281</td>\n",
       "      <td>0.836045</td>\n",
       "    </tr>\n",
       "    <tr>\n",
       "      <th>12602</th>\n",
       "      <td>1</td>\n",
       "      <td>-33.219281</td>\n",
       "      <td>-33.219281</td>\n",
       "      <td>0.833862</td>\n",
       "    </tr>\n",
       "    <tr>\n",
       "      <th>51267</th>\n",
       "      <td>0</td>\n",
       "      <td>-1.420850</td>\n",
       "      <td>-33.219281</td>\n",
       "      <td>0.832792</td>\n",
       "    </tr>\n",
       "    <tr>\n",
       "      <th>135378</th>\n",
       "      <td>1</td>\n",
       "      <td>-33.219281</td>\n",
       "      <td>-33.219281</td>\n",
       "      <td>0.831966</td>\n",
       "    </tr>\n",
       "    <tr>\n",
       "      <th>15933</th>\n",
       "      <td>0</td>\n",
       "      <td>0.204692</td>\n",
       "      <td>-33.219281</td>\n",
       "      <td>0.831036</td>\n",
       "    </tr>\n",
       "    <tr>\n",
       "      <th>175726</th>\n",
       "      <td>1</td>\n",
       "      <td>-33.219281</td>\n",
       "      <td>-33.219281</td>\n",
       "      <td>0.827946</td>\n",
       "    </tr>\n",
       "    <tr>\n",
       "      <th>83942</th>\n",
       "      <td>1</td>\n",
       "      <td>-33.219281</td>\n",
       "      <td>-33.219281</td>\n",
       "      <td>0.825590</td>\n",
       "    </tr>\n",
       "    <tr>\n",
       "      <th>120610</th>\n",
       "      <td>0</td>\n",
       "      <td>0.001677</td>\n",
       "      <td>-33.219281</td>\n",
       "      <td>0.822992</td>\n",
       "    </tr>\n",
       "    <tr>\n",
       "      <th>128262</th>\n",
       "      <td>1</td>\n",
       "      <td>-33.219281</td>\n",
       "      <td>-33.219281</td>\n",
       "      <td>0.822607</td>\n",
       "    </tr>\n",
       "    <tr>\n",
       "      <th>92357</th>\n",
       "      <td>0</td>\n",
       "      <td>-0.428425</td>\n",
       "      <td>-33.219281</td>\n",
       "      <td>0.822571</td>\n",
       "    </tr>\n",
       "    <tr>\n",
       "      <th>155132</th>\n",
       "      <td>0</td>\n",
       "      <td>2.944885</td>\n",
       "      <td>-33.219281</td>\n",
       "      <td>0.817069</td>\n",
       "    </tr>\n",
       "    <tr>\n",
       "      <th>7071</th>\n",
       "      <td>0</td>\n",
       "      <td>-0.902819</td>\n",
       "      <td>-33.219281</td>\n",
       "      <td>0.816980</td>\n",
       "    </tr>\n",
       "    <tr>\n",
       "      <th>82035</th>\n",
       "      <td>0</td>\n",
       "      <td>-0.043868</td>\n",
       "      <td>-33.219281</td>\n",
       "      <td>0.816631</td>\n",
       "    </tr>\n",
       "    <tr>\n",
       "      <th>148428</th>\n",
       "      <td>1</td>\n",
       "      <td>-33.219281</td>\n",
       "      <td>-33.219281</td>\n",
       "      <td>0.816506</td>\n",
       "    </tr>\n",
       "    <tr>\n",
       "      <th>102057</th>\n",
       "      <td>0</td>\n",
       "      <td>0.390960</td>\n",
       "      <td>-33.219281</td>\n",
       "      <td>0.816165</td>\n",
       "    </tr>\n",
       "    <tr>\n",
       "      <th>159259</th>\n",
       "      <td>1</td>\n",
       "      <td>-33.219281</td>\n",
       "      <td>-33.219281</td>\n",
       "      <td>0.815928</td>\n",
       "    </tr>\n",
       "  </tbody>\n",
       "</table>\n",
       "</div>"
      ],
      "text/plain": [
       "        outlier     target  pred_target  pred_prob\n",
       "25347         1 -33.219281   -33.219281   0.859505\n",
       "116144        0  -1.170125   -33.219281   0.840169\n",
       "94554         0  -1.425834   -33.219281   0.839344\n",
       "56803         0   2.033892   -33.219281   0.837220\n",
       "42753         1 -33.219281   -33.219281   0.836045\n",
       "12602         1 -33.219281   -33.219281   0.833862\n",
       "51267         0  -1.420850   -33.219281   0.832792\n",
       "135378        1 -33.219281   -33.219281   0.831966\n",
       "15933         0   0.204692   -33.219281   0.831036\n",
       "175726        1 -33.219281   -33.219281   0.827946\n",
       "83942         1 -33.219281   -33.219281   0.825590\n",
       "120610        0   0.001677   -33.219281   0.822992\n",
       "128262        1 -33.219281   -33.219281   0.822607\n",
       "92357         0  -0.428425   -33.219281   0.822571\n",
       "155132        0   2.944885   -33.219281   0.817069\n",
       "7071          0  -0.902819   -33.219281   0.816980\n",
       "82035         0  -0.043868   -33.219281   0.816631\n",
       "148428        1 -33.219281   -33.219281   0.816506\n",
       "102057        0   0.390960   -33.219281   0.816165\n",
       "159259        1 -33.219281   -33.219281   0.815928"
      ]
     },
     "execution_count": 42,
     "metadata": {},
     "output_type": "execute_result"
    }
   ],
   "source": [
    "pred_df.sort_values('pred_prob', ascending=False).head(20)"
   ]
  },
  {
   "cell_type": "code",
   "execution_count": 43,
   "metadata": {},
   "outputs": [
    {
     "data": {
      "text/plain": [
       "3.7147380551655145"
      ]
     },
     "execution_count": 43,
     "metadata": {},
     "output_type": "execute_result"
    }
   ],
   "source": [
    "# Predicted test score\n",
    "get_lb(pred_df.pred_target.values)"
   ]
  },
  {
   "cell_type": "markdown",
   "metadata": {},
   "source": [
    "### This discrepancy for our original set might be due to mainly.Two reasons: 1) We have  smaller number of outliers in test set than in real test set. 2 ) our prediction is not so accurate\n"
   ]
  },
  {
   "cell_type": "code",
   "execution_count": 44,
   "metadata": {},
   "outputs": [
    {
     "data": {
      "text/plain": [
       "1.6111639666879538"
      ]
     },
     "execution_count": 44,
     "metadata": {},
     "output_type": "execute_result"
    }
   ],
   "source": [
    "test.shape[0]/y_va.shape[0]"
   ]
  },
  {
   "cell_type": "code",
   "execution_count": 45,
   "metadata": {},
   "outputs": [
    {
     "data": {
      "text/plain": [
       "3.7126880379636393"
      ]
     },
     "execution_count": 45,
     "metadata": {},
     "output_type": "execute_result"
    }
   ],
   "source": [
    "# so our threshould should be arround 16. Let's check it\n",
    "pred_df = y_va.copy()\n",
    "pred_df['pred_target'] = pred\n",
    "pred_df['pred_prob'] = prob\n",
    "index_16=pred_df.sort_values('pred_prob', ascending=False).head(16).index\n",
    "pred_df.loc[pred_df.index.isin(index_16),'pred_target']=-33.21928095\n",
    "get_lb(pred_df.pred_target.values)"
   ]
  },
  {
   "cell_type": "markdown",
   "metadata": {},
   "source": [
    "## Now, let's just try to iterate more for each treshould values and observe results."
   ]
  },
  {
   "cell_type": "code",
   "execution_count": 46,
   "metadata": {},
   "outputs": [
    {
     "data": {
      "text/plain": [
       "Text(0,0.5,'RMSE')"
      ]
     },
     "execution_count": 46,
     "metadata": {},
     "output_type": "execute_result"
    },
    {
     "data": {
      "image/png": "[encoded data removed]",
      "text/plain": [
       "<matplotlib.figure.Figure at 0x1b383f711d0>"
      ]
     },
     "metadata": {},
     "output_type": "display_data"
    }
   ],
   "source": [
    "results=[]\n",
    "pred_df = y_va.copy()\n",
    "pred_df['pred_target'] = pred\n",
    "pred_df['pred_prob'] = prob\n",
    "for i in range(1,200):\n",
    "    index=pred_df.sort_values('pred_prob', ascending=False).head(i).index\n",
    "    pred_df.loc[pred_df.index.isin(index),'pred_target']=-33.21928095\n",
    "    results.append(get_lb(pred_df.pred_target.values))\n",
    "plt.figure()\n",
    "plt.plot(range(1,200),results)\n",
    "plt.xlabel('Treshold number')\n",
    "plt.ylabel('RMSE')"
   ]
  },
  {
   "cell_type": "markdown",
   "metadata": {},
   "source": [
    "### We don't see any improvement at all. Probably, our outliers predictions are not so accurate. The reason why we can observe improvement in LB is due to more data for outliers prediction."
   ]
  },
  {
   "cell_type": "markdown",
   "metadata": {},
   "source": [
    "## Now, I will try to change our strategy for mixing with and without outliers. Instead of mixing prediction with and without outliers , I will separate dataset to two part so that together they will give best performance."
   ]
  },
  {
   "cell_type": "code",
   "execution_count": 47,
   "metadata": {},
   "outputs": [],
   "source": [
    "# We will start by using outliers predictions\n",
    "pred_df = y_va.copy()\n",
    "pred_df['pred_target'] = pred\n",
    "pred_df['pred_prob'] = prob"
   ]
  },
  {
   "cell_type": "code",
   "execution_count": 48,
   "metadata": {
    "scrolled": true
   },
   "outputs": [
    {
     "data": {
      "text/plain": [
       "(201917, 257)"
      ]
     },
     "execution_count": 48,
     "metadata": {},
     "output_type": "execute_result"
    }
   ],
   "source": [
    "train.shape"
   ]
  },
  {
   "cell_type": "code",
   "execution_count": 49,
   "metadata": {},
   "outputs": [],
   "source": [
    "cl_param = {\n",
    "         'num_leaves': 31,\n",
    "         'min_data_in_leaf': 20, \n",
    "         'objective':'binary',\n",
    "         'max_depth': -1,\n",
    "         'learning_rate': 0.01,\n",
    "         \"boosting\": \"gbdt\",\n",
    "         \"feature_fraction\": 0.9, #\n",
    "         \"bagging_freq\": 1,\n",
    "         \"bagging_fraction\": 0.9, #\n",
    "         \"metric\": 'auc',\n",
    "         \"lambda_l1\": 0.1,\n",
    "         \"verbosity\": -1,\n",
    "         \"nthread\": 48,\n",
    "         \"scale_pos_weight\": 15,\n",
    "}"
   ]
  },
  {
   "cell_type": "code",
   "execution_count": 50,
   "metadata": {},
   "outputs": [],
   "source": [
    "tr_data = lgb.Dataset(X_tr, label=y_tr.outlier)"
   ]
  },
  {
   "cell_type": "code",
   "execution_count": 51,
   "metadata": {},
   "outputs": [
    {
     "name": "stdout",
     "output_type": "stream",
     "text": [
      "[100]\tcv_agg's auc: 0.902398 + 0.00697561\n",
      "[200]\tcv_agg's auc: 0.903697 + 0.00662913\n",
      "[300]\tcv_agg's auc: 0.903734 + 0.00670821\n",
      "[400]\tcv_agg's auc: 0.903137 + 0.00668533\n",
      "[500]\tcv_agg's auc: 0.902398 + 0.00650716\n",
      "[600]\tcv_agg's auc: 0.901779 + 0.00654513\n",
      "[700]\tcv_agg's auc: 0.901337 + 0.006394\n",
      "[800]\tcv_agg's auc: 0.900654 + 0.00646067\n"
     ]
    }
   ],
   "source": [
    "cv_score = lgb.cv(cl_param, tr_data, 10000, early_stopping_rounds=600, verbose_eval=100)"
   ]
  },
  {
   "cell_type": "code",
   "execution_count": 52,
   "metadata": {},
   "outputs": [
    {
     "name": "stdout",
     "output_type": "stream",
     "text": [
      "best num:  232 \n",
      "best score: 0.9038768908290219\n"
     ]
    }
   ],
   "source": [
    "print('best num: ', len(cv_score['auc-mean']), '\\nbest score:', cv_score['auc-mean'][-1])"
   ]
  },
  {
   "cell_type": "code",
   "execution_count": 53,
   "metadata": {
    "scrolled": true
   },
   "outputs": [
    {
     "name": "stdout",
     "output_type": "stream",
     "text": [
      "[100]\ttraining's auc: 0.966905\n",
      "[200]\ttraining's auc: 0.974608\n",
      "[300]\ttraining's auc: 0.980398\n",
      "[400]\ttraining's auc: 0.984885\n"
     ]
    }
   ],
   "source": [
    "clf_outlier = lgb.train(cl_param, tr_data, 400, valid_sets=(tr_data), verbose_eval=100)"
   ]
  },
  {
   "cell_type": "markdown",
   "metadata": {},
   "source": [
    "Original code\n",
    "[100]\ttraining's auc: 0.966946\n",
    "[200]\ttraining's auc: 0.974508\n",
    "[300]\ttraining's auc: 0.980274\n",
    "[400]\ttraining's auc: 0.984884"
   ]
  },
  {
   "cell_type": "code",
   "execution_count": 54,
   "metadata": {},
   "outputs": [
    {
     "data": {
      "text/plain": [
       "0"
      ]
     },
     "execution_count": 54,
     "metadata": {},
     "output_type": "execute_result"
    }
   ],
   "source": [
    "clf_outlier.best_iteration\n"
   ]
  },
  {
   "cell_type": "code",
   "execution_count": 55,
   "metadata": {},
   "outputs": [],
   "source": [
    "prob_train = clf_outlier.predict(X_tr, num_iteration=clf.best_iteration)"
   ]
  },
  {
   "cell_type": "code",
   "execution_count": 56,
   "metadata": {},
   "outputs": [
    {
     "name": "stderr",
     "output_type": "stream",
     "text": [
      "C:\\Users\\user\\Anaconda3\\lib\\site-packages\\ipykernel_launcher.py:1: SettingWithCopyWarning: \n",
      "A value is trying to be set on a copy of a slice from a DataFrame.\n",
      "Try using .loc[row_indexer,col_indexer] = value instead\n",
      "\n",
      "See the caveats in the documentation: http://pandas.pydata.org/pandas-docs/stable/indexing.html#indexing-view-versus-copy\n",
      "  \"\"\"Entry point for launching an IPython kernel.\n"
     ]
    }
   ],
   "source": [
    "y_tr['prob_train']=prob_train"
   ]
  },
  {
   "cell_type": "code",
   "execution_count": 57,
   "metadata": {},
   "outputs": [
    {
     "data": {
      "text/html": [
       "<div>\n",
       "<style scoped>\n",
       "    .dataframe tbody tr th:only-of-type {\n",
       "        vertical-align: middle;\n",
       "    }\n",
       "\n",
       "    .dataframe tbody tr th {\n",
       "        vertical-align: top;\n",
       "    }\n",
       "\n",
       "    .dataframe thead th {\n",
       "        text-align: right;\n",
       "    }\n",
       "</style>\n",
       "<table border=\"1\" class=\"dataframe\">\n",
       "  <thead>\n",
       "    <tr style=\"text-align: right;\">\n",
       "      <th></th>\n",
       "      <th>outlier</th>\n",
       "      <th>target</th>\n",
       "      <th>prob_train</th>\n",
       "    </tr>\n",
       "  </thead>\n",
       "  <tbody>\n",
       "    <tr>\n",
       "      <th>88227</th>\n",
       "      <td>1</td>\n",
       "      <td>-33.219281</td>\n",
       "      <td>0.867037</td>\n",
       "    </tr>\n",
       "    <tr>\n",
       "      <th>45032</th>\n",
       "      <td>1</td>\n",
       "      <td>-33.219281</td>\n",
       "      <td>0.857329</td>\n",
       "    </tr>\n",
       "    <tr>\n",
       "      <th>100443</th>\n",
       "      <td>1</td>\n",
       "      <td>-33.219281</td>\n",
       "      <td>0.853597</td>\n",
       "    </tr>\n",
       "    <tr>\n",
       "      <th>13101</th>\n",
       "      <td>1</td>\n",
       "      <td>-33.219281</td>\n",
       "      <td>0.850782</td>\n",
       "    </tr>\n",
       "    <tr>\n",
       "      <th>22187</th>\n",
       "      <td>1</td>\n",
       "      <td>-33.219281</td>\n",
       "      <td>0.848931</td>\n",
       "    </tr>\n",
       "  </tbody>\n",
       "</table>\n",
       "</div>"
      ],
      "text/plain": [
       "        outlier     target  prob_train\n",
       "88227         1 -33.219281    0.867037\n",
       "45032         1 -33.219281    0.857329\n",
       "100443        1 -33.219281    0.853597\n",
       "13101         1 -33.219281    0.850782\n",
       "22187         1 -33.219281    0.848931"
      ]
     },
     "execution_count": 57,
     "metadata": {},
     "output_type": "execute_result"
    }
   ],
   "source": [
    "## Seems to really good! overfitting\n",
    "y_tr.sort_values('prob_train',ascending=False).head()"
   ]
  },
  {
   "cell_type": "code",
   "execution_count": 58,
   "metadata": {},
   "outputs": [
    {
     "data": {
      "text/plain": [
       "1338"
      ]
     },
     "execution_count": 58,
     "metadata": {},
     "output_type": "execute_result"
    }
   ],
   "source": [
    "y_tr.outlier.sum()"
   ]
  },
  {
   "cell_type": "code",
   "execution_count": 59,
   "metadata": {},
   "outputs": [
    {
     "data": {
      "text/plain": [
       "Text(0.5,1,'Test set')"
      ]
     },
     "execution_count": 59,
     "metadata": {},
     "output_type": "execute_result"
    },
    {
     "data": {
      "image/png": "[encoded data removed]",
      "text/plain": [
       "<matplotlib.figure.Figure at 0x1b383ecb160>"
      ]
     },
     "metadata": {},
     "output_type": "display_data"
    }
   ],
   "source": [
    "prob_outlier=[]\n",
    "for i in range(1,86):\n",
    "    i=i*0.01\n",
    "    prob_outlier.append(y_tr[y_tr.prob_train>i].outlier.sum()/y_tr[y_tr.prob_train>i].shape[0])\n",
    "plt.figure()\n",
    "plt.plot([i*0.01 for i in range(1,86)],prob_outlier)\n",
    "plt.xlabel(\"Treshould Value\")\n",
    "plt.ylabel(\"Ratio of outliers\")\n",
    "plt.title(\"Test set\")"
   ]
  },
  {
   "cell_type": "code",
   "execution_count": 60,
   "metadata": {
    "scrolled": true
   },
   "outputs": [
    {
     "data": {
      "text/html": [
       "<div>\n",
       "<style scoped>\n",
       "    .dataframe tbody tr th:only-of-type {\n",
       "        vertical-align: middle;\n",
       "    }\n",
       "\n",
       "    .dataframe tbody tr th {\n",
       "        vertical-align: top;\n",
       "    }\n",
       "\n",
       "    .dataframe thead th {\n",
       "        text-align: right;\n",
       "    }\n",
       "</style>\n",
       "<table border=\"1\" class=\"dataframe\">\n",
       "  <thead>\n",
       "    <tr style=\"text-align: right;\">\n",
       "      <th></th>\n",
       "      <th>outlier</th>\n",
       "      <th>target</th>\n",
       "      <th>pred_target</th>\n",
       "      <th>pred_prob</th>\n",
       "    </tr>\n",
       "  </thead>\n",
       "  <tbody>\n",
       "    <tr>\n",
       "      <th>123115</th>\n",
       "      <td>0</td>\n",
       "      <td>-0.638506</td>\n",
       "      <td>-0.548086</td>\n",
       "      <td>0.002294</td>\n",
       "    </tr>\n",
       "    <tr>\n",
       "      <th>87051</th>\n",
       "      <td>0</td>\n",
       "      <td>0.084343</td>\n",
       "      <td>-0.077139</td>\n",
       "      <td>0.032504</td>\n",
       "    </tr>\n",
       "    <tr>\n",
       "      <th>122987</th>\n",
       "      <td>0</td>\n",
       "      <td>2.318157</td>\n",
       "      <td>0.425544</td>\n",
       "      <td>0.181516</td>\n",
       "    </tr>\n",
       "    <tr>\n",
       "      <th>188373</th>\n",
       "      <td>0</td>\n",
       "      <td>0.338946</td>\n",
       "      <td>-1.383379</td>\n",
       "      <td>0.049641</td>\n",
       "    </tr>\n",
       "    <tr>\n",
       "      <th>2165</th>\n",
       "      <td>0</td>\n",
       "      <td>0.537236</td>\n",
       "      <td>-0.251507</td>\n",
       "      <td>0.006939</td>\n",
       "    </tr>\n",
       "  </tbody>\n",
       "</table>\n",
       "</div>"
      ],
      "text/plain": [
       "        outlier    target  pred_target  pred_prob\n",
       "123115        0 -0.638506    -0.548086   0.002294\n",
       "87051         0  0.084343    -0.077139   0.032504\n",
       "122987        0  2.318157     0.425544   0.181516\n",
       "188373        0  0.338946    -1.383379   0.049641\n",
       "2165          0  0.537236    -0.251507   0.006939"
      ]
     },
     "execution_count": 60,
     "metadata": {},
     "output_type": "execute_result"
    }
   ],
   "source": [
    "pred_df.head()"
   ]
  },
  {
   "cell_type": "code",
   "execution_count": 61,
   "metadata": {},
   "outputs": [
    {
     "data": {
      "text/plain": [
       "87"
      ]
     },
     "execution_count": 61,
     "metadata": {},
     "output_type": "execute_result"
    }
   ],
   "source": [
    "int(round(pred_df.pred_prob.max()*100+1))"
   ]
  },
  {
   "cell_type": "code",
   "execution_count": 62,
   "metadata": {},
   "outputs": [
    {
     "name": "stderr",
     "output_type": "stream",
     "text": [
      "C:\\Users\\user\\Anaconda3\\lib\\site-packages\\ipykernel_launcher.py:4: RuntimeWarning: invalid value encountered in longlong_scalars\n",
      "  after removing the cwd from sys.path.\n"
     ]
    },
    {
     "data": {
      "text/plain": [
       "Text(0.5,1,'Test set')"
      ]
     },
     "execution_count": 62,
     "metadata": {},
     "output_type": "execute_result"
    },
    {
     "data": {
      "image/png": "[encoded data removed]",
      "text/plain": [
       "<matplotlib.figure.Figure at 0x1b383f9c908>"
      ]
     },
     "metadata": {},
     "output_type": "display_data"
    }
   ],
   "source": [
    "prob_outlier=[]\n",
    "for i in range(1,int(round(pred_df.pred_prob.max()*100+1))):\n",
    "    i=i*0.01\n",
    "    prob_outlier.append(pred_df[pred_df.pred_prob>i].outlier.sum()/pred_df[pred_df.pred_prob>i].shape[0])\n",
    "plt.figure()\n",
    "plt.plot([i*0.01 for i in range(1,int(round(pred_df.pred_prob.max()*100+1)))],prob_outlier)\n",
    "plt.xlabel(\"Treshould Value\")\n",
    "plt.ylabel(\"Ratio of outliers\")\n",
    "plt.title(\"Test set\")"
   ]
  },
  {
   "cell_type": "code",
   "execution_count": 63,
   "metadata": {},
   "outputs": [
    {
     "name": "stderr",
     "output_type": "stream",
     "text": [
      "C:\\Users\\user\\Anaconda3\\lib\\site-packages\\matplotlib\\scale.py:111: RuntimeWarning: invalid value encountered in less_equal\n",
      "  out[a <= 0] = -1000\n"
     ]
    },
    {
     "data": {
      "image/png": "[encoded data removed]",
      "text/plain": [
       "<matplotlib.figure.Figure at 0x1b383f4eb00>"
      ]
     },
     "metadata": {},
     "output_type": "display_data"
    }
   ],
   "source": [
    "plt.figure()\n",
    "plt.plot([i*0.01 for i in range(1,int(round(pred_df.pred_prob.max()*100+1)))],prob_outlier)\n",
    "plt.xlabel(\"Treshould Value\")\n",
    "plt.ylabel(\"Ratio of outliers\")\n",
    "plt.title(\"Test set\")\n",
    "plt.yscale('log')"
   ]
  },
  {
   "cell_type": "code",
   "execution_count": 64,
   "metadata": {},
   "outputs": [
    {
     "data": {
      "text/plain": [
       "Text(0.5,1,'Test set')"
      ]
     },
     "execution_count": 64,
     "metadata": {},
     "output_type": "execute_result"
    },
    {
     "data": {
      "image/png": "[encoded data removed]",
      "text/plain": [
       "<matplotlib.figure.Figure at 0x1b39d39ca20>"
      ]
     },
     "metadata": {},
     "output_type": "display_data"
    }
   ],
   "source": [
    "num=[]\n",
    "for i in range(1,int(round(pred_df.pred_prob.max()*100+1))):\n",
    "    i=i*0.01\n",
    "    num.append(pred_df[pred_df.pred_prob>i].shape[0]/pred_df.shape[0])\n",
    "plt.figure()\n",
    "plt.plot([i*0.01 for i in range(1,int(round(pred_df.pred_prob.max()*100+1)))],num)\n",
    "plt.xlabel(\"Treshould Value\")\n",
    "plt.ylabel(\"Ratio of samples\")\n",
    "plt.title(\"Test set\")"
   ]
  },
  {
   "cell_type": "code",
   "execution_count": 65,
   "metadata": {},
   "outputs": [
    {
     "data": {
      "text/plain": [
       "689"
      ]
     },
     "execution_count": 65,
     "metadata": {},
     "output_type": "execute_result"
    }
   ],
   "source": [
    "pred_df[pred_df.pred_prob>0.1].outlier.sum()"
   ]
  },
  {
   "cell_type": "code",
   "execution_count": 66,
   "metadata": {},
   "outputs": [
    {
     "data": {
      "text/plain": [
       "180"
      ]
     },
     "execution_count": 66,
     "metadata": {},
     "output_type": "execute_result"
    }
   ],
   "source": [
    "pred_df[pred_df.pred_prob<0.1].outlier.sum()"
   ]
  },
  {
   "cell_type": "code",
   "execution_count": 67,
   "metadata": {},
   "outputs": [
    {
     "data": {
      "text/plain": [
       "1338"
      ]
     },
     "execution_count": 67,
     "metadata": {},
     "output_type": "execute_result"
    }
   ],
   "source": [
    "y_tr[y_tr.prob_train>0.01].outlier.sum()"
   ]
  },
  {
   "cell_type": "code",
   "execution_count": 68,
   "metadata": {},
   "outputs": [
    {
     "data": {
      "text/plain": [
       "0"
      ]
     },
     "execution_count": 68,
     "metadata": {},
     "output_type": "execute_result"
    }
   ],
   "source": [
    "y_tr[y_tr.prob_train<0.01].outlier.sum()"
   ]
  },
  {
   "cell_type": "code",
   "execution_count": 69,
   "metadata": {},
   "outputs": [
    {
     "data": {
      "text/plain": [
       "(73465, 51723)"
      ]
     },
     "execution_count": 69,
     "metadata": {},
     "output_type": "execute_result"
    }
   ],
   "source": [
    "# number of training examples\n",
    "y_tr[y_tr.prob_train>0.01].shape[0],y_tr[y_tr.prob_train<0.01].shape[0]"
   ]
  },
  {
   "cell_type": "code",
   "execution_count": 70,
   "metadata": {},
   "outputs": [
    {
     "data": {
      "text/plain": [
       "(12571, 64158)"
      ]
     },
     "execution_count": 70,
     "metadata": {},
     "output_type": "execute_result"
    }
   ],
   "source": [
    "# number of test examples\n",
    "pred_df[pred_df.pred_prob>0.1].shape[0],pred_df[pred_df.pred_prob<0.1].shape[0]"
   ]
  },
  {
   "cell_type": "markdown",
   "metadata": {},
   "source": [
    "### I have some random idea! Let's try it. We know that outlier is equial -10log(10). So, probably, it features are incoded by this function which is nonlinear. Maybe linear features will give better results."
   ]
  },
  {
   "cell_type": "code",
   "execution_count": 121,
   "metadata": {},
   "outputs": [],
   "source": [
    "linear_target=2**(y_tr.target/-10)"
   ]
  },
  {
   "cell_type": "code",
   "execution_count": 122,
   "metadata": {},
   "outputs": [],
   "source": [
    "rg_param = {\n",
    "         'num_leaves': 31,\n",
    "         'min_data_in_leaf': 20,\n",
    "         'objective':'regression',\n",
    "         'max_depth': -1,\n",
    "         'learning_rate': 0.01,\n",
    "         \"boosting\": \"gbdt\",\n",
    "         \"feature_fraction\": 0.9,\n",
    "         \"bagging_freq\": 1,\n",
    "         \"bagging_fraction\": 0.9,\n",
    "         \"metric\": 'rmse',\n",
    "         \"lambda_l1\": 0.1,\n",
    "         \"verbosity\": -1,\n",
    "         \"nthread\": 48,\n",
    "}"
   ]
  },
  {
   "cell_type": "code",
   "execution_count": 123,
   "metadata": {},
   "outputs": [],
   "source": [
    "tr_data = lgb.Dataset(X_tr, label=linear_target)"
   ]
  },
  {
   "cell_type": "code",
   "execution_count": 124,
   "metadata": {},
   "outputs": [
    {
     "name": "stdout",
     "output_type": "stream",
     "text": [
      "[200]\tcv_agg's rmse: 0.895244 + 0.0368284\n",
      "[400]\tcv_agg's rmse: 0.893609 + 0.0359247\n",
      "[600]\tcv_agg's rmse: 0.893649 + 0.0357613\n",
      "[800]\tcv_agg's rmse: 0.893875 + 0.0357121\n",
      "[1000]\tcv_agg's rmse: 0.894176 + 0.0358264\n"
     ]
    }
   ],
   "source": [
    "cv_score = lgb.cv(rg_param, tr_data, 10000, early_stopping_rounds=600, verbose_eval=200, stratified=False)"
   ]
  },
  {
   "cell_type": "code",
   "execution_count": 126,
   "metadata": {},
   "outputs": [
    {
     "name": "stdout",
     "output_type": "stream",
     "text": [
      "best num:  466 \n",
      "best score: 0.8935534391583646\n"
     ]
    }
   ],
   "source": [
    "print('best num: ', len(cv_score['rmse-mean']), '\\nbest score:', cv_score['rmse-mean'][-1])"
   ]
  },
  {
   "cell_type": "code",
   "execution_count": 127,
   "metadata": {},
   "outputs": [
    {
     "name": "stdout",
     "output_type": "stream",
     "text": [
      "[100]\ttraining's rmse: 0.871901\n",
      "[200]\ttraining's rmse: 0.840926\n",
      "[300]\ttraining's rmse: 0.820992\n",
      "[400]\ttraining's rmse: 0.807409\n",
      "[500]\ttraining's rmse: 0.796093\n"
     ]
    }
   ],
   "source": [
    "clf = lgb.train(rg_param, tr_data, 500, valid_sets=(tr_data), verbose_eval=100)"
   ]
  },
  {
   "cell_type": "code",
   "execution_count": 128,
   "metadata": {},
   "outputs": [
    {
     "data": {
      "text/plain": [
       "0"
      ]
     },
     "execution_count": 128,
     "metadata": {},
     "output_type": "execute_result"
    }
   ],
   "source": [
    "clf.best_iteration"
   ]
  },
  {
   "cell_type": "code",
   "execution_count": 129,
   "metadata": {},
   "outputs": [],
   "source": [
    "pred_log = clf.predict(X_va, num_iteration=clf.best_iteration)\n",
    "pred_log=-10*np.log2(pred_lin)"
   ]
  },
  {
   "cell_type": "code",
   "execution_count": 130,
   "metadata": {},
   "outputs": [
    {
     "data": {
      "text/plain": [
       "5.661605717551893"
      ]
     },
     "execution_count": 130,
     "metadata": {},
     "output_type": "execute_result"
    }
   ],
   "source": [
    "# Huge error! It was worst idea Haha\n",
    "get_lb(pred_log)"
   ]
  },
  {
   "cell_type": "code",
   "execution_count": 131,
   "metadata": {},
   "outputs": [
    {
     "data": {
      "text/plain": [
       "4.534825533330481"
      ]
     },
     "execution_count": 131,
     "metadata": {},
     "output_type": "execute_result"
    }
   ],
   "source": [
    "get_lb(pred_lin)"
   ]
  },
  {
   "cell_type": "code",
   "execution_count": 132,
   "metadata": {},
   "outputs": [
    {
     "data": {
      "text/plain": [
       "3.7026626002538454"
      ]
     },
     "execution_count": 132,
     "metadata": {},
     "output_type": "execute_result"
    }
   ],
   "source": [
    "get_lb(pred)"
   ]
  },
  {
   "cell_type": "code",
   "execution_count": 139,
   "metadata": {},
   "outputs": [
    {
     "data": {
      "text/plain": [
       "3.9272538581303857"
      ]
     },
     "execution_count": 139,
     "metadata": {},
     "output_type": "execute_result"
    }
   ],
   "source": [
    "get_lb(np.array([0 for i in range(len(pred_lin))]))\n"
   ]
  },
  {
   "cell_type": "code",
   "execution_count": 92,
   "metadata": {},
   "outputs": [],
   "source": [
    "y_va2=y_va.copy()\n",
    "y_va2['pred_log_target']=pred_log"
   ]
  },
  {
   "cell_type": "code",
   "execution_count": 141,
   "metadata": {},
   "outputs": [
    {
     "data": {
      "text/plain": [
       "(-33.219280948873624, -33.21928095)"
      ]
     },
     "execution_count": 141,
     "metadata": {},
     "output_type": "execute_result"
    }
   ],
   "source": [
    "# Equal to outlier\n",
    "-10*np.log2(10),y_va2.target.min()"
   ]
  },
  {
   "cell_type": "markdown",
   "metadata": {},
   "source": [
    "### Another, idea! Let's use outliers predictions as a feature for regression. It work for transperent conductor prediction maybe it can help to improve."
   ]
  },
  {
   "cell_type": "code",
   "execution_count": 147,
   "metadata": {},
   "outputs": [
    {
     "data": {
      "text/plain": [
       "(125188,)"
      ]
     },
     "execution_count": 147,
     "metadata": {},
     "output_type": "execute_result"
    }
   ],
   "source": [
    "y_tr.prob_train.shape"
   ]
  },
  {
   "cell_type": "code",
   "execution_count": 160,
   "metadata": {},
   "outputs": [
    {
     "data": {
      "text/plain": [
       "Int64Index([140457, 179764,  22899, 160544, 171908, 105318,  25836, 150503,\n",
       "             50727, 127460,\n",
       "            ...\n",
       "            151181, 114565,  81844, 122929, 196886,  61872, 128963,  36482,\n",
       "             40177, 150781],\n",
       "           dtype='int64', length=125188)"
      ]
     },
     "execution_count": 160,
     "metadata": {},
     "output_type": "execute_result"
    }
   ],
   "source": [
    "y_tr.index"
   ]
  },
  {
   "cell_type": "code",
   "execution_count": 8,
   "metadata": {},
   "outputs": [],
   "source": [
    "X_tr, X_va, y_tr, y_va = train_test_split(train[feats].values, target_with_outlier, test_size=0.38, random_state=12)"
   ]
  },
  {
   "cell_type": "code",
   "execution_count": 9,
   "metadata": {
    "scrolled": true
   },
   "outputs": [
    {
     "data": {
      "text/plain": [
       "((125188, 253), (76729, 253), (125188, 2), (76729, 2))"
      ]
     },
     "execution_count": 9,
     "metadata": {},
     "output_type": "execute_result"
    }
   ],
   "source": [
    "X_tr.shape, X_va.shape, y_tr.shape, y_va.shape"
   ]
  },
  {
   "cell_type": "code",
   "execution_count": 157,
   "metadata": {},
   "outputs": [],
   "source": [
    "train2=train.copy()"
   ]
  },
  {
   "cell_type": "code",
   "execution_count": 164,
   "metadata": {},
   "outputs": [],
   "source": [
    "train2['prob_outliers']=0"
   ]
  },
  {
   "cell_type": "code",
   "execution_count": 166,
   "metadata": {},
   "outputs": [
    {
     "data": {
      "text/html": [
       "<div>\n",
       "<style scoped>\n",
       "    .dataframe tbody tr th:only-of-type {\n",
       "        vertical-align: middle;\n",
       "    }\n",
       "\n",
       "    .dataframe tbody tr th {\n",
       "        vertical-align: top;\n",
       "    }\n",
       "\n",
       "    .dataframe thead th {\n",
       "        text-align: right;\n",
       "    }\n",
       "</style>\n",
       "<table border=\"1\" class=\"dataframe\">\n",
       "  <thead>\n",
       "    <tr style=\"text-align: right;\">\n",
       "      <th></th>\n",
       "      <th>outlier</th>\n",
       "      <th>target</th>\n",
       "      <th>prob_train</th>\n",
       "    </tr>\n",
       "  </thead>\n",
       "  <tbody>\n",
       "    <tr>\n",
       "      <th>140457</th>\n",
       "      <td>0</td>\n",
       "      <td>0.013333</td>\n",
       "      <td>0.320053</td>\n",
       "    </tr>\n",
       "    <tr>\n",
       "      <th>179764</th>\n",
       "      <td>0</td>\n",
       "      <td>-0.946788</td>\n",
       "      <td>0.142976</td>\n",
       "    </tr>\n",
       "    <tr>\n",
       "      <th>22899</th>\n",
       "      <td>0</td>\n",
       "      <td>-0.301051</td>\n",
       "      <td>0.002098</td>\n",
       "    </tr>\n",
       "    <tr>\n",
       "      <th>160544</th>\n",
       "      <td>0</td>\n",
       "      <td>1.036026</td>\n",
       "      <td>0.037259</td>\n",
       "    </tr>\n",
       "    <tr>\n",
       "      <th>171908</th>\n",
       "      <td>0</td>\n",
       "      <td>-0.664374</td>\n",
       "      <td>0.018513</td>\n",
       "    </tr>\n",
       "  </tbody>\n",
       "</table>\n",
       "</div>"
      ],
      "text/plain": [
       "        outlier    target  prob_train\n",
       "140457        0  0.013333    0.320053\n",
       "179764        0 -0.946788    0.142976\n",
       "22899         0 -0.301051    0.002098\n",
       "160544        0  1.036026    0.037259\n",
       "171908        0 -0.664374    0.018513"
      ]
     },
     "execution_count": 166,
     "metadata": {},
     "output_type": "execute_result"
    }
   ],
   "source": [
    "y_tr.head()"
   ]
  },
  {
   "cell_type": "code",
   "execution_count": 167,
   "metadata": {},
   "outputs": [],
   "source": [
    "# filling prob_outliers for training set\n",
    "train2.loc[train2.index.isin(y_tr.index),'prob_outliers']=y_tr.prob_train"
   ]
  },
  {
   "cell_type": "code",
   "execution_count": 176,
   "metadata": {},
   "outputs": [],
   "source": [
    "train2.loc[train2.index.isin(y_va.index),'prob_outliers']=pred_df.pred_prob"
   ]
  },
  {
   "cell_type": "code",
   "execution_count": 178,
   "metadata": {},
   "outputs": [],
   "source": [
    "feats2=feats[:]\n",
    "feats2.append('prob_outliers')"
   ]
  },
  {
   "cell_type": "code",
   "execution_count": 183,
   "metadata": {},
   "outputs": [],
   "source": [
    "X_tr2, X_va2, y_tr2, y_va2 = train_test_split(train2[feats2], target_with_outlier, test_size=0.38, random_state=12)"
   ]
  },
  {
   "cell_type": "code",
   "execution_count": 28,
   "metadata": {},
   "outputs": [],
   "source": [
    "rg_param = {\n",
    "         'num_leaves': 31,\n",
    "         'min_data_in_leaf': 20,\n",
    "         'objective':'regression',\n",
    "         'max_depth': -1,\n",
    "         'learning_rate': 0.01,\n",
    "         \"boosting\": \"gbdt\",\n",
    "         \"feature_fraction\": 0.9,\n",
    "         \"bagging_freq\": 1,\n",
    "         \"bagging_fraction\": 0.9,\n",
    "         \"metric\": 'rmse',\n",
    "         \"lambda_l1\": 0.1,\n",
    "         \"verbosity\": -1,\n",
    "         \"nthread\": 48,\n",
    "}"
   ]
  },
  {
   "cell_type": "code",
   "execution_count": 186,
   "metadata": {},
   "outputs": [],
   "source": [
    "tr_data = lgb.Dataset(X_tr2, label=y_tr2.target)"
   ]
  },
  {
   "cell_type": "code",
   "execution_count": 187,
   "metadata": {},
   "outputs": [
    {
     "name": "stdout",
     "output_type": "stream",
     "text": [
      "[200]\tcv_agg's rmse: 2.94532 + 0.104668\n",
      "[400]\tcv_agg's rmse: 2.84243 + 0.0937743\n",
      "[600]\tcv_agg's rmse: 2.81018 + 0.0920099\n",
      "[800]\tcv_agg's rmse: 2.79241 + 0.0897408\n",
      "[1000]\tcv_agg's rmse: 2.78168 + 0.0901444\n",
      "[1200]\tcv_agg's rmse: 2.77516 + 0.0903369\n",
      "[1400]\tcv_agg's rmse: 2.7693 + 0.0909188\n",
      "[1600]\tcv_agg's rmse: 2.76438 + 0.0908424\n",
      "[1800]\tcv_agg's rmse: 2.76036 + 0.090435\n",
      "[2000]\tcv_agg's rmse: 2.75683 + 0.0901886\n",
      "[2200]\tcv_agg's rmse: 2.75392 + 0.0898743\n",
      "[2400]\tcv_agg's rmse: 2.75158 + 0.0896558\n",
      "[2600]\tcv_agg's rmse: 2.74916 + 0.0888359\n",
      "[2800]\tcv_agg's rmse: 2.74747 + 0.0887952\n",
      "[3000]\tcv_agg's rmse: 2.74619 + 0.0886733\n",
      "[3200]\tcv_agg's rmse: 2.7446 + 0.0883913\n",
      "[3400]\tcv_agg's rmse: 2.74309 + 0.0881613\n",
      "[3600]\tcv_agg's rmse: 2.74221 + 0.0882948\n",
      "[3800]\tcv_agg's rmse: 2.74153 + 0.0885056\n",
      "[4000]\tcv_agg's rmse: 2.74093 + 0.0884648\n",
      "[4200]\tcv_agg's rmse: 2.74016 + 0.0882647\n",
      "[4400]\tcv_agg's rmse: 2.7397 + 0.0881054\n",
      "[4600]\tcv_agg's rmse: 2.73896 + 0.0880526\n",
      "[4800]\tcv_agg's rmse: 2.73819 + 0.0882019\n",
      "[5000]\tcv_agg's rmse: 2.73768 + 0.0880387\n",
      "[5200]\tcv_agg's rmse: 2.73727 + 0.0878322\n",
      "[5400]\tcv_agg's rmse: 2.73681 + 0.0877433\n",
      "[5600]\tcv_agg's rmse: 2.73631 + 0.0876904\n",
      "[5800]\tcv_agg's rmse: 2.73583 + 0.08753\n",
      "[6000]\tcv_agg's rmse: 2.73554 + 0.0877172\n",
      "[6200]\tcv_agg's rmse: 2.7354 + 0.0876775\n",
      "[6400]\tcv_agg's rmse: 2.7353 + 0.0875107\n",
      "[6600]\tcv_agg's rmse: 2.73516 + 0.0873496\n",
      "[6800]\tcv_agg's rmse: 2.73488 + 0.0872499\n",
      "[7000]\tcv_agg's rmse: 2.73464 + 0.0874222\n",
      "[7200]\tcv_agg's rmse: 2.7346 + 0.0871847\n",
      "[7400]\tcv_agg's rmse: 2.73447 + 0.0870753\n",
      "[7600]\tcv_agg's rmse: 2.73439 + 0.0870933\n",
      "[7800]\tcv_agg's rmse: 2.7342 + 0.0870423\n",
      "[8000]\tcv_agg's rmse: 2.73419 + 0.0870701\n",
      "[8200]\tcv_agg's rmse: 2.73407 + 0.0871809\n",
      "[8400]\tcv_agg's rmse: 2.7338 + 0.0871532\n",
      "[8600]\tcv_agg's rmse: 2.73357 + 0.0872704\n",
      "[8800]\tcv_agg's rmse: 2.7335 + 0.0873112\n",
      "[9000]\tcv_agg's rmse: 2.73343 + 0.0873398\n",
      "[9200]\tcv_agg's rmse: 2.73336 + 0.0872709\n",
      "[9400]\tcv_agg's rmse: 2.73335 + 0.0872149\n",
      "[9600]\tcv_agg's rmse: 2.73332 + 0.0871295\n",
      "[9800]\tcv_agg's rmse: 2.7333 + 0.0870671\n",
      "[10000]\tcv_agg's rmse: 2.73327 + 0.0870121\n"
     ]
    }
   ],
   "source": [
    "cv_score = lgb.cv(rg_param, tr_data, 10000, early_stopping_rounds=600, verbose_eval=200, stratified=False)"
   ]
  },
  {
   "cell_type": "code",
   "execution_count": 189,
   "metadata": {
    "scrolled": true
   },
   "outputs": [
    {
     "name": "stdout",
     "output_type": "stream",
     "text": [
      "best num:  9949 \n",
      "best score: 2.7332440508881763\n"
     ]
    }
   ],
   "source": [
    "print('best num: ', len(cv_score['rmse-mean']), '\\nbest score:', cv_score['rmse-mean'][-1])"
   ]
  },
  {
   "cell_type": "markdown",
   "metadata": {},
   "source": [
    "## This is really amazing! It can be still improved I am worried about overfitting"
   ]
  },
  {
   "cell_type": "code",
   "execution_count": 190,
   "metadata": {
    "scrolled": true
   },
   "outputs": [
    {
     "name": "stdout",
     "output_type": "stream",
     "text": [
      "[200]\ttraining's rmse: 2.70743\n",
      "[400]\ttraining's rmse: 2.43657\n",
      "[600]\ttraining's rmse: 2.29031\n",
      "[800]\ttraining's rmse: 2.19129\n",
      "[1000]\ttraining's rmse: 2.11492\n",
      "[1200]\ttraining's rmse: 2.05255\n",
      "[1400]\ttraining's rmse: 2.00259\n",
      "[1600]\ttraining's rmse: 1.95584\n",
      "[1800]\ttraining's rmse: 1.91521\n",
      "[2000]\ttraining's rmse: 1.8778\n",
      "[2200]\ttraining's rmse: 1.84573\n",
      "[2400]\ttraining's rmse: 1.81538\n",
      "[2600]\ttraining's rmse: 1.79068\n",
      "[2800]\ttraining's rmse: 1.76536\n",
      "[3000]\ttraining's rmse: 1.7436\n",
      "[3200]\ttraining's rmse: 1.72352\n",
      "[3400]\ttraining's rmse: 1.70347\n",
      "[3600]\ttraining's rmse: 1.68511\n",
      "[3800]\ttraining's rmse: 1.6676\n",
      "[4000]\ttraining's rmse: 1.64996\n",
      "[4200]\ttraining's rmse: 1.6339\n",
      "[4400]\ttraining's rmse: 1.61922\n",
      "[4600]\ttraining's rmse: 1.60532\n",
      "[4800]\ttraining's rmse: 1.59158\n",
      "[5000]\ttraining's rmse: 1.57752\n",
      "[5200]\ttraining's rmse: 1.56379\n",
      "[5400]\ttraining's rmse: 1.55201\n",
      "[5600]\ttraining's rmse: 1.53979\n",
      "[5800]\ttraining's rmse: 1.52849\n",
      "[6000]\ttraining's rmse: 1.51667\n",
      "[6200]\ttraining's rmse: 1.50534\n",
      "[6400]\ttraining's rmse: 1.49374\n",
      "[6600]\ttraining's rmse: 1.48301\n",
      "[6800]\ttraining's rmse: 1.47235\n",
      "[7000]\ttraining's rmse: 1.46167\n",
      "[7200]\ttraining's rmse: 1.45184\n",
      "[7400]\ttraining's rmse: 1.4424\n",
      "[7600]\ttraining's rmse: 1.43282\n",
      "[7800]\ttraining's rmse: 1.42327\n",
      "[8000]\ttraining's rmse: 1.41411\n",
      "[8200]\ttraining's rmse: 1.40505\n",
      "[8400]\ttraining's rmse: 1.39569\n",
      "[8600]\ttraining's rmse: 1.387\n",
      "[8800]\ttraining's rmse: 1.37807\n",
      "[9000]\ttraining's rmse: 1.36946\n",
      "[9200]\ttraining's rmse: 1.361\n",
      "[9400]\ttraining's rmse: 1.35305\n",
      "[9600]\ttraining's rmse: 1.3449\n",
      "[9800]\ttraining's rmse: 1.33666\n",
      "[10000]\ttraining's rmse: 1.32891\n"
     ]
    }
   ],
   "source": [
    "# Let's try to fit until 10000 and 5000 and compare resutls\n",
    "clf10 = lgb.train(rg_param, tr_data, 10000, valid_sets=(tr_data), verbose_eval=200)"
   ]
  },
  {
   "cell_type": "code",
   "execution_count": 191,
   "metadata": {
    "scrolled": true
   },
   "outputs": [
    {
     "name": "stdout",
     "output_type": "stream",
     "text": [
      "[200]\ttraining's rmse: 2.70743\n",
      "[400]\ttraining's rmse: 2.43657\n",
      "[600]\ttraining's rmse: 2.29031\n",
      "[800]\ttraining's rmse: 2.19129\n",
      "[1000]\ttraining's rmse: 2.11492\n",
      "[1200]\ttraining's rmse: 2.05255\n",
      "[1400]\ttraining's rmse: 2.00259\n",
      "[1600]\ttraining's rmse: 1.95584\n",
      "[1800]\ttraining's rmse: 1.91521\n",
      "[2000]\ttraining's rmse: 1.8778\n",
      "[2200]\ttraining's rmse: 1.84573\n",
      "[2400]\ttraining's rmse: 1.81538\n",
      "[2600]\ttraining's rmse: 1.79068\n",
      "[2800]\ttraining's rmse: 1.76536\n",
      "[3000]\ttraining's rmse: 1.7436\n",
      "[3200]\ttraining's rmse: 1.72352\n",
      "[3400]\ttraining's rmse: 1.70347\n",
      "[3600]\ttraining's rmse: 1.68511\n",
      "[3800]\ttraining's rmse: 1.6676\n",
      "[4000]\ttraining's rmse: 1.64996\n",
      "[4200]\ttraining's rmse: 1.6339\n",
      "[4400]\ttraining's rmse: 1.61922\n",
      "[4600]\ttraining's rmse: 1.60532\n",
      "[4800]\ttraining's rmse: 1.59158\n",
      "[5000]\ttraining's rmse: 1.57752\n"
     ]
    }
   ],
   "source": [
    "clf5 = lgb.train(rg_param, tr_data, 5000, valid_sets=(tr_data), verbose_eval=200)"
   ]
  },
  {
   "cell_type": "code",
   "execution_count": 196,
   "metadata": {},
   "outputs": [
    {
     "name": "stdout",
     "output_type": "stream",
     "text": [
      "[200]\ttraining's rmse: 2.70743\n",
      "[400]\ttraining's rmse: 2.43657\n",
      "[600]\ttraining's rmse: 2.29031\n",
      "[800]\ttraining's rmse: 2.19129\n",
      "[1000]\ttraining's rmse: 2.11492\n"
     ]
    }
   ],
   "source": [
    "clf1 = lgb.train(rg_param, tr_data, 1000, valid_sets=(tr_data), verbose_eval=200)"
   ]
  },
  {
   "cell_type": "code",
   "execution_count": 33,
   "metadata": {},
   "outputs": [
    {
     "data": {
      "text/plain": [
       "0"
      ]
     },
     "execution_count": 33,
     "metadata": {},
     "output_type": "execute_result"
    }
   ],
   "source": [
    "clf.best_iteration"
   ]
  },
  {
   "cell_type": "code",
   "execution_count": 192,
   "metadata": {},
   "outputs": [],
   "source": [
    "pred10 = clf10.predict(X_va2, num_iteration=clf.best_iteration)"
   ]
  },
  {
   "cell_type": "code",
   "execution_count": 194,
   "metadata": {},
   "outputs": [],
   "source": [
    "pred5 = clf5.predict(X_va2, num_iteration=clf.best_iteration)"
   ]
  },
  {
   "cell_type": "code",
   "execution_count": 197,
   "metadata": {},
   "outputs": [],
   "source": [
    "pred1 = clf1.predict(X_va2, num_iteration=clf.best_iteration)"
   ]
  },
  {
   "cell_type": "code",
   "execution_count": 198,
   "metadata": {},
   "outputs": [
    {
     "data": {
      "text/plain": [
       "3.821413304057852"
      ]
     },
     "execution_count": 198,
     "metadata": {},
     "output_type": "execute_result"
    }
   ],
   "source": [
    "get_lb(pred1)"
   ]
  },
  {
   "cell_type": "code",
   "execution_count": 195,
   "metadata": {},
   "outputs": [
    {
     "data": {
      "text/plain": [
       "3.835911155470752"
      ]
     },
     "execution_count": 195,
     "metadata": {},
     "output_type": "execute_result"
    }
   ],
   "source": [
    "get_lb(pred5)"
   ]
  },
  {
   "cell_type": "code",
   "execution_count": 193,
   "metadata": {},
   "outputs": [
    {
     "data": {
      "text/plain": [
       "3.8398787962019543"
      ]
     },
     "execution_count": 193,
     "metadata": {},
     "output_type": "execute_result"
    }
   ],
   "source": [
    "get_lb(pred10)"
   ]
  },
  {
   "cell_type": "code",
   "execution_count": 35,
   "metadata": {},
   "outputs": [
    {
     "data": {
      "text/plain": [
       "3.7026626002538454"
      ]
     },
     "execution_count": 35,
     "metadata": {},
     "output_type": "execute_result"
    }
   ],
   "source": [
    "get_lb(pred2)"
   ]
  },
  {
   "cell_type": "markdown",
   "metadata": {},
   "source": [
    "### All of the above results are extremely bad since we are overfitting to test set. Instead we need to devide our test set to "
   ]
  },
  {
   "cell_type": "code",
   "execution_count": 201,
   "metadata": {},
   "outputs": [
    {
     "data": {
      "text/plain": [
       "(123623, 255)"
      ]
     },
     "execution_count": 201,
     "metadata": {},
     "output_type": "execute_result"
    }
   ],
   "source": [
    "test.shape"
   ]
  },
  {
   "cell_type": "code",
   "execution_count": 203,
   "metadata": {},
   "outputs": [
    {
     "data": {
      "text/plain": [
       "(201917, 258)"
      ]
     },
     "execution_count": 203,
     "metadata": {},
     "output_type": "execute_result"
    }
   ],
   "source": [
    "train2.shape"
   ]
  },
  {
   "cell_type": "code",
   "execution_count": 11,
   "metadata": {},
   "outputs": [],
   "source": [
    "from sklearn.model_selection import StratifiedKFold"
   ]
  },
  {
   "cell_type": "code",
   "execution_count": 215,
   "metadata": {},
   "outputs": [
    {
     "data": {
      "text/plain": [
       "(201917, 257)"
      ]
     },
     "execution_count": 215,
     "metadata": {},
     "output_type": "execute_result"
    }
   ],
   "source": [
    "train.shape"
   ]
  },
  {
   "cell_type": "code",
   "execution_count": 12,
   "metadata": {
    "scrolled": true
   },
   "outputs": [],
   "source": [
    "X_tr, X_va, y_tr, y_va = train_test_split(train[feats], target_with_outlier, test_size=0.38, random_state=12)"
   ]
  },
  {
   "cell_type": "code",
   "execution_count": 13,
   "metadata": {},
   "outputs": [
    {
     "data": {
      "text/plain": [
       "(76729, 253)"
      ]
     },
     "execution_count": 13,
     "metadata": {},
     "output_type": "execute_result"
    }
   ],
   "source": [
    "X_va.shape"
   ]
  },
  {
   "cell_type": "code",
   "execution_count": 14,
   "metadata": {
    "scrolled": true
   },
   "outputs": [
    {
     "name": "stdout",
     "output_type": "stream",
     "text": [
      "fold 0\n",
      "Training until validation scores don't improve for 100 rounds.\n",
      "[100]\ttraining's auc: 0.917183\tvalid_1's auc: 0.91992\n",
      "[200]\ttraining's auc: 0.924252\tvalid_1's auc: 0.921347\n",
      "[300]\ttraining's auc: 0.929413\tvalid_1's auc: 0.921534\n",
      "[400]\ttraining's auc: 0.933795\tvalid_1's auc: 0.921478\n",
      "Early stopping, best iteration is:\n",
      "[355]\ttraining's auc: 0.931838\tvalid_1's auc: 0.921751\n",
      "fold 1\n",
      "Training until validation scores don't improve for 100 rounds.\n",
      "[100]\ttraining's auc: 0.918611\tvalid_1's auc: 0.906582\n",
      "[200]\ttraining's auc: 0.925213\tvalid_1's auc: 0.908707\n",
      "[300]\ttraining's auc: 0.929988\tvalid_1's auc: 0.910282\n",
      "[400]\ttraining's auc: 0.934385\tvalid_1's auc: 0.911197\n",
      "[500]\ttraining's auc: 0.938165\tvalid_1's auc: 0.91164\n",
      "[600]\ttraining's auc: 0.941646\tvalid_1's auc: 0.91179\n",
      "[700]\ttraining's auc: 0.944731\tvalid_1's auc: 0.911839\n",
      "[800]\ttraining's auc: 0.947757\tvalid_1's auc: 0.911896\n",
      "Early stopping, best iteration is:\n",
      "[723]\ttraining's auc: 0.945501\tvalid_1's auc: 0.911964\n",
      "fold 2\n",
      "Training until validation scores don't improve for 100 rounds.\n",
      "[100]\ttraining's auc: 0.921584\tvalid_1's auc: 0.894671\n",
      "[200]\ttraining's auc: 0.927941\tvalid_1's auc: 0.896916\n",
      "[300]\ttraining's auc: 0.93263\tvalid_1's auc: 0.898119\n",
      "[400]\ttraining's auc: 0.936422\tvalid_1's auc: 0.89872\n",
      "[500]\ttraining's auc: 0.939803\tvalid_1's auc: 0.898806\n",
      "Early stopping, best iteration is:\n",
      "[467]\ttraining's auc: 0.938829\tvalid_1's auc: 0.898898\n",
      "fold 3\n",
      "Training until validation scores don't improve for 100 rounds.\n",
      "[100]\ttraining's auc: 0.922863\tvalid_1's auc: 0.886206\n",
      "[200]\ttraining's auc: 0.929262\tvalid_1's auc: 0.887556\n",
      "[300]\ttraining's auc: 0.933676\tvalid_1's auc: 0.888633\n",
      "[400]\ttraining's auc: 0.937544\tvalid_1's auc: 0.888959\n",
      "[500]\ttraining's auc: 0.940933\tvalid_1's auc: 0.889307\n",
      "[600]\ttraining's auc: 0.944266\tvalid_1's auc: 0.889255\n",
      "[700]\ttraining's auc: 0.947229\tvalid_1's auc: 0.889474\n",
      "Early stopping, best iteration is:\n",
      "[662]\ttraining's auc: 0.946132\tvalid_1's auc: 0.889536\n",
      "fold 4\n",
      "Training until validation scores don't improve for 100 rounds.\n",
      "[100]\ttraining's auc: 0.920755\tvalid_1's auc: 0.89927\n",
      "[200]\ttraining's auc: 0.92716\tvalid_1's auc: 0.901687\n",
      "[300]\ttraining's auc: 0.932321\tvalid_1's auc: 0.903097\n",
      "[400]\ttraining's auc: 0.936672\tvalid_1's auc: 0.903652\n",
      "[500]\ttraining's auc: 0.940363\tvalid_1's auc: 0.904135\n",
      "[600]\ttraining's auc: 0.943763\tvalid_1's auc: 0.90435\n",
      "[700]\ttraining's auc: 0.946816\tvalid_1's auc: 0.904303\n",
      "Early stopping, best iteration is:\n",
      "[658]\ttraining's auc: 0.945572\tvalid_1's auc: 0.904416\n"
     ]
    },
    {
     "data": {
      "text/plain": [
       "0.17040935323352144"
      ]
     },
     "execution_count": 14,
     "metadata": {},
     "output_type": "execute_result"
    }
   ],
   "source": [
    "target=y_tr.outlier\n",
    "# From chau's kernel but Adam's parameters\n",
    "param =  {\n",
    "         'num_leaves': 31,\n",
    "         'min_data_in_leaf': 20, \n",
    "         'objective':'binary',\n",
    "         'max_depth': 3,\n",
    "         'learning_rate': 0.01,\n",
    "         \"boosting\": \"gbdt\",\n",
    "         \"feature_fraction\": 0.9, #\n",
    "         \"bagging_freq\": 1,\n",
    "         \"bagging_fraction\": 0.9, #\n",
    "         \"metric\": 'auc',\n",
    "         \"lambda_l1\": 0.1,\n",
    "         \"verbosity\": -1,\n",
    "         \"scale_pos_weight\": 15,\n",
    "}\n",
    "\n",
    "folds = StratifiedKFold(n_splits=5, shuffle=True, random_state=4590)\n",
    "oof_out = np.zeros(len(X_tr))\n",
    "predictions_out = np.zeros(len(X_va))\n",
    "predictions_out_final = np.zeros(len(test))\n",
    "\n",
    "feature_importance_df = pd.DataFrame()\n",
    "\n",
    "for fold_, (trn_idx, val_idx) in enumerate(folds.split(X_tr,y_tr['outlier'].values)):\n",
    "    print(\"fold {}\".format(fold_))\n",
    "    trn_data = lgb.Dataset(X_tr.iloc[trn_idx][feats], label=target.iloc[trn_idx])#, categorical_feature=categorical_feats)\n",
    "    val_data = lgb.Dataset(X_tr.iloc[val_idx][feats], label=target.iloc[val_idx])#, categorical_feature=categorical_feats)\n",
    "\n",
    "    num_round = 10000\n",
    "    clf = lgb.train(param, trn_data, num_round, valid_sets = [trn_data, val_data], verbose_eval=100, early_stopping_rounds = 100)\n",
    "    oof_out[val_idx] = clf.predict(X_tr.iloc[val_idx][feats], num_iteration=clf.best_iteration)\n",
    "    \n",
    "    fold_importance_df = pd.DataFrame()\n",
    "    fold_importance_df[\"Feature\"] = feats\n",
    "    fold_importance_df[\"importance\"] = clf.feature_importance()\n",
    "    fold_importance_df[\"fold\"] = fold_ + 1\n",
    "    feature_importance_df = pd.concat([feature_importance_df, fold_importance_df], axis=0)\n",
    "    \n",
    "    predictions_out += clf.predict(X_va[feats], num_iteration=clf.best_iteration) / folds.n_splits\n",
    "    predictions_out_final += clf.predict(test[feats], num_iteration=clf.best_iteration) / folds.n_splits\n",
    "\n",
    "\n",
    "np.sqrt(mean_squared_error(oof_out, target))"
   ]
  },
  {
   "cell_type": "code",
   "execution_count": 15,
   "metadata": {},
   "outputs": [
    {
     "data": {
      "text/plain": [
       "0.17040935323352144"
      ]
     },
     "execution_count": 15,
     "metadata": {},
     "output_type": "execute_result"
    }
   ],
   "source": [
    "# Large error\n",
    "np.sqrt(mean_squared_error(oof_out, target))"
   ]
  },
  {
   "cell_type": "markdown",
   "metadata": {},
   "source": [
    "### Let's look at relatio of predicted target to predicted outliers"
   ]
  },
  {
   "cell_type": "code",
   "execution_count": 16,
   "metadata": {},
   "outputs": [],
   "source": [
    "X_tr, X_va, y_tr, y_va = train_test_split(train[feats], target_with_outlier, test_size=0.38, random_state=12)"
   ]
  },
  {
   "cell_type": "code",
   "execution_count": 17,
   "metadata": {},
   "outputs": [
    {
     "data": {
      "text/html": [
       "<div>\n",
       "<style scoped>\n",
       "    .dataframe tbody tr th:only-of-type {\n",
       "        vertical-align: middle;\n",
       "    }\n",
       "\n",
       "    .dataframe tbody tr th {\n",
       "        vertical-align: top;\n",
       "    }\n",
       "\n",
       "    .dataframe thead th {\n",
       "        text-align: right;\n",
       "    }\n",
       "</style>\n",
       "<table border=\"1\" class=\"dataframe\">\n",
       "  <thead>\n",
       "    <tr style=\"text-align: right;\">\n",
       "      <th></th>\n",
       "      <th>outlier</th>\n",
       "      <th>target</th>\n",
       "    </tr>\n",
       "  </thead>\n",
       "  <tbody>\n",
       "    <tr>\n",
       "      <th>140457</th>\n",
       "      <td>0</td>\n",
       "      <td>0.013333</td>\n",
       "    </tr>\n",
       "    <tr>\n",
       "      <th>179764</th>\n",
       "      <td>0</td>\n",
       "      <td>-0.946788</td>\n",
       "    </tr>\n",
       "    <tr>\n",
       "      <th>22899</th>\n",
       "      <td>0</td>\n",
       "      <td>-0.301051</td>\n",
       "    </tr>\n",
       "    <tr>\n",
       "      <th>160544</th>\n",
       "      <td>0</td>\n",
       "      <td>1.036026</td>\n",
       "    </tr>\n",
       "    <tr>\n",
       "      <th>171908</th>\n",
       "      <td>0</td>\n",
       "      <td>-0.664374</td>\n",
       "    </tr>\n",
       "  </tbody>\n",
       "</table>\n",
       "</div>"
      ],
      "text/plain": [
       "        outlier    target\n",
       "140457        0  0.013333\n",
       "179764        0 -0.946788\n",
       "22899         0 -0.301051\n",
       "160544        0  1.036026\n",
       "171908        0 -0.664374"
      ]
     },
     "execution_count": 17,
     "metadata": {},
     "output_type": "execute_result"
    }
   ],
   "source": [
    "y_tr.head()"
   ]
  },
  {
   "cell_type": "code",
   "execution_count": 18,
   "metadata": {
    "scrolled": true
   },
   "outputs": [
    {
     "name": "stdout",
     "output_type": "stream",
     "text": [
      "fold 0\n",
      "Training until validation scores don't improve for 100 rounds.\n",
      "[100]\ttraining's rmse: 3.58046\tvalid_1's rmse: 3.66991\n",
      "[200]\ttraining's rmse: 3.46286\tvalid_1's rmse: 3.63273\n",
      "[300]\ttraining's rmse: 3.39054\tvalid_1's rmse: 3.61732\n",
      "[400]\ttraining's rmse: 3.33437\tvalid_1's rmse: 3.61146\n",
      "[500]\ttraining's rmse: 3.28756\tvalid_1's rmse: 3.60716\n",
      "[600]\ttraining's rmse: 3.24652\tvalid_1's rmse: 3.60529\n",
      "[700]\ttraining's rmse: 3.20942\tvalid_1's rmse: 3.60469\n",
      "[800]\ttraining's rmse: 3.17664\tvalid_1's rmse: 3.60481\n",
      "[900]\ttraining's rmse: 3.14277\tvalid_1's rmse: 3.60478\n",
      "[1000]\ttraining's rmse: 3.11189\tvalid_1's rmse: 3.60485\n",
      "Early stopping, best iteration is:\n",
      "[933]\ttraining's rmse: 3.1324\tvalid_1's rmse: 3.60412\n",
      "fold 1\n",
      "Training until validation scores don't improve for 100 rounds.\n",
      "[100]\ttraining's rmse: 3.5773\tvalid_1's rmse: 3.68439\n",
      "[200]\ttraining's rmse: 3.45854\tvalid_1's rmse: 3.65424\n",
      "[300]\ttraining's rmse: 3.38404\tvalid_1's rmse: 3.6419\n",
      "[400]\ttraining's rmse: 3.3258\tvalid_1's rmse: 3.63482\n",
      "[500]\ttraining's rmse: 3.27887\tvalid_1's rmse: 3.63126\n",
      "[600]\ttraining's rmse: 3.23798\tvalid_1's rmse: 3.62975\n",
      "[700]\ttraining's rmse: 3.20318\tvalid_1's rmse: 3.62844\n",
      "[800]\ttraining's rmse: 3.17136\tvalid_1's rmse: 3.62697\n",
      "[900]\ttraining's rmse: 3.14157\tvalid_1's rmse: 3.62619\n",
      "[1000]\ttraining's rmse: 3.11383\tvalid_1's rmse: 3.62602\n",
      "[1100]\ttraining's rmse: 3.08596\tvalid_1's rmse: 3.62599\n",
      "Early stopping, best iteration is:\n",
      "[1036]\ttraining's rmse: 3.10363\tvalid_1's rmse: 3.62556\n",
      "fold 2\n",
      "Training until validation scores don't improve for 100 rounds.\n",
      "[100]\ttraining's rmse: 3.57175\tvalid_1's rmse: 3.70007\n",
      "[200]\ttraining's rmse: 3.45258\tvalid_1's rmse: 3.6777\n",
      "[300]\ttraining's rmse: 3.37532\tvalid_1's rmse: 3.66977\n",
      "[400]\ttraining's rmse: 3.31725\tvalid_1's rmse: 3.66577\n",
      "[500]\ttraining's rmse: 3.27088\tvalid_1's rmse: 3.66423\n",
      "[600]\ttraining's rmse: 3.23104\tvalid_1's rmse: 3.66371\n",
      "[700]\ttraining's rmse: 3.19465\tvalid_1's rmse: 3.66357\n",
      "[800]\ttraining's rmse: 3.16219\tvalid_1's rmse: 3.66327\n",
      "[900]\ttraining's rmse: 3.13097\tvalid_1's rmse: 3.66273\n",
      "Early stopping, best iteration is:\n",
      "[885]\ttraining's rmse: 3.13525\tvalid_1's rmse: 3.66256\n",
      "fold 3\n",
      "Training until validation scores don't improve for 100 rounds.\n",
      "[100]\ttraining's rmse: 3.56478\tvalid_1's rmse: 3.71865\n",
      "[200]\ttraining's rmse: 3.44406\tvalid_1's rmse: 3.69546\n",
      "[300]\ttraining's rmse: 3.36856\tvalid_1's rmse: 3.68773\n",
      "[400]\ttraining's rmse: 3.31084\tvalid_1's rmse: 3.68233\n",
      "[500]\ttraining's rmse: 3.26154\tvalid_1's rmse: 3.67768\n",
      "[600]\ttraining's rmse: 3.22076\tvalid_1's rmse: 3.67562\n",
      "[700]\ttraining's rmse: 3.18466\tvalid_1's rmse: 3.67444\n",
      "[800]\ttraining's rmse: 3.1508\tvalid_1's rmse: 3.67392\n",
      "[900]\ttraining's rmse: 3.12056\tvalid_1's rmse: 3.67398\n",
      "Early stopping, best iteration is:\n",
      "[859]\ttraining's rmse: 3.13256\tvalid_1's rmse: 3.67335\n",
      "fold 4\n",
      "Training until validation scores don't improve for 100 rounds.\n",
      "[100]\ttraining's rmse: 3.58377\tvalid_1's rmse: 3.65931\n",
      "[200]\ttraining's rmse: 3.46831\tvalid_1's rmse: 3.62098\n",
      "[300]\ttraining's rmse: 3.39784\tvalid_1's rmse: 3.60767\n",
      "[400]\ttraining's rmse: 3.34115\tvalid_1's rmse: 3.6\n",
      "[500]\ttraining's rmse: 3.29467\tvalid_1's rmse: 3.59471\n",
      "[600]\ttraining's rmse: 3.25434\tvalid_1's rmse: 3.59063\n",
      "[700]\ttraining's rmse: 3.21885\tvalid_1's rmse: 3.58905\n",
      "[800]\ttraining's rmse: 3.18371\tvalid_1's rmse: 3.58801\n",
      "[900]\ttraining's rmse: 3.15344\tvalid_1's rmse: 3.58753\n",
      "[1000]\ttraining's rmse: 3.12455\tvalid_1's rmse: 3.58795\n",
      "Early stopping, best iteration is:\n",
      "[924]\ttraining's rmse: 3.14585\tvalid_1's rmse: 3.58735\n"
     ]
    },
    {
     "data": {
      "text/plain": [
       "3.630738758585358"
      ]
     },
     "execution_count": 18,
     "metadata": {},
     "output_type": "execute_result"
    }
   ],
   "source": [
    "\n",
    "target=y_tr.target\n",
    "# From chau's kernel but Adam's parameters\n",
    "param =  {\n",
    "         'num_leaves': 31,\n",
    "         'min_data_in_leaf': 20,\n",
    "         'objective':'regression',\n",
    "         'max_depth': -1,\n",
    "         'learning_rate': 0.01,\n",
    "         \"boosting\": \"gbdt\",\n",
    "         \"feature_fraction\": 0.9,\n",
    "         \"bagging_freq\": 1,\n",
    "         \"bagging_fraction\": 0.9,\n",
    "         \"metric\": 'rmse',\n",
    "         \"lambda_l1\": 0.1,\n",
    "         \"verbosity\": -1\n",
    "}\n",
    "\n",
    "folds = StratifiedKFold(n_splits=5, shuffle=True, random_state=4590)\n",
    "oof_reg = np.zeros(len(X_tr))\n",
    "predictions_reg = np.zeros(len(X_va))\n",
    "predictions_final = np.zeros(len(test))\n",
    "\n",
    "feature_importance_df = pd.DataFrame()\n",
    "\n",
    "for fold_, (trn_idx, val_idx) in enumerate(folds.split(X_tr,y_tr['outlier'].values)):\n",
    "    print(\"fold {}\".format(fold_))\n",
    "    trn_data = lgb.Dataset(X_tr.iloc[trn_idx][feats], label=target.iloc[trn_idx])#, categorical_feature=categorical_feats)\n",
    "    val_data = lgb.Dataset(X_tr.iloc[val_idx][feats], label=target.iloc[val_idx])#, categorical_feature=categorical_feats)\n",
    "\n",
    "    num_round = 10000\n",
    "    clf = lgb.train(param, trn_data, num_round, valid_sets = [trn_data, val_data], verbose_eval=100, early_stopping_rounds = 100)\n",
    "    oof_reg[val_idx] = clf.predict(X_tr.iloc[val_idx][feats], num_iteration=clf.best_iteration)\n",
    "    \n",
    "    fold_importance_df = pd.DataFrame()\n",
    "    fold_importance_df[\"Feature\"] = feats\n",
    "    fold_importance_df[\"importance\"] = clf.feature_importance()\n",
    "    fold_importance_df[\"fold\"] = fold_ + 1\n",
    "    feature_importance_df = pd.concat([feature_importance_df, fold_importance_df], axis=0)\n",
    "    \n",
    "    predictions_reg += clf.predict(X_va[feats], num_iteration=clf.best_iteration) / folds.n_splits\n",
    "    predictions_final += clf.predict(test[feats], num_iteration=clf.best_iteration) / folds.n_splits\n",
    "\n",
    "np.sqrt(mean_squared_error(oof_reg, target))"
   ]
  },
  {
   "cell_type": "markdown",
   "metadata": {},
   "source": [
    "### Amazing we have less error with smaller dataset.\n",
    "3.649012733482272 before splitting\n",
    "Now,\n",
    "3.6329832506410753"
   ]
  },
  {
   "cell_type": "code",
   "execution_count": 21,
   "metadata": {},
   "outputs": [
    {
     "name": "stderr",
     "output_type": "stream",
     "text": [
      "C:\\Users\\user\\Anaconda3\\lib\\site-packages\\ipykernel_launcher.py:1: SettingWithCopyWarning: \n",
      "A value is trying to be set on a copy of a slice from a DataFrame.\n",
      "Try using .loc[row_indexer,col_indexer] = value instead\n",
      "\n",
      "See the caveats in the documentation: http://pandas.pydata.org/pandas-docs/stable/indexing.html#indexing-view-versus-copy\n",
      "  \"\"\"Entry point for launching an IPython kernel.\n"
     ]
    }
   ],
   "source": [
    "y_va['predicted_target']=predictions_reg"
   ]
  },
  {
   "cell_type": "code",
   "execution_count": 22,
   "metadata": {},
   "outputs": [
    {
     "data": {
      "text/plain": [
       "3.7002935017637917"
      ]
     },
     "execution_count": 22,
     "metadata": {},
     "output_type": "execute_result"
    }
   ],
   "source": [
    "# Almost similar results for test set\n",
    "get_lb(y_va.predicted_target.values)"
   ]
  },
  {
   "cell_type": "code",
   "execution_count": 23,
   "metadata": {
    "scrolled": true
   },
   "outputs": [
    {
     "name": "stderr",
     "output_type": "stream",
     "text": [
      "C:\\Users\\user\\Anaconda3\\lib\\site-packages\\ipykernel_launcher.py:1: SettingWithCopyWarning: \n",
      "A value is trying to be set on a copy of a slice from a DataFrame.\n",
      "Try using .loc[row_indexer,col_indexer] = value instead\n",
      "\n",
      "See the caveats in the documentation: http://pandas.pydata.org/pandas-docs/stable/indexing.html#indexing-view-versus-copy\n",
      "  \"\"\"Entry point for launching an IPython kernel.\n",
      "C:\\Users\\user\\Anaconda3\\lib\\site-packages\\ipykernel_launcher.py:2: SettingWithCopyWarning: \n",
      "A value is trying to be set on a copy of a slice from a DataFrame.\n",
      "Try using .loc[row_indexer,col_indexer] = value instead\n",
      "\n",
      "See the caveats in the documentation: http://pandas.pydata.org/pandas-docs/stable/indexing.html#indexing-view-versus-copy\n",
      "  \n",
      "C:\\Users\\user\\Anaconda3\\lib\\site-packages\\ipykernel_launcher.py:3: SettingWithCopyWarning: \n",
      "A value is trying to be set on a copy of a slice from a DataFrame.\n",
      "Try using .loc[row_indexer,col_indexer] = value instead\n",
      "\n",
      "See the caveats in the documentation: http://pandas.pydata.org/pandas-docs/stable/indexing.html#indexing-view-versus-copy\n",
      "  This is separate from the ipykernel package so we can avoid doing imports until\n",
      "C:\\Users\\user\\Anaconda3\\lib\\site-packages\\ipykernel_launcher.py:4: SettingWithCopyWarning: \n",
      "A value is trying to be set on a copy of a slice from a DataFrame.\n",
      "Try using .loc[row_indexer,col_indexer] = value instead\n",
      "\n",
      "See the caveats in the documentation: http://pandas.pydata.org/pandas-docs/stable/indexing.html#indexing-view-versus-copy\n",
      "  after removing the cwd from sys.path.\n"
     ]
    }
   ],
   "source": [
    "y_tr['predicted_target']=oof_reg\n",
    "y_va['predicted_target']=predictions_reg\n",
    "y_tr['prob_out']=oof_out\n",
    "y_va['prob_out']=predictions_out"
   ]
  },
  {
   "cell_type": "code",
   "execution_count": 24,
   "metadata": {},
   "outputs": [],
   "source": [
    "y_va_sorted=y_va.sort_values('prob_out',ascending=False)\n",
    "y_tr_sorted=y_tr.sort_values('prob_out',ascending=False)"
   ]
  },
  {
   "cell_type": "code",
   "execution_count": 25,
   "metadata": {},
   "outputs": [],
   "source": [
    "y_va_sorted=y_va_sorted[y_va_sorted.prob_out>0.5]\n",
    "y_tr_sorted=y_tr_sorted[y_tr_sorted.prob_out>0.5]"
   ]
  },
  {
   "cell_type": "code",
   "execution_count": 26,
   "metadata": {},
   "outputs": [
    {
     "data": {
      "text/plain": [
       "(4050, 2495)"
      ]
     },
     "execution_count": 26,
     "metadata": {},
     "output_type": "execute_result"
    }
   ],
   "source": [
    "y_tr_sorted.shape[0],y_va_sorted.shape[0]"
   ]
  },
  {
   "cell_type": "code",
   "execution_count": 27,
   "metadata": {},
   "outputs": [
    {
     "name": "stderr",
     "output_type": "stream",
     "text": [
      "C:\\Users\\user\\Anaconda3\\lib\\site-packages\\ipykernel_launcher.py:8: RuntimeWarning: invalid value encountered in longlong_scalars\n",
      "  \n"
     ]
    }
   ],
   "source": [
    "ratio_va=[]\n",
    "number_va=[]\n",
    "ratio_tr=[]\n",
    "number_tr=[]\n",
    "for i in range(0,-25,-1):\n",
    "    n_va=y_va_sorted[y_va_sorted.predicted_target<i].shape[0]\n",
    "    number_va.append(n_va)\n",
    "    ratio_va.append(y_va_sorted[y_va_sorted.predicted_target<i].outlier.sum()/n_va)\n",
    "    \n",
    "    n_tr=y_tr_sorted[y_tr_sorted.predicted_target<i].shape[0]\n",
    "    number_tr.append(n_tr)\n",
    "    ratio_tr.append(y_tr_sorted[y_tr_sorted.predicted_target<i].outlier.sum()/n_tr)\n",
    "    "
   ]
  },
  {
   "cell_type": "code",
   "execution_count": 28,
   "metadata": {
    "scrolled": true
   },
   "outputs": [
    {
     "data": {
      "image/png": "[encoded data removed]",
      "text/plain": [
       "<matplotlib.figure.Figure at 0x226873780b8>"
      ]
     },
     "metadata": {},
     "output_type": "display_data"
    }
   ],
   "source": [
    "plt.figure()\n",
    "plt.subplot(1,2,1)\n",
    "plt.scatter(range(0,-25,-1),ratio_tr)\n",
    "plt.ylabel('Ratio of outliers')\n",
    "plt.xlabel('Predicted target')\n",
    "plt.title('Training set:Probability>0.5')\n",
    "plt.subplot(1,2,2)\n",
    "plt.scatter(range(0,-25,-1),ratio_va)\n",
    "plt.ylabel('Ratio of outliers')\n",
    "plt.xlabel('Predicted target')\n",
    "plt.title('Test set:Probability>0.5')\n",
    "plt.tight_layout()\n",
    "plt.show()"
   ]
  },
  {
   "cell_type": "code",
   "execution_count": 29,
   "metadata": {
    "scrolled": true
   },
   "outputs": [
    {
     "data": {
      "image/png": "[encoded data removed]",
      "text/plain": [
       "<matplotlib.figure.Figure at 0x22688a27780>"
      ]
     },
     "metadata": {},
     "output_type": "display_data"
    }
   ],
   "source": [
    "plt.figure()\n",
    "plt.subplot(1,2,1)\n",
    "plt.scatter(range(0,-25,-1),number_tr)\n",
    "plt.ylabel('Total number of samples')\n",
    "plt.xlabel('Predicted target')\n",
    "plt.title('Validation set:Probability>0.5')\n",
    "plt.subplot(1,2,2)\n",
    "plt.scatter(range(0,-25,-1),number_va)\n",
    "plt.ylabel('Total number of samples')\n",
    "plt.xlabel('Predicted target')\n",
    "plt.title('Test set:Probability>0.5')\n",
    "plt.tight_layout()\n",
    "\n"
   ]
  },
  {
   "cell_type": "code",
   "execution_count": 30,
   "metadata": {},
   "outputs": [
    {
     "data": {
      "text/html": [
       "<div>\n",
       "<style scoped>\n",
       "    .dataframe tbody tr th:only-of-type {\n",
       "        vertical-align: middle;\n",
       "    }\n",
       "\n",
       "    .dataframe tbody tr th {\n",
       "        vertical-align: top;\n",
       "    }\n",
       "\n",
       "    .dataframe thead th {\n",
       "        text-align: right;\n",
       "    }\n",
       "</style>\n",
       "<table border=\"1\" class=\"dataframe\">\n",
       "  <thead>\n",
       "    <tr style=\"text-align: right;\">\n",
       "      <th></th>\n",
       "      <th>predicted_target</th>\n",
       "      <th>prob_out</th>\n",
       "    </tr>\n",
       "  </thead>\n",
       "  <tbody>\n",
       "    <tr>\n",
       "      <th>140457</th>\n",
       "      <td>-2.384720</td>\n",
       "      <td>0.417188</td>\n",
       "    </tr>\n",
       "    <tr>\n",
       "      <th>179764</th>\n",
       "      <td>-1.318909</td>\n",
       "      <td>0.240523</td>\n",
       "    </tr>\n",
       "    <tr>\n",
       "      <th>22899</th>\n",
       "      <td>0.133268</td>\n",
       "      <td>0.007925</td>\n",
       "    </tr>\n",
       "    <tr>\n",
       "      <th>160544</th>\n",
       "      <td>0.827795</td>\n",
       "      <td>0.054423</td>\n",
       "    </tr>\n",
       "    <tr>\n",
       "      <th>171908</th>\n",
       "      <td>-0.150823</td>\n",
       "      <td>0.026663</td>\n",
       "    </tr>\n",
       "  </tbody>\n",
       "</table>\n",
       "</div>"
      ],
      "text/plain": [
       "        predicted_target  prob_out\n",
       "140457         -2.384720  0.417188\n",
       "179764         -1.318909  0.240523\n",
       "22899           0.133268  0.007925\n",
       "160544          0.827795  0.054423\n",
       "171908         -0.150823  0.026663"
      ]
     },
     "execution_count": 30,
     "metadata": {},
     "output_type": "execute_result"
    }
   ],
   "source": [
    "y_tr.loc[:,['predicted_target','prob_out']].head()"
   ]
  },
  {
   "cell_type": "code",
   "execution_count": 33,
   "metadata": {},
   "outputs": [],
   "source": [
    "from sklearn.linear_model import LinearRegression"
   ]
  },
  {
   "cell_type": "code",
   "execution_count": 34,
   "metadata": {},
   "outputs": [
    {
     "name": "stdout",
     "output_type": "stream",
     "text": [
      "0.09521932410967981\n"
     ]
    },
    {
     "data": {
      "text/plain": [
       "3.7000553656609774"
      ]
     },
     "execution_count": 34,
     "metadata": {},
     "output_type": "execute_result"
    }
   ],
   "source": [
    "reg = LinearRegression().fit(y_tr.loc[:,['predicted_target','prob_out']],y_tr.loc[:,'target'])\n",
    "print(reg.score(y_tr.loc[:,['predicted_target','prob_out']],y_tr.loc[:,'target']))\n",
    "reg_pred=reg.predict(y_va.loc[:,['predicted_target','prob_out']])\n",
    "get_lb(reg_pred)\n",
    "#Almost no improvement haha\n"
   ]
  },
  {
   "cell_type": "code",
   "execution_count": 35,
   "metadata": {
    "scrolled": true
   },
   "outputs": [],
   "source": [
    "reg_score=[]\n",
    "test_score=[]\n",
    "for num in range(1,1000):\n",
    "    reg = LinearRegression().fit(y_tr_sorted.loc[:,['predicted_target','prob_out']].head(num),y_tr_sorted.loc[:,'target'].head(num))\n",
    "    reg_score.append(reg.score(y_tr_sorted.loc[:,['predicted_target','prob_out']].head(num),y_tr_sorted.loc[:,'target'].head(num)))\n",
    "    pred=reg.predict(y_va_sorted.loc[:,['predicted_target','prob_out']].head(num))\n",
    "    target=y_va.predicted_target.copy()\n",
    "    target.loc[target.index.isin(y_va_sorted.head(num).index)]=pred\n",
    "    test_score.append(get_lb(target))\n",
    "    "
   ]
  },
  {
   "cell_type": "code",
   "execution_count": 36,
   "metadata": {
    "scrolled": true
   },
   "outputs": [
    {
     "data": {
      "text/plain": [
       "[<matplotlib.lines.Line2D at 0x2268c13cfd0>]"
      ]
     },
     "execution_count": 36,
     "metadata": {},
     "output_type": "execute_result"
    },
    {
     "data": {
      "image/png": "[encoded data removed]",
      "text/plain": [
       "<matplotlib.figure.Figure at 0x2268c0e0550>"
      ]
     },
     "metadata": {},
     "output_type": "display_data"
    }
   ],
   "source": [
    "plt.figure()\n",
    "plt.plot(range(1,50),reg_score[0:49])"
   ]
  },
  {
   "cell_type": "code",
   "execution_count": 37,
   "metadata": {},
   "outputs": [
    {
     "data": {
      "text/plain": [
       "[<matplotlib.lines.Line2D at 0x2268d053630>]"
      ]
     },
     "execution_count": 37,
     "metadata": {},
     "output_type": "execute_result"
    },
    {
     "data": {
      "image/png": "[encoded data removed]",
      "text/plain": [
       "<matplotlib.figure.Figure at 0x2268c0ef860>"
      ]
     },
     "metadata": {},
     "output_type": "display_data"
    }
   ],
   "source": [
    "plt.figure()\n",
    "plt.plot(range(1,200),test_score[:199])"
   ]
  },
  {
   "cell_type": "code",
   "execution_count": 39,
   "metadata": {},
   "outputs": [],
   "source": [
    "target=y_va.target.copy()"
   ]
  },
  {
   "cell_type": "code",
   "execution_count": 40,
   "metadata": {},
   "outputs": [],
   "source": [
    "target.loc[target.index.isin(y_va_sorted.head(20).index)]=-30"
   ]
  },
  {
   "cell_type": "code",
   "execution_count": 41,
   "metadata": {},
   "outputs": [
    {
     "data": {
      "text/plain": [
       "3.7002935017637917"
      ]
     },
     "execution_count": 41,
     "metadata": {},
     "output_type": "execute_result"
    }
   ],
   "source": [
    "get_lb(y_va.predicted_target.values)"
   ]
  },
  {
   "cell_type": "code",
   "execution_count": null,
   "metadata": {},
   "outputs": [],
   "source": [
    "import random"
   ]
  },
  {
   "cell_type": "code",
   "execution_count": null,
   "metadata": {},
   "outputs": [],
   "source": [
    "a=[]\n",
    "for i in range(1000):\n",
    "    a+=random.choices([0,1],weights=[0.9,0.1])"
   ]
  },
  {
   "cell_type": "code",
   "execution_count": 12,
   "metadata": {
    "scrolled": true
   },
   "outputs": [],
   "source": [
    "X_tr, X_va, y_tr, y_va = train_test_split(train[feats], target_with_outlier, test_size=0.38, random_state=12)"
   ]
  },
  {
   "cell_type": "code",
   "execution_count": 13,
   "metadata": {},
   "outputs": [
    {
     "data": {
      "text/plain": [
       "(76729, 253)"
      ]
     },
     "execution_count": 13,
     "metadata": {},
     "output_type": "execute_result"
    }
   ],
   "source": [
    "X_va.shape"
   ]
  },
  {
   "cell_type": "code",
   "execution_count": 49,
   "metadata": {
    "scrolled": true
   },
   "outputs": [
    {
     "name": "stdout",
     "output_type": "stream",
     "text": [
      "fold 0\n",
      "Training until validation scores don't improve for 100 rounds.\n",
      "[100]\ttraining's binary_logloss: 0.0671082\tvalid_1's binary_logloss: 0.0720479\n",
      "Early stopping, best iteration is:\n",
      "[11]\ttraining's binary_logloss: 0.0484886\tvalid_1's binary_logloss: 0.0502096\n",
      "fold 1\n",
      "Training until validation scores don't improve for 100 rounds.\n",
      "[100]\ttraining's binary_logloss: 0.0664381\tvalid_1's binary_logloss: 0.0720133\n",
      "Early stopping, best iteration is:\n",
      "[11]\ttraining's binary_logloss: 0.0483025\tvalid_1's binary_logloss: 0.0507281\n",
      "fold 2\n",
      "Training until validation scores don't improve for 100 rounds.\n",
      "[100]\ttraining's binary_logloss: 0.0655342\tvalid_1's binary_logloss: 0.0750983\n",
      "Early stopping, best iteration is:\n",
      "[10]\ttraining's binary_logloss: 0.0481346\tvalid_1's binary_logloss: 0.0516465\n",
      "fold 3\n",
      "Training until validation scores don't improve for 100 rounds.\n",
      "[100]\ttraining's binary_logloss: 0.0656604\tvalid_1's binary_logloss: 0.074284\n",
      "Early stopping, best iteration is:\n",
      "[11]\ttraining's binary_logloss: 0.0479491\tvalid_1's binary_logloss: 0.0514458\n",
      "fold 4\n",
      "Training until validation scores don't improve for 100 rounds.\n",
      "[100]\ttraining's binary_logloss: 0.0663054\tvalid_1's binary_logloss: 0.0720437\n",
      "Early stopping, best iteration is:\n",
      "[11]\ttraining's binary_logloss: 0.0482174\tvalid_1's binary_logloss: 0.0507467\n"
     ]
    }
   ],
   "source": [
    "target=y_tr.outlier\n",
    "# From chau's kernel but Adam's parameters\n",
    "param =  {\n",
    "         'num_leaves': 31,\n",
    "         'min_data_in_leaf': 20, \n",
    "         'objective':'binary',\n",
    "         'max_depth': -1,\n",
    "         'learning_rate': 0.01,\n",
    "         \"boosting\": \"gbdt\",\n",
    "         \"feature_fraction\": 0.9, #\n",
    "         \"bagging_freq\": 1,\n",
    "         \"bagging_fraction\": 0.9, #\n",
    "         \"metric\": 'binary_logloss',\n",
    "         \"lambda_l1\": 0.1,\n",
    "         \"verbosity\": -1,\n",
    "         \"scale_pos_weight\": 15,\n",
    "}\n",
    "\n",
    "folds = StratifiedKFold(n_splits=5, shuffle=True, random_state=4590)\n",
    "oof_out_proba = np.zeros(len(X_tr))\n",
    "predictions_out_proba = np.zeros(len(X_va))\n",
    "predictions_out_final_proba = np.zeros(len(test))\n",
    "\n",
    "feature_importance_df = pd.DataFrame()\n",
    "\n",
    "for fold_, (trn_idx, val_idx) in enumerate(folds.split(X_tr,y_tr['outlier'].values)):\n",
    "    print(\"fold {}\".format(fold_))\n",
    "    trn_data = lgb.Dataset(X_tr.iloc[trn_idx][feats], label=target.iloc[trn_idx])#, categorical_feature=categorical_feats)\n",
    "    val_data = lgb.Dataset(X_tr.iloc[val_idx][feats], label=target.iloc[val_idx])#, categorical_feature=categorical_feats)\n",
    "\n",
    "    num_round = 10000\n",
    "    clf = lgb.train(param, trn_data, num_round, valid_sets = [trn_data, val_data], verbose_eval=100, early_stopping_rounds = 100)\n",
    "    oof_out_proba[val_idx] = clf.predict(X_tr.iloc[val_idx][feats], num_iteration=clf.best_iteration)\n",
    "    \n",
    "    fold_importance_df = pd.DataFrame()\n",
    "    fold_importance_df[\"Feature\"] = feats\n",
    "    fold_importance_df[\"importance\"] = clf.feature_importance()\n",
    "    fold_importance_df[\"fold\"] = fold_ + 1\n",
    "    feature_importance_df = pd.concat([feature_importance_df, fold_importance_df], axis=0)\n",
    "    \n",
    "    predictions_out_proba += clf.predict(X_va[feats], num_iteration=clf.best_iteration) / folds.n_splits\n",
    "    predictions_out_final_proba += clf.predict(test[feats], num_iteration=clf.best_iteration) / folds.n_splits\n",
    "\n",
    "\n",
    "#np.sqrt(mean_squared_error(oof_out, target))"
   ]
  },
  {
   "cell_type": "code",
   "execution_count": 52,
   "metadata": {},
   "outputs": [
    {
     "name": "stderr",
     "output_type": "stream",
     "text": [
      "C:\\Users\\user\\Anaconda3\\lib\\site-packages\\ipykernel_launcher.py:1: SettingWithCopyWarning: \n",
      "A value is trying to be set on a copy of a slice from a DataFrame.\n",
      "Try using .loc[row_indexer,col_indexer] = value instead\n",
      "\n",
      "See the caveats in the documentation: http://pandas.pydata.org/pandas-docs/stable/indexing.html#indexing-view-versus-copy\n",
      "  \"\"\"Entry point for launching an IPython kernel.\n",
      "C:\\Users\\user\\Anaconda3\\lib\\site-packages\\ipykernel_launcher.py:2: SettingWithCopyWarning: \n",
      "A value is trying to be set on a copy of a slice from a DataFrame.\n",
      "Try using .loc[row_indexer,col_indexer] = value instead\n",
      "\n",
      "See the caveats in the documentation: http://pandas.pydata.org/pandas-docs/stable/indexing.html#indexing-view-versus-copy\n",
      "  \n"
     ]
    }
   ],
   "source": [
    "y_tr['pred_proba']=oof_out_proba\n",
    "y_va['pred_proba']=predictions_out_proba"
   ]
  },
  {
   "cell_type": "code",
   "execution_count": 53,
   "metadata": {},
   "outputs": [
    {
     "data": {
      "text/html": [
       "<div>\n",
       "<style scoped>\n",
       "    .dataframe tbody tr th:only-of-type {\n",
       "        vertical-align: middle;\n",
       "    }\n",
       "\n",
       "    .dataframe tbody tr th {\n",
       "        vertical-align: top;\n",
       "    }\n",
       "\n",
       "    .dataframe thead th {\n",
       "        text-align: right;\n",
       "    }\n",
       "</style>\n",
       "<table border=\"1\" class=\"dataframe\">\n",
       "  <thead>\n",
       "    <tr style=\"text-align: right;\">\n",
       "      <th></th>\n",
       "      <th>outlier</th>\n",
       "      <th>target</th>\n",
       "      <th>predicted_target</th>\n",
       "      <th>prob_out</th>\n",
       "      <th>pred_proba</th>\n",
       "    </tr>\n",
       "  </thead>\n",
       "  <tbody>\n",
       "    <tr>\n",
       "      <th>121556</th>\n",
       "      <td>0</td>\n",
       "      <td>-0.330013</td>\n",
       "      <td>-15.395987</td>\n",
       "      <td>0.815893</td>\n",
       "      <td>0.104791</td>\n",
       "    </tr>\n",
       "    <tr>\n",
       "      <th>59156</th>\n",
       "      <td>0</td>\n",
       "      <td>-3.076884</td>\n",
       "      <td>-13.947709</td>\n",
       "      <td>0.785804</td>\n",
       "      <td>0.104791</td>\n",
       "    </tr>\n",
       "    <tr>\n",
       "      <th>145192</th>\n",
       "      <td>0</td>\n",
       "      <td>0.381281</td>\n",
       "      <td>-7.360986</td>\n",
       "      <td>0.676012</td>\n",
       "      <td>0.104727</td>\n",
       "    </tr>\n",
       "    <tr>\n",
       "      <th>139384</th>\n",
       "      <td>1</td>\n",
       "      <td>-33.219281</td>\n",
       "      <td>-14.083611</td>\n",
       "      <td>0.826792</td>\n",
       "      <td>0.104485</td>\n",
       "    </tr>\n",
       "    <tr>\n",
       "      <th>25347</th>\n",
       "      <td>1</td>\n",
       "      <td>-33.219281</td>\n",
       "      <td>-22.582171</td>\n",
       "      <td>0.850167</td>\n",
       "      <td>0.104402</td>\n",
       "    </tr>\n",
       "    <tr>\n",
       "      <th>94554</th>\n",
       "      <td>0</td>\n",
       "      <td>-1.425834</td>\n",
       "      <td>-19.563889</td>\n",
       "      <td>0.855501</td>\n",
       "      <td>0.104316</td>\n",
       "    </tr>\n",
       "    <tr>\n",
       "      <th>68825</th>\n",
       "      <td>0</td>\n",
       "      <td>-0.553302</td>\n",
       "      <td>-12.175527</td>\n",
       "      <td>0.807013</td>\n",
       "      <td>0.103644</td>\n",
       "    </tr>\n",
       "    <tr>\n",
       "      <th>151711</th>\n",
       "      <td>0</td>\n",
       "      <td>-0.399803</td>\n",
       "      <td>-10.127872</td>\n",
       "      <td>0.795408</td>\n",
       "      <td>0.103634</td>\n",
       "    </tr>\n",
       "    <tr>\n",
       "      <th>179088</th>\n",
       "      <td>1</td>\n",
       "      <td>-33.219281</td>\n",
       "      <td>-12.416098</td>\n",
       "      <td>0.812498</td>\n",
       "      <td>0.103634</td>\n",
       "    </tr>\n",
       "    <tr>\n",
       "      <th>63172</th>\n",
       "      <td>0</td>\n",
       "      <td>1.455046</td>\n",
       "      <td>-12.974710</td>\n",
       "      <td>0.817353</td>\n",
       "      <td>0.103634</td>\n",
       "    </tr>\n",
       "    <tr>\n",
       "      <th>83617</th>\n",
       "      <td>0</td>\n",
       "      <td>-1.017764</td>\n",
       "      <td>-16.957354</td>\n",
       "      <td>0.839625</td>\n",
       "      <td>0.103634</td>\n",
       "    </tr>\n",
       "    <tr>\n",
       "      <th>118071</th>\n",
       "      <td>1</td>\n",
       "      <td>-33.219281</td>\n",
       "      <td>-7.509904</td>\n",
       "      <td>0.816853</td>\n",
       "      <td>0.103634</td>\n",
       "    </tr>\n",
       "    <tr>\n",
       "      <th>12602</th>\n",
       "      <td>1</td>\n",
       "      <td>-33.219281</td>\n",
       "      <td>-18.412681</td>\n",
       "      <td>0.823473</td>\n",
       "      <td>0.103551</td>\n",
       "    </tr>\n",
       "    <tr>\n",
       "      <th>7678</th>\n",
       "      <td>0</td>\n",
       "      <td>-0.246415</td>\n",
       "      <td>-8.224965</td>\n",
       "      <td>0.683845</td>\n",
       "      <td>0.103428</td>\n",
       "    </tr>\n",
       "    <tr>\n",
       "      <th>141031</th>\n",
       "      <td>0</td>\n",
       "      <td>0.627857</td>\n",
       "      <td>-15.316464</td>\n",
       "      <td>0.812798</td>\n",
       "      <td>0.103388</td>\n",
       "    </tr>\n",
       "    <tr>\n",
       "      <th>166109</th>\n",
       "      <td>0</td>\n",
       "      <td>-0.039552</td>\n",
       "      <td>-9.517937</td>\n",
       "      <td>0.791142</td>\n",
       "      <td>0.103328</td>\n",
       "    </tr>\n",
       "    <tr>\n",
       "      <th>100762</th>\n",
       "      <td>1</td>\n",
       "      <td>-33.219281</td>\n",
       "      <td>-12.794973</td>\n",
       "      <td>0.787863</td>\n",
       "      <td>0.103264</td>\n",
       "    </tr>\n",
       "    <tr>\n",
       "      <th>54522</th>\n",
       "      <td>0</td>\n",
       "      <td>-0.423813</td>\n",
       "      <td>-8.864725</td>\n",
       "      <td>0.749928</td>\n",
       "      <td>0.103155</td>\n",
       "    </tr>\n",
       "    <tr>\n",
       "      <th>31154</th>\n",
       "      <td>1</td>\n",
       "      <td>-33.219281</td>\n",
       "      <td>-10.295580</td>\n",
       "      <td>0.735998</td>\n",
       "      <td>0.103155</td>\n",
       "    </tr>\n",
       "    <tr>\n",
       "      <th>187302</th>\n",
       "      <td>0</td>\n",
       "      <td>1.947471</td>\n",
       "      <td>-10.777127</td>\n",
       "      <td>0.752785</td>\n",
       "      <td>0.103155</td>\n",
       "    </tr>\n",
       "    <tr>\n",
       "      <th>15157</th>\n",
       "      <td>0</td>\n",
       "      <td>-2.556898</td>\n",
       "      <td>-10.776649</td>\n",
       "      <td>0.782454</td>\n",
       "      <td>0.103155</td>\n",
       "    </tr>\n",
       "    <tr>\n",
       "      <th>110792</th>\n",
       "      <td>0</td>\n",
       "      <td>1.670460</td>\n",
       "      <td>-9.525850</td>\n",
       "      <td>0.714791</td>\n",
       "      <td>0.103155</td>\n",
       "    </tr>\n",
       "    <tr>\n",
       "      <th>156580</th>\n",
       "      <td>1</td>\n",
       "      <td>-33.219281</td>\n",
       "      <td>-12.999452</td>\n",
       "      <td>0.770791</td>\n",
       "      <td>0.103155</td>\n",
       "    </tr>\n",
       "    <tr>\n",
       "      <th>22737</th>\n",
       "      <td>1</td>\n",
       "      <td>-33.219281</td>\n",
       "      <td>-7.731703</td>\n",
       "      <td>0.682152</td>\n",
       "      <td>0.103155</td>\n",
       "    </tr>\n",
       "    <tr>\n",
       "      <th>116144</th>\n",
       "      <td>0</td>\n",
       "      <td>-1.170125</td>\n",
       "      <td>-14.632374</td>\n",
       "      <td>0.804347</td>\n",
       "      <td>0.103155</td>\n",
       "    </tr>\n",
       "    <tr>\n",
       "      <th>15933</th>\n",
       "      <td>0</td>\n",
       "      <td>0.204692</td>\n",
       "      <td>-16.497099</td>\n",
       "      <td>0.787428</td>\n",
       "      <td>0.103155</td>\n",
       "    </tr>\n",
       "    <tr>\n",
       "      <th>150908</th>\n",
       "      <td>0</td>\n",
       "      <td>-0.208852</td>\n",
       "      <td>-12.738650</td>\n",
       "      <td>0.773008</td>\n",
       "      <td>0.103155</td>\n",
       "    </tr>\n",
       "    <tr>\n",
       "      <th>91777</th>\n",
       "      <td>0</td>\n",
       "      <td>0.250610</td>\n",
       "      <td>-7.654374</td>\n",
       "      <td>0.688427</td>\n",
       "      <td>0.103155</td>\n",
       "    </tr>\n",
       "    <tr>\n",
       "      <th>38746</th>\n",
       "      <td>0</td>\n",
       "      <td>-1.236473</td>\n",
       "      <td>-10.697632</td>\n",
       "      <td>0.728339</td>\n",
       "      <td>0.103155</td>\n",
       "    </tr>\n",
       "    <tr>\n",
       "      <th>195608</th>\n",
       "      <td>1</td>\n",
       "      <td>-33.219281</td>\n",
       "      <td>-6.447116</td>\n",
       "      <td>0.740969</td>\n",
       "      <td>0.103123</td>\n",
       "    </tr>\n",
       "    <tr>\n",
       "      <th>...</th>\n",
       "      <td>...</td>\n",
       "      <td>...</td>\n",
       "      <td>...</td>\n",
       "      <td>...</td>\n",
       "      <td>...</td>\n",
       "    </tr>\n",
       "    <tr>\n",
       "      <th>36393</th>\n",
       "      <td>0</td>\n",
       "      <td>-1.421041</td>\n",
       "      <td>-0.141480</td>\n",
       "      <td>0.003890</td>\n",
       "      <td>0.010970</td>\n",
       "    </tr>\n",
       "    <tr>\n",
       "      <th>23402</th>\n",
       "      <td>0</td>\n",
       "      <td>1.796522</td>\n",
       "      <td>0.015543</td>\n",
       "      <td>0.004629</td>\n",
       "      <td>0.010970</td>\n",
       "    </tr>\n",
       "    <tr>\n",
       "      <th>172454</th>\n",
       "      <td>0</td>\n",
       "      <td>-2.054554</td>\n",
       "      <td>-0.247063</td>\n",
       "      <td>0.001820</td>\n",
       "      <td>0.010970</td>\n",
       "    </tr>\n",
       "    <tr>\n",
       "      <th>91330</th>\n",
       "      <td>0</td>\n",
       "      <td>-1.279970</td>\n",
       "      <td>0.029110</td>\n",
       "      <td>0.005303</td>\n",
       "      <td>0.010970</td>\n",
       "    </tr>\n",
       "    <tr>\n",
       "      <th>167136</th>\n",
       "      <td>0</td>\n",
       "      <td>0.964583</td>\n",
       "      <td>-0.195931</td>\n",
       "      <td>0.008028</td>\n",
       "      <td>0.010970</td>\n",
       "    </tr>\n",
       "    <tr>\n",
       "      <th>120802</th>\n",
       "      <td>0</td>\n",
       "      <td>1.136638</td>\n",
       "      <td>-0.008707</td>\n",
       "      <td>0.005362</td>\n",
       "      <td>0.010970</td>\n",
       "    </tr>\n",
       "    <tr>\n",
       "      <th>115997</th>\n",
       "      <td>0</td>\n",
       "      <td>-0.265076</td>\n",
       "      <td>0.179867</td>\n",
       "      <td>0.004032</td>\n",
       "      <td>0.010970</td>\n",
       "    </tr>\n",
       "    <tr>\n",
       "      <th>78018</th>\n",
       "      <td>0</td>\n",
       "      <td>1.153378</td>\n",
       "      <td>0.483342</td>\n",
       "      <td>0.003596</td>\n",
       "      <td>0.010969</td>\n",
       "    </tr>\n",
       "    <tr>\n",
       "      <th>54528</th>\n",
       "      <td>0</td>\n",
       "      <td>1.142054</td>\n",
       "      <td>-0.905164</td>\n",
       "      <td>0.002137</td>\n",
       "      <td>0.010969</td>\n",
       "    </tr>\n",
       "    <tr>\n",
       "      <th>53987</th>\n",
       "      <td>0</td>\n",
       "      <td>-0.278632</td>\n",
       "      <td>0.044994</td>\n",
       "      <td>0.001565</td>\n",
       "      <td>0.010969</td>\n",
       "    </tr>\n",
       "    <tr>\n",
       "      <th>53786</th>\n",
       "      <td>0</td>\n",
       "      <td>0.516291</td>\n",
       "      <td>0.249835</td>\n",
       "      <td>0.001940</td>\n",
       "      <td>0.010969</td>\n",
       "    </tr>\n",
       "    <tr>\n",
       "      <th>183473</th>\n",
       "      <td>0</td>\n",
       "      <td>-0.456558</td>\n",
       "      <td>-0.729202</td>\n",
       "      <td>0.001747</td>\n",
       "      <td>0.010969</td>\n",
       "    </tr>\n",
       "    <tr>\n",
       "      <th>30164</th>\n",
       "      <td>0</td>\n",
       "      <td>2.509208</td>\n",
       "      <td>0.184795</td>\n",
       "      <td>0.004408</td>\n",
       "      <td>0.010969</td>\n",
       "    </tr>\n",
       "    <tr>\n",
       "      <th>36172</th>\n",
       "      <td>0</td>\n",
       "      <td>-1.333559</td>\n",
       "      <td>0.215402</td>\n",
       "      <td>0.003448</td>\n",
       "      <td>0.010969</td>\n",
       "    </tr>\n",
       "    <tr>\n",
       "      <th>192160</th>\n",
       "      <td>0</td>\n",
       "      <td>-0.381945</td>\n",
       "      <td>-0.174493</td>\n",
       "      <td>0.003120</td>\n",
       "      <td>0.010969</td>\n",
       "    </tr>\n",
       "    <tr>\n",
       "      <th>44277</th>\n",
       "      <td>0</td>\n",
       "      <td>0.196873</td>\n",
       "      <td>0.293954</td>\n",
       "      <td>0.002251</td>\n",
       "      <td>0.010969</td>\n",
       "    </tr>\n",
       "    <tr>\n",
       "      <th>59906</th>\n",
       "      <td>0</td>\n",
       "      <td>-0.739262</td>\n",
       "      <td>-0.173082</td>\n",
       "      <td>0.002301</td>\n",
       "      <td>0.010968</td>\n",
       "    </tr>\n",
       "    <tr>\n",
       "      <th>49279</th>\n",
       "      <td>0</td>\n",
       "      <td>1.986613</td>\n",
       "      <td>0.043638</td>\n",
       "      <td>0.002099</td>\n",
       "      <td>0.010968</td>\n",
       "    </tr>\n",
       "    <tr>\n",
       "      <th>125034</th>\n",
       "      <td>0</td>\n",
       "      <td>-0.559753</td>\n",
       "      <td>-0.075914</td>\n",
       "      <td>0.003531</td>\n",
       "      <td>0.010968</td>\n",
       "    </tr>\n",
       "    <tr>\n",
       "      <th>55503</th>\n",
       "      <td>0</td>\n",
       "      <td>-0.133668</td>\n",
       "      <td>-0.007259</td>\n",
       "      <td>0.004409</td>\n",
       "      <td>0.010968</td>\n",
       "    </tr>\n",
       "    <tr>\n",
       "      <th>170744</th>\n",
       "      <td>0</td>\n",
       "      <td>-0.821551</td>\n",
       "      <td>0.074173</td>\n",
       "      <td>0.003574</td>\n",
       "      <td>0.010968</td>\n",
       "    </tr>\n",
       "    <tr>\n",
       "      <th>118833</th>\n",
       "      <td>0</td>\n",
       "      <td>0.057482</td>\n",
       "      <td>0.060190</td>\n",
       "      <td>0.002228</td>\n",
       "      <td>0.010968</td>\n",
       "    </tr>\n",
       "    <tr>\n",
       "      <th>95519</th>\n",
       "      <td>0</td>\n",
       "      <td>0.189061</td>\n",
       "      <td>0.102206</td>\n",
       "      <td>0.004815</td>\n",
       "      <td>0.010968</td>\n",
       "    </tr>\n",
       "    <tr>\n",
       "      <th>129990</th>\n",
       "      <td>0</td>\n",
       "      <td>-5.124298</td>\n",
       "      <td>0.008202</td>\n",
       "      <td>0.002263</td>\n",
       "      <td>0.010968</td>\n",
       "    </tr>\n",
       "    <tr>\n",
       "      <th>4346</th>\n",
       "      <td>0</td>\n",
       "      <td>0.490749</td>\n",
       "      <td>0.001065</td>\n",
       "      <td>0.009077</td>\n",
       "      <td>0.010966</td>\n",
       "    </tr>\n",
       "    <tr>\n",
       "      <th>68006</th>\n",
       "      <td>0</td>\n",
       "      <td>-3.668287</td>\n",
       "      <td>-0.845199</td>\n",
       "      <td>0.006113</td>\n",
       "      <td>0.010959</td>\n",
       "    </tr>\n",
       "    <tr>\n",
       "      <th>158066</th>\n",
       "      <td>0</td>\n",
       "      <td>-1.188022</td>\n",
       "      <td>-0.003653</td>\n",
       "      <td>0.005339</td>\n",
       "      <td>0.010952</td>\n",
       "    </tr>\n",
       "    <tr>\n",
       "      <th>156805</th>\n",
       "      <td>0</td>\n",
       "      <td>-1.712292</td>\n",
       "      <td>-0.752603</td>\n",
       "      <td>0.006598</td>\n",
       "      <td>0.010950</td>\n",
       "    </tr>\n",
       "    <tr>\n",
       "      <th>186449</th>\n",
       "      <td>0</td>\n",
       "      <td>-0.085161</td>\n",
       "      <td>-0.323348</td>\n",
       "      <td>0.002174</td>\n",
       "      <td>0.010949</td>\n",
       "    </tr>\n",
       "    <tr>\n",
       "      <th>66706</th>\n",
       "      <td>0</td>\n",
       "      <td>-2.101904</td>\n",
       "      <td>-0.198926</td>\n",
       "      <td>0.011796</td>\n",
       "      <td>0.010948</td>\n",
       "    </tr>\n",
       "  </tbody>\n",
       "</table>\n",
       "<p>76729 rows × 5 columns</p>\n",
       "</div>"
      ],
      "text/plain": [
       "        outlier     target  predicted_target  prob_out  pred_proba\n",
       "121556        0  -0.330013        -15.395987  0.815893    0.104791\n",
       "59156         0  -3.076884        -13.947709  0.785804    0.104791\n",
       "145192        0   0.381281         -7.360986  0.676012    0.104727\n",
       "139384        1 -33.219281        -14.083611  0.826792    0.104485\n",
       "25347         1 -33.219281        -22.582171  0.850167    0.104402\n",
       "94554         0  -1.425834        -19.563889  0.855501    0.104316\n",
       "68825         0  -0.553302        -12.175527  0.807013    0.103644\n",
       "151711        0  -0.399803        -10.127872  0.795408    0.103634\n",
       "179088        1 -33.219281        -12.416098  0.812498    0.103634\n",
       "63172         0   1.455046        -12.974710  0.817353    0.103634\n",
       "83617         0  -1.017764        -16.957354  0.839625    0.103634\n",
       "118071        1 -33.219281         -7.509904  0.816853    0.103634\n",
       "12602         1 -33.219281        -18.412681  0.823473    0.103551\n",
       "7678          0  -0.246415         -8.224965  0.683845    0.103428\n",
       "141031        0   0.627857        -15.316464  0.812798    0.103388\n",
       "166109        0  -0.039552         -9.517937  0.791142    0.103328\n",
       "100762        1 -33.219281        -12.794973  0.787863    0.103264\n",
       "54522         0  -0.423813         -8.864725  0.749928    0.103155\n",
       "31154         1 -33.219281        -10.295580  0.735998    0.103155\n",
       "187302        0   1.947471        -10.777127  0.752785    0.103155\n",
       "15157         0  -2.556898        -10.776649  0.782454    0.103155\n",
       "110792        0   1.670460         -9.525850  0.714791    0.103155\n",
       "156580        1 -33.219281        -12.999452  0.770791    0.103155\n",
       "22737         1 -33.219281         -7.731703  0.682152    0.103155\n",
       "116144        0  -1.170125        -14.632374  0.804347    0.103155\n",
       "15933         0   0.204692        -16.497099  0.787428    0.103155\n",
       "150908        0  -0.208852        -12.738650  0.773008    0.103155\n",
       "91777         0   0.250610         -7.654374  0.688427    0.103155\n",
       "38746         0  -1.236473        -10.697632  0.728339    0.103155\n",
       "195608        1 -33.219281         -6.447116  0.740969    0.103123\n",
       "...         ...        ...               ...       ...         ...\n",
       "36393         0  -1.421041         -0.141480  0.003890    0.010970\n",
       "23402         0   1.796522          0.015543  0.004629    0.010970\n",
       "172454        0  -2.054554         -0.247063  0.001820    0.010970\n",
       "91330         0  -1.279970          0.029110  0.005303    0.010970\n",
       "167136        0   0.964583         -0.195931  0.008028    0.010970\n",
       "120802        0   1.136638         -0.008707  0.005362    0.010970\n",
       "115997        0  -0.265076          0.179867  0.004032    0.010970\n",
       "78018         0   1.153378          0.483342  0.003596    0.010969\n",
       "54528         0   1.142054         -0.905164  0.002137    0.010969\n",
       "53987         0  -0.278632          0.044994  0.001565    0.010969\n",
       "53786         0   0.516291          0.249835  0.001940    0.010969\n",
       "183473        0  -0.456558         -0.729202  0.001747    0.010969\n",
       "30164         0   2.509208          0.184795  0.004408    0.010969\n",
       "36172         0  -1.333559          0.215402  0.003448    0.010969\n",
       "192160        0  -0.381945         -0.174493  0.003120    0.010969\n",
       "44277         0   0.196873          0.293954  0.002251    0.010969\n",
       "59906         0  -0.739262         -0.173082  0.002301    0.010968\n",
       "49279         0   1.986613          0.043638  0.002099    0.010968\n",
       "125034        0  -0.559753         -0.075914  0.003531    0.010968\n",
       "55503         0  -0.133668         -0.007259  0.004409    0.010968\n",
       "170744        0  -0.821551          0.074173  0.003574    0.010968\n",
       "118833        0   0.057482          0.060190  0.002228    0.010968\n",
       "95519         0   0.189061          0.102206  0.004815    0.010968\n",
       "129990        0  -5.124298          0.008202  0.002263    0.010968\n",
       "4346          0   0.490749          0.001065  0.009077    0.010966\n",
       "68006         0  -3.668287         -0.845199  0.006113    0.010959\n",
       "158066        0  -1.188022         -0.003653  0.005339    0.010952\n",
       "156805        0  -1.712292         -0.752603  0.006598    0.010950\n",
       "186449        0  -0.085161         -0.323348  0.002174    0.010949\n",
       "66706         0  -2.101904         -0.198926  0.011796    0.010948\n",
       "\n",
       "[76729 rows x 5 columns]"
      ]
     },
     "execution_count": 53,
     "metadata": {},
     "output_type": "execute_result"
    }
   ],
   "source": [
    "y_va.sort_values('pred_proba',ascending=False)"
   ]
  },
  {
   "cell_type": "code",
   "execution_count": null,
   "metadata": {},
   "outputs": [],
   "source": [
    "random.choices(population, weights=None, *, cum_weights=None, k=1)¶\n"
   ]
  }
 ],
 "metadata": {
  "kernelspec": {
   "display_name": "Python 3",
   "language": "python",
   "name": "python3"
  },
  "language_info": {
   "codemirror_mode": {
    "name": "ipython",
    "version": 3
   },
   "file_extension": ".py",
   "mimetype": "text/x-python",
   "name": "python",
   "nbconvert_exporter": "python",
   "pygments_lexer": "ipython3",
   "version": "3.6.4"
  }
 },
 "nbformat": 4,
 "nbformat_minor": 2
}
