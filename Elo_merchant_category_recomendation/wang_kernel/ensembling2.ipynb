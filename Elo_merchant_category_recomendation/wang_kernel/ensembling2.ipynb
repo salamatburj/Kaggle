{
 "cells": [
  {
   "cell_type": "code",
   "execution_count": 3,
   "metadata": {},
   "outputs": [
    {
     "ename": "ImportError",
     "evalue": "DLL load failed: The specified module could not be found.",
     "output_type": "error",
     "traceback": [
      "\u001b[1;31m---------------------------------------------------------------------------\u001b[0m",
      "\u001b[1;31mImportError\u001b[0m                               Traceback (most recent call last)",
      "\u001b[1;32m<ipython-input-3-8559fa7138df>\u001b[0m in \u001b[0;36m<module>\u001b[1;34m\u001b[0m\n\u001b[0;32m      6\u001b[0m \u001b[1;31m#import seaborn as sns\u001b[0m\u001b[1;33m\u001b[0m\u001b[1;33m\u001b[0m\u001b[0m\n\u001b[0;32m      7\u001b[0m \u001b[1;32mimport\u001b[0m \u001b[0mlightgbm\u001b[0m \u001b[1;32mas\u001b[0m \u001b[0mlgb\u001b[0m\u001b[1;33m\u001b[0m\u001b[0m\n\u001b[1;32m----> 8\u001b[1;33m \u001b[1;32mfrom\u001b[0m \u001b[0msklearn\u001b[0m\u001b[1;33m.\u001b[0m\u001b[0mmodel_selection\u001b[0m \u001b[1;32mimport\u001b[0m \u001b[0mStratifiedKFold\u001b[0m\u001b[1;33m\u001b[0m\u001b[0m\n\u001b[0m\u001b[0;32m      9\u001b[0m \u001b[1;32mfrom\u001b[0m \u001b[0msklearn\u001b[0m\u001b[1;33m.\u001b[0m\u001b[0mmetrics\u001b[0m \u001b[1;32mimport\u001b[0m \u001b[0mmean_squared_error\u001b[0m\u001b[1;33m\u001b[0m\u001b[0m\n\u001b[0;32m     10\u001b[0m \u001b[1;32mimport\u001b[0m \u001b[0mwarnings\u001b[0m\u001b[1;33m\u001b[0m\u001b[0m\n",
      "\u001b[1;32m~\\Anaconda3\\lib\\site-packages\\sklearn\\__init__.py\u001b[0m in \u001b[0;36m<module>\u001b[1;34m\u001b[0m\n\u001b[0;32m     62\u001b[0m \u001b[1;32melse\u001b[0m\u001b[1;33m:\u001b[0m\u001b[1;33m\u001b[0m\u001b[0m\n\u001b[0;32m     63\u001b[0m     \u001b[1;32mfrom\u001b[0m \u001b[1;33m.\u001b[0m \u001b[1;32mimport\u001b[0m \u001b[0m__check_build\u001b[0m\u001b[1;33m\u001b[0m\u001b[0m\n\u001b[1;32m---> 64\u001b[1;33m     \u001b[1;32mfrom\u001b[0m \u001b[1;33m.\u001b[0m\u001b[0mbase\u001b[0m \u001b[1;32mimport\u001b[0m \u001b[0mclone\u001b[0m\u001b[1;33m\u001b[0m\u001b[0m\n\u001b[0m\u001b[0;32m     65\u001b[0m     \u001b[1;32mfrom\u001b[0m \u001b[1;33m.\u001b[0m\u001b[0mutils\u001b[0m\u001b[1;33m.\u001b[0m\u001b[0m_show_versions\u001b[0m \u001b[1;32mimport\u001b[0m \u001b[0mshow_versions\u001b[0m\u001b[1;33m\u001b[0m\u001b[0m\n\u001b[0;32m     66\u001b[0m \u001b[1;33m\u001b[0m\u001b[0m\n",
      "\u001b[1;32m~\\Anaconda3\\lib\\site-packages\\sklearn\\base.py\u001b[0m in \u001b[0;36m<module>\u001b[1;34m\u001b[0m\n\u001b[0;32m     11\u001b[0m \u001b[1;32mfrom\u001b[0m \u001b[0mscipy\u001b[0m \u001b[1;32mimport\u001b[0m \u001b[0msparse\u001b[0m\u001b[1;33m\u001b[0m\u001b[0m\n\u001b[0;32m     12\u001b[0m \u001b[1;32mfrom\u001b[0m \u001b[1;33m.\u001b[0m\u001b[0mexternals\u001b[0m \u001b[1;32mimport\u001b[0m \u001b[0msix\u001b[0m\u001b[1;33m\u001b[0m\u001b[0m\n\u001b[1;32m---> 13\u001b[1;33m \u001b[1;32mfrom\u001b[0m \u001b[1;33m.\u001b[0m\u001b[0mutils\u001b[0m\u001b[1;33m.\u001b[0m\u001b[0mfixes\u001b[0m \u001b[1;32mimport\u001b[0m \u001b[0msignature\u001b[0m\u001b[1;33m\u001b[0m\u001b[0m\n\u001b[0m\u001b[0;32m     14\u001b[0m \u001b[1;32mfrom\u001b[0m \u001b[1;33m.\u001b[0m \u001b[1;32mimport\u001b[0m \u001b[0m__version__\u001b[0m\u001b[1;33m\u001b[0m\u001b[0m\n\u001b[0;32m     15\u001b[0m \u001b[1;33m\u001b[0m\u001b[0m\n",
      "\u001b[1;32m~\\Anaconda3\\lib\\site-packages\\sklearn\\utils\\__init__.py\u001b[0m in \u001b[0;36m<module>\u001b[1;34m\u001b[0m\n\u001b[0;32m     14\u001b[0m \u001b[1;32mfrom\u001b[0m \u001b[1;33m.\u001b[0m \u001b[1;32mimport\u001b[0m \u001b[0m_joblib\u001b[0m\u001b[1;33m\u001b[0m\u001b[0m\n\u001b[0;32m     15\u001b[0m \u001b[1;32mfrom\u001b[0m \u001b[1;33m.\u001b[0m\u001b[1;33m.\u001b[0m\u001b[0mexceptions\u001b[0m \u001b[1;32mimport\u001b[0m \u001b[0mDataConversionWarning\u001b[0m\u001b[1;33m\u001b[0m\u001b[0m\n\u001b[1;32m---> 16\u001b[1;33m \u001b[1;32mfrom\u001b[0m \u001b[1;33m.\u001b[0m\u001b[0mfixes\u001b[0m \u001b[1;32mimport\u001b[0m \u001b[0m_Sequence\u001b[0m \u001b[1;32mas\u001b[0m \u001b[0mSequence\u001b[0m\u001b[1;33m\u001b[0m\u001b[0m\n\u001b[0m\u001b[0;32m     17\u001b[0m \u001b[1;32mfrom\u001b[0m \u001b[1;33m.\u001b[0m\u001b[0mdeprecation\u001b[0m \u001b[1;32mimport\u001b[0m \u001b[0mdeprecated\u001b[0m\u001b[1;33m\u001b[0m\u001b[0m\n\u001b[0;32m     18\u001b[0m from .validation import (as_float_array,\n",
      "\u001b[1;32m~\\Anaconda3\\lib\\site-packages\\sklearn\\utils\\fixes.py\u001b[0m in \u001b[0;36m<module>\u001b[1;34m\u001b[0m\n\u001b[0;32m     83\u001b[0m             \u001b[1;32mreturn\u001b[0m \u001b[0mstats\u001b[0m\u001b[1;33m.\u001b[0m\u001b[0mboxcox\u001b[0m\u001b[1;33m(\u001b[0m\u001b[0mx\u001b[0m\u001b[1;33m,\u001b[0m \u001b[0mlmbda\u001b[0m\u001b[1;33m)\u001b[0m\u001b[1;33m\u001b[0m\u001b[0m\n\u001b[0;32m     84\u001b[0m \u001b[1;32melse\u001b[0m\u001b[1;33m:\u001b[0m\u001b[1;33m\u001b[0m\u001b[0m\n\u001b[1;32m---> 85\u001b[1;33m     \u001b[1;32mfrom\u001b[0m \u001b[0mscipy\u001b[0m\u001b[1;33m.\u001b[0m\u001b[0mspecial\u001b[0m \u001b[1;32mimport\u001b[0m \u001b[0mboxcox\u001b[0m  \u001b[1;31m# noqa\u001b[0m\u001b[1;33m\u001b[0m\u001b[0m\n\u001b[0m\u001b[0;32m     86\u001b[0m \u001b[1;33m\u001b[0m\u001b[0m\n\u001b[0;32m     87\u001b[0m \u001b[1;33m\u001b[0m\u001b[0m\n",
      "\u001b[1;32m~\\Anaconda3\\lib\\site-packages\\scipy\\special\\__init__.py\u001b[0m in \u001b[0;36m<module>\u001b[1;34m\u001b[0m\n\u001b[0;32m    638\u001b[0m \u001b[1;32mfrom\u001b[0m \u001b[1;33m.\u001b[0m\u001b[0msf_error\u001b[0m \u001b[1;32mimport\u001b[0m \u001b[0mSpecialFunctionWarning\u001b[0m\u001b[1;33m,\u001b[0m \u001b[0mSpecialFunctionError\u001b[0m\u001b[1;33m\u001b[0m\u001b[0m\n\u001b[0;32m    639\u001b[0m \u001b[1;33m\u001b[0m\u001b[0m\n\u001b[1;32m--> 640\u001b[1;33m \u001b[1;32mfrom\u001b[0m \u001b[1;33m.\u001b[0m\u001b[0m_ufuncs\u001b[0m \u001b[1;32mimport\u001b[0m \u001b[1;33m*\u001b[0m\u001b[1;33m\u001b[0m\u001b[0m\n\u001b[0m\u001b[0;32m    641\u001b[0m \u001b[1;33m\u001b[0m\u001b[0m\n\u001b[0;32m    642\u001b[0m \u001b[1;32mfrom\u001b[0m \u001b[1;33m.\u001b[0m\u001b[0mbasic\u001b[0m \u001b[1;32mimport\u001b[0m \u001b[1;33m*\u001b[0m\u001b[1;33m\u001b[0m\u001b[0m\n",
      "\u001b[1;31mImportError\u001b[0m: DLL load failed: The specified module could not be found."
     ]
    }
   ],
   "source": [
    "import numpy as np\n",
    "import pandas as pd\n",
    "import datetime\n",
    "import gc\n",
    "import matplotlib.pyplot as plt\n",
    "import seaborn as sns\n",
    "import lightgbm as lgb\n",
    "from sklearn.model_selection import StratifiedKFold\n",
    "from sklearn.metrics import mean_squared_error\n",
    "import warnings\n",
    "import time\n",
    "warnings.filterwarnings('ignore')\n",
    "np.random.seed(4950)"
   ]
  },
  {
   "cell_type": "code",
   "execution_count": 2,
   "metadata": {},
   "outputs": [],
   "source": [
    "df_train=pd.read_csv('train_wang.csv')\n",
    "df_test=pd.read_csv('test_wang.csv')"
   ]
  },
  {
   "cell_type": "code",
   "execution_count": 4,
   "metadata": {},
   "outputs": [],
   "source": [
    "exclude_features = []\n",
    "exclude_features += ['card_id', 'first_active_month','target','outliers']\n",
    "df_train_columns = [c for c in df_train.columns if c not in exclude_features ]\n",
    "target = df_train['target']\n",
    "# del df_train['target']"
   ]
  },
  {
   "cell_type": "code",
   "execution_count": 5,
   "metadata": {},
   "outputs": [
    {
     "data": {
      "text/plain": [
       "265"
      ]
     },
     "execution_count": 5,
     "metadata": {},
     "output_type": "execute_result"
    }
   ],
   "source": [
    "len(df_train_columns)"
   ]
  },
  {
   "cell_type": "code",
   "execution_count": 10,
   "metadata": {},
   "outputs": [],
   "source": [
    "# extra feats\n",
    "df_extra=pd.read_csv('extra_features.csv')\n",
    "df_train_extra=df_train.merge(df_extra,on='card_id',how='left')\n",
    "df_test_extra=df_test.merge(df_extra,on='card_id',how='left')\n",
    "exclude_features = []\n",
    "exclude_features += ['card_id', 'first_active_month','target','outliers']\n",
    "df_train_columns_extra = [c for c in df_train_extra.columns if c not in exclude_features ]"
   ]
  },
  {
   "cell_type": "code",
   "execution_count": 6,
   "metadata": {},
   "outputs": [],
   "source": [
    "# original Wang's parameters but 'nthread' set to 0 meaning default values\n",
    "param = {'num_leaves': 31,\n",
    "         'min_data_in_leaf': 32, \n",
    "         'objective':'regression',\n",
    "         'max_depth': -1,\n",
    "         'learning_rate': 0.01,\n",
    "         \"min_child_samples\": 20,\n",
    "         \"boosting\": \"gbdt\",\n",
    "         \"feature_fraction\": 0.9,\n",
    "         \"bagging_freq\": 1,\n",
    "         \"bagging_fraction\": 0.9 ,\n",
    "         \"bagging_seed\": 42,\n",
    "         \"metric\": 'rmse',\n",
    "         \"lambda_l1\": 0.1,\n",
    "         \"verbosity\": -1,\n",
    "         \"nthread\": 0,\n",
    "         \"random_state\": 4950}"
   ]
  },
  {
   "cell_type": "code",
   "execution_count": 7,
   "metadata": {},
   "outputs": [],
   "source": [
    "from sklearn.model_selection import StratifiedKFold"
   ]
  },
  {
   "cell_type": "code",
   "execution_count": 9,
   "metadata": {},
   "outputs": [
    {
     "name": "stdout",
     "output_type": "stream",
     "text": [
      "[200]\tcv_agg's rmse: 3.67909 + 0.00808459\n",
      "[400]\tcv_agg's rmse: 3.65861 + 0.0103467\n",
      "[600]\tcv_agg's rmse: 3.651 + 0.0114004\n",
      "[800]\tcv_agg's rmse: 3.64812 + 0.0120389\n",
      "[1000]\tcv_agg's rmse: 3.64671 + 0.0124638\n",
      "[1200]\tcv_agg's rmse: 3.64634 + 0.0131356\n",
      "[1400]\tcv_agg's rmse: 3.64625 + 0.0134757\n",
      "[1600]\tcv_agg's rmse: 3.64627 + 0.0139156\n",
      "[1800]\tcv_agg's rmse: 3.64642 + 0.0139837\n",
      "best cv score: 3.6460813379096484\n",
      "best boost nums: 1266\n",
      "[200]\ttraining's rmse: 3.57317\n",
      "[400]\ttraining's rmse: 3.48556\n",
      "[600]\ttraining's rmse: 3.42968\n",
      "[800]\ttraining's rmse: 3.38587\n",
      "[1000]\ttraining's rmse: 3.349\n",
      "[1200]\ttraining's rmse: 3.31686\n"
     ]
    }
   ],
   "source": [
    "trn_data = lgb.Dataset(df_train[df_train_columns], label=target)\n",
    "folds = StratifiedKFold(n_splits=5, shuffle=True, random_state=4950).split(df_train[df_train_columns],df_train.outliers)\n",
    "lgb_cv = lgb.cv(param, trn_data, 10000, stratified=False, early_stopping_rounds=600, verbose_eval=200,folds=folds)\n",
    "print(f'best cv score: {lgb_cv[\"rmse-mean\"][-1]}\\nbest boost nums: {len(lgb_cv[\"rmse-mean\"])}')\n",
    "clf = lgb.train(param, trn_data, len(lgb_cv['rmse-mean']), valid_sets=(trn_data), verbose_eval=200)"
   ]
  },
  {
   "cell_type": "code",
   "execution_count": 11,
   "metadata": {},
   "outputs": [],
   "source": [
    "# Optimized parameter\n",
    "param_opt={'bagging_fraction': 0.979,\n",
    " 'bagging_freq': 1,\n",
    " 'bagging_seed': 42,\n",
    " 'boosting': 'gbdt',\n",
    " 'feature_fraction': 0.503,\n",
    " 'lambda_l1': 3.96,\n",
    " 'lambda_l2': 5.7,\n",
    " 'learning_rate': 0.01,\n",
    " 'max_depth': 7,\n",
    " 'metric': 'rmse',\n",
    " 'min_child_samples': 20,\n",
    " 'min_data_in_leaf': 31,\n",
    " 'nthread': 0,\n",
    " 'num_leaves': 55,\n",
    " 'objective': 'regression',\n",
    " 'random_state': 4950,\n",
    " 'verbosity': -1,\n",
    " 'device':'gpu',\n",
    " 'gpu_use_dp':True}"
   ]
  },
  {
   "cell_type": "code",
   "execution_count": 12,
   "metadata": {},
   "outputs": [],
   "source": [
    "import matplotlib.gridspec as gridspec\n",
    "import seaborn as sns"
   ]
  },
  {
   "cell_type": "code",
   "execution_count": 13,
   "metadata": {},
   "outputs": [],
   "source": [
    "# Correlation scores from feature elimination\n",
    "correlation_scores=pd.read_csv('correlation_score_wangs.csv')\n",
    "# feature Elimination results\n",
    "feature_elim_results=pd.read_csv('feature_elim_results_wangs.csv')"
   ]
  },
  {
   "cell_type": "code",
   "execution_count": 14,
   "metadata": {},
   "outputs": [
    {
     "data": {
      "text/html": [
       "<div>\n",
       "<style scoped>\n",
       "    .dataframe tbody tr th:only-of-type {\n",
       "        vertical-align: middle;\n",
       "    }\n",
       "\n",
       "    .dataframe tbody tr th {\n",
       "        vertical-align: top;\n",
       "    }\n",
       "\n",
       "    .dataframe thead th {\n",
       "        text-align: right;\n",
       "    }\n",
       "</style>\n",
       "<table border=\"1\" class=\"dataframe\">\n",
       "  <thead>\n",
       "    <tr style=\"text-align: right;\">\n",
       "      <th></th>\n",
       "      <th>num_boost</th>\n",
       "      <th>rmse</th>\n",
       "      <th>threshold</th>\n",
       "    </tr>\n",
       "  </thead>\n",
       "  <tbody>\n",
       "    <tr>\n",
       "      <th>0</th>\n",
       "      <td>1088</td>\n",
       "      <td>3.643191</td>\n",
       "      <td>0</td>\n",
       "    </tr>\n",
       "    <tr>\n",
       "      <th>1</th>\n",
       "      <td>1025</td>\n",
       "      <td>3.640097</td>\n",
       "      <td>10</td>\n",
       "    </tr>\n",
       "    <tr>\n",
       "      <th>2</th>\n",
       "      <td>1139</td>\n",
       "      <td>3.639745</td>\n",
       "      <td>20</td>\n",
       "    </tr>\n",
       "    <tr>\n",
       "      <th>3</th>\n",
       "      <td>1139</td>\n",
       "      <td>3.639505</td>\n",
       "      <td>30</td>\n",
       "    </tr>\n",
       "    <tr>\n",
       "      <th>4</th>\n",
       "      <td>1136</td>\n",
       "      <td>3.638330</td>\n",
       "      <td>40</td>\n",
       "    </tr>\n",
       "    <tr>\n",
       "      <th>5</th>\n",
       "      <td>1132</td>\n",
       "      <td>3.639430</td>\n",
       "      <td>50</td>\n",
       "    </tr>\n",
       "    <tr>\n",
       "      <th>6</th>\n",
       "      <td>1053</td>\n",
       "      <td>3.640391</td>\n",
       "      <td>60</td>\n",
       "    </tr>\n",
       "    <tr>\n",
       "      <th>7</th>\n",
       "      <td>1022</td>\n",
       "      <td>3.639406</td>\n",
       "      <td>70</td>\n",
       "    </tr>\n",
       "    <tr>\n",
       "      <th>8</th>\n",
       "      <td>1156</td>\n",
       "      <td>3.638599</td>\n",
       "      <td>80</td>\n",
       "    </tr>\n",
       "    <tr>\n",
       "      <th>9</th>\n",
       "      <td>1034</td>\n",
       "      <td>3.638943</td>\n",
       "      <td>90</td>\n",
       "    </tr>\n",
       "    <tr>\n",
       "      <th>10</th>\n",
       "      <td>1054</td>\n",
       "      <td>3.638101</td>\n",
       "      <td>95</td>\n",
       "    </tr>\n",
       "    <tr>\n",
       "      <th>11</th>\n",
       "      <td>889</td>\n",
       "      <td>3.643289</td>\n",
       "      <td>99</td>\n",
       "    </tr>\n",
       "  </tbody>\n",
       "</table>\n",
       "</div>"
      ],
      "text/plain": [
       "    num_boost      rmse  threshold\n",
       "0        1088  3.643191          0\n",
       "1        1025  3.640097         10\n",
       "2        1139  3.639745         20\n",
       "3        1139  3.639505         30\n",
       "4        1136  3.638330         40\n",
       "5        1132  3.639430         50\n",
       "6        1053  3.640391         60\n",
       "7        1022  3.639406         70\n",
       "8        1156  3.638599         80\n",
       "9        1034  3.638943         90\n",
       "10       1054  3.638101         95\n",
       "11        889  3.643289         99"
      ]
     },
     "execution_count": 14,
     "metadata": {},
     "output_type": "execute_result"
    }
   ],
   "source": [
    "feature_elim_results"
   ]
  },
  {
   "cell_type": "code",
   "execution_count": 21,
   "metadata": {},
   "outputs": [
    {
     "data": {
      "text/plain": [
       "Index(['0', '1', '2'], dtype='object')"
      ]
     },
     "execution_count": 21,
     "metadata": {},
     "output_type": "execute_result"
    }
   ],
   "source": [
    "correlation_scores.columns"
   ]
  },
  {
   "cell_type": "code",
   "execution_count": 27,
   "metadata": {},
   "outputs": [],
   "source": [
    "for threshold in [ 0,10,20,30,40,50,60, 70,80, 90, 95, 99]:\n",
    "    split_feats = correlation_scores[correlation_scores['1']>=threshold]['0'].tolist()"
   ]
  },
  {
   "cell_type": "code",
   "execution_count": 31,
   "metadata": {},
   "outputs": [
    {
     "data": {
      "text/plain": [
       "38"
      ]
     },
     "execution_count": 31,
     "metadata": {},
     "output_type": "execute_result"
    }
   ],
   "source": [
    "len(split_feats)"
   ]
  },
  {
   "cell_type": "code",
   "execution_count": 32,
   "metadata": {},
   "outputs": [],
   "source": [
    "def lgb_oof(param, data,features,test,verbose=200):\n",
    "    folds = StratifiedKFold(n_splits=5, shuffle=True, random_state=4950)\n",
    "    oof = np.zeros(data.shape[0])\n",
    "    predictions=np.zeros(test.shape[0])\n",
    "    for fold_, (trn_idx, val_idx) in enumerate(folds.split(data[features], data.outliers)):\n",
    "        print(f'fold: {fold_}')\n",
    "        trn_data = lgb.Dataset(data[features].iloc[trn_idx], label=target.iloc[trn_idx])\n",
    "        val_data = lgb.Dataset(data[features].iloc[val_idx], label=target.iloc[val_idx])\n",
    "        clf = lgb.train(param, trn_data, 10000, valid_sets=[trn_data, val_data], verbose_eval=verbose, early_stopping_rounds=400)\n",
    "        oof[val_idx] = clf.predict(data[features].iloc[val_idx], num_iteration=clf.best_iteration)\n",
    "        predictions+=clf.predict(test[features],num_iteration=clf.best_iteration)/folds.n_splits\n",
    "        \n",
    "        del clf, trn_idx, val_idx\n",
    "        gc.collect()\n",
    "    print(\"CV error:\"+str(mean_squared_error(target, oof)**0.5))\n",
    "    return predictions,oof,mean_squared_error(target, oof)**0.5"
   ]
  },
  {
   "cell_type": "code",
   "execution_count": null,
   "metadata": {},
   "outputs": [],
   "source": [
    "# # Let's look at the results of Wang's features. mean of predicted values gives 3.673 in LB\n",
    "# df_results=pd.DataFrame()\n",
    "# threshold_list=[]\n",
    "# rmse_list=[]\n",
    "# oof_list=[]\n",
    "# predictions_list=[]\n",
    "# for threshold in [ 0,10,20,30,40,50,60, 70,80, 90, 95, 99]:\n",
    "#     split_feats = [_f for _f, _score, _ in correlation_scores if _score >= threshold]\n",
    "#     predictions,oof,rmse=lgb_oof(param,df_train,split_feats,df_test,verbose=False)\n",
    "#     threshold_list.append(threshold)\n",
    "#     rmse_list.append(rmse)\n",
    "#     oof_list.append(oof)\n",
    "#     predictions_list.append(predictions)\n",
    "# df_results=pd.DataFrame({'threshold':threshold_list,'rmse':rmse_list,'oof':oof_list,'predictions':predictions_list})"
   ]
  },
  {
   "cell_type": "code",
   "execution_count": 33,
   "metadata": {},
   "outputs": [],
   "source": [
    "def lgb_all(param, data,features,test,verbose=200):\n",
    "    folds = StratifiedKFold(n_splits=5, shuffle=True, random_state=4950).split(data[features],data.outliers)\n",
    "    oof = np.zeros(data.shape[0])\n",
    "    predictions=np.zeros(test.shape[0])\n",
    "    \n",
    "    trn_data = lgb.Dataset(data[features], label=data.target)\n",
    "    lgb_cv = lgb.cv(param, trn_data, 10000, stratified=False, early_stopping_rounds=400, verbose_eval=verbose,folds=folds)\n",
    "    clf = lgb.train(param, trn_data, len(lgb_cv['rmse-mean']), valid_sets=[trn_data], verbose_eval=verbose, early_stopping_rounds=400)\n",
    "        \n",
    "    predictions=clf.predict(test[features],num_iteration=clf.best_iteration)\n",
    "        \n",
    "    print(\"CV error:\"+str(lgb_cv['rmse-mean'][-1]))\n",
    "    return predictions,lgb_cv['rmse-mean'][-1]"
   ]
  },
  {
   "cell_type": "code",
   "execution_count": 35,
   "metadata": {},
   "outputs": [],
   "source": [
    "# let's use gpu to speed up little bit.\n",
    "param_gpu=param.copy()\n",
    "param_gpu['device']='gpu'\n",
    "param_gpu['gpu_use_dp']=True"
   ]
  },
  {
   "cell_type": "code",
   "execution_count": 39,
   "metadata": {},
   "outputs": [
    {
     "name": "stdout",
     "output_type": "stream",
     "text": [
      "0\n",
      "CV error:3.6454452777835527\n",
      "10\n",
      "CV error:3.642912672836323\n",
      "20\n",
      "CV error:3.6421156350223725\n",
      "30\n",
      "CV error:3.641249536104067\n",
      "40\n",
      "CV error:3.642921767493261\n",
      "50\n",
      "CV error:3.6411675190559345\n",
      "60\n",
      "CV error:3.6432665303359473\n",
      "70\n",
      "CV error:3.643681466669392\n",
      "80\n",
      "CV error:3.6438103840210885\n",
      "90\n",
      "CV error:3.6434680321814525\n",
      "95\n",
      "CV error:3.64218146199507\n",
      "99\n",
      "CV error:3.646352173397313\n"
     ]
    }
   ],
   "source": [
    "df_results=pd.DataFrame()\n",
    "rmse_list=[]\n",
    "for threshold in [0,10,20,30,40,50,60, 70,80, 90, 95, 99]:\n",
    "    print(threshold)\n",
    "    split_feats = correlation_scores[correlation_scores['1']>=threshold]['0'].tolist()\n",
    "    predictions,rmse=lgb_all(param_gpu,df_train,split_feats,df_test,verbose=False)\n",
    "    \n",
    "    rmse_list.append(rmse)\n",
    "    df_results[threshold]=predictions\n",
    "    "
   ]
  },
  {
   "cell_type": "code",
   "execution_count": 40,
   "metadata": {},
   "outputs": [],
   "source": [
    "def submission(name,y,card_id=df_test.card_id):\n",
    "    df=pd.DataFrame({'card_id':card_id,'target':y})\n",
    "    df.to_csv(name,index=False)\n",
    "    print(name+' file saved')"
   ]
  },
  {
   "cell_type": "code",
   "execution_count": 41,
   "metadata": {},
   "outputs": [
    {
     "name": "stdout",
     "output_type": "stream",
     "text": [
      "0\n",
      "CV error:3.6428343092259174\n",
      "10\n",
      "CV error:3.639739691632605\n",
      "20\n",
      "CV error:3.6396468820059282\n",
      "30\n",
      "CV error:3.63852090367988\n",
      "40\n",
      "CV error:3.6391244967716587\n",
      "50\n",
      "CV error:3.6381532829496805\n",
      "60\n",
      "CV error:3.6399970122557326\n",
      "70\n",
      "CV error:3.6393376808573814\n",
      "80\n",
      "CV error:3.6397327144373826\n",
      "90\n",
      "CV error:3.6392274465421557\n",
      "95\n",
      "CV error:3.638507249646362\n",
      "99\n",
      "CV error:3.643410514728881\n"
     ]
    }
   ],
   "source": [
    "df_results2=pd.DataFrame()\n",
    "rmse_list2=[]\n",
    "for threshold in [0,10,20,30,40,50,60, 70,80, 90, 95, 99]:\n",
    "    print(threshold)\n",
    "    split_feats = correlation_scores[correlation_scores['1']>=threshold]['0'].tolist()\n",
    "    predictions,rmse=lgb_all(param_opt,df_train,split_feats,df_test,verbose=False)\n",
    "    \n",
    "    rmse_list2.append(rmse)\n",
    "    df_results2[threshold]=predictions"
   ]
  },
  {
   "cell_type": "code",
   "execution_count": 44,
   "metadata": {},
   "outputs": [],
   "source": [
    "df_results.to_csv('predictions_feature_elim_all_data_param.csv',index=False)\n",
    "df_results2.to_csv('predictions_feature_elim_all_data_param_opt.csv',index=False)\n"
   ]
  },
  {
   "cell_type": "code",
   "execution_count": 46,
   "metadata": {},
   "outputs": [
    {
     "name": "stdout",
     "output_type": "stream",
     "text": [
      "mean_fe_wang_param.csv file saved\n",
      "mean_fe_wang_param_opt.csv file saved\n"
     ]
    }
   ],
   "source": [
    "#LB:3.672\n",
    "submission('mean_fe_wang_param.csv',df_results.mean(axis=1))\n",
    "#LB:3.676\n",
    "submission('mean_fe_wang_param_opt.csv',df_results2.mean(axis=1))"
   ]
  },
  {
   "cell_type": "code",
   "execution_count": 47,
   "metadata": {},
   "outputs": [
    {
     "name": "stdout",
     "output_type": "stream",
     "text": [
      "fe_wang_param_thr_30.csv file saved\n"
     ]
    }
   ],
   "source": [
    "#LB:3.673\n",
    "submission('fe_wang_param_thr_30.csv',df_results[30])"
   ]
  },
  {
   "cell_type": "code",
   "execution_count": 48,
   "metadata": {},
   "outputs": [
    {
     "name": "stdout",
     "output_type": "stream",
     "text": [
      "fe_wang_param_thr_50.csv file saved\n"
     ]
    }
   ],
   "source": [
    "#LB:3.676\n",
    "submission('fe_wang_param_thr_50.csv',df_results[50])"
   ]
  },
  {
   "cell_type": "code",
   "execution_count": 49,
   "metadata": {},
   "outputs": [
    {
     "name": "stdout",
     "output_type": "stream",
     "text": [
      "fe_wang_param_thr_0.csv file saved\n"
     ]
    }
   ],
   "source": [
    "#LB:3.673\n",
    "submission('fe_wang_param_thr_0.csv',df_results[0])"
   ]
  },
  {
   "cell_type": "code",
   "execution_count": 145,
   "metadata": {},
   "outputs": [
    {
     "name": "stdout",
     "output_type": "stream",
     "text": [
      "fe_wang_param_thr_99.csv file saved\n"
     ]
    }
   ],
   "source": [
    "#LB:3.680\n",
    "submission('fe_wang_param_thr_99.csv',df_results[99])"
   ]
  },
  {
   "cell_type": "code",
   "execution_count": 52,
   "metadata": {},
   "outputs": [
    {
     "data": {
      "text/plain": [
       "3.6454452777835527"
      ]
     },
     "execution_count": 52,
     "metadata": {},
     "output_type": "execute_result"
    }
   ],
   "source": [
    "rmse_list[0]"
   ]
  },
  {
   "cell_type": "code",
   "execution_count": 67,
   "metadata": {},
   "outputs": [],
   "source": [
    "selected_columns=df_train_columns[:]\n",
    "se=pd.Series(selected_columns)"
   ]
  },
  {
   "cell_type": "code",
   "execution_count": 70,
   "metadata": {},
   "outputs": [],
   "source": [
    "del se[0]"
   ]
  },
  {
   "cell_type": "code",
   "execution_count": 79,
   "metadata": {},
   "outputs": [
    {
     "data": {
      "text/plain": [
       "3.6454"
      ]
     },
     "execution_count": 79,
     "metadata": {},
     "output_type": "execute_result"
    }
   ],
   "source": [
    "round(3.6454452777835527,4)"
   ]
  },
  {
   "cell_type": "code",
   "execution_count": 81,
   "metadata": {},
   "outputs": [
    {
     "name": "stdout",
     "output_type": "stream",
     "text": [
      "fold: 0\n",
      "fold: 1\n",
      "fold: 2\n",
      "fold: 3\n",
      "fold: 4\n",
      "CV error:3.6447975938507073\n",
      "feature_3\n",
      "fold: 0\n",
      "fold: 1\n",
      "fold: 2\n",
      "fold: 3\n",
      "fold: 4\n",
      "CV error:3.645967890956518\n",
      "fold: 0\n",
      "fold: 1\n",
      "fold: 2\n",
      "fold: 3\n",
      "fold: 4\n",
      "CV error:3.6459290221305385\n",
      "fold: 0\n",
      "fold: 1\n",
      "fold: 2\n",
      "fold: 3\n",
      "fold: 4\n",
      "CV error:3.645967087413232\n",
      "fold: 0\n",
      "fold: 1\n",
      "fold: 2\n",
      "fold: 3\n",
      "fold: 4\n",
      "CV error:3.6464291767018824\n",
      "fold: 0\n",
      "fold: 1\n",
      "fold: 2\n",
      "fold: 3\n",
      "fold: 4\n",
      "CV error:3.646083612398005\n",
      "fold: 0\n",
      "fold: 1\n",
      "fold: 2\n",
      "fold: 3\n",
      "fold: 4\n",
      "CV error:3.64567985996468\n",
      "fold: 0\n",
      "fold: 1\n",
      "fold: 2\n",
      "fold: 3\n",
      "fold: 4\n",
      "CV error:3.645420603384863\n",
      "fold: 0\n",
      "fold: 1\n",
      "fold: 2\n",
      "fold: 3\n",
      "fold: 4\n",
      "CV error:3.64593999881104\n",
      "fold: 0\n",
      "fold: 1\n",
      "fold: 2\n",
      "fold: 3\n",
      "fold: 4\n",
      "CV error:3.6458265337479094\n",
      "fold: 0\n",
      "fold: 1\n",
      "fold: 2\n",
      "fold: 3\n",
      "fold: 4\n",
      "CV error:3.6458210789524554\n",
      "fold: 0\n",
      "fold: 1\n",
      "fold: 2\n",
      "fold: 3\n",
      "fold: 4\n",
      "CV error:3.645826118305855\n",
      "fold: 0\n",
      "fold: 1\n",
      "fold: 2\n",
      "fold: 3\n",
      "fold: 4\n",
      "CV error:3.645439752230772\n",
      "fold: 0\n",
      "fold: 1\n",
      "fold: 2\n",
      "fold: 3\n",
      "fold: 4\n",
      "CV error:3.645940677497025\n",
      "fold: 0\n",
      "fold: 1\n",
      "fold: 2\n",
      "fold: 3\n",
      "fold: 4\n",
      "CV error:3.645159686731164\n",
      "fold: 0\n",
      "fold: 1\n",
      "fold: 2\n",
      "fold: 3\n",
      "fold: 4\n",
      "CV error:3.6461175770260206\n",
      "fold: 0\n",
      "fold: 1\n",
      "fold: 2\n",
      "fold: 3\n",
      "fold: 4\n",
      "CV error:3.6451142904959677\n",
      "fold: 0\n",
      "fold: 1\n",
      "fold: 2\n",
      "fold: 3\n",
      "fold: 4\n",
      "CV error:3.6463257338478168\n",
      "fold: 0\n",
      "fold: 1\n",
      "fold: 2\n",
      "fold: 3\n",
      "fold: 4\n",
      "CV error:3.646290089464383\n",
      "fold: 0\n",
      "fold: 1\n",
      "fold: 2\n",
      "fold: 3\n",
      "fold: 4\n",
      "CV error:3.6436509929208847\n",
      "auth_flag_authorized_flag_mean\n",
      "fold: 0\n",
      "fold: 1\n",
      "fold: 2\n",
      "fold: 3\n",
      "fold: 4\n",
      "CV error:3.6451195295187513\n",
      "fold: 0\n",
      "fold: 1\n",
      "fold: 2\n",
      "fold: 3\n",
      "fold: 4\n",
      "CV error:3.6460402051158276\n",
      "fold: 0\n",
      "fold: 1\n",
      "fold: 2\n",
      "fold: 3\n",
      "fold: 4\n",
      "CV error:3.6463149903886545\n",
      "fold: 0\n",
      "fold: 1\n",
      "fold: 2\n",
      "fold: 3\n",
      "fold: 4\n",
      "CV error:3.6459690559095543\n",
      "fold: 0\n",
      "fold: 1\n",
      "fold: 2\n",
      "fold: 3\n",
      "fold: 4\n",
      "CV error:3.645867717738931\n",
      "fold: 0\n",
      "fold: 1\n",
      "fold: 2\n",
      "fold: 3\n",
      "fold: 4\n",
      "CV error:3.646080291538997\n",
      "fold: 0\n",
      "fold: 1\n",
      "fold: 2\n",
      "fold: 3\n",
      "fold: 4\n",
      "CV error:3.6458390196083994\n",
      "fold: 0\n",
      "fold: 1\n",
      "fold: 2\n",
      "fold: 3\n",
      "fold: 4\n",
      "CV error:3.646163001792967\n",
      "fold: 0\n",
      "fold: 1\n",
      "fold: 2\n",
      "fold: 3\n",
      "fold: 4\n",
      "CV error:3.6458519279777333\n",
      "fold: 0\n",
      "fold: 1\n",
      "fold: 2\n",
      "fold: 3\n",
      "fold: 4\n",
      "CV error:3.6471808441534823\n",
      "fold: 0\n",
      "fold: 1\n",
      "fold: 2\n",
      "fold: 3\n",
      "fold: 4\n",
      "CV error:3.64641866375553\n",
      "fold: 0\n",
      "fold: 1\n",
      "fold: 2\n",
      "fold: 3\n",
      "fold: 4\n",
      "CV error:3.646341742808918\n",
      "fold: 0\n",
      "fold: 1\n",
      "fold: 2\n",
      "fold: 3\n",
      "fold: 4\n",
      "CV error:3.6454294400475336\n",
      "fold: 0\n",
      "fold: 1\n",
      "fold: 2\n",
      "fold: 3\n",
      "fold: 4\n",
      "CV error:3.6457228229074494\n",
      "fold: 0\n",
      "fold: 1\n",
      "fold: 2\n",
      "fold: 3\n",
      "fold: 4\n",
      "CV error:3.6516424521902535\n",
      "fold: 0\n",
      "fold: 1\n",
      "fold: 2\n",
      "fold: 3\n",
      "fold: 4\n",
      "CV error:3.6460375859309164\n",
      "fold: 0\n",
      "fold: 1\n",
      "fold: 2\n",
      "fold: 3\n",
      "fold: 4\n",
      "CV error:3.6448064820724495\n",
      "fold: 0\n",
      "fold: 1\n",
      "fold: 2\n",
      "fold: 3\n",
      "fold: 4\n",
      "CV error:3.6456379360462763\n",
      "fold: 0\n",
      "fold: 1\n",
      "fold: 2\n",
      "fold: 3\n",
      "fold: 4\n",
      "CV error:3.6468021572848905\n",
      "fold: 0\n",
      "fold: 1\n",
      "fold: 2\n",
      "fold: 3\n",
      "fold: 4\n",
      "CV error:3.6471124591595308\n",
      "fold: 0\n",
      "fold: 1\n",
      "fold: 2\n",
      "fold: 3\n",
      "fold: 4\n",
      "CV error:3.6455491198352292\n",
      "fold: 0\n",
      "fold: 1\n",
      "fold: 2\n",
      "fold: 3\n",
      "fold: 4\n",
      "CV error:3.647174650853651\n",
      "fold: 0\n",
      "fold: 1\n",
      "fold: 2\n",
      "fold: 3\n",
      "fold: 4\n",
      "CV error:3.6450285572830086\n",
      "fold: 0\n",
      "fold: 1\n",
      "fold: 2\n",
      "fold: 3\n",
      "fold: 4\n",
      "CV error:3.6461083495497575\n",
      "fold: 0\n",
      "fold: 1\n",
      "fold: 2\n",
      "fold: 3\n",
      "fold: 4\n",
      "CV error:3.6445276948902317\n",
      "fold: 0\n",
      "fold: 1\n",
      "fold: 2\n",
      "fold: 3\n",
      "fold: 4\n",
      "CV error:3.645835294800706\n",
      "fold: 0\n",
      "fold: 1\n",
      "fold: 2\n",
      "fold: 3\n",
      "fold: 4\n",
      "CV error:3.645232386906454\n",
      "fold: 0\n",
      "fold: 1\n",
      "fold: 2\n",
      "fold: 3\n",
      "fold: 4\n",
      "CV error:3.646671450722276\n",
      "fold: 0\n",
      "fold: 1\n",
      "fold: 2\n",
      "fold: 3\n",
      "fold: 4\n",
      "CV error:3.645510099035518\n",
      "fold: 0\n",
      "fold: 1\n",
      "fold: 2\n",
      "fold: 3\n",
      "fold: 4\n",
      "CV error:3.645571084568024\n",
      "fold: 0\n",
      "fold: 1\n",
      "fold: 2\n",
      "fold: 3\n",
      "fold: 4\n",
      "CV error:3.64543572001737\n",
      "fold: 0\n",
      "fold: 1\n",
      "fold: 2\n",
      "fold: 3\n",
      "fold: 4\n",
      "CV error:3.6468844900307396\n",
      "fold: 0\n",
      "fold: 1\n",
      "fold: 2\n",
      "fold: 3\n",
      "fold: 4\n",
      "CV error:3.6461298762202374\n",
      "fold: 0\n",
      "fold: 1\n",
      "fold: 2\n",
      "fold: 3\n",
      "fold: 4\n",
      "CV error:3.6455337815929503\n",
      "fold: 0\n",
      "fold: 1\n",
      "fold: 2\n",
      "fold: 3\n",
      "fold: 4\n",
      "CV error:3.6454345107482555\n",
      "fold: 0\n",
      "fold: 1\n",
      "fold: 2\n",
      "fold: 3\n",
      "fold: 4\n",
      "CV error:3.644088942220463\n",
      "fold: 0\n",
      "fold: 1\n",
      "fold: 2\n",
      "fold: 3\n",
      "fold: 4\n",
      "CV error:3.646956544510654\n",
      "fold: 0\n",
      "fold: 1\n",
      "fold: 2\n",
      "fold: 3\n",
      "fold: 4\n",
      "CV error:3.6477964697276075\n",
      "fold: 0\n",
      "fold: 1\n",
      "fold: 2\n",
      "fold: 3\n",
      "fold: 4\n",
      "CV error:3.64628809170091\n",
      "fold: 0\n",
      "fold: 1\n",
      "fold: 2\n",
      "fold: 3\n",
      "fold: 4\n",
      "CV error:3.6456369740803636\n",
      "fold: 0\n",
      "fold: 1\n",
      "fold: 2\n",
      "fold: 3\n",
      "fold: 4\n",
      "CV error:3.646054069155807\n",
      "fold: 0\n",
      "fold: 1\n",
      "fold: 2\n",
      "fold: 3\n",
      "fold: 4\n",
      "CV error:3.6451708317318983\n",
      "fold: 0\n",
      "fold: 1\n",
      "fold: 2\n",
      "fold: 3\n",
      "fold: 4\n",
      "CV error:3.6460845773606043\n",
      "fold: 0\n",
      "fold: 1\n",
      "fold: 2\n",
      "fold: 3\n",
      "fold: 4\n",
      "CV error:3.64654533704452\n",
      "fold: 0\n",
      "fold: 1\n",
      "fold: 2\n",
      "fold: 3\n",
      "fold: 4\n",
      "CV error:3.645516636924261\n",
      "fold: 0\n",
      "fold: 1\n",
      "fold: 2\n",
      "fold: 3\n",
      "fold: 4\n",
      "CV error:3.6460857231227086\n",
      "fold: 0\n",
      "fold: 1\n",
      "fold: 2\n",
      "fold: 3\n",
      "fold: 4\n",
      "CV error:3.646787722051333\n",
      "fold: 0\n",
      "fold: 1\n",
      "fold: 2\n",
      "fold: 3\n",
      "fold: 4\n",
      "CV error:3.6475485891116337\n",
      "fold: 0\n",
      "fold: 1\n",
      "fold: 2\n",
      "fold: 3\n",
      "fold: 4\n",
      "CV error:3.645077751445672\n",
      "fold: 0\n",
      "fold: 1\n",
      "fold: 2\n",
      "fold: 3\n",
      "fold: 4\n",
      "CV error:3.646604235355342\n",
      "fold: 0\n",
      "fold: 1\n",
      "fold: 2\n",
      "fold: 3\n",
      "fold: 4\n",
      "CV error:3.644911112877489\n",
      "fold: 0\n",
      "fold: 1\n",
      "fold: 2\n",
      "fold: 3\n",
      "fold: 4\n",
      "CV error:3.6448841874341458\n",
      "fold: 0\n",
      "fold: 1\n",
      "fold: 2\n",
      "fold: 3\n",
      "fold: 4\n",
      "CV error:3.6456246605552427\n",
      "fold: 0\n",
      "fold: 1\n",
      "fold: 2\n",
      "fold: 3\n",
      "fold: 4\n",
      "CV error:3.6461836855815486\n",
      "fold: 0\n",
      "fold: 1\n",
      "fold: 2\n",
      "fold: 3\n",
      "fold: 4\n",
      "CV error:3.6459076830716843\n",
      "fold: 0\n",
      "fold: 1\n",
      "fold: 2\n",
      "fold: 3\n",
      "fold: 4\n",
      "CV error:3.6458306980397146\n",
      "fold: 0\n",
      "fold: 1\n",
      "fold: 2\n",
      "fold: 3\n",
      "fold: 4\n",
      "CV error:3.6471034682276713\n",
      "fold: 0\n",
      "fold: 1\n",
      "fold: 2\n",
      "fold: 3\n",
      "fold: 4\n",
      "CV error:3.6458961125653118\n",
      "fold: 0\n",
      "fold: 1\n",
      "fold: 2\n",
      "fold: 3\n",
      "fold: 4\n",
      "CV error:3.646486383265598\n",
      "fold: 0\n",
      "fold: 1\n",
      "fold: 2\n",
      "fold: 3\n",
      "fold: 4\n",
      "CV error:3.646207862177502\n",
      "fold: 0\n",
      "fold: 1\n",
      "fold: 2\n",
      "fold: 3\n",
      "fold: 4\n",
      "CV error:3.6462438719149484\n",
      "fold: 0\n",
      "fold: 1\n",
      "fold: 2\n",
      "fold: 3\n",
      "fold: 4\n",
      "CV error:3.646306157951619\n",
      "fold: 0\n",
      "fold: 1\n",
      "fold: 2\n",
      "fold: 3\n",
      "fold: 4\n",
      "CV error:3.6456301396553727\n",
      "fold: 0\n",
      "fold: 1\n",
      "fold: 2\n",
      "fold: 3\n",
      "fold: 4\n",
      "CV error:3.645622061439721\n",
      "fold: 0\n",
      "fold: 1\n",
      "fold: 2\n",
      "fold: 3\n",
      "fold: 4\n",
      "CV error:3.6461616419049747\n",
      "fold: 0\n",
      "fold: 1\n",
      "fold: 2\n",
      "fold: 3\n",
      "fold: 4\n",
      "CV error:3.645910716874239\n",
      "fold: 0\n",
      "fold: 1\n",
      "fold: 2\n",
      "fold: 3\n",
      "fold: 4\n",
      "CV error:3.647040724207942\n",
      "fold: 0\n",
      "fold: 1\n",
      "fold: 2\n",
      "fold: 3\n",
      "fold: 4\n",
      "CV error:3.6468036749865305\n",
      "fold: 0\n",
      "fold: 1\n",
      "fold: 2\n",
      "fold: 3\n",
      "fold: 4\n",
      "CV error:3.645516882782937\n",
      "fold: 0\n",
      "fold: 1\n",
      "fold: 2\n",
      "fold: 3\n",
      "fold: 4\n",
      "CV error:3.6448391141793888\n",
      "fold: 0\n",
      "fold: 1\n",
      "fold: 2\n",
      "fold: 3\n",
      "fold: 4\n",
      "CV error:3.6451853940700354\n",
      "fold: 0\n",
      "fold: 1\n",
      "fold: 2\n",
      "fold: 3\n",
      "fold: 4\n",
      "CV error:3.646401555373451\n",
      "fold: 0\n",
      "fold: 1\n",
      "fold: 2\n",
      "fold: 3\n",
      "fold: 4\n",
      "CV error:3.6461678746119373\n",
      "fold: 0\n",
      "fold: 1\n",
      "fold: 2\n",
      "fold: 3\n",
      "fold: 4\n",
      "CV error:3.6463524145990034\n",
      "fold: 0\n",
      "fold: 1\n",
      "fold: 2\n",
      "fold: 3\n",
      "fold: 4\n",
      "CV error:3.645170114742358\n",
      "fold: 0\n",
      "fold: 1\n",
      "fold: 2\n",
      "fold: 3\n",
      "fold: 4\n",
      "CV error:3.646500439768306\n",
      "fold: 0\n",
      "fold: 1\n",
      "fold: 2\n",
      "fold: 3\n",
      "fold: 4\n",
      "CV error:3.646549465597763\n",
      "fold: 0\n",
      "fold: 1\n",
      "fold: 2\n",
      "fold: 3\n",
      "fold: 4\n",
      "CV error:3.6458901099382177\n",
      "fold: 0\n",
      "fold: 1\n",
      "fold: 2\n",
      "fold: 3\n",
      "fold: 4\n",
      "CV error:3.646350402467638\n",
      "fold: 0\n",
      "fold: 1\n",
      "fold: 2\n",
      "fold: 3\n",
      "fold: 4\n",
      "CV error:3.645981071839168\n",
      "fold: 0\n",
      "fold: 1\n",
      "fold: 2\n",
      "fold: 3\n",
      "fold: 4\n",
      "CV error:3.6471905536509963\n",
      "fold: 0\n",
      "fold: 1\n",
      "fold: 2\n",
      "fold: 3\n",
      "fold: 4\n",
      "CV error:3.6455828664759724\n",
      "fold: 0\n",
      "fold: 1\n",
      "fold: 2\n",
      "fold: 3\n",
      "fold: 4\n",
      "CV error:3.646331241670666\n",
      "fold: 0\n",
      "fold: 1\n",
      "fold: 2\n",
      "fold: 3\n",
      "fold: 4\n",
      "CV error:3.6461335406621074\n",
      "fold: 0\n",
      "fold: 1\n",
      "fold: 2\n",
      "fold: 3\n",
      "fold: 4\n",
      "CV error:3.645571135351985\n",
      "fold: 0\n",
      "fold: 1\n",
      "fold: 2\n",
      "fold: 3\n",
      "fold: 4\n",
      "CV error:3.6457215929510713\n",
      "fold: 0\n",
      "fold: 1\n",
      "fold: 2\n",
      "fold: 3\n",
      "fold: 4\n",
      "CV error:3.64615291633102\n",
      "fold: 0\n",
      "fold: 1\n",
      "fold: 2\n",
      "fold: 3\n",
      "fold: 4\n",
      "CV error:3.645480362026142\n",
      "fold: 0\n",
      "fold: 1\n",
      "fold: 2\n",
      "fold: 3\n",
      "fold: 4\n",
      "CV error:3.6466095563902288\n",
      "fold: 0\n",
      "fold: 1\n",
      "fold: 2\n",
      "fold: 3\n",
      "fold: 4\n",
      "CV error:3.645579768364862\n",
      "fold: 0\n",
      "fold: 1\n",
      "fold: 2\n",
      "fold: 3\n",
      "fold: 4\n",
      "CV error:3.6449284855240007\n",
      "fold: 0\n",
      "fold: 1\n",
      "fold: 2\n",
      "fold: 3\n",
      "fold: 4\n",
      "CV error:3.6445202938999053\n",
      "fold: 0\n",
      "fold: 1\n",
      "fold: 2\n",
      "fold: 3\n",
      "fold: 4\n",
      "CV error:3.6470025469297744\n",
      "fold: 0\n",
      "fold: 1\n",
      "fold: 2\n",
      "fold: 3\n",
      "fold: 4\n",
      "CV error:3.6464340363455885\n",
      "fold: 0\n",
      "fold: 1\n",
      "fold: 2\n",
      "fold: 3\n",
      "fold: 4\n",
      "CV error:3.6459964049331273\n",
      "fold: 0\n",
      "fold: 1\n",
      "fold: 2\n",
      "fold: 3\n",
      "fold: 4\n",
      "CV error:3.6466723061193234\n",
      "fold: 0\n",
      "fold: 1\n",
      "fold: 2\n",
      "fold: 3\n",
      "fold: 4\n",
      "CV error:3.645381744362595\n",
      "fold: 0\n",
      "fold: 1\n",
      "fold: 2\n",
      "fold: 3\n",
      "fold: 4\n",
      "CV error:3.6461319084895147\n",
      "fold: 0\n",
      "fold: 1\n",
      "fold: 2\n",
      "fold: 3\n",
      "fold: 4\n",
      "CV error:3.6449573835623\n",
      "fold: 0\n",
      "fold: 1\n",
      "fold: 2\n",
      "fold: 3\n",
      "fold: 4\n",
      "CV error:3.6455206998038534\n",
      "fold: 0\n",
      "fold: 1\n",
      "fold: 2\n",
      "fold: 3\n",
      "fold: 4\n",
      "CV error:3.645678225517153\n",
      "fold: 0\n"
     ]
    },
    {
     "name": "stdout",
     "output_type": "stream",
     "text": [
      "fold: 1\n",
      "fold: 2\n",
      "fold: 3\n",
      "fold: 4\n",
      "CV error:3.645790045549439\n",
      "fold: 0\n",
      "fold: 1\n",
      "fold: 2\n",
      "fold: 3\n",
      "fold: 4\n",
      "CV error:3.6440602144931025\n",
      "fold: 0\n",
      "fold: 1\n",
      "fold: 2\n",
      "fold: 3\n",
      "fold: 4\n",
      "CV error:3.6453846323414405\n",
      "fold: 0\n",
      "fold: 1\n",
      "fold: 2\n",
      "fold: 3\n",
      "fold: 4\n",
      "CV error:3.645094863868148\n",
      "fold: 0\n",
      "fold: 1\n",
      "fold: 2\n",
      "fold: 3\n",
      "fold: 4\n",
      "CV error:3.6456819599166774\n",
      "fold: 0\n",
      "fold: 1\n",
      "fold: 2\n",
      "fold: 3\n",
      "fold: 4\n",
      "CV error:3.644759904534633\n",
      "fold: 0\n",
      "fold: 1\n",
      "fold: 2\n",
      "fold: 3\n",
      "fold: 4\n",
      "CV error:3.6449385111586463\n",
      "fold: 0\n",
      "fold: 1\n",
      "fold: 2\n",
      "fold: 3\n",
      "fold: 4\n",
      "CV error:3.646290837898408\n",
      "fold: 0\n",
      "fold: 1\n",
      "fold: 2\n",
      "fold: 3\n",
      "fold: 4\n",
      "CV error:3.646503968766681\n",
      "fold: 0\n",
      "fold: 1\n",
      "fold: 2\n",
      "fold: 3\n",
      "fold: 4\n",
      "CV error:3.646649060527992\n",
      "fold: 0\n",
      "fold: 1\n",
      "fold: 2\n",
      "fold: 3\n",
      "fold: 4\n",
      "CV error:3.6465743629241687\n",
      "fold: 0\n",
      "fold: 1\n",
      "fold: 2\n",
      "fold: 3\n",
      "fold: 4\n",
      "CV error:3.646159631483243\n",
      "fold: 0\n",
      "fold: 1\n",
      "fold: 2\n",
      "fold: 3\n",
      "fold: 4\n",
      "CV error:3.6442784344667443\n",
      "fold: 0\n",
      "fold: 1\n",
      "fold: 2\n",
      "fold: 3\n",
      "fold: 4\n",
      "CV error:3.6452916085900755\n",
      "fold: 0\n",
      "fold: 1\n",
      "fold: 2\n",
      "fold: 3\n",
      "fold: 4\n",
      "CV error:3.645417969834753\n",
      "fold: 0\n",
      "fold: 1\n",
      "fold: 2\n",
      "fold: 3\n",
      "fold: 4\n",
      "CV error:3.646740599987284\n",
      "fold: 0\n",
      "fold: 1\n",
      "fold: 2\n",
      "fold: 3\n",
      "fold: 4\n",
      "CV error:3.646282534084456\n",
      "fold: 0\n",
      "fold: 1\n",
      "fold: 2\n",
      "fold: 3\n",
      "fold: 4\n",
      "CV error:3.6465582538616137\n",
      "fold: 0\n",
      "fold: 1\n",
      "fold: 2\n",
      "fold: 3\n",
      "fold: 4\n",
      "CV error:3.6457582662471144\n",
      "fold: 0\n",
      "fold: 1\n",
      "fold: 2\n",
      "fold: 3\n",
      "fold: 4\n",
      "CV error:3.645815228770939\n",
      "fold: 0\n",
      "fold: 1\n",
      "fold: 2\n",
      "fold: 3\n",
      "fold: 4\n",
      "CV error:3.6463417390203885\n",
      "fold: 0\n",
      "fold: 1\n",
      "fold: 2\n",
      "fold: 3\n",
      "fold: 4\n",
      "CV error:3.6460689977113416\n",
      "fold: 0\n",
      "fold: 1\n",
      "fold: 2\n",
      "fold: 3\n",
      "fold: 4\n",
      "CV error:3.645292372747774\n",
      "fold: 0\n",
      "fold: 1\n",
      "fold: 2\n",
      "fold: 3\n",
      "fold: 4\n",
      "CV error:3.6459654964077717\n",
      "fold: 0\n",
      "fold: 1\n",
      "fold: 2\n",
      "fold: 3\n",
      "fold: 4\n",
      "CV error:3.6445318453630655\n",
      "fold: 0\n",
      "fold: 1\n",
      "fold: 2\n",
      "fold: 3\n",
      "fold: 4\n",
      "CV error:3.6457652981567783\n",
      "fold: 0\n",
      "fold: 1\n",
      "fold: 2\n",
      "fold: 3\n",
      "fold: 4\n",
      "CV error:3.645778701399539\n",
      "fold: 0\n",
      "fold: 1\n",
      "fold: 2\n",
      "fold: 3\n",
      "fold: 4\n",
      "CV error:3.646808113150002\n",
      "fold: 0\n",
      "fold: 1\n",
      "fold: 2\n",
      "fold: 3\n",
      "fold: 4\n",
      "CV error:3.64536613892874\n",
      "fold: 0\n",
      "fold: 1\n",
      "fold: 2\n",
      "fold: 3\n",
      "fold: 4\n",
      "CV error:3.6462052325225436\n",
      "fold: 0\n",
      "fold: 1\n",
      "fold: 2\n",
      "fold: 3\n",
      "fold: 4\n",
      "CV error:3.644997504992113\n",
      "fold: 0\n",
      "fold: 1\n",
      "fold: 2\n",
      "fold: 3\n",
      "fold: 4\n"
     ]
    },
    {
     "ename": "KeyboardInterrupt",
     "evalue": "",
     "output_type": "error",
     "traceback": [
      "\u001b[1;31m---------------------------------------------------------------------------\u001b[0m",
      "\u001b[1;31mKeyboardInterrupt\u001b[0m                         Traceback (most recent call last)",
      "\u001b[1;32m<ipython-input-81-73d6af0f945e>\u001b[0m in \u001b[0;36m<module>\u001b[1;34m()\u001b[0m\n\u001b[0;32m      6\u001b[0m \u001b[1;32mfor\u001b[0m \u001b[0mi\u001b[0m \u001b[1;32min\u001b[0m \u001b[0mrange\u001b[0m\u001b[1;33m(\u001b[0m\u001b[0mlen\u001b[0m\u001b[1;33m(\u001b[0m\u001b[0mdf_train_columns\u001b[0m\u001b[1;33m)\u001b[0m\u001b[1;33m)\u001b[0m\u001b[1;33m:\u001b[0m\u001b[1;33m\u001b[0m\u001b[0m\n\u001b[0;32m      7\u001b[0m     \u001b[1;32mdel\u001b[0m \u001b[0mselected_columns\u001b[0m\u001b[1;33m[\u001b[0m\u001b[0mi\u001b[0m\u001b[1;33m]\u001b[0m\u001b[1;33m\u001b[0m\u001b[0m\n\u001b[1;32m----> 8\u001b[1;33m     \u001b[0m_\u001b[0m\u001b[1;33m,\u001b[0m\u001b[0m_\u001b[0m\u001b[1;33m,\u001b[0m \u001b[0mrmse\u001b[0m\u001b[1;33m=\u001b[0m\u001b[0mlgb_oof\u001b[0m\u001b[1;33m(\u001b[0m\u001b[0mparam_gpu\u001b[0m\u001b[1;33m,\u001b[0m \u001b[0mdf_train\u001b[0m\u001b[1;33m,\u001b[0m\u001b[0mselected_columns\u001b[0m\u001b[1;33m.\u001b[0m\u001b[0mtolist\u001b[0m\u001b[1;33m(\u001b[0m\u001b[1;33m)\u001b[0m\u001b[1;33m,\u001b[0m\u001b[0mdf_test\u001b[0m\u001b[1;33m,\u001b[0m\u001b[0mverbose\u001b[0m\u001b[1;33m=\u001b[0m\u001b[1;32mFalse\u001b[0m\u001b[1;33m)\u001b[0m\u001b[1;33m\u001b[0m\u001b[0m\n\u001b[0m\u001b[0;32m      9\u001b[0m     \u001b[1;32mif\u001b[0m \u001b[0mrmse\u001b[0m\u001b[1;33m<\u001b[0m\u001b[0mbest_score\u001b[0m\u001b[1;33m:\u001b[0m\u001b[1;33m\u001b[0m\u001b[0m\n\u001b[0;32m     10\u001b[0m         \u001b[0mprint\u001b[0m\u001b[1;33m(\u001b[0m\u001b[0mdf_train_columns\u001b[0m\u001b[1;33m[\u001b[0m\u001b[0mi\u001b[0m\u001b[1;33m]\u001b[0m\u001b[1;33m)\u001b[0m\u001b[1;33m\u001b[0m\u001b[0m\n",
      "\u001b[1;32m<ipython-input-32-62f4617404c2>\u001b[0m in \u001b[0;36mlgb_oof\u001b[1;34m(param, data, features, test, verbose)\u001b[0m\n\u001b[0;32m      7\u001b[0m         \u001b[0mtrn_data\u001b[0m \u001b[1;33m=\u001b[0m \u001b[0mlgb\u001b[0m\u001b[1;33m.\u001b[0m\u001b[0mDataset\u001b[0m\u001b[1;33m(\u001b[0m\u001b[0mdata\u001b[0m\u001b[1;33m[\u001b[0m\u001b[0mfeatures\u001b[0m\u001b[1;33m]\u001b[0m\u001b[1;33m.\u001b[0m\u001b[0miloc\u001b[0m\u001b[1;33m[\u001b[0m\u001b[0mtrn_idx\u001b[0m\u001b[1;33m]\u001b[0m\u001b[1;33m,\u001b[0m \u001b[0mlabel\u001b[0m\u001b[1;33m=\u001b[0m\u001b[0mtarget\u001b[0m\u001b[1;33m.\u001b[0m\u001b[0miloc\u001b[0m\u001b[1;33m[\u001b[0m\u001b[0mtrn_idx\u001b[0m\u001b[1;33m]\u001b[0m\u001b[1;33m)\u001b[0m\u001b[1;33m\u001b[0m\u001b[0m\n\u001b[0;32m      8\u001b[0m         \u001b[0mval_data\u001b[0m \u001b[1;33m=\u001b[0m \u001b[0mlgb\u001b[0m\u001b[1;33m.\u001b[0m\u001b[0mDataset\u001b[0m\u001b[1;33m(\u001b[0m\u001b[0mdata\u001b[0m\u001b[1;33m[\u001b[0m\u001b[0mfeatures\u001b[0m\u001b[1;33m]\u001b[0m\u001b[1;33m.\u001b[0m\u001b[0miloc\u001b[0m\u001b[1;33m[\u001b[0m\u001b[0mval_idx\u001b[0m\u001b[1;33m]\u001b[0m\u001b[1;33m,\u001b[0m \u001b[0mlabel\u001b[0m\u001b[1;33m=\u001b[0m\u001b[0mtarget\u001b[0m\u001b[1;33m.\u001b[0m\u001b[0miloc\u001b[0m\u001b[1;33m[\u001b[0m\u001b[0mval_idx\u001b[0m\u001b[1;33m]\u001b[0m\u001b[1;33m)\u001b[0m\u001b[1;33m\u001b[0m\u001b[0m\n\u001b[1;32m----> 9\u001b[1;33m         \u001b[0mclf\u001b[0m \u001b[1;33m=\u001b[0m \u001b[0mlgb\u001b[0m\u001b[1;33m.\u001b[0m\u001b[0mtrain\u001b[0m\u001b[1;33m(\u001b[0m\u001b[0mparam\u001b[0m\u001b[1;33m,\u001b[0m \u001b[0mtrn_data\u001b[0m\u001b[1;33m,\u001b[0m \u001b[1;36m10000\u001b[0m\u001b[1;33m,\u001b[0m \u001b[0mvalid_sets\u001b[0m\u001b[1;33m=\u001b[0m\u001b[1;33m[\u001b[0m\u001b[0mtrn_data\u001b[0m\u001b[1;33m,\u001b[0m \u001b[0mval_data\u001b[0m\u001b[1;33m]\u001b[0m\u001b[1;33m,\u001b[0m \u001b[0mverbose_eval\u001b[0m\u001b[1;33m=\u001b[0m\u001b[0mverbose\u001b[0m\u001b[1;33m,\u001b[0m \u001b[0mearly_stopping_rounds\u001b[0m\u001b[1;33m=\u001b[0m\u001b[1;36m400\u001b[0m\u001b[1;33m)\u001b[0m\u001b[1;33m\u001b[0m\u001b[0m\n\u001b[0m\u001b[0;32m     10\u001b[0m         \u001b[0moof\u001b[0m\u001b[1;33m[\u001b[0m\u001b[0mval_idx\u001b[0m\u001b[1;33m]\u001b[0m \u001b[1;33m=\u001b[0m \u001b[0mclf\u001b[0m\u001b[1;33m.\u001b[0m\u001b[0mpredict\u001b[0m\u001b[1;33m(\u001b[0m\u001b[0mdata\u001b[0m\u001b[1;33m[\u001b[0m\u001b[0mfeatures\u001b[0m\u001b[1;33m]\u001b[0m\u001b[1;33m.\u001b[0m\u001b[0miloc\u001b[0m\u001b[1;33m[\u001b[0m\u001b[0mval_idx\u001b[0m\u001b[1;33m]\u001b[0m\u001b[1;33m,\u001b[0m \u001b[0mnum_iteration\u001b[0m\u001b[1;33m=\u001b[0m\u001b[0mclf\u001b[0m\u001b[1;33m.\u001b[0m\u001b[0mbest_iteration\u001b[0m\u001b[1;33m)\u001b[0m\u001b[1;33m\u001b[0m\u001b[0m\n\u001b[0;32m     11\u001b[0m         \u001b[0mpredictions\u001b[0m\u001b[1;33m+=\u001b[0m\u001b[0mclf\u001b[0m\u001b[1;33m.\u001b[0m\u001b[0mpredict\u001b[0m\u001b[1;33m(\u001b[0m\u001b[0mtest\u001b[0m\u001b[1;33m[\u001b[0m\u001b[0mfeatures\u001b[0m\u001b[1;33m]\u001b[0m\u001b[1;33m,\u001b[0m\u001b[0mnum_iteration\u001b[0m\u001b[1;33m=\u001b[0m\u001b[0mclf\u001b[0m\u001b[1;33m.\u001b[0m\u001b[0mbest_iteration\u001b[0m\u001b[1;33m)\u001b[0m\u001b[1;33m/\u001b[0m\u001b[0mfolds\u001b[0m\u001b[1;33m.\u001b[0m\u001b[0mn_splits\u001b[0m\u001b[1;33m\u001b[0m\u001b[0m\n",
      "\u001b[1;32m~\\Anaconda3\\lib\\site-packages\\lightgbm\\engine.py\u001b[0m in \u001b[0;36mtrain\u001b[1;34m(params, train_set, num_boost_round, valid_sets, valid_names, fobj, feval, init_model, feature_name, categorical_feature, early_stopping_rounds, evals_result, verbose_eval, learning_rates, keep_training_booster, callbacks)\u001b[0m\n\u001b[0;32m    214\u001b[0m                                     evaluation_result_list=None))\n\u001b[0;32m    215\u001b[0m \u001b[1;33m\u001b[0m\u001b[0m\n\u001b[1;32m--> 216\u001b[1;33m         \u001b[0mbooster\u001b[0m\u001b[1;33m.\u001b[0m\u001b[0mupdate\u001b[0m\u001b[1;33m(\u001b[0m\u001b[0mfobj\u001b[0m\u001b[1;33m=\u001b[0m\u001b[0mfobj\u001b[0m\u001b[1;33m)\u001b[0m\u001b[1;33m\u001b[0m\u001b[0m\n\u001b[0m\u001b[0;32m    217\u001b[0m \u001b[1;33m\u001b[0m\u001b[0m\n\u001b[0;32m    218\u001b[0m         \u001b[0mevaluation_result_list\u001b[0m \u001b[1;33m=\u001b[0m \u001b[1;33m[\u001b[0m\u001b[1;33m]\u001b[0m\u001b[1;33m\u001b[0m\u001b[0m\n",
      "\u001b[1;32m~\\Anaconda3\\lib\\site-packages\\lightgbm\\basic.py\u001b[0m in \u001b[0;36mupdate\u001b[1;34m(self, train_set, fobj)\u001b[0m\n\u001b[0;32m   1783\u001b[0m             _safe_call(_LIB.LGBM_BoosterUpdateOneIter(\n\u001b[0;32m   1784\u001b[0m                 \u001b[0mself\u001b[0m\u001b[1;33m.\u001b[0m\u001b[0mhandle\u001b[0m\u001b[1;33m,\u001b[0m\u001b[1;33m\u001b[0m\u001b[0m\n\u001b[1;32m-> 1785\u001b[1;33m                 ctypes.byref(is_finished)))\n\u001b[0m\u001b[0;32m   1786\u001b[0m             \u001b[0mself\u001b[0m\u001b[1;33m.\u001b[0m\u001b[0m__is_predicted_cur_iter\u001b[0m \u001b[1;33m=\u001b[0m \u001b[1;33m[\u001b[0m\u001b[1;32mFalse\u001b[0m \u001b[1;32mfor\u001b[0m \u001b[0m_\u001b[0m \u001b[1;32min\u001b[0m \u001b[0mrange_\u001b[0m\u001b[1;33m(\u001b[0m\u001b[0mself\u001b[0m\u001b[1;33m.\u001b[0m\u001b[0m__num_dataset\u001b[0m\u001b[1;33m)\u001b[0m\u001b[1;33m]\u001b[0m\u001b[1;33m\u001b[0m\u001b[0m\n\u001b[0;32m   1787\u001b[0m             \u001b[1;32mreturn\u001b[0m \u001b[0mis_finished\u001b[0m\u001b[1;33m.\u001b[0m\u001b[0mvalue\u001b[0m \u001b[1;33m==\u001b[0m \u001b[1;36m1\u001b[0m\u001b[1;33m\u001b[0m\u001b[0m\n",
      "\u001b[1;31mKeyboardInterrupt\u001b[0m: "
     ]
    }
   ],
   "source": [
    "# Best score is for all features\n",
    "best_score=3.6454452777835527\n",
    "# copy features\n",
    "selected_columns=pd.Series(df_train_columns[:])\n",
    "removed_features=[]\n",
    "for i in range(len(df_train_columns)):\n",
    "    del selected_columns[i]\n",
    "    _,_, rmse=lgb_oof(param_gpu, df_train,selected_columns.tolist(),df_test,verbose=False)\n",
    "    if rmse<best_score:\n",
    "        print(df_train_columns[i])\n",
    "        best_score=rmse\n",
    "        removed_features.append(df_train_columns[i])\n",
    "    else:\n",
    "        selected_columns[i]=df_train_columns[i]\n",
    "        \n",
    "    \n",
    "    \n"
   ]
  },
  {
   "cell_type": "code",
   "execution_count": 87,
   "metadata": {
    "scrolled": true
   },
   "outputs": [
    {
     "data": {
      "text/plain": [
       "(152, 3.6436509929208847)"
      ]
     },
     "execution_count": 87,
     "metadata": {},
     "output_type": "execute_result"
    }
   ],
   "source": [
    "i,best_score"
   ]
  },
  {
   "cell_type": "code",
   "execution_count": 84,
   "metadata": {},
   "outputs": [
    {
     "data": {
      "text/plain": [
       "265"
      ]
     },
     "execution_count": 84,
     "metadata": {},
     "output_type": "execute_result"
    }
   ],
   "source": [
    "len(df_train_columns)"
   ]
  },
  {
   "cell_type": "code",
   "execution_count": 85,
   "metadata": {},
   "outputs": [
    {
     "data": {
      "text/plain": [
       "['feature_3', 'auth_flag_authorized_flag_mean']"
      ]
     },
     "execution_count": 85,
     "metadata": {},
     "output_type": "execute_result"
    }
   ],
   "source": [
    "# only 2 features are removed out of 152 \n",
    "# it seems like bad idea\n",
    "removed_features"
   ]
  },
  {
   "cell_type": "code",
   "execution_count": 89,
   "metadata": {},
   "outputs": [],
   "source": [
    "col=df_train_columns[:]\n",
    "col.remove('feature_3')\n",
    "col.remove('auth_flag_authorized_flag_mean')"
   ]
  },
  {
   "cell_type": "code",
   "execution_count": 91,
   "metadata": {},
   "outputs": [
    {
     "name": "stdout",
     "output_type": "stream",
     "text": [
      "fold: 0\n",
      "Training until validation scores don't improve for 400 rounds.\n",
      "[200]\ttraining's rmse: 3.55405\tvalid_1's rmse: 3.6772\n",
      "[400]\ttraining's rmse: 3.4568\tvalid_1's rmse: 3.66017\n",
      "[600]\ttraining's rmse: 3.39419\tvalid_1's rmse: 3.65471\n",
      "[800]\ttraining's rmse: 3.34465\tvalid_1's rmse: 3.65319\n",
      "[1000]\ttraining's rmse: 3.30227\tvalid_1's rmse: 3.65228\n",
      "[1200]\ttraining's rmse: 3.2638\tvalid_1's rmse: 3.65157\n",
      "[1400]\ttraining's rmse: 3.22848\tvalid_1's rmse: 3.65162\n",
      "[1600]\ttraining's rmse: 3.1946\tvalid_1's rmse: 3.65185\n",
      "Early stopping, best iteration is:\n",
      "[1286]\ttraining's rmse: 3.24849\tvalid_1's rmse: 3.65135\n",
      "fold: 1\n",
      "Training until validation scores don't improve for 400 rounds.\n",
      "[200]\ttraining's rmse: 3.55165\tvalid_1's rmse: 3.68271\n",
      "[400]\ttraining's rmse: 3.45511\tvalid_1's rmse: 3.66184\n",
      "[600]\ttraining's rmse: 3.39366\tvalid_1's rmse: 3.65395\n",
      "[800]\ttraining's rmse: 3.34558\tvalid_1's rmse: 3.65087\n",
      "[1000]\ttraining's rmse: 3.30214\tvalid_1's rmse: 3.64993\n",
      "[1200]\ttraining's rmse: 3.2634\tvalid_1's rmse: 3.6489\n",
      "[1400]\ttraining's rmse: 3.22855\tvalid_1's rmse: 3.64899\n",
      "[1600]\ttraining's rmse: 3.19392\tvalid_1's rmse: 3.64967\n",
      "Early stopping, best iteration is:\n",
      "[1277]\ttraining's rmse: 3.24997\tvalid_1's rmse: 3.64862\n",
      "fold: 2\n",
      "Training until validation scores don't improve for 400 rounds.\n",
      "[200]\ttraining's rmse: 3.54741\tvalid_1's rmse: 3.69345\n",
      "[400]\ttraining's rmse: 3.45095\tvalid_1's rmse: 3.67472\n",
      "[600]\ttraining's rmse: 3.38756\tvalid_1's rmse: 3.66915\n",
      "[800]\ttraining's rmse: 3.33968\tvalid_1's rmse: 3.66732\n",
      "[1000]\ttraining's rmse: 3.29821\tvalid_1's rmse: 3.66642\n",
      "[1200]\ttraining's rmse: 3.25981\tvalid_1's rmse: 3.66633\n",
      "[1400]\ttraining's rmse: 3.22384\tvalid_1's rmse: 3.66668\n",
      "Early stopping, best iteration is:\n",
      "[1040]\ttraining's rmse: 3.2905\tvalid_1's rmse: 3.66603\n",
      "fold: 3\n",
      "Training until validation scores don't improve for 400 rounds.\n",
      "[200]\ttraining's rmse: 3.5599\tvalid_1's rmse: 3.66808\n",
      "[400]\ttraining's rmse: 3.46796\tvalid_1's rmse: 3.64315\n",
      "[600]\ttraining's rmse: 3.40605\tvalid_1's rmse: 3.63284\n",
      "[800]\ttraining's rmse: 3.35776\tvalid_1's rmse: 3.62819\n",
      "[1000]\ttraining's rmse: 3.31439\tvalid_1's rmse: 3.62553\n",
      "[1200]\ttraining's rmse: 3.27673\tvalid_1's rmse: 3.62449\n",
      "[1400]\ttraining's rmse: 3.23965\tvalid_1's rmse: 3.62382\n",
      "[1600]\ttraining's rmse: 3.20618\tvalid_1's rmse: 3.62306\n",
      "[1800]\ttraining's rmse: 3.17495\tvalid_1's rmse: 3.62326\n",
      "[2000]\ttraining's rmse: 3.14415\tvalid_1's rmse: 3.62345\n",
      "Early stopping, best iteration is:\n",
      "[1631]\ttraining's rmse: 3.20165\tvalid_1's rmse: 3.62296\n",
      "fold: 4\n",
      "Training until validation scores don't improve for 400 rounds.\n",
      "[200]\ttraining's rmse: 3.55601\tvalid_1's rmse: 3.67501\n",
      "[400]\ttraining's rmse: 3.46053\tvalid_1's rmse: 3.65378\n",
      "[600]\ttraining's rmse: 3.39758\tvalid_1's rmse: 3.64574\n",
      "[800]\ttraining's rmse: 3.34738\tvalid_1's rmse: 3.64251\n",
      "[1000]\ttraining's rmse: 3.30632\tvalid_1's rmse: 3.64086\n",
      "[1200]\ttraining's rmse: 3.26925\tvalid_1's rmse: 3.6406\n",
      "[1400]\ttraining's rmse: 3.23351\tvalid_1's rmse: 3.64002\n",
      "[1600]\ttraining's rmse: 3.20025\tvalid_1's rmse: 3.63948\n",
      "[1800]\ttraining's rmse: 3.16896\tvalid_1's rmse: 3.63952\n",
      "[2000]\ttraining's rmse: 3.1386\tvalid_1's rmse: 3.63917\n",
      "[2200]\ttraining's rmse: 3.10751\tvalid_1's rmse: 3.63881\n",
      "[2400]\ttraining's rmse: 3.07789\tvalid_1's rmse: 3.63906\n",
      "[2600]\ttraining's rmse: 3.04987\tvalid_1's rmse: 3.6398\n",
      "Early stopping, best iteration is:\n",
      "[2203]\ttraining's rmse: 3.10704\tvalid_1's rmse: 3.63877\n",
      "CV error:3.6455723068391896\n"
     ]
    }
   ],
   "source": [
    "# When both of the features removed results is getting worser\n",
    "predictions,oof, rmse=lgb_oof(param_gpu, df_train,col,df_test,verbose=200)"
   ]
  },
  {
   "cell_type": "code",
   "execution_count": 124,
   "metadata": {},
   "outputs": [],
   "source": [
    "param_gpu_rf=param_gpu.copy()\n",
    "param_gpu_rf['boosting']='rf'"
   ]
  },
  {
   "cell_type": "code",
   "execution_count": 142,
   "metadata": {},
   "outputs": [],
   "source": [
    "param_gpu_rf2={'bagging_fraction': 0.9,\n",
    " 'bagging_freq': 1,\n",
    " 'bagging_seed': 42,\n",
    " 'boosting': 'rf',\n",
    " 'device': 'gpu',\n",
    " 'feature_fraction': 0.9,\n",
    " 'gpu_use_dp': True,\n",
    " 'lambda_l1': 0.1,\n",
    " 'learning_rate': 0.01,\n",
    " 'max_depth': -1,\n",
    " 'metric': 'rmse',\n",
    " 'nthread': 0,\n",
    " 'num_leaves': 300,\n",
    " 'objective': 'regression',\n",
    " 'random_state': 4950,\n",
    " 'verbosity': -1}"
   ]
  },
  {
   "cell_type": "code",
   "execution_count": 143,
   "metadata": {
    "scrolled": true
   },
   "outputs": [
    {
     "name": "stdout",
     "output_type": "stream",
     "text": [
      "fold: 0\n",
      "Training until validation scores don't improve for 400 rounds.\n",
      "[200]\ttraining's rmse: 3.27606\tvalid_1's rmse: 3.68141\n",
      "[400]\ttraining's rmse: 3.27526\tvalid_1's rmse: 3.68113\n",
      "Early stopping, best iteration is:\n",
      "[132]\ttraining's rmse: 3.27607\tvalid_1's rmse: 3.67973\n",
      "fold: 1\n",
      "Training until validation scores don't improve for 400 rounds.\n",
      "[200]\ttraining's rmse: 3.27072\tvalid_1's rmse: 3.69073\n",
      "[400]\ttraining's rmse: 3.27031\tvalid_1's rmse: 3.69091\n",
      "Early stopping, best iteration is:\n",
      "[147]\ttraining's rmse: 3.27041\tvalid_1's rmse: 3.68982\n",
      "fold: 2\n",
      "Training until validation scores don't improve for 400 rounds.\n",
      "[200]\ttraining's rmse: 3.27262\tvalid_1's rmse: 3.69933\n",
      "[400]\ttraining's rmse: 3.27297\tvalid_1's rmse: 3.69865\n",
      "Early stopping, best iteration is:\n",
      "[89]\ttraining's rmse: 3.27244\tvalid_1's rmse: 3.70221\n",
      "fold: 3\n",
      "Training until validation scores don't improve for 400 rounds.\n",
      "[200]\ttraining's rmse: 3.27801\tvalid_1's rmse: 3.66351\n",
      "[400]\ttraining's rmse: 3.27716\tvalid_1's rmse: 3.66313\n",
      "Early stopping, best iteration is:\n",
      "[101]\ttraining's rmse: 3.27867\tvalid_1's rmse: 3.66163\n",
      "fold: 4\n",
      "Training until validation scores don't improve for 400 rounds.\n",
      "[200]\ttraining's rmse: 3.27866\tvalid_1's rmse: 3.67172\n",
      "[400]\ttraining's rmse: 3.27928\tvalid_1's rmse: 3.67215\n",
      "Early stopping, best iteration is:\n",
      "[132]\ttraining's rmse: 3.27849\tvalid_1's rmse: 3.67151\n",
      "CV error:3.6810078737662955\n"
     ]
    }
   ],
   "source": [
    "predictions,oof, rmse=lgb_oof(param_gpu_rf2, df_train,df_train_columns,df_test,verbose=200)"
   ]
  },
  {
   "cell_type": "code",
   "execution_count": 113,
   "metadata": {
    "scrolled": true
   },
   "outputs": [
    {
     "name": "stdout",
     "output_type": "stream",
     "text": [
      "wangs_features_param_rf.csv file saved\n"
     ]
    }
   ],
   "source": [
    "# CV:3.648\n",
    "#LB: 3.678\n",
    "submission('wangs_features_param_rf.csv',predictions)"
   ]
  },
  {
   "cell_type": "code",
   "execution_count": 144,
   "metadata": {
    "scrolled": true
   },
   "outputs": [
    {
     "data": {
      "image/png": "[encoded data removed]",
      "text/plain": [
       "<matplotlib.figure.Figure at 0x1a1117bbd68>"
      ]
     },
     "metadata": {},
     "output_type": "display_data"
    }
   ],
   "source": [
    "plt.figure()\n",
    "plt.hist(predictions,bins=20)\n",
    "plt.yscale('log')"
   ]
  },
  {
   "cell_type": "code",
   "execution_count": null,
   "metadata": {},
   "outputs": [],
   "source": [
    "param_gpu_rf={\n",
    " 'device': 'gpu',\n",
    " 'gpu_use_dp': True,\n",
    " 'learning_rate': 0.01,\n",
    " 'max_depth': -1,\n",
    " 'metric': 'rmse',\n",
    " 'nthread': 0,\n",
    " 'num_leaves': 31,\n",
    " 'objective': 'regression',\n",
    " 'random_state': 4950,\n",
    " 'verbosity': -1}"
   ]
  },
  {
   "cell_type": "code",
   "execution_count": 107,
   "metadata": {},
   "outputs": [
    {
     "data": {
      "text/plain": [
       "{'bagging_fraction': 0.9,\n",
       " 'bagging_freq': 1,\n",
       " 'bagging_seed': 42,\n",
       " 'boosting': 'gbdt',\n",
       " 'device': 'gpu',\n",
       " 'feature_fraction': 0.9,\n",
       " 'gpu_use_dp': True,\n",
       " 'lambda_l1': 0.1,\n",
       " 'learning_rate': 0.01,\n",
       " 'max_depth': -1,\n",
       " 'metric': 'rmse',\n",
       " 'min_child_samples': 20,\n",
       " 'min_data_in_leaf': 32,\n",
       " 'nthread': 0,\n",
       " 'num_leaves': 31,\n",
       " 'objective': 'regression',\n",
       " 'random_state': 4950,\n",
       " 'verbosity': -1}"
      ]
     },
     "execution_count": 107,
     "metadata": {},
     "output_type": "execute_result"
    }
   ],
   "source": [
    "param_gpu"
   ]
  },
  {
   "cell_type": "code",
   "execution_count": 110,
   "metadata": {},
   "outputs": [
    {
     "name": "stdout",
     "output_type": "stream",
     "text": [
      "fold: 0\n",
      "Training until validation scores don't improve for 400 rounds.\n",
      "[200]\ttraining's rmse: 9.20881e+07\tvalid_1's rmse: 9.13918e+07\n",
      "[400]\ttraining's rmse: 1.39362e+07\tvalid_1's rmse: 1.38259e+07\n",
      "Early stopping, best iteration is:\n",
      "[100]\ttraining's rmse: 3.64605\tvalid_1's rmse: 3.70995\n",
      "fold: 1\n",
      "Training until validation scores don't improve for 400 rounds.\n",
      "[200]\ttraining's rmse: 5.25292e+23\tvalid_1's rmse: 5.20078e+23\n",
      "[400]\ttraining's rmse: 7.56395e+22\tvalid_1's rmse: 7.59935e+22\n",
      "Early stopping, best iteration is:\n",
      "[100]\ttraining's rmse: 3.6447\tvalid_1's rmse: 3.71662\n",
      "fold: 2\n",
      "Training until validation scores don't improve for 400 rounds.\n",
      "[200]\ttraining's rmse: 3.63117e+10\tvalid_1's rmse: 3.63146e+10\n",
      "[400]\ttraining's rmse: 5.10151e+09\tvalid_1's rmse: 5.04836e+09\n",
      "Early stopping, best iteration is:\n",
      "[100]\ttraining's rmse: 3.64303\tvalid_1's rmse: 3.72341\n",
      "fold: 3\n",
      "Training until validation scores don't improve for 400 rounds.\n",
      "[200]\ttraining's rmse: 39724.9\tvalid_1's rmse: 39838.8\n",
      "[400]\ttraining's rmse: 6015.42\tvalid_1's rmse: 6111.12\n",
      "Early stopping, best iteration is:\n",
      "[100]\ttraining's rmse: 3.65011\tvalid_1's rmse: 3.70792\n",
      "fold: 4\n",
      "Training until validation scores don't improve for 400 rounds.\n",
      "[200]\ttraining's rmse: 1.68155e+11\tvalid_1's rmse: 1.69687e+11\n",
      "[400]\ttraining's rmse: 2.361e+10\tvalid_1's rmse: 2.38536e+10\n",
      "Early stopping, best iteration is:\n",
      "[100]\ttraining's rmse: 3.64651\tvalid_1's rmse: 3.71052\n",
      "CV error:3.7136886806872793\n"
     ]
    }
   ],
   "source": [
    "param_gpu_goss=param_gpu.copy()\n",
    "del param_gpu_goss['bagging_fraction'],param_gpu_goss['bagging_freq'],param_gpu_goss['bagging_seed']\n",
    "param_gpu_goss['boosting']='goss'\n",
    "predictions,oof, rmse=lgb_oof(param_gpu_goss, df_train,df_train_columns,df_test,verbose=200)"
   ]
  },
  {
   "cell_type": "code",
   "execution_count": 103,
   "metadata": {},
   "outputs": [
    {
     "data": {
      "image/png": "[encoded data removed]",
      "text/plain": [
       "<matplotlib.figure.Figure at 0x1a0f9c8d908>"
      ]
     },
     "metadata": {},
     "output_type": "display_data"
    }
   ],
   "source": [
    "plt.figure()\n",
    "plt.hist(oof,bins=20)\n",
    "plt.yscale('log')"
   ]
  },
  {
   "cell_type": "markdown",
   "metadata": {},
   "source": [
    "# Let's upload Kim's results"
   ]
  },
  {
   "cell_type": "code",
   "execution_count": 149,
   "metadata": {},
   "outputs": [],
   "source": [
    "df_train_kim=pd.read_csv('../Kim solution/train_kim.csv')\n",
    "df_test_kim=pd.read_csv('../Kim solution/test_kim.csv')"
   ]
  },
  {
   "cell_type": "code",
   "execution_count": 153,
   "metadata": {},
   "outputs": [],
   "source": [
    "exclude_features = []\n",
    "exclude_features += ['card_id', 'first_active_month','target','outliers']\n",
    "df_train_columns_kim = [c for c in df_train_kim.columns if c not in exclude_features ]\n",
    "target = df_train['target']\n",
    "# del df_train['target']"
   ]
  },
  {
   "cell_type": "code",
   "execution_count": 159,
   "metadata": {},
   "outputs": [],
   "source": [
    "df_train_columns_ku=[]\n",
    "for feat in df_train_columns_kim:\n",
    "    if feat not in df_train_columns:\n",
    "        df_train_columns_ku.append(feat)\n",
    "        \n",
    "        \n",
    "        "
   ]
  },
  {
   "cell_type": "code",
   "execution_count": 161,
   "metadata": {},
   "outputs": [
    {
     "data": {
      "text/plain": [
       "89"
      ]
     },
     "execution_count": 161,
     "metadata": {},
     "output_type": "execute_result"
    }
   ],
   "source": [
    "len(df_train_columns_ku)"
   ]
  },
  {
   "cell_type": "code",
   "execution_count": 166,
   "metadata": {},
   "outputs": [
    {
     "data": {
      "text/plain": [
       "354"
      ]
     },
     "execution_count": 166,
     "metadata": {},
     "output_type": "execute_result"
    }
   ],
   "source": [
    "columns_all=df_train_columns+df_train_columns_ku\n",
    "len(columns_all)"
   ]
  },
  {
   "cell_type": "code",
   "execution_count": 164,
   "metadata": {},
   "outputs": [],
   "source": [
    "df_train_all=df_train.join(df_train_kim[df_train_columns_ku])\n",
    "df_test_all=df_test.join(df_test_kim[df_train_columns_ku])"
   ]
  },
  {
   "cell_type": "code",
   "execution_count": 167,
   "metadata": {},
   "outputs": [
    {
     "name": "stdout",
     "output_type": "stream",
     "text": [
      "fold: 0\n",
      "Training until validation scores don't improve for 400 rounds.\n",
      "[200]\ttraining's rmse: 3.53696\tvalid_1's rmse: 3.66663\n",
      "[400]\ttraining's rmse: 3.43634\tvalid_1's rmse: 3.64941\n",
      "[600]\ttraining's rmse: 3.37286\tvalid_1's rmse: 3.64568\n",
      "[800]\ttraining's rmse: 3.32224\tvalid_1's rmse: 3.64488\n",
      "[1000]\ttraining's rmse: 3.27711\tvalid_1's rmse: 3.64429\n",
      "[1200]\ttraining's rmse: 3.23719\tvalid_1's rmse: 3.6452\n",
      "Early stopping, best iteration is:\n",
      "[935]\ttraining's rmse: 3.29154\tvalid_1's rmse: 3.64399\n",
      "fold: 1\n",
      "Training until validation scores don't improve for 400 rounds.\n",
      "[200]\ttraining's rmse: 3.53377\tvalid_1's rmse: 3.6734\n",
      "[400]\ttraining's rmse: 3.43008\tvalid_1's rmse: 3.65287\n",
      "[600]\ttraining's rmse: 3.36619\tvalid_1's rmse: 3.64679\n",
      "[800]\ttraining's rmse: 3.31651\tvalid_1's rmse: 3.64537\n",
      "[1000]\ttraining's rmse: 3.27362\tvalid_1's rmse: 3.64481\n",
      "[1200]\ttraining's rmse: 3.23347\tvalid_1's rmse: 3.64485\n",
      "[1400]\ttraining's rmse: 3.19638\tvalid_1's rmse: 3.64565\n",
      "Early stopping, best iteration is:\n",
      "[1037]\ttraining's rmse: 3.26584\tvalid_1's rmse: 3.64452\n",
      "fold: 2\n",
      "Training until validation scores don't improve for 400 rounds.\n",
      "[200]\ttraining's rmse: 3.53321\tvalid_1's rmse: 3.68319\n",
      "[400]\ttraining's rmse: 3.43121\tvalid_1's rmse: 3.66438\n",
      "[600]\ttraining's rmse: 3.36784\tvalid_1's rmse: 3.65861\n",
      "[800]\ttraining's rmse: 3.31839\tvalid_1's rmse: 3.65682\n",
      "[1000]\ttraining's rmse: 3.27464\tvalid_1's rmse: 3.65595\n",
      "[1200]\ttraining's rmse: 3.23612\tvalid_1's rmse: 3.65603\n",
      "[1400]\ttraining's rmse: 3.19901\tvalid_1's rmse: 3.65663\n",
      "Early stopping, best iteration is:\n",
      "[1094]\ttraining's rmse: 3.25663\tvalid_1's rmse: 3.65569\n",
      "fold: 3\n",
      "Training until validation scores don't improve for 400 rounds.\n",
      "[200]\ttraining's rmse: 3.54438\tvalid_1's rmse: 3.65466\n",
      "[400]\ttraining's rmse: 3.44528\tvalid_1's rmse: 3.62869\n",
      "[600]\ttraining's rmse: 3.38217\tvalid_1's rmse: 3.6189\n",
      "[800]\ttraining's rmse: 3.33215\tvalid_1's rmse: 3.6152\n",
      "[1000]\ttraining's rmse: 3.28996\tvalid_1's rmse: 3.61385\n",
      "[1200]\ttraining's rmse: 3.25033\tvalid_1's rmse: 3.61285\n",
      "[1400]\ttraining's rmse: 3.21182\tvalid_1's rmse: 3.6127\n",
      "[1600]\ttraining's rmse: 3.17563\tvalid_1's rmse: 3.61266\n",
      "Early stopping, best iteration is:\n",
      "[1299]\ttraining's rmse: 3.23031\tvalid_1's rmse: 3.61236\n",
      "fold: 4\n",
      "Training until validation scores don't improve for 400 rounds.\n",
      "[200]\ttraining's rmse: 3.54049\tvalid_1's rmse: 3.66236\n",
      "[400]\ttraining's rmse: 3.43922\tvalid_1's rmse: 3.64101\n",
      "[600]\ttraining's rmse: 3.37595\tvalid_1's rmse: 3.63525\n",
      "[800]\ttraining's rmse: 3.32747\tvalid_1's rmse: 3.6336\n",
      "[1000]\ttraining's rmse: 3.28605\tvalid_1's rmse: 3.63344\n",
      "[1200]\ttraining's rmse: 3.24495\tvalid_1's rmse: 3.63262\n",
      "[1400]\ttraining's rmse: 3.2078\tvalid_1's rmse: 3.63347\n",
      "[1600]\ttraining's rmse: 3.17258\tvalid_1's rmse: 3.63252\n",
      "[1800]\ttraining's rmse: 3.13812\tvalid_1's rmse: 3.63319\n",
      "Early stopping, best iteration is:\n",
      "[1591]\ttraining's rmse: 3.1741\tvalid_1's rmse: 3.63238\n",
      "CV error:3.6378183214267246\n"
     ]
    }
   ],
   "source": [
    "predictions,oof, rmse=lgb_oof(param, df_train_all,columns_all,df_test_all,verbose=200)"
   ]
  },
  {
   "cell_type": "code",
   "execution_count": 168,
   "metadata": {},
   "outputs": [
    {
     "name": "stdout",
     "output_type": "stream",
     "text": [
      "wang_kim_combined.csv file saved\n"
     ]
    }
   ],
   "source": [
    "#LB:3.743\n",
    "submission('wang_kim_combined.csv',predictions)"
   ]
  },
  {
   "cell_type": "code",
   "execution_count": 169,
   "metadata": {},
   "outputs": [
    {
     "name": "stdout",
     "output_type": "stream",
     "text": [
      "fold: 0\n",
      "Training until validation scores don't improve for 400 rounds.\n",
      "[200]\ttraining's rmse: 3.55934\tvalid_1's rmse: 3.66117\n",
      "[400]\ttraining's rmse: 3.47324\tvalid_1's rmse: 3.64307\n",
      "[600]\ttraining's rmse: 3.41733\tvalid_1's rmse: 3.64\n",
      "[800]\ttraining's rmse: 3.37438\tvalid_1's rmse: 3.64036\n",
      "[1000]\ttraining's rmse: 3.33579\tvalid_1's rmse: 3.64103\n",
      "Early stopping, best iteration is:\n",
      "[628]\ttraining's rmse: 3.41153\tvalid_1's rmse: 3.63965\n",
      "fold: 1\n",
      "Training until validation scores don't improve for 400 rounds.\n",
      "[200]\ttraining's rmse: 3.55833\tvalid_1's rmse: 3.66825\n",
      "[400]\ttraining's rmse: 3.47094\tvalid_1's rmse: 3.64734\n",
      "[600]\ttraining's rmse: 3.41415\tvalid_1's rmse: 3.63968\n",
      "[800]\ttraining's rmse: 3.37173\tvalid_1's rmse: 3.63753\n",
      "[1000]\ttraining's rmse: 3.33416\tvalid_1's rmse: 3.63606\n",
      "[1200]\ttraining's rmse: 3.29942\tvalid_1's rmse: 3.6354\n",
      "[1400]\ttraining's rmse: 3.26621\tvalid_1's rmse: 3.63545\n",
      "[1600]\ttraining's rmse: 3.23542\tvalid_1's rmse: 3.63465\n",
      "[1800]\ttraining's rmse: 3.20607\tvalid_1's rmse: 3.63461\n",
      "[2000]\ttraining's rmse: 3.1775\tvalid_1's rmse: 3.63449\n",
      "Early stopping, best iteration is:\n",
      "[1661]\ttraining's rmse: 3.22637\tvalid_1's rmse: 3.63436\n",
      "fold: 2\n",
      "Training until validation scores don't improve for 400 rounds.\n",
      "[200]\ttraining's rmse: 3.55774\tvalid_1's rmse: 3.67364\n",
      "[400]\ttraining's rmse: 3.47177\tvalid_1's rmse: 3.65597\n",
      "[600]\ttraining's rmse: 3.41668\tvalid_1's rmse: 3.65029\n",
      "[800]\ttraining's rmse: 3.37255\tvalid_1's rmse: 3.64809\n",
      "[1000]\ttraining's rmse: 3.33577\tvalid_1's rmse: 3.64731\n",
      "[1200]\ttraining's rmse: 3.30166\tvalid_1's rmse: 3.64781\n",
      "[1400]\ttraining's rmse: 3.27174\tvalid_1's rmse: 3.64875\n",
      "Early stopping, best iteration is:\n",
      "[1000]\ttraining's rmse: 3.33577\tvalid_1's rmse: 3.64731\n",
      "fold: 3\n",
      "Training until validation scores don't improve for 400 rounds.\n",
      "[200]\ttraining's rmse: 3.56657\tvalid_1's rmse: 3.65705\n",
      "[400]\ttraining's rmse: 3.48247\tvalid_1's rmse: 3.62962\n",
      "[600]\ttraining's rmse: 3.4295\tvalid_1's rmse: 3.62089\n",
      "[800]\ttraining's rmse: 3.38757\tvalid_1's rmse: 3.61611\n",
      "[1000]\ttraining's rmse: 3.35121\tvalid_1's rmse: 3.61312\n",
      "[1200]\ttraining's rmse: 3.31655\tvalid_1's rmse: 3.61266\n",
      "[1400]\ttraining's rmse: 3.28474\tvalid_1's rmse: 3.6114\n",
      "[1600]\ttraining's rmse: 3.2537\tvalid_1's rmse: 3.61058\n",
      "[1800]\ttraining's rmse: 3.22436\tvalid_1's rmse: 3.61026\n",
      "[2000]\ttraining's rmse: 3.19586\tvalid_1's rmse: 3.61091\n",
      "[2200]\ttraining's rmse: 3.168\tvalid_1's rmse: 3.61101\n",
      "Early stopping, best iteration is:\n",
      "[1827]\ttraining's rmse: 3.22044\tvalid_1's rmse: 3.61007\n",
      "fold: 4\n",
      "Training until validation scores don't improve for 400 rounds.\n",
      "[200]\ttraining's rmse: 3.56241\tvalid_1's rmse: 3.66187\n",
      "[400]\ttraining's rmse: 3.47682\tvalid_1's rmse: 3.63975\n",
      "[600]\ttraining's rmse: 3.42172\tvalid_1's rmse: 3.6343\n",
      "[800]\ttraining's rmse: 3.3798\tvalid_1's rmse: 3.63251\n",
      "[1000]\ttraining's rmse: 3.34297\tvalid_1's rmse: 3.63172\n",
      "[1200]\ttraining's rmse: 3.30901\tvalid_1's rmse: 3.63159\n",
      "[1400]\ttraining's rmse: 3.27595\tvalid_1's rmse: 3.63174\n",
      "Early stopping, best iteration is:\n",
      "[1110]\ttraining's rmse: 3.32388\tvalid_1's rmse: 3.63113\n",
      "CV error:3.632525700736908\n"
     ]
    }
   ],
   "source": [
    "predictions,oof, rmse=lgb_oof(param, df_train_all,df_train_columns_kim,df_test_all,verbose=200)"
   ]
  },
  {
   "cell_type": "code",
   "execution_count": 170,
   "metadata": {},
   "outputs": [
    {
     "name": "stdout",
     "output_type": "stream",
     "text": [
      "kim_with_param.csv file saved\n"
     ]
    }
   ],
   "source": [
    "#LB:3.771\n",
    "submission('kim_with_param.csv',predictions)"
   ]
  },
  {
   "cell_type": "markdown",
   "metadata": {},
   "source": [
    "# Manual blending of best Adams 3.669 results with my fe_wang elimination"
   ]
  },
  {
   "cell_type": "code",
   "execution_count": 189,
   "metadata": {},
   "outputs": [],
   "source": [
    "df_adam=pd.read_csv('..\\wang_kim13_3.669.csv')"
   ]
  },
  {
   "cell_type": "code",
   "execution_count": 191,
   "metadata": {},
   "outputs": [],
   "source": [
    "df_fe_wang_mean=pd.read_csv('..\\wang_kernel\\mean_fe_wang_param.csv')"
   ]
  },
  {
   "cell_type": "code",
   "execution_count": 192,
   "metadata": {},
   "outputs": [
    {
     "ename": "NameError",
     "evalue": "name 'df_submission' is not defined",
     "output_type": "error",
     "traceback": [
      "\u001b[1;31m---------------------------------------------------------------------------\u001b[0m",
      "\u001b[1;31mNameError\u001b[0m                                 Traceback (most recent call last)",
      "\u001b[1;32m<ipython-input-192-0dd185346f44>\u001b[0m in \u001b[0;36m<module>\u001b[1;34m()\u001b[0m\n\u001b[1;32m----> 1\u001b[1;33m \u001b[0mdf_submission\u001b[0m\u001b[1;33m[\u001b[0m\u001b[1;34m'card_id'\u001b[0m\u001b[1;33m]\u001b[0m\u001b[1;33m=\u001b[0m\u001b[0mdf_adam\u001b[0m\u001b[1;33m.\u001b[0m\u001b[0mcard_id\u001b[0m\u001b[1;33m\u001b[0m\u001b[0m\n\u001b[0m",
      "\u001b[1;31mNameError\u001b[0m: name 'df_submission' is not defined"
     ]
    }
   ],
   "source": [
    "df_submisi\n",
    "df_submission['card_id']=df_adam.card_id"
   ]
  },
  {
   "cell_type": "code",
   "execution_count": null,
   "metadata": {},
   "outputs": [],
   "source": []
  },
  {
   "cell_type": "code",
   "execution_count": null,
   "metadata": {},
   "outputs": [],
   "source": []
  },
  {
   "cell_type": "code",
   "execution_count": 172,
   "metadata": {
    "scrolled": true
   },
   "outputs": [
    {
     "name": "stdout",
     "output_type": "stream",
     "text": [
      "<class 'pandas.core.frame.DataFrame'>\n",
      "RangeIndex: 201917 entries, 0 to 201916\n",
      "Data columns (total 90 columns):\n",
      "feature_1                                       201917 non-null int64\n",
      "feature_2                                       201917 non-null int64\n",
      "feature_3                                       201917 non-null int64\n",
      "his_month_lag_min                               201917 non-null int64\n",
      "tot_ca4_month_lag_min                           193890 non-null float64\n",
      "his_month_lag_max                               201917 non-null int64\n",
      "new_month_lag_max                               179986 non-null float64\n",
      "den_month_lag_max                               170958 non-null float64\n",
      "tot_ca4_month_lag_max                           193890 non-null float64\n",
      "tot_ca3_C_month_lag_max                         98577 non-null float64\n",
      "his_month_lag_mean                              201917 non-null float64\n",
      "new_month_lag_mean                              179986 non-null float64\n",
      "his_month_lag_median                            201917 non-null float64\n",
      "his_month_lag_nunique                           201917 non-null int64\n",
      "new_month_lag_nunique                           201917 non-null float64\n",
      "den_month_lag_nunique                           201917 non-null float64\n",
      "new_month_lag_std                               153199 non-null float64\n",
      "his_month_diff_mean                             201917 non-null float64\n",
      "month_rank_1_month_diff_mean                    201917 non-null float64\n",
      "his_purchase_date_min                           201917 non-null int64\n",
      "new_purchase_date_min                           179986 non-null float64\n",
      "his_purchase_date_max                           201917 non-null int64\n",
      "his_purchase_date_nunique                       201917 non-null int64\n",
      "new_purchase_date_nunique                       201917 non-null float64\n",
      "new_date_ratio                                  201917 non-null float64\n",
      "month_rank_1_purchase_date_nunique              201917 non-null int64\n",
      "his_month1_ca1_purchase_date_nunique            201917 non-null float64\n",
      "his_purchase_date_ptp                           201917 non-null int64\n",
      "new_purchase_date_ptp                           201917 non-null float64\n",
      "tot_purchase_date_ptp                           201917 non-null float64\n",
      "month_rank_1_purchase_date_ptp                  201917 non-null int64\n",
      "month_rank_2_purchase_date_ptp                  201917 non-null int64\n",
      "new_purchase_date_std                           153199 non-null float64\n",
      "obv_new_first_date_diff                         179986 non-null float64\n",
      "obv_new_last_date_diff                          179986 non-null float64\n",
      "new_purchase_amount_min                         179986 non-null float64\n",
      "his_purchase_amount_min                         201917 non-null float64\n",
      "new_purchase_amount_max                         179986 non-null float64\n",
      "his_purchase_amount_max                         201917 non-null float64\n",
      "month_rank_1_purchase_amount_max                201917 non-null float64\n",
      "his_month1_ca1_purchase_amount_max              45244 non-null float64\n",
      "new_amount_ratio                                201917 non-null float64\n",
      "his_purchase_amount_std                         201917 non-null float64\n",
      "his_clv                                         201917 non-null float64\n",
      "new_installments_max                            179986 non-null float64\n",
      "his_installments_max                            201917 non-null int64\n",
      "new_ca1_installments_max                        28222 non-null float64\n",
      "his_month1_ca1_installments_max                 45244 non-null float64\n",
      "new_installments_sum                            179986 non-null float64\n",
      "new_active_purchase_diff_max                    179986 non-null float64\n",
      "tot_category_1_mean                             201917 non-null float64\n",
      "new_category_1_mean                             201917 non-null float64\n",
      "his_month_lag_6_category_1_mean                 201917 non-null float64\n",
      "new_category_3_B_mean                           201917 non-null float64\n",
      "his_category_3_B_mean                           201917 non-null float64\n",
      "tot_merchant_id_nunique                         201917 non-null float64\n",
      "tot_merchant_id_nunique_mean                    201917 non-null float64\n",
      "den_merchant_id_nunique                         201917 non-null float64\n",
      "month_rank_1_merchant_id_nunique                201917 non-null int64\n",
      "new_ca1_merchant_id_nunique                     201917 non-null float64\n",
      "new_merchant_category_id_nunique                201917 non-null float64\n",
      "tot_merchant_category_id_nunique                201917 non-null int64\n",
      "his_month_lag_6_merchant_category_id_nunique    201917 non-null float64\n",
      "tot_merchant_group_id_nunique                   201917 non-null int64\n",
      "new_city_id_nunique                             201917 non-null float64\n",
      "new_ca1_city_id_nunique                         201917 non-null float64\n",
      "tot_category_4_mean                             201917 non-null float64\n",
      "month-13_purchase_date_nunique                  201917 non-null float64\n",
      "month-12_purchase_date_nunique                  201917 non-null float64\n",
      "month-11_purchase_date_nunique                  201917 non-null float64\n",
      "month-10_purchase_date_nunique                  201917 non-null float64\n",
      "month-9_purchase_date_nunique                   201917 non-null float64\n",
      "month-8_purchase_date_nunique                   201917 non-null float64\n",
      "month-7_purchase_date_nunique                   201917 non-null float64\n",
      "month-6_purchase_date_nunique                   201917 non-null float64\n",
      "month-5_purchase_date_nunique                   201917 non-null float64\n",
      "month-4_purchase_date_nunique                   201917 non-null float64\n",
      "month-3_purchase_date_nunique                   201917 non-null float64\n",
      "month-2_purchase_date_nunique                   201917 non-null float64\n",
      "month-1_purchase_date_nunique                   201917 non-null float64\n",
      "month0_purchase_date_nunique                    201917 non-null float64\n",
      "month1_purchase_date_nunique                    201917 non-null float64\n",
      "month2_purchase_date_nunique                    201917 non-null float64\n",
      "month2_merchant_id_nunique                      201917 non-null float64\n",
      "month_rank_1_card_id_count                      201917 non-null int64\n",
      "month1_card_id_count                            201917 non-null float64\n",
      "new_date_1_category_1_mean                      201917 non-null float64\n",
      "new_amount_rank1_purchase_date_min              179986 non-null float64\n",
      "category_2                                      201917 non-null int64\n",
      "subsector_id_rank_1                             201917 non-null int64\n",
      "dtypes: float64(70), int64(20)\n",
      "memory usage: 138.6 MB\n"
     ]
    }
   ],
   "source": [
    "df_train_all[df_train_columns_kim].info()"
   ]
  },
  {
   "cell_type": "code",
   "execution_count": 180,
   "metadata": {},
   "outputs": [
    {
     "data": {
      "text/plain": [
       "['feature_1', 'feature_2', 'feature_3', 'category_2', 'subsector_id_rank_1']"
      ]
     },
     "execution_count": 180,
     "metadata": {},
     "output_type": "execute_result"
    }
   ],
   "source": [
    "cat_cols = ['feature_1', 'feature_2', 'feature_3', 'category_2', 'category_3', 'state_id'\n",
    "            , 'subsector_id_rank_1', 'subsector_id_rank_2', 'subsector_id_rank_3'\n",
    "            , 'city_id', 'merchant_category_id']\n",
    "cat_cols = [col for col in cat_cols if col in df_train_all.columns]\n",
    "\n",
    "cat_cols"
   ]
  },
  {
   "cell_type": "code",
   "execution_count": 181,
   "metadata": {},
   "outputs": [],
   "source": [
    "for col in cat_cols:\n",
    "    df_train_all[col].astype('category')\n",
    "    df_test_all[col].astype('category')\n"
   ]
  },
  {
   "cell_type": "code",
   "execution_count": 188,
   "metadata": {},
   "outputs": [
    {
     "name": "stdout",
     "output_type": "stream",
     "text": [
      "fold: 0\n",
      "Training until validation scores don't improve for 400 rounds.\n",
      "[200]\ttraining's rmse: 3.55934\tvalid_1's rmse: 3.66117\n",
      "[400]\ttraining's rmse: 3.47324\tvalid_1's rmse: 3.64307\n",
      "[600]\ttraining's rmse: 3.41733\tvalid_1's rmse: 3.64\n",
      "[800]\ttraining's rmse: 3.37438\tvalid_1's rmse: 3.64036\n",
      "[1000]\ttraining's rmse: 3.33579\tvalid_1's rmse: 3.64103\n",
      "Early stopping, best iteration is:\n",
      "[628]\ttraining's rmse: 3.41153\tvalid_1's rmse: 3.63965\n",
      "fold: 1\n",
      "Training until validation scores don't improve for 400 rounds.\n",
      "[200]\ttraining's rmse: 3.55833\tvalid_1's rmse: 3.66825\n",
      "[400]\ttraining's rmse: 3.47094\tvalid_1's rmse: 3.64734\n",
      "[600]\ttraining's rmse: 3.41415\tvalid_1's rmse: 3.63968\n",
      "[800]\ttraining's rmse: 3.37173\tvalid_1's rmse: 3.63753\n",
      "[1000]\ttraining's rmse: 3.33416\tvalid_1's rmse: 3.63606\n",
      "[1200]\ttraining's rmse: 3.29942\tvalid_1's rmse: 3.6354\n",
      "[1400]\ttraining's rmse: 3.26621\tvalid_1's rmse: 3.63545\n",
      "[1600]\ttraining's rmse: 3.23542\tvalid_1's rmse: 3.63465\n",
      "[1800]\ttraining's rmse: 3.20607\tvalid_1's rmse: 3.63461\n",
      "[2000]\ttraining's rmse: 3.1775\tvalid_1's rmse: 3.63449\n",
      "Early stopping, best iteration is:\n",
      "[1661]\ttraining's rmse: 3.22637\tvalid_1's rmse: 3.63436\n",
      "fold: 2\n",
      "Training until validation scores don't improve for 400 rounds.\n",
      "[200]\ttraining's rmse: 3.55774\tvalid_1's rmse: 3.67364\n",
      "[400]\ttraining's rmse: 3.47177\tvalid_1's rmse: 3.65597\n",
      "[600]\ttraining's rmse: 3.41668\tvalid_1's rmse: 3.65029\n",
      "[800]\ttraining's rmse: 3.37255\tvalid_1's rmse: 3.64809\n",
      "[1000]\ttraining's rmse: 3.33577\tvalid_1's rmse: 3.64731\n",
      "[1200]\ttraining's rmse: 3.30166\tvalid_1's rmse: 3.64781\n",
      "[1400]\ttraining's rmse: 3.27174\tvalid_1's rmse: 3.64875\n",
      "Early stopping, best iteration is:\n",
      "[1000]\ttraining's rmse: 3.33577\tvalid_1's rmse: 3.64731\n",
      "fold: 3\n",
      "Training until validation scores don't improve for 400 rounds.\n",
      "[200]\ttraining's rmse: 3.56657\tvalid_1's rmse: 3.65705\n",
      "[400]\ttraining's rmse: 3.48247\tvalid_1's rmse: 3.62962\n",
      "[600]\ttraining's rmse: 3.4295\tvalid_1's rmse: 3.62089\n",
      "[800]\ttraining's rmse: 3.38757\tvalid_1's rmse: 3.61611\n",
      "[1000]\ttraining's rmse: 3.35121\tvalid_1's rmse: 3.61312\n",
      "[1200]\ttraining's rmse: 3.31655\tvalid_1's rmse: 3.61266\n",
      "[1400]\ttraining's rmse: 3.28474\tvalid_1's rmse: 3.6114\n",
      "[1600]\ttraining's rmse: 3.2537\tvalid_1's rmse: 3.61058\n",
      "[1800]\ttraining's rmse: 3.22436\tvalid_1's rmse: 3.61026\n",
      "[2000]\ttraining's rmse: 3.19586\tvalid_1's rmse: 3.61091\n",
      "[2200]\ttraining's rmse: 3.168\tvalid_1's rmse: 3.61101\n",
      "Early stopping, best iteration is:\n",
      "[1827]\ttraining's rmse: 3.22044\tvalid_1's rmse: 3.61007\n",
      "fold: 4\n",
      "Training until validation scores don't improve for 400 rounds.\n",
      "[200]\ttraining's rmse: 3.56241\tvalid_1's rmse: 3.66187\n",
      "[400]\ttraining's rmse: 3.47682\tvalid_1's rmse: 3.63975\n",
      "[600]\ttraining's rmse: 3.42172\tvalid_1's rmse: 3.6343\n",
      "[800]\ttraining's rmse: 3.3798\tvalid_1's rmse: 3.63251\n",
      "[1000]\ttraining's rmse: 3.34297\tvalid_1's rmse: 3.63172\n",
      "[1200]\ttraining's rmse: 3.30901\tvalid_1's rmse: 3.63159\n",
      "[1400]\ttraining's rmse: 3.27595\tvalid_1's rmse: 3.63174\n",
      "Early stopping, best iteration is:\n",
      "[1110]\ttraining's rmse: 3.32388\tvalid_1's rmse: 3.63113\n",
      "CV error:3.632525700736908\n"
     ]
    }
   ],
   "source": [
    "predictions,oof, rmse=lgb_oof(param, df_train_all,df_train_columns_kim,df_test_all,verbose=200)"
   ]
  },
  {
   "cell_type": "code",
   "execution_count": null,
   "metadata": {},
   "outputs": [],
   "source": []
  }
 ],
 "metadata": {
  "kernelspec": {
   "display_name": "Python 3",
   "language": "python",
   "name": "python3"
  },
  "language_info": {
   "codemirror_mode": {
    "name": "ipython",
    "version": 3
   },
   "file_extension": ".py",
   "mimetype": "text/x-python",
   "name": "python",
   "nbconvert_exporter": "python",
   "pygments_lexer": "ipython3",
   "version": "3.6.4"
  }
 },
 "nbformat": 4,
 "nbformat_minor": 2
}
