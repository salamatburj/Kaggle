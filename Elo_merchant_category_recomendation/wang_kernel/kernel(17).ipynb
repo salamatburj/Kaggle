{
  "cells": [
    {
      "metadata": {
        "_uuid": "6df55b542f152882e00385a0f73198f4e3bc4316"
      },
      "cell_type": "markdown",
      "source": "**FEEL FREE TO UPVOTE**  （＾ｖ＾）"
    },
    {
      "metadata": {
        "_uuid": "b00db406434116eaef1206208331f97fe0542872",
        "trusted": true
      },
      "cell_type": "code",
      "source": "\n#v20提交成绩得到了3.688， cv 成绩3.6519\n#使用authorized_flag 进行特征分别处理,收到了奇效\n#使用countVectorizer 对类别变量进行编码，内存存在压力",
      "execution_count": 1,
      "outputs": []
    },
    {
      "metadata": {
        "_cell_guid": "b1076dfc-b9ad-4769-8c92-a6c4dae69d19",
        "_uuid": "8f2839f25d086af736a60e9eeb907d3b93b6e0e5",
        "trusted": true
      },
      "cell_type": "code",
      "source": "import numpy as np\nimport pandas as pd\nimport datetime\nimport gc\nimport matplotlib.pyplot as plt\nimport seaborn as sns\nimport lightgbm as lgb\nfrom sklearn.model_selection import StratifiedKFold\nfrom sklearn.metrics import mean_squared_error\nimport warnings\nimport time\nwarnings.filterwarnings('ignore')\nnp.random.seed(4950)",
      "execution_count": 2,
      "outputs": []
    },
    {
      "metadata": {
        "_uuid": "09e0aca6b56b5baa7b76ba12dce4473242d8fc8d",
        "trusted": true
      },
      "cell_type": "code",
      "source": "import pickle",
      "execution_count": 3,
      "outputs": []
    },
    {
      "metadata": {
        "_uuid": "337eacd2e6e13207d06cb90f9f8cd352d300b323",
        "trusted": true
      },
      "cell_type": "code",
      "source": "def reduce_mem_usage(df, verbose=True):\n    numerics = ['int16', 'int32', 'int64', 'float16', 'float32', 'float64']\n    start_mem = df.memory_usage().sum() / 1024**2    \n    for col in df.columns:\n        col_type = df[col].dtypes\n        if col_type in numerics:\n            c_min = df[col].min()\n            c_max = df[col].max()\n            if str(col_type)[:3] == 'int':\n                if c_min > np.iinfo(np.int8).min and c_max < np.iinfo(np.int8).max:\n                    df[col] = df[col].astype(np.int8)\n                elif c_min > np.iinfo(np.int16).min and c_max < np.iinfo(np.int16).max:\n                    df[col] = df[col].astype(np.int16)\n                elif c_min > np.iinfo(np.int32).min and c_max < np.iinfo(np.int32).max:\n                    df[col] = df[col].astype(np.int32)\n                elif c_min > np.iinfo(np.int64).min and c_max < np.iinfo(np.int64).max:\n                    df[col] = df[col].astype(np.int64)  \n            else:\n                if c_min > np.finfo(np.float16).min and c_max < np.finfo(np.float16).max:\n                    df[col] = df[col].astype(np.float16)\n                elif c_min > np.finfo(np.float32).min and c_max < np.finfo(np.float32).max:\n                    df[col] = df[col].astype(np.float32)\n                else:\n                    df[col] = df[col].astype(np.float64)    \n    end_mem = df.memory_usage().sum() / 1024**2\n    if verbose: print('Mem. usage decreased to {:5.2f} Mb ({:.1f}% reduction)'.format(end_mem, 100 * (start_mem - end_mem) / start_mem))\n    return df",
      "execution_count": 4,
      "outputs": []
    },
    {
      "metadata": {
        "_cell_guid": "79c7e3d0-c299-4dcb-8224-4455121ee9b0",
        "_uuid": "d629ff2d2480ee46fbb7e2d37f6b5fab8052498a",
        "trusted": true
      },
      "cell_type": "code",
      "source": "df_train = pd.read_csv('../input/train.csv')\ndf_test = pd.read_csv('../input/test.csv')\ndf_hist_trans = pd.read_csv('../input/historical_transactions.csv')\ndf_new_merchant_trans = pd.read_csv('../input/new_merchant_transactions.csv')",
      "execution_count": 5,
      "outputs": []
    },
    {
      "metadata": {
        "_uuid": "252db1c4842288dc2c4c5a116daa5674073c6daf",
        "scrolled": true,
        "trusted": true
      },
      "cell_type": "code",
      "source": "df_hist_trans = reduce_mem_usage(df_hist_trans)\ndf_new_merchant_trans = reduce_mem_usage(df_new_merchant_trans)",
      "execution_count": 6,
      "outputs": [
        {
          "output_type": "stream",
          "text": "Mem. usage decreased to 1749.11 Mb (43.7% reduction)\nMem. usage decreased to 114.20 Mb (45.5% reduction)\n",
          "name": "stdout"
        }
      ]
    },
    {
      "metadata": {
        "trusted": true,
        "_uuid": "d0fa97485e5abda4b45046ccc688fe50118b0c61"
      },
      "cell_type": "code",
      "source": "df_hist_trans['merchant_id'].nunique() ",
      "execution_count": 7,
      "outputs": [
        {
          "output_type": "execute_result",
          "execution_count": 7,
          "data": {
            "text/plain": "326311"
          },
          "metadata": {}
        }
      ]
    },
    {
      "metadata": {
        "trusted": true,
        "_uuid": "ecfe9daddbe8d162846929b0d2f749f5e6a1c524"
      },
      "cell_type": "code",
      "source": "#使用countVectorizer对category特征进行处理，别人号称可以提升 千分之3\nfrom sklearn.feature_extraction.text import CountVectorizer\ncv = CountVectorizer(token_pattern='\\w{1,}') ",
      "execution_count": null,
      "outputs": [
        {
          "output_type": "stream",
          "text": "card_id\nC_ID_00007093c1    19 33 34 18 8 19 33 19 33 21 21 8 33 33 19 19 ...\nC_ID_0001238066    16 33 33 33 19 33 37 33 37 19 37 27 19 19 16 3...\nC_ID_0001506ef0    27 33 33 29 21 33 29 33 29 27 27 27 16 33 8 33...\nC_ID_0001793786    37 27 16 36 37 25 29 36 37 34 34 25 33 33 27 4...\nC_ID_000183fdda    29 27 32 27 16 27 37 1 16 34 25 32 36 21 25 27...\nC_ID_00024e244b    34 33 16 34 33 19 34 33 16 16 33 33 16 33 34 3...\nC_ID_0002709b5a    7 33 33 33 33 33 19 19 33 33 8 1 16 29 33 13 1...\nC_ID_00027503e2    29 33 15 34 33 34 34 37 33 33 33 33 33 15 37 3...\nC_ID_000298032a    27 37 29 33 34 16 36 34 36 30 34 29 34 37 33 3...\nC_ID_0002ba3c2e    33 33 33 33 19 37 33 33 18 33 34 33 33 25 34 1...\nC_ID_0002c7c2c1    15 37 27 29 17 37 33 16 15 15 1 34 29 29 37 29...\nC_ID_00032df08f    33 17 33 29 27 29 29 17 21 7 7 29 34 29 1 7 21...\nC_ID_0003754056    33 34 33 29 34 29 34 33 33 29 33 34 37 1 34 33...\nC_ID_000377f6a0    41 41 37 41 29 29 16 27 37 8 34 27 27 1 37 37 ...\nC_ID_0003be3c83    33 29 37 31 21 16 7 19 29 37 37 34 37 33 22 37...\nC_ID_0003f41435    37 16 37 30 27 33 33 37 7 37 34 34 29 29 33 33...\nC_ID_00042d509c    29 29 29 19 8 29 29 19 29 29 29 29 29 8 1 8 29...\nC_ID_0004587331            33 22 37 30 15 22 33 33 33 33 15 27 30 33\nC_ID_0004725b87    33 33 33 33 34 34 16 1 1 33 16 27 29 16 27 19 ...\nC_ID_0004888ddd    37 34 37 37 37 37 29 37 20 37 37 34 33 29 19 3...\nC_ID_0004b68c49                                        29 33 16 1 27\nC_ID_0004c2a5ab    25 30 27 8 30 1 37 27 29 30 33 1 29 8 30 29 29...\nC_ID_00057b99fe    33 19 16 33 29 15 19 19 29 29 33 19 18 30 16 1...\nC_ID_000599daf9    2 2 2 38 33 1 29 33 9 19 33 27 31 16 16 29 19 ...\nC_ID_0005b2f279      37 19 37 16 19 19 16 12 19 37 16 41 19 16 16 41\nC_ID_0005b5804f                              29 33 33 20 20 36 33 29\nC_ID_0005f16cc8    37 19 37 33 29 33 27 16 19 37 33 37 37 16 8 1 ...\nC_ID_0006152db8    34 36 18 33 34 34 34 34 34 37 34 34 8 29 36 34...\nC_ID_000616f4a8    37 34 37 37 20 33 19 20 2 29 20 27 18 37 37 25...\nC_ID_000664aa02    38 19 29 19 34 33 33 38 19 27 19 19 37 19 29 2...\n                                         ...                        \nC_ID_fffb79fb56    33 15 1 33 33 29 15 15 33 15 33 33 15 15 15 33...\nC_ID_fffb9ea3f6    37 29 33 37 33 25 37 37 33 37 21 29 37 29 25 1...\nC_ID_fffba72dc5    23 18 20 18 34 19 33 19 33 33 23 21 37 37 33 1...\nC_ID_fffbdf036b    19 19 33 34 33 37 33 33 34 33 33 33 33 19 19 1...\nC_ID_fffbee5c24    1 33 27 27 27 29 33 27 27 27 29 33 37 33 1 33 ...\nC_ID_fffc96bf24    21 33 29 15 19 23 19 7 29 29 21 40 21 21 20 19...\nC_ID_fffcb74f49    17 29 33 21 33 33 19 29 33 33 33 34 17 33 21 3...\nC_ID_fffcf66e12    19 19 19 33 33 37 37 37 7 37 19 27 16 37 33 37...\nC_ID_fffd070e0e    20 27 27 27 29 27 27 27 27 29 1 29 27 27 32 27...\nC_ID_fffd1207a8    37 37 37 34 37 33 37 38 37 33 33 37 37 33 33 3...\nC_ID_fffd24dcf3                 32 15 27 1 33 36 29 2 32 1 29 16 1 1\nC_ID_fffd337484    38 20 2 19 2 3 3 27 2 29 3 15 2 16 29 36 2 21 ...\nC_ID_fffd345048    33 37 17 37 21 16 21 33 33 19 34 37 33 21 33 3...\nC_ID_fffd351e7f    19 37 37 9 33 33 29 34 19 34 19 29 19 33 19 19...\nC_ID_fffd93c8bf    27 2 19 37 29 33 19 19 27 34 33 16 16 19 33 37...\nC_ID_fffd943b91    38 8 8 8 8 8 8 16 8 8 8 29 29 30 21 1 8 7 16 8...\nC_ID_fffdad8aa0    7 34 10 33 7 7 34 29 7 20 37 34 37 7 37 34 16 ...\nC_ID_fffde15ab6    25 8 37 27 34 25 25 16 29 37 25 37 25 34 29 8 ...\nC_ID_fffdf34798    33 19 36 33 33 27 33 33 33 33 33 16 33 33 33 3...\nC_ID_fffe29a04a    33 21 7 27 19 19 12 19 1 19 21 19 37 37 19 29 ...\nC_ID_fffe78b232    34 29 37 37 37 33 19 7 29 19 37 19 29 19 19 37...\nC_ID_fffe866457    29 34 19 33 19 33 33 33 33 27 27 33 29 16 19 1...\nC_ID_fffea6de74    37 19 29 37 8 29 29 33 33 33 34 37 16 37 32 36...\nC_ID_fffeced303    29 7 29 29 29 8 34 29 29 37 29 29 29 29 34 8 2...\nC_ID_fffeed3a89    37 34 37 16 29 37 37 27 37 37 16 27 37 29 27 3...\nC_ID_ffff1d9928                  33 33 22 29 27 33 16 33 16 33 33 29\nC_ID_ffff579d3a    33 37 27 27 16 37 16 27 34 34 33 27 34 37 37 2...\nC_ID_ffff756266    20 16 34 20 29 27 20 29 20 19 20 21 20 37 21 1...\nC_ID_ffff828181    19 27 19 19 27 19 12 16 16 27 19 7 29 33 19 34...\nC_ID_fffffd5772    8 8 19 8 34 33 34 8 21 8 8 8 8 18 19 29 33 8 8...\nName: subsector_id, Length: 325540, dtype: object\n<class 'scipy.sparse.csr.csr_matrix'>\n1 subsector_id\ncard_id\nC_ID_00007093c1    307 705 108 45 755 307 705 307 705 222 222 755...\nC_ID_0001238066    367 705 705 705 307 705 278 705 278 307 278 42...\nC_ID_0001506ef0    422 705 705 813 309 705 813 705 879 68 68 87 3...\nC_ID_0001793786    278 884 367 111 278 528 703 111 80 195 195 631...\nC_ID_000183fdda    879 884 769 68 367 884 278 690 367 195 734 769...\nC_ID_00024e244b    560 705 367 560 705 307 560 705 367 367 705 70...\nC_ID_0002709b5a    391 705 705 705 705 705 307 307 705 705 755 41...\nC_ID_00027503e2    879 705 437 560 705 560 560 80 705 705 705 705...\nC_ID_000298032a    884 278 879 705 560 367 763 560 763 506 683 87...\nC_ID_0002ba3c2e    705 705 705 705 307 278 705 705 363 705 683 70...\nC_ID_0002c7c2c1    437 80 422 178 606 80 705 367 437 437 690 108 ...\nC_ID_00032df08f    705 398 705 414 531 879 557 398 356 671 451 87...\nC_ID_0003754056    705 195 705 879 560 879 683 705 705 557 705 56...\nC_ID_000377f6a0    130 130 278 130 879 557 367 63 80 248 360 68 8...\nC_ID_0003be3c83    705 414 80 420 309 367 519 307 879 80 278 683 ...\nC_ID_0003f41435    278 367 278 506 68 705 705 278 561 278 560 560...\nC_ID_00042d509c    879 879 879 783 755 879 879 783 879 879 879 87...\nC_ID_0004587331    705 302 278 506 437 302 705 705 705 705 437 42...\nC_ID_0004725b87    705 705 705 705 560 360 367 690 690 705 367 68...\nC_ID_0004888ddd    80 683 278 278 637 80 839 278 840 80 278 683 7...\nC_ID_0004b68c49                                   839 705 367 690 68\nC_ID_0004c2a5ab    734 506 87 755 506 690 80 884 544 506 705 690 ...\nC_ID_00057b99fe    705 307 367 705 813 437 307 307 879 813 705 30...\nC_ID_000599daf9    117 332 332 34 705 419 879 705 792 307 705 87 ...\nC_ID_0005b2f279    278 307 278 367 307 307 367 818 307 842 367 13...\nC_ID_0005b5804f                           879 705 705 2 2 19 705 607\nC_ID_0005f16cc8    80 307 278 705 607 705 422 367 307 80 705 80 2...\nC_ID_0006152db8    360 387 45 705 360 360 360 360 360 842 683 360...\nC_ID_000616f4a8    278 195 278 278 396 705 307 840 332 879 396 36...\nC_ID_000664aa02    793 307 879 307 360 705 705 793 307 531 307 30...\n                                         ...                        \nC_ID_fffb79fb56    705 437 690 705 705 544 437 437 705 437 705 70...\nC_ID_fffb9ea3f6    80 839 705 80 705 528 278 278 705 80 40 839 80...\nC_ID_fffba72dc5    78 45 2 45 683 307 705 307 705 705 78 222 278 ...\nC_ID_fffbdf036b    307 307 705 108 705 80 705 705 108 705 705 705...\nC_ID_fffbee5c24    690 705 432 68 68 33 705 68 68 884 33 705 80 7...\nC_ID_fffc96bf24    40 705 166 437 307 78 307 511 544 813 356 184 ...\nC_ID_fffcb74f49    606 879 705 222 705 705 307 879 705 705 705 68...\nC_ID_fffcf66e12    307 307 307 705 705 278 278 278 511 278 307 36...\nC_ID_fffd070e0e    273 68 884 427 879 87 884 884 68 703 419 703 8...\nC_ID_fffd1207a8    80 278 80 560 842 705 278 793 842 705 705 842 ...\nC_ID_fffd24dcf3    434 437 518 690 705 387 544 117 434 690 607 36...\nC_ID_fffd337484    34 273 383 307 117 491 550 68 605 879 491 437 ...\nC_ID_fffd345048    705 278 606 278 309 367 309 705 705 307 683 27...\nC_ID_fffd351e7f    307 278 278 225 705 705 879 360 307 683 307 87...\nC_ID_fffd93c8bf    63 605 307 80 879 705 307 307 63 560 705 367 3...\nC_ID_fffd943b91    34 755 755 755 755 755 755 367 755 755 755 414...\nC_ID_fffdad8aa0    561 560 298 705 561 561 683 879 561 840 80 560...\nC_ID_fffde15ab6    528 661 278 68 683 528 528 367 879 80 528 278 ...\nC_ID_fffdf34798    705 307 19 705 705 68 705 705 705 705 705 367 ...\nC_ID_fffe29a04a    705 9 561 422 307 307 818 307 690 307 667 307 ...\nC_ID_fffe78b232    108 879 278 278 80 705 307 451 879 307 278 307...\nC_ID_fffe866457    879 108 307 705 307 705 705 705 705 884 68 705...\nC_ID_fffea6de74    80 307 839 278 661 839 839 705 705 705 560 278...\nC_ID_fffeced303    839 511 839 839 839 661 683 557 839 278 839 87...\nC_ID_fffeed3a89    80 195 80 367 607 278 80 884 80 278 367 422 27...\nC_ID_ffff1d9928       705 705 574 879 63 705 367 705 367 705 705 879\nC_ID_ffff579d3a    705 80 87 531 367 80 367 87 560 195 705 63 560...\nC_ID_ffff756266    529 367 683 529 879 422 273 879 840 307 529 30...\nC_ID_ffff828181    307 884 307 307 518 307 818 367 367 68 307 511...\nC_ID_fffffd5772    755 755 307 755 560 705 560 755 222 755 755 75...\nName: merchant_category_id, Length: 325540, dtype: object\n",
          "name": "stdout"
        },
        {
          "output_type": "stream",
          "text": "<class 'scipy.sparse.csr.csr_matrix'>\n1 merchant_category_id\ncard_id\nC_ID_00007093c1    2 2 2 2 -1 2 2 2 2 2 2 -1 2 2 2 2 -1 2 2 2 2 2...\nC_ID_0001238066    15 9 9 9 9 9 9 9 9 9 9 9 20 9 9 20 9 9 9 9 9 9...\nC_ID_0001506ef0    19 19 19 19 19 19 19 19 9 19 19 19 19 19 19 19...\nC_ID_0001793786    -1 -1 -1 -1 24 -1 11 9 -1 -1 -1 11 24 -1 -1 24...\nC_ID_000183fdda    9 3 3 3 3 3 3 3 3 3 3 3 3 3 3 3 3 3 3 3 3 3 3 ...\nC_ID_00024e244b    7 7 7 7 7 7 7 7 7 7 7 7 7 7 7 7 7 7 7 9 7 7 7 ...\nC_ID_0002709b5a    18 18 18 18 18 18 18 21 18 18 -1 21 18 18 18 1...\nC_ID_00027503e2    9 19 19 19 19 19 19 19 19 19 19 19 19 19 19 19...\nC_ID_000298032a    16 9 9 9 9 9 9 9 9 9 9 9 9 9 9 9 9 9 9 9 9 9 9...\nC_ID_0002ba3c2e    18 18 18 18 18 18 18 18 18 18 18 18 18 18 18 1...\nC_ID_0002c7c2c1    9 9 9 9 9 9 9 9 9 9 9 9 9 9 9 9 9 9 9 9 9 9 9 ...\nC_ID_00032df08f    9 -1 9 9 9 -1 9 -1 9 9 -1 -1 9 -1 9 -1 9 9 -1 ...\nC_ID_0003754056    15 15 15 9 15 9 15 15 15 15 15 15 15 15 15 15 ...\nC_ID_000377f6a0    2 2 2 2 9 2 2 2 2 2 2 2 2 2 2 2 2 2 2 2 2 2 9 ...\nC_ID_0003be3c83    9 9 9 9 9 9 9 9 9 9 9 9 9 9 -1 9 9 9 9 -1 9 -1...\nC_ID_0003f41435    12 12 12 12 12 12 12 12 9 9 12 12 9 12 12 12 1...\nC_ID_00042d509c    -1 9 -1 19 -1 -1 -1 19 -1 -1 -1 -1 9 -1 19 -1 ...\nC_ID_0004587331            11 -1 11 11 11 -1 11 11 11 11 11 11 11 11\nC_ID_0004725b87    -1 -1 -1 -1 -1 -1 -1 -1 -1 -1 -1 15 -1 -1 -1 -...\nC_ID_0004888ddd    3 3 3 3 3 3 -1 3 3 3 3 3 3 9 3 3 3 3 3 3 3 -1 ...\nC_ID_0004b68c49                                          -1 9 9 -1 9\nC_ID_0004c2a5ab    -1 9 9 -1 9 9 9 9 -1 9 9 9 9 -1 9 -1 9 -1 9 -1...\nC_ID_00057b99fe    9 9 9 9 9 9 9 9 9 9 9 9 9 9 9 9 9 9 9 9 9 9 9 ...\nC_ID_000599daf9    1 1 1 1 1 1 9 1 1 1 1 1 1 1 1 1 1 1 9 1 1 1 1 ...\nC_ID_0005b2f279       16 12 12 12 12 12 12 16 12 12 12 12 12 12 12 5\nC_ID_0005b5804f                               9 19 19 19 19 19 19 19\nC_ID_0005f16cc8    2 2 2 2 1 2 2 5 2 2 2 2 5 2 -1 2 2 2 2 2 5 -1 ...\nC_ID_0006152db8    13 13 13 13 13 13 13 13 13 13 13 13 -1 9 13 13...\nC_ID_000616f4a8    9 21 9 9 21 9 9 9 9 9 21 16 9 9 9 21 21 9 9 21...\nC_ID_000664aa02    9 9 9 9 9 9 9 9 9 9 9 9 9 9 9 9 9 9 9 9 9 9 9 ...\n                                         ...                        \nC_ID_fffb79fb56            9 9 9 9 9 9 9 9 9 9 9 9 9 9 9 9 9 9 9 9 9\nC_ID_fffb9ea3f6    2 -1 2 2 2 2 2 2 2 2 2 -1 2 -1 2 2 2 2 2 2 2 -...\nC_ID_fffba72dc5    9 9 9 9 9 9 9 9 9 9 9 9 9 9 9 9 9 9 9 9 9 9 9 ...\nC_ID_fffbdf036b    9 9 9 9 9 9 9 9 9 9 9 9 9 9 9 9 9 9 9 9 9 9 9 ...\nC_ID_fffbee5c24    10 10 10 10 10 10 10 10 10 10 10 10 10 10 10 1...\nC_ID_fffc96bf24    22 22 22 22 22 22 22 -1 22 22 22 22 22 22 22 2...\nC_ID_fffcb74f49    9 9 9 9 9 19 19 9 9 9 9 9 9 19 19 9 9 19 9 9 1...\nC_ID_fffcf66e12    5 5 5 5 5 5 5 5 9 5 5 5 5 5 5 5 9 5 5 5 5 5 5 ...\nC_ID_fffd070e0e    9 9 9 9 9 9 9 9 9 9 9 9 9 9 9 9 9 9 9 9 9 9 9 ...\nC_ID_fffd1207a8    16 16 16 16 16 16 16 16 16 16 16 16 16 16 16 1...\nC_ID_fffd24dcf3                       9 9 9 -1 9 9 -1 9 9 9 9 9 -1 9\nC_ID_fffd337484    7 7 19 19 19 -1 -1 19 19 -1 -1 19 19 7 -1 19 1...\nC_ID_fffd345048    9 9 9 9 9 9 9 9 9 9 9 9 9 9 9 9 9 19 9 9 9 9 9...\nC_ID_fffd351e7f    3 3 1 4 22 11 9 4 13 9 22 9 2 22 9 4 4 18 4 1 ...\nC_ID_fffd93c8bf    1 1 1 1 9 1 1 1 1 1 1 1 1 1 1 13 13 1 13 1 9 1...\nC_ID_fffd943b91    9 -1 -1 -1 -1 -1 -1 9 -1 -1 -1 9 -1 9 9 -1 -1 ...\nC_ID_fffdad8aa0    9 9 9 9 9 9 9 9 9 9 9 9 9 9 9 9 9 9 9 9 9 9 9 ...\nC_ID_fffde15ab6    9 -1 9 9 9 9 9 9 -1 9 9 9 9 9 -1 -1 9 9 9 9 9 ...\nC_ID_fffdf34798    18 18 18 18 18 18 18 18 18 18 18 18 18 18 18 1...\nC_ID_fffe29a04a    15 15 9 15 15 15 15 15 15 15 15 15 15 15 15 15...\nC_ID_fffe78b232    9 9 9 14 9 9 9 9 -1 9 9 9 -1 9 9 9 -1 9 9 9 9 ...\nC_ID_fffe866457    9 15 15 15 15 15 15 15 15 15 15 15 15 15 15 15...\nC_ID_fffea6de74    9 11 -1 11 9 -1 -1 11 11 11 11 11 11 11 11 11 ...\nC_ID_fffeced303    -1 -1 -1 -1 -1 -1 15 15 -1 15 -1 9 -1 -1 15 -1...\nC_ID_fffeed3a89    15 9 5 5 5 5 9 5 9 5 5 5 15 9 -1 9 9 9 15 15 -...\nC_ID_ffff1d9928                            4 4 -1 9 4 4 4 4 4 4 4 -1\nC_ID_ffff579d3a    9 9 9 9 9 9 9 9 9 9 9 9 9 9 9 9 9 9 9 9 9 9 9 ...\nC_ID_ffff756266    9 9 9 9 -1 9 9 -1 9 9 9 9 9 9 9 9 9 9 9 -1 9 9...\nC_ID_ffff828181    24 24 24 18 24 24 24 24 24 24 24 24 9 24 24 24...\nC_ID_fffffd5772    -1 -1 19 -1 19 -1 19 -1 -1 -1 -1 -1 -1 19 19 -...\nName: state_id, Length: 325540, dtype: object\n<class 'scipy.sparse.csr.csr_matrix'>\n1 state_id\n",
          "name": "stdout"
        }
      ]
    },
    {
      "metadata": {
        "_uuid": "4bdcf9c97640b83ed14aca50aa012dd88471d55e",
        "trusted": true
      },
      "cell_type": "code",
      "source": "df_hist_trans.purchase_date=pd.to_datetime(df_hist_trans.purchase_date)\npur_date=df_hist_trans[df_hist_trans.month_lag==0].groupby('card_id').purchase_date.max()\ncard_id_nan_unique=df_hist_trans[df_hist_trans.card_id.isin(pur_date.index)==False].card_id.unique()\ndf=pd.DataFrame(card_id_nan_unique)\ndf['month_lag_date']=pd.to_datetime('2018-02') # Seetting all nan values to 2018 Feb\ndf.set_index(0,inplace=True)\nnew_map=df.month_lag_date\nmethod=pur_date.append(new_map)\ndel df,pur_date\ngc.collect()\ntime.sleep(5)",
      "execution_count": null,
      "outputs": []
    },
    {
      "metadata": {
        "_uuid": "71f89a3b8a93b2f2feb2cd0a45f860cde33687be",
        "trusted": true
      },
      "cell_type": "code",
      "source": "for df in [df_hist_trans,df_new_merchant_trans]:\n#     df['category_2'].fillna(1.0,inplace=True)\n#     df['category_3'].fillna('A',inplace=True)\n#     df['merchant_id'].fillna('M_ID_00a6ca8a8a',inplace=True)\n    #修改特征\n    df['category_2'].fillna(-1,inplace=True)\n    df['category_3'].fillna('other',inplace=True)\n    df['merchant_id'].fillna('other',inplace=True)\n#     df.loc[df['installments'].isin([999,-1]),'installments'] = 0 ",
      "execution_count": null,
      "outputs": []
    },
    {
      "metadata": {
        "_uuid": "dda90662d05e22310dd713df106ea07f4b8bccfc",
        "trusted": true
      },
      "cell_type": "code",
      "source": "def get_new_columns(name,aggs):\n    #for for 写法 nice\n    return [name + '_' + k + '_' + agg for k in aggs.keys() for agg in aggs[k]]",
      "execution_count": null,
      "outputs": []
    },
    {
      "metadata": {
        "_uuid": "690ba01a38f524e9345b419200f588f937bc067a",
        "trusted": true
      },
      "cell_type": "code",
      "source": "for df in [df_hist_trans,df_new_merchant_trans]:\n    df['purchase_date'] = pd.to_datetime(df['purchase_date'])\n    df['year'] = df['purchase_date'].dt.year\n    df['weekofyear'] = df['purchase_date'].dt.weekofyear\n    df['month'] = df['purchase_date'].dt.month\n    df['dayofweek'] = df['purchase_date'].dt.dayofweek\n    df['weekend'] = (df.purchase_date.dt.weekday >=5).astype(int)\n    df['hour'] = df['purchase_date'].dt.hour\n    df['authorized_flag'] = df['authorized_flag'].map({'Y':1, 'N':0})\n    df['category_1'] = df['category_1'].map({'Y':1, 'N':0}) \n    #https://www.kaggle.com/c/elo-merchant-category-recommendation/discussion/73244\n    ##Think about this part!\n    ## This line of code may be missleading since there is no single ref date. \n    df['month_diff'] = ((datetime.datetime(2018,6,1) - df['purchase_date']).dt.days)//30 # original code\n    df['month_diff'] += df['month_lag']\n    \n    ## removing 'month_diff' reduces LB score to 3.682\n    ## This line of code can be also missleading since for new merchant hist it might be negative. But why we care about it.\n    #df['month_diff'] = ((df['card_id'].map(method) - df['purchase_date']).dt.days)//30 # method that I used in my code\n    \n    ##But we already have mongth lag for each purchase! So we don't really need it!\n    ### month_diff seems to be important feature think more about it\n    \n    # This makes it even more irrelevant for my case since it will be equal to zero in most of the cases.So, let's remove it for my case\n    #df['month_diff'] += df['month_lag']",
      "execution_count": null,
      "outputs": []
    },
    {
      "metadata": {
        "trusted": true,
        "_uuid": "52d785dd8bb1eac029fbdeeaae93ffffedc71210"
      },
      "cell_type": "code",
      "source": "(pd.to_datetime('2018-12-30')-pd.to_datetime('2019-12-30')).days//30",
      "execution_count": null,
      "outputs": []
    },
    {
      "metadata": {
        "trusted": true,
        "_uuid": "41aa522fc4e7c2728766948cd2667379163ecef7"
      },
      "cell_type": "code",
      "source": "df_new_merchant_trans.head()",
      "execution_count": null,
      "outputs": []
    },
    {
      "metadata": {
        "_uuid": "80aadb70cf47be8cf45b681d73214ace43fe8d1d",
        "trusted": true
      },
      "cell_type": "code",
      "source": "#因为根据auth_flag 将特征分成了两部分，这里聚合一个全局的auth_flag 特征\naggs = {}\naggs['purchase_amount'] = ['sum']\n# aggs['installments'] = ['sum','max','min','mean','var','median']\naggs['authorized_flag'] = ['sum', 'mean','std']\naggs['card_id'] = ['size']\nauth_flag = df_hist_trans.groupby(['card_id']).agg(aggs)\nauth_flag.columns = get_new_columns('auth_flag',aggs)\nauth_flag.reset_index(inplace=True)\ndf_train = df_train.merge(auth_flag,on='card_id',how='left')\ndf_test = df_test.merge(auth_flag,on='card_id',how='left')\ndel auth_flag\ngc.collect()",
      "execution_count": null,
      "outputs": []
    },
    {
      "metadata": {
        "_uuid": "49db45166453de5e0509d5e43d52604344954744",
        "trusted": true
      },
      "cell_type": "code",
      "source": "#对 authorized_flag进行结果编码\naggs = {}\nfor col in ['category_2','category_3','state_id','subsector_id','merchant_category_id','city_id']:\n    df_hist_trans[col+'_auth_mean'] = df_hist_trans.groupby([col])['authorized_flag'].transform('mean')\n    df_hist_trans[col+'_auth_sum'] = df_hist_trans.groupby([col])['authorized_flag'].transform('sum') \n    aggs[col+'_auth_mean'] = ['mean']\n    aggs[col+'_auth_sum'] = ['sum'] \nauth_encoder = df_hist_trans.groupby(['card_id']).agg(aggs)\nauth_encoder.columns = get_new_columns('auth_encoder',aggs)\nauth_encoder.reset_index(inplace=True)\ndf_train = df_train.merge(auth_encoder,on='card_id',how='left')\ndf_test = df_test.merge(auth_encoder,on='card_id',how='left')\ndel auth_encoder\ngc.collect()",
      "execution_count": null,
      "outputs": []
    },
    {
      "metadata": {
        "_uuid": "5b08ce613977fc59acfdac57c208ba71db6a5ea3",
        "trusted": true
      },
      "cell_type": "code",
      "source": "def aggregate_per_month(prefix,history,agg_func):\n    grouped = history.groupby(['card_id', 'month_lag'])\n    intermediate_group = grouped.agg(agg_func)\n    intermediate_group.columns = [prefix + '_'.join(col).strip() for col in intermediate_group.columns.values]\n    intermediate_group.reset_index(inplace=True)\n\n    final_group = intermediate_group.groupby('card_id').agg(['mean', 'std'])\n    final_group.columns = [prefix + '_'.join(col).strip() for col in final_group.columns.values]\n    final_group.reset_index(inplace=True) \n    return final_group",
      "execution_count": null,
      "outputs": []
    },
    {
      "metadata": {
        "_uuid": "508c91c2f30371a3bb5a8e5daac36f43749c55c7",
        "trusted": true
      },
      "cell_type": "code",
      "source": "#对授权码 进行按月聚合\nagg_func = {'authorized_flag': [ 'sum', 'mean','median']}\nfinal_group =  aggregate_per_month('agg_per_month_total',df_hist_trans,agg_func) \ndf_train = df_train.merge(final_group,on='card_id',how='left')\ndf_test = df_test.merge(final_group,on='card_id',how='left')\ndel final_group",
      "execution_count": null,
      "outputs": []
    },
    {
      "metadata": {
        "_uuid": "6dfd525f8227507cad2d8d3a6144bb1708f7e462",
        "trusted": true
      },
      "cell_type": "code",
      "source": "authorized_transactions = df_hist_trans[df_hist_trans['authorized_flag'] == 1]\ndf_hist_trans = df_hist_trans[df_hist_trans['authorized_flag'] == 0]",
      "execution_count": null,
      "outputs": []
    },
    {
      "metadata": {
        "_uuid": "22f8b5af830b7591197956f40b8b575d1e75c713",
        "trusted": true
      },
      "cell_type": "code",
      "source": "df_hist_trans.shape",
      "execution_count": null,
      "outputs": []
    },
    {
      "metadata": {
        "_uuid": "53204f1e1752f4e51d96e7c05360898ababc655d",
        "trusted": true
      },
      "cell_type": "code",
      "source": "agg_func = {'purchase_amount': [ 'sum', 'mean', 'min', 'max', 'std']}\nfinal_group =  aggregate_per_month('agg_per_month_auth',authorized_transactions,agg_func) \ndf_train = df_train.merge(final_group,on='card_id',how='left')\ndf_test = df_test.merge(final_group,on='card_id',how='left')\ndel final_group\nfinal_group =  aggregate_per_month('agg_per_month_hist',df_hist_trans,agg_func) \ndf_train = df_train.merge(final_group,on='card_id',how='left')\ndf_test = df_test.merge(final_group,on='card_id',how='left')\ndel final_group\nfinal_group =  aggregate_per_month('agg_per_month_hist_new',df_new_merchant_trans,agg_func) \ndf_train = df_train.merge(final_group,on='card_id',how='left')\ndf_test = df_test.merge(final_group,on='card_id',how='left')\ndel final_group\ngc.collect()",
      "execution_count": null,
      "outputs": []
    },
    {
      "metadata": {
        "_uuid": "6bc6f16f1dbf38bcb45a9345fd1e789b23f0efb2",
        "trusted": true
      },
      "cell_type": "code",
      "source": "df_train['outliers'] = 0\ndf_train.loc[df_train['target'] < -30, 'outliers'] = 1\ndf_train['outliers'].value_counts()",
      "execution_count": null,
      "outputs": []
    },
    {
      "metadata": {
        "_uuid": "ddf1d5bb0ade2b22b0f072c208c1506ea64503ea",
        "trusted": true
      },
      "cell_type": "code",
      "source": "i = 0\nfor df in [authorized_transactions,df_hist_trans]:\n    aggs = {}\n    for col in ['month','hour','weekofyear','dayofweek','year','subsector_id','merchant_id','merchant_category_id',\n                'state_id','city_id']:\n        aggs[col] = ['nunique']\n\n    aggs['purchase_amount'] = ['sum','max','min','mean','var','median']\n    aggs['installments'] = ['sum','max','min','mean','var','median']\n    aggs['purchase_date'] = ['max','min']\n    aggs['month_lag'] = ['max','min','mean','var','median']\n    \n    ## I also remove this part since it is also irrelevant since it is equivelent to month_lag. But it makes it worser\n    aggs['month_diff'] = ['mean','median']\n\n\n\n#     aggs['authorized_flag'] = ['sum', 'mean','median']\n    aggs['weekend'] = ['sum', 'mean']\n    aggs['category_1'] = ['sum', 'mean']\n    aggs['card_id'] = ['size']\n    #产生交叉特征，内存有问题\n    features = ['category_2','category_3','state_id','subsector_id','merchant_category_id','city_id'\n               ,'merchant_id']\n#     for coli in ['category_2','category_3','state_id','subsector_id','merchant_category_id','city_id']:\n#         for colj in ['category_2','category_3','state_id','subsector_id','merchant_category_id','city_id']:\n#             df[coli + colj] = df[coli].astype(str) + df[colj].astype(str)\n#             features.append(coli + colj)\n    for col in features:\n        df[col+'_mean'] = df.groupby([col])['purchase_amount'].transform('mean')\n        df[col+'_sum'] = df.groupby([col])['purchase_amount'].transform('sum') \n        aggs[col+'_mean'] = ['mean']\n        aggs[col+'_sum'] = ['sum'] \n#         添加特征，使用outlier进行编码\n#         outliers_mean = df.groupby([col])['outliers'].mean()\n#         outliers_sum = df.groupby([col])['outliers'].sum()\n#         df[col+'_outliers_mean'] = df[col].map(outliers_mean)\n#         df[col+'_outliers_sum'] = df[col].map(outliers_sum)\n#         aggs[col+'_outliers_mean'] = ['mean']\n#         aggs[col+'_outliers_sum'] =['sum']   \n        \n    if i == 0:\n        prefix = 'auth_hist'\n    else:\n        prefix = 'hist'\n    new_columns = get_new_columns(prefix,aggs)\n    i += 1\n    # df_hist_trans.sort_values(['card_id','purchase_date'],inplace = True)\n\n    df_hist_trans_group = df.groupby('card_id').agg(aggs)\n    df_hist_trans_group.columns = new_columns\n    df_hist_trans_group.reset_index(drop=False,inplace=True)\n    df_hist_trans_group[prefix + '_purchase_date_diff'] = (df_hist_trans_group[prefix + '_purchase_date_max'] - df_hist_trans_group[prefix + '_purchase_date_min']).dt.days\n    df_hist_trans_group[prefix + '_purchase_date_average'] = df_hist_trans_group[prefix + '_purchase_date_diff']/df_hist_trans_group[prefix + '_card_id_size']\n    ###Think about below line of code  \n    ###up to now for history means month_lag_0 to purdate_min\n#     df_hist_trans_group[prefix + '_purchase_date_uptonow'] = (df_hist_trans_group['card_id'].map(method) - df_hist_trans_group[prefix + '_purchase_date_max']).dt.days\n    ### This is new feature but I change the name to the old name since it makes more sense. Total number of days from first purchase to month lag 0 (until promotion)\n    df_hist_trans_group[prefix + '_purchase_date_uptonow'] = (df_hist_trans_group['card_id'].map(method) - df_hist_trans_group[prefix + '_purchase_date_min']).dt.days\n    ### This is old feature but I change the name to [prefix + '_first_purchase'] from [prefix + '_purchase_date_uptonow']\n    ### since it makes more sense. Number of days for the last purchase from month_lag_0\n    df_hist_trans_group[prefix + '_first_purchase'] = (df_hist_trans_group['card_id'].map(method) - df_hist_trans_group[prefix + '_purchase_date_max']).dt.days\n    #下面这个特征考虑了：有的人可能购买频率较低，但是还是忠实粉丝的情况\n#     df_hist_trans_group[prefix + '_purchase_date_uptonow_ave'] =  df_hist_trans_group[prefix + '_purchase_date_uptonow']/df_hist_trans_group[prefix + '_purchase_date_average']\n    #每一个card中未授权消费次数\n#     df_hist_trans_group[prefix + '_unauthorized_number'] = df_hist_trans_group[prefix + '_card_id_size'] - df_hist_trans_group[prefix + '_authorized_flag_sum']\n    #最近活跃时间，确实是一个强特征，感觉可以再挖出来几个特征，比如最近5次消费时间，最近10次消费时间，如果值比较小，说明最近很活跃\n    #没有效果\n    # grouped =  df_hist_trans.groupby('card_id')['purchase_date']\n    # df_hist_trans_group['hist_purchase_5thdate_uptonow'] =  (datetime.datetime.today() -grouped.shift(5)).dt.days\n    # df_hist_trans_group['hist_purchase_3thdate_uptonow'] =  (datetime.datetime.today() -grouped.shift(3)).dt.days\n    # df_hist_trans_group['hist_purchase_10thdate_uptonow'] =  (datetime.datetime.today() -grouped.shift(10)).dt.days\n    df_train = df_train.merge(df_hist_trans_group,on='card_id',how='left')\n    df_test = df_test.merge(df_hist_trans_group,on='card_id',how='left')\n    del df_hist_trans_group\n    gc.collect()\n    time.sleep(5)\n    #内存问题，暂时先放弃\n    for col in ['subsector_id','merchant_category_id','state_id','city_id']:\n        df[col]=df[col].astype(str)\n        grouped = df[['card_id',col]].groupby('card_id')[col].aggregate(lambda x: ' '.join(x))\n        cv_fit=cv.fit_transform(grouped)\n        cv_df = pd.DataFrame(cv_fit.toarray())\n        print(i,col)\n        if i == 1:\n            cv_df.columns = ['auth' + '_' + col + \"_\" + str(c) for c in cv_df.columns]\n        elif i == 2:\n             cv_df.columns = ['hist' + '_' + col + \"_\" + str(c) for c in cv_df.columns]\n        cv_df['card_id'] = grouped.index\n        df_train = df_train.merge(cv_df,on='card_id',how='left')\n        df_test = df_test.merge(cv_df,on='card_id',how='left')\n        del cv_df,grouped\n        gc.collect()\n    del df\n    gc.collect()\n    time.sleep(5)",
      "execution_count": null,
      "outputs": []
    },
    {
      "metadata": {
        "_uuid": "f7f5625db40db4395374991124fb796c9decd60b",
        "trusted": true
      },
      "cell_type": "code",
      "source": "aggs = {}\n#添加特征\nfor col in ['month','hour','weekofyear','dayofweek','year','subsector_id','merchant_id','merchant_category_id',\n            'state_id','city_id']:\n    aggs[col] = ['nunique']\n    \naggs['purchase_amount'] = ['sum','max','min','mean','var','median']\naggs['installments'] = ['sum','max','min','mean','var','median']\naggs['purchase_date'] = ['max','min']\naggs['month_lag'] = ['max','min','mean','var','median']\n\n### Now we also need to remove from here since we already have month_lag\naggs['month_diff'] = ['mean','median']\n\n\naggs['weekend'] = ['sum', 'mean']\naggs['authorized_flag'] = ['sum', 'mean','median']\naggs['category_1'] = ['sum', 'mean']\naggs['card_id'] = ['size']\n\n#添加特征   \nfeatures = ['category_2','category_3','state_id','subsector_id','merchant_category_id','city_id'\n               ,'merchant_id']\n#产生交叉特征，内存有问题\n# for coli in ['category_2','category_3','state_id','subsector_id','merchant_category_id','city_id']:\n#     for colj in ['category_2','category_3','state_id','subsector_id','merchant_category_id','city_id']:\n#         df_new_merchant_trans[coli + colj] = df_new_merchant_trans[coli].astype(str) + df_new_merchant_trans[colj].astype(str)\n#         features.append(coli + colj)\nfor col in features:\n    df_new_merchant_trans[col+'_mean'] = df_new_merchant_trans.groupby([col])['purchase_amount'].transform('mean')\n    df_new_merchant_trans[col+'_sum'] = df_new_merchant_trans.groupby([col])['purchase_amount'].transform('sum')\n    aggs[col+'_mean'] = ['mean']\n    aggs[col+'_sum'] = ['sum']\n    #添加特征，使用outlier进行编码\n#     outliers_mean = df.groupby([col])['outliers'].mean()\n#     outliers_sum = df.groupby([col])['outliers'].sum()\n#     df[col+'_outliers_mean'] = df[col].map(outliers_mean)\n#     df[col+'_outliers_sum'] = df[col].map(outliers_sum)\n#     aggs[col+'_outliers_mean'] = ['mean']\n#     aggs[col+'_outliers_sum'] =['sum']   \n    \nnew_columns = get_new_columns('new_hist',aggs)\n# df_new_merchant_trans.sort_values(['card_id','purchase_date'],inplace = True)\ndf_hist_trans_group = df_new_merchant_trans.groupby('card_id').agg(aggs)\ndf_hist_trans_group.columns = new_columns\ndf_hist_trans_group.reset_index(drop=False,inplace=True)\ndf_hist_trans_group['new_hist_purchase_date_diff'] = (df_hist_trans_group['new_hist_purchase_date_max'] - df_hist_trans_group['new_hist_purchase_date_min']).dt.days\ndf_hist_trans_group['new_hist_purchase_date_average'] = df_hist_trans_group['new_hist_purchase_date_diff']/df_hist_trans_group['new_hist_card_id_size']\n\n\n# it is fine for new mech transaction history. This means total number of days from month_lag_0 ti kast purchase\ndf_hist_trans_group['new_hist_purchase_date_uptonow'] = (df_hist_trans_group['card_id'].map(method) - df_hist_trans_group['new_hist_purchase_date_max']).dt.days\n\n# new feature for the first purchase.This means total number of days from month_lag_0 to first purchase.\ndf_hist_trans_group['new_hist_first_purchase'] = (df_hist_trans_group['card_id'].map(method) - df_hist_trans_group['new_hist_purchase_date_min']).dt.days\n\n#下面这个特征考虑了：有的人可能购买频率较低，但是还是忠实粉丝的情况\n# df_hist_trans_group['new_hist_purchase_date_uptonow_ave'] =  df_hist_trans_group['new_hist_purchase_date_uptonow']/df_hist_trans_group['new_hist_purchase_date_average']\n\n#每一个card中未授权消费次数\ndf_hist_trans_group['new_hist_unauthorized_number'] = df_hist_trans_group['new_hist_card_id_size'] - df_hist_trans_group['new_hist_authorized_flag_sum']\n# grouped = df_new_merchant_trans.groupby('card_id')['purchase_date']\n# df_hist_trans_group['new_hist_purchase_5thdate_uptonow'] =  (datetime.datetime.today() - grouped.shift(5)).dt.days\n# df_hist_trans_group['new_hist_purchase_3thdate_uptonow'] =  (datetime.datetime.today() - grouped.shift(3)).dt.days\n# df_hist_trans_group['new_hist_purchase_10thdate_uptonow'] =  (datetime.datetime.today() - grouped.shift(10)).dt.days\n\ndf_train = df_train.merge(df_hist_trans_group,on='card_id',how='left')\ndf_test = df_test.merge(df_hist_trans_group,on='card_id',how='left')\ndel df_hist_trans_group\ngc.collect()\ndel df_new_merchant_trans\ngc.collect()\ntime.sleep(5)",
      "execution_count": null,
      "outputs": []
    },
    {
      "metadata": {
        "_uuid": "ce2082fc1fb0e3f8f7d27fc166aa7a8351b65504",
        "trusted": true
      },
      "cell_type": "code",
      "source": "for df in [df_train,df_test]:\n    df['first_active_month'] = pd.to_datetime(df['first_active_month'])\n    df['dayofweek'] = df['first_active_month'].dt.dayofweek\n    df['weekofyear'] = df['first_active_month'].dt.weekofyear\n    df['month'] = df['first_active_month'].dt.month\n    df['elapsed_time'] = (df['card_id'].map(method) - df['first_active_month']).dt.days\n    df['hist_first_buy'] = (df['hist_purchase_date_min'] - df['first_active_month']).dt.days\n    df['new_hist_first_buy'] = (df['new_hist_purchase_date_min'] - df['first_active_month']).dt.days\n    #添加特征\n    df['auth_hist_first_buy'] = (df['auth_hist_purchase_date_min'] - df['first_active_month']).dt.days\n    #修改特征\n    for f in ['hist_purchase_date_max','hist_purchase_date_min','new_hist_purchase_date_max',\\\n                     'new_hist_purchase_date_min','auth_hist_purchase_date_max','auth_hist_purchase_date_min']:\n        df[f] = df[f].astype(np.int64) * 1e-9\n    for f in ['auth_encoder_category_2_auth_sum_sum','auth_encoder_category_3_auth_sum_sum',\n            'auth_encoder_state_id_auth_sum_sum','auth_encoder_subsector_id_auth_sum_sum',\n            'auth_encoder_merchant_category_id_auth_sum_sum','auth_encoder_city_id_auth_sum_sum']:\n        df[f] = df[f].astype(np.int64) * 1e-9\n    #上面auth_flag已经聚合过了card_id_size ,purchase_amount\n#     df['card_id_total'] = df['new_hist_card_id_size']+df['hist_card_id_size']  + df['auth_hist_card_id_size']\n#     df['purchase_amount_total'] = df['new_hist_purchase_amount_sum']+df['hist_purchase_amount_sum']+df['auth_hist_purchase_amount_sum']\n#添加特征\n\nfor f in ['feature_1','feature_2','feature_3','month','dayofweek']:\n    order_label1 = df_train.groupby([f])['outliers'].mean()\n    df_train[f+'_outliers_mean'] = df_train[f].map(order_label1)\n    df_test[f+'_outliers_mean'] = df_test[f].map(order_label1)\n    \n    order_label2 = df_train.groupby([f])['outliers'].sum()\n    df_train[f+'_outliers_sum'] = df_train[f].map(order_label2)\n    df_test[f+'_outliers_sum'] = df_test[f].map(order_label2)\n    \n#     order_label1 = df_train.groupby([f])['target'].mean()\n#     df_train[f+'_target_mean'] = df_train[f].map(order_label1)\n#     df_test[f+'_target_sum'] = df_test[f].map(order_label1)\n#     order_label2 = df_train.gorupby([f])['target'].sum()\n#     df_train[f+'_target_sum'] = df_train[f].map(order_label2)\n#     df_test[f+'_target_sum'] = df_test[f].map(order_label2)\n \n# get_dummies 似乎有一点点不良影响\ndf_train = pd.get_dummies(df_train,columns =['feature_1','feature_2'])\ndf_test = pd.get_dummies(df_test,columns =['feature_1','feature_2'])",
      "execution_count": null,
      "outputs": []
    },
    {
      "metadata": {
        "_uuid": "3877e4f1418facb4da080ba31ef8ebae1724e7b1",
        "trusted": true
      },
      "cell_type": "code",
      "source": "#首次购买的时间居然早于首次激活的时间，进行调整\ndf_train.loc[df_train['auth_hist_first_buy'] < 0, 'auth_hist_first_buy'] = -1\ndf_train.loc[df_train['hist_first_buy'] < 0, 'hist_first_buy'] = -1\ndf_train.head()",
      "execution_count": null,
      "outputs": []
    },
    {
      "metadata": {
        "_uuid": "c4f20f27679889542acfd60d1f1ac381b201ac43",
        "trusted": true
      },
      "cell_type": "code",
      "source": "exclude_features = []\nexclude_features += ['card_id', 'first_active_month','target','outliers']\ndf_train_columns = [c for c in df_train.columns if c not in exclude_features ]\ntarget = df_train['target']\ndel df_train['target']",
      "execution_count": null,
      "outputs": []
    },
    {
      "metadata": {
        "_uuid": "b7ff07b98323cf30f11ec6130f5c64e6c4db0aac",
        "scrolled": true,
        "trusted": true
      },
      "cell_type": "code",
      "source": "len(df_train_columns)\nlen(exclude_features)",
      "execution_count": null,
      "outputs": []
    },
    {
      "metadata": {
        "_uuid": "0dd3d768b0cad2f5460669484486a5a5a69e55a3"
      },
      "cell_type": "markdown",
      "source": "## Above is the same with wang, I call it wang's features"
    },
    {
      "metadata": {
        "_uuid": "8577828c9d259644f1c90e1879de197abed86ca8"
      },
      "cell_type": "markdown",
      "source": "### I replace wang's stratified CV with normal lgb.cv"
    },
    {
      "metadata": {
        "_uuid": "d666d1510ad92d28727fc4a65112a97cf1f5bc65",
        "trusted": true
      },
      "cell_type": "code",
      "source": "param = {'num_leaves': 31,\n         'min_data_in_leaf': 32, \n         'objective':'regression',\n         'max_depth': -1,\n         'learning_rate': 0.01,\n         \"min_child_samples\": 20,\n         \"boosting\": \"gbdt\",\n         \"feature_fraction\": 0.9,\n         \"bagging_freq\": 1,\n         \"bagging_fraction\": 0.9 ,\n         \"bagging_seed\": 42,\n         \"metric\": 'rmse',\n         \"lambda_l1\": 0.1,\n         \"verbosity\": -1,\n         \"nthread\": 48,\n         \"random_state\": 4950}",
      "execution_count": null,
      "outputs": []
    },
    {
      "metadata": {
        "_uuid": "cb405f1dd7b2fd24ebe5c7330605c9ca84e564ec",
        "trusted": true
      },
      "cell_type": "code",
      "source": "trn_data = lgb.Dataset(df_train[df_train_columns], label=target)#, categorical_feature=categorical_feats)",
      "execution_count": null,
      "outputs": []
    },
    {
      "metadata": {
        "trusted": true,
        "_uuid": "210b0e04548e5f00f740d8534fddc2839847eedf"
      },
      "cell_type": "code",
      "source": "#trn_data = lgb.Dataset(df_train[df_train_columns], label=target, categorical_feature=['month','dayofweek','weekofyear'])",
      "execution_count": null,
      "outputs": []
    },
    {
      "metadata": {
        "_uuid": "bf6ec993c7ae6317851b21aca63be3b589219f6e",
        "scrolled": true,
        "trusted": true
      },
      "cell_type": "code",
      "source": "lgb_cv = lgb.cv(param, trn_data, 10000, early_stopping_rounds=600, verbose_eval=200, stratified=False)",
      "execution_count": null,
      "outputs": []
    },
    {
      "metadata": {
        "trusted": true,
        "_uuid": "df88f1e600690b464ee9386b3e9092f0433e2058"
      },
      "cell_type": "code",
      "source": "lgb_cv",
      "execution_count": null,
      "outputs": []
    },
    {
      "metadata": {
        "_uuid": "15c328686b7899ce62ae25fed27ba9c9d5d98bb0"
      },
      "cell_type": "markdown",
      "source": "Results without categorical_feature=['month','dayofweek','weekofyear'].\n[200]\tcv_agg's rmse: 3.69075 + 0.0319068\n[400]\tcv_agg's rmse: 3.6695 + 0.0304884\n[600]\tcv_agg's rmse: 3.66173 + 0.0294372\n[800]\tcv_agg's rmse: 3.65849 + 0.0290465\n[1000]\tcv_agg's rmse: 3.65738 + 0.0285758\n[1200]\tcv_agg's rmse: 3.65658 + 0.0280419\n[1400]\tcv_agg's rmse: 3.65644 + 0.0274495\n[1600]\tcv_agg's rmse: 3.65649 + 0.0271829\n[1800]\tcv_agg's rmse: 3.65663 + 0.0268914"
    },
    {
      "metadata": {
        "trusted": true,
        "_uuid": "e420bc01a97d8c2b0fe6aae4f05c60764ab8b855"
      },
      "cell_type": "code",
      "source": "lgb_cv['rmse-mean'].index(min(lgb_cv['rmse-mean']))",
      "execution_count": null,
      "outputs": []
    },
    {
      "metadata": {
        "trusted": true,
        "_uuid": "3717663a09685b873f55e044cd82b71bebde8f4e"
      },
      "cell_type": "code",
      "source": "min(lgb_cv['rmse-mean'])",
      "execution_count": null,
      "outputs": []
    },
    {
      "metadata": {
        "trusted": true,
        "_uuid": "13e27c9da41c7b91247e1ddd3d428f694dd5f4d2"
      },
      "cell_type": "code",
      "source": "len(lgb_cv['rmse-mean'])",
      "execution_count": null,
      "outputs": []
    },
    {
      "metadata": {
        "_uuid": "be6bb056ff3fc60c5155a8f1b2982c8e352477f0"
      },
      "cell_type": "markdown",
      "source": "Original wang results:\n\n[200]\tcv_agg's rmse: 3.68161 + 0.0299797\n[400]\tcv_agg's rmse: 3.66225 + 0.0286057\n[600]\tcv_agg's rmse: 3.65503 + 0.0277111\n[800]\tcv_agg's rmse: 3.65259 + 0.0276703\n[1000]\tcv_agg's rmse: 3.65156 + 0.027532\n[1200]\tcv_agg's rmse: 3.65109 + 0.0273339\n[1400]\tcv_agg's rmse: 3.65112 + 0.0268877\n[1600]\tcv_agg's rmse: 3.65121 + 0.0265736\n[1800]\tcv_agg's rmse: 3.65127 + 0.0266131"
    },
    {
      "metadata": {
        "_uuid": "d1a06954b45d854a7ae886880422cc9aa812dddd"
      },
      "cell_type": "markdown",
      "source": "lgb.cv show's that num_boost_round is around 2000, so we train a model with num_boost_round=2000"
    },
    {
      "metadata": {
        "_uuid": "b9784b6a369ad5a7f9787bcaebc082d5b07f38ed",
        "scrolled": false,
        "trusted": true
      },
      "cell_type": "code",
      "source": "clf = lgb.train(param, trn_data, 2000, valid_sets=(trn_data), verbose_eval=200)",
      "execution_count": null,
      "outputs": []
    },
    {
      "metadata": {
        "_uuid": "059299c3e017380d56bae8733a6d1af9f1af3448"
      },
      "cell_type": "markdown",
      "source": "Original Wang's results:\n[200]\ttraining's rmse: 3.57275\n[400]\ttraining's rmse: 3.48472\n[600]\ttraining's rmse: 3.42865\n[800]\ttraining's rmse: 3.3851\n[1000]\ttraining's rmse: 3.34906\n[1200]\ttraining's rmse: 3.3155\n[1400]\ttraining's rmse: 3.28252\n[1600]\ttraining's rmse: 3.25342\n[1800]\ttraining's rmse: 3.22531\n[2000]\ttraining's rmse: 3.19685"
    },
    {
      "metadata": {
        "_uuid": "cb9f94bcef907a07167af876fd584bbc56801163"
      },
      "cell_type": "markdown",
      "source": "predict and save"
    },
    {
      "metadata": {
        "_uuid": "15612edf08d0fc342930a49c3da8cd76b7c81820",
        "trusted": true
      },
      "cell_type": "code",
      "source": "y_pred = clf.predict(df_test[df_train_columns], num_iteration=clf.best_iteration)\n\npd.DataFrame({\n        'card_id': df_test.card_id,\n        'target': y_pred\n}).to_csv('wang_lgb_cv_pur_date_1_updated', index=False)\n\n\n### LB: 3.676",
      "execution_count": null,
      "outputs": []
    },
    {
      "metadata": {
        "_uuid": "7fea4b319a7d2701ee1293029217831c437d6911"
      },
      "cell_type": "markdown",
      "source": "## Outlier detection using wang's features"
    },
    {
      "metadata": {
        "_uuid": "b874860a47407bd79444bb78bfbf7f0e8eab0efe"
      },
      "cell_type": "markdown",
      "source": "the param is same as regression and just adjust to binary classification"
    },
    {
      "metadata": {
        "_uuid": "77d25ac4f7deba7a8d36d174a3010b506022507c"
      },
      "cell_type": "markdown",
      "source": "best num_boost_round is 500, so we use 500 to train a classifer"
    },
    {
      "metadata": {
        "trusted": true,
        "_uuid": "24522b807f6aefec3a431dc6e6dd7112ccf1749b"
      },
      "cell_type": "code",
      "source": "outlier = np.zeros(len(target), dtype=np.int)",
      "execution_count": null,
      "outputs": []
    },
    {
      "metadata": {
        "trusted": true,
        "_uuid": "027a2a99dd97a0c1aa93ccb68b9ed05c8277e6d3"
      },
      "cell_type": "code",
      "source": "outlier[target < -33] = 1",
      "execution_count": null,
      "outputs": []
    },
    {
      "metadata": {
        "trusted": true,
        "_uuid": "9b511098220eaa0db7a5a85479d3bc3deef30fea"
      },
      "cell_type": "code",
      "source": "param = {'num_leaves': 31,\n         'min_data_in_leaf': 32, \n         'objective':'binary',\n         'max_depth': -1,\n         'learning_rate': 0.01,\n         \"min_child_samples\": 20,\n         \"boosting\": \"gbdt\",\n         \"feature_fraction\": 0.9,\n         \"bagging_freq\": 1,\n         \"bagging_fraction\": 0.9 ,\n         \"bagging_seed\": 42,\n         \"metric\": 'auc',\n         \"lambda_l1\": 0.1,\n         \"verbosity\": -1,\n         \"nthread\": 48,\n         \"scale_pos_weight\": 15,\n         \"random_state\": 4950}",
      "execution_count": null,
      "outputs": []
    },
    {
      "metadata": {
        "trusted": true,
        "_uuid": "f0025bbc0c54b17b541635fc41713b10cac276ad"
      },
      "cell_type": "code",
      "source": "trn_data = lgb.Dataset(df_train[df_train_columns], label=outlier)#, categorical_feature=categorical_feats)",
      "execution_count": null,
      "outputs": []
    },
    {
      "metadata": {
        "scrolled": true,
        "trusted": true,
        "_uuid": "9aadc9ca5ccd92aeff0024bb2c2cc85a01e94852"
      },
      "cell_type": "code",
      "source": "lgb_cv = lgb.cv(param, trn_data, 10000, early_stopping_rounds=600, verbose_eval=200, stratified=False)",
      "execution_count": null,
      "outputs": []
    },
    {
      "metadata": {
        "trusted": true,
        "_uuid": "7eee761dbbd5654169bac951f2dc16c567e749b4"
      },
      "cell_type": "code",
      "source": "lgb_cv['auc-mean'][-1]",
      "execution_count": null,
      "outputs": []
    },
    {
      "metadata": {
        "trusted": true,
        "_uuid": "2495dc92fdc9f4da2f71cc21434e52de16a4a11b"
      },
      "cell_type": "code",
      "source": "clf = lgb.train(param, trn_data, 500, verbose_eval=100, valid_sets=(trn_data))",
      "execution_count": null,
      "outputs": []
    },
    {
      "metadata": {
        "trusted": true,
        "_uuid": "c439b2f95aa092128775407608319017fe3c8467"
      },
      "cell_type": "code",
      "source": "te_prob = clf.predict(df_test[df_train_columns])",
      "execution_count": null,
      "outputs": []
    },
    {
      "metadata": {
        "trusted": true,
        "_uuid": "e9a451fcf28b3cb6c6874f511564cc00a8fe8f0f"
      },
      "cell_type": "code",
      "source": "te_prob.min(), te_prob.max()",
      "execution_count": null,
      "outputs": []
    },
    {
      "metadata": {
        "trusted": true,
        "_uuid": "c502df533d842003368cc56d698ef4f12264b1fa"
      },
      "cell_type": "code",
      "source": "wang_out=pd.read_csv('wang_lgb_cv_pur_date_1_updated')\nwang_out['outlier_prob1'] = te_prob",
      "execution_count": null,
      "outputs": []
    },
    {
      "metadata": {
        "trusted": true,
        "_uuid": "ccc8a888430a7f89e11289d67f9ad89228a66ca3"
      },
      "cell_type": "code",
      "source": "_40=wang_out.sort_values('outlier_prob1',ascending=False)",
      "execution_count": null,
      "outputs": []
    },
    {
      "metadata": {
        "trusted": true,
        "_uuid": "2894ec2b5e7c45c10df2fcd3a89d1ad0983bd578"
      },
      "cell_type": "code",
      "source": "top20 = _40.card_id.values[:20].tolist()",
      "execution_count": null,
      "outputs": []
    },
    {
      "metadata": {
        "trusted": true,
        "_uuid": "826d1f8b9d33dd8c22c186e07386530d3206bc94"
      },
      "cell_type": "code",
      "source": "wang_out.loc[wang_out.card_id.isin(top20), 'target'] = -33.21928095\nwang_out[['card_id', 'target']].to_csv('wang_lgb_cv_pur_date_1_updated_top20.csv', index=False)\n\n##LB: 3.671",
      "execution_count": null,
      "outputs": []
    },
    {
      "metadata": {
        "trusted": true,
        "_uuid": "46eabe3bfb28c5b8f3e5333b4928091a23f263c2"
      },
      "cell_type": "code",
      "source": "top20_50 = _40.card_id.values[20:80].tolist()",
      "execution_count": null,
      "outputs": []
    },
    {
      "metadata": {
        "trusted": true,
        "_uuid": "64b0b1574c197342f2ddcbb46a02b91716467e0f"
      },
      "cell_type": "code",
      "source": "top20_50_df = wang_out[wang_out.card_id.isin(top20_50)]",
      "execution_count": null,
      "outputs": []
    },
    {
      "metadata": {
        "trusted": true,
        "_uuid": "55fbc16ccfd044c2994a104a01bf30d25a558577"
      },
      "cell_type": "code",
      "source": "top20_50_target = top20_50_df.outlier_prob1 * (-33.21928095)",
      "execution_count": null,
      "outputs": []
    },
    {
      "metadata": {
        "trusted": true,
        "_uuid": "f4d1bd9c5b60057498174de96e7caa4f0dae1d70"
      },
      "cell_type": "code",
      "source": "wang_out.loc[wang_out.card_id.isin(top20_50), 'target'] = top20_50_target",
      "execution_count": null,
      "outputs": []
    },
    {
      "metadata": {
        "trusted": true,
        "_uuid": "d7d03beb6c39d3c722739ece77e12eb57e410ef8"
      },
      "cell_type": "code",
      "source": "wang_out[['card_id', 'target']].to_csv('wang_lgb_cv_pur_date_1_updated_top20_top20-50.csv', index=False)\n\n##LB: 3.668",
      "execution_count": null,
      "outputs": []
    },
    {
      "metadata": {
        "trusted": true,
        "_uuid": "498147b51416ef70844819d15bd4ce6e74066122"
      },
      "cell_type": "code",
      "source": "wang_out.loc[wang_out.card_id.isin(top20_50)]",
      "execution_count": null,
      "outputs": []
    },
    {
      "metadata": {
        "trusted": true,
        "_uuid": "d0b4d125981bc79f79905cb830617d7b27511574"
      },
      "cell_type": "code",
      "source": "",
      "execution_count": null,
      "outputs": []
    }
  ],
  "metadata": {
    "kernelspec": {
      "display_name": "Python 3",
      "language": "python",
      "name": "python3"
    },
    "language_info": {
      "name": "python",
      "version": "3.6.6",
      "mimetype": "text/x-python",
      "codemirror_mode": {
        "name": "ipython",
        "version": 3
      },
      "pygments_lexer": "ipython3",
      "nbconvert_exporter": "python",
      "file_extension": ".py"
    }
  },
  "nbformat": 4,
  "nbformat_minor": 1
}