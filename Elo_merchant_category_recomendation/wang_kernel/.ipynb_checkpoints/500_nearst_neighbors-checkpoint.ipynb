{
 "cells": [
  {
   "cell_type": "code",
   "execution_count": null,
   "metadata": {
    "_cell_guid": "b1076dfc-b9ad-4769-8c92-a6c4dae69d19",
    "_uuid": "8f2839f25d086af736a60e9eeb907d3b93b6e0e5"
   },
   "outputs": [],
   "source": [
    "# This Python 3 environment comes with many helpful analytics libraries installed\n",
    "# It is defined by the kaggle/python docker image: https://github.com/kaggle/docker-python\n",
    "# For example, here's several helpful packages to load in \n",
    "\n",
    "import numpy as np # linear algebra\n",
    "import pandas as pd # data processing, CSV file I/O (e.g. pd.read_csv)\n",
    "\n",
    "# Input data files are available in the \"../input/\" directory.\n",
    "# For example, running this (by clicking run or pressing Shift+Enter) will list the files in the input directory\n",
    "\n",
    "import os\n",
    "import datetime\n",
    "print(os.listdir(\"../input\"))\n",
    "# Any results you write to the current directory are saved as output."
   ]
  },
  {
   "cell_type": "code",
   "execution_count": null,
   "metadata": {
    "_cell_guid": "79c7e3d0-c299-4dcb-8224-4455121ee9b0",
    "_uuid": "d629ff2d2480ee46fbb7e2d37f6b5fab8052498a"
   },
   "outputs": [],
   "source": [
    "features = ['card_id','purchase_date','subsector_id','merchant_id',\n",
    "            'merchant_category_id','state_id','city_id','purchase_amount']\n",
    "df_train = pd.read_csv('../input/train.csv')\n",
    "df_test = pd.read_csv('../input/test.csv')\n",
    "df_hist_trans = pd.read_csv('../input/historical_transactions.csv',usecols = features)\n",
    "df_new_merchant_trans = pd.read_csv('../input/new_merchant_transactions.csv', usecols = features)"
   ]
  },
  {
   "cell_type": "code",
   "execution_count": null,
   "metadata": {
    "_uuid": "8acf29c6c863e495f0d0823d9ca25889be47435d"
   },
   "outputs": [],
   "source": [
    "for df in [df_hist_trans,df_new_merchant_trans]:\n",
    "    df['purchase_date'] = pd.to_datetime(df['purchase_date'])\n",
    "    df['year'] = df['purchase_date'].dt.year\n",
    "    df['weekofyear'] = df['purchase_date'].dt.weekofyear\n",
    "    df['month'] = df['purchase_date'].dt.month\n",
    "    df['dayofweek'] = df['purchase_date'].dt.dayofweek\n",
    "    df['weekend'] = (df.purchase_date.dt.weekday >=5).astype(int)\n",
    "    df['hour'] = df['purchase_date'].dt.hour\n",
    "    del df['purchase_date']"
   ]
  },
  {
   "cell_type": "code",
   "execution_count": null,
   "metadata": {
    "_uuid": "015d5ae2eb59321cb747f2444fd82ab810567043"
   },
   "outputs": [],
   "source": [
    "def get_new_columns(name,aggs):\n",
    "    #for for 写法 nice\n",
    "    return [name + '_' + k + '_' + agg for k in aggs.keys() for agg in aggs[k]]"
   ]
  },
  {
   "cell_type": "code",
   "execution_count": null,
   "metadata": {
    "_uuid": "746d309260a4f9929e60f533f0c1e4aceb521973"
   },
   "outputs": [],
   "source": [
    "i = 0\n",
    "import gc\n",
    "import time\n",
    "for df in [df_new_merchant_trans,df_hist_trans]:\n",
    "    aggs = {}\n",
    "    for col in ['month','hour','weekofyear','dayofweek','year','subsector_id','merchant_id','merchant_category_id',\n",
    "                'state_id','city_id']:\n",
    "        aggs[col] = ['nunique']\n",
    "    aggs['purchase_amount'] = ['sum','mean']\n",
    "    if i == 0:\n",
    "        prefix = 'new_hist'\n",
    "    else:\n",
    "        prefix = 'hist'\n",
    "    new_columns = get_new_columns(prefix,aggs)\n",
    "    i += 1\n",
    "    df_hist_trans_group = df.groupby('card_id').agg(aggs)\n",
    "    df_hist_trans_group.columns = new_columns\n",
    "    df_hist_trans_group.reset_index(drop=False,inplace=True)\n",
    "    df_train = df_train.merge(df_hist_trans_group,on='card_id',how='left')\n",
    "    df_test = df_test.merge(df_hist_trans_group,on='card_id',how='left')\n",
    "    del df_hist_trans_group\n",
    "    gc.collect()\n",
    "    time.sleep(5)"
   ]
  },
  {
   "cell_type": "code",
   "execution_count": null,
   "metadata": {
    "_uuid": "b84b2d5c91d94a850b27665715067b0a381f6e44"
   },
   "outputs": [],
   "source": [
    "for df in [df_train,df_test]:\n",
    "    df['first_active_month'] = pd.to_datetime(df['first_active_month'])\n",
    "    df['dayofweek'] = df['first_active_month'].dt.dayofweek\n",
    "    df['weekofyear'] = df['first_active_month'].dt.weekofyear\n",
    "    df['month'] = df['first_active_month'].dt.month\n",
    "    df['elapsed_time'] = (datetime.datetime(2018,2,1) - df['first_active_month']).dt.days"
   ]
  },
  {
   "cell_type": "code",
   "execution_count": null,
   "metadata": {
    "_uuid": "1388c1b094c2a785fd80ca0973b527eedfd7a1ab"
   },
   "outputs": [],
   "source": [
    "exclude_features = []\n",
    "exclude_features += ['card_id', 'first_active_month','target','outliers']\n",
    "df_train_columns = [c for c in df_train.columns if c not in exclude_features ]\n",
    "target = df_train['target']"
   ]
  },
  {
   "cell_type": "code",
   "execution_count": null,
   "metadata": {
    "_uuid": "4b6201eb67c18fec2828496ea6144d4d1c6f47dd"
   },
   "outputs": [],
   "source": [
    "len(df_train.columns)"
   ]
  },
  {
   "cell_type": "code",
   "execution_count": null,
   "metadata": {
    "_uuid": "a42c59431ca239d225d387ef9e6034f6ca0388e2"
   },
   "outputs": [],
   "source": [
    "df_train.head()"
   ]
  },
  {
   "cell_type": "code",
   "execution_count": null,
   "metadata": {
    "_uuid": "5945b1c43a5db431f3822ebd825f30c2ab1b0dd6"
   },
   "outputs": [],
   "source": [
    "df_train.fillna(0,inplace = True)\n",
    "df_test.fillna(0,inplace = True)\n",
    "df_test.iloc[1000]"
   ]
  },
  {
   "cell_type": "code",
   "execution_count": null,
   "metadata": {
    "_uuid": "0907db276387bccb7e7516d332bd7d9ee2b6d314"
   },
   "outputs": [],
   "source": [
    "from sklearn import preprocessing\n",
    "min_max_scaler = preprocessing.MinMaxScaler()\n",
    "X_train_minmax = min_max_scaler.fit_transform(df_train[df_train_columns])\n",
    "X_test_minmax = min_max_scaler.fit_transform(df_test[df_train_columns])"
   ]
  },
  {
   "cell_type": "code",
   "execution_count": null,
   "metadata": {
    "_uuid": "094097c4df2af0cefe1c7bcfc7ea982b8a8a77f5"
   },
   "outputs": [],
   "source": [
    "train = pd.DataFrame(X_train_minmax,columns = df_train_columns)\n",
    "train['card_id'] = df_train.card_id\n",
    "train['target'] = df_train.target\n",
    "test = pd.DataFrame(X_test_minmax,columns = df_train_columns)\n",
    "test['card_id'] = df_test.card_id\n",
    "train.head()"
   ]
  },
  {
   "cell_type": "code",
   "execution_count": null,
   "metadata": {
    "_uuid": "0b2c0cb767caccce15f0d4e71da01cd9628cab67"
   },
   "outputs": [],
   "source": [
    "from sklearn.neighbors import NearestNeighbors\n",
    "knn = NearestNeighbors(n_neighbors=500,n_jobs = 4)\n",
    "knn.fit(train[df_train_columns]) "
   ]
  },
  {
   "cell_type": "code",
   "execution_count": null,
   "metadata": {
    "_uuid": "ce7d30f70fd28f24a08db79965c361fb7f796ecd"
   },
   "outputs": [],
   "source": [
    "train_neigh = knn.kneighbors(train[df_train_columns], return_distance=False) \n",
    "test_neigh = knn.kneighbors(test[df_train_columns], return_distance=False) \n",
    "test_neigh[1000]"
   ]
  },
  {
   "cell_type": "code",
   "execution_count": null,
   "metadata": {
    "_uuid": "e34c1d81fedecea819b7ec74dfae0b55baa0dd2c"
   },
   "outputs": [],
   "source": [
    "train.iloc[0].target"
   ]
  },
  {
   "cell_type": "code",
   "execution_count": null,
   "metadata": {
    "_uuid": "4173463bd4ba83aecb32f093ccae60864a45f93d"
   },
   "outputs": [],
   "source": [
    "train_target = np.zeros(len(df_train))"
   ]
  },
  {
   "cell_type": "code",
   "execution_count": null,
   "metadata": {
    "_uuid": "8342443fe21f7a7c96b60400d3007218f82182d4"
   },
   "outputs": [],
   "source": [
    "for i in range(len(df_train)):\n",
    "    cur = train_neigh[i]\n",
    "    target_mean = 0\n",
    "    for index in cur:\n",
    "        target_mean += train.iloc[index].target\n",
    "    train_target[i] = target_mean / len(cur)\n",
    "    if i % 1000 == 0:\n",
    "        print(i)\n",
    "df_train_target = pd.DataFrame(train_target)\n",
    "df_train_target['card_id'] = df_train.card_id"
   ]
  },
  {
   "cell_type": "code",
   "execution_count": null,
   "metadata": {
    "_uuid": "dd1430dade9c347ec13e3c54250578d8d3c5b758"
   },
   "outputs": [],
   "source": [
    "test_target = np.zeros(len(df_test))\n",
    "for i in range(len(df_test)):\n",
    "    cur = test_neigh[i]\n",
    "    target_mean = 0\n",
    "    for index in cur:\n",
    "        target_mean += train.iloc[index].target\n",
    "    test_target[i] = target_mean / len(cur)\n",
    "    if i % 1000 == 0:\n",
    "        print(i)\n",
    "df_test_target = pd.DataFrame(test_target)\n",
    "df_test_target['card_id'] = df_test.card_id"
   ]
  },
  {
   "cell_type": "code",
   "execution_count": null,
   "metadata": {
    "_uuid": "7d059c69c47ad211b005ecd6d798849ce7e4461a"
   },
   "outputs": [],
   "source": [
    "df_train_50_neastneighbor.columns = ['50nearstneighbor','card_id']\n",
    "df_test_50_neastneighbor.columns = ['50nearstneighbor','card_id']\n",
    "df_train_target.to_pickle('train_target_50nearst_neighbor.pickle')\n",
    "df_test_target.to_pickle('test_target_50nearst_neighbor.pickle')"
   ]
  }
 ],
 "metadata": {
  "kernelspec": {
   "display_name": "Python 3",
   "language": "python",
   "name": "python3"
  },
  "language_info": {
   "codemirror_mode": {
    "name": "ipython",
    "version": 3
   },
   "file_extension": ".py",
   "mimetype": "text/x-python",
   "name": "python",
   "nbconvert_exporter": "python",
   "pygments_lexer": "ipython3",
   "version": "3.6.4"
  }
 },
 "nbformat": 4,
 "nbformat_minor": 1
}
