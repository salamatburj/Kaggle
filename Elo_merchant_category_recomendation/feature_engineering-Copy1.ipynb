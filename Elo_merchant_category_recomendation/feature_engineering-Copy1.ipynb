{
 "cells": [
  {
   "cell_type": "markdown",
   "metadata": {
    "_uuid": "6df55b542f152882e00385a0f73198f4e3bc4316"
   },
   "source": [
    "Changing feature enginering"
   ]
  },
  {
   "cell_type": "code",
   "execution_count": 1,
   "metadata": {
    "_cell_guid": "b1076dfc-b9ad-4769-8c92-a6c4dae69d19",
    "_uuid": "8f2839f25d086af736a60e9eeb907d3b93b6e0e5"
   },
   "outputs": [],
   "source": [
    "import numpy as np\n",
    "import pandas as pd\n",
    "import datetime\n",
    "import gc\n",
    "import matplotlib.pyplot as plt\n",
    "import seaborn as sns\n",
    "import lightgbm as lgb\n",
    "from sklearn.model_selection import StratifiedKFold\n",
    "from sklearn.metrics import mean_squared_error\n",
    "import warnings\n",
    "warnings.filterwarnings('ignore')\n",
    "np.random.seed(4590)"
   ]
  },
  {
   "cell_type": "code",
   "execution_count": 5,
   "metadata": {
    "_uuid": "3f389b05b579223e6833cc0a824c8256d037a3f3"
   },
   "outputs": [],
   "source": [
    "def reduce_mem_usage(df, verbose=True):\n",
    "    numerics = ['int16', 'int32', 'int64', 'float16', 'float32', 'float64']\n",
    "    start_mem = df.memory_usage().sum() / 1024**2    \n",
    "    for col in df.columns:\n",
    "        col_type = df[col].dtypes\n",
    "        if col_type in numerics:\n",
    "            c_min = df[col].min()\n",
    "            c_max = df[col].max()\n",
    "            if str(col_type)[:3] == 'int':\n",
    "                if c_min > np.iinfo(np.int8).min and c_max < np.iinfo(np.int8).max:\n",
    "                    df[col] = df[col].astype(np.int8)\n",
    "                elif c_min > np.iinfo(np.int16).min and c_max < np.iinfo(np.int16).max:\n",
    "                    df[col] = df[col].astype(np.int16)\n",
    "                elif c_min > np.iinfo(np.int32).min and c_max < np.iinfo(np.int32).max:\n",
    "                    df[col] = df[col].astype(np.int32)\n",
    "                elif c_min > np.iinfo(np.int64).min and c_max < np.iinfo(np.int64).max:\n",
    "                    df[col] = df[col].astype(np.int64)  \n",
    "            else:\n",
    "                if c_min > np.finfo(np.float16).min and c_max < np.finfo(np.float16).max:\n",
    "                    df[col] = df[col].astype(np.float16)\n",
    "                elif c_min > np.finfo(np.float32).min and c_max < np.finfo(np.float32).max:\n",
    "                    df[col] = df[col].astype(np.float32)\n",
    "                else:\n",
    "                    df[col] = df[col].astype(np.float64)    \n",
    "    end_mem = df.memory_usage().sum() / 1024**2\n",
    "    if verbose: print('Mem. usage decreased to {:5.2f} Mb ({:.1f}% reduction)'.format(end_mem, 100 * (start_mem - end_mem) / start_mem))\n",
    "    return df"
   ]
  },
  {
   "cell_type": "code",
   "execution_count": 3,
   "metadata": {
    "_cell_guid": "79c7e3d0-c299-4dcb-8224-4455121ee9b0",
    "_uuid": "d629ff2d2480ee46fbb7e2d37f6b5fab8052498a"
   },
   "outputs": [],
   "source": [
    "df_train = pd.read_csv('C:/Users/user/Documents/Salamat/ELO/train.csv')\n",
    "df_test = pd.read_csv('C:/Users/user/Documents/Salamat/ELO/test.csv')\n",
    "df_hist_trans = pd.read_csv('C:/Users/user/Documents/Salamat/ELO/historical_transactions.csv')\n",
    "df_new_merchant_trans = pd.read_csv('C:/Users/user/Documents/Salamat/ELO/new_merchant_transactions.csv')"
   ]
  },
  {
   "cell_type": "code",
   "execution_count": 6,
   "metadata": {
    "_uuid": "d349a4ebccd9cb8250ff796f0d631ad9a73dffc4"
   },
   "outputs": [
    {
     "name": "stdout",
     "output_type": "stream",
     "text": [
      "Mem. usage decreased to  4.04 Mb (56.2% reduction)\n",
      "Mem. usage decreased to  2.24 Mb (52.5% reduction)\n",
      "Mem. usage decreased to 1749.11 Mb (43.7% reduction)\n",
      "Mem. usage decreased to 114.20 Mb (45.5% reduction)\n"
     ]
    }
   ],
   "source": [
    "df_train=reduce_mem_usage(df_train)\n",
    "df_test=reduce_mem_usage(df_test)\n",
    "df_hist_trans=reduce_mem_usage(df_hist_trans)\n",
    "df_new_merchant_trans=reduce_mem_usage(df_new_merchant_trans)"
   ]
  },
  {
   "cell_type": "markdown",
   "metadata": {
    "_uuid": "4bb2197eb33a2851d8d70f1fe098ef0563597999"
   },
   "source": [
    "Count number of purchases made in each merchant. We will use it to fill NaN values by most frequent merchant id."
   ]
  },
  {
   "cell_type": "markdown",
   "metadata": {
    "_uuid": "601820a5d56bb7d5684175b9984400d0f97e50ff"
   },
   "source": [
    "Chech weather we have NaN values in the following categories"
   ]
  },
  {
   "cell_type": "code",
   "execution_count": 7,
   "metadata": {
    "_uuid": "17c82db187a7750f9aca86e338fd2e1683ec3d66",
    "scrolled": false
   },
   "outputs": [
    {
     "data": {
      "text/plain": [
       "authorized_flag         False\n",
       "card_id                 False\n",
       "city_id                 False\n",
       "category_1              False\n",
       "installments            False\n",
       "category_3               True\n",
       "merchant_category_id    False\n",
       "merchant_id              True\n",
       "month_lag               False\n",
       "purchase_amount         False\n",
       "purchase_date           False\n",
       "category_2               True\n",
       "state_id                False\n",
       "subsector_id            False\n",
       "dtype: bool"
      ]
     },
     "execution_count": 7,
     "metadata": {},
     "output_type": "execute_result"
    }
   ],
   "source": [
    "df_hist_trans.isnull().any()"
   ]
  },
  {
   "cell_type": "code",
   "execution_count": 8,
   "metadata": {
    "_uuid": "bcd8ba3e3b9d0b11ea0229956debcee205969e56",
    "scrolled": true
   },
   "outputs": [
    {
     "data": {
      "text/plain": [
       "authorized_flag         False\n",
       "card_id                 False\n",
       "city_id                 False\n",
       "category_1              False\n",
       "installments            False\n",
       "category_3               True\n",
       "merchant_category_id    False\n",
       "merchant_id              True\n",
       "month_lag               False\n",
       "purchase_amount         False\n",
       "purchase_date           False\n",
       "category_2               True\n",
       "state_id                False\n",
       "subsector_id            False\n",
       "dtype: bool"
      ]
     },
     "execution_count": 8,
     "metadata": {},
     "output_type": "execute_result"
    }
   ],
   "source": [
    "df_new_merchant_trans.isnull().any()"
   ]
  },
  {
   "cell_type": "markdown",
   "metadata": {
    "_uuid": "f05ab92acdc570ee3ae892b7186df1e0cc05ecb4"
   },
   "source": [
    "It seems that 'category_2' , 'category_3' and 'mechant_id' has Nan values in historical and new mechant transactions. Now, let's count values in each of this categories for historical transactions. Let's start with 'category_2'"
   ]
  },
  {
   "cell_type": "code",
   "execution_count": 9,
   "metadata": {
    "_uuid": "481a00592daff8f169851827aa23e6e4ec2cfb8e",
    "scrolled": false
   },
   "outputs": [
    {
     "data": {
      "text/plain": [
       " 1.0    15177199\n",
       " 3.0     3911795\n",
       " 5.0     3725915\n",
       "NaN      2652864\n",
       " 4.0     2618053\n",
       " 2.0     1026535\n",
       "Name: category_2, dtype: int64"
      ]
     },
     "execution_count": 9,
     "metadata": {},
     "output_type": "execute_result"
    }
   ],
   "source": [
    "df_hist_trans.category_2.value_counts(dropna=False)"
   ]
  },
  {
   "cell_type": "markdown",
   "metadata": {
    "_uuid": "f57f38eb78442539e3945bb7fca178e6bc1906ae"
   },
   "source": [
    "There is 2652864 Nan values in 'category_2'. Now, let's check if in each 'card_id' 'category_2' have only 'Nan' unique value and change it to the most frequent values found in the whole history transacations. Most frequent seems to be 1.(in the above cell).\n",
    "\n",
    "In order to check we can use groupby and sum function. By setting min_count=1, we can get nan value for sum of nan array, if we didn't it will give zero by default."
   ]
  },
  {
   "cell_type": "code",
   "execution_count": 10,
   "metadata": {
    "_uuid": "10ba14f38d5912f51d117141ac3e3df501f00618"
   },
   "outputs": [],
   "source": [
    "group_cat2=df_hist_trans.groupby(['card_id']).category_2.sum(min_count=1)"
   ]
  },
  {
   "cell_type": "markdown",
   "metadata": {
    "_uuid": "000bd8781d10b5d64f7cebfe185fe89ad296877a"
   },
   "source": [
    "Now let's select those who have non-values only"
   ]
  },
  {
   "cell_type": "code",
   "execution_count": 11,
   "metadata": {
    "_uuid": "d36829fe5eb68d7bd7aafebc632b42abd09901bd"
   },
   "outputs": [],
   "source": [
    "group_cat2_nan=group_cat2[group_cat2.isnull()]"
   ]
  },
  {
   "cell_type": "code",
   "execution_count": 12,
   "metadata": {
    "_uuid": "e31c9828aebedcb98261fea2b990506cc63fe9f5"
   },
   "outputs": [
    {
     "data": {
      "text/plain": [
       "card_id\n",
       "C_ID_001b4c5151   NaN\n",
       "C_ID_001c09a36b   NaN\n",
       "C_ID_0028e15a78   NaN\n",
       "C_ID_002b706ded   NaN\n",
       "C_ID_0030e0945f   NaN\n",
       "Name: category_2, dtype: float16"
      ]
     },
     "execution_count": 12,
     "metadata": {},
     "output_type": "execute_result"
    }
   ],
   "source": [
    "group_cat2_nan.head()"
   ]
  },
  {
   "cell_type": "markdown",
   "metadata": {
    "_uuid": "18a8ec540fe8d4444d9eb3a53158799a5d5e2c4b"
   },
   "source": [
    "I am setting index as 'card_id'. In order to , change 'category_2' values. I tried just by using \n",
    "df_hist_trans.loc[df_hist_trans.card_id.isin(group_cat2_nan.index)].category_2=1\n",
    "or \n",
    "df_hist_trans[df_hist_trans.card_id.isin(group_cat2_nan.index)].category_2\n",
    "and you can check by\n",
    "df_hist_trans.loc[df_hist_trans.card_id.isin(group_cat2_nan.index)].category_2\n",
    "or\n",
    "df_hist_trans.loc[df_hist_trans.card_id.isin(group_cat2_nan.index)].category_2\n",
    "You will see that values do not change. Both of this methods gives copy from the dataframe so we can't change it. It seems when you use masking(df_hist_trans.card_id.isin(group_cat2_nan.index)) you will have copy. \n",
    "Therefore, I decided to call from index and index will be 'card_id'.\n"
   ]
  },
  {
   "cell_type": "code",
   "execution_count": 13,
   "metadata": {
    "_uuid": "dc15c593d833a09a4b72b4714eae2e127a127224"
   },
   "outputs": [],
   "source": [
    "df_hist_trans[df_hist_trans.card_id.isin(group_cat2_nan.index)].category_2=1"
   ]
  },
  {
   "cell_type": "code",
   "execution_count": 14,
   "metadata": {
    "_uuid": "c3a4377a7dfc0eb3bff42251a48ad0bcd2aa29aa",
    "scrolled": true
   },
   "outputs": [
    {
     "data": {
      "text/plain": [
       "15207   NaN\n",
       "15208   NaN\n",
       "15209   NaN\n",
       "15210   NaN\n",
       "15211   NaN\n",
       "Name: category_2, dtype: float16"
      ]
     },
     "execution_count": 14,
     "metadata": {},
     "output_type": "execute_result"
    }
   ],
   "source": [
    "df_hist_trans[df_hist_trans.card_id.isin(group_cat2_nan.index)].category_2.head()"
   ]
  },
  {
   "cell_type": "markdown",
   "metadata": {
    "_uuid": "86429d3c9b2272729b8755e9daf4cee6b13b5051"
   },
   "source": [
    "You can see that it doesn't work. So , let's change index of df_hist_trans to 'card_id'. Call dataframe from their respective indexes"
   ]
  },
  {
   "cell_type": "code",
   "execution_count": 15,
   "metadata": {
    "_kg_hide-input": true,
    "_uuid": "30b5350b5928ea6e8cc46a49b824ad6b5f3dffa3",
    "scrolled": false
   },
   "outputs": [],
   "source": [
    "df_hist_trans.set_index('card_id',inplace=True)"
   ]
  },
  {
   "cell_type": "code",
   "execution_count": 16,
   "metadata": {
    "_uuid": "49e9b8cd0906aebd178a04916b386777ad8360e9"
   },
   "outputs": [],
   "source": [
    "df_hist_trans.loc[group_cat2_nan.index,'category_2']=1"
   ]
  },
  {
   "cell_type": "code",
   "execution_count": 17,
   "metadata": {
    "_uuid": "0150514fe63eed35badef8e20ee18f7f9ae83e66",
    "scrolled": false
   },
   "outputs": [
    {
     "data": {
      "text/plain": [
       "array([ 1.])"
      ]
     },
     "execution_count": 17,
     "metadata": {},
     "output_type": "execute_result"
    }
   ],
   "source": [
    "df_hist_trans.loc[group_cat2_nan.index,'category_2'].unique()"
   ]
  },
  {
   "cell_type": "markdown",
   "metadata": {
    "_uuid": "b48b6d5fbb92bb264545dac7b9cd953d0f321a5c"
   },
   "source": [
    "Now, we only changed the once which have only NaN values in 'category_2'. Let's check how many nan are still there. So nan values are reduced by 115446."
   ]
  },
  {
   "cell_type": "code",
   "execution_count": 18,
   "metadata": {
    "_uuid": "7973d86538ae649c30b5e0d7a74a526e8ed25d1b",
    "scrolled": true
   },
   "outputs": [
    {
     "data": {
      "text/plain": [
       " 1.0    15327456\n",
       " 3.0     3911795\n",
       " 5.0     3725915\n",
       " 4.0     2618053\n",
       "NaN      2502607\n",
       " 2.0     1026535\n",
       "Name: category_2, dtype: int64"
      ]
     },
     "execution_count": 18,
     "metadata": {},
     "output_type": "execute_result"
    }
   ],
   "source": [
    "df_hist_trans.category_2.value_counts(dropna=False)"
   ]
  },
  {
   "cell_type": "markdown",
   "metadata": {
    "_uuid": "6587b251a9053dee27b669ee486097f859b52883"
   },
   "source": [
    "Now let's reset_index and groupby 'card_id' and 'category' . We can look at number of counts in each category of 'category_2'."
   ]
  },
  {
   "cell_type": "code",
   "execution_count": 19,
   "metadata": {
    "_uuid": "633e28186286a8a5945f8f665314878c983902bf"
   },
   "outputs": [],
   "source": [
    "df_hist_trans.reset_index(inplace=True)"
   ]
  },
  {
   "cell_type": "code",
   "execution_count": 20,
   "metadata": {
    "_uuid": "9d600174cf2125c86f6fedbafc6e9622faa10a9e"
   },
   "outputs": [],
   "source": [
    "category_2_count=df_hist_trans.groupby(['card_id','category_2']).count()"
   ]
  },
  {
   "cell_type": "code",
   "execution_count": 21,
   "metadata": {
    "_uuid": "dc8a124789c5e8e131d556d0cac929621dde4c0a",
    "scrolled": true
   },
   "outputs": [
    {
     "data": {
      "text/html": [
       "<div>\n",
       "<style scoped>\n",
       "    .dataframe tbody tr th:only-of-type {\n",
       "        vertical-align: middle;\n",
       "    }\n",
       "\n",
       "    .dataframe tbody tr th {\n",
       "        vertical-align: top;\n",
       "    }\n",
       "\n",
       "    .dataframe thead th {\n",
       "        text-align: right;\n",
       "    }\n",
       "</style>\n",
       "<table border=\"1\" class=\"dataframe\">\n",
       "  <thead>\n",
       "    <tr style=\"text-align: right;\">\n",
       "      <th></th>\n",
       "      <th></th>\n",
       "      <th>authorized_flag</th>\n",
       "      <th>city_id</th>\n",
       "      <th>category_1</th>\n",
       "      <th>installments</th>\n",
       "      <th>category_3</th>\n",
       "      <th>merchant_category_id</th>\n",
       "      <th>merchant_id</th>\n",
       "      <th>month_lag</th>\n",
       "      <th>purchase_amount</th>\n",
       "      <th>purchase_date</th>\n",
       "      <th>state_id</th>\n",
       "      <th>subsector_id</th>\n",
       "    </tr>\n",
       "    <tr>\n",
       "      <th>card_id</th>\n",
       "      <th>category_2</th>\n",
       "      <th></th>\n",
       "      <th></th>\n",
       "      <th></th>\n",
       "      <th></th>\n",
       "      <th></th>\n",
       "      <th></th>\n",
       "      <th></th>\n",
       "      <th></th>\n",
       "      <th></th>\n",
       "      <th></th>\n",
       "      <th></th>\n",
       "      <th></th>\n",
       "    </tr>\n",
       "  </thead>\n",
       "  <tbody>\n",
       "    <tr>\n",
       "      <th rowspan=\"2\" valign=\"top\">C_ID_00007093c1</th>\n",
       "      <th>3.0</th>\n",
       "      <td>120</td>\n",
       "      <td>120</td>\n",
       "      <td>120</td>\n",
       "      <td>120</td>\n",
       "      <td>120</td>\n",
       "      <td>120</td>\n",
       "      <td>120</td>\n",
       "      <td>120</td>\n",
       "      <td>120</td>\n",
       "      <td>120</td>\n",
       "      <td>120</td>\n",
       "      <td>120</td>\n",
       "    </tr>\n",
       "    <tr>\n",
       "      <th>5.0</th>\n",
       "      <td>1</td>\n",
       "      <td>1</td>\n",
       "      <td>1</td>\n",
       "      <td>1</td>\n",
       "      <td>1</td>\n",
       "      <td>1</td>\n",
       "      <td>1</td>\n",
       "      <td>1</td>\n",
       "      <td>1</td>\n",
       "      <td>1</td>\n",
       "      <td>1</td>\n",
       "      <td>1</td>\n",
       "    </tr>\n",
       "    <tr>\n",
       "      <th rowspan=\"2\" valign=\"top\">C_ID_0001238066</th>\n",
       "      <th>1.0</th>\n",
       "      <td>95</td>\n",
       "      <td>95</td>\n",
       "      <td>95</td>\n",
       "      <td>95</td>\n",
       "      <td>94</td>\n",
       "      <td>95</td>\n",
       "      <td>95</td>\n",
       "      <td>95</td>\n",
       "      <td>95</td>\n",
       "      <td>95</td>\n",
       "      <td>95</td>\n",
       "      <td>95</td>\n",
       "    </tr>\n",
       "    <tr>\n",
       "      <th>5.0</th>\n",
       "      <td>20</td>\n",
       "      <td>20</td>\n",
       "      <td>20</td>\n",
       "      <td>20</td>\n",
       "      <td>19</td>\n",
       "      <td>20</td>\n",
       "      <td>20</td>\n",
       "      <td>20</td>\n",
       "      <td>20</td>\n",
       "      <td>20</td>\n",
       "      <td>20</td>\n",
       "      <td>20</td>\n",
       "    </tr>\n",
       "    <tr>\n",
       "      <th rowspan=\"2\" valign=\"top\">C_ID_0001506ef0</th>\n",
       "      <th>1.0</th>\n",
       "      <td>2</td>\n",
       "      <td>2</td>\n",
       "      <td>2</td>\n",
       "      <td>2</td>\n",
       "      <td>2</td>\n",
       "      <td>2</td>\n",
       "      <td>2</td>\n",
       "      <td>2</td>\n",
       "      <td>2</td>\n",
       "      <td>2</td>\n",
       "      <td>2</td>\n",
       "      <td>2</td>\n",
       "    </tr>\n",
       "    <tr>\n",
       "      <th>3.0</th>\n",
       "      <td>64</td>\n",
       "      <td>64</td>\n",
       "      <td>64</td>\n",
       "      <td>64</td>\n",
       "      <td>64</td>\n",
       "      <td>64</td>\n",
       "      <td>64</td>\n",
       "      <td>64</td>\n",
       "      <td>64</td>\n",
       "      <td>64</td>\n",
       "      <td>64</td>\n",
       "      <td>64</td>\n",
       "    </tr>\n",
       "    <tr>\n",
       "      <th rowspan=\"3\" valign=\"top\">C_ID_0001793786</th>\n",
       "      <th>1.0</th>\n",
       "      <td>11</td>\n",
       "      <td>11</td>\n",
       "      <td>11</td>\n",
       "      <td>11</td>\n",
       "      <td>11</td>\n",
       "      <td>11</td>\n",
       "      <td>11</td>\n",
       "      <td>11</td>\n",
       "      <td>11</td>\n",
       "      <td>11</td>\n",
       "      <td>11</td>\n",
       "      <td>11</td>\n",
       "    </tr>\n",
       "    <tr>\n",
       "      <th>2.0</th>\n",
       "      <td>76</td>\n",
       "      <td>76</td>\n",
       "      <td>76</td>\n",
       "      <td>76</td>\n",
       "      <td>76</td>\n",
       "      <td>76</td>\n",
       "      <td>76</td>\n",
       "      <td>76</td>\n",
       "      <td>76</td>\n",
       "      <td>76</td>\n",
       "      <td>76</td>\n",
       "      <td>76</td>\n",
       "    </tr>\n",
       "    <tr>\n",
       "      <th>3.0</th>\n",
       "      <td>15</td>\n",
       "      <td>15</td>\n",
       "      <td>15</td>\n",
       "      <td>15</td>\n",
       "      <td>15</td>\n",
       "      <td>15</td>\n",
       "      <td>15</td>\n",
       "      <td>15</td>\n",
       "      <td>15</td>\n",
       "      <td>15</td>\n",
       "      <td>15</td>\n",
       "      <td>15</td>\n",
       "    </tr>\n",
       "    <tr>\n",
       "      <th>C_ID_000183fdda</th>\n",
       "      <th>1.0</th>\n",
       "      <td>7</td>\n",
       "      <td>7</td>\n",
       "      <td>7</td>\n",
       "      <td>7</td>\n",
       "      <td>7</td>\n",
       "      <td>7</td>\n",
       "      <td>7</td>\n",
       "      <td>7</td>\n",
       "      <td>7</td>\n",
       "      <td>7</td>\n",
       "      <td>7</td>\n",
       "      <td>7</td>\n",
       "    </tr>\n",
       "  </tbody>\n",
       "</table>\n",
       "</div>"
      ],
      "text/plain": [
       "                            authorized_flag  city_id  category_1  \\\n",
       "card_id         category_2                                         \n",
       "C_ID_00007093c1 3.0                     120      120         120   \n",
       "                5.0                       1        1           1   \n",
       "C_ID_0001238066 1.0                      95       95          95   \n",
       "                5.0                      20       20          20   \n",
       "C_ID_0001506ef0 1.0                       2        2           2   \n",
       "                3.0                      64       64          64   \n",
       "C_ID_0001793786 1.0                      11       11          11   \n",
       "                2.0                      76       76          76   \n",
       "                3.0                      15       15          15   \n",
       "C_ID_000183fdda 1.0                       7        7           7   \n",
       "\n",
       "                            installments  category_3  merchant_category_id  \\\n",
       "card_id         category_2                                                   \n",
       "C_ID_00007093c1 3.0                  120         120                   120   \n",
       "                5.0                    1           1                     1   \n",
       "C_ID_0001238066 1.0                   95          94                    95   \n",
       "                5.0                   20          19                    20   \n",
       "C_ID_0001506ef0 1.0                    2           2                     2   \n",
       "                3.0                   64          64                    64   \n",
       "C_ID_0001793786 1.0                   11          11                    11   \n",
       "                2.0                   76          76                    76   \n",
       "                3.0                   15          15                    15   \n",
       "C_ID_000183fdda 1.0                    7           7                     7   \n",
       "\n",
       "                            merchant_id  month_lag  purchase_amount  \\\n",
       "card_id         category_2                                            \n",
       "C_ID_00007093c1 3.0                 120        120              120   \n",
       "                5.0                   1          1                1   \n",
       "C_ID_0001238066 1.0                  95         95               95   \n",
       "                5.0                  20         20               20   \n",
       "C_ID_0001506ef0 1.0                   2          2                2   \n",
       "                3.0                  64         64               64   \n",
       "C_ID_0001793786 1.0                  11         11               11   \n",
       "                2.0                  76         76               76   \n",
       "                3.0                  15         15               15   \n",
       "C_ID_000183fdda 1.0                   7          7                7   \n",
       "\n",
       "                            purchase_date  state_id  subsector_id  \n",
       "card_id         category_2                                         \n",
       "C_ID_00007093c1 3.0                   120       120           120  \n",
       "                5.0                     1         1             1  \n",
       "C_ID_0001238066 1.0                    95        95            95  \n",
       "                5.0                    20        20            20  \n",
       "C_ID_0001506ef0 1.0                     2         2             2  \n",
       "                3.0                    64        64            64  \n",
       "C_ID_0001793786 1.0                    11        11            11  \n",
       "                2.0                    76        76            76  \n",
       "                3.0                    15        15            15  \n",
       "C_ID_000183fdda 1.0                     7         7             7  "
      ]
     },
     "execution_count": 21,
     "metadata": {},
     "output_type": "execute_result"
    }
   ],
   "source": [
    "category_2_count.head(10)"
   ]
  },
  {
   "cell_type": "markdown",
   "metadata": {
    "_uuid": "72e5f449124eda1363bce455e8ff0be1fbd469f6"
   },
   "source": [
    "We need only one column(since all of them are same) let's choose 'authorized_flag'. "
   ]
  },
  {
   "cell_type": "code",
   "execution_count": 22,
   "metadata": {
    "_uuid": "f461ca2ada8addea24bffd71ad362e2c5f0b7565"
   },
   "outputs": [],
   "source": [
    "category_2_count=category_2_count.authorized_flag"
   ]
  },
  {
   "cell_type": "code",
   "execution_count": 23,
   "metadata": {
    "_uuid": "5225035904eb2c73734c870c853d8ef3f07330af"
   },
   "outputs": [
    {
     "data": {
      "text/plain": [
       "card_id          category_2\n",
       "C_ID_00007093c1  3.0           120\n",
       "                 5.0             1\n",
       "C_ID_0001238066  1.0            95\n",
       "                 5.0            20\n",
       "C_ID_0001506ef0  1.0             2\n",
       "                 3.0            64\n",
       "C_ID_0001793786  1.0            11\n",
       "                 2.0            76\n",
       "                 3.0            15\n",
       "C_ID_000183fdda  1.0             7\n",
       "                 2.0             1\n",
       "                 3.0           131\n",
       "                 5.0             1\n",
       "C_ID_00024e244b  1.0             3\n",
       "                 3.0            67\n",
       "C_ID_0002709b5a  1.0             1\n",
       "                 2.0            52\n",
       "                 5.0            14\n",
       "C_ID_00027503e2  1.0             3\n",
       "                 3.0            39\n",
       "Name: authorized_flag, dtype: int64"
      ]
     },
     "execution_count": 23,
     "metadata": {},
     "output_type": "execute_result"
    }
   ],
   "source": [
    "category_2_count.head(20)"
   ]
  },
  {
   "cell_type": "markdown",
   "metadata": {
    "_uuid": "68de402f2218dbd9c765428e40fdf5f8f89827a3"
   },
   "source": [
    "We will need only index of maximum values. We can do it by groupby(level=0), level=0 is 'card_id' in our case."
   ]
  },
  {
   "cell_type": "code",
   "execution_count": 24,
   "metadata": {
    "_uuid": "3a4605710425f5b54f29da1d72a69629c87f64a5"
   },
   "outputs": [],
   "source": [
    "category_2_count_max=category_2_count.groupby(level=0).idxmax()\n",
    "\n"
   ]
  },
  {
   "cell_type": "markdown",
   "metadata": {
    "_uuid": "24e4c2450ea2b9f31a163845a18911fe5df7c432"
   },
   "source": [
    "Now we need only second part of the tuple. Finally, we will obtain Series object with corresponding max count of categories for each 'card_id'"
   ]
  },
  {
   "cell_type": "code",
   "execution_count": 25,
   "metadata": {
    "_uuid": "49dec6e22b6d58bb1b854ad8d507de68afec73a3"
   },
   "outputs": [],
   "source": [
    "category_2_count_max=category_2_count_max.apply(lambda x: x[1])"
   ]
  },
  {
   "cell_type": "code",
   "execution_count": 26,
   "metadata": {
    "_uuid": "aa47b2db47171ec51cd775d12ca3fc1476bd6695",
    "scrolled": false
   },
   "outputs": [
    {
     "data": {
      "text/plain": [
       "card_id\n",
       "C_ID_00007093c1    3.0\n",
       "C_ID_0001238066    1.0\n",
       "C_ID_0001506ef0    3.0\n",
       "C_ID_0001793786    2.0\n",
       "C_ID_000183fdda    3.0\n",
       "Name: authorized_flag, dtype: float64"
      ]
     },
     "execution_count": 26,
     "metadata": {},
     "output_type": "execute_result"
    }
   ],
   "source": [
    "category_2_count_max.head()"
   ]
  },
  {
   "cell_type": "markdown",
   "metadata": {
    "_uuid": "a5059999b14d7bb9be38759dd413c77b27a54a17"
   },
   "source": [
    "Now, we can input most frequent 'category_2' value for each non value in certain 'card_id'"
   ]
  },
  {
   "cell_type": "code",
   "execution_count": 27,
   "metadata": {
    "_uuid": "8d5f635c3f7f89b59ae514fc1b74a150095920ef",
    "scrolled": false
   },
   "outputs": [
    {
     "data": {
      "text/html": [
       "<div>\n",
       "<style scoped>\n",
       "    .dataframe tbody tr th:only-of-type {\n",
       "        vertical-align: middle;\n",
       "    }\n",
       "\n",
       "    .dataframe tbody tr th {\n",
       "        vertical-align: top;\n",
       "    }\n",
       "\n",
       "    .dataframe thead th {\n",
       "        text-align: right;\n",
       "    }\n",
       "</style>\n",
       "<table border=\"1\" class=\"dataframe\">\n",
       "  <thead>\n",
       "    <tr style=\"text-align: right;\">\n",
       "      <th></th>\n",
       "      <th>authorized_flag</th>\n",
       "      <th>city_id</th>\n",
       "      <th>category_1</th>\n",
       "      <th>installments</th>\n",
       "      <th>category_3</th>\n",
       "      <th>merchant_category_id</th>\n",
       "      <th>merchant_id</th>\n",
       "      <th>month_lag</th>\n",
       "      <th>purchase_amount</th>\n",
       "      <th>purchase_date</th>\n",
       "      <th>category_2</th>\n",
       "      <th>state_id</th>\n",
       "      <th>subsector_id</th>\n",
       "    </tr>\n",
       "    <tr>\n",
       "      <th>card_id</th>\n",
       "      <th></th>\n",
       "      <th></th>\n",
       "      <th></th>\n",
       "      <th></th>\n",
       "      <th></th>\n",
       "      <th></th>\n",
       "      <th></th>\n",
       "      <th></th>\n",
       "      <th></th>\n",
       "      <th></th>\n",
       "      <th></th>\n",
       "      <th></th>\n",
       "      <th></th>\n",
       "    </tr>\n",
       "  </thead>\n",
       "  <tbody>\n",
       "    <tr>\n",
       "      <th>C_ID_4e6213e9bc</th>\n",
       "      <td>Y</td>\n",
       "      <td>88</td>\n",
       "      <td>N</td>\n",
       "      <td>0</td>\n",
       "      <td>A</td>\n",
       "      <td>80</td>\n",
       "      <td>M_ID_e020e9b302</td>\n",
       "      <td>-8</td>\n",
       "      <td>-0.703331</td>\n",
       "      <td>2017-06-25 15:33:07</td>\n",
       "      <td>1.0</td>\n",
       "      <td>16</td>\n",
       "      <td>37</td>\n",
       "    </tr>\n",
       "    <tr>\n",
       "      <th>C_ID_4e6213e9bc</th>\n",
       "      <td>Y</td>\n",
       "      <td>88</td>\n",
       "      <td>N</td>\n",
       "      <td>0</td>\n",
       "      <td>A</td>\n",
       "      <td>367</td>\n",
       "      <td>M_ID_86ec983688</td>\n",
       "      <td>-7</td>\n",
       "      <td>-0.733128</td>\n",
       "      <td>2017-07-15 12:10:45</td>\n",
       "      <td>1.0</td>\n",
       "      <td>16</td>\n",
       "      <td>16</td>\n",
       "    </tr>\n",
       "    <tr>\n",
       "      <th>C_ID_4e6213e9bc</th>\n",
       "      <td>Y</td>\n",
       "      <td>88</td>\n",
       "      <td>N</td>\n",
       "      <td>0</td>\n",
       "      <td>A</td>\n",
       "      <td>80</td>\n",
       "      <td>M_ID_979ed661fc</td>\n",
       "      <td>-6</td>\n",
       "      <td>-0.720386</td>\n",
       "      <td>2017-08-09 22:04:29</td>\n",
       "      <td>1.0</td>\n",
       "      <td>16</td>\n",
       "      <td>37</td>\n",
       "    </tr>\n",
       "    <tr>\n",
       "      <th>C_ID_4e6213e9bc</th>\n",
       "      <td>Y</td>\n",
       "      <td>88</td>\n",
       "      <td>N</td>\n",
       "      <td>0</td>\n",
       "      <td>A</td>\n",
       "      <td>560</td>\n",
       "      <td>M_ID_e6d5ae8ea6</td>\n",
       "      <td>-5</td>\n",
       "      <td>-0.735352</td>\n",
       "      <td>2017-09-02 10:06:26</td>\n",
       "      <td>1.0</td>\n",
       "      <td>16</td>\n",
       "      <td>34</td>\n",
       "    </tr>\n",
       "    <tr>\n",
       "      <th>C_ID_4e6213e9bc</th>\n",
       "      <td>Y</td>\n",
       "      <td>88</td>\n",
       "      <td>N</td>\n",
       "      <td>0</td>\n",
       "      <td>A</td>\n",
       "      <td>80</td>\n",
       "      <td>M_ID_e020e9b302</td>\n",
       "      <td>-11</td>\n",
       "      <td>-0.722865</td>\n",
       "      <td>2017-03-10 01:14:19</td>\n",
       "      <td>1.0</td>\n",
       "      <td>16</td>\n",
       "      <td>37</td>\n",
       "    </tr>\n",
       "  </tbody>\n",
       "</table>\n",
       "</div>"
      ],
      "text/plain": [
       "                authorized_flag  city_id category_1  installments category_3  \\\n",
       "card_id                                                                        \n",
       "C_ID_4e6213e9bc               Y       88          N             0          A   \n",
       "C_ID_4e6213e9bc               Y       88          N             0          A   \n",
       "C_ID_4e6213e9bc               Y       88          N             0          A   \n",
       "C_ID_4e6213e9bc               Y       88          N             0          A   \n",
       "C_ID_4e6213e9bc               Y       88          N             0          A   \n",
       "\n",
       "                 merchant_category_id      merchant_id  month_lag  \\\n",
       "card_id                                                             \n",
       "C_ID_4e6213e9bc                    80  M_ID_e020e9b302         -8   \n",
       "C_ID_4e6213e9bc                   367  M_ID_86ec983688         -7   \n",
       "C_ID_4e6213e9bc                    80  M_ID_979ed661fc         -6   \n",
       "C_ID_4e6213e9bc                   560  M_ID_e6d5ae8ea6         -5   \n",
       "C_ID_4e6213e9bc                    80  M_ID_e020e9b302        -11   \n",
       "\n",
       "                 purchase_amount        purchase_date  category_2  state_id  \\\n",
       "card_id                                                                       \n",
       "C_ID_4e6213e9bc        -0.703331  2017-06-25 15:33:07         1.0        16   \n",
       "C_ID_4e6213e9bc        -0.733128  2017-07-15 12:10:45         1.0        16   \n",
       "C_ID_4e6213e9bc        -0.720386  2017-08-09 22:04:29         1.0        16   \n",
       "C_ID_4e6213e9bc        -0.735352  2017-09-02 10:06:26         1.0        16   \n",
       "C_ID_4e6213e9bc        -0.722865  2017-03-10 01:14:19         1.0        16   \n",
       "\n",
       "                 subsector_id  \n",
       "card_id                        \n",
       "C_ID_4e6213e9bc            37  \n",
       "C_ID_4e6213e9bc            16  \n",
       "C_ID_4e6213e9bc            37  \n",
       "C_ID_4e6213e9bc            34  \n",
       "C_ID_4e6213e9bc            37  "
      ]
     },
     "execution_count": 27,
     "metadata": {},
     "output_type": "execute_result"
    }
   ],
   "source": [
    "df_hist_trans.set_index('card_id',inplace=True)\n",
    "df_hist_trans.head()"
   ]
  },
  {
   "cell_type": "markdown",
   "metadata": {
    "_uuid": "fe549905dbd62328f431a307b821ab494da8a0e4"
   },
   "source": [
    "Let's check what where value counts before"
   ]
  },
  {
   "cell_type": "code",
   "execution_count": 28,
   "metadata": {
    "_uuid": "b4d68db6bf4e2697eb1611820abef1c9d529b60d",
    "scrolled": true
   },
   "outputs": [
    {
     "data": {
      "text/plain": [
       " 1.0    15327456\n",
       " 3.0     3911795\n",
       " 5.0     3725915\n",
       " 4.0     2618053\n",
       "NaN      2502607\n",
       " 2.0     1026535\n",
       "Name: category_2, dtype: int64"
      ]
     },
     "execution_count": 28,
     "metadata": {},
     "output_type": "execute_result"
    }
   ],
   "source": [
    "df_hist_trans.category_2.value_counts(dropna=False)"
   ]
  },
  {
   "cell_type": "markdown",
   "metadata": {
    "_uuid": "6fef03476e2162b2b52056f6122a015948de2c25"
   },
   "source": [
    "Fill nan values according to given series by using fillna function"
   ]
  },
  {
   "cell_type": "code",
   "execution_count": 29,
   "metadata": {
    "_uuid": "e72255f63cacec29661a3a3d8305e2731256e538",
    "scrolled": true
   },
   "outputs": [],
   "source": [
    "df_hist_trans.category_2=df_hist_trans.category_2.fillna(category_2_count_max)"
   ]
  },
  {
   "cell_type": "markdown",
   "metadata": {
    "_uuid": "d92c7eb03d17d133c11ccf0f28e840a0a9f9d853"
   },
   "source": [
    "Finally, we get rid of all nan values for 'category_2' . Now, we can try same for 'category_3' and 'merchant_id'. Also, we need to do same for 'df_new_merchant_trans'. Finally, let's check if there is any nan values in category_2"
   ]
  },
  {
   "cell_type": "code",
   "execution_count": 30,
   "metadata": {
    "_uuid": "0fe58472be59b5b6de088db800c3b5e88a87b452",
    "scrolled": true
   },
   "outputs": [
    {
     "data": {
      "text/plain": [
       "1.0    16804879\n",
       "3.0     4289903\n",
       "5.0     4050578\n",
       "4.0     2793190\n",
       "2.0     1173811\n",
       "Name: category_2, dtype: int64"
      ]
     },
     "execution_count": 30,
     "metadata": {},
     "output_type": "execute_result"
    }
   ],
   "source": [
    "df_hist_trans.category_2.value_counts(dropna=False)"
   ]
  },
  {
   "cell_type": "markdown",
   "metadata": {
    "_uuid": "c29c30ab4cf68f7bb12c373c46950950dbdd8660"
   },
   "source": [
    "Let's do same for 'category_3'"
   ]
  },
  {
   "cell_type": "code",
   "execution_count": 31,
   "metadata": {
    "_uuid": "e7c6a9a8c5420d572b258be200b1951ca41f80c2",
    "scrolled": true
   },
   "outputs": [
    {
     "data": {
      "text/plain": [
       "A      15411747\n",
       "B      11677522\n",
       "C       1844933\n",
       "NaN      178159\n",
       "Name: category_3, dtype: int64"
      ]
     },
     "execution_count": 31,
     "metadata": {},
     "output_type": "execute_result"
    }
   ],
   "source": [
    "df_hist_trans.category_3.value_counts(dropna=False)"
   ]
  },
  {
   "cell_type": "markdown",
   "metadata": {
    "_uuid": "494dbbc775ac8ea7828ceaf29722f69dbf29edc2"
   },
   "source": [
    "Let's change 'A' , 'B', 'C' to numerical values in order to be able to use sum(min_counts=1) function"
   ]
  },
  {
   "cell_type": "code",
   "execution_count": 32,
   "metadata": {
    "_uuid": "3bb5216c063d192351cf8ed549900837516d2f3f"
   },
   "outputs": [],
   "source": [
    "d_cat3={'A':1,'B':2,'C':3}"
   ]
  },
  {
   "cell_type": "code",
   "execution_count": 33,
   "metadata": {
    "_uuid": "cedd8419b07dd529b9ae12da4469b4d5307265ba"
   },
   "outputs": [],
   "source": [
    "df_hist_trans.category_3=df_hist_trans.category_3.map(d_cat3)"
   ]
  },
  {
   "cell_type": "code",
   "execution_count": 34,
   "metadata": {
    "_uuid": "2f3e88b0a49d6975f5fbe3c75bc3818d2522b607"
   },
   "outputs": [
    {
     "data": {
      "text/html": [
       "<div>\n",
       "<style scoped>\n",
       "    .dataframe tbody tr th:only-of-type {\n",
       "        vertical-align: middle;\n",
       "    }\n",
       "\n",
       "    .dataframe tbody tr th {\n",
       "        vertical-align: top;\n",
       "    }\n",
       "\n",
       "    .dataframe thead th {\n",
       "        text-align: right;\n",
       "    }\n",
       "</style>\n",
       "<table border=\"1\" class=\"dataframe\">\n",
       "  <thead>\n",
       "    <tr style=\"text-align: right;\">\n",
       "      <th></th>\n",
       "      <th>authorized_flag</th>\n",
       "      <th>city_id</th>\n",
       "      <th>category_1</th>\n",
       "      <th>installments</th>\n",
       "      <th>category_3</th>\n",
       "      <th>merchant_category_id</th>\n",
       "      <th>merchant_id</th>\n",
       "      <th>month_lag</th>\n",
       "      <th>purchase_amount</th>\n",
       "      <th>purchase_date</th>\n",
       "      <th>category_2</th>\n",
       "      <th>state_id</th>\n",
       "      <th>subsector_id</th>\n",
       "    </tr>\n",
       "    <tr>\n",
       "      <th>card_id</th>\n",
       "      <th></th>\n",
       "      <th></th>\n",
       "      <th></th>\n",
       "      <th></th>\n",
       "      <th></th>\n",
       "      <th></th>\n",
       "      <th></th>\n",
       "      <th></th>\n",
       "      <th></th>\n",
       "      <th></th>\n",
       "      <th></th>\n",
       "      <th></th>\n",
       "      <th></th>\n",
       "    </tr>\n",
       "  </thead>\n",
       "  <tbody>\n",
       "    <tr>\n",
       "      <th>C_ID_4e6213e9bc</th>\n",
       "      <td>Y</td>\n",
       "      <td>88</td>\n",
       "      <td>N</td>\n",
       "      <td>0</td>\n",
       "      <td>1.0</td>\n",
       "      <td>80</td>\n",
       "      <td>M_ID_e020e9b302</td>\n",
       "      <td>-8</td>\n",
       "      <td>-0.703331</td>\n",
       "      <td>2017-06-25 15:33:07</td>\n",
       "      <td>1.0</td>\n",
       "      <td>16</td>\n",
       "      <td>37</td>\n",
       "    </tr>\n",
       "    <tr>\n",
       "      <th>C_ID_4e6213e9bc</th>\n",
       "      <td>Y</td>\n",
       "      <td>88</td>\n",
       "      <td>N</td>\n",
       "      <td>0</td>\n",
       "      <td>1.0</td>\n",
       "      <td>367</td>\n",
       "      <td>M_ID_86ec983688</td>\n",
       "      <td>-7</td>\n",
       "      <td>-0.733128</td>\n",
       "      <td>2017-07-15 12:10:45</td>\n",
       "      <td>1.0</td>\n",
       "      <td>16</td>\n",
       "      <td>16</td>\n",
       "    </tr>\n",
       "    <tr>\n",
       "      <th>C_ID_4e6213e9bc</th>\n",
       "      <td>Y</td>\n",
       "      <td>88</td>\n",
       "      <td>N</td>\n",
       "      <td>0</td>\n",
       "      <td>1.0</td>\n",
       "      <td>80</td>\n",
       "      <td>M_ID_979ed661fc</td>\n",
       "      <td>-6</td>\n",
       "      <td>-0.720386</td>\n",
       "      <td>2017-08-09 22:04:29</td>\n",
       "      <td>1.0</td>\n",
       "      <td>16</td>\n",
       "      <td>37</td>\n",
       "    </tr>\n",
       "    <tr>\n",
       "      <th>C_ID_4e6213e9bc</th>\n",
       "      <td>Y</td>\n",
       "      <td>88</td>\n",
       "      <td>N</td>\n",
       "      <td>0</td>\n",
       "      <td>1.0</td>\n",
       "      <td>560</td>\n",
       "      <td>M_ID_e6d5ae8ea6</td>\n",
       "      <td>-5</td>\n",
       "      <td>-0.735352</td>\n",
       "      <td>2017-09-02 10:06:26</td>\n",
       "      <td>1.0</td>\n",
       "      <td>16</td>\n",
       "      <td>34</td>\n",
       "    </tr>\n",
       "    <tr>\n",
       "      <th>C_ID_4e6213e9bc</th>\n",
       "      <td>Y</td>\n",
       "      <td>88</td>\n",
       "      <td>N</td>\n",
       "      <td>0</td>\n",
       "      <td>1.0</td>\n",
       "      <td>80</td>\n",
       "      <td>M_ID_e020e9b302</td>\n",
       "      <td>-11</td>\n",
       "      <td>-0.722865</td>\n",
       "      <td>2017-03-10 01:14:19</td>\n",
       "      <td>1.0</td>\n",
       "      <td>16</td>\n",
       "      <td>37</td>\n",
       "    </tr>\n",
       "  </tbody>\n",
       "</table>\n",
       "</div>"
      ],
      "text/plain": [
       "                authorized_flag  city_id category_1  installments  category_3  \\\n",
       "card_id                                                                         \n",
       "C_ID_4e6213e9bc               Y       88          N             0         1.0   \n",
       "C_ID_4e6213e9bc               Y       88          N             0         1.0   \n",
       "C_ID_4e6213e9bc               Y       88          N             0         1.0   \n",
       "C_ID_4e6213e9bc               Y       88          N             0         1.0   \n",
       "C_ID_4e6213e9bc               Y       88          N             0         1.0   \n",
       "\n",
       "                 merchant_category_id      merchant_id  month_lag  \\\n",
       "card_id                                                             \n",
       "C_ID_4e6213e9bc                    80  M_ID_e020e9b302         -8   \n",
       "C_ID_4e6213e9bc                   367  M_ID_86ec983688         -7   \n",
       "C_ID_4e6213e9bc                    80  M_ID_979ed661fc         -6   \n",
       "C_ID_4e6213e9bc                   560  M_ID_e6d5ae8ea6         -5   \n",
       "C_ID_4e6213e9bc                    80  M_ID_e020e9b302        -11   \n",
       "\n",
       "                 purchase_amount        purchase_date  category_2  state_id  \\\n",
       "card_id                                                                       \n",
       "C_ID_4e6213e9bc        -0.703331  2017-06-25 15:33:07         1.0        16   \n",
       "C_ID_4e6213e9bc        -0.733128  2017-07-15 12:10:45         1.0        16   \n",
       "C_ID_4e6213e9bc        -0.720386  2017-08-09 22:04:29         1.0        16   \n",
       "C_ID_4e6213e9bc        -0.735352  2017-09-02 10:06:26         1.0        16   \n",
       "C_ID_4e6213e9bc        -0.722865  2017-03-10 01:14:19         1.0        16   \n",
       "\n",
       "                 subsector_id  \n",
       "card_id                        \n",
       "C_ID_4e6213e9bc            37  \n",
       "C_ID_4e6213e9bc            16  \n",
       "C_ID_4e6213e9bc            37  \n",
       "C_ID_4e6213e9bc            34  \n",
       "C_ID_4e6213e9bc            37  "
      ]
     },
     "execution_count": 34,
     "metadata": {},
     "output_type": "execute_result"
    }
   ],
   "source": [
    "df_hist_trans.head()"
   ]
  },
  {
   "cell_type": "code",
   "execution_count": 39,
   "metadata": {},
   "outputs": [
    {
     "data": {
      "text/plain": [
       " 1.0    15411747\n",
       " 2.0    11677522\n",
       " 3.0     1844933\n",
       "NaN       178159\n",
       "Name: category_3, dtype: int64"
      ]
     },
     "execution_count": 39,
     "metadata": {},
     "output_type": "execute_result"
    }
   ],
   "source": [
    "df_hist_trans.category_3.value_counts(dropna=False)"
   ]
  },
  {
   "cell_type": "code",
   "execution_count": 40,
   "metadata": {
    "_uuid": "402934a2ac491065b853fdcbd3b6580ed29800bc"
   },
   "outputs": [],
   "source": [
    "group_cat3=df_hist_trans.groupby(['card_id']).category_3.sum(min_count=1)"
   ]
  },
  {
   "cell_type": "code",
   "execution_count": 41,
   "metadata": {},
   "outputs": [
    {
     "data": {
      "text/plain": [
       "0"
      ]
     },
     "execution_count": 41,
     "metadata": {},
     "output_type": "execute_result"
    }
   ],
   "source": [
    "group_cat3.isnull().sum()"
   ]
  },
  {
   "cell_type": "markdown",
   "metadata": {},
   "source": [
    "### This means that we don't have any card_id which have only NaN values in category_3. So we can jump to changing nan values in each card id."
   ]
  },
  {
   "cell_type": "code",
   "execution_count": 42,
   "metadata": {},
   "outputs": [
    {
     "data": {
      "text/html": [
       "<div>\n",
       "<style scoped>\n",
       "    .dataframe tbody tr th:only-of-type {\n",
       "        vertical-align: middle;\n",
       "    }\n",
       "\n",
       "    .dataframe tbody tr th {\n",
       "        vertical-align: top;\n",
       "    }\n",
       "\n",
       "    .dataframe thead th {\n",
       "        text-align: right;\n",
       "    }\n",
       "</style>\n",
       "<table border=\"1\" class=\"dataframe\">\n",
       "  <thead>\n",
       "    <tr style=\"text-align: right;\">\n",
       "      <th></th>\n",
       "      <th>authorized_flag</th>\n",
       "      <th>city_id</th>\n",
       "      <th>category_1</th>\n",
       "      <th>installments</th>\n",
       "      <th>category_3</th>\n",
       "      <th>merchant_category_id</th>\n",
       "      <th>merchant_id</th>\n",
       "      <th>month_lag</th>\n",
       "      <th>purchase_amount</th>\n",
       "      <th>purchase_date</th>\n",
       "      <th>category_2</th>\n",
       "      <th>state_id</th>\n",
       "      <th>subsector_id</th>\n",
       "    </tr>\n",
       "    <tr>\n",
       "      <th>card_id</th>\n",
       "      <th></th>\n",
       "      <th></th>\n",
       "      <th></th>\n",
       "      <th></th>\n",
       "      <th></th>\n",
       "      <th></th>\n",
       "      <th></th>\n",
       "      <th></th>\n",
       "      <th></th>\n",
       "      <th></th>\n",
       "      <th></th>\n",
       "      <th></th>\n",
       "      <th></th>\n",
       "    </tr>\n",
       "  </thead>\n",
       "  <tbody>\n",
       "    <tr>\n",
       "      <th>C_ID_4e6213e9bc</th>\n",
       "      <td>Y</td>\n",
       "      <td>88</td>\n",
       "      <td>N</td>\n",
       "      <td>0</td>\n",
       "      <td>1.0</td>\n",
       "      <td>80</td>\n",
       "      <td>M_ID_e020e9b302</td>\n",
       "      <td>-8</td>\n",
       "      <td>-0.703331</td>\n",
       "      <td>2017-06-25 15:33:07</td>\n",
       "      <td>1.0</td>\n",
       "      <td>16</td>\n",
       "      <td>37</td>\n",
       "    </tr>\n",
       "    <tr>\n",
       "      <th>C_ID_4e6213e9bc</th>\n",
       "      <td>Y</td>\n",
       "      <td>88</td>\n",
       "      <td>N</td>\n",
       "      <td>0</td>\n",
       "      <td>1.0</td>\n",
       "      <td>367</td>\n",
       "      <td>M_ID_86ec983688</td>\n",
       "      <td>-7</td>\n",
       "      <td>-0.733128</td>\n",
       "      <td>2017-07-15 12:10:45</td>\n",
       "      <td>1.0</td>\n",
       "      <td>16</td>\n",
       "      <td>16</td>\n",
       "    </tr>\n",
       "    <tr>\n",
       "      <th>C_ID_4e6213e9bc</th>\n",
       "      <td>Y</td>\n",
       "      <td>88</td>\n",
       "      <td>N</td>\n",
       "      <td>0</td>\n",
       "      <td>1.0</td>\n",
       "      <td>80</td>\n",
       "      <td>M_ID_979ed661fc</td>\n",
       "      <td>-6</td>\n",
       "      <td>-0.720386</td>\n",
       "      <td>2017-08-09 22:04:29</td>\n",
       "      <td>1.0</td>\n",
       "      <td>16</td>\n",
       "      <td>37</td>\n",
       "    </tr>\n",
       "    <tr>\n",
       "      <th>C_ID_4e6213e9bc</th>\n",
       "      <td>Y</td>\n",
       "      <td>88</td>\n",
       "      <td>N</td>\n",
       "      <td>0</td>\n",
       "      <td>1.0</td>\n",
       "      <td>560</td>\n",
       "      <td>M_ID_e6d5ae8ea6</td>\n",
       "      <td>-5</td>\n",
       "      <td>-0.735352</td>\n",
       "      <td>2017-09-02 10:06:26</td>\n",
       "      <td>1.0</td>\n",
       "      <td>16</td>\n",
       "      <td>34</td>\n",
       "    </tr>\n",
       "    <tr>\n",
       "      <th>C_ID_4e6213e9bc</th>\n",
       "      <td>Y</td>\n",
       "      <td>88</td>\n",
       "      <td>N</td>\n",
       "      <td>0</td>\n",
       "      <td>1.0</td>\n",
       "      <td>80</td>\n",
       "      <td>M_ID_e020e9b302</td>\n",
       "      <td>-11</td>\n",
       "      <td>-0.722865</td>\n",
       "      <td>2017-03-10 01:14:19</td>\n",
       "      <td>1.0</td>\n",
       "      <td>16</td>\n",
       "      <td>37</td>\n",
       "    </tr>\n",
       "    <tr>\n",
       "      <th>C_ID_4e6213e9bc</th>\n",
       "      <td>Y</td>\n",
       "      <td>333</td>\n",
       "      <td>N</td>\n",
       "      <td>0</td>\n",
       "      <td>1.0</td>\n",
       "      <td>80</td>\n",
       "      <td>M_ID_50af771f8d</td>\n",
       "      <td>0</td>\n",
       "      <td>-0.734887</td>\n",
       "      <td>2018-02-24 08:45:05</td>\n",
       "      <td>1.0</td>\n",
       "      <td>9</td>\n",
       "      <td>37</td>\n",
       "    </tr>\n",
       "    <tr>\n",
       "      <th>C_ID_4e6213e9bc</th>\n",
       "      <td>Y</td>\n",
       "      <td>88</td>\n",
       "      <td>N</td>\n",
       "      <td>0</td>\n",
       "      <td>1.0</td>\n",
       "      <td>278</td>\n",
       "      <td>M_ID_5e8220e564</td>\n",
       "      <td>-11</td>\n",
       "      <td>-0.716855</td>\n",
       "      <td>2017-03-21 00:10:51</td>\n",
       "      <td>1.0</td>\n",
       "      <td>16</td>\n",
       "      <td>37</td>\n",
       "    </tr>\n",
       "    <tr>\n",
       "      <th>C_ID_4e6213e9bc</th>\n",
       "      <td>Y</td>\n",
       "      <td>3</td>\n",
       "      <td>N</td>\n",
       "      <td>0</td>\n",
       "      <td>1.0</td>\n",
       "      <td>80</td>\n",
       "      <td>M_ID_9d41786a50</td>\n",
       "      <td>-3</td>\n",
       "      <td>-0.657049</td>\n",
       "      <td>2017-11-18 20:05:55</td>\n",
       "      <td>1.0</td>\n",
       "      <td>16</td>\n",
       "      <td>37</td>\n",
       "    </tr>\n",
       "    <tr>\n",
       "      <th>C_ID_4e6213e9bc</th>\n",
       "      <td>Y</td>\n",
       "      <td>88</td>\n",
       "      <td>N</td>\n",
       "      <td>0</td>\n",
       "      <td>1.0</td>\n",
       "      <td>80</td>\n",
       "      <td>M_ID_979ed661fc</td>\n",
       "      <td>-8</td>\n",
       "      <td>-0.737967</td>\n",
       "      <td>2017-06-01 22:02:56</td>\n",
       "      <td>1.0</td>\n",
       "      <td>16</td>\n",
       "      <td>37</td>\n",
       "    </tr>\n",
       "    <tr>\n",
       "      <th>C_ID_4e6213e9bc</th>\n",
       "      <td>Y</td>\n",
       "      <td>88</td>\n",
       "      <td>N</td>\n",
       "      <td>0</td>\n",
       "      <td>1.0</td>\n",
       "      <td>80</td>\n",
       "      <td>M_ID_74ba14b5fc</td>\n",
       "      <td>-11</td>\n",
       "      <td>-0.715352</td>\n",
       "      <td>2017-03-16 15:41:22</td>\n",
       "      <td>1.0</td>\n",
       "      <td>16</td>\n",
       "      <td>37</td>\n",
       "    </tr>\n",
       "    <tr>\n",
       "      <th>C_ID_4e6213e9bc</th>\n",
       "      <td>Y</td>\n",
       "      <td>88</td>\n",
       "      <td>N</td>\n",
       "      <td>0</td>\n",
       "      <td>1.0</td>\n",
       "      <td>683</td>\n",
       "      <td>M_ID_1449f22bfb</td>\n",
       "      <td>-9</td>\n",
       "      <td>-0.734135</td>\n",
       "      <td>2017-05-09 12:42:07</td>\n",
       "      <td>1.0</td>\n",
       "      <td>16</td>\n",
       "      <td>34</td>\n",
       "    </tr>\n",
       "    <tr>\n",
       "      <th>C_ID_4e6213e9bc</th>\n",
       "      <td>Y</td>\n",
       "      <td>-1</td>\n",
       "      <td>N</td>\n",
       "      <td>0</td>\n",
       "      <td>1.0</td>\n",
       "      <td>560</td>\n",
       "      <td>M_ID_7c5e93af2f</td>\n",
       "      <td>0</td>\n",
       "      <td>-0.727929</td>\n",
       "      <td>2018-02-08 20:05:45</td>\n",
       "      <td>1.0</td>\n",
       "      <td>-1</td>\n",
       "      <td>34</td>\n",
       "    </tr>\n",
       "    <tr>\n",
       "      <th>C_ID_4e6213e9bc</th>\n",
       "      <td>Y</td>\n",
       "      <td>88</td>\n",
       "      <td>N</td>\n",
       "      <td>0</td>\n",
       "      <td>1.0</td>\n",
       "      <td>80</td>\n",
       "      <td>M_ID_e020e9b302</td>\n",
       "      <td>-8</td>\n",
       "      <td>-0.741648</td>\n",
       "      <td>2017-06-08 18:02:29</td>\n",
       "      <td>1.0</td>\n",
       "      <td>16</td>\n",
       "      <td>37</td>\n",
       "    </tr>\n",
       "    <tr>\n",
       "      <th>C_ID_4e6213e9bc</th>\n",
       "      <td>Y</td>\n",
       "      <td>88</td>\n",
       "      <td>N</td>\n",
       "      <td>0</td>\n",
       "      <td>1.0</td>\n",
       "      <td>130</td>\n",
       "      <td>M_ID_e8fb39882d</td>\n",
       "      <td>-7</td>\n",
       "      <td>-0.727373</td>\n",
       "      <td>2017-07-14 12:59:38</td>\n",
       "      <td>1.0</td>\n",
       "      <td>16</td>\n",
       "      <td>41</td>\n",
       "    </tr>\n",
       "    <tr>\n",
       "      <th>C_ID_4e6213e9bc</th>\n",
       "      <td>Y</td>\n",
       "      <td>88</td>\n",
       "      <td>N</td>\n",
       "      <td>0</td>\n",
       "      <td>1.0</td>\n",
       "      <td>80</td>\n",
       "      <td>M_ID_97e86eae5f</td>\n",
       "      <td>-4</td>\n",
       "      <td>-0.731881</td>\n",
       "      <td>2017-10-24 13:29:29</td>\n",
       "      <td>1.0</td>\n",
       "      <td>16</td>\n",
       "      <td>37</td>\n",
       "    </tr>\n",
       "    <tr>\n",
       "      <th>C_ID_4e6213e9bc</th>\n",
       "      <td>Y</td>\n",
       "      <td>88</td>\n",
       "      <td>N</td>\n",
       "      <td>0</td>\n",
       "      <td>1.0</td>\n",
       "      <td>560</td>\n",
       "      <td>M_ID_e6d5ae8ea6</td>\n",
       "      <td>-8</td>\n",
       "      <td>-0.738192</td>\n",
       "      <td>2017-06-14 07:40:48</td>\n",
       "      <td>1.0</td>\n",
       "      <td>16</td>\n",
       "      <td>34</td>\n",
       "    </tr>\n",
       "    <tr>\n",
       "      <th>C_ID_4e6213e9bc</th>\n",
       "      <td>Y</td>\n",
       "      <td>69</td>\n",
       "      <td>N</td>\n",
       "      <td>0</td>\n",
       "      <td>1.0</td>\n",
       "      <td>879</td>\n",
       "      <td>M_ID_00a6ca8a8a</td>\n",
       "      <td>0</td>\n",
       "      <td>-0.725871</td>\n",
       "      <td>2018-02-07 12:19:33</td>\n",
       "      <td>1.0</td>\n",
       "      <td>9</td>\n",
       "      <td>29</td>\n",
       "    </tr>\n",
       "    <tr>\n",
       "      <th>C_ID_4e6213e9bc</th>\n",
       "      <td>Y</td>\n",
       "      <td>88</td>\n",
       "      <td>N</td>\n",
       "      <td>0</td>\n",
       "      <td>1.0</td>\n",
       "      <td>278</td>\n",
       "      <td>M_ID_21e1552dab</td>\n",
       "      <td>-7</td>\n",
       "      <td>-0.734887</td>\n",
       "      <td>2017-07-07 13:03:27</td>\n",
       "      <td>1.0</td>\n",
       "      <td>16</td>\n",
       "      <td>37</td>\n",
       "    </tr>\n",
       "    <tr>\n",
       "      <th>C_ID_4e6213e9bc</th>\n",
       "      <td>Y</td>\n",
       "      <td>233</td>\n",
       "      <td>N</td>\n",
       "      <td>0</td>\n",
       "      <td>1.0</td>\n",
       "      <td>80</td>\n",
       "      <td>M_ID_4524a562f3</td>\n",
       "      <td>-1</td>\n",
       "      <td>-0.699725</td>\n",
       "      <td>2018-01-08 23:54:29</td>\n",
       "      <td>1.0</td>\n",
       "      <td>9</td>\n",
       "      <td>37</td>\n",
       "    </tr>\n",
       "    <tr>\n",
       "      <th>C_ID_4e6213e9bc</th>\n",
       "      <td>Y</td>\n",
       "      <td>88</td>\n",
       "      <td>N</td>\n",
       "      <td>0</td>\n",
       "      <td>1.0</td>\n",
       "      <td>80</td>\n",
       "      <td>M_ID_e020e9b302</td>\n",
       "      <td>-6</td>\n",
       "      <td>-0.745405</td>\n",
       "      <td>2017-08-11 17:53:00</td>\n",
       "      <td>1.0</td>\n",
       "      <td>16</td>\n",
       "      <td>37</td>\n",
       "    </tr>\n",
       "    <tr>\n",
       "      <th>C_ID_4e6213e9bc</th>\n",
       "      <td>Y</td>\n",
       "      <td>88</td>\n",
       "      <td>N</td>\n",
       "      <td>0</td>\n",
       "      <td>1.0</td>\n",
       "      <td>278</td>\n",
       "      <td>M_ID_21e1552dab</td>\n",
       "      <td>-6</td>\n",
       "      <td>-0.734887</td>\n",
       "      <td>2017-08-30 12:53:57</td>\n",
       "      <td>1.0</td>\n",
       "      <td>16</td>\n",
       "      <td>37</td>\n",
       "    </tr>\n",
       "    <tr>\n",
       "      <th>C_ID_4e6213e9bc</th>\n",
       "      <td>Y</td>\n",
       "      <td>88</td>\n",
       "      <td>N</td>\n",
       "      <td>0</td>\n",
       "      <td>1.0</td>\n",
       "      <td>80</td>\n",
       "      <td>M_ID_979ed661fc</td>\n",
       "      <td>-7</td>\n",
       "      <td>-0.737967</td>\n",
       "      <td>2017-07-01 21:27:23</td>\n",
       "      <td>1.0</td>\n",
       "      <td>16</td>\n",
       "      <td>37</td>\n",
       "    </tr>\n",
       "    <tr>\n",
       "      <th>C_ID_4e6213e9bc</th>\n",
       "      <td>Y</td>\n",
       "      <td>88</td>\n",
       "      <td>N</td>\n",
       "      <td>0</td>\n",
       "      <td>1.0</td>\n",
       "      <td>80</td>\n",
       "      <td>M_ID_979ed661fc</td>\n",
       "      <td>-7</td>\n",
       "      <td>-0.739545</td>\n",
       "      <td>2017-07-14 22:06:02</td>\n",
       "      <td>1.0</td>\n",
       "      <td>16</td>\n",
       "      <td>37</td>\n",
       "    </tr>\n",
       "    <tr>\n",
       "      <th>C_ID_4e6213e9bc</th>\n",
       "      <td>Y</td>\n",
       "      <td>88</td>\n",
       "      <td>N</td>\n",
       "      <td>0</td>\n",
       "      <td>1.0</td>\n",
       "      <td>278</td>\n",
       "      <td>M_ID_e020e9b302</td>\n",
       "      <td>-9</td>\n",
       "      <td>-0.726998</td>\n",
       "      <td>2017-05-06 12:29:50</td>\n",
       "      <td>1.0</td>\n",
       "      <td>16</td>\n",
       "      <td>37</td>\n",
       "    </tr>\n",
       "    <tr>\n",
       "      <th>C_ID_4e6213e9bc</th>\n",
       "      <td>Y</td>\n",
       "      <td>3</td>\n",
       "      <td>N</td>\n",
       "      <td>0</td>\n",
       "      <td>1.0</td>\n",
       "      <td>511</td>\n",
       "      <td>M_ID_79db784180</td>\n",
       "      <td>-13</td>\n",
       "      <td>-0.731881</td>\n",
       "      <td>2017-01-20 09:16:43</td>\n",
       "      <td>1.0</td>\n",
       "      <td>16</td>\n",
       "      <td>7</td>\n",
       "    </tr>\n",
       "    <tr>\n",
       "      <th>C_ID_4e6213e9bc</th>\n",
       "      <td>Y</td>\n",
       "      <td>333</td>\n",
       "      <td>N</td>\n",
       "      <td>0</td>\n",
       "      <td>1.0</td>\n",
       "      <td>80</td>\n",
       "      <td>M_ID_50af771f8d</td>\n",
       "      <td>0</td>\n",
       "      <td>-0.735638</td>\n",
       "      <td>2018-02-26 14:54:38</td>\n",
       "      <td>1.0</td>\n",
       "      <td>9</td>\n",
       "      <td>37</td>\n",
       "    </tr>\n",
       "    <tr>\n",
       "      <th>C_ID_4e6213e9bc</th>\n",
       "      <td>Y</td>\n",
       "      <td>88</td>\n",
       "      <td>N</td>\n",
       "      <td>0</td>\n",
       "      <td>1.0</td>\n",
       "      <td>278</td>\n",
       "      <td>M_ID_e020e9b302</td>\n",
       "      <td>-10</td>\n",
       "      <td>-0.726472</td>\n",
       "      <td>2017-04-29 12:30:03</td>\n",
       "      <td>1.0</td>\n",
       "      <td>16</td>\n",
       "      <td>37</td>\n",
       "    </tr>\n",
       "    <tr>\n",
       "      <th>C_ID_4e6213e9bc</th>\n",
       "      <td>Y</td>\n",
       "      <td>88</td>\n",
       "      <td>N</td>\n",
       "      <td>0</td>\n",
       "      <td>1.0</td>\n",
       "      <td>80</td>\n",
       "      <td>M_ID_979ed661fc</td>\n",
       "      <td>-8</td>\n",
       "      <td>-0.726772</td>\n",
       "      <td>2017-06-23 21:43:17</td>\n",
       "      <td>1.0</td>\n",
       "      <td>16</td>\n",
       "      <td>37</td>\n",
       "    </tr>\n",
       "    <tr>\n",
       "      <th>C_ID_4e6213e9bc</th>\n",
       "      <td>Y</td>\n",
       "      <td>88</td>\n",
       "      <td>N</td>\n",
       "      <td>0</td>\n",
       "      <td>1.0</td>\n",
       "      <td>278</td>\n",
       "      <td>M_ID_21e1552dab</td>\n",
       "      <td>-11</td>\n",
       "      <td>-0.721363</td>\n",
       "      <td>2017-03-10 15:46:19</td>\n",
       "      <td>1.0</td>\n",
       "      <td>16</td>\n",
       "      <td>37</td>\n",
       "    </tr>\n",
       "    <tr>\n",
       "      <th>C_ID_4e6213e9bc</th>\n",
       "      <td>Y</td>\n",
       "      <td>88</td>\n",
       "      <td>N</td>\n",
       "      <td>0</td>\n",
       "      <td>1.0</td>\n",
       "      <td>80</td>\n",
       "      <td>M_ID_dc7356f06d</td>\n",
       "      <td>-6</td>\n",
       "      <td>-0.692211</td>\n",
       "      <td>2017-08-05 19:10:32</td>\n",
       "      <td>1.0</td>\n",
       "      <td>16</td>\n",
       "      <td>37</td>\n",
       "    </tr>\n",
       "    <tr>\n",
       "      <th>...</th>\n",
       "      <td>...</td>\n",
       "      <td>...</td>\n",
       "      <td>...</td>\n",
       "      <td>...</td>\n",
       "      <td>...</td>\n",
       "      <td>...</td>\n",
       "      <td>...</td>\n",
       "      <td>...</td>\n",
       "      <td>...</td>\n",
       "      <td>...</td>\n",
       "      <td>...</td>\n",
       "      <td>...</td>\n",
       "      <td>...</td>\n",
       "    </tr>\n",
       "    <tr>\n",
       "      <th>C_ID_e43fce4842</th>\n",
       "      <td>Y</td>\n",
       "      <td>69</td>\n",
       "      <td>N</td>\n",
       "      <td>1</td>\n",
       "      <td>2.0</td>\n",
       "      <td>879</td>\n",
       "      <td>M_ID_00a6ca8a8a</td>\n",
       "      <td>-7</td>\n",
       "      <td>-0.744774</td>\n",
       "      <td>2017-07-12 18:01:13</td>\n",
       "      <td>1.0</td>\n",
       "      <td>9</td>\n",
       "      <td>29</td>\n",
       "    </tr>\n",
       "    <tr>\n",
       "      <th>C_ID_e43fce4842</th>\n",
       "      <td>Y</td>\n",
       "      <td>-1</td>\n",
       "      <td>Y</td>\n",
       "      <td>10</td>\n",
       "      <td>3.0</td>\n",
       "      <td>544</td>\n",
       "      <td>M_ID_3111c6df35</td>\n",
       "      <td>-6</td>\n",
       "      <td>-0.040692</td>\n",
       "      <td>2017-08-03 15:06:50</td>\n",
       "      <td>1.0</td>\n",
       "      <td>-1</td>\n",
       "      <td>29</td>\n",
       "    </tr>\n",
       "    <tr>\n",
       "      <th>C_ID_112832329d</th>\n",
       "      <td>Y</td>\n",
       "      <td>-1</td>\n",
       "      <td>Y</td>\n",
       "      <td>8</td>\n",
       "      <td>3.0</td>\n",
       "      <td>210</td>\n",
       "      <td>M_ID_cfa9a773ca</td>\n",
       "      <td>0</td>\n",
       "      <td>0.502952</td>\n",
       "      <td>2018-01-29 15:08:56</td>\n",
       "      <td>1.0</td>\n",
       "      <td>-1</td>\n",
       "      <td>35</td>\n",
       "    </tr>\n",
       "    <tr>\n",
       "      <th>C_ID_112832329d</th>\n",
       "      <td>Y</td>\n",
       "      <td>-1</td>\n",
       "      <td>Y</td>\n",
       "      <td>4</td>\n",
       "      <td>3.0</td>\n",
       "      <td>210</td>\n",
       "      <td>M_ID_6464db3b45</td>\n",
       "      <td>-1</td>\n",
       "      <td>0.506889</td>\n",
       "      <td>2017-12-11 19:03:31</td>\n",
       "      <td>1.0</td>\n",
       "      <td>-1</td>\n",
       "      <td>35</td>\n",
       "    </tr>\n",
       "    <tr>\n",
       "      <th>C_ID_2a8874827b</th>\n",
       "      <td>Y</td>\n",
       "      <td>19</td>\n",
       "      <td>N</td>\n",
       "      <td>0</td>\n",
       "      <td>1.0</td>\n",
       "      <td>307</td>\n",
       "      <td>M_ID_0bd214d6c8</td>\n",
       "      <td>-1</td>\n",
       "      <td>-0.681542</td>\n",
       "      <td>2017-01-06 14:54:55</td>\n",
       "      <td>1.0</td>\n",
       "      <td>9</td>\n",
       "      <td>19</td>\n",
       "    </tr>\n",
       "    <tr>\n",
       "      <th>C_ID_2a8874827b</th>\n",
       "      <td>Y</td>\n",
       "      <td>19</td>\n",
       "      <td>N</td>\n",
       "      <td>0</td>\n",
       "      <td>1.0</td>\n",
       "      <td>607</td>\n",
       "      <td>M_ID_b98db225f5</td>\n",
       "      <td>0</td>\n",
       "      <td>-0.708891</td>\n",
       "      <td>2017-02-07 16:02:48</td>\n",
       "      <td>1.0</td>\n",
       "      <td>9</td>\n",
       "      <td>29</td>\n",
       "    </tr>\n",
       "    <tr>\n",
       "      <th>C_ID_5c356aa384</th>\n",
       "      <td>Y</td>\n",
       "      <td>20</td>\n",
       "      <td>N</td>\n",
       "      <td>0</td>\n",
       "      <td>1.0</td>\n",
       "      <td>307</td>\n",
       "      <td>M_ID_69c092c26e</td>\n",
       "      <td>-1</td>\n",
       "      <td>-0.596643</td>\n",
       "      <td>2017-12-05 12:38:59</td>\n",
       "      <td>3.0</td>\n",
       "      <td>19</td>\n",
       "      <td>19</td>\n",
       "    </tr>\n",
       "    <tr>\n",
       "      <th>C_ID_5c356aa384</th>\n",
       "      <td>Y</td>\n",
       "      <td>330</td>\n",
       "      <td>N</td>\n",
       "      <td>0</td>\n",
       "      <td>1.0</td>\n",
       "      <td>705</td>\n",
       "      <td>M_ID_b872abf8ca</td>\n",
       "      <td>-3</td>\n",
       "      <td>-0.550316</td>\n",
       "      <td>2017-10-07 20:00:40</td>\n",
       "      <td>3.0</td>\n",
       "      <td>17</td>\n",
       "      <td>33</td>\n",
       "    </tr>\n",
       "    <tr>\n",
       "      <th>C_ID_5c356aa384</th>\n",
       "      <td>Y</td>\n",
       "      <td>69</td>\n",
       "      <td>N</td>\n",
       "      <td>0</td>\n",
       "      <td>1.0</td>\n",
       "      <td>879</td>\n",
       "      <td>M_ID_00a6ca8a8a</td>\n",
       "      <td>-3</td>\n",
       "      <td>-0.605659</td>\n",
       "      <td>2017-10-02 00:35:15</td>\n",
       "      <td>1.0</td>\n",
       "      <td>9</td>\n",
       "      <td>29</td>\n",
       "    </tr>\n",
       "    <tr>\n",
       "      <th>C_ID_f9f906a4a2</th>\n",
       "      <td>Y</td>\n",
       "      <td>-1</td>\n",
       "      <td>Y</td>\n",
       "      <td>1</td>\n",
       "      <td>2.0</td>\n",
       "      <td>661</td>\n",
       "      <td>M_ID_fc7d7969c3</td>\n",
       "      <td>-1</td>\n",
       "      <td>-0.704984</td>\n",
       "      <td>2018-01-01 18:33:46</td>\n",
       "      <td>1.0</td>\n",
       "      <td>-1</td>\n",
       "      <td>8</td>\n",
       "    </tr>\n",
       "    <tr>\n",
       "      <th>C_ID_f9f906a4a2</th>\n",
       "      <td>Y</td>\n",
       "      <td>-1</td>\n",
       "      <td>Y</td>\n",
       "      <td>1</td>\n",
       "      <td>2.0</td>\n",
       "      <td>661</td>\n",
       "      <td>M_ID_fc7d7969c3</td>\n",
       "      <td>0</td>\n",
       "      <td>-0.704984</td>\n",
       "      <td>2018-02-01 18:06:30</td>\n",
       "      <td>1.0</td>\n",
       "      <td>-1</td>\n",
       "      <td>8</td>\n",
       "    </tr>\n",
       "    <tr>\n",
       "      <th>C_ID_f9f906a4a2</th>\n",
       "      <td>Y</td>\n",
       "      <td>-1</td>\n",
       "      <td>Y</td>\n",
       "      <td>1</td>\n",
       "      <td>2.0</td>\n",
       "      <td>661</td>\n",
       "      <td>M_ID_fc7d7969c3</td>\n",
       "      <td>-2</td>\n",
       "      <td>-0.745405</td>\n",
       "      <td>2017-12-24 00:19:52</td>\n",
       "      <td>1.0</td>\n",
       "      <td>-1</td>\n",
       "      <td>8</td>\n",
       "    </tr>\n",
       "    <tr>\n",
       "      <th>C_ID_5cf3187742</th>\n",
       "      <td>Y</td>\n",
       "      <td>277</td>\n",
       "      <td>N</td>\n",
       "      <td>0</td>\n",
       "      <td>1.0</td>\n",
       "      <td>278</td>\n",
       "      <td>M_ID_4b5760f37b</td>\n",
       "      <td>-3</td>\n",
       "      <td>-0.666065</td>\n",
       "      <td>2017-11-26 02:27:39</td>\n",
       "      <td>4.0</td>\n",
       "      <td>13</td>\n",
       "      <td>37</td>\n",
       "    </tr>\n",
       "    <tr>\n",
       "      <th>C_ID_5cf3187742</th>\n",
       "      <td>Y</td>\n",
       "      <td>277</td>\n",
       "      <td>N</td>\n",
       "      <td>0</td>\n",
       "      <td>1.0</td>\n",
       "      <td>68</td>\n",
       "      <td>M_ID_9a72bcd3b4</td>\n",
       "      <td>-2</td>\n",
       "      <td>-0.686817</td>\n",
       "      <td>2017-12-30 19:36:04</td>\n",
       "      <td>4.0</td>\n",
       "      <td>13</td>\n",
       "      <td>27</td>\n",
       "    </tr>\n",
       "    <tr>\n",
       "      <th>C_ID_5cf3187742</th>\n",
       "      <td>Y</td>\n",
       "      <td>277</td>\n",
       "      <td>N</td>\n",
       "      <td>0</td>\n",
       "      <td>1.0</td>\n",
       "      <td>367</td>\n",
       "      <td>M_ID_bf86e8edcd</td>\n",
       "      <td>-5</td>\n",
       "      <td>-0.735638</td>\n",
       "      <td>2017-09-23 22:42:58</td>\n",
       "      <td>4.0</td>\n",
       "      <td>13</td>\n",
       "      <td>16</td>\n",
       "    </tr>\n",
       "    <tr>\n",
       "      <th>C_ID_803aa0aed4</th>\n",
       "      <td>Y</td>\n",
       "      <td>30</td>\n",
       "      <td>N</td>\n",
       "      <td>0</td>\n",
       "      <td>1.0</td>\n",
       "      <td>705</td>\n",
       "      <td>M_ID_1ada7c0ceb</td>\n",
       "      <td>0</td>\n",
       "      <td>-0.718523</td>\n",
       "      <td>2018-02-20 14:18:46</td>\n",
       "      <td>3.0</td>\n",
       "      <td>17</td>\n",
       "      <td>33</td>\n",
       "    </tr>\n",
       "    <tr>\n",
       "      <th>C_ID_803aa0aed4</th>\n",
       "      <td>Y</td>\n",
       "      <td>330</td>\n",
       "      <td>N</td>\n",
       "      <td>0</td>\n",
       "      <td>1.0</td>\n",
       "      <td>705</td>\n",
       "      <td>M_ID_393b4b8cec</td>\n",
       "      <td>-8</td>\n",
       "      <td>-0.702504</td>\n",
       "      <td>2017-06-01 16:55:08</td>\n",
       "      <td>3.0</td>\n",
       "      <td>17</td>\n",
       "      <td>33</td>\n",
       "    </tr>\n",
       "    <tr>\n",
       "      <th>C_ID_803aa0aed4</th>\n",
       "      <td>Y</td>\n",
       "      <td>69</td>\n",
       "      <td>N</td>\n",
       "      <td>0</td>\n",
       "      <td>1.0</td>\n",
       "      <td>879</td>\n",
       "      <td>M_ID_00a6ca8a8a</td>\n",
       "      <td>-9</td>\n",
       "      <td>-0.724068</td>\n",
       "      <td>2017-05-20 16:55:17</td>\n",
       "      <td>1.0</td>\n",
       "      <td>9</td>\n",
       "      <td>29</td>\n",
       "    </tr>\n",
       "    <tr>\n",
       "      <th>C_ID_62df280b20</th>\n",
       "      <td>Y</td>\n",
       "      <td>-1</td>\n",
       "      <td>Y</td>\n",
       "      <td>2</td>\n",
       "      <td>3.0</td>\n",
       "      <td>489</td>\n",
       "      <td>M_ID_244299ea12</td>\n",
       "      <td>-2</td>\n",
       "      <td>1.363355</td>\n",
       "      <td>2017-09-18 20:35:39</td>\n",
       "      <td>1.0</td>\n",
       "      <td>-1</td>\n",
       "      <td>16</td>\n",
       "    </tr>\n",
       "    <tr>\n",
       "      <th>C_ID_62df280b20</th>\n",
       "      <td>Y</td>\n",
       "      <td>-1</td>\n",
       "      <td>Y</td>\n",
       "      <td>2</td>\n",
       "      <td>3.0</td>\n",
       "      <td>489</td>\n",
       "      <td>M_ID_244299ea12</td>\n",
       "      <td>-3</td>\n",
       "      <td>0.032638</td>\n",
       "      <td>2017-08-08 14:36:26</td>\n",
       "      <td>1.0</td>\n",
       "      <td>-1</td>\n",
       "      <td>16</td>\n",
       "    </tr>\n",
       "    <tr>\n",
       "      <th>C_ID_62df280b20</th>\n",
       "      <td>Y</td>\n",
       "      <td>168</td>\n",
       "      <td>N</td>\n",
       "      <td>2</td>\n",
       "      <td>3.0</td>\n",
       "      <td>506</td>\n",
       "      <td>M_ID_aa18020893</td>\n",
       "      <td>-3</td>\n",
       "      <td>-0.612631</td>\n",
       "      <td>2017-08-29 11:43:46</td>\n",
       "      <td>1.0</td>\n",
       "      <td>9</td>\n",
       "      <td>30</td>\n",
       "    </tr>\n",
       "    <tr>\n",
       "      <th>C_ID_62df280b20</th>\n",
       "      <td>Y</td>\n",
       "      <td>24</td>\n",
       "      <td>N</td>\n",
       "      <td>3</td>\n",
       "      <td>3.0</td>\n",
       "      <td>87</td>\n",
       "      <td>M_ID_94f6f392c4</td>\n",
       "      <td>-3</td>\n",
       "      <td>-0.459451</td>\n",
       "      <td>2017-08-29 11:28:25</td>\n",
       "      <td>1.0</td>\n",
       "      <td>9</td>\n",
       "      <td>27</td>\n",
       "    </tr>\n",
       "    <tr>\n",
       "      <th>C_ID_e49b1996b0</th>\n",
       "      <td>Y</td>\n",
       "      <td>11</td>\n",
       "      <td>N</td>\n",
       "      <td>1</td>\n",
       "      <td>2.0</td>\n",
       "      <td>705</td>\n",
       "      <td>M_ID_b692f6f5d1</td>\n",
       "      <td>-2</td>\n",
       "      <td>-0.618747</td>\n",
       "      <td>2017-12-29 14:43:53</td>\n",
       "      <td>2.0</td>\n",
       "      <td>23</td>\n",
       "      <td>33</td>\n",
       "    </tr>\n",
       "    <tr>\n",
       "      <th>C_ID_e49b1996b0</th>\n",
       "      <td>Y</td>\n",
       "      <td>-1</td>\n",
       "      <td>Y</td>\n",
       "      <td>1</td>\n",
       "      <td>2.0</td>\n",
       "      <td>550</td>\n",
       "      <td>M_ID_09d7a200d1</td>\n",
       "      <td>-1</td>\n",
       "      <td>-0.656749</td>\n",
       "      <td>2018-01-23 01:52:28</td>\n",
       "      <td>2.0</td>\n",
       "      <td>-1</td>\n",
       "      <td>3</td>\n",
       "    </tr>\n",
       "    <tr>\n",
       "      <th>C_ID_e49b1996b0</th>\n",
       "      <td>Y</td>\n",
       "      <td>11</td>\n",
       "      <td>N</td>\n",
       "      <td>1</td>\n",
       "      <td>2.0</td>\n",
       "      <td>130</td>\n",
       "      <td>M_ID_ea5d727248</td>\n",
       "      <td>0</td>\n",
       "      <td>-0.694315</td>\n",
       "      <td>2018-02-07 18:17:01</td>\n",
       "      <td>2.0</td>\n",
       "      <td>23</td>\n",
       "      <td>41</td>\n",
       "    </tr>\n",
       "    <tr>\n",
       "      <th>C_ID_2863d2fa95</th>\n",
       "      <td>Y</td>\n",
       "      <td>-1</td>\n",
       "      <td>Y</td>\n",
       "      <td>1</td>\n",
       "      <td>2.0</td>\n",
       "      <td>360</td>\n",
       "      <td>M_ID_edd92b6720</td>\n",
       "      <td>-1</td>\n",
       "      <td>-0.632706</td>\n",
       "      <td>2017-01-20 08:52:04</td>\n",
       "      <td>1.0</td>\n",
       "      <td>-1</td>\n",
       "      <td>34</td>\n",
       "    </tr>\n",
       "    <tr>\n",
       "      <th>C_ID_2863d2fa95</th>\n",
       "      <td>Y</td>\n",
       "      <td>-1</td>\n",
       "      <td>Y</td>\n",
       "      <td>1</td>\n",
       "      <td>2.0</td>\n",
       "      <td>360</td>\n",
       "      <td>M_ID_edd92b6720</td>\n",
       "      <td>0</td>\n",
       "      <td>-0.632706</td>\n",
       "      <td>2017-02-20 04:40:50</td>\n",
       "      <td>1.0</td>\n",
       "      <td>-1</td>\n",
       "      <td>34</td>\n",
       "    </tr>\n",
       "    <tr>\n",
       "      <th>C_ID_5c240d6e3c</th>\n",
       "      <td>Y</td>\n",
       "      <td>3</td>\n",
       "      <td>N</td>\n",
       "      <td>0</td>\n",
       "      <td>1.0</td>\n",
       "      <td>278</td>\n",
       "      <td>M_ID_9cdcfe8673</td>\n",
       "      <td>0</td>\n",
       "      <td>-0.657740</td>\n",
       "      <td>2017-12-26 18:37:51</td>\n",
       "      <td>1.0</td>\n",
       "      <td>16</td>\n",
       "      <td>37</td>\n",
       "    </tr>\n",
       "    <tr>\n",
       "      <th>C_ID_5c240d6e3c</th>\n",
       "      <td>Y</td>\n",
       "      <td>331</td>\n",
       "      <td>N</td>\n",
       "      <td>0</td>\n",
       "      <td>1.0</td>\n",
       "      <td>514</td>\n",
       "      <td>M_ID_1a75f94f92</td>\n",
       "      <td>-1</td>\n",
       "      <td>0.770620</td>\n",
       "      <td>2017-11-24 14:18:15</td>\n",
       "      <td>1.0</td>\n",
       "      <td>16</td>\n",
       "      <td>9</td>\n",
       "    </tr>\n",
       "    <tr>\n",
       "      <th>C_ID_5c240d6e3c</th>\n",
       "      <td>Y</td>\n",
       "      <td>331</td>\n",
       "      <td>N</td>\n",
       "      <td>0</td>\n",
       "      <td>1.0</td>\n",
       "      <td>514</td>\n",
       "      <td>M_ID_1a75f94f92</td>\n",
       "      <td>-2</td>\n",
       "      <td>1.134411</td>\n",
       "      <td>2017-10-26 14:09:40</td>\n",
       "      <td>1.0</td>\n",
       "      <td>16</td>\n",
       "      <td>9</td>\n",
       "    </tr>\n",
       "  </tbody>\n",
       "</table>\n",
       "<p>29112361 rows × 13 columns</p>\n",
       "</div>"
      ],
      "text/plain": [
       "                authorized_flag  city_id category_1  installments  category_3  \\\n",
       "card_id                                                                         \n",
       "C_ID_4e6213e9bc               Y       88          N             0         1.0   \n",
       "C_ID_4e6213e9bc               Y       88          N             0         1.0   \n",
       "C_ID_4e6213e9bc               Y       88          N             0         1.0   \n",
       "C_ID_4e6213e9bc               Y       88          N             0         1.0   \n",
       "C_ID_4e6213e9bc               Y       88          N             0         1.0   \n",
       "C_ID_4e6213e9bc               Y      333          N             0         1.0   \n",
       "C_ID_4e6213e9bc               Y       88          N             0         1.0   \n",
       "C_ID_4e6213e9bc               Y        3          N             0         1.0   \n",
       "C_ID_4e6213e9bc               Y       88          N             0         1.0   \n",
       "C_ID_4e6213e9bc               Y       88          N             0         1.0   \n",
       "C_ID_4e6213e9bc               Y       88          N             0         1.0   \n",
       "C_ID_4e6213e9bc               Y       -1          N             0         1.0   \n",
       "C_ID_4e6213e9bc               Y       88          N             0         1.0   \n",
       "C_ID_4e6213e9bc               Y       88          N             0         1.0   \n",
       "C_ID_4e6213e9bc               Y       88          N             0         1.0   \n",
       "C_ID_4e6213e9bc               Y       88          N             0         1.0   \n",
       "C_ID_4e6213e9bc               Y       69          N             0         1.0   \n",
       "C_ID_4e6213e9bc               Y       88          N             0         1.0   \n",
       "C_ID_4e6213e9bc               Y      233          N             0         1.0   \n",
       "C_ID_4e6213e9bc               Y       88          N             0         1.0   \n",
       "C_ID_4e6213e9bc               Y       88          N             0         1.0   \n",
       "C_ID_4e6213e9bc               Y       88          N             0         1.0   \n",
       "C_ID_4e6213e9bc               Y       88          N             0         1.0   \n",
       "C_ID_4e6213e9bc               Y       88          N             0         1.0   \n",
       "C_ID_4e6213e9bc               Y        3          N             0         1.0   \n",
       "C_ID_4e6213e9bc               Y      333          N             0         1.0   \n",
       "C_ID_4e6213e9bc               Y       88          N             0         1.0   \n",
       "C_ID_4e6213e9bc               Y       88          N             0         1.0   \n",
       "C_ID_4e6213e9bc               Y       88          N             0         1.0   \n",
       "C_ID_4e6213e9bc               Y       88          N             0         1.0   \n",
       "...                         ...      ...        ...           ...         ...   \n",
       "C_ID_e43fce4842               Y       69          N             1         2.0   \n",
       "C_ID_e43fce4842               Y       -1          Y            10         3.0   \n",
       "C_ID_112832329d               Y       -1          Y             8         3.0   \n",
       "C_ID_112832329d               Y       -1          Y             4         3.0   \n",
       "C_ID_2a8874827b               Y       19          N             0         1.0   \n",
       "C_ID_2a8874827b               Y       19          N             0         1.0   \n",
       "C_ID_5c356aa384               Y       20          N             0         1.0   \n",
       "C_ID_5c356aa384               Y      330          N             0         1.0   \n",
       "C_ID_5c356aa384               Y       69          N             0         1.0   \n",
       "C_ID_f9f906a4a2               Y       -1          Y             1         2.0   \n",
       "C_ID_f9f906a4a2               Y       -1          Y             1         2.0   \n",
       "C_ID_f9f906a4a2               Y       -1          Y             1         2.0   \n",
       "C_ID_5cf3187742               Y      277          N             0         1.0   \n",
       "C_ID_5cf3187742               Y      277          N             0         1.0   \n",
       "C_ID_5cf3187742               Y      277          N             0         1.0   \n",
       "C_ID_803aa0aed4               Y       30          N             0         1.0   \n",
       "C_ID_803aa0aed4               Y      330          N             0         1.0   \n",
       "C_ID_803aa0aed4               Y       69          N             0         1.0   \n",
       "C_ID_62df280b20               Y       -1          Y             2         3.0   \n",
       "C_ID_62df280b20               Y       -1          Y             2         3.0   \n",
       "C_ID_62df280b20               Y      168          N             2         3.0   \n",
       "C_ID_62df280b20               Y       24          N             3         3.0   \n",
       "C_ID_e49b1996b0               Y       11          N             1         2.0   \n",
       "C_ID_e49b1996b0               Y       -1          Y             1         2.0   \n",
       "C_ID_e49b1996b0               Y       11          N             1         2.0   \n",
       "C_ID_2863d2fa95               Y       -1          Y             1         2.0   \n",
       "C_ID_2863d2fa95               Y       -1          Y             1         2.0   \n",
       "C_ID_5c240d6e3c               Y        3          N             0         1.0   \n",
       "C_ID_5c240d6e3c               Y      331          N             0         1.0   \n",
       "C_ID_5c240d6e3c               Y      331          N             0         1.0   \n",
       "\n",
       "                 merchant_category_id      merchant_id  month_lag  \\\n",
       "card_id                                                             \n",
       "C_ID_4e6213e9bc                    80  M_ID_e020e9b302         -8   \n",
       "C_ID_4e6213e9bc                   367  M_ID_86ec983688         -7   \n",
       "C_ID_4e6213e9bc                    80  M_ID_979ed661fc         -6   \n",
       "C_ID_4e6213e9bc                   560  M_ID_e6d5ae8ea6         -5   \n",
       "C_ID_4e6213e9bc                    80  M_ID_e020e9b302        -11   \n",
       "C_ID_4e6213e9bc                    80  M_ID_50af771f8d          0   \n",
       "C_ID_4e6213e9bc                   278  M_ID_5e8220e564        -11   \n",
       "C_ID_4e6213e9bc                    80  M_ID_9d41786a50         -3   \n",
       "C_ID_4e6213e9bc                    80  M_ID_979ed661fc         -8   \n",
       "C_ID_4e6213e9bc                    80  M_ID_74ba14b5fc        -11   \n",
       "C_ID_4e6213e9bc                   683  M_ID_1449f22bfb         -9   \n",
       "C_ID_4e6213e9bc                   560  M_ID_7c5e93af2f          0   \n",
       "C_ID_4e6213e9bc                    80  M_ID_e020e9b302         -8   \n",
       "C_ID_4e6213e9bc                   130  M_ID_e8fb39882d         -7   \n",
       "C_ID_4e6213e9bc                    80  M_ID_97e86eae5f         -4   \n",
       "C_ID_4e6213e9bc                   560  M_ID_e6d5ae8ea6         -8   \n",
       "C_ID_4e6213e9bc                   879  M_ID_00a6ca8a8a          0   \n",
       "C_ID_4e6213e9bc                   278  M_ID_21e1552dab         -7   \n",
       "C_ID_4e6213e9bc                    80  M_ID_4524a562f3         -1   \n",
       "C_ID_4e6213e9bc                    80  M_ID_e020e9b302         -6   \n",
       "C_ID_4e6213e9bc                   278  M_ID_21e1552dab         -6   \n",
       "C_ID_4e6213e9bc                    80  M_ID_979ed661fc         -7   \n",
       "C_ID_4e6213e9bc                    80  M_ID_979ed661fc         -7   \n",
       "C_ID_4e6213e9bc                   278  M_ID_e020e9b302         -9   \n",
       "C_ID_4e6213e9bc                   511  M_ID_79db784180        -13   \n",
       "C_ID_4e6213e9bc                    80  M_ID_50af771f8d          0   \n",
       "C_ID_4e6213e9bc                   278  M_ID_e020e9b302        -10   \n",
       "C_ID_4e6213e9bc                    80  M_ID_979ed661fc         -8   \n",
       "C_ID_4e6213e9bc                   278  M_ID_21e1552dab        -11   \n",
       "C_ID_4e6213e9bc                    80  M_ID_dc7356f06d         -6   \n",
       "...                               ...              ...        ...   \n",
       "C_ID_e43fce4842                   879  M_ID_00a6ca8a8a         -7   \n",
       "C_ID_e43fce4842                   544  M_ID_3111c6df35         -6   \n",
       "C_ID_112832329d                   210  M_ID_cfa9a773ca          0   \n",
       "C_ID_112832329d                   210  M_ID_6464db3b45         -1   \n",
       "C_ID_2a8874827b                   307  M_ID_0bd214d6c8         -1   \n",
       "C_ID_2a8874827b                   607  M_ID_b98db225f5          0   \n",
       "C_ID_5c356aa384                   307  M_ID_69c092c26e         -1   \n",
       "C_ID_5c356aa384                   705  M_ID_b872abf8ca         -3   \n",
       "C_ID_5c356aa384                   879  M_ID_00a6ca8a8a         -3   \n",
       "C_ID_f9f906a4a2                   661  M_ID_fc7d7969c3         -1   \n",
       "C_ID_f9f906a4a2                   661  M_ID_fc7d7969c3          0   \n",
       "C_ID_f9f906a4a2                   661  M_ID_fc7d7969c3         -2   \n",
       "C_ID_5cf3187742                   278  M_ID_4b5760f37b         -3   \n",
       "C_ID_5cf3187742                    68  M_ID_9a72bcd3b4         -2   \n",
       "C_ID_5cf3187742                   367  M_ID_bf86e8edcd         -5   \n",
       "C_ID_803aa0aed4                   705  M_ID_1ada7c0ceb          0   \n",
       "C_ID_803aa0aed4                   705  M_ID_393b4b8cec         -8   \n",
       "C_ID_803aa0aed4                   879  M_ID_00a6ca8a8a         -9   \n",
       "C_ID_62df280b20                   489  M_ID_244299ea12         -2   \n",
       "C_ID_62df280b20                   489  M_ID_244299ea12         -3   \n",
       "C_ID_62df280b20                   506  M_ID_aa18020893         -3   \n",
       "C_ID_62df280b20                    87  M_ID_94f6f392c4         -3   \n",
       "C_ID_e49b1996b0                   705  M_ID_b692f6f5d1         -2   \n",
       "C_ID_e49b1996b0                   550  M_ID_09d7a200d1         -1   \n",
       "C_ID_e49b1996b0                   130  M_ID_ea5d727248          0   \n",
       "C_ID_2863d2fa95                   360  M_ID_edd92b6720         -1   \n",
       "C_ID_2863d2fa95                   360  M_ID_edd92b6720          0   \n",
       "C_ID_5c240d6e3c                   278  M_ID_9cdcfe8673          0   \n",
       "C_ID_5c240d6e3c                   514  M_ID_1a75f94f92         -1   \n",
       "C_ID_5c240d6e3c                   514  M_ID_1a75f94f92         -2   \n",
       "\n",
       "                 purchase_amount        purchase_date  category_2  state_id  \\\n",
       "card_id                                                                       \n",
       "C_ID_4e6213e9bc        -0.703331  2017-06-25 15:33:07         1.0        16   \n",
       "C_ID_4e6213e9bc        -0.733128  2017-07-15 12:10:45         1.0        16   \n",
       "C_ID_4e6213e9bc        -0.720386  2017-08-09 22:04:29         1.0        16   \n",
       "C_ID_4e6213e9bc        -0.735352  2017-09-02 10:06:26         1.0        16   \n",
       "C_ID_4e6213e9bc        -0.722865  2017-03-10 01:14:19         1.0        16   \n",
       "C_ID_4e6213e9bc        -0.734887  2018-02-24 08:45:05         1.0         9   \n",
       "C_ID_4e6213e9bc        -0.716855  2017-03-21 00:10:51         1.0        16   \n",
       "C_ID_4e6213e9bc        -0.657049  2017-11-18 20:05:55         1.0        16   \n",
       "C_ID_4e6213e9bc        -0.737967  2017-06-01 22:02:56         1.0        16   \n",
       "C_ID_4e6213e9bc        -0.715352  2017-03-16 15:41:22         1.0        16   \n",
       "C_ID_4e6213e9bc        -0.734135  2017-05-09 12:42:07         1.0        16   \n",
       "C_ID_4e6213e9bc        -0.727929  2018-02-08 20:05:45         1.0        -1   \n",
       "C_ID_4e6213e9bc        -0.741648  2017-06-08 18:02:29         1.0        16   \n",
       "C_ID_4e6213e9bc        -0.727373  2017-07-14 12:59:38         1.0        16   \n",
       "C_ID_4e6213e9bc        -0.731881  2017-10-24 13:29:29         1.0        16   \n",
       "C_ID_4e6213e9bc        -0.738192  2017-06-14 07:40:48         1.0        16   \n",
       "C_ID_4e6213e9bc        -0.725871  2018-02-07 12:19:33         1.0         9   \n",
       "C_ID_4e6213e9bc        -0.734887  2017-07-07 13:03:27         1.0        16   \n",
       "C_ID_4e6213e9bc        -0.699725  2018-01-08 23:54:29         1.0         9   \n",
       "C_ID_4e6213e9bc        -0.745405  2017-08-11 17:53:00         1.0        16   \n",
       "C_ID_4e6213e9bc        -0.734887  2017-08-30 12:53:57         1.0        16   \n",
       "C_ID_4e6213e9bc        -0.737967  2017-07-01 21:27:23         1.0        16   \n",
       "C_ID_4e6213e9bc        -0.739545  2017-07-14 22:06:02         1.0        16   \n",
       "C_ID_4e6213e9bc        -0.726998  2017-05-06 12:29:50         1.0        16   \n",
       "C_ID_4e6213e9bc        -0.731881  2017-01-20 09:16:43         1.0        16   \n",
       "C_ID_4e6213e9bc        -0.735638  2018-02-26 14:54:38         1.0         9   \n",
       "C_ID_4e6213e9bc        -0.726472  2017-04-29 12:30:03         1.0        16   \n",
       "C_ID_4e6213e9bc        -0.726772  2017-06-23 21:43:17         1.0        16   \n",
       "C_ID_4e6213e9bc        -0.721363  2017-03-10 15:46:19         1.0        16   \n",
       "C_ID_4e6213e9bc        -0.692211  2017-08-05 19:10:32         1.0        16   \n",
       "...                          ...                  ...         ...       ...   \n",
       "C_ID_e43fce4842        -0.744774  2017-07-12 18:01:13         1.0         9   \n",
       "C_ID_e43fce4842        -0.040692  2017-08-03 15:06:50         1.0        -1   \n",
       "C_ID_112832329d         0.502952  2018-01-29 15:08:56         1.0        -1   \n",
       "C_ID_112832329d         0.506889  2017-12-11 19:03:31         1.0        -1   \n",
       "C_ID_2a8874827b        -0.681542  2017-01-06 14:54:55         1.0         9   \n",
       "C_ID_2a8874827b        -0.708891  2017-02-07 16:02:48         1.0         9   \n",
       "C_ID_5c356aa384        -0.596643  2017-12-05 12:38:59         3.0        19   \n",
       "C_ID_5c356aa384        -0.550316  2017-10-07 20:00:40         3.0        17   \n",
       "C_ID_5c356aa384        -0.605659  2017-10-02 00:35:15         1.0         9   \n",
       "C_ID_f9f906a4a2        -0.704984  2018-01-01 18:33:46         1.0        -1   \n",
       "C_ID_f9f906a4a2        -0.704984  2018-02-01 18:06:30         1.0        -1   \n",
       "C_ID_f9f906a4a2        -0.745405  2017-12-24 00:19:52         1.0        -1   \n",
       "C_ID_5cf3187742        -0.666065  2017-11-26 02:27:39         4.0        13   \n",
       "C_ID_5cf3187742        -0.686817  2017-12-30 19:36:04         4.0        13   \n",
       "C_ID_5cf3187742        -0.735638  2017-09-23 22:42:58         4.0        13   \n",
       "C_ID_803aa0aed4        -0.718523  2018-02-20 14:18:46         3.0        17   \n",
       "C_ID_803aa0aed4        -0.702504  2017-06-01 16:55:08         3.0        17   \n",
       "C_ID_803aa0aed4        -0.724068  2017-05-20 16:55:17         1.0         9   \n",
       "C_ID_62df280b20         1.363355  2017-09-18 20:35:39         1.0        -1   \n",
       "C_ID_62df280b20         0.032638  2017-08-08 14:36:26         1.0        -1   \n",
       "C_ID_62df280b20        -0.612631  2017-08-29 11:43:46         1.0         9   \n",
       "C_ID_62df280b20        -0.459451  2017-08-29 11:28:25         1.0         9   \n",
       "C_ID_e49b1996b0        -0.618747  2017-12-29 14:43:53         2.0        23   \n",
       "C_ID_e49b1996b0        -0.656749  2018-01-23 01:52:28         2.0        -1   \n",
       "C_ID_e49b1996b0        -0.694315  2018-02-07 18:17:01         2.0        23   \n",
       "C_ID_2863d2fa95        -0.632706  2017-01-20 08:52:04         1.0        -1   \n",
       "C_ID_2863d2fa95        -0.632706  2017-02-20 04:40:50         1.0        -1   \n",
       "C_ID_5c240d6e3c        -0.657740  2017-12-26 18:37:51         1.0        16   \n",
       "C_ID_5c240d6e3c         0.770620  2017-11-24 14:18:15         1.0        16   \n",
       "C_ID_5c240d6e3c         1.134411  2017-10-26 14:09:40         1.0        16   \n",
       "\n",
       "                 subsector_id  \n",
       "card_id                        \n",
       "C_ID_4e6213e9bc            37  \n",
       "C_ID_4e6213e9bc            16  \n",
       "C_ID_4e6213e9bc            37  \n",
       "C_ID_4e6213e9bc            34  \n",
       "C_ID_4e6213e9bc            37  \n",
       "C_ID_4e6213e9bc            37  \n",
       "C_ID_4e6213e9bc            37  \n",
       "C_ID_4e6213e9bc            37  \n",
       "C_ID_4e6213e9bc            37  \n",
       "C_ID_4e6213e9bc            37  \n",
       "C_ID_4e6213e9bc            34  \n",
       "C_ID_4e6213e9bc            34  \n",
       "C_ID_4e6213e9bc            37  \n",
       "C_ID_4e6213e9bc            41  \n",
       "C_ID_4e6213e9bc            37  \n",
       "C_ID_4e6213e9bc            34  \n",
       "C_ID_4e6213e9bc            29  \n",
       "C_ID_4e6213e9bc            37  \n",
       "C_ID_4e6213e9bc            37  \n",
       "C_ID_4e6213e9bc            37  \n",
       "C_ID_4e6213e9bc            37  \n",
       "C_ID_4e6213e9bc            37  \n",
       "C_ID_4e6213e9bc            37  \n",
       "C_ID_4e6213e9bc            37  \n",
       "C_ID_4e6213e9bc             7  \n",
       "C_ID_4e6213e9bc            37  \n",
       "C_ID_4e6213e9bc            37  \n",
       "C_ID_4e6213e9bc            37  \n",
       "C_ID_4e6213e9bc            37  \n",
       "C_ID_4e6213e9bc            37  \n",
       "...                       ...  \n",
       "C_ID_e43fce4842            29  \n",
       "C_ID_e43fce4842            29  \n",
       "C_ID_112832329d            35  \n",
       "C_ID_112832329d            35  \n",
       "C_ID_2a8874827b            19  \n",
       "C_ID_2a8874827b            29  \n",
       "C_ID_5c356aa384            19  \n",
       "C_ID_5c356aa384            33  \n",
       "C_ID_5c356aa384            29  \n",
       "C_ID_f9f906a4a2             8  \n",
       "C_ID_f9f906a4a2             8  \n",
       "C_ID_f9f906a4a2             8  \n",
       "C_ID_5cf3187742            37  \n",
       "C_ID_5cf3187742            27  \n",
       "C_ID_5cf3187742            16  \n",
       "C_ID_803aa0aed4            33  \n",
       "C_ID_803aa0aed4            33  \n",
       "C_ID_803aa0aed4            29  \n",
       "C_ID_62df280b20            16  \n",
       "C_ID_62df280b20            16  \n",
       "C_ID_62df280b20            30  \n",
       "C_ID_62df280b20            27  \n",
       "C_ID_e49b1996b0            33  \n",
       "C_ID_e49b1996b0             3  \n",
       "C_ID_e49b1996b0            41  \n",
       "C_ID_2863d2fa95            34  \n",
       "C_ID_2863d2fa95            34  \n",
       "C_ID_5c240d6e3c            37  \n",
       "C_ID_5c240d6e3c             9  \n",
       "C_ID_5c240d6e3c             9  \n",
       "\n",
       "[29112361 rows x 13 columns]"
      ]
     },
     "execution_count": 42,
     "metadata": {},
     "output_type": "execute_result"
    }
   ],
   "source": [
    "df_hist_trans"
   ]
  },
  {
   "cell_type": "code",
   "execution_count": null,
   "metadata": {},
   "outputs": [],
   "source": []
  },
  {
   "cell_type": "code",
   "execution_count": null,
   "metadata": {},
   "outputs": [],
   "source": []
  },
  {
   "cell_type": "code",
   "execution_count": null,
   "metadata": {},
   "outputs": [],
   "source": []
  },
  {
   "cell_type": "code",
   "execution_count": null,
   "metadata": {},
   "outputs": [],
   "source": []
  },
  {
   "cell_type": "code",
   "execution_count": null,
   "metadata": {},
   "outputs": [],
   "source": []
  },
  {
   "cell_type": "code",
   "execution_count": null,
   "metadata": {
    "_uuid": "d187b61fb0238f567edd8d088dcda4ad0b7d8f62"
   },
   "outputs": [],
   "source": [
    "group_cat3_nan=group_cat3[group_cat3.isnull()]\n",
    "# 'A' is most frequent which corresponds to 1\n",
    "df_hist_trans[df_hist_trans.isin(group_cat3_nan.index)].category_3=1"
   ]
  },
  {
   "cell_type": "code",
   "execution_count": 41,
   "metadata": {
    "_uuid": "b7920317ca39ec21cc468a660392103012ec67a5"
   },
   "outputs": [],
   "source": [
    "df_train['category_2']=df_train.card_id.apply(lambda x: category_2_count.loc[x].idxmax())"
   ]
  },
  {
   "cell_type": "code",
   "execution_count": null,
   "metadata": {
    "_uuid": "6b563467b0f9b13ec62a716a2d0abfbe589912e2",
    "scrolled": true
   },
   "outputs": [],
   "source": [
    "df_hist_trans.category_2.value_counts(dropna=False)"
   ]
  },
  {
   "cell_type": "code",
   "execution_count": null,
   "metadata": {
    "_uuid": "a883c1ccf966e883582df6ecc6b56fd6887d9ae5",
    "scrolled": true
   },
   "outputs": [],
   "source": [
    "df_hist_trans.category_2=df_hist_trans.card_id.apply(lambda x: 1 if x in group_cat2_nan)"
   ]
  },
  {
   "cell_type": "code",
   "execution_count": null,
   "metadata": {
    "_uuid": "f8a2971bfc8c14d423de0a90cdb501a9999ec439"
   },
   "outputs": [],
   "source": [
    "1 in group_cat2_nan"
   ]
  },
  {
   "cell_type": "code",
   "execution_count": null,
   "metadata": {
    "_uuid": "8f40259523b437bf9f7184f599d4a2c2bc434232"
   },
   "outputs": [],
   "source": [
    "df_hist_trans.category_2.value_counts(dropna=False)"
   ]
  },
  {
   "cell_type": "code",
   "execution_count": null,
   "metadata": {
    "_uuid": "3eab9d3c0710118ff324d90d97f923436f1b7d5d"
   },
   "outputs": [],
   "source": [
    "merchant_na=df_hist_trans.groupby(['card_id','merchant_id']).count()"
   ]
  },
  {
   "cell_type": "code",
   "execution_count": null,
   "metadata": {
    "_uuid": "f3923e6409a9482b42f74b5c7be064397a357f9d"
   },
   "outputs": [],
   "source": [
    "a=merchant_na.authorized_flag"
   ]
  },
  {
   "cell_type": "code",
   "execution_count": null,
   "metadata": {
    "_uuid": "8fc84e030047cc292e8e79eb4a95593847a9408b",
    "scrolled": true
   },
   "outputs": [],
   "source": [
    "a.loc['C_ID_00007093c1'].idxmax()"
   ]
  },
  {
   "cell_type": "code",
   "execution_count": null,
   "metadata": {
    "_uuid": "36bfdc14217883c2bc2244e4814957bfe6725307"
   },
   "outputs": [],
   "source": [
    "df_train['max_merchant_id']=df_train.card_id.apply(lambda x: a.loc[x].idxmax())"
   ]
  },
  {
   "cell_type": "code",
   "execution_count": null,
   "metadata": {
    "_uuid": "ab88115a74b197760abe7708278420e21fc1707a",
    "scrolled": false
   },
   "outputs": [],
   "source": [
    "df_hist_trans['category_2'].value_counts(dropna=False)"
   ]
  },
  {
   "cell_type": "code",
   "execution_count": null,
   "metadata": {
    "_uuid": "c47048b343193e01632e6ef2fe6f99adef497f94",
    "scrolled": true
   },
   "outputs": [],
   "source": []
  },
  {
   "cell_type": "code",
   "execution_count": null,
   "metadata": {
    "_uuid": "60ebeed95eb0042b1f5be502eb40aa80505d8aa8"
   },
   "outputs": [],
   "source": [
    "df_hist_trans['category_3'].value_counts(dropna=False)"
   ]
  },
  {
   "cell_type": "code",
   "execution_count": null,
   "metadata": {
    "_uuid": "c0856f5543e3523f1d666a6fe32bd2f330b09a6b"
   },
   "outputs": [],
   "source": [
    "category_2_na=df_hist_trans.groupby(['card_id','category_2']).count()\n",
    "category_3_na=df_hist_trans.groupby(['card_id','category_3']).count()"
   ]
  },
  {
   "cell_type": "markdown",
   "metadata": {
    "_uuid": "191386d3250a39ccd0db1003229e1be30c6d139b"
   },
   "source": [
    "For some card_id unique values are only NaN which can't be used as index. We can change those values to most frequently seen values. And then Apply to fill rest Nan values by the same strategy as we use for new merchant id"
   ]
  },
  {
   "cell_type": "code",
   "execution_count": null,
   "metadata": {
    "_uuid": "0cdc5a85021506a44519a2153cb80bba5d269ea5"
   },
   "outputs": [],
   "source": [
    "category_2_na=category_2_na.authorized_flag"
   ]
  },
  {
   "cell_type": "code",
   "execution_count": null,
   "metadata": {
    "_uuid": "a831c0cc88f9ff6ad8dda981cf460f60dae6890a"
   },
   "outputs": [],
   "source": [
    "category_2_na.loc['C_ID_00007093c1'].max()"
   ]
  },
  {
   "cell_type": "code",
   "execution_count": null,
   "metadata": {
    "_uuid": "1804345856293594ac8aa88c46076773edc7e046",
    "scrolled": true
   },
   "outputs": [],
   "source": [
    "category_2_group=df_hist_trans.groupby('card_id').category_2.max()"
   ]
  },
  {
   "cell_type": "code",
   "execution_count": null,
   "metadata": {
    "_uuid": "13e47c9f92c03415a64f7c2acde9e28c52cd42b0"
   },
   "outputs": [],
   "source": [
    "category_2_group.value_counts(dropna=False)"
   ]
  },
  {
   "cell_type": "code",
   "execution_count": null,
   "metadata": {
    "_uuid": "e5c5ff5ba9df1dbf089d0d92bdc7df4985eacd53"
   },
   "outputs": [],
   "source": [
    "uncat2=category_2_group.unique()"
   ]
  },
  {
   "cell_type": "code",
   "execution_count": null,
   "metadata": {
    "_uuid": "9b827f33ad182f5ef598bfb7a1a11840dcc15bb4"
   },
   "outputs": [],
   "source": [
    "category_2_group1=category_2_group.apply(lambda x: 1 if pd.isnull(x) else x)"
   ]
  },
  {
   "cell_type": "code",
   "execution_count": null,
   "metadata": {
    "_uuid": "37ed70c4ed1b98fc936411522085e694d54001ca",
    "scrolled": false
   },
   "outputs": [],
   "source": [
    "category_2_group1.value_counts(dropna=False)"
   ]
  },
  {
   "cell_type": "code",
   "execution_count": null,
   "metadata": {
    "_uuid": "577b4816e98de35190720552118ee675423deecf"
   },
   "outputs": [],
   "source": [
    "df_new_merchant_trans[df_new_merchant_trans.card_id=='C_ID_0030e0945f']"
   ]
  },
  {
   "cell_type": "code",
   "execution_count": null,
   "metadata": {
    "_uuid": "de7fc99837243ced2648de30b3cfbc361062edca",
    "scrolled": true
   },
   "outputs": [],
   "source": [
    "category_2_group[category_2_group.isnull()]"
   ]
  },
  {
   "cell_type": "code",
   "execution_count": null,
   "metadata": {
    "_uuid": "2baac75e49027d6f1919643d125614fc16b403f8"
   },
   "outputs": [],
   "source": [
    "df_train['max_category_2']=df_train.card_id.apply(lambda x: category_2_na.loc[x].idxmax())"
   ]
  },
  {
   "cell_type": "markdown",
   "metadata": {
    "_uuid": "32b978fa6be99599dc456364101e218ff0c6e202"
   },
   "source": [
    "Salamat :Changed NaN values in merchant ID to most frequent merchant. Might not be good idea since it is generalizing. So, we can make it unique to each card id most frequent merchant maybe ...\n",
    "Same goes for category_3"
   ]
  },
  {
   "cell_type": "code",
   "execution_count": null,
   "metadata": {
    "_uuid": "71f89a3b8a93b2f2feb2cd0a45f860cde33687be"
   },
   "outputs": [],
   "source": [
    "for df in [df_hist_trans,df_new_merchant_trans]:\n",
    "    df['category_2'].fillna(1.0,inplace=True)\n",
    "    df['category_3'].fillna('A',inplace=True)\n",
    "    df['merchant_id'].fillna('M_ID_00a6ca8a8a',inplace=True)"
   ]
  },
  {
   "cell_type": "code",
   "execution_count": null,
   "metadata": {
    "_uuid": "dda90662d05e22310dd713df106ea07f4b8bccfc"
   },
   "outputs": [],
   "source": [
    "def get_new_columns(name,aggs):\n",
    "    return [name + '_' + k + '_' + agg for k in aggs.keys() for agg in aggs[k]]"
   ]
  },
  {
   "cell_type": "markdown",
   "metadata": {
    "_uuid": "6ce81345de5cf46eb239fc2ec035142d952c64f1"
   },
   "source": [
    "I we can take weekofyear,day of week, weekend as extra parameter which I didn't. I am not sure if month diff is correct. Still confused about this issue"
   ]
  },
  {
   "cell_type": "code",
   "execution_count": null,
   "metadata": {
    "_uuid": "690ba01a38f524e9345b419200f588f937bc067a"
   },
   "outputs": [],
   "source": [
    "for df in [df_hist_trans,df_new_merchant_trans]:\n",
    "    df['purchase_date'] = pd.to_datetime(df['purchase_date'])\n",
    "    df['year'] = df['purchase_date'].dt.year\n",
    "    df['weekofyear'] = df['purchase_date'].dt.weekofyear\n",
    "    df['month'] = df['purchase_date'].dt.month\n",
    "    df['dayofweek'] = df['purchase_date'].dt.dayofweek\n",
    "    df['weekend'] = (df.purchase_date.dt.weekday >=5).astype(int)\n",
    "    df['hour'] = df['purchase_date'].dt.hour\n",
    "    df['authorized_flag'] = df['authorized_flag'].map({'Y':1, 'N':0})\n",
    "    df['category_1'] = df['category_1'].map({'Y':1, 'N':0}) \n",
    "    #https://www.kaggle.com/c/elo-merchant-category-recommendation/discussion/73244\n",
    "    df['month_diff'] = ((datetime.datetime.today() - df['purchase_date']).dt.days)//30\n",
    "    df['month_diff'] += df['month_lag']"
   ]
  },
  {
   "cell_type": "code",
   "execution_count": null,
   "metadata": {
    "_uuid": "ddf1d5bb0ade2b22b0f072c208c1506ea64503ea"
   },
   "outputs": [],
   "source": [
    "aggs = {}\n",
    "for col in ['month','hour','weekofyear','dayofweek','year','subsector_id','merchant_id','merchant_category_id']:\n",
    "    aggs[col] = ['nunique']\n",
    "\n",
    "aggs['purchase_amount'] = ['sum','max','min','mean','var']\n",
    "aggs['installments'] = ['sum','max','min','mean','var']\n",
    "aggs['purchase_date'] = ['max','min']\n",
    "aggs['month_lag'] = ['max','min','mean','var']\n",
    "aggs['month_diff'] = ['mean']\n",
    "aggs['authorized_flag'] = ['sum', 'mean']\n",
    "aggs['weekend'] = ['sum', 'mean']\n",
    "aggs['category_1'] = ['sum', 'mean']\n",
    "aggs['card_id'] = ['size']\n",
    "\n",
    "for col in ['category_2','category_3']:\n",
    "    df_hist_trans[col+'_mean'] = df_hist_trans.groupby([col])['purchase_amount'].transform('mean')\n",
    "    aggs[col+'_mean'] = ['mean']    \n",
    "\n",
    "new_columns = get_new_columns('hist',aggs)\n",
    "df_hist_trans_group = df_hist_trans.groupby('card_id').agg(aggs)\n",
    "df_hist_trans_group.columns = new_columns\n",
    "df_hist_trans_group.reset_index(drop=False,inplace=True)\n",
    "df_hist_trans_group['hist_purchase_date_diff'] = (df_hist_trans_group['hist_purchase_date_max'] - df_hist_trans_group['hist_purchase_date_min']).dt.days\n",
    "df_hist_trans_group['hist_purchase_date_average'] = df_hist_trans_group['hist_purchase_date_diff']/df_hist_trans_group['hist_card_id_size']\n",
    "df_hist_trans_group['hist_purchase_date_uptonow'] = (datetime.datetime.today() - df_hist_trans_group['hist_purchase_date_max']).dt.days\n",
    "df_train = df_train.merge(df_hist_trans_group,on='card_id',how='left')\n",
    "df_test = df_test.merge(df_hist_trans_group,on='card_id',how='left')\n",
    "del df_hist_trans_group;gc.collect()"
   ]
  },
  {
   "cell_type": "code",
   "execution_count": null,
   "metadata": {
    "_uuid": "f7f5625db40db4395374991124fb796c9decd60b"
   },
   "outputs": [],
   "source": [
    "aggs = {}\n",
    "for col in ['month','hour','weekofyear','dayofweek','year','subsector_id','merchant_id','merchant_category_id']:\n",
    "    aggs[col] = ['nunique']\n",
    "aggs['purchase_amount'] = ['sum','max','min','mean','var']\n",
    "aggs['installments'] = ['sum','max','min','mean','var']\n",
    "aggs['purchase_date'] = ['max','min']\n",
    "aggs['month_lag'] = ['max','min','mean','var']\n",
    "aggs['month_diff'] = ['mean']\n",
    "aggs['weekend'] = ['sum', 'mean']\n",
    "aggs['category_1'] = ['sum', 'mean']\n",
    "aggs['card_id'] = ['size']\n",
    "\n",
    "for col in ['category_2','category_3']:\n",
    "    df_new_merchant_trans[col+'_mean'] = df_new_merchant_trans.groupby([col])['purchase_amount'].transform('mean')\n",
    "    aggs[col+'_mean'] = ['mean']\n",
    "    \n",
    "new_columns = get_new_columns('new_hist',aggs)\n",
    "df_hist_trans_group = df_new_merchant_trans.groupby('card_id').agg(aggs)\n",
    "df_hist_trans_group.columns = new_columns\n",
    "df_hist_trans_group.reset_index(drop=False,inplace=True)\n",
    "df_hist_trans_group['new_hist_purchase_date_diff'] = (df_hist_trans_group['new_hist_purchase_date_max'] - df_hist_trans_group['new_hist_purchase_date_min']).dt.days\n",
    "df_hist_trans_group['new_hist_purchase_date_average'] = df_hist_trans_group['new_hist_purchase_date_diff']/df_hist_trans_group['new_hist_card_id_size']\n",
    "df_hist_trans_group['new_hist_purchase_date_uptonow'] = (datetime.datetime.today() - df_hist_trans_group['new_hist_purchase_date_max']).dt.days\n",
    "df_train = df_train.merge(df_hist_trans_group,on='card_id',how='left')\n",
    "df_test = df_test.merge(df_hist_trans_group,on='card_id',how='left')\n",
    "del df_hist_trans_group;gc.collect()"
   ]
  },
  {
   "cell_type": "code",
   "execution_count": null,
   "metadata": {
    "_uuid": "a075cc90ab1322829e4fad3ff39fce307c5db93c"
   },
   "outputs": [],
   "source": [
    "del df_hist_trans;gc.collect()\n",
    "del df_new_merchant_trans;gc.collect()\n",
    "df_train.head(5)"
   ]
  },
  {
   "cell_type": "code",
   "execution_count": null,
   "metadata": {
    "_uuid": "6f3182aeac0c3bf7a061a1b9e25e859f25fee9b5"
   },
   "outputs": [],
   "source": [
    "df_train['outliers'] = 0\n",
    "df_train.loc[df_train['target'] < -30, 'outliers'] = 1\n",
    "df_train['outliers'].value_counts()"
   ]
  },
  {
   "cell_type": "code",
   "execution_count": null,
   "metadata": {
    "_uuid": "e6dc9b807427dd701d29177bcf2516a52cbdbd71",
    "scrolled": true
   },
   "outputs": [],
   "source": [
    "df_train.columns"
   ]
  },
  {
   "cell_type": "code",
   "execution_count": null,
   "metadata": {
    "_uuid": "2223d486136735c80a41ab13473f24b8156baa52"
   },
   "outputs": [],
   "source": [
    "df_train.hist_purchase_date_min"
   ]
  },
  {
   "cell_type": "code",
   "execution_count": null,
   "metadata": {
    "_uuid": "ce2082fc1fb0e3f8f7d27fc166aa7a8351b65504"
   },
   "outputs": [],
   "source": [
    "for df in [df_train,df_test]:\n",
    "    df['first_active_month'] = pd.to_datetime(df['first_active_month'])\n",
    "    df['dayofweek'] = df['first_active_month'].dt.dayofweek\n",
    "    df['weekofyear'] = df['first_active_month'].dt.weekofyear\n",
    "    df['month'] = df['first_active_month'].dt.month\n",
    "    df['elapsed_time'] = (datetime.datetime.today() - df['first_active_month']).dt.days\n",
    "    df['hist_first_buy'] = (df['hist_purchase_date_min'] - df['first_active_month']).dt.days\n",
    "    df['new_hist_first_buy'] = (df['new_hist_purchase_date_min'] - df['first_active_month']).dt.days\n",
    "    for f in ['hist_purchase_date_max','hist_purchase_date_min','new_hist_purchase_date_max',\\\n",
    "                     'new_hist_purchase_date_min']:\n",
    "        df[f] = df[f].astype(np.int64) * 1e-9\n",
    "    df['card_id_total'] = df['new_hist_card_id_size']+df['hist_card_id_size']\n",
    "    df['purchase_amount_total'] = df['new_hist_purchase_amount_sum']+df['hist_purchase_amount_sum']\n",
    "\n",
    "for f in ['feature_1','feature_2','feature_3']:\n",
    "    order_label = df_train.groupby([f])['outliers'].mean()\n",
    "    df_train[f] = df_train[f].map(order_label)\n",
    "    df_test[f] = df_test[f].map(order_label)\n"
   ]
  },
  {
   "cell_type": "code",
   "execution_count": null,
   "metadata": {
    "_uuid": "c4f20f27679889542acfd60d1f1ac381b201ac43"
   },
   "outputs": [],
   "source": [
    "df_train_columns = [c for c in df_train.columns if c not in ['card_id', 'first_active_month','target','outliers']]\n",
    "target = df_train['target']\n",
    "del df_train['target']"
   ]
  },
  {
   "cell_type": "code",
   "execution_count": null,
   "metadata": {
    "_uuid": "c9bbc95244978b519d94131907b547c2b6c94191"
   },
   "outputs": [],
   "source": [
    "param = {'num_leaves': 31,\n",
    "         'min_data_in_leaf': 30, \n",
    "         'objective':'regression',\n",
    "         'max_depth': -1,\n",
    "         'learning_rate': 0.01,\n",
    "         \"min_child_samples\": 20,\n",
    "         \"boosting\": \"gbdt\",\n",
    "         \"feature_fraction\": 0.9,\n",
    "         \"bagging_freq\": 1,\n",
    "         \"bagging_fraction\": 0.9 ,\n",
    "         \"bagging_seed\": 11,\n",
    "         \"metric\": 'rmse',\n",
    "         \"lambda_l1\": 0.1,\n",
    "         \"verbosity\": -1,\n",
    "         \"nthread\": 4,\n",
    "         \"random_state\": 4590}\n",
    "folds = StratifiedKFold(n_splits=5, shuffle=True, random_state=4590)\n",
    "oof = np.zeros(len(df_train))\n",
    "predictions = np.zeros(len(df_test))\n",
    "feature_importance_df = pd.DataFrame()\n",
    "\n",
    "for fold_, (trn_idx, val_idx) in enumerate(folds.split(df_train,df_train['outliers'].values)):\n",
    "    print(\"fold {}\".format(fold_))\n",
    "    trn_data = lgb.Dataset(df_train.iloc[trn_idx][df_train_columns], label=target.iloc[trn_idx])#, categorical_feature=categorical_feats)\n",
    "    val_data = lgb.Dataset(df_train.iloc[val_idx][df_train_columns], label=target.iloc[val_idx])#, categorical_feature=categorical_feats)\n",
    "\n",
    "    num_round = 10000\n",
    "    clf = lgb.train(param, trn_data, num_round, valid_sets = [trn_data, val_data], verbose_eval=100, early_stopping_rounds = 100)\n",
    "    oof[val_idx] = clf.predict(df_train.iloc[val_idx][df_train_columns], num_iteration=clf.best_iteration)\n",
    "    \n",
    "    fold_importance_df = pd.DataFrame()\n",
    "    fold_importance_df[\"Feature\"] = df_train_columns\n",
    "    fold_importance_df[\"importance\"] = clf.feature_importance()\n",
    "    fold_importance_df[\"fold\"] = fold_ + 1\n",
    "    feature_importance_df = pd.concat([feature_importance_df, fold_importance_df], axis=0)\n",
    "    \n",
    "    predictions += clf.predict(df_test[df_train_columns], num_iteration=clf.best_iteration) / folds.n_splits\n",
    "\n",
    "np.sqrt(mean_squared_error(oof, target))"
   ]
  },
  {
   "cell_type": "code",
   "execution_count": null,
   "metadata": {
    "_uuid": "40b64481054fa71e692829c7039eccceb31b77fe"
   },
   "outputs": [],
   "source": [
    "cols = (feature_importance_df[[\"Feature\", \"importance\"]]\n",
    "        .groupby(\"Feature\")\n",
    "        .mean()\n",
    "        .sort_values(by=\"importance\", ascending=False)[:1000].index)\n",
    "\n",
    "best_features = feature_importance_df.loc[feature_importance_df.Feature.isin(cols)]\n",
    "\n",
    "plt.figure(figsize=(14,25))\n",
    "sns.barplot(x=\"importance\",\n",
    "            y=\"Feature\",\n",
    "            data=best_features.sort_values(by=\"importance\",\n",
    "                                           ascending=False))\n",
    "plt.title('LightGBM Features (avg over folds)')\n",
    "plt.tight_layout()\n",
    "plt.savefig('lgbm_importances.png')"
   ]
  },
  {
   "cell_type": "code",
   "execution_count": null,
   "metadata": {
    "_uuid": "355e9c24949b8e5d677fe5a2f117228c3310dab6"
   },
   "outputs": [],
   "source": [
    "sub_df = pd.DataFrame({\"card_id\":df_test[\"card_id\"].values})\n",
    "sub_df[\"target\"] = predictions\n",
    "sub_df.to_csv(\"chau_feature_engineering.csv\", index=False)"
   ]
  },
  {
   "cell_type": "markdown",
   "metadata": {
    "_uuid": "58c9a5445698e42dfbd9548695290487a2ce171a"
   },
   "source": [
    "**To be continued ...**"
   ]
  }
 ],
 "metadata": {
  "kernelspec": {
   "display_name": "Python 3",
   "language": "python",
   "name": "python3"
  },
  "language_info": {
   "codemirror_mode": {
    "name": "ipython",
    "version": 3
   },
   "file_extension": ".py",
   "mimetype": "text/x-python",
   "name": "python",
   "nbconvert_exporter": "python",
   "pygments_lexer": "ipython3",
   "version": "3.6.4"
  }
 },
 "nbformat": 4,
 "nbformat_minor": 1
}
