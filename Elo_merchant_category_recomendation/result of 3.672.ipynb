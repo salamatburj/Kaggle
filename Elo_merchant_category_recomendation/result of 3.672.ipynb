{
 "cells": [
  {
   "cell_type": "markdown",
   "metadata": {
    "_uuid": "6df55b542f152882e00385a0f73198f4e3bc4316"
   },
   "source": [
    "**FEEL FREE TO UPVOTE**  （＾ｖ＾）"
   ]
  },
  {
   "cell_type": "code",
   "execution_count": null,
   "metadata": {
    "_uuid": "b00db406434116eaef1206208331f97fe0542872"
   },
   "outputs": [],
   "source": [
    "\n",
    "#v20提交成绩得到了3.688， cv 成绩3.6519\n",
    "#使用authorized_flag 进行特征分别处理,收到了奇效\n",
    "#使用countVectorizer 对类别变量进行编码，内存存在压力"
   ]
  },
  {
   "cell_type": "code",
   "execution_count": 1,
   "metadata": {
    "_cell_guid": "b1076dfc-b9ad-4769-8c92-a6c4dae69d19",
    "_uuid": "8f2839f25d086af736a60e9eeb907d3b93b6e0e5"
   },
   "outputs": [],
   "source": [
    "import numpy as np\n",
    "import pandas as pd\n",
    "import datetime\n",
    "import gc\n",
    "import matplotlib.pyplot as plt\n",
    "import seaborn as sns\n",
    "import lightgbm as lgb\n",
    "from sklearn.model_selection import StratifiedKFold\n",
    "from sklearn.metrics import mean_squared_error\n",
    "import warnings\n",
    "import time\n",
    "warnings.filterwarnings('ignore')\n",
    "np.random.seed(4950)"
   ]
  },
  {
   "cell_type": "code",
   "execution_count": 2,
   "metadata": {
    "_uuid": "09e0aca6b56b5baa7b76ba12dce4473242d8fc8d"
   },
   "outputs": [
    {
     "data": {
      "text/plain": [
       "[0, 1, 2]"
      ]
     },
     "execution_count": 2,
     "metadata": {},
     "output_type": "execute_result"
    }
   ],
   "source": [
    "a = [i for i in range(10)]\n",
    "a[0:int(10 * 0.2 + 1)]"
   ]
  },
  {
   "cell_type": "code",
   "execution_count": 3,
   "metadata": {
    "_uuid": "337eacd2e6e13207d06cb90f9f8cd352d300b323"
   },
   "outputs": [],
   "source": [
    "def reduce_mem_usage(df, verbose=True):\n",
    "    numerics = ['int16', 'int32', 'int64', 'float16', 'float32', 'float64']\n",
    "    start_mem = df.memory_usage().sum() / 1024**2    \n",
    "    for col in df.columns:\n",
    "        col_type = df[col].dtypes\n",
    "        if col_type in numerics:\n",
    "            c_min = df[col].min()\n",
    "            c_max = df[col].max()\n",
    "            if str(col_type)[:3] == 'int':\n",
    "                if c_min > np.iinfo(np.int8).min and c_max < np.iinfo(np.int8).max:\n",
    "                    df[col] = df[col].astype(np.int8)\n",
    "                elif c_min > np.iinfo(np.int16).min and c_max < np.iinfo(np.int16).max:\n",
    "                    df[col] = df[col].astype(np.int16)\n",
    "                elif c_min > np.iinfo(np.int32).min and c_max < np.iinfo(np.int32).max:\n",
    "                    df[col] = df[col].astype(np.int32)\n",
    "                elif c_min > np.iinfo(np.int64).min and c_max < np.iinfo(np.int64).max:\n",
    "                    df[col] = df[col].astype(np.int64)  \n",
    "            else:\n",
    "                if c_min > np.finfo(np.float16).min and c_max < np.finfo(np.float16).max:\n",
    "                    df[col] = df[col].astype(np.float16)\n",
    "                elif c_min > np.finfo(np.float32).min and c_max < np.finfo(np.float32).max:\n",
    "                    df[col] = df[col].astype(np.float32)\n",
    "                else:\n",
    "                    df[col] = df[col].astype(np.float64)    \n",
    "    end_mem = df.memory_usage().sum() / 1024**2\n",
    "    if verbose: print('Mem. usage decreased to {:5.2f} Mb ({:.1f}% reduction)'.format(end_mem, 100 * (start_mem - end_mem) / start_mem))\n",
    "    return df"
   ]
  },
  {
   "cell_type": "code",
   "execution_count": 4,
   "metadata": {
    "_cell_guid": "79c7e3d0-c299-4dcb-8224-4455121ee9b0",
    "_uuid": "d629ff2d2480ee46fbb7e2d37f6b5fab8052498a"
   },
   "outputs": [],
   "source": [
    "df_train = pd.read_csv('train.csv')\n",
    "df_test = pd.read_csv('test.csv')\n",
    "df_hist_trans = pd.read_csv('../../ELO/historical_transactions.csv')\n",
    "df_new_merchant_trans = pd.read_csv('../../ELO/new_merchant_transactions.csv')"
   ]
  },
  {
   "cell_type": "code",
   "execution_count": 5,
   "metadata": {
    "_uuid": "252db1c4842288dc2c4c5a116daa5674073c6daf",
    "scrolled": true
   },
   "outputs": [
    {
     "name": "stdout",
     "output_type": "stream",
     "text": [
      "Mem. usage decreased to 1749.11 Mb (43.7% reduction)\n",
      "Mem. usage decreased to 114.20 Mb (45.5% reduction)\n"
     ]
    }
   ],
   "source": [
    "df_hist_trans = reduce_mem_usage(df_hist_trans)\n",
    "df_new_merchant_trans = reduce_mem_usage(df_new_merchant_trans)"
   ]
  },
  {
   "cell_type": "code",
   "execution_count": 6,
   "metadata": {
    "_uuid": "795c83a0713bc5d21122d425c298aedb5c39dd15"
   },
   "outputs": [
    {
     "data": {
      "text/plain": [
       "326311"
      ]
     },
     "execution_count": 6,
     "metadata": {},
     "output_type": "execute_result"
    }
   ],
   "source": [
    "df_hist_trans['merchant_id'].nunique() "
   ]
  },
  {
   "cell_type": "code",
   "execution_count": null,
   "metadata": {
    "_uuid": "fb4fe83c7fffe6b7ed4a309ebe4dbd224a10503e"
   },
   "outputs": [],
   "source": [
    "# for df in [df_new_merchant_trans,df_hist_trans]:\n",
    "#     df['purchase_amount'].clip(upper = 1.5, inplace = True)\n",
    "    "
   ]
  },
  {
   "cell_type": "code",
   "execution_count": null,
   "metadata": {
    "_uuid": "ecfe9daddbe8d162846929b0d2f749f5e6a1c524"
   },
   "outputs": [],
   "source": [
    "#使用countVectorizer对category特征进行处理，别人号称可以提升 千分之3\n",
    "# from sklearn.feature_extraction.text import CountVectorizer\n",
    "# cv = CountVectorizer(token_pattern='\\w{1,}') "
   ]
  },
  {
   "cell_type": "markdown",
   "metadata": {
    "_uuid": "9e944bbd9d23a99ea40ceda141d78fb03f6db0f2"
   },
   "source": [
    "**Purchasing Journeys**\n",
    "\n",
    "[An Introduction to Predictive Customer Lifetime Value Modeling](https://www.datascience.com/blog/intro-to-predictive-modeling-for-customer-lifetime-value)\n",
    "\n",
    "![](https://d2mxuefqeaa7sj.cloudfront.net/s_60ECB163AE4078E84C49514ED5D5B38C222B9C0EA718BEA3759DABF297034DEB_1488169955068_file.png)"
   ]
  },
  {
   "cell_type": "code",
   "execution_count": 7,
   "metadata": {
    "_uuid": "86e05f51244a327e8d196d39e2b04a0e94d98279"
   },
   "outputs": [],
   "source": [
    "hist_monthly_perchase_cnts = df_hist_trans.groupby('card_id').month_lag.value_counts().unstack()\n",
    "hist_monthly_perchase_cnts.fillna(0, inplace=True)\n",
    "hist_monthly_perchase_cnts.columns = [f'hist_per_cnts_month_lag{col}' for col in hist_monthly_perchase_cnts.columns]\n",
    "new_merchant_monthly_perchase_cnts = df_new_merchant_trans.groupby('card_id').month_lag.value_counts().unstack()\n",
    "new_merchant_monthly_perchase_cnts.fillna(0, inplace=True)\n",
    "new_merchant_monthly_perchase_cnts.columns = [f'new_merchant_per_cnts_month_lag{col}' for col in new_merchant_monthly_perchase_cnts.columns]\n",
    "df_train = df_train.join(hist_monthly_perchase_cnts, on='card_id')\n",
    "df_train = df_train.join(new_merchant_monthly_perchase_cnts, on='card_id')\n",
    "df_test = df_test.join(hist_monthly_perchase_cnts, on='card_id')\n",
    "df_test = df_test.join(new_merchant_monthly_perchase_cnts, on='card_id')"
   ]
  },
  {
   "cell_type": "code",
   "execution_count": 8,
   "metadata": {
    "_uuid": "c410f537770efe831cb5b0206c3224b41e1f53a2"
   },
   "outputs": [],
   "source": [
    "# 结果会从 3.675 变成 3.679 ，so sad\n",
    "# i = 0\n",
    "# aggs = {}\n",
    "# aggs['purchase_amount'] = ['mean']\n",
    "# for df in [df_hist_trans,df_new_merchant_trans]:\n",
    "#     df['purchase_amount'] = df['purchase_amount'].astype(np.float32)\n",
    "#     df_month_purchase_cnts = df.groupby(['card_id','month_lag']).agg(aggs).unstack()\n",
    "#     df_month_purchase_cnts.fillna(0, inplace = True)\n",
    "#     df_train = df_train.join(df_month_purchase_cnts, on = 'card_id')\n",
    "#     df_test = df_test.join(df_month_purchase_cnts, on = 'card_id')\n",
    "#     if i == 0:\n",
    "#         prefix = 'hist_'\n",
    "#     else:\n",
    "#         prefix = 'new_merchant_'\n",
    "#     i += 1\n",
    "#     df_train.columns = [prefix + c[0] + c[1] + str(c[2]) if type(c) is tuple else c for c in df_train.columns ]\n",
    "#     df_test.columns = [prefix + c[0] + c[1] + str(c[2]) if type(c) is tuple else c for c in df_test.columns ]\n",
    "#     del df_month_purchase_cnts\n",
    "#     gc.collect()\n",
    "#     time.sleep(5)"
   ]
  },
  {
   "cell_type": "code",
   "execution_count": 9,
   "metadata": {
    "_uuid": "4bdcf9c97640b83ed14aca50aa012dd88471d55e"
   },
   "outputs": [],
   "source": [
    "df_hist_trans.purchase_date=pd.to_datetime(df_hist_trans.purchase_date)\n",
    "pur_date=df_hist_trans[df_hist_trans.month_lag==0].groupby('card_id').purchase_date.max()\n",
    "card_id_nan_unique=df_hist_trans[df_hist_trans.card_id.isin(pur_date.index)==False].card_id.unique()\n",
    "df=pd.DataFrame(card_id_nan_unique)\n",
    "df['month_lag_date']=pd.to_datetime('2018-02') # Seetting all nan values to 2018 Feb\n",
    "df.set_index(0,inplace=True)\n",
    "new_map=df.month_lag_date\n",
    "method=pur_date.append(new_map)\n",
    "del df,pur_date\n",
    "gc.collect()\n",
    "time.sleep(5)"
   ]
  },
  {
   "cell_type": "code",
   "execution_count": 10,
   "metadata": {
    "_uuid": "71f89a3b8a93b2f2feb2cd0a45f860cde33687be"
   },
   "outputs": [],
   "source": [
    "for df in [df_hist_trans,df_new_merchant_trans]:\n",
    "#     df['category_2'].fillna(1.0,inplace=True)\n",
    "#     df['category_3'].fillna('A',inplace=True)\n",
    "#     df['merchant_id'].fillna('M_ID_00a6ca8a8a',inplace=True)\n",
    "    #修改特征\n",
    "    df['category_2'].fillna(-1,inplace=True)\n",
    "    df['category_3'].fillna('other',inplace=True)\n",
    "    df['merchant_id'].fillna('other',inplace=True)\n",
    "#     df.loc[df['installments'].isin([999,-1]),'installments'] = 0 "
   ]
  },
  {
   "cell_type": "code",
   "execution_count": 11,
   "metadata": {
    "_uuid": "dda90662d05e22310dd713df106ea07f4b8bccfc"
   },
   "outputs": [],
   "source": [
    "def get_new_columns(name,aggs):\n",
    "    #for for 写法 nice\n",
    "    return [name + '_' + k + '_' + agg for k in aggs.keys() for agg in aggs[k]]"
   ]
  },
  {
   "cell_type": "code",
   "execution_count": 12,
   "metadata": {
    "_uuid": "690ba01a38f524e9345b419200f588f937bc067a"
   },
   "outputs": [],
   "source": [
    "for df in [df_hist_trans,df_new_merchant_trans]:\n",
    "    df['purchase_date'] = pd.to_datetime(df['purchase_date'])\n",
    "    df['year'] = df['purchase_date'].dt.year\n",
    "    df['weekofyear'] = df['purchase_date'].dt.weekofyear\n",
    "    df['month'] = df['purchase_date'].dt.month\n",
    "    df['dayofweek'] = df['purchase_date'].dt.dayofweek\n",
    "    df['weekend'] = (df.purchase_date.dt.weekday >=5).astype(int)\n",
    "    df['hour'] = df['purchase_date'].dt.hour\n",
    "    df['authorized_flag'] = df['authorized_flag'].map({'Y':1, 'N':0})\n",
    "    df['category_1'] = df['category_1'].map({'Y':1, 'N':0}) \n",
    "    #https://www.kaggle.com/c/elo-merchant-category-recommendation/discussion/73244\n",
    "    ##Think about this part!\n",
    "    ## This line of code may be missleading since there is no single ref date. \n",
    "    df['month_diff'] = ((datetime.datetime(2018,6,1) - df['purchase_date']).dt.days)//30 # original code\n",
    "    df['month_diff'] += df['month_lag']\n",
    "    \n",
    "    ## removing 'month_diff' reduces LB score to 3.682\n",
    "    ## This line of code can be also missleading since for new merchant hist it might be negative. But why we care about it.\n",
    "    #df['month_diff'] = ((df['card_id'].map(method) - df['purchase_date']).dt.days)//30 # method that I used in my code\n",
    "    \n",
    "    ##But we already have mongth lag for each purchase! So we don't really need it!\n",
    "    ### month_diff seems to be important feature think more about it\n",
    "    \n",
    "    # This makes it even more irrelevant for my case since it will be equal to zero in most of the cases.So, let's remove it for my case\n",
    "    #df['month_diff'] += df['month_lag']"
   ]
  },
  {
   "cell_type": "code",
   "execution_count": 13,
   "metadata": {
    "_uuid": "52d785dd8bb1eac029fbdeeaae93ffffedc71210"
   },
   "outputs": [
    {
     "data": {
      "text/plain": [
       "-13"
      ]
     },
     "execution_count": 13,
     "metadata": {},
     "output_type": "execute_result"
    }
   ],
   "source": [
    "(pd.to_datetime('2018-12-30')-pd.to_datetime('2019-12-30')).days//30"
   ]
  },
  {
   "cell_type": "code",
   "execution_count": 14,
   "metadata": {
    "_uuid": "80aadb70cf47be8cf45b681d73214ace43fe8d1d"
   },
   "outputs": [
    {
     "data": {
      "text/plain": [
       "49"
      ]
     },
     "execution_count": 14,
     "metadata": {},
     "output_type": "execute_result"
    }
   ],
   "source": [
    "#因为根据auth_flag 将特征分成了两部分，这里聚合一个全局的auth_flag 特征\n",
    "aggs = {}\n",
    "aggs['purchase_amount'] = ['sum']\n",
    "# aggs['installments'] = ['sum','max','min','mean','var','median']\n",
    "aggs['authorized_flag'] = ['sum', 'mean','std']\n",
    "aggs['card_id'] = ['size']\n",
    "auth_flag = df_hist_trans.groupby(['card_id']).agg(aggs)\n",
    "auth_flag.columns = get_new_columns('auth_flag',aggs)\n",
    "auth_flag.reset_index(inplace=True)\n",
    "df_train = df_train.merge(auth_flag,on='card_id',how='left')\n",
    "df_test = df_test.merge(auth_flag,on='card_id',how='left')\n",
    "del auth_flag\n",
    "gc.collect()"
   ]
  },
  {
   "cell_type": "code",
   "execution_count": 15,
   "metadata": {
    "_uuid": "49db45166453de5e0509d5e43d52604344954744"
   },
   "outputs": [
    {
     "data": {
      "text/plain": [
       "35"
      ]
     },
     "execution_count": 15,
     "metadata": {},
     "output_type": "execute_result"
    }
   ],
   "source": [
    "#对 authorized_flag进行结果编码\n",
    "aggs = {}\n",
    "for col in ['category_2','category_3','state_id','subsector_id','merchant_category_id','city_id']:\n",
    "    df_hist_trans[col+'_auth_mean'] = df_hist_trans.groupby([col])['authorized_flag'].transform('mean')\n",
    "    df_hist_trans[col+'_auth_sum'] = df_hist_trans.groupby([col])['authorized_flag'].transform('sum') \n",
    "    aggs[col+'_auth_mean'] = ['mean']\n",
    "    aggs[col+'_auth_sum'] = ['sum'] \n",
    "auth_encoder = df_hist_trans.groupby(['card_id']).agg(aggs)\n",
    "auth_encoder.columns = get_new_columns('auth_encoder',aggs)\n",
    "auth_encoder.reset_index(inplace=True)\n",
    "df_train = df_train.merge(auth_encoder,on='card_id',how='left')\n",
    "df_test = df_test.merge(auth_encoder,on='card_id',how='left')\n",
    "del auth_encoder\n",
    "gc.collect()"
   ]
  },
  {
   "cell_type": "code",
   "execution_count": 16,
   "metadata": {
    "_uuid": "5b08ce613977fc59acfdac57c208ba71db6a5ea3"
   },
   "outputs": [],
   "source": [
    "def aggregate_per_month(prefix,history,agg_func):\n",
    "    grouped = history.groupby(['card_id', 'month_lag'])\n",
    "    intermediate_group = grouped.agg(agg_func)\n",
    "    intermediate_group.columns = [prefix + '_'.join(col).strip() for col in intermediate_group.columns.values]\n",
    "    intermediate_group.reset_index(inplace=True)\n",
    "\n",
    "    final_group = intermediate_group.groupby('card_id').agg(['mean', 'std'])\n",
    "    final_group.columns = [prefix + '_'.join(col).strip() for col in final_group.columns.values]\n",
    "    final_group.reset_index(inplace=True) \n",
    "    return final_group"
   ]
  },
  {
   "cell_type": "code",
   "execution_count": 17,
   "metadata": {
    "_uuid": "508c91c2f30371a3bb5a8e5daac36f43749c55c7"
   },
   "outputs": [],
   "source": [
    "# #对授权码 进行按月聚合\n",
    "# agg_func = {'authorized_flag': [ 'sum', 'mean','median']}\n",
    "# final_group =  aggregate_per_month('agg_per_month_total',df_hist_trans,agg_func) \n",
    "# df_train = df_train.merge(final_group,on='card_id',how='left')\n",
    "# df_test = df_test.merge(final_group,on='card_id',how='left')\n",
    "# del final_group"
   ]
  },
  {
   "cell_type": "code",
   "execution_count": 18,
   "metadata": {
    "_uuid": "6dfd525f8227507cad2d8d3a6144bb1708f7e462"
   },
   "outputs": [],
   "source": [
    "authorized_transactions = df_hist_trans[df_hist_trans['authorized_flag'] == 1]\n",
    "df_hist_trans = df_hist_trans[df_hist_trans['authorized_flag'] == 0]"
   ]
  },
  {
   "cell_type": "code",
   "execution_count": 19,
   "metadata": {
    "_uuid": "22f8b5af830b7591197956f40b8b575d1e75c713"
   },
   "outputs": [
    {
     "data": {
      "text/plain": [
       "(2516909, 33)"
      ]
     },
     "execution_count": 19,
     "metadata": {},
     "output_type": "execute_result"
    }
   ],
   "source": [
    "df_hist_trans.shape"
   ]
  },
  {
   "cell_type": "code",
   "execution_count": 20,
   "metadata": {
    "_uuid": "53204f1e1752f4e51d96e7c05360898ababc655d"
   },
   "outputs": [],
   "source": [
    "# agg_func = {'purchase_amount': [ 'sum', 'mean', 'min', 'max', 'std']}\n",
    "# final_group =  aggregate_per_month('agg_per_month_auth',authorized_transactions,agg_func) \n",
    "# df_train = df_train.merge(final_group,on='card_id',how='left')\n",
    "# df_test = df_test.merge(final_group,on='card_id',how='left')\n",
    "# del final_group\n",
    "# final_group =  aggregate_per_month('agg_per_month_hist',df_hist_trans,agg_func) \n",
    "# df_train = df_train.merge(final_group,on='card_id',how='left')\n",
    "# df_test = df_test.merge(final_group,on='card_id',how='left')\n",
    "# del final_group\n",
    "# final_group =  aggregate_per_month('agg_per_month_hist_new',df_new_merchant_trans,agg_func) \n",
    "# df_train = df_train.merge(final_group,on='card_id',how='left')\n",
    "# df_test = df_test.merge(final_group,on='card_id',how='left')\n",
    "# del final_group\n",
    "# gc.collect()"
   ]
  },
  {
   "cell_type": "code",
   "execution_count": 21,
   "metadata": {
    "_uuid": "6bc6f16f1dbf38bcb45a9345fd1e789b23f0efb2"
   },
   "outputs": [
    {
     "data": {
      "text/plain": [
       "0    199710\n",
       "1      2207\n",
       "Name: outliers, dtype: int64"
      ]
     },
     "execution_count": 21,
     "metadata": {},
     "output_type": "execute_result"
    }
   ],
   "source": [
    "df_train['outliers'] = 0\n",
    "df_train.loc[df_train['target'] < -30, 'outliers'] = 1\n",
    "df_train['outliers'].value_counts()"
   ]
  },
  {
   "cell_type": "code",
   "execution_count": 22,
   "metadata": {
    "_uuid": "ddf1d5bb0ade2b22b0f072c208c1506ea64503ea"
   },
   "outputs": [],
   "source": [
    "i = 0\n",
    "for df in [authorized_transactions,df_hist_trans]:\n",
    "    aggs = {}\n",
    "    for col in ['month','hour','weekofyear','dayofweek','year','subsector_id','merchant_id','merchant_category_id',\n",
    "                'state_id','city_id']:\n",
    "        aggs[col] = ['nunique']\n",
    "\n",
    "    aggs['purchase_amount'] = ['sum','max','min','mean','var','median']\n",
    "    aggs['installments'] = ['sum','max','min','mean','var','median']\n",
    "    aggs['purchase_date'] = ['max','min']\n",
    "    aggs['month_lag'] = ['max','min','mean','var','median']\n",
    "    \n",
    "    ## I also remove this part since it is also irrelevant since it is equivelent to month_lag. But it makes it worser\n",
    "    aggs['month_diff'] = ['mean','median']\n",
    "#     aggs['authorized_flag'] = ['sum', 'mean','median']\n",
    "    aggs['weekend'] = ['sum', 'mean']\n",
    "    aggs['category_1'] = ['sum', 'mean']\n",
    "    aggs['card_id'] = ['size']\n",
    "    #产生交叉特征，内存有问题\n",
    "    features = ['category_2','category_3','state_id','subsector_id','merchant_category_id','city_id'\n",
    "               ,'merchant_id']\n",
    "#     for coli in ['category_2','category_3','state_id','subsector_id','merchant_category_id','city_id']:\n",
    "#         for colj in ['category_2','category_3','state_id','subsector_id','merchant_category_id','city_id']:\n",
    "#             df[coli + colj] = df[coli].astype(str) + df[colj].astype(str)\n",
    "#             features.append(coli + colj)\n",
    "    for col in features:\n",
    "        df[col+'_mean'] = df.groupby([col])['purchase_amount'].transform('mean')\n",
    "        df[col+'_sum'] = df.groupby([col])['purchase_amount'].transform('sum') \n",
    "        aggs[col+'_mean'] = ['mean']\n",
    "        aggs[col+'_sum'] = ['sum'] \n",
    "#         添加特征，使用outlier进行编码\n",
    "#         outliers_mean = df.groupby([col])['outliers'].mean()\n",
    "#         outliers_sum = df.groupby([col])['outliers'].sum()\n",
    "#         df[col+'_outliers_mean'] = df[col].map(outliers_mean)\n",
    "#         df[col+'_outliers_sum'] = df[col].map(outliers_sum)\n",
    "#         aggs[col+'_outliers_mean'] = ['mean']\n",
    "#         aggs[col+'_outliers_sum'] =['sum']   \n",
    "        \n",
    "    if i == 0:\n",
    "        prefix = 'auth_hist'\n",
    "    else:\n",
    "        prefix = 'hist'\n",
    "    new_columns = get_new_columns(prefix,aggs)\n",
    "    i += 1\n",
    "    # df_hist_trans.sort_values(['card_id','purchase_date'],inplace = True)\n",
    "\n",
    "    df_hist_trans_group = df.groupby('card_id').agg(aggs)\n",
    "    df_hist_trans_group.columns = new_columns\n",
    "    df_hist_trans_group.reset_index(drop=False,inplace=True)\n",
    "    df_hist_trans_group[prefix + '_purchase_date_diff'] = (df_hist_trans_group[prefix + '_purchase_date_max'] - df_hist_trans_group[prefix + '_purchase_date_min']).dt.days\n",
    "    df_hist_trans_group[prefix + '_purchase_date_average'] = df_hist_trans_group[prefix + '_purchase_date_diff']/df_hist_trans_group[prefix + '_card_id_size']\n",
    "    ###Think about below line of code  \n",
    "    ###up to now for history means month_lag_0 to purdate_min\n",
    "#     df_hist_trans_group[prefix + '_purchase_date_uptonow'] = (df_hist_trans_group['card_id'].map(method) - df_hist_trans_group[prefix + '_purchase_date_max']).dt.days\n",
    "    ### This is new feature but I change the name to the old name since it makes more sense. Total number of days from first purchase to month lag 0 (until promotion)\n",
    "    df_hist_trans_group[prefix + '_purchase_date_uptonow'] = (df_hist_trans_group['card_id'].map(method) - df_hist_trans_group[prefix + '_purchase_date_min']).dt.days\n",
    "    ### This is old feature but I change the name to [prefix + '_first_purchase'] from [prefix + '_purchase_date_uptonow']\n",
    "    ### since it makes more sense. Number of days for the last purchase from month_lag_0\n",
    "    df_hist_trans_group[prefix + '_first_purchase'] = (df_hist_trans_group['card_id'].map(method) - df_hist_trans_group[prefix + '_purchase_date_max']).dt.days\n",
    "    #下面这个特征考虑了：有的人可能购买频率较低，但是还是忠实粉丝的情况\n",
    "#     df_hist_trans_group[prefix + '_purchase_date_uptonow_ave'] =  df_hist_trans_group[prefix + '_purchase_date_uptonow']/df_hist_trans_group[prefix + '_purchase_date_average']\n",
    "    #每一个card中未授权消费次数\n",
    "#     df_hist_trans_group[prefix + '_unauthorized_number'] = df_hist_trans_group[prefix + '_card_id_size'] - df_hist_trans_group[prefix + '_authorized_flag_sum']\n",
    "    #最近活跃时间，确实是一个强特征，感觉可以再挖出来几个特征，比如最近5次消费时间，最近10次消费时间，如果值比较小，说明最近很活跃\n",
    "    #没有效果\n",
    "    # grouped =  df_hist_trans.groupby('card_id')['purchase_date']\n",
    "    # df_hist_trans_group['hist_purchase_5thdate_uptonow'] =  (datetime.datetime.today() -grouped.shift(5)).dt.days\n",
    "    # df_hist_trans_group['hist_purchase_3thdate_uptonow'] =  (datetime.datetime.today() -grouped.shift(3)).dt.days\n",
    "    # df_hist_trans_group['hist_purchase_10thdate_uptonow'] =  (datetime.datetime.today() -grouped.shift(10)).dt.days\n",
    "    df_train = df_train.merge(df_hist_trans_group,on='card_id',how='left')\n",
    "    df_test = df_test.merge(df_hist_trans_group,on='card_id',how='left')\n",
    "    del df_hist_trans_group\n",
    "    gc.collect()\n",
    "    time.sleep(5)\n",
    "    #内存问题，暂时先放弃\n",
    "#     for col in ['subsector_id','merchant_category_id','state_id','city_id']:\n",
    "#         df[col]=df[col].astype(str)\n",
    "#         grouped = df[['card_id',col]].groupby('card_id')[col].aggregate(lambda x: ' '.join(x))\n",
    "#         cv_fit=cv.fit_transform(grouped)\n",
    "#         cv_df = pd.DataFrame(cv_fit.toarray())\n",
    "#         print(i,col)\n",
    "#         if i == 1:\n",
    "#             cv_df.columns = ['auth' + '_' + col + \"_\" + str(c) for c in cv_df.columns]\n",
    "#         elif i == 2:\n",
    "#              cv_df.columns = ['hist' + '_' + col + \"_\" + str(c) for c in cv_df.columns]\n",
    "#         cv_df['card_id'] = grouped.index\n",
    "#         df_train = df_train.merge(cv_df,on='card_id',how='left')\n",
    "#         df_test = df_test.merge(cv_df,on='card_id',how='left')\n",
    "#         del cv_df,grouped\n",
    "#         gc.collect()\n",
    "    del df\n",
    "    gc.collect()\n",
    "    time.sleep(5)"
   ]
  },
  {
   "cell_type": "code",
   "execution_count": 23,
   "metadata": {
    "_uuid": "71cd4c771352a36807b366ebdf305469ee22a485"
   },
   "outputs": [
    {
     "data": {
      "text/html": [
       "<div>\n",
       "<style scoped>\n",
       "    .dataframe tbody tr th:only-of-type {\n",
       "        vertical-align: middle;\n",
       "    }\n",
       "\n",
       "    .dataframe tbody tr th {\n",
       "        vertical-align: top;\n",
       "    }\n",
       "\n",
       "    .dataframe thead th {\n",
       "        text-align: right;\n",
       "    }\n",
       "</style>\n",
       "<table border=\"1\" class=\"dataframe\">\n",
       "  <thead>\n",
       "    <tr style=\"text-align: right;\">\n",
       "      <th></th>\n",
       "      <th>first_active_month</th>\n",
       "      <th>card_id</th>\n",
       "      <th>feature_1</th>\n",
       "      <th>feature_2</th>\n",
       "      <th>feature_3</th>\n",
       "      <th>target</th>\n",
       "      <th>hist_per_cnts_month_lag-13</th>\n",
       "      <th>hist_per_cnts_month_lag-12</th>\n",
       "      <th>hist_per_cnts_month_lag-11</th>\n",
       "      <th>hist_per_cnts_month_lag-10</th>\n",
       "      <th>...</th>\n",
       "      <th>hist_merchant_category_id_mean_mean</th>\n",
       "      <th>hist_merchant_category_id_sum_sum</th>\n",
       "      <th>hist_city_id_mean_mean</th>\n",
       "      <th>hist_city_id_sum_sum</th>\n",
       "      <th>hist_merchant_id_mean_mean</th>\n",
       "      <th>hist_merchant_id_sum_sum</th>\n",
       "      <th>hist_purchase_date_diff</th>\n",
       "      <th>hist_purchase_date_average</th>\n",
       "      <th>hist_purchase_date_uptonow</th>\n",
       "      <th>hist_first_purchase</th>\n",
       "    </tr>\n",
       "  </thead>\n",
       "  <tbody>\n",
       "    <tr>\n",
       "      <th>0</th>\n",
       "      <td>2017-06</td>\n",
       "      <td>C_ID_92a2005557</td>\n",
       "      <td>5</td>\n",
       "      <td>2</td>\n",
       "      <td>1</td>\n",
       "      <td>-0.820283</td>\n",
       "      <td>0.0</td>\n",
       "      <td>0.0</td>\n",
       "      <td>0.0</td>\n",
       "      <td>0.0</td>\n",
       "      <td>...</td>\n",
       "      <td>13.846728</td>\n",
       "      <td>1.144478e+07</td>\n",
       "      <td>17.928541</td>\n",
       "      <td>7.615314e+07</td>\n",
       "      <td>12.858409</td>\n",
       "      <td>337518.250000</td>\n",
       "      <td>164.0</td>\n",
       "      <td>12.615385</td>\n",
       "      <td>224.0</td>\n",
       "      <td>59.0</td>\n",
       "    </tr>\n",
       "    <tr>\n",
       "      <th>1</th>\n",
       "      <td>2017-01</td>\n",
       "      <td>C_ID_3d0044924f</td>\n",
       "      <td>4</td>\n",
       "      <td>1</td>\n",
       "      <td>0</td>\n",
       "      <td>0.392913</td>\n",
       "      <td>0.0</td>\n",
       "      <td>21.0</td>\n",
       "      <td>22.0</td>\n",
       "      <td>13.0</td>\n",
       "      <td>...</td>\n",
       "      <td>2.988992</td>\n",
       "      <td>2.014900e+06</td>\n",
       "      <td>16.378971</td>\n",
       "      <td>6.238182e+07</td>\n",
       "      <td>1.745633</td>\n",
       "      <td>8938.264648</td>\n",
       "      <td>299.0</td>\n",
       "      <td>27.181818</td>\n",
       "      <td>334.0</td>\n",
       "      <td>34.0</td>\n",
       "    </tr>\n",
       "    <tr>\n",
       "      <th>2</th>\n",
       "      <td>2016-08</td>\n",
       "      <td>C_ID_d639edf6cd</td>\n",
       "      <td>2</td>\n",
       "      <td>2</td>\n",
       "      <td>0</td>\n",
       "      <td>0.688056</td>\n",
       "      <td>6.0</td>\n",
       "      <td>6.0</td>\n",
       "      <td>5.0</td>\n",
       "      <td>7.0</td>\n",
       "      <td>...</td>\n",
       "      <td>1.316483</td>\n",
       "      <td>1.042644e+06</td>\n",
       "      <td>7.287305</td>\n",
       "      <td>5.252981e+05</td>\n",
       "      <td>-0.559304</td>\n",
       "      <td>-1012.340759</td>\n",
       "      <td>56.0</td>\n",
       "      <td>28.000000</td>\n",
       "      <td>368.0</td>\n",
       "      <td>312.0</td>\n",
       "    </tr>\n",
       "    <tr>\n",
       "      <th>3</th>\n",
       "      <td>2017-09</td>\n",
       "      <td>C_ID_186d6a6901</td>\n",
       "      <td>4</td>\n",
       "      <td>3</td>\n",
       "      <td>0</td>\n",
       "      <td>0.142495</td>\n",
       "      <td>0.0</td>\n",
       "      <td>0.0</td>\n",
       "      <td>0.0</td>\n",
       "      <td>0.0</td>\n",
       "      <td>...</td>\n",
       "      <td>NaN</td>\n",
       "      <td>NaN</td>\n",
       "      <td>NaN</td>\n",
       "      <td>NaN</td>\n",
       "      <td>NaN</td>\n",
       "      <td>NaN</td>\n",
       "      <td>NaN</td>\n",
       "      <td>NaN</td>\n",
       "      <td>NaN</td>\n",
       "      <td>NaN</td>\n",
       "    </tr>\n",
       "    <tr>\n",
       "      <th>4</th>\n",
       "      <td>2017-11</td>\n",
       "      <td>C_ID_cdbd2c0db2</td>\n",
       "      <td>1</td>\n",
       "      <td>3</td>\n",
       "      <td>0</td>\n",
       "      <td>-0.159749</td>\n",
       "      <td>0.0</td>\n",
       "      <td>0.0</td>\n",
       "      <td>0.0</td>\n",
       "      <td>0.0</td>\n",
       "      <td>...</td>\n",
       "      <td>3.685194</td>\n",
       "      <td>2.026175e+06</td>\n",
       "      <td>2.260627</td>\n",
       "      <td>8.374476e+05</td>\n",
       "      <td>0.144859</td>\n",
       "      <td>1023.051819</td>\n",
       "      <td>37.0</td>\n",
       "      <td>7.400000</td>\n",
       "      <td>38.0</td>\n",
       "      <td>1.0</td>\n",
       "    </tr>\n",
       "  </tbody>\n",
       "</table>\n",
       "<p>5 rows × 148 columns</p>\n",
       "</div>"
      ],
      "text/plain": [
       "  first_active_month          card_id  feature_1  feature_2  feature_3  \\\n",
       "0            2017-06  C_ID_92a2005557          5          2          1   \n",
       "1            2017-01  C_ID_3d0044924f          4          1          0   \n",
       "2            2016-08  C_ID_d639edf6cd          2          2          0   \n",
       "3            2017-09  C_ID_186d6a6901          4          3          0   \n",
       "4            2017-11  C_ID_cdbd2c0db2          1          3          0   \n",
       "\n",
       "     target  hist_per_cnts_month_lag-13  hist_per_cnts_month_lag-12  \\\n",
       "0 -0.820283                         0.0                         0.0   \n",
       "1  0.392913                         0.0                        21.0   \n",
       "2  0.688056                         6.0                         6.0   \n",
       "3  0.142495                         0.0                         0.0   \n",
       "4 -0.159749                         0.0                         0.0   \n",
       "\n",
       "   hist_per_cnts_month_lag-11  hist_per_cnts_month_lag-10  \\\n",
       "0                         0.0                         0.0   \n",
       "1                        22.0                        13.0   \n",
       "2                         5.0                         7.0   \n",
       "3                         0.0                         0.0   \n",
       "4                         0.0                         0.0   \n",
       "\n",
       "          ...           hist_merchant_category_id_mean_mean  \\\n",
       "0         ...                                     13.846728   \n",
       "1         ...                                      2.988992   \n",
       "2         ...                                      1.316483   \n",
       "3         ...                                           NaN   \n",
       "4         ...                                      3.685194   \n",
       "\n",
       "   hist_merchant_category_id_sum_sum  hist_city_id_mean_mean  \\\n",
       "0                       1.144478e+07               17.928541   \n",
       "1                       2.014900e+06               16.378971   \n",
       "2                       1.042644e+06                7.287305   \n",
       "3                                NaN                     NaN   \n",
       "4                       2.026175e+06                2.260627   \n",
       "\n",
       "   hist_city_id_sum_sum  hist_merchant_id_mean_mean  hist_merchant_id_sum_sum  \\\n",
       "0          7.615314e+07                   12.858409             337518.250000   \n",
       "1          6.238182e+07                    1.745633               8938.264648   \n",
       "2          5.252981e+05                   -0.559304              -1012.340759   \n",
       "3                   NaN                         NaN                       NaN   \n",
       "4          8.374476e+05                    0.144859               1023.051819   \n",
       "\n",
       "   hist_purchase_date_diff  hist_purchase_date_average  \\\n",
       "0                    164.0                   12.615385   \n",
       "1                    299.0                   27.181818   \n",
       "2                     56.0                   28.000000   \n",
       "3                      NaN                         NaN   \n",
       "4                     37.0                    7.400000   \n",
       "\n",
       "   hist_purchase_date_uptonow  hist_first_purchase  \n",
       "0                       224.0                 59.0  \n",
       "1                       334.0                 34.0  \n",
       "2                       368.0                312.0  \n",
       "3                         NaN                  NaN  \n",
       "4                        38.0                  1.0  \n",
       "\n",
       "[5 rows x 148 columns]"
      ]
     },
     "execution_count": 23,
     "metadata": {},
     "output_type": "execute_result"
    }
   ],
   "source": [
    "df_train.head()"
   ]
  },
  {
   "cell_type": "code",
   "execution_count": 24,
   "metadata": {
    "_uuid": "f7f5625db40db4395374991124fb796c9decd60b"
   },
   "outputs": [],
   "source": [
    "aggs = {}\n",
    "#添加特征\n",
    "for col in ['month','hour','weekofyear','dayofweek','year','subsector_id','merchant_id','merchant_category_id',\n",
    "            'state_id','city_id']:\n",
    "    aggs[col] = ['nunique']\n",
    "    \n",
    "aggs['purchase_amount'] = ['sum','max','min','mean','var','median']\n",
    "aggs['installments'] = ['sum','max','min','mean','var','median']\n",
    "aggs['purchase_date'] = ['max','min']\n",
    "aggs['month_lag'] = ['max','min','mean','var','median']\n",
    "\n",
    "### Now we also need to remove from here since we already have month_lag\n",
    "aggs['month_diff'] = ['mean','median']\n",
    "\n",
    "\n",
    "aggs['weekend'] = ['sum', 'mean']\n",
    "aggs['authorized_flag'] = ['sum', 'mean','median']\n",
    "aggs['category_1'] = ['sum', 'mean']\n",
    "aggs['card_id'] = ['size']\n",
    "\n",
    "#添加特征   \n",
    "features = ['category_2','category_3','state_id','subsector_id','merchant_category_id','city_id'\n",
    "               ,'merchant_id']\n",
    "#产生交叉特征，内存有问题\n",
    "# for coli in ['category_2','category_3','state_id','subsector_id','merchant_category_id','city_id']:\n",
    "#     for colj in ['category_2','category_3','state_id','subsector_id','merchant_category_id','city_id']:\n",
    "#         df_new_merchant_trans[coli + colj] = df_new_merchant_trans[coli].astype(str) + df_new_merchant_trans[colj].astype(str)\n",
    "#         features.append(coli + colj)\n",
    "for col in features:\n",
    "    df_new_merchant_trans[col+'_mean'] = df_new_merchant_trans.groupby([col])['purchase_amount'].transform('mean')\n",
    "    df_new_merchant_trans[col+'_sum'] = df_new_merchant_trans.groupby([col])['purchase_amount'].transform('sum')\n",
    "    aggs[col+'_mean'] = ['mean']\n",
    "    aggs[col+'_sum'] = ['sum']\n",
    "    #添加特征，使用outlier进行编码\n",
    "#     outliers_mean = df.groupby([col])['outliers'].mean()\n",
    "#     outliers_sum = df.groupby([col])['outliers'].sum()\n",
    "#     df[col+'_outliers_mean'] = df[col].map(outliers_mean)\n",
    "#     df[col+'_outliers_sum'] = df[col].map(outliers_sum)\n",
    "#     aggs[col+'_outliers_mean'] = ['mean']\n",
    "#     aggs[col+'_outliers_sum'] =['sum']   \n",
    "    \n",
    "new_columns = get_new_columns('new_hist',aggs)\n",
    "# df_new_merchant_trans.sort_values(['card_id','purchase_date'],inplace = True)\n",
    "df_hist_trans_group = df_new_merchant_trans.groupby('card_id').agg(aggs)\n",
    "df_hist_trans_group.columns = new_columns\n",
    "df_hist_trans_group.reset_index(drop=False,inplace=True)\n",
    "df_hist_trans_group['new_hist_purchase_date_diff'] = (df_hist_trans_group['new_hist_purchase_date_max'] - df_hist_trans_group['new_hist_purchase_date_min']).dt.days\n",
    "df_hist_trans_group['new_hist_purchase_date_average'] = df_hist_trans_group['new_hist_purchase_date_diff']/df_hist_trans_group['new_hist_card_id_size']\n",
    "\n",
    "\n",
    "# it is fine for new mech transaction history. This means total number of days from month_lag_0 ti kast purchase\n",
    "df_hist_trans_group['new_hist_purchase_date_uptonow'] = (df_hist_trans_group['card_id'].map(method) - df_hist_trans_group['new_hist_purchase_date_max']).dt.days\n",
    "\n",
    "# new feature for the first purchase.This means total number of days from month_lag_0 to first purchase.\n",
    "df_hist_trans_group['new_hist_first_purchase'] = (df_hist_trans_group['card_id'].map(method) - df_hist_trans_group['new_hist_purchase_date_min']).dt.days\n",
    "\n",
    "#下面这个特征考虑了：有的人可能购买频率较低，但是还是忠实粉丝的情况\n",
    "# df_hist_trans_group['new_hist_purchase_date_uptonow_ave'] =  df_hist_trans_group['new_hist_purchase_date_uptonow']/df_hist_trans_group['new_hist_purchase_date_average']\n",
    "\n",
    "#每一个card中未授权消费次数\n",
    "df_hist_trans_group['new_hist_unauthorized_number'] = df_hist_trans_group['new_hist_card_id_size'] - df_hist_trans_group['new_hist_authorized_flag_sum']\n",
    "# grouped = df_new_merchant_trans.groupby('card_id')['purchase_date']\n",
    "# df_hist_trans_group['new_hist_purchase_5thdate_uptonow'] =  (datetime.datetime.today() - grouped.shift(5)).dt.days\n",
    "# df_hist_trans_group['new_hist_purchase_3thdate_uptonow'] =  (datetime.datetime.today() - grouped.shift(3)).dt.days\n",
    "# df_hist_trans_group['new_hist_purchase_10thdate_uptonow'] =  (datetime.datetime.today() - grouped.shift(10)).dt.days\n",
    "\n",
    "df_train = df_train.merge(df_hist_trans_group,on='card_id',how='left')\n",
    "df_test = df_test.merge(df_hist_trans_group,on='card_id',how='left')\n",
    "del df_hist_trans_group\n",
    "gc.collect()\n",
    "del df_new_merchant_trans\n",
    "gc.collect()\n",
    "time.sleep(5)"
   ]
  },
  {
   "cell_type": "code",
   "execution_count": 25,
   "metadata": {
    "_uuid": "ce2082fc1fb0e3f8f7d27fc166aa7a8351b65504"
   },
   "outputs": [],
   "source": [
    "for df in [df_train,df_test]:\n",
    "    df['first_active_month'] = pd.to_datetime(df['first_active_month'])\n",
    "    df['dayofweek'] = df['first_active_month'].dt.dayofweek\n",
    "    df['weekofyear'] = df['first_active_month'].dt.weekofyear\n",
    "    df['month'] = df['first_active_month'].dt.month\n",
    "    df['elapsed_time'] = (df['card_id'].map(method) - df['first_active_month']).dt.days\n",
    "    # 3.678，so bad\n",
    "#     # add some interaction features\n",
    "#     df['feature_1_hist_month_lag_max'] = df['hist_month_lag_max'] * df['feature_1']\n",
    "#     df['feature_2_hist_month_lag_max'] = df['hist_month_lag_max'] * df['feature_2']\n",
    "#     df['feature_3_hist_month_lag_max'] = df['hist_month_lag_max'] * df['feature_3']\n",
    "#     df['feature_1_auth_hist_month_lag_max'] = df['auth_hist_month_lag_max'] * df['feature_1']\n",
    "#     df['feature_2_auth_hist_month_lag_max'] = df['auth_hist_month_lag_max'] * df['feature_2']\n",
    "#     df['feature_3_auth_hist_month_lag_max'] = df['auth_hist_month_lag_max'] * df['feature_3']\n",
    "    \n",
    "    df['hist_first_buy'] = (df['hist_purchase_date_min'] - df['first_active_month']).dt.days\n",
    "    df['new_hist_first_buy'] = (df['new_hist_purchase_date_min'] - df['first_active_month']).dt.days\n",
    "    #添加特征\n",
    "    df['auth_hist_first_buy'] = (df['auth_hist_purchase_date_min'] - df['first_active_month']).dt.days\n",
    "    #修改特征\n",
    "    for f in ['hist_purchase_date_max','hist_purchase_date_min','new_hist_purchase_date_max',\\\n",
    "                     'new_hist_purchase_date_min','auth_hist_purchase_date_max','auth_hist_purchase_date_min']:\n",
    "        df[f] = df[f].astype(np.int64) * 1e-9\n",
    "    for f in ['auth_encoder_category_2_auth_sum_sum','auth_encoder_category_3_auth_sum_sum',\n",
    "            'auth_encoder_state_id_auth_sum_sum','auth_encoder_subsector_id_auth_sum_sum',\n",
    "            'auth_encoder_merchant_category_id_auth_sum_sum','auth_encoder_city_id_auth_sum_sum']:\n",
    "        df[f] = df[f].astype(np.int64) * 1e-9\n",
    "    #上面auth_flag已经聚合过了card_id_size ,purchase_amount\n",
    "#     df['card_id_total'] = df['new_hist_card_id_size']+df['hist_card_id_size']  + df['auth_hist_card_id_size']\n",
    "#     df['purchase_amount_total'] = df['new_hist_purchase_amount_sum']+df['hist_purchase_amount_sum']+df['auth_hist_purchase_amount_sum']\n",
    "#添加特征\n",
    "\n",
    "for f in ['feature_1','feature_2','feature_3','month','dayofweek']:\n",
    "    order_label1 = df_train.groupby([f])['outliers'].mean()\n",
    "    df_train[f+'_outliers_mean'] = df_train[f].map(order_label1)\n",
    "    df_test[f+'_outliers_mean'] = df_test[f].map(order_label1)\n",
    "    \n",
    "    order_label2 = df_train.groupby([f])['outliers'].sum()\n",
    "    df_train[f+'_outliers_sum'] = df_train[f].map(order_label2)\n",
    "    df_test[f+'_outliers_sum'] = df_test[f].map(order_label2)\n",
    "    \n",
    "#     order_label1 = df_train.groupby([f])['target'].mean()\n",
    "#     df_train[f+'_target_mean'] = df_train[f].map(order_label1) \n",
    "#     df_test[f+'_target_sum'] = df_test[f].map(order_label1)\n",
    "#     order_label2 = df_train.gorupby([f])['target'].sum()\n",
    "#     df_train[f+'_target_sum'] = df_train[f].map(order_label2)\n",
    "#     df_test[f+'_target_sum'] = df_test[f].map(order_label2)\n",
    " \n",
    "# get_dummies 似乎有一点点不良影响\n",
    "df_train = pd.get_dummies(df_train,columns =['feature_1','feature_2'])\n",
    "df_test = pd.get_dummies(df_test,columns =['feature_1','feature_2'])"
   ]
  },
  {
   "cell_type": "code",
   "execution_count": 26,
   "metadata": {
    "_uuid": "3877e4f1418facb4da080ba31ef8ebae1724e7b1"
   },
   "outputs": [
    {
     "data": {
      "text/html": [
       "<div>\n",
       "<style scoped>\n",
       "    .dataframe tbody tr th:only-of-type {\n",
       "        vertical-align: middle;\n",
       "    }\n",
       "\n",
       "    .dataframe tbody tr th {\n",
       "        vertical-align: top;\n",
       "    }\n",
       "\n",
       "    .dataframe thead th {\n",
       "        text-align: right;\n",
       "    }\n",
       "</style>\n",
       "<table border=\"1\" class=\"dataframe\">\n",
       "  <thead>\n",
       "    <tr style=\"text-align: right;\">\n",
       "      <th></th>\n",
       "      <th>first_active_month</th>\n",
       "      <th>card_id</th>\n",
       "      <th>feature_3</th>\n",
       "      <th>target</th>\n",
       "      <th>hist_per_cnts_month_lag-13</th>\n",
       "      <th>hist_per_cnts_month_lag-12</th>\n",
       "      <th>hist_per_cnts_month_lag-11</th>\n",
       "      <th>hist_per_cnts_month_lag-10</th>\n",
       "      <th>hist_per_cnts_month_lag-9</th>\n",
       "      <th>hist_per_cnts_month_lag-8</th>\n",
       "      <th>...</th>\n",
       "      <th>dayofweek_outliers_mean</th>\n",
       "      <th>dayofweek_outliers_sum</th>\n",
       "      <th>feature_1_1</th>\n",
       "      <th>feature_1_2</th>\n",
       "      <th>feature_1_3</th>\n",
       "      <th>feature_1_4</th>\n",
       "      <th>feature_1_5</th>\n",
       "      <th>feature_2_1</th>\n",
       "      <th>feature_2_2</th>\n",
       "      <th>feature_2_3</th>\n",
       "    </tr>\n",
       "  </thead>\n",
       "  <tbody>\n",
       "    <tr>\n",
       "      <th>0</th>\n",
       "      <td>2017-06-01</td>\n",
       "      <td>C_ID_92a2005557</td>\n",
       "      <td>1</td>\n",
       "      <td>-0.820283</td>\n",
       "      <td>0.0</td>\n",
       "      <td>0.0</td>\n",
       "      <td>0.0</td>\n",
       "      <td>0.0</td>\n",
       "      <td>0.0</td>\n",
       "      <td>3.0</td>\n",
       "      <td>...</td>\n",
       "      <td>0.015174</td>\n",
       "      <td>401</td>\n",
       "      <td>0</td>\n",
       "      <td>0</td>\n",
       "      <td>0</td>\n",
       "      <td>0</td>\n",
       "      <td>1</td>\n",
       "      <td>0</td>\n",
       "      <td>1</td>\n",
       "      <td>0</td>\n",
       "    </tr>\n",
       "    <tr>\n",
       "      <th>1</th>\n",
       "      <td>2017-01-01</td>\n",
       "      <td>C_ID_3d0044924f</td>\n",
       "      <td>0</td>\n",
       "      <td>0.392913</td>\n",
       "      <td>0.0</td>\n",
       "      <td>21.0</td>\n",
       "      <td>22.0</td>\n",
       "      <td>13.0</td>\n",
       "      <td>18.0</td>\n",
       "      <td>15.0</td>\n",
       "      <td>...</td>\n",
       "      <td>0.009631</td>\n",
       "      <td>289</td>\n",
       "      <td>0</td>\n",
       "      <td>0</td>\n",
       "      <td>0</td>\n",
       "      <td>1</td>\n",
       "      <td>0</td>\n",
       "      <td>1</td>\n",
       "      <td>0</td>\n",
       "      <td>0</td>\n",
       "    </tr>\n",
       "    <tr>\n",
       "      <th>2</th>\n",
       "      <td>2016-08-01</td>\n",
       "      <td>C_ID_d639edf6cd</td>\n",
       "      <td>0</td>\n",
       "      <td>0.688056</td>\n",
       "      <td>6.0</td>\n",
       "      <td>6.0</td>\n",
       "      <td>5.0</td>\n",
       "      <td>7.0</td>\n",
       "      <td>4.0</td>\n",
       "      <td>0.0</td>\n",
       "      <td>...</td>\n",
       "      <td>0.013597</td>\n",
       "      <td>247</td>\n",
       "      <td>0</td>\n",
       "      <td>1</td>\n",
       "      <td>0</td>\n",
       "      <td>0</td>\n",
       "      <td>0</td>\n",
       "      <td>0</td>\n",
       "      <td>1</td>\n",
       "      <td>0</td>\n",
       "    </tr>\n",
       "    <tr>\n",
       "      <th>3</th>\n",
       "      <td>2017-09-01</td>\n",
       "      <td>C_ID_186d6a6901</td>\n",
       "      <td>0</td>\n",
       "      <td>0.142495</td>\n",
       "      <td>0.0</td>\n",
       "      <td>0.0</td>\n",
       "      <td>0.0</td>\n",
       "      <td>0.0</td>\n",
       "      <td>0.0</td>\n",
       "      <td>0.0</td>\n",
       "      <td>...</td>\n",
       "      <td>0.005835</td>\n",
       "      <td>201</td>\n",
       "      <td>0</td>\n",
       "      <td>0</td>\n",
       "      <td>0</td>\n",
       "      <td>1</td>\n",
       "      <td>0</td>\n",
       "      <td>0</td>\n",
       "      <td>0</td>\n",
       "      <td>1</td>\n",
       "    </tr>\n",
       "    <tr>\n",
       "      <th>4</th>\n",
       "      <td>2017-11-01</td>\n",
       "      <td>C_ID_cdbd2c0db2</td>\n",
       "      <td>0</td>\n",
       "      <td>-0.159749</td>\n",
       "      <td>0.0</td>\n",
       "      <td>0.0</td>\n",
       "      <td>0.0</td>\n",
       "      <td>0.0</td>\n",
       "      <td>0.0</td>\n",
       "      <td>0.0</td>\n",
       "      <td>...</td>\n",
       "      <td>0.011268</td>\n",
       "      <td>409</td>\n",
       "      <td>1</td>\n",
       "      <td>0</td>\n",
       "      <td>0</td>\n",
       "      <td>0</td>\n",
       "      <td>0</td>\n",
       "      <td>0</td>\n",
       "      <td>0</td>\n",
       "      <td>1</td>\n",
       "    </tr>\n",
       "  </tbody>\n",
       "</table>\n",
       "<p>5 rows × 229 columns</p>\n",
       "</div>"
      ],
      "text/plain": [
       "  first_active_month          card_id  feature_3    target  \\\n",
       "0         2017-06-01  C_ID_92a2005557          1 -0.820283   \n",
       "1         2017-01-01  C_ID_3d0044924f          0  0.392913   \n",
       "2         2016-08-01  C_ID_d639edf6cd          0  0.688056   \n",
       "3         2017-09-01  C_ID_186d6a6901          0  0.142495   \n",
       "4         2017-11-01  C_ID_cdbd2c0db2          0 -0.159749   \n",
       "\n",
       "   hist_per_cnts_month_lag-13  hist_per_cnts_month_lag-12  \\\n",
       "0                         0.0                         0.0   \n",
       "1                         0.0                        21.0   \n",
       "2                         6.0                         6.0   \n",
       "3                         0.0                         0.0   \n",
       "4                         0.0                         0.0   \n",
       "\n",
       "   hist_per_cnts_month_lag-11  hist_per_cnts_month_lag-10  \\\n",
       "0                         0.0                         0.0   \n",
       "1                        22.0                        13.0   \n",
       "2                         5.0                         7.0   \n",
       "3                         0.0                         0.0   \n",
       "4                         0.0                         0.0   \n",
       "\n",
       "   hist_per_cnts_month_lag-9  hist_per_cnts_month_lag-8     ...       \\\n",
       "0                        0.0                        3.0     ...        \n",
       "1                       18.0                       15.0     ...        \n",
       "2                        4.0                        0.0     ...        \n",
       "3                        0.0                        0.0     ...        \n",
       "4                        0.0                        0.0     ...        \n",
       "\n",
       "   dayofweek_outliers_mean  dayofweek_outliers_sum  feature_1_1  feature_1_2  \\\n",
       "0                 0.015174                     401            0            0   \n",
       "1                 0.009631                     289            0            0   \n",
       "2                 0.013597                     247            0            1   \n",
       "3                 0.005835                     201            0            0   \n",
       "4                 0.011268                     409            1            0   \n",
       "\n",
       "   feature_1_3  feature_1_4  feature_1_5  feature_2_1  feature_2_2  \\\n",
       "0            0            0            1            0            1   \n",
       "1            0            1            0            1            0   \n",
       "2            0            0            0            0            1   \n",
       "3            0            1            0            0            0   \n",
       "4            0            0            0            0            0   \n",
       "\n",
       "   feature_2_3  \n",
       "0            0  \n",
       "1            0  \n",
       "2            0  \n",
       "3            1  \n",
       "4            1  \n",
       "\n",
       "[5 rows x 229 columns]"
      ]
     },
     "execution_count": 26,
     "metadata": {},
     "output_type": "execute_result"
    }
   ],
   "source": [
    "#首次购买的时间居然早于首次激活的时间，进行调整\n",
    "df_train.loc[df_train['auth_hist_first_buy'] < 0, 'auth_hist_first_buy'] = -1\n",
    "df_train.loc[df_train['hist_first_buy'] < 0, 'hist_first_buy'] = -1\n",
    "df_train.head()"
   ]
  },
  {
   "cell_type": "code",
   "execution_count": 27,
   "metadata": {
    "_uuid": "40a843dac547ebde1208eb14309a0dd012138a8e"
   },
   "outputs": [
    {
     "name": "stdout",
     "output_type": "stream",
     "text": [
      "41\n"
     ]
    },
    {
     "data": {
      "text/html": [
       "<div>\n",
       "<style scoped>\n",
       "    .dataframe tbody tr th:only-of-type {\n",
       "        vertical-align: middle;\n",
       "    }\n",
       "\n",
       "    .dataframe tbody tr th {\n",
       "        vertical-align: top;\n",
       "    }\n",
       "\n",
       "    .dataframe thead th {\n",
       "        text-align: right;\n",
       "    }\n",
       "</style>\n",
       "<table border=\"1\" class=\"dataframe\">\n",
       "  <thead>\n",
       "    <tr style=\"text-align: right;\">\n",
       "      <th></th>\n",
       "      <th>card_id</th>\n",
       "      <th>merchant_merge_hist_most_recent_sales_range_nunique</th>\n",
       "      <th>merchant_merge_hist_most_recent_purchases_range_nunique</th>\n",
       "      <th>merchant_merge_hist_category_1_nunique</th>\n",
       "      <th>merchant_merge_hist_category_2_nunique</th>\n",
       "      <th>merchant_merge_hist_category_4_nunique</th>\n",
       "      <th>merchant_merge_hist_subsector_id_nunique</th>\n",
       "      <th>merchant_merge_hist_merchant_category_id_nunique</th>\n",
       "      <th>merchant_merge_hist_state_id_nunique</th>\n",
       "      <th>merchant_merge_hist_city_id_nunique</th>\n",
       "      <th>...</th>\n",
       "      <th>merchant_merge_hist_avg_purchases_lag6_sum</th>\n",
       "      <th>merchant_merge_hist_avg_purchases_lag6_mean</th>\n",
       "      <th>merchant_merge_hist_active_months_lag6_sum</th>\n",
       "      <th>merchant_merge_hist_active_months_lag6_mean</th>\n",
       "      <th>merchant_merge_hist_avg_sales_lag12_sum</th>\n",
       "      <th>merchant_merge_hist_avg_sales_lag12_mean</th>\n",
       "      <th>merchant_merge_hist_avg_purchases_lag12_sum</th>\n",
       "      <th>merchant_merge_hist_avg_purchases_lag12_mean</th>\n",
       "      <th>merchant_merge_hist_active_months_lag12_sum</th>\n",
       "      <th>merchant_merge_hist_active_months_lag12_mean</th>\n",
       "    </tr>\n",
       "  </thead>\n",
       "  <tbody>\n",
       "    <tr>\n",
       "      <th>0</th>\n",
       "      <td>C_ID_00007093c1</td>\n",
       "      <td>5</td>\n",
       "      <td>5</td>\n",
       "      <td>2</td>\n",
       "      <td>1</td>\n",
       "      <td>2</td>\n",
       "      <td>12</td>\n",
       "      <td>18</td>\n",
       "      <td>2</td>\n",
       "      <td>2</td>\n",
       "      <td>...</td>\n",
       "      <td>156.494324</td>\n",
       "      <td>1.050297</td>\n",
       "      <td>894.0</td>\n",
       "      <td>6.0</td>\n",
       "      <td>159.190002</td>\n",
       "      <td>1.068389</td>\n",
       "      <td>165.997952</td>\n",
       "      <td>1.114080</td>\n",
       "      <td>1776.0</td>\n",
       "      <td>11.919463</td>\n",
       "    </tr>\n",
       "    <tr>\n",
       "      <th>1</th>\n",
       "      <td>C_ID_0001238066</td>\n",
       "      <td>5</td>\n",
       "      <td>5</td>\n",
       "      <td>2</td>\n",
       "      <td>2</td>\n",
       "      <td>2</td>\n",
       "      <td>17</td>\n",
       "      <td>27</td>\n",
       "      <td>5</td>\n",
       "      <td>16</td>\n",
       "      <td>...</td>\n",
       "      <td>655.069438</td>\n",
       "      <td>5.325768</td>\n",
       "      <td>738.0</td>\n",
       "      <td>6.0</td>\n",
       "      <td>334.239990</td>\n",
       "      <td>2.717398</td>\n",
       "      <td>714.115425</td>\n",
       "      <td>5.805816</td>\n",
       "      <td>1476.0</td>\n",
       "      <td>12.000000</td>\n",
       "    </tr>\n",
       "    <tr>\n",
       "      <th>2</th>\n",
       "      <td>C_ID_0001506ef0</td>\n",
       "      <td>5</td>\n",
       "      <td>5</td>\n",
       "      <td>2</td>\n",
       "      <td>1</td>\n",
       "      <td>2</td>\n",
       "      <td>12</td>\n",
       "      <td>17</td>\n",
       "      <td>2</td>\n",
       "      <td>3</td>\n",
       "      <td>...</td>\n",
       "      <td>103.265523</td>\n",
       "      <td>1.518611</td>\n",
       "      <td>408.0</td>\n",
       "      <td>6.0</td>\n",
       "      <td>87.479996</td>\n",
       "      <td>1.286471</td>\n",
       "      <td>105.664009</td>\n",
       "      <td>1.553882</td>\n",
       "      <td>806.0</td>\n",
       "      <td>11.852941</td>\n",
       "    </tr>\n",
       "    <tr>\n",
       "      <th>3</th>\n",
       "      <td>C_ID_0001793786</td>\n",
       "      <td>5</td>\n",
       "      <td>5</td>\n",
       "      <td>2</td>\n",
       "      <td>3</td>\n",
       "      <td>2</td>\n",
       "      <td>23</td>\n",
       "      <td>46</td>\n",
       "      <td>4</td>\n",
       "      <td>7</td>\n",
       "      <td>...</td>\n",
       "      <td>607.345252</td>\n",
       "      <td>2.735789</td>\n",
       "      <td>1332.0</td>\n",
       "      <td>6.0</td>\n",
       "      <td>409.510010</td>\n",
       "      <td>1.844640</td>\n",
       "      <td>603.030942</td>\n",
       "      <td>2.716356</td>\n",
       "      <td>2631.0</td>\n",
       "      <td>11.851351</td>\n",
       "    </tr>\n",
       "    <tr>\n",
       "      <th>4</th>\n",
       "      <td>C_ID_000183fdda</td>\n",
       "      <td>5</td>\n",
       "      <td>5</td>\n",
       "      <td>2</td>\n",
       "      <td>1</td>\n",
       "      <td>2</td>\n",
       "      <td>20</td>\n",
       "      <td>35</td>\n",
       "      <td>4</td>\n",
       "      <td>3</td>\n",
       "      <td>...</td>\n",
       "      <td>1250.224477</td>\n",
       "      <td>8.390768</td>\n",
       "      <td>894.0</td>\n",
       "      <td>6.0</td>\n",
       "      <td>559.219971</td>\n",
       "      <td>3.753154</td>\n",
       "      <td>1347.227115</td>\n",
       "      <td>9.041793</td>\n",
       "      <td>1760.0</td>\n",
       "      <td>11.812081</td>\n",
       "    </tr>\n",
       "  </tbody>\n",
       "</table>\n",
       "<p>5 rows × 41 columns</p>\n",
       "</div>"
      ],
      "text/plain": [
       "           card_id  merchant_merge_hist_most_recent_sales_range_nunique  \\\n",
       "0  C_ID_00007093c1                                                  5     \n",
       "1  C_ID_0001238066                                                  5     \n",
       "2  C_ID_0001506ef0                                                  5     \n",
       "3  C_ID_0001793786                                                  5     \n",
       "4  C_ID_000183fdda                                                  5     \n",
       "\n",
       "   merchant_merge_hist_most_recent_purchases_range_nunique  \\\n",
       "0                                                  5         \n",
       "1                                                  5         \n",
       "2                                                  5         \n",
       "3                                                  5         \n",
       "4                                                  5         \n",
       "\n",
       "   merchant_merge_hist_category_1_nunique  \\\n",
       "0                                       2   \n",
       "1                                       2   \n",
       "2                                       2   \n",
       "3                                       2   \n",
       "4                                       2   \n",
       "\n",
       "   merchant_merge_hist_category_2_nunique  \\\n",
       "0                                       1   \n",
       "1                                       2   \n",
       "2                                       1   \n",
       "3                                       3   \n",
       "4                                       1   \n",
       "\n",
       "   merchant_merge_hist_category_4_nunique  \\\n",
       "0                                       2   \n",
       "1                                       2   \n",
       "2                                       2   \n",
       "3                                       2   \n",
       "4                                       2   \n",
       "\n",
       "   merchant_merge_hist_subsector_id_nunique  \\\n",
       "0                                        12   \n",
       "1                                        17   \n",
       "2                                        12   \n",
       "3                                        23   \n",
       "4                                        20   \n",
       "\n",
       "   merchant_merge_hist_merchant_category_id_nunique  \\\n",
       "0                                                18   \n",
       "1                                                27   \n",
       "2                                                17   \n",
       "3                                                46   \n",
       "4                                                35   \n",
       "\n",
       "   merchant_merge_hist_state_id_nunique  merchant_merge_hist_city_id_nunique  \\\n",
       "0                                     2                                    2   \n",
       "1                                     5                                   16   \n",
       "2                                     2                                    3   \n",
       "3                                     4                                    7   \n",
       "4                                     4                                    3   \n",
       "\n",
       "                       ...                       \\\n",
       "0                      ...                        \n",
       "1                      ...                        \n",
       "2                      ...                        \n",
       "3                      ...                        \n",
       "4                      ...                        \n",
       "\n",
       "   merchant_merge_hist_avg_purchases_lag6_sum  \\\n",
       "0                                  156.494324   \n",
       "1                                  655.069438   \n",
       "2                                  103.265523   \n",
       "3                                  607.345252   \n",
       "4                                 1250.224477   \n",
       "\n",
       "   merchant_merge_hist_avg_purchases_lag6_mean  \\\n",
       "0                                     1.050297   \n",
       "1                                     5.325768   \n",
       "2                                     1.518611   \n",
       "3                                     2.735789   \n",
       "4                                     8.390768   \n",
       "\n",
       "   merchant_merge_hist_active_months_lag6_sum  \\\n",
       "0                                       894.0   \n",
       "1                                       738.0   \n",
       "2                                       408.0   \n",
       "3                                      1332.0   \n",
       "4                                       894.0   \n",
       "\n",
       "   merchant_merge_hist_active_months_lag6_mean  \\\n",
       "0                                          6.0   \n",
       "1                                          6.0   \n",
       "2                                          6.0   \n",
       "3                                          6.0   \n",
       "4                                          6.0   \n",
       "\n",
       "   merchant_merge_hist_avg_sales_lag12_sum  \\\n",
       "0                               159.190002   \n",
       "1                               334.239990   \n",
       "2                                87.479996   \n",
       "3                               409.510010   \n",
       "4                               559.219971   \n",
       "\n",
       "   merchant_merge_hist_avg_sales_lag12_mean  \\\n",
       "0                                  1.068389   \n",
       "1                                  2.717398   \n",
       "2                                  1.286471   \n",
       "3                                  1.844640   \n",
       "4                                  3.753154   \n",
       "\n",
       "   merchant_merge_hist_avg_purchases_lag12_sum  \\\n",
       "0                                   165.997952   \n",
       "1                                   714.115425   \n",
       "2                                   105.664009   \n",
       "3                                   603.030942   \n",
       "4                                  1347.227115   \n",
       "\n",
       "   merchant_merge_hist_avg_purchases_lag12_mean  \\\n",
       "0                                      1.114080   \n",
       "1                                      5.805816   \n",
       "2                                      1.553882   \n",
       "3                                      2.716356   \n",
       "4                                      9.041793   \n",
       "\n",
       "   merchant_merge_hist_active_months_lag12_sum  \\\n",
       "0                                       1776.0   \n",
       "1                                       1476.0   \n",
       "2                                        806.0   \n",
       "3                                       2631.0   \n",
       "4                                       1760.0   \n",
       "\n",
       "   merchant_merge_hist_active_months_lag12_mean  \n",
       "0                                     11.919463  \n",
       "1                                     12.000000  \n",
       "2                                     11.852941  \n",
       "3                                     11.851351  \n",
       "4                                     11.812081  \n",
       "\n",
       "[5 rows x 41 columns]"
      ]
     },
     "execution_count": 27,
     "metadata": {},
     "output_type": "execute_result"
    }
   ],
   "source": [
    "import os\n",
    "import pandas as pd\n",
    "#print(os.listdir('../input/elobestmerchantmergewithhistfeatures'))\n",
    "df_merchants_features = pd.read_pickle('merchant_merge_hist_features.pickle')\n",
    "df_train = df_train.merge(df_merchants_features,on='card_id',how='left')\n",
    "df_test = df_test.merge(df_merchants_features,on='card_id',how='left')\n",
    "print(len(df_merchants_features.columns))\n",
    "df_merchants_features.head()"
   ]
  },
  {
   "cell_type": "code",
   "execution_count": 28,
   "metadata": {
    "_uuid": "c4f20f27679889542acfd60d1f1ac381b201ac43"
   },
   "outputs": [],
   "source": [
    "exclude_features = []\n",
    "exclude_features += ['card_id', 'first_active_month','target','outliers']\n",
    "df_train_columns = [c for c in df_train.columns if c not in exclude_features ]\n",
    "target = df_train['target']\n",
    "# del df_train['target']"
   ]
  },
  {
   "cell_type": "markdown",
   "metadata": {
    "_uuid": "0dd3d768b0cad2f5460669484486a5a5a69e55a3"
   },
   "source": [
    "## Above is the same with wang, I call it wang's features"
   ]
  },
  {
   "cell_type": "markdown",
   "metadata": {
    "_uuid": "8577828c9d259644f1c90e1879de197abed86ca8"
   },
   "source": [
    "### I replace wang's stratified CV with normal lgb.cv"
   ]
  },
  {
   "cell_type": "code",
   "execution_count": 123,
   "metadata": {
    "_uuid": "d666d1510ad92d28727fc4a65112a97cf1f5bc65"
   },
   "outputs": [],
   "source": [
    "param = {'num_leaves': 31,\n",
    "         'min_data_in_leaf': 32, \n",
    "         'objective':'regression',\n",
    "         'max_depth': -1,\n",
    "         'learning_rate': 0.01,\n",
    "         \"min_child_samples\": 20,\n",
    "         \"boosting\": \"gbdt\",\n",
    "         \"feature_fraction\": 0.9,\n",
    "         \"bagging_freq\": 1,\n",
    "         \"bagging_fraction\": 0.9 ,\n",
    "         \"bagging_seed\": 42,\n",
    "         \"metric\": 'rmse',\n",
    "         \"lambda_l1\": 0.1,\n",
    "         \"verbosity\": -1,\n",
    "         \"nthread\": 48,\n",
    "         \"random_state\": 4950}"
   ]
  },
  {
   "cell_type": "code",
   "execution_count": 124,
   "metadata": {},
   "outputs": [],
   "source": [
    "param['nthread']=6"
   ]
  },
  {
   "cell_type": "code",
   "execution_count": 125,
   "metadata": {
    "_uuid": "cb405f1dd7b2fd24ebe5c7330605c9ca84e564ec"
   },
   "outputs": [],
   "source": [
    "trn_data = lgb.Dataset(df_train[df_train_columns], label=target)#, categorical_feature=categorical_feats)"
   ]
  },
  {
   "cell_type": "code",
   "execution_count": 126,
   "metadata": {
    "_uuid": "e748eec34d165e5e62c98931c456cd5845e98b43",
    "scrolled": true
   },
   "outputs": [
    {
     "name": "stdout",
     "output_type": "stream",
     "text": [
      "[200]\tcv_agg's rmse: 3.68059 + 0.0289601\n",
      "[400]\tcv_agg's rmse: 3.66 + 0.0282101\n",
      "[600]\tcv_agg's rmse: 3.65288 + 0.0274486\n",
      "[800]\tcv_agg's rmse: 3.65018 + 0.0272333\n",
      "[1000]\tcv_agg's rmse: 3.64903 + 0.0269347\n",
      "[1200]\tcv_agg's rmse: 3.6486 + 0.0265174\n",
      "[1400]\tcv_agg's rmse: 3.64848 + 0.0261128\n",
      "[1600]\tcv_agg's rmse: 3.64846 + 0.0260117\n",
      "[1800]\tcv_agg's rmse: 3.64871 + 0.0259616\n",
      "[2000]\tcv_agg's rmse: 3.64904 + 0.0257694\n",
      "best cv score: 3.6482815912891255\n",
      "best boost nums: 1516\n"
     ]
    }
   ],
   "source": [
    "lgb_cv = lgb.cv(param, trn_data, 10000, stratified=False, early_stopping_rounds=600, verbose_eval=200)\n",
    "print(f'best cv score: {lgb_cv[\"rmse-mean\"][-1]}\\nbest boost nums: {len(lgb_cv[\"rmse-mean\"])}')"
   ]
  },
  {
   "cell_type": "markdown",
   "metadata": {},
   "source": [
    "when 'nthread'=48\n",
    "\n",
    "[200]\tcv_agg's rmse: 3.68087 + 0.0286224\n",
    "[400]\tcv_agg's rmse: 3.66059 + 0.0277126\n",
    "[600]\tcv_agg's rmse: 3.65342 + 0.0266092\n",
    "[800]\tcv_agg's rmse: 3.65037 + 0.0263869\n",
    "[1000]\tcv_agg's rmse: 3.64947 + 0.0263149\n",
    "[1200]\tcv_agg's rmse: 3.64939 + 0.0260138\n",
    "[1400]\tcv_agg's rmse: 3.64937 + 0.0255588\n",
    "[1600]\tcv_agg's rmse: 3.64944 + 0.0253349\n",
    "[1800]\tcv_agg's rmse: 3.64967 + 0.025173\n",
    "[2000]\tcv_agg's rmse: 3.64994 + 0.0249069\n",
    "best cv score: 3.6492949256159832\n",
    "best boost nums: 1470"
   ]
  },
  {
   "cell_type": "markdown",
   "metadata": {
    "_uuid": "d1a06954b45d854a7ae886880422cc9aa812dddd"
   },
   "source": [
    "lgb.cv show's that num_boost_round is around 2000, so we train a model with num_boost_round=2000"
   ]
  },
  {
   "cell_type": "code",
   "execution_count": 127,
   "metadata": {
    "_uuid": "b9784b6a369ad5a7f9787bcaebc082d5b07f38ed",
    "scrolled": true
   },
   "outputs": [
    {
     "name": "stdout",
     "output_type": "stream",
     "text": [
      "[200]\ttraining's rmse: 3.57336\n",
      "[400]\ttraining's rmse: 3.48614\n",
      "[600]\ttraining's rmse: 3.42916\n",
      "[800]\ttraining's rmse: 3.38619\n",
      "[1000]\ttraining's rmse: 3.34906\n",
      "[1200]\ttraining's rmse: 3.31664\n",
      "[1400]\ttraining's rmse: 3.28542\n",
      "[1600]\ttraining's rmse: 3.25463\n"
     ]
    }
   ],
   "source": [
    "clf = lgb.train(param, trn_data, 1650, valid_sets=(trn_data), verbose_eval=200)"
   ]
  },
  {
   "cell_type": "markdown",
   "metadata": {
    "_uuid": "cb9f94bcef907a07167af876fd584bbc56801163"
   },
   "source": [
    "predict and save"
   ]
  },
  {
   "cell_type": "code",
   "execution_count": 128,
   "metadata": {
    "_uuid": "15612edf08d0fc342930a49c3da8cd76b7c81820"
   },
   "outputs": [],
   "source": [
    "### LB: 3.677\n",
    "y_pred = clf.predict(df_test[df_train_columns], num_iteration=clf.best_iteration)\n",
    "single_pd = pd.DataFrame({\n",
    "        'card_id': df_test.card_id,\n",
    "        'target': y_pred\n",
    "})\n",
    "single_pd.to_csv('wang_newest_with_purchase_journeys.csv', index=False)"
   ]
  },
  {
   "cell_type": "code",
   "execution_count": 137,
   "metadata": {},
   "outputs": [
    {
     "name": "stdout",
     "output_type": "stream",
     "text": [
      "[200]\ttraining's rmse: 3.573\n",
      "[400]\ttraining's rmse: 3.48536\n",
      "[600]\ttraining's rmse: 3.42855\n",
      "[800]\ttraining's rmse: 3.38532\n",
      "[1000]\ttraining's rmse: 3.34845\n",
      "[1200]\ttraining's rmse: 3.31611\n",
      "[1400]\ttraining's rmse: 3.28342\n",
      "[1600]\ttraining's rmse: 3.25385\n"
     ]
    }
   ],
   "source": [
    "param['nthread']=48\n",
    "clf = lgb.train(param, trn_data, 1650, valid_sets=(trn_data), verbose_eval=200)\n",
    "y_pred = clf.predict(df_test[df_train_columns], num_iteration=clf.best_iteration)\n",
    "single_pd = pd.DataFrame({\n",
    "        'card_id': df_test.card_id,\n",
    "        'target': y_pred\n",
    "})\n",
    "single_pd.to_csv('wang_newest_with_purchase_journeys_original.csv', index=False)\n",
    "#LB:3.674"
   ]
  },
  {
   "cell_type": "code",
   "execution_count": null,
   "metadata": {},
   "outputs": [],
   "source": []
  },
  {
   "cell_type": "code",
   "execution_count": null,
   "metadata": {},
   "outputs": [],
   "source": []
  },
  {
   "cell_type": "code",
   "execution_count": null,
   "metadata": {},
   "outputs": [],
   "source": []
  },
  {
   "cell_type": "code",
   "execution_count": 129,
   "metadata": {
    "_uuid": "7553b8e94bbb75bcff3c81a53bead74e4f59bf16"
   },
   "outputs": [],
   "source": [
    "train_pred = clf.predict(df_train[df_train_columns], num_iteration=clf.best_iteration)"
   ]
  },
  {
   "cell_type": "code",
   "execution_count": 130,
   "metadata": {
    "_uuid": "fcfaa9c0e3fd93e532403133e6eceabc4e881a12"
   },
   "outputs": [
    {
     "data": {
      "image/png": "[encoded data removed]",
      "text/plain": [
       "<matplotlib.figure.Figure at 0x1b51ab3ba58>"
      ]
     },
     "metadata": {},
     "output_type": "display_data"
    },
    {
     "data": {
      "image/png": "[encoded data removed]",
      "text/plain": [
       "<matplotlib.figure.Figure at 0x1b54a54c0b8>"
      ]
     },
     "metadata": {},
     "output_type": "display_data"
    },
    {
     "data": {
      "image/png": "[encoded data removed]",
      "text/plain": [
       "<matplotlib.figure.Figure at 0x1b5bbb61128>"
      ]
     },
     "metadata": {},
     "output_type": "display_data"
    }
   ],
   "source": [
    "import seaborn as sns\n",
    "plt.figure(figsize=(20, 5))\n",
    "sns.distplot(df_train['target'],bins = 100)\n",
    "plt.show()\n",
    "plt.figure(figsize=(20, 5))\n",
    "sns.distplot(train_pred,bins = 100)\n",
    "plt.show()\n",
    "plt.figure(figsize=(20, 5))\n",
    "sns.distplot(single_pd['target'],bins = 100)\n",
    "plt.show()"
   ]
  },
  {
   "cell_type": "markdown",
   "metadata": {},
   "source": [
    "## Now, lets replace some nan values with 0\n"
   ]
  },
  {
   "cell_type": "markdown",
   "metadata": {},
   "source": [
    "### Some card_id don't have purchases in historical transactions and some don't have in new transaction. When we call nunique function it gives nan values. Let's change them to 0, since it is more meaningful"
   ]
  },
  {
   "cell_type": "code",
   "execution_count": 131,
   "metadata": {},
   "outputs": [
    {
     "name": "stdout",
     "output_type": "stream",
     "text": [
      "auth_hist_merchant_id_nunique\n",
      "auth_hist_merchant_id_mean_mean\n",
      "auth_hist_merchant_id_sum_sum\n",
      "hist_merchant_id_nunique\n",
      "hist_merchant_id_mean_mean\n",
      "hist_merchant_id_sum_sum\n",
      "new_hist_merchant_id_nunique\n",
      "new_hist_merchant_id_mean_mean\n",
      "new_hist_merchant_id_sum_sum\n"
     ]
    }
   ],
   "source": [
    "# Setting nan values to zero since no purchases were made either in historical or new merchant transactions\n",
    "df_train_new=df_train.copy()\n",
    "df_test_new=df_test.copy()\n",
    "for i in range(len(df_train_columns)):\n",
    "    if 'merchant_id' in df_train_columns[i]:\n",
    "        print(df_train_columns[i])\n",
    "        df_train_new.loc[df_train[df_train_columns[i]].isnull(),df_train_columns[i]]=0\n",
    "        df_test_new.loc[df_test[df_train_columns[i]].isnull(),df_train_columns[i]]=0"
   ]
  },
  {
   "cell_type": "code",
   "execution_count": 132,
   "metadata": {
    "scrolled": false
   },
   "outputs": [
    {
     "name": "stdout",
     "output_type": "stream",
     "text": [
      "[200]\tcv_agg's rmse: 3.68054 + 0.0289917\n",
      "[400]\tcv_agg's rmse: 3.66047 + 0.0282249\n",
      "[600]\tcv_agg's rmse: 3.65371 + 0.0275937\n",
      "[800]\tcv_agg's rmse: 3.6509 + 0.0275938\n",
      "[1000]\tcv_agg's rmse: 3.64947 + 0.0275353\n",
      "[1200]\tcv_agg's rmse: 3.64909 + 0.0271803\n",
      "[1400]\tcv_agg's rmse: 3.64885 + 0.0273266\n",
      "[1600]\tcv_agg's rmse: 3.64886 + 0.0270815\n",
      "[1800]\tcv_agg's rmse: 3.64904 + 0.0270222\n",
      "[2000]\tcv_agg's rmse: 3.64908 + 0.0266618\n",
      "best cv score: 3.6486947841309614\n",
      "best boost nums: 1484\n"
     ]
    }
   ],
   "source": [
    "trn_data = lgb.Dataset(df_train_new[df_train_columns], label=df_train_new.target)#, categorical_feature=categorical_feats)\n",
    "lgb_cv = lgb.cv(param, trn_data, 10000, stratified=False, early_stopping_rounds=600, verbose_eval=200)\n",
    "print(f'best cv score: {lgb_cv[\"rmse-mean\"][-1]}\\nbest boost nums: {len(lgb_cv[\"rmse-mean\"])}')"
   ]
  },
  {
   "cell_type": "markdown",
   "metadata": {},
   "source": [
    "with 'nthread'=48\n",
    "[200]\tcv_agg's rmse: 3.68076 + 0.0290093\n",
    "[400]\tcv_agg's rmse: 3.66073 + 0.0284285\n",
    "[600]\tcv_agg's rmse: 3.65306 + 0.0274417\n",
    "[800]\tcv_agg's rmse: 3.65015 + 0.0268612\n",
    "[1000]\tcv_agg's rmse: 3.64909 + 0.0269212\n",
    "[1200]\tcv_agg's rmse: 3.64854 + 0.0265023\n",
    "[1400]\tcv_agg's rmse: 3.64874 + 0.0260882\n",
    "[1600]\tcv_agg's rmse: 3.64889 + 0.025836\n",
    "best cv score: 3.6485187362185263\n",
    "best boost nums: 1195"
   ]
  },
  {
   "cell_type": "code",
   "execution_count": 133,
   "metadata": {
    "scrolled": false
   },
   "outputs": [
    {
     "name": "stdout",
     "output_type": "stream",
     "text": [
      "[200]\ttraining's rmse: 3.5728\n",
      "[400]\ttraining's rmse: 3.48505\n",
      "[600]\ttraining's rmse: 3.42803\n",
      "[800]\ttraining's rmse: 3.38432\n",
      "[1000]\ttraining's rmse: 3.34631\n",
      "[1200]\ttraining's rmse: 3.31305\n",
      "[1400]\ttraining's rmse: 3.28259\n"
     ]
    }
   ],
   "source": [
    "clf = lgb.train(param, trn_data,len(lgb_cv[\"rmse-mean\"]), valid_sets=(trn_data), verbose_eval=200)"
   ]
  },
  {
   "cell_type": "code",
   "execution_count": 135,
   "metadata": {},
   "outputs": [],
   "source": [
    "y_pred = clf.predict(df_test[df_train_columns], num_iteration=clf.best_iteration)\n",
    "single_pd = pd.DataFrame({\n",
    "        'card_id': df_test.card_id,\n",
    "        'target': y_pred\n",
    "})\n",
    "single_pd.to_csv('wang_newest_with_purchase_journeys_updated.csv', index=False)\n",
    "#LB: 3.676"
   ]
  },
  {
   "cell_type": "code",
   "execution_count": 64,
   "metadata": {},
   "outputs": [],
   "source": [
    "feature_importance_df=pd.DataFrame({'Feature':clf.feature_name(),'importance':clf.feature_importance()})\n",
    "feature_importance_df.sort_values(by=\"importance\",ascending=False,inplace=True)"
   ]
  },
  {
   "cell_type": "code",
   "execution_count": 66,
   "metadata": {},
   "outputs": [
    {
     "data": {
      "image/png": "[encoded data removed]",
      "text/plain": [
       "<matplotlib.figure.Figure at 0x1b5433c1ba8>"
      ]
     },
     "metadata": {},
     "output_type": "display_data"
    }
   ],
   "source": [
    "plt.figure(figsize=(14,25))\n",
    "sns.barplot(x=\"importance\",\n",
    "            y=\"Feature\",\n",
    "            data=feature_importance_df[:50])\n",
    "plt.title('LightGBM Features (avg over folds)')\n",
    "plt.tight_layout()\n",
    "#plt.savefig('lgbm_importances.png')"
   ]
  },
  {
   "cell_type": "code",
   "execution_count": null,
   "metadata": {},
   "outputs": [],
   "source": []
  },
  {
   "cell_type": "markdown",
   "metadata": {},
   "source": [
    "# Let's work with null values"
   ]
  },
  {
   "cell_type": "code",
   "execution_count": 99,
   "metadata": {},
   "outputs": [],
   "source": [
    "list_null=df_train.isnull().any().index.tolist()"
   ]
  },
  {
   "cell_type": "code",
   "execution_count": 100,
   "metadata": {},
   "outputs": [],
   "source": [
    "list_null_all=list_null.copy()"
   ]
  },
  {
   "cell_type": "code",
   "execution_count": 101,
   "metadata": {},
   "outputs": [
    {
     "data": {
      "text/html": [
       "<div>\n",
       "<style scoped>\n",
       "    .dataframe tbody tr th:only-of-type {\n",
       "        vertical-align: middle;\n",
       "    }\n",
       "\n",
       "    .dataframe tbody tr th {\n",
       "        vertical-align: top;\n",
       "    }\n",
       "\n",
       "    .dataframe thead th {\n",
       "        text-align: right;\n",
       "    }\n",
       "</style>\n",
       "<table border=\"1\" class=\"dataframe\">\n",
       "  <thead>\n",
       "    <tr style=\"text-align: right;\">\n",
       "      <th></th>\n",
       "      <th>Feature</th>\n",
       "      <th>importance</th>\n",
       "    </tr>\n",
       "  </thead>\n",
       "  <tbody>\n",
       "    <tr>\n",
       "      <th>63</th>\n",
       "      <td>auth_hist_month_diff_mean</td>\n",
       "      <td>970</td>\n",
       "    </tr>\n",
       "    <tr>\n",
       "      <th>153</th>\n",
       "      <td>new_hist_purchase_amount_max</td>\n",
       "      <td>895</td>\n",
       "    </tr>\n",
       "    <tr>\n",
       "      <th>197</th>\n",
       "      <td>new_hist_purchase_date_uptonow</td>\n",
       "      <td>881</td>\n",
       "    </tr>\n",
       "    <tr>\n",
       "      <th>117</th>\n",
       "      <td>hist_month_diff_mean</td>\n",
       "      <td>736</td>\n",
       "    </tr>\n",
       "    <tr>\n",
       "      <th>56</th>\n",
       "      <td>auth_hist_purchase_date_max</td>\n",
       "      <td>630</td>\n",
       "    </tr>\n",
       "    <tr>\n",
       "      <th>34</th>\n",
       "      <td>auth_hist_month_nunique</td>\n",
       "      <td>611</td>\n",
       "    </tr>\n",
       "    <tr>\n",
       "      <th>164</th>\n",
       "      <td>new_hist_purchase_date_max</td>\n",
       "      <td>514</td>\n",
       "    </tr>\n",
       "    <tr>\n",
       "      <th>155</th>\n",
       "      <td>new_hist_purchase_amount_mean</td>\n",
       "      <td>433</td>\n",
       "    </tr>\n",
       "    <tr>\n",
       "      <th>57</th>\n",
       "      <td>auth_hist_purchase_date_min</td>\n",
       "      <td>405</td>\n",
       "    </tr>\n",
       "    <tr>\n",
       "      <th>67</th>\n",
       "      <td>auth_hist_category_1_sum</td>\n",
       "      <td>389</td>\n",
       "    </tr>\n",
       "    <tr>\n",
       "      <th>179</th>\n",
       "      <td>new_hist_category_1_mean</td>\n",
       "      <td>385</td>\n",
       "    </tr>\n",
       "    <tr>\n",
       "      <th>14</th>\n",
       "      <td>hist_per_cnts_month_lag0</td>\n",
       "      <td>382</td>\n",
       "    </tr>\n",
       "    <tr>\n",
       "      <th>85</th>\n",
       "      <td>auth_hist_purchase_date_average</td>\n",
       "      <td>358</td>\n",
       "    </tr>\n",
       "    <tr>\n",
       "      <th>30</th>\n",
       "      <td>auth_encoder_merchant_category_id_auth_mean_mean</td>\n",
       "      <td>356</td>\n",
       "    </tr>\n",
       "    <tr>\n",
       "      <th>195</th>\n",
       "      <td>new_hist_purchase_date_diff</td>\n",
       "      <td>346</td>\n",
       "    </tr>\n",
       "    <tr>\n",
       "      <th>156</th>\n",
       "      <td>new_hist_purchase_amount_var</td>\n",
       "      <td>341</td>\n",
       "    </tr>\n",
       "    <tr>\n",
       "      <th>49</th>\n",
       "      <td>auth_hist_purchase_amount_median</td>\n",
       "      <td>338</td>\n",
       "    </tr>\n",
       "    <tr>\n",
       "      <th>47</th>\n",
       "      <td>auth_hist_purchase_amount_mean</td>\n",
       "      <td>333</td>\n",
       "    </tr>\n",
       "    <tr>\n",
       "      <th>15</th>\n",
       "      <td>new_merchant_per_cnts_month_lag1</td>\n",
       "      <td>330</td>\n",
       "    </tr>\n",
       "    <tr>\n",
       "      <th>204</th>\n",
       "      <td>hist_first_buy</td>\n",
       "      <td>315</td>\n",
       "    </tr>\n",
       "    <tr>\n",
       "      <th>168</th>\n",
       "      <td>new_hist_month_lag_mean</td>\n",
       "      <td>315</td>\n",
       "    </tr>\n",
       "    <tr>\n",
       "      <th>196</th>\n",
       "      <td>new_hist_purchase_date_average</td>\n",
       "      <td>306</td>\n",
       "    </tr>\n",
       "    <tr>\n",
       "      <th>137</th>\n",
       "      <td>hist_merchant_id_sum_sum</td>\n",
       "      <td>295</td>\n",
       "    </tr>\n",
       "    <tr>\n",
       "      <th>178</th>\n",
       "      <td>new_hist_category_1_sum</td>\n",
       "      <td>294</td>\n",
       "    </tr>\n",
       "    <tr>\n",
       "      <th>198</th>\n",
       "      <td>new_hist_first_purchase</td>\n",
       "      <td>288</td>\n",
       "    </tr>\n",
       "    <tr>\n",
       "      <th>234</th>\n",
       "      <td>merchant_merge_hist_merchant_group_id_nunique</td>\n",
       "      <td>283</td>\n",
       "    </tr>\n",
       "    <tr>\n",
       "      <th>206</th>\n",
       "      <td>auth_hist_first_buy</td>\n",
       "      <td>277</td>\n",
       "    </tr>\n",
       "    <tr>\n",
       "      <th>84</th>\n",
       "      <td>auth_hist_purchase_date_diff</td>\n",
       "      <td>272</td>\n",
       "    </tr>\n",
       "    <tr>\n",
       "      <th>82</th>\n",
       "      <td>auth_hist_merchant_id_mean_mean</td>\n",
       "      <td>272</td>\n",
       "    </tr>\n",
       "    <tr>\n",
       "      <th>103</th>\n",
       "      <td>hist_purchase_amount_median</td>\n",
       "      <td>268</td>\n",
       "    </tr>\n",
       "  </tbody>\n",
       "</table>\n",
       "</div>"
      ],
      "text/plain": [
       "                                              Feature  importance\n",
       "63                          auth_hist_month_diff_mean         970\n",
       "153                      new_hist_purchase_amount_max         895\n",
       "197                    new_hist_purchase_date_uptonow         881\n",
       "117                              hist_month_diff_mean         736\n",
       "56                        auth_hist_purchase_date_max         630\n",
       "34                            auth_hist_month_nunique         611\n",
       "164                        new_hist_purchase_date_max         514\n",
       "155                     new_hist_purchase_amount_mean         433\n",
       "57                        auth_hist_purchase_date_min         405\n",
       "67                           auth_hist_category_1_sum         389\n",
       "179                          new_hist_category_1_mean         385\n",
       "14                           hist_per_cnts_month_lag0         382\n",
       "85                    auth_hist_purchase_date_average         358\n",
       "30   auth_encoder_merchant_category_id_auth_mean_mean         356\n",
       "195                       new_hist_purchase_date_diff         346\n",
       "156                      new_hist_purchase_amount_var         341\n",
       "49                   auth_hist_purchase_amount_median         338\n",
       "47                     auth_hist_purchase_amount_mean         333\n",
       "15                   new_merchant_per_cnts_month_lag1         330\n",
       "204                                    hist_first_buy         315\n",
       "168                           new_hist_month_lag_mean         315\n",
       "196                    new_hist_purchase_date_average         306\n",
       "137                          hist_merchant_id_sum_sum         295\n",
       "178                           new_hist_category_1_sum         294\n",
       "198                           new_hist_first_purchase         288\n",
       "234     merchant_merge_hist_merchant_group_id_nunique         283\n",
       "206                               auth_hist_first_buy         277\n",
       "84                       auth_hist_purchase_date_diff         272\n",
       "82                    auth_hist_merchant_id_mean_mean         272\n",
       "103                       hist_purchase_amount_median         268"
      ]
     },
     "execution_count": 101,
     "metadata": {},
     "output_type": "execute_result"
    }
   ],
   "source": [
    "feature_importance_df[feature_importance_df.Feature.isin(list_null)][:30]\n",
    "# Let's start will dealing with most important features\n",
    "# simplest will be changing nan values of perchase amount to zero since purchase was not made at all"
   ]
  },
  {
   "cell_type": "code",
   "execution_count": 110,
   "metadata": {},
   "outputs": [
    {
     "data": {
      "text/plain": [
       "35850"
      ]
     },
     "execution_count": 110,
     "metadata": {},
     "output_type": "execute_result"
    }
   ],
   "source": [
    "feature_importance_df.importance.sum()"
   ]
  },
  {
   "cell_type": "code",
   "execution_count": 102,
   "metadata": {},
   "outputs": [],
   "source": [
    "df_train2=df_train.copy()\n",
    "df_test2=df_test.copy()"
   ]
  },
  {
   "cell_type": "code",
   "execution_count": 103,
   "metadata": {},
   "outputs": [
    {
     "name": "stdout",
     "output_type": "stream",
     "text": [
      "auth_flag_purchase_amount_sum\n",
      "auth_hist_purchase_amount_sum\n",
      "auth_hist_purchase_amount_max\n",
      "auth_hist_purchase_amount_min\n",
      "auth_hist_purchase_amount_mean\n",
      "auth_hist_purchase_amount_var\n",
      "auth_hist_purchase_amount_median\n",
      "hist_purchase_amount_sum\n",
      "hist_purchase_amount_max\n",
      "hist_purchase_amount_min\n",
      "hist_purchase_amount_mean\n",
      "hist_purchase_amount_var\n",
      "hist_purchase_amount_median\n",
      "new_hist_purchase_amount_sum\n",
      "new_hist_purchase_amount_max\n",
      "new_hist_purchase_amount_min\n",
      "new_hist_purchase_amount_mean\n",
      "new_hist_purchase_amount_var\n",
      "new_hist_purchase_amount_median\n"
     ]
    }
   ],
   "source": [
    "removed=[]\n",
    "for item in list_null:\n",
    "    if 'purchase_amount' in item:\n",
    "#         df_train2.loc[df_train2[item].isnull(),item]=0\n",
    "#         df_test2.loc[df_test2[item].isnull(),item]=0\n",
    "        print(item)\n",
    "#         removed.append(item)"
   ]
  },
  {
   "cell_type": "markdown",
   "metadata": {},
   "source": [
    "### it will be more meaningful to change sum to zero. If we change rest of the values it might affect meaning. Since we might have 0 values for min,max,mean,var, and median for other cases. For ex, assume that max is 0 it doesn't mean that one never did purchases before."
   ]
  },
  {
   "cell_type": "code",
   "execution_count": 108,
   "metadata": {
    "scrolled": true
   },
   "outputs": [
    {
     "name": "stdout",
     "output_type": "stream",
     "text": [
      "auth_flag_purchase_amount_sum\n",
      "auth_hist_purchase_amount_sum\n",
      "hist_purchase_amount_sum\n",
      "new_hist_purchase_amount_sum\n"
     ]
    }
   ],
   "source": [
    "removed=[]\n",
    "for item in list_null:\n",
    "    if 'purchase_amount' in item:\n",
    "        if 'sum' in item:\n",
    "            df_train2.loc[df_train2[item].isnull(),item]=0\n",
    "            df_test2.loc[df_test2[item].isnull(),item]=0\n",
    "            print(item)\n",
    "            removed.append(item)\n",
    "        #list_null.remove(item)"
   ]
  },
  {
   "cell_type": "code",
   "execution_count": 112,
   "metadata": {},
   "outputs": [
    {
     "data": {
      "text/plain": [
       "0.017210599721059972"
      ]
     },
     "execution_count": 112,
     "metadata": {},
     "output_type": "execute_result"
    }
   ],
   "source": [
    "feature_importance_df[feature_importance_df.Feature.isin(removed)].importance.sum()/feature_importance_df.importance.sum()"
   ]
  },
  {
   "cell_type": "code",
   "execution_count": 118,
   "metadata": {},
   "outputs": [],
   "source": [
    "param['nthread']=6"
   ]
  },
  {
   "cell_type": "code",
   "execution_count": 119,
   "metadata": {
    "scrolled": true
   },
   "outputs": [
    {
     "name": "stdout",
     "output_type": "stream",
     "text": [
      "[200]\tcv_agg's rmse: 3.68084 + 0.0293701\n",
      "[400]\tcv_agg's rmse: 3.66053 + 0.0288477\n",
      "[600]\tcv_agg's rmse: 3.65334 + 0.0281447\n",
      "[800]\tcv_agg's rmse: 3.65021 + 0.0277402\n",
      "[1000]\tcv_agg's rmse: 3.6487 + 0.0272501\n",
      "[1200]\tcv_agg's rmse: 3.64846 + 0.0270452\n",
      "[1400]\tcv_agg's rmse: 3.64842 + 0.0269327\n",
      "[1600]\tcv_agg's rmse: 3.64847 + 0.0266739\n",
      "[1800]\tcv_agg's rmse: 3.64845 + 0.026459\n",
      "best cv score: 3.6482914373173303\n",
      "best boost nums: 1343\n"
     ]
    }
   ],
   "source": [
    "trn_data = lgb.Dataset(df_train2[df_train_columns], label=df_train2.target)#, categorical_feature=categorical_feats)\n",
    "lgb_cv = lgb.cv(param, trn_data, 10000, stratified=False, early_stopping_rounds=600, verbose_eval=200)\n",
    "print(f'best cv score: {lgb_cv[\"rmse-mean\"][-1]}\\nbest boost nums: {len(lgb_cv[\"rmse-mean\"])}')"
   ]
  },
  {
   "cell_type": "code",
   "execution_count": 120,
   "metadata": {},
   "outputs": [
    {
     "name": "stdout",
     "output_type": "stream",
     "text": [
      "[200]\ttraining's rmse: 3.57278\n",
      "[400]\ttraining's rmse: 3.4847\n",
      "[600]\ttraining's rmse: 3.42693\n",
      "[800]\ttraining's rmse: 3.38397\n",
      "[1000]\ttraining's rmse: 3.34668\n",
      "[1200]\ttraining's rmse: 3.3137\n"
     ]
    }
   ],
   "source": [
    "clf = lgb.train(param, trn_data,len(lgb_cv[\"rmse-mean\"]), valid_sets=(trn_data), verbose_eval=200)"
   ]
  },
  {
   "cell_type": "code",
   "execution_count": 121,
   "metadata": {},
   "outputs": [],
   "source": [
    "y_pred = clf.predict(df_test2[df_train_columns], num_iteration=clf.best_iteration)\n",
    "single_pd = pd.DataFrame({\n",
    "        'card_id': df_test.card_id,\n",
    "        'target': y_pred\n",
    "})\n",
    "single_pd.to_csv('wang_newest_with_purchase_journeys_updated2.csv', index=False)\n",
    "#LB:3.679\n"
   ]
  },
  {
   "cell_type": "code",
   "execution_count": 143,
   "metadata": {},
   "outputs": [],
   "source": [
    "import xgboost as xgb"
   ]
  },
  {
   "cell_type": "code",
   "execution_count": 147,
   "metadata": {},
   "outputs": [],
   "source": [
    "trn_data = xgb.DMatrix(df_train[df_train_columns], label=df_train2.target)\n"
   ]
  },
  {
   "cell_type": "code",
   "execution_count": 166,
   "metadata": {},
   "outputs": [],
   "source": [
    "xgb_params = {\n",
    "    'booster': 'gbtree',\n",
    "    'objective': 'reg:linear',\n",
    "    'gamma': 0.1,\n",
    "    'max_depth': 6,\n",
    "    'eval_metric':'rmse',\n",
    "    'lambda': 0.1,\n",
    "    'subsample': 0.7,\n",
    "    'colsample_bytree': 0.7,\n",
    "    'min_child_weight': 3,\n",
    "    'silent': 1,\n",
    "    'eta': 0.1,\n",
    "    'seed': 1000,\n",
    "    'nthread': 6 \n",
    "}"
   ]
  },
  {
   "cell_type": "code",
   "execution_count": 171,
   "metadata": {
    "scrolled": true
   },
   "outputs": [
    {
     "ename": "TypeError",
     "evalue": "cv() got an unexpected keyword argument 'nfolds'",
     "output_type": "error",
     "traceback": [
      "\u001b[1;31m---------------------------------------------------------------------------\u001b[0m",
      "\u001b[1;31mTypeError\u001b[0m                                 Traceback (most recent call last)",
      "\u001b[1;32m<ipython-input-171-89037141df4c>\u001b[0m in \u001b[0;36m<module>\u001b[1;34m()\u001b[0m\n\u001b[0;32m      1\u001b[0m \u001b[0mtrn_data\u001b[0m \u001b[1;33m=\u001b[0m \u001b[0mxgb\u001b[0m\u001b[1;33m.\u001b[0m\u001b[0mDMatrix\u001b[0m\u001b[1;33m(\u001b[0m\u001b[0mdf_train\u001b[0m\u001b[1;33m[\u001b[0m\u001b[0mdf_train_columns\u001b[0m\u001b[1;33m]\u001b[0m\u001b[1;33m,\u001b[0m \u001b[0mlabel\u001b[0m\u001b[1;33m=\u001b[0m\u001b[0mdf_train\u001b[0m\u001b[1;33m.\u001b[0m\u001b[0mtarget\u001b[0m\u001b[1;33m)\u001b[0m\u001b[1;33m\u001b[0m\u001b[0m\n\u001b[1;32m----> 2\u001b[1;33m \u001b[0mxgb_cv\u001b[0m\u001b[1;33m=\u001b[0m\u001b[0mxgb\u001b[0m\u001b[1;33m.\u001b[0m\u001b[0mcv\u001b[0m\u001b[1;33m(\u001b[0m\u001b[0mxgb_params\u001b[0m\u001b[1;33m,\u001b[0m\u001b[0mtrn_data\u001b[0m\u001b[1;33m,\u001b[0m\u001b[0mnfolds\u001b[0m\u001b[1;33m=\u001b[0m\u001b[1;36m5\u001b[0m\u001b[1;33m)\u001b[0m\u001b[1;33m\u001b[0m\u001b[0m\n\u001b[0m",
      "\u001b[1;31mTypeError\u001b[0m: cv() got an unexpected keyword argument 'nfolds'"
     ]
    }
   ],
   "source": [
    "trn_data = xgb.DMatrix(df_train[df_train_columns], label=df_train.target)\n",
    "xgb_cv=xgb.cv(xgb_params,trn_data,nfold=5)"
   ]
  },
  {
   "cell_type": "code",
   "execution_count": 170,
   "metadata": {},
   "outputs": [
    {
     "data": {
      "text/html": [
       "<div>\n",
       "<style scoped>\n",
       "    .dataframe tbody tr th:only-of-type {\n",
       "        vertical-align: middle;\n",
       "    }\n",
       "\n",
       "    .dataframe tbody tr th {\n",
       "        vertical-align: top;\n",
       "    }\n",
       "\n",
       "    .dataframe thead th {\n",
       "        text-align: right;\n",
       "    }\n",
       "</style>\n",
       "<table border=\"1\" class=\"dataframe\">\n",
       "  <thead>\n",
       "    <tr style=\"text-align: right;\">\n",
       "      <th></th>\n",
       "      <th>test-rmse-mean</th>\n",
       "      <th>test-rmse-std</th>\n",
       "      <th>train-rmse-mean</th>\n",
       "      <th>train-rmse-std</th>\n",
       "    </tr>\n",
       "  </thead>\n",
       "  <tbody>\n",
       "    <tr>\n",
       "      <th>0</th>\n",
       "      <td>3.908136</td>\n",
       "      <td>0.032525</td>\n",
       "      <td>3.901585</td>\n",
       "      <td>0.008636</td>\n",
       "    </tr>\n",
       "    <tr>\n",
       "      <th>1</th>\n",
       "      <td>3.870298</td>\n",
       "      <td>0.031084</td>\n",
       "      <td>3.856828</td>\n",
       "      <td>0.009342</td>\n",
       "    </tr>\n",
       "    <tr>\n",
       "      <th>2</th>\n",
       "      <td>3.838210</td>\n",
       "      <td>0.031223</td>\n",
       "      <td>3.818633</td>\n",
       "      <td>0.008305</td>\n",
       "    </tr>\n",
       "    <tr>\n",
       "      <th>3</th>\n",
       "      <td>3.811350</td>\n",
       "      <td>0.031407</td>\n",
       "      <td>3.785151</td>\n",
       "      <td>0.008450</td>\n",
       "    </tr>\n",
       "    <tr>\n",
       "      <th>4</th>\n",
       "      <td>3.788889</td>\n",
       "      <td>0.030902</td>\n",
       "      <td>3.757063</td>\n",
       "      <td>0.008893</td>\n",
       "    </tr>\n",
       "    <tr>\n",
       "      <th>5</th>\n",
       "      <td>3.770607</td>\n",
       "      <td>0.030851</td>\n",
       "      <td>3.731742</td>\n",
       "      <td>0.008846</td>\n",
       "    </tr>\n",
       "    <tr>\n",
       "      <th>6</th>\n",
       "      <td>3.755350</td>\n",
       "      <td>0.029834</td>\n",
       "      <td>3.710950</td>\n",
       "      <td>0.008911</td>\n",
       "    </tr>\n",
       "    <tr>\n",
       "      <th>7</th>\n",
       "      <td>3.742444</td>\n",
       "      <td>0.030590</td>\n",
       "      <td>3.691839</td>\n",
       "      <td>0.008407</td>\n",
       "    </tr>\n",
       "    <tr>\n",
       "      <th>8</th>\n",
       "      <td>3.731241</td>\n",
       "      <td>0.030876</td>\n",
       "      <td>3.675805</td>\n",
       "      <td>0.007259</td>\n",
       "    </tr>\n",
       "    <tr>\n",
       "      <th>9</th>\n",
       "      <td>3.722086</td>\n",
       "      <td>0.031283</td>\n",
       "      <td>3.660370</td>\n",
       "      <td>0.007239</td>\n",
       "    </tr>\n",
       "  </tbody>\n",
       "</table>\n",
       "</div>"
      ],
      "text/plain": [
       "   test-rmse-mean  test-rmse-std  train-rmse-mean  train-rmse-std\n",
       "0        3.908136       0.032525         3.901585        0.008636\n",
       "1        3.870298       0.031084         3.856828        0.009342\n",
       "2        3.838210       0.031223         3.818633        0.008305\n",
       "3        3.811350       0.031407         3.785151        0.008450\n",
       "4        3.788889       0.030902         3.757063        0.008893\n",
       "5        3.770607       0.030851         3.731742        0.008846\n",
       "6        3.755350       0.029834         3.710950        0.008911\n",
       "7        3.742444       0.030590         3.691839        0.008407\n",
       "8        3.731241       0.030876         3.675805        0.007259\n",
       "9        3.722086       0.031283         3.660370        0.007239"
      ]
     },
     "execution_count": 170,
     "metadata": {},
     "output_type": "execute_result"
    }
   ],
   "source": [
    "xgb_cv"
   ]
  },
  {
   "cell_type": "code",
   "execution_count": null,
   "metadata": {},
   "outputs": [],
   "source": []
  }
 ],
 "metadata": {
  "kernelspec": {
   "display_name": "Python 3",
   "language": "python",
   "name": "python3"
  },
  "language_info": {
   "codemirror_mode": {
    "name": "ipython",
    "version": 3
   },
   "file_extension": ".py",
   "mimetype": "text/x-python",
   "name": "python",
   "nbconvert_exporter": "python",
   "pygments_lexer": "ipython3",
   "version": "3.6.4"
  }
 },
 "nbformat": 4,
 "nbformat_minor": 1
}
