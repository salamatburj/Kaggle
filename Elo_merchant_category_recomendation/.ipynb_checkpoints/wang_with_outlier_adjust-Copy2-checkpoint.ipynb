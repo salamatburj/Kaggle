{
 "cells": [
  {
   "cell_type": "markdown",
   "metadata": {
    "_uuid": "6df55b542f152882e00385a0f73198f4e3bc4316"
   },
   "source": [
    "**FEEL FREE TO UPVOTE**  （＾ｖ＾）"
   ]
  },
  {
   "cell_type": "code",
   "execution_count": 1,
   "metadata": {
    "_uuid": "b00db406434116eaef1206208331f97fe0542872"
   },
   "outputs": [],
   "source": [
    "#v20提交成绩得到了3.688， cv 成绩3.6519\n",
    "#使用authorized_flag 进行特征分别处理,收到了奇效\n",
    "#使用countVectorizer 对类别变量进行编码，内存存在压力"
   ]
  },
  {
   "cell_type": "code",
   "execution_count": 2,
   "metadata": {
    "_cell_guid": "b1076dfc-b9ad-4769-8c92-a6c4dae69d19",
    "_uuid": "8f2839f25d086af736a60e9eeb907d3b93b6e0e5"
   },
   "outputs": [],
   "source": [
    "import numpy as np\n",
    "import pandas as pd\n",
    "import datetime\n",
    "import gc\n",
    "import matplotlib.pyplot as plt\n",
    "import seaborn as sns\n",
    "import lightgbm as lgb\n",
    "from sklearn.model_selection import StratifiedKFold\n",
    "from sklearn.metrics import mean_squared_error\n",
    "import warnings\n",
    "import time\n",
    "warnings.filterwarnings('ignore')\n",
    "np.random.seed(4950)"
   ]
  },
  {
   "cell_type": "code",
   "execution_count": 3,
   "metadata": {},
   "outputs": [],
   "source": [
    "import pickle"
   ]
  },
  {
   "cell_type": "code",
   "execution_count": 4,
   "metadata": {},
   "outputs": [],
   "source": [
    "# you need to obtain Wang's features from his notebook\n",
    "df_train=pd.read_csv(\"train_wang_pur_date_4.csv\")\n",
    "df_test=pd.read_csv(\"test_wang_pur_date_4.csv\")"
   ]
  },
  {
   "cell_type": "code",
   "execution_count": 5,
   "metadata": {
    "_uuid": "c4f20f27679889542acfd60d1f1ac381b201ac43"
   },
   "outputs": [],
   "source": [
    "exclude_features = []\n",
    "exclude_features += ['card_id', 'first_active_month','target','outliers']\n",
    "df_train_columns = [c for c in df_train.columns if c not in exclude_features ]\n",
    "target = df_train['target']\n",
    "del df_train['target']"
   ]
  },
  {
   "cell_type": "code",
   "execution_count": 6,
   "metadata": {
    "_uuid": "b7ff07b98323cf30f11ec6130f5c64e6c4db0aac",
    "scrolled": false
   },
   "outputs": [
    {
     "data": {
      "text/plain": [
       "4"
      ]
     },
     "execution_count": 6,
     "metadata": {},
     "output_type": "execute_result"
    }
   ],
   "source": [
    "len(df_train_columns)\n",
    "len(exclude_features)"
   ]
  },
  {
   "cell_type": "markdown",
   "metadata": {},
   "source": [
    "## Above is the same with wang, I call it wang's features"
   ]
  },
  {
   "cell_type": "markdown",
   "metadata": {},
   "source": [
    "### I replace wang's stratified CV with normal lgb.cv"
   ]
  },
  {
   "cell_type": "code",
   "execution_count": 7,
   "metadata": {},
   "outputs": [],
   "source": [
    "param = {'num_leaves': 31,\n",
    "         'min_data_in_leaf': 32, \n",
    "         'objective':'regression',\n",
    "         'max_depth': -1,\n",
    "         'learning_rate': 0.01,\n",
    "         \"min_child_samples\": 20,\n",
    "         \"boosting\": \"gbdt\",\n",
    "         \"feature_fraction\": 0.9,\n",
    "         \"bagging_freq\": 1,\n",
    "         \"bagging_fraction\": 0.9 ,\n",
    "         \"bagging_seed\": 42,\n",
    "         \"metric\": 'rmse',\n",
    "         \"lambda_l1\": 0.1,\n",
    "         \"verbosity\": -1,\n",
    "         \"nthread\": 48,\n",
    "         \"random_state\": 4950}"
   ]
  },
  {
   "cell_type": "code",
   "execution_count": 8,
   "metadata": {},
   "outputs": [],
   "source": [
    "trn_data = lgb.Dataset(df_train[df_train_columns], label=target)#, categorical_feature=categorical_feats)"
   ]
  },
  {
   "cell_type": "code",
   "execution_count": 9,
   "metadata": {},
   "outputs": [
    {
     "name": "stdout",
     "output_type": "stream",
     "text": [
      "[200]\tcv_agg's rmse: 3.68975 + 0.0316643\n",
      "[400]\tcv_agg's rmse: 3.66834 + 0.0300999\n",
      "[600]\tcv_agg's rmse: 3.66022 + 0.0295504\n",
      "[800]\tcv_agg's rmse: 3.65706 + 0.0290552\n",
      "[1000]\tcv_agg's rmse: 3.65544 + 0.0285807\n",
      "[1200]\tcv_agg's rmse: 3.65482 + 0.0280378\n",
      "[1400]\tcv_agg's rmse: 3.65445 + 0.0275366\n",
      "[1600]\tcv_agg's rmse: 3.65421 + 0.0271656\n",
      "[1800]\tcv_agg's rmse: 3.65447 + 0.0269105\n",
      "[2000]\tcv_agg's rmse: 3.65441 + 0.0265039\n"
     ]
    }
   ],
   "source": [
    "lgb_cv = lgb.cv(param, trn_data, 10000, early_stopping_rounds=600, verbose_eval=200, stratified=False)"
   ]
  },
  {
   "cell_type": "markdown",
   "metadata": {},
   "source": [
    "lgb.cv show's that num_boost_round is around 2000, so we train a model with num_boost_round=2000"
   ]
  },
  {
   "cell_type": "code",
   "execution_count": 10,
   "metadata": {},
   "outputs": [
    {
     "name": "stdout",
     "output_type": "stream",
     "text": [
      "[200]\ttraining's rmse: 3.58982\n",
      "[400]\ttraining's rmse: 3.49778\n",
      "[600]\ttraining's rmse: 3.43933\n",
      "[800]\ttraining's rmse: 3.396\n",
      "[1000]\ttraining's rmse: 3.3577\n",
      "[1200]\ttraining's rmse: 3.32426\n",
      "[1400]\ttraining's rmse: 3.29293\n",
      "[1600]\ttraining's rmse: 3.26537\n",
      "[1800]\ttraining's rmse: 3.23731\n",
      "[2000]\ttraining's rmse: 3.21086\n"
     ]
    }
   ],
   "source": [
    "clf = lgb.train(param, trn_data, 2000, valid_sets=(trn_data), verbose_eval=200)"
   ]
  },
  {
   "cell_type": "markdown",
   "metadata": {},
   "source": [
    "predict and save"
   ]
  },
  {
   "cell_type": "code",
   "execution_count": 11,
   "metadata": {},
   "outputs": [],
   "source": [
    "y_pred = clf.predict(df_test[df_train_columns], num_iteration=clf.best_iteration)\n",
    "\n",
    "pd.DataFrame({\n",
    "        'card_id': df_test.card_id,\n",
    "        'target': y_pred\n",
    "}).to_csv('wang_lgb_cv.csv', index=False)"
   ]
  },
  {
   "cell_type": "markdown",
   "metadata": {},
   "source": [
    "## Outlier detection using wang's features"
   ]
  },
  {
   "cell_type": "code",
   "execution_count": 12,
   "metadata": {},
   "outputs": [],
   "source": [
    "outlier = np.zeros(len(target), dtype=np.int)"
   ]
  },
  {
   "cell_type": "code",
   "execution_count": 13,
   "metadata": {},
   "outputs": [],
   "source": [
    "outlier[target < -33] = 1"
   ]
  },
  {
   "cell_type": "markdown",
   "metadata": {},
   "source": [
    "the param is same as regression and just adjust to binary classification"
   ]
  },
  {
   "cell_type": "code",
   "execution_count": 18,
   "metadata": {},
   "outputs": [],
   "source": [
    "param = {'num_leaves': 31,\n",
    "         'min_data_in_leaf': 32, \n",
    "         'objective':'binary',\n",
    "         'max_depth': -1,\n",
    "         'learning_rate': 0.01,\n",
    "         \"min_child_samples\": 20,\n",
    "         \"boosting\": \"gbdt\",\n",
    "         \"feature_fraction\": 0.9,\n",
    "         \"bagging_freq\": 1,\n",
    "         \"bagging_fraction\": 0.9 ,\n",
    "         \"bagging_seed\": 42,\n",
    "         \"metric\": 'auc',\n",
    "         \"lambda_l1\": 0.1,\n",
    "         \"verbosity\": -1,\n",
    "         \"nthread\": 48,\n",
    "         \"scale_pos_weight\": 15,\n",
    "         \"random_state\": 4950}"
   ]
  },
  {
   "cell_type": "code",
   "execution_count": 20,
   "metadata": {},
   "outputs": [],
   "source": [
    "trn_data = lgb.Dataset(df_train[df_train_columns], label=outlier)#, categorical_feature=categorical_feats)"
   ]
  },
  {
   "cell_type": "code",
   "execution_count": 21,
   "metadata": {},
   "outputs": [
    {
     "name": "stdout",
     "output_type": "stream",
     "text": [
      "[200]\tcv_agg's auc: 0.903715 + 0.00465143\n",
      "[400]\tcv_agg's auc: 0.90401 + 0.00476009\n",
      "[600]\tcv_agg's auc: 0.903617 + 0.00499599\n",
      "[800]\tcv_agg's auc: 0.902909 + 0.00504669\n"
     ]
    }
   ],
   "source": [
    "lgb_cv = lgb.cv(param, trn_data, 10000, early_stopping_rounds=600, verbose_eval=200, stratified=False)"
   ]
  },
  {
   "cell_type": "code",
   "execution_count": 22,
   "metadata": {},
   "outputs": [
    {
     "data": {
      "text/plain": [
       "0.9041961485047777"
      ]
     },
     "execution_count": 22,
     "metadata": {},
     "output_type": "execute_result"
    }
   ],
   "source": [
    "lgb_cv['auc-mean'][-1]"
   ]
  },
  {
   "cell_type": "markdown",
   "metadata": {},
   "source": [
    "original 0.9050613313442047"
   ]
  },
  {
   "cell_type": "markdown",
   "metadata": {},
   "source": [
    "best num_boost_round is 500, so we use 500 to train a classifer"
   ]
  },
  {
   "cell_type": "code",
   "execution_count": 23,
   "metadata": {},
   "outputs": [
    {
     "name": "stdout",
     "output_type": "stream",
     "text": [
      "[100]\ttraining's auc: 0.953743\n",
      "[200]\ttraining's auc: 0.961755\n",
      "[300]\ttraining's auc: 0.967812\n",
      "[400]\ttraining's auc: 0.972695\n",
      "[500]\ttraining's auc: 0.976854\n"
     ]
    }
   ],
   "source": [
    "clf = lgb.train(param, trn_data, 500, verbose_eval=100, valid_sets=(trn_data))"
   ]
  },
  {
   "cell_type": "code",
   "execution_count": 25,
   "metadata": {},
   "outputs": [],
   "source": [
    "te_prob = clf.predict(df_test[df_train_columns])"
   ]
  },
  {
   "cell_type": "code",
   "execution_count": 26,
   "metadata": {},
   "outputs": [
    {
     "data": {
      "text/plain": [
       "(0.0004582090508286475, 0.8624356832161691)"
      ]
     },
     "execution_count": 26,
     "metadata": {},
     "output_type": "execute_result"
    }
   ],
   "source": [
    "te_prob.min(), te_prob.max()"
   ]
  },
  {
   "cell_type": "markdown",
   "metadata": {},
   "source": [
    "(0.0004428745997142606, 0.8690567940374151)"
   ]
  },
  {
   "cell_type": "code",
   "execution_count": 78,
   "metadata": {},
   "outputs": [],
   "source": [
    "wang_out = pd.read_csv('wang_lgb_cv.csv')"
   ]
  },
  {
   "cell_type": "code",
   "execution_count": 69,
   "metadata": {},
   "outputs": [
    {
     "data": {
      "text/html": [
       "<div>\n",
       "<style scoped>\n",
       "    .dataframe tbody tr th:only-of-type {\n",
       "        vertical-align: middle;\n",
       "    }\n",
       "\n",
       "    .dataframe tbody tr th {\n",
       "        vertical-align: top;\n",
       "    }\n",
       "\n",
       "    .dataframe thead th {\n",
       "        text-align: right;\n",
       "    }\n",
       "</style>\n",
       "<table border=\"1\" class=\"dataframe\">\n",
       "  <thead>\n",
       "    <tr style=\"text-align: right;\">\n",
       "      <th></th>\n",
       "      <th>card_id</th>\n",
       "      <th>target</th>\n",
       "    </tr>\n",
       "  </thead>\n",
       "  <tbody>\n",
       "    <tr>\n",
       "      <th>0</th>\n",
       "      <td>C_ID_0ab67a22ab</td>\n",
       "      <td>-2.243668</td>\n",
       "    </tr>\n",
       "    <tr>\n",
       "      <th>1</th>\n",
       "      <td>C_ID_130fd0cbdd</td>\n",
       "      <td>-0.514302</td>\n",
       "    </tr>\n",
       "    <tr>\n",
       "      <th>2</th>\n",
       "      <td>C_ID_b709037bc5</td>\n",
       "      <td>-1.196668</td>\n",
       "    </tr>\n",
       "    <tr>\n",
       "      <th>3</th>\n",
       "      <td>C_ID_d27d835a9f</td>\n",
       "      <td>-0.112978</td>\n",
       "    </tr>\n",
       "    <tr>\n",
       "      <th>4</th>\n",
       "      <td>C_ID_2b5e3df5c2</td>\n",
       "      <td>-1.340485</td>\n",
       "    </tr>\n",
       "  </tbody>\n",
       "</table>\n",
       "</div>"
      ],
      "text/plain": [
       "           card_id    target\n",
       "0  C_ID_0ab67a22ab -2.243668\n",
       "1  C_ID_130fd0cbdd -0.514302\n",
       "2  C_ID_b709037bc5 -1.196668\n",
       "3  C_ID_d27d835a9f -0.112978\n",
       "4  C_ID_2b5e3df5c2 -1.340485"
      ]
     },
     "execution_count": 69,
     "metadata": {},
     "output_type": "execute_result"
    }
   ],
   "source": [
    "wang_out.head()"
   ]
  },
  {
   "cell_type": "code",
   "execution_count": 79,
   "metadata": {},
   "outputs": [],
   "source": [
    "wang_out['outlier_prob1'] = te_prob"
   ]
  },
  {
   "cell_type": "markdown",
   "metadata": {},
   "source": [
    "**outlier_prob2 is just for compare you can ignore**"
   ]
  },
  {
   "cell_type": "code",
   "execution_count": 35,
   "metadata": {},
   "outputs": [],
   "source": [
    "te_prob_ashish = np.loadtxt('../_ashish3_data/outlier_prob.txt.gz')"
   ]
  },
  {
   "cell_type": "code",
   "execution_count": 37,
   "metadata": {},
   "outputs": [],
   "source": [
    "wang_out['outlier_prob2'] = te_prob_ashish"
   ]
  },
  {
   "cell_type": "code",
   "execution_count": 38,
   "metadata": {},
   "outputs": [
    {
     "data": {
      "text/html": [
       "<div>\n",
       "<style scoped>\n",
       "    .dataframe tbody tr th:only-of-type {\n",
       "        vertical-align: middle;\n",
       "    }\n",
       "\n",
       "    .dataframe tbody tr th {\n",
       "        vertical-align: top;\n",
       "    }\n",
       "\n",
       "    .dataframe thead th {\n",
       "        text-align: right;\n",
       "    }\n",
       "</style>\n",
       "<table border=\"1\" class=\"dataframe\">\n",
       "  <thead>\n",
       "    <tr style=\"text-align: right;\">\n",
       "      <th></th>\n",
       "      <th>card_id</th>\n",
       "      <th>target</th>\n",
       "      <th>outlier_prob1</th>\n",
       "      <th>outlier_prob2</th>\n",
       "    </tr>\n",
       "  </thead>\n",
       "  <tbody>\n",
       "    <tr>\n",
       "      <th>0</th>\n",
       "      <td>C_ID_0ab67a22ab</td>\n",
       "      <td>-2.764160</td>\n",
       "      <td>0.406350</td>\n",
       "      <td>0.574925</td>\n",
       "    </tr>\n",
       "    <tr>\n",
       "      <th>1</th>\n",
       "      <td>C_ID_130fd0cbdd</td>\n",
       "      <td>-0.419947</td>\n",
       "      <td>0.011391</td>\n",
       "      <td>0.014464</td>\n",
       "    </tr>\n",
       "    <tr>\n",
       "      <th>2</th>\n",
       "      <td>C_ID_b709037bc5</td>\n",
       "      <td>-1.318852</td>\n",
       "      <td>0.088588</td>\n",
       "      <td>0.088909</td>\n",
       "    </tr>\n",
       "    <tr>\n",
       "      <th>3</th>\n",
       "      <td>C_ID_d27d835a9f</td>\n",
       "      <td>-0.109764</td>\n",
       "      <td>0.000747</td>\n",
       "      <td>0.001070</td>\n",
       "    </tr>\n",
       "    <tr>\n",
       "      <th>4</th>\n",
       "      <td>C_ID_2b5e3df5c2</td>\n",
       "      <td>-1.263915</td>\n",
       "      <td>0.015534</td>\n",
       "      <td>0.009293</td>\n",
       "    </tr>\n",
       "  </tbody>\n",
       "</table>\n",
       "</div>"
      ],
      "text/plain": [
       "           card_id    target  outlier_prob1  outlier_prob2\n",
       "0  C_ID_0ab67a22ab -2.764160       0.406350       0.574925\n",
       "1  C_ID_130fd0cbdd -0.419947       0.011391       0.014464\n",
       "2  C_ID_b709037bc5 -1.318852       0.088588       0.088909\n",
       "3  C_ID_d27d835a9f -0.109764       0.000747       0.001070\n",
       "4  C_ID_2b5e3df5c2 -1.263915       0.015534       0.009293"
      ]
     },
     "execution_count": 38,
     "metadata": {},
     "output_type": "execute_result"
    }
   ],
   "source": [
    "wang_out.head()"
   ]
  },
  {
   "cell_type": "code",
   "execution_count": 40,
   "metadata": {
    "scrolled": true
   },
   "outputs": [
    {
     "data": {
      "text/html": [
       "<div>\n",
       "<style scoped>\n",
       "    .dataframe tbody tr th:only-of-type {\n",
       "        vertical-align: middle;\n",
       "    }\n",
       "\n",
       "    .dataframe tbody tr th {\n",
       "        vertical-align: top;\n",
       "    }\n",
       "\n",
       "    .dataframe thead th {\n",
       "        text-align: right;\n",
       "    }\n",
       "</style>\n",
       "<table border=\"1\" class=\"dataframe\">\n",
       "  <thead>\n",
       "    <tr style=\"text-align: right;\">\n",
       "      <th></th>\n",
       "      <th>card_id</th>\n",
       "      <th>target</th>\n",
       "      <th>outlier_prob1</th>\n",
       "      <th>outlier_prob2</th>\n",
       "    </tr>\n",
       "  </thead>\n",
       "  <tbody>\n",
       "    <tr>\n",
       "      <th>78078</th>\n",
       "      <td>C_ID_922f9c5ea6</td>\n",
       "      <td>-22.745534</td>\n",
       "      <td>0.869057</td>\n",
       "      <td>0.862953</td>\n",
       "    </tr>\n",
       "    <tr>\n",
       "      <th>88754</th>\n",
       "      <td>C_ID_02871a2207</td>\n",
       "      <td>-15.954320</td>\n",
       "      <td>0.861804</td>\n",
       "      <td>0.854475</td>\n",
       "    </tr>\n",
       "    <tr>\n",
       "      <th>118268</th>\n",
       "      <td>C_ID_3420e285b9</td>\n",
       "      <td>-15.433602</td>\n",
       "      <td>0.861054</td>\n",
       "      <td>0.860737</td>\n",
       "    </tr>\n",
       "    <tr>\n",
       "      <th>115682</th>\n",
       "      <td>C_ID_099d9774e2</td>\n",
       "      <td>-12.377131</td>\n",
       "      <td>0.855161</td>\n",
       "      <td>0.832710</td>\n",
       "    </tr>\n",
       "    <tr>\n",
       "      <th>1772</th>\n",
       "      <td>C_ID_4299911620</td>\n",
       "      <td>-18.860423</td>\n",
       "      <td>0.853740</td>\n",
       "      <td>0.843684</td>\n",
       "    </tr>\n",
       "    <tr>\n",
       "      <th>100556</th>\n",
       "      <td>C_ID_70c457436a</td>\n",
       "      <td>-21.097380</td>\n",
       "      <td>0.852554</td>\n",
       "      <td>0.837081</td>\n",
       "    </tr>\n",
       "    <tr>\n",
       "      <th>20556</th>\n",
       "      <td>C_ID_aae50409e7</td>\n",
       "      <td>-21.037031</td>\n",
       "      <td>0.852145</td>\n",
       "      <td>0.844683</td>\n",
       "    </tr>\n",
       "    <tr>\n",
       "      <th>5008</th>\n",
       "      <td>C_ID_be92f84f5c</td>\n",
       "      <td>-16.025497</td>\n",
       "      <td>0.852141</td>\n",
       "      <td>0.860169</td>\n",
       "    </tr>\n",
       "    <tr>\n",
       "      <th>87789</th>\n",
       "      <td>C_ID_bdfdcbb1a0</td>\n",
       "      <td>-19.461891</td>\n",
       "      <td>0.848176</td>\n",
       "      <td>0.832338</td>\n",
       "    </tr>\n",
       "    <tr>\n",
       "      <th>17778</th>\n",
       "      <td>C_ID_866eae8fb0</td>\n",
       "      <td>-12.374922</td>\n",
       "      <td>0.848054</td>\n",
       "      <td>0.818394</td>\n",
       "    </tr>\n",
       "    <tr>\n",
       "      <th>109705</th>\n",
       "      <td>C_ID_d596794318</td>\n",
       "      <td>-12.803438</td>\n",
       "      <td>0.847943</td>\n",
       "      <td>0.832373</td>\n",
       "    </tr>\n",
       "    <tr>\n",
       "      <th>88371</th>\n",
       "      <td>C_ID_26f775a95b</td>\n",
       "      <td>-11.787471</td>\n",
       "      <td>0.846682</td>\n",
       "      <td>0.840512</td>\n",
       "    </tr>\n",
       "    <tr>\n",
       "      <th>109960</th>\n",
       "      <td>C_ID_ba513d72b8</td>\n",
       "      <td>-11.737588</td>\n",
       "      <td>0.846672</td>\n",
       "      <td>0.835668</td>\n",
       "    </tr>\n",
       "    <tr>\n",
       "      <th>5707</th>\n",
       "      <td>C_ID_a8e502820c</td>\n",
       "      <td>-11.089037</td>\n",
       "      <td>0.846529</td>\n",
       "      <td>0.820786</td>\n",
       "    </tr>\n",
       "    <tr>\n",
       "      <th>104735</th>\n",
       "      <td>C_ID_6e089361a2</td>\n",
       "      <td>-7.900539</td>\n",
       "      <td>0.845620</td>\n",
       "      <td>0.828673</td>\n",
       "    </tr>\n",
       "    <tr>\n",
       "      <th>57626</th>\n",
       "      <td>C_ID_944c62886f</td>\n",
       "      <td>-13.708090</td>\n",
       "      <td>0.844946</td>\n",
       "      <td>0.845235</td>\n",
       "    </tr>\n",
       "    <tr>\n",
       "      <th>94759</th>\n",
       "      <td>C_ID_fc4463e3bd</td>\n",
       "      <td>-14.473601</td>\n",
       "      <td>0.844694</td>\n",
       "      <td>0.821313</td>\n",
       "    </tr>\n",
       "    <tr>\n",
       "      <th>96354</th>\n",
       "      <td>C_ID_b237ce01cb</td>\n",
       "      <td>-23.592609</td>\n",
       "      <td>0.844581</td>\n",
       "      <td>0.858382</td>\n",
       "    </tr>\n",
       "    <tr>\n",
       "      <th>6026</th>\n",
       "      <td>C_ID_91cc0c06ca</td>\n",
       "      <td>-13.075557</td>\n",
       "      <td>0.844265</td>\n",
       "      <td>0.845360</td>\n",
       "    </tr>\n",
       "    <tr>\n",
       "      <th>18363</th>\n",
       "      <td>C_ID_d2871ae781</td>\n",
       "      <td>-14.776148</td>\n",
       "      <td>0.843754</td>\n",
       "      <td>0.818236</td>\n",
       "    </tr>\n",
       "    <tr>\n",
       "      <th>58516</th>\n",
       "      <td>C_ID_e94aaeede0</td>\n",
       "      <td>-13.078331</td>\n",
       "      <td>0.843476</td>\n",
       "      <td>0.837671</td>\n",
       "    </tr>\n",
       "    <tr>\n",
       "      <th>68143</th>\n",
       "      <td>C_ID_3af6df55e2</td>\n",
       "      <td>-12.758308</td>\n",
       "      <td>0.842819</td>\n",
       "      <td>0.824539</td>\n",
       "    </tr>\n",
       "    <tr>\n",
       "      <th>17720</th>\n",
       "      <td>C_ID_938dec7a1a</td>\n",
       "      <td>-18.855122</td>\n",
       "      <td>0.842738</td>\n",
       "      <td>0.832439</td>\n",
       "    </tr>\n",
       "    <tr>\n",
       "      <th>72221</th>\n",
       "      <td>C_ID_464246c0a5</td>\n",
       "      <td>-14.512923</td>\n",
       "      <td>0.842661</td>\n",
       "      <td>0.831291</td>\n",
       "    </tr>\n",
       "    <tr>\n",
       "      <th>120151</th>\n",
       "      <td>C_ID_3e3bb028d1</td>\n",
       "      <td>-10.840605</td>\n",
       "      <td>0.842293</td>\n",
       "      <td>0.823255</td>\n",
       "    </tr>\n",
       "    <tr>\n",
       "      <th>5656</th>\n",
       "      <td>C_ID_126a403be9</td>\n",
       "      <td>-14.726226</td>\n",
       "      <td>0.841536</td>\n",
       "      <td>0.833318</td>\n",
       "    </tr>\n",
       "    <tr>\n",
       "      <th>16074</th>\n",
       "      <td>C_ID_9c760806b5</td>\n",
       "      <td>-15.801676</td>\n",
       "      <td>0.840880</td>\n",
       "      <td>0.841599</td>\n",
       "    </tr>\n",
       "    <tr>\n",
       "      <th>43215</th>\n",
       "      <td>C_ID_dc60219f6c</td>\n",
       "      <td>-17.294313</td>\n",
       "      <td>0.839005</td>\n",
       "      <td>0.834371</td>\n",
       "    </tr>\n",
       "    <tr>\n",
       "      <th>104991</th>\n",
       "      <td>C_ID_86ddafb51c</td>\n",
       "      <td>-19.791141</td>\n",
       "      <td>0.838494</td>\n",
       "      <td>0.857541</td>\n",
       "    </tr>\n",
       "    <tr>\n",
       "      <th>4191</th>\n",
       "      <td>C_ID_87b47c2ac5</td>\n",
       "      <td>-11.298274</td>\n",
       "      <td>0.838183</td>\n",
       "      <td>0.817676</td>\n",
       "    </tr>\n",
       "    <tr>\n",
       "      <th>...</th>\n",
       "      <td>...</td>\n",
       "      <td>...</td>\n",
       "      <td>...</td>\n",
       "      <td>...</td>\n",
       "    </tr>\n",
       "    <tr>\n",
       "      <th>27976</th>\n",
       "      <td>C_ID_1c09ca6cf0</td>\n",
       "      <td>-0.492621</td>\n",
       "      <td>0.000508</td>\n",
       "      <td>0.000622</td>\n",
       "    </tr>\n",
       "    <tr>\n",
       "      <th>59126</th>\n",
       "      <td>C_ID_e893d16803</td>\n",
       "      <td>0.213365</td>\n",
       "      <td>0.000508</td>\n",
       "      <td>0.000682</td>\n",
       "    </tr>\n",
       "    <tr>\n",
       "      <th>5376</th>\n",
       "      <td>C_ID_1d38bf0c9d</td>\n",
       "      <td>0.269419</td>\n",
       "      <td>0.000508</td>\n",
       "      <td>0.000826</td>\n",
       "    </tr>\n",
       "    <tr>\n",
       "      <th>73513</th>\n",
       "      <td>C_ID_f8e4f9c2ae</td>\n",
       "      <td>-0.364491</td>\n",
       "      <td>0.000507</td>\n",
       "      <td>0.000721</td>\n",
       "    </tr>\n",
       "    <tr>\n",
       "      <th>84629</th>\n",
       "      <td>C_ID_3e4595b0aa</td>\n",
       "      <td>-0.127500</td>\n",
       "      <td>0.000507</td>\n",
       "      <td>0.000759</td>\n",
       "    </tr>\n",
       "    <tr>\n",
       "      <th>12812</th>\n",
       "      <td>C_ID_64948b72c0</td>\n",
       "      <td>-0.661055</td>\n",
       "      <td>0.000506</td>\n",
       "      <td>0.000717</td>\n",
       "    </tr>\n",
       "    <tr>\n",
       "      <th>30514</th>\n",
       "      <td>C_ID_b47696477d</td>\n",
       "      <td>0.095425</td>\n",
       "      <td>0.000506</td>\n",
       "      <td>0.000747</td>\n",
       "    </tr>\n",
       "    <tr>\n",
       "      <th>34289</th>\n",
       "      <td>C_ID_7e813d8200</td>\n",
       "      <td>-0.121124</td>\n",
       "      <td>0.000504</td>\n",
       "      <td>0.000804</td>\n",
       "    </tr>\n",
       "    <tr>\n",
       "      <th>42610</th>\n",
       "      <td>C_ID_a98acf0d29</td>\n",
       "      <td>-0.053163</td>\n",
       "      <td>0.000503</td>\n",
       "      <td>0.000878</td>\n",
       "    </tr>\n",
       "    <tr>\n",
       "      <th>8242</th>\n",
       "      <td>C_ID_369c4ce047</td>\n",
       "      <td>0.077645</td>\n",
       "      <td>0.000502</td>\n",
       "      <td>0.000598</td>\n",
       "    </tr>\n",
       "    <tr>\n",
       "      <th>73640</th>\n",
       "      <td>C_ID_e57de9936f</td>\n",
       "      <td>-0.044130</td>\n",
       "      <td>0.000500</td>\n",
       "      <td>0.000683</td>\n",
       "    </tr>\n",
       "    <tr>\n",
       "      <th>3591</th>\n",
       "      <td>C_ID_86fcda1933</td>\n",
       "      <td>-0.451789</td>\n",
       "      <td>0.000500</td>\n",
       "      <td>0.000781</td>\n",
       "    </tr>\n",
       "    <tr>\n",
       "      <th>84218</th>\n",
       "      <td>C_ID_8049d4d005</td>\n",
       "      <td>-0.119574</td>\n",
       "      <td>0.000500</td>\n",
       "      <td>0.000896</td>\n",
       "    </tr>\n",
       "    <tr>\n",
       "      <th>119153</th>\n",
       "      <td>C_ID_f6dccb2986</td>\n",
       "      <td>-0.296984</td>\n",
       "      <td>0.000499</td>\n",
       "      <td>0.000687</td>\n",
       "    </tr>\n",
       "    <tr>\n",
       "      <th>96414</th>\n",
       "      <td>C_ID_4c046ccd1c</td>\n",
       "      <td>-0.224856</td>\n",
       "      <td>0.000498</td>\n",
       "      <td>0.000801</td>\n",
       "    </tr>\n",
       "    <tr>\n",
       "      <th>36418</th>\n",
       "      <td>C_ID_aae3296122</td>\n",
       "      <td>-0.065526</td>\n",
       "      <td>0.000498</td>\n",
       "      <td>0.000656</td>\n",
       "    </tr>\n",
       "    <tr>\n",
       "      <th>55981</th>\n",
       "      <td>C_ID_6d3a13e1c6</td>\n",
       "      <td>-0.749246</td>\n",
       "      <td>0.000497</td>\n",
       "      <td>0.000702</td>\n",
       "    </tr>\n",
       "    <tr>\n",
       "      <th>115587</th>\n",
       "      <td>C_ID_56216d8860</td>\n",
       "      <td>0.234476</td>\n",
       "      <td>0.000495</td>\n",
       "      <td>0.000731</td>\n",
       "    </tr>\n",
       "    <tr>\n",
       "      <th>96152</th>\n",
       "      <td>C_ID_92b0df0dfb</td>\n",
       "      <td>-0.406429</td>\n",
       "      <td>0.000495</td>\n",
       "      <td>0.000773</td>\n",
       "    </tr>\n",
       "    <tr>\n",
       "      <th>97297</th>\n",
       "      <td>C_ID_75631c31b9</td>\n",
       "      <td>-0.233328</td>\n",
       "      <td>0.000494</td>\n",
       "      <td>0.000918</td>\n",
       "    </tr>\n",
       "    <tr>\n",
       "      <th>39541</th>\n",
       "      <td>C_ID_dc9b612f54</td>\n",
       "      <td>-0.457811</td>\n",
       "      <td>0.000491</td>\n",
       "      <td>0.000737</td>\n",
       "    </tr>\n",
       "    <tr>\n",
       "      <th>54503</th>\n",
       "      <td>C_ID_cabe5fbdc4</td>\n",
       "      <td>-0.068454</td>\n",
       "      <td>0.000490</td>\n",
       "      <td>0.000826</td>\n",
       "    </tr>\n",
       "    <tr>\n",
       "      <th>106137</th>\n",
       "      <td>C_ID_2b4cc2cf98</td>\n",
       "      <td>0.081711</td>\n",
       "      <td>0.000489</td>\n",
       "      <td>0.000667</td>\n",
       "    </tr>\n",
       "    <tr>\n",
       "      <th>95112</th>\n",
       "      <td>C_ID_999acfb02e</td>\n",
       "      <td>-0.766127</td>\n",
       "      <td>0.000487</td>\n",
       "      <td>0.001005</td>\n",
       "    </tr>\n",
       "    <tr>\n",
       "      <th>3152</th>\n",
       "      <td>C_ID_d3e59676d1</td>\n",
       "      <td>-0.430994</td>\n",
       "      <td>0.000477</td>\n",
       "      <td>0.000670</td>\n",
       "    </tr>\n",
       "    <tr>\n",
       "      <th>34564</th>\n",
       "      <td>C_ID_179975c189</td>\n",
       "      <td>-0.069303</td>\n",
       "      <td>0.000472</td>\n",
       "      <td>0.000727</td>\n",
       "    </tr>\n",
       "    <tr>\n",
       "      <th>19222</th>\n",
       "      <td>C_ID_ed3e30bac6</td>\n",
       "      <td>-0.498710</td>\n",
       "      <td>0.000466</td>\n",
       "      <td>0.000786</td>\n",
       "    </tr>\n",
       "    <tr>\n",
       "      <th>33773</th>\n",
       "      <td>C_ID_4f851a3c3f</td>\n",
       "      <td>-0.141993</td>\n",
       "      <td>0.000465</td>\n",
       "      <td>0.000723</td>\n",
       "    </tr>\n",
       "    <tr>\n",
       "      <th>91671</th>\n",
       "      <td>C_ID_c91f8e6e1f</td>\n",
       "      <td>-0.537566</td>\n",
       "      <td>0.000463</td>\n",
       "      <td>0.000802</td>\n",
       "    </tr>\n",
       "    <tr>\n",
       "      <th>80754</th>\n",
       "      <td>C_ID_7f8a29ed63</td>\n",
       "      <td>-0.267573</td>\n",
       "      <td>0.000443</td>\n",
       "      <td>0.000675</td>\n",
       "    </tr>\n",
       "  </tbody>\n",
       "</table>\n",
       "<p>123623 rows × 4 columns</p>\n",
       "</div>"
      ],
      "text/plain": [
       "                card_id     target  outlier_prob1  outlier_prob2\n",
       "78078   C_ID_922f9c5ea6 -22.745534       0.869057       0.862953\n",
       "88754   C_ID_02871a2207 -15.954320       0.861804       0.854475\n",
       "118268  C_ID_3420e285b9 -15.433602       0.861054       0.860737\n",
       "115682  C_ID_099d9774e2 -12.377131       0.855161       0.832710\n",
       "1772    C_ID_4299911620 -18.860423       0.853740       0.843684\n",
       "100556  C_ID_70c457436a -21.097380       0.852554       0.837081\n",
       "20556   C_ID_aae50409e7 -21.037031       0.852145       0.844683\n",
       "5008    C_ID_be92f84f5c -16.025497       0.852141       0.860169\n",
       "87789   C_ID_bdfdcbb1a0 -19.461891       0.848176       0.832338\n",
       "17778   C_ID_866eae8fb0 -12.374922       0.848054       0.818394\n",
       "109705  C_ID_d596794318 -12.803438       0.847943       0.832373\n",
       "88371   C_ID_26f775a95b -11.787471       0.846682       0.840512\n",
       "109960  C_ID_ba513d72b8 -11.737588       0.846672       0.835668\n",
       "5707    C_ID_a8e502820c -11.089037       0.846529       0.820786\n",
       "104735  C_ID_6e089361a2  -7.900539       0.845620       0.828673\n",
       "57626   C_ID_944c62886f -13.708090       0.844946       0.845235\n",
       "94759   C_ID_fc4463e3bd -14.473601       0.844694       0.821313\n",
       "96354   C_ID_b237ce01cb -23.592609       0.844581       0.858382\n",
       "6026    C_ID_91cc0c06ca -13.075557       0.844265       0.845360\n",
       "18363   C_ID_d2871ae781 -14.776148       0.843754       0.818236\n",
       "58516   C_ID_e94aaeede0 -13.078331       0.843476       0.837671\n",
       "68143   C_ID_3af6df55e2 -12.758308       0.842819       0.824539\n",
       "17720   C_ID_938dec7a1a -18.855122       0.842738       0.832439\n",
       "72221   C_ID_464246c0a5 -14.512923       0.842661       0.831291\n",
       "120151  C_ID_3e3bb028d1 -10.840605       0.842293       0.823255\n",
       "5656    C_ID_126a403be9 -14.726226       0.841536       0.833318\n",
       "16074   C_ID_9c760806b5 -15.801676       0.840880       0.841599\n",
       "43215   C_ID_dc60219f6c -17.294313       0.839005       0.834371\n",
       "104991  C_ID_86ddafb51c -19.791141       0.838494       0.857541\n",
       "4191    C_ID_87b47c2ac5 -11.298274       0.838183       0.817676\n",
       "...                 ...        ...            ...            ...\n",
       "27976   C_ID_1c09ca6cf0  -0.492621       0.000508       0.000622\n",
       "59126   C_ID_e893d16803   0.213365       0.000508       0.000682\n",
       "5376    C_ID_1d38bf0c9d   0.269419       0.000508       0.000826\n",
       "73513   C_ID_f8e4f9c2ae  -0.364491       0.000507       0.000721\n",
       "84629   C_ID_3e4595b0aa  -0.127500       0.000507       0.000759\n",
       "12812   C_ID_64948b72c0  -0.661055       0.000506       0.000717\n",
       "30514   C_ID_b47696477d   0.095425       0.000506       0.000747\n",
       "34289   C_ID_7e813d8200  -0.121124       0.000504       0.000804\n",
       "42610   C_ID_a98acf0d29  -0.053163       0.000503       0.000878\n",
       "8242    C_ID_369c4ce047   0.077645       0.000502       0.000598\n",
       "73640   C_ID_e57de9936f  -0.044130       0.000500       0.000683\n",
       "3591    C_ID_86fcda1933  -0.451789       0.000500       0.000781\n",
       "84218   C_ID_8049d4d005  -0.119574       0.000500       0.000896\n",
       "119153  C_ID_f6dccb2986  -0.296984       0.000499       0.000687\n",
       "96414   C_ID_4c046ccd1c  -0.224856       0.000498       0.000801\n",
       "36418   C_ID_aae3296122  -0.065526       0.000498       0.000656\n",
       "55981   C_ID_6d3a13e1c6  -0.749246       0.000497       0.000702\n",
       "115587  C_ID_56216d8860   0.234476       0.000495       0.000731\n",
       "96152   C_ID_92b0df0dfb  -0.406429       0.000495       0.000773\n",
       "97297   C_ID_75631c31b9  -0.233328       0.000494       0.000918\n",
       "39541   C_ID_dc9b612f54  -0.457811       0.000491       0.000737\n",
       "54503   C_ID_cabe5fbdc4  -0.068454       0.000490       0.000826\n",
       "106137  C_ID_2b4cc2cf98   0.081711       0.000489       0.000667\n",
       "95112   C_ID_999acfb02e  -0.766127       0.000487       0.001005\n",
       "3152    C_ID_d3e59676d1  -0.430994       0.000477       0.000670\n",
       "34564   C_ID_179975c189  -0.069303       0.000472       0.000727\n",
       "19222   C_ID_ed3e30bac6  -0.498710       0.000466       0.000786\n",
       "33773   C_ID_4f851a3c3f  -0.141993       0.000465       0.000723\n",
       "91671   C_ID_c91f8e6e1f  -0.537566       0.000463       0.000802\n",
       "80754   C_ID_7f8a29ed63  -0.267573       0.000443       0.000675\n",
       "\n",
       "[123623 rows x 4 columns]"
      ]
     },
     "execution_count": 40,
     "metadata": {},
     "output_type": "execute_result"
    }
   ],
   "source": [
    "wang_out.sort_values('outlier_prob1', ascending=False)"
   ]
  },
  {
   "cell_type": "code",
   "execution_count": 80,
   "metadata": {},
   "outputs": [],
   "source": [
    "_40=wang_out.sort_values('outlier_prob1',ascending=False)"
   ]
  },
  {
   "cell_type": "code",
   "execution_count": 81,
   "metadata": {},
   "outputs": [
    {
     "data": {
      "text/html": [
       "<div>\n",
       "<style scoped>\n",
       "    .dataframe tbody tr th:only-of-type {\n",
       "        vertical-align: middle;\n",
       "    }\n",
       "\n",
       "    .dataframe tbody tr th {\n",
       "        vertical-align: top;\n",
       "    }\n",
       "\n",
       "    .dataframe thead th {\n",
       "        text-align: right;\n",
       "    }\n",
       "</style>\n",
       "<table border=\"1\" class=\"dataframe\">\n",
       "  <thead>\n",
       "    <tr style=\"text-align: right;\">\n",
       "      <th></th>\n",
       "      <th>card_id</th>\n",
       "      <th>target</th>\n",
       "      <th>outlier_prob1</th>\n",
       "    </tr>\n",
       "  </thead>\n",
       "  <tbody>\n",
       "    <tr>\n",
       "      <th>78078</th>\n",
       "      <td>C_ID_922f9c5ea6</td>\n",
       "      <td>-22.529316</td>\n",
       "      <td>0.862436</td>\n",
       "    </tr>\n",
       "    <tr>\n",
       "      <th>88754</th>\n",
       "      <td>C_ID_02871a2207</td>\n",
       "      <td>-20.292251</td>\n",
       "      <td>0.854270</td>\n",
       "    </tr>\n",
       "    <tr>\n",
       "      <th>5008</th>\n",
       "      <td>C_ID_be92f84f5c</td>\n",
       "      <td>-19.495803</td>\n",
       "      <td>0.848803</td>\n",
       "    </tr>\n",
       "    <tr>\n",
       "      <th>16074</th>\n",
       "      <td>C_ID_9c760806b5</td>\n",
       "      <td>-13.941850</td>\n",
       "      <td>0.848557</td>\n",
       "    </tr>\n",
       "    <tr>\n",
       "      <th>109705</th>\n",
       "      <td>C_ID_d596794318</td>\n",
       "      <td>-13.721795</td>\n",
       "      <td>0.845980</td>\n",
       "    </tr>\n",
       "  </tbody>\n",
       "</table>\n",
       "</div>"
      ],
      "text/plain": [
       "                card_id     target  outlier_prob1\n",
       "78078   C_ID_922f9c5ea6 -22.529316       0.862436\n",
       "88754   C_ID_02871a2207 -20.292251       0.854270\n",
       "5008    C_ID_be92f84f5c -19.495803       0.848803\n",
       "16074   C_ID_9c760806b5 -13.941850       0.848557\n",
       "109705  C_ID_d596794318 -13.721795       0.845980"
      ]
     },
     "execution_count": 81,
     "metadata": {},
     "output_type": "execute_result"
    }
   ],
   "source": [
    "_40.head()\n"
   ]
  },
  {
   "cell_type": "code",
   "execution_count": 82,
   "metadata": {
    "scrolled": true
   },
   "outputs": [],
   "source": [
    "top20 = _40.card_id.values[:20].tolist()"
   ]
  },
  {
   "cell_type": "code",
   "execution_count": 83,
   "metadata": {
    "scrolled": true
   },
   "outputs": [
    {
     "data": {
      "text/plain": [
       "['C_ID_922f9c5ea6',\n",
       " 'C_ID_02871a2207',\n",
       " 'C_ID_be92f84f5c',\n",
       " 'C_ID_9c760806b5',\n",
       " 'C_ID_d596794318',\n",
       " 'C_ID_aae50409e7',\n",
       " 'C_ID_866eae8fb0',\n",
       " 'C_ID_3e3bb028d1',\n",
       " 'C_ID_944c62886f',\n",
       " 'C_ID_126a403be9',\n",
       " 'C_ID_b237ce01cb',\n",
       " 'C_ID_70c457436a',\n",
       " 'C_ID_4299911620',\n",
       " 'C_ID_3d40705001',\n",
       " 'C_ID_e94aaeede0',\n",
       " 'C_ID_3f1d0e54bd',\n",
       " 'C_ID_91cc0c06ca',\n",
       " 'C_ID_ba513d72b8',\n",
       " 'C_ID_6e089361a2',\n",
       " 'C_ID_3420e285b9']"
      ]
     },
     "execution_count": 83,
     "metadata": {},
     "output_type": "execute_result"
    }
   ],
   "source": [
    "top20"
   ]
  },
  {
   "cell_type": "code",
   "execution_count": 84,
   "metadata": {},
   "outputs": [],
   "source": [
    "wang_out.loc[wang_out.card_id.isin(top20), 'target'] = -33.21928095\n",
    "wang_out[['card_id', 'target']].to_csv('wang_top20.csv', index=False)"
   ]
  },
  {
   "cell_type": "code",
   "execution_count": 85,
   "metadata": {},
   "outputs": [],
   "source": [
    "top20_50 = _40.card_id.values[20:50].tolist()"
   ]
  },
  {
   "cell_type": "code",
   "execution_count": 86,
   "metadata": {},
   "outputs": [],
   "source": [
    "top20_50_df = wang_out[wang_out.card_id.isin(top20_50)]"
   ]
  },
  {
   "cell_type": "code",
   "execution_count": 87,
   "metadata": {},
   "outputs": [],
   "source": [
    "top20_50_target = top20_50_df.outlier_prob1 * (-33.21928095)"
   ]
  },
  {
   "cell_type": "code",
   "execution_count": 88,
   "metadata": {},
   "outputs": [],
   "source": [
    "wang_out.loc[wang_out.card_id.isin(top20_50), 'target'] = top20_50_target"
   ]
  },
  {
   "cell_type": "code",
   "execution_count": 89,
   "metadata": {},
   "outputs": [
    {
     "data": {
      "text/plain": [
       "5707     -27.635588\n",
       "7750     -27.501771\n",
       "13254    -27.673898\n",
       "17720    -27.655413\n",
       "18363    -27.604515\n",
       "18533    -27.524982\n",
       "19114    -27.554954\n",
       "23022    -27.639221\n",
       "27436    -27.577826\n",
       "29142    -27.644937\n",
       "33759    -27.647200\n",
       "37421    -27.812208\n",
       "38407    -27.524924\n",
       "40613    -27.603278\n",
       "43454    -27.555438\n",
       "44180    -27.603159\n",
       "54900    -27.531751\n",
       "65911    -27.521336\n",
       "68143    -27.769647\n",
       "74063    -27.751008\n",
       "74233    -27.569821\n",
       "88371    -27.855040\n",
       "94759    -27.731438\n",
       "102469   -27.576723\n",
       "104274   -27.595197\n",
       "104991   -27.787958\n",
       "108511   -27.651936\n",
       "115682   -27.862165\n",
       "117442   -27.556252\n",
       "121274   -27.636031\n",
       "Name: target, dtype: float64"
      ]
     },
     "execution_count": 89,
     "metadata": {},
     "output_type": "execute_result"
    }
   ],
   "source": [
    "wang_out.loc[wang_out.card_id.isin(top20_50), 'target'] "
   ]
  },
  {
   "cell_type": "code",
   "execution_count": 90,
   "metadata": {},
   "outputs": [],
   "source": [
    "wang_out[['card_id', 'target']].to_csv('wang_top20_top50.csv', index=False)"
   ]
  },
  {
   "cell_type": "code",
   "execution_count": 66,
   "metadata": {},
   "outputs": [],
   "source": [
    "test=pd.read_csv('wang_top20_top50.csv')\n"
   ]
  },
  {
   "cell_type": "code",
   "execution_count": 55,
   "metadata": {},
   "outputs": [],
   "source": [
    "# wang_out.loc[wang_out.card_id.isin(top20), 'target'] = -33.21928095"
   ]
  },
  {
   "cell_type": "code",
   "execution_count": 62,
   "metadata": {},
   "outputs": [
    {
     "data": {
      "text/plain": [
       "1772     -16.094083\n",
       "5008     -19.495803\n",
       "5656     -14.427368\n",
       "6026     -15.665003\n",
       "16074    -13.941850\n",
       "17778    -14.673022\n",
       "20556    -20.713666\n",
       "57626    -16.149242\n",
       "58516    -12.730885\n",
       "78078    -22.529316\n",
       "88754    -20.292251\n",
       "92899    -15.870845\n",
       "96354    -21.234240\n",
       "100556   -18.487316\n",
       "104735    -7.603885\n",
       "109705   -13.721795\n",
       "109960   -11.132883\n",
       "118268   -12.054651\n",
       "119449   -16.653107\n",
       "120151   -14.497682\n",
       "Name: target, dtype: float64"
      ]
     },
     "execution_count": 62,
     "metadata": {},
     "output_type": "execute_result"
    }
   ],
   "source": [
    "wang_out.loc[wang_out.card_id.isin(top20), 'target']"
   ]
  },
  {
   "cell_type": "code",
   "execution_count": null,
   "metadata": {},
   "outputs": [],
   "source": []
  }
 ],
 "metadata": {
  "kernelspec": {
   "display_name": "Python 3",
   "language": "python",
   "name": "python3"
  },
  "language_info": {
   "codemirror_mode": {
    "name": "ipython",
    "version": 3
   },
   "file_extension": ".py",
   "mimetype": "text/x-python",
   "name": "python",
   "nbconvert_exporter": "python",
   "pygments_lexer": "ipython3",
   "version": "3.6.4"
  }
 },
 "nbformat": 4,
 "nbformat_minor": 1
}
