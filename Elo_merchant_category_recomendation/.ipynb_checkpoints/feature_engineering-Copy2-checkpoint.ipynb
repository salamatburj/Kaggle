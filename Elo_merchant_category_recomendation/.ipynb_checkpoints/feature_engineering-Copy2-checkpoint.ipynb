{
 "cells": [
  {
   "cell_type": "markdown",
   "metadata": {
    "_uuid": "6df55b542f152882e00385a0f73198f4e3bc4316"
   },
   "source": [
    "Changing feature enginering"
   ]
  },
  {
   "cell_type": "code",
   "execution_count": 1,
   "metadata": {
    "_cell_guid": "b1076dfc-b9ad-4769-8c92-a6c4dae69d19",
    "_uuid": "8f2839f25d086af736a60e9eeb907d3b93b6e0e5"
   },
   "outputs": [],
   "source": [
    "import numpy as np\n",
    "import pandas as pd\n",
    "import datetime\n",
    "import gc\n",
    "import matplotlib.pyplot as plt\n",
    "import seaborn as sns\n",
    "import lightgbm as lgb\n",
    "from sklearn.model_selection import StratifiedKFold\n",
    "from sklearn.metrics import mean_squared_error\n",
    "import warnings\n",
    "warnings.filterwarnings('ignore')\n",
    "np.random.seed(4590)"
   ]
  },
  {
   "cell_type": "code",
   "execution_count": 5,
   "metadata": {
    "_uuid": "3f389b05b579223e6833cc0a824c8256d037a3f3"
   },
   "outputs": [],
   "source": [
    "def reduce_mem_usage(df, verbose=True):\n",
    "    numerics = ['int16', 'int32', 'int64', 'float16', 'float32', 'float64']\n",
    "    start_mem = df.memory_usage().sum() / 1024**2    \n",
    "    for col in df.columns:\n",
    "        col_type = df[col].dtypes\n",
    "        if col_type in numerics:\n",
    "            c_min = df[col].min()\n",
    "            c_max = df[col].max()\n",
    "            if str(col_type)[:3] == 'int':\n",
    "                if c_min > np.iinfo(np.int8).min and c_max < np.iinfo(np.int8).max:\n",
    "                    df[col] = df[col].astype(np.int8)\n",
    "                elif c_min > np.iinfo(np.int16).min and c_max < np.iinfo(np.int16).max:\n",
    "                    df[col] = df[col].astype(np.int16)\n",
    "                elif c_min > np.iinfo(np.int32).min and c_max < np.iinfo(np.int32).max:\n",
    "                    df[col] = df[col].astype(np.int32)\n",
    "                elif c_min > np.iinfo(np.int64).min and c_max < np.iinfo(np.int64).max:\n",
    "                    df[col] = df[col].astype(np.int64)  \n",
    "            else:\n",
    "                if c_min > np.finfo(np.float16).min and c_max < np.finfo(np.float16).max:\n",
    "                    df[col] = df[col].astype(np.float16)\n",
    "                elif c_min > np.finfo(np.float32).min and c_max < np.finfo(np.float32).max:\n",
    "                    df[col] = df[col].astype(np.float32)\n",
    "                else:\n",
    "                    df[col] = df[col].astype(np.float64)    \n",
    "    end_mem = df.memory_usage().sum() / 1024**2\n",
    "    if verbose: print('Mem. usage decreased to {:5.2f} Mb ({:.1f}% reduction)'.format(end_mem, 100 * (start_mem - end_mem) / start_mem))\n",
    "    return df"
   ]
  },
  {
   "cell_type": "code",
   "execution_count": 80,
   "metadata": {
    "_cell_guid": "79c7e3d0-c299-4dcb-8224-4455121ee9b0",
    "_uuid": "d629ff2d2480ee46fbb7e2d37f6b5fab8052498a"
   },
   "outputs": [],
   "source": [
    "df_train = pd.read_csv('C:/Users/user/Documents/Salamat/ELO/train.csv')\n",
    "df_test = pd.read_csv('C:/Users/user/Documents/Salamat/ELO/test.csv')\n",
    "df_hist_trans = pd.read_csv('C:/Users/user/Documents/Salamat/ELO/historical_transactions.csv')\n",
    "df_new_merchant_trans = pd.read_csv('C:/Users/user/Documents/Salamat/ELO/new_merchant_transactions.csv')"
   ]
  },
  {
   "cell_type": "code",
   "execution_count": 81,
   "metadata": {
    "_uuid": "d349a4ebccd9cb8250ff796f0d631ad9a73dffc4"
   },
   "outputs": [
    {
     "name": "stdout",
     "output_type": "stream",
     "text": [
      "Mem. usage decreased to  4.04 Mb (56.2% reduction)\n",
      "Mem. usage decreased to  2.24 Mb (52.5% reduction)\n",
      "Mem. usage decreased to 1749.11 Mb (43.7% reduction)\n",
      "Mem. usage decreased to 114.20 Mb (45.5% reduction)\n"
     ]
    }
   ],
   "source": [
    "df_train=reduce_mem_usage(df_train)\n",
    "df_test=reduce_mem_usage(df_test)\n",
    "df_hist_trans=reduce_mem_usage(df_hist_trans)\n",
    "df_new_merchant_trans=reduce_mem_usage(df_new_merchant_trans)"
   ]
  },
  {
   "cell_type": "markdown",
   "metadata": {
    "_uuid": "4bb2197eb33a2851d8d70f1fe098ef0563597999"
   },
   "source": [
    "Count number of purchases made in each merchant. We will use it to fill NaN values by most frequent merchant id."
   ]
  },
  {
   "cell_type": "markdown",
   "metadata": {
    "_uuid": "601820a5d56bb7d5684175b9984400d0f97e50ff"
   },
   "source": [
    "Chech weather we have NaN values in the following categories"
   ]
  },
  {
   "cell_type": "code",
   "execution_count": 7,
   "metadata": {
    "_uuid": "17c82db187a7750f9aca86e338fd2e1683ec3d66",
    "scrolled": false
   },
   "outputs": [
    {
     "data": {
      "text/plain": [
       "authorized_flag         False\n",
       "card_id                 False\n",
       "city_id                 False\n",
       "category_1              False\n",
       "installments            False\n",
       "category_3               True\n",
       "merchant_category_id    False\n",
       "merchant_id              True\n",
       "month_lag               False\n",
       "purchase_amount         False\n",
       "purchase_date           False\n",
       "category_2               True\n",
       "state_id                False\n",
       "subsector_id            False\n",
       "dtype: bool"
      ]
     },
     "execution_count": 7,
     "metadata": {},
     "output_type": "execute_result"
    }
   ],
   "source": [
    "df_hist_trans.isnull().any()"
   ]
  },
  {
   "cell_type": "code",
   "execution_count": 8,
   "metadata": {
    "_uuid": "bcd8ba3e3b9d0b11ea0229956debcee205969e56",
    "scrolled": true
   },
   "outputs": [
    {
     "data": {
      "text/plain": [
       "authorized_flag         False\n",
       "card_id                 False\n",
       "city_id                 False\n",
       "category_1              False\n",
       "installments            False\n",
       "category_3               True\n",
       "merchant_category_id    False\n",
       "merchant_id              True\n",
       "month_lag               False\n",
       "purchase_amount         False\n",
       "purchase_date           False\n",
       "category_2               True\n",
       "state_id                False\n",
       "subsector_id            False\n",
       "dtype: bool"
      ]
     },
     "execution_count": 8,
     "metadata": {},
     "output_type": "execute_result"
    }
   ],
   "source": [
    "df_new_merchant_trans.isnull().any()"
   ]
  },
  {
   "cell_type": "markdown",
   "metadata": {
    "_uuid": "f05ab92acdc570ee3ae892b7186df1e0cc05ecb4"
   },
   "source": [
    "It seems that 'category_2' , 'category_3' and 'mechant_id' has Nan values in historical and new mechant transactions. Now, let's count values in each of this categories for historical transactions. Let's start with 'category_2'"
   ]
  },
  {
   "cell_type": "code",
   "execution_count": 9,
   "metadata": {
    "_uuid": "481a00592daff8f169851827aa23e6e4ec2cfb8e",
    "scrolled": false
   },
   "outputs": [
    {
     "data": {
      "text/plain": [
       " 1.0    15177199\n",
       " 3.0     3911795\n",
       " 5.0     3725915\n",
       "NaN      2652864\n",
       " 4.0     2618053\n",
       " 2.0     1026535\n",
       "Name: category_2, dtype: int64"
      ]
     },
     "execution_count": 9,
     "metadata": {},
     "output_type": "execute_result"
    }
   ],
   "source": [
    "df_hist_trans.category_2.value_counts(dropna=False)"
   ]
  },
  {
   "cell_type": "markdown",
   "metadata": {
    "_uuid": "f57f38eb78442539e3945bb7fca178e6bc1906ae"
   },
   "source": [
    "There is 2652864 Nan values in 'category_2'. Now, let's check if in each 'card_id' 'category_2' have only 'Nan' unique value and change it to the most frequent values found in the whole history transacations. Most frequent seems to be 1.(in the above cell).\n",
    "\n",
    "In order to check we can use groupby and sum function. By setting min_count=1, we can get nan value for sum of nan array, if we didn't it will give zero by default."
   ]
  },
  {
   "cell_type": "code",
   "execution_count": 10,
   "metadata": {
    "_uuid": "10ba14f38d5912f51d117141ac3e3df501f00618"
   },
   "outputs": [],
   "source": [
    "group_cat2=df_hist_trans.groupby(['card_id']).category_2.sum(min_count=1)"
   ]
  },
  {
   "cell_type": "markdown",
   "metadata": {
    "_uuid": "000bd8781d10b5d64f7cebfe185fe89ad296877a"
   },
   "source": [
    "Now let's select those who have non-values only"
   ]
  },
  {
   "cell_type": "code",
   "execution_count": 11,
   "metadata": {
    "_uuid": "d36829fe5eb68d7bd7aafebc632b42abd09901bd"
   },
   "outputs": [],
   "source": [
    "group_cat2_nan=group_cat2[group_cat2.isnull()]"
   ]
  },
  {
   "cell_type": "code",
   "execution_count": 12,
   "metadata": {
    "_uuid": "e31c9828aebedcb98261fea2b990506cc63fe9f5"
   },
   "outputs": [
    {
     "data": {
      "text/plain": [
       "card_id\n",
       "C_ID_001b4c5151   NaN\n",
       "C_ID_001c09a36b   NaN\n",
       "C_ID_0028e15a78   NaN\n",
       "C_ID_002b706ded   NaN\n",
       "C_ID_0030e0945f   NaN\n",
       "Name: category_2, dtype: float16"
      ]
     },
     "execution_count": 12,
     "metadata": {},
     "output_type": "execute_result"
    }
   ],
   "source": [
    "group_cat2_nan.head()"
   ]
  },
  {
   "cell_type": "markdown",
   "metadata": {
    "_uuid": "18a8ec540fe8d4444d9eb3a53158799a5d5e2c4b"
   },
   "source": [
    "I am setting index as 'card_id'. In order to , change 'category_2' values. I tried just by using \n",
    "df_hist_trans.loc[df_hist_trans.card_id.isin(group_cat2_nan.index)].category_2=1\n",
    "or \n",
    "df_hist_trans[df_hist_trans.card_id.isin(group_cat2_nan.index)].category_2\n",
    "and you can check by\n",
    "df_hist_trans.loc[df_hist_trans.card_id.isin(group_cat2_nan.index)].category_2\n",
    "or\n",
    "df_hist_trans.loc[df_hist_trans.card_id.isin(group_cat2_nan.index)].category_2\n",
    "You will see that values do not change. Both of this methods gives copy from the dataframe so we can't change it. It seems when you use masking(df_hist_trans.card_id.isin(group_cat2_nan.index)) you will have copy. \n",
    "Therefore, I decided to call from index and index will be 'card_id'.\n"
   ]
  },
  {
   "cell_type": "code",
   "execution_count": 13,
   "metadata": {
    "_uuid": "dc15c593d833a09a4b72b4714eae2e127a127224"
   },
   "outputs": [],
   "source": [
    "df_hist_trans[df_hist_trans.card_id.isin(group_cat2_nan.index)].category_2=1"
   ]
  },
  {
   "cell_type": "code",
   "execution_count": 14,
   "metadata": {
    "_uuid": "c3a4377a7dfc0eb3bff42251a48ad0bcd2aa29aa",
    "scrolled": true
   },
   "outputs": [
    {
     "data": {
      "text/plain": [
       "15207   NaN\n",
       "15208   NaN\n",
       "15209   NaN\n",
       "15210   NaN\n",
       "15211   NaN\n",
       "Name: category_2, dtype: float16"
      ]
     },
     "execution_count": 14,
     "metadata": {},
     "output_type": "execute_result"
    }
   ],
   "source": [
    "df_hist_trans[df_hist_trans.card_id.isin(group_cat2_nan.index)].category_2.head()"
   ]
  },
  {
   "cell_type": "markdown",
   "metadata": {
    "_uuid": "86429d3c9b2272729b8755e9daf4cee6b13b5051"
   },
   "source": [
    "You can see that it doesn't work. So , let's change index of df_hist_trans to 'card_id'. Call dataframe from their respective indexes"
   ]
  },
  {
   "cell_type": "code",
   "execution_count": 15,
   "metadata": {
    "_kg_hide-input": true,
    "_uuid": "30b5350b5928ea6e8cc46a49b824ad6b5f3dffa3",
    "scrolled": false
   },
   "outputs": [],
   "source": [
    "df_hist_trans.set_index('card_id',inplace=True)"
   ]
  },
  {
   "cell_type": "code",
   "execution_count": 16,
   "metadata": {
    "_uuid": "49e9b8cd0906aebd178a04916b386777ad8360e9"
   },
   "outputs": [],
   "source": [
    "df_hist_trans.loc[group_cat2_nan.index,'category_2']=1"
   ]
  },
  {
   "cell_type": "code",
   "execution_count": 17,
   "metadata": {
    "_uuid": "0150514fe63eed35badef8e20ee18f7f9ae83e66",
    "scrolled": false
   },
   "outputs": [
    {
     "data": {
      "text/plain": [
       "array([ 1.])"
      ]
     },
     "execution_count": 17,
     "metadata": {},
     "output_type": "execute_result"
    }
   ],
   "source": [
    "df_hist_trans.loc[group_cat2_nan.index,'category_2'].unique()"
   ]
  },
  {
   "cell_type": "markdown",
   "metadata": {
    "_uuid": "b48b6d5fbb92bb264545dac7b9cd953d0f321a5c"
   },
   "source": [
    "Now, we only changed the once which have only NaN values in 'category_2'. Let's check how many nan are still there. So nan values are reduced by 115446."
   ]
  },
  {
   "cell_type": "code",
   "execution_count": 18,
   "metadata": {
    "_uuid": "7973d86538ae649c30b5e0d7a74a526e8ed25d1b",
    "scrolled": true
   },
   "outputs": [
    {
     "data": {
      "text/plain": [
       " 1.0    15327456\n",
       " 3.0     3911795\n",
       " 5.0     3725915\n",
       " 4.0     2618053\n",
       "NaN      2502607\n",
       " 2.0     1026535\n",
       "Name: category_2, dtype: int64"
      ]
     },
     "execution_count": 18,
     "metadata": {},
     "output_type": "execute_result"
    }
   ],
   "source": [
    "df_hist_trans.category_2.value_counts(dropna=False)"
   ]
  },
  {
   "cell_type": "markdown",
   "metadata": {
    "_uuid": "6587b251a9053dee27b669ee486097f859b52883"
   },
   "source": [
    "Now let's reset_index and groupby 'card_id' and 'category' . We can look at number of counts in each category of 'category_2'."
   ]
  },
  {
   "cell_type": "code",
   "execution_count": 19,
   "metadata": {
    "_uuid": "633e28186286a8a5945f8f665314878c983902bf"
   },
   "outputs": [],
   "source": [
    "df_hist_trans.reset_index(inplace=True)"
   ]
  },
  {
   "cell_type": "code",
   "execution_count": 20,
   "metadata": {
    "_uuid": "9d600174cf2125c86f6fedbafc6e9622faa10a9e"
   },
   "outputs": [],
   "source": [
    "category_2_count=df_hist_trans.groupby(['card_id','category_2']).count()"
   ]
  },
  {
   "cell_type": "code",
   "execution_count": 21,
   "metadata": {
    "_uuid": "dc8a124789c5e8e131d556d0cac929621dde4c0a",
    "scrolled": true
   },
   "outputs": [
    {
     "data": {
      "text/html": [
       "<div>\n",
       "<style scoped>\n",
       "    .dataframe tbody tr th:only-of-type {\n",
       "        vertical-align: middle;\n",
       "    }\n",
       "\n",
       "    .dataframe tbody tr th {\n",
       "        vertical-align: top;\n",
       "    }\n",
       "\n",
       "    .dataframe thead th {\n",
       "        text-align: right;\n",
       "    }\n",
       "</style>\n",
       "<table border=\"1\" class=\"dataframe\">\n",
       "  <thead>\n",
       "    <tr style=\"text-align: right;\">\n",
       "      <th></th>\n",
       "      <th></th>\n",
       "      <th>authorized_flag</th>\n",
       "      <th>city_id</th>\n",
       "      <th>category_1</th>\n",
       "      <th>installments</th>\n",
       "      <th>category_3</th>\n",
       "      <th>merchant_category_id</th>\n",
       "      <th>merchant_id</th>\n",
       "      <th>month_lag</th>\n",
       "      <th>purchase_amount</th>\n",
       "      <th>purchase_date</th>\n",
       "      <th>state_id</th>\n",
       "      <th>subsector_id</th>\n",
       "    </tr>\n",
       "    <tr>\n",
       "      <th>card_id</th>\n",
       "      <th>category_2</th>\n",
       "      <th></th>\n",
       "      <th></th>\n",
       "      <th></th>\n",
       "      <th></th>\n",
       "      <th></th>\n",
       "      <th></th>\n",
       "      <th></th>\n",
       "      <th></th>\n",
       "      <th></th>\n",
       "      <th></th>\n",
       "      <th></th>\n",
       "      <th></th>\n",
       "    </tr>\n",
       "  </thead>\n",
       "  <tbody>\n",
       "    <tr>\n",
       "      <th rowspan=\"2\" valign=\"top\">C_ID_00007093c1</th>\n",
       "      <th>3.0</th>\n",
       "      <td>120</td>\n",
       "      <td>120</td>\n",
       "      <td>120</td>\n",
       "      <td>120</td>\n",
       "      <td>120</td>\n",
       "      <td>120</td>\n",
       "      <td>120</td>\n",
       "      <td>120</td>\n",
       "      <td>120</td>\n",
       "      <td>120</td>\n",
       "      <td>120</td>\n",
       "      <td>120</td>\n",
       "    </tr>\n",
       "    <tr>\n",
       "      <th>5.0</th>\n",
       "      <td>1</td>\n",
       "      <td>1</td>\n",
       "      <td>1</td>\n",
       "      <td>1</td>\n",
       "      <td>1</td>\n",
       "      <td>1</td>\n",
       "      <td>1</td>\n",
       "      <td>1</td>\n",
       "      <td>1</td>\n",
       "      <td>1</td>\n",
       "      <td>1</td>\n",
       "      <td>1</td>\n",
       "    </tr>\n",
       "    <tr>\n",
       "      <th rowspan=\"2\" valign=\"top\">C_ID_0001238066</th>\n",
       "      <th>1.0</th>\n",
       "      <td>95</td>\n",
       "      <td>95</td>\n",
       "      <td>95</td>\n",
       "      <td>95</td>\n",
       "      <td>94</td>\n",
       "      <td>95</td>\n",
       "      <td>95</td>\n",
       "      <td>95</td>\n",
       "      <td>95</td>\n",
       "      <td>95</td>\n",
       "      <td>95</td>\n",
       "      <td>95</td>\n",
       "    </tr>\n",
       "    <tr>\n",
       "      <th>5.0</th>\n",
       "      <td>20</td>\n",
       "      <td>20</td>\n",
       "      <td>20</td>\n",
       "      <td>20</td>\n",
       "      <td>19</td>\n",
       "      <td>20</td>\n",
       "      <td>20</td>\n",
       "      <td>20</td>\n",
       "      <td>20</td>\n",
       "      <td>20</td>\n",
       "      <td>20</td>\n",
       "      <td>20</td>\n",
       "    </tr>\n",
       "    <tr>\n",
       "      <th rowspan=\"2\" valign=\"top\">C_ID_0001506ef0</th>\n",
       "      <th>1.0</th>\n",
       "      <td>2</td>\n",
       "      <td>2</td>\n",
       "      <td>2</td>\n",
       "      <td>2</td>\n",
       "      <td>2</td>\n",
       "      <td>2</td>\n",
       "      <td>2</td>\n",
       "      <td>2</td>\n",
       "      <td>2</td>\n",
       "      <td>2</td>\n",
       "      <td>2</td>\n",
       "      <td>2</td>\n",
       "    </tr>\n",
       "    <tr>\n",
       "      <th>3.0</th>\n",
       "      <td>64</td>\n",
       "      <td>64</td>\n",
       "      <td>64</td>\n",
       "      <td>64</td>\n",
       "      <td>64</td>\n",
       "      <td>64</td>\n",
       "      <td>64</td>\n",
       "      <td>64</td>\n",
       "      <td>64</td>\n",
       "      <td>64</td>\n",
       "      <td>64</td>\n",
       "      <td>64</td>\n",
       "    </tr>\n",
       "    <tr>\n",
       "      <th rowspan=\"3\" valign=\"top\">C_ID_0001793786</th>\n",
       "      <th>1.0</th>\n",
       "      <td>11</td>\n",
       "      <td>11</td>\n",
       "      <td>11</td>\n",
       "      <td>11</td>\n",
       "      <td>11</td>\n",
       "      <td>11</td>\n",
       "      <td>11</td>\n",
       "      <td>11</td>\n",
       "      <td>11</td>\n",
       "      <td>11</td>\n",
       "      <td>11</td>\n",
       "      <td>11</td>\n",
       "    </tr>\n",
       "    <tr>\n",
       "      <th>2.0</th>\n",
       "      <td>76</td>\n",
       "      <td>76</td>\n",
       "      <td>76</td>\n",
       "      <td>76</td>\n",
       "      <td>76</td>\n",
       "      <td>76</td>\n",
       "      <td>76</td>\n",
       "      <td>76</td>\n",
       "      <td>76</td>\n",
       "      <td>76</td>\n",
       "      <td>76</td>\n",
       "      <td>76</td>\n",
       "    </tr>\n",
       "    <tr>\n",
       "      <th>3.0</th>\n",
       "      <td>15</td>\n",
       "      <td>15</td>\n",
       "      <td>15</td>\n",
       "      <td>15</td>\n",
       "      <td>15</td>\n",
       "      <td>15</td>\n",
       "      <td>15</td>\n",
       "      <td>15</td>\n",
       "      <td>15</td>\n",
       "      <td>15</td>\n",
       "      <td>15</td>\n",
       "      <td>15</td>\n",
       "    </tr>\n",
       "    <tr>\n",
       "      <th>C_ID_000183fdda</th>\n",
       "      <th>1.0</th>\n",
       "      <td>7</td>\n",
       "      <td>7</td>\n",
       "      <td>7</td>\n",
       "      <td>7</td>\n",
       "      <td>7</td>\n",
       "      <td>7</td>\n",
       "      <td>7</td>\n",
       "      <td>7</td>\n",
       "      <td>7</td>\n",
       "      <td>7</td>\n",
       "      <td>7</td>\n",
       "      <td>7</td>\n",
       "    </tr>\n",
       "  </tbody>\n",
       "</table>\n",
       "</div>"
      ],
      "text/plain": [
       "                            authorized_flag  city_id  category_1  \\\n",
       "card_id         category_2                                         \n",
       "C_ID_00007093c1 3.0                     120      120         120   \n",
       "                5.0                       1        1           1   \n",
       "C_ID_0001238066 1.0                      95       95          95   \n",
       "                5.0                      20       20          20   \n",
       "C_ID_0001506ef0 1.0                       2        2           2   \n",
       "                3.0                      64       64          64   \n",
       "C_ID_0001793786 1.0                      11       11          11   \n",
       "                2.0                      76       76          76   \n",
       "                3.0                      15       15          15   \n",
       "C_ID_000183fdda 1.0                       7        7           7   \n",
       "\n",
       "                            installments  category_3  merchant_category_id  \\\n",
       "card_id         category_2                                                   \n",
       "C_ID_00007093c1 3.0                  120         120                   120   \n",
       "                5.0                    1           1                     1   \n",
       "C_ID_0001238066 1.0                   95          94                    95   \n",
       "                5.0                   20          19                    20   \n",
       "C_ID_0001506ef0 1.0                    2           2                     2   \n",
       "                3.0                   64          64                    64   \n",
       "C_ID_0001793786 1.0                   11          11                    11   \n",
       "                2.0                   76          76                    76   \n",
       "                3.0                   15          15                    15   \n",
       "C_ID_000183fdda 1.0                    7           7                     7   \n",
       "\n",
       "                            merchant_id  month_lag  purchase_amount  \\\n",
       "card_id         category_2                                            \n",
       "C_ID_00007093c1 3.0                 120        120              120   \n",
       "                5.0                   1          1                1   \n",
       "C_ID_0001238066 1.0                  95         95               95   \n",
       "                5.0                  20         20               20   \n",
       "C_ID_0001506ef0 1.0                   2          2                2   \n",
       "                3.0                  64         64               64   \n",
       "C_ID_0001793786 1.0                  11         11               11   \n",
       "                2.0                  76         76               76   \n",
       "                3.0                  15         15               15   \n",
       "C_ID_000183fdda 1.0                   7          7                7   \n",
       "\n",
       "                            purchase_date  state_id  subsector_id  \n",
       "card_id         category_2                                         \n",
       "C_ID_00007093c1 3.0                   120       120           120  \n",
       "                5.0                     1         1             1  \n",
       "C_ID_0001238066 1.0                    95        95            95  \n",
       "                5.0                    20        20            20  \n",
       "C_ID_0001506ef0 1.0                     2         2             2  \n",
       "                3.0                    64        64            64  \n",
       "C_ID_0001793786 1.0                    11        11            11  \n",
       "                2.0                    76        76            76  \n",
       "                3.0                    15        15            15  \n",
       "C_ID_000183fdda 1.0                     7         7             7  "
      ]
     },
     "execution_count": 21,
     "metadata": {},
     "output_type": "execute_result"
    }
   ],
   "source": [
    "category_2_count.head(10)"
   ]
  },
  {
   "cell_type": "markdown",
   "metadata": {
    "_uuid": "72e5f449124eda1363bce455e8ff0be1fbd469f6"
   },
   "source": [
    "We need only one column(since all of them are same) let's choose 'authorized_flag'. "
   ]
  },
  {
   "cell_type": "code",
   "execution_count": 22,
   "metadata": {
    "_uuid": "f461ca2ada8addea24bffd71ad362e2c5f0b7565"
   },
   "outputs": [],
   "source": [
    "category_2_count=category_2_count.authorized_flag"
   ]
  },
  {
   "cell_type": "code",
   "execution_count": 23,
   "metadata": {
    "_uuid": "5225035904eb2c73734c870c853d8ef3f07330af"
   },
   "outputs": [
    {
     "data": {
      "text/plain": [
       "card_id          category_2\n",
       "C_ID_00007093c1  3.0           120\n",
       "                 5.0             1\n",
       "C_ID_0001238066  1.0            95\n",
       "                 5.0            20\n",
       "C_ID_0001506ef0  1.0             2\n",
       "                 3.0            64\n",
       "C_ID_0001793786  1.0            11\n",
       "                 2.0            76\n",
       "                 3.0            15\n",
       "C_ID_000183fdda  1.0             7\n",
       "                 2.0             1\n",
       "                 3.0           131\n",
       "                 5.0             1\n",
       "C_ID_00024e244b  1.0             3\n",
       "                 3.0            67\n",
       "C_ID_0002709b5a  1.0             1\n",
       "                 2.0            52\n",
       "                 5.0            14\n",
       "C_ID_00027503e2  1.0             3\n",
       "                 3.0            39\n",
       "Name: authorized_flag, dtype: int64"
      ]
     },
     "execution_count": 23,
     "metadata": {},
     "output_type": "execute_result"
    }
   ],
   "source": [
    "category_2_count.head(20)"
   ]
  },
  {
   "cell_type": "markdown",
   "metadata": {
    "_uuid": "68de402f2218dbd9c765428e40fdf5f8f89827a3"
   },
   "source": [
    "We will need only index of maximum values. We can do it by groupby(level=0), level=0 is 'card_id' in our case."
   ]
  },
  {
   "cell_type": "code",
   "execution_count": 24,
   "metadata": {
    "_uuid": "3a4605710425f5b54f29da1d72a69629c87f64a5"
   },
   "outputs": [],
   "source": [
    "category_2_count_max=category_2_count.groupby(level=0).idxmax()\n",
    "\n"
   ]
  },
  {
   "cell_type": "markdown",
   "metadata": {
    "_uuid": "24e4c2450ea2b9f31a163845a18911fe5df7c432"
   },
   "source": [
    "Now we need only second part of the tuple. Finally, we will obtain Series object with corresponding max count of categories for each 'card_id'"
   ]
  },
  {
   "cell_type": "code",
   "execution_count": 25,
   "metadata": {
    "_uuid": "49dec6e22b6d58bb1b854ad8d507de68afec73a3"
   },
   "outputs": [],
   "source": [
    "category_2_count_max=category_2_count_max.apply(lambda x: x[1])"
   ]
  },
  {
   "cell_type": "code",
   "execution_count": 26,
   "metadata": {
    "_uuid": "aa47b2db47171ec51cd775d12ca3fc1476bd6695",
    "scrolled": false
   },
   "outputs": [
    {
     "data": {
      "text/plain": [
       "card_id\n",
       "C_ID_00007093c1    3.0\n",
       "C_ID_0001238066    1.0\n",
       "C_ID_0001506ef0    3.0\n",
       "C_ID_0001793786    2.0\n",
       "C_ID_000183fdda    3.0\n",
       "Name: authorized_flag, dtype: float64"
      ]
     },
     "execution_count": 26,
     "metadata": {},
     "output_type": "execute_result"
    }
   ],
   "source": [
    "category_2_count_max.head()"
   ]
  },
  {
   "cell_type": "markdown",
   "metadata": {
    "_uuid": "a5059999b14d7bb9be38759dd413c77b27a54a17"
   },
   "source": [
    "Now, we can input most frequent 'category_2' value for each non value in certain 'card_id'"
   ]
  },
  {
   "cell_type": "code",
   "execution_count": 27,
   "metadata": {
    "_uuid": "8d5f635c3f7f89b59ae514fc1b74a150095920ef",
    "scrolled": false
   },
   "outputs": [
    {
     "data": {
      "text/html": [
       "<div>\n",
       "<style scoped>\n",
       "    .dataframe tbody tr th:only-of-type {\n",
       "        vertical-align: middle;\n",
       "    }\n",
       "\n",
       "    .dataframe tbody tr th {\n",
       "        vertical-align: top;\n",
       "    }\n",
       "\n",
       "    .dataframe thead th {\n",
       "        text-align: right;\n",
       "    }\n",
       "</style>\n",
       "<table border=\"1\" class=\"dataframe\">\n",
       "  <thead>\n",
       "    <tr style=\"text-align: right;\">\n",
       "      <th></th>\n",
       "      <th>authorized_flag</th>\n",
       "      <th>city_id</th>\n",
       "      <th>category_1</th>\n",
       "      <th>installments</th>\n",
       "      <th>category_3</th>\n",
       "      <th>merchant_category_id</th>\n",
       "      <th>merchant_id</th>\n",
       "      <th>month_lag</th>\n",
       "      <th>purchase_amount</th>\n",
       "      <th>purchase_date</th>\n",
       "      <th>category_2</th>\n",
       "      <th>state_id</th>\n",
       "      <th>subsector_id</th>\n",
       "    </tr>\n",
       "    <tr>\n",
       "      <th>card_id</th>\n",
       "      <th></th>\n",
       "      <th></th>\n",
       "      <th></th>\n",
       "      <th></th>\n",
       "      <th></th>\n",
       "      <th></th>\n",
       "      <th></th>\n",
       "      <th></th>\n",
       "      <th></th>\n",
       "      <th></th>\n",
       "      <th></th>\n",
       "      <th></th>\n",
       "      <th></th>\n",
       "    </tr>\n",
       "  </thead>\n",
       "  <tbody>\n",
       "    <tr>\n",
       "      <th>C_ID_4e6213e9bc</th>\n",
       "      <td>Y</td>\n",
       "      <td>88</td>\n",
       "      <td>N</td>\n",
       "      <td>0</td>\n",
       "      <td>A</td>\n",
       "      <td>80</td>\n",
       "      <td>M_ID_e020e9b302</td>\n",
       "      <td>-8</td>\n",
       "      <td>-0.703331</td>\n",
       "      <td>2017-06-25 15:33:07</td>\n",
       "      <td>1.0</td>\n",
       "      <td>16</td>\n",
       "      <td>37</td>\n",
       "    </tr>\n",
       "    <tr>\n",
       "      <th>C_ID_4e6213e9bc</th>\n",
       "      <td>Y</td>\n",
       "      <td>88</td>\n",
       "      <td>N</td>\n",
       "      <td>0</td>\n",
       "      <td>A</td>\n",
       "      <td>367</td>\n",
       "      <td>M_ID_86ec983688</td>\n",
       "      <td>-7</td>\n",
       "      <td>-0.733128</td>\n",
       "      <td>2017-07-15 12:10:45</td>\n",
       "      <td>1.0</td>\n",
       "      <td>16</td>\n",
       "      <td>16</td>\n",
       "    </tr>\n",
       "    <tr>\n",
       "      <th>C_ID_4e6213e9bc</th>\n",
       "      <td>Y</td>\n",
       "      <td>88</td>\n",
       "      <td>N</td>\n",
       "      <td>0</td>\n",
       "      <td>A</td>\n",
       "      <td>80</td>\n",
       "      <td>M_ID_979ed661fc</td>\n",
       "      <td>-6</td>\n",
       "      <td>-0.720386</td>\n",
       "      <td>2017-08-09 22:04:29</td>\n",
       "      <td>1.0</td>\n",
       "      <td>16</td>\n",
       "      <td>37</td>\n",
       "    </tr>\n",
       "    <tr>\n",
       "      <th>C_ID_4e6213e9bc</th>\n",
       "      <td>Y</td>\n",
       "      <td>88</td>\n",
       "      <td>N</td>\n",
       "      <td>0</td>\n",
       "      <td>A</td>\n",
       "      <td>560</td>\n",
       "      <td>M_ID_e6d5ae8ea6</td>\n",
       "      <td>-5</td>\n",
       "      <td>-0.735352</td>\n",
       "      <td>2017-09-02 10:06:26</td>\n",
       "      <td>1.0</td>\n",
       "      <td>16</td>\n",
       "      <td>34</td>\n",
       "    </tr>\n",
       "    <tr>\n",
       "      <th>C_ID_4e6213e9bc</th>\n",
       "      <td>Y</td>\n",
       "      <td>88</td>\n",
       "      <td>N</td>\n",
       "      <td>0</td>\n",
       "      <td>A</td>\n",
       "      <td>80</td>\n",
       "      <td>M_ID_e020e9b302</td>\n",
       "      <td>-11</td>\n",
       "      <td>-0.722865</td>\n",
       "      <td>2017-03-10 01:14:19</td>\n",
       "      <td>1.0</td>\n",
       "      <td>16</td>\n",
       "      <td>37</td>\n",
       "    </tr>\n",
       "  </tbody>\n",
       "</table>\n",
       "</div>"
      ],
      "text/plain": [
       "                authorized_flag  city_id category_1  installments category_3  \\\n",
       "card_id                                                                        \n",
       "C_ID_4e6213e9bc               Y       88          N             0          A   \n",
       "C_ID_4e6213e9bc               Y       88          N             0          A   \n",
       "C_ID_4e6213e9bc               Y       88          N             0          A   \n",
       "C_ID_4e6213e9bc               Y       88          N             0          A   \n",
       "C_ID_4e6213e9bc               Y       88          N             0          A   \n",
       "\n",
       "                 merchant_category_id      merchant_id  month_lag  \\\n",
       "card_id                                                             \n",
       "C_ID_4e6213e9bc                    80  M_ID_e020e9b302         -8   \n",
       "C_ID_4e6213e9bc                   367  M_ID_86ec983688         -7   \n",
       "C_ID_4e6213e9bc                    80  M_ID_979ed661fc         -6   \n",
       "C_ID_4e6213e9bc                   560  M_ID_e6d5ae8ea6         -5   \n",
       "C_ID_4e6213e9bc                    80  M_ID_e020e9b302        -11   \n",
       "\n",
       "                 purchase_amount        purchase_date  category_2  state_id  \\\n",
       "card_id                                                                       \n",
       "C_ID_4e6213e9bc        -0.703331  2017-06-25 15:33:07         1.0        16   \n",
       "C_ID_4e6213e9bc        -0.733128  2017-07-15 12:10:45         1.0        16   \n",
       "C_ID_4e6213e9bc        -0.720386  2017-08-09 22:04:29         1.0        16   \n",
       "C_ID_4e6213e9bc        -0.735352  2017-09-02 10:06:26         1.0        16   \n",
       "C_ID_4e6213e9bc        -0.722865  2017-03-10 01:14:19         1.0        16   \n",
       "\n",
       "                 subsector_id  \n",
       "card_id                        \n",
       "C_ID_4e6213e9bc            37  \n",
       "C_ID_4e6213e9bc            16  \n",
       "C_ID_4e6213e9bc            37  \n",
       "C_ID_4e6213e9bc            34  \n",
       "C_ID_4e6213e9bc            37  "
      ]
     },
     "execution_count": 27,
     "metadata": {},
     "output_type": "execute_result"
    }
   ],
   "source": [
    "df_hist_trans.set_index('card_id',inplace=True)\n",
    "df_hist_trans.head()"
   ]
  },
  {
   "cell_type": "markdown",
   "metadata": {
    "_uuid": "fe549905dbd62328f431a307b821ab494da8a0e4"
   },
   "source": [
    "Let's check what where value counts before"
   ]
  },
  {
   "cell_type": "code",
   "execution_count": 28,
   "metadata": {
    "_uuid": "b4d68db6bf4e2697eb1611820abef1c9d529b60d",
    "scrolled": true
   },
   "outputs": [
    {
     "data": {
      "text/plain": [
       " 1.0    15327456\n",
       " 3.0     3911795\n",
       " 5.0     3725915\n",
       " 4.0     2618053\n",
       "NaN      2502607\n",
       " 2.0     1026535\n",
       "Name: category_2, dtype: int64"
      ]
     },
     "execution_count": 28,
     "metadata": {},
     "output_type": "execute_result"
    }
   ],
   "source": [
    "df_hist_trans.category_2.value_counts(dropna=False)"
   ]
  },
  {
   "cell_type": "markdown",
   "metadata": {
    "_uuid": "6fef03476e2162b2b52056f6122a015948de2c25"
   },
   "source": [
    "Fill nan values according to given series by using fillna function"
   ]
  },
  {
   "cell_type": "code",
   "execution_count": 29,
   "metadata": {
    "_uuid": "e72255f63cacec29661a3a3d8305e2731256e538",
    "scrolled": true
   },
   "outputs": [],
   "source": [
    "df_hist_trans.category_2=df_hist_trans.category_2.fillna(category_2_count_max)"
   ]
  },
  {
   "cell_type": "markdown",
   "metadata": {
    "_uuid": "d92c7eb03d17d133c11ccf0f28e840a0a9f9d853"
   },
   "source": [
    "Finally, we get rid of all nan values for 'category_2' . Now, we can try same for 'category_3' and 'merchant_id'. Also, we need to do same for 'df_new_merchant_trans'. Finally, let's check if there is any nan values in category_2"
   ]
  },
  {
   "cell_type": "code",
   "execution_count": 30,
   "metadata": {
    "_uuid": "0fe58472be59b5b6de088db800c3b5e88a87b452",
    "scrolled": true
   },
   "outputs": [
    {
     "data": {
      "text/plain": [
       "1.0    16804879\n",
       "3.0     4289903\n",
       "5.0     4050578\n",
       "4.0     2793190\n",
       "2.0     1173811\n",
       "Name: category_2, dtype: int64"
      ]
     },
     "execution_count": 30,
     "metadata": {},
     "output_type": "execute_result"
    }
   ],
   "source": [
    "df_hist_trans.category_2.value_counts(dropna=False)"
   ]
  },
  {
   "cell_type": "markdown",
   "metadata": {
    "_uuid": "c29c30ab4cf68f7bb12c373c46950950dbdd8660"
   },
   "source": [
    "Let's do same for 'category_3'"
   ]
  },
  {
   "cell_type": "code",
   "execution_count": 31,
   "metadata": {
    "_uuid": "e7c6a9a8c5420d572b258be200b1951ca41f80c2",
    "scrolled": true
   },
   "outputs": [
    {
     "data": {
      "text/plain": [
       "A      15411747\n",
       "B      11677522\n",
       "C       1844933\n",
       "NaN      178159\n",
       "Name: category_3, dtype: int64"
      ]
     },
     "execution_count": 31,
     "metadata": {},
     "output_type": "execute_result"
    }
   ],
   "source": [
    "df_hist_trans.category_3.value_counts(dropna=False)"
   ]
  },
  {
   "cell_type": "markdown",
   "metadata": {
    "_uuid": "494dbbc775ac8ea7828ceaf29722f69dbf29edc2"
   },
   "source": [
    "Let's change 'A' , 'B', 'C' to numerical values in order to be able to use sum(min_counts=1) function"
   ]
  },
  {
   "cell_type": "code",
   "execution_count": 32,
   "metadata": {
    "_uuid": "3bb5216c063d192351cf8ed549900837516d2f3f"
   },
   "outputs": [],
   "source": [
    "d_cat3={'A':1,'B':2,'C':3}"
   ]
  },
  {
   "cell_type": "code",
   "execution_count": 33,
   "metadata": {
    "_uuid": "cedd8419b07dd529b9ae12da4469b4d5307265ba"
   },
   "outputs": [],
   "source": [
    "df_hist_trans.category_3=df_hist_trans.category_3.map(d_cat3)"
   ]
  },
  {
   "cell_type": "code",
   "execution_count": 34,
   "metadata": {
    "_uuid": "2f3e88b0a49d6975f5fbe3c75bc3818d2522b607"
   },
   "outputs": [
    {
     "data": {
      "text/html": [
       "<div>\n",
       "<style scoped>\n",
       "    .dataframe tbody tr th:only-of-type {\n",
       "        vertical-align: middle;\n",
       "    }\n",
       "\n",
       "    .dataframe tbody tr th {\n",
       "        vertical-align: top;\n",
       "    }\n",
       "\n",
       "    .dataframe thead th {\n",
       "        text-align: right;\n",
       "    }\n",
       "</style>\n",
       "<table border=\"1\" class=\"dataframe\">\n",
       "  <thead>\n",
       "    <tr style=\"text-align: right;\">\n",
       "      <th></th>\n",
       "      <th>authorized_flag</th>\n",
       "      <th>city_id</th>\n",
       "      <th>category_1</th>\n",
       "      <th>installments</th>\n",
       "      <th>category_3</th>\n",
       "      <th>merchant_category_id</th>\n",
       "      <th>merchant_id</th>\n",
       "      <th>month_lag</th>\n",
       "      <th>purchase_amount</th>\n",
       "      <th>purchase_date</th>\n",
       "      <th>category_2</th>\n",
       "      <th>state_id</th>\n",
       "      <th>subsector_id</th>\n",
       "    </tr>\n",
       "    <tr>\n",
       "      <th>card_id</th>\n",
       "      <th></th>\n",
       "      <th></th>\n",
       "      <th></th>\n",
       "      <th></th>\n",
       "      <th></th>\n",
       "      <th></th>\n",
       "      <th></th>\n",
       "      <th></th>\n",
       "      <th></th>\n",
       "      <th></th>\n",
       "      <th></th>\n",
       "      <th></th>\n",
       "      <th></th>\n",
       "    </tr>\n",
       "  </thead>\n",
       "  <tbody>\n",
       "    <tr>\n",
       "      <th>C_ID_4e6213e9bc</th>\n",
       "      <td>Y</td>\n",
       "      <td>88</td>\n",
       "      <td>N</td>\n",
       "      <td>0</td>\n",
       "      <td>1.0</td>\n",
       "      <td>80</td>\n",
       "      <td>M_ID_e020e9b302</td>\n",
       "      <td>-8</td>\n",
       "      <td>-0.703331</td>\n",
       "      <td>2017-06-25 15:33:07</td>\n",
       "      <td>1.0</td>\n",
       "      <td>16</td>\n",
       "      <td>37</td>\n",
       "    </tr>\n",
       "    <tr>\n",
       "      <th>C_ID_4e6213e9bc</th>\n",
       "      <td>Y</td>\n",
       "      <td>88</td>\n",
       "      <td>N</td>\n",
       "      <td>0</td>\n",
       "      <td>1.0</td>\n",
       "      <td>367</td>\n",
       "      <td>M_ID_86ec983688</td>\n",
       "      <td>-7</td>\n",
       "      <td>-0.733128</td>\n",
       "      <td>2017-07-15 12:10:45</td>\n",
       "      <td>1.0</td>\n",
       "      <td>16</td>\n",
       "      <td>16</td>\n",
       "    </tr>\n",
       "    <tr>\n",
       "      <th>C_ID_4e6213e9bc</th>\n",
       "      <td>Y</td>\n",
       "      <td>88</td>\n",
       "      <td>N</td>\n",
       "      <td>0</td>\n",
       "      <td>1.0</td>\n",
       "      <td>80</td>\n",
       "      <td>M_ID_979ed661fc</td>\n",
       "      <td>-6</td>\n",
       "      <td>-0.720386</td>\n",
       "      <td>2017-08-09 22:04:29</td>\n",
       "      <td>1.0</td>\n",
       "      <td>16</td>\n",
       "      <td>37</td>\n",
       "    </tr>\n",
       "    <tr>\n",
       "      <th>C_ID_4e6213e9bc</th>\n",
       "      <td>Y</td>\n",
       "      <td>88</td>\n",
       "      <td>N</td>\n",
       "      <td>0</td>\n",
       "      <td>1.0</td>\n",
       "      <td>560</td>\n",
       "      <td>M_ID_e6d5ae8ea6</td>\n",
       "      <td>-5</td>\n",
       "      <td>-0.735352</td>\n",
       "      <td>2017-09-02 10:06:26</td>\n",
       "      <td>1.0</td>\n",
       "      <td>16</td>\n",
       "      <td>34</td>\n",
       "    </tr>\n",
       "    <tr>\n",
       "      <th>C_ID_4e6213e9bc</th>\n",
       "      <td>Y</td>\n",
       "      <td>88</td>\n",
       "      <td>N</td>\n",
       "      <td>0</td>\n",
       "      <td>1.0</td>\n",
       "      <td>80</td>\n",
       "      <td>M_ID_e020e9b302</td>\n",
       "      <td>-11</td>\n",
       "      <td>-0.722865</td>\n",
       "      <td>2017-03-10 01:14:19</td>\n",
       "      <td>1.0</td>\n",
       "      <td>16</td>\n",
       "      <td>37</td>\n",
       "    </tr>\n",
       "  </tbody>\n",
       "</table>\n",
       "</div>"
      ],
      "text/plain": [
       "                authorized_flag  city_id category_1  installments  category_3  \\\n",
       "card_id                                                                         \n",
       "C_ID_4e6213e9bc               Y       88          N             0         1.0   \n",
       "C_ID_4e6213e9bc               Y       88          N             0         1.0   \n",
       "C_ID_4e6213e9bc               Y       88          N             0         1.0   \n",
       "C_ID_4e6213e9bc               Y       88          N             0         1.0   \n",
       "C_ID_4e6213e9bc               Y       88          N             0         1.0   \n",
       "\n",
       "                 merchant_category_id      merchant_id  month_lag  \\\n",
       "card_id                                                             \n",
       "C_ID_4e6213e9bc                    80  M_ID_e020e9b302         -8   \n",
       "C_ID_4e6213e9bc                   367  M_ID_86ec983688         -7   \n",
       "C_ID_4e6213e9bc                    80  M_ID_979ed661fc         -6   \n",
       "C_ID_4e6213e9bc                   560  M_ID_e6d5ae8ea6         -5   \n",
       "C_ID_4e6213e9bc                    80  M_ID_e020e9b302        -11   \n",
       "\n",
       "                 purchase_amount        purchase_date  category_2  state_id  \\\n",
       "card_id                                                                       \n",
       "C_ID_4e6213e9bc        -0.703331  2017-06-25 15:33:07         1.0        16   \n",
       "C_ID_4e6213e9bc        -0.733128  2017-07-15 12:10:45         1.0        16   \n",
       "C_ID_4e6213e9bc        -0.720386  2017-08-09 22:04:29         1.0        16   \n",
       "C_ID_4e6213e9bc        -0.735352  2017-09-02 10:06:26         1.0        16   \n",
       "C_ID_4e6213e9bc        -0.722865  2017-03-10 01:14:19         1.0        16   \n",
       "\n",
       "                 subsector_id  \n",
       "card_id                        \n",
       "C_ID_4e6213e9bc            37  \n",
       "C_ID_4e6213e9bc            16  \n",
       "C_ID_4e6213e9bc            37  \n",
       "C_ID_4e6213e9bc            34  \n",
       "C_ID_4e6213e9bc            37  "
      ]
     },
     "execution_count": 34,
     "metadata": {},
     "output_type": "execute_result"
    }
   ],
   "source": [
    "df_hist_trans.head()"
   ]
  },
  {
   "cell_type": "code",
   "execution_count": 39,
   "metadata": {},
   "outputs": [
    {
     "data": {
      "text/plain": [
       " 1.0    15411747\n",
       " 2.0    11677522\n",
       " 3.0     1844933\n",
       "NaN       178159\n",
       "Name: category_3, dtype: int64"
      ]
     },
     "execution_count": 39,
     "metadata": {},
     "output_type": "execute_result"
    }
   ],
   "source": [
    "df_hist_trans.category_3.value_counts(dropna=False)"
   ]
  },
  {
   "cell_type": "code",
   "execution_count": 40,
   "metadata": {
    "_uuid": "402934a2ac491065b853fdcbd3b6580ed29800bc"
   },
   "outputs": [],
   "source": [
    "group_cat3=df_hist_trans.groupby(['card_id']).category_3.sum(min_count=1)"
   ]
  },
  {
   "cell_type": "code",
   "execution_count": 41,
   "metadata": {},
   "outputs": [
    {
     "data": {
      "text/plain": [
       "0"
      ]
     },
     "execution_count": 41,
     "metadata": {},
     "output_type": "execute_result"
    }
   ],
   "source": [
    "group_cat3.isnull().sum()"
   ]
  },
  {
   "cell_type": "markdown",
   "metadata": {},
   "source": [
    "### This means that we don't have any card_id which have only NaN values in category_3. So we can jump to changing nan values in each card id."
   ]
  },
  {
   "cell_type": "code",
   "execution_count": 43,
   "metadata": {},
   "outputs": [
    {
     "data": {
      "text/plain": [
       "card_id\n",
       "C_ID_00007093c1    2.0\n",
       "C_ID_0001238066    2.0\n",
       "C_ID_0001506ef0    1.0\n",
       "C_ID_0001793786    1.0\n",
       "C_ID_000183fdda    2.0\n",
       "Name: authorized_flag, dtype: float64"
      ]
     },
     "execution_count": 43,
     "metadata": {},
     "output_type": "execute_result"
    }
   ],
   "source": [
    "df_hist_trans.reset_index(inplace=True)\n",
    "category_3_count=df_hist_trans.groupby(['card_id','category_3']).count()\n",
    "category_3_count=category_3_count.authorized_flag\n",
    "category_3_count_max=category_3_count.groupby(level=0).idxmax()\n",
    "category_3_count_max=category_3_count_max.apply(lambda x: x[1])\n",
    "category_3_count_max.head()\n"
   ]
  },
  {
   "cell_type": "markdown",
   "metadata": {},
   "source": [
    "### Let's check again what was before"
   ]
  },
  {
   "cell_type": "code",
   "execution_count": 46,
   "metadata": {},
   "outputs": [
    {
     "data": {
      "text/plain": [
       " 1.0    15411747\n",
       " 2.0    11677522\n",
       " 3.0     1844933\n",
       "NaN       178159\n",
       "Name: category_3, dtype: int64"
      ]
     },
     "execution_count": 46,
     "metadata": {},
     "output_type": "execute_result"
    }
   ],
   "source": [
    "df_hist_trans.set_index('card_id',inplace=True)\n",
    "df_hist_trans.category_3.value_counts(dropna=False)"
   ]
  },
  {
   "cell_type": "code",
   "execution_count": 47,
   "metadata": {},
   "outputs": [
    {
     "data": {
      "text/plain": [
       "1.0    15412531\n",
       "2.0    11833535\n",
       "3.0     1866295\n",
       "Name: category_3, dtype: int64"
      ]
     },
     "execution_count": 47,
     "metadata": {},
     "output_type": "execute_result"
    }
   ],
   "source": [
    "df_hist_trans.category_3=df_hist_trans.category_3.fillna(category_3_count_max)\n",
    "df_hist_trans.category_3.value_counts(dropna=False)"
   ]
  },
  {
   "cell_type": "code",
   "execution_count": 49,
   "metadata": {
    "scrolled": true
   },
   "outputs": [
    {
     "data": {
      "text/plain": [
       "A    15412531\n",
       "B    11833535\n",
       "C     1866295\n",
       "Name: category_3, dtype: int64"
      ]
     },
     "execution_count": 49,
     "metadata": {},
     "output_type": "execute_result"
    }
   ],
   "source": [
    "d_cat3_inv={1.0:\"A\",2.0:\"B\",3.0:\"C\"}\n",
    "df_hist_trans.category_3=df_hist_trans.category_3.map(d_cat3_inv)\n",
    "df_hist_trans.category_3.value_counts(dropna=False)"
   ]
  },
  {
   "cell_type": "markdown",
   "metadata": {},
   "source": [
    "### Now let's do it for merchant_id"
   ]
  },
  {
   "cell_type": "code",
   "execution_count": 52,
   "metadata": {
    "scrolled": true
   },
   "outputs": [
    {
     "data": {
      "text/plain": [
       "M_ID_00a6ca8a8a    1115097\n",
       "M_ID_e5374dabc0     428619\n",
       "M_ID_9139332ccc     361385\n",
       "M_ID_50f575c681     183894\n",
       "M_ID_fc7d7969c3     177040\n",
       "M_ID_5ba019a379     170935\n",
       "NaN                 138481\n",
       "M_ID_f86439cec0     110341\n",
       "M_ID_1f4773aa76     106476\n",
       "M_ID_86be58d7e0      97259\n",
       "M_ID_98b342c0e3      93394\n",
       "M_ID_d855771cd9      84377\n",
       "M_ID_6f274b9340      81072\n",
       "M_ID_cd2c0b07e9      80179\n",
       "M_ID_57df19bf28      76750\n",
       "M_ID_b9dcf28cb9      75487\n",
       "M_ID_b98db225f5      70384\n",
       "M_ID_445742726b      68499\n",
       "M_ID_2637773dd2      66836\n",
       "M_ID_82a30d9203      65853\n",
       "M_ID_3111c6df35      52427\n",
       "M_ID_940fb4498f      51522\n",
       "M_ID_c03b62d83d      50828\n",
       "M_ID_820c7b73c8      47404\n",
       "M_ID_b5b80addf5      45520\n",
       "M_ID_a9d91682ad      43922\n",
       "M_ID_7c5e93af2f      42122\n",
       "M_ID_48257bb851      41150\n",
       "M_ID_deb43ff012      40878\n",
       "M_ID_1ac6bbc867      39678\n",
       "                    ...   \n",
       "M_ID_4a3eb54617          1\n",
       "M_ID_e36de6668c          1\n",
       "M_ID_1e3cb7b679          1\n",
       "M_ID_9f21cd4358          1\n",
       "M_ID_a35e902d2a          1\n",
       "M_ID_148166b788          1\n",
       "M_ID_0d260abbc9          1\n",
       "M_ID_23c76404d6          1\n",
       "M_ID_3dc17f4837          1\n",
       "M_ID_c7a04061fa          1\n",
       "M_ID_a663220ff6          1\n",
       "M_ID_d7412555e7          1\n",
       "M_ID_eba31916c5          1\n",
       "M_ID_3fbc0555fe          1\n",
       "M_ID_5b8f48bba7          1\n",
       "M_ID_70b0b015a3          1\n",
       "M_ID_7bb74ea823          1\n",
       "M_ID_9aef06b086          1\n",
       "M_ID_1cb5c5e440          1\n",
       "M_ID_0cd9279bfc          1\n",
       "M_ID_1a496c3b14          1\n",
       "M_ID_c09ed07f88          1\n",
       "M_ID_d8cda8c5e2          1\n",
       "M_ID_204b55b05a          1\n",
       "M_ID_36117d731b          1\n",
       "M_ID_054d304bc0          1\n",
       "M_ID_03fcb016d8          1\n",
       "M_ID_7b980d66c9          1\n",
       "M_ID_1dfe8d3f7d          1\n",
       "M_ID_ed7fdf30dc          1\n",
       "Name: merchant_id, Length: 326312, dtype: int64"
      ]
     },
     "execution_count": 52,
     "metadata": {},
     "output_type": "execute_result"
    }
   ],
   "source": [
    "#df_hist_trans.set_index('card_id',inplace=True)\n",
    "df_hist_trans.merchant_id.value_counts(dropna=False)"
   ]
  },
  {
   "cell_type": "code",
   "execution_count": 53,
   "metadata": {
    "scrolled": true
   },
   "outputs": [
    {
     "data": {
      "text/plain": [
       "card_id\n",
       "C_ID_00007093c1    M_ID_9400cf2342\n",
       "C_ID_0001238066    M_ID_d17aabd756\n",
       "C_ID_0001506ef0    M_ID_b1fc88154d\n",
       "C_ID_0001793786    M_ID_923d57de8d\n",
       "C_ID_000183fdda    M_ID_f9cfe0a43b\n",
       "Name: authorized_flag, dtype: object"
      ]
     },
     "execution_count": 53,
     "metadata": {},
     "output_type": "execute_result"
    }
   ],
   "source": [
    "df_hist_trans.reset_index(inplace=True)\n",
    "merchant_id_count=df_hist_trans.groupby(['card_id','merchant_id']).count()\n",
    "merchant_id_count=merchant_id_count.authorized_flag\n",
    "merchant_id_count_max=merchant_id_count.groupby(level=0).idxmax()\n",
    "merchant_id_count_max=merchant_id_count_max.apply(lambda x: x[1])\n",
    "merchant_id_count_max.head()"
   ]
  },
  {
   "cell_type": "markdown",
   "metadata": {},
   "source": [
    "### Let's check again what was before"
   ]
  },
  {
   "cell_type": "code",
   "execution_count": 57,
   "metadata": {},
   "outputs": [
    {
     "data": {
      "text/plain": [
       "M_ID_00a6ca8a8a    1115097\n",
       "M_ID_e5374dabc0     428619\n",
       "M_ID_9139332ccc     361385\n",
       "M_ID_50f575c681     183894\n",
       "M_ID_fc7d7969c3     177040\n",
       "M_ID_5ba019a379     170935\n",
       "NaN                 138481\n",
       "M_ID_f86439cec0     110341\n",
       "M_ID_1f4773aa76     106476\n",
       "M_ID_86be58d7e0      97259\n",
       "M_ID_98b342c0e3      93394\n",
       "M_ID_d855771cd9      84377\n",
       "M_ID_6f274b9340      81072\n",
       "M_ID_cd2c0b07e9      80179\n",
       "M_ID_57df19bf28      76750\n",
       "M_ID_b9dcf28cb9      75487\n",
       "M_ID_b98db225f5      70384\n",
       "M_ID_445742726b      68499\n",
       "M_ID_2637773dd2      66836\n",
       "M_ID_82a30d9203      65853\n",
       "Name: merchant_id, dtype: int64"
      ]
     },
     "execution_count": 57,
     "metadata": {},
     "output_type": "execute_result"
    }
   ],
   "source": [
    "#df_hist_trans.set_index('card_id',inplace=True)\n",
    "df_hist_trans.merchant_id.value_counts(dropna=False).head(20)"
   ]
  },
  {
   "cell_type": "code",
   "execution_count": 58,
   "metadata": {},
   "outputs": [
    {
     "data": {
      "text/plain": [
       "M_ID_00a6ca8a8a    1130790\n",
       "M_ID_e5374dabc0     433318\n",
       "M_ID_9139332ccc     364256\n",
       "M_ID_50f575c681     185941\n",
       "M_ID_fc7d7969c3     177967\n",
       "M_ID_5ba019a379     172820\n",
       "M_ID_f86439cec0     111084\n",
       "M_ID_1f4773aa76     107345\n",
       "M_ID_86be58d7e0      97777\n",
       "M_ID_98b342c0e3      93921\n",
       "M_ID_d855771cd9      84803\n",
       "M_ID_6f274b9340      81459\n",
       "M_ID_cd2c0b07e9      80533\n",
       "M_ID_57df19bf28      77167\n",
       "M_ID_b9dcf28cb9      75924\n",
       "M_ID_b98db225f5      70925\n",
       "M_ID_445742726b      69060\n",
       "M_ID_2637773dd2      67082\n",
       "M_ID_82a30d9203      66401\n",
       "M_ID_3111c6df35      52711\n",
       "M_ID_940fb4498f      51769\n",
       "M_ID_c03b62d83d      50983\n",
       "M_ID_820c7b73c8      47562\n",
       "M_ID_b5b80addf5      45818\n",
       "M_ID_a9d91682ad      43944\n",
       "M_ID_7c5e93af2f      42320\n",
       "M_ID_48257bb851      41534\n",
       "M_ID_deb43ff012      41275\n",
       "M_ID_1ac6bbc867      40025\n",
       "M_ID_8fadd601d2      38162\n",
       "                    ...   \n",
       "M_ID_fb46da37ca          1\n",
       "M_ID_285a07bf71          1\n",
       "M_ID_a8ba40d149          1\n",
       "M_ID_02b6bccf69          1\n",
       "M_ID_d5da63a4d3          1\n",
       "M_ID_c399e77c9c          1\n",
       "M_ID_e76eac3686          1\n",
       "M_ID_96d3b5bc54          1\n",
       "M_ID_3366f525d2          1\n",
       "M_ID_4df220f9d2          1\n",
       "M_ID_148a4cba6a          1\n",
       "M_ID_b6316aa141          1\n",
       "M_ID_c1e908943e          1\n",
       "M_ID_1e2e9b3e8f          1\n",
       "M_ID_beebb91828          1\n",
       "M_ID_1e934a17cc          1\n",
       "M_ID_b2a4f8726e          1\n",
       "M_ID_d3e093ffdc          1\n",
       "M_ID_7c2193f18b          1\n",
       "M_ID_b361bfe8c9          1\n",
       "M_ID_9a8ced9fa4          1\n",
       "M_ID_6d5bb10440          1\n",
       "M_ID_519d54b3cc          1\n",
       "M_ID_5ca1d99a69          1\n",
       "M_ID_ad3bd778ad          1\n",
       "M_ID_fb7f36afbe          1\n",
       "M_ID_88795ab04c          1\n",
       "M_ID_d5bb3886f4          1\n",
       "M_ID_08fc22be54          1\n",
       "M_ID_2897e82fe5          1\n",
       "Name: merchant_id, Length: 326311, dtype: int64"
      ]
     },
     "execution_count": 58,
     "metadata": {},
     "output_type": "execute_result"
    }
   ],
   "source": [
    "df_hist_trans.merchant_id=df_hist_trans.merchant_id.fillna(merchant_id_count_max)\n",
    "df_hist_trans.merchant_id.value_counts(dropna=False)"
   ]
  },
  {
   "cell_type": "markdown",
   "metadata": {},
   "source": [
    "### Finally, let's check if any nan values left"
   ]
  },
  {
   "cell_type": "code",
   "execution_count": 60,
   "metadata": {
    "scrolled": false
   },
   "outputs": [
    {
     "data": {
      "text/plain": [
       "authorized_flag         False\n",
       "city_id                 False\n",
       "category_1              False\n",
       "installments            False\n",
       "category_3              False\n",
       "merchant_category_id    False\n",
       "merchant_id             False\n",
       "month_lag               False\n",
       "purchase_amount         False\n",
       "purchase_date           False\n",
       "category_2              False\n",
       "state_id                False\n",
       "subsector_id            False\n",
       "dtype: bool"
      ]
     },
     "execution_count": 60,
     "metadata": {},
     "output_type": "execute_result"
    }
   ],
   "source": [
    "df_hist_trans.isnull().any()"
   ]
  },
  {
   "cell_type": "code",
   "execution_count": 62,
   "metadata": {},
   "outputs": [],
   "source": [
    "df_hist_trans.to_csv('C:/Users/user/Documents/Salamat/ELO/historical_transactions_new.csv')"
   ]
  },
  {
   "cell_type": "code",
   "execution_count": 82,
   "metadata": {},
   "outputs": [
    {
     "data": {
      "text/html": [
       "<div>\n",
       "<style scoped>\n",
       "    .dataframe tbody tr th:only-of-type {\n",
       "        vertical-align: middle;\n",
       "    }\n",
       "\n",
       "    .dataframe tbody tr th {\n",
       "        vertical-align: top;\n",
       "    }\n",
       "\n",
       "    .dataframe thead th {\n",
       "        text-align: right;\n",
       "    }\n",
       "</style>\n",
       "<table border=\"1\" class=\"dataframe\">\n",
       "  <thead>\n",
       "    <tr style=\"text-align: right;\">\n",
       "      <th></th>\n",
       "      <th>authorized_flag</th>\n",
       "      <th>card_id</th>\n",
       "      <th>city_id</th>\n",
       "      <th>category_1</th>\n",
       "      <th>installments</th>\n",
       "      <th>category_3</th>\n",
       "      <th>merchant_category_id</th>\n",
       "      <th>merchant_id</th>\n",
       "      <th>month_lag</th>\n",
       "      <th>purchase_amount</th>\n",
       "      <th>purchase_date</th>\n",
       "      <th>category_2</th>\n",
       "      <th>state_id</th>\n",
       "      <th>subsector_id</th>\n",
       "    </tr>\n",
       "  </thead>\n",
       "  <tbody>\n",
       "    <tr>\n",
       "      <th>0</th>\n",
       "      <td>Y</td>\n",
       "      <td>C_ID_415bb3a509</td>\n",
       "      <td>107</td>\n",
       "      <td>N</td>\n",
       "      <td>1</td>\n",
       "      <td>B</td>\n",
       "      <td>307</td>\n",
       "      <td>M_ID_b0c793002c</td>\n",
       "      <td>1</td>\n",
       "      <td>-0.557617</td>\n",
       "      <td>2018-03-11 14:57:36</td>\n",
       "      <td>1.0</td>\n",
       "      <td>9</td>\n",
       "      <td>19</td>\n",
       "    </tr>\n",
       "    <tr>\n",
       "      <th>1</th>\n",
       "      <td>Y</td>\n",
       "      <td>C_ID_415bb3a509</td>\n",
       "      <td>140</td>\n",
       "      <td>N</td>\n",
       "      <td>1</td>\n",
       "      <td>B</td>\n",
       "      <td>307</td>\n",
       "      <td>M_ID_88920c89e8</td>\n",
       "      <td>1</td>\n",
       "      <td>-0.569336</td>\n",
       "      <td>2018-03-19 18:53:37</td>\n",
       "      <td>1.0</td>\n",
       "      <td>9</td>\n",
       "      <td>19</td>\n",
       "    </tr>\n",
       "    <tr>\n",
       "      <th>2</th>\n",
       "      <td>Y</td>\n",
       "      <td>C_ID_415bb3a509</td>\n",
       "      <td>330</td>\n",
       "      <td>N</td>\n",
       "      <td>1</td>\n",
       "      <td>B</td>\n",
       "      <td>507</td>\n",
       "      <td>M_ID_ad5237ef6b</td>\n",
       "      <td>2</td>\n",
       "      <td>-0.551270</td>\n",
       "      <td>2018-04-26 14:08:44</td>\n",
       "      <td>1.0</td>\n",
       "      <td>9</td>\n",
       "      <td>14</td>\n",
       "    </tr>\n",
       "    <tr>\n",
       "      <th>3</th>\n",
       "      <td>Y</td>\n",
       "      <td>C_ID_415bb3a509</td>\n",
       "      <td>-1</td>\n",
       "      <td>Y</td>\n",
       "      <td>1</td>\n",
       "      <td>B</td>\n",
       "      <td>661</td>\n",
       "      <td>M_ID_9e84cda3b1</td>\n",
       "      <td>1</td>\n",
       "      <td>-0.671875</td>\n",
       "      <td>2018-03-07 09:43:21</td>\n",
       "      <td>NaN</td>\n",
       "      <td>-1</td>\n",
       "      <td>8</td>\n",
       "    </tr>\n",
       "    <tr>\n",
       "      <th>4</th>\n",
       "      <td>Y</td>\n",
       "      <td>C_ID_ef55cf8d4b</td>\n",
       "      <td>-1</td>\n",
       "      <td>Y</td>\n",
       "      <td>1</td>\n",
       "      <td>B</td>\n",
       "      <td>166</td>\n",
       "      <td>M_ID_3c86fa3831</td>\n",
       "      <td>1</td>\n",
       "      <td>-0.659668</td>\n",
       "      <td>2018-03-22 21:07:53</td>\n",
       "      <td>NaN</td>\n",
       "      <td>-1</td>\n",
       "      <td>29</td>\n",
       "    </tr>\n",
       "  </tbody>\n",
       "</table>\n",
       "</div>"
      ],
      "text/plain": [
       "  authorized_flag          card_id  city_id category_1  installments  \\\n",
       "0               Y  C_ID_415bb3a509      107          N             1   \n",
       "1               Y  C_ID_415bb3a509      140          N             1   \n",
       "2               Y  C_ID_415bb3a509      330          N             1   \n",
       "3               Y  C_ID_415bb3a509       -1          Y             1   \n",
       "4               Y  C_ID_ef55cf8d4b       -1          Y             1   \n",
       "\n",
       "  category_3  merchant_category_id      merchant_id  month_lag  \\\n",
       "0          B                   307  M_ID_b0c793002c          1   \n",
       "1          B                   307  M_ID_88920c89e8          1   \n",
       "2          B                   507  M_ID_ad5237ef6b          2   \n",
       "3          B                   661  M_ID_9e84cda3b1          1   \n",
       "4          B                   166  M_ID_3c86fa3831          1   \n",
       "\n",
       "   purchase_amount        purchase_date  category_2  state_id  subsector_id  \n",
       "0        -0.557617  2018-03-11 14:57:36         1.0         9            19  \n",
       "1        -0.569336  2018-03-19 18:53:37         1.0         9            19  \n",
       "2        -0.551270  2018-04-26 14:08:44         1.0         9            14  \n",
       "3        -0.671875  2018-03-07 09:43:21         NaN        -1             8  \n",
       "4        -0.659668  2018-03-22 21:07:53         NaN        -1            29  "
      ]
     },
     "execution_count": 82,
     "metadata": {},
     "output_type": "execute_result"
    }
   ],
   "source": [
    "df_new_merchant_trans.head()"
   ]
  },
  {
   "cell_type": "code",
   "execution_count": null,
   "metadata": {},
   "outputs": [],
   "source": []
  },
  {
   "cell_type": "code",
   "execution_count": null,
   "metadata": {},
   "outputs": [],
   "source": []
  },
  {
   "cell_type": "code",
   "execution_count": null,
   "metadata": {},
   "outputs": [],
   "source": []
  },
  {
   "cell_type": "code",
   "execution_count": null,
   "metadata": {},
   "outputs": [],
   "source": []
  },
  {
   "cell_type": "code",
   "execution_count": null,
   "metadata": {},
   "outputs": [],
   "source": []
  },
  {
   "cell_type": "code",
   "execution_count": 67,
   "metadata": {},
   "outputs": [
    {
     "data": {
      "text/html": [
       "<div>\n",
       "<style scoped>\n",
       "    .dataframe tbody tr th:only-of-type {\n",
       "        vertical-align: middle;\n",
       "    }\n",
       "\n",
       "    .dataframe tbody tr th {\n",
       "        vertical-align: top;\n",
       "    }\n",
       "\n",
       "    .dataframe thead th {\n",
       "        text-align: right;\n",
       "    }\n",
       "</style>\n",
       "<table border=\"1\" class=\"dataframe\">\n",
       "  <thead>\n",
       "    <tr style=\"text-align: right;\">\n",
       "      <th></th>\n",
       "      <th>card_id</th>\n",
       "      <th>authorized_flag</th>\n",
       "      <th>city_id</th>\n",
       "      <th>category_1</th>\n",
       "      <th>installments</th>\n",
       "      <th>category_3</th>\n",
       "      <th>merchant_category_id</th>\n",
       "      <th>merchant_id</th>\n",
       "      <th>month_lag</th>\n",
       "      <th>purchase_amount</th>\n",
       "      <th>...</th>\n",
       "      <th>subsector_id</th>\n",
       "      <th>year</th>\n",
       "      <th>weekofyear</th>\n",
       "      <th>month</th>\n",
       "      <th>dayofweek</th>\n",
       "      <th>weekend</th>\n",
       "      <th>hour</th>\n",
       "      <th>month_diff</th>\n",
       "      <th>category_2_mean</th>\n",
       "      <th>category_3_mean</th>\n",
       "    </tr>\n",
       "  </thead>\n",
       "  <tbody>\n",
       "    <tr>\n",
       "      <th>0</th>\n",
       "      <td>C_ID_4e6213e9bc</td>\n",
       "      <td>1</td>\n",
       "      <td>88</td>\n",
       "      <td>0</td>\n",
       "      <td>0</td>\n",
       "      <td>A</td>\n",
       "      <td>80</td>\n",
       "      <td>M_ID_e020e9b302</td>\n",
       "      <td>-8</td>\n",
       "      <td>-0.703331</td>\n",
       "      <td>...</td>\n",
       "      <td>37</td>\n",
       "      <td>2017</td>\n",
       "      <td>25</td>\n",
       "      <td>6</td>\n",
       "      <td>6</td>\n",
       "      <td>1</td>\n",
       "      <td>15</td>\n",
       "      <td>9</td>\n",
       "      <td>0.102469</td>\n",
       "      <td>0.361929</td>\n",
       "    </tr>\n",
       "    <tr>\n",
       "      <th>1</th>\n",
       "      <td>C_ID_4e6213e9bc</td>\n",
       "      <td>1</td>\n",
       "      <td>88</td>\n",
       "      <td>0</td>\n",
       "      <td>0</td>\n",
       "      <td>A</td>\n",
       "      <td>367</td>\n",
       "      <td>M_ID_86ec983688</td>\n",
       "      <td>-7</td>\n",
       "      <td>-0.733128</td>\n",
       "      <td>...</td>\n",
       "      <td>16</td>\n",
       "      <td>2017</td>\n",
       "      <td>28</td>\n",
       "      <td>7</td>\n",
       "      <td>5</td>\n",
       "      <td>1</td>\n",
       "      <td>12</td>\n",
       "      <td>10</td>\n",
       "      <td>0.102469</td>\n",
       "      <td>0.361929</td>\n",
       "    </tr>\n",
       "    <tr>\n",
       "      <th>2</th>\n",
       "      <td>C_ID_4e6213e9bc</td>\n",
       "      <td>1</td>\n",
       "      <td>88</td>\n",
       "      <td>0</td>\n",
       "      <td>0</td>\n",
       "      <td>A</td>\n",
       "      <td>80</td>\n",
       "      <td>M_ID_979ed661fc</td>\n",
       "      <td>-6</td>\n",
       "      <td>-0.720386</td>\n",
       "      <td>...</td>\n",
       "      <td>37</td>\n",
       "      <td>2017</td>\n",
       "      <td>32</td>\n",
       "      <td>8</td>\n",
       "      <td>2</td>\n",
       "      <td>0</td>\n",
       "      <td>22</td>\n",
       "      <td>10</td>\n",
       "      <td>0.102469</td>\n",
       "      <td>0.361929</td>\n",
       "    </tr>\n",
       "    <tr>\n",
       "      <th>3</th>\n",
       "      <td>C_ID_4e6213e9bc</td>\n",
       "      <td>1</td>\n",
       "      <td>88</td>\n",
       "      <td>0</td>\n",
       "      <td>0</td>\n",
       "      <td>A</td>\n",
       "      <td>560</td>\n",
       "      <td>M_ID_e6d5ae8ea6</td>\n",
       "      <td>-5</td>\n",
       "      <td>-0.735352</td>\n",
       "      <td>...</td>\n",
       "      <td>34</td>\n",
       "      <td>2017</td>\n",
       "      <td>35</td>\n",
       "      <td>9</td>\n",
       "      <td>5</td>\n",
       "      <td>1</td>\n",
       "      <td>10</td>\n",
       "      <td>10</td>\n",
       "      <td>0.102469</td>\n",
       "      <td>0.361929</td>\n",
       "    </tr>\n",
       "    <tr>\n",
       "      <th>4</th>\n",
       "      <td>C_ID_4e6213e9bc</td>\n",
       "      <td>1</td>\n",
       "      <td>88</td>\n",
       "      <td>0</td>\n",
       "      <td>0</td>\n",
       "      <td>A</td>\n",
       "      <td>80</td>\n",
       "      <td>M_ID_e020e9b302</td>\n",
       "      <td>-11</td>\n",
       "      <td>-0.722865</td>\n",
       "      <td>...</td>\n",
       "      <td>37</td>\n",
       "      <td>2017</td>\n",
       "      <td>10</td>\n",
       "      <td>3</td>\n",
       "      <td>4</td>\n",
       "      <td>0</td>\n",
       "      <td>1</td>\n",
       "      <td>10</td>\n",
       "      <td>0.102469</td>\n",
       "      <td>0.361929</td>\n",
       "    </tr>\n",
       "  </tbody>\n",
       "</table>\n",
       "<p>5 rows × 23 columns</p>\n",
       "</div>"
      ],
      "text/plain": [
       "           card_id  authorized_flag  city_id  category_1  installments  \\\n",
       "0  C_ID_4e6213e9bc                1       88           0             0   \n",
       "1  C_ID_4e6213e9bc                1       88           0             0   \n",
       "2  C_ID_4e6213e9bc                1       88           0             0   \n",
       "3  C_ID_4e6213e9bc                1       88           0             0   \n",
       "4  C_ID_4e6213e9bc                1       88           0             0   \n",
       "\n",
       "  category_3  merchant_category_id      merchant_id  month_lag  \\\n",
       "0          A                    80  M_ID_e020e9b302         -8   \n",
       "1          A                   367  M_ID_86ec983688         -7   \n",
       "2          A                    80  M_ID_979ed661fc         -6   \n",
       "3          A                   560  M_ID_e6d5ae8ea6         -5   \n",
       "4          A                    80  M_ID_e020e9b302        -11   \n",
       "\n",
       "   purchase_amount       ...        subsector_id  year  weekofyear  month  \\\n",
       "0        -0.703331       ...                  37  2017          25      6   \n",
       "1        -0.733128       ...                  16  2017          28      7   \n",
       "2        -0.720386       ...                  37  2017          32      8   \n",
       "3        -0.735352       ...                  34  2017          35      9   \n",
       "4        -0.722865       ...                  37  2017          10      3   \n",
       "\n",
       "   dayofweek  weekend  hour  month_diff  category_2_mean  category_3_mean  \n",
       "0          6        1    15           9         0.102469         0.361929  \n",
       "1          5        1    12          10         0.102469         0.361929  \n",
       "2          2        0    22          10         0.102469         0.361929  \n",
       "3          5        1    10          10         0.102469         0.361929  \n",
       "4          4        0     1          10         0.102469         0.361929  \n",
       "\n",
       "[5 rows x 23 columns]"
      ]
     },
     "execution_count": 67,
     "metadata": {},
     "output_type": "execute_result"
    }
   ],
   "source": [
    "df_hist_trans.reset_index(inplace=True)\n",
    "df_hist_trans.head()"
   ]
  },
  {
   "cell_type": "markdown",
   "metadata": {
    "_uuid": "32b978fa6be99599dc456364101e218ff0c6e202"
   },
   "source": [
    "Salamat :Changed NaN values in merchant ID to most frequent merchant. Might not be good idea since it is generalizing. So, we can make it unique to each card id most frequent merchant maybe ...\n",
    "Same goes for category_3"
   ]
  },
  {
   "cell_type": "markdown",
   "metadata": {
    "_uuid": "71f89a3b8a93b2f2feb2cd0a45f860cde33687be"
   },
   "source": [
    "I will skip this part since I did it myself."
   ]
  },
  {
   "cell_type": "code",
   "execution_count": null,
   "metadata": {},
   "outputs": [],
   "source": [
    "#for df in [df_hist_trans,df_new_merchant_trans]:\n",
    "#    df['category_2'].fillna(1.0,inplace=True)\n",
    "#    df['category_3'].fillna('A',inplace=True)\n",
    "#    df['merchant_id'].fillna('M_ID_00a6ca8a8a',inplace=True)"
   ]
  },
  {
   "cell_type": "code",
   "execution_count": 63,
   "metadata": {
    "_uuid": "dda90662d05e22310dd713df106ea07f4b8bccfc"
   },
   "outputs": [],
   "source": [
    "def get_new_columns(name,aggs):\n",
    "    return [name + '_' + k + '_' + agg for k in aggs.keys() for agg in aggs[k]]"
   ]
  },
  {
   "cell_type": "markdown",
   "metadata": {
    "_uuid": "6ce81345de5cf46eb239fc2ec035142d952c64f1"
   },
   "source": [
    "I we can take weekofyear,day of week, weekend as extra parameter which I didn't. I am not sure if month diff is correct. Still confused about this issue"
   ]
  },
  {
   "cell_type": "code",
   "execution_count": 64,
   "metadata": {
    "_uuid": "690ba01a38f524e9345b419200f588f937bc067a"
   },
   "outputs": [],
   "source": [
    "for df in [df_hist_trans,df_new_merchant_trans]:\n",
    "    df['purchase_date'] = pd.to_datetime(df['purchase_date'])\n",
    "    df['year'] = df['purchase_date'].dt.year\n",
    "    df['weekofyear'] = df['purchase_date'].dt.weekofyear\n",
    "    df['month'] = df['purchase_date'].dt.month\n",
    "    df['dayofweek'] = df['purchase_date'].dt.dayofweek\n",
    "    df['weekend'] = (df.purchase_date.dt.weekday >=5).astype(int)\n",
    "    df['hour'] = df['purchase_date'].dt.hour\n",
    "    df['authorized_flag'] = df['authorized_flag'].map({'Y':1, 'N':0})\n",
    "    df['category_1'] = df['category_1'].map({'Y':1, 'N':0}) \n",
    "    #https://www.kaggle.com/c/elo-merchant-category-recommendation/discussion/73244\n",
    "    df['month_diff'] = ((datetime.datetime.today() - df['purchase_date']).dt.days)//30\n",
    "    df['month_diff'] += df['month_lag']"
   ]
  },
  {
   "cell_type": "code",
   "execution_count": 68,
   "metadata": {
    "_uuid": "ddf1d5bb0ade2b22b0f072c208c1506ea64503ea"
   },
   "outputs": [
    {
     "data": {
      "text/plain": [
       "2009"
      ]
     },
     "execution_count": 68,
     "metadata": {},
     "output_type": "execute_result"
    }
   ],
   "source": [
    "aggs = {}\n",
    "for col in ['month','hour','weekofyear','dayofweek','year','subsector_id','merchant_id','merchant_category_id']:\n",
    "    aggs[col] = ['nunique']\n",
    "\n",
    "aggs['purchase_amount'] = ['sum','max','min','mean','var']\n",
    "aggs['installments'] = ['sum','max','min','mean','var']\n",
    "aggs['purchase_date'] = ['max','min']\n",
    "aggs['month_lag'] = ['max','min','mean','var']\n",
    "aggs['month_diff'] = ['mean']\n",
    "aggs['authorized_flag'] = ['sum', 'mean']\n",
    "aggs['weekend'] = ['sum', 'mean']\n",
    "aggs['category_1'] = ['sum', 'mean']\n",
    "aggs['card_id'] = ['size']\n",
    "\n",
    "for col in ['category_2','category_3']:\n",
    "    df_hist_trans[col+'_mean'] = df_hist_trans.groupby([col])['purchase_amount'].transform('mean')\n",
    "    aggs[col+'_mean'] = ['mean']    \n",
    "\n",
    "new_columns = get_new_columns('hist',aggs)\n",
    "df_hist_trans_group = df_hist_trans.groupby('card_id').agg(aggs)\n",
    "df_hist_trans_group.columns = new_columns\n",
    "df_hist_trans_group.reset_index(drop=False,inplace=True)\n",
    "df_hist_trans_group['hist_purchase_date_diff'] = (df_hist_trans_group['hist_purchase_date_max'] - df_hist_trans_group['hist_purchase_date_min']).dt.days\n",
    "df_hist_trans_group['hist_purchase_date_average'] = df_hist_trans_group['hist_purchase_date_diff']/df_hist_trans_group['hist_card_id_size']\n",
    "df_hist_trans_group['hist_purchase_date_uptonow'] = (datetime.datetime.today() - df_hist_trans_group['hist_purchase_date_max']).dt.days\n",
    "df_train = df_train.merge(df_hist_trans_group,on='card_id',how='left')\n",
    "df_test = df_test.merge(df_hist_trans_group,on='card_id',how='left')\n",
    "del df_hist_trans_group;gc.collect()"
   ]
  },
  {
   "cell_type": "code",
   "execution_count": 69,
   "metadata": {
    "_uuid": "f7f5625db40db4395374991124fb796c9decd60b"
   },
   "outputs": [
    {
     "data": {
      "text/plain": [
       "77"
      ]
     },
     "execution_count": 69,
     "metadata": {},
     "output_type": "execute_result"
    }
   ],
   "source": [
    "aggs = {}\n",
    "for col in ['month','hour','weekofyear','dayofweek','year','subsector_id','merchant_id','merchant_category_id']:\n",
    "    aggs[col] = ['nunique']\n",
    "aggs['purchase_amount'] = ['sum','max','min','mean','var']\n",
    "aggs['installments'] = ['sum','max','min','mean','var']\n",
    "aggs['purchase_date'] = ['max','min']\n",
    "aggs['month_lag'] = ['max','min','mean','var']\n",
    "aggs['month_diff'] = ['mean']\n",
    "aggs['weekend'] = ['sum', 'mean']\n",
    "aggs['category_1'] = ['sum', 'mean']\n",
    "aggs['card_id'] = ['size']\n",
    "\n",
    "for col in ['category_2','category_3']:\n",
    "    df_new_merchant_trans[col+'_mean'] = df_new_merchant_trans.groupby([col])['purchase_amount'].transform('mean')\n",
    "    aggs[col+'_mean'] = ['mean']\n",
    "    \n",
    "new_columns = get_new_columns('new_hist',aggs)\n",
    "df_hist_trans_group = df_new_merchant_trans.groupby('card_id').agg(aggs)\n",
    "df_hist_trans_group.columns = new_columns\n",
    "df_hist_trans_group.reset_index(drop=False,inplace=True)\n",
    "df_hist_trans_group['new_hist_purchase_date_diff'] = (df_hist_trans_group['new_hist_purchase_date_max'] - df_hist_trans_group['new_hist_purchase_date_min']).dt.days\n",
    "df_hist_trans_group['new_hist_purchase_date_average'] = df_hist_trans_group['new_hist_purchase_date_diff']/df_hist_trans_group['new_hist_card_id_size']\n",
    "df_hist_trans_group['new_hist_purchase_date_uptonow'] = (datetime.datetime.today() - df_hist_trans_group['new_hist_purchase_date_max']).dt.days\n",
    "df_train = df_train.merge(df_hist_trans_group,on='card_id',how='left')\n",
    "df_test = df_test.merge(df_hist_trans_group,on='card_id',how='left')\n",
    "del df_hist_trans_group;gc.collect()"
   ]
  },
  {
   "cell_type": "code",
   "execution_count": 70,
   "metadata": {
    "_uuid": "a075cc90ab1322829e4fad3ff39fce307c5db93c"
   },
   "outputs": [
    {
     "data": {
      "text/html": [
       "<div>\n",
       "<style scoped>\n",
       "    .dataframe tbody tr th:only-of-type {\n",
       "        vertical-align: middle;\n",
       "    }\n",
       "\n",
       "    .dataframe tbody tr th {\n",
       "        vertical-align: top;\n",
       "    }\n",
       "\n",
       "    .dataframe thead th {\n",
       "        text-align: right;\n",
       "    }\n",
       "</style>\n",
       "<table border=\"1\" class=\"dataframe\">\n",
       "  <thead>\n",
       "    <tr style=\"text-align: right;\">\n",
       "      <th></th>\n",
       "      <th>first_active_month</th>\n",
       "      <th>card_id</th>\n",
       "      <th>feature_1</th>\n",
       "      <th>feature_2</th>\n",
       "      <th>feature_3</th>\n",
       "      <th>target</th>\n",
       "      <th>hist_month_nunique</th>\n",
       "      <th>hist_hour_nunique</th>\n",
       "      <th>hist_weekofyear_nunique</th>\n",
       "      <th>hist_dayofweek_nunique</th>\n",
       "      <th>...</th>\n",
       "      <th>new_hist_weekend_sum</th>\n",
       "      <th>new_hist_weekend_mean</th>\n",
       "      <th>new_hist_category_1_sum</th>\n",
       "      <th>new_hist_category_1_mean</th>\n",
       "      <th>new_hist_card_id_size</th>\n",
       "      <th>new_hist_category_2_mean_mean</th>\n",
       "      <th>new_hist_category_3_mean_mean</th>\n",
       "      <th>new_hist_purchase_date_diff</th>\n",
       "      <th>new_hist_purchase_date_average</th>\n",
       "      <th>new_hist_purchase_date_uptonow</th>\n",
       "    </tr>\n",
       "  </thead>\n",
       "  <tbody>\n",
       "    <tr>\n",
       "      <th>0</th>\n",
       "      <td>2017-06</td>\n",
       "      <td>C_ID_92a2005557</td>\n",
       "      <td>5</td>\n",
       "      <td>2</td>\n",
       "      <td>1</td>\n",
       "      <td>-0.820312</td>\n",
       "      <td>9</td>\n",
       "      <td>23</td>\n",
       "      <td>35</td>\n",
       "      <td>7</td>\n",
       "      <td>...</td>\n",
       "      <td>6.0</td>\n",
       "      <td>0.260870</td>\n",
       "      <td>0.0</td>\n",
       "      <td>0.000000</td>\n",
       "      <td>23.0</td>\n",
       "      <td>-0.569336</td>\n",
       "      <td>-0.630859</td>\n",
       "      <td>54.0</td>\n",
       "      <td>2.347826</td>\n",
       "      <td>226.0</td>\n",
       "    </tr>\n",
       "    <tr>\n",
       "      <th>1</th>\n",
       "      <td>2017-01</td>\n",
       "      <td>C_ID_3d0044924f</td>\n",
       "      <td>4</td>\n",
       "      <td>1</td>\n",
       "      <td>0</td>\n",
       "      <td>0.392822</td>\n",
       "      <td>12</td>\n",
       "      <td>24</td>\n",
       "      <td>50</td>\n",
       "      <td>7</td>\n",
       "      <td>...</td>\n",
       "      <td>0.0</td>\n",
       "      <td>0.000000</td>\n",
       "      <td>0.0</td>\n",
       "      <td>0.000000</td>\n",
       "      <td>6.0</td>\n",
       "      <td>-0.569336</td>\n",
       "      <td>-0.606445</td>\n",
       "      <td>56.0</td>\n",
       "      <td>9.333333</td>\n",
       "      <td>256.0</td>\n",
       "    </tr>\n",
       "    <tr>\n",
       "      <th>2</th>\n",
       "      <td>2016-08</td>\n",
       "      <td>C_ID_d639edf6cd</td>\n",
       "      <td>2</td>\n",
       "      <td>2</td>\n",
       "      <td>0</td>\n",
       "      <td>0.687988</td>\n",
       "      <td>10</td>\n",
       "      <td>14</td>\n",
       "      <td>22</td>\n",
       "      <td>7</td>\n",
       "      <td>...</td>\n",
       "      <td>1.0</td>\n",
       "      <td>1.000000</td>\n",
       "      <td>0.0</td>\n",
       "      <td>0.000000</td>\n",
       "      <td>1.0</td>\n",
       "      <td>-0.548828</td>\n",
       "      <td>-0.630859</td>\n",
       "      <td>0.0</td>\n",
       "      <td>0.000000</td>\n",
       "      <td>227.0</td>\n",
       "    </tr>\n",
       "    <tr>\n",
       "      <th>3</th>\n",
       "      <td>2017-09</td>\n",
       "      <td>C_ID_186d6a6901</td>\n",
       "      <td>4</td>\n",
       "      <td>3</td>\n",
       "      <td>0</td>\n",
       "      <td>0.142456</td>\n",
       "      <td>6</td>\n",
       "      <td>16</td>\n",
       "      <td>20</td>\n",
       "      <td>7</td>\n",
       "      <td>...</td>\n",
       "      <td>3.0</td>\n",
       "      <td>0.428571</td>\n",
       "      <td>1.0</td>\n",
       "      <td>0.142857</td>\n",
       "      <td>7.0</td>\n",
       "      <td>-0.557617</td>\n",
       "      <td>-0.606445</td>\n",
       "      <td>41.0</td>\n",
       "      <td>5.857143</td>\n",
       "      <td>237.0</td>\n",
       "    </tr>\n",
       "    <tr>\n",
       "      <th>4</th>\n",
       "      <td>2017-11</td>\n",
       "      <td>C_ID_cdbd2c0db2</td>\n",
       "      <td>1</td>\n",
       "      <td>3</td>\n",
       "      <td>0</td>\n",
       "      <td>-0.159790</td>\n",
       "      <td>4</td>\n",
       "      <td>22</td>\n",
       "      <td>17</td>\n",
       "      <td>7</td>\n",
       "      <td>...</td>\n",
       "      <td>12.0</td>\n",
       "      <td>0.333333</td>\n",
       "      <td>2.0</td>\n",
       "      <td>0.055556</td>\n",
       "      <td>36.0</td>\n",
       "      <td>-0.557129</td>\n",
       "      <td>-0.587891</td>\n",
       "      <td>57.0</td>\n",
       "      <td>1.583333</td>\n",
       "      <td>226.0</td>\n",
       "    </tr>\n",
       "  </tbody>\n",
       "</table>\n",
       "<p>5 rows × 78 columns</p>\n",
       "</div>"
      ],
      "text/plain": [
       "  first_active_month          card_id  feature_1  feature_2  feature_3  \\\n",
       "0            2017-06  C_ID_92a2005557          5          2          1   \n",
       "1            2017-01  C_ID_3d0044924f          4          1          0   \n",
       "2            2016-08  C_ID_d639edf6cd          2          2          0   \n",
       "3            2017-09  C_ID_186d6a6901          4          3          0   \n",
       "4            2017-11  C_ID_cdbd2c0db2          1          3          0   \n",
       "\n",
       "     target  hist_month_nunique  hist_hour_nunique  hist_weekofyear_nunique  \\\n",
       "0 -0.820312                   9                 23                       35   \n",
       "1  0.392822                  12                 24                       50   \n",
       "2  0.687988                  10                 14                       22   \n",
       "3  0.142456                   6                 16                       20   \n",
       "4 -0.159790                   4                 22                       17   \n",
       "\n",
       "   hist_dayofweek_nunique               ...                \\\n",
       "0                       7               ...                 \n",
       "1                       7               ...                 \n",
       "2                       7               ...                 \n",
       "3                       7               ...                 \n",
       "4                       7               ...                 \n",
       "\n",
       "   new_hist_weekend_sum  new_hist_weekend_mean  new_hist_category_1_sum  \\\n",
       "0                   6.0               0.260870                      0.0   \n",
       "1                   0.0               0.000000                      0.0   \n",
       "2                   1.0               1.000000                      0.0   \n",
       "3                   3.0               0.428571                      1.0   \n",
       "4                  12.0               0.333333                      2.0   \n",
       "\n",
       "   new_hist_category_1_mean  new_hist_card_id_size  \\\n",
       "0                  0.000000                   23.0   \n",
       "1                  0.000000                    6.0   \n",
       "2                  0.000000                    1.0   \n",
       "3                  0.142857                    7.0   \n",
       "4                  0.055556                   36.0   \n",
       "\n",
       "   new_hist_category_2_mean_mean  new_hist_category_3_mean_mean  \\\n",
       "0                      -0.569336                      -0.630859   \n",
       "1                      -0.569336                      -0.606445   \n",
       "2                      -0.548828                      -0.630859   \n",
       "3                      -0.557617                      -0.606445   \n",
       "4                      -0.557129                      -0.587891   \n",
       "\n",
       "   new_hist_purchase_date_diff  new_hist_purchase_date_average  \\\n",
       "0                         54.0                        2.347826   \n",
       "1                         56.0                        9.333333   \n",
       "2                          0.0                        0.000000   \n",
       "3                         41.0                        5.857143   \n",
       "4                         57.0                        1.583333   \n",
       "\n",
       "   new_hist_purchase_date_uptonow  \n",
       "0                           226.0  \n",
       "1                           256.0  \n",
       "2                           227.0  \n",
       "3                           237.0  \n",
       "4                           226.0  \n",
       "\n",
       "[5 rows x 78 columns]"
      ]
     },
     "execution_count": 70,
     "metadata": {},
     "output_type": "execute_result"
    }
   ],
   "source": [
    "del df_hist_trans;gc.collect()\n",
    "del df_new_merchant_trans;gc.collect()\n",
    "df_train.head(5)"
   ]
  },
  {
   "cell_type": "code",
   "execution_count": 71,
   "metadata": {
    "_uuid": "6f3182aeac0c3bf7a061a1b9e25e859f25fee9b5"
   },
   "outputs": [
    {
     "data": {
      "text/plain": [
       "0    199710\n",
       "1      2207\n",
       "Name: outliers, dtype: int64"
      ]
     },
     "execution_count": 71,
     "metadata": {},
     "output_type": "execute_result"
    }
   ],
   "source": [
    "df_train['outliers'] = 0\n",
    "df_train.loc[df_train['target'] < -30, 'outliers'] = 1\n",
    "df_train['outliers'].value_counts()"
   ]
  },
  {
   "cell_type": "code",
   "execution_count": 74,
   "metadata": {
    "_uuid": "ce2082fc1fb0e3f8f7d27fc166aa7a8351b65504"
   },
   "outputs": [],
   "source": [
    "for df in [df_train,df_test]:\n",
    "    df['first_active_month'] = pd.to_datetime(df['first_active_month'])\n",
    "    df['dayofweek'] = df['first_active_month'].dt.dayofweek\n",
    "    df['weekofyear'] = df['first_active_month'].dt.weekofyear\n",
    "    df['month'] = df['first_active_month'].dt.month\n",
    "    df['elapsed_time'] = (datetime.datetime.today() - df['first_active_month']).dt.days\n",
    "    df['hist_first_buy'] = (df['hist_purchase_date_min'] - df['first_active_month']).dt.days\n",
    "    df['new_hist_first_buy'] = (df['new_hist_purchase_date_min'] - df['first_active_month']).dt.days\n",
    "    for f in ['hist_purchase_date_max','hist_purchase_date_min','new_hist_purchase_date_max',\\\n",
    "                     'new_hist_purchase_date_min']:\n",
    "        df[f] = df[f].astype(np.int64) * 1e-9\n",
    "    df['card_id_total'] = df['new_hist_card_id_size']+df['hist_card_id_size']\n",
    "    df['purchase_amount_total'] = df['new_hist_purchase_amount_sum']+df['hist_purchase_amount_sum']\n",
    "\n",
    "for f in ['feature_1','feature_2','feature_3']:\n",
    "    order_label = df_train.groupby([f])['outliers'].mean()\n",
    "    df_train[f] = df_train[f].map(order_label)\n",
    "    df_test[f] = df_test[f].map(order_label)\n"
   ]
  },
  {
   "cell_type": "code",
   "execution_count": 75,
   "metadata": {
    "_uuid": "c4f20f27679889542acfd60d1f1ac381b201ac43"
   },
   "outputs": [],
   "source": [
    "df_train_columns = [c for c in df_train.columns if c not in ['card_id', 'first_active_month','target','outliers']]\n",
    "target = df_train['target']\n",
    "del df_train['target']"
   ]
  },
  {
   "cell_type": "code",
   "execution_count": 76,
   "metadata": {
    "_uuid": "c9bbc95244978b519d94131907b547c2b6c94191"
   },
   "outputs": [
    {
     "name": "stdout",
     "output_type": "stream",
     "text": [
      "fold 0\n",
      "Training until validation scores don't improve for 100 rounds.\n",
      "[100]\ttraining's rmse: 3.66433\tvalid_1's rmse: 3.73398\n",
      "[200]\ttraining's rmse: 3.58673\tvalid_1's rmse: 3.70262\n",
      "[300]\ttraining's rmse: 3.53905\tvalid_1's rmse: 3.69011\n",
      "[400]\ttraining's rmse: 3.50334\tvalid_1's rmse: 3.68325\n",
      "[500]\ttraining's rmse: 3.47262\tvalid_1's rmse: 3.678\n",
      "[600]\ttraining's rmse: 3.44685\tvalid_1's rmse: 3.67436\n",
      "[700]\ttraining's rmse: 3.42542\tvalid_1's rmse: 3.6724\n",
      "[800]\ttraining's rmse: 3.40503\tvalid_1's rmse: 3.67071\n",
      "[900]\ttraining's rmse: 3.38691\tvalid_1's rmse: 3.66983\n",
      "[1000]\ttraining's rmse: 3.37103\tvalid_1's rmse: 3.66957\n",
      "[1100]\ttraining's rmse: 3.35439\tvalid_1's rmse: 3.66911\n",
      "Early stopping, best iteration is:\n",
      "[1085]\ttraining's rmse: 3.35656\tvalid_1's rmse: 3.66902\n",
      "fold 1\n",
      "Training until validation scores don't improve for 100 rounds.\n",
      "[100]\ttraining's rmse: 3.6732\tvalid_1's rmse: 3.70212\n",
      "[200]\ttraining's rmse: 3.59805\tvalid_1's rmse: 3.66634\n",
      "[300]\ttraining's rmse: 3.55163\tvalid_1's rmse: 3.65263\n",
      "[400]\ttraining's rmse: 3.51564\tvalid_1's rmse: 3.64432\n",
      "[500]\ttraining's rmse: 3.48685\tvalid_1's rmse: 3.63887\n",
      "[600]\ttraining's rmse: 3.46182\tvalid_1's rmse: 3.63544\n",
      "[700]\ttraining's rmse: 3.44103\tvalid_1's rmse: 3.63327\n",
      "[800]\ttraining's rmse: 3.41999\tvalid_1's rmse: 3.63184\n",
      "[900]\ttraining's rmse: 3.40067\tvalid_1's rmse: 3.63061\n",
      "[1000]\ttraining's rmse: 3.38366\tvalid_1's rmse: 3.62951\n",
      "[1100]\ttraining's rmse: 3.36766\tvalid_1's rmse: 3.62899\n",
      "[1200]\ttraining's rmse: 3.35222\tvalid_1's rmse: 3.62883\n",
      "[1300]\ttraining's rmse: 3.33781\tvalid_1's rmse: 3.62874\n",
      "Early stopping, best iteration is:\n",
      "[1290]\ttraining's rmse: 3.33923\tvalid_1's rmse: 3.62864\n",
      "fold 2\n",
      "Training until validation scores don't improve for 100 rounds.\n",
      "[100]\ttraining's rmse: 3.66458\tvalid_1's rmse: 3.7216\n",
      "[200]\ttraining's rmse: 3.58772\tvalid_1's rmse: 3.69312\n",
      "[300]\ttraining's rmse: 3.53948\tvalid_1's rmse: 3.68162\n",
      "[400]\ttraining's rmse: 3.50281\tvalid_1's rmse: 3.67488\n",
      "[500]\ttraining's rmse: 3.47448\tvalid_1's rmse: 3.67069\n",
      "[600]\ttraining's rmse: 3.44921\tvalid_1's rmse: 3.66828\n",
      "[700]\ttraining's rmse: 3.42641\tvalid_1's rmse: 3.66722\n",
      "[800]\ttraining's rmse: 3.40483\tvalid_1's rmse: 3.66654\n",
      "[900]\ttraining's rmse: 3.38452\tvalid_1's rmse: 3.66608\n",
      "[1000]\ttraining's rmse: 3.36661\tvalid_1's rmse: 3.66583\n",
      "[1100]\ttraining's rmse: 3.3493\tvalid_1's rmse: 3.66487\n",
      "[1200]\ttraining's rmse: 3.33301\tvalid_1's rmse: 3.66463\n",
      "[1300]\ttraining's rmse: 3.31835\tvalid_1's rmse: 3.6641\n",
      "Early stopping, best iteration is:\n",
      "[1293]\ttraining's rmse: 3.31916\tvalid_1's rmse: 3.664\n",
      "fold 3\n",
      "Training until validation scores don't improve for 100 rounds.\n",
      "[100]\ttraining's rmse: 3.66765\tvalid_1's rmse: 3.71421\n",
      "[200]\ttraining's rmse: 3.58956\tvalid_1's rmse: 3.68328\n",
      "[300]\ttraining's rmse: 3.54208\tvalid_1's rmse: 3.6697\n",
      "[400]\ttraining's rmse: 3.50681\tvalid_1's rmse: 3.66322\n",
      "[500]\ttraining's rmse: 3.47828\tvalid_1's rmse: 3.65946\n",
      "[600]\ttraining's rmse: 3.45298\tvalid_1's rmse: 3.6571\n",
      "[700]\ttraining's rmse: 3.42962\tvalid_1's rmse: 3.65502\n",
      "[800]\ttraining's rmse: 3.40817\tvalid_1's rmse: 3.65406\n",
      "[900]\ttraining's rmse: 3.38985\tvalid_1's rmse: 3.65352\n",
      "[1000]\ttraining's rmse: 3.3723\tvalid_1's rmse: 3.65323\n",
      "[1100]\ttraining's rmse: 3.35643\tvalid_1's rmse: 3.6529\n",
      "[1200]\ttraining's rmse: 3.34035\tvalid_1's rmse: 3.65315\n",
      "Early stopping, best iteration is:\n",
      "[1164]\ttraining's rmse: 3.34637\tvalid_1's rmse: 3.65278\n",
      "fold 4\n",
      "Training until validation scores don't improve for 100 rounds.\n",
      "[100]\ttraining's rmse: 3.66642\tvalid_1's rmse: 3.71086\n",
      "[200]\ttraining's rmse: 3.58883\tvalid_1's rmse: 3.68414\n",
      "[300]\ttraining's rmse: 3.54222\tvalid_1's rmse: 3.67239\n",
      "[400]\ttraining's rmse: 3.50578\tvalid_1's rmse: 3.66607\n",
      "[500]\ttraining's rmse: 3.47555\tvalid_1's rmse: 3.66237\n",
      "[600]\ttraining's rmse: 3.44887\tvalid_1's rmse: 3.65994\n",
      "[700]\ttraining's rmse: 3.42592\tvalid_1's rmse: 3.65809\n",
      "[800]\ttraining's rmse: 3.40548\tvalid_1's rmse: 3.65741\n",
      "[900]\ttraining's rmse: 3.38733\tvalid_1's rmse: 3.65693\n",
      "[1000]\ttraining's rmse: 3.3703\tvalid_1's rmse: 3.65611\n",
      "[1100]\ttraining's rmse: 3.35357\tvalid_1's rmse: 3.65593\n",
      "[1200]\ttraining's rmse: 3.33789\tvalid_1's rmse: 3.6552\n",
      "[1300]\ttraining's rmse: 3.32216\tvalid_1's rmse: 3.655\n",
      "[1400]\ttraining's rmse: 3.30662\tvalid_1's rmse: 3.65502\n",
      "Early stopping, best iteration is:\n",
      "[1306]\ttraining's rmse: 3.32126\tvalid_1's rmse: 3.65477\n"
     ]
    },
    {
     "data": {
      "text/plain": [
       "3.6538689065386607"
      ]
     },
     "execution_count": 76,
     "metadata": {},
     "output_type": "execute_result"
    }
   ],
   "source": [
    "param = {'num_leaves': 31,\n",
    "         'min_data_in_leaf': 30, \n",
    "         'objective':'regression',\n",
    "         'max_depth': -1,\n",
    "         'learning_rate': 0.01,\n",
    "         \"min_child_samples\": 20,\n",
    "         \"boosting\": \"gbdt\",\n",
    "         \"feature_fraction\": 0.9,\n",
    "         \"bagging_freq\": 1,\n",
    "         \"bagging_fraction\": 0.9 ,\n",
    "         \"bagging_seed\": 11,\n",
    "         \"metric\": 'rmse',\n",
    "         \"lambda_l1\": 0.1,\n",
    "         \"verbosity\": -1,\n",
    "         \"nthread\": 4,\n",
    "         \"random_state\": 4590}\n",
    "folds = StratifiedKFold(n_splits=5, shuffle=True, random_state=4590)\n",
    "oof = np.zeros(len(df_train))\n",
    "predictions = np.zeros(len(df_test))\n",
    "feature_importance_df = pd.DataFrame()\n",
    "\n",
    "for fold_, (trn_idx, val_idx) in enumerate(folds.split(df_train,df_train['outliers'].values)):\n",
    "    print(\"fold {}\".format(fold_))\n",
    "    trn_data = lgb.Dataset(df_train.iloc[trn_idx][df_train_columns], label=target.iloc[trn_idx])#, categorical_feature=categorical_feats)\n",
    "    val_data = lgb.Dataset(df_train.iloc[val_idx][df_train_columns], label=target.iloc[val_idx])#, categorical_feature=categorical_feats)\n",
    "\n",
    "    num_round = 10000\n",
    "    clf = lgb.train(param, trn_data, num_round, valid_sets = [trn_data, val_data], verbose_eval=100, early_stopping_rounds = 100)\n",
    "    oof[val_idx] = clf.predict(df_train.iloc[val_idx][df_train_columns], num_iteration=clf.best_iteration)\n",
    "    \n",
    "    fold_importance_df = pd.DataFrame()\n",
    "    fold_importance_df[\"Feature\"] = df_train_columns\n",
    "    fold_importance_df[\"importance\"] = clf.feature_importance()\n",
    "    fold_importance_df[\"fold\"] = fold_ + 1\n",
    "    feature_importance_df = pd.concat([feature_importance_df, fold_importance_df], axis=0)\n",
    "    \n",
    "    predictions += clf.predict(df_test[df_train_columns], num_iteration=clf.best_iteration) / folds.n_splits\n",
    "\n",
    "np.sqrt(mean_squared_error(oof, target))"
   ]
  },
  {
   "cell_type": "code",
   "execution_count": 77,
   "metadata": {
    "_uuid": "40b64481054fa71e692829c7039eccceb31b77fe"
   },
   "outputs": [
    {
     "data": {
      "image/png": "[encoded data removed]",
      "text/plain": [
       "<matplotlib.figure.Figure at 0x1d21a9c40b8>"
      ]
     },
     "metadata": {},
     "output_type": "display_data"
    }
   ],
   "source": [
    "cols = (feature_importance_df[[\"Feature\", \"importance\"]]\n",
    "        .groupby(\"Feature\")\n",
    "        .mean()\n",
    "        .sort_values(by=\"importance\", ascending=False)[:1000].index)\n",
    "\n",
    "best_features = feature_importance_df.loc[feature_importance_df.Feature.isin(cols)]\n",
    "\n",
    "plt.figure(figsize=(14,25))\n",
    "sns.barplot(x=\"importance\",\n",
    "            y=\"Feature\",\n",
    "            data=best_features.sort_values(by=\"importance\",\n",
    "                                           ascending=False))\n",
    "plt.title('LightGBM Features (avg over folds)')\n",
    "plt.tight_layout()\n",
    "plt.savefig('lgbm_importances_feature_eng.png')"
   ]
  },
  {
   "cell_type": "code",
   "execution_count": 78,
   "metadata": {
    "_uuid": "355e9c24949b8e5d677fe5a2f117228c3310dab6"
   },
   "outputs": [],
   "source": [
    "sub_df = pd.DataFrame({\"card_id\":df_test[\"card_id\"].values})\n",
    "sub_df[\"target\"] = predictions\n",
    "sub_df.to_csv(\"chau_feature_engineering_2.csv\", index=False)"
   ]
  },
  {
   "cell_type": "markdown",
   "metadata": {
    "_uuid": "58c9a5445698e42dfbd9548695290487a2ce171a"
   },
   "source": [
    "**To be continued ...**"
   ]
  }
 ],
 "metadata": {
  "kernelspec": {
   "display_name": "Python 3",
   "language": "python",
   "name": "python3"
  },
  "language_info": {
   "codemirror_mode": {
    "name": "ipython",
    "version": 3
   },
   "file_extension": ".py",
   "mimetype": "text/x-python",
   "name": "python",
   "nbconvert_exporter": "python",
   "pygments_lexer": "ipython3",
   "version": "3.6.4"
  }
 },
 "nbformat": 4,
 "nbformat_minor": 1
}
