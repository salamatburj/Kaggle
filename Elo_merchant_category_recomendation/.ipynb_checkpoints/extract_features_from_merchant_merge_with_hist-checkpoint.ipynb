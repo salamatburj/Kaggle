{
 "cells": [
  {
   "cell_type": "code",
   "execution_count": null,
   "metadata": {
    "_cell_guid": "b1076dfc-b9ad-4769-8c92-a6c4dae69d19",
    "_uuid": "8f2839f25d086af736a60e9eeb907d3b93b6e0e5"
   },
   "outputs": [],
   "source": [
    "import numpy as np\n",
    "import pandas as pd\n",
    "import datetime\n",
    "import gc\n",
    "import matplotlib.pyplot as plt\n",
    "import seaborn as sns\n",
    "import lightgbm as lgb\n",
    "from sklearn.model_selection import StratifiedKFold\n",
    "from sklearn.metrics import mean_squared_error\n",
    "import warnings\n",
    "import time\n",
    "warnings.filterwarnings('ignore')\n",
    "np.random.seed(4950)"
   ]
  },
  {
   "cell_type": "code",
   "execution_count": null,
   "metadata": {
    "_cell_guid": "79c7e3d0-c299-4dcb-8224-4455121ee9b0",
    "_uuid": "d629ff2d2480ee46fbb7e2d37f6b5fab8052498a"
   },
   "outputs": [],
   "source": [
    "def reduce_mem_usage(df, verbose=True):\n",
    "    numerics = ['int16', 'int32', 'int64', 'float16', 'float32', 'float64']\n",
    "    start_mem = df.memory_usage().sum() / 1024**2    \n",
    "    for col in df.columns:\n",
    "        col_type = df[col].dtypes\n",
    "        if col_type in numerics:\n",
    "            c_min = df[col].min()\n",
    "            c_max = df[col].max()\n",
    "            if str(col_type)[:3] == 'int':\n",
    "                if c_min > np.iinfo(np.int8).min and c_max < np.iinfo(np.int8).max:\n",
    "                    df[col] = df[col].astype(np.int8)\n",
    "                elif c_min > np.iinfo(np.int16).min and c_max < np.iinfo(np.int16).max:\n",
    "                    df[col] = df[col].astype(np.int16)\n",
    "                elif c_min > np.iinfo(np.int32).min and c_max < np.iinfo(np.int32).max:\n",
    "                    df[col] = df[col].astype(np.int32)\n",
    "                elif c_min > np.iinfo(np.int64).min and c_max < np.iinfo(np.int64).max:\n",
    "                    df[col] = df[col].astype(np.int64)  \n",
    "            else:\n",
    "                if c_min > np.finfo(np.float16).min and c_max < np.finfo(np.float16).max:\n",
    "                    df[col] = df[col].astype(np.float16)\n",
    "                elif c_min > np.finfo(np.float32).min and c_max < np.finfo(np.float32).max:\n",
    "                    df[col] = df[col].astype(np.float32)\n",
    "                else:\n",
    "                    df[col] = df[col].astype(np.float64)    \n",
    "    end_mem = df.memory_usage().sum() / 1024**2\n",
    "    if verbose: print('Mem. usage decreased to {:5.2f} Mb ({:.1f}% reduction)'.format(end_mem, 100 * (start_mem - end_mem) / start_mem))\n",
    "    return df"
   ]
  },
  {
   "cell_type": "code",
   "execution_count": null,
   "metadata": {
    "_uuid": "3306cf9d2b8d289276f71bb0a76be43ef477c78a"
   },
   "outputs": [],
   "source": [
    "import os\n",
    "os.listdir('../input')"
   ]
  },
  {
   "cell_type": "code",
   "execution_count": null,
   "metadata": {
    "_uuid": "37697e30027e2718e2a94ed68a99abd418220641"
   },
   "outputs": [],
   "source": [
    "df_merchant = pd.read_csv('../input/merchants.csv')\n",
    "df_hist_trans = pd.read_csv('../input/historical_transactions.csv',usecols = ['card_id','merchant_id','purchase_amount'])\n",
    "# df_new_merchant_trans = pd.read_csv('../input/elo-merchant-category-recommendation/new_merchant_transactions.csv')"
   ]
  },
  {
   "cell_type": "code",
   "execution_count": null,
   "metadata": {
    "_uuid": "af65b96cf57713f400bac8fd1dfb2b699f111d44"
   },
   "outputs": [],
   "source": [
    "df_hist_trans = reduce_mem_usage(df_hist_trans)\n",
    "df_merchant = reduce_mem_usage(df_merchant)"
   ]
  },
  {
   "cell_type": "code",
   "execution_count": null,
   "metadata": {
    "_uuid": "ee62f66c67697d6b90adc8f162696a9a21133ecc"
   },
   "outputs": [],
   "source": [
    "df_merchant.head()"
   ]
  },
  {
   "cell_type": "code",
   "execution_count": null,
   "metadata": {
    "_uuid": "b44f2390fc19dbe782675c9812ef1da1efb404e2"
   },
   "outputs": [],
   "source": [
    "df_hist_trans = df_hist_trans.merge(df_merchant, on = 'merchant_id', how = 'left')"
   ]
  },
  {
   "cell_type": "code",
   "execution_count": null,
   "metadata": {
    "_uuid": "b1b2714661b442427f11a3182f8e64c5e0962e1c"
   },
   "outputs": [],
   "source": [
    "df_hist_trans.head()"
   ]
  },
  {
   "cell_type": "code",
   "execution_count": null,
   "metadata": {
    "_uuid": "ba654d9a21aee5599e25da9103cd3cae1716277b"
   },
   "outputs": [],
   "source": [
    "def get_new_columns(name,aggs):\n",
    "    #for for 写法 nice\n",
    "    return [name + '_' + k + '_' + agg for k in aggs.keys() for agg in aggs[k]]"
   ]
  },
  {
   "cell_type": "code",
   "execution_count": null,
   "metadata": {
    "_uuid": "3990eead7293743aaf11ef50ca78adc31a4cf305"
   },
   "outputs": [],
   "source": [
    "del df_hist_trans['merchant_id']"
   ]
  },
  {
   "cell_type": "code",
   "execution_count": null,
   "metadata": {
    "_uuid": "0fc5049410252e72c9e2d4ec5ad7bb0ad233c997"
   },
   "outputs": [],
   "source": [
    "for df in [df_hist_trans]:\n",
    "    aggs = {}\n",
    "    for col in ['most_recent_sales_range','most_recent_purchases_range','category_1','category_2','category_4',\n",
    "                'subsector_id','merchant_category_id', 'state_id','city_id','merchant_group_id']:\n",
    "        aggs[col] = ['nunique']\n",
    "    for col in ['numerical_1','numerical_2']:\n",
    "        aggs[col] =  ['sum','max','min','mean','var','median']\n",
    "    for col in ['avg_sales_lag3','avg_purchases_lag3','active_months_lag3','avg_sales_lag6','avg_purchases_lag6',\n",
    "               'active_months_lag6','avg_sales_lag12','avg_purchases_lag12','active_months_lag12']:\n",
    "        aggs[col] = ['sum', 'mean']\n",
    "#     features = ['category_2','category_3','state_id','subsector_id','merchant_category_id','city_id'\n",
    "#                ,'merchant_id']\n",
    "#     for col in features:\n",
    "#         df[col+'_mean'] = df.groupby([col])['purchase_amount'].transform('mean')\n",
    "#         df[col+'_sum'] = df.groupby([col])['purchase_amount'].transform('sum') \n",
    "#         aggs[col+'_mean'] = ['mean']\n",
    "#         aggs[col+'_sum'] = ['sum'] \n",
    "    prefix = 'merchant_merge_hist'\n",
    "    new_columns = get_new_columns(prefix,aggs)\n",
    "    df_hist_trans_group = df.groupby('card_id').agg(aggs)\n",
    "    df_hist_trans_group.columns = new_columns\n",
    "    df_hist_trans_group.reset_index(drop=False,inplace=True)\n",
    "    del df\n",
    "    gc.collect()\n",
    "    time.sleep(5)"
   ]
  },
  {
   "cell_type": "code",
   "execution_count": null,
   "metadata": {
    "_uuid": "c376eb452935dd6bc4e0cc7c8181688059cad030"
   },
   "outputs": [],
   "source": [
    "print(len(df_hist_trans_group.columns))"
   ]
  },
  {
   "cell_type": "code",
   "execution_count": null,
   "metadata": {
    "_uuid": "e89b205aa6c31802dc4464c2d2c1fa206242799a"
   },
   "outputs": [],
   "source": [
    "df_hist_trans_group.head()"
   ]
  },
  {
   "cell_type": "code",
   "execution_count": null,
   "metadata": {
    "_uuid": "d1212bf8ed59d4ef8ad63d2d2d0d711d9fbaa341"
   },
   "outputs": [],
   "source": [
    "df_hist_trans_group.to_pickle('merchant_merge_hist_features.pickle')"
   ]
  }
 ],
 "metadata": {
  "kernelspec": {
   "display_name": "Python 3",
   "language": "python",
   "name": "python3"
  },
  "language_info": {
   "codemirror_mode": {
    "name": "ipython",
    "version": 3
   },
   "file_extension": ".py",
   "mimetype": "text/x-python",
   "name": "python",
   "nbconvert_exporter": "python",
   "pygments_lexer": "ipython3",
   "version": "3.6.4"
  }
 },
 "nbformat": 4,
 "nbformat_minor": 1
}
