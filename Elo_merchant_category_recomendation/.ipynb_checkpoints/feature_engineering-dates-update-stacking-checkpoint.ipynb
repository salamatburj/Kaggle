{
 "cells": [
  {
   "cell_type": "markdown",
   "metadata": {
    "_uuid": "6df55b542f152882e00385a0f73198f4e3bc4316"
   },
   "source": [
    "Changing feature enginering"
   ]
  },
  {
   "cell_type": "code",
   "execution_count": 2,
   "metadata": {},
   "outputs": [
    {
     "name": "stdout",
     "output_type": "stream",
     "text": [
      "Once deleted, variables cannot be recovered. Proceed (y/[n])? n\n",
      "Nothing done.\n"
     ]
    }
   ],
   "source": [
    "%reset"
   ]
  },
  {
   "cell_type": "code",
   "execution_count": 1,
   "metadata": {
    "_cell_guid": "b1076dfc-b9ad-4769-8c92-a6c4dae69d19",
    "_uuid": "8f2839f25d086af736a60e9eeb907d3b93b6e0e5"
   },
   "outputs": [],
   "source": [
    "import numpy as np\n",
    "import pandas as pd\n",
    "import datetime\n",
    "import gc\n",
    "import matplotlib.pyplot as plt\n",
    "import seaborn as sns\n",
    "import lightgbm as lgb\n",
    "from sklearn.model_selection import StratifiedKFold\n",
    "from sklearn.metrics import mean_squared_error\n",
    "import warnings\n",
    "warnings.filterwarnings('ignore')\n",
    "np.random.seed(4590)"
   ]
  },
  {
   "cell_type": "code",
   "execution_count": 2,
   "metadata": {
    "_uuid": "3f389b05b579223e6833cc0a824c8256d037a3f3"
   },
   "outputs": [],
   "source": [
    "def reduce_mem_usage(df, verbose=True):\n",
    "    numerics = ['int16', 'int32', 'int64', 'float16', 'float32', 'float64']\n",
    "    start_mem = df.memory_usage().sum() / 1024**2    \n",
    "    for col in df.columns:\n",
    "        col_type = df[col].dtypes\n",
    "        if col_type in numerics:\n",
    "            c_min = df[col].min()\n",
    "            c_max = df[col].max(\n",
    "            )\n",
    "            if str(col_type)[:3] == 'int':\n",
    "                if c_min > np.iinfo(np.int8).min and c_max < np.iinfo(np.int8).max:\n",
    "                    df[col] = df[col].astype(np.int8)\n",
    "                elif c_min > np.iinfo(np.int16).min and c_max < np.iinfo(np.int16).max:\n",
    "                    df[col] = df[col].astype(np.int16)\n",
    "                elif c_min > np.iinfo(np.int32).min and c_max < np.iinfo(np.int32).max:\n",
    "                    df[col] = df[col].astype(np.int32)\n",
    "                elif c_min > np.iinfo(np.int64).min and c_max < np.iinfo(np.int64).max:\n",
    "                    df[col] = df[col].astype(np.int64)  \n",
    "            else:\n",
    "                if c_min > np.finfo(np.float16).min and c_max < np.finfo(np.float16).max:\n",
    "                    df[col] = df[col].astype(np.float16)\n",
    "                elif c_min > np.finfo(np.float32).min and c_max < np.finfo(np.float32).max:\n",
    "                    df[col] = df[col].astype(np.float32)\n",
    "                else:\n",
    "                    df[col] = df[col].astype(np.float64)    \n",
    "    end_mem = df.memory_usage().sum() / 1024**2\n",
    "    if verbose: print('Mem. usage decreased to {:5.2f} Mb ({:.1f}% reduction)'.format(end_mem, 100 * (start_mem - end_mem) / start_mem))\n",
    "    return df"
   ]
  },
  {
   "cell_type": "code",
   "execution_count": 5,
   "metadata": {
    "_cell_guid": "79c7e3d0-c299-4dcb-8224-4455121ee9b0",
    "_uuid": "d629ff2d2480ee46fbb7e2d37f6b5fab8052498a"
   },
   "outputs": [],
   "source": [
    "df_train = pd.read_csv('C:/Users/user/Documents/Salamat/ELO/train.csv')\n",
    "df_test = pd.read_csv('C:/Users/user/Documents/Salamat/ELO/test.csv')\n",
    "df_hist_trans = pd.read_csv('C:/Users/user/Documents/Salamat/ELO/historical_transactions.csv')\n",
    "df_new_merchant_trans = pd.read_csv('C:/Users/user/Documents/Salamat/ELO/new_merchant_transactions.csv')"
   ]
  },
  {
   "cell_type": "code",
   "execution_count": 6,
   "metadata": {
    "_uuid": "d349a4ebccd9cb8250ff796f0d631ad9a73dffc4"
   },
   "outputs": [
    {
     "name": "stdout",
     "output_type": "stream",
     "text": [
      "Mem. usage decreased to  4.04 Mb (56.2% reduction)\n",
      "Mem. usage decreased to  2.24 Mb (52.5% reduction)\n",
      "Mem. usage decreased to 1749.11 Mb (43.7% reduction)\n",
      "Mem. usage decreased to 114.20 Mb (45.5% reduction)\n"
     ]
    }
   ],
   "source": [
    "df_train=reduce_mem_usage(df_train)\n",
    "df_test=reduce_mem_usage(df_test)\n",
    "df_hist_trans=reduce_mem_usage(df_hist_trans)\n",
    "df_new_merchant_trans=reduce_mem_usage(df_new_merchant_trans)"
   ]
  },
  {
   "cell_type": "markdown",
   "metadata": {
    "_uuid": "4bb2197eb33a2851d8d70f1fe098ef0563597999"
   },
   "source": [
    "Count number of purchases made in each merchant. We will use it to fill NaN values by most frequent merchant id."
   ]
  },
  {
   "cell_type": "markdown",
   "metadata": {
    "_uuid": "601820a5d56bb7d5684175b9984400d0f97e50ff"
   },
   "source": [
    "Chech weather we have NaN values in the following categories"
   ]
  },
  {
   "cell_type": "code",
   "execution_count": 7,
   "metadata": {
    "_uuid": "17c82db187a7750f9aca86e338fd2e1683ec3d66",
    "scrolled": false
   },
   "outputs": [
    {
     "data": {
      "text/plain": [
       "authorized_flag         False\n",
       "card_id                 False\n",
       "city_id                 False\n",
       "category_1              False\n",
       "installments            False\n",
       "category_3               True\n",
       "merchant_category_id    False\n",
       "merchant_id              True\n",
       "month_lag               False\n",
       "purchase_amount         False\n",
       "purchase_date           False\n",
       "category_2               True\n",
       "state_id                False\n",
       "subsector_id            False\n",
       "dtype: bool"
      ]
     },
     "execution_count": 7,
     "metadata": {},
     "output_type": "execute_result"
    }
   ],
   "source": [
    "df_hist_trans.isnull().any()"
   ]
  },
  {
   "cell_type": "code",
   "execution_count": 8,
   "metadata": {
    "_uuid": "bcd8ba3e3b9d0b11ea0229956debcee205969e56",
    "scrolled": true
   },
   "outputs": [
    {
     "data": {
      "text/plain": [
       "authorized_flag         False\n",
       "card_id                 False\n",
       "city_id                 False\n",
       "category_1              False\n",
       "installments            False\n",
       "category_3               True\n",
       "merchant_category_id    False\n",
       "merchant_id              True\n",
       "month_lag               False\n",
       "purchase_amount         False\n",
       "purchase_date           False\n",
       "category_2               True\n",
       "state_id                False\n",
       "subsector_id            False\n",
       "dtype: bool"
      ]
     },
     "execution_count": 8,
     "metadata": {},
     "output_type": "execute_result"
    }
   ],
   "source": [
    "df_new_merchant_trans.isnull().any()"
   ]
  },
  {
   "cell_type": "markdown",
   "metadata": {
    "_uuid": "f05ab92acdc570ee3ae892b7186df1e0cc05ecb4"
   },
   "source": [
    "It seems that 'category_2' , 'category_3' and 'mechant_id' has Nan values in historical and new mechant transactions. Now, let's count values in each of this categories for historical transactions. Let's start with 'category_2'"
   ]
  },
  {
   "cell_type": "code",
   "execution_count": 9,
   "metadata": {
    "_uuid": "481a00592daff8f169851827aa23e6e4ec2cfb8e",
    "scrolled": false
   },
   "outputs": [
    {
     "data": {
      "text/plain": [
       " 1.0    15177199\n",
       " 3.0     3911795\n",
       " 5.0     3725915\n",
       "NaN      2652864\n",
       " 4.0     2618053\n",
       " 2.0     1026535\n",
       "Name: category_2, dtype: int64"
      ]
     },
     "execution_count": 9,
     "metadata": {},
     "output_type": "execute_result"
    }
   ],
   "source": [
    "df_hist_trans.category_2.value_counts(dropna=False)"
   ]
  },
  {
   "cell_type": "markdown",
   "metadata": {
    "_uuid": "f57f38eb78442539e3945bb7fca178e6bc1906ae"
   },
   "source": [
    "There is 2652864 Nan values in 'category_2'. Now, let's check if in each 'card_id' 'category_2' have only 'Nan' unique value and change it to the most frequent values found in the whole history transacations. Most frequent seems to be 1.(in the above cell).\n",
    "\n",
    "In order to check we can use groupby and sum function. By setting min_count=1, we can get nan value for sum of nan array, if we didn't it will give zero by default."
   ]
  },
  {
   "cell_type": "code",
   "execution_count": 10,
   "metadata": {
    "_uuid": "10ba14f38d5912f51d117141ac3e3df501f00618"
   },
   "outputs": [],
   "source": [
    "group_cat2=df_hist_trans.groupby(['card_id']).category_2.sum(min_count=1)"
   ]
  },
  {
   "cell_type": "markdown",
   "metadata": {
    "_uuid": "000bd8781d10b5d64f7cebfe185fe89ad296877a"
   },
   "source": [
    "Now let's select those who have non-values only"
   ]
  },
  {
   "cell_type": "code",
   "execution_count": 11,
   "metadata": {
    "_uuid": "d36829fe5eb68d7bd7aafebc632b42abd09901bd"
   },
   "outputs": [],
   "source": [
    "group_cat2_nan=group_cat2[group_cat2.isnull()]"
   ]
  },
  {
   "cell_type": "code",
   "execution_count": 12,
   "metadata": {
    "_uuid": "e31c9828aebedcb98261fea2b990506cc63fe9f5"
   },
   "outputs": [
    {
     "data": {
      "text/plain": [
       "card_id\n",
       "C_ID_001b4c5151   NaN\n",
       "C_ID_001c09a36b   NaN\n",
       "C_ID_0028e15a78   NaN\n",
       "C_ID_002b706ded   NaN\n",
       "C_ID_0030e0945f   NaN\n",
       "Name: category_2, dtype: float16"
      ]
     },
     "execution_count": 12,
     "metadata": {},
     "output_type": "execute_result"
    }
   ],
   "source": [
    "group_cat2_nan.head()"
   ]
  },
  {
   "cell_type": "markdown",
   "metadata": {
    "_uuid": "18a8ec540fe8d4444d9eb3a53158799a5d5e2c4b"
   },
   "source": [
    "I am setting index as 'card_id'. In order to , change 'category_2' values. I tried just by using \n",
    "df_hist_trans.loc[df_hist_trans.card_id.isin(group_cat2_nan.index)].category_2=1\n",
    "or \n",
    "df_hist_trans[df_hist_trans.card_id.isin(group_cat2_nan.index)].category_2\n",
    "and you can check by\n",
    "df_hist_trans.loc[df_hist_trans.card_id.isin(group_cat2_nan.index)].category_2\n",
    "or\n",
    "df_hist_trans.loc[df_hist_trans.card_id.isin(group_cat2_nan.index)].category_2\n",
    "You will see that values do not change. Both of this methods gives copy from the dataframe so we can't change it. It seems when you use masking(df_hist_trans.card_id.isin(group_cat2_nan.index)) you will have copy. \n",
    "Therefore, I decided to call from index and index will be 'card_id'.\n"
   ]
  },
  {
   "cell_type": "code",
   "execution_count": 13,
   "metadata": {
    "_uuid": "dc15c593d833a09a4b72b4714eae2e127a127224"
   },
   "outputs": [],
   "source": [
    "df_hist_trans[df_hist_trans.card_id.isin(group_cat2_nan.index)].category_2=1"
   ]
  },
  {
   "cell_type": "code",
   "execution_count": 14,
   "metadata": {
    "_uuid": "c3a4377a7dfc0eb3bff42251a48ad0bcd2aa29aa",
    "scrolled": true
   },
   "outputs": [
    {
     "data": {
      "text/plain": [
       "15207   NaN\n",
       "15208   NaN\n",
       "15209   NaN\n",
       "15210   NaN\n",
       "15211   NaN\n",
       "Name: category_2, dtype: float16"
      ]
     },
     "execution_count": 14,
     "metadata": {},
     "output_type": "execute_result"
    }
   ],
   "source": [
    "df_hist_trans[df_hist_trans.card_id.isin(group_cat2_nan.index)].category_2.head()"
   ]
  },
  {
   "cell_type": "markdown",
   "metadata": {
    "_uuid": "86429d3c9b2272729b8755e9daf4cee6b13b5051"
   },
   "source": [
    "You can see that it doesn't work. So , let's change index of df_hist_trans to 'card_id'. Call dataframe from their respective indexes"
   ]
  },
  {
   "cell_type": "code",
   "execution_count": 15,
   "metadata": {
    "_kg_hide-input": true,
    "_uuid": "30b5350b5928ea6e8cc46a49b824ad6b5f3dffa3",
    "scrolled": false
   },
   "outputs": [],
   "source": [
    "df_hist_trans.set_index('card_id',inplace=True)"
   ]
  },
  {
   "cell_type": "code",
   "execution_count": 16,
   "metadata": {
    "_uuid": "49e9b8cd0906aebd178a04916b386777ad8360e9"
   },
   "outputs": [],
   "source": [
    "df_hist_trans.loc[group_cat2_nan.index,'category_2']=1"
   ]
  },
  {
   "cell_type": "code",
   "execution_count": 17,
   "metadata": {
    "_uuid": "0150514fe63eed35badef8e20ee18f7f9ae83e66",
    "scrolled": false
   },
   "outputs": [
    {
     "data": {
      "text/plain": [
       "array([ 1.])"
      ]
     },
     "execution_count": 17,
     "metadata": {},
     "output_type": "execute_result"
    }
   ],
   "source": [
    "df_hist_trans.loc[group_cat2_nan.index,'category_2'].unique()"
   ]
  },
  {
   "cell_type": "markdown",
   "metadata": {
    "_uuid": "b48b6d5fbb92bb264545dac7b9cd953d0f321a5c"
   },
   "source": [
    "Now, we only changed the once which have only NaN values in 'category_2'. Let's check how many nan are still there. So nan values are reduced by 115446."
   ]
  },
  {
   "cell_type": "code",
   "execution_count": 18,
   "metadata": {
    "_uuid": "7973d86538ae649c30b5e0d7a74a526e8ed25d1b",
    "scrolled": true
   },
   "outputs": [
    {
     "data": {
      "text/plain": [
       " 1.0    15327456\n",
       " 3.0     3911795\n",
       " 5.0     3725915\n",
       " 4.0     2618053\n",
       "NaN      2502607\n",
       " 2.0     1026535\n",
       "Name: category_2, dtype: int64"
      ]
     },
     "execution_count": 18,
     "metadata": {},
     "output_type": "execute_result"
    }
   ],
   "source": [
    "df_hist_trans.category_2.value_counts(dropna=False)"
   ]
  },
  {
   "cell_type": "markdown",
   "metadata": {
    "_uuid": "6587b251a9053dee27b669ee486097f859b52883"
   },
   "source": [
    "Now let's reset_index and groupby 'card_id' and 'category' . We can look at number of counts in each category of 'category_2'."
   ]
  },
  {
   "cell_type": "code",
   "execution_count": 19,
   "metadata": {
    "_uuid": "633e28186286a8a5945f8f665314878c983902bf"
   },
   "outputs": [],
   "source": [
    "df_hist_trans.reset_index(inplace=True)"
   ]
  },
  {
   "cell_type": "code",
   "execution_count": 20,
   "metadata": {
    "_uuid": "9d600174cf2125c86f6fedbafc6e9622faa10a9e"
   },
   "outputs": [],
   "source": [
    "category_2_count=df_hist_trans.groupby(['card_id','category_2']).count()"
   ]
  },
  {
   "cell_type": "code",
   "execution_count": 21,
   "metadata": {
    "_uuid": "dc8a124789c5e8e131d556d0cac929621dde4c0a",
    "scrolled": true
   },
   "outputs": [
    {
     "data": {
      "text/html": [
       "<div>\n",
       "<style scoped>\n",
       "    .dataframe tbody tr th:only-of-type {\n",
       "        vertical-align: middle;\n",
       "    }\n",
       "\n",
       "    .dataframe tbody tr th {\n",
       "        vertical-align: top;\n",
       "    }\n",
       "\n",
       "    .dataframe thead th {\n",
       "        text-align: right;\n",
       "    }\n",
       "</style>\n",
       "<table border=\"1\" class=\"dataframe\">\n",
       "  <thead>\n",
       "    <tr style=\"text-align: right;\">\n",
       "      <th></th>\n",
       "      <th></th>\n",
       "      <th>authorized_flag</th>\n",
       "      <th>city_id</th>\n",
       "      <th>category_1</th>\n",
       "      <th>installments</th>\n",
       "      <th>category_3</th>\n",
       "      <th>merchant_category_id</th>\n",
       "      <th>merchant_id</th>\n",
       "      <th>month_lag</th>\n",
       "      <th>purchase_amount</th>\n",
       "      <th>purchase_date</th>\n",
       "      <th>state_id</th>\n",
       "      <th>subsector_id</th>\n",
       "    </tr>\n",
       "    <tr>\n",
       "      <th>card_id</th>\n",
       "      <th>category_2</th>\n",
       "      <th></th>\n",
       "      <th></th>\n",
       "      <th></th>\n",
       "      <th></th>\n",
       "      <th></th>\n",
       "      <th></th>\n",
       "      <th></th>\n",
       "      <th></th>\n",
       "      <th></th>\n",
       "      <th></th>\n",
       "      <th></th>\n",
       "      <th></th>\n",
       "    </tr>\n",
       "  </thead>\n",
       "  <tbody>\n",
       "    <tr>\n",
       "      <th rowspan=\"2\" valign=\"top\">C_ID_00007093c1</th>\n",
       "      <th>3.0</th>\n",
       "      <td>120</td>\n",
       "      <td>120</td>\n",
       "      <td>120</td>\n",
       "      <td>120</td>\n",
       "      <td>120</td>\n",
       "      <td>120</td>\n",
       "      <td>120</td>\n",
       "      <td>120</td>\n",
       "      <td>120</td>\n",
       "      <td>120</td>\n",
       "      <td>120</td>\n",
       "      <td>120</td>\n",
       "    </tr>\n",
       "    <tr>\n",
       "      <th>5.0</th>\n",
       "      <td>1</td>\n",
       "      <td>1</td>\n",
       "      <td>1</td>\n",
       "      <td>1</td>\n",
       "      <td>1</td>\n",
       "      <td>1</td>\n",
       "      <td>1</td>\n",
       "      <td>1</td>\n",
       "      <td>1</td>\n",
       "      <td>1</td>\n",
       "      <td>1</td>\n",
       "      <td>1</td>\n",
       "    </tr>\n",
       "    <tr>\n",
       "      <th rowspan=\"2\" valign=\"top\">C_ID_0001238066</th>\n",
       "      <th>1.0</th>\n",
       "      <td>95</td>\n",
       "      <td>95</td>\n",
       "      <td>95</td>\n",
       "      <td>95</td>\n",
       "      <td>94</td>\n",
       "      <td>95</td>\n",
       "      <td>95</td>\n",
       "      <td>95</td>\n",
       "      <td>95</td>\n",
       "      <td>95</td>\n",
       "      <td>95</td>\n",
       "      <td>95</td>\n",
       "    </tr>\n",
       "    <tr>\n",
       "      <th>5.0</th>\n",
       "      <td>20</td>\n",
       "      <td>20</td>\n",
       "      <td>20</td>\n",
       "      <td>20</td>\n",
       "      <td>19</td>\n",
       "      <td>20</td>\n",
       "      <td>20</td>\n",
       "      <td>20</td>\n",
       "      <td>20</td>\n",
       "      <td>20</td>\n",
       "      <td>20</td>\n",
       "      <td>20</td>\n",
       "    </tr>\n",
       "    <tr>\n",
       "      <th rowspan=\"2\" valign=\"top\">C_ID_0001506ef0</th>\n",
       "      <th>1.0</th>\n",
       "      <td>2</td>\n",
       "      <td>2</td>\n",
       "      <td>2</td>\n",
       "      <td>2</td>\n",
       "      <td>2</td>\n",
       "      <td>2</td>\n",
       "      <td>2</td>\n",
       "      <td>2</td>\n",
       "      <td>2</td>\n",
       "      <td>2</td>\n",
       "      <td>2</td>\n",
       "      <td>2</td>\n",
       "    </tr>\n",
       "    <tr>\n",
       "      <th>3.0</th>\n",
       "      <td>64</td>\n",
       "      <td>64</td>\n",
       "      <td>64</td>\n",
       "      <td>64</td>\n",
       "      <td>64</td>\n",
       "      <td>64</td>\n",
       "      <td>64</td>\n",
       "      <td>64</td>\n",
       "      <td>64</td>\n",
       "      <td>64</td>\n",
       "      <td>64</td>\n",
       "      <td>64</td>\n",
       "    </tr>\n",
       "    <tr>\n",
       "      <th rowspan=\"3\" valign=\"top\">C_ID_0001793786</th>\n",
       "      <th>1.0</th>\n",
       "      <td>11</td>\n",
       "      <td>11</td>\n",
       "      <td>11</td>\n",
       "      <td>11</td>\n",
       "      <td>11</td>\n",
       "      <td>11</td>\n",
       "      <td>11</td>\n",
       "      <td>11</td>\n",
       "      <td>11</td>\n",
       "      <td>11</td>\n",
       "      <td>11</td>\n",
       "      <td>11</td>\n",
       "    </tr>\n",
       "    <tr>\n",
       "      <th>2.0</th>\n",
       "      <td>76</td>\n",
       "      <td>76</td>\n",
       "      <td>76</td>\n",
       "      <td>76</td>\n",
       "      <td>76</td>\n",
       "      <td>76</td>\n",
       "      <td>76</td>\n",
       "      <td>76</td>\n",
       "      <td>76</td>\n",
       "      <td>76</td>\n",
       "      <td>76</td>\n",
       "      <td>76</td>\n",
       "    </tr>\n",
       "    <tr>\n",
       "      <th>3.0</th>\n",
       "      <td>15</td>\n",
       "      <td>15</td>\n",
       "      <td>15</td>\n",
       "      <td>15</td>\n",
       "      <td>15</td>\n",
       "      <td>15</td>\n",
       "      <td>15</td>\n",
       "      <td>15</td>\n",
       "      <td>15</td>\n",
       "      <td>15</td>\n",
       "      <td>15</td>\n",
       "      <td>15</td>\n",
       "    </tr>\n",
       "    <tr>\n",
       "      <th>C_ID_000183fdda</th>\n",
       "      <th>1.0</th>\n",
       "      <td>7</td>\n",
       "      <td>7</td>\n",
       "      <td>7</td>\n",
       "      <td>7</td>\n",
       "      <td>7</td>\n",
       "      <td>7</td>\n",
       "      <td>7</td>\n",
       "      <td>7</td>\n",
       "      <td>7</td>\n",
       "      <td>7</td>\n",
       "      <td>7</td>\n",
       "      <td>7</td>\n",
       "    </tr>\n",
       "  </tbody>\n",
       "</table>\n",
       "</div>"
      ],
      "text/plain": [
       "                            authorized_flag  city_id  category_1  \\\n",
       "card_id         category_2                                         \n",
       "C_ID_00007093c1 3.0                     120      120         120   \n",
       "                5.0                       1        1           1   \n",
       "C_ID_0001238066 1.0                      95       95          95   \n",
       "                5.0                      20       20          20   \n",
       "C_ID_0001506ef0 1.0                       2        2           2   \n",
       "                3.0                      64       64          64   \n",
       "C_ID_0001793786 1.0                      11       11          11   \n",
       "                2.0                      76       76          76   \n",
       "                3.0                      15       15          15   \n",
       "C_ID_000183fdda 1.0                       7        7           7   \n",
       "\n",
       "                            installments  category_3  merchant_category_id  \\\n",
       "card_id         category_2                                                   \n",
       "C_ID_00007093c1 3.0                  120         120                   120   \n",
       "                5.0                    1           1                     1   \n",
       "C_ID_0001238066 1.0                   95          94                    95   \n",
       "                5.0                   20          19                    20   \n",
       "C_ID_0001506ef0 1.0                    2           2                     2   \n",
       "                3.0                   64          64                    64   \n",
       "C_ID_0001793786 1.0                   11          11                    11   \n",
       "                2.0                   76          76                    76   \n",
       "                3.0                   15          15                    15   \n",
       "C_ID_000183fdda 1.0                    7           7                     7   \n",
       "\n",
       "                            merchant_id  month_lag  purchase_amount  \\\n",
       "card_id         category_2                                            \n",
       "C_ID_00007093c1 3.0                 120        120              120   \n",
       "                5.0                   1          1                1   \n",
       "C_ID_0001238066 1.0                  95         95               95   \n",
       "                5.0                  20         20               20   \n",
       "C_ID_0001506ef0 1.0                   2          2                2   \n",
       "                3.0                  64         64               64   \n",
       "C_ID_0001793786 1.0                  11         11               11   \n",
       "                2.0                  76         76               76   \n",
       "                3.0                  15         15               15   \n",
       "C_ID_000183fdda 1.0                   7          7                7   \n",
       "\n",
       "                            purchase_date  state_id  subsector_id  \n",
       "card_id         category_2                                         \n",
       "C_ID_00007093c1 3.0                   120       120           120  \n",
       "                5.0                     1         1             1  \n",
       "C_ID_0001238066 1.0                    95        95            95  \n",
       "                5.0                    20        20            20  \n",
       "C_ID_0001506ef0 1.0                     2         2             2  \n",
       "                3.0                    64        64            64  \n",
       "C_ID_0001793786 1.0                    11        11            11  \n",
       "                2.0                    76        76            76  \n",
       "                3.0                    15        15            15  \n",
       "C_ID_000183fdda 1.0                     7         7             7  "
      ]
     },
     "execution_count": 21,
     "metadata": {},
     "output_type": "execute_result"
    }
   ],
   "source": [
    "category_2_count.head(10)"
   ]
  },
  {
   "cell_type": "markdown",
   "metadata": {
    "_uuid": "72e5f449124eda1363bce455e8ff0be1fbd469f6"
   },
   "source": [
    "We need only one column(since all of them are same) let's choose 'authorized_flag'. "
   ]
  },
  {
   "cell_type": "code",
   "execution_count": 22,
   "metadata": {
    "_uuid": "f461ca2ada8addea24bffd71ad362e2c5f0b7565"
   },
   "outputs": [],
   "source": [
    "category_2_count=category_2_count.authorized_flag"
   ]
  },
  {
   "cell_type": "code",
   "execution_count": 23,
   "metadata": {
    "_uuid": "5225035904eb2c73734c870c853d8ef3f07330af"
   },
   "outputs": [
    {
     "data": {
      "text/plain": [
       "card_id          category_2\n",
       "C_ID_00007093c1  3.0           120\n",
       "                 5.0             1\n",
       "C_ID_0001238066  1.0            95\n",
       "                 5.0            20\n",
       "C_ID_0001506ef0  1.0             2\n",
       "                 3.0            64\n",
       "C_ID_0001793786  1.0            11\n",
       "                 2.0            76\n",
       "                 3.0            15\n",
       "C_ID_000183fdda  1.0             7\n",
       "                 2.0             1\n",
       "                 3.0           131\n",
       "                 5.0             1\n",
       "C_ID_00024e244b  1.0             3\n",
       "                 3.0            67\n",
       "C_ID_0002709b5a  1.0             1\n",
       "                 2.0            52\n",
       "                 5.0            14\n",
       "C_ID_00027503e2  1.0             3\n",
       "                 3.0            39\n",
       "Name: authorized_flag, dtype: int64"
      ]
     },
     "execution_count": 23,
     "metadata": {},
     "output_type": "execute_result"
    }
   ],
   "source": [
    "category_2_count.head(20)"
   ]
  },
  {
   "cell_type": "markdown",
   "metadata": {
    "_uuid": "68de402f2218dbd9c765428e40fdf5f8f89827a3"
   },
   "source": [
    "We will need only index of maximum values. We can do it by groupby(level=0), level=0 is 'card_id' in our case."
   ]
  },
  {
   "cell_type": "code",
   "execution_count": 24,
   "metadata": {
    "_uuid": "3a4605710425f5b54f29da1d72a69629c87f64a5"
   },
   "outputs": [],
   "source": [
    "category_2_count_max=category_2_count.groupby(level=0).idxmax()\n",
    "\n"
   ]
  },
  {
   "cell_type": "markdown",
   "metadata": {
    "_uuid": "24e4c2450ea2b9f31a163845a18911fe5df7c432"
   },
   "source": [
    "Now we need only second part of the tuple. Finally, we will obtain Series object with corresponding max count of categories for each 'card_id'"
   ]
  },
  {
   "cell_type": "code",
   "execution_count": 25,
   "metadata": {
    "_uuid": "49dec6e22b6d58bb1b854ad8d507de68afec73a3"
   },
   "outputs": [],
   "source": [
    "category_2_count_max=category_2_count_max.apply(lambda x: x[1])"
   ]
  },
  {
   "cell_type": "code",
   "execution_count": 26,
   "metadata": {
    "_uuid": "aa47b2db47171ec51cd775d12ca3fc1476bd6695",
    "scrolled": false
   },
   "outputs": [
    {
     "data": {
      "text/plain": [
       "card_id\n",
       "C_ID_00007093c1    3.0\n",
       "C_ID_0001238066    1.0\n",
       "C_ID_0001506ef0    3.0\n",
       "C_ID_0001793786    2.0\n",
       "C_ID_000183fdda    3.0\n",
       "Name: authorized_flag, dtype: float64"
      ]
     },
     "execution_count": 26,
     "metadata": {},
     "output_type": "execute_result"
    }
   ],
   "source": [
    "category_2_count_max.head()"
   ]
  },
  {
   "cell_type": "markdown",
   "metadata": {
    "_uuid": "a5059999b14d7bb9be38759dd413c77b27a54a17"
   },
   "source": [
    "Now, we can input most frequent 'category_2' value for each non value in certain 'card_id'"
   ]
  },
  {
   "cell_type": "code",
   "execution_count": 27,
   "metadata": {
    "_uuid": "8d5f635c3f7f89b59ae514fc1b74a150095920ef",
    "scrolled": false
   },
   "outputs": [
    {
     "data": {
      "text/html": [
       "<div>\n",
       "<style scoped>\n",
       "    .dataframe tbody tr th:only-of-type {\n",
       "        vertical-align: middle;\n",
       "    }\n",
       "\n",
       "    .dataframe tbody tr th {\n",
       "        vertical-align: top;\n",
       "    }\n",
       "\n",
       "    .dataframe thead th {\n",
       "        text-align: right;\n",
       "    }\n",
       "</style>\n",
       "<table border=\"1\" class=\"dataframe\">\n",
       "  <thead>\n",
       "    <tr style=\"text-align: right;\">\n",
       "      <th></th>\n",
       "      <th>authorized_flag</th>\n",
       "      <th>city_id</th>\n",
       "      <th>category_1</th>\n",
       "      <th>installments</th>\n",
       "      <th>category_3</th>\n",
       "      <th>merchant_category_id</th>\n",
       "      <th>merchant_id</th>\n",
       "      <th>month_lag</th>\n",
       "      <th>purchase_amount</th>\n",
       "      <th>purchase_date</th>\n",
       "      <th>category_2</th>\n",
       "      <th>state_id</th>\n",
       "      <th>subsector_id</th>\n",
       "    </tr>\n",
       "    <tr>\n",
       "      <th>card_id</th>\n",
       "      <th></th>\n",
       "      <th></th>\n",
       "      <th></th>\n",
       "      <th></th>\n",
       "      <th></th>\n",
       "      <th></th>\n",
       "      <th></th>\n",
       "      <th></th>\n",
       "      <th></th>\n",
       "      <th></th>\n",
       "      <th></th>\n",
       "      <th></th>\n",
       "      <th></th>\n",
       "    </tr>\n",
       "  </thead>\n",
       "  <tbody>\n",
       "    <tr>\n",
       "      <th>C_ID_4e6213e9bc</th>\n",
       "      <td>Y</td>\n",
       "      <td>88</td>\n",
       "      <td>N</td>\n",
       "      <td>0</td>\n",
       "      <td>A</td>\n",
       "      <td>80</td>\n",
       "      <td>M_ID_e020e9b302</td>\n",
       "      <td>-8</td>\n",
       "      <td>-0.703331</td>\n",
       "      <td>2017-06-25 15:33:07</td>\n",
       "      <td>1.0</td>\n",
       "      <td>16</td>\n",
       "      <td>37</td>\n",
       "    </tr>\n",
       "    <tr>\n",
       "      <th>C_ID_4e6213e9bc</th>\n",
       "      <td>Y</td>\n",
       "      <td>88</td>\n",
       "      <td>N</td>\n",
       "      <td>0</td>\n",
       "      <td>A</td>\n",
       "      <td>367</td>\n",
       "      <td>M_ID_86ec983688</td>\n",
       "      <td>-7</td>\n",
       "      <td>-0.733128</td>\n",
       "      <td>2017-07-15 12:10:45</td>\n",
       "      <td>1.0</td>\n",
       "      <td>16</td>\n",
       "      <td>16</td>\n",
       "    </tr>\n",
       "    <tr>\n",
       "      <th>C_ID_4e6213e9bc</th>\n",
       "      <td>Y</td>\n",
       "      <td>88</td>\n",
       "      <td>N</td>\n",
       "      <td>0</td>\n",
       "      <td>A</td>\n",
       "      <td>80</td>\n",
       "      <td>M_ID_979ed661fc</td>\n",
       "      <td>-6</td>\n",
       "      <td>-0.720386</td>\n",
       "      <td>2017-08-09 22:04:29</td>\n",
       "      <td>1.0</td>\n",
       "      <td>16</td>\n",
       "      <td>37</td>\n",
       "    </tr>\n",
       "    <tr>\n",
       "      <th>C_ID_4e6213e9bc</th>\n",
       "      <td>Y</td>\n",
       "      <td>88</td>\n",
       "      <td>N</td>\n",
       "      <td>0</td>\n",
       "      <td>A</td>\n",
       "      <td>560</td>\n",
       "      <td>M_ID_e6d5ae8ea6</td>\n",
       "      <td>-5</td>\n",
       "      <td>-0.735352</td>\n",
       "      <td>2017-09-02 10:06:26</td>\n",
       "      <td>1.0</td>\n",
       "      <td>16</td>\n",
       "      <td>34</td>\n",
       "    </tr>\n",
       "    <tr>\n",
       "      <th>C_ID_4e6213e9bc</th>\n",
       "      <td>Y</td>\n",
       "      <td>88</td>\n",
       "      <td>N</td>\n",
       "      <td>0</td>\n",
       "      <td>A</td>\n",
       "      <td>80</td>\n",
       "      <td>M_ID_e020e9b302</td>\n",
       "      <td>-11</td>\n",
       "      <td>-0.722865</td>\n",
       "      <td>2017-03-10 01:14:19</td>\n",
       "      <td>1.0</td>\n",
       "      <td>16</td>\n",
       "      <td>37</td>\n",
       "    </tr>\n",
       "  </tbody>\n",
       "</table>\n",
       "</div>"
      ],
      "text/plain": [
       "                authorized_flag  city_id category_1  installments category_3  \\\n",
       "card_id                                                                        \n",
       "C_ID_4e6213e9bc               Y       88          N             0          A   \n",
       "C_ID_4e6213e9bc               Y       88          N             0          A   \n",
       "C_ID_4e6213e9bc               Y       88          N             0          A   \n",
       "C_ID_4e6213e9bc               Y       88          N             0          A   \n",
       "C_ID_4e6213e9bc               Y       88          N             0          A   \n",
       "\n",
       "                 merchant_category_id      merchant_id  month_lag  \\\n",
       "card_id                                                             \n",
       "C_ID_4e6213e9bc                    80  M_ID_e020e9b302         -8   \n",
       "C_ID_4e6213e9bc                   367  M_ID_86ec983688         -7   \n",
       "C_ID_4e6213e9bc                    80  M_ID_979ed661fc         -6   \n",
       "C_ID_4e6213e9bc                   560  M_ID_e6d5ae8ea6         -5   \n",
       "C_ID_4e6213e9bc                    80  M_ID_e020e9b302        -11   \n",
       "\n",
       "                 purchase_amount        purchase_date  category_2  state_id  \\\n",
       "card_id                                                                       \n",
       "C_ID_4e6213e9bc        -0.703331  2017-06-25 15:33:07         1.0        16   \n",
       "C_ID_4e6213e9bc        -0.733128  2017-07-15 12:10:45         1.0        16   \n",
       "C_ID_4e6213e9bc        -0.720386  2017-08-09 22:04:29         1.0        16   \n",
       "C_ID_4e6213e9bc        -0.735352  2017-09-02 10:06:26         1.0        16   \n",
       "C_ID_4e6213e9bc        -0.722865  2017-03-10 01:14:19         1.0        16   \n",
       "\n",
       "                 subsector_id  \n",
       "card_id                        \n",
       "C_ID_4e6213e9bc            37  \n",
       "C_ID_4e6213e9bc            16  \n",
       "C_ID_4e6213e9bc            37  \n",
       "C_ID_4e6213e9bc            34  \n",
       "C_ID_4e6213e9bc            37  "
      ]
     },
     "execution_count": 27,
     "metadata": {},
     "output_type": "execute_result"
    }
   ],
   "source": [
    "df_hist_trans.set_index('card_id',inplace=True)\n",
    "df_hist_trans.head()"
   ]
  },
  {
   "cell_type": "markdown",
   "metadata": {
    "_uuid": "fe549905dbd62328f431a307b821ab494da8a0e4"
   },
   "source": [
    "Let's check what where value counts before"
   ]
  },
  {
   "cell_type": "code",
   "execution_count": 28,
   "metadata": {
    "_uuid": "b4d68db6bf4e2697eb1611820abef1c9d529b60d",
    "scrolled": true
   },
   "outputs": [
    {
     "data": {
      "text/plain": [
       " 1.0    15327456\n",
       " 3.0     3911795\n",
       " 5.0     3725915\n",
       " 4.0     2618053\n",
       "NaN      2502607\n",
       " 2.0     1026535\n",
       "Name: category_2, dtype: int64"
      ]
     },
     "execution_count": 28,
     "metadata": {},
     "output_type": "execute_result"
    }
   ],
   "source": [
    "df_hist_trans.category_2.value_counts(dropna=False)"
   ]
  },
  {
   "cell_type": "markdown",
   "metadata": {
    "_uuid": "6fef03476e2162b2b52056f6122a015948de2c25"
   },
   "source": [
    "Fill nan values according to given series by using fillna function"
   ]
  },
  {
   "cell_type": "code",
   "execution_count": 29,
   "metadata": {
    "_uuid": "e72255f63cacec29661a3a3d8305e2731256e538",
    "scrolled": true
   },
   "outputs": [],
   "source": [
    "df_hist_trans.category_2=df_hist_trans.category_2.fillna(category_2_count_max)"
   ]
  },
  {
   "cell_type": "markdown",
   "metadata": {
    "_uuid": "d92c7eb03d17d133c11ccf0f28e840a0a9f9d853"
   },
   "source": [
    "Finally, we get rid of all nan values for 'category_2' . Now, we can try same for 'category_3' and 'merchant_id'. Also, we need to do same for 'df_new_merchant_trans'. Finally, let's check if there is any nan values in category_2"
   ]
  },
  {
   "cell_type": "code",
   "execution_count": 30,
   "metadata": {
    "_uuid": "0fe58472be59b5b6de088db800c3b5e88a87b452",
    "scrolled": true
   },
   "outputs": [
    {
     "data": {
      "text/plain": [
       "1.0    16804879\n",
       "3.0     4289903\n",
       "5.0     4050578\n",
       "4.0     2793190\n",
       "2.0     1173811\n",
       "Name: category_2, dtype: int64"
      ]
     },
     "execution_count": 30,
     "metadata": {},
     "output_type": "execute_result"
    }
   ],
   "source": [
    "df_hist_trans.category_2.value_counts(dropna=False)"
   ]
  },
  {
   "cell_type": "markdown",
   "metadata": {
    "_uuid": "c29c30ab4cf68f7bb12c373c46950950dbdd8660"
   },
   "source": [
    "Let's do same for 'category_3'"
   ]
  },
  {
   "cell_type": "code",
   "execution_count": 31,
   "metadata": {
    "_uuid": "e7c6a9a8c5420d572b258be200b1951ca41f80c2",
    "scrolled": true
   },
   "outputs": [
    {
     "data": {
      "text/plain": [
       "A      15411747\n",
       "B      11677522\n",
       "C       1844933\n",
       "NaN      178159\n",
       "Name: category_3, dtype: int64"
      ]
     },
     "execution_count": 31,
     "metadata": {},
     "output_type": "execute_result"
    }
   ],
   "source": [
    "df_hist_trans.category_3.value_counts(dropna=False)"
   ]
  },
  {
   "cell_type": "markdown",
   "metadata": {
    "_uuid": "494dbbc775ac8ea7828ceaf29722f69dbf29edc2"
   },
   "source": [
    "Let's change 'A' , 'B', 'C' to numerical values in order to be able to use sum(min_counts=1) function"
   ]
  },
  {
   "cell_type": "code",
   "execution_count": 32,
   "metadata": {
    "_uuid": "3bb5216c063d192351cf8ed549900837516d2f3f"
   },
   "outputs": [],
   "source": [
    "d_cat3={'A':1,'B':2,'C':3}"
   ]
  },
  {
   "cell_type": "code",
   "execution_count": 33,
   "metadata": {
    "_uuid": "cedd8419b07dd529b9ae12da4469b4d5307265ba"
   },
   "outputs": [],
   "source": [
    "df_hist_trans.category_3=df_hist_trans.category_3.map(d_cat3)"
   ]
  },
  {
   "cell_type": "code",
   "execution_count": 34,
   "metadata": {
    "_uuid": "2f3e88b0a49d6975f5fbe3c75bc3818d2522b607"
   },
   "outputs": [
    {
     "data": {
      "text/html": [
       "<div>\n",
       "<style scoped>\n",
       "    .dataframe tbody tr th:only-of-type {\n",
       "        vertical-align: middle;\n",
       "    }\n",
       "\n",
       "    .dataframe tbody tr th {\n",
       "        vertical-align: top;\n",
       "    }\n",
       "\n",
       "    .dataframe thead th {\n",
       "        text-align: right;\n",
       "    }\n",
       "</style>\n",
       "<table border=\"1\" class=\"dataframe\">\n",
       "  <thead>\n",
       "    <tr style=\"text-align: right;\">\n",
       "      <th></th>\n",
       "      <th>authorized_flag</th>\n",
       "      <th>city_id</th>\n",
       "      <th>category_1</th>\n",
       "      <th>installments</th>\n",
       "      <th>category_3</th>\n",
       "      <th>merchant_category_id</th>\n",
       "      <th>merchant_id</th>\n",
       "      <th>month_lag</th>\n",
       "      <th>purchase_amount</th>\n",
       "      <th>purchase_date</th>\n",
       "      <th>category_2</th>\n",
       "      <th>state_id</th>\n",
       "      <th>subsector_id</th>\n",
       "    </tr>\n",
       "    <tr>\n",
       "      <th>card_id</th>\n",
       "      <th></th>\n",
       "      <th></th>\n",
       "      <th></th>\n",
       "      <th></th>\n",
       "      <th></th>\n",
       "      <th></th>\n",
       "      <th></th>\n",
       "      <th></th>\n",
       "      <th></th>\n",
       "      <th></th>\n",
       "      <th></th>\n",
       "      <th></th>\n",
       "      <th></th>\n",
       "    </tr>\n",
       "  </thead>\n",
       "  <tbody>\n",
       "    <tr>\n",
       "      <th>C_ID_4e6213e9bc</th>\n",
       "      <td>Y</td>\n",
       "      <td>88</td>\n",
       "      <td>N</td>\n",
       "      <td>0</td>\n",
       "      <td>1.0</td>\n",
       "      <td>80</td>\n",
       "      <td>M_ID_e020e9b302</td>\n",
       "      <td>-8</td>\n",
       "      <td>-0.703331</td>\n",
       "      <td>2017-06-25 15:33:07</td>\n",
       "      <td>1.0</td>\n",
       "      <td>16</td>\n",
       "      <td>37</td>\n",
       "    </tr>\n",
       "    <tr>\n",
       "      <th>C_ID_4e6213e9bc</th>\n",
       "      <td>Y</td>\n",
       "      <td>88</td>\n",
       "      <td>N</td>\n",
       "      <td>0</td>\n",
       "      <td>1.0</td>\n",
       "      <td>367</td>\n",
       "      <td>M_ID_86ec983688</td>\n",
       "      <td>-7</td>\n",
       "      <td>-0.733128</td>\n",
       "      <td>2017-07-15 12:10:45</td>\n",
       "      <td>1.0</td>\n",
       "      <td>16</td>\n",
       "      <td>16</td>\n",
       "    </tr>\n",
       "    <tr>\n",
       "      <th>C_ID_4e6213e9bc</th>\n",
       "      <td>Y</td>\n",
       "      <td>88</td>\n",
       "      <td>N</td>\n",
       "      <td>0</td>\n",
       "      <td>1.0</td>\n",
       "      <td>80</td>\n",
       "      <td>M_ID_979ed661fc</td>\n",
       "      <td>-6</td>\n",
       "      <td>-0.720386</td>\n",
       "      <td>2017-08-09 22:04:29</td>\n",
       "      <td>1.0</td>\n",
       "      <td>16</td>\n",
       "      <td>37</td>\n",
       "    </tr>\n",
       "    <tr>\n",
       "      <th>C_ID_4e6213e9bc</th>\n",
       "      <td>Y</td>\n",
       "      <td>88</td>\n",
       "      <td>N</td>\n",
       "      <td>0</td>\n",
       "      <td>1.0</td>\n",
       "      <td>560</td>\n",
       "      <td>M_ID_e6d5ae8ea6</td>\n",
       "      <td>-5</td>\n",
       "      <td>-0.735352</td>\n",
       "      <td>2017-09-02 10:06:26</td>\n",
       "      <td>1.0</td>\n",
       "      <td>16</td>\n",
       "      <td>34</td>\n",
       "    </tr>\n",
       "    <tr>\n",
       "      <th>C_ID_4e6213e9bc</th>\n",
       "      <td>Y</td>\n",
       "      <td>88</td>\n",
       "      <td>N</td>\n",
       "      <td>0</td>\n",
       "      <td>1.0</td>\n",
       "      <td>80</td>\n",
       "      <td>M_ID_e020e9b302</td>\n",
       "      <td>-11</td>\n",
       "      <td>-0.722865</td>\n",
       "      <td>2017-03-10 01:14:19</td>\n",
       "      <td>1.0</td>\n",
       "      <td>16</td>\n",
       "      <td>37</td>\n",
       "    </tr>\n",
       "  </tbody>\n",
       "</table>\n",
       "</div>"
      ],
      "text/plain": [
       "                authorized_flag  city_id category_1  installments  category_3  \\\n",
       "card_id                                                                         \n",
       "C_ID_4e6213e9bc               Y       88          N             0         1.0   \n",
       "C_ID_4e6213e9bc               Y       88          N             0         1.0   \n",
       "C_ID_4e6213e9bc               Y       88          N             0         1.0   \n",
       "C_ID_4e6213e9bc               Y       88          N             0         1.0   \n",
       "C_ID_4e6213e9bc               Y       88          N             0         1.0   \n",
       "\n",
       "                 merchant_category_id      merchant_id  month_lag  \\\n",
       "card_id                                                             \n",
       "C_ID_4e6213e9bc                    80  M_ID_e020e9b302         -8   \n",
       "C_ID_4e6213e9bc                   367  M_ID_86ec983688         -7   \n",
       "C_ID_4e6213e9bc                    80  M_ID_979ed661fc         -6   \n",
       "C_ID_4e6213e9bc                   560  M_ID_e6d5ae8ea6         -5   \n",
       "C_ID_4e6213e9bc                    80  M_ID_e020e9b302        -11   \n",
       "\n",
       "                 purchase_amount        purchase_date  category_2  state_id  \\\n",
       "card_id                                                                       \n",
       "C_ID_4e6213e9bc        -0.703331  2017-06-25 15:33:07         1.0        16   \n",
       "C_ID_4e6213e9bc        -0.733128  2017-07-15 12:10:45         1.0        16   \n",
       "C_ID_4e6213e9bc        -0.720386  2017-08-09 22:04:29         1.0        16   \n",
       "C_ID_4e6213e9bc        -0.735352  2017-09-02 10:06:26         1.0        16   \n",
       "C_ID_4e6213e9bc        -0.722865  2017-03-10 01:14:19         1.0        16   \n",
       "\n",
       "                 subsector_id  \n",
       "card_id                        \n",
       "C_ID_4e6213e9bc            37  \n",
       "C_ID_4e6213e9bc            16  \n",
       "C_ID_4e6213e9bc            37  \n",
       "C_ID_4e6213e9bc            34  \n",
       "C_ID_4e6213e9bc            37  "
      ]
     },
     "execution_count": 34,
     "metadata": {},
     "output_type": "execute_result"
    }
   ],
   "source": [
    "df_hist_trans.head()"
   ]
  },
  {
   "cell_type": "code",
   "execution_count": 35,
   "metadata": {},
   "outputs": [
    {
     "data": {
      "text/plain": [
       " 1.0    15411747\n",
       " 2.0    11677522\n",
       " 3.0     1844933\n",
       "NaN       178159\n",
       "Name: category_3, dtype: int64"
      ]
     },
     "execution_count": 35,
     "metadata": {},
     "output_type": "execute_result"
    }
   ],
   "source": [
    "df_hist_trans.category_3.value_counts(dropna=False)"
   ]
  },
  {
   "cell_type": "code",
   "execution_count": 36,
   "metadata": {
    "_uuid": "402934a2ac491065b853fdcbd3b6580ed29800bc"
   },
   "outputs": [],
   "source": [
    "group_cat3=df_hist_trans.groupby(['card_id']).category_3.sum(min_count=1)"
   ]
  },
  {
   "cell_type": "code",
   "execution_count": 37,
   "metadata": {},
   "outputs": [
    {
     "data": {
      "text/plain": [
       "0"
      ]
     },
     "execution_count": 37,
     "metadata": {},
     "output_type": "execute_result"
    }
   ],
   "source": [
    "group_cat3.isnull().sum()"
   ]
  },
  {
   "cell_type": "markdown",
   "metadata": {},
   "source": [
    "### This means that we don't have any card_id which have only NaN values in category_3. So we can jump to changing nan values in each card id."
   ]
  },
  {
   "cell_type": "code",
   "execution_count": 38,
   "metadata": {},
   "outputs": [
    {
     "data": {
      "text/plain": [
       "card_id\n",
       "C_ID_00007093c1    2.0\n",
       "C_ID_0001238066    2.0\n",
       "C_ID_0001506ef0    1.0\n",
       "C_ID_0001793786    1.0\n",
       "C_ID_000183fdda    2.0\n",
       "Name: authorized_flag, dtype: float64"
      ]
     },
     "execution_count": 38,
     "metadata": {},
     "output_type": "execute_result"
    }
   ],
   "source": [
    "df_hist_trans.reset_index(inplace=True)\n",
    "category_3_count=df_hist_trans.groupby(['card_id','category_3']).count()\n",
    "category_3_count=category_3_count.authorized_flag\n",
    "category_3_count_max=category_3_count.groupby(level=0).idxmax()\n",
    "category_3_count_max=category_3_count_max.apply(lambda x: x[1])\n",
    "category_3_count_max.head()\n"
   ]
  },
  {
   "cell_type": "markdown",
   "metadata": {},
   "source": [
    "### Let's check again what was before"
   ]
  },
  {
   "cell_type": "code",
   "execution_count": 39,
   "metadata": {},
   "outputs": [
    {
     "data": {
      "text/plain": [
       " 1.0    15411747\n",
       " 2.0    11677522\n",
       " 3.0     1844933\n",
       "NaN       178159\n",
       "Name: category_3, dtype: int64"
      ]
     },
     "execution_count": 39,
     "metadata": {},
     "output_type": "execute_result"
    }
   ],
   "source": [
    "df_hist_trans.set_index('card_id',inplace=True)\n",
    "df_hist_trans.category_3.value_counts(dropna=False)"
   ]
  },
  {
   "cell_type": "code",
   "execution_count": 40,
   "metadata": {},
   "outputs": [
    {
     "data": {
      "text/plain": [
       "1.0    15412531\n",
       "2.0    11833535\n",
       "3.0     1866295\n",
       "Name: category_3, dtype: int64"
      ]
     },
     "execution_count": 40,
     "metadata": {},
     "output_type": "execute_result"
    }
   ],
   "source": [
    "df_hist_trans.category_3=df_hist_trans.category_3.fillna(category_3_count_max)\n",
    "df_hist_trans.category_3.value_counts(dropna=False)"
   ]
  },
  {
   "cell_type": "code",
   "execution_count": 41,
   "metadata": {
    "scrolled": true
   },
   "outputs": [
    {
     "data": {
      "text/plain": [
       "A    15412531\n",
       "B    11833535\n",
       "C     1866295\n",
       "Name: category_3, dtype: int64"
      ]
     },
     "execution_count": 41,
     "metadata": {},
     "output_type": "execute_result"
    }
   ],
   "source": [
    "d_cat3_inv={1.0:\"A\",2.0:\"B\",3.0:\"C\"}\n",
    "df_hist_trans.category_3=df_hist_trans.category_3.map(d_cat3_inv)\n",
    "df_hist_trans.category_3.value_counts(dropna=False)"
   ]
  },
  {
   "cell_type": "markdown",
   "metadata": {},
   "source": [
    "### Now let's do it for merchant_id"
   ]
  },
  {
   "cell_type": "code",
   "execution_count": 42,
   "metadata": {
    "scrolled": true
   },
   "outputs": [
    {
     "data": {
      "text/plain": [
       "M_ID_00a6ca8a8a    1115097\n",
       "M_ID_e5374dabc0     428619\n",
       "M_ID_9139332ccc     361385\n",
       "M_ID_50f575c681     183894\n",
       "M_ID_fc7d7969c3     177040\n",
       "Name: merchant_id, dtype: int64"
      ]
     },
     "execution_count": 42,
     "metadata": {},
     "output_type": "execute_result"
    }
   ],
   "source": [
    "#df_hist_trans.set_index('card_id',inplace=True)\n",
    "df_hist_trans.merchant_id.value_counts(dropna=False).head()"
   ]
  },
  {
   "cell_type": "code",
   "execution_count": 43,
   "metadata": {
    "scrolled": true
   },
   "outputs": [
    {
     "data": {
      "text/plain": [
       "card_id\n",
       "C_ID_00007093c1    M_ID_9400cf2342\n",
       "C_ID_0001238066    M_ID_d17aabd756\n",
       "C_ID_0001506ef0    M_ID_b1fc88154d\n",
       "C_ID_0001793786    M_ID_923d57de8d\n",
       "C_ID_000183fdda    M_ID_f9cfe0a43b\n",
       "Name: authorized_flag, dtype: object"
      ]
     },
     "execution_count": 43,
     "metadata": {},
     "output_type": "execute_result"
    }
   ],
   "source": [
    "df_hist_trans.reset_index(inplace=True)\n",
    "merchant_id_count=df_hist_trans.groupby(['card_id','merchant_id']).count()\n",
    "merchant_id_count=merchant_id_count.authorized_flag\n",
    "merchant_id_count_max=merchant_id_count.groupby(level=0).idxmax()\n",
    "merchant_id_count_max=merchant_id_count_max.apply(lambda x: x[1])\n",
    "merchant_id_count_max.head()"
   ]
  },
  {
   "cell_type": "markdown",
   "metadata": {},
   "source": [
    "### Let's check again what was before"
   ]
  },
  {
   "cell_type": "code",
   "execution_count": 44,
   "metadata": {},
   "outputs": [
    {
     "data": {
      "text/plain": [
       "M_ID_00a6ca8a8a    1115097\n",
       "M_ID_e5374dabc0     428619\n",
       "M_ID_9139332ccc     361385\n",
       "M_ID_50f575c681     183894\n",
       "M_ID_fc7d7969c3     177040\n",
       "M_ID_5ba019a379     170935\n",
       "NaN                 138481\n",
       "M_ID_f86439cec0     110341\n",
       "M_ID_1f4773aa76     106476\n",
       "M_ID_86be58d7e0      97259\n",
       "M_ID_98b342c0e3      93394\n",
       "M_ID_d855771cd9      84377\n",
       "M_ID_6f274b9340      81072\n",
       "M_ID_cd2c0b07e9      80179\n",
       "M_ID_57df19bf28      76750\n",
       "M_ID_b9dcf28cb9      75487\n",
       "M_ID_b98db225f5      70384\n",
       "M_ID_445742726b      68499\n",
       "M_ID_2637773dd2      66836\n",
       "M_ID_82a30d9203      65853\n",
       "Name: merchant_id, dtype: int64"
      ]
     },
     "execution_count": 44,
     "metadata": {},
     "output_type": "execute_result"
    }
   ],
   "source": [
    "df_hist_trans.set_index('card_id',inplace=True)\n",
    "df_hist_trans.merchant_id.value_counts(dropna=False).head(20)"
   ]
  },
  {
   "cell_type": "code",
   "execution_count": 45,
   "metadata": {},
   "outputs": [
    {
     "data": {
      "text/plain": [
       "M_ID_00a6ca8a8a    1130790\n",
       "M_ID_e5374dabc0     433318\n",
       "M_ID_9139332ccc     364256\n",
       "M_ID_50f575c681     185941\n",
       "M_ID_fc7d7969c3     177967\n",
       "Name: merchant_id, dtype: int64"
      ]
     },
     "execution_count": 45,
     "metadata": {},
     "output_type": "execute_result"
    }
   ],
   "source": [
    "df_hist_trans.merchant_id=df_hist_trans.merchant_id.fillna(merchant_id_count_max)\n",
    "df_hist_trans.merchant_id.value_counts(dropna=False).head()"
   ]
  },
  {
   "cell_type": "markdown",
   "metadata": {},
   "source": [
    "### Finally, let's check if any nan values left"
   ]
  },
  {
   "cell_type": "code",
   "execution_count": 46,
   "metadata": {
    "scrolled": false
   },
   "outputs": [
    {
     "data": {
      "text/plain": [
       "authorized_flag         False\n",
       "city_id                 False\n",
       "category_1              False\n",
       "installments            False\n",
       "category_3              False\n",
       "merchant_category_id    False\n",
       "merchant_id             False\n",
       "month_lag               False\n",
       "purchase_amount         False\n",
       "purchase_date           False\n",
       "category_2              False\n",
       "state_id                False\n",
       "subsector_id            False\n",
       "dtype: bool"
      ]
     },
     "execution_count": 46,
     "metadata": {},
     "output_type": "execute_result"
    }
   ],
   "source": [
    "df_hist_trans.isnull().any()"
   ]
  },
  {
   "cell_type": "code",
   "execution_count": 47,
   "metadata": {},
   "outputs": [],
   "source": [
    "#df_hist_trans.to_csv('C:/Users/user/Documents/Salamat/ELO/historical_transactions_new.csv')"
   ]
  },
  {
   "cell_type": "markdown",
   "metadata": {},
   "source": [
    "### Now, let's do same for new merchant transactions\n"
   ]
  },
  {
   "cell_type": "code",
   "execution_count": 48,
   "metadata": {},
   "outputs": [],
   "source": [
    "#df_new_merchant_trans = pd.read_csv('C:/Users/user/Documents/Salamat/ELO/new_merchant_transactions.csv')"
   ]
  },
  {
   "cell_type": "code",
   "execution_count": 49,
   "metadata": {},
   "outputs": [
    {
     "data": {
      "text/plain": [
       "authorized_flag         False\n",
       "card_id                 False\n",
       "city_id                 False\n",
       "category_1              False\n",
       "installments            False\n",
       "category_3               True\n",
       "merchant_category_id    False\n",
       "merchant_id              True\n",
       "month_lag               False\n",
       "purchase_amount         False\n",
       "purchase_date           False\n",
       "category_2               True\n",
       "state_id                False\n",
       "subsector_id            False\n",
       "dtype: bool"
      ]
     },
     "execution_count": 49,
     "metadata": {},
     "output_type": "execute_result"
    }
   ],
   "source": [
    "df_new_merchant_trans.isnull().any()"
   ]
  },
  {
   "cell_type": "code",
   "execution_count": 50,
   "metadata": {},
   "outputs": [
    {
     "data": {
      "text/plain": [
       " 1.0    1058242\n",
       " 3.0     289525\n",
       " 5.0     259266\n",
       " 4.0     178590\n",
       "NaN      111745\n",
       " 2.0      65663\n",
       "Name: category_2, dtype: int64"
      ]
     },
     "execution_count": 50,
     "metadata": {},
     "output_type": "execute_result"
    }
   ],
   "source": [
    "df_new_merchant_trans.category_2.value_counts(dropna=False)"
   ]
  },
  {
   "cell_type": "code",
   "execution_count": 51,
   "metadata": {},
   "outputs": [],
   "source": [
    "group_cat2=df_new_merchant_trans.groupby(['card_id']).category_2.sum(min_count=1)"
   ]
  },
  {
   "cell_type": "code",
   "execution_count": 52,
   "metadata": {},
   "outputs": [
    {
     "data": {
      "text/plain": [
       "card_id\n",
       "C_ID_000cfb6503   NaN\n",
       "C_ID_000f6fea6a   NaN\n",
       "C_ID_000f7e3e49   NaN\n",
       "C_ID_0017dadfd5   NaN\n",
       "C_ID_001b43d48f   NaN\n",
       "Name: category_2, dtype: float16"
      ]
     },
     "execution_count": 52,
     "metadata": {},
     "output_type": "execute_result"
    }
   ],
   "source": [
    "group_cat2_nan=group_cat2[group_cat2.isnull()]\n",
    "group_cat2_nan.head()"
   ]
  },
  {
   "cell_type": "code",
   "execution_count": 53,
   "metadata": {},
   "outputs": [
    {
     "data": {
      "text/plain": [
       "array([ 1.])"
      ]
     },
     "execution_count": 53,
     "metadata": {},
     "output_type": "execute_result"
    }
   ],
   "source": [
    "df_new_merchant_trans.set_index('card_id',inplace=True)\n",
    "df_new_merchant_trans.loc[group_cat2_nan.index,'category_2']=1\n",
    "df_new_merchant_trans.loc[group_cat2_nan.index,'category_2'].unique()"
   ]
  },
  {
   "cell_type": "code",
   "execution_count": 54,
   "metadata": {
    "scrolled": true
   },
   "outputs": [
    {
     "data": {
      "text/plain": [
       " 1.0    1077518\n",
       " 3.0     289525\n",
       " 5.0     259266\n",
       " 4.0     178590\n",
       "NaN       92469\n",
       " 2.0      65663\n",
       "Name: category_2, dtype: int64"
      ]
     },
     "execution_count": 54,
     "metadata": {},
     "output_type": "execute_result"
    }
   ],
   "source": [
    "df_new_merchant_trans.category_2.value_counts(dropna=False)"
   ]
  },
  {
   "cell_type": "code",
   "execution_count": 55,
   "metadata": {},
   "outputs": [
    {
     "data": {
      "text/html": [
       "<div>\n",
       "<style scoped>\n",
       "    .dataframe tbody tr th:only-of-type {\n",
       "        vertical-align: middle;\n",
       "    }\n",
       "\n",
       "    .dataframe tbody tr th {\n",
       "        vertical-align: top;\n",
       "    }\n",
       "\n",
       "    .dataframe thead th {\n",
       "        text-align: right;\n",
       "    }\n",
       "</style>\n",
       "<table border=\"1\" class=\"dataframe\">\n",
       "  <thead>\n",
       "    <tr style=\"text-align: right;\">\n",
       "      <th></th>\n",
       "      <th></th>\n",
       "      <th>authorized_flag</th>\n",
       "      <th>city_id</th>\n",
       "      <th>category_1</th>\n",
       "      <th>installments</th>\n",
       "      <th>category_3</th>\n",
       "      <th>merchant_category_id</th>\n",
       "      <th>merchant_id</th>\n",
       "      <th>month_lag</th>\n",
       "      <th>purchase_amount</th>\n",
       "      <th>purchase_date</th>\n",
       "      <th>state_id</th>\n",
       "      <th>subsector_id</th>\n",
       "    </tr>\n",
       "    <tr>\n",
       "      <th>card_id</th>\n",
       "      <th>category_2</th>\n",
       "      <th></th>\n",
       "      <th></th>\n",
       "      <th></th>\n",
       "      <th></th>\n",
       "      <th></th>\n",
       "      <th></th>\n",
       "      <th></th>\n",
       "      <th></th>\n",
       "      <th></th>\n",
       "      <th></th>\n",
       "      <th></th>\n",
       "      <th></th>\n",
       "    </tr>\n",
       "  </thead>\n",
       "  <tbody>\n",
       "    <tr>\n",
       "      <th rowspan=\"2\" valign=\"top\">C_ID_00007093c1</th>\n",
       "      <th>1.0</th>\n",
       "      <td>1</td>\n",
       "      <td>1</td>\n",
       "      <td>1</td>\n",
       "      <td>1</td>\n",
       "      <td>1</td>\n",
       "      <td>1</td>\n",
       "      <td>1</td>\n",
       "      <td>1</td>\n",
       "      <td>1</td>\n",
       "      <td>1</td>\n",
       "      <td>1</td>\n",
       "      <td>1</td>\n",
       "    </tr>\n",
       "    <tr>\n",
       "      <th>3.0</th>\n",
       "      <td>1</td>\n",
       "      <td>1</td>\n",
       "      <td>1</td>\n",
       "      <td>1</td>\n",
       "      <td>1</td>\n",
       "      <td>1</td>\n",
       "      <td>1</td>\n",
       "      <td>1</td>\n",
       "      <td>1</td>\n",
       "      <td>1</td>\n",
       "      <td>1</td>\n",
       "      <td>1</td>\n",
       "    </tr>\n",
       "    <tr>\n",
       "      <th rowspan=\"2\" valign=\"top\">C_ID_0001238066</th>\n",
       "      <th>1.0</th>\n",
       "      <td>20</td>\n",
       "      <td>20</td>\n",
       "      <td>20</td>\n",
       "      <td>20</td>\n",
       "      <td>19</td>\n",
       "      <td>20</td>\n",
       "      <td>20</td>\n",
       "      <td>20</td>\n",
       "      <td>20</td>\n",
       "      <td>20</td>\n",
       "      <td>20</td>\n",
       "      <td>20</td>\n",
       "    </tr>\n",
       "    <tr>\n",
       "      <th>5.0</th>\n",
       "      <td>3</td>\n",
       "      <td>3</td>\n",
       "      <td>3</td>\n",
       "      <td>3</td>\n",
       "      <td>3</td>\n",
       "      <td>3</td>\n",
       "      <td>3</td>\n",
       "      <td>3</td>\n",
       "      <td>3</td>\n",
       "      <td>3</td>\n",
       "      <td>3</td>\n",
       "      <td>3</td>\n",
       "    </tr>\n",
       "    <tr>\n",
       "      <th>C_ID_0001506ef0</th>\n",
       "      <th>3.0</th>\n",
       "      <td>2</td>\n",
       "      <td>2</td>\n",
       "      <td>2</td>\n",
       "      <td>2</td>\n",
       "      <td>2</td>\n",
       "      <td>2</td>\n",
       "      <td>1</td>\n",
       "      <td>2</td>\n",
       "      <td>2</td>\n",
       "      <td>2</td>\n",
       "      <td>2</td>\n",
       "      <td>2</td>\n",
       "    </tr>\n",
       "    <tr>\n",
       "      <th rowspan=\"4\" valign=\"top\">C_ID_0001793786</th>\n",
       "      <th>1.0</th>\n",
       "      <td>15</td>\n",
       "      <td>15</td>\n",
       "      <td>15</td>\n",
       "      <td>15</td>\n",
       "      <td>15</td>\n",
       "      <td>15</td>\n",
       "      <td>15</td>\n",
       "      <td>15</td>\n",
       "      <td>15</td>\n",
       "      <td>15</td>\n",
       "      <td>15</td>\n",
       "      <td>15</td>\n",
       "    </tr>\n",
       "    <tr>\n",
       "      <th>2.0</th>\n",
       "      <td>8</td>\n",
       "      <td>8</td>\n",
       "      <td>8</td>\n",
       "      <td>8</td>\n",
       "      <td>8</td>\n",
       "      <td>8</td>\n",
       "      <td>8</td>\n",
       "      <td>8</td>\n",
       "      <td>8</td>\n",
       "      <td>8</td>\n",
       "      <td>8</td>\n",
       "      <td>8</td>\n",
       "    </tr>\n",
       "    <tr>\n",
       "      <th>3.0</th>\n",
       "      <td>5</td>\n",
       "      <td>5</td>\n",
       "      <td>5</td>\n",
       "      <td>5</td>\n",
       "      <td>5</td>\n",
       "      <td>5</td>\n",
       "      <td>5</td>\n",
       "      <td>5</td>\n",
       "      <td>5</td>\n",
       "      <td>5</td>\n",
       "      <td>5</td>\n",
       "      <td>5</td>\n",
       "    </tr>\n",
       "    <tr>\n",
       "      <th>5.0</th>\n",
       "      <td>1</td>\n",
       "      <td>1</td>\n",
       "      <td>1</td>\n",
       "      <td>1</td>\n",
       "      <td>1</td>\n",
       "      <td>1</td>\n",
       "      <td>1</td>\n",
       "      <td>1</td>\n",
       "      <td>1</td>\n",
       "      <td>1</td>\n",
       "      <td>1</td>\n",
       "      <td>1</td>\n",
       "    </tr>\n",
       "    <tr>\n",
       "      <th>C_ID_000183fdda</th>\n",
       "      <th>3.0</th>\n",
       "      <td>11</td>\n",
       "      <td>11</td>\n",
       "      <td>11</td>\n",
       "      <td>11</td>\n",
       "      <td>10</td>\n",
       "      <td>11</td>\n",
       "      <td>11</td>\n",
       "      <td>11</td>\n",
       "      <td>11</td>\n",
       "      <td>11</td>\n",
       "      <td>11</td>\n",
       "      <td>11</td>\n",
       "    </tr>\n",
       "  </tbody>\n",
       "</table>\n",
       "</div>"
      ],
      "text/plain": [
       "                            authorized_flag  city_id  category_1  \\\n",
       "card_id         category_2                                         \n",
       "C_ID_00007093c1 1.0                       1        1           1   \n",
       "                3.0                       1        1           1   \n",
       "C_ID_0001238066 1.0                      20       20          20   \n",
       "                5.0                       3        3           3   \n",
       "C_ID_0001506ef0 3.0                       2        2           2   \n",
       "C_ID_0001793786 1.0                      15       15          15   \n",
       "                2.0                       8        8           8   \n",
       "                3.0                       5        5           5   \n",
       "                5.0                       1        1           1   \n",
       "C_ID_000183fdda 3.0                      11       11          11   \n",
       "\n",
       "                            installments  category_3  merchant_category_id  \\\n",
       "card_id         category_2                                                   \n",
       "C_ID_00007093c1 1.0                    1           1                     1   \n",
       "                3.0                    1           1                     1   \n",
       "C_ID_0001238066 1.0                   20          19                    20   \n",
       "                5.0                    3           3                     3   \n",
       "C_ID_0001506ef0 3.0                    2           2                     2   \n",
       "C_ID_0001793786 1.0                   15          15                    15   \n",
       "                2.0                    8           8                     8   \n",
       "                3.0                    5           5                     5   \n",
       "                5.0                    1           1                     1   \n",
       "C_ID_000183fdda 3.0                   11          10                    11   \n",
       "\n",
       "                            merchant_id  month_lag  purchase_amount  \\\n",
       "card_id         category_2                                            \n",
       "C_ID_00007093c1 1.0                   1          1                1   \n",
       "                3.0                   1          1                1   \n",
       "C_ID_0001238066 1.0                  20         20               20   \n",
       "                5.0                   3          3                3   \n",
       "C_ID_0001506ef0 3.0                   1          2                2   \n",
       "C_ID_0001793786 1.0                  15         15               15   \n",
       "                2.0                   8          8                8   \n",
       "                3.0                   5          5                5   \n",
       "                5.0                   1          1                1   \n",
       "C_ID_000183fdda 3.0                  11         11               11   \n",
       "\n",
       "                            purchase_date  state_id  subsector_id  \n",
       "card_id         category_2                                         \n",
       "C_ID_00007093c1 1.0                     1         1             1  \n",
       "                3.0                     1         1             1  \n",
       "C_ID_0001238066 1.0                    20        20            20  \n",
       "                5.0                     3         3             3  \n",
       "C_ID_0001506ef0 3.0                     2         2             2  \n",
       "C_ID_0001793786 1.0                    15        15            15  \n",
       "                2.0                     8         8             8  \n",
       "                3.0                     5         5             5  \n",
       "                5.0                     1         1             1  \n",
       "C_ID_000183fdda 3.0                    11        11            11  "
      ]
     },
     "execution_count": 55,
     "metadata": {},
     "output_type": "execute_result"
    }
   ],
   "source": [
    "df_new_merchant_trans.reset_index(inplace=True)\n",
    "category_2_count=df_new_merchant_trans.groupby(['card_id','category_2']).count()\n",
    "category_2_count.head(10)"
   ]
  },
  {
   "cell_type": "code",
   "execution_count": 56,
   "metadata": {},
   "outputs": [
    {
     "data": {
      "text/plain": [
       "card_id\n",
       "C_ID_00007093c1    1.0\n",
       "C_ID_0001238066    1.0\n",
       "C_ID_0001506ef0    3.0\n",
       "C_ID_0001793786    1.0\n",
       "C_ID_000183fdda    3.0\n",
       "Name: authorized_flag, dtype: float64"
      ]
     },
     "execution_count": 56,
     "metadata": {},
     "output_type": "execute_result"
    }
   ],
   "source": [
    "category_2_count=category_2_count.authorized_flag\n",
    "category_2_count_max=category_2_count.groupby(level=0).idxmax()\n",
    "category_2_count_max=category_2_count_max.apply(lambda x: x[1])\n",
    "category_2_count_max.head()"
   ]
  },
  {
   "cell_type": "code",
   "execution_count": 57,
   "metadata": {},
   "outputs": [
    {
     "name": "stdout",
     "output_type": "stream",
     "text": [
      "before replacing nan values\n",
      " 1.0    1077518\n",
      " 3.0     289525\n",
      " 5.0     259266\n",
      " 4.0     178590\n",
      "NaN       92469\n",
      " 2.0      65663\n",
      "Name: category_2, dtype: int64\n",
      "after replacing nan values\n",
      "1.0    1129966\n",
      "3.0     304780\n",
      "5.0     270897\n",
      "4.0     185915\n",
      "2.0      71473\n",
      "Name: category_2, dtype: int64\n"
     ]
    }
   ],
   "source": [
    "df_new_merchant_trans.set_index('card_id',inplace=True)\n",
    "print(\"before replacing nan values\")\n",
    "print(df_new_merchant_trans.category_2.value_counts(dropna=False))\n",
    "df_new_merchant_trans.category_2=df_new_merchant_trans.category_2.fillna(category_2_count_max)\n",
    "print(\"after replacing nan values\")\n",
    "print(df_new_merchant_trans.category_2.value_counts(dropna=False))"
   ]
  },
  {
   "cell_type": "markdown",
   "metadata": {},
   "source": [
    "### Now let's do it in category_3"
   ]
  },
  {
   "cell_type": "code",
   "execution_count": 58,
   "metadata": {},
   "outputs": [
    {
     "data": {
      "text/plain": [
       "A      922244\n",
       "B      836178\n",
       "C      148687\n",
       "NaN     55922\n",
       "Name: category_3, dtype: int64"
      ]
     },
     "execution_count": 58,
     "metadata": {},
     "output_type": "execute_result"
    }
   ],
   "source": [
    "df_new_merchant_trans.category_3.value_counts(dropna=False)"
   ]
  },
  {
   "cell_type": "code",
   "execution_count": 59,
   "metadata": {},
   "outputs": [
    {
     "data": {
      "text/plain": [
       " 1.0    922244\n",
       " 2.0    836178\n",
       " 3.0    148687\n",
       "NaN      55922\n",
       "Name: category_3, dtype: int64"
      ]
     },
     "execution_count": 59,
     "metadata": {},
     "output_type": "execute_result"
    }
   ],
   "source": [
    "d_cat3={'A':1,'B':2,'C':3}\n",
    "df_new_merchant_trans.category_3=df_new_merchant_trans.category_3.map(d_cat3)\n",
    "df_new_merchant_trans.category_3.value_counts(dropna=False)"
   ]
  },
  {
   "cell_type": "code",
   "execution_count": 60,
   "metadata": {},
   "outputs": [
    {
     "data": {
      "text/plain": [
       "0"
      ]
     },
     "execution_count": 60,
     "metadata": {},
     "output_type": "execute_result"
    }
   ],
   "source": [
    "group_cat3.isnull().sum()"
   ]
  },
  {
   "cell_type": "markdown",
   "metadata": {},
   "source": [
    "### This means that we don't have any card_id which have only NaN values in category_3. So we can jump to changing nan values in each card id."
   ]
  },
  {
   "cell_type": "code",
   "execution_count": 61,
   "metadata": {},
   "outputs": [
    {
     "data": {
      "text/plain": [
       "card_id\n",
       "C_ID_00007093c1    2.0\n",
       "C_ID_0001238066    2.0\n",
       "C_ID_0001506ef0    1.0\n",
       "C_ID_0001793786    1.0\n",
       "C_ID_000183fdda    2.0\n",
       "Name: authorized_flag, dtype: float64"
      ]
     },
     "execution_count": 61,
     "metadata": {},
     "output_type": "execute_result"
    }
   ],
   "source": [
    "df_new_merchant_trans.reset_index(inplace=True)\n",
    "category_3_count=df_new_merchant_trans.groupby(['card_id','category_3']).count()\n",
    "category_3_count=category_3_count.authorized_flag\n",
    "category_3_count_max=category_3_count.groupby(level=0).idxmax()\n",
    "category_3_count_max=category_3_count_max.apply(lambda x: x[1])\n",
    "category_3_count_max.head()"
   ]
  },
  {
   "cell_type": "markdown",
   "metadata": {},
   "source": [
    "### Let's check again what was before"
   ]
  },
  {
   "cell_type": "code",
   "execution_count": 62,
   "metadata": {},
   "outputs": [
    {
     "data": {
      "text/plain": [
       " 1.0    922244\n",
       " 2.0    836178\n",
       " 3.0    148687\n",
       "NaN      55922\n",
       "Name: category_3, dtype: int64"
      ]
     },
     "execution_count": 62,
     "metadata": {},
     "output_type": "execute_result"
    }
   ],
   "source": [
    "df_new_merchant_trans.set_index('card_id',inplace=True)\n",
    "df_new_merchant_trans.category_3.value_counts(dropna=False)"
   ]
  },
  {
   "cell_type": "code",
   "execution_count": 63,
   "metadata": {},
   "outputs": [
    {
     "data": {
      "text/plain": [
       " 1.0    922575\n",
       " 2.0    883126\n",
       " 3.0    154744\n",
       "NaN       2586\n",
       "Name: category_3, dtype: int64"
      ]
     },
     "execution_count": 63,
     "metadata": {},
     "output_type": "execute_result"
    }
   ],
   "source": [
    "df_new_merchant_trans.category_3=df_new_merchant_trans.category_3.fillna(category_3_count_max)\n",
    "df_new_merchant_trans.category_3.value_counts(dropna=False)"
   ]
  },
  {
   "cell_type": "markdown",
   "metadata": {},
   "source": [
    "### There are still categories which are Nan. Maybe we can get them from historical transactions."
   ]
  },
  {
   "cell_type": "code",
   "execution_count": 64,
   "metadata": {},
   "outputs": [
    {
     "data": {
      "text/plain": [
       "A    15412531\n",
       "B    11833535\n",
       "C     1866295\n",
       "Name: category_3, dtype: int64"
      ]
     },
     "execution_count": 64,
     "metadata": {},
     "output_type": "execute_result"
    }
   ],
   "source": [
    "df_hist_trans.category_3.value_counts(dropna=False)"
   ]
  },
  {
   "cell_type": "code",
   "execution_count": 65,
   "metadata": {
    "scrolled": true
   },
   "outputs": [],
   "source": [
    "#df_hist_trans = pd.read_csv('C:/Users/user/Documents/Salamat/ELO/historical_transactions.csv')\n",
    "#df_hist_trans=reduce_mem_usage(df_hist_trans)"
   ]
  },
  {
   "cell_type": "code",
   "execution_count": 66,
   "metadata": {},
   "outputs": [],
   "source": [
    "df_hist_trans.category_3=df_hist_trans.category_3.map(d_cat3)"
   ]
  },
  {
   "cell_type": "code",
   "execution_count": 67,
   "metadata": {},
   "outputs": [
    {
     "data": {
      "text/plain": [
       "card_id\n",
       "C_ID_00007093c1    2\n",
       "C_ID_0001238066    2\n",
       "C_ID_0001506ef0    1\n",
       "C_ID_0001793786    1\n",
       "C_ID_000183fdda    2\n",
       "Name: authorized_flag, dtype: int64"
      ]
     },
     "execution_count": 67,
     "metadata": {},
     "output_type": "execute_result"
    }
   ],
   "source": [
    "category_3_count_h=df_hist_trans.groupby(['card_id','category_3']).count()\n",
    "category_3_count_h=category_3_count_h.authorized_flag\n",
    "category_3_count_h_max=category_3_count_h.groupby(level=0).idxmax()\n",
    "category_3_count_h_max=category_3_count_h_max.apply(lambda x: x[1])\n",
    "category_3_count_h_max.head()"
   ]
  },
  {
   "cell_type": "code",
   "execution_count": 68,
   "metadata": {},
   "outputs": [
    {
     "data": {
      "text/plain": [
       "1.0    922582\n",
       "2.0    884860\n",
       "3.0    155589\n",
       "Name: category_3, dtype: int64"
      ]
     },
     "execution_count": 68,
     "metadata": {},
     "output_type": "execute_result"
    }
   ],
   "source": [
    "df_new_merchant_trans.category_3=df_new_merchant_trans.category_3.fillna(category_3_count_h_max)\n",
    "df_new_merchant_trans.category_3.value_counts(dropna=False)"
   ]
  },
  {
   "cell_type": "code",
   "execution_count": 69,
   "metadata": {},
   "outputs": [
    {
     "data": {
      "text/plain": [
       "A    922582\n",
       "B    884860\n",
       "C    155589\n",
       "Name: category_3, dtype: int64"
      ]
     },
     "execution_count": 69,
     "metadata": {},
     "output_type": "execute_result"
    }
   ],
   "source": [
    "df_new_merchant_trans.category_3=df_new_merchant_trans.category_3.map(d_cat3_inv)\n",
    "df_new_merchant_trans.category_3.value_counts(dropna=False)"
   ]
  },
  {
   "cell_type": "markdown",
   "metadata": {},
   "source": [
    "### Good we are able to remove all nan values by using historic transactions for category_3\n",
    "### Now, let's work on 'merchant_id'"
   ]
  },
  {
   "cell_type": "code",
   "execution_count": 70,
   "metadata": {
    "scrolled": false
   },
   "outputs": [
    {
     "data": {
      "text/plain": [
       "NaN                26216\n",
       "M_ID_00a6ca8a8a    23018\n",
       "M_ID_cd2c0b07e9    19118\n",
       "M_ID_9139332ccc    14220\n",
       "M_ID_50f575c681    13778\n",
       "Name: merchant_id, dtype: int64"
      ]
     },
     "execution_count": 70,
     "metadata": {},
     "output_type": "execute_result"
    }
   ],
   "source": [
    "df_new_merchant_trans.merchant_id.value_counts(dropna=False).head()"
   ]
  },
  {
   "cell_type": "code",
   "execution_count": 71,
   "metadata": {},
   "outputs": [
    {
     "data": {
      "text/plain": [
       "(26216, 13)"
      ]
     },
     "execution_count": 71,
     "metadata": {},
     "output_type": "execute_result"
    }
   ],
   "source": [
    "df_new_merchant_trans[df_new_merchant_trans.merchant_id.isnull()].shape"
   ]
  },
  {
   "cell_type": "code",
   "execution_count": 72,
   "metadata": {},
   "outputs": [],
   "source": [
    "\n",
    "#df_new_merchant_trans[df_new_merchant_trans.merchant_id.isnull()].index.unique().shape"
   ]
  },
  {
   "cell_type": "markdown",
   "metadata": {},
   "source": [
    "### Almost all of them are unique"
   ]
  },
  {
   "cell_type": "code",
   "execution_count": 73,
   "metadata": {},
   "outputs": [
    {
     "data": {
      "text/plain": [
       "card_id\n",
       "C_ID_00007093c1    M_ID_00a6ca8a8a\n",
       "C_ID_0001238066    M_ID_00a6ca8a8a\n",
       "C_ID_0001506ef0    M_ID_ab756f937e\n",
       "C_ID_0001793786    M_ID_0360f86430\n",
       "C_ID_000183fdda    M_ID_113378fe3b\n",
       "Name: authorized_flag, dtype: object"
      ]
     },
     "execution_count": 73,
     "metadata": {},
     "output_type": "execute_result"
    }
   ],
   "source": [
    "df_new_merchant_trans.reset_index(inplace=True)\n",
    "merchant_id_count=df_new_merchant_trans.groupby(['card_id','merchant_id']).count()\n",
    "merchant_id_count=merchant_id_count.authorized_flag\n",
    "merchant_id_count_max=merchant_id_count.groupby(level=0).idxmax()\n",
    "merchant_id_count_max=merchant_id_count_max.apply(lambda x: x[1])\n",
    "merchant_id_count_max.head()"
   ]
  },
  {
   "cell_type": "code",
   "execution_count": 74,
   "metadata": {
    "scrolled": true
   },
   "outputs": [
    {
     "data": {
      "text/plain": [
       "NaN                26216\n",
       "M_ID_00a6ca8a8a    23018\n",
       "M_ID_cd2c0b07e9    19118\n",
       "M_ID_9139332ccc    14220\n",
       "M_ID_50f575c681    13778\n",
       "Name: merchant_id, dtype: int64"
      ]
     },
     "execution_count": 74,
     "metadata": {},
     "output_type": "execute_result"
    }
   ],
   "source": [
    "df_new_merchant_trans.merchant_id=df_new_merchant_trans.merchant_id.fillna(merchant_id_count_max)\n",
    "df_new_merchant_trans.merchant_id.value_counts(dropna=False).head()"
   ]
  },
  {
   "cell_type": "markdown",
   "metadata": {},
   "source": [
    "### It doesn't help at all. So, let's use data from historical transactions.\n",
    "### It seems that historic transaction doesn't help as well. Probably"
   ]
  },
  {
   "cell_type": "code",
   "execution_count": 75,
   "metadata": {},
   "outputs": [],
   "source": [
    "#df_hist_trans = pd.read_csv('C:/Users/user/Documents/Salamat/ELO/historical_transactions.csv')\n",
    "#df_hist_trans=reduce_mem_usage(df_hist_trans)\n"
   ]
  },
  {
   "cell_type": "code",
   "execution_count": 76,
   "metadata": {},
   "outputs": [
    {
     "data": {
      "text/plain": [
       "card_id\n",
       "C_ID_00007093c1    M_ID_9400cf2342\n",
       "C_ID_0001238066    M_ID_d17aabd756\n",
       "C_ID_0001506ef0    M_ID_b1fc88154d\n",
       "C_ID_0001793786    M_ID_923d57de8d\n",
       "C_ID_000183fdda    M_ID_f9cfe0a43b\n",
       "Name: authorized_flag, dtype: object"
      ]
     },
     "execution_count": 76,
     "metadata": {},
     "output_type": "execute_result"
    }
   ],
   "source": [
    "merchant_id_count_h=df_hist_trans.groupby(['card_id','merchant_id']).count()\n",
    "merchant_id_count_h=merchant_id_count_h.authorized_flag\n",
    "merchant_id_count_max_h=merchant_id_count_h.groupby(level=0).idxmax()\n",
    "merchant_id_count_max_h=merchant_id_count_max_h.apply(lambda x: x[1])\n",
    "merchant_id_count_max_h.head()"
   ]
  },
  {
   "cell_type": "code",
   "execution_count": 77,
   "metadata": {},
   "outputs": [
    {
     "data": {
      "text/plain": [
       "NaN                26216\n",
       "M_ID_00a6ca8a8a    23018\n",
       "M_ID_cd2c0b07e9    19118\n",
       "M_ID_9139332ccc    14220\n",
       "M_ID_50f575c681    13778\n",
       "Name: merchant_id, dtype: int64"
      ]
     },
     "execution_count": 77,
     "metadata": {},
     "output_type": "execute_result"
    }
   ],
   "source": [
    "df_new_merchant_trans.merchant_id=df_new_merchant_trans.merchant_id.fillna(merchant_id_count_max_h)\n",
    "df_new_merchant_trans.merchant_id.value_counts(dropna=False).head()"
   ]
  },
  {
   "cell_type": "markdown",
   "metadata": {},
   "source": [
    "### It seems that historic transaction doesn't help as well. Probably, those card_id with nan values appear only in new transaction"
   ]
  },
  {
   "cell_type": "code",
   "execution_count": 78,
   "metadata": {},
   "outputs": [],
   "source": [
    "car_id_nan=df_new_merchant_trans[df_new_merchant_trans.merchant_id.isnull()].card_id"
   ]
  },
  {
   "cell_type": "code",
   "execution_count": 79,
   "metadata": {
    "scrolled": true
   },
   "outputs": [
    {
     "data": {
      "text/plain": [
       "M_ID_00a6ca8a8a    117564\n",
       "M_ID_e5374dabc0     38087\n",
       "M_ID_9139332ccc     26338\n",
       "M_ID_50f575c681     18789\n",
       "M_ID_5ba019a379     16390\n",
       "M_ID_fc7d7969c3     13282\n",
       "M_ID_f86439cec0     10975\n",
       "M_ID_1f4773aa76     10091\n",
       "M_ID_98b342c0e3      9857\n",
       "M_ID_d855771cd9      8569\n",
       "M_ID_cd2c0b07e9      8220\n",
       "M_ID_86be58d7e0      7555\n",
       "M_ID_b9dcf28cb9      7378\n",
       "M_ID_2637773dd2      6833\n",
       "M_ID_82a30d9203      6532\n",
       "M_ID_b98db225f5      6506\n",
       "M_ID_6f274b9340      5598\n",
       "M_ID_940fb4498f      5445\n",
       "M_ID_c03b62d83d      5376\n",
       "M_ID_57df19bf28      5061\n",
       "M_ID_48257bb851      4820\n",
       "M_ID_820c7b73c8      4691\n",
       "M_ID_445742726b      4688\n",
       "M_ID_deb43ff012      4538\n",
       "M_ID_a9d91682ad      4436\n",
       "M_ID_26d4fadb60      4220\n",
       "M_ID_1ac6bbc867      4210\n",
       "M_ID_7c5e93af2f      4137\n",
       "M_ID_b5b80addf5      4110\n",
       "M_ID_59764e8cb1      3823\n",
       "                    ...  \n",
       "M_ID_06a294f13c         1\n",
       "M_ID_9ae1973b8a         1\n",
       "M_ID_c0426aeaeb         1\n",
       "M_ID_f09d59089a         1\n",
       "M_ID_beda97ddfe         1\n",
       "M_ID_22f1e676fc         1\n",
       "M_ID_dc1fb7e314         1\n",
       "M_ID_6e755b3fbd         1\n",
       "M_ID_abccc819ae         1\n",
       "M_ID_b7b157461d         1\n",
       "M_ID_b92507769f         1\n",
       "M_ID_13d7b37415         1\n",
       "M_ID_ef80190fbb         1\n",
       "M_ID_df68844ef8         1\n",
       "M_ID_1ca080deb7         1\n",
       "M_ID_099c520ca3         1\n",
       "M_ID_3642d80a00         1\n",
       "M_ID_c2cd2c948b         1\n",
       "M_ID_9ea5a1f4eb         1\n",
       "M_ID_8d247241e6         1\n",
       "M_ID_47d4a38e25         1\n",
       "M_ID_25575ce1e7         1\n",
       "M_ID_c1a6afcd13         1\n",
       "M_ID_57c3ae64e0         1\n",
       "M_ID_52af819b8b         1\n",
       "M_ID_f71ae15ab2         1\n",
       "M_ID_cd49905bc4         1\n",
       "M_ID_3a8746f253         1\n",
       "M_ID_7b0d574d91         1\n",
       "M_ID_9ad6832c67         1\n",
       "Name: merchant_id, Length: 181925, dtype: int64"
      ]
     },
     "execution_count": 79,
     "metadata": {},
     "output_type": "execute_result"
    }
   ],
   "source": [
    "\n",
    "df_hist_trans[df_hist_trans.index.isin(car_id_nan)].merchant_id.value_counts()"
   ]
  },
  {
   "cell_type": "markdown",
   "metadata": {},
   "source": [
    "### Let's just change to the most frequent value"
   ]
  },
  {
   "cell_type": "code",
   "execution_count": 80,
   "metadata": {},
   "outputs": [
    {
     "data": {
      "text/plain": [
       "M_ID_00a6ca8a8a    23018\n",
       "M_ID_cd2c0b07e9    19118\n",
       "M_ID_9139332ccc    14220\n",
       "M_ID_50f575c681    13778\n",
       "M_ID_725a60d404     7029\n",
       "Name: merchant_id, dtype: int64"
      ]
     },
     "execution_count": 80,
     "metadata": {},
     "output_type": "execute_result"
    }
   ],
   "source": [
    "df_new_merchant_trans.merchant_id.value_counts().head()"
   ]
  },
  {
   "cell_type": "code",
   "execution_count": 81,
   "metadata": {},
   "outputs": [],
   "source": [
    "df_new_merchant_trans['merchant_id'].fillna('M_ID_00a6ca8a8a',inplace=True)"
   ]
  },
  {
   "cell_type": "code",
   "execution_count": 82,
   "metadata": {},
   "outputs": [
    {
     "data": {
      "text/plain": [
       "card_id                 False\n",
       "authorized_flag         False\n",
       "city_id                 False\n",
       "category_1              False\n",
       "installments            False\n",
       "category_3              False\n",
       "merchant_category_id    False\n",
       "merchant_id             False\n",
       "month_lag               False\n",
       "purchase_amount         False\n",
       "purchase_date           False\n",
       "category_2              False\n",
       "state_id                False\n",
       "subsector_id            False\n",
       "dtype: bool"
      ]
     },
     "execution_count": 82,
     "metadata": {},
     "output_type": "execute_result"
    }
   ],
   "source": [
    "df_new_merchant_trans.isnull().any()"
   ]
  },
  {
   "cell_type": "code",
   "execution_count": 83,
   "metadata": {},
   "outputs": [],
   "source": [
    "#df_new_merchant_trans.to_csv('C:/Users/user/Documents/Salamat/ELO/new_merchant_transactions_new.csv')"
   ]
  },
  {
   "cell_type": "code",
   "execution_count": 84,
   "metadata": {},
   "outputs": [],
   "source": [
    "# df_hist_trans = pd.read_csv('C:/Users/user/Documents/Salamat/ELO/historical_transactions_new.csv')\n",
    "# df_hist_trans=reduce_mem_usage(df_hist_trans)\n"
   ]
  },
  {
   "cell_type": "code",
   "execution_count": 85,
   "metadata": {
    "scrolled": true
   },
   "outputs": [
    {
     "data": {
      "text/plain": [
       "authorized_flag         False\n",
       "city_id                 False\n",
       "category_1              False\n",
       "installments            False\n",
       "category_3              False\n",
       "merchant_category_id    False\n",
       "merchant_id             False\n",
       "month_lag               False\n",
       "purchase_amount         False\n",
       "purchase_date           False\n",
       "category_2              False\n",
       "state_id                False\n",
       "subsector_id            False\n",
       "dtype: bool"
      ]
     },
     "execution_count": 85,
     "metadata": {},
     "output_type": "execute_result"
    }
   ],
   "source": [
    "df_hist_trans.isnull().any()"
   ]
  },
  {
   "cell_type": "markdown",
   "metadata": {},
   "source": [
    "# Testing is started here"
   ]
  },
  {
   "cell_type": "code",
   "execution_count": 3,
   "metadata": {},
   "outputs": [],
   "source": [
    "df_hist_trans = pd.read_csv('C:/Users/user/Documents/Salamat/ELO/historical_transactions_new.csv')\n",
    "df_new_merchant_trans = pd.read_csv('C:/Users/user/Documents/Salamat/ELO/new_merchant_transactions_new.csv')\n",
    "df_train = pd.read_csv('C:/Users/user/Documents/Salamat/ELO/train.csv')\n",
    "df_test = pd.read_csv('test_without_nan.csv') # nan values filled by first purchase from historic transactions\n"
   ]
  },
  {
   "cell_type": "code",
   "execution_count": 4,
   "metadata": {},
   "outputs": [
    {
     "name": "stdout",
     "output_type": "stream",
     "text": [
      "Mem. usage decreased to 1749.11 Mb (43.7% reduction)\n",
      "Mem. usage decreased to 114.20 Mb (45.5% reduction)\n",
      "Mem. usage decreased to  4.04 Mb (56.2% reduction)\n",
      "Mem. usage decreased to  2.24 Mb (52.5% reduction)\n"
     ]
    }
   ],
   "source": [
    "df_hist_trans=reduce_mem_usage(df_hist_trans)\n",
    "df_new_merchant_trans=reduce_mem_usage(df_new_merchant_trans)\n",
    "df_train=reduce_mem_usage(df_train)\n",
    "df_test=reduce_mem_usage(df_test)"
   ]
  },
  {
   "cell_type": "markdown",
   "metadata": {},
   "source": [
    "### Now let's work with dates . We need reference date at month_lag=0. Let's start with converting purchase_date to datime"
   ]
  },
  {
   "cell_type": "code",
   "execution_count": 5,
   "metadata": {},
   "outputs": [],
   "source": [
    "df_hist_trans.purchase_date=pd.to_datetime(df_hist_trans.purchase_date)"
   ]
  },
  {
   "cell_type": "code",
   "execution_count": 6,
   "metadata": {},
   "outputs": [],
   "source": [
    "pur_date=df_hist_trans[df_hist_trans.month_lag==0].groupby('card_id').purchase_date.max()"
   ]
  },
  {
   "cell_type": "code",
   "execution_count": 7,
   "metadata": {
    "scrolled": true
   },
   "outputs": [],
   "source": [
    "index_month_lag_nan=df_hist_trans[df_hist_trans.card_id.isin(pur_date.index)==False].index"
   ]
  },
  {
   "cell_type": "code",
   "execution_count": 8,
   "metadata": {},
   "outputs": [],
   "source": [
    "card_id_nan_unique=df_hist_trans.loc[index_month_lag_nan].card_id.unique()"
   ]
  },
  {
   "cell_type": "code",
   "execution_count": 9,
   "metadata": {},
   "outputs": [],
   "source": [
    "df_hist_trans.purchase_date=pd.to_datetime(df_hist_trans.purchase_date)"
   ]
  },
  {
   "cell_type": "code",
   "execution_count": 10,
   "metadata": {},
   "outputs": [
    {
     "data": {
      "text/html": [
       "<div>\n",
       "<style scoped>\n",
       "    .dataframe tbody tr th:only-of-type {\n",
       "        vertical-align: middle;\n",
       "    }\n",
       "\n",
       "    .dataframe tbody tr th {\n",
       "        vertical-align: top;\n",
       "    }\n",
       "\n",
       "    .dataframe thead th {\n",
       "        text-align: right;\n",
       "    }\n",
       "</style>\n",
       "<table border=\"1\" class=\"dataframe\">\n",
       "  <thead>\n",
       "    <tr style=\"text-align: right;\">\n",
       "      <th></th>\n",
       "      <th>card_id</th>\n",
       "      <th>authorized_flag</th>\n",
       "      <th>city_id</th>\n",
       "      <th>category_1</th>\n",
       "      <th>installments</th>\n",
       "      <th>category_3</th>\n",
       "      <th>merchant_category_id</th>\n",
       "      <th>merchant_id</th>\n",
       "      <th>month_lag</th>\n",
       "      <th>purchase_amount</th>\n",
       "      <th>purchase_date</th>\n",
       "      <th>category_2</th>\n",
       "      <th>state_id</th>\n",
       "      <th>subsector_id</th>\n",
       "    </tr>\n",
       "  </thead>\n",
       "  <tbody>\n",
       "    <tr>\n",
       "      <th>0</th>\n",
       "      <td>C_ID_4e6213e9bc</td>\n",
       "      <td>Y</td>\n",
       "      <td>88</td>\n",
       "      <td>N</td>\n",
       "      <td>0</td>\n",
       "      <td>A</td>\n",
       "      <td>80</td>\n",
       "      <td>M_ID_e020e9b302</td>\n",
       "      <td>-8</td>\n",
       "      <td>-0.703331</td>\n",
       "      <td>2017-06-25 15:33:07</td>\n",
       "      <td>1.0</td>\n",
       "      <td>16</td>\n",
       "      <td>37</td>\n",
       "    </tr>\n",
       "    <tr>\n",
       "      <th>1</th>\n",
       "      <td>C_ID_4e6213e9bc</td>\n",
       "      <td>Y</td>\n",
       "      <td>88</td>\n",
       "      <td>N</td>\n",
       "      <td>0</td>\n",
       "      <td>A</td>\n",
       "      <td>367</td>\n",
       "      <td>M_ID_86ec983688</td>\n",
       "      <td>-7</td>\n",
       "      <td>-0.733128</td>\n",
       "      <td>2017-07-15 12:10:45</td>\n",
       "      <td>1.0</td>\n",
       "      <td>16</td>\n",
       "      <td>16</td>\n",
       "    </tr>\n",
       "    <tr>\n",
       "      <th>2</th>\n",
       "      <td>C_ID_4e6213e9bc</td>\n",
       "      <td>Y</td>\n",
       "      <td>88</td>\n",
       "      <td>N</td>\n",
       "      <td>0</td>\n",
       "      <td>A</td>\n",
       "      <td>80</td>\n",
       "      <td>M_ID_979ed661fc</td>\n",
       "      <td>-6</td>\n",
       "      <td>-0.720386</td>\n",
       "      <td>2017-08-09 22:04:29</td>\n",
       "      <td>1.0</td>\n",
       "      <td>16</td>\n",
       "      <td>37</td>\n",
       "    </tr>\n",
       "    <tr>\n",
       "      <th>3</th>\n",
       "      <td>C_ID_4e6213e9bc</td>\n",
       "      <td>Y</td>\n",
       "      <td>88</td>\n",
       "      <td>N</td>\n",
       "      <td>0</td>\n",
       "      <td>A</td>\n",
       "      <td>560</td>\n",
       "      <td>M_ID_e6d5ae8ea6</td>\n",
       "      <td>-5</td>\n",
       "      <td>-0.735352</td>\n",
       "      <td>2017-09-02 10:06:26</td>\n",
       "      <td>1.0</td>\n",
       "      <td>16</td>\n",
       "      <td>34</td>\n",
       "    </tr>\n",
       "    <tr>\n",
       "      <th>4</th>\n",
       "      <td>C_ID_4e6213e9bc</td>\n",
       "      <td>Y</td>\n",
       "      <td>88</td>\n",
       "      <td>N</td>\n",
       "      <td>0</td>\n",
       "      <td>A</td>\n",
       "      <td>80</td>\n",
       "      <td>M_ID_e020e9b302</td>\n",
       "      <td>-11</td>\n",
       "      <td>-0.722865</td>\n",
       "      <td>2017-03-10 01:14:19</td>\n",
       "      <td>1.0</td>\n",
       "      <td>16</td>\n",
       "      <td>37</td>\n",
       "    </tr>\n",
       "  </tbody>\n",
       "</table>\n",
       "</div>"
      ],
      "text/plain": [
       "           card_id authorized_flag  city_id category_1  installments  \\\n",
       "0  C_ID_4e6213e9bc               Y       88          N             0   \n",
       "1  C_ID_4e6213e9bc               Y       88          N             0   \n",
       "2  C_ID_4e6213e9bc               Y       88          N             0   \n",
       "3  C_ID_4e6213e9bc               Y       88          N             0   \n",
       "4  C_ID_4e6213e9bc               Y       88          N             0   \n",
       "\n",
       "  category_3  merchant_category_id      merchant_id  month_lag  \\\n",
       "0          A                    80  M_ID_e020e9b302         -8   \n",
       "1          A                   367  M_ID_86ec983688         -7   \n",
       "2          A                    80  M_ID_979ed661fc         -6   \n",
       "3          A                   560  M_ID_e6d5ae8ea6         -5   \n",
       "4          A                    80  M_ID_e020e9b302        -11   \n",
       "\n",
       "   purchase_amount       purchase_date  category_2  state_id  subsector_id  \n",
       "0        -0.703331 2017-06-25 15:33:07         1.0        16            37  \n",
       "1        -0.733128 2017-07-15 12:10:45         1.0        16            16  \n",
       "2        -0.720386 2017-08-09 22:04:29         1.0        16            37  \n",
       "3        -0.735352 2017-09-02 10:06:26         1.0        16            34  \n",
       "4        -0.722865 2017-03-10 01:14:19         1.0        16            37  "
      ]
     },
     "execution_count": 10,
     "metadata": {},
     "output_type": "execute_result"
    }
   ],
   "source": [
    "df_hist_trans.head()"
   ]
  },
  {
   "cell_type": "code",
   "execution_count": 11,
   "metadata": {
    "scrolled": true
   },
   "outputs": [
    {
     "data": {
      "text/plain": [
       "card_id\n",
       "C_ID_00007093c1   2018-02-27 05:14:57\n",
       "C_ID_0001238066   2018-02-27 16:18:59\n",
       "C_ID_0001506ef0   2018-02-17 12:33:56\n",
       "C_ID_0001793786   2017-10-31 20:20:18\n",
       "C_ID_000183fdda   2018-02-25 20:57:08\n",
       "Name: purchase_date, dtype: datetime64[ns]"
      ]
     },
     "execution_count": 11,
     "metadata": {},
     "output_type": "execute_result"
    }
   ],
   "source": [
    "pur_date.head()"
   ]
  },
  {
   "cell_type": "code",
   "execution_count": 12,
   "metadata": {},
   "outputs": [
    {
     "data": {
      "text/plain": [
       "(293172,)"
      ]
     },
     "execution_count": 12,
     "metadata": {},
     "output_type": "execute_result"
    }
   ],
   "source": [
    "pur_date.shape"
   ]
  },
  {
   "cell_type": "code",
   "execution_count": 13,
   "metadata": {
    "scrolled": true
   },
   "outputs": [
    {
     "data": {
      "text/plain": [
       "(325540, 13)"
      ]
     },
     "execution_count": 13,
     "metadata": {},
     "output_type": "execute_result"
    }
   ],
   "source": [
    "df_hist_trans.groupby('card_id').count().shape"
   ]
  },
  {
   "cell_type": "markdown",
   "metadata": {},
   "source": [
    "### There is a lot of missing values. I have tried various ways to fillna . Starting from simplest for more in depth\n",
    "1) Just fill it with 2018 Feb\n",
    "\n",
    "2) Check max(month_lag) which is something but not [-1,-11] in hystory_transactions, than just find month_lag==0 purchase date by adding respective month_lag*30. It makes sense to do. However, error was actually higher than previous example (3.699)\n",
    "\n",
    "3) Since  at purchase_date at max(month_lag) might be in between the beggining and the end of the month we might have error of 1 month. Therefore, I tried to add max(purchase_date)+min(purchase_date)/(1+(min(abs(month_lag)+max(abs(month_lag)) (doesn't help)\n",
    "\n",
    "4) Since it doesn't help I decided to change which are in 2018 to Feb 2018\n",
    "\n",
    "### Finally, first one seems to be best solution.\n",
    "\n",
    "I will show how I did it just each of them.\n"
   ]
  },
  {
   "cell_type": "markdown",
   "metadata": {},
   "source": [
    "### 1) Filling nan values with 2018 Feb\n",
    "Let's choose values which are NaN in history_transactions\n"
   ]
  },
  {
   "cell_type": "code",
   "execution_count": 14,
   "metadata": {},
   "outputs": [],
   "source": [
    "df_hist_trans.reset_index(inplace=True)"
   ]
  },
  {
   "cell_type": "code",
   "execution_count": 15,
   "metadata": {},
   "outputs": [],
   "source": [
    "card_id_nan_unique=df_hist_trans[df_hist_trans.card_id.isin(pur_date.index)==False].card_id.unique()"
   ]
  },
  {
   "cell_type": "code",
   "execution_count": 16,
   "metadata": {},
   "outputs": [],
   "source": [
    "df=pd.DataFrame(card_id_nan_unique)\n",
    "df['month_lag_date']=pd.to_datetime('2008-02') # Seetting all nan values to 2018 Feb\n",
    "df.set_index(0,inplace=True)\n",
    "new_map=df.month_lag_date\n",
    "del df\n",
    "\n",
    "pur_date_1=pur_date.append(new_map)\n",
    "train_month_lag_0=df_train.card_id.map(pur_date_1)\n",
    "test_month_lag_0=df_test.card_id.map(pur_date_1)\n",
    "hist_lag_0=df_hist_trans.card_id.map( pur_date_1)\n",
    "new_mech_lag_0=df_new_merchant_trans.card_id.map(pur_date_1)"
   ]
  },
  {
   "cell_type": "markdown",
   "metadata": {},
   "source": [
    "### 2) Filling nan values with respect to max(month_lag) in history_transacation. Simply by adding number of days with respect max(month lag) . max(purchase_date)+ abs(max(month_lag))*30\n",
    "\n"
   ]
  },
  {
   "cell_type": "code",
   "execution_count": 17,
   "metadata": {},
   "outputs": [],
   "source": [
    "hist_month_lag_max=df_hist_trans.loc[index_month_lag_nan,['card_id','purchase_date','month_lag']].groupby('card_id').max()\n",
    "hist_month_lag_max_=hist_month_lag_max.copy()\n",
    "new_map=hist_month_lag_max_.purchase_date+ pd.to_timedelta(hist_month_lag_max_.month_lag.abs()*30,unit='D')\n",
    "\n",
    "train_month_lag_0=df_train.card_id.map(new_map)\n",
    "test_month_lag_0=df_test.card_id.map(new_map)\n",
    "hist_lag_0=df_hist_trans.card_id.map( new_map)\n",
    "new_mech_lag_0=df_new_merchant_trans.card_id.map(new_map)"
   ]
  },
  {
   "cell_type": "code",
   "execution_count": 18,
   "metadata": {},
   "outputs": [],
   "source": [
    "pur_date_2=pur_date.append(new_map)"
   ]
  },
  {
   "cell_type": "markdown",
   "metadata": {},
   "source": [
    "### Now you just to add to purch. Incomment below lines if u wanna try method 3"
   ]
  },
  {
   "cell_type": "code",
   "execution_count": 19,
   "metadata": {},
   "outputs": [],
   "source": [
    "\n",
    "hist_month_lag_min_max=df_hist_trans.loc[index_month_lag_nan,['card_id','month_lag','purchase_date']].groupby('card_id').agg(['min','max'])\n",
    "hist_month_lag_min_max['average_month']=(hist_month_lag_min_max['purchase_date']['max']-hist_month_lag_min_max['purchase_date']['min'])\n",
    "hist_month_lag_min_max['average_month']=hist_month_lag_min_max['average_month']/(1-hist_month_lag_min_max.month_lag['min']+hist_month_lag_min_max.month_lag['max'])\n",
    "hist_month_lag_min_max['month_lag_0_date']=hist_month_lag_min_max.purchase_date['max']-hist_month_lag_min_max.month_lag['max']*hist_month_lag_min_max['average_month']\n",
    "new_map=hist_month_lag_min_max.month_lag_0_date"
   ]
  },
  {
   "cell_type": "code",
   "execution_count": 20,
   "metadata": {},
   "outputs": [],
   "source": [
    "pur_date_3=pur_date.append(new_map)"
   ]
  },
  {
   "cell_type": "markdown",
   "metadata": {},
   "source": [
    "### Now you just to add to purch. Incomment below lines if u wanna try method 4"
   ]
  },
  {
   "cell_type": "code",
   "execution_count": 21,
   "metadata": {},
   "outputs": [],
   "source": [
    "ref_2018=pd.to_datetime('2018-02')\n",
    "new_map=new_map.apply(lambda x: ref_2018 if x.year==2018 else x )\n",
    "pur_date_4=pur_date.append(new_map)\n",
    "# train_month_lag_0=df_train.card_id.map(pur_date_4)\n",
    "# test_month_lag_0=df_test.card_id.map(pur_date_4)\n",
    "# hist_lag_0=df_hist_trans.card_id.map( pur_date_4)\n",
    "# new_mech_lag_0=df_new_merchant_trans.card_id.map(pur_date_4)"
   ]
  },
  {
   "cell_type": "markdown",
   "metadata": {},
   "source": [
    "### Finally, uncomment and change name of the files if you wanna save results ."
   ]
  },
  {
   "cell_type": "code",
   "execution_count": 22,
   "metadata": {},
   "outputs": [],
   "source": [
    "# train_month_lag_0.to_csv('C:/Users/user/Documents/Salamat/ELO/train_month_lag_0_updated.csv',index=False,header=None)\n",
    "# test_month_lag_0.to_csv('C:/Users/user/Documents/Salamat/ELO/test_month_lag_0_updated.csv',index=False,header=None)\n",
    "# hist_lag_0.to_csv('C:/Users/user/Documents/Salamat/ELO/hist_month_lag_0_updated.csv',index=False,header=None)\n",
    "# new_mech_lag_0.to_csv('C:/Users/user/Documents/Salamat/ELO/new_mech_month_lag_0_updated.csv',index=False,header=None)"
   ]
  },
  {
   "cell_type": "markdown",
   "metadata": {},
   "source": [
    "### 1) is the best solution 4) is second best solution\n",
    "## Finally, we fill all missing values now we can do some feature engineering"
   ]
  },
  {
   "cell_type": "markdown",
   "metadata": {},
   "source": [
    "### reload files if required"
   ]
  },
  {
   "cell_type": "code",
   "execution_count": 23,
   "metadata": {},
   "outputs": [],
   "source": [
    "# df_train = pd.read_csv('C:/Users/user/Documents/Salamat/ELO/train.csv')\n",
    "# df_test = pd.read_csv('C:/Users/user/Documents/Salamat/ELO/test.csv')\n",
    "# df_hist_trans = pd.read_csv('C:/Users/user/Documents/Salamat/ELO/historical_transactions_new.csv')\n",
    "# df_new_merchant_trans = pd.read_csv('C:/Users/user/Documents/Salamat/ELO/new_merchant_transactions_new.csv')\n",
    "\n",
    "# df_train=reduce_mem_usage(df_train)\n",
    "# df_test=reduce_mem_usage(df_test)\n",
    "# df_hist_trans=reduce_mem_usage(df_hist_trans)\n",
    "# df_new_merchant_trans=reduce_mem_usage(df_new_merchant_trans)\n"
   ]
  },
  {
   "cell_type": "code",
   "execution_count": 24,
   "metadata": {},
   "outputs": [],
   "source": [
    "\n",
    "# train_month_lag_0=pd.read_csv('C:/Users/user/Documents/Salamat/ELO/train_month_lag_0.csv',header=None,squeeze=True,parse_dates=[0])\n",
    "# test_month_lag_0=pd.read_csv('C:/Users/user/Documents/Salamat/ELO/test_month_lag_0.csv',header=None,squeeze=True,parse_dates=[0])\n",
    "# hist_lag_0=pd.read_csv('C:/Users/user/Documents/Salamat/ELO/hist_month_lag_0.csv',header=None,squeeze=True,parse_dates=[0])\n",
    "# new_mech_lag_0=pd.read_csv('C:/Users/user/Documents/Salamat/ELO/new_mech_month_lag_0.csv',header=None,squeeze=True,parse_dates=[0])"
   ]
  },
  {
   "cell_type": "code",
   "execution_count": 25,
   "metadata": {},
   "outputs": [],
   "source": [
    "#for df in [df_hist_trans,df_new_merchant_trans]:\n",
    "#    df['category_2'].fillna(1.0,inplace=True)\n",
    "#    df['category_3'].fillna('A',inplace=True)\n",
    "#    df['merchant_id'].fillna('M_ID_00a6ca8a8a',inplace=True)"
   ]
  },
  {
   "cell_type": "code",
   "execution_count": 26,
   "metadata": {
    "scrolled": true
   },
   "outputs": [
    {
     "data": {
      "text/plain": [
       "(293172,)"
      ]
     },
     "execution_count": 26,
     "metadata": {},
     "output_type": "execute_result"
    }
   ],
   "source": [
    "pur_date.shape"
   ]
  },
  {
   "cell_type": "code",
   "execution_count": 27,
   "metadata": {
    "scrolled": false
   },
   "outputs": [
    {
     "data": {
      "text/plain": [
       "card_id\n",
       "C_ID_00007093c1   2018-02-27 05:14:57\n",
       "C_ID_0001238066   2018-02-27 16:18:59\n",
       "C_ID_0001506ef0   2018-02-17 12:33:56\n",
       "C_ID_0001793786   2017-10-31 20:20:18\n",
       "C_ID_000183fdda   2018-02-25 20:57:08\n",
       "dtype: datetime64[ns]"
      ]
     },
     "execution_count": 27,
     "metadata": {},
     "output_type": "execute_result"
    }
   ],
   "source": [
    "pur_date_4.head()"
   ]
  },
  {
   "cell_type": "code",
   "execution_count": 28,
   "metadata": {
    "scrolled": true
   },
   "outputs": [
    {
     "data": {
      "text/plain": [
       "(325540,)"
      ]
     },
     "execution_count": 28,
     "metadata": {},
     "output_type": "execute_result"
    }
   ],
   "source": [
    "pur_date_4.shape"
   ]
  },
  {
   "cell_type": "code",
   "execution_count": 71,
   "metadata": {},
   "outputs": [],
   "source": [
    "# pur_date_1.to_csv(\"pur_date_3.csv\",header=None,index='card_id')\n",
    "# pur_date_2.to_csv(\"pur_date_3.csv\",header=None,index='card_id')\n",
    "# pur_date_3.to_csv(\"pur_date_3.csv\",header=None,index='card_id')\n",
    "# pur_date_4.to_csv(\"pur_date_4.csv\",header=None,index='card_id')\n",
    "## Example of openning the pur_date_4\n",
    "#pur_date_4_1=pd.read_csv(\"pur_date_4.csv\",header=None,index_col=[0], squeeze=True,parse_dates=[1])\n"
   ]
  },
  {
   "cell_type": "code",
   "execution_count": 65,
   "metadata": {},
   "outputs": [],
   "source": [
    "def get_new_columns(name,aggs):\n",
    "    return [name + '_' + k + '_' + agg for k in aggs.keys() for agg in aggs[k]]"
   ]
  },
  {
   "cell_type": "code",
   "execution_count": 30,
   "metadata": {},
   "outputs": [],
   "source": [
    "methods=[pur_date_1,pur_date_2,pur_date_3,pur_date_4]\n",
    "    \n",
    "    "
   ]
  },
  {
   "cell_type": "code",
   "execution_count": 174,
   "metadata": {},
   "outputs": [
    {
     "data": {
      "text/plain": [
       "card_id\n",
       "C_ID_00007093c1   2018-02-27 05:14:57\n",
       "C_ID_0001238066   2018-02-27 16:18:59\n",
       "C_ID_0001506ef0   2018-02-17 12:33:56\n",
       "C_ID_0001793786   2017-10-31 20:20:18\n",
       "C_ID_000183fdda   2018-02-25 20:57:08\n",
       "dtype: datetime64[ns]"
      ]
     },
     "execution_count": 174,
     "metadata": {},
     "output_type": "execute_result"
    }
   ],
   "source": [
    "pur_date_4.head()"
   ]
  },
  {
   "cell_type": "code",
   "execution_count": 197,
   "metadata": {
    "_uuid": "dda90662d05e22310dd713df106ea07f4b8bccfc",
    "scrolled": true
   },
   "outputs": [
    {
     "name": "stdout",
     "output_type": "stream",
     "text": [
      "fold 0\n",
      "Training until validation scores don't improve for 100 rounds.\n",
      "[100]\ttraining's rmse: 3.66886\tvalid_1's rmse: 3.72467\n",
      "[200]\ttraining's rmse: 3.59118\tvalid_1's rmse: 3.68887\n",
      "[300]\ttraining's rmse: 3.54326\tvalid_1's rmse: 3.67347\n",
      "[400]\ttraining's rmse: 3.50678\tvalid_1's rmse: 3.66511\n",
      "[500]\ttraining's rmse: 3.47738\tvalid_1's rmse: 3.65915\n",
      "[600]\ttraining's rmse: 3.45237\tvalid_1's rmse: 3.65582\n",
      "[700]\ttraining's rmse: 3.42981\tvalid_1's rmse: 3.65329\n",
      "[800]\ttraining's rmse: 3.40921\tvalid_1's rmse: 3.65211\n",
      "[900]\ttraining's rmse: 3.39008\tvalid_1's rmse: 3.65073\n",
      "[1000]\ttraining's rmse: 3.37374\tvalid_1's rmse: 3.65024\n",
      "[1100]\ttraining's rmse: 3.35735\tvalid_1's rmse: 3.64979\n",
      "[1200]\ttraining's rmse: 3.34156\tvalid_1's rmse: 3.64959\n",
      "[1300]\ttraining's rmse: 3.32589\tvalid_1's rmse: 3.64908\n",
      "[1400]\ttraining's rmse: 3.31077\tvalid_1's rmse: 3.64896\n",
      "Early stopping, best iteration is:\n",
      "[1319]\ttraining's rmse: 3.32324\tvalid_1's rmse: 3.64886\n",
      "fold 1\n",
      "Training until validation scores don't improve for 100 rounds.\n",
      "[100]\ttraining's rmse: 3.6712\tvalid_1's rmse: 3.72002\n",
      "[200]\ttraining's rmse: 3.5942\tvalid_1's rmse: 3.68678\n",
      "[300]\ttraining's rmse: 3.54475\tvalid_1's rmse: 3.67367\n",
      "[400]\ttraining's rmse: 3.50725\tvalid_1's rmse: 3.66681\n",
      "[500]\ttraining's rmse: 3.47723\tvalid_1's rmse: 3.66261\n",
      "[600]\ttraining's rmse: 3.45204\tvalid_1's rmse: 3.65974\n",
      "[700]\ttraining's rmse: 3.42953\tvalid_1's rmse: 3.65807\n",
      "[800]\ttraining's rmse: 3.40951\tvalid_1's rmse: 3.65734\n",
      "[900]\ttraining's rmse: 3.39084\tvalid_1's rmse: 3.65707\n",
      "[1000]\ttraining's rmse: 3.37314\tvalid_1's rmse: 3.65665\n",
      "[1100]\ttraining's rmse: 3.3566\tvalid_1's rmse: 3.65596\n",
      "[1200]\ttraining's rmse: 3.34103\tvalid_1's rmse: 3.6558\n",
      "[1300]\ttraining's rmse: 3.32598\tvalid_1's rmse: 3.65516\n",
      "[1400]\ttraining's rmse: 3.31075\tvalid_1's rmse: 3.65487\n",
      "Early stopping, best iteration is:\n",
      "[1381]\ttraining's rmse: 3.31369\tvalid_1's rmse: 3.65478\n",
      "fold 2\n",
      "Training until validation scores don't improve for 100 rounds.\n",
      "[100]\ttraining's rmse: 3.66985\tvalid_1's rmse: 3.7231\n",
      "[200]\ttraining's rmse: 3.59154\tvalid_1's rmse: 3.68706\n",
      "[300]\ttraining's rmse: 3.54243\tvalid_1's rmse: 3.67378\n",
      "[400]\ttraining's rmse: 3.50475\tvalid_1's rmse: 3.6649\n",
      "[500]\ttraining's rmse: 3.47482\tvalid_1's rmse: 3.65914\n",
      "[600]\ttraining's rmse: 3.44976\tvalid_1's rmse: 3.65488\n",
      "[700]\ttraining's rmse: 3.4278\tvalid_1's rmse: 3.65295\n",
      "[800]\ttraining's rmse: 3.4071\tvalid_1's rmse: 3.65099\n",
      "[900]\ttraining's rmse: 3.38916\tvalid_1's rmse: 3.65005\n",
      "[1000]\ttraining's rmse: 3.37213\tvalid_1's rmse: 3.64923\n",
      "[1100]\ttraining's rmse: 3.3554\tvalid_1's rmse: 3.64851\n",
      "[1200]\ttraining's rmse: 3.33962\tvalid_1's rmse: 3.64789\n",
      "[1300]\ttraining's rmse: 3.32393\tvalid_1's rmse: 3.64755\n",
      "Early stopping, best iteration is:\n",
      "[1296]\ttraining's rmse: 3.32442\tvalid_1's rmse: 3.64752\n",
      "fold 3\n",
      "Training until validation scores don't improve for 100 rounds.\n",
      "[100]\ttraining's rmse: 3.66873\tvalid_1's rmse: 3.7247\n",
      "[200]\ttraining's rmse: 3.59118\tvalid_1's rmse: 3.69252\n",
      "[300]\ttraining's rmse: 3.54045\tvalid_1's rmse: 3.67953\n",
      "[400]\ttraining's rmse: 3.50484\tvalid_1's rmse: 3.67134\n",
      "[500]\ttraining's rmse: 3.47499\tvalid_1's rmse: 3.66604\n",
      "[600]\ttraining's rmse: 3.45018\tvalid_1's rmse: 3.66181\n",
      "[700]\ttraining's rmse: 3.42764\tvalid_1's rmse: 3.65945\n",
      "[800]\ttraining's rmse: 3.40873\tvalid_1's rmse: 3.65827\n",
      "[900]\ttraining's rmse: 3.3903\tvalid_1's rmse: 3.65705\n",
      "[1000]\ttraining's rmse: 3.37406\tvalid_1's rmse: 3.65629\n",
      "[1100]\ttraining's rmse: 3.3577\tvalid_1's rmse: 3.65561\n",
      "[1200]\ttraining's rmse: 3.34223\tvalid_1's rmse: 3.65483\n",
      "[1300]\ttraining's rmse: 3.32707\tvalid_1's rmse: 3.65435\n",
      "[1400]\ttraining's rmse: 3.3121\tvalid_1's rmse: 3.65376\n",
      "[1500]\ttraining's rmse: 3.29705\tvalid_1's rmse: 3.65358\n",
      "[1600]\ttraining's rmse: 3.28375\tvalid_1's rmse: 3.65378\n",
      "Early stopping, best iteration is:\n",
      "[1528]\ttraining's rmse: 3.29325\tvalid_1's rmse: 3.65346\n",
      "fold 4\n",
      "Training until validation scores don't improve for 100 rounds.\n",
      "[100]\ttraining's rmse: 3.67178\tvalid_1's rmse: 3.70994\n",
      "[200]\ttraining's rmse: 3.59283\tvalid_1's rmse: 3.67765\n",
      "[300]\ttraining's rmse: 3.54265\tvalid_1's rmse: 3.66535\n",
      "[400]\ttraining's rmse: 3.50466\tvalid_1's rmse: 3.65865\n",
      "[500]\ttraining's rmse: 3.47521\tvalid_1's rmse: 3.65384\n",
      "[600]\ttraining's rmse: 3.4497\tvalid_1's rmse: 3.65082\n",
      "[700]\ttraining's rmse: 3.42612\tvalid_1's rmse: 3.64871\n",
      "[800]\ttraining's rmse: 3.40621\tvalid_1's rmse: 3.64836\n",
      "[900]\ttraining's rmse: 3.38705\tvalid_1's rmse: 3.64709\n",
      "[1000]\ttraining's rmse: 3.37068\tvalid_1's rmse: 3.64665\n",
      "[1100]\ttraining's rmse: 3.3541\tvalid_1's rmse: 3.6464\n",
      "[1200]\ttraining's rmse: 3.33918\tvalid_1's rmse: 3.64578\n",
      "[1300]\ttraining's rmse: 3.32413\tvalid_1's rmse: 3.64552\n",
      "[1400]\ttraining's rmse: 3.30919\tvalid_1's rmse: 3.64577\n",
      "Early stopping, best iteration is:\n",
      "[1310]\ttraining's rmse: 3.32249\tvalid_1's rmse: 3.64532\n"
     ]
    }
   ],
   "source": [
    "results=[]\n",
    "CV_error=[]\n",
    "#methods=[pur_date_1,pur_date_2,pur_date_3,pur_date_4]\n",
    "methods=[pur_date_4]\n",
    "for method in methods:\n",
    "    df_hist_trans = pd.read_csv('C:/Users/user/Documents/Salamat/ELO/historical_transactions_new.csv')\n",
    "    df_new_merchant_trans = pd.read_csv('C:/Users/user/Documents/Salamat/ELO/new_merchant_transactions_new.csv')\n",
    "    df_train = pd.read_csv('C:/Users/user/Documents/Salamat/ELO/train.csv')\n",
    "    df_test = pd.read_csv('test_without_nan.csv') # nan values filled by first purchase from historic transactions\n",
    "    \n",
    "    \n",
    "    \n",
    "    #I we can take weekofyear,day of week, weekend as extra parameter which I didn't. I am not sure if month diff is correct. Still confused about this issue\n",
    "    \n",
    "    for df in [df_hist_trans,df_new_merchant_trans]:\n",
    "        df['purchase_date'] = pd.to_datetime(df['purchase_date'])\n",
    "        df['year'] = df['purchase_date'].dt.year\n",
    "        df['weekofyear'] = df['purchase_date'].dt.weekofyear\n",
    "        df['month'] = df['purchase_date'].dt.month\n",
    "        df['dayofweek'] = df['purchase_date'].dt.dayofweek\n",
    "        df['weekend'] = (df.purchase_date.dt.weekday >=5).astype(int)\n",
    "        df['hour'] = df['purchase_date'].dt.hour\n",
    "        df['authorized_flag'] = df['authorized_flag'].map({'Y':1, 'N':0})\n",
    "        df['category_1'] = df['category_1'].map({'Y':1, 'N':0})\n",
    "        df['month_diff'] = ((df['card_id'].map(method) - df['purchase_date']).dt.days)//30\n",
    "        df['month_diff'] += df['month_lag']\n",
    "        \n",
    "        #https://www.kaggle.com/c/elo-merchant-category-recommendation/discussion/73244\n",
    "        #df['month_diff'] = ((datetime.datetime.today() - df['purchase_date']).dt.days)//30\n",
    "        #df['month_diff'] += df['month_lag']\n",
    "\n",
    "    # We will use our extracted values for reference. From month_lag at zero (max)    \n",
    "\n",
    "#     df_hist_trans['month_diff'] = ((df_hist_trans['card_id'].map(method) - df_hist_trans['purchase_date']).dt.days)//30\n",
    "#     df_hist_trans['month_diff'] += df_hist_trans['month_lag']\n",
    "\n",
    "#     df_new_merchant_trans['month_diff'] = ((df_new_merchant_trans['card_id'].map(method) - df_new_merchant_trans['purchase_date']).dt.days)//30\n",
    "#     df_new_merchant_trans['month_diff'] += df_new_merchant_trans['month_lag']\n",
    "\n",
    "\n",
    "    aggs = {}\n",
    "    for col in ['month','hour','weekofyear','dayofweek','year','subsector_id','merchant_id','merchant_category_id']:\n",
    "        aggs[col] = ['nunique']\n",
    "\n",
    "    aggs['purchase_amount'] = ['sum','max','min','mean','var']\n",
    "    aggs['installments'] = ['sum','max','min','mean','var']\n",
    "    aggs['purchase_date'] = ['max','min']\n",
    "    aggs['month_lag'] = ['max','min','mean','var']\n",
    "    aggs['month_diff'] = ['mean']\n",
    "    aggs['authorized_flag'] = ['sum', 'mean']\n",
    "    aggs['weekend'] = ['sum', 'mean']\n",
    "    aggs['category_1'] = ['sum', 'mean']\n",
    "    aggs['card_id'] = ['size']\n",
    "\n",
    "    for col in ['category_2','category_3']:\n",
    "        df_hist_trans[col+'_mean'] = df_hist_trans.groupby([col])['purchase_amount'].transform('mean')\n",
    "        aggs[col+'_mean'] = ['mean']    \n",
    "\n",
    "    new_columns = get_new_columns('hist',aggs)\n",
    "    df_hist_trans_group = df_hist_trans.groupby('card_id').agg(aggs)\n",
    "    df_hist_trans_group.columns = new_columns\n",
    "    df_hist_trans_group.reset_index(drop=False,inplace=True)\n",
    "    df_hist_trans_group['hist_purchase_date_diff'] = (df_hist_trans_group['hist_purchase_date_max'] - df_hist_trans_group['hist_purchase_date_min']).dt.days\n",
    "    df_hist_trans_group['hist_purchase_date_average'] = df_hist_trans_group['hist_purchase_date_diff']/df_hist_trans_group['hist_card_id_size']\n",
    "\n",
    "    #df_hist_trans_group['hist_purchase_date_uptonow'] = (datetime.datetime.today() - df_hist_trans_group['hist_purchase_date_max']).dt.days\n",
    "    #df_hist_trans_group['hist_purchase_date_uptonow'] = (hist_lag_0 - df_hist_trans_group['hist_purchase_date_max']).dt.days\n",
    "\n",
    "    df_hist_trans_group['hist_purchase_date_uptonow'] = (df_hist_trans_group['card_id'].map(method) - df_hist_trans_group['hist_purchase_date_max']).dt.days\n",
    "\n",
    "\n",
    "\n",
    "    df_train = df_train.merge(df_hist_trans_group,on='card_id',how='left')\n",
    "    df_test = df_test.merge(df_hist_trans_group,on='card_id',how='left')\n",
    "    #del df_hist_trans_group;gc.collect()\n",
    "\n",
    "    aggs = {}\n",
    "    for col in ['month','hour','weekofyear','dayofweek','year','subsector_id','merchant_id','merchant_category_id']:\n",
    "        aggs[col] = ['nunique']\n",
    "    aggs['purchase_amount'] = ['sum','max','min','mean','var']\n",
    "    aggs['installments'] = ['sum','max','min','mean','var']\n",
    "    aggs['purchase_date'] = ['max','min']\n",
    "    aggs['month_lag'] = ['max','min','mean','var']\n",
    "    aggs['month_diff'] = ['mean']\n",
    "    aggs['weekend'] = ['sum', 'mean']\n",
    "    aggs['category_1'] = ['sum', 'mean']\n",
    "    aggs['card_id'] = ['size']\n",
    "\n",
    "    for col in ['category_2','category_3']:\n",
    "        df_new_merchant_trans[col+'_mean'] = df_new_merchant_trans.groupby([col])['purchase_amount'].transform('mean')\n",
    "        aggs[col+'_mean'] = ['mean']\n",
    "\n",
    "    new_columns = get_new_columns('new_hist',aggs)\n",
    "    df_hist_trans_group = df_new_merchant_trans.groupby('card_id').agg(aggs)\n",
    "    df_hist_trans_group.columns = new_columns\n",
    "    df_hist_trans_group.reset_index(drop=False,inplace=True)\n",
    "    df_hist_trans_group['new_hist_purchase_date_diff'] = (df_hist_trans_group['new_hist_purchase_date_max'] - df_hist_trans_group['new_hist_purchase_date_min']).dt.days\n",
    "    df_hist_trans_group['new_hist_purchase_date_average'] = df_hist_trans_group['new_hist_purchase_date_diff']/df_hist_trans_group['new_hist_card_id_size']\n",
    "\n",
    "    #df_hist_trans_group['new_hist_purchase_date_uptonow'] = (datetime.datetime.today() - df_hist_trans_group['new_hist_purchase_date_max']).dt.days\n",
    "    #df_hist_trans_group['new_hist_purchase_date_uptonow'] = (new_mech_lag_0 - df_hist_trans_group['new_hist_purchase_date_max']).dt.days\n",
    "\n",
    "\n",
    "    df_hist_trans_group['new_hist_purchase_date_uptonow'] = (df_hist_trans_group['card_id'].map(method) - df_hist_trans_group['new_hist_purchase_date_max']).dt.days\n",
    "\n",
    "\n",
    "\n",
    "    df_train = df_train.merge(df_hist_trans_group,on='card_id',how='left')\n",
    "    df_test = df_test.merge(df_hist_trans_group,on='card_id',how='left')\n",
    "    #del df_hist_trans_group;gc.collect()\n",
    "\n",
    "    df_train['outliers'] = 0\n",
    "    df_train.loc[df_train['target'] < -30, 'outliers'] = 1\n",
    "    df_train['outliers'].value_counts()\n",
    "\n",
    "\n",
    "    for df in [df_train,df_test]:\n",
    "        df['first_active_month'] = pd.to_datetime(df['first_active_month'])\n",
    "        df['dayofweek'] = df['first_active_month'].dt.dayofweek\n",
    "        df['weekofyear'] = df['first_active_month'].dt.weekofyear\n",
    "        df['month'] = df['first_active_month'].dt.month\n",
    "\n",
    "        #df['elapsed_time'] = (datetime.datetime.today() - df['first_active_month']).dt.days\n",
    "        df['elapsed_time'] = (df['card_id'].map(method) - df['first_active_month']).dt.days\n",
    "\n",
    "        df['hist_first_buy'] = (df['hist_purchase_date_min'] - df['first_active_month']).dt.days\n",
    "        df['new_hist_first_buy'] = (df['new_hist_purchase_date_min'] - df['first_active_month']).dt.days\n",
    "        for f in ['hist_purchase_date_max','hist_purchase_date_min','new_hist_purchase_date_max',\\\n",
    "                         'new_hist_purchase_date_min']:\n",
    "            df[f] = df[f].astype(np.int64) * 1e-9\n",
    "        df['card_id_total'] = df['new_hist_card_id_size']+df['hist_card_id_size']\n",
    "        df['purchase_amount_total'] = df['new_hist_purchase_amount_sum']+df['hist_purchase_amount_sum']\n",
    "\n",
    "#     for f in ['feature_1','feature_2','feature_3']:\n",
    "#         order_label = df_train.groupby([f])['outliers'].mean()\n",
    "#         df_train[f] = df_train[f].map(order_label)\n",
    "#         df_test[f] = df_test[f].map(order_label)\n",
    "\n",
    "\n",
    "    ### We will change only elapsed time\n",
    "\n",
    "    #df_train['elapsed_time'] = (df_train['card_id'].map(method) - df_train['first_active_month']).dt.days\n",
    "    #df_test['elapsed_time'] = (df_test['card_id'].map(method) - df_test['first_active_month']).dt.days  \n",
    "\n",
    "    df_train_columns = [c for c in df_train.columns if c not in ['card_id', 'first_active_month','target','outliers']]\n",
    "    #df_train=df_train[df_train.outliers==0]\n",
    "    target = df_train['target']\n",
    "    #del df_train['target']\n",
    "\n",
    "    param = {'num_leaves': 31,\n",
    "             'min_data_in_leaf': 30, \n",
    "             'objective':'regression',\n",
    "             'max_depth': -1,\n",
    "             'learning_rate': 0.01,\n",
    "             \"min_child_samples\": 20,\n",
    "             \"boosting\": \"gbdt\",\n",
    "             \"feature_fraction\": 0.9,\n",
    "             \"bagging_freq\": 1,\n",
    "             \"bagging_fraction\": 0.9 ,\n",
    "             \"bagging_seed\": 11,\n",
    "             \"metric\": 'rmse',\n",
    "             \"lambda_l1\": 0.1,\n",
    "             \"verbosity\": -1,\n",
    "             \"nthread\": 4,\n",
    "             \"random_state\": 4590}\n",
    "    folds = StratifiedKFold(n_splits=5, shuffle=True, random_state=4590)\n",
    "    oof = np.zeros(len(df_train))\n",
    "    predictions = np.zeros(len(df_test))\n",
    "    feature_importance_df = pd.DataFrame()\n",
    "\n",
    "    for fold_, (trn_idx, val_idx) in enumerate(folds.split(df_train,df_train['outliers'].values)):\n",
    "        print(\"fold {}\".format(fold_))\n",
    "        trn_data = lgb.Dataset(df_train.iloc[trn_idx][df_train_columns], label=target.iloc[trn_idx],categorical_feature=['feature_1','feature_2','feature_3'])#, categorical_feature=categorical_feats)\n",
    "        val_data = lgb.Dataset(df_train.iloc[val_idx][df_train_columns], label=target.iloc[val_idx],categorical_feature=['feature_1', 'feature_2','feature_3'])#, categorical_feature=categorical_feats)\n",
    "\n",
    "        num_round = 10000\n",
    "        clf = lgb.train(param, trn_data, num_round, valid_sets = [trn_data, val_data], verbose_eval=100, early_stopping_rounds = 100)\n",
    "        oof[val_idx] = clf.predict(df_train.iloc[val_idx][df_train_columns], num_iteration=clf.best_iteration)\n",
    "\n",
    "        fold_importance_df = pd.DataFrame()\n",
    "        fold_importance_df[\"Feature\"] = df_train_columns\n",
    "        fold_importance_df[\"importance\"] = clf.feature_importance()\n",
    "        fold_importance_df[\"fold\"] = fold_ + 1\n",
    "        feature_importance_df = pd.concat([feature_importance_df, fold_importance_df], axis=0)\n",
    "\n",
    "        predictions += clf.predict(df_test[df_train_columns], num_iteration=clf.best_iteration) / folds.n_splits\n",
    "\n",
    "    CV_error.append(np.sqrt(mean_squared_error(oof, target)))\n",
    "    results.append(predictions)"
   ]
  },
  {
   "cell_type": "code",
   "execution_count": null,
   "metadata": {},
   "outputs": [],
   "source": [
    "CV_error"
   ]
  },
  {
   "cell_type": "code",
   "execution_count": 73,
   "metadata": {},
   "outputs": [
    {
     "data": {
      "text/plain": [
       "[3.6489937737530007]"
      ]
     },
     "execution_count": 73,
     "metadata": {},
     "output_type": "execute_result"
    }
   ],
   "source": [
    "CV_error"
   ]
  },
  {
   "cell_type": "code",
   "execution_count": 69,
   "metadata": {},
   "outputs": [
    {
     "data": {
      "text/plain": [
       "[3.6499894856856048]"
      ]
     },
     "execution_count": 69,
     "metadata": {},
     "output_type": "execute_result"
    }
   ],
   "source": [
    "CV_error"
   ]
  },
  {
   "cell_type": "code",
   "execution_count": 209,
   "metadata": {
    "scrolled": true
   },
   "outputs": [
    {
     "data": {
      "text/plain": [
       "(201917,)"
      ]
     },
     "execution_count": 209,
     "metadata": {},
     "output_type": "execute_result"
    }
   ],
   "source": [
    "df_train.outliers.shape"
   ]
  },
  {
   "cell_type": "code",
   "execution_count": 195,
   "metadata": {},
   "outputs": [],
   "source": [
    "from sklearn.model_selection import KFold, RepeatedKFold,RepeatedStratifiedKFold\n",
    "from sklearn.linear_model import BayesianRidge\n"
   ]
  },
  {
   "cell_type": "code",
   "execution_count": 199,
   "metadata": {},
   "outputs": [],
   "source": [
    "param = {'num_leaves': 31,\n",
    "         'min_data_in_leaf': 32, \n",
    "         'objective':'regression',\n",
    "         'max_depth': -1,\n",
    "         'learning_rate': 0.005,\n",
    "         \"min_child_samples\": 20,\n",
    "         \"boosting\": \"gbdt\",\n",
    "         \"feature_fraction\": 0.9,\n",
    "         \"bagging_freq\": 1,\n",
    "         \"bagging_fraction\": 0.9 ,\n",
    "         \"bagging_seed\": 11,\n",
    "         \"metric\": 'rmse',\n",
    "         \"lambda_l1\": 0.1,\n",
    "         \"nthread\": 4,\n",
    "         \"verbosity\": -1}"
   ]
  },
  {
   "cell_type": "code",
   "execution_count": 200,
   "metadata": {},
   "outputs": [
    {
     "name": "stdout",
     "output_type": "stream",
     "text": [
      "fold n°0\n",
      "Training until validation scores don't improve for 200 rounds.\n",
      "[100]\ttraining's rmse: 3.73586\tvalid_1's rmse: 3.75937\n",
      "[200]\ttraining's rmse: 3.67147\tvalid_1's rmse: 3.71703\n",
      "[300]\ttraining's rmse: 3.62707\tvalid_1's rmse: 3.69454\n",
      "[400]\ttraining's rmse: 3.59471\tvalid_1's rmse: 3.68294\n",
      "[500]\ttraining's rmse: 3.56743\tvalid_1's rmse: 3.67564\n",
      "[600]\ttraining's rmse: 3.54506\tvalid_1's rmse: 3.67025\n",
      "[700]\ttraining's rmse: 3.52573\tvalid_1's rmse: 3.66666\n",
      "[800]\ttraining's rmse: 3.50806\tvalid_1's rmse: 3.66269\n",
      "[900]\ttraining's rmse: 3.49247\tvalid_1's rmse: 3.65964\n",
      "[1000]\ttraining's rmse: 3.47827\tvalid_1's rmse: 3.6578\n",
      "[1100]\ttraining's rmse: 3.4651\tvalid_1's rmse: 3.65621\n",
      "[1200]\ttraining's rmse: 3.4527\tvalid_1's rmse: 3.65514\n",
      "[1300]\ttraining's rmse: 3.44112\tvalid_1's rmse: 3.65405\n",
      "[1400]\ttraining's rmse: 3.43048\tvalid_1's rmse: 3.65332\n",
      "[1500]\ttraining's rmse: 3.42028\tvalid_1's rmse: 3.65277\n",
      "[1600]\ttraining's rmse: 3.41055\tvalid_1's rmse: 3.65206\n",
      "[1700]\ttraining's rmse: 3.4013\tvalid_1's rmse: 3.65186\n",
      "[1800]\ttraining's rmse: 3.39249\tvalid_1's rmse: 3.65173\n",
      "[1900]\ttraining's rmse: 3.38376\tvalid_1's rmse: 3.65155\n",
      "[2000]\ttraining's rmse: 3.3753\tvalid_1's rmse: 3.65153\n",
      "[2100]\ttraining's rmse: 3.36689\tvalid_1's rmse: 3.65127\n",
      "[2200]\ttraining's rmse: 3.35915\tvalid_1's rmse: 3.65129\n",
      "[2300]\ttraining's rmse: 3.35146\tvalid_1's rmse: 3.65135\n",
      "[2400]\ttraining's rmse: 3.34378\tvalid_1's rmse: 3.65107\n",
      "[2500]\ttraining's rmse: 3.33643\tvalid_1's rmse: 3.651\n",
      "[2600]\ttraining's rmse: 3.32895\tvalid_1's rmse: 3.65087\n",
      "[2700]\ttraining's rmse: 3.3218\tvalid_1's rmse: 3.65082\n",
      "[2800]\ttraining's rmse: 3.31487\tvalid_1's rmse: 3.65074\n",
      "[2900]\ttraining's rmse: 3.30791\tvalid_1's rmse: 3.65092\n",
      "[3000]\ttraining's rmse: 3.30097\tvalid_1's rmse: 3.65098\n",
      "Early stopping, best iteration is:\n",
      "[2835]\ttraining's rmse: 3.31241\tvalid_1's rmse: 3.65068\n",
      "fold n°1\n",
      "Training until validation scores don't improve for 200 rounds.\n",
      "[100]\ttraining's rmse: 3.73311\tvalid_1's rmse: 3.76743\n",
      "[200]\ttraining's rmse: 3.66749\tvalid_1's rmse: 3.72844\n",
      "[300]\ttraining's rmse: 3.62298\tvalid_1's rmse: 3.7074\n",
      "[400]\ttraining's rmse: 3.59005\tvalid_1's rmse: 3.69564\n",
      "[500]\ttraining's rmse: 3.56419\tvalid_1's rmse: 3.68837\n",
      "[600]\ttraining's rmse: 3.54093\tvalid_1's rmse: 3.68233\n",
      "[700]\ttraining's rmse: 3.52156\tvalid_1's rmse: 3.67772\n",
      "[800]\ttraining's rmse: 3.50432\tvalid_1's rmse: 3.67386\n",
      "[900]\ttraining's rmse: 3.48841\tvalid_1's rmse: 3.67034\n",
      "[1000]\ttraining's rmse: 3.47489\tvalid_1's rmse: 3.66787\n",
      "[1100]\ttraining's rmse: 3.46172\tvalid_1's rmse: 3.6657\n",
      "[1200]\ttraining's rmse: 3.44965\tvalid_1's rmse: 3.66374\n",
      "[1300]\ttraining's rmse: 3.43832\tvalid_1's rmse: 3.66248\n",
      "[1400]\ttraining's rmse: 3.42771\tvalid_1's rmse: 3.66106\n",
      "[1500]\ttraining's rmse: 3.41703\tvalid_1's rmse: 3.65987\n",
      "[1600]\ttraining's rmse: 3.40751\tvalid_1's rmse: 3.65905\n",
      "[1700]\ttraining's rmse: 3.39834\tvalid_1's rmse: 3.6586\n",
      "[1800]\ttraining's rmse: 3.38943\tvalid_1's rmse: 3.65814\n",
      "[1900]\ttraining's rmse: 3.38039\tvalid_1's rmse: 3.65762\n",
      "[2000]\ttraining's rmse: 3.3723\tvalid_1's rmse: 3.65726\n",
      "[2100]\ttraining's rmse: 3.36466\tvalid_1's rmse: 3.65685\n",
      "[2200]\ttraining's rmse: 3.35679\tvalid_1's rmse: 3.65649\n",
      "[2300]\ttraining's rmse: 3.3489\tvalid_1's rmse: 3.65621\n",
      "[2400]\ttraining's rmse: 3.34144\tvalid_1's rmse: 3.65608\n",
      "[2500]\ttraining's rmse: 3.33414\tvalid_1's rmse: 3.65585\n",
      "[2600]\ttraining's rmse: 3.32671\tvalid_1's rmse: 3.65582\n",
      "[2700]\ttraining's rmse: 3.31917\tvalid_1's rmse: 3.65555\n",
      "[2800]\ttraining's rmse: 3.3125\tvalid_1's rmse: 3.65551\n",
      "[2900]\ttraining's rmse: 3.30552\tvalid_1's rmse: 3.6554\n",
      "[3000]\ttraining's rmse: 3.29877\tvalid_1's rmse: 3.65552\n",
      "Early stopping, best iteration is:\n",
      "[2890]\ttraining's rmse: 3.3061\tvalid_1's rmse: 3.65537\n",
      "fold n°2\n",
      "Training until validation scores don't improve for 200 rounds.\n",
      "[100]\ttraining's rmse: 3.73621\tvalid_1's rmse: 3.75395\n",
      "[200]\ttraining's rmse: 3.67059\tvalid_1's rmse: 3.71286\n",
      "[300]\ttraining's rmse: 3.62625\tvalid_1's rmse: 3.69027\n",
      "[400]\ttraining's rmse: 3.59421\tvalid_1's rmse: 3.67752\n",
      "[500]\ttraining's rmse: 3.56816\tvalid_1's rmse: 3.66917\n",
      "[600]\ttraining's rmse: 3.54605\tvalid_1's rmse: 3.66318\n",
      "[700]\ttraining's rmse: 3.52619\tvalid_1's rmse: 3.65861\n",
      "[800]\ttraining's rmse: 3.50924\tvalid_1's rmse: 3.6551\n",
      "[900]\ttraining's rmse: 3.49392\tvalid_1's rmse: 3.65228\n",
      "[1000]\ttraining's rmse: 3.47993\tvalid_1's rmse: 3.65015\n",
      "[1100]\ttraining's rmse: 3.46715\tvalid_1's rmse: 3.64801\n",
      "[1200]\ttraining's rmse: 3.45536\tvalid_1's rmse: 3.64659\n",
      "[1300]\ttraining's rmse: 3.44358\tvalid_1's rmse: 3.64513\n",
      "[1400]\ttraining's rmse: 3.43308\tvalid_1's rmse: 3.6441\n",
      "[1500]\ttraining's rmse: 3.42268\tvalid_1's rmse: 3.64326\n",
      "[1600]\ttraining's rmse: 3.41276\tvalid_1's rmse: 3.6424\n",
      "[1700]\ttraining's rmse: 3.40342\tvalid_1's rmse: 3.64197\n",
      "[1800]\ttraining's rmse: 3.39444\tvalid_1's rmse: 3.64125\n",
      "[1900]\ttraining's rmse: 3.38634\tvalid_1's rmse: 3.6407\n",
      "[2000]\ttraining's rmse: 3.37807\tvalid_1's rmse: 3.64016\n",
      "[2100]\ttraining's rmse: 3.36977\tvalid_1's rmse: 3.63946\n",
      "[2200]\ttraining's rmse: 3.36202\tvalid_1's rmse: 3.63949\n",
      "[2300]\ttraining's rmse: 3.35387\tvalid_1's rmse: 3.63902\n",
      "[2400]\ttraining's rmse: 3.3466\tvalid_1's rmse: 3.63895\n",
      "[2500]\ttraining's rmse: 3.33926\tvalid_1's rmse: 3.63887\n",
      "[2600]\ttraining's rmse: 3.33215\tvalid_1's rmse: 3.63853\n",
      "[2700]\ttraining's rmse: 3.32515\tvalid_1's rmse: 3.63839\n",
      "[2800]\ttraining's rmse: 3.31793\tvalid_1's rmse: 3.63816\n",
      "[2900]\ttraining's rmse: 3.31081\tvalid_1's rmse: 3.63849\n",
      "[3000]\ttraining's rmse: 3.30359\tvalid_1's rmse: 3.6384\n",
      "Early stopping, best iteration is:\n",
      "[2805]\ttraining's rmse: 3.3176\tvalid_1's rmse: 3.63812\n",
      "fold n°3\n",
      "Training until validation scores don't improve for 200 rounds.\n",
      "[100]\ttraining's rmse: 3.73756\tvalid_1's rmse: 3.76013\n",
      "[200]\ttraining's rmse: 3.67274\tvalid_1's rmse: 3.71855\n",
      "[300]\ttraining's rmse: 3.62819\tvalid_1's rmse: 3.69733\n",
      "[400]\ttraining's rmse: 3.59455\tvalid_1's rmse: 3.68559\n",
      "[500]\ttraining's rmse: 3.5683\tvalid_1's rmse: 3.6778\n",
      "[600]\ttraining's rmse: 3.54513\tvalid_1's rmse: 3.67284\n",
      "[700]\ttraining's rmse: 3.52547\tvalid_1's rmse: 3.66827\n",
      "[800]\ttraining's rmse: 3.50821\tvalid_1's rmse: 3.66505\n",
      "[900]\ttraining's rmse: 3.49301\tvalid_1's rmse: 3.66241\n",
      "[1000]\ttraining's rmse: 3.47928\tvalid_1's rmse: 3.66012\n",
      "[1100]\ttraining's rmse: 3.46656\tvalid_1's rmse: 3.6584\n",
      "[1200]\ttraining's rmse: 3.45497\tvalid_1's rmse: 3.65666\n",
      "[1300]\ttraining's rmse: 3.44426\tvalid_1's rmse: 3.65582\n",
      "[1400]\ttraining's rmse: 3.43362\tvalid_1's rmse: 3.65509\n",
      "[1500]\ttraining's rmse: 3.42304\tvalid_1's rmse: 3.65463\n",
      "[1600]\ttraining's rmse: 3.41369\tvalid_1's rmse: 3.65404\n",
      "[1700]\ttraining's rmse: 3.40426\tvalid_1's rmse: 3.65379\n",
      "[1800]\ttraining's rmse: 3.39517\tvalid_1's rmse: 3.6535\n",
      "[1900]\ttraining's rmse: 3.38627\tvalid_1's rmse: 3.65305\n",
      "[2000]\ttraining's rmse: 3.37846\tvalid_1's rmse: 3.65293\n",
      "[2100]\ttraining's rmse: 3.3707\tvalid_1's rmse: 3.65275\n",
      "[2200]\ttraining's rmse: 3.36246\tvalid_1's rmse: 3.65261\n",
      "[2300]\ttraining's rmse: 3.3545\tvalid_1's rmse: 3.65259\n",
      "[2400]\ttraining's rmse: 3.3467\tvalid_1's rmse: 3.65266\n",
      "[2500]\ttraining's rmse: 3.33975\tvalid_1's rmse: 3.65251\n",
      "[2600]\ttraining's rmse: 3.33205\tvalid_1's rmse: 3.65243\n",
      "[2700]\ttraining's rmse: 3.32497\tvalid_1's rmse: 3.6525\n",
      "[2800]\ttraining's rmse: 3.31794\tvalid_1's rmse: 3.65277\n",
      "Early stopping, best iteration is:\n",
      "[2642]\ttraining's rmse: 3.329\tvalid_1's rmse: 3.65233\n",
      "fold n°4\n",
      "Training until validation scores don't improve for 200 rounds.\n",
      "[100]\ttraining's rmse: 3.73354\tvalid_1's rmse: 3.76631\n",
      "[200]\ttraining's rmse: 3.6672\tvalid_1's rmse: 3.72755\n",
      "[300]\ttraining's rmse: 3.62247\tvalid_1's rmse: 3.70631\n",
      "[400]\ttraining's rmse: 3.58928\tvalid_1's rmse: 3.69343\n",
      "[500]\ttraining's rmse: 3.56258\tvalid_1's rmse: 3.68536\n",
      "[600]\ttraining's rmse: 3.54019\tvalid_1's rmse: 3.67933\n",
      "[700]\ttraining's rmse: 3.52112\tvalid_1's rmse: 3.67468\n",
      "[800]\ttraining's rmse: 3.50409\tvalid_1's rmse: 3.6716\n",
      "[900]\ttraining's rmse: 3.48913\tvalid_1's rmse: 3.66875\n",
      "[1000]\ttraining's rmse: 3.47483\tvalid_1's rmse: 3.66665\n",
      "[1100]\ttraining's rmse: 3.46184\tvalid_1's rmse: 3.66468\n",
      "[1200]\ttraining's rmse: 3.45006\tvalid_1's rmse: 3.6632\n",
      "[1300]\ttraining's rmse: 3.43907\tvalid_1's rmse: 3.66208\n",
      "[1400]\ttraining's rmse: 3.429\tvalid_1's rmse: 3.66104\n",
      "[1500]\ttraining's rmse: 3.41873\tvalid_1's rmse: 3.66029\n",
      "[1600]\ttraining's rmse: 3.40858\tvalid_1's rmse: 3.65942\n",
      "[1700]\ttraining's rmse: 3.39937\tvalid_1's rmse: 3.65915\n"
     ]
    },
    {
     "name": "stdout",
     "output_type": "stream",
     "text": [
      "[1800]\ttraining's rmse: 3.3906\tvalid_1's rmse: 3.65851\n",
      "[1900]\ttraining's rmse: 3.38164\tvalid_1's rmse: 3.65811\n",
      "[2000]\ttraining's rmse: 3.37334\tvalid_1's rmse: 3.65764\n",
      "[2100]\ttraining's rmse: 3.36515\tvalid_1's rmse: 3.65724\n",
      "[2200]\ttraining's rmse: 3.35735\tvalid_1's rmse: 3.65709\n",
      "[2300]\ttraining's rmse: 3.35011\tvalid_1's rmse: 3.65696\n",
      "[2400]\ttraining's rmse: 3.34313\tvalid_1's rmse: 3.65673\n",
      "[2500]\ttraining's rmse: 3.33596\tvalid_1's rmse: 3.65659\n",
      "[2600]\ttraining's rmse: 3.32911\tvalid_1's rmse: 3.65654\n",
      "[2700]\ttraining's rmse: 3.32184\tvalid_1's rmse: 3.65643\n",
      "[2800]\ttraining's rmse: 3.31496\tvalid_1's rmse: 3.65633\n",
      "[2900]\ttraining's rmse: 3.3076\tvalid_1's rmse: 3.65632\n",
      "[3000]\ttraining's rmse: 3.30018\tvalid_1's rmse: 3.6563\n",
      "[3100]\ttraining's rmse: 3.29309\tvalid_1's rmse: 3.6564\n",
      "Early stopping, best iteration is:\n",
      "[2947]\ttraining's rmse: 3.30421\tvalid_1's rmse: 3.6562\n",
      "CV score: 3.65055 \n"
     ]
    }
   ],
   "source": [
    "folds = StratifiedKFold(n_splits=5, shuffle=True, random_state=15)\n",
    "oof = np.zeros(len(df_train))\n",
    "predictions = np.zeros(len(df_test))\n",
    "feature_importance_df = pd.DataFrame()\n",
    "\n",
    "for fold_, (trn_idx, val_idx) in enumerate(folds.split(df_train.values, df_train['outliers'].values)):\n",
    "    print(\"fold n°{}\".format(fold_))\n",
    "    trn_data = lgb.Dataset(df_train.iloc[trn_idx][df_train_columns], label=target.iloc[trn_idx],categorical_feature=['feature_1','feature_2','feature_3'])#, categorical_feature=categorical_feats)\n",
    "    val_data = lgb.Dataset(df_train.iloc[val_idx][df_train_columns], label=target.iloc[val_idx],categorical_feature=['feature_1', 'feature_2','feature_3'])#, categorical_feature=categorical_feats)\n",
    "\n",
    "    num_round = 10000\n",
    "    clf = lgb.train(param, trn_data, num_round, valid_sets = [trn_data, val_data], verbose_eval=100, early_stopping_rounds = 200)\n",
    "    oof[val_idx] = clf.predict(df_train.iloc[val_idx][df_train_columns], num_iteration=clf.best_iteration)\n",
    "    \n",
    "    fold_importance_df = pd.DataFrame()\n",
    "    fold_importance_df[\"feature\"] = df_train_columns\n",
    "    fold_importance_df[\"importance\"] = clf.feature_importance()\n",
    "    fold_importance_df[\"fold\"] = fold_ + 1\n",
    "    feature_importance_df = pd.concat([feature_importance_df, fold_importance_df], axis=0)\n",
    "    \n",
    "    predictions += clf.predict(df_test[df_train_columns], num_iteration=clf.best_iteration) / folds.n_splits\n",
    "\n",
    "print(\"CV score: {:<8.5f}\".format(mean_squared_error(oof, target)**0.5))"
   ]
  },
  {
   "cell_type": "code",
   "execution_count": 201,
   "metadata": {},
   "outputs": [],
   "source": [
    "lgbparam = {'num_leaves': 31,\n",
    "            'boosting_type': 'rf',\n",
    "             'min_data_in_leaf': 30, \n",
    "             'objective':'regression',\n",
    "             'max_depth': -1,\n",
    "             'learning_rate': 0.01,\n",
    "             \"min_child_samples\": 20,\n",
    "             \"boosting\": \"gbdt\",\n",
    "             \"feature_fraction\": 0.9,\n",
    "             \"bagging_freq\": 1,\n",
    "             \"bagging_fraction\": 0.9 ,\n",
    "             \"bagging_seed\": 11,\n",
    "             \"metric\": 'rmse',\n",
    "             \"lambda_l1\": 0.1,\n",
    "             \"verbosity\": -1,\n",
    "             \"nthread\": 4,\n",
    "             \"random_state\": 4590}"
   ]
  },
  {
   "cell_type": "code",
   "execution_count": 202,
   "metadata": {},
   "outputs": [
    {
     "name": "stdout",
     "output_type": "stream",
     "text": [
      "fold n°0\n",
      "Training until validation scores don't improve for 100 rounds.\n",
      "[100]\ttraining's rmse: 3.67343\tvalid_1's rmse: 3.7118\n",
      "[200]\ttraining's rmse: 3.59598\tvalid_1's rmse: 3.67579\n",
      "[300]\ttraining's rmse: 3.54689\tvalid_1's rmse: 3.6603\n",
      "[400]\ttraining's rmse: 3.51014\tvalid_1's rmse: 3.65252\n",
      "[500]\ttraining's rmse: 3.48141\tvalid_1's rmse: 3.64794\n",
      "[600]\ttraining's rmse: 3.4561\tvalid_1's rmse: 3.64449\n",
      "[700]\ttraining's rmse: 3.43343\tvalid_1's rmse: 3.64201\n",
      "[800]\ttraining's rmse: 3.41318\tvalid_1's rmse: 3.6397\n",
      "[900]\ttraining's rmse: 3.39459\tvalid_1's rmse: 3.63834\n",
      "[1000]\ttraining's rmse: 3.37798\tvalid_1's rmse: 3.6371\n",
      "[1100]\ttraining's rmse: 3.36131\tvalid_1's rmse: 3.63657\n",
      "[1200]\ttraining's rmse: 3.34485\tvalid_1's rmse: 3.6356\n",
      "[1300]\ttraining's rmse: 3.32922\tvalid_1's rmse: 3.63549\n",
      "Early stopping, best iteration is:\n",
      "[1299]\ttraining's rmse: 3.3293\tvalid_1's rmse: 3.63547\n",
      "fold n°1\n",
      "Training until validation scores don't improve for 100 rounds.\n",
      "[100]\ttraining's rmse: 3.67046\tvalid_1's rmse: 3.71894\n",
      "[200]\ttraining's rmse: 3.59196\tvalid_1's rmse: 3.68569\n",
      "[300]\ttraining's rmse: 3.5421\tvalid_1's rmse: 3.67266\n",
      "[400]\ttraining's rmse: 3.50465\tvalid_1's rmse: 3.66506\n",
      "[500]\ttraining's rmse: 3.47415\tvalid_1's rmse: 3.65934\n",
      "[600]\ttraining's rmse: 3.44852\tvalid_1's rmse: 3.65638\n",
      "[700]\ttraining's rmse: 3.42653\tvalid_1's rmse: 3.65455\n",
      "[800]\ttraining's rmse: 3.40676\tvalid_1's rmse: 3.6536\n",
      "[900]\ttraining's rmse: 3.38853\tvalid_1's rmse: 3.65256\n",
      "[1000]\ttraining's rmse: 3.3719\tvalid_1's rmse: 3.6526\n",
      "Early stopping, best iteration is:\n",
      "[911]\ttraining's rmse: 3.38652\tvalid_1's rmse: 3.65251\n",
      "fold n°2\n",
      "Training until validation scores don't improve for 100 rounds.\n",
      "[100]\ttraining's rmse: 3.66899\tvalid_1's rmse: 3.72035\n",
      "[200]\ttraining's rmse: 3.58982\tvalid_1's rmse: 3.68776\n",
      "[300]\ttraining's rmse: 3.54016\tvalid_1's rmse: 3.67432\n",
      "[400]\ttraining's rmse: 3.50195\tvalid_1's rmse: 3.66688\n",
      "[500]\ttraining's rmse: 3.47261\tvalid_1's rmse: 3.6623\n",
      "[600]\ttraining's rmse: 3.44659\tvalid_1's rmse: 3.65959\n",
      "[700]\ttraining's rmse: 3.42375\tvalid_1's rmse: 3.65769\n",
      "[800]\ttraining's rmse: 3.40388\tvalid_1's rmse: 3.65664\n",
      "[900]\ttraining's rmse: 3.38582\tvalid_1's rmse: 3.65594\n",
      "[1000]\ttraining's rmse: 3.36813\tvalid_1's rmse: 3.65523\n",
      "[1100]\ttraining's rmse: 3.35263\tvalid_1's rmse: 3.65473\n",
      "[1200]\ttraining's rmse: 3.33601\tvalid_1's rmse: 3.65439\n",
      "[1300]\ttraining's rmse: 3.32043\tvalid_1's rmse: 3.65415\n",
      "Early stopping, best iteration is:\n",
      "[1267]\ttraining's rmse: 3.32563\tvalid_1's rmse: 3.65397\n",
      "fold n°3\n",
      "Training until validation scores don't improve for 100 rounds.\n",
      "[100]\ttraining's rmse: 3.66885\tvalid_1's rmse: 3.7232\n",
      "[200]\ttraining's rmse: 3.59149\tvalid_1's rmse: 3.68705\n",
      "[300]\ttraining's rmse: 3.543\tvalid_1's rmse: 3.6731\n",
      "[400]\ttraining's rmse: 3.50613\tvalid_1's rmse: 3.66564\n",
      "[500]\ttraining's rmse: 3.4772\tvalid_1's rmse: 3.66037\n",
      "[600]\ttraining's rmse: 3.45333\tvalid_1's rmse: 3.65716\n",
      "[700]\ttraining's rmse: 3.43188\tvalid_1's rmse: 3.65514\n",
      "[800]\ttraining's rmse: 3.41331\tvalid_1's rmse: 3.65313\n",
      "[900]\ttraining's rmse: 3.39452\tvalid_1's rmse: 3.65194\n",
      "[1000]\ttraining's rmse: 3.37723\tvalid_1's rmse: 3.65079\n",
      "[1100]\ttraining's rmse: 3.36114\tvalid_1's rmse: 3.64994\n",
      "[1200]\ttraining's rmse: 3.34573\tvalid_1's rmse: 3.64977\n",
      "Early stopping, best iteration is:\n",
      "[1131]\ttraining's rmse: 3.35609\tvalid_1's rmse: 3.64958\n",
      "fold n°4\n",
      "Training until validation scores don't improve for 100 rounds.\n",
      "[100]\ttraining's rmse: 3.6696\tvalid_1's rmse: 3.7239\n",
      "[200]\ttraining's rmse: 3.59113\tvalid_1's rmse: 3.69118\n",
      "[300]\ttraining's rmse: 3.54103\tvalid_1's rmse: 3.67875\n",
      "[400]\ttraining's rmse: 3.50359\tvalid_1's rmse: 3.67119\n",
      "[500]\ttraining's rmse: 3.47426\tvalid_1's rmse: 3.66647\n",
      "[600]\ttraining's rmse: 3.4488\tvalid_1's rmse: 3.66421\n",
      "[700]\ttraining's rmse: 3.42563\tvalid_1's rmse: 3.6627\n",
      "[800]\ttraining's rmse: 3.40528\tvalid_1's rmse: 3.66112\n",
      "[900]\ttraining's rmse: 3.38786\tvalid_1's rmse: 3.66031\n",
      "[1000]\ttraining's rmse: 3.37042\tvalid_1's rmse: 3.66038\n",
      "[1100]\ttraining's rmse: 3.3544\tvalid_1's rmse: 3.65987\n",
      "[1200]\ttraining's rmse: 3.33807\tvalid_1's rmse: 3.65979\n",
      "Early stopping, best iteration is:\n",
      "[1146]\ttraining's rmse: 3.34712\tvalid_1's rmse: 3.65962\n",
      "fold n°5\n",
      "Training until validation scores don't improve for 100 rounds.\n",
      "[100]\ttraining's rmse: 3.67063\tvalid_1's rmse: 3.71363\n",
      "[200]\ttraining's rmse: 3.59295\tvalid_1's rmse: 3.67828\n",
      "[300]\ttraining's rmse: 3.54298\tvalid_1's rmse: 3.66468\n",
      "[400]\ttraining's rmse: 3.50707\tvalid_1's rmse: 3.65694\n",
      "[500]\ttraining's rmse: 3.47753\tvalid_1's rmse: 3.65181\n",
      "[600]\ttraining's rmse: 3.45234\tvalid_1's rmse: 3.64898\n",
      "[700]\ttraining's rmse: 3.43117\tvalid_1's rmse: 3.64768\n",
      "[800]\ttraining's rmse: 3.41032\tvalid_1's rmse: 3.64679\n",
      "[900]\ttraining's rmse: 3.39202\tvalid_1's rmse: 3.64582\n",
      "[1000]\ttraining's rmse: 3.37427\tvalid_1's rmse: 3.64543\n",
      "Early stopping, best iteration is:\n",
      "[938]\ttraining's rmse: 3.38494\tvalid_1's rmse: 3.64519\n",
      "fold n°6\n",
      "Training until validation scores don't improve for 100 rounds.\n",
      "[100]\ttraining's rmse: 3.67278\tvalid_1's rmse: 3.71967\n",
      "[200]\ttraining's rmse: 3.59473\tvalid_1's rmse: 3.68332\n",
      "[300]\ttraining's rmse: 3.54505\tvalid_1's rmse: 3.66924\n",
      "[400]\ttraining's rmse: 3.50656\tvalid_1's rmse: 3.66102\n",
      "[500]\ttraining's rmse: 3.47574\tvalid_1's rmse: 3.65669\n",
      "[600]\ttraining's rmse: 3.45042\tvalid_1's rmse: 3.65274\n",
      "[700]\ttraining's rmse: 3.42875\tvalid_1's rmse: 3.65103\n",
      "[800]\ttraining's rmse: 3.40879\tvalid_1's rmse: 3.64986\n",
      "[900]\ttraining's rmse: 3.39013\tvalid_1's rmse: 3.64893\n",
      "[1000]\ttraining's rmse: 3.37279\tvalid_1's rmse: 3.64809\n",
      "[1100]\ttraining's rmse: 3.35676\tvalid_1's rmse: 3.64749\n",
      "[1200]\ttraining's rmse: 3.34035\tvalid_1's rmse: 3.6478\n",
      "Early stopping, best iteration is:\n",
      "[1107]\ttraining's rmse: 3.35538\tvalid_1's rmse: 3.6474\n",
      "fold n°7\n",
      "Training until validation scores don't improve for 100 rounds.\n",
      "[100]\ttraining's rmse: 3.67012\tvalid_1's rmse: 3.71728\n",
      "[200]\ttraining's rmse: 3.59207\tvalid_1's rmse: 3.68355\n",
      "[300]\ttraining's rmse: 3.5441\tvalid_1's rmse: 3.66855\n",
      "[400]\ttraining's rmse: 3.5081\tvalid_1's rmse: 3.66123\n",
      "[500]\ttraining's rmse: 3.47699\tvalid_1's rmse: 3.65724\n",
      "[600]\ttraining's rmse: 3.45135\tvalid_1's rmse: 3.65446\n",
      "[700]\ttraining's rmse: 3.42929\tvalid_1's rmse: 3.65248\n",
      "[800]\ttraining's rmse: 3.40931\tvalid_1's rmse: 3.65165\n",
      "[900]\ttraining's rmse: 3.39176\tvalid_1's rmse: 3.6512\n",
      "[1000]\ttraining's rmse: 3.37498\tvalid_1's rmse: 3.65079\n",
      "Early stopping, best iteration is:\n",
      "[989]\ttraining's rmse: 3.37712\tvalid_1's rmse: 3.65053\n",
      "fold n°8\n",
      "Training until validation scores don't improve for 100 rounds.\n",
      "[100]\ttraining's rmse: 3.6681\tvalid_1's rmse: 3.73334\n",
      "[200]\ttraining's rmse: 3.58975\tvalid_1's rmse: 3.69923\n",
      "[300]\ttraining's rmse: 3.54003\tvalid_1's rmse: 3.68443\n",
      "[400]\ttraining's rmse: 3.50142\tvalid_1's rmse: 3.67643\n",
      "[500]\ttraining's rmse: 3.47043\tvalid_1's rmse: 3.67274\n",
      "[600]\ttraining's rmse: 3.44386\tvalid_1's rmse: 3.6702\n",
      "[700]\ttraining's rmse: 3.41985\tvalid_1's rmse: 3.66784\n",
      "[800]\ttraining's rmse: 3.39931\tvalid_1's rmse: 3.66593\n",
      "[900]\ttraining's rmse: 3.38016\tvalid_1's rmse: 3.66508\n",
      "[1000]\ttraining's rmse: 3.36268\tvalid_1's rmse: 3.66398\n",
      "[1100]\ttraining's rmse: 3.34693\tvalid_1's rmse: 3.66321\n",
      "[1200]\ttraining's rmse: 3.3314\tvalid_1's rmse: 3.6629\n",
      "[1300]\ttraining's rmse: 3.31565\tvalid_1's rmse: 3.6626\n",
      "[1400]\ttraining's rmse: 3.30139\tvalid_1's rmse: 3.66232\n",
      "[1500]\ttraining's rmse: 3.2867\tvalid_1's rmse: 3.66222\n",
      "Early stopping, best iteration is:\n",
      "[1435]\ttraining's rmse: 3.29609\tvalid_1's rmse: 3.66217\n",
      "fold n°9\n",
      "Training until validation scores don't improve for 100 rounds.\n",
      "[100]\ttraining's rmse: 3.66918\tvalid_1's rmse: 3.72178\n",
      "[200]\ttraining's rmse: 3.59071\tvalid_1's rmse: 3.692\n",
      "[300]\ttraining's rmse: 3.54159\tvalid_1's rmse: 3.68085\n",
      "[400]\ttraining's rmse: 3.50512\tvalid_1's rmse: 3.67591\n",
      "[500]\ttraining's rmse: 3.4741\tvalid_1's rmse: 3.67118\n",
      "[600]\ttraining's rmse: 3.44892\tvalid_1's rmse: 3.66875\n",
      "[700]\ttraining's rmse: 3.42721\tvalid_1's rmse: 3.6668\n",
      "[800]\ttraining's rmse: 3.40666\tvalid_1's rmse: 3.66558\n",
      "[900]\ttraining's rmse: 3.3876\tvalid_1's rmse: 3.66484\n",
      "[1000]\ttraining's rmse: 3.37045\tvalid_1's rmse: 3.66418\n",
      "[1100]\ttraining's rmse: 3.35376\tvalid_1's rmse: 3.66285\n",
      "[1200]\ttraining's rmse: 3.33789\tvalid_1's rmse: 3.66208\n",
      "[1300]\ttraining's rmse: 3.3219\tvalid_1's rmse: 3.66162\n",
      "[1400]\ttraining's rmse: 3.30768\tvalid_1's rmse: 3.66139\n",
      "[1500]\ttraining's rmse: 3.29275\tvalid_1's rmse: 3.66102\n"
     ]
    },
    {
     "name": "stdout",
     "output_type": "stream",
     "text": [
      "[1600]\ttraining's rmse: 3.27924\tvalid_1's rmse: 3.66032\n",
      "[1700]\ttraining's rmse: 3.26654\tvalid_1's rmse: 3.66044\n",
      "[1800]\ttraining's rmse: 3.25208\tvalid_1's rmse: 3.6601\n",
      "Early stopping, best iteration is:\n",
      "[1783]\ttraining's rmse: 3.25421\tvalid_1's rmse: 3.66005\n",
      "CV score: 3.65308 \n"
     ]
    }
   ],
   "source": [
    "#from sklearn.model_selection import RepeatedKFold\n",
    "folds = RepeatedStratifiedKFold(n_splits=5, n_repeats=2, random_state=4520)\n",
    "\n",
    "oof_lgb = np.zeros(len(df_train))\n",
    "predictions_lgb = np.zeros(len(df_test))\n",
    "feature_importance_df = pd.DataFrame()\n",
    "\n",
    "for fold_, (trn_idx, val_idx) in enumerate(folds.split(df_train,df_train['outliers'].values)):\n",
    "    print(\"fold n°{}\".format(fold_))\n",
    "    trn_data = lgb.Dataset(df_train.iloc[trn_idx][df_train_columns], label=target.iloc[trn_idx],categorical_feature=['feature_1','feature_2','feature_3'])#, categorical_feature=categorical_feats)\n",
    "    val_data = lgb.Dataset(df_train.iloc[val_idx][df_train_columns], label=target.iloc[val_idx],categorical_feature=['feature_1', 'feature_2','feature_3'])#, categorical_feature=categorical_feats)\n",
    "\n",
    "    num_round = 11000\n",
    "    clf = lgb.train(lgbparam, trn_data, num_round, valid_sets = [trn_data, val_data], verbose_eval=100, early_stopping_rounds = 100)\n",
    "    oof_lgb[val_idx] = clf.predict(df_train.iloc[val_idx][df_train_columns], num_iteration=clf.best_iteration)\n",
    "\n",
    "    fold_importance_df = pd.DataFrame()\n",
    "    fold_importance_df[\"feature\"] = df_train_columns\n",
    "    fold_importance_df[\"importance\"] = clf.feature_importance()\n",
    "    fold_importance_df[\"fold\"] = fold_ + 1\n",
    "    feature_importance_df = pd.concat([feature_importance_df, fold_importance_df], axis=0)\n",
    "    \n",
    "    predictions_lgb += clf.predict(df_test[df_train_columns], num_iteration=clf.best_iteration) / (5 * 2)\n",
    "\n",
    "print(\"CV score: {:<8.5f}\".format(mean_squared_error(oof_lgb, target)**0.5))\n",
    "\n"
   ]
  },
  {
   "cell_type": "code",
   "execution_count": 187,
   "metadata": {},
   "outputs": [
    {
     "data": {
      "text/plain": [
       "array([-2.09231531, -0.17194729, -0.95052083, ...,  0.85005684,\n",
       "       -2.80954205,  0.09606236])"
      ]
     },
     "execution_count": 187,
     "metadata": {},
     "output_type": "execute_result"
    }
   ],
   "source": [
    "predictions_lgb"
   ]
  },
  {
   "cell_type": "code",
   "execution_count": 158,
   "metadata": {},
   "outputs": [],
   "source": [
    "sub_df1 = pd.DataFrame({\"card_id\":df_test[\"card_id\"].values})\n",
    "sub_df1[\"target\"] = predictions_lgb\n",
    "sub_df1.to_csv(\"submit_lgb1_stacking_w_outlier.csv\", index=False)"
   ]
  },
  {
   "cell_type": "code",
   "execution_count": 203,
   "metadata": {
    "scrolled": true
   },
   "outputs": [
    {
     "name": "stdout",
     "output_type": "stream",
     "text": [
      "fold n°0\n",
      "----------Stacking 0----------\n",
      "fold n°1\n",
      "----------Stacking 1----------\n",
      "fold n°2\n",
      "----------Stacking 2----------\n",
      "fold n°3\n",
      "----------Stacking 3----------\n",
      "fold n°4\n",
      "----------Stacking 4----------\n"
     ]
    },
    {
     "data": {
      "text/plain": [
       "3.6491930700667297"
      ]
     },
     "execution_count": 203,
     "metadata": {},
     "output_type": "execute_result"
    }
   ],
   "source": [
    "train_stack = np.vstack([oof,oof_lgb]).transpose()\n",
    "test_stack = np.vstack([predictions,predictions_lgb]).transpose()\n",
    "\n",
    "folds = RepeatedKFold(n_splits=5,n_repeats=1,random_state=4520)\n",
    "oof_stack = np.zeros(train_stack.shape[0])\n",
    "predictions_stack = np.zeros(test_stack.shape[0])\n",
    "\n",
    "for fold_, (trn_idx, val_idx) in enumerate(folds.split(train_stack, target)):\n",
    "    print(\"fold n°{}\".format(fold_))\n",
    "    trn_data, trn_y = train_stack[trn_idx], target.iloc[trn_idx].values\n",
    "    val_data, val_y = train_stack[val_idx], target.iloc[val_idx].values\n",
    "\n",
    "    print(\"-\" * 10 + \"Stacking \" + str(fold_) + \"-\" * 10)\n",
    "#     cb_model = CatBoostRegressor(iterations=3000, learning_rate=0.1, depth=8, l2_leaf_reg=20, bootstrap_type='Bernoulli',  eval_metric='RMSE', metric_period=50, od_type='Iter', od_wait=45, random_seed=17, allow_writing_files=False)\n",
    "#     cb_model.fit(trn_data, trn_y, eval_set=(val_data, val_y), cat_features=[], use_best_model=True, verbose=True)\n",
    "    clf = BayesianRidge()\n",
    "    clf.fit(trn_data, trn_y)\n",
    "    \n",
    "    oof_stack[val_idx] = clf.predict(val_data)\n",
    "    predictions_stack += clf.predict(test_stack) / 5\n",
    "\n",
    "\n",
    "np.sqrt(mean_squared_error(target.values, oof_stack))"
   ]
  },
  {
   "cell_type": "code",
   "execution_count": 163,
   "metadata": {},
   "outputs": [
    {
     "data": {
      "text/plain": [
       "array([-2.1060703 , -0.17353636, -0.96257875, ...,  0.87252091,\n",
       "       -2.99655373,  0.13051841])"
      ]
     },
     "execution_count": 163,
     "metadata": {},
     "output_type": "execute_result"
    }
   ],
   "source": [
    "predictions_stack"
   ]
  },
  {
   "cell_type": "code",
   "execution_count": 204,
   "metadata": {},
   "outputs": [],
   "source": [
    "sample_submission = pd.read_csv('sample_submission.csv')\n",
    "sample_submission['target'] = predictions_stack\n",
    "sample_submission.to_csv('Bayesian_Ridge_Stacking_w_outliers_pur_date_4.csv', index=False)"
   ]
  },
  {
   "cell_type": "markdown",
   "metadata": {},
   "source": [
    "### Now let's predict  outliers with binary classifications and binary logloss metric"
   ]
  },
  {
   "cell_type": "code",
   "execution_count": 210,
   "metadata": {},
   "outputs": [],
   "source": [
    "target=df_train.outliers"
   ]
  },
  {
   "cell_type": "code",
   "execution_count": 211,
   "metadata": {},
   "outputs": [
    {
     "name": "stdout",
     "output_type": "stream",
     "text": [
      "fold n°0\n",
      "Training until validation scores don't improve for 200 rounds.\n",
      "[100]\ttraining's binary_logloss: 0.0465725\tvalid_1's binary_logloss: 0.0494251\n",
      "[200]\ttraining's binary_logloss: 0.0423393\tvalid_1's binary_logloss: 0.0467432\n",
      "[300]\ttraining's binary_logloss: 0.0398121\tvalid_1's binary_logloss: 0.04563\n",
      "[400]\ttraining's binary_logloss: 0.0379655\tvalid_1's binary_logloss: 0.0451054\n",
      "[500]\ttraining's binary_logloss: 0.0364101\tvalid_1's binary_logloss: 0.0448216\n",
      "[600]\ttraining's binary_logloss: 0.0350469\tvalid_1's binary_logloss: 0.0446494\n",
      "[700]\ttraining's binary_logloss: 0.0338615\tvalid_1's binary_logloss: 0.0445619\n",
      "[800]\ttraining's binary_logloss: 0.0328614\tvalid_1's binary_logloss: 0.0444887\n",
      "[900]\ttraining's binary_logloss: 0.031945\tvalid_1's binary_logloss: 0.044434\n",
      "[1000]\ttraining's binary_logloss: 0.0310842\tvalid_1's binary_logloss: 0.0444219\n",
      "[1100]\ttraining's binary_logloss: 0.0303012\tvalid_1's binary_logloss: 0.0443903\n",
      "[1200]\ttraining's binary_logloss: 0.0295564\tvalid_1's binary_logloss: 0.0443991\n",
      "Early stopping, best iteration is:\n",
      "[1089]\ttraining's binary_logloss: 0.0303818\tvalid_1's binary_logloss: 0.0443884\n",
      "fold n°1\n",
      "Training until validation scores don't improve for 200 rounds.\n",
      "[100]\ttraining's binary_logloss: 0.0464608\tvalid_1's binary_logloss: 0.0499367\n",
      "[200]\ttraining's binary_logloss: 0.0422571\tvalid_1's binary_logloss: 0.0472252\n",
      "[300]\ttraining's binary_logloss: 0.0396883\tvalid_1's binary_logloss: 0.0460213\n",
      "[400]\ttraining's binary_logloss: 0.0378275\tvalid_1's binary_logloss: 0.0454101\n",
      "[500]\ttraining's binary_logloss: 0.0361733\tvalid_1's binary_logloss: 0.0450664\n",
      "[600]\ttraining's binary_logloss: 0.0348155\tvalid_1's binary_logloss: 0.0448721\n",
      "[700]\ttraining's binary_logloss: 0.0336959\tvalid_1's binary_logloss: 0.0447612\n",
      "[800]\ttraining's binary_logloss: 0.0326754\tvalid_1's binary_logloss: 0.044702\n",
      "[900]\ttraining's binary_logloss: 0.031784\tvalid_1's binary_logloss: 0.0446486\n",
      "[1000]\ttraining's binary_logloss: 0.0309431\tvalid_1's binary_logloss: 0.0446177\n",
      "[1100]\ttraining's binary_logloss: 0.0301641\tvalid_1's binary_logloss: 0.0446024\n",
      "[1200]\ttraining's binary_logloss: 0.0294064\tvalid_1's binary_logloss: 0.0445949\n",
      "[1300]\ttraining's binary_logloss: 0.0286967\tvalid_1's binary_logloss: 0.0445783\n",
      "[1400]\ttraining's binary_logloss: 0.0280227\tvalid_1's binary_logloss: 0.0445761\n",
      "[1500]\ttraining's binary_logloss: 0.0273664\tvalid_1's binary_logloss: 0.0445782\n",
      "[1600]\ttraining's binary_logloss: 0.0267373\tvalid_1's binary_logloss: 0.0446069\n",
      "Early stopping, best iteration is:\n",
      "[1419]\ttraining's binary_logloss: 0.0278948\tvalid_1's binary_logloss: 0.0445714\n",
      "fold n°2\n",
      "Training until validation scores don't improve for 200 rounds.\n",
      "[100]\ttraining's binary_logloss: 0.0466465\tvalid_1's binary_logloss: 0.0495979\n",
      "[200]\ttraining's binary_logloss: 0.0424374\tvalid_1's binary_logloss: 0.0467123\n",
      "[300]\ttraining's binary_logloss: 0.0398704\tvalid_1's binary_logloss: 0.0454506\n",
      "[400]\ttraining's binary_logloss: 0.0379926\tvalid_1's binary_logloss: 0.0447716\n",
      "[500]\ttraining's binary_logloss: 0.0364202\tvalid_1's binary_logloss: 0.0444114\n",
      "[600]\ttraining's binary_logloss: 0.0350506\tvalid_1's binary_logloss: 0.0442002\n",
      "[700]\ttraining's binary_logloss: 0.0339016\tvalid_1's binary_logloss: 0.0440814\n",
      "[800]\ttraining's binary_logloss: 0.0328376\tvalid_1's binary_logloss: 0.0439747\n",
      "[900]\ttraining's binary_logloss: 0.0319033\tvalid_1's binary_logloss: 0.0439099\n",
      "[1000]\ttraining's binary_logloss: 0.0310279\tvalid_1's binary_logloss: 0.0438831\n",
      "[1100]\ttraining's binary_logloss: 0.0302499\tvalid_1's binary_logloss: 0.0438559\n",
      "[1200]\ttraining's binary_logloss: 0.0294907\tvalid_1's binary_logloss: 0.0438413\n",
      "[1300]\ttraining's binary_logloss: 0.0287854\tvalid_1's binary_logloss: 0.0438319\n",
      "[1400]\ttraining's binary_logloss: 0.0281111\tvalid_1's binary_logloss: 0.0438291\n",
      "[1500]\ttraining's binary_logloss: 0.0274707\tvalid_1's binary_logloss: 0.0438392\n",
      "Early stopping, best iteration is:\n",
      "[1375]\ttraining's binary_logloss: 0.0282802\tvalid_1's binary_logloss: 0.0438237\n",
      "fold n°3\n",
      "Training until validation scores don't improve for 200 rounds.\n",
      "[100]\ttraining's binary_logloss: 0.0468173\tvalid_1's binary_logloss: 0.0491947\n",
      "[200]\ttraining's binary_logloss: 0.042552\tvalid_1's binary_logloss: 0.0461376\n",
      "[300]\ttraining's binary_logloss: 0.0400361\tvalid_1's binary_logloss: 0.0447537\n",
      "[400]\ttraining's binary_logloss: 0.0382053\tvalid_1's binary_logloss: 0.0440441\n",
      "[500]\ttraining's binary_logloss: 0.0366704\tvalid_1's binary_logloss: 0.0436656\n",
      "[600]\ttraining's binary_logloss: 0.0352753\tvalid_1's binary_logloss: 0.0434318\n",
      "[700]\ttraining's binary_logloss: 0.0340847\tvalid_1's binary_logloss: 0.0433056\n",
      "[800]\ttraining's binary_logloss: 0.0329944\tvalid_1's binary_logloss: 0.0432351\n",
      "[900]\ttraining's binary_logloss: 0.0320355\tvalid_1's binary_logloss: 0.0431758\n",
      "[1000]\ttraining's binary_logloss: 0.0311787\tvalid_1's binary_logloss: 0.0431509\n",
      "[1100]\ttraining's binary_logloss: 0.030382\tvalid_1's binary_logloss: 0.0431422\n",
      "[1200]\ttraining's binary_logloss: 0.0296197\tvalid_1's binary_logloss: 0.0431343\n",
      "[1300]\ttraining's binary_logloss: 0.0288821\tvalid_1's binary_logloss: 0.0431346\n",
      "[1400]\ttraining's binary_logloss: 0.0281752\tvalid_1's binary_logloss: 0.0431346\n",
      "[1500]\ttraining's binary_logloss: 0.0274989\tvalid_1's binary_logloss: 0.0431254\n",
      "[1600]\ttraining's binary_logloss: 0.0268561\tvalid_1's binary_logloss: 0.0431294\n",
      "[1700]\ttraining's binary_logloss: 0.026247\tvalid_1's binary_logloss: 0.043146\n",
      "Early stopping, best iteration is:\n",
      "[1503]\ttraining's binary_logloss: 0.0274801\tvalid_1's binary_logloss: 0.0431244\n",
      "fold n°4\n",
      "Training until validation scores don't improve for 200 rounds.\n",
      "[100]\ttraining's binary_logloss: 0.0466287\tvalid_1's binary_logloss: 0.0496624\n",
      "[200]\ttraining's binary_logloss: 0.0423906\tvalid_1's binary_logloss: 0.0467678\n",
      "[300]\ttraining's binary_logloss: 0.0398346\tvalid_1's binary_logloss: 0.0454201\n",
      "[400]\ttraining's binary_logloss: 0.037971\tvalid_1's binary_logloss: 0.0447603\n",
      "[500]\ttraining's binary_logloss: 0.036414\tvalid_1's binary_logloss: 0.0443949\n",
      "[600]\ttraining's binary_logloss: 0.0350516\tvalid_1's binary_logloss: 0.0441812\n",
      "[700]\ttraining's binary_logloss: 0.033901\tvalid_1's binary_logloss: 0.0440721\n",
      "[800]\ttraining's binary_logloss: 0.0328506\tvalid_1's binary_logloss: 0.0440017\n",
      "[900]\ttraining's binary_logloss: 0.0319292\tvalid_1's binary_logloss: 0.0439477\n",
      "[1000]\ttraining's binary_logloss: 0.0310602\tvalid_1's binary_logloss: 0.043917\n",
      "[1100]\ttraining's binary_logloss: 0.030251\tvalid_1's binary_logloss: 0.0438914\n",
      "[1200]\ttraining's binary_logloss: 0.0294778\tvalid_1's binary_logloss: 0.0438887\n",
      "[1300]\ttraining's binary_logloss: 0.0287659\tvalid_1's binary_logloss: 0.0438848\n",
      "[1400]\ttraining's binary_logloss: 0.0280787\tvalid_1's binary_logloss: 0.0438893\n",
      "Early stopping, best iteration is:\n",
      "[1248]\ttraining's binary_logloss: 0.0291318\tvalid_1's binary_logloss: 0.043878\n",
      "CV score: 0.09932 \n"
     ]
    }
   ],
   "source": [
    "param = {'num_leaves': 31,\n",
    "         'min_data_in_leaf': 32, \n",
    "         'objective':'binary',\n",
    "         'max_depth': -1,\n",
    "         'learning_rate': 0.005,\n",
    "         \"min_child_samples\": 20,\n",
    "         \"boosting\": \"gbdt\",\n",
    "         \"feature_fraction\": 0.9,\n",
    "         \"bagging_freq\": 1,\n",
    "         \"bagging_fraction\": 0.9 ,\n",
    "         \"bagging_seed\": 11,\n",
    "         \"metric\": 'binary_logloss',\n",
    "         \"lambda_l1\": 0.1,\n",
    "         \"nthread\": 4,\n",
    "         \"verbosity\": -1}\n",
    "\n",
    "folds = StratifiedKFold(n_splits=5, shuffle=True, random_state=15)\n",
    "oof = np.zeros(len(df_train))\n",
    "predictions = np.zeros(len(df_test))\n",
    "feature_importance_df = pd.DataFrame()\n",
    "\n",
    "for fold_, (trn_idx, val_idx) in enumerate(folds.split(df_train.values, df_train['outliers'].values)):\n",
    "    print(\"fold n°{}\".format(fold_))\n",
    "    trn_data = lgb.Dataset(df_train.iloc[trn_idx][df_train_columns], label=target.iloc[trn_idx],categorical_feature=['feature_1','feature_2','feature_3'])#, categorical_feature=categorical_feats)\n",
    "    val_data = lgb.Dataset(df_train.iloc[val_idx][df_train_columns], label=target.iloc[val_idx],categorical_feature=['feature_1', 'feature_2','feature_3'])#, categorical_feature=categorical_feats)\n",
    "\n",
    "    num_round = 10000\n",
    "    clf = lgb.train(param, trn_data, num_round, valid_sets = [trn_data, val_data], verbose_eval=100, early_stopping_rounds = 200)\n",
    "    oof[val_idx] = clf.predict(df_train.iloc[val_idx][df_train_columns], num_iteration=clf.best_iteration)\n",
    "    \n",
    "    fold_importance_df = pd.DataFrame()\n",
    "    fold_importance_df[\"feature\"] = df_train_columns\n",
    "    fold_importance_df[\"importance\"] = clf.feature_importance()\n",
    "    fold_importance_df[\"fold\"] = fold_ + 1\n",
    "    feature_importance_df = pd.concat([feature_importance_df, fold_importance_df], axis=0)\n",
    "    \n",
    "    predictions += clf.predict(df_test[df_train_columns], num_iteration=clf.best_iteration) / folds.n_splits\n",
    "\n",
    "print(\"CV score: {:<8.5f}\".format(mean_squared_error(oof, target)**0.5))"
   ]
  },
  {
   "cell_type": "code",
   "execution_count": 212,
   "metadata": {},
   "outputs": [
    {
     "name": "stdout",
     "output_type": "stream",
     "text": [
      "fold n°0\n",
      "Training until validation scores don't improve for 100 rounds.\n",
      "[100]\ttraining's binary_logloss: 0.042444\tvalid_1's binary_logloss: 0.0464311\n",
      "[200]\ttraining's binary_logloss: 0.037997\tvalid_1's binary_logloss: 0.0445148\n",
      "[300]\ttraining's binary_logloss: 0.0350549\tvalid_1's binary_logloss: 0.0440185\n",
      "[400]\ttraining's binary_logloss: 0.0328816\tvalid_1's binary_logloss: 0.0437926\n",
      "[500]\ttraining's binary_logloss: 0.0311618\tvalid_1's binary_logloss: 0.0437086\n",
      "[600]\ttraining's binary_logloss: 0.0296233\tvalid_1's binary_logloss: 0.0436764\n",
      "[700]\ttraining's binary_logloss: 0.0282174\tvalid_1's binary_logloss: 0.043643\n",
      "[800]\ttraining's binary_logloss: 0.0269396\tvalid_1's binary_logloss: 0.0436123\n",
      "[900]\ttraining's binary_logloss: 0.0257815\tvalid_1's binary_logloss: 0.0435908\n",
      "[1000]\ttraining's binary_logloss: 0.0246591\tvalid_1's binary_logloss: 0.0436136\n",
      "Early stopping, best iteration is:\n",
      "[948]\ttraining's binary_logloss: 0.0252231\tvalid_1's binary_logloss: 0.0435791\n",
      "fold n°1\n",
      "Training until validation scores don't improve for 100 rounds.\n",
      "[100]\ttraining's binary_logloss: 0.0422361\tvalid_1's binary_logloss: 0.047027\n",
      "[200]\ttraining's binary_logloss: 0.0377061\tvalid_1's binary_logloss: 0.0452035\n",
      "[300]\ttraining's binary_logloss: 0.0347834\tvalid_1's binary_logloss: 0.0447403\n",
      "[400]\ttraining's binary_logloss: 0.032564\tvalid_1's binary_logloss: 0.0445836\n",
      "[500]\ttraining's binary_logloss: 0.0307678\tvalid_1's binary_logloss: 0.0444984\n",
      "[600]\ttraining's binary_logloss: 0.0292282\tvalid_1's binary_logloss: 0.0444757\n",
      "[700]\ttraining's binary_logloss: 0.0277686\tvalid_1's binary_logloss: 0.0444692\n",
      "Early stopping, best iteration is:\n",
      "[628]\ttraining's binary_logloss: 0.0287985\tvalid_1's binary_logloss: 0.0444561\n",
      "fold n°2\n",
      "Training until validation scores don't improve for 100 rounds.\n",
      "[100]\ttraining's binary_logloss: 0.0421539\tvalid_1's binary_logloss: 0.0471517\n",
      "[200]\ttraining's binary_logloss: 0.0376899\tvalid_1's binary_logloss: 0.0453361\n",
      "[300]\ttraining's binary_logloss: 0.034752\tvalid_1's binary_logloss: 0.0448375\n",
      "[400]\ttraining's binary_logloss: 0.0325455\tvalid_1's binary_logloss: 0.0447322\n",
      "[500]\ttraining's binary_logloss: 0.030779\tvalid_1's binary_logloss: 0.0446876\n",
      "[600]\ttraining's binary_logloss: 0.0292429\tvalid_1's binary_logloss: 0.0447046\n",
      "Early stopping, best iteration is:\n",
      "[509]\ttraining's binary_logloss: 0.0306382\tvalid_1's binary_logloss: 0.0446794\n",
      "fold n°3\n",
      "Training until validation scores don't improve for 100 rounds.\n",
      "[100]\ttraining's binary_logloss: 0.0425943\tvalid_1's binary_logloss: 0.0461251\n",
      "[200]\ttraining's binary_logloss: 0.0381951\tvalid_1's binary_logloss: 0.0440042\n",
      "[300]\ttraining's binary_logloss: 0.035239\tvalid_1's binary_logloss: 0.0434038\n",
      "[400]\ttraining's binary_logloss: 0.0330118\tvalid_1's binary_logloss: 0.0431567\n",
      "[500]\ttraining's binary_logloss: 0.0312121\tvalid_1's binary_logloss: 0.043042\n",
      "[600]\ttraining's binary_logloss: 0.0296623\tvalid_1's binary_logloss: 0.0429794\n",
      "[700]\ttraining's binary_logloss: 0.0282603\tvalid_1's binary_logloss: 0.0429409\n",
      "[800]\ttraining's binary_logloss: 0.0270165\tvalid_1's binary_logloss: 0.0429181\n",
      "[900]\ttraining's binary_logloss: 0.0258175\tvalid_1's binary_logloss: 0.042914\n",
      "Early stopping, best iteration is:\n",
      "[873]\ttraining's binary_logloss: 0.0261531\tvalid_1's binary_logloss: 0.0429005\n",
      "fold n°4\n",
      "Training until validation scores don't improve for 100 rounds.\n",
      "[100]\ttraining's binary_logloss: 0.042347\tvalid_1's binary_logloss: 0.0468427\n",
      "[200]\ttraining's binary_logloss: 0.0379721\tvalid_1's binary_logloss: 0.0450588\n",
      "[300]\ttraining's binary_logloss: 0.0349602\tvalid_1's binary_logloss: 0.0446297\n",
      "[400]\ttraining's binary_logloss: 0.032728\tvalid_1's binary_logloss: 0.0444809\n",
      "[500]\ttraining's binary_logloss: 0.0308739\tvalid_1's binary_logloss: 0.0444126\n",
      "[600]\ttraining's binary_logloss: 0.0293544\tvalid_1's binary_logloss: 0.0444261\n",
      "Early stopping, best iteration is:\n",
      "[535]\ttraining's binary_logloss: 0.030304\tvalid_1's binary_logloss: 0.044411\n",
      "fold n°5\n",
      "Training until validation scores don't improve for 100 rounds.\n",
      "[100]\ttraining's binary_logloss: 0.0424947\tvalid_1's binary_logloss: 0.0465332\n",
      "[200]\ttraining's binary_logloss: 0.0380301\tvalid_1's binary_logloss: 0.0446285\n",
      "[300]\ttraining's binary_logloss: 0.035075\tvalid_1's binary_logloss: 0.0441115\n",
      "[400]\ttraining's binary_logloss: 0.0328429\tvalid_1's binary_logloss: 0.0439269\n",
      "[500]\ttraining's binary_logloss: 0.0311075\tvalid_1's binary_logloss: 0.0438492\n",
      "[600]\ttraining's binary_logloss: 0.0295968\tvalid_1's binary_logloss: 0.0437909\n",
      "[700]\ttraining's binary_logloss: 0.0282347\tvalid_1's binary_logloss: 0.04375\n",
      "Early stopping, best iteration is:\n",
      "[686]\ttraining's binary_logloss: 0.0284269\tvalid_1's binary_logloss: 0.0437345\n",
      "fold n°6\n",
      "Training until validation scores don't improve for 100 rounds.\n",
      "[100]\ttraining's binary_logloss: 0.0423326\tvalid_1's binary_logloss: 0.0467742\n",
      "[200]\ttraining's binary_logloss: 0.0378947\tvalid_1's binary_logloss: 0.0450036\n",
      "[300]\ttraining's binary_logloss: 0.0349101\tvalid_1's binary_logloss: 0.0445417\n",
      "[400]\ttraining's binary_logloss: 0.0327085\tvalid_1's binary_logloss: 0.0443959\n",
      "[500]\ttraining's binary_logloss: 0.0309143\tvalid_1's binary_logloss: 0.0443626\n",
      "[600]\ttraining's binary_logloss: 0.029382\tvalid_1's binary_logloss: 0.0443417\n",
      "[700]\ttraining's binary_logloss: 0.0279927\tvalid_1's binary_logloss: 0.044362\n",
      "Early stopping, best iteration is:\n",
      "[615]\ttraining's binary_logloss: 0.0291633\tvalid_1's binary_logloss: 0.044335\n",
      "fold n°7\n",
      "Training until validation scores don't improve for 100 rounds.\n",
      "[100]\ttraining's binary_logloss: 0.0424366\tvalid_1's binary_logloss: 0.0464996\n",
      "[200]\ttraining's binary_logloss: 0.0379789\tvalid_1's binary_logloss: 0.0445463\n",
      "[300]\ttraining's binary_logloss: 0.0350583\tvalid_1's binary_logloss: 0.0439273\n",
      "[400]\ttraining's binary_logloss: 0.0328205\tvalid_1's binary_logloss: 0.043739\n",
      "[500]\ttraining's binary_logloss: 0.030981\tvalid_1's binary_logloss: 0.0436656\n",
      "[600]\ttraining's binary_logloss: 0.0294627\tvalid_1's binary_logloss: 0.0436481\n",
      "[700]\ttraining's binary_logloss: 0.0280162\tvalid_1's binary_logloss: 0.0436395\n",
      "[800]\ttraining's binary_logloss: 0.0267513\tvalid_1's binary_logloss: 0.0436612\n",
      "Early stopping, best iteration is:\n",
      "[733]\ttraining's binary_logloss: 0.0275762\tvalid_1's binary_logloss: 0.0436253\n",
      "fold n°8\n",
      "Training until validation scores don't improve for 100 rounds.\n",
      "[100]\ttraining's binary_logloss: 0.0422617\tvalid_1's binary_logloss: 0.0472182\n",
      "[200]\ttraining's binary_logloss: 0.0378128\tvalid_1's binary_logloss: 0.0453301\n",
      "[300]\ttraining's binary_logloss: 0.0348578\tvalid_1's binary_logloss: 0.0447872\n",
      "[400]\ttraining's binary_logloss: 0.0326763\tvalid_1's binary_logloss: 0.0445952\n",
      "[500]\ttraining's binary_logloss: 0.0308961\tvalid_1's binary_logloss: 0.0444849\n",
      "[600]\ttraining's binary_logloss: 0.0293327\tvalid_1's binary_logloss: 0.0444374\n",
      "[700]\ttraining's binary_logloss: 0.027884\tvalid_1's binary_logloss: 0.0444006\n",
      "[800]\ttraining's binary_logloss: 0.0265827\tvalid_1's binary_logloss: 0.0444061\n",
      "Early stopping, best iteration is:\n",
      "[762]\ttraining's binary_logloss: 0.0270733\tvalid_1's binary_logloss: 0.0443849\n",
      "fold n°9\n",
      "Training until validation scores don't improve for 100 rounds.\n",
      "[100]\ttraining's binary_logloss: 0.0423272\tvalid_1's binary_logloss: 0.0466998\n",
      "[200]\ttraining's binary_logloss: 0.0379011\tvalid_1's binary_logloss: 0.0448414\n",
      "[300]\ttraining's binary_logloss: 0.0349039\tvalid_1's binary_logloss: 0.0443315\n",
      "[400]\ttraining's binary_logloss: 0.0327775\tvalid_1's binary_logloss: 0.0441283\n",
      "[500]\ttraining's binary_logloss: 0.0310506\tvalid_1's binary_logloss: 0.044094\n",
      "[600]\ttraining's binary_logloss: 0.0294945\tvalid_1's binary_logloss: 0.0440732\n",
      "Early stopping, best iteration is:\n",
      "[599]\ttraining's binary_logloss: 0.0295101\tvalid_1's binary_logloss: 0.044071\n",
      "CV score: 0.09937 \n"
     ]
    }
   ],
   "source": [
    "lgbparam = {'num_leaves': 31,\n",
    "            'boosting_type': 'rf',\n",
    "             'min_data_in_leaf': 30, \n",
    "             'objective':'binary',\n",
    "             'max_depth': -1,\n",
    "             'learning_rate': 0.01,\n",
    "             \"min_child_samples\": 20,\n",
    "             \"boosting\": \"gbdt\",\n",
    "             \"feature_fraction\": 0.9,\n",
    "             \"bagging_freq\": 1,\n",
    "             \"bagging_fraction\": 0.9 ,\n",
    "             \"bagging_seed\": 11,\n",
    "             \"metric\": 'binary_logloss',\n",
    "             \"lambda_l1\": 0.1,\n",
    "             \"verbosity\": -1,\n",
    "             \"nthread\": 4,\n",
    "             \"random_state\": 4590}\n",
    "\n",
    "folds = RepeatedStratifiedKFold(n_splits=5, n_repeats=2, random_state=4520)\n",
    "\n",
    "oof_lgb = np.zeros(len(df_train))\n",
    "predictions_lgb = np.zeros(len(df_test))\n",
    "feature_importance_df = pd.DataFrame()\n",
    "\n",
    "for fold_, (trn_idx, val_idx) in enumerate(folds.split(df_train,df_train['outliers'].values)):\n",
    "    print(\"fold n°{}\".format(fold_))\n",
    "    trn_data = lgb.Dataset(df_train.iloc[trn_idx][df_train_columns], label=target.iloc[trn_idx],categorical_feature=['feature_1','feature_2','feature_3'])#, categorical_feature=categorical_feats)\n",
    "    val_data = lgb.Dataset(df_train.iloc[val_idx][df_train_columns], label=target.iloc[val_idx],categorical_feature=['feature_1', 'feature_2','feature_3'])#, categorical_feature=categorical_feats)\n",
    "\n",
    "    num_round = 11000\n",
    "    clf = lgb.train(lgbparam, trn_data, num_round, valid_sets = [trn_data, val_data], verbose_eval=100, early_stopping_rounds = 100)\n",
    "    oof_lgb[val_idx] = clf.predict(df_train.iloc[val_idx][df_train_columns], num_iteration=clf.best_iteration)\n",
    "\n",
    "    fold_importance_df = pd.DataFrame()\n",
    "    fold_importance_df[\"feature\"] = df_train_columns\n",
    "    fold_importance_df[\"importance\"] = clf.feature_importance()\n",
    "    fold_importance_df[\"fold\"] = fold_ + 1\n",
    "    feature_importance_df = pd.concat([feature_importance_df, fold_importance_df], axis=0)\n",
    "    \n",
    "    predictions_lgb += clf.predict(df_test[df_train_columns], num_iteration=clf.best_iteration) / (5 * 2)\n",
    "\n",
    "print(\"CV score: {:<8.5f}\".format(mean_squared_error(oof_lgb, target)**0.5))\n"
   ]
  },
  {
   "cell_type": "code",
   "execution_count": 213,
   "metadata": {},
   "outputs": [
    {
     "name": "stdout",
     "output_type": "stream",
     "text": [
      "fold n°0\n",
      "----------Stacking 0----------\n",
      "fold n°1\n",
      "----------Stacking 1----------\n",
      "fold n°2\n",
      "----------Stacking 2----------\n",
      "fold n°3\n",
      "----------Stacking 3----------\n",
      "fold n°4\n",
      "----------Stacking 4----------\n"
     ]
    },
    {
     "data": {
      "text/plain": [
       "0.09925568471873035"
      ]
     },
     "execution_count": 213,
     "metadata": {},
     "output_type": "execute_result"
    }
   ],
   "source": [
    "train_stack = np.vstack([oof,oof_lgb]).transpose()\n",
    "test_stack = np.vstack([predictions,predictions_lgb]).transpose()\n",
    "\n",
    "folds = RepeatedKFold(n_splits=5,n_repeats=1,random_state=4520)\n",
    "oof_stack = np.zeros(train_stack.shape[0])\n",
    "predictions_stack = np.zeros(test_stack.shape[0])\n",
    "\n",
    "for fold_, (trn_idx, val_idx) in enumerate(folds.split(train_stack, target)):\n",
    "    print(\"fold n°{}\".format(fold_))\n",
    "    trn_data, trn_y = train_stack[trn_idx], target.iloc[trn_idx].values\n",
    "    val_data, val_y = train_stack[val_idx], target.iloc[val_idx].values\n",
    "\n",
    "    print(\"-\" * 10 + \"Stacking \" + str(fold_) + \"-\" * 10)\n",
    "#     cb_model = CatBoostRegressor(iterations=3000, learning_rate=0.1, depth=8, l2_leaf_reg=20, bootstrap_type='Bernoulli',  eval_metric='RMSE', metric_period=50, od_type='Iter', od_wait=45, random_seed=17, allow_writing_files=False)\n",
    "#     cb_model.fit(trn_data, trn_y, eval_set=(val_data, val_y), cat_features=[], use_best_model=True, verbose=True)\n",
    "    clf = BayesianRidge()\n",
    "    clf.fit(trn_data, trn_y)\n",
    "    \n",
    "    oof_stack[val_idx] = clf.predict(val_data)\n",
    "    predictions_stack += clf.predict(test_stack) / 5\n",
    "\n",
    "\n",
    "np.sqrt(mean_squared_error(target.values, oof_stack))"
   ]
  },
  {
   "cell_type": "code",
   "execution_count": 214,
   "metadata": {},
   "outputs": [],
   "source": [
    "sample_submission = pd.read_csv('sample_submission.csv')\n",
    "sample_submission['target'] = predictions_stack\n",
    "sample_submission.to_csv('Bayesian_Ridge_Stacking_outliers_map_pur_date_4.csv', index=False)"
   ]
  },
  {
   "cell_type": "markdown",
   "metadata": {},
   "source": [
    "### Now. let's do predictions without outliers"
   ]
  },
  {
   "cell_type": "code",
   "execution_count": 218,
   "metadata": {},
   "outputs": [],
   "source": [
    "df_train1=df_train[df_train.outliers==0]\n",
    "target=df_train1.target"
   ]
  },
  {
   "cell_type": "code",
   "execution_count": 219,
   "metadata": {},
   "outputs": [
    {
     "name": "stdout",
     "output_type": "stream",
     "text": [
      "fold n°0\n",
      "Training until validation scores don't improve for 200 rounds.\n",
      "[100]\ttraining's rmse: 1.64179\tvalid_1's rmse: 1.64989\n",
      "[200]\ttraining's rmse: 1.60555\tvalid_1's rmse: 1.61671\n",
      "[300]\ttraining's rmse: 1.58583\tvalid_1's rmse: 1.59937\n",
      "[400]\ttraining's rmse: 1.57369\tvalid_1's rmse: 1.58911\n",
      "[500]\ttraining's rmse: 1.565\tvalid_1's rmse: 1.5824\n",
      "[600]\ttraining's rmse: 1.55842\tvalid_1's rmse: 1.57776\n",
      "[700]\ttraining's rmse: 1.55304\tvalid_1's rmse: 1.57441\n",
      "[800]\ttraining's rmse: 1.54852\tvalid_1's rmse: 1.57182\n",
      "[900]\ttraining's rmse: 1.54455\tvalid_1's rmse: 1.56977\n",
      "[1000]\ttraining's rmse: 1.54102\tvalid_1's rmse: 1.56822\n",
      "[1100]\ttraining's rmse: 1.53777\tvalid_1's rmse: 1.567\n",
      "[1200]\ttraining's rmse: 1.53483\tvalid_1's rmse: 1.56602\n",
      "[1300]\ttraining's rmse: 1.53209\tvalid_1's rmse: 1.56529\n",
      "[1400]\ttraining's rmse: 1.52949\tvalid_1's rmse: 1.56466\n",
      "[1500]\ttraining's rmse: 1.52708\tvalid_1's rmse: 1.56418\n",
      "[1600]\ttraining's rmse: 1.52477\tvalid_1's rmse: 1.56378\n",
      "[1700]\ttraining's rmse: 1.52254\tvalid_1's rmse: 1.56337\n",
      "[1800]\ttraining's rmse: 1.52042\tvalid_1's rmse: 1.56308\n",
      "[1900]\ttraining's rmse: 1.51834\tvalid_1's rmse: 1.56285\n",
      "[2000]\ttraining's rmse: 1.51637\tvalid_1's rmse: 1.56263\n",
      "[2100]\ttraining's rmse: 1.51444\tvalid_1's rmse: 1.56244\n",
      "[2200]\ttraining's rmse: 1.51259\tvalid_1's rmse: 1.56226\n",
      "[2300]\ttraining's rmse: 1.51074\tvalid_1's rmse: 1.56211\n",
      "[2400]\ttraining's rmse: 1.50889\tvalid_1's rmse: 1.56199\n",
      "[2500]\ttraining's rmse: 1.50712\tvalid_1's rmse: 1.56186\n",
      "[2600]\ttraining's rmse: 1.50534\tvalid_1's rmse: 1.5618\n",
      "[2700]\ttraining's rmse: 1.50357\tvalid_1's rmse: 1.5617\n",
      "[2800]\ttraining's rmse: 1.50178\tvalid_1's rmse: 1.56157\n",
      "[2900]\ttraining's rmse: 1.50002\tvalid_1's rmse: 1.56149\n",
      "[3000]\ttraining's rmse: 1.49831\tvalid_1's rmse: 1.56141\n",
      "[3100]\ttraining's rmse: 1.49665\tvalid_1's rmse: 1.56136\n",
      "[3200]\ttraining's rmse: 1.49492\tvalid_1's rmse: 1.56123\n",
      "[3300]\ttraining's rmse: 1.49323\tvalid_1's rmse: 1.56115\n",
      "[3400]\ttraining's rmse: 1.49158\tvalid_1's rmse: 1.5611\n",
      "[3500]\ttraining's rmse: 1.4899\tvalid_1's rmse: 1.56102\n",
      "[3600]\ttraining's rmse: 1.48828\tvalid_1's rmse: 1.56095\n",
      "[3700]\ttraining's rmse: 1.48669\tvalid_1's rmse: 1.5609\n",
      "[3800]\ttraining's rmse: 1.48505\tvalid_1's rmse: 1.56085\n",
      "[3900]\ttraining's rmse: 1.48349\tvalid_1's rmse: 1.56086\n",
      "[4000]\ttraining's rmse: 1.48189\tvalid_1's rmse: 1.56082\n",
      "[4100]\ttraining's rmse: 1.48032\tvalid_1's rmse: 1.56076\n",
      "[4200]\ttraining's rmse: 1.47874\tvalid_1's rmse: 1.56067\n",
      "[4300]\ttraining's rmse: 1.4772\tvalid_1's rmse: 1.56064\n",
      "[4400]\ttraining's rmse: 1.47566\tvalid_1's rmse: 1.5606\n",
      "[4500]\ttraining's rmse: 1.47409\tvalid_1's rmse: 1.56061\n",
      "[4600]\ttraining's rmse: 1.47261\tvalid_1's rmse: 1.56056\n",
      "[4700]\ttraining's rmse: 1.4711\tvalid_1's rmse: 1.56054\n",
      "[4800]\ttraining's rmse: 1.4696\tvalid_1's rmse: 1.56051\n",
      "[4900]\ttraining's rmse: 1.4681\tvalid_1's rmse: 1.56046\n",
      "[5000]\ttraining's rmse: 1.46656\tvalid_1's rmse: 1.56045\n",
      "[5100]\ttraining's rmse: 1.46499\tvalid_1's rmse: 1.56044\n",
      "[5200]\ttraining's rmse: 1.4635\tvalid_1's rmse: 1.56041\n",
      "[5300]\ttraining's rmse: 1.46201\tvalid_1's rmse: 1.5604\n",
      "[5400]\ttraining's rmse: 1.46059\tvalid_1's rmse: 1.56038\n",
      "[5500]\ttraining's rmse: 1.45914\tvalid_1's rmse: 1.56037\n",
      "[5600]\ttraining's rmse: 1.45767\tvalid_1's rmse: 1.56035\n",
      "[5700]\ttraining's rmse: 1.45621\tvalid_1's rmse: 1.56031\n",
      "[5800]\ttraining's rmse: 1.45474\tvalid_1's rmse: 1.56031\n",
      "[5900]\ttraining's rmse: 1.45328\tvalid_1's rmse: 1.56031\n",
      "Early stopping, best iteration is:\n",
      "[5770]\ttraining's rmse: 1.4552\tvalid_1's rmse: 1.56028\n",
      "fold n°1\n",
      "Training until validation scores don't improve for 200 rounds.\n",
      "[100]\ttraining's rmse: 1.64252\tvalid_1's rmse: 1.64869\n",
      "[200]\ttraining's rmse: 1.60636\tvalid_1's rmse: 1.61458\n",
      "[300]\ttraining's rmse: 1.58662\tvalid_1's rmse: 1.59689\n",
      "[400]\ttraining's rmse: 1.57435\tvalid_1's rmse: 1.58672\n",
      "[500]\ttraining's rmse: 1.56561\tvalid_1's rmse: 1.58019\n",
      "[600]\ttraining's rmse: 1.559\tvalid_1's rmse: 1.57569\n",
      "[700]\ttraining's rmse: 1.55356\tvalid_1's rmse: 1.57233\n",
      "[800]\ttraining's rmse: 1.54895\tvalid_1's rmse: 1.56973\n",
      "[900]\ttraining's rmse: 1.54491\tvalid_1's rmse: 1.56783\n",
      "[1000]\ttraining's rmse: 1.54136\tvalid_1's rmse: 1.56637\n",
      "[1100]\ttraining's rmse: 1.53814\tvalid_1's rmse: 1.56517\n",
      "[1200]\ttraining's rmse: 1.53518\tvalid_1's rmse: 1.56419\n",
      "[1300]\ttraining's rmse: 1.53244\tvalid_1's rmse: 1.56349\n",
      "[1400]\ttraining's rmse: 1.52985\tvalid_1's rmse: 1.56288\n",
      "[1500]\ttraining's rmse: 1.52741\tvalid_1's rmse: 1.56238\n",
      "[1600]\ttraining's rmse: 1.52506\tvalid_1's rmse: 1.56199\n",
      "[1700]\ttraining's rmse: 1.52281\tvalid_1's rmse: 1.56169\n",
      "[1800]\ttraining's rmse: 1.52068\tvalid_1's rmse: 1.56143\n",
      "[1900]\ttraining's rmse: 1.51861\tvalid_1's rmse: 1.56115\n",
      "[2000]\ttraining's rmse: 1.51661\tvalid_1's rmse: 1.56094\n",
      "[2100]\ttraining's rmse: 1.51459\tvalid_1's rmse: 1.56078\n",
      "[2200]\ttraining's rmse: 1.51271\tvalid_1's rmse: 1.56064\n",
      "[2300]\ttraining's rmse: 1.51085\tvalid_1's rmse: 1.56049\n",
      "[2400]\ttraining's rmse: 1.50904\tvalid_1's rmse: 1.56042\n",
      "[2500]\ttraining's rmse: 1.50726\tvalid_1's rmse: 1.5603\n",
      "[2600]\ttraining's rmse: 1.50549\tvalid_1's rmse: 1.56021\n",
      "[2700]\ttraining's rmse: 1.50373\tvalid_1's rmse: 1.56011\n",
      "[2800]\ttraining's rmse: 1.50199\tvalid_1's rmse: 1.55999\n",
      "[2900]\ttraining's rmse: 1.50023\tvalid_1's rmse: 1.5599\n",
      "[3000]\ttraining's rmse: 1.49854\tvalid_1's rmse: 1.55979\n",
      "[3100]\ttraining's rmse: 1.49679\tvalid_1's rmse: 1.55971\n",
      "[3200]\ttraining's rmse: 1.49515\tvalid_1's rmse: 1.55964\n",
      "[3300]\ttraining's rmse: 1.49351\tvalid_1's rmse: 1.55955\n",
      "[3400]\ttraining's rmse: 1.49186\tvalid_1's rmse: 1.55953\n",
      "[3500]\ttraining's rmse: 1.49023\tvalid_1's rmse: 1.55949\n",
      "[3600]\ttraining's rmse: 1.48868\tvalid_1's rmse: 1.55949\n",
      "[3700]\ttraining's rmse: 1.48702\tvalid_1's rmse: 1.55942\n",
      "[3800]\ttraining's rmse: 1.48545\tvalid_1's rmse: 1.55939\n",
      "[3900]\ttraining's rmse: 1.48387\tvalid_1's rmse: 1.55937\n",
      "[4000]\ttraining's rmse: 1.48229\tvalid_1's rmse: 1.55929\n",
      "[4100]\ttraining's rmse: 1.4807\tvalid_1's rmse: 1.5593\n",
      "[4200]\ttraining's rmse: 1.47915\tvalid_1's rmse: 1.55925\n",
      "[4300]\ttraining's rmse: 1.47761\tvalid_1's rmse: 1.55925\n",
      "[4400]\ttraining's rmse: 1.47608\tvalid_1's rmse: 1.55919\n",
      "[4500]\ttraining's rmse: 1.47455\tvalid_1's rmse: 1.55919\n",
      "[4600]\ttraining's rmse: 1.47299\tvalid_1's rmse: 1.55918\n",
      "[4700]\ttraining's rmse: 1.47152\tvalid_1's rmse: 1.55919\n",
      "[4800]\ttraining's rmse: 1.47006\tvalid_1's rmse: 1.55923\n",
      "Early stopping, best iteration is:\n",
      "[4640]\ttraining's rmse: 1.47238\tvalid_1's rmse: 1.55916\n",
      "fold n°2\n",
      "Training until validation scores don't improve for 200 rounds.\n",
      "[100]\ttraining's rmse: 1.64756\tvalid_1's rmse: 1.6278\n",
      "[200]\ttraining's rmse: 1.61145\tvalid_1's rmse: 1.59347\n",
      "[300]\ttraining's rmse: 1.59174\tvalid_1's rmse: 1.57566\n",
      "[400]\ttraining's rmse: 1.57945\tvalid_1's rmse: 1.56544\n",
      "[500]\ttraining's rmse: 1.57086\tvalid_1's rmse: 1.55886\n",
      "[600]\ttraining's rmse: 1.56429\tvalid_1's rmse: 1.55429\n",
      "[700]\ttraining's rmse: 1.55893\tvalid_1's rmse: 1.5509\n",
      "[800]\ttraining's rmse: 1.55439\tvalid_1's rmse: 1.54837\n",
      "[900]\ttraining's rmse: 1.55046\tvalid_1's rmse: 1.54641\n",
      "[1000]\ttraining's rmse: 1.54697\tvalid_1's rmse: 1.54483\n",
      "[1100]\ttraining's rmse: 1.54376\tvalid_1's rmse: 1.54355\n",
      "[1200]\ttraining's rmse: 1.54079\tvalid_1's rmse: 1.5425\n",
      "[1300]\ttraining's rmse: 1.53799\tvalid_1's rmse: 1.54167\n",
      "[1400]\ttraining's rmse: 1.53545\tvalid_1's rmse: 1.54103\n",
      "[1500]\ttraining's rmse: 1.53301\tvalid_1's rmse: 1.54048\n",
      "[1600]\ttraining's rmse: 1.53073\tvalid_1's rmse: 1.54001\n",
      "[1700]\ttraining's rmse: 1.52849\tvalid_1's rmse: 1.53966\n",
      "[1800]\ttraining's rmse: 1.52641\tvalid_1's rmse: 1.53939\n",
      "[1900]\ttraining's rmse: 1.52437\tvalid_1's rmse: 1.53916\n",
      "[2000]\ttraining's rmse: 1.5224\tvalid_1's rmse: 1.53896\n",
      "[2100]\ttraining's rmse: 1.52048\tvalid_1's rmse: 1.53874\n",
      "[2200]\ttraining's rmse: 1.51856\tvalid_1's rmse: 1.53859\n",
      "[2300]\ttraining's rmse: 1.51666\tvalid_1's rmse: 1.53843\n",
      "[2400]\ttraining's rmse: 1.51485\tvalid_1's rmse: 1.53831\n",
      "[2500]\ttraining's rmse: 1.51302\tvalid_1's rmse: 1.53819\n",
      "[2600]\ttraining's rmse: 1.51123\tvalid_1's rmse: 1.53805\n",
      "[2700]\ttraining's rmse: 1.50946\tvalid_1's rmse: 1.53793\n",
      "[2800]\ttraining's rmse: 1.50767\tvalid_1's rmse: 1.53784\n",
      "[2900]\ttraining's rmse: 1.50595\tvalid_1's rmse: 1.53771\n",
      "[3000]\ttraining's rmse: 1.50425\tvalid_1's rmse: 1.5376\n",
      "[3100]\ttraining's rmse: 1.50255\tvalid_1's rmse: 1.53751\n",
      "[3200]\ttraining's rmse: 1.50084\tvalid_1's rmse: 1.53747\n",
      "[3300]\ttraining's rmse: 1.49913\tvalid_1's rmse: 1.53738\n",
      "[3400]\ttraining's rmse: 1.49745\tvalid_1's rmse: 1.53734\n"
     ]
    },
    {
     "name": "stdout",
     "output_type": "stream",
     "text": [
      "[3500]\ttraining's rmse: 1.49585\tvalid_1's rmse: 1.53725\n",
      "[3600]\ttraining's rmse: 1.49423\tvalid_1's rmse: 1.53719\n",
      "[3700]\ttraining's rmse: 1.49258\tvalid_1's rmse: 1.53712\n",
      "[3800]\ttraining's rmse: 1.49097\tvalid_1's rmse: 1.53709\n",
      "[3900]\ttraining's rmse: 1.48939\tvalid_1's rmse: 1.53707\n",
      "[4000]\ttraining's rmse: 1.48776\tvalid_1's rmse: 1.53703\n",
      "[4100]\ttraining's rmse: 1.48615\tvalid_1's rmse: 1.53699\n",
      "[4200]\ttraining's rmse: 1.48458\tvalid_1's rmse: 1.53696\n",
      "[4300]\ttraining's rmse: 1.48301\tvalid_1's rmse: 1.53691\n",
      "[4400]\ttraining's rmse: 1.48149\tvalid_1's rmse: 1.53685\n",
      "[4500]\ttraining's rmse: 1.47992\tvalid_1's rmse: 1.53681\n",
      "[4600]\ttraining's rmse: 1.47832\tvalid_1's rmse: 1.53676\n",
      "[4700]\ttraining's rmse: 1.47684\tvalid_1's rmse: 1.53669\n",
      "[4800]\ttraining's rmse: 1.47531\tvalid_1's rmse: 1.53666\n",
      "[4900]\ttraining's rmse: 1.47373\tvalid_1's rmse: 1.53664\n",
      "[5000]\ttraining's rmse: 1.4722\tvalid_1's rmse: 1.53658\n",
      "[5100]\ttraining's rmse: 1.47065\tvalid_1's rmse: 1.53655\n",
      "[5200]\ttraining's rmse: 1.46917\tvalid_1's rmse: 1.53649\n",
      "[5300]\ttraining's rmse: 1.46765\tvalid_1's rmse: 1.5365\n",
      "[5400]\ttraining's rmse: 1.46613\tvalid_1's rmse: 1.5365\n",
      "Early stopping, best iteration is:\n",
      "[5227]\ttraining's rmse: 1.46878\tvalid_1's rmse: 1.53648\n",
      "fold n°3\n",
      "Training until validation scores don't improve for 200 rounds.\n",
      "[100]\ttraining's rmse: 1.64255\tvalid_1's rmse: 1.6489\n",
      "[200]\ttraining's rmse: 1.60639\tvalid_1's rmse: 1.61477\n",
      "[300]\ttraining's rmse: 1.58664\tvalid_1's rmse: 1.597\n",
      "[400]\ttraining's rmse: 1.57437\tvalid_1's rmse: 1.5868\n",
      "[500]\ttraining's rmse: 1.56571\tvalid_1's rmse: 1.58001\n",
      "[600]\ttraining's rmse: 1.55914\tvalid_1's rmse: 1.57536\n",
      "[700]\ttraining's rmse: 1.55369\tvalid_1's rmse: 1.5718\n",
      "[800]\ttraining's rmse: 1.5491\tvalid_1's rmse: 1.5692\n",
      "[900]\ttraining's rmse: 1.54514\tvalid_1's rmse: 1.56722\n",
      "[1000]\ttraining's rmse: 1.54156\tvalid_1's rmse: 1.56569\n",
      "[1100]\ttraining's rmse: 1.53832\tvalid_1's rmse: 1.56453\n",
      "[1200]\ttraining's rmse: 1.53535\tvalid_1's rmse: 1.56356\n",
      "[1300]\ttraining's rmse: 1.5326\tvalid_1's rmse: 1.56281\n",
      "[1400]\ttraining's rmse: 1.53004\tvalid_1's rmse: 1.56214\n",
      "[1500]\ttraining's rmse: 1.52763\tvalid_1's rmse: 1.5616\n",
      "[1600]\ttraining's rmse: 1.52535\tvalid_1's rmse: 1.56118\n",
      "[1700]\ttraining's rmse: 1.52309\tvalid_1's rmse: 1.56072\n",
      "[1800]\ttraining's rmse: 1.52094\tvalid_1's rmse: 1.56039\n",
      "[1900]\ttraining's rmse: 1.51888\tvalid_1's rmse: 1.56011\n",
      "[2000]\ttraining's rmse: 1.51691\tvalid_1's rmse: 1.55993\n",
      "[2100]\ttraining's rmse: 1.51493\tvalid_1's rmse: 1.55974\n",
      "[2200]\ttraining's rmse: 1.51298\tvalid_1's rmse: 1.55964\n",
      "[2300]\ttraining's rmse: 1.51111\tvalid_1's rmse: 1.5595\n",
      "[2400]\ttraining's rmse: 1.50924\tvalid_1's rmse: 1.55936\n",
      "[2500]\ttraining's rmse: 1.50739\tvalid_1's rmse: 1.55928\n",
      "[2600]\ttraining's rmse: 1.50558\tvalid_1's rmse: 1.55914\n",
      "[2700]\ttraining's rmse: 1.50384\tvalid_1's rmse: 1.559\n",
      "[2800]\ttraining's rmse: 1.50211\tvalid_1's rmse: 1.55894\n",
      "[2900]\ttraining's rmse: 1.5004\tvalid_1's rmse: 1.55892\n",
      "[3000]\ttraining's rmse: 1.49865\tvalid_1's rmse: 1.55888\n",
      "[3100]\ttraining's rmse: 1.49699\tvalid_1's rmse: 1.55882\n",
      "[3200]\ttraining's rmse: 1.49535\tvalid_1's rmse: 1.55877\n",
      "[3300]\ttraining's rmse: 1.49371\tvalid_1's rmse: 1.55868\n",
      "[3400]\ttraining's rmse: 1.49202\tvalid_1's rmse: 1.5586\n",
      "[3500]\ttraining's rmse: 1.49035\tvalid_1's rmse: 1.55853\n",
      "[3600]\ttraining's rmse: 1.48869\tvalid_1's rmse: 1.55852\n",
      "[3700]\ttraining's rmse: 1.48707\tvalid_1's rmse: 1.55846\n",
      "[3800]\ttraining's rmse: 1.48547\tvalid_1's rmse: 1.55842\n",
      "[3900]\ttraining's rmse: 1.48387\tvalid_1's rmse: 1.55836\n",
      "[4000]\ttraining's rmse: 1.48228\tvalid_1's rmse: 1.55831\n",
      "[4100]\ttraining's rmse: 1.48075\tvalid_1's rmse: 1.55823\n",
      "[4200]\ttraining's rmse: 1.47918\tvalid_1's rmse: 1.55819\n",
      "[4300]\ttraining's rmse: 1.47763\tvalid_1's rmse: 1.55814\n",
      "[4400]\ttraining's rmse: 1.47607\tvalid_1's rmse: 1.5581\n",
      "[4500]\ttraining's rmse: 1.47451\tvalid_1's rmse: 1.5581\n",
      "[4600]\ttraining's rmse: 1.47298\tvalid_1's rmse: 1.55809\n",
      "[4700]\ttraining's rmse: 1.47155\tvalid_1's rmse: 1.55807\n",
      "[4800]\ttraining's rmse: 1.47001\tvalid_1's rmse: 1.558\n",
      "[4900]\ttraining's rmse: 1.46846\tvalid_1's rmse: 1.55797\n",
      "[5000]\ttraining's rmse: 1.46697\tvalid_1's rmse: 1.55795\n",
      "[5100]\ttraining's rmse: 1.46555\tvalid_1's rmse: 1.55792\n",
      "[5200]\ttraining's rmse: 1.46405\tvalid_1's rmse: 1.55792\n",
      "[5300]\ttraining's rmse: 1.46259\tvalid_1's rmse: 1.55795\n",
      "[5400]\ttraining's rmse: 1.46114\tvalid_1's rmse: 1.55796\n",
      "Early stopping, best iteration is:\n",
      "[5231]\ttraining's rmse: 1.4636\tvalid_1's rmse: 1.5579\n",
      "fold n°4\n",
      "Training until validation scores don't improve for 200 rounds.\n",
      "[100]\ttraining's rmse: 1.64174\tvalid_1's rmse: 1.65207\n",
      "[200]\ttraining's rmse: 1.60556\tvalid_1's rmse: 1.61758\n",
      "[300]\ttraining's rmse: 1.58594\tvalid_1's rmse: 1.59979\n",
      "[400]\ttraining's rmse: 1.57367\tvalid_1's rmse: 1.58927\n",
      "[500]\ttraining's rmse: 1.56505\tvalid_1's rmse: 1.58242\n",
      "[600]\ttraining's rmse: 1.55851\tvalid_1's rmse: 1.5778\n",
      "[700]\ttraining's rmse: 1.55312\tvalid_1's rmse: 1.57429\n",
      "[800]\ttraining's rmse: 1.54846\tvalid_1's rmse: 1.57156\n",
      "[900]\ttraining's rmse: 1.54453\tvalid_1's rmse: 1.56955\n",
      "[1000]\ttraining's rmse: 1.54094\tvalid_1's rmse: 1.56795\n",
      "[1100]\ttraining's rmse: 1.53766\tvalid_1's rmse: 1.5667\n",
      "[1200]\ttraining's rmse: 1.53474\tvalid_1's rmse: 1.56576\n",
      "[1300]\ttraining's rmse: 1.53199\tvalid_1's rmse: 1.56498\n",
      "[1400]\ttraining's rmse: 1.52937\tvalid_1's rmse: 1.56437\n",
      "[1500]\ttraining's rmse: 1.52694\tvalid_1's rmse: 1.5639\n",
      "[1600]\ttraining's rmse: 1.52462\tvalid_1's rmse: 1.56352\n",
      "[1700]\ttraining's rmse: 1.5224\tvalid_1's rmse: 1.56321\n",
      "[1800]\ttraining's rmse: 1.52022\tvalid_1's rmse: 1.56295\n",
      "[1900]\ttraining's rmse: 1.5182\tvalid_1's rmse: 1.56267\n",
      "[2000]\ttraining's rmse: 1.51621\tvalid_1's rmse: 1.56249\n",
      "[2100]\ttraining's rmse: 1.51425\tvalid_1's rmse: 1.56234\n",
      "[2200]\ttraining's rmse: 1.5124\tvalid_1's rmse: 1.56216\n",
      "[2300]\ttraining's rmse: 1.51053\tvalid_1's rmse: 1.56204\n",
      "[2400]\ttraining's rmse: 1.50868\tvalid_1's rmse: 1.56192\n",
      "[2500]\ttraining's rmse: 1.50686\tvalid_1's rmse: 1.56179\n",
      "[2600]\ttraining's rmse: 1.50507\tvalid_1's rmse: 1.56166\n",
      "[2700]\ttraining's rmse: 1.50329\tvalid_1's rmse: 1.56161\n",
      "[2800]\ttraining's rmse: 1.50157\tvalid_1's rmse: 1.56154\n",
      "[2900]\ttraining's rmse: 1.49986\tvalid_1's rmse: 1.56149\n",
      "[3000]\ttraining's rmse: 1.4981\tvalid_1's rmse: 1.5614\n",
      "[3100]\ttraining's rmse: 1.49639\tvalid_1's rmse: 1.56132\n",
      "[3200]\ttraining's rmse: 1.49478\tvalid_1's rmse: 1.5613\n",
      "[3300]\ttraining's rmse: 1.49309\tvalid_1's rmse: 1.56124\n",
      "[3400]\ttraining's rmse: 1.4914\tvalid_1's rmse: 1.56122\n",
      "[3500]\ttraining's rmse: 1.48978\tvalid_1's rmse: 1.56118\n",
      "[3600]\ttraining's rmse: 1.48816\tvalid_1's rmse: 1.56114\n",
      "[3700]\ttraining's rmse: 1.48655\tvalid_1's rmse: 1.56116\n",
      "Early stopping, best iteration is:\n",
      "[3571]\ttraining's rmse: 1.48863\tvalid_1's rmse: 1.56113\n",
      "CV score: 1.55502 \n"
     ]
    }
   ],
   "source": [
    "param = {'num_leaves': 31,\n",
    "         'min_data_in_leaf': 32, \n",
    "         'objective':'regression',\n",
    "         'max_depth': -1,\n",
    "         'learning_rate': 0.005,\n",
    "         \"min_child_samples\": 20,\n",
    "         \"boosting\": \"gbdt\",\n",
    "         \"feature_fraction\": 0.9,\n",
    "         \"bagging_freq\": 1,\n",
    "         \"bagging_fraction\": 0.9 ,\n",
    "         \"bagging_seed\": 11,\n",
    "         \"metric\": 'rmse',\n",
    "         \"lambda_l1\": 0.1,\n",
    "         \"nthread\": 4,\n",
    "         \"verbosity\": -1}\n",
    "\n",
    "folds = StratifiedKFold(n_splits=5, shuffle=True, random_state=15)\n",
    "oof = np.zeros(len(df_train1))\n",
    "predictions = np.zeros(len(df_test))\n",
    "feature_importance_df = pd.DataFrame()\n",
    "\n",
    "for fold_, (trn_idx, val_idx) in enumerate(folds.split(df_train1.values, df_train1['outliers'].values)):\n",
    "    print(\"fold n°{}\".format(fold_))\n",
    "    trn_data = lgb.Dataset(df_train1.iloc[trn_idx][df_train_columns], label=target.iloc[trn_idx],categorical_feature=['feature_1','feature_2','feature_3'])#, categorical_feature=categorical_feats)\n",
    "    val_data = lgb.Dataset(df_train1.iloc[val_idx][df_train_columns], label=target.iloc[val_idx],categorical_feature=['feature_1', 'feature_2','feature_3'])#, categorical_feature=categorical_feats)\n",
    "\n",
    "    num_round = 10000\n",
    "    clf = lgb.train(param, trn_data, num_round, valid_sets = [trn_data, val_data], verbose_eval=100, early_stopping_rounds = 200)\n",
    "    oof[val_idx] = clf.predict(df_train1.iloc[val_idx][df_train_columns], num_iteration=clf.best_iteration)\n",
    "    \n",
    "    fold_importance_df = pd.DataFrame()\n",
    "    fold_importance_df[\"feature\"] = df_train_columns\n",
    "    fold_importance_df[\"importance\"] = clf.feature_importance()\n",
    "    fold_importance_df[\"fold\"] = fold_ + 1\n",
    "    feature_importance_df = pd.concat([feature_importance_df, fold_importance_df], axis=0)\n",
    "    \n",
    "    predictions += clf.predict(df_test[df_train_columns], num_iteration=clf.best_iteration) / folds.n_splits\n",
    "\n",
    "print(\"CV score: {:<8.5f}\".format(mean_squared_error(oof, target)**0.5))"
   ]
  },
  {
   "cell_type": "code",
   "execution_count": 220,
   "metadata": {},
   "outputs": [
    {
     "name": "stdout",
     "output_type": "stream",
     "text": [
      "fold n°0\n",
      "Training until validation scores don't improve for 100 rounds.\n",
      "[100]\ttraining's rmse: 1.60625\tvalid_1's rmse: 1.61426\n",
      "[200]\ttraining's rmse: 1.57443\tvalid_1's rmse: 1.58652\n",
      "[300]\ttraining's rmse: 1.55907\tvalid_1's rmse: 1.57509\n",
      "[400]\ttraining's rmse: 1.54926\tvalid_1's rmse: 1.56914\n",
      "[500]\ttraining's rmse: 1.54188\tvalid_1's rmse: 1.56567\n",
      "[600]\ttraining's rmse: 1.53575\tvalid_1's rmse: 1.56341\n",
      "[700]\ttraining's rmse: 1.53051\tvalid_1's rmse: 1.56213\n",
      "[800]\ttraining's rmse: 1.52571\tvalid_1's rmse: 1.56123\n",
      "[900]\ttraining's rmse: 1.52132\tvalid_1's rmse: 1.56059\n",
      "[1000]\ttraining's rmse: 1.51738\tvalid_1's rmse: 1.5601\n",
      "[1100]\ttraining's rmse: 1.51353\tvalid_1's rmse: 1.5597\n",
      "[1200]\ttraining's rmse: 1.50982\tvalid_1's rmse: 1.55947\n",
      "[1300]\ttraining's rmse: 1.50633\tvalid_1's rmse: 1.55928\n",
      "[1400]\ttraining's rmse: 1.50277\tvalid_1's rmse: 1.55911\n",
      "[1500]\ttraining's rmse: 1.49938\tvalid_1's rmse: 1.559\n",
      "[1600]\ttraining's rmse: 1.49611\tvalid_1's rmse: 1.55896\n",
      "[1700]\ttraining's rmse: 1.4929\tvalid_1's rmse: 1.55876\n",
      "[1800]\ttraining's rmse: 1.48964\tvalid_1's rmse: 1.55868\n",
      "[1900]\ttraining's rmse: 1.48638\tvalid_1's rmse: 1.55855\n",
      "[2000]\ttraining's rmse: 1.48323\tvalid_1's rmse: 1.55852\n",
      "[2100]\ttraining's rmse: 1.48012\tvalid_1's rmse: 1.5584\n",
      "[2200]\ttraining's rmse: 1.477\tvalid_1's rmse: 1.55839\n",
      "[2300]\ttraining's rmse: 1.47398\tvalid_1's rmse: 1.55832\n",
      "[2400]\ttraining's rmse: 1.47091\tvalid_1's rmse: 1.55827\n",
      "[2500]\ttraining's rmse: 1.46806\tvalid_1's rmse: 1.55828\n",
      "Early stopping, best iteration is:\n",
      "[2464]\ttraining's rmse: 1.46907\tvalid_1's rmse: 1.55824\n",
      "fold n°1\n",
      "Training until validation scores don't improve for 100 rounds.\n",
      "[100]\ttraining's rmse: 1.60942\tvalid_1's rmse: 1.60091\n",
      "[200]\ttraining's rmse: 1.57761\tvalid_1's rmse: 1.57278\n",
      "[300]\ttraining's rmse: 1.56233\tvalid_1's rmse: 1.56169\n",
      "[400]\ttraining's rmse: 1.55225\tvalid_1's rmse: 1.55576\n",
      "[500]\ttraining's rmse: 1.54465\tvalid_1's rmse: 1.55253\n",
      "[600]\ttraining's rmse: 1.53839\tvalid_1's rmse: 1.55044\n",
      "[700]\ttraining's rmse: 1.53301\tvalid_1's rmse: 1.54926\n",
      "[800]\ttraining's rmse: 1.52831\tvalid_1's rmse: 1.54856\n",
      "[900]\ttraining's rmse: 1.52401\tvalid_1's rmse: 1.54798\n",
      "[1000]\ttraining's rmse: 1.51999\tvalid_1's rmse: 1.54773\n",
      "[1100]\ttraining's rmse: 1.51619\tvalid_1's rmse: 1.54744\n",
      "[1200]\ttraining's rmse: 1.51248\tvalid_1's rmse: 1.54724\n",
      "[1300]\ttraining's rmse: 1.5088\tvalid_1's rmse: 1.54702\n",
      "[1400]\ttraining's rmse: 1.50514\tvalid_1's rmse: 1.54688\n",
      "[1500]\ttraining's rmse: 1.50172\tvalid_1's rmse: 1.54672\n",
      "[1600]\ttraining's rmse: 1.49828\tvalid_1's rmse: 1.54669\n",
      "[1700]\ttraining's rmse: 1.49496\tvalid_1's rmse: 1.54668\n",
      "Early stopping, best iteration is:\n",
      "[1651]\ttraining's rmse: 1.49667\tvalid_1's rmse: 1.54663\n",
      "fold n°2\n",
      "Training until validation scores don't improve for 100 rounds.\n",
      "[100]\ttraining's rmse: 1.60882\tvalid_1's rmse: 1.60435\n",
      "[200]\ttraining's rmse: 1.57693\tvalid_1's rmse: 1.57683\n",
      "[300]\ttraining's rmse: 1.56167\tvalid_1's rmse: 1.56566\n",
      "[400]\ttraining's rmse: 1.55173\tvalid_1's rmse: 1.55957\n",
      "[500]\ttraining's rmse: 1.54402\tvalid_1's rmse: 1.55594\n",
      "[600]\ttraining's rmse: 1.53776\tvalid_1's rmse: 1.55371\n",
      "[700]\ttraining's rmse: 1.53237\tvalid_1's rmse: 1.55235\n",
      "[800]\ttraining's rmse: 1.52753\tvalid_1's rmse: 1.55142\n",
      "[900]\ttraining's rmse: 1.52308\tvalid_1's rmse: 1.55085\n",
      "[1000]\ttraining's rmse: 1.51905\tvalid_1's rmse: 1.55047\n",
      "[1100]\ttraining's rmse: 1.51515\tvalid_1's rmse: 1.5501\n",
      "[1200]\ttraining's rmse: 1.51147\tvalid_1's rmse: 1.54984\n",
      "[1300]\ttraining's rmse: 1.50777\tvalid_1's rmse: 1.5495\n",
      "[1400]\ttraining's rmse: 1.50434\tvalid_1's rmse: 1.5493\n",
      "[1500]\ttraining's rmse: 1.50091\tvalid_1's rmse: 1.5491\n",
      "[1600]\ttraining's rmse: 1.49756\tvalid_1's rmse: 1.54896\n",
      "[1700]\ttraining's rmse: 1.49426\tvalid_1's rmse: 1.54879\n",
      "[1800]\ttraining's rmse: 1.4909\tvalid_1's rmse: 1.54872\n",
      "[1900]\ttraining's rmse: 1.48764\tvalid_1's rmse: 1.54866\n",
      "[2000]\ttraining's rmse: 1.48455\tvalid_1's rmse: 1.54864\n",
      "Early stopping, best iteration is:\n",
      "[1990]\ttraining's rmse: 1.48487\tvalid_1's rmse: 1.54861\n",
      "fold n°3\n",
      "Training until validation scores don't improve for 100 rounds.\n",
      "[100]\ttraining's rmse: 1.60485\tvalid_1's rmse: 1.61823\n",
      "[200]\ttraining's rmse: 1.57253\tvalid_1's rmse: 1.59154\n",
      "[300]\ttraining's rmse: 1.55727\tvalid_1's rmse: 1.58121\n",
      "[400]\ttraining's rmse: 1.5473\tvalid_1's rmse: 1.57546\n",
      "[500]\ttraining's rmse: 1.5398\tvalid_1's rmse: 1.57204\n",
      "[600]\ttraining's rmse: 1.53368\tvalid_1's rmse: 1.57004\n",
      "[700]\ttraining's rmse: 1.52829\tvalid_1's rmse: 1.56863\n",
      "[800]\ttraining's rmse: 1.52346\tvalid_1's rmse: 1.56773\n",
      "[900]\ttraining's rmse: 1.51908\tvalid_1's rmse: 1.5671\n",
      "[1000]\ttraining's rmse: 1.51503\tvalid_1's rmse: 1.56657\n",
      "[1100]\ttraining's rmse: 1.51114\tvalid_1's rmse: 1.56621\n",
      "[1200]\ttraining's rmse: 1.50741\tvalid_1's rmse: 1.56593\n",
      "[1300]\ttraining's rmse: 1.50381\tvalid_1's rmse: 1.5656\n",
      "[1400]\ttraining's rmse: 1.50037\tvalid_1's rmse: 1.56535\n",
      "[1500]\ttraining's rmse: 1.49688\tvalid_1's rmse: 1.56518\n",
      "[1600]\ttraining's rmse: 1.49341\tvalid_1's rmse: 1.56508\n",
      "[1700]\ttraining's rmse: 1.49006\tvalid_1's rmse: 1.56485\n",
      "[1800]\ttraining's rmse: 1.48691\tvalid_1's rmse: 1.5648\n",
      "[1900]\ttraining's rmse: 1.48378\tvalid_1's rmse: 1.56472\n",
      "[2000]\ttraining's rmse: 1.48062\tvalid_1's rmse: 1.56463\n",
      "[2100]\ttraining's rmse: 1.47761\tvalid_1's rmse: 1.56459\n",
      "[2200]\ttraining's rmse: 1.47458\tvalid_1's rmse: 1.56445\n",
      "[2300]\ttraining's rmse: 1.47152\tvalid_1's rmse: 1.56433\n",
      "[2400]\ttraining's rmse: 1.46839\tvalid_1's rmse: 1.5642\n",
      "[2500]\ttraining's rmse: 1.46541\tvalid_1's rmse: 1.56412\n",
      "[2600]\ttraining's rmse: 1.46254\tvalid_1's rmse: 1.56414\n",
      "Early stopping, best iteration is:\n",
      "[2542]\ttraining's rmse: 1.46419\tvalid_1's rmse: 1.56407\n",
      "fold n°4\n",
      "Training until validation scores don't improve for 100 rounds.\n",
      "[100]\ttraining's rmse: 1.60545\tvalid_1's rmse: 1.6188\n",
      "[200]\ttraining's rmse: 1.57395\tvalid_1's rmse: 1.58974\n",
      "[300]\ttraining's rmse: 1.55881\tvalid_1's rmse: 1.57769\n",
      "[400]\ttraining's rmse: 1.54902\tvalid_1's rmse: 1.57136\n",
      "[500]\ttraining's rmse: 1.54153\tvalid_1's rmse: 1.56758\n",
      "[600]\ttraining's rmse: 1.53531\tvalid_1's rmse: 1.56498\n",
      "[700]\ttraining's rmse: 1.52998\tvalid_1's rmse: 1.56336\n",
      "[800]\ttraining's rmse: 1.52514\tvalid_1's rmse: 1.56242\n",
      "[900]\ttraining's rmse: 1.52076\tvalid_1's rmse: 1.56172\n",
      "[1000]\ttraining's rmse: 1.51665\tvalid_1's rmse: 1.5612\n",
      "[1100]\ttraining's rmse: 1.51282\tvalid_1's rmse: 1.5608\n",
      "[1200]\ttraining's rmse: 1.50901\tvalid_1's rmse: 1.56054\n",
      "[1300]\ttraining's rmse: 1.50531\tvalid_1's rmse: 1.56017\n",
      "[1400]\ttraining's rmse: 1.50174\tvalid_1's rmse: 1.55996\n",
      "[1500]\ttraining's rmse: 1.49836\tvalid_1's rmse: 1.55979\n",
      "[1600]\ttraining's rmse: 1.49497\tvalid_1's rmse: 1.55964\n",
      "[1700]\ttraining's rmse: 1.49171\tvalid_1's rmse: 1.55957\n",
      "[1800]\ttraining's rmse: 1.48845\tvalid_1's rmse: 1.55946\n",
      "[1900]\ttraining's rmse: 1.48534\tvalid_1's rmse: 1.55931\n",
      "[2000]\ttraining's rmse: 1.48211\tvalid_1's rmse: 1.55922\n",
      "[2100]\ttraining's rmse: 1.47895\tvalid_1's rmse: 1.55912\n",
      "[2200]\ttraining's rmse: 1.47581\tvalid_1's rmse: 1.55905\n",
      "[2300]\ttraining's rmse: 1.47269\tvalid_1's rmse: 1.55898\n",
      "[2400]\ttraining's rmse: 1.4696\tvalid_1's rmse: 1.55897\n",
      "[2500]\ttraining's rmse: 1.4666\tvalid_1's rmse: 1.55887\n",
      "[2600]\ttraining's rmse: 1.46366\tvalid_1's rmse: 1.55883\n",
      "Early stopping, best iteration is:\n",
      "[2596]\ttraining's rmse: 1.46378\tvalid_1's rmse: 1.55882\n",
      "fold n°5\n",
      "Training until validation scores don't improve for 100 rounds.\n",
      "[100]\ttraining's rmse: 1.60547\tvalid_1's rmse: 1.61785\n",
      "[200]\ttraining's rmse: 1.57336\tvalid_1's rmse: 1.58992\n",
      "[300]\ttraining's rmse: 1.5579\tvalid_1's rmse: 1.57888\n",
      "[400]\ttraining's rmse: 1.54794\tvalid_1's rmse: 1.57313\n",
      "[500]\ttraining's rmse: 1.54036\tvalid_1's rmse: 1.56992\n",
      "[600]\ttraining's rmse: 1.53411\tvalid_1's rmse: 1.56792\n",
      "[700]\ttraining's rmse: 1.5287\tvalid_1's rmse: 1.56665\n",
      "[800]\ttraining's rmse: 1.52399\tvalid_1's rmse: 1.56579\n",
      "[900]\ttraining's rmse: 1.51958\tvalid_1's rmse: 1.56516\n",
      "[1000]\ttraining's rmse: 1.51555\tvalid_1's rmse: 1.56478\n",
      "[1100]\ttraining's rmse: 1.51172\tvalid_1's rmse: 1.56451\n",
      "[1200]\ttraining's rmse: 1.50798\tvalid_1's rmse: 1.5643\n",
      "[1300]\ttraining's rmse: 1.50442\tvalid_1's rmse: 1.56417\n",
      "[1400]\ttraining's rmse: 1.50097\tvalid_1's rmse: 1.56399\n",
      "[1500]\ttraining's rmse: 1.49758\tvalid_1's rmse: 1.56378\n",
      "[1600]\ttraining's rmse: 1.49417\tvalid_1's rmse: 1.5637\n",
      "[1700]\ttraining's rmse: 1.49089\tvalid_1's rmse: 1.56366\n",
      "[1800]\ttraining's rmse: 1.48762\tvalid_1's rmse: 1.56357\n"
     ]
    },
    {
     "name": "stdout",
     "output_type": "stream",
     "text": [
      "[1900]\ttraining's rmse: 1.48431\tvalid_1's rmse: 1.56346\n",
      "[2000]\ttraining's rmse: 1.48112\tvalid_1's rmse: 1.56335\n",
      "[2100]\ttraining's rmse: 1.47799\tvalid_1's rmse: 1.5633\n",
      "[2200]\ttraining's rmse: 1.4749\tvalid_1's rmse: 1.56329\n",
      "[2300]\ttraining's rmse: 1.47198\tvalid_1's rmse: 1.5632\n",
      "[2400]\ttraining's rmse: 1.46898\tvalid_1's rmse: 1.5632\n",
      "[2500]\ttraining's rmse: 1.46608\tvalid_1's rmse: 1.56312\n",
      "Early stopping, best iteration is:\n",
      "[2491]\ttraining's rmse: 1.46631\tvalid_1's rmse: 1.5631\n",
      "fold n°6\n",
      "Training until validation scores don't improve for 100 rounds.\n",
      "[100]\ttraining's rmse: 1.60835\tvalid_1's rmse: 1.60489\n",
      "[200]\ttraining's rmse: 1.57664\tvalid_1's rmse: 1.57776\n",
      "[300]\ttraining's rmse: 1.56139\tvalid_1's rmse: 1.56649\n",
      "[400]\ttraining's rmse: 1.55144\tvalid_1's rmse: 1.56039\n",
      "[500]\ttraining's rmse: 1.5438\tvalid_1's rmse: 1.55685\n",
      "[600]\ttraining's rmse: 1.53756\tvalid_1's rmse: 1.55471\n",
      "[700]\ttraining's rmse: 1.53216\tvalid_1's rmse: 1.55343\n",
      "[800]\ttraining's rmse: 1.52728\tvalid_1's rmse: 1.55252\n",
      "[900]\ttraining's rmse: 1.52286\tvalid_1's rmse: 1.55207\n",
      "[1000]\ttraining's rmse: 1.51873\tvalid_1's rmse: 1.55166\n",
      "[1100]\ttraining's rmse: 1.51474\tvalid_1's rmse: 1.5514\n",
      "[1200]\ttraining's rmse: 1.51085\tvalid_1's rmse: 1.55113\n",
      "[1300]\ttraining's rmse: 1.50709\tvalid_1's rmse: 1.55086\n",
      "[1400]\ttraining's rmse: 1.50361\tvalid_1's rmse: 1.55069\n",
      "[1500]\ttraining's rmse: 1.49999\tvalid_1's rmse: 1.55065\n",
      "[1600]\ttraining's rmse: 1.49645\tvalid_1's rmse: 1.55058\n",
      "[1700]\ttraining's rmse: 1.49314\tvalid_1's rmse: 1.55049\n",
      "[1800]\ttraining's rmse: 1.48983\tvalid_1's rmse: 1.55037\n",
      "[1900]\ttraining's rmse: 1.48652\tvalid_1's rmse: 1.55026\n",
      "[2000]\ttraining's rmse: 1.48336\tvalid_1's rmse: 1.55018\n",
      "[2100]\ttraining's rmse: 1.48013\tvalid_1's rmse: 1.55005\n",
      "[2200]\ttraining's rmse: 1.47698\tvalid_1's rmse: 1.55002\n",
      "[2300]\ttraining's rmse: 1.47382\tvalid_1's rmse: 1.54998\n",
      "Early stopping, best iteration is:\n",
      "[2273]\ttraining's rmse: 1.47472\tvalid_1's rmse: 1.54992\n",
      "fold n°7\n",
      "Training until validation scores don't improve for 100 rounds.\n",
      "[100]\ttraining's rmse: 1.60913\tvalid_1's rmse: 1.60219\n",
      "[200]\ttraining's rmse: 1.57723\tvalid_1's rmse: 1.57416\n",
      "[300]\ttraining's rmse: 1.56193\tvalid_1's rmse: 1.56305\n",
      "[400]\ttraining's rmse: 1.55194\tvalid_1's rmse: 1.55712\n",
      "[500]\ttraining's rmse: 1.54439\tvalid_1's rmse: 1.55374\n",
      "[600]\ttraining's rmse: 1.53808\tvalid_1's rmse: 1.55169\n",
      "[700]\ttraining's rmse: 1.5327\tvalid_1's rmse: 1.5504\n",
      "[800]\ttraining's rmse: 1.52787\tvalid_1's rmse: 1.54958\n",
      "[900]\ttraining's rmse: 1.52351\tvalid_1's rmse: 1.54899\n",
      "[1000]\ttraining's rmse: 1.51942\tvalid_1's rmse: 1.54854\n",
      "[1100]\ttraining's rmse: 1.51567\tvalid_1's rmse: 1.54824\n",
      "[1200]\ttraining's rmse: 1.51181\tvalid_1's rmse: 1.54793\n",
      "[1300]\ttraining's rmse: 1.50817\tvalid_1's rmse: 1.54786\n",
      "[1400]\ttraining's rmse: 1.50468\tvalid_1's rmse: 1.54773\n",
      "[1500]\ttraining's rmse: 1.5013\tvalid_1's rmse: 1.5476\n",
      "[1600]\ttraining's rmse: 1.49788\tvalid_1's rmse: 1.54745\n",
      "[1700]\ttraining's rmse: 1.49452\tvalid_1's rmse: 1.5473\n",
      "[1800]\ttraining's rmse: 1.49119\tvalid_1's rmse: 1.5472\n",
      "[1900]\ttraining's rmse: 1.48802\tvalid_1's rmse: 1.54713\n",
      "[2000]\ttraining's rmse: 1.48489\tvalid_1's rmse: 1.5471\n",
      "[2100]\ttraining's rmse: 1.48171\tvalid_1's rmse: 1.54703\n",
      "[2200]\ttraining's rmse: 1.47856\tvalid_1's rmse: 1.547\n",
      "[2300]\ttraining's rmse: 1.47555\tvalid_1's rmse: 1.54692\n",
      "[2400]\ttraining's rmse: 1.47246\tvalid_1's rmse: 1.54689\n",
      "[2500]\ttraining's rmse: 1.46943\tvalid_1's rmse: 1.54684\n",
      "[2600]\ttraining's rmse: 1.46641\tvalid_1's rmse: 1.54682\n",
      "[2700]\ttraining's rmse: 1.46354\tvalid_1's rmse: 1.54689\n",
      "Early stopping, best iteration is:\n",
      "[2604]\ttraining's rmse: 1.46629\tvalid_1's rmse: 1.54681\n",
      "fold n°8\n",
      "Training until validation scores don't improve for 100 rounds.\n",
      "[100]\ttraining's rmse: 1.60329\tvalid_1's rmse: 1.6267\n",
      "[200]\ttraining's rmse: 1.57162\tvalid_1's rmse: 1.59844\n",
      "[300]\ttraining's rmse: 1.55647\tvalid_1's rmse: 1.58674\n",
      "[400]\ttraining's rmse: 1.54656\tvalid_1's rmse: 1.5804\n",
      "[500]\ttraining's rmse: 1.53914\tvalid_1's rmse: 1.57666\n",
      "[600]\ttraining's rmse: 1.53298\tvalid_1's rmse: 1.57417\n",
      "[700]\ttraining's rmse: 1.5276\tvalid_1's rmse: 1.57269\n",
      "[800]\ttraining's rmse: 1.52288\tvalid_1's rmse: 1.57177\n",
      "[900]\ttraining's rmse: 1.51854\tvalid_1's rmse: 1.57111\n",
      "[1000]\ttraining's rmse: 1.51443\tvalid_1's rmse: 1.5707\n",
      "[1100]\ttraining's rmse: 1.51064\tvalid_1's rmse: 1.57025\n",
      "[1200]\ttraining's rmse: 1.50695\tvalid_1's rmse: 1.56991\n",
      "[1300]\ttraining's rmse: 1.50335\tvalid_1's rmse: 1.56964\n",
      "[1400]\ttraining's rmse: 1.49985\tvalid_1's rmse: 1.56951\n",
      "[1500]\ttraining's rmse: 1.49647\tvalid_1's rmse: 1.56938\n",
      "[1600]\ttraining's rmse: 1.49302\tvalid_1's rmse: 1.56911\n",
      "[1700]\ttraining's rmse: 1.48976\tvalid_1's rmse: 1.56906\n",
      "[1800]\ttraining's rmse: 1.48656\tvalid_1's rmse: 1.56895\n",
      "[1900]\ttraining's rmse: 1.48335\tvalid_1's rmse: 1.56888\n",
      "[2000]\ttraining's rmse: 1.48026\tvalid_1's rmse: 1.56883\n",
      "[2100]\ttraining's rmse: 1.47712\tvalid_1's rmse: 1.56874\n",
      "[2200]\ttraining's rmse: 1.47405\tvalid_1's rmse: 1.56872\n",
      "Early stopping, best iteration is:\n",
      "[2147]\ttraining's rmse: 1.4757\tvalid_1's rmse: 1.56869\n",
      "fold n°9\n",
      "Training until validation scores don't improve for 100 rounds.\n",
      "[100]\ttraining's rmse: 1.60849\tvalid_1's rmse: 1.60533\n",
      "[200]\ttraining's rmse: 1.57667\tvalid_1's rmse: 1.57732\n",
      "[300]\ttraining's rmse: 1.56143\tvalid_1's rmse: 1.56596\n",
      "[400]\ttraining's rmse: 1.55154\tvalid_1's rmse: 1.5601\n",
      "[500]\ttraining's rmse: 1.54401\tvalid_1's rmse: 1.55641\n",
      "[600]\ttraining's rmse: 1.53779\tvalid_1's rmse: 1.55423\n",
      "[700]\ttraining's rmse: 1.53247\tvalid_1's rmse: 1.55285\n",
      "[800]\ttraining's rmse: 1.5277\tvalid_1's rmse: 1.55191\n",
      "[900]\ttraining's rmse: 1.52335\tvalid_1's rmse: 1.55125\n",
      "[1000]\ttraining's rmse: 1.51931\tvalid_1's rmse: 1.55082\n",
      "[1100]\ttraining's rmse: 1.51548\tvalid_1's rmse: 1.55049\n",
      "[1200]\ttraining's rmse: 1.51173\tvalid_1's rmse: 1.55009\n",
      "[1300]\ttraining's rmse: 1.50801\tvalid_1's rmse: 1.54988\n",
      "[1400]\ttraining's rmse: 1.50449\tvalid_1's rmse: 1.54965\n",
      "[1500]\ttraining's rmse: 1.50106\tvalid_1's rmse: 1.54942\n",
      "[1600]\ttraining's rmse: 1.49762\tvalid_1's rmse: 1.54924\n",
      "[1700]\ttraining's rmse: 1.4943\tvalid_1's rmse: 1.54908\n",
      "[1800]\ttraining's rmse: 1.4911\tvalid_1's rmse: 1.54893\n",
      "[1900]\ttraining's rmse: 1.48787\tvalid_1's rmse: 1.54877\n",
      "[2000]\ttraining's rmse: 1.48464\tvalid_1's rmse: 1.54877\n",
      "Early stopping, best iteration is:\n",
      "[1939]\ttraining's rmse: 1.48666\tvalid_1's rmse: 1.54872\n",
      "CV score: 1.55547 \n"
     ]
    }
   ],
   "source": [
    "lgbparam = {'num_leaves': 31,\n",
    "            'boosting_type': 'rf',\n",
    "             'min_data_in_leaf': 30, \n",
    "             'objective':'regression',\n",
    "             'max_depth': -1,\n",
    "             'learning_rate': 0.01,\n",
    "             \"min_child_samples\": 20,\n",
    "             \"boosting\": \"gbdt\",\n",
    "             \"feature_fraction\": 0.9,\n",
    "             \"bagging_freq\": 1,\n",
    "             \"bagging_fraction\": 0.9 ,\n",
    "             \"bagging_seed\": 11,\n",
    "             \"metric\": 'rmse',\n",
    "             \"lambda_l1\": 0.1,\n",
    "             \"verbosity\": -1,\n",
    "             \"nthread\": 4,\n",
    "             \"random_state\": 4590}\n",
    "\n",
    "folds = RepeatedStratifiedKFold(n_splits=5, n_repeats=2, random_state=4520)\n",
    "\n",
    "oof_lgb = np.zeros(len(df_train1))\n",
    "predictions_lgb = np.zeros(len(df_test))\n",
    "feature_importance_df = pd.DataFrame()\n",
    "\n",
    "for fold_, (trn_idx, val_idx) in enumerate(folds.split(df_train1,df_train1['outliers'].values)):\n",
    "    print(\"fold n°{}\".format(fold_))\n",
    "    trn_data = lgb.Dataset(df_train1.iloc[trn_idx][df_train_columns], label=target.iloc[trn_idx],categorical_feature=['feature_1','feature_2','feature_3'])#, categorical_feature=categorical_feats)\n",
    "    val_data = lgb.Dataset(df_train1.iloc[val_idx][df_train_columns], label=target.iloc[val_idx],categorical_feature=['feature_1', 'feature_2','feature_3'])#, categorical_feature=categorical_feats)\n",
    "\n",
    "    num_round = 11000\n",
    "    clf = lgb.train(lgbparam, trn_data, num_round, valid_sets = [trn_data, val_data], verbose_eval=100, early_stopping_rounds = 100)\n",
    "    oof_lgb[val_idx] = clf.predict(df_train1.iloc[val_idx][df_train_columns], num_iteration=clf.best_iteration)\n",
    "\n",
    "    fold_importance_df = pd.DataFrame()\n",
    "    fold_importance_df[\"feature\"] = df_train_columns\n",
    "    fold_importance_df[\"importance\"] = clf.feature_importance()\n",
    "    fold_importance_df[\"fold\"] = fold_ + 1\n",
    "    feature_importance_df = pd.concat([feature_importance_df, fold_importance_df], axis=0)\n",
    "    \n",
    "    predictions_lgb += clf.predict(df_test[df_train_columns], num_iteration=clf.best_iteration) / (5 * 2)\n",
    "\n",
    "print(\"CV score: {:<8.5f}\".format(mean_squared_error(oof_lgb, target)**0.5))\n"
   ]
  },
  {
   "cell_type": "code",
   "execution_count": 221,
   "metadata": {},
   "outputs": [
    {
     "name": "stdout",
     "output_type": "stream",
     "text": [
      "fold n°0\n",
      "----------Stacking 0----------\n",
      "fold n°1\n",
      "----------Stacking 1----------\n",
      "fold n°2\n",
      "----------Stacking 2----------\n",
      "fold n°3\n",
      "----------Stacking 3----------\n",
      "fold n°4\n",
      "----------Stacking 4----------\n"
     ]
    },
    {
     "data": {
      "text/plain": [
       "1.5544492450406158"
      ]
     },
     "execution_count": 221,
     "metadata": {},
     "output_type": "execute_result"
    }
   ],
   "source": [
    "train_stack = np.vstack([oof,oof_lgb]).transpose()\n",
    "test_stack = np.vstack([predictions,predictions_lgb]).transpose()\n",
    "\n",
    "folds = RepeatedKFold(n_splits=5,n_repeats=1,random_state=4520)\n",
    "oof_stack = np.zeros(train_stack.shape[0])\n",
    "predictions_stack = np.zeros(test_stack.shape[0])\n",
    "\n",
    "for fold_, (trn_idx, val_idx) in enumerate(folds.split(train_stack, target)):\n",
    "    print(\"fold n°{}\".format(fold_))\n",
    "    trn_data, trn_y = train_stack[trn_idx], target.iloc[trn_idx].values\n",
    "    val_data, val_y = train_stack[val_idx], target.iloc[val_idx].values\n",
    "\n",
    "    print(\"-\" * 10 + \"Stacking \" + str(fold_) + \"-\" * 10)\n",
    "#     cb_model = CatBoostRegressor(iterations=3000, learning_rate=0.1, depth=8, l2_leaf_reg=20, bootstrap_type='Bernoulli',  eval_metric='RMSE', metric_period=50, od_type='Iter', od_wait=45, random_seed=17, allow_writing_files=False)\n",
    "#     cb_model.fit(trn_data, trn_y, eval_set=(val_data, val_y), cat_features=[], use_best_model=True, verbose=True)\n",
    "    clf = BayesianRidge()\n",
    "    clf.fit(trn_data, trn_y)\n",
    "    \n",
    "    oof_stack[val_idx] = clf.predict(val_data)\n",
    "    predictions_stack += clf.predict(test_stack) / 5\n",
    "\n",
    "\n",
    "np.sqrt(mean_squared_error(target.values, oof_stack))"
   ]
  },
  {
   "cell_type": "code",
   "execution_count": 222,
   "metadata": {},
   "outputs": [],
   "source": [
    "sample_submission = pd.read_csv('sample_submission.csv')\n",
    "sample_submission['target'] = predictions_stack\n",
    "sample_submission.to_csv('Bayesian_Ridge_Stacking_wo_outliers_pur_date_4.csv', index=False)"
   ]
  },
  {
   "cell_type": "code",
   "execution_count": 231,
   "metadata": {},
   "outputs": [],
   "source": [
    "map1=pd.read_csv('Bayesian_Ridge_Stacking_outliers_map_pur_date_4.csv',squeeze=True)\n",
    "map1.set_index('card_id',inplace=True)"
   ]
  },
  {
   "cell_type": "code",
   "execution_count": 235,
   "metadata": {},
   "outputs": [],
   "source": [
    "map2=map1.sort_values('target',ascending=False).head(25000)"
   ]
  },
  {
   "cell_type": "code",
   "execution_count": 223,
   "metadata": {},
   "outputs": [],
   "source": [
    "model_with_outlier=pd.read_csv(\"Bayesian_Ridge_Stacking_w_outliers_pur_date_4.csv\")\n",
    "model_without_outlier=pd.read_csv(\"Bayesian_Ridge_Stacking_wo_outliers_pur_date_4.csv\")\n",
    "model_with_outlier.set_index('card_id',inplace=True)\n",
    "model_without_outlier.set_index('card_id',inplace=True)"
   ]
  },
  {
   "cell_type": "code",
   "execution_count": 236,
   "metadata": {
    "scrolled": false
   },
   "outputs": [
    {
     "data": {
      "text/html": [
       "<div>\n",
       "<style scoped>\n",
       "    .dataframe tbody tr th:only-of-type {\n",
       "        vertical-align: middle;\n",
       "    }\n",
       "\n",
       "    .dataframe tbody tr th {\n",
       "        vertical-align: top;\n",
       "    }\n",
       "\n",
       "    .dataframe thead th {\n",
       "        text-align: right;\n",
       "    }\n",
       "</style>\n",
       "<table border=\"1\" class=\"dataframe\">\n",
       "  <thead>\n",
       "    <tr style=\"text-align: right;\">\n",
       "      <th></th>\n",
       "      <th>target</th>\n",
       "    </tr>\n",
       "    <tr>\n",
       "      <th>card_id</th>\n",
       "      <th></th>\n",
       "    </tr>\n",
       "  </thead>\n",
       "  <tbody>\n",
       "    <tr>\n",
       "      <th>C_ID_aae50409e7</th>\n",
       "      <td>-22.631091</td>\n",
       "    </tr>\n",
       "    <tr>\n",
       "      <th>C_ID_a74b12dcf8</th>\n",
       "      <td>-25.189084</td>\n",
       "    </tr>\n",
       "    <tr>\n",
       "      <th>C_ID_bced41d837</th>\n",
       "      <td>-16.296076</td>\n",
       "    </tr>\n",
       "    <tr>\n",
       "      <th>C_ID_6ab591cf62</th>\n",
       "      <td>-21.624292</td>\n",
       "    </tr>\n",
       "    <tr>\n",
       "      <th>C_ID_ac114ef831</th>\n",
       "      <td>-21.948205</td>\n",
       "    </tr>\n",
       "  </tbody>\n",
       "</table>\n",
       "</div>"
      ],
      "text/plain": [
       "                    target\n",
       "card_id                   \n",
       "C_ID_aae50409e7 -22.631091\n",
       "C_ID_a74b12dcf8 -25.189084\n",
       "C_ID_bced41d837 -16.296076\n",
       "C_ID_6ab591cf62 -21.624292\n",
       "C_ID_ac114ef831 -21.948205"
      ]
     },
     "execution_count": 236,
     "metadata": {},
     "output_type": "execute_result"
    }
   ],
   "source": [
    "model_with_mixed=model_without_outlier.copy()\n"
   ]
  },
  {
   "cell_type": "code",
   "execution_count": 139,
   "metadata": {},
   "outputs": [],
   "source": [
    "map2=map1.sort_values('target',ascending=False).head(25000)"
   ]
  },
  {
   "cell_type": "code",
   "execution_count": 166,
   "metadata": {},
   "outputs": [],
   "source": [
    "model_with_outlier=pd.read_csv(\"Bayesian_Ridge_Stacking_w_outliers.csv\")\n",
    "model_without_outlier=pd.read_csv(\"Bayesian_Ridge_Stacking_wo_outliers.csv\")\n",
    "model_with_outlier.set_index('card_id',inplace=True)\n",
    "model_without_outlier.set_index('card_id',inplace=True)"
   ]
  },
  {
   "cell_type": "code",
   "execution_count": null,
   "metadata": {},
   "outputs": [],
   "source": []
  },
  {
   "cell_type": "code",
   "execution_count": 238,
   "metadata": {},
   "outputs": [],
   "source": [
    "model_with_mixed=model_without_outlier.copy()\n",
    "model_with_mixed.loc[map2.index]=model_with_outlier.loc[map2.index]\n",
    "model_with_mixed.reset_index(inplace=True)\n",
    "model_with_mixed.to_csv(\"Bayesian_Ridge_Stacking_mixed_outliers_pur_date_4.csv\",index=False)"
   ]
  },
  {
   "cell_type": "code",
   "execution_count": null,
   "metadata": {},
   "outputs": [],
   "source": [
    "map2=map1.sort_values('target',ascending=False).head(25000)"
   ]
  },
  {
   "cell_type": "code",
   "execution_count": 240,
   "metadata": {
    "scrolled": true
   },
   "outputs": [
    {
     "data": {
      "text/plain": [
       "-25.189084327999662"
      ]
     },
     "execution_count": 240,
     "metadata": {},
     "output_type": "execute_result"
    }
   ],
   "source": [
    "model_with_mixed.target.min()"
   ]
  },
  {
   "cell_type": "markdown",
   "metadata": {},
   "source": [
    "### We not to try replacing more target values with outliers in final submission\n",
    "### We can move treshould value of 25 000\n",
    "\n",
    "### Now let's try to do wi 50 000 and 12 500 basically logarithmic search\n"
   ]
  },
  {
   "cell_type": "code",
   "execution_count": 428,
   "metadata": {},
   "outputs": [],
   "source": [
    "map1=pd.read_csv('Bayesian_Ridge_Stacking_outliers_map_pur_date_4.csv',squeeze=True)\n",
    "map1.set_index('card_id',inplace=True)\n",
    "\n",
    "threshould=37500\n",
    "map2=map1.sort_values('target',ascending=False).head(threshould)\n",
    "\n",
    "model_with_outlier=pd.read_csv(\"Bayesian_Ridge_Stacking_w_outliers.csv\")\n",
    "model_without_outlier=pd.read_csv(\"Bayesian_Ridge_Stacking_wo_outliers.csv\")\n",
    "model_with_outlier.set_index('card_id',inplace=True)\n",
    "model_without_outlier.set_index('card_id',inplace=True)\n",
    "\n",
    "model_with_mixed=model_without_outlier.copy()\n",
    "model_with_mixed.loc[map2.index]=model_with_outlier.loc[map2.index]\n",
    "model_with_mixed.reset_index(inplace=True)\n",
    "model_with_mixed.to_csv(\"Bayesian_Ridge_Stacking_mixed_outliers_pur_date_4_\"+str(threshould)+\".csv\",index=False)"
   ]
  },
  {
   "cell_type": "markdown",
   "metadata": {},
   "source": [
    "### best score is still for 25 000 . We need to find models to find best threshould values. This might be done by predicting it for training set and try to change treshould value. The possible problem might arise due to overfitting on training set. But still worth to try.\n"
   ]
  },
  {
   "cell_type": "code",
   "execution_count": 245,
   "metadata": {},
   "outputs": [],
   "source": [
    "\n",
    "target=df_train.outliers"
   ]
  },
  {
   "cell_type": "code",
   "execution_count": 246,
   "metadata": {},
   "outputs": [
    {
     "name": "stdout",
     "output_type": "stream",
     "text": [
      "fold n°0\n",
      "Training until validation scores don't improve for 200 rounds.\n",
      "[100]\ttraining's binary_logloss: 0.0465725\tvalid_1's binary_logloss: 0.0494251\n",
      "[200]\ttraining's binary_logloss: 0.0423393\tvalid_1's binary_logloss: 0.0467432\n",
      "[300]\ttraining's binary_logloss: 0.0398121\tvalid_1's binary_logloss: 0.04563\n",
      "[400]\ttraining's binary_logloss: 0.0379655\tvalid_1's binary_logloss: 0.0451054\n",
      "[500]\ttraining's binary_logloss: 0.0364101\tvalid_1's binary_logloss: 0.0448216\n",
      "[600]\ttraining's binary_logloss: 0.0350469\tvalid_1's binary_logloss: 0.0446494\n",
      "[700]\ttraining's binary_logloss: 0.0338615\tvalid_1's binary_logloss: 0.0445619\n",
      "[800]\ttraining's binary_logloss: 0.0328614\tvalid_1's binary_logloss: 0.0444887\n",
      "[900]\ttraining's binary_logloss: 0.031945\tvalid_1's binary_logloss: 0.044434\n",
      "[1000]\ttraining's binary_logloss: 0.0310842\tvalid_1's binary_logloss: 0.0444219\n",
      "[1100]\ttraining's binary_logloss: 0.0303012\tvalid_1's binary_logloss: 0.0443903\n",
      "[1200]\ttraining's binary_logloss: 0.0295564\tvalid_1's binary_logloss: 0.0443991\n",
      "Early stopping, best iteration is:\n",
      "[1089]\ttraining's binary_logloss: 0.0303818\tvalid_1's binary_logloss: 0.0443884\n",
      "fold n°1\n",
      "Training until validation scores don't improve for 200 rounds.\n",
      "[100]\ttraining's binary_logloss: 0.0464608\tvalid_1's binary_logloss: 0.0499367\n",
      "[200]\ttraining's binary_logloss: 0.0422571\tvalid_1's binary_logloss: 0.0472252\n",
      "[300]\ttraining's binary_logloss: 0.0396883\tvalid_1's binary_logloss: 0.0460213\n",
      "[400]\ttraining's binary_logloss: 0.0378275\tvalid_1's binary_logloss: 0.0454101\n",
      "[500]\ttraining's binary_logloss: 0.0361733\tvalid_1's binary_logloss: 0.0450664\n",
      "[600]\ttraining's binary_logloss: 0.0348155\tvalid_1's binary_logloss: 0.0448721\n",
      "[700]\ttraining's binary_logloss: 0.0336959\tvalid_1's binary_logloss: 0.0447612\n",
      "[800]\ttraining's binary_logloss: 0.0326754\tvalid_1's binary_logloss: 0.044702\n",
      "[900]\ttraining's binary_logloss: 0.031784\tvalid_1's binary_logloss: 0.0446486\n",
      "[1000]\ttraining's binary_logloss: 0.0309431\tvalid_1's binary_logloss: 0.0446177\n",
      "[1100]\ttraining's binary_logloss: 0.0301641\tvalid_1's binary_logloss: 0.0446024\n",
      "[1200]\ttraining's binary_logloss: 0.0294064\tvalid_1's binary_logloss: 0.0445949\n",
      "[1300]\ttraining's binary_logloss: 0.0286967\tvalid_1's binary_logloss: 0.0445783\n",
      "[1400]\ttraining's binary_logloss: 0.0280227\tvalid_1's binary_logloss: 0.0445761\n",
      "[1500]\ttraining's binary_logloss: 0.0273664\tvalid_1's binary_logloss: 0.0445782\n",
      "[1600]\ttraining's binary_logloss: 0.0267373\tvalid_1's binary_logloss: 0.0446069\n",
      "Early stopping, best iteration is:\n",
      "[1419]\ttraining's binary_logloss: 0.0278948\tvalid_1's binary_logloss: 0.0445714\n",
      "fold n°2\n",
      "Training until validation scores don't improve for 200 rounds.\n",
      "[100]\ttraining's binary_logloss: 0.0466465\tvalid_1's binary_logloss: 0.0495979\n",
      "[200]\ttraining's binary_logloss: 0.0424374\tvalid_1's binary_logloss: 0.0467123\n",
      "[300]\ttraining's binary_logloss: 0.0398704\tvalid_1's binary_logloss: 0.0454506\n",
      "[400]\ttraining's binary_logloss: 0.0379926\tvalid_1's binary_logloss: 0.0447716\n",
      "[500]\ttraining's binary_logloss: 0.0364202\tvalid_1's binary_logloss: 0.0444114\n",
      "[600]\ttraining's binary_logloss: 0.0350506\tvalid_1's binary_logloss: 0.0442002\n",
      "[700]\ttraining's binary_logloss: 0.0339016\tvalid_1's binary_logloss: 0.0440814\n",
      "[800]\ttraining's binary_logloss: 0.0328376\tvalid_1's binary_logloss: 0.0439747\n",
      "[900]\ttraining's binary_logloss: 0.0319033\tvalid_1's binary_logloss: 0.0439099\n",
      "[1000]\ttraining's binary_logloss: 0.0310279\tvalid_1's binary_logloss: 0.0438831\n",
      "[1100]\ttraining's binary_logloss: 0.0302499\tvalid_1's binary_logloss: 0.0438559\n",
      "[1200]\ttraining's binary_logloss: 0.0294907\tvalid_1's binary_logloss: 0.0438413\n",
      "[1300]\ttraining's binary_logloss: 0.0287854\tvalid_1's binary_logloss: 0.0438319\n",
      "[1400]\ttraining's binary_logloss: 0.0281111\tvalid_1's binary_logloss: 0.0438291\n",
      "[1500]\ttraining's binary_logloss: 0.0274707\tvalid_1's binary_logloss: 0.0438392\n",
      "Early stopping, best iteration is:\n",
      "[1375]\ttraining's binary_logloss: 0.0282802\tvalid_1's binary_logloss: 0.0438237\n",
      "fold n°3\n",
      "Training until validation scores don't improve for 200 rounds.\n",
      "[100]\ttraining's binary_logloss: 0.0468173\tvalid_1's binary_logloss: 0.0491947\n",
      "[200]\ttraining's binary_logloss: 0.042552\tvalid_1's binary_logloss: 0.0461376\n",
      "[300]\ttraining's binary_logloss: 0.0400361\tvalid_1's binary_logloss: 0.0447537\n",
      "[400]\ttraining's binary_logloss: 0.0382053\tvalid_1's binary_logloss: 0.0440441\n",
      "[500]\ttraining's binary_logloss: 0.0366704\tvalid_1's binary_logloss: 0.0436656\n",
      "[600]\ttraining's binary_logloss: 0.0352753\tvalid_1's binary_logloss: 0.0434318\n",
      "[700]\ttraining's binary_logloss: 0.0340847\tvalid_1's binary_logloss: 0.0433056\n",
      "[800]\ttraining's binary_logloss: 0.0329944\tvalid_1's binary_logloss: 0.0432351\n",
      "[900]\ttraining's binary_logloss: 0.0320355\tvalid_1's binary_logloss: 0.0431758\n",
      "[1000]\ttraining's binary_logloss: 0.0311787\tvalid_1's binary_logloss: 0.0431509\n",
      "[1100]\ttraining's binary_logloss: 0.030382\tvalid_1's binary_logloss: 0.0431422\n",
      "[1200]\ttraining's binary_logloss: 0.0296197\tvalid_1's binary_logloss: 0.0431343\n",
      "[1300]\ttraining's binary_logloss: 0.0288821\tvalid_1's binary_logloss: 0.0431346\n",
      "[1400]\ttraining's binary_logloss: 0.0281752\tvalid_1's binary_logloss: 0.0431346\n",
      "[1500]\ttraining's binary_logloss: 0.0274989\tvalid_1's binary_logloss: 0.0431254\n",
      "[1600]\ttraining's binary_logloss: 0.0268561\tvalid_1's binary_logloss: 0.0431294\n",
      "[1700]\ttraining's binary_logloss: 0.026247\tvalid_1's binary_logloss: 0.043146\n",
      "Early stopping, best iteration is:\n",
      "[1503]\ttraining's binary_logloss: 0.0274801\tvalid_1's binary_logloss: 0.0431244\n",
      "fold n°4\n",
      "Training until validation scores don't improve for 200 rounds.\n",
      "[100]\ttraining's binary_logloss: 0.0466287\tvalid_1's binary_logloss: 0.0496624\n",
      "[200]\ttraining's binary_logloss: 0.0423906\tvalid_1's binary_logloss: 0.0467678\n",
      "[300]\ttraining's binary_logloss: 0.0398346\tvalid_1's binary_logloss: 0.0454201\n",
      "[400]\ttraining's binary_logloss: 0.037971\tvalid_1's binary_logloss: 0.0447603\n",
      "[500]\ttraining's binary_logloss: 0.036414\tvalid_1's binary_logloss: 0.0443949\n",
      "[600]\ttraining's binary_logloss: 0.0350516\tvalid_1's binary_logloss: 0.0441812\n",
      "[700]\ttraining's binary_logloss: 0.033901\tvalid_1's binary_logloss: 0.0440721\n",
      "[800]\ttraining's binary_logloss: 0.0328506\tvalid_1's binary_logloss: 0.0440017\n",
      "[900]\ttraining's binary_logloss: 0.0319292\tvalid_1's binary_logloss: 0.0439477\n",
      "[1000]\ttraining's binary_logloss: 0.0310602\tvalid_1's binary_logloss: 0.043917\n",
      "[1100]\ttraining's binary_logloss: 0.030251\tvalid_1's binary_logloss: 0.0438914\n",
      "[1200]\ttraining's binary_logloss: 0.0294778\tvalid_1's binary_logloss: 0.0438887\n",
      "[1300]\ttraining's binary_logloss: 0.0287659\tvalid_1's binary_logloss: 0.0438848\n",
      "[1400]\ttraining's binary_logloss: 0.0280787\tvalid_1's binary_logloss: 0.0438893\n",
      "Early stopping, best iteration is:\n",
      "[1248]\ttraining's binary_logloss: 0.0291318\tvalid_1's binary_logloss: 0.043878\n",
      "CV score: 0.09932 \n"
     ]
    }
   ],
   "source": [
    "param = {'num_leaves': 31,\n",
    "         'min_data_in_leaf': 32, \n",
    "         'objective':'binary',\n",
    "         'max_depth': -1,\n",
    "         'learning_rate': 0.005,\n",
    "         \"min_child_samples\": 20,\n",
    "         \"boosting\": \"gbdt\",\n",
    "         \"feature_fraction\": 0.9,\n",
    "         \"bagging_freq\": 1,\n",
    "         \"bagging_fraction\": 0.9 ,\n",
    "         \"bagging_seed\": 11,\n",
    "         \"metric\": 'binary_logloss',\n",
    "         \"lambda_l1\": 0.1,\n",
    "         \"nthread\": 4,\n",
    "         \"verbosity\": -1}\n",
    "\n",
    "folds = StratifiedKFold(n_splits=5, shuffle=True, random_state=15)\n",
    "oof = np.zeros(len(df_train))\n",
    "predictions = np.zeros(len(df_test))\n",
    "feature_importance_df = pd.DataFrame()\n",
    "\n",
    "for fold_, (trn_idx, val_idx) in enumerate(folds.split(df_train.values, df_train['outliers'].values)):\n",
    "    print(\"fold n°{}\".format(fold_))\n",
    "    trn_data = lgb.Dataset(df_train.iloc[trn_idx][df_train_columns], label=target.iloc[trn_idx],categorical_feature=['feature_1','feature_2','feature_3'])#, categorical_feature=categorical_feats)\n",
    "    val_data = lgb.Dataset(df_train.iloc[val_idx][df_train_columns], label=target.iloc[val_idx],categorical_feature=['feature_1', 'feature_2','feature_3'])#, categorical_feature=categorical_feats)\n",
    "\n",
    "    num_round = 10000\n",
    "    clf = lgb.train(param, trn_data, num_round, valid_sets = [trn_data, val_data], verbose_eval=100, early_stopping_rounds = 200)\n",
    "    oof[val_idx] = clf.predict(df_train.iloc[val_idx][df_train_columns], num_iteration=clf.best_iteration)\n",
    "    \n",
    "    fold_importance_df = pd.DataFrame()\n",
    "    fold_importance_df[\"feature\"] = df_train_columns\n",
    "    fold_importance_df[\"importance\"] = clf.feature_importance()\n",
    "    fold_importance_df[\"fold\"] = fold_ + 1\n",
    "    feature_importance_df = pd.concat([feature_importance_df, fold_importance_df], axis=0)\n",
    "    \n",
    "    predictions += clf.predict(df_test[df_train_columns], num_iteration=clf.best_iteration) / folds.n_splits\n",
    "\n",
    "print(\"CV score: {:<8.5f}\".format(mean_squared_error(oof, target)**0.5))"
   ]
  },
  {
   "cell_type": "code",
   "execution_count": 247,
   "metadata": {},
   "outputs": [
    {
     "name": "stdout",
     "output_type": "stream",
     "text": [
      "fold n°0\n",
      "Training until validation scores don't improve for 100 rounds.\n",
      "[100]\ttraining's binary_logloss: 0.042444\tvalid_1's binary_logloss: 0.0464311\n",
      "[200]\ttraining's binary_logloss: 0.037997\tvalid_1's binary_logloss: 0.0445148\n",
      "[300]\ttraining's binary_logloss: 0.0350549\tvalid_1's binary_logloss: 0.0440185\n",
      "[400]\ttraining's binary_logloss: 0.0328816\tvalid_1's binary_logloss: 0.0437926\n",
      "[500]\ttraining's binary_logloss: 0.0311618\tvalid_1's binary_logloss: 0.0437086\n",
      "[600]\ttraining's binary_logloss: 0.0296233\tvalid_1's binary_logloss: 0.0436764\n",
      "[700]\ttraining's binary_logloss: 0.0282174\tvalid_1's binary_logloss: 0.043643\n",
      "[800]\ttraining's binary_logloss: 0.0269396\tvalid_1's binary_logloss: 0.0436123\n",
      "[900]\ttraining's binary_logloss: 0.0257815\tvalid_1's binary_logloss: 0.0435908\n",
      "[1000]\ttraining's binary_logloss: 0.0246591\tvalid_1's binary_logloss: 0.0436136\n",
      "Early stopping, best iteration is:\n",
      "[948]\ttraining's binary_logloss: 0.0252231\tvalid_1's binary_logloss: 0.0435791\n",
      "fold n°1\n",
      "Training until validation scores don't improve for 100 rounds.\n",
      "[100]\ttraining's binary_logloss: 0.0422361\tvalid_1's binary_logloss: 0.047027\n",
      "[200]\ttraining's binary_logloss: 0.0377061\tvalid_1's binary_logloss: 0.0452035\n",
      "[300]\ttraining's binary_logloss: 0.0347834\tvalid_1's binary_logloss: 0.0447403\n",
      "[400]\ttraining's binary_logloss: 0.032564\tvalid_1's binary_logloss: 0.0445836\n",
      "[500]\ttraining's binary_logloss: 0.0307678\tvalid_1's binary_logloss: 0.0444984\n",
      "[600]\ttraining's binary_logloss: 0.0292282\tvalid_1's binary_logloss: 0.0444757\n",
      "[700]\ttraining's binary_logloss: 0.0277686\tvalid_1's binary_logloss: 0.0444692\n",
      "Early stopping, best iteration is:\n",
      "[628]\ttraining's binary_logloss: 0.0287985\tvalid_1's binary_logloss: 0.0444561\n",
      "fold n°2\n",
      "Training until validation scores don't improve for 100 rounds.\n",
      "[100]\ttraining's binary_logloss: 0.0421539\tvalid_1's binary_logloss: 0.0471517\n",
      "[200]\ttraining's binary_logloss: 0.0376899\tvalid_1's binary_logloss: 0.0453361\n",
      "[300]\ttraining's binary_logloss: 0.034752\tvalid_1's binary_logloss: 0.0448375\n",
      "[400]\ttraining's binary_logloss: 0.0325455\tvalid_1's binary_logloss: 0.0447322\n",
      "[500]\ttraining's binary_logloss: 0.030779\tvalid_1's binary_logloss: 0.0446876\n",
      "[600]\ttraining's binary_logloss: 0.0292429\tvalid_1's binary_logloss: 0.0447046\n",
      "Early stopping, best iteration is:\n",
      "[509]\ttraining's binary_logloss: 0.0306382\tvalid_1's binary_logloss: 0.0446794\n",
      "fold n°3\n",
      "Training until validation scores don't improve for 100 rounds.\n",
      "[100]\ttraining's binary_logloss: 0.0425943\tvalid_1's binary_logloss: 0.0461251\n",
      "[200]\ttraining's binary_logloss: 0.0381951\tvalid_1's binary_logloss: 0.0440042\n",
      "[300]\ttraining's binary_logloss: 0.035239\tvalid_1's binary_logloss: 0.0434038\n",
      "[400]\ttraining's binary_logloss: 0.0330118\tvalid_1's binary_logloss: 0.0431567\n",
      "[500]\ttraining's binary_logloss: 0.0312121\tvalid_1's binary_logloss: 0.043042\n",
      "[600]\ttraining's binary_logloss: 0.0296623\tvalid_1's binary_logloss: 0.0429794\n",
      "[700]\ttraining's binary_logloss: 0.0282603\tvalid_1's binary_logloss: 0.0429409\n",
      "[800]\ttraining's binary_logloss: 0.0270165\tvalid_1's binary_logloss: 0.0429181\n",
      "[900]\ttraining's binary_logloss: 0.0258175\tvalid_1's binary_logloss: 0.042914\n",
      "Early stopping, best iteration is:\n",
      "[873]\ttraining's binary_logloss: 0.0261531\tvalid_1's binary_logloss: 0.0429005\n",
      "fold n°4\n",
      "Training until validation scores don't improve for 100 rounds.\n",
      "[100]\ttraining's binary_logloss: 0.042347\tvalid_1's binary_logloss: 0.0468427\n",
      "[200]\ttraining's binary_logloss: 0.0379721\tvalid_1's binary_logloss: 0.0450588\n",
      "[300]\ttraining's binary_logloss: 0.0349602\tvalid_1's binary_logloss: 0.0446297\n",
      "[400]\ttraining's binary_logloss: 0.032728\tvalid_1's binary_logloss: 0.0444809\n",
      "[500]\ttraining's binary_logloss: 0.0308739\tvalid_1's binary_logloss: 0.0444126\n",
      "[600]\ttraining's binary_logloss: 0.0293544\tvalid_1's binary_logloss: 0.0444261\n",
      "Early stopping, best iteration is:\n",
      "[535]\ttraining's binary_logloss: 0.030304\tvalid_1's binary_logloss: 0.044411\n",
      "fold n°5\n",
      "Training until validation scores don't improve for 100 rounds.\n",
      "[100]\ttraining's binary_logloss: 0.0424947\tvalid_1's binary_logloss: 0.0465332\n",
      "[200]\ttraining's binary_logloss: 0.0380301\tvalid_1's binary_logloss: 0.0446285\n",
      "[300]\ttraining's binary_logloss: 0.035075\tvalid_1's binary_logloss: 0.0441115\n",
      "[400]\ttraining's binary_logloss: 0.0328429\tvalid_1's binary_logloss: 0.0439269\n",
      "[500]\ttraining's binary_logloss: 0.0311075\tvalid_1's binary_logloss: 0.0438492\n",
      "[600]\ttraining's binary_logloss: 0.0295968\tvalid_1's binary_logloss: 0.0437909\n",
      "[700]\ttraining's binary_logloss: 0.0282347\tvalid_1's binary_logloss: 0.04375\n",
      "Early stopping, best iteration is:\n",
      "[686]\ttraining's binary_logloss: 0.0284269\tvalid_1's binary_logloss: 0.0437345\n",
      "fold n°6\n",
      "Training until validation scores don't improve for 100 rounds.\n",
      "[100]\ttraining's binary_logloss: 0.0423326\tvalid_1's binary_logloss: 0.0467742\n",
      "[200]\ttraining's binary_logloss: 0.0378947\tvalid_1's binary_logloss: 0.0450036\n",
      "[300]\ttraining's binary_logloss: 0.0349101\tvalid_1's binary_logloss: 0.0445417\n",
      "[400]\ttraining's binary_logloss: 0.0327085\tvalid_1's binary_logloss: 0.0443959\n",
      "[500]\ttraining's binary_logloss: 0.0309143\tvalid_1's binary_logloss: 0.0443626\n",
      "[600]\ttraining's binary_logloss: 0.029382\tvalid_1's binary_logloss: 0.0443417\n",
      "[700]\ttraining's binary_logloss: 0.0279927\tvalid_1's binary_logloss: 0.044362\n",
      "Early stopping, best iteration is:\n",
      "[615]\ttraining's binary_logloss: 0.0291633\tvalid_1's binary_logloss: 0.044335\n",
      "fold n°7\n",
      "Training until validation scores don't improve for 100 rounds.\n",
      "[100]\ttraining's binary_logloss: 0.0424366\tvalid_1's binary_logloss: 0.0464996\n",
      "[200]\ttraining's binary_logloss: 0.0379789\tvalid_1's binary_logloss: 0.0445463\n",
      "[300]\ttraining's binary_logloss: 0.0350583\tvalid_1's binary_logloss: 0.0439273\n",
      "[400]\ttraining's binary_logloss: 0.0328205\tvalid_1's binary_logloss: 0.043739\n",
      "[500]\ttraining's binary_logloss: 0.030981\tvalid_1's binary_logloss: 0.0436656\n",
      "[600]\ttraining's binary_logloss: 0.0294627\tvalid_1's binary_logloss: 0.0436481\n",
      "[700]\ttraining's binary_logloss: 0.0280162\tvalid_1's binary_logloss: 0.0436395\n",
      "[800]\ttraining's binary_logloss: 0.0267513\tvalid_1's binary_logloss: 0.0436612\n",
      "Early stopping, best iteration is:\n",
      "[733]\ttraining's binary_logloss: 0.0275762\tvalid_1's binary_logloss: 0.0436253\n",
      "fold n°8\n",
      "Training until validation scores don't improve for 100 rounds.\n",
      "[100]\ttraining's binary_logloss: 0.0422617\tvalid_1's binary_logloss: 0.0472182\n",
      "[200]\ttraining's binary_logloss: 0.0378128\tvalid_1's binary_logloss: 0.0453301\n",
      "[300]\ttraining's binary_logloss: 0.0348578\tvalid_1's binary_logloss: 0.0447872\n",
      "[400]\ttraining's binary_logloss: 0.0326763\tvalid_1's binary_logloss: 0.0445952\n",
      "[500]\ttraining's binary_logloss: 0.0308961\tvalid_1's binary_logloss: 0.0444849\n",
      "[600]\ttraining's binary_logloss: 0.0293327\tvalid_1's binary_logloss: 0.0444374\n",
      "[700]\ttraining's binary_logloss: 0.027884\tvalid_1's binary_logloss: 0.0444006\n",
      "[800]\ttraining's binary_logloss: 0.0265827\tvalid_1's binary_logloss: 0.0444061\n",
      "Early stopping, best iteration is:\n",
      "[762]\ttraining's binary_logloss: 0.0270733\tvalid_1's binary_logloss: 0.0443849\n",
      "fold n°9\n",
      "Training until validation scores don't improve for 100 rounds.\n",
      "[100]\ttraining's binary_logloss: 0.0423272\tvalid_1's binary_logloss: 0.0466998\n",
      "[200]\ttraining's binary_logloss: 0.0379011\tvalid_1's binary_logloss: 0.0448414\n",
      "[300]\ttraining's binary_logloss: 0.0349039\tvalid_1's binary_logloss: 0.0443315\n",
      "[400]\ttraining's binary_logloss: 0.0327775\tvalid_1's binary_logloss: 0.0441283\n",
      "[500]\ttraining's binary_logloss: 0.0310506\tvalid_1's binary_logloss: 0.044094\n",
      "[600]\ttraining's binary_logloss: 0.0294945\tvalid_1's binary_logloss: 0.0440732\n",
      "Early stopping, best iteration is:\n",
      "[599]\ttraining's binary_logloss: 0.0295101\tvalid_1's binary_logloss: 0.044071\n",
      "CV score: 0.09937 \n"
     ]
    }
   ],
   "source": [
    "lgbparam = {'num_leaves': 31,\n",
    "            'boosting_type': 'rf',\n",
    "             'min_data_in_leaf': 30, \n",
    "             'objective':'binary',\n",
    "             'max_depth': -1,\n",
    "             'learning_rate': 0.01,\n",
    "             \"min_child_samples\": 20,\n",
    "             \"boosting\": \"gbdt\",\n",
    "             \"feature_fraction\": 0.9,\n",
    "             \"bagging_freq\": 1,\n",
    "             \"bagging_fraction\": 0.9 ,\n",
    "             \"bagging_seed\": 11,\n",
    "             \"metric\": 'binary_logloss',\n",
    "             \"lambda_l1\": 0.1,\n",
    "             \"verbosity\": -1,\n",
    "             \"nthread\": 4,\n",
    "             \"random_state\": 4590}\n",
    "\n",
    "folds = RepeatedStratifiedKFold(n_splits=5, n_repeats=2, random_state=4520)\n",
    "\n",
    "oof_lgb = np.zeros(len(df_train))\n",
    "predictions_lgb = np.zeros(len(df_test))\n",
    "feature_importance_df = pd.DataFrame()\n",
    "\n",
    "for fold_, (trn_idx, val_idx) in enumerate(folds.split(df_train,df_train['outliers'].values)):\n",
    "    print(\"fold n°{}\".format(fold_))\n",
    "    trn_data = lgb.Dataset(df_train.iloc[trn_idx][df_train_columns], label=target.iloc[trn_idx],categorical_feature=['feature_1','feature_2','feature_3'])#, categorical_feature=categorical_feats)\n",
    "    val_data = lgb.Dataset(df_train.iloc[val_idx][df_train_columns], label=target.iloc[val_idx],categorical_feature=['feature_1', 'feature_2','feature_3'])#, categorical_feature=categorical_feats)\n",
    "\n",
    "    num_round = 11000\n",
    "    clf = lgb.train(lgbparam, trn_data, num_round, valid_sets = [trn_data, val_data], verbose_eval=100, early_stopping_rounds = 100)\n",
    "    oof_lgb[val_idx] = clf.predict(df_train.iloc[val_idx][df_train_columns], num_iteration=clf.best_iteration)\n",
    "\n",
    "    fold_importance_df = pd.DataFrame()\n",
    "    fold_importance_df[\"feature\"] = df_train_columns\n",
    "    fold_importance_df[\"importance\"] = clf.feature_importance()\n",
    "    fold_importance_df[\"fold\"] = fold_ + 1\n",
    "    feature_importance_df = pd.concat([feature_importance_df, fold_importance_df], axis=0)\n",
    "    \n",
    "    predictions_lgb += clf.predict(df_test[df_train_columns], num_iteration=clf.best_iteration) / (5 * 2)\n",
    "\n",
    "print(\"CV score: {:<8.5f}\".format(mean_squared_error(oof_lgb, target)**0.5))"
   ]
  },
  {
   "cell_type": "code",
   "execution_count": 248,
   "metadata": {},
   "outputs": [
    {
     "name": "stdout",
     "output_type": "stream",
     "text": [
      "fold n°0\n",
      "----------Stacking 0----------\n",
      "fold n°1\n",
      "----------Stacking 1----------\n",
      "fold n°2\n",
      "----------Stacking 2----------\n",
      "fold n°3\n",
      "----------Stacking 3----------\n",
      "fold n°4\n",
      "----------Stacking 4----------\n"
     ]
    },
    {
     "data": {
      "text/plain": [
       "0.09925568471873035"
      ]
     },
     "execution_count": 248,
     "metadata": {},
     "output_type": "execute_result"
    }
   ],
   "source": [
    "train_stack = np.vstack([oof,oof_lgb]).transpose()\n",
    "test_stack = np.vstack([predictions,predictions_lgb]).transpose()\n",
    "\n",
    "folds = RepeatedKFold(n_splits=5,n_repeats=1,random_state=4520)\n",
    "oof_stack = np.zeros(train_stack.shape[0])\n",
    "predictions_stack = np.zeros(test_stack.shape[0])\n",
    "\n",
    "for fold_, (trn_idx, val_idx) in enumerate(folds.split(train_stack, target)):\n",
    "    print(\"fold n°{}\".format(fold_))\n",
    "    trn_data, trn_y = train_stack[trn_idx], target.iloc[trn_idx].values\n",
    "    val_data, val_y = train_stack[val_idx], target.iloc[val_idx].values\n",
    "\n",
    "    print(\"-\" * 10 + \"Stacking \" + str(fold_) + \"-\" * 10)\n",
    "#     cb_model = CatBoostRegressor(iterations=3000, learning_rate=0.1, depth=8, l2_leaf_reg=20, bootstrap_type='Bernoulli',  eval_metric='RMSE', metric_period=50, od_type='Iter', od_wait=45, random_seed=17, allow_writing_files=False)\n",
    "#     cb_model.fit(trn_data, trn_y, eval_set=(val_data, val_y), cat_features=[], use_best_model=True, verbose=True)\n",
    "    clf = BayesianRidge()\n",
    "    clf.fit(trn_data, trn_y)\n",
    "    \n",
    "    oof_stack[val_idx] = clf.predict(val_data)\n",
    "    predictions_stack += clf.predict(test_stack) / 5\n",
    "\n",
    "\n",
    "np.sqrt(mean_squared_error(target.values, oof_stack))"
   ]
  },
  {
   "cell_type": "code",
   "execution_count": 252,
   "metadata": {},
   "outputs": [
    {
     "data": {
      "text/plain": [
       "(201917, 2)"
      ]
     },
     "execution_count": 252,
     "metadata": {},
     "output_type": "execute_result"
    }
   ],
   "source": [
    "train_stack.shape"
   ]
  },
  {
   "cell_type": "code",
   "execution_count": 253,
   "metadata": {},
   "outputs": [],
   "source": [
    "train_map=clf.predict(train_stack)"
   ]
  },
  {
   "cell_type": "markdown",
   "metadata": {},
   "source": [
    "### Now let's get df_train predicted values without outliers"
   ]
  },
  {
   "cell_type": "code",
   "execution_count": 359,
   "metadata": {},
   "outputs": [],
   "source": [
    "df_train1=df_train[df_train.outliers==0]\n",
    "target=df_train1.target"
   ]
  },
  {
   "cell_type": "code",
   "execution_count": 360,
   "metadata": {},
   "outputs": [
    {
     "name": "stdout",
     "output_type": "stream",
     "text": [
      "fold n°0\n",
      "Training until validation scores don't improve for 200 rounds.\n",
      "[100]\ttraining's rmse: 1.64179\tvalid_1's rmse: 1.64989\n",
      "[200]\ttraining's rmse: 1.60555\tvalid_1's rmse: 1.61671\n",
      "[300]\ttraining's rmse: 1.58583\tvalid_1's rmse: 1.59937\n",
      "[400]\ttraining's rmse: 1.57369\tvalid_1's rmse: 1.58911\n",
      "[500]\ttraining's rmse: 1.565\tvalid_1's rmse: 1.5824\n",
      "[600]\ttraining's rmse: 1.55842\tvalid_1's rmse: 1.57776\n",
      "[700]\ttraining's rmse: 1.55304\tvalid_1's rmse: 1.57441\n",
      "[800]\ttraining's rmse: 1.54852\tvalid_1's rmse: 1.57182\n",
      "[900]\ttraining's rmse: 1.54455\tvalid_1's rmse: 1.56977\n",
      "[1000]\ttraining's rmse: 1.54102\tvalid_1's rmse: 1.56822\n",
      "[1100]\ttraining's rmse: 1.53777\tvalid_1's rmse: 1.567\n",
      "[1200]\ttraining's rmse: 1.53483\tvalid_1's rmse: 1.56602\n",
      "[1300]\ttraining's rmse: 1.53209\tvalid_1's rmse: 1.56529\n",
      "[1400]\ttraining's rmse: 1.52949\tvalid_1's rmse: 1.56466\n",
      "[1500]\ttraining's rmse: 1.52708\tvalid_1's rmse: 1.56418\n",
      "[1600]\ttraining's rmse: 1.52477\tvalid_1's rmse: 1.56378\n",
      "[1700]\ttraining's rmse: 1.52254\tvalid_1's rmse: 1.56337\n",
      "[1800]\ttraining's rmse: 1.52042\tvalid_1's rmse: 1.56308\n",
      "[1900]\ttraining's rmse: 1.51834\tvalid_1's rmse: 1.56285\n",
      "[2000]\ttraining's rmse: 1.51637\tvalid_1's rmse: 1.56263\n",
      "[2100]\ttraining's rmse: 1.51444\tvalid_1's rmse: 1.56244\n",
      "[2200]\ttraining's rmse: 1.51259\tvalid_1's rmse: 1.56226\n",
      "[2300]\ttraining's rmse: 1.51074\tvalid_1's rmse: 1.56211\n",
      "[2400]\ttraining's rmse: 1.50889\tvalid_1's rmse: 1.56199\n",
      "[2500]\ttraining's rmse: 1.50712\tvalid_1's rmse: 1.56186\n",
      "[2600]\ttraining's rmse: 1.50534\tvalid_1's rmse: 1.5618\n",
      "[2700]\ttraining's rmse: 1.50357\tvalid_1's rmse: 1.5617\n",
      "[2800]\ttraining's rmse: 1.50178\tvalid_1's rmse: 1.56157\n",
      "[2900]\ttraining's rmse: 1.50002\tvalid_1's rmse: 1.56149\n",
      "[3000]\ttraining's rmse: 1.49831\tvalid_1's rmse: 1.56141\n",
      "[3100]\ttraining's rmse: 1.49665\tvalid_1's rmse: 1.56136\n",
      "[3200]\ttraining's rmse: 1.49492\tvalid_1's rmse: 1.56123\n",
      "[3300]\ttraining's rmse: 1.49323\tvalid_1's rmse: 1.56115\n",
      "[3400]\ttraining's rmse: 1.49158\tvalid_1's rmse: 1.5611\n",
      "[3500]\ttraining's rmse: 1.4899\tvalid_1's rmse: 1.56102\n",
      "[3600]\ttraining's rmse: 1.48828\tvalid_1's rmse: 1.56095\n",
      "[3700]\ttraining's rmse: 1.48669\tvalid_1's rmse: 1.5609\n",
      "[3800]\ttraining's rmse: 1.48505\tvalid_1's rmse: 1.56085\n",
      "[3900]\ttraining's rmse: 1.48349\tvalid_1's rmse: 1.56086\n",
      "[4000]\ttraining's rmse: 1.48189\tvalid_1's rmse: 1.56082\n",
      "[4100]\ttraining's rmse: 1.48032\tvalid_1's rmse: 1.56076\n",
      "[4200]\ttraining's rmse: 1.47874\tvalid_1's rmse: 1.56067\n",
      "[4300]\ttraining's rmse: 1.4772\tvalid_1's rmse: 1.56064\n",
      "[4400]\ttraining's rmse: 1.47566\tvalid_1's rmse: 1.5606\n",
      "[4500]\ttraining's rmse: 1.47409\tvalid_1's rmse: 1.56061\n",
      "[4600]\ttraining's rmse: 1.47261\tvalid_1's rmse: 1.56056\n",
      "[4700]\ttraining's rmse: 1.4711\tvalid_1's rmse: 1.56054\n",
      "[4800]\ttraining's rmse: 1.4696\tvalid_1's rmse: 1.56051\n",
      "[4900]\ttraining's rmse: 1.4681\tvalid_1's rmse: 1.56046\n",
      "[5000]\ttraining's rmse: 1.46656\tvalid_1's rmse: 1.56045\n",
      "[5100]\ttraining's rmse: 1.46499\tvalid_1's rmse: 1.56044\n",
      "[5200]\ttraining's rmse: 1.4635\tvalid_1's rmse: 1.56041\n",
      "[5300]\ttraining's rmse: 1.46201\tvalid_1's rmse: 1.5604\n",
      "[5400]\ttraining's rmse: 1.46059\tvalid_1's rmse: 1.56038\n",
      "[5500]\ttraining's rmse: 1.45914\tvalid_1's rmse: 1.56037\n",
      "[5600]\ttraining's rmse: 1.45767\tvalid_1's rmse: 1.56035\n",
      "[5700]\ttraining's rmse: 1.45621\tvalid_1's rmse: 1.56031\n",
      "[5800]\ttraining's rmse: 1.45474\tvalid_1's rmse: 1.56031\n",
      "[5900]\ttraining's rmse: 1.45328\tvalid_1's rmse: 1.56031\n",
      "Early stopping, best iteration is:\n",
      "[5770]\ttraining's rmse: 1.4552\tvalid_1's rmse: 1.56028\n",
      "fold n°1\n",
      "Training until validation scores don't improve for 200 rounds.\n",
      "[100]\ttraining's rmse: 1.64252\tvalid_1's rmse: 1.64869\n",
      "[200]\ttraining's rmse: 1.60636\tvalid_1's rmse: 1.61458\n",
      "[300]\ttraining's rmse: 1.58662\tvalid_1's rmse: 1.59689\n",
      "[400]\ttraining's rmse: 1.57435\tvalid_1's rmse: 1.58672\n",
      "[500]\ttraining's rmse: 1.56561\tvalid_1's rmse: 1.58019\n",
      "[600]\ttraining's rmse: 1.559\tvalid_1's rmse: 1.57569\n",
      "[700]\ttraining's rmse: 1.55356\tvalid_1's rmse: 1.57233\n",
      "[800]\ttraining's rmse: 1.54895\tvalid_1's rmse: 1.56973\n",
      "[900]\ttraining's rmse: 1.54491\tvalid_1's rmse: 1.56783\n",
      "[1000]\ttraining's rmse: 1.54136\tvalid_1's rmse: 1.56637\n",
      "[1100]\ttraining's rmse: 1.53814\tvalid_1's rmse: 1.56517\n",
      "[1200]\ttraining's rmse: 1.53518\tvalid_1's rmse: 1.56419\n",
      "[1300]\ttraining's rmse: 1.53244\tvalid_1's rmse: 1.56349\n",
      "[1400]\ttraining's rmse: 1.52985\tvalid_1's rmse: 1.56288\n",
      "[1500]\ttraining's rmse: 1.52741\tvalid_1's rmse: 1.56238\n",
      "[1600]\ttraining's rmse: 1.52506\tvalid_1's rmse: 1.56199\n",
      "[1700]\ttraining's rmse: 1.52281\tvalid_1's rmse: 1.56169\n",
      "[1800]\ttraining's rmse: 1.52068\tvalid_1's rmse: 1.56143\n",
      "[1900]\ttraining's rmse: 1.51861\tvalid_1's rmse: 1.56115\n",
      "[2000]\ttraining's rmse: 1.51661\tvalid_1's rmse: 1.56094\n",
      "[2100]\ttraining's rmse: 1.51459\tvalid_1's rmse: 1.56078\n",
      "[2200]\ttraining's rmse: 1.51271\tvalid_1's rmse: 1.56064\n",
      "[2300]\ttraining's rmse: 1.51085\tvalid_1's rmse: 1.56049\n",
      "[2400]\ttraining's rmse: 1.50904\tvalid_1's rmse: 1.56042\n",
      "[2500]\ttraining's rmse: 1.50726\tvalid_1's rmse: 1.5603\n",
      "[2600]\ttraining's rmse: 1.50549\tvalid_1's rmse: 1.56021\n",
      "[2700]\ttraining's rmse: 1.50373\tvalid_1's rmse: 1.56011\n",
      "[2800]\ttraining's rmse: 1.50199\tvalid_1's rmse: 1.55999\n",
      "[2900]\ttraining's rmse: 1.50023\tvalid_1's rmse: 1.5599\n",
      "[3000]\ttraining's rmse: 1.49854\tvalid_1's rmse: 1.55979\n",
      "[3100]\ttraining's rmse: 1.49679\tvalid_1's rmse: 1.55971\n",
      "[3200]\ttraining's rmse: 1.49515\tvalid_1's rmse: 1.55964\n",
      "[3300]\ttraining's rmse: 1.49351\tvalid_1's rmse: 1.55955\n",
      "[3400]\ttraining's rmse: 1.49186\tvalid_1's rmse: 1.55953\n",
      "[3500]\ttraining's rmse: 1.49023\tvalid_1's rmse: 1.55949\n",
      "[3600]\ttraining's rmse: 1.48868\tvalid_1's rmse: 1.55949\n",
      "[3700]\ttraining's rmse: 1.48702\tvalid_1's rmse: 1.55942\n",
      "[3800]\ttraining's rmse: 1.48545\tvalid_1's rmse: 1.55939\n",
      "[3900]\ttraining's rmse: 1.48387\tvalid_1's rmse: 1.55937\n",
      "[4000]\ttraining's rmse: 1.48229\tvalid_1's rmse: 1.55929\n",
      "[4100]\ttraining's rmse: 1.4807\tvalid_1's rmse: 1.5593\n",
      "[4200]\ttraining's rmse: 1.47915\tvalid_1's rmse: 1.55925\n",
      "[4300]\ttraining's rmse: 1.47761\tvalid_1's rmse: 1.55925\n",
      "[4400]\ttraining's rmse: 1.47608\tvalid_1's rmse: 1.55919\n",
      "[4500]\ttraining's rmse: 1.47455\tvalid_1's rmse: 1.55919\n",
      "[4600]\ttraining's rmse: 1.47299\tvalid_1's rmse: 1.55918\n",
      "[4700]\ttraining's rmse: 1.47152\tvalid_1's rmse: 1.55919\n",
      "[4800]\ttraining's rmse: 1.47006\tvalid_1's rmse: 1.55923\n",
      "Early stopping, best iteration is:\n",
      "[4640]\ttraining's rmse: 1.47238\tvalid_1's rmse: 1.55916\n",
      "fold n°2\n",
      "Training until validation scores don't improve for 200 rounds.\n",
      "[100]\ttraining's rmse: 1.64756\tvalid_1's rmse: 1.6278\n",
      "[200]\ttraining's rmse: 1.61145\tvalid_1's rmse: 1.59347\n",
      "[300]\ttraining's rmse: 1.59174\tvalid_1's rmse: 1.57566\n",
      "[400]\ttraining's rmse: 1.57945\tvalid_1's rmse: 1.56544\n",
      "[500]\ttraining's rmse: 1.57086\tvalid_1's rmse: 1.55886\n",
      "[600]\ttraining's rmse: 1.56429\tvalid_1's rmse: 1.55429\n",
      "[700]\ttraining's rmse: 1.55893\tvalid_1's rmse: 1.5509\n",
      "[800]\ttraining's rmse: 1.55439\tvalid_1's rmse: 1.54837\n",
      "[900]\ttraining's rmse: 1.55046\tvalid_1's rmse: 1.54641\n",
      "[1000]\ttraining's rmse: 1.54697\tvalid_1's rmse: 1.54483\n",
      "[1100]\ttraining's rmse: 1.54376\tvalid_1's rmse: 1.54355\n",
      "[1200]\ttraining's rmse: 1.54079\tvalid_1's rmse: 1.5425\n",
      "[1300]\ttraining's rmse: 1.53799\tvalid_1's rmse: 1.54167\n",
      "[1400]\ttraining's rmse: 1.53545\tvalid_1's rmse: 1.54103\n",
      "[1500]\ttraining's rmse: 1.53301\tvalid_1's rmse: 1.54048\n",
      "[1600]\ttraining's rmse: 1.53073\tvalid_1's rmse: 1.54001\n",
      "[1700]\ttraining's rmse: 1.52849\tvalid_1's rmse: 1.53966\n",
      "[1800]\ttraining's rmse: 1.52641\tvalid_1's rmse: 1.53939\n",
      "[1900]\ttraining's rmse: 1.52437\tvalid_1's rmse: 1.53916\n",
      "[2000]\ttraining's rmse: 1.5224\tvalid_1's rmse: 1.53896\n",
      "[2100]\ttraining's rmse: 1.52048\tvalid_1's rmse: 1.53874\n",
      "[2200]\ttraining's rmse: 1.51856\tvalid_1's rmse: 1.53859\n",
      "[2300]\ttraining's rmse: 1.51666\tvalid_1's rmse: 1.53843\n",
      "[2400]\ttraining's rmse: 1.51485\tvalid_1's rmse: 1.53831\n",
      "[2500]\ttraining's rmse: 1.51302\tvalid_1's rmse: 1.53819\n",
      "[2600]\ttraining's rmse: 1.51123\tvalid_1's rmse: 1.53805\n",
      "[2700]\ttraining's rmse: 1.50946\tvalid_1's rmse: 1.53793\n",
      "[2800]\ttraining's rmse: 1.50767\tvalid_1's rmse: 1.53784\n",
      "[2900]\ttraining's rmse: 1.50595\tvalid_1's rmse: 1.53771\n",
      "[3000]\ttraining's rmse: 1.50425\tvalid_1's rmse: 1.5376\n",
      "[3100]\ttraining's rmse: 1.50255\tvalid_1's rmse: 1.53751\n",
      "[3200]\ttraining's rmse: 1.50084\tvalid_1's rmse: 1.53747\n",
      "[3300]\ttraining's rmse: 1.49913\tvalid_1's rmse: 1.53738\n",
      "[3400]\ttraining's rmse: 1.49745\tvalid_1's rmse: 1.53734\n"
     ]
    },
    {
     "name": "stdout",
     "output_type": "stream",
     "text": [
      "[3500]\ttraining's rmse: 1.49585\tvalid_1's rmse: 1.53725\n",
      "[3600]\ttraining's rmse: 1.49423\tvalid_1's rmse: 1.53719\n",
      "[3700]\ttraining's rmse: 1.49258\tvalid_1's rmse: 1.53712\n",
      "[3800]\ttraining's rmse: 1.49097\tvalid_1's rmse: 1.53709\n",
      "[3900]\ttraining's rmse: 1.48939\tvalid_1's rmse: 1.53707\n",
      "[4000]\ttraining's rmse: 1.48776\tvalid_1's rmse: 1.53703\n",
      "[4100]\ttraining's rmse: 1.48615\tvalid_1's rmse: 1.53699\n",
      "[4200]\ttraining's rmse: 1.48458\tvalid_1's rmse: 1.53696\n",
      "[4300]\ttraining's rmse: 1.48301\tvalid_1's rmse: 1.53691\n",
      "[4400]\ttraining's rmse: 1.48149\tvalid_1's rmse: 1.53685\n",
      "[4500]\ttraining's rmse: 1.47992\tvalid_1's rmse: 1.53681\n",
      "[4600]\ttraining's rmse: 1.47832\tvalid_1's rmse: 1.53676\n",
      "[4700]\ttraining's rmse: 1.47684\tvalid_1's rmse: 1.53669\n",
      "[4800]\ttraining's rmse: 1.47531\tvalid_1's rmse: 1.53666\n",
      "[4900]\ttraining's rmse: 1.47373\tvalid_1's rmse: 1.53664\n",
      "[5000]\ttraining's rmse: 1.4722\tvalid_1's rmse: 1.53658\n",
      "[5100]\ttraining's rmse: 1.47065\tvalid_1's rmse: 1.53655\n",
      "[5200]\ttraining's rmse: 1.46917\tvalid_1's rmse: 1.53649\n",
      "[5300]\ttraining's rmse: 1.46765\tvalid_1's rmse: 1.5365\n",
      "[5400]\ttraining's rmse: 1.46613\tvalid_1's rmse: 1.5365\n",
      "Early stopping, best iteration is:\n",
      "[5227]\ttraining's rmse: 1.46878\tvalid_1's rmse: 1.53648\n",
      "fold n°3\n",
      "Training until validation scores don't improve for 200 rounds.\n",
      "[100]\ttraining's rmse: 1.64255\tvalid_1's rmse: 1.6489\n",
      "[200]\ttraining's rmse: 1.60639\tvalid_1's rmse: 1.61477\n",
      "[300]\ttraining's rmse: 1.58664\tvalid_1's rmse: 1.597\n",
      "[400]\ttraining's rmse: 1.57437\tvalid_1's rmse: 1.5868\n",
      "[500]\ttraining's rmse: 1.56571\tvalid_1's rmse: 1.58001\n",
      "[600]\ttraining's rmse: 1.55914\tvalid_1's rmse: 1.57536\n",
      "[700]\ttraining's rmse: 1.55369\tvalid_1's rmse: 1.5718\n",
      "[800]\ttraining's rmse: 1.5491\tvalid_1's rmse: 1.5692\n",
      "[900]\ttraining's rmse: 1.54514\tvalid_1's rmse: 1.56722\n",
      "[1000]\ttraining's rmse: 1.54156\tvalid_1's rmse: 1.56569\n",
      "[1100]\ttraining's rmse: 1.53832\tvalid_1's rmse: 1.56453\n",
      "[1200]\ttraining's rmse: 1.53535\tvalid_1's rmse: 1.56356\n",
      "[1300]\ttraining's rmse: 1.5326\tvalid_1's rmse: 1.56281\n",
      "[1400]\ttraining's rmse: 1.53004\tvalid_1's rmse: 1.56214\n",
      "[1500]\ttraining's rmse: 1.52763\tvalid_1's rmse: 1.5616\n",
      "[1600]\ttraining's rmse: 1.52535\tvalid_1's rmse: 1.56118\n",
      "[1700]\ttraining's rmse: 1.52309\tvalid_1's rmse: 1.56072\n",
      "[1800]\ttraining's rmse: 1.52094\tvalid_1's rmse: 1.56039\n",
      "[1900]\ttraining's rmse: 1.51888\tvalid_1's rmse: 1.56011\n",
      "[2000]\ttraining's rmse: 1.51691\tvalid_1's rmse: 1.55993\n",
      "[2100]\ttraining's rmse: 1.51493\tvalid_1's rmse: 1.55974\n",
      "[2200]\ttraining's rmse: 1.51298\tvalid_1's rmse: 1.55964\n",
      "[2300]\ttraining's rmse: 1.51111\tvalid_1's rmse: 1.5595\n",
      "[2400]\ttraining's rmse: 1.50924\tvalid_1's rmse: 1.55936\n",
      "[2500]\ttraining's rmse: 1.50739\tvalid_1's rmse: 1.55928\n",
      "[2600]\ttraining's rmse: 1.50558\tvalid_1's rmse: 1.55914\n",
      "[2700]\ttraining's rmse: 1.50384\tvalid_1's rmse: 1.559\n",
      "[2800]\ttraining's rmse: 1.50211\tvalid_1's rmse: 1.55894\n",
      "[2900]\ttraining's rmse: 1.5004\tvalid_1's rmse: 1.55892\n",
      "[3000]\ttraining's rmse: 1.49865\tvalid_1's rmse: 1.55888\n",
      "[3100]\ttraining's rmse: 1.49699\tvalid_1's rmse: 1.55882\n",
      "[3200]\ttraining's rmse: 1.49535\tvalid_1's rmse: 1.55877\n",
      "[3300]\ttraining's rmse: 1.49371\tvalid_1's rmse: 1.55868\n",
      "[3400]\ttraining's rmse: 1.49202\tvalid_1's rmse: 1.5586\n",
      "[3500]\ttraining's rmse: 1.49035\tvalid_1's rmse: 1.55853\n",
      "[3600]\ttraining's rmse: 1.48869\tvalid_1's rmse: 1.55852\n",
      "[3700]\ttraining's rmse: 1.48707\tvalid_1's rmse: 1.55846\n",
      "[3800]\ttraining's rmse: 1.48547\tvalid_1's rmse: 1.55842\n",
      "[3900]\ttraining's rmse: 1.48387\tvalid_1's rmse: 1.55836\n",
      "[4000]\ttraining's rmse: 1.48228\tvalid_1's rmse: 1.55831\n",
      "[4100]\ttraining's rmse: 1.48075\tvalid_1's rmse: 1.55823\n",
      "[4200]\ttraining's rmse: 1.47918\tvalid_1's rmse: 1.55819\n",
      "[4300]\ttraining's rmse: 1.47763\tvalid_1's rmse: 1.55814\n",
      "[4400]\ttraining's rmse: 1.47607\tvalid_1's rmse: 1.5581\n",
      "[4500]\ttraining's rmse: 1.47451\tvalid_1's rmse: 1.5581\n",
      "[4600]\ttraining's rmse: 1.47298\tvalid_1's rmse: 1.55809\n",
      "[4700]\ttraining's rmse: 1.47155\tvalid_1's rmse: 1.55807\n",
      "[4800]\ttraining's rmse: 1.47001\tvalid_1's rmse: 1.558\n",
      "[4900]\ttraining's rmse: 1.46846\tvalid_1's rmse: 1.55797\n",
      "[5000]\ttraining's rmse: 1.46697\tvalid_1's rmse: 1.55795\n",
      "[5100]\ttraining's rmse: 1.46555\tvalid_1's rmse: 1.55792\n",
      "[5200]\ttraining's rmse: 1.46405\tvalid_1's rmse: 1.55792\n",
      "[5300]\ttraining's rmse: 1.46259\tvalid_1's rmse: 1.55795\n",
      "[5400]\ttraining's rmse: 1.46114\tvalid_1's rmse: 1.55796\n",
      "Early stopping, best iteration is:\n",
      "[5231]\ttraining's rmse: 1.4636\tvalid_1's rmse: 1.5579\n",
      "fold n°4\n",
      "Training until validation scores don't improve for 200 rounds.\n",
      "[100]\ttraining's rmse: 1.64174\tvalid_1's rmse: 1.65207\n",
      "[200]\ttraining's rmse: 1.60556\tvalid_1's rmse: 1.61758\n",
      "[300]\ttraining's rmse: 1.58594\tvalid_1's rmse: 1.59979\n",
      "[400]\ttraining's rmse: 1.57367\tvalid_1's rmse: 1.58927\n",
      "[500]\ttraining's rmse: 1.56505\tvalid_1's rmse: 1.58242\n",
      "[600]\ttraining's rmse: 1.55851\tvalid_1's rmse: 1.5778\n",
      "[700]\ttraining's rmse: 1.55312\tvalid_1's rmse: 1.57429\n",
      "[800]\ttraining's rmse: 1.54846\tvalid_1's rmse: 1.57156\n",
      "[900]\ttraining's rmse: 1.54453\tvalid_1's rmse: 1.56955\n",
      "[1000]\ttraining's rmse: 1.54094\tvalid_1's rmse: 1.56795\n",
      "[1100]\ttraining's rmse: 1.53766\tvalid_1's rmse: 1.5667\n",
      "[1200]\ttraining's rmse: 1.53474\tvalid_1's rmse: 1.56576\n",
      "[1300]\ttraining's rmse: 1.53199\tvalid_1's rmse: 1.56498\n",
      "[1400]\ttraining's rmse: 1.52937\tvalid_1's rmse: 1.56437\n",
      "[1500]\ttraining's rmse: 1.52694\tvalid_1's rmse: 1.5639\n",
      "[1600]\ttraining's rmse: 1.52462\tvalid_1's rmse: 1.56352\n",
      "[1700]\ttraining's rmse: 1.5224\tvalid_1's rmse: 1.56321\n",
      "[1800]\ttraining's rmse: 1.52022\tvalid_1's rmse: 1.56295\n",
      "[1900]\ttraining's rmse: 1.5182\tvalid_1's rmse: 1.56267\n",
      "[2000]\ttraining's rmse: 1.51621\tvalid_1's rmse: 1.56249\n",
      "[2100]\ttraining's rmse: 1.51425\tvalid_1's rmse: 1.56234\n",
      "[2200]\ttraining's rmse: 1.5124\tvalid_1's rmse: 1.56216\n",
      "[2300]\ttraining's rmse: 1.51053\tvalid_1's rmse: 1.56204\n",
      "[2400]\ttraining's rmse: 1.50868\tvalid_1's rmse: 1.56192\n",
      "[2500]\ttraining's rmse: 1.50686\tvalid_1's rmse: 1.56179\n",
      "[2600]\ttraining's rmse: 1.50507\tvalid_1's rmse: 1.56166\n",
      "[2700]\ttraining's rmse: 1.50329\tvalid_1's rmse: 1.56161\n",
      "[2800]\ttraining's rmse: 1.50157\tvalid_1's rmse: 1.56154\n",
      "[2900]\ttraining's rmse: 1.49986\tvalid_1's rmse: 1.56149\n",
      "[3000]\ttraining's rmse: 1.4981\tvalid_1's rmse: 1.5614\n",
      "[3100]\ttraining's rmse: 1.49639\tvalid_1's rmse: 1.56132\n",
      "[3200]\ttraining's rmse: 1.49478\tvalid_1's rmse: 1.5613\n",
      "[3300]\ttraining's rmse: 1.49309\tvalid_1's rmse: 1.56124\n",
      "[3400]\ttraining's rmse: 1.4914\tvalid_1's rmse: 1.56122\n",
      "[3500]\ttraining's rmse: 1.48978\tvalid_1's rmse: 1.56118\n",
      "[3600]\ttraining's rmse: 1.48816\tvalid_1's rmse: 1.56114\n",
      "[3700]\ttraining's rmse: 1.48655\tvalid_1's rmse: 1.56116\n",
      "Early stopping, best iteration is:\n",
      "[3571]\ttraining's rmse: 1.48863\tvalid_1's rmse: 1.56113\n",
      "CV score: 1.55502 \n"
     ]
    }
   ],
   "source": [
    "param = {'num_leaves': 31,\n",
    "         'min_data_in_leaf': 32, \n",
    "         'objective':'regression',\n",
    "         'max_depth': -1,\n",
    "         'learning_rate': 0.005,\n",
    "         \"min_child_samples\": 20,\n",
    "         \"boosting\": \"gbdt\",\n",
    "         \"feature_fraction\": 0.9,\n",
    "         \"bagging_freq\": 1,\n",
    "         \"bagging_fraction\": 0.9 ,\n",
    "         \"bagging_seed\": 11,\n",
    "         \"metric\": 'rmse',\n",
    "         \"lambda_l1\": 0.1,\n",
    "         \"nthread\": 4,\n",
    "         \"verbosity\": -1}\n",
    "\n",
    "folds = StratifiedKFold(n_splits=5, shuffle=True, random_state=15)\n",
    "oof = np.zeros(len(df_train1))\n",
    "predictions = np.zeros(len(df_test))\n",
    "feature_importance_df = pd.DataFrame()\n",
    "\n",
    "for fold_, (trn_idx, val_idx) in enumerate(folds.split(df_train1.values, df_train1['outliers'].values)):\n",
    "    print(\"fold n°{}\".format(fold_))\n",
    "    trn_data = lgb.Dataset(df_train1.iloc[trn_idx][df_train_columns], label=target.iloc[trn_idx],categorical_feature=['feature_1','feature_2','feature_3'])#, categorical_feature=categorical_feats)\n",
    "    val_data = lgb.Dataset(df_train1.iloc[val_idx][df_train_columns], label=target.iloc[val_idx],categorical_feature=['feature_1', 'feature_2','feature_3'])#, categorical_feature=categorical_feats)\n",
    "\n",
    "    num_round = 10000\n",
    "    clf = lgb.train(param, trn_data, num_round, valid_sets = [trn_data, val_data], verbose_eval=100, early_stopping_rounds = 200)\n",
    "    oof[val_idx] = clf.predict(df_train1.iloc[val_idx][df_train_columns], num_iteration=clf.best_iteration)\n",
    "    \n",
    "    fold_importance_df = pd.DataFrame()\n",
    "    fold_importance_df[\"feature\"] = df_train_columns\n",
    "    fold_importance_df[\"importance\"] = clf.feature_importance()\n",
    "    fold_importance_df[\"fold\"] = fold_ + 1\n",
    "    feature_importance_df = pd.concat([feature_importance_df, fold_importance_df], axis=0)\n",
    "    \n",
    "    predictions += clf.predict(df_test[df_train_columns], num_iteration=clf.best_iteration) / folds.n_splits\n",
    "\n",
    "print(\"CV score: {:<8.5f}\".format(mean_squared_error(oof, target)**0.5))\n"
   ]
  },
  {
   "cell_type": "code",
   "execution_count": 361,
   "metadata": {},
   "outputs": [
    {
     "name": "stdout",
     "output_type": "stream",
     "text": [
      "fold n°0\n",
      "Training until validation scores don't improve for 100 rounds.\n",
      "[100]\ttraining's rmse: 1.60625\tvalid_1's rmse: 1.61426\n",
      "[200]\ttraining's rmse: 1.57443\tvalid_1's rmse: 1.58652\n",
      "[300]\ttraining's rmse: 1.55907\tvalid_1's rmse: 1.57509\n",
      "[400]\ttraining's rmse: 1.54926\tvalid_1's rmse: 1.56914\n",
      "[500]\ttraining's rmse: 1.54188\tvalid_1's rmse: 1.56567\n",
      "[600]\ttraining's rmse: 1.53575\tvalid_1's rmse: 1.56341\n",
      "[700]\ttraining's rmse: 1.53051\tvalid_1's rmse: 1.56213\n",
      "[800]\ttraining's rmse: 1.52571\tvalid_1's rmse: 1.56123\n",
      "[900]\ttraining's rmse: 1.52132\tvalid_1's rmse: 1.56059\n",
      "[1000]\ttraining's rmse: 1.51738\tvalid_1's rmse: 1.5601\n",
      "[1100]\ttraining's rmse: 1.51353\tvalid_1's rmse: 1.5597\n",
      "[1200]\ttraining's rmse: 1.50982\tvalid_1's rmse: 1.55947\n",
      "[1300]\ttraining's rmse: 1.50633\tvalid_1's rmse: 1.55928\n",
      "[1400]\ttraining's rmse: 1.50277\tvalid_1's rmse: 1.55911\n",
      "[1500]\ttraining's rmse: 1.49938\tvalid_1's rmse: 1.559\n",
      "[1600]\ttraining's rmse: 1.49611\tvalid_1's rmse: 1.55896\n",
      "[1700]\ttraining's rmse: 1.4929\tvalid_1's rmse: 1.55876\n",
      "[1800]\ttraining's rmse: 1.48964\tvalid_1's rmse: 1.55868\n",
      "[1900]\ttraining's rmse: 1.48638\tvalid_1's rmse: 1.55855\n",
      "[2000]\ttraining's rmse: 1.48323\tvalid_1's rmse: 1.55852\n",
      "[2100]\ttraining's rmse: 1.48012\tvalid_1's rmse: 1.5584\n",
      "[2200]\ttraining's rmse: 1.477\tvalid_1's rmse: 1.55839\n",
      "[2300]\ttraining's rmse: 1.47398\tvalid_1's rmse: 1.55832\n",
      "[2400]\ttraining's rmse: 1.47091\tvalid_1's rmse: 1.55827\n",
      "[2500]\ttraining's rmse: 1.46806\tvalid_1's rmse: 1.55828\n",
      "Early stopping, best iteration is:\n",
      "[2464]\ttraining's rmse: 1.46907\tvalid_1's rmse: 1.55824\n",
      "fold n°1\n",
      "Training until validation scores don't improve for 100 rounds.\n",
      "[100]\ttraining's rmse: 1.60942\tvalid_1's rmse: 1.60091\n",
      "[200]\ttraining's rmse: 1.57761\tvalid_1's rmse: 1.57278\n",
      "[300]\ttraining's rmse: 1.56233\tvalid_1's rmse: 1.56169\n",
      "[400]\ttraining's rmse: 1.55225\tvalid_1's rmse: 1.55576\n",
      "[500]\ttraining's rmse: 1.54465\tvalid_1's rmse: 1.55253\n",
      "[600]\ttraining's rmse: 1.53839\tvalid_1's rmse: 1.55044\n",
      "[700]\ttraining's rmse: 1.53301\tvalid_1's rmse: 1.54926\n",
      "[800]\ttraining's rmse: 1.52831\tvalid_1's rmse: 1.54856\n",
      "[900]\ttraining's rmse: 1.52401\tvalid_1's rmse: 1.54798\n",
      "[1000]\ttraining's rmse: 1.51999\tvalid_1's rmse: 1.54773\n",
      "[1100]\ttraining's rmse: 1.51619\tvalid_1's rmse: 1.54744\n",
      "[1200]\ttraining's rmse: 1.51248\tvalid_1's rmse: 1.54724\n",
      "[1300]\ttraining's rmse: 1.5088\tvalid_1's rmse: 1.54702\n",
      "[1400]\ttraining's rmse: 1.50514\tvalid_1's rmse: 1.54688\n",
      "[1500]\ttraining's rmse: 1.50172\tvalid_1's rmse: 1.54672\n",
      "[1600]\ttraining's rmse: 1.49828\tvalid_1's rmse: 1.54669\n",
      "[1700]\ttraining's rmse: 1.49496\tvalid_1's rmse: 1.54668\n",
      "Early stopping, best iteration is:\n",
      "[1651]\ttraining's rmse: 1.49667\tvalid_1's rmse: 1.54663\n",
      "fold n°2\n",
      "Training until validation scores don't improve for 100 rounds.\n",
      "[100]\ttraining's rmse: 1.60882\tvalid_1's rmse: 1.60435\n",
      "[200]\ttraining's rmse: 1.57693\tvalid_1's rmse: 1.57683\n",
      "[300]\ttraining's rmse: 1.56167\tvalid_1's rmse: 1.56566\n",
      "[400]\ttraining's rmse: 1.55173\tvalid_1's rmse: 1.55957\n",
      "[500]\ttraining's rmse: 1.54402\tvalid_1's rmse: 1.55594\n",
      "[600]\ttraining's rmse: 1.53776\tvalid_1's rmse: 1.55371\n",
      "[700]\ttraining's rmse: 1.53237\tvalid_1's rmse: 1.55235\n",
      "[800]\ttraining's rmse: 1.52753\tvalid_1's rmse: 1.55142\n",
      "[900]\ttraining's rmse: 1.52308\tvalid_1's rmse: 1.55085\n",
      "[1000]\ttraining's rmse: 1.51905\tvalid_1's rmse: 1.55047\n",
      "[1100]\ttraining's rmse: 1.51515\tvalid_1's rmse: 1.5501\n",
      "[1200]\ttraining's rmse: 1.51147\tvalid_1's rmse: 1.54984\n",
      "[1300]\ttraining's rmse: 1.50777\tvalid_1's rmse: 1.5495\n",
      "[1400]\ttraining's rmse: 1.50434\tvalid_1's rmse: 1.5493\n",
      "[1500]\ttraining's rmse: 1.50091\tvalid_1's rmse: 1.5491\n",
      "[1600]\ttraining's rmse: 1.49756\tvalid_1's rmse: 1.54896\n",
      "[1700]\ttraining's rmse: 1.49426\tvalid_1's rmse: 1.54879\n",
      "[1800]\ttraining's rmse: 1.4909\tvalid_1's rmse: 1.54872\n",
      "[1900]\ttraining's rmse: 1.48764\tvalid_1's rmse: 1.54866\n",
      "[2000]\ttraining's rmse: 1.48455\tvalid_1's rmse: 1.54864\n",
      "Early stopping, best iteration is:\n",
      "[1990]\ttraining's rmse: 1.48487\tvalid_1's rmse: 1.54861\n",
      "fold n°3\n",
      "Training until validation scores don't improve for 100 rounds.\n",
      "[100]\ttraining's rmse: 1.60485\tvalid_1's rmse: 1.61823\n",
      "[200]\ttraining's rmse: 1.57253\tvalid_1's rmse: 1.59154\n",
      "[300]\ttraining's rmse: 1.55727\tvalid_1's rmse: 1.58121\n",
      "[400]\ttraining's rmse: 1.5473\tvalid_1's rmse: 1.57546\n",
      "[500]\ttraining's rmse: 1.5398\tvalid_1's rmse: 1.57204\n",
      "[600]\ttraining's rmse: 1.53368\tvalid_1's rmse: 1.57004\n",
      "[700]\ttraining's rmse: 1.52829\tvalid_1's rmse: 1.56863\n",
      "[800]\ttraining's rmse: 1.52346\tvalid_1's rmse: 1.56773\n",
      "[900]\ttraining's rmse: 1.51908\tvalid_1's rmse: 1.5671\n",
      "[1000]\ttraining's rmse: 1.51503\tvalid_1's rmse: 1.56657\n",
      "[1100]\ttraining's rmse: 1.51114\tvalid_1's rmse: 1.56621\n",
      "[1200]\ttraining's rmse: 1.50741\tvalid_1's rmse: 1.56593\n",
      "[1300]\ttraining's rmse: 1.50381\tvalid_1's rmse: 1.5656\n",
      "[1400]\ttraining's rmse: 1.50037\tvalid_1's rmse: 1.56535\n",
      "[1500]\ttraining's rmse: 1.49688\tvalid_1's rmse: 1.56518\n",
      "[1600]\ttraining's rmse: 1.49341\tvalid_1's rmse: 1.56508\n",
      "[1700]\ttraining's rmse: 1.49006\tvalid_1's rmse: 1.56485\n",
      "[1800]\ttraining's rmse: 1.48691\tvalid_1's rmse: 1.5648\n",
      "[1900]\ttraining's rmse: 1.48378\tvalid_1's rmse: 1.56472\n",
      "[2000]\ttraining's rmse: 1.48062\tvalid_1's rmse: 1.56463\n",
      "[2100]\ttraining's rmse: 1.47761\tvalid_1's rmse: 1.56459\n",
      "[2200]\ttraining's rmse: 1.47458\tvalid_1's rmse: 1.56445\n",
      "[2300]\ttraining's rmse: 1.47152\tvalid_1's rmse: 1.56433\n",
      "[2400]\ttraining's rmse: 1.46839\tvalid_1's rmse: 1.5642\n",
      "[2500]\ttraining's rmse: 1.46541\tvalid_1's rmse: 1.56412\n",
      "[2600]\ttraining's rmse: 1.46254\tvalid_1's rmse: 1.56414\n",
      "Early stopping, best iteration is:\n",
      "[2542]\ttraining's rmse: 1.46419\tvalid_1's rmse: 1.56407\n",
      "fold n°4\n",
      "Training until validation scores don't improve for 100 rounds.\n",
      "[100]\ttraining's rmse: 1.60545\tvalid_1's rmse: 1.6188\n",
      "[200]\ttraining's rmse: 1.57395\tvalid_1's rmse: 1.58974\n",
      "[300]\ttraining's rmse: 1.55881\tvalid_1's rmse: 1.57769\n",
      "[400]\ttraining's rmse: 1.54902\tvalid_1's rmse: 1.57136\n",
      "[500]\ttraining's rmse: 1.54153\tvalid_1's rmse: 1.56758\n",
      "[600]\ttraining's rmse: 1.53531\tvalid_1's rmse: 1.56498\n",
      "[700]\ttraining's rmse: 1.52998\tvalid_1's rmse: 1.56336\n",
      "[800]\ttraining's rmse: 1.52514\tvalid_1's rmse: 1.56242\n",
      "[900]\ttraining's rmse: 1.52076\tvalid_1's rmse: 1.56172\n",
      "[1000]\ttraining's rmse: 1.51665\tvalid_1's rmse: 1.5612\n",
      "[1100]\ttraining's rmse: 1.51282\tvalid_1's rmse: 1.5608\n",
      "[1200]\ttraining's rmse: 1.50901\tvalid_1's rmse: 1.56054\n",
      "[1300]\ttraining's rmse: 1.50531\tvalid_1's rmse: 1.56017\n",
      "[1400]\ttraining's rmse: 1.50174\tvalid_1's rmse: 1.55996\n",
      "[1500]\ttraining's rmse: 1.49836\tvalid_1's rmse: 1.55979\n",
      "[1600]\ttraining's rmse: 1.49497\tvalid_1's rmse: 1.55964\n",
      "[1700]\ttraining's rmse: 1.49171\tvalid_1's rmse: 1.55957\n",
      "[1800]\ttraining's rmse: 1.48845\tvalid_1's rmse: 1.55946\n",
      "[1900]\ttraining's rmse: 1.48534\tvalid_1's rmse: 1.55931\n",
      "[2000]\ttraining's rmse: 1.48211\tvalid_1's rmse: 1.55922\n",
      "[2100]\ttraining's rmse: 1.47895\tvalid_1's rmse: 1.55912\n",
      "[2200]\ttraining's rmse: 1.47581\tvalid_1's rmse: 1.55905\n",
      "[2300]\ttraining's rmse: 1.47269\tvalid_1's rmse: 1.55898\n",
      "[2400]\ttraining's rmse: 1.4696\tvalid_1's rmse: 1.55897\n",
      "[2500]\ttraining's rmse: 1.4666\tvalid_1's rmse: 1.55887\n",
      "[2600]\ttraining's rmse: 1.46366\tvalid_1's rmse: 1.55883\n",
      "Early stopping, best iteration is:\n",
      "[2596]\ttraining's rmse: 1.46378\tvalid_1's rmse: 1.55882\n",
      "fold n°5\n",
      "Training until validation scores don't improve for 100 rounds.\n",
      "[100]\ttraining's rmse: 1.60547\tvalid_1's rmse: 1.61785\n",
      "[200]\ttraining's rmse: 1.57336\tvalid_1's rmse: 1.58992\n",
      "[300]\ttraining's rmse: 1.5579\tvalid_1's rmse: 1.57888\n",
      "[400]\ttraining's rmse: 1.54794\tvalid_1's rmse: 1.57313\n",
      "[500]\ttraining's rmse: 1.54036\tvalid_1's rmse: 1.56992\n",
      "[600]\ttraining's rmse: 1.53411\tvalid_1's rmse: 1.56792\n",
      "[700]\ttraining's rmse: 1.5287\tvalid_1's rmse: 1.56665\n",
      "[800]\ttraining's rmse: 1.52399\tvalid_1's rmse: 1.56579\n",
      "[900]\ttraining's rmse: 1.51958\tvalid_1's rmse: 1.56516\n",
      "[1000]\ttraining's rmse: 1.51555\tvalid_1's rmse: 1.56478\n",
      "[1100]\ttraining's rmse: 1.51172\tvalid_1's rmse: 1.56451\n",
      "[1200]\ttraining's rmse: 1.50798\tvalid_1's rmse: 1.5643\n",
      "[1300]\ttraining's rmse: 1.50442\tvalid_1's rmse: 1.56417\n",
      "[1400]\ttraining's rmse: 1.50097\tvalid_1's rmse: 1.56399\n",
      "[1500]\ttraining's rmse: 1.49758\tvalid_1's rmse: 1.56378\n",
      "[1600]\ttraining's rmse: 1.49417\tvalid_1's rmse: 1.5637\n",
      "[1700]\ttraining's rmse: 1.49089\tvalid_1's rmse: 1.56366\n",
      "[1800]\ttraining's rmse: 1.48762\tvalid_1's rmse: 1.56357\n"
     ]
    },
    {
     "name": "stdout",
     "output_type": "stream",
     "text": [
      "[1900]\ttraining's rmse: 1.48431\tvalid_1's rmse: 1.56346\n",
      "[2000]\ttraining's rmse: 1.48112\tvalid_1's rmse: 1.56335\n",
      "[2100]\ttraining's rmse: 1.47799\tvalid_1's rmse: 1.5633\n",
      "[2200]\ttraining's rmse: 1.4749\tvalid_1's rmse: 1.56329\n",
      "[2300]\ttraining's rmse: 1.47198\tvalid_1's rmse: 1.5632\n",
      "[2400]\ttraining's rmse: 1.46898\tvalid_1's rmse: 1.5632\n",
      "[2500]\ttraining's rmse: 1.46608\tvalid_1's rmse: 1.56312\n",
      "Early stopping, best iteration is:\n",
      "[2491]\ttraining's rmse: 1.46631\tvalid_1's rmse: 1.5631\n",
      "fold n°6\n",
      "Training until validation scores don't improve for 100 rounds.\n",
      "[100]\ttraining's rmse: 1.60835\tvalid_1's rmse: 1.60489\n",
      "[200]\ttraining's rmse: 1.57664\tvalid_1's rmse: 1.57776\n",
      "[300]\ttraining's rmse: 1.56139\tvalid_1's rmse: 1.56649\n",
      "[400]\ttraining's rmse: 1.55144\tvalid_1's rmse: 1.56039\n",
      "[500]\ttraining's rmse: 1.5438\tvalid_1's rmse: 1.55685\n",
      "[600]\ttraining's rmse: 1.53756\tvalid_1's rmse: 1.55471\n",
      "[700]\ttraining's rmse: 1.53216\tvalid_1's rmse: 1.55343\n",
      "[800]\ttraining's rmse: 1.52728\tvalid_1's rmse: 1.55252\n",
      "[900]\ttraining's rmse: 1.52286\tvalid_1's rmse: 1.55207\n",
      "[1000]\ttraining's rmse: 1.51873\tvalid_1's rmse: 1.55166\n",
      "[1100]\ttraining's rmse: 1.51474\tvalid_1's rmse: 1.5514\n",
      "[1200]\ttraining's rmse: 1.51085\tvalid_1's rmse: 1.55113\n",
      "[1300]\ttraining's rmse: 1.50709\tvalid_1's rmse: 1.55086\n",
      "[1400]\ttraining's rmse: 1.50361\tvalid_1's rmse: 1.55069\n",
      "[1500]\ttraining's rmse: 1.49999\tvalid_1's rmse: 1.55065\n",
      "[1600]\ttraining's rmse: 1.49645\tvalid_1's rmse: 1.55058\n",
      "[1700]\ttraining's rmse: 1.49314\tvalid_1's rmse: 1.55049\n",
      "[1800]\ttraining's rmse: 1.48983\tvalid_1's rmse: 1.55037\n",
      "[1900]\ttraining's rmse: 1.48652\tvalid_1's rmse: 1.55026\n",
      "[2000]\ttraining's rmse: 1.48336\tvalid_1's rmse: 1.55018\n",
      "[2100]\ttraining's rmse: 1.48013\tvalid_1's rmse: 1.55005\n",
      "[2200]\ttraining's rmse: 1.47698\tvalid_1's rmse: 1.55002\n",
      "[2300]\ttraining's rmse: 1.47382\tvalid_1's rmse: 1.54998\n",
      "Early stopping, best iteration is:\n",
      "[2273]\ttraining's rmse: 1.47472\tvalid_1's rmse: 1.54992\n",
      "fold n°7\n",
      "Training until validation scores don't improve for 100 rounds.\n",
      "[100]\ttraining's rmse: 1.60913\tvalid_1's rmse: 1.60219\n",
      "[200]\ttraining's rmse: 1.57723\tvalid_1's rmse: 1.57416\n",
      "[300]\ttraining's rmse: 1.56193\tvalid_1's rmse: 1.56305\n",
      "[400]\ttraining's rmse: 1.55194\tvalid_1's rmse: 1.55712\n",
      "[500]\ttraining's rmse: 1.54439\tvalid_1's rmse: 1.55374\n",
      "[600]\ttraining's rmse: 1.53808\tvalid_1's rmse: 1.55169\n",
      "[700]\ttraining's rmse: 1.5327\tvalid_1's rmse: 1.5504\n",
      "[800]\ttraining's rmse: 1.52787\tvalid_1's rmse: 1.54958\n",
      "[900]\ttraining's rmse: 1.52351\tvalid_1's rmse: 1.54899\n",
      "[1000]\ttraining's rmse: 1.51942\tvalid_1's rmse: 1.54854\n",
      "[1100]\ttraining's rmse: 1.51567\tvalid_1's rmse: 1.54824\n",
      "[1200]\ttraining's rmse: 1.51181\tvalid_1's rmse: 1.54793\n",
      "[1300]\ttraining's rmse: 1.50817\tvalid_1's rmse: 1.54786\n",
      "[1400]\ttraining's rmse: 1.50468\tvalid_1's rmse: 1.54773\n",
      "[1500]\ttraining's rmse: 1.5013\tvalid_1's rmse: 1.5476\n",
      "[1600]\ttraining's rmse: 1.49788\tvalid_1's rmse: 1.54745\n",
      "[1700]\ttraining's rmse: 1.49452\tvalid_1's rmse: 1.5473\n",
      "[1800]\ttraining's rmse: 1.49119\tvalid_1's rmse: 1.5472\n",
      "[1900]\ttraining's rmse: 1.48802\tvalid_1's rmse: 1.54713\n",
      "[2000]\ttraining's rmse: 1.48489\tvalid_1's rmse: 1.5471\n",
      "[2100]\ttraining's rmse: 1.48171\tvalid_1's rmse: 1.54703\n",
      "[2200]\ttraining's rmse: 1.47856\tvalid_1's rmse: 1.547\n",
      "[2300]\ttraining's rmse: 1.47555\tvalid_1's rmse: 1.54692\n",
      "[2400]\ttraining's rmse: 1.47246\tvalid_1's rmse: 1.54689\n",
      "[2500]\ttraining's rmse: 1.46943\tvalid_1's rmse: 1.54684\n",
      "[2600]\ttraining's rmse: 1.46641\tvalid_1's rmse: 1.54682\n",
      "[2700]\ttraining's rmse: 1.46354\tvalid_1's rmse: 1.54689\n",
      "Early stopping, best iteration is:\n",
      "[2604]\ttraining's rmse: 1.46629\tvalid_1's rmse: 1.54681\n",
      "fold n°8\n",
      "Training until validation scores don't improve for 100 rounds.\n",
      "[100]\ttraining's rmse: 1.60329\tvalid_1's rmse: 1.6267\n",
      "[200]\ttraining's rmse: 1.57162\tvalid_1's rmse: 1.59844\n",
      "[300]\ttraining's rmse: 1.55647\tvalid_1's rmse: 1.58674\n",
      "[400]\ttraining's rmse: 1.54656\tvalid_1's rmse: 1.5804\n",
      "[500]\ttraining's rmse: 1.53914\tvalid_1's rmse: 1.57666\n",
      "[600]\ttraining's rmse: 1.53298\tvalid_1's rmse: 1.57417\n",
      "[700]\ttraining's rmse: 1.5276\tvalid_1's rmse: 1.57269\n",
      "[800]\ttraining's rmse: 1.52288\tvalid_1's rmse: 1.57177\n",
      "[900]\ttraining's rmse: 1.51854\tvalid_1's rmse: 1.57111\n",
      "[1000]\ttraining's rmse: 1.51443\tvalid_1's rmse: 1.5707\n",
      "[1100]\ttraining's rmse: 1.51064\tvalid_1's rmse: 1.57025\n",
      "[1200]\ttraining's rmse: 1.50695\tvalid_1's rmse: 1.56991\n",
      "[1300]\ttraining's rmse: 1.50335\tvalid_1's rmse: 1.56964\n",
      "[1400]\ttraining's rmse: 1.49985\tvalid_1's rmse: 1.56951\n",
      "[1500]\ttraining's rmse: 1.49647\tvalid_1's rmse: 1.56938\n",
      "[1600]\ttraining's rmse: 1.49302\tvalid_1's rmse: 1.56911\n",
      "[1700]\ttraining's rmse: 1.48976\tvalid_1's rmse: 1.56906\n",
      "[1800]\ttraining's rmse: 1.48656\tvalid_1's rmse: 1.56895\n",
      "[1900]\ttraining's rmse: 1.48335\tvalid_1's rmse: 1.56888\n",
      "[2000]\ttraining's rmse: 1.48026\tvalid_1's rmse: 1.56883\n",
      "[2100]\ttraining's rmse: 1.47712\tvalid_1's rmse: 1.56874\n",
      "[2200]\ttraining's rmse: 1.47405\tvalid_1's rmse: 1.56872\n",
      "Early stopping, best iteration is:\n",
      "[2147]\ttraining's rmse: 1.4757\tvalid_1's rmse: 1.56869\n",
      "fold n°9\n",
      "Training until validation scores don't improve for 100 rounds.\n",
      "[100]\ttraining's rmse: 1.60849\tvalid_1's rmse: 1.60533\n",
      "[200]\ttraining's rmse: 1.57667\tvalid_1's rmse: 1.57732\n",
      "[300]\ttraining's rmse: 1.56143\tvalid_1's rmse: 1.56596\n",
      "[400]\ttraining's rmse: 1.55154\tvalid_1's rmse: 1.5601\n",
      "[500]\ttraining's rmse: 1.54401\tvalid_1's rmse: 1.55641\n",
      "[600]\ttraining's rmse: 1.53779\tvalid_1's rmse: 1.55423\n",
      "[700]\ttraining's rmse: 1.53247\tvalid_1's rmse: 1.55285\n",
      "[800]\ttraining's rmse: 1.5277\tvalid_1's rmse: 1.55191\n",
      "[900]\ttraining's rmse: 1.52335\tvalid_1's rmse: 1.55125\n",
      "[1000]\ttraining's rmse: 1.51931\tvalid_1's rmse: 1.55082\n",
      "[1100]\ttraining's rmse: 1.51548\tvalid_1's rmse: 1.55049\n",
      "[1200]\ttraining's rmse: 1.51173\tvalid_1's rmse: 1.55009\n",
      "[1300]\ttraining's rmse: 1.50801\tvalid_1's rmse: 1.54988\n",
      "[1400]\ttraining's rmse: 1.50449\tvalid_1's rmse: 1.54965\n",
      "[1500]\ttraining's rmse: 1.50106\tvalid_1's rmse: 1.54942\n",
      "[1600]\ttraining's rmse: 1.49762\tvalid_1's rmse: 1.54924\n",
      "[1700]\ttraining's rmse: 1.4943\tvalid_1's rmse: 1.54908\n",
      "[1800]\ttraining's rmse: 1.4911\tvalid_1's rmse: 1.54893\n",
      "[1900]\ttraining's rmse: 1.48787\tvalid_1's rmse: 1.54877\n",
      "[2000]\ttraining's rmse: 1.48464\tvalid_1's rmse: 1.54877\n",
      "Early stopping, best iteration is:\n",
      "[1939]\ttraining's rmse: 1.48666\tvalid_1's rmse: 1.54872\n",
      "CV score: 1.55547 \n"
     ]
    }
   ],
   "source": [
    "lgbparam = {'num_leaves': 31,\n",
    "            'boosting_type': 'rf',\n",
    "             'min_data_in_leaf': 30, \n",
    "             'objective':'regression',\n",
    "             'max_depth': -1,\n",
    "             'learning_rate': 0.01,\n",
    "             \"min_child_samples\": 20,\n",
    "             \"boosting\": \"gbdt\",\n",
    "             \"feature_fraction\": 0.9,\n",
    "             \"bagging_freq\": 1,\n",
    "             \"bagging_fraction\": 0.9 ,\n",
    "             \"bagging_seed\": 11,\n",
    "             \"metric\": 'rmse',\n",
    "             \"lambda_l1\": 0.1,\n",
    "             \"verbosity\": -1,\n",
    "             \"nthread\": 4,\n",
    "             \"random_state\": 4590}\n",
    "\n",
    "folds = RepeatedStratifiedKFold(n_splits=5, n_repeats=2, random_state=4520)\n",
    "\n",
    "oof_lgb = np.zeros(len(df_train1))\n",
    "predictions_lgb = np.zeros(len(df_test))\n",
    "feature_importance_df = pd.DataFrame()\n",
    "\n",
    "for fold_, (trn_idx, val_idx) in enumerate(folds.split(df_train1,df_train1['outliers'].values)):\n",
    "    print(\"fold n°{}\".format(fold_))\n",
    "    trn_data = lgb.Dataset(df_train1.iloc[trn_idx][df_train_columns], label=target.iloc[trn_idx],categorical_feature=['feature_1','feature_2','feature_3'])#, categorical_feature=categorical_feats)\n",
    "    val_data = lgb.Dataset(df_train1.iloc[val_idx][df_train_columns], label=target.iloc[val_idx],categorical_feature=['feature_1', 'feature_2','feature_3'])#, categorical_feature=categorical_feats)\n",
    "\n",
    "    num_round = 11000\n",
    "    clf = lgb.train(lgbparam, trn_data, num_round, valid_sets = [trn_data, val_data], verbose_eval=100, early_stopping_rounds = 100)\n",
    "    oof_lgb[val_idx] = clf.predict(df_train1.iloc[val_idx][df_train_columns], num_iteration=clf.best_iteration)\n",
    "\n",
    "    fold_importance_df = pd.DataFrame()\n",
    "    fold_importance_df[\"feature\"] = df_train_columns\n",
    "    fold_importance_df[\"importance\"] = clf.feature_importance()\n",
    "    fold_importance_df[\"fold\"] = fold_ + 1\n",
    "    feature_importance_df = pd.concat([feature_importance_df, fold_importance_df], axis=0)\n",
    "    \n",
    "    predictions_lgb += clf.predict(df_test[df_train_columns], num_iteration=clf.best_iteration) / (5 * 2)\n",
    "\n",
    "print(\"CV score: {:<8.5f}\".format(mean_squared_error(oof_lgb, target)**0.5))\n"
   ]
  },
  {
   "cell_type": "code",
   "execution_count": 362,
   "metadata": {},
   "outputs": [
    {
     "name": "stdout",
     "output_type": "stream",
     "text": [
      "fold n°0\n",
      "----------Stacking 0----------\n",
      "fold n°1\n",
      "----------Stacking 1----------\n",
      "fold n°2\n",
      "----------Stacking 2----------\n",
      "fold n°3\n",
      "----------Stacking 3----------\n",
      "fold n°4\n",
      "----------Stacking 4----------\n"
     ]
    },
    {
     "data": {
      "text/plain": [
       "1.5544492450406158"
      ]
     },
     "execution_count": 362,
     "metadata": {},
     "output_type": "execute_result"
    }
   ],
   "source": [
    "train_stack = np.vstack([oof,oof_lgb]).transpose()\n",
    "test_stack = np.vstack([predictions,predictions_lgb]).transpose()\n",
    "\n",
    "folds = RepeatedKFold(n_splits=5,n_repeats=1,random_state=4520)\n",
    "oof_stack = np.zeros(train_stack.shape[0])\n",
    "predictions_stack = np.zeros(test_stack.shape[0])\n",
    "\n",
    "for fold_, (trn_idx, val_idx) in enumerate(folds.split(train_stack, target)):\n",
    "    print(\"fold n°{}\".format(fold_))\n",
    "    trn_data, trn_y = train_stack[trn_idx], target.iloc[trn_idx].values\n",
    "    val_data, val_y = train_stack[val_idx], target.iloc[val_idx].values\n",
    "\n",
    "    print(\"-\" * 10 + \"Stacking \" + str(fold_) + \"-\" * 10)\n",
    "#     cb_model = CatBoostRegressor(iterations=3000, learning_rate=0.1, depth=8, l2_leaf_reg=20, bootstrap_type='Bernoulli',  eval_metric='RMSE', metric_period=50, od_type='Iter', od_wait=45, random_seed=17, allow_writing_files=False)\n",
    "#     cb_model.fit(trn_data, trn_y, eval_set=(val_data, val_y), cat_features=[], use_best_model=True, verbose=True)\n",
    "    clf = BayesianRidge()\n",
    "    clf.fit(trn_data, trn_y)\n",
    "    \n",
    "    oof_stack[val_idx] = clf.predict(val_data)\n",
    "    predictions_stack += clf.predict(test_stack) / 5\n",
    "\n",
    "\n",
    "np.sqrt(mean_squared_error(target.values, oof_stack))"
   ]
  },
  {
   "cell_type": "code",
   "execution_count": 363,
   "metadata": {},
   "outputs": [],
   "source": [
    "train_wo_outliers=clf.predict(train_stack1)"
   ]
  },
  {
   "cell_type": "markdown",
   "metadata": {},
   "source": [
    "### Now let's predict with outliers\n"
   ]
  },
  {
   "cell_type": "code",
   "execution_count": 354,
   "metadata": {},
   "outputs": [],
   "source": [
    "df_train1=df_train\n",
    "target=df_train1.target"
   ]
  },
  {
   "cell_type": "code",
   "execution_count": 355,
   "metadata": {},
   "outputs": [
    {
     "name": "stdout",
     "output_type": "stream",
     "text": [
      "fold n°0\n",
      "Training until validation scores don't improve for 200 rounds.\n",
      "[100]\ttraining's rmse: 3.73586\tvalid_1's rmse: 3.75937\n",
      "[200]\ttraining's rmse: 3.67147\tvalid_1's rmse: 3.71703\n",
      "[300]\ttraining's rmse: 3.62707\tvalid_1's rmse: 3.69454\n",
      "[400]\ttraining's rmse: 3.59471\tvalid_1's rmse: 3.68294\n",
      "[500]\ttraining's rmse: 3.56743\tvalid_1's rmse: 3.67564\n",
      "[600]\ttraining's rmse: 3.54506\tvalid_1's rmse: 3.67025\n",
      "[700]\ttraining's rmse: 3.52573\tvalid_1's rmse: 3.66666\n",
      "[800]\ttraining's rmse: 3.50806\tvalid_1's rmse: 3.66269\n",
      "[900]\ttraining's rmse: 3.49247\tvalid_1's rmse: 3.65964\n",
      "[1000]\ttraining's rmse: 3.47827\tvalid_1's rmse: 3.6578\n",
      "[1100]\ttraining's rmse: 3.4651\tvalid_1's rmse: 3.65621\n",
      "[1200]\ttraining's rmse: 3.4527\tvalid_1's rmse: 3.65514\n",
      "[1300]\ttraining's rmse: 3.44112\tvalid_1's rmse: 3.65405\n",
      "[1400]\ttraining's rmse: 3.43048\tvalid_1's rmse: 3.65332\n",
      "[1500]\ttraining's rmse: 3.42028\tvalid_1's rmse: 3.65277\n",
      "[1600]\ttraining's rmse: 3.41055\tvalid_1's rmse: 3.65206\n",
      "[1700]\ttraining's rmse: 3.4013\tvalid_1's rmse: 3.65186\n",
      "[1800]\ttraining's rmse: 3.39249\tvalid_1's rmse: 3.65173\n",
      "[1900]\ttraining's rmse: 3.38376\tvalid_1's rmse: 3.65155\n",
      "[2000]\ttraining's rmse: 3.3753\tvalid_1's rmse: 3.65153\n",
      "[2100]\ttraining's rmse: 3.36689\tvalid_1's rmse: 3.65127\n",
      "[2200]\ttraining's rmse: 3.35915\tvalid_1's rmse: 3.65129\n",
      "[2300]\ttraining's rmse: 3.35146\tvalid_1's rmse: 3.65135\n",
      "[2400]\ttraining's rmse: 3.34378\tvalid_1's rmse: 3.65107\n",
      "[2500]\ttraining's rmse: 3.33643\tvalid_1's rmse: 3.651\n",
      "[2600]\ttraining's rmse: 3.32895\tvalid_1's rmse: 3.65087\n",
      "[2700]\ttraining's rmse: 3.3218\tvalid_1's rmse: 3.65082\n",
      "[2800]\ttraining's rmse: 3.31487\tvalid_1's rmse: 3.65074\n",
      "[2900]\ttraining's rmse: 3.30791\tvalid_1's rmse: 3.65092\n",
      "[3000]\ttraining's rmse: 3.30097\tvalid_1's rmse: 3.65098\n",
      "Early stopping, best iteration is:\n",
      "[2835]\ttraining's rmse: 3.31241\tvalid_1's rmse: 3.65068\n",
      "fold n°1\n",
      "Training until validation scores don't improve for 200 rounds.\n",
      "[100]\ttraining's rmse: 3.73311\tvalid_1's rmse: 3.76743\n",
      "[200]\ttraining's rmse: 3.66749\tvalid_1's rmse: 3.72844\n",
      "[300]\ttraining's rmse: 3.62298\tvalid_1's rmse: 3.7074\n",
      "[400]\ttraining's rmse: 3.59005\tvalid_1's rmse: 3.69564\n",
      "[500]\ttraining's rmse: 3.56419\tvalid_1's rmse: 3.68837\n",
      "[600]\ttraining's rmse: 3.54093\tvalid_1's rmse: 3.68233\n",
      "[700]\ttraining's rmse: 3.52156\tvalid_1's rmse: 3.67772\n",
      "[800]\ttraining's rmse: 3.50432\tvalid_1's rmse: 3.67386\n",
      "[900]\ttraining's rmse: 3.48841\tvalid_1's rmse: 3.67034\n",
      "[1000]\ttraining's rmse: 3.47489\tvalid_1's rmse: 3.66787\n",
      "[1100]\ttraining's rmse: 3.46172\tvalid_1's rmse: 3.6657\n",
      "[1200]\ttraining's rmse: 3.44965\tvalid_1's rmse: 3.66374\n",
      "[1300]\ttraining's rmse: 3.43832\tvalid_1's rmse: 3.66248\n",
      "[1400]\ttraining's rmse: 3.42771\tvalid_1's rmse: 3.66106\n",
      "[1500]\ttraining's rmse: 3.41703\tvalid_1's rmse: 3.65987\n",
      "[1600]\ttraining's rmse: 3.40751\tvalid_1's rmse: 3.65905\n",
      "[1700]\ttraining's rmse: 3.39834\tvalid_1's rmse: 3.6586\n",
      "[1800]\ttraining's rmse: 3.38943\tvalid_1's rmse: 3.65814\n",
      "[1900]\ttraining's rmse: 3.38039\tvalid_1's rmse: 3.65762\n",
      "[2000]\ttraining's rmse: 3.3723\tvalid_1's rmse: 3.65726\n",
      "[2100]\ttraining's rmse: 3.36466\tvalid_1's rmse: 3.65685\n",
      "[2200]\ttraining's rmse: 3.35679\tvalid_1's rmse: 3.65649\n",
      "[2300]\ttraining's rmse: 3.3489\tvalid_1's rmse: 3.65621\n",
      "[2400]\ttraining's rmse: 3.34144\tvalid_1's rmse: 3.65608\n",
      "[2500]\ttraining's rmse: 3.33414\tvalid_1's rmse: 3.65585\n",
      "[2600]\ttraining's rmse: 3.32671\tvalid_1's rmse: 3.65582\n",
      "[2700]\ttraining's rmse: 3.31917\tvalid_1's rmse: 3.65555\n",
      "[2800]\ttraining's rmse: 3.3125\tvalid_1's rmse: 3.65551\n",
      "[2900]\ttraining's rmse: 3.30552\tvalid_1's rmse: 3.6554\n",
      "[3000]\ttraining's rmse: 3.29877\tvalid_1's rmse: 3.65552\n",
      "Early stopping, best iteration is:\n",
      "[2890]\ttraining's rmse: 3.3061\tvalid_1's rmse: 3.65537\n",
      "fold n°2\n",
      "Training until validation scores don't improve for 200 rounds.\n",
      "[100]\ttraining's rmse: 3.73621\tvalid_1's rmse: 3.75395\n",
      "[200]\ttraining's rmse: 3.67059\tvalid_1's rmse: 3.71286\n",
      "[300]\ttraining's rmse: 3.62625\tvalid_1's rmse: 3.69027\n",
      "[400]\ttraining's rmse: 3.59421\tvalid_1's rmse: 3.67752\n",
      "[500]\ttraining's rmse: 3.56816\tvalid_1's rmse: 3.66917\n",
      "[600]\ttraining's rmse: 3.54605\tvalid_1's rmse: 3.66318\n",
      "[700]\ttraining's rmse: 3.52619\tvalid_1's rmse: 3.65861\n",
      "[800]\ttraining's rmse: 3.50924\tvalid_1's rmse: 3.6551\n",
      "[900]\ttraining's rmse: 3.49392\tvalid_1's rmse: 3.65228\n",
      "[1000]\ttraining's rmse: 3.47993\tvalid_1's rmse: 3.65015\n",
      "[1100]\ttraining's rmse: 3.46715\tvalid_1's rmse: 3.64801\n",
      "[1200]\ttraining's rmse: 3.45536\tvalid_1's rmse: 3.64659\n",
      "[1300]\ttraining's rmse: 3.44358\tvalid_1's rmse: 3.64513\n",
      "[1400]\ttraining's rmse: 3.43308\tvalid_1's rmse: 3.6441\n",
      "[1500]\ttraining's rmse: 3.42268\tvalid_1's rmse: 3.64326\n",
      "[1600]\ttraining's rmse: 3.41276\tvalid_1's rmse: 3.6424\n",
      "[1700]\ttraining's rmse: 3.40342\tvalid_1's rmse: 3.64197\n",
      "[1800]\ttraining's rmse: 3.39444\tvalid_1's rmse: 3.64125\n",
      "[1900]\ttraining's rmse: 3.38634\tvalid_1's rmse: 3.6407\n",
      "[2000]\ttraining's rmse: 3.37807\tvalid_1's rmse: 3.64016\n",
      "[2100]\ttraining's rmse: 3.36977\tvalid_1's rmse: 3.63946\n",
      "[2200]\ttraining's rmse: 3.36202\tvalid_1's rmse: 3.63949\n",
      "[2300]\ttraining's rmse: 3.35387\tvalid_1's rmse: 3.63902\n",
      "[2400]\ttraining's rmse: 3.3466\tvalid_1's rmse: 3.63895\n",
      "[2500]\ttraining's rmse: 3.33926\tvalid_1's rmse: 3.63887\n",
      "[2600]\ttraining's rmse: 3.33215\tvalid_1's rmse: 3.63853\n",
      "[2700]\ttraining's rmse: 3.32515\tvalid_1's rmse: 3.63839\n",
      "[2800]\ttraining's rmse: 3.31793\tvalid_1's rmse: 3.63816\n",
      "[2900]\ttraining's rmse: 3.31081\tvalid_1's rmse: 3.63849\n",
      "[3000]\ttraining's rmse: 3.30359\tvalid_1's rmse: 3.6384\n",
      "Early stopping, best iteration is:\n",
      "[2805]\ttraining's rmse: 3.3176\tvalid_1's rmse: 3.63812\n",
      "fold n°3\n",
      "Training until validation scores don't improve for 200 rounds.\n",
      "[100]\ttraining's rmse: 3.73756\tvalid_1's rmse: 3.76013\n",
      "[200]\ttraining's rmse: 3.67274\tvalid_1's rmse: 3.71855\n",
      "[300]\ttraining's rmse: 3.62819\tvalid_1's rmse: 3.69733\n",
      "[400]\ttraining's rmse: 3.59455\tvalid_1's rmse: 3.68559\n",
      "[500]\ttraining's rmse: 3.5683\tvalid_1's rmse: 3.6778\n",
      "[600]\ttraining's rmse: 3.54513\tvalid_1's rmse: 3.67284\n",
      "[700]\ttraining's rmse: 3.52547\tvalid_1's rmse: 3.66827\n",
      "[800]\ttraining's rmse: 3.50821\tvalid_1's rmse: 3.66505\n",
      "[900]\ttraining's rmse: 3.49301\tvalid_1's rmse: 3.66241\n",
      "[1000]\ttraining's rmse: 3.47928\tvalid_1's rmse: 3.66012\n",
      "[1100]\ttraining's rmse: 3.46656\tvalid_1's rmse: 3.6584\n",
      "[1200]\ttraining's rmse: 3.45497\tvalid_1's rmse: 3.65666\n",
      "[1300]\ttraining's rmse: 3.44426\tvalid_1's rmse: 3.65582\n",
      "[1400]\ttraining's rmse: 3.43362\tvalid_1's rmse: 3.65509\n",
      "[1500]\ttraining's rmse: 3.42304\tvalid_1's rmse: 3.65463\n",
      "[1600]\ttraining's rmse: 3.41369\tvalid_1's rmse: 3.65404\n",
      "[1700]\ttraining's rmse: 3.40426\tvalid_1's rmse: 3.65379\n",
      "[1800]\ttraining's rmse: 3.39517\tvalid_1's rmse: 3.6535\n",
      "[1900]\ttraining's rmse: 3.38627\tvalid_1's rmse: 3.65305\n",
      "[2000]\ttraining's rmse: 3.37846\tvalid_1's rmse: 3.65293\n",
      "[2100]\ttraining's rmse: 3.3707\tvalid_1's rmse: 3.65275\n",
      "[2200]\ttraining's rmse: 3.36246\tvalid_1's rmse: 3.65261\n",
      "[2300]\ttraining's rmse: 3.3545\tvalid_1's rmse: 3.65259\n",
      "[2400]\ttraining's rmse: 3.3467\tvalid_1's rmse: 3.65266\n",
      "[2500]\ttraining's rmse: 3.33975\tvalid_1's rmse: 3.65251\n",
      "[2600]\ttraining's rmse: 3.33205\tvalid_1's rmse: 3.65243\n",
      "[2700]\ttraining's rmse: 3.32497\tvalid_1's rmse: 3.6525\n",
      "[2800]\ttraining's rmse: 3.31794\tvalid_1's rmse: 3.65277\n",
      "Early stopping, best iteration is:\n",
      "[2642]\ttraining's rmse: 3.329\tvalid_1's rmse: 3.65233\n",
      "fold n°4\n",
      "Training until validation scores don't improve for 200 rounds.\n",
      "[100]\ttraining's rmse: 3.73354\tvalid_1's rmse: 3.76631\n",
      "[200]\ttraining's rmse: 3.6672\tvalid_1's rmse: 3.72755\n",
      "[300]\ttraining's rmse: 3.62247\tvalid_1's rmse: 3.70631\n",
      "[400]\ttraining's rmse: 3.58928\tvalid_1's rmse: 3.69343\n",
      "[500]\ttraining's rmse: 3.56258\tvalid_1's rmse: 3.68536\n",
      "[600]\ttraining's rmse: 3.54019\tvalid_1's rmse: 3.67933\n",
      "[700]\ttraining's rmse: 3.52112\tvalid_1's rmse: 3.67468\n",
      "[800]\ttraining's rmse: 3.50409\tvalid_1's rmse: 3.6716\n",
      "[900]\ttraining's rmse: 3.48913\tvalid_1's rmse: 3.66875\n",
      "[1000]\ttraining's rmse: 3.47483\tvalid_1's rmse: 3.66665\n",
      "[1100]\ttraining's rmse: 3.46184\tvalid_1's rmse: 3.66468\n",
      "[1200]\ttraining's rmse: 3.45006\tvalid_1's rmse: 3.6632\n",
      "[1300]\ttraining's rmse: 3.43907\tvalid_1's rmse: 3.66208\n",
      "[1400]\ttraining's rmse: 3.429\tvalid_1's rmse: 3.66104\n",
      "[1500]\ttraining's rmse: 3.41873\tvalid_1's rmse: 3.66029\n",
      "[1600]\ttraining's rmse: 3.40858\tvalid_1's rmse: 3.65942\n",
      "[1700]\ttraining's rmse: 3.39937\tvalid_1's rmse: 3.65915\n"
     ]
    },
    {
     "name": "stdout",
     "output_type": "stream",
     "text": [
      "[1800]\ttraining's rmse: 3.3906\tvalid_1's rmse: 3.65851\n",
      "[1900]\ttraining's rmse: 3.38164\tvalid_1's rmse: 3.65811\n",
      "[2000]\ttraining's rmse: 3.37334\tvalid_1's rmse: 3.65764\n",
      "[2100]\ttraining's rmse: 3.36515\tvalid_1's rmse: 3.65724\n",
      "[2200]\ttraining's rmse: 3.35735\tvalid_1's rmse: 3.65709\n",
      "[2300]\ttraining's rmse: 3.35011\tvalid_1's rmse: 3.65696\n",
      "[2400]\ttraining's rmse: 3.34313\tvalid_1's rmse: 3.65673\n",
      "[2500]\ttraining's rmse: 3.33596\tvalid_1's rmse: 3.65659\n",
      "[2600]\ttraining's rmse: 3.32911\tvalid_1's rmse: 3.65654\n",
      "[2700]\ttraining's rmse: 3.32184\tvalid_1's rmse: 3.65643\n",
      "[2800]\ttraining's rmse: 3.31496\tvalid_1's rmse: 3.65633\n",
      "[2900]\ttraining's rmse: 3.3076\tvalid_1's rmse: 3.65632\n",
      "[3000]\ttraining's rmse: 3.30018\tvalid_1's rmse: 3.6563\n",
      "[3100]\ttraining's rmse: 3.29309\tvalid_1's rmse: 3.6564\n",
      "Early stopping, best iteration is:\n",
      "[2947]\ttraining's rmse: 3.30421\tvalid_1's rmse: 3.6562\n",
      "CV score: 3.65055 \n"
     ]
    }
   ],
   "source": [
    "param = {'num_leaves': 31,\n",
    "         'min_data_in_leaf': 32, \n",
    "         'objective':'regression',\n",
    "         'max_depth': -1,\n",
    "         'learning_rate': 0.005,\n",
    "         \"min_child_samples\": 20,\n",
    "         \"boosting\": \"gbdt\",\n",
    "         \"feature_fraction\": 0.9,\n",
    "         \"bagging_freq\": 1,\n",
    "         \"bagging_fraction\": 0.9 ,\n",
    "         \"bagging_seed\": 11,\n",
    "         \"metric\": 'rmse',\n",
    "         \"lambda_l1\": 0.1,\n",
    "         \"nthread\": 4,\n",
    "         \"verbosity\": -1}\n",
    "\n",
    "folds = StratifiedKFold(n_splits=5, shuffle=True, random_state=15)\n",
    "oof = np.zeros(len(df_train1))\n",
    "predictions = np.zeros(len(df_test))\n",
    "feature_importance_df = pd.DataFrame()\n",
    "\n",
    "for fold_, (trn_idx, val_idx) in enumerate(folds.split(df_train1.values, df_train1['outliers'].values)):\n",
    "    print(\"fold n°{}\".format(fold_))\n",
    "    trn_data = lgb.Dataset(df_train1.iloc[trn_idx][df_train_columns], label=target.iloc[trn_idx],categorical_feature=['feature_1','feature_2','feature_3'])#, categorical_feature=categorical_feats)\n",
    "    val_data = lgb.Dataset(df_train1.iloc[val_idx][df_train_columns], label=target.iloc[val_idx],categorical_feature=['feature_1', 'feature_2','feature_3'])#, categorical_feature=categorical_feats)\n",
    "\n",
    "    num_round = 10000\n",
    "    clf = lgb.train(param, trn_data, num_round, valid_sets = [trn_data, val_data], verbose_eval=100, early_stopping_rounds = 200)\n",
    "    oof[val_idx] = clf.predict(df_train1.iloc[val_idx][df_train_columns], num_iteration=clf.best_iteration)\n",
    "    \n",
    "    fold_importance_df = pd.DataFrame()\n",
    "    fold_importance_df[\"feature\"] = df_train_columns\n",
    "    fold_importance_df[\"importance\"] = clf.feature_importance()\n",
    "    fold_importance_df[\"fold\"] = fold_ + 1\n",
    "    feature_importance_df = pd.concat([feature_importance_df, fold_importance_df], axis=0)\n",
    "    \n",
    "    predictions += clf.predict(df_test[df_train_columns], num_iteration=clf.best_iteration) / folds.n_splits\n",
    "\n",
    "print(\"CV score: {:<8.5f}\".format(mean_squared_error(oof, target)**0.5))\n"
   ]
  },
  {
   "cell_type": "code",
   "execution_count": 356,
   "metadata": {},
   "outputs": [
    {
     "name": "stdout",
     "output_type": "stream",
     "text": [
      "fold n°0\n",
      "Training until validation scores don't improve for 100 rounds.\n",
      "[100]\ttraining's rmse: 3.67343\tvalid_1's rmse: 3.7118\n",
      "[200]\ttraining's rmse: 3.59598\tvalid_1's rmse: 3.67579\n",
      "[300]\ttraining's rmse: 3.54689\tvalid_1's rmse: 3.6603\n",
      "[400]\ttraining's rmse: 3.51014\tvalid_1's rmse: 3.65252\n",
      "[500]\ttraining's rmse: 3.48141\tvalid_1's rmse: 3.64794\n",
      "[600]\ttraining's rmse: 3.4561\tvalid_1's rmse: 3.64449\n",
      "[700]\ttraining's rmse: 3.43343\tvalid_1's rmse: 3.64201\n",
      "[800]\ttraining's rmse: 3.41318\tvalid_1's rmse: 3.6397\n",
      "[900]\ttraining's rmse: 3.39459\tvalid_1's rmse: 3.63834\n",
      "[1000]\ttraining's rmse: 3.37798\tvalid_1's rmse: 3.6371\n",
      "[1100]\ttraining's rmse: 3.36131\tvalid_1's rmse: 3.63657\n",
      "[1200]\ttraining's rmse: 3.34485\tvalid_1's rmse: 3.6356\n",
      "[1300]\ttraining's rmse: 3.32922\tvalid_1's rmse: 3.63549\n",
      "Early stopping, best iteration is:\n",
      "[1299]\ttraining's rmse: 3.3293\tvalid_1's rmse: 3.63547\n",
      "fold n°1\n",
      "Training until validation scores don't improve for 100 rounds.\n",
      "[100]\ttraining's rmse: 3.67046\tvalid_1's rmse: 3.71894\n",
      "[200]\ttraining's rmse: 3.59196\tvalid_1's rmse: 3.68569\n",
      "[300]\ttraining's rmse: 3.5421\tvalid_1's rmse: 3.67266\n",
      "[400]\ttraining's rmse: 3.50465\tvalid_1's rmse: 3.66506\n",
      "[500]\ttraining's rmse: 3.47415\tvalid_1's rmse: 3.65934\n",
      "[600]\ttraining's rmse: 3.44852\tvalid_1's rmse: 3.65638\n",
      "[700]\ttraining's rmse: 3.42653\tvalid_1's rmse: 3.65455\n",
      "[800]\ttraining's rmse: 3.40676\tvalid_1's rmse: 3.6536\n",
      "[900]\ttraining's rmse: 3.38853\tvalid_1's rmse: 3.65256\n",
      "[1000]\ttraining's rmse: 3.3719\tvalid_1's rmse: 3.6526\n",
      "Early stopping, best iteration is:\n",
      "[911]\ttraining's rmse: 3.38652\tvalid_1's rmse: 3.65251\n",
      "fold n°2\n",
      "Training until validation scores don't improve for 100 rounds.\n",
      "[100]\ttraining's rmse: 3.66899\tvalid_1's rmse: 3.72035\n",
      "[200]\ttraining's rmse: 3.58982\tvalid_1's rmse: 3.68776\n",
      "[300]\ttraining's rmse: 3.54016\tvalid_1's rmse: 3.67432\n",
      "[400]\ttraining's rmse: 3.50195\tvalid_1's rmse: 3.66688\n",
      "[500]\ttraining's rmse: 3.47261\tvalid_1's rmse: 3.6623\n",
      "[600]\ttraining's rmse: 3.44659\tvalid_1's rmse: 3.65959\n",
      "[700]\ttraining's rmse: 3.42375\tvalid_1's rmse: 3.65769\n",
      "[800]\ttraining's rmse: 3.40388\tvalid_1's rmse: 3.65664\n",
      "[900]\ttraining's rmse: 3.38582\tvalid_1's rmse: 3.65594\n",
      "[1000]\ttraining's rmse: 3.36813\tvalid_1's rmse: 3.65523\n",
      "[1100]\ttraining's rmse: 3.35263\tvalid_1's rmse: 3.65473\n",
      "[1200]\ttraining's rmse: 3.33601\tvalid_1's rmse: 3.65439\n",
      "[1300]\ttraining's rmse: 3.32043\tvalid_1's rmse: 3.65415\n",
      "Early stopping, best iteration is:\n",
      "[1267]\ttraining's rmse: 3.32563\tvalid_1's rmse: 3.65397\n",
      "fold n°3\n",
      "Training until validation scores don't improve for 100 rounds.\n",
      "[100]\ttraining's rmse: 3.66885\tvalid_1's rmse: 3.7232\n",
      "[200]\ttraining's rmse: 3.59149\tvalid_1's rmse: 3.68705\n",
      "[300]\ttraining's rmse: 3.543\tvalid_1's rmse: 3.6731\n",
      "[400]\ttraining's rmse: 3.50613\tvalid_1's rmse: 3.66564\n",
      "[500]\ttraining's rmse: 3.4772\tvalid_1's rmse: 3.66037\n",
      "[600]\ttraining's rmse: 3.45333\tvalid_1's rmse: 3.65716\n",
      "[700]\ttraining's rmse: 3.43188\tvalid_1's rmse: 3.65514\n",
      "[800]\ttraining's rmse: 3.41331\tvalid_1's rmse: 3.65313\n",
      "[900]\ttraining's rmse: 3.39452\tvalid_1's rmse: 3.65194\n",
      "[1000]\ttraining's rmse: 3.37723\tvalid_1's rmse: 3.65079\n",
      "[1100]\ttraining's rmse: 3.36114\tvalid_1's rmse: 3.64994\n",
      "[1200]\ttraining's rmse: 3.34573\tvalid_1's rmse: 3.64977\n",
      "Early stopping, best iteration is:\n",
      "[1131]\ttraining's rmse: 3.35609\tvalid_1's rmse: 3.64958\n",
      "fold n°4\n",
      "Training until validation scores don't improve for 100 rounds.\n",
      "[100]\ttraining's rmse: 3.6696\tvalid_1's rmse: 3.7239\n",
      "[200]\ttraining's rmse: 3.59113\tvalid_1's rmse: 3.69118\n",
      "[300]\ttraining's rmse: 3.54103\tvalid_1's rmse: 3.67875\n",
      "[400]\ttraining's rmse: 3.50359\tvalid_1's rmse: 3.67119\n",
      "[500]\ttraining's rmse: 3.47426\tvalid_1's rmse: 3.66647\n",
      "[600]\ttraining's rmse: 3.4488\tvalid_1's rmse: 3.66421\n",
      "[700]\ttraining's rmse: 3.42563\tvalid_1's rmse: 3.6627\n",
      "[800]\ttraining's rmse: 3.40528\tvalid_1's rmse: 3.66112\n",
      "[900]\ttraining's rmse: 3.38786\tvalid_1's rmse: 3.66031\n",
      "[1000]\ttraining's rmse: 3.37042\tvalid_1's rmse: 3.66038\n",
      "[1100]\ttraining's rmse: 3.3544\tvalid_1's rmse: 3.65987\n",
      "[1200]\ttraining's rmse: 3.33807\tvalid_1's rmse: 3.65979\n",
      "Early stopping, best iteration is:\n",
      "[1146]\ttraining's rmse: 3.34712\tvalid_1's rmse: 3.65962\n",
      "fold n°5\n",
      "Training until validation scores don't improve for 100 rounds.\n",
      "[100]\ttraining's rmse: 3.67063\tvalid_1's rmse: 3.71363\n",
      "[200]\ttraining's rmse: 3.59295\tvalid_1's rmse: 3.67828\n",
      "[300]\ttraining's rmse: 3.54298\tvalid_1's rmse: 3.66468\n",
      "[400]\ttraining's rmse: 3.50707\tvalid_1's rmse: 3.65694\n",
      "[500]\ttraining's rmse: 3.47753\tvalid_1's rmse: 3.65181\n",
      "[600]\ttraining's rmse: 3.45234\tvalid_1's rmse: 3.64898\n",
      "[700]\ttraining's rmse: 3.43117\tvalid_1's rmse: 3.64768\n",
      "[800]\ttraining's rmse: 3.41032\tvalid_1's rmse: 3.64679\n",
      "[900]\ttraining's rmse: 3.39202\tvalid_1's rmse: 3.64582\n",
      "[1000]\ttraining's rmse: 3.37427\tvalid_1's rmse: 3.64543\n",
      "Early stopping, best iteration is:\n",
      "[938]\ttraining's rmse: 3.38494\tvalid_1's rmse: 3.64519\n",
      "fold n°6\n",
      "Training until validation scores don't improve for 100 rounds.\n",
      "[100]\ttraining's rmse: 3.67278\tvalid_1's rmse: 3.71967\n",
      "[200]\ttraining's rmse: 3.59473\tvalid_1's rmse: 3.68332\n",
      "[300]\ttraining's rmse: 3.54505\tvalid_1's rmse: 3.66924\n",
      "[400]\ttraining's rmse: 3.50656\tvalid_1's rmse: 3.66102\n",
      "[500]\ttraining's rmse: 3.47574\tvalid_1's rmse: 3.65669\n",
      "[600]\ttraining's rmse: 3.45042\tvalid_1's rmse: 3.65274\n",
      "[700]\ttraining's rmse: 3.42875\tvalid_1's rmse: 3.65103\n",
      "[800]\ttraining's rmse: 3.40879\tvalid_1's rmse: 3.64986\n",
      "[900]\ttraining's rmse: 3.39013\tvalid_1's rmse: 3.64893\n",
      "[1000]\ttraining's rmse: 3.37279\tvalid_1's rmse: 3.64809\n",
      "[1100]\ttraining's rmse: 3.35676\tvalid_1's rmse: 3.64749\n",
      "[1200]\ttraining's rmse: 3.34035\tvalid_1's rmse: 3.6478\n",
      "Early stopping, best iteration is:\n",
      "[1107]\ttraining's rmse: 3.35538\tvalid_1's rmse: 3.6474\n",
      "fold n°7\n",
      "Training until validation scores don't improve for 100 rounds.\n",
      "[100]\ttraining's rmse: 3.67012\tvalid_1's rmse: 3.71728\n",
      "[200]\ttraining's rmse: 3.59207\tvalid_1's rmse: 3.68355\n",
      "[300]\ttraining's rmse: 3.5441\tvalid_1's rmse: 3.66855\n",
      "[400]\ttraining's rmse: 3.5081\tvalid_1's rmse: 3.66123\n",
      "[500]\ttraining's rmse: 3.47699\tvalid_1's rmse: 3.65724\n",
      "[600]\ttraining's rmse: 3.45135\tvalid_1's rmse: 3.65446\n",
      "[700]\ttraining's rmse: 3.42929\tvalid_1's rmse: 3.65248\n",
      "[800]\ttraining's rmse: 3.40931\tvalid_1's rmse: 3.65165\n",
      "[900]\ttraining's rmse: 3.39176\tvalid_1's rmse: 3.6512\n",
      "[1000]\ttraining's rmse: 3.37498\tvalid_1's rmse: 3.65079\n",
      "Early stopping, best iteration is:\n",
      "[989]\ttraining's rmse: 3.37712\tvalid_1's rmse: 3.65053\n",
      "fold n°8\n",
      "Training until validation scores don't improve for 100 rounds.\n",
      "[100]\ttraining's rmse: 3.6681\tvalid_1's rmse: 3.73334\n",
      "[200]\ttraining's rmse: 3.58975\tvalid_1's rmse: 3.69923\n",
      "[300]\ttraining's rmse: 3.54003\tvalid_1's rmse: 3.68443\n",
      "[400]\ttraining's rmse: 3.50142\tvalid_1's rmse: 3.67643\n",
      "[500]\ttraining's rmse: 3.47043\tvalid_1's rmse: 3.67274\n",
      "[600]\ttraining's rmse: 3.44386\tvalid_1's rmse: 3.6702\n",
      "[700]\ttraining's rmse: 3.41985\tvalid_1's rmse: 3.66784\n",
      "[800]\ttraining's rmse: 3.39931\tvalid_1's rmse: 3.66593\n",
      "[900]\ttraining's rmse: 3.38016\tvalid_1's rmse: 3.66508\n",
      "[1000]\ttraining's rmse: 3.36268\tvalid_1's rmse: 3.66398\n",
      "[1100]\ttraining's rmse: 3.34693\tvalid_1's rmse: 3.66321\n",
      "[1200]\ttraining's rmse: 3.3314\tvalid_1's rmse: 3.6629\n",
      "[1300]\ttraining's rmse: 3.31565\tvalid_1's rmse: 3.6626\n",
      "[1400]\ttraining's rmse: 3.30139\tvalid_1's rmse: 3.66232\n",
      "[1500]\ttraining's rmse: 3.2867\tvalid_1's rmse: 3.66222\n",
      "Early stopping, best iteration is:\n",
      "[1435]\ttraining's rmse: 3.29609\tvalid_1's rmse: 3.66217\n",
      "fold n°9\n",
      "Training until validation scores don't improve for 100 rounds.\n",
      "[100]\ttraining's rmse: 3.66918\tvalid_1's rmse: 3.72178\n",
      "[200]\ttraining's rmse: 3.59071\tvalid_1's rmse: 3.692\n",
      "[300]\ttraining's rmse: 3.54159\tvalid_1's rmse: 3.68085\n",
      "[400]\ttraining's rmse: 3.50512\tvalid_1's rmse: 3.67591\n",
      "[500]\ttraining's rmse: 3.4741\tvalid_1's rmse: 3.67118\n",
      "[600]\ttraining's rmse: 3.44892\tvalid_1's rmse: 3.66875\n",
      "[700]\ttraining's rmse: 3.42721\tvalid_1's rmse: 3.6668\n",
      "[800]\ttraining's rmse: 3.40666\tvalid_1's rmse: 3.66558\n",
      "[900]\ttraining's rmse: 3.3876\tvalid_1's rmse: 3.66484\n",
      "[1000]\ttraining's rmse: 3.37045\tvalid_1's rmse: 3.66418\n",
      "[1100]\ttraining's rmse: 3.35376\tvalid_1's rmse: 3.66285\n",
      "[1200]\ttraining's rmse: 3.33789\tvalid_1's rmse: 3.66208\n",
      "[1300]\ttraining's rmse: 3.3219\tvalid_1's rmse: 3.66162\n",
      "[1400]\ttraining's rmse: 3.30768\tvalid_1's rmse: 3.66139\n",
      "[1500]\ttraining's rmse: 3.29275\tvalid_1's rmse: 3.66102\n"
     ]
    },
    {
     "name": "stdout",
     "output_type": "stream",
     "text": [
      "[1600]\ttraining's rmse: 3.27924\tvalid_1's rmse: 3.66032\n",
      "[1700]\ttraining's rmse: 3.26654\tvalid_1's rmse: 3.66044\n",
      "[1800]\ttraining's rmse: 3.25208\tvalid_1's rmse: 3.6601\n",
      "Early stopping, best iteration is:\n",
      "[1783]\ttraining's rmse: 3.25421\tvalid_1's rmse: 3.66005\n",
      "CV score: 3.65308 \n"
     ]
    }
   ],
   "source": [
    "lgbparam = {'num_leaves': 31,\n",
    "            'boosting_type': 'rf',\n",
    "             'min_data_in_leaf': 30, \n",
    "             'objective':'regression',\n",
    "             'max_depth': -1,\n",
    "             'learning_rate': 0.01,\n",
    "             \"min_child_samples\": 20,\n",
    "             \"boosting\": \"gbdt\",\n",
    "             \"feature_fraction\": 0.9,\n",
    "             \"bagging_freq\": 1,\n",
    "             \"bagging_fraction\": 0.9 ,\n",
    "             \"bagging_seed\": 11,\n",
    "             \"metric\": 'rmse',\n",
    "             \"lambda_l1\": 0.1,\n",
    "             \"verbosity\": -1,\n",
    "             \"nthread\": 4,\n",
    "             \"random_state\": 4590}\n",
    "\n",
    "folds = RepeatedStratifiedKFold(n_splits=5, n_repeats=2, random_state=4520)\n",
    "\n",
    "oof_lgb = np.zeros(len(df_train1))\n",
    "predictions_lgb = np.zeros(len(df_test))\n",
    "feature_importance_df = pd.DataFrame()\n",
    "\n",
    "for fold_, (trn_idx, val_idx) in enumerate(folds.split(df_train1,df_train1['outliers'].values)):\n",
    "    print(\"fold n°{}\".format(fold_))\n",
    "    trn_data = lgb.Dataset(df_train1.iloc[trn_idx][df_train_columns], label=target.iloc[trn_idx],categorical_feature=['feature_1','feature_2','feature_3'])#, categorical_feature=categorical_feats)\n",
    "    val_data = lgb.Dataset(df_train1.iloc[val_idx][df_train_columns], label=target.iloc[val_idx],categorical_feature=['feature_1', 'feature_2','feature_3'])#, categorical_feature=categorical_feats)\n",
    "\n",
    "    num_round = 11000\n",
    "    clf = lgb.train(lgbparam, trn_data, num_round, valid_sets = [trn_data, val_data], verbose_eval=100, early_stopping_rounds = 100)\n",
    "    oof_lgb[val_idx] = clf.predict(df_train1.iloc[val_idx][df_train_columns], num_iteration=clf.best_iteration)\n",
    "\n",
    "    fold_importance_df = pd.DataFrame()\n",
    "    fold_importance_df[\"feature\"] = df_train_columns\n",
    "    fold_importance_df[\"importance\"] = clf.feature_importance()\n",
    "    fold_importance_df[\"fold\"] = fold_ + 1\n",
    "    feature_importance_df = pd.concat([feature_importance_df, fold_importance_df], axis=0)\n",
    "    \n",
    "    predictions_lgb += clf.predict(df_test[df_train_columns], num_iteration=clf.best_iteration) / (5 * 2)\n",
    "\n",
    "print(\"CV score: {:<8.5f}\".format(mean_squared_error(oof_lgb, target)**0.5))"
   ]
  },
  {
   "cell_type": "code",
   "execution_count": 357,
   "metadata": {},
   "outputs": [
    {
     "name": "stdout",
     "output_type": "stream",
     "text": [
      "fold n°0\n",
      "----------Stacking 0----------\n",
      "fold n°1\n",
      "----------Stacking 1----------\n",
      "fold n°2\n",
      "----------Stacking 2----------\n",
      "fold n°3\n",
      "----------Stacking 3----------\n",
      "fold n°4\n",
      "----------Stacking 4----------\n"
     ]
    },
    {
     "data": {
      "text/plain": [
       "3.6491930700667297"
      ]
     },
     "execution_count": 357,
     "metadata": {},
     "output_type": "execute_result"
    }
   ],
   "source": [
    "train_stack = np.vstack([oof,oof_lgb]).transpose()\n",
    "test_stack = np.vstack([predictions,predictions_lgb]).transpose()\n",
    "\n",
    "folds = RepeatedKFold(n_splits=5,n_repeats=1,random_state=4520)\n",
    "oof_stack = np.zeros(train_stack.shape[0])\n",
    "predictions_stack = np.zeros(test_stack.shape[0])\n",
    "\n",
    "for fold_, (trn_idx, val_idx) in enumerate(folds.split(train_stack, target)):\n",
    "    print(\"fold n°{}\".format(fold_))\n",
    "    trn_data, trn_y = train_stack[trn_idx], target.iloc[trn_idx].values\n",
    "    val_data, val_y = train_stack[val_idx], target.iloc[val_idx].values\n",
    "\n",
    "    print(\"-\" * 10 + \"Stacking \" + str(fold_) + \"-\" * 10)\n",
    "#     cb_model = CatBoostRegressor(iterations=3000, learning_rate=0.1, depth=8, l2_leaf_reg=20, bootstrap_type='Bernoulli',  eval_metric='RMSE', metric_period=50, od_type='Iter', od_wait=45, random_seed=17, allow_writing_files=False)\n",
    "#     cb_model.fit(trn_data, trn_y, eval_set=(val_data, val_y), cat_features=[], use_best_model=True, verbose=True)\n",
    "    clf = BayesianRidge()\n",
    "    clf.fit(trn_data, trn_y)\n",
    "    \n",
    "    oof_stack[val_idx] = clf.predict(val_data)\n",
    "    predictions_stack += clf.predict(test_stack) / 5\n",
    "\n",
    "\n",
    "np.sqrt(mean_squared_error(target.values, oof_stack))"
   ]
  },
  {
   "cell_type": "code",
   "execution_count": 358,
   "metadata": {},
   "outputs": [],
   "source": [
    "train_stack1=np.copy(train_stack)"
   ]
  },
  {
   "cell_type": "code",
   "execution_count": 268,
   "metadata": {},
   "outputs": [],
   "source": [
    "train_w_outliers=clf.predict(train_stack)"
   ]
  },
  {
   "cell_type": "code",
   "execution_count": 273,
   "metadata": {},
   "outputs": [
    {
     "data": {
      "text/plain": [
       "2207"
      ]
     },
     "execution_count": 273,
     "metadata": {},
     "output_type": "execute_result"
    }
   ],
   "source": [
    "train_w_outliers.shape[0]-train_wo_outliers.shape[0]"
   ]
  },
  {
   "cell_type": "code",
   "execution_count": 364,
   "metadata": {},
   "outputs": [
    {
     "data": {
      "text/plain": [
       "(201917,)"
      ]
     },
     "execution_count": 364,
     "metadata": {},
     "output_type": "execute_result"
    }
   ],
   "source": [
    "train_map.shape"
   ]
  },
  {
   "cell_type": "code",
   "execution_count": 365,
   "metadata": {},
   "outputs": [
    {
     "data": {
      "text/plain": [
       "(201917,)"
      ]
     },
     "execution_count": 365,
     "metadata": {},
     "output_type": "execute_result"
    }
   ],
   "source": [
    "train_w_outliers.shape"
   ]
  },
  {
   "cell_type": "code",
   "execution_count": 366,
   "metadata": {},
   "outputs": [
    {
     "data": {
      "text/plain": [
       "(201917,)"
      ]
     },
     "execution_count": 366,
     "metadata": {},
     "output_type": "execute_result"
    }
   ],
   "source": [
    "train_wo_outliers.shape"
   ]
  },
  {
   "cell_type": "code",
   "execution_count": 404,
   "metadata": {},
   "outputs": [],
   "source": [
    "df=df_train[['card_id','outliers','target']].copy()\n",
    "df['predicted_target']=train_w_outliers\n",
    "df['predicted_outliers']=train_map\n",
    "df['predicted_target_wo_outliers']=train_wo_outliers"
   ]
  },
  {
   "cell_type": "code",
   "execution_count": 405,
   "metadata": {},
   "outputs": [],
   "source": [
    "df.sort_values('predicted_outliers',ascending=False,inplace=True)"
   ]
  },
  {
   "cell_type": "code",
   "execution_count": 420,
   "metadata": {},
   "outputs": [],
   "source": [
    "errors={}\n",
    "for i in range(0,199710,100):\n",
    "    a=df.predicted_target_wo_outliers.iloc[:i]\n",
    "    b=df.predicted_target.iloc[i:]\n",
    "    c=a.append(b)\n",
    "    e=mean_squared_error(df.target.values, c)\n",
    "    errors[i]=e"
   ]
  },
  {
   "cell_type": "code",
   "execution_count": 421,
   "metadata": {
    "scrolled": true
   },
   "outputs": [
    {
     "data": {
      "application/javascript": [
       "/* Put everything inside the global mpl namespace */\n",
       "window.mpl = {};\n",
       "\n",
       "\n",
       "mpl.get_websocket_type = function() {\n",
       "    if (typeof(WebSocket) !== 'undefined') {\n",
       "        return WebSocket;\n",
       "    } else if (typeof(MozWebSocket) !== 'undefined') {\n",
       "        return MozWebSocket;\n",
       "    } else {\n",
       "        alert('Your browser does not have WebSocket support.' +\n",
       "              'Please try Chrome, Safari or Firefox ≥ 6. ' +\n",
       "              'Firefox 4 and 5 are also supported but you ' +\n",
       "              'have to enable WebSockets in about:config.');\n",
       "    };\n",
       "}\n",
       "\n",
       "mpl.figure = function(figure_id, websocket, ondownload, parent_element) {\n",
       "    this.id = figure_id;\n",
       "\n",
       "    this.ws = websocket;\n",
       "\n",
       "    this.supports_binary = (this.ws.binaryType != undefined);\n",
       "\n",
       "    if (!this.supports_binary) {\n",
       "        var warnings = document.getElementById(\"mpl-warnings\");\n",
       "        if (warnings) {\n",
       "            warnings.style.display = 'block';\n",
       "            warnings.textContent = (\n",
       "                \"This browser does not support binary websocket messages. \" +\n",
       "                    \"Performance may be slow.\");\n",
       "        }\n",
       "    }\n",
       "\n",
       "    this.imageObj = new Image();\n",
       "\n",
       "    this.context = undefined;\n",
       "    this.message = undefined;\n",
       "    this.canvas = undefined;\n",
       "    this.rubberband_canvas = undefined;\n",
       "    this.rubberband_context = undefined;\n",
       "    this.format_dropdown = undefined;\n",
       "\n",
       "    this.image_mode = 'full';\n",
       "\n",
       "    this.root = $('<div/>');\n",
       "    this._root_extra_style(this.root)\n",
       "    this.root.attr('style', 'display: inline-block');\n",
       "\n",
       "    $(parent_element).append(this.root);\n",
       "\n",
       "    this._init_header(this);\n",
       "    this._init_canvas(this);\n",
       "    this._init_toolbar(this);\n",
       "\n",
       "    var fig = this;\n",
       "\n",
       "    this.waiting = false;\n",
       "\n",
       "    this.ws.onopen =  function () {\n",
       "            fig.send_message(\"supports_binary\", {value: fig.supports_binary});\n",
       "            fig.send_message(\"send_image_mode\", {});\n",
       "            if (mpl.ratio != 1) {\n",
       "                fig.send_message(\"set_dpi_ratio\", {'dpi_ratio': mpl.ratio});\n",
       "            }\n",
       "            fig.send_message(\"refresh\", {});\n",
       "        }\n",
       "\n",
       "    this.imageObj.onload = function() {\n",
       "            if (fig.image_mode == 'full') {\n",
       "                // Full images could contain transparency (where diff images\n",
       "                // almost always do), so we need to clear the canvas so that\n",
       "                // there is no ghosting.\n",
       "                fig.context.clearRect(0, 0, fig.canvas.width, fig.canvas.height);\n",
       "            }\n",
       "            fig.context.drawImage(fig.imageObj, 0, 0);\n",
       "        };\n",
       "\n",
       "    this.imageObj.onunload = function() {\n",
       "        fig.ws.close();\n",
       "    }\n",
       "\n",
       "    this.ws.onmessage = this._make_on_message_function(this);\n",
       "\n",
       "    this.ondownload = ondownload;\n",
       "}\n",
       "\n",
       "mpl.figure.prototype._init_header = function() {\n",
       "    var titlebar = $(\n",
       "        '<div class=\"ui-dialog-titlebar ui-widget-header ui-corner-all ' +\n",
       "        'ui-helper-clearfix\"/>');\n",
       "    var titletext = $(\n",
       "        '<div class=\"ui-dialog-title\" style=\"width: 100%; ' +\n",
       "        'text-align: center; padding: 3px;\"/>');\n",
       "    titlebar.append(titletext)\n",
       "    this.root.append(titlebar);\n",
       "    this.header = titletext[0];\n",
       "}\n",
       "\n",
       "\n",
       "\n",
       "mpl.figure.prototype._canvas_extra_style = function(canvas_div) {\n",
       "\n",
       "}\n",
       "\n",
       "\n",
       "mpl.figure.prototype._root_extra_style = function(canvas_div) {\n",
       "\n",
       "}\n",
       "\n",
       "mpl.figure.prototype._init_canvas = function() {\n",
       "    var fig = this;\n",
       "\n",
       "    var canvas_div = $('<div/>');\n",
       "\n",
       "    canvas_div.attr('style', 'position: relative; clear: both; outline: 0');\n",
       "\n",
       "    function canvas_keyboard_event(event) {\n",
       "        return fig.key_event(event, event['data']);\n",
       "    }\n",
       "\n",
       "    canvas_div.keydown('key_press', canvas_keyboard_event);\n",
       "    canvas_div.keyup('key_release', canvas_keyboard_event);\n",
       "    this.canvas_div = canvas_div\n",
       "    this._canvas_extra_style(canvas_div)\n",
       "    this.root.append(canvas_div);\n",
       "\n",
       "    var canvas = $('<canvas/>');\n",
       "    canvas.addClass('mpl-canvas');\n",
       "    canvas.attr('style', \"left: 0; top: 0; z-index: 0; outline: 0\")\n",
       "\n",
       "    this.canvas = canvas[0];\n",
       "    this.context = canvas[0].getContext(\"2d\");\n",
       "\n",
       "    var backingStore = this.context.backingStorePixelRatio ||\n",
       "\tthis.context.webkitBackingStorePixelRatio ||\n",
       "\tthis.context.mozBackingStorePixelRatio ||\n",
       "\tthis.context.msBackingStorePixelRatio ||\n",
       "\tthis.context.oBackingStorePixelRatio ||\n",
       "\tthis.context.backingStorePixelRatio || 1;\n",
       "\n",
       "    mpl.ratio = (window.devicePixelRatio || 1) / backingStore;\n",
       "\n",
       "    var rubberband = $('<canvas/>');\n",
       "    rubberband.attr('style', \"position: absolute; left: 0; top: 0; z-index: 1;\")\n",
       "\n",
       "    var pass_mouse_events = true;\n",
       "\n",
       "    canvas_div.resizable({\n",
       "        start: function(event, ui) {\n",
       "            pass_mouse_events = false;\n",
       "        },\n",
       "        resize: function(event, ui) {\n",
       "            fig.request_resize(ui.size.width, ui.size.height);\n",
       "        },\n",
       "        stop: function(event, ui) {\n",
       "            pass_mouse_events = true;\n",
       "            fig.request_resize(ui.size.width, ui.size.height);\n",
       "        },\n",
       "    });\n",
       "\n",
       "    function mouse_event_fn(event) {\n",
       "        if (pass_mouse_events)\n",
       "            return fig.mouse_event(event, event['data']);\n",
       "    }\n",
       "\n",
       "    rubberband.mousedown('button_press', mouse_event_fn);\n",
       "    rubberband.mouseup('button_release', mouse_event_fn);\n",
       "    // Throttle sequential mouse events to 1 every 20ms.\n",
       "    rubberband.mousemove('motion_notify', mouse_event_fn);\n",
       "\n",
       "    rubberband.mouseenter('figure_enter', mouse_event_fn);\n",
       "    rubberband.mouseleave('figure_leave', mouse_event_fn);\n",
       "\n",
       "    canvas_div.on(\"wheel\", function (event) {\n",
       "        event = event.originalEvent;\n",
       "        event['data'] = 'scroll'\n",
       "        if (event.deltaY < 0) {\n",
       "            event.step = 1;\n",
       "        } else {\n",
       "            event.step = -1;\n",
       "        }\n",
       "        mouse_event_fn(event);\n",
       "    });\n",
       "\n",
       "    canvas_div.append(canvas);\n",
       "    canvas_div.append(rubberband);\n",
       "\n",
       "    this.rubberband = rubberband;\n",
       "    this.rubberband_canvas = rubberband[0];\n",
       "    this.rubberband_context = rubberband[0].getContext(\"2d\");\n",
       "    this.rubberband_context.strokeStyle = \"#000000\";\n",
       "\n",
       "    this._resize_canvas = function(width, height) {\n",
       "        // Keep the size of the canvas, canvas container, and rubber band\n",
       "        // canvas in synch.\n",
       "        canvas_div.css('width', width)\n",
       "        canvas_div.css('height', height)\n",
       "\n",
       "        canvas.attr('width', width * mpl.ratio);\n",
       "        canvas.attr('height', height * mpl.ratio);\n",
       "        canvas.attr('style', 'width: ' + width + 'px; height: ' + height + 'px;');\n",
       "\n",
       "        rubberband.attr('width', width);\n",
       "        rubberband.attr('height', height);\n",
       "    }\n",
       "\n",
       "    // Set the figure to an initial 600x600px, this will subsequently be updated\n",
       "    // upon first draw.\n",
       "    this._resize_canvas(600, 600);\n",
       "\n",
       "    // Disable right mouse context menu.\n",
       "    $(this.rubberband_canvas).bind(\"contextmenu\",function(e){\n",
       "        return false;\n",
       "    });\n",
       "\n",
       "    function set_focus () {\n",
       "        canvas.focus();\n",
       "        canvas_div.focus();\n",
       "    }\n",
       "\n",
       "    window.setTimeout(set_focus, 100);\n",
       "}\n",
       "\n",
       "mpl.figure.prototype._init_toolbar = function() {\n",
       "    var fig = this;\n",
       "\n",
       "    var nav_element = $('<div/>')\n",
       "    nav_element.attr('style', 'width: 100%');\n",
       "    this.root.append(nav_element);\n",
       "\n",
       "    // Define a callback function for later on.\n",
       "    function toolbar_event(event) {\n",
       "        return fig.toolbar_button_onclick(event['data']);\n",
       "    }\n",
       "    function toolbar_mouse_event(event) {\n",
       "        return fig.toolbar_button_onmouseover(event['data']);\n",
       "    }\n",
       "\n",
       "    for(var toolbar_ind in mpl.toolbar_items) {\n",
       "        var name = mpl.toolbar_items[toolbar_ind][0];\n",
       "        var tooltip = mpl.toolbar_items[toolbar_ind][1];\n",
       "        var image = mpl.toolbar_items[toolbar_ind][2];\n",
       "        var method_name = mpl.toolbar_items[toolbar_ind][3];\n",
       "\n",
       "        if (!name) {\n",
       "            // put a spacer in here.\n",
       "            continue;\n",
       "        }\n",
       "        var button = $('<button/>');\n",
       "        button.addClass('ui-button ui-widget ui-state-default ui-corner-all ' +\n",
       "                        'ui-button-icon-only');\n",
       "        button.attr('role', 'button');\n",
       "        button.attr('aria-disabled', 'false');\n",
       "        button.click(method_name, toolbar_event);\n",
       "        button.mouseover(tooltip, toolbar_mouse_event);\n",
       "\n",
       "        var icon_img = $('<span/>');\n",
       "        icon_img.addClass('ui-button-icon-primary ui-icon');\n",
       "        icon_img.addClass(image);\n",
       "        icon_img.addClass('ui-corner-all');\n",
       "\n",
       "        var tooltip_span = $('<span/>');\n",
       "        tooltip_span.addClass('ui-button-text');\n",
       "        tooltip_span.html(tooltip);\n",
       "\n",
       "        button.append(icon_img);\n",
       "        button.append(tooltip_span);\n",
       "\n",
       "        nav_element.append(button);\n",
       "    }\n",
       "\n",
       "    var fmt_picker_span = $('<span/>');\n",
       "\n",
       "    var fmt_picker = $('<select/>');\n",
       "    fmt_picker.addClass('mpl-toolbar-option ui-widget ui-widget-content');\n",
       "    fmt_picker_span.append(fmt_picker);\n",
       "    nav_element.append(fmt_picker_span);\n",
       "    this.format_dropdown = fmt_picker[0];\n",
       "\n",
       "    for (var ind in mpl.extensions) {\n",
       "        var fmt = mpl.extensions[ind];\n",
       "        var option = $(\n",
       "            '<option/>', {selected: fmt === mpl.default_extension}).html(fmt);\n",
       "        fmt_picker.append(option)\n",
       "    }\n",
       "\n",
       "    // Add hover states to the ui-buttons\n",
       "    $( \".ui-button\" ).hover(\n",
       "        function() { $(this).addClass(\"ui-state-hover\");},\n",
       "        function() { $(this).removeClass(\"ui-state-hover\");}\n",
       "    );\n",
       "\n",
       "    var status_bar = $('<span class=\"mpl-message\"/>');\n",
       "    nav_element.append(status_bar);\n",
       "    this.message = status_bar[0];\n",
       "}\n",
       "\n",
       "mpl.figure.prototype.request_resize = function(x_pixels, y_pixels) {\n",
       "    // Request matplotlib to resize the figure. Matplotlib will then trigger a resize in the client,\n",
       "    // which will in turn request a refresh of the image.\n",
       "    this.send_message('resize', {'width': x_pixels, 'height': y_pixels});\n",
       "}\n",
       "\n",
       "mpl.figure.prototype.send_message = function(type, properties) {\n",
       "    properties['type'] = type;\n",
       "    properties['figure_id'] = this.id;\n",
       "    this.ws.send(JSON.stringify(properties));\n",
       "}\n",
       "\n",
       "mpl.figure.prototype.send_draw_message = function() {\n",
       "    if (!this.waiting) {\n",
       "        this.waiting = true;\n",
       "        this.ws.send(JSON.stringify({type: \"draw\", figure_id: this.id}));\n",
       "    }\n",
       "}\n",
       "\n",
       "\n",
       "mpl.figure.prototype.handle_save = function(fig, msg) {\n",
       "    var format_dropdown = fig.format_dropdown;\n",
       "    var format = format_dropdown.options[format_dropdown.selectedIndex].value;\n",
       "    fig.ondownload(fig, format);\n",
       "}\n",
       "\n",
       "\n",
       "mpl.figure.prototype.handle_resize = function(fig, msg) {\n",
       "    var size = msg['size'];\n",
       "    if (size[0] != fig.canvas.width || size[1] != fig.canvas.height) {\n",
       "        fig._resize_canvas(size[0], size[1]);\n",
       "        fig.send_message(\"refresh\", {});\n",
       "    };\n",
       "}\n",
       "\n",
       "mpl.figure.prototype.handle_rubberband = function(fig, msg) {\n",
       "    var x0 = msg['x0'] / mpl.ratio;\n",
       "    var y0 = (fig.canvas.height - msg['y0']) / mpl.ratio;\n",
       "    var x1 = msg['x1'] / mpl.ratio;\n",
       "    var y1 = (fig.canvas.height - msg['y1']) / mpl.ratio;\n",
       "    x0 = Math.floor(x0) + 0.5;\n",
       "    y0 = Math.floor(y0) + 0.5;\n",
       "    x1 = Math.floor(x1) + 0.5;\n",
       "    y1 = Math.floor(y1) + 0.5;\n",
       "    var min_x = Math.min(x0, x1);\n",
       "    var min_y = Math.min(y0, y1);\n",
       "    var width = Math.abs(x1 - x0);\n",
       "    var height = Math.abs(y1 - y0);\n",
       "\n",
       "    fig.rubberband_context.clearRect(\n",
       "        0, 0, fig.canvas.width, fig.canvas.height);\n",
       "\n",
       "    fig.rubberband_context.strokeRect(min_x, min_y, width, height);\n",
       "}\n",
       "\n",
       "mpl.figure.prototype.handle_figure_label = function(fig, msg) {\n",
       "    // Updates the figure title.\n",
       "    fig.header.textContent = msg['label'];\n",
       "}\n",
       "\n",
       "mpl.figure.prototype.handle_cursor = function(fig, msg) {\n",
       "    var cursor = msg['cursor'];\n",
       "    switch(cursor)\n",
       "    {\n",
       "    case 0:\n",
       "        cursor = 'pointer';\n",
       "        break;\n",
       "    case 1:\n",
       "        cursor = 'default';\n",
       "        break;\n",
       "    case 2:\n",
       "        cursor = 'crosshair';\n",
       "        break;\n",
       "    case 3:\n",
       "        cursor = 'move';\n",
       "        break;\n",
       "    }\n",
       "    fig.rubberband_canvas.style.cursor = cursor;\n",
       "}\n",
       "\n",
       "mpl.figure.prototype.handle_message = function(fig, msg) {\n",
       "    fig.message.textContent = msg['message'];\n",
       "}\n",
       "\n",
       "mpl.figure.prototype.handle_draw = function(fig, msg) {\n",
       "    // Request the server to send over a new figure.\n",
       "    fig.send_draw_message();\n",
       "}\n",
       "\n",
       "mpl.figure.prototype.handle_image_mode = function(fig, msg) {\n",
       "    fig.image_mode = msg['mode'];\n",
       "}\n",
       "\n",
       "mpl.figure.prototype.updated_canvas_event = function() {\n",
       "    // Called whenever the canvas gets updated.\n",
       "    this.send_message(\"ack\", {});\n",
       "}\n",
       "\n",
       "// A function to construct a web socket function for onmessage handling.\n",
       "// Called in the figure constructor.\n",
       "mpl.figure.prototype._make_on_message_function = function(fig) {\n",
       "    return function socket_on_message(evt) {\n",
       "        if (evt.data instanceof Blob) {\n",
       "            /* FIXME: We get \"Resource interpreted as Image but\n",
       "             * transferred with MIME type text/plain:\" errors on\n",
       "             * Chrome.  But how to set the MIME type?  It doesn't seem\n",
       "             * to be part of the websocket stream */\n",
       "            evt.data.type = \"image/png\";\n",
       "\n",
       "            /* Free the memory for the previous frames */\n",
       "            if (fig.imageObj.src) {\n",
       "                (window.URL || window.webkitURL).revokeObjectURL(\n",
       "                    fig.imageObj.src);\n",
       "            }\n",
       "\n",
       "            fig.imageObj.src = (window.URL || window.webkitURL).createObjectURL(\n",
       "                evt.data);\n",
       "            fig.updated_canvas_event();\n",
       "            fig.waiting = false;\n",
       "            return;\n",
       "        }\n",
       "        else if (typeof evt.data === 'string' && evt.data.slice(0, 21) == \"data:image/png;base64\") {\n",
       "            fig.imageObj.src = evt.data;\n",
       "            fig.updated_canvas_event();\n",
       "            fig.waiting = false;\n",
       "            return;\n",
       "        }\n",
       "\n",
       "        var msg = JSON.parse(evt.data);\n",
       "        var msg_type = msg['type'];\n",
       "\n",
       "        // Call the  \"handle_{type}\" callback, which takes\n",
       "        // the figure and JSON message as its only arguments.\n",
       "        try {\n",
       "            var callback = fig[\"handle_\" + msg_type];\n",
       "        } catch (e) {\n",
       "            console.log(\"No handler for the '\" + msg_type + \"' message type: \", msg);\n",
       "            return;\n",
       "        }\n",
       "\n",
       "        if (callback) {\n",
       "            try {\n",
       "                // console.log(\"Handling '\" + msg_type + \"' message: \", msg);\n",
       "                callback(fig, msg);\n",
       "            } catch (e) {\n",
       "                console.log(\"Exception inside the 'handler_\" + msg_type + \"' callback:\", e, e.stack, msg);\n",
       "            }\n",
       "        }\n",
       "    };\n",
       "}\n",
       "\n",
       "// from http://stackoverflow.com/questions/1114465/getting-mouse-location-in-canvas\n",
       "mpl.findpos = function(e) {\n",
       "    //this section is from http://www.quirksmode.org/js/events_properties.html\n",
       "    var targ;\n",
       "    if (!e)\n",
       "        e = window.event;\n",
       "    if (e.target)\n",
       "        targ = e.target;\n",
       "    else if (e.srcElement)\n",
       "        targ = e.srcElement;\n",
       "    if (targ.nodeType == 3) // defeat Safari bug\n",
       "        targ = targ.parentNode;\n",
       "\n",
       "    // jQuery normalizes the pageX and pageY\n",
       "    // pageX,Y are the mouse positions relative to the document\n",
       "    // offset() returns the position of the element relative to the document\n",
       "    var x = e.pageX - $(targ).offset().left;\n",
       "    var y = e.pageY - $(targ).offset().top;\n",
       "\n",
       "    return {\"x\": x, \"y\": y};\n",
       "};\n",
       "\n",
       "/*\n",
       " * return a copy of an object with only non-object keys\n",
       " * we need this to avoid circular references\n",
       " * http://stackoverflow.com/a/24161582/3208463\n",
       " */\n",
       "function simpleKeys (original) {\n",
       "  return Object.keys(original).reduce(function (obj, key) {\n",
       "    if (typeof original[key] !== 'object')\n",
       "        obj[key] = original[key]\n",
       "    return obj;\n",
       "  }, {});\n",
       "}\n",
       "\n",
       "mpl.figure.prototype.mouse_event = function(event, name) {\n",
       "    var canvas_pos = mpl.findpos(event)\n",
       "\n",
       "    if (name === 'button_press')\n",
       "    {\n",
       "        this.canvas.focus();\n",
       "        this.canvas_div.focus();\n",
       "    }\n",
       "\n",
       "    var x = canvas_pos.x * mpl.ratio;\n",
       "    var y = canvas_pos.y * mpl.ratio;\n",
       "\n",
       "    this.send_message(name, {x: x, y: y, button: event.button,\n",
       "                             step: event.step,\n",
       "                             guiEvent: simpleKeys(event)});\n",
       "\n",
       "    /* This prevents the web browser from automatically changing to\n",
       "     * the text insertion cursor when the button is pressed.  We want\n",
       "     * to control all of the cursor setting manually through the\n",
       "     * 'cursor' event from matplotlib */\n",
       "    event.preventDefault();\n",
       "    return false;\n",
       "}\n",
       "\n",
       "mpl.figure.prototype._key_event_extra = function(event, name) {\n",
       "    // Handle any extra behaviour associated with a key event\n",
       "}\n",
       "\n",
       "mpl.figure.prototype.key_event = function(event, name) {\n",
       "\n",
       "    // Prevent repeat events\n",
       "    if (name == 'key_press')\n",
       "    {\n",
       "        if (event.which === this._key)\n",
       "            return;\n",
       "        else\n",
       "            this._key = event.which;\n",
       "    }\n",
       "    if (name == 'key_release')\n",
       "        this._key = null;\n",
       "\n",
       "    var value = '';\n",
       "    if (event.ctrlKey && event.which != 17)\n",
       "        value += \"ctrl+\";\n",
       "    if (event.altKey && event.which != 18)\n",
       "        value += \"alt+\";\n",
       "    if (event.shiftKey && event.which != 16)\n",
       "        value += \"shift+\";\n",
       "\n",
       "    value += 'k';\n",
       "    value += event.which.toString();\n",
       "\n",
       "    this._key_event_extra(event, name);\n",
       "\n",
       "    this.send_message(name, {key: value,\n",
       "                             guiEvent: simpleKeys(event)});\n",
       "    return false;\n",
       "}\n",
       "\n",
       "mpl.figure.prototype.toolbar_button_onclick = function(name) {\n",
       "    if (name == 'download') {\n",
       "        this.handle_save(this, null);\n",
       "    } else {\n",
       "        this.send_message(\"toolbar_button\", {name: name});\n",
       "    }\n",
       "};\n",
       "\n",
       "mpl.figure.prototype.toolbar_button_onmouseover = function(tooltip) {\n",
       "    this.message.textContent = tooltip;\n",
       "};\n",
       "mpl.toolbar_items = [[\"Home\", \"Reset original view\", \"fa fa-home icon-home\", \"home\"], [\"Back\", \"Back to  previous view\", \"fa fa-arrow-left icon-arrow-left\", \"back\"], [\"Forward\", \"Forward to next view\", \"fa fa-arrow-right icon-arrow-right\", \"forward\"], [\"\", \"\", \"\", \"\"], [\"Pan\", \"Pan axes with left mouse, zoom with right\", \"fa fa-arrows icon-move\", \"pan\"], [\"Zoom\", \"Zoom to rectangle\", \"fa fa-square-o icon-check-empty\", \"zoom\"], [\"\", \"\", \"\", \"\"], [\"Download\", \"Download plot\", \"fa fa-floppy-o icon-save\", \"download\"]];\n",
       "\n",
       "mpl.extensions = [\"eps\", \"jpeg\", \"pdf\", \"png\", \"ps\", \"raw\", \"svg\", \"tif\"];\n",
       "\n",
       "mpl.default_extension = \"png\";var comm_websocket_adapter = function(comm) {\n",
       "    // Create a \"websocket\"-like object which calls the given IPython comm\n",
       "    // object with the appropriate methods. Currently this is a non binary\n",
       "    // socket, so there is still some room for performance tuning.\n",
       "    var ws = {};\n",
       "\n",
       "    ws.close = function() {\n",
       "        comm.close()\n",
       "    };\n",
       "    ws.send = function(m) {\n",
       "        //console.log('sending', m);\n",
       "        comm.send(m);\n",
       "    };\n",
       "    // Register the callback with on_msg.\n",
       "    comm.on_msg(function(msg) {\n",
       "        //console.log('receiving', msg['content']['data'], msg);\n",
       "        // Pass the mpl event to the overriden (by mpl) onmessage function.\n",
       "        ws.onmessage(msg['content']['data'])\n",
       "    });\n",
       "    return ws;\n",
       "}\n",
       "\n",
       "mpl.mpl_figure_comm = function(comm, msg) {\n",
       "    // This is the function which gets called when the mpl process\n",
       "    // starts-up an IPython Comm through the \"matplotlib\" channel.\n",
       "\n",
       "    var id = msg.content.data.id;\n",
       "    // Get hold of the div created by the display call when the Comm\n",
       "    // socket was opened in Python.\n",
       "    var element = $(\"#\" + id);\n",
       "    var ws_proxy = comm_websocket_adapter(comm)\n",
       "\n",
       "    function ondownload(figure, format) {\n",
       "        window.open(figure.imageObj.src);\n",
       "    }\n",
       "\n",
       "    var fig = new mpl.figure(id, ws_proxy,\n",
       "                           ondownload,\n",
       "                           element.get(0));\n",
       "\n",
       "    // Call onopen now - mpl needs it, as it is assuming we've passed it a real\n",
       "    // web socket which is closed, not our websocket->open comm proxy.\n",
       "    ws_proxy.onopen();\n",
       "\n",
       "    fig.parent_element = element.get(0);\n",
       "    fig.cell_info = mpl.find_output_cell(\"<div id='\" + id + \"'></div>\");\n",
       "    if (!fig.cell_info) {\n",
       "        console.error(\"Failed to find cell for figure\", id, fig);\n",
       "        return;\n",
       "    }\n",
       "\n",
       "    var output_index = fig.cell_info[2]\n",
       "    var cell = fig.cell_info[0];\n",
       "\n",
       "};\n",
       "\n",
       "mpl.figure.prototype.handle_close = function(fig, msg) {\n",
       "    var width = fig.canvas.width/mpl.ratio\n",
       "    fig.root.unbind('remove')\n",
       "\n",
       "    // Update the output cell to use the data from the current canvas.\n",
       "    fig.push_to_output();\n",
       "    var dataURL = fig.canvas.toDataURL();\n",
       "    // Re-enable the keyboard manager in IPython - without this line, in FF,\n",
       "    // the notebook keyboard shortcuts fail.\n",
       "    IPython.keyboard_manager.enable()\n",
       "    $(fig.parent_element).html('<img src=\"' + dataURL + '\" width=\"' + width + '\">');\n",
       "    fig.close_ws(fig, msg);\n",
       "}\n",
       "\n",
       "mpl.figure.prototype.close_ws = function(fig, msg){\n",
       "    fig.send_message('closing', msg);\n",
       "    // fig.ws.close()\n",
       "}\n",
       "\n",
       "mpl.figure.prototype.push_to_output = function(remove_interactive) {\n",
       "    // Turn the data on the canvas into data in the output cell.\n",
       "    var width = this.canvas.width/mpl.ratio\n",
       "    var dataURL = this.canvas.toDataURL();\n",
       "    this.cell_info[1]['text/html'] = '<img src=\"' + dataURL + '\" width=\"' + width + '\">';\n",
       "}\n",
       "\n",
       "mpl.figure.prototype.updated_canvas_event = function() {\n",
       "    // Tell IPython that the notebook contents must change.\n",
       "    IPython.notebook.set_dirty(true);\n",
       "    this.send_message(\"ack\", {});\n",
       "    var fig = this;\n",
       "    // Wait a second, then push the new image to the DOM so\n",
       "    // that it is saved nicely (might be nice to debounce this).\n",
       "    setTimeout(function () { fig.push_to_output() }, 1000);\n",
       "}\n",
       "\n",
       "mpl.figure.prototype._init_toolbar = function() {\n",
       "    var fig = this;\n",
       "\n",
       "    var nav_element = $('<div/>')\n",
       "    nav_element.attr('style', 'width: 100%');\n",
       "    this.root.append(nav_element);\n",
       "\n",
       "    // Define a callback function for later on.\n",
       "    function toolbar_event(event) {\n",
       "        return fig.toolbar_button_onclick(event['data']);\n",
       "    }\n",
       "    function toolbar_mouse_event(event) {\n",
       "        return fig.toolbar_button_onmouseover(event['data']);\n",
       "    }\n",
       "\n",
       "    for(var toolbar_ind in mpl.toolbar_items){\n",
       "        var name = mpl.toolbar_items[toolbar_ind][0];\n",
       "        var tooltip = mpl.toolbar_items[toolbar_ind][1];\n",
       "        var image = mpl.toolbar_items[toolbar_ind][2];\n",
       "        var method_name = mpl.toolbar_items[toolbar_ind][3];\n",
       "\n",
       "        if (!name) { continue; };\n",
       "\n",
       "        var button = $('<button class=\"btn btn-default\" href=\"#\" title=\"' + name + '\"><i class=\"fa ' + image + ' fa-lg\"></i></button>');\n",
       "        button.click(method_name, toolbar_event);\n",
       "        button.mouseover(tooltip, toolbar_mouse_event);\n",
       "        nav_element.append(button);\n",
       "    }\n",
       "\n",
       "    // Add the status bar.\n",
       "    var status_bar = $('<span class=\"mpl-message\" style=\"text-align:right; float: right;\"/>');\n",
       "    nav_element.append(status_bar);\n",
       "    this.message = status_bar[0];\n",
       "\n",
       "    // Add the close button to the window.\n",
       "    var buttongrp = $('<div class=\"btn-group inline pull-right\"></div>');\n",
       "    var button = $('<button class=\"btn btn-mini btn-primary\" href=\"#\" title=\"Stop Interaction\"><i class=\"fa fa-power-off icon-remove icon-large\"></i></button>');\n",
       "    button.click(function (evt) { fig.handle_close(fig, {}); } );\n",
       "    button.mouseover('Stop Interaction', toolbar_mouse_event);\n",
       "    buttongrp.append(button);\n",
       "    var titlebar = this.root.find($('.ui-dialog-titlebar'));\n",
       "    titlebar.prepend(buttongrp);\n",
       "}\n",
       "\n",
       "mpl.figure.prototype._root_extra_style = function(el){\n",
       "    var fig = this\n",
       "    el.on(\"remove\", function(){\n",
       "\tfig.close_ws(fig, {});\n",
       "    });\n",
       "}\n",
       "\n",
       "mpl.figure.prototype._canvas_extra_style = function(el){\n",
       "    // this is important to make the div 'focusable\n",
       "    el.attr('tabindex', 0)\n",
       "    // reach out to IPython and tell the keyboard manager to turn it's self\n",
       "    // off when our div gets focus\n",
       "\n",
       "    // location in version 3\n",
       "    if (IPython.notebook.keyboard_manager) {\n",
       "        IPython.notebook.keyboard_manager.register_events(el);\n",
       "    }\n",
       "    else {\n",
       "        // location in version 2\n",
       "        IPython.keyboard_manager.register_events(el);\n",
       "    }\n",
       "\n",
       "}\n",
       "\n",
       "mpl.figure.prototype._key_event_extra = function(event, name) {\n",
       "    var manager = IPython.notebook.keyboard_manager;\n",
       "    if (!manager)\n",
       "        manager = IPython.keyboard_manager;\n",
       "\n",
       "    // Check for shift+enter\n",
       "    if (event.shiftKey && event.which == 13) {\n",
       "        this.canvas_div.blur();\n",
       "        event.shiftKey = false;\n",
       "        // Send a \"J\" for go to next cell\n",
       "        event.which = 74;\n",
       "        event.keyCode = 74;\n",
       "        manager.command_mode();\n",
       "        manager.handle_keydown(event);\n",
       "    }\n",
       "}\n",
       "\n",
       "mpl.figure.prototype.handle_save = function(fig, msg) {\n",
       "    fig.ondownload(fig, null);\n",
       "}\n",
       "\n",
       "\n",
       "mpl.find_output_cell = function(html_output) {\n",
       "    // Return the cell and output element which can be found *uniquely* in the notebook.\n",
       "    // Note - this is a bit hacky, but it is done because the \"notebook_saving.Notebook\"\n",
       "    // IPython event is triggered only after the cells have been serialised, which for\n",
       "    // our purposes (turning an active figure into a static one), is too late.\n",
       "    var cells = IPython.notebook.get_cells();\n",
       "    var ncells = cells.length;\n",
       "    for (var i=0; i<ncells; i++) {\n",
       "        var cell = cells[i];\n",
       "        if (cell.cell_type === 'code'){\n",
       "            for (var j=0; j<cell.output_area.outputs.length; j++) {\n",
       "                var data = cell.output_area.outputs[j];\n",
       "                if (data.data) {\n",
       "                    // IPython >= 3 moved mimebundle to data attribute of output\n",
       "                    data = data.data;\n",
       "                }\n",
       "                if (data['text/html'] == html_output) {\n",
       "                    return [cell, data, j];\n",
       "                }\n",
       "            }\n",
       "        }\n",
       "    }\n",
       "}\n",
       "\n",
       "// Register the function which deals with the matplotlib target/channel.\n",
       "// The kernel may be null if the page has been refreshed.\n",
       "if (IPython.notebook.kernel != null) {\n",
       "    IPython.notebook.kernel.comm_manager.register_target('matplotlib', mpl.mpl_figure_comm);\n",
       "}\n"
      ],
      "text/plain": [
       "<IPython.core.display.Javascript object>"
      ]
     },
     "metadata": {},
     "output_type": "display_data"
    },
    {
     "data": {
      "text/html": [
       "<img src=\"data:image/png;base64,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\" width=\"639.9999861283738\">"
      ],
      "text/plain": [
       "<IPython.core.display.HTML object>"
      ]
     },
     "metadata": {},
     "output_type": "display_data"
    },
    {
     "data": {
      "text/plain": [
       "[<matplotlib.lines.Line2D at 0x1386a0b0fd0>]"
      ]
     },
     "execution_count": 421,
     "metadata": {},
     "output_type": "execute_result"
    }
   ],
   "source": [
    "plt.figure()\n",
    "plt.plot(errors.keys(),errors.values())"
   ]
  },
  {
   "cell_type": "code",
   "execution_count": 424,
   "metadata": {},
   "outputs": [
    {
     "name": "stdout",
     "output_type": "stream",
     "text": [
      "4200\n"
     ]
    }
   ],
   "source": [
    "### Threshould value for minimum error\n",
    "print(min(errors,key=errors.get))\n",
    "### However, we find out if we reduce to "
   ]
  },
  {
   "cell_type": "code",
   "execution_count": null,
   "metadata": {},
   "outputs": [],
   "source": [
    "# df_train = pd.read_csv('C:/Users/user/Documents/Salamat/ELO/train.csv')\n",
    "# df_test = pd.read_csv('C:/Users/user/Documents/Salamat/ELO/test.csv')\n",
    "# df_hist_trans = pd.read_csv('C:/Users/user/Documents/Salamat/ELO/historical_transactions_new.csv')\n",
    "# df_new_merchant_trans = pd.read_csv('C:/Users/user/Documents/Salamat/ELO/new_merchant_transactions_new.csv')"
   ]
  },
  {
   "cell_type": "code",
   "execution_count": 435,
   "metadata": {},
   "outputs": [],
   "source": [
    "# df_train.to_csv('C:/Users/user/Documents/Salamat/ELO/train_pur_date_4.csv', index=False)\n",
    "# df_test.to_csv('C:/Users/user/Documents/Salamat/ELO/test_pur_date_4.csv',index=False)"
   ]
  },
  {
   "cell_type": "code",
   "execution_count": 437,
   "metadata": {},
   "outputs": [],
   "source": [
    "# df_hist_trans.to_csv('C:/Users/user/Documents/Salamat/ELO/historical_transactions_pur_date_4.csv',index=False)\n",
    "# df_new_merchant_trans.to_csv('C:/Users/user/Documents/Salamat/ELO/new_merchant_transactions_pur_date_4.csv',index=False)"
   ]
  },
  {
   "cell_type": "code",
   "execution_count": 521,
   "metadata": {
    "scrolled": true
   },
   "outputs": [],
   "source": [
    "df_new_merchant_trans=pd.read_csv('C:/Users/user/Documents/Salamat/ELO/new_merchant_transactions_pur_date_4.csv')"
   ]
  },
  {
   "cell_type": "code",
   "execution_count": 449,
   "metadata": {},
   "outputs": [],
   "source": [
    "df_train_original=pd.read_csv('train.csv',parse_dates=['first_active_month'])"
   ]
  },
  {
   "cell_type": "code",
   "execution_count": 460,
   "metadata": {},
   "outputs": [],
   "source": [
    "columns=['card_id', 'authorized_flag', 'city_id', 'category_1', 'installments',\n",
    "       'category_3', 'merchant_category_id', 'merchant_id', 'month_lag',\n",
    "       'purchase_amount', 'purchase_date', 'category_2', 'month_diff', 'category_2_mean', 'category_3_mean']"
   ]
  },
  {
   "cell_type": "code",
   "execution_count": 461,
   "metadata": {
    "scrolled": false
   },
   "outputs": [
    {
     "data": {
      "text/html": [
       "<div>\n",
       "<style scoped>\n",
       "    .dataframe tbody tr th:only-of-type {\n",
       "        vertical-align: middle;\n",
       "    }\n",
       "\n",
       "    .dataframe tbody tr th {\n",
       "        vertical-align: top;\n",
       "    }\n",
       "\n",
       "    .dataframe thead th {\n",
       "        text-align: right;\n",
       "    }\n",
       "</style>\n",
       "<table border=\"1\" class=\"dataframe\">\n",
       "  <thead>\n",
       "    <tr style=\"text-align: right;\">\n",
       "      <th></th>\n",
       "      <th>card_id</th>\n",
       "      <th>authorized_flag</th>\n",
       "      <th>city_id</th>\n",
       "      <th>category_1</th>\n",
       "      <th>installments</th>\n",
       "      <th>category_3</th>\n",
       "      <th>merchant_category_id</th>\n",
       "      <th>merchant_id</th>\n",
       "      <th>month_lag</th>\n",
       "      <th>purchase_amount</th>\n",
       "      <th>purchase_date</th>\n",
       "      <th>category_2</th>\n",
       "      <th>month_diff</th>\n",
       "      <th>category_2_mean</th>\n",
       "      <th>category_3_mean</th>\n",
       "    </tr>\n",
       "  </thead>\n",
       "  <tbody>\n",
       "    <tr>\n",
       "      <th>0</th>\n",
       "      <td>C_ID_415bb3a509</td>\n",
       "      <td>1</td>\n",
       "      <td>107</td>\n",
       "      <td>0</td>\n",
       "      <td>1</td>\n",
       "      <td>B</td>\n",
       "      <td>307</td>\n",
       "      <td>M_ID_b0c793002c</td>\n",
       "      <td>1</td>\n",
       "      <td>-0.557617</td>\n",
       "      <td>2018-03-11 14:57:36</td>\n",
       "      <td>1.0</td>\n",
       "      <td>0</td>\n",
       "      <td>-0.557412</td>\n",
       "      <td>-0.571578</td>\n",
       "    </tr>\n",
       "    <tr>\n",
       "      <th>1</th>\n",
       "      <td>C_ID_415bb3a509</td>\n",
       "      <td>1</td>\n",
       "      <td>140</td>\n",
       "      <td>0</td>\n",
       "      <td>1</td>\n",
       "      <td>B</td>\n",
       "      <td>307</td>\n",
       "      <td>M_ID_88920c89e8</td>\n",
       "      <td>1</td>\n",
       "      <td>-0.569336</td>\n",
       "      <td>2018-03-19 18:53:37</td>\n",
       "      <td>1.0</td>\n",
       "      <td>0</td>\n",
       "      <td>-0.557412</td>\n",
       "      <td>-0.571578</td>\n",
       "    </tr>\n",
       "    <tr>\n",
       "      <th>2</th>\n",
       "      <td>C_ID_415bb3a509</td>\n",
       "      <td>1</td>\n",
       "      <td>330</td>\n",
       "      <td>0</td>\n",
       "      <td>1</td>\n",
       "      <td>B</td>\n",
       "      <td>507</td>\n",
       "      <td>M_ID_ad5237ef6b</td>\n",
       "      <td>2</td>\n",
       "      <td>-0.551270</td>\n",
       "      <td>2018-04-26 14:08:44</td>\n",
       "      <td>1.0</td>\n",
       "      <td>-1</td>\n",
       "      <td>-0.557412</td>\n",
       "      <td>-0.571578</td>\n",
       "    </tr>\n",
       "    <tr>\n",
       "      <th>3</th>\n",
       "      <td>C_ID_415bb3a509</td>\n",
       "      <td>1</td>\n",
       "      <td>-1</td>\n",
       "      <td>1</td>\n",
       "      <td>1</td>\n",
       "      <td>B</td>\n",
       "      <td>661</td>\n",
       "      <td>M_ID_9e84cda3b1</td>\n",
       "      <td>1</td>\n",
       "      <td>-0.671875</td>\n",
       "      <td>2018-03-07 09:43:21</td>\n",
       "      <td>1.0</td>\n",
       "      <td>0</td>\n",
       "      <td>-0.557412</td>\n",
       "      <td>-0.571578</td>\n",
       "    </tr>\n",
       "  </tbody>\n",
       "</table>\n",
       "</div>"
      ],
      "text/plain": [
       "           card_id  authorized_flag  city_id  category_1  installments  \\\n",
       "0  C_ID_415bb3a509                1      107           0             1   \n",
       "1  C_ID_415bb3a509                1      140           0             1   \n",
       "2  C_ID_415bb3a509                1      330           0             1   \n",
       "3  C_ID_415bb3a509                1       -1           1             1   \n",
       "\n",
       "  category_3  merchant_category_id      merchant_id  month_lag  \\\n",
       "0          B                   307  M_ID_b0c793002c          1   \n",
       "1          B                   307  M_ID_88920c89e8          1   \n",
       "2          B                   507  M_ID_ad5237ef6b          2   \n",
       "3          B                   661  M_ID_9e84cda3b1          1   \n",
       "\n",
       "   purchase_amount       purchase_date  category_2  month_diff  \\\n",
       "0        -0.557617 2018-03-11 14:57:36         1.0           0   \n",
       "1        -0.569336 2018-03-19 18:53:37         1.0           0   \n",
       "2        -0.551270 2018-04-26 14:08:44         1.0          -1   \n",
       "3        -0.671875 2018-03-07 09:43:21         1.0           0   \n",
       "\n",
       "   category_2_mean  category_3_mean  \n",
       "0        -0.557412        -0.571578  \n",
       "1        -0.557412        -0.571578  \n",
       "2        -0.557412        -0.571578  \n",
       "3        -0.557412        -0.571578  "
      ]
     },
     "execution_count": 461,
     "metadata": {},
     "output_type": "execute_result"
    }
   ],
   "source": [
    "df_new_merchant_trans[df_new_merchant_trans.card_id=='C_ID_415bb3a509'][columns]"
   ]
  },
  {
   "cell_type": "code",
   "execution_count": 469,
   "metadata": {
    "scrolled": true
   },
   "outputs": [
    {
     "data": {
      "text/html": [
       "<div>\n",
       "<style scoped>\n",
       "    .dataframe tbody tr th:only-of-type {\n",
       "        vertical-align: middle;\n",
       "    }\n",
       "\n",
       "    .dataframe tbody tr th {\n",
       "        vertical-align: top;\n",
       "    }\n",
       "\n",
       "    .dataframe thead th {\n",
       "        text-align: right;\n",
       "    }\n",
       "</style>\n",
       "<table border=\"1\" class=\"dataframe\">\n",
       "  <thead>\n",
       "    <tr style=\"text-align: right;\">\n",
       "      <th></th>\n",
       "      <th>first_active_month</th>\n",
       "      <th>card_id</th>\n",
       "      <th>feature_1</th>\n",
       "      <th>feature_2</th>\n",
       "      <th>feature_3</th>\n",
       "      <th>target</th>\n",
       "    </tr>\n",
       "  </thead>\n",
       "  <tbody>\n",
       "    <tr>\n",
       "      <th>0</th>\n",
       "      <td>2017-06-01</td>\n",
       "      <td>C_ID_92a2005557</td>\n",
       "      <td>5</td>\n",
       "      <td>2</td>\n",
       "      <td>1</td>\n",
       "      <td>-0.820283</td>\n",
       "    </tr>\n",
       "    <tr>\n",
       "      <th>1</th>\n",
       "      <td>2017-01-01</td>\n",
       "      <td>C_ID_3d0044924f</td>\n",
       "      <td>4</td>\n",
       "      <td>1</td>\n",
       "      <td>0</td>\n",
       "      <td>0.392913</td>\n",
       "    </tr>\n",
       "    <tr>\n",
       "      <th>2</th>\n",
       "      <td>2016-08-01</td>\n",
       "      <td>C_ID_d639edf6cd</td>\n",
       "      <td>2</td>\n",
       "      <td>2</td>\n",
       "      <td>0</td>\n",
       "      <td>0.688056</td>\n",
       "    </tr>\n",
       "    <tr>\n",
       "      <th>3</th>\n",
       "      <td>2017-09-01</td>\n",
       "      <td>C_ID_186d6a6901</td>\n",
       "      <td>4</td>\n",
       "      <td>3</td>\n",
       "      <td>0</td>\n",
       "      <td>0.142495</td>\n",
       "    </tr>\n",
       "    <tr>\n",
       "      <th>4</th>\n",
       "      <td>2017-11-01</td>\n",
       "      <td>C_ID_cdbd2c0db2</td>\n",
       "      <td>1</td>\n",
       "      <td>3</td>\n",
       "      <td>0</td>\n",
       "      <td>-0.159749</td>\n",
       "    </tr>\n",
       "  </tbody>\n",
       "</table>\n",
       "</div>"
      ],
      "text/plain": [
       "  first_active_month          card_id  feature_1  feature_2  feature_3  \\\n",
       "0         2017-06-01  C_ID_92a2005557          5          2          1   \n",
       "1         2017-01-01  C_ID_3d0044924f          4          1          0   \n",
       "2         2016-08-01  C_ID_d639edf6cd          2          2          0   \n",
       "3         2017-09-01  C_ID_186d6a6901          4          3          0   \n",
       "4         2017-11-01  C_ID_cdbd2c0db2          1          3          0   \n",
       "\n",
       "     target  \n",
       "0 -0.820283  \n",
       "1  0.392913  \n",
       "2  0.688056  \n",
       "3  0.142495  \n",
       "4 -0.159749  "
      ]
     },
     "execution_count": 469,
     "metadata": {},
     "output_type": "execute_result"
    }
   ],
   "source": [
    "df_train_original.head()"
   ]
  },
  {
   "cell_type": "code",
   "execution_count": 596,
   "metadata": {},
   "outputs": [],
   "source": [
    "df_new=df_new_merchant_trans.groupby('card_id').agg({'merchant_id':['count','nunique']})\n",
    "df_hist=df_hist_trans.groupby('card_id').agg({'merchant_id':['count','nunique']})\n"
   ]
  },
  {
   "cell_type": "code",
   "execution_count": 597,
   "metadata": {},
   "outputs": [],
   "source": [
    "df_new=df_new['merchant_id']\n",
    "df_hist=df_hist['merchant_id']"
   ]
  },
  {
   "cell_type": "code",
   "execution_count": 598,
   "metadata": {
    "scrolled": false
   },
   "outputs": [],
   "source": [
    "df_new['diff']=df_new['count']-df_new['nunique']\n",
    "df_new['ratio']=df_new['diff']/(df_new['count']+1e-3)\n",
    "#df_new['diff'].value_counts()\n",
    "df_hist['diff']=df_hist['count']-df_hist['nunique']\n",
    "df_hist['ratio']=df_hist['diff']/(df_hist['count']+1e-3)"
   ]
  },
  {
   "cell_type": "code",
   "execution_count": 599,
   "metadata": {},
   "outputs": [
    {
     "data": {
      "text/plain": [
       "0.4320662016467264"
      ]
     },
     "execution_count": 599,
     "metadata": {},
     "output_type": "execute_result"
    }
   ],
   "source": [
    "df_hist.loc[df_new[df_new['diff']==5].index,'ratio'].mean()"
   ]
  },
  {
   "cell_type": "code",
   "execution_count": 600,
   "metadata": {
    "scrolled": true
   },
   "outputs": [
    {
     "data": {
      "text/plain": [
       "0.5145632418637889"
      ]
     },
     "execution_count": 600,
     "metadata": {},
     "output_type": "execute_result"
    }
   ],
   "source": [
    "df_hist.loc[df_new[df_new['diff']==0].index,'ratio'].mean()"
   ]
  },
  {
   "cell_type": "code",
   "execution_count": 595,
   "metadata": {},
   "outputs": [
    {
     "data": {
      "text/html": [
       "<div>\n",
       "<style scoped>\n",
       "    .dataframe tbody tr th:only-of-type {\n",
       "        vertical-align: middle;\n",
       "    }\n",
       "\n",
       "    .dataframe tbody tr th {\n",
       "        vertical-align: top;\n",
       "    }\n",
       "\n",
       "    .dataframe thead th {\n",
       "        text-align: right;\n",
       "    }\n",
       "</style>\n",
       "<table border=\"1\" class=\"dataframe\">\n",
       "  <thead>\n",
       "    <tr style=\"text-align: right;\">\n",
       "      <th></th>\n",
       "      <th>index</th>\n",
       "      <th>card_id</th>\n",
       "      <th>count</th>\n",
       "      <th>nunique</th>\n",
       "      <th>diff</th>\n",
       "      <th>ratio</th>\n",
       "    </tr>\n",
       "  </thead>\n",
       "  <tbody>\n",
       "    <tr>\n",
       "      <th>0</th>\n",
       "      <td>0</td>\n",
       "      <td>C_ID_00007093c1</td>\n",
       "      <td>149</td>\n",
       "      <td>29</td>\n",
       "      <td>120</td>\n",
       "      <td>0.805364</td>\n",
       "    </tr>\n",
       "    <tr>\n",
       "      <th>1</th>\n",
       "      <td>1</td>\n",
       "      <td>C_ID_0001238066</td>\n",
       "      <td>123</td>\n",
       "      <td>65</td>\n",
       "      <td>58</td>\n",
       "      <td>0.471541</td>\n",
       "    </tr>\n",
       "    <tr>\n",
       "      <th>2</th>\n",
       "      <td>2</td>\n",
       "      <td>C_ID_0001506ef0</td>\n",
       "      <td>66</td>\n",
       "      <td>28</td>\n",
       "      <td>38</td>\n",
       "      <td>0.575749</td>\n",
       "    </tr>\n",
       "    <tr>\n",
       "      <th>3</th>\n",
       "      <td>3</td>\n",
       "      <td>C_ID_0001793786</td>\n",
       "      <td>216</td>\n",
       "      <td>119</td>\n",
       "      <td>97</td>\n",
       "      <td>0.449072</td>\n",
       "    </tr>\n",
       "    <tr>\n",
       "      <th>4</th>\n",
       "      <td>4</td>\n",
       "      <td>C_ID_000183fdda</td>\n",
       "      <td>144</td>\n",
       "      <td>73</td>\n",
       "      <td>71</td>\n",
       "      <td>0.493052</td>\n",
       "    </tr>\n",
       "  </tbody>\n",
       "</table>\n",
       "</div>"
      ],
      "text/plain": [
       "   index          card_id  count  nunique  diff     ratio\n",
       "0      0  C_ID_00007093c1    149       29   120  0.805364\n",
       "1      1  C_ID_0001238066    123       65    58  0.471541\n",
       "2      2  C_ID_0001506ef0     66       28    38  0.575749\n",
       "3      3  C_ID_0001793786    216      119    97  0.449072\n",
       "4      4  C_ID_000183fdda    144       73    71  0.493052"
      ]
     },
     "execution_count": 595,
     "metadata": {},
     "output_type": "execute_result"
    }
   ],
   "source": [
    "df_hist.head()"
   ]
  },
  {
   "cell_type": "code",
   "execution_count": 601,
   "metadata": {},
   "outputs": [],
   "source": [
    "df_hist.reset_index(inplace=True)"
   ]
  },
  {
   "cell_type": "code",
   "execution_count": 602,
   "metadata": {
    "scrolled": true
   },
   "outputs": [],
   "source": [
    "df_new.reset_index(inplace=True)"
   ]
  },
  {
   "cell_type": "code",
   "execution_count": 603,
   "metadata": {},
   "outputs": [],
   "source": [
    "# df_train_original.reset_index(inplace=True)\n",
    "# df_train_original.merge()\n",
    "df_train_original = df_train_original.merge(df_hist,on='card_id',how='left')\n"
   ]
  },
  {
   "cell_type": "code",
   "execution_count": 615,
   "metadata": {},
   "outputs": [
    {
     "data": {
      "application/javascript": [
       "/* Put everything inside the global mpl namespace */\n",
       "window.mpl = {};\n",
       "\n",
       "\n",
       "mpl.get_websocket_type = function() {\n",
       "    if (typeof(WebSocket) !== 'undefined') {\n",
       "        return WebSocket;\n",
       "    } else if (typeof(MozWebSocket) !== 'undefined') {\n",
       "        return MozWebSocket;\n",
       "    } else {\n",
       "        alert('Your browser does not have WebSocket support.' +\n",
       "              'Please try Chrome, Safari or Firefox ≥ 6. ' +\n",
       "              'Firefox 4 and 5 are also supported but you ' +\n",
       "              'have to enable WebSockets in about:config.');\n",
       "    };\n",
       "}\n",
       "\n",
       "mpl.figure = function(figure_id, websocket, ondownload, parent_element) {\n",
       "    this.id = figure_id;\n",
       "\n",
       "    this.ws = websocket;\n",
       "\n",
       "    this.supports_binary = (this.ws.binaryType != undefined);\n",
       "\n",
       "    if (!this.supports_binary) {\n",
       "        var warnings = document.getElementById(\"mpl-warnings\");\n",
       "        if (warnings) {\n",
       "            warnings.style.display = 'block';\n",
       "            warnings.textContent = (\n",
       "                \"This browser does not support binary websocket messages. \" +\n",
       "                    \"Performance may be slow.\");\n",
       "        }\n",
       "    }\n",
       "\n",
       "    this.imageObj = new Image();\n",
       "\n",
       "    this.context = undefined;\n",
       "    this.message = undefined;\n",
       "    this.canvas = undefined;\n",
       "    this.rubberband_canvas = undefined;\n",
       "    this.rubberband_context = undefined;\n",
       "    this.format_dropdown = undefined;\n",
       "\n",
       "    this.image_mode = 'full';\n",
       "\n",
       "    this.root = $('<div/>');\n",
       "    this._root_extra_style(this.root)\n",
       "    this.root.attr('style', 'display: inline-block');\n",
       "\n",
       "    $(parent_element).append(this.root);\n",
       "\n",
       "    this._init_header(this);\n",
       "    this._init_canvas(this);\n",
       "    this._init_toolbar(this);\n",
       "\n",
       "    var fig = this;\n",
       "\n",
       "    this.waiting = false;\n",
       "\n",
       "    this.ws.onopen =  function () {\n",
       "            fig.send_message(\"supports_binary\", {value: fig.supports_binary});\n",
       "            fig.send_message(\"send_image_mode\", {});\n",
       "            if (mpl.ratio != 1) {\n",
       "                fig.send_message(\"set_dpi_ratio\", {'dpi_ratio': mpl.ratio});\n",
       "            }\n",
       "            fig.send_message(\"refresh\", {});\n",
       "        }\n",
       "\n",
       "    this.imageObj.onload = function() {\n",
       "            if (fig.image_mode == 'full') {\n",
       "                // Full images could contain transparency (where diff images\n",
       "                // almost always do), so we need to clear the canvas so that\n",
       "                // there is no ghosting.\n",
       "                fig.context.clearRect(0, 0, fig.canvas.width, fig.canvas.height);\n",
       "            }\n",
       "            fig.context.drawImage(fig.imageObj, 0, 0);\n",
       "        };\n",
       "\n",
       "    this.imageObj.onunload = function() {\n",
       "        fig.ws.close();\n",
       "    }\n",
       "\n",
       "    this.ws.onmessage = this._make_on_message_function(this);\n",
       "\n",
       "    this.ondownload = ondownload;\n",
       "}\n",
       "\n",
       "mpl.figure.prototype._init_header = function() {\n",
       "    var titlebar = $(\n",
       "        '<div class=\"ui-dialog-titlebar ui-widget-header ui-corner-all ' +\n",
       "        'ui-helper-clearfix\"/>');\n",
       "    var titletext = $(\n",
       "        '<div class=\"ui-dialog-title\" style=\"width: 100%; ' +\n",
       "        'text-align: center; padding: 3px;\"/>');\n",
       "    titlebar.append(titletext)\n",
       "    this.root.append(titlebar);\n",
       "    this.header = titletext[0];\n",
       "}\n",
       "\n",
       "\n",
       "\n",
       "mpl.figure.prototype._canvas_extra_style = function(canvas_div) {\n",
       "\n",
       "}\n",
       "\n",
       "\n",
       "mpl.figure.prototype._root_extra_style = function(canvas_div) {\n",
       "\n",
       "}\n",
       "\n",
       "mpl.figure.prototype._init_canvas = function() {\n",
       "    var fig = this;\n",
       "\n",
       "    var canvas_div = $('<div/>');\n",
       "\n",
       "    canvas_div.attr('style', 'position: relative; clear: both; outline: 0');\n",
       "\n",
       "    function canvas_keyboard_event(event) {\n",
       "        return fig.key_event(event, event['data']);\n",
       "    }\n",
       "\n",
       "    canvas_div.keydown('key_press', canvas_keyboard_event);\n",
       "    canvas_div.keyup('key_release', canvas_keyboard_event);\n",
       "    this.canvas_div = canvas_div\n",
       "    this._canvas_extra_style(canvas_div)\n",
       "    this.root.append(canvas_div);\n",
       "\n",
       "    var canvas = $('<canvas/>');\n",
       "    canvas.addClass('mpl-canvas');\n",
       "    canvas.attr('style', \"left: 0; top: 0; z-index: 0; outline: 0\")\n",
       "\n",
       "    this.canvas = canvas[0];\n",
       "    this.context = canvas[0].getContext(\"2d\");\n",
       "\n",
       "    var backingStore = this.context.backingStorePixelRatio ||\n",
       "\tthis.context.webkitBackingStorePixelRatio ||\n",
       "\tthis.context.mozBackingStorePixelRatio ||\n",
       "\tthis.context.msBackingStorePixelRatio ||\n",
       "\tthis.context.oBackingStorePixelRatio ||\n",
       "\tthis.context.backingStorePixelRatio || 1;\n",
       "\n",
       "    mpl.ratio = (window.devicePixelRatio || 1) / backingStore;\n",
       "\n",
       "    var rubberband = $('<canvas/>');\n",
       "    rubberband.attr('style', \"position: absolute; left: 0; top: 0; z-index: 1;\")\n",
       "\n",
       "    var pass_mouse_events = true;\n",
       "\n",
       "    canvas_div.resizable({\n",
       "        start: function(event, ui) {\n",
       "            pass_mouse_events = false;\n",
       "        },\n",
       "        resize: function(event, ui) {\n",
       "            fig.request_resize(ui.size.width, ui.size.height);\n",
       "        },\n",
       "        stop: function(event, ui) {\n",
       "            pass_mouse_events = true;\n",
       "            fig.request_resize(ui.size.width, ui.size.height);\n",
       "        },\n",
       "    });\n",
       "\n",
       "    function mouse_event_fn(event) {\n",
       "        if (pass_mouse_events)\n",
       "            return fig.mouse_event(event, event['data']);\n",
       "    }\n",
       "\n",
       "    rubberband.mousedown('button_press', mouse_event_fn);\n",
       "    rubberband.mouseup('button_release', mouse_event_fn);\n",
       "    // Throttle sequential mouse events to 1 every 20ms.\n",
       "    rubberband.mousemove('motion_notify', mouse_event_fn);\n",
       "\n",
       "    rubberband.mouseenter('figure_enter', mouse_event_fn);\n",
       "    rubberband.mouseleave('figure_leave', mouse_event_fn);\n",
       "\n",
       "    canvas_div.on(\"wheel\", function (event) {\n",
       "        event = event.originalEvent;\n",
       "        event['data'] = 'scroll'\n",
       "        if (event.deltaY < 0) {\n",
       "            event.step = 1;\n",
       "        } else {\n",
       "            event.step = -1;\n",
       "        }\n",
       "        mouse_event_fn(event);\n",
       "    });\n",
       "\n",
       "    canvas_div.append(canvas);\n",
       "    canvas_div.append(rubberband);\n",
       "\n",
       "    this.rubberband = rubberband;\n",
       "    this.rubberband_canvas = rubberband[0];\n",
       "    this.rubberband_context = rubberband[0].getContext(\"2d\");\n",
       "    this.rubberband_context.strokeStyle = \"#000000\";\n",
       "\n",
       "    this._resize_canvas = function(width, height) {\n",
       "        // Keep the size of the canvas, canvas container, and rubber band\n",
       "        // canvas in synch.\n",
       "        canvas_div.css('width', width)\n",
       "        canvas_div.css('height', height)\n",
       "\n",
       "        canvas.attr('width', width * mpl.ratio);\n",
       "        canvas.attr('height', height * mpl.ratio);\n",
       "        canvas.attr('style', 'width: ' + width + 'px; height: ' + height + 'px;');\n",
       "\n",
       "        rubberband.attr('width', width);\n",
       "        rubberband.attr('height', height);\n",
       "    }\n",
       "\n",
       "    // Set the figure to an initial 600x600px, this will subsequently be updated\n",
       "    // upon first draw.\n",
       "    this._resize_canvas(600, 600);\n",
       "\n",
       "    // Disable right mouse context menu.\n",
       "    $(this.rubberband_canvas).bind(\"contextmenu\",function(e){\n",
       "        return false;\n",
       "    });\n",
       "\n",
       "    function set_focus () {\n",
       "        canvas.focus();\n",
       "        canvas_div.focus();\n",
       "    }\n",
       "\n",
       "    window.setTimeout(set_focus, 100);\n",
       "}\n",
       "\n",
       "mpl.figure.prototype._init_toolbar = function() {\n",
       "    var fig = this;\n",
       "\n",
       "    var nav_element = $('<div/>')\n",
       "    nav_element.attr('style', 'width: 100%');\n",
       "    this.root.append(nav_element);\n",
       "\n",
       "    // Define a callback function for later on.\n",
       "    function toolbar_event(event) {\n",
       "        return fig.toolbar_button_onclick(event['data']);\n",
       "    }\n",
       "    function toolbar_mouse_event(event) {\n",
       "        return fig.toolbar_button_onmouseover(event['data']);\n",
       "    }\n",
       "\n",
       "    for(var toolbar_ind in mpl.toolbar_items) {\n",
       "        var name = mpl.toolbar_items[toolbar_ind][0];\n",
       "        var tooltip = mpl.toolbar_items[toolbar_ind][1];\n",
       "        var image = mpl.toolbar_items[toolbar_ind][2];\n",
       "        var method_name = mpl.toolbar_items[toolbar_ind][3];\n",
       "\n",
       "        if (!name) {\n",
       "            // put a spacer in here.\n",
       "            continue;\n",
       "        }\n",
       "        var button = $('<button/>');\n",
       "        button.addClass('ui-button ui-widget ui-state-default ui-corner-all ' +\n",
       "                        'ui-button-icon-only');\n",
       "        button.attr('role', 'button');\n",
       "        button.attr('aria-disabled', 'false');\n",
       "        button.click(method_name, toolbar_event);\n",
       "        button.mouseover(tooltip, toolbar_mouse_event);\n",
       "\n",
       "        var icon_img = $('<span/>');\n",
       "        icon_img.addClass('ui-button-icon-primary ui-icon');\n",
       "        icon_img.addClass(image);\n",
       "        icon_img.addClass('ui-corner-all');\n",
       "\n",
       "        var tooltip_span = $('<span/>');\n",
       "        tooltip_span.addClass('ui-button-text');\n",
       "        tooltip_span.html(tooltip);\n",
       "\n",
       "        button.append(icon_img);\n",
       "        button.append(tooltip_span);\n",
       "\n",
       "        nav_element.append(button);\n",
       "    }\n",
       "\n",
       "    var fmt_picker_span = $('<span/>');\n",
       "\n",
       "    var fmt_picker = $('<select/>');\n",
       "    fmt_picker.addClass('mpl-toolbar-option ui-widget ui-widget-content');\n",
       "    fmt_picker_span.append(fmt_picker);\n",
       "    nav_element.append(fmt_picker_span);\n",
       "    this.format_dropdown = fmt_picker[0];\n",
       "\n",
       "    for (var ind in mpl.extensions) {\n",
       "        var fmt = mpl.extensions[ind];\n",
       "        var option = $(\n",
       "            '<option/>', {selected: fmt === mpl.default_extension}).html(fmt);\n",
       "        fmt_picker.append(option)\n",
       "    }\n",
       "\n",
       "    // Add hover states to the ui-buttons\n",
       "    $( \".ui-button\" ).hover(\n",
       "        function() { $(this).addClass(\"ui-state-hover\");},\n",
       "        function() { $(this).removeClass(\"ui-state-hover\");}\n",
       "    );\n",
       "\n",
       "    var status_bar = $('<span class=\"mpl-message\"/>');\n",
       "    nav_element.append(status_bar);\n",
       "    this.message = status_bar[0];\n",
       "}\n",
       "\n",
       "mpl.figure.prototype.request_resize = function(x_pixels, y_pixels) {\n",
       "    // Request matplotlib to resize the figure. Matplotlib will then trigger a resize in the client,\n",
       "    // which will in turn request a refresh of the image.\n",
       "    this.send_message('resize', {'width': x_pixels, 'height': y_pixels});\n",
       "}\n",
       "\n",
       "mpl.figure.prototype.send_message = function(type, properties) {\n",
       "    properties['type'] = type;\n",
       "    properties['figure_id'] = this.id;\n",
       "    this.ws.send(JSON.stringify(properties));\n",
       "}\n",
       "\n",
       "mpl.figure.prototype.send_draw_message = function() {\n",
       "    if (!this.waiting) {\n",
       "        this.waiting = true;\n",
       "        this.ws.send(JSON.stringify({type: \"draw\", figure_id: this.id}));\n",
       "    }\n",
       "}\n",
       "\n",
       "\n",
       "mpl.figure.prototype.handle_save = function(fig, msg) {\n",
       "    var format_dropdown = fig.format_dropdown;\n",
       "    var format = format_dropdown.options[format_dropdown.selectedIndex].value;\n",
       "    fig.ondownload(fig, format);\n",
       "}\n",
       "\n",
       "\n",
       "mpl.figure.prototype.handle_resize = function(fig, msg) {\n",
       "    var size = msg['size'];\n",
       "    if (size[0] != fig.canvas.width || size[1] != fig.canvas.height) {\n",
       "        fig._resize_canvas(size[0], size[1]);\n",
       "        fig.send_message(\"refresh\", {});\n",
       "    };\n",
       "}\n",
       "\n",
       "mpl.figure.prototype.handle_rubberband = function(fig, msg) {\n",
       "    var x0 = msg['x0'] / mpl.ratio;\n",
       "    var y0 = (fig.canvas.height - msg['y0']) / mpl.ratio;\n",
       "    var x1 = msg['x1'] / mpl.ratio;\n",
       "    var y1 = (fig.canvas.height - msg['y1']) / mpl.ratio;\n",
       "    x0 = Math.floor(x0) + 0.5;\n",
       "    y0 = Math.floor(y0) + 0.5;\n",
       "    x1 = Math.floor(x1) + 0.5;\n",
       "    y1 = Math.floor(y1) + 0.5;\n",
       "    var min_x = Math.min(x0, x1);\n",
       "    var min_y = Math.min(y0, y1);\n",
       "    var width = Math.abs(x1 - x0);\n",
       "    var height = Math.abs(y1 - y0);\n",
       "\n",
       "    fig.rubberband_context.clearRect(\n",
       "        0, 0, fig.canvas.width, fig.canvas.height);\n",
       "\n",
       "    fig.rubberband_context.strokeRect(min_x, min_y, width, height);\n",
       "}\n",
       "\n",
       "mpl.figure.prototype.handle_figure_label = function(fig, msg) {\n",
       "    // Updates the figure title.\n",
       "    fig.header.textContent = msg['label'];\n",
       "}\n",
       "\n",
       "mpl.figure.prototype.handle_cursor = function(fig, msg) {\n",
       "    var cursor = msg['cursor'];\n",
       "    switch(cursor)\n",
       "    {\n",
       "    case 0:\n",
       "        cursor = 'pointer';\n",
       "        break;\n",
       "    case 1:\n",
       "        cursor = 'default';\n",
       "        break;\n",
       "    case 2:\n",
       "        cursor = 'crosshair';\n",
       "        break;\n",
       "    case 3:\n",
       "        cursor = 'move';\n",
       "        break;\n",
       "    }\n",
       "    fig.rubberband_canvas.style.cursor = cursor;\n",
       "}\n",
       "\n",
       "mpl.figure.prototype.handle_message = function(fig, msg) {\n",
       "    fig.message.textContent = msg['message'];\n",
       "}\n",
       "\n",
       "mpl.figure.prototype.handle_draw = function(fig, msg) {\n",
       "    // Request the server to send over a new figure.\n",
       "    fig.send_draw_message();\n",
       "}\n",
       "\n",
       "mpl.figure.prototype.handle_image_mode = function(fig, msg) {\n",
       "    fig.image_mode = msg['mode'];\n",
       "}\n",
       "\n",
       "mpl.figure.prototype.updated_canvas_event = function() {\n",
       "    // Called whenever the canvas gets updated.\n",
       "    this.send_message(\"ack\", {});\n",
       "}\n",
       "\n",
       "// A function to construct a web socket function for onmessage handling.\n",
       "// Called in the figure constructor.\n",
       "mpl.figure.prototype._make_on_message_function = function(fig) {\n",
       "    return function socket_on_message(evt) {\n",
       "        if (evt.data instanceof Blob) {\n",
       "            /* FIXME: We get \"Resource interpreted as Image but\n",
       "             * transferred with MIME type text/plain:\" errors on\n",
       "             * Chrome.  But how to set the MIME type?  It doesn't seem\n",
       "             * to be part of the websocket stream */\n",
       "            evt.data.type = \"image/png\";\n",
       "\n",
       "            /* Free the memory for the previous frames */\n",
       "            if (fig.imageObj.src) {\n",
       "                (window.URL || window.webkitURL).revokeObjectURL(\n",
       "                    fig.imageObj.src);\n",
       "            }\n",
       "\n",
       "            fig.imageObj.src = (window.URL || window.webkitURL).createObjectURL(\n",
       "                evt.data);\n",
       "            fig.updated_canvas_event();\n",
       "            fig.waiting = false;\n",
       "            return;\n",
       "        }\n",
       "        else if (typeof evt.data === 'string' && evt.data.slice(0, 21) == \"data:image/png;base64\") {\n",
       "            fig.imageObj.src = evt.data;\n",
       "            fig.updated_canvas_event();\n",
       "            fig.waiting = false;\n",
       "            return;\n",
       "        }\n",
       "\n",
       "        var msg = JSON.parse(evt.data);\n",
       "        var msg_type = msg['type'];\n",
       "\n",
       "        // Call the  \"handle_{type}\" callback, which takes\n",
       "        // the figure and JSON message as its only arguments.\n",
       "        try {\n",
       "            var callback = fig[\"handle_\" + msg_type];\n",
       "        } catch (e) {\n",
       "            console.log(\"No handler for the '\" + msg_type + \"' message type: \", msg);\n",
       "            return;\n",
       "        }\n",
       "\n",
       "        if (callback) {\n",
       "            try {\n",
       "                // console.log(\"Handling '\" + msg_type + \"' message: \", msg);\n",
       "                callback(fig, msg);\n",
       "            } catch (e) {\n",
       "                console.log(\"Exception inside the 'handler_\" + msg_type + \"' callback:\", e, e.stack, msg);\n",
       "            }\n",
       "        }\n",
       "    };\n",
       "}\n",
       "\n",
       "// from http://stackoverflow.com/questions/1114465/getting-mouse-location-in-canvas\n",
       "mpl.findpos = function(e) {\n",
       "    //this section is from http://www.quirksmode.org/js/events_properties.html\n",
       "    var targ;\n",
       "    if (!e)\n",
       "        e = window.event;\n",
       "    if (e.target)\n",
       "        targ = e.target;\n",
       "    else if (e.srcElement)\n",
       "        targ = e.srcElement;\n",
       "    if (targ.nodeType == 3) // defeat Safari bug\n",
       "        targ = targ.parentNode;\n",
       "\n",
       "    // jQuery normalizes the pageX and pageY\n",
       "    // pageX,Y are the mouse positions relative to the document\n",
       "    // offset() returns the position of the element relative to the document\n",
       "    var x = e.pageX - $(targ).offset().left;\n",
       "    var y = e.pageY - $(targ).offset().top;\n",
       "\n",
       "    return {\"x\": x, \"y\": y};\n",
       "};\n",
       "\n",
       "/*\n",
       " * return a copy of an object with only non-object keys\n",
       " * we need this to avoid circular references\n",
       " * http://stackoverflow.com/a/24161582/3208463\n",
       " */\n",
       "function simpleKeys (original) {\n",
       "  return Object.keys(original).reduce(function (obj, key) {\n",
       "    if (typeof original[key] !== 'object')\n",
       "        obj[key] = original[key]\n",
       "    return obj;\n",
       "  }, {});\n",
       "}\n",
       "\n",
       "mpl.figure.prototype.mouse_event = function(event, name) {\n",
       "    var canvas_pos = mpl.findpos(event)\n",
       "\n",
       "    if (name === 'button_press')\n",
       "    {\n",
       "        this.canvas.focus();\n",
       "        this.canvas_div.focus();\n",
       "    }\n",
       "\n",
       "    var x = canvas_pos.x * mpl.ratio;\n",
       "    var y = canvas_pos.y * mpl.ratio;\n",
       "\n",
       "    this.send_message(name, {x: x, y: y, button: event.button,\n",
       "                             step: event.step,\n",
       "                             guiEvent: simpleKeys(event)});\n",
       "\n",
       "    /* This prevents the web browser from automatically changing to\n",
       "     * the text insertion cursor when the button is pressed.  We want\n",
       "     * to control all of the cursor setting manually through the\n",
       "     * 'cursor' event from matplotlib */\n",
       "    event.preventDefault();\n",
       "    return false;\n",
       "}\n",
       "\n",
       "mpl.figure.prototype._key_event_extra = function(event, name) {\n",
       "    // Handle any extra behaviour associated with a key event\n",
       "}\n",
       "\n",
       "mpl.figure.prototype.key_event = function(event, name) {\n",
       "\n",
       "    // Prevent repeat events\n",
       "    if (name == 'key_press')\n",
       "    {\n",
       "        if (event.which === this._key)\n",
       "            return;\n",
       "        else\n",
       "            this._key = event.which;\n",
       "    }\n",
       "    if (name == 'key_release')\n",
       "        this._key = null;\n",
       "\n",
       "    var value = '';\n",
       "    if (event.ctrlKey && event.which != 17)\n",
       "        value += \"ctrl+\";\n",
       "    if (event.altKey && event.which != 18)\n",
       "        value += \"alt+\";\n",
       "    if (event.shiftKey && event.which != 16)\n",
       "        value += \"shift+\";\n",
       "\n",
       "    value += 'k';\n",
       "    value += event.which.toString();\n",
       "\n",
       "    this._key_event_extra(event, name);\n",
       "\n",
       "    this.send_message(name, {key: value,\n",
       "                             guiEvent: simpleKeys(event)});\n",
       "    return false;\n",
       "}\n",
       "\n",
       "mpl.figure.prototype.toolbar_button_onclick = function(name) {\n",
       "    if (name == 'download') {\n",
       "        this.handle_save(this, null);\n",
       "    } else {\n",
       "        this.send_message(\"toolbar_button\", {name: name});\n",
       "    }\n",
       "};\n",
       "\n",
       "mpl.figure.prototype.toolbar_button_onmouseover = function(tooltip) {\n",
       "    this.message.textContent = tooltip;\n",
       "};\n",
       "mpl.toolbar_items = [[\"Home\", \"Reset original view\", \"fa fa-home icon-home\", \"home\"], [\"Back\", \"Back to  previous view\", \"fa fa-arrow-left icon-arrow-left\", \"back\"], [\"Forward\", \"Forward to next view\", \"fa fa-arrow-right icon-arrow-right\", \"forward\"], [\"\", \"\", \"\", \"\"], [\"Pan\", \"Pan axes with left mouse, zoom with right\", \"fa fa-arrows icon-move\", \"pan\"], [\"Zoom\", \"Zoom to rectangle\", \"fa fa-square-o icon-check-empty\", \"zoom\"], [\"\", \"\", \"\", \"\"], [\"Download\", \"Download plot\", \"fa fa-floppy-o icon-save\", \"download\"]];\n",
       "\n",
       "mpl.extensions = [\"eps\", \"jpeg\", \"pdf\", \"png\", \"ps\", \"raw\", \"svg\", \"tif\"];\n",
       "\n",
       "mpl.default_extension = \"png\";var comm_websocket_adapter = function(comm) {\n",
       "    // Create a \"websocket\"-like object which calls the given IPython comm\n",
       "    // object with the appropriate methods. Currently this is a non binary\n",
       "    // socket, so there is still some room for performance tuning.\n",
       "    var ws = {};\n",
       "\n",
       "    ws.close = function() {\n",
       "        comm.close()\n",
       "    };\n",
       "    ws.send = function(m) {\n",
       "        //console.log('sending', m);\n",
       "        comm.send(m);\n",
       "    };\n",
       "    // Register the callback with on_msg.\n",
       "    comm.on_msg(function(msg) {\n",
       "        //console.log('receiving', msg['content']['data'], msg);\n",
       "        // Pass the mpl event to the overriden (by mpl) onmessage function.\n",
       "        ws.onmessage(msg['content']['data'])\n",
       "    });\n",
       "    return ws;\n",
       "}\n",
       "\n",
       "mpl.mpl_figure_comm = function(comm, msg) {\n",
       "    // This is the function which gets called when the mpl process\n",
       "    // starts-up an IPython Comm through the \"matplotlib\" channel.\n",
       "\n",
       "    var id = msg.content.data.id;\n",
       "    // Get hold of the div created by the display call when the Comm\n",
       "    // socket was opened in Python.\n",
       "    var element = $(\"#\" + id);\n",
       "    var ws_proxy = comm_websocket_adapter(comm)\n",
       "\n",
       "    function ondownload(figure, format) {\n",
       "        window.open(figure.imageObj.src);\n",
       "    }\n",
       "\n",
       "    var fig = new mpl.figure(id, ws_proxy,\n",
       "                           ondownload,\n",
       "                           element.get(0));\n",
       "\n",
       "    // Call onopen now - mpl needs it, as it is assuming we've passed it a real\n",
       "    // web socket which is closed, not our websocket->open comm proxy.\n",
       "    ws_proxy.onopen();\n",
       "\n",
       "    fig.parent_element = element.get(0);\n",
       "    fig.cell_info = mpl.find_output_cell(\"<div id='\" + id + \"'></div>\");\n",
       "    if (!fig.cell_info) {\n",
       "        console.error(\"Failed to find cell for figure\", id, fig);\n",
       "        return;\n",
       "    }\n",
       "\n",
       "    var output_index = fig.cell_info[2]\n",
       "    var cell = fig.cell_info[0];\n",
       "\n",
       "};\n",
       "\n",
       "mpl.figure.prototype.handle_close = function(fig, msg) {\n",
       "    var width = fig.canvas.width/mpl.ratio\n",
       "    fig.root.unbind('remove')\n",
       "\n",
       "    // Update the output cell to use the data from the current canvas.\n",
       "    fig.push_to_output();\n",
       "    var dataURL = fig.canvas.toDataURL();\n",
       "    // Re-enable the keyboard manager in IPython - without this line, in FF,\n",
       "    // the notebook keyboard shortcuts fail.\n",
       "    IPython.keyboard_manager.enable()\n",
       "    $(fig.parent_element).html('<img src=\"' + dataURL + '\" width=\"' + width + '\">');\n",
       "    fig.close_ws(fig, msg);\n",
       "}\n",
       "\n",
       "mpl.figure.prototype.close_ws = function(fig, msg){\n",
       "    fig.send_message('closing', msg);\n",
       "    // fig.ws.close()\n",
       "}\n",
       "\n",
       "mpl.figure.prototype.push_to_output = function(remove_interactive) {\n",
       "    // Turn the data on the canvas into data in the output cell.\n",
       "    var width = this.canvas.width/mpl.ratio\n",
       "    var dataURL = this.canvas.toDataURL();\n",
       "    this.cell_info[1]['text/html'] = '<img src=\"' + dataURL + '\" width=\"' + width + '\">';\n",
       "}\n",
       "\n",
       "mpl.figure.prototype.updated_canvas_event = function() {\n",
       "    // Tell IPython that the notebook contents must change.\n",
       "    IPython.notebook.set_dirty(true);\n",
       "    this.send_message(\"ack\", {});\n",
       "    var fig = this;\n",
       "    // Wait a second, then push the new image to the DOM so\n",
       "    // that it is saved nicely (might be nice to debounce this).\n",
       "    setTimeout(function () { fig.push_to_output() }, 1000);\n",
       "}\n",
       "\n",
       "mpl.figure.prototype._init_toolbar = function() {\n",
       "    var fig = this;\n",
       "\n",
       "    var nav_element = $('<div/>')\n",
       "    nav_element.attr('style', 'width: 100%');\n",
       "    this.root.append(nav_element);\n",
       "\n",
       "    // Define a callback function for later on.\n",
       "    function toolbar_event(event) {\n",
       "        return fig.toolbar_button_onclick(event['data']);\n",
       "    }\n",
       "    function toolbar_mouse_event(event) {\n",
       "        return fig.toolbar_button_onmouseover(event['data']);\n",
       "    }\n",
       "\n",
       "    for(var toolbar_ind in mpl.toolbar_items){\n",
       "        var name = mpl.toolbar_items[toolbar_ind][0];\n",
       "        var tooltip = mpl.toolbar_items[toolbar_ind][1];\n",
       "        var image = mpl.toolbar_items[toolbar_ind][2];\n",
       "        var method_name = mpl.toolbar_items[toolbar_ind][3];\n",
       "\n",
       "        if (!name) { continue; };\n",
       "\n",
       "        var button = $('<button class=\"btn btn-default\" href=\"#\" title=\"' + name + '\"><i class=\"fa ' + image + ' fa-lg\"></i></button>');\n",
       "        button.click(method_name, toolbar_event);\n",
       "        button.mouseover(tooltip, toolbar_mouse_event);\n",
       "        nav_element.append(button);\n",
       "    }\n",
       "\n",
       "    // Add the status bar.\n",
       "    var status_bar = $('<span class=\"mpl-message\" style=\"text-align:right; float: right;\"/>');\n",
       "    nav_element.append(status_bar);\n",
       "    this.message = status_bar[0];\n",
       "\n",
       "    // Add the close button to the window.\n",
       "    var buttongrp = $('<div class=\"btn-group inline pull-right\"></div>');\n",
       "    var button = $('<button class=\"btn btn-mini btn-primary\" href=\"#\" title=\"Stop Interaction\"><i class=\"fa fa-power-off icon-remove icon-large\"></i></button>');\n",
       "    button.click(function (evt) { fig.handle_close(fig, {}); } );\n",
       "    button.mouseover('Stop Interaction', toolbar_mouse_event);\n",
       "    buttongrp.append(button);\n",
       "    var titlebar = this.root.find($('.ui-dialog-titlebar'));\n",
       "    titlebar.prepend(buttongrp);\n",
       "}\n",
       "\n",
       "mpl.figure.prototype._root_extra_style = function(el){\n",
       "    var fig = this\n",
       "    el.on(\"remove\", function(){\n",
       "\tfig.close_ws(fig, {});\n",
       "    });\n",
       "}\n",
       "\n",
       "mpl.figure.prototype._canvas_extra_style = function(el){\n",
       "    // this is important to make the div 'focusable\n",
       "    el.attr('tabindex', 0)\n",
       "    // reach out to IPython and tell the keyboard manager to turn it's self\n",
       "    // off when our div gets focus\n",
       "\n",
       "    // location in version 3\n",
       "    if (IPython.notebook.keyboard_manager) {\n",
       "        IPython.notebook.keyboard_manager.register_events(el);\n",
       "    }\n",
       "    else {\n",
       "        // location in version 2\n",
       "        IPython.keyboard_manager.register_events(el);\n",
       "    }\n",
       "\n",
       "}\n",
       "\n",
       "mpl.figure.prototype._key_event_extra = function(event, name) {\n",
       "    var manager = IPython.notebook.keyboard_manager;\n",
       "    if (!manager)\n",
       "        manager = IPython.keyboard_manager;\n",
       "\n",
       "    // Check for shift+enter\n",
       "    if (event.shiftKey && event.which == 13) {\n",
       "        this.canvas_div.blur();\n",
       "        event.shiftKey = false;\n",
       "        // Send a \"J\" for go to next cell\n",
       "        event.which = 74;\n",
       "        event.keyCode = 74;\n",
       "        manager.command_mode();\n",
       "        manager.handle_keydown(event);\n",
       "    }\n",
       "}\n",
       "\n",
       "mpl.figure.prototype.handle_save = function(fig, msg) {\n",
       "    fig.ondownload(fig, null);\n",
       "}\n",
       "\n",
       "\n",
       "mpl.find_output_cell = function(html_output) {\n",
       "    // Return the cell and output element which can be found *uniquely* in the notebook.\n",
       "    // Note - this is a bit hacky, but it is done because the \"notebook_saving.Notebook\"\n",
       "    // IPython event is triggered only after the cells have been serialised, which for\n",
       "    // our purposes (turning an active figure into a static one), is too late.\n",
       "    var cells = IPython.notebook.get_cells();\n",
       "    var ncells = cells.length;\n",
       "    for (var i=0; i<ncells; i++) {\n",
       "        var cell = cells[i];\n",
       "        if (cell.cell_type === 'code'){\n",
       "            for (var j=0; j<cell.output_area.outputs.length; j++) {\n",
       "                var data = cell.output_area.outputs[j];\n",
       "                if (data.data) {\n",
       "                    // IPython >= 3 moved mimebundle to data attribute of output\n",
       "                    data = data.data;\n",
       "                }\n",
       "                if (data['text/html'] == html_output) {\n",
       "                    return [cell, data, j];\n",
       "                }\n",
       "            }\n",
       "        }\n",
       "    }\n",
       "}\n",
       "\n",
       "// Register the function which deals with the matplotlib target/channel.\n",
       "// The kernel may be null if the page has been refreshed.\n",
       "if (IPython.notebook.kernel != null) {\n",
       "    IPython.notebook.kernel.comm_manager.register_target('matplotlib', mpl.mpl_figure_comm);\n",
       "}\n"
      ],
      "text/plain": [
       "<IPython.core.display.Javascript object>"
      ]
     },
     "metadata": {},
     "output_type": "display_data"
    },
    {
     "data": {
      "text/html": [
       "<img src=\"data:image/png;base64,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\" width=\"639.9999861283738\">"
      ],
      "text/plain": [
       "<IPython.core.display.HTML object>"
      ]
     },
     "metadata": {},
     "output_type": "display_data"
    },
    {
     "data": {
      "text/plain": [
       "<matplotlib.collections.PathCollection at 0x138f96b72e8>"
      ]
     },
     "execution_count": 615,
     "metadata": {},
     "output_type": "execute_result"
    }
   ],
   "source": [
    "plt.figure()\n",
    "plt.scatter(df_train_original.diff_y,df_train_original.target)"
   ]
  },
  {
   "cell_type": "code",
   "execution_count": 617,
   "metadata": {},
   "outputs": [
    {
     "ename": "XLearnLibraryNotFound",
     "evalue": "Cannot find xlearn Library in the candidate path",
     "output_type": "error",
     "traceback": [
      "\u001b[1;31m---------------------------------------------------------------------------\u001b[0m",
      "\u001b[1;31mXLearnLibraryNotFound\u001b[0m                     Traceback (most recent call last)",
      "\u001b[1;32m<ipython-input-617-e99a3a23cf44>\u001b[0m in \u001b[0;36m<module>\u001b[1;34m()\u001b[0m\n\u001b[1;32m----> 1\u001b[1;33m \u001b[1;32mimport\u001b[0m \u001b[0mxlearn\u001b[0m \u001b[1;32mas\u001b[0m \u001b[0mxl\u001b[0m\u001b[1;33m\u001b[0m\u001b[0m\n\u001b[0m",
      "\u001b[1;32m~\\Anaconda3\\lib\\site-packages\\xlearn\\__init__.py\u001b[0m in \u001b[0;36m<module>\u001b[1;34m()\u001b[0m\n\u001b[0;32m     16\u001b[0m \u001b[1;32mfrom\u001b[0m \u001b[0m__future__\u001b[0m \u001b[1;32mimport\u001b[0m \u001b[0mabsolute_import\u001b[0m\u001b[1;33m\u001b[0m\u001b[0m\n\u001b[0;32m     17\u001b[0m \u001b[1;32mimport\u001b[0m \u001b[0mos\u001b[0m\u001b[1;33m\u001b[0m\u001b[0m\n\u001b[1;32m---> 18\u001b[1;33m \u001b[1;32mfrom\u001b[0m \u001b[1;33m.\u001b[0m\u001b[0mxlearn\u001b[0m \u001b[1;32mimport\u001b[0m \u001b[1;33m*\u001b[0m\u001b[1;33m\u001b[0m\u001b[0m\n\u001b[0m\u001b[0;32m     19\u001b[0m \u001b[1;33m\u001b[0m\u001b[0m\n\u001b[0;32m     20\u001b[0m \u001b[0mVERSION_FILE\u001b[0m \u001b[1;33m=\u001b[0m \u001b[0mos\u001b[0m\u001b[1;33m.\u001b[0m\u001b[0mpath\u001b[0m\u001b[1;33m.\u001b[0m\u001b[0mjoin\u001b[0m\u001b[1;33m(\u001b[0m\u001b[0mos\u001b[0m\u001b[1;33m.\u001b[0m\u001b[0mpath\u001b[0m\u001b[1;33m.\u001b[0m\u001b[0mdirname\u001b[0m\u001b[1;33m(\u001b[0m\u001b[0m__file__\u001b[0m\u001b[1;33m)\u001b[0m\u001b[1;33m,\u001b[0m \u001b[1;34m'VERSION'\u001b[0m\u001b[1;33m)\u001b[0m\u001b[1;33m\u001b[0m\u001b[0m\n",
      "\u001b[1;32m~\\Anaconda3\\lib\\site-packages\\xlearn\\xlearn.py\u001b[0m in \u001b[0;36m<module>\u001b[1;34m()\u001b[0m\n\u001b[0;32m     17\u001b[0m \u001b[1;32mimport\u001b[0m \u001b[0mos\u001b[0m\u001b[1;33m\u001b[0m\u001b[0m\n\u001b[0;32m     18\u001b[0m \u001b[1;32mimport\u001b[0m \u001b[0mctypes\u001b[0m\u001b[1;33m\u001b[0m\u001b[0m\n\u001b[1;32m---> 19\u001b[1;33m \u001b[1;32mfrom\u001b[0m \u001b[1;33m.\u001b[0m\u001b[0mbase\u001b[0m \u001b[1;32mimport\u001b[0m \u001b[0m_LIB\u001b[0m\u001b[1;33m,\u001b[0m \u001b[0mXLearnHandle\u001b[0m\u001b[1;33m\u001b[0m\u001b[0m\n\u001b[0m\u001b[0;32m     20\u001b[0m \u001b[1;32mfrom\u001b[0m \u001b[1;33m.\u001b[0m\u001b[0mbase\u001b[0m \u001b[1;32mimport\u001b[0m \u001b[0m_check_call\u001b[0m\u001b[1;33m,\u001b[0m \u001b[0mc_str\u001b[0m\u001b[1;33m\u001b[0m\u001b[0m\n\u001b[0;32m     21\u001b[0m \u001b[1;33m\u001b[0m\u001b[0m\n",
      "\u001b[1;32m~\\Anaconda3\\lib\\site-packages\\xlearn\\base.py\u001b[0m in \u001b[0;36m<module>\u001b[1;34m()\u001b[0m\n\u001b[0;32m     32\u001b[0m \u001b[1;33m\u001b[0m\u001b[0m\n\u001b[0;32m     33\u001b[0m \u001b[1;31m# load the xlearn library globally\u001b[0m\u001b[1;33m\u001b[0m\u001b[1;33m\u001b[0m\u001b[0m\n\u001b[1;32m---> 34\u001b[1;33m \u001b[0m_LIB\u001b[0m \u001b[1;33m=\u001b[0m \u001b[0m_load_lib\u001b[0m\u001b[1;33m(\u001b[0m\u001b[1;33m)\u001b[0m\u001b[1;33m\u001b[0m\u001b[0m\n\u001b[0m\u001b[0;32m     35\u001b[0m \u001b[1;33m\u001b[0m\u001b[0m\n\u001b[0;32m     36\u001b[0m \u001b[1;32mdef\u001b[0m \u001b[0m_check_call\u001b[0m\u001b[1;33m(\u001b[0m\u001b[0mret\u001b[0m\u001b[1;33m)\u001b[0m\u001b[1;33m:\u001b[0m\u001b[1;33m\u001b[0m\u001b[0m\n",
      "\u001b[1;32m~\\Anaconda3\\lib\\site-packages\\xlearn\\base.py\u001b[0m in \u001b[0;36m_load_lib\u001b[1;34m()\u001b[0m\n\u001b[0;32m     25\u001b[0m \u001b[1;32mdef\u001b[0m \u001b[0m_load_lib\u001b[0m\u001b[1;33m(\u001b[0m\u001b[1;33m)\u001b[0m\u001b[1;33m:\u001b[0m\u001b[1;33m\u001b[0m\u001b[0m\n\u001b[0;32m     26\u001b[0m         \u001b[1;34m\"\"\"Load xlearn shared library\"\"\"\u001b[0m\u001b[1;33m\u001b[0m\u001b[0m\n\u001b[1;32m---> 27\u001b[1;33m         \u001b[0mlib_path\u001b[0m \u001b[1;33m=\u001b[0m \u001b[0mfind_lib_path\u001b[0m\u001b[1;33m(\u001b[0m\u001b[1;33m)\u001b[0m\u001b[1;33m\u001b[0m\u001b[0m\n\u001b[0m\u001b[0;32m     28\u001b[0m         \u001b[1;32mif\u001b[0m \u001b[0mlen\u001b[0m\u001b[1;33m(\u001b[0m\u001b[0mlib_path\u001b[0m\u001b[1;33m)\u001b[0m \u001b[1;33m==\u001b[0m \u001b[1;36m0\u001b[0m\u001b[1;33m:\u001b[0m\u001b[1;33m\u001b[0m\u001b[0m\n\u001b[0;32m     29\u001b[0m                 \u001b[1;32mreturn\u001b[0m \u001b[1;32mNone\u001b[0m\u001b[1;33m\u001b[0m\u001b[0m\n",
      "\u001b[1;32m~\\Anaconda3\\lib\\site-packages\\xlearn\\libpath.py\u001b[0m in \u001b[0;36mfind_lib_path\u001b[1;34m()\u001b[0m\n\u001b[0;32m     57\u001b[0m     \u001b[1;32mif\u001b[0m \u001b[1;32mnot\u001b[0m \u001b[0mlib_path\u001b[0m\u001b[1;33m:\u001b[0m\u001b[1;33m\u001b[0m\u001b[0m\n\u001b[0;32m     58\u001b[0m         raise XLearnLibraryNotFound(\n\u001b[1;32m---> 59\u001b[1;33m             \u001b[1;34m'Cannot find xlearn Library in the candidate path'\u001b[0m\u001b[1;33m\u001b[0m\u001b[0m\n\u001b[0m\u001b[0;32m     60\u001b[0m             )\n\u001b[0;32m     61\u001b[0m     \u001b[1;32mreturn\u001b[0m \u001b[0mlib_path\u001b[0m\u001b[1;33m\u001b[0m\u001b[0m\n",
      "\u001b[1;31mXLearnLibraryNotFound\u001b[0m: Cannot find xlearn Library in the candidate path"
     ]
    }
   ],
   "source": [
    "import xlearn as xl"
   ]
  },
  {
   "cell_type": "code",
   "execution_count": 586,
   "metadata": {},
   "outputs": [
    {
     "data": {
      "text/plain": [
       "-0.44013124225561284"
      ]
     },
     "execution_count": 586,
     "metadata": {},
     "output_type": "execute_result"
    }
   ],
   "source": [
    "df_train_original[df_train_original['diff']==0].target.mean()"
   ]
  },
  {
   "cell_type": "code",
   "execution_count": 591,
   "metadata": {},
   "outputs": [
    {
     "data": {
      "text/plain": [
       "-0.38353952"
      ]
     },
     "execution_count": 591,
     "metadata": {},
     "output_type": "execute_result"
    }
   ],
   "source": [
    "df_train_original[df_train_original['diff']==5].target.mean()"
   ]
  },
  {
   "cell_type": "code",
   "execution_count": 505,
   "metadata": {},
   "outputs": [
    {
     "ename": "KeyboardInterrupt",
     "evalue": "",
     "output_type": "error",
     "traceback": [
      "\u001b[1;31m---------------------------------------------------------------------------\u001b[0m",
      "\u001b[1;31mKeyboardInterrupt\u001b[0m                         Traceback (most recent call last)",
      "\u001b[1;32m<ipython-input-505-4d2585264f0e>\u001b[0m in \u001b[0;36m<module>\u001b[1;34m()\u001b[0m\n\u001b[0;32m      7\u001b[0m \u001b[1;32mfor\u001b[0m \u001b[0mcard_id\u001b[0m \u001b[1;32min\u001b[0m \u001b[0mdf_train_original\u001b[0m\u001b[1;33m.\u001b[0m\u001b[0mcard_id\u001b[0m\u001b[1;33m:\u001b[0m\u001b[1;33m\u001b[0m\u001b[0m\n\u001b[0;32m      8\u001b[0m     \u001b[0mnew_merchants\u001b[0m\u001b[1;33m=\u001b[0m\u001b[0mdf_new_merchant_trans\u001b[0m\u001b[1;33m.\u001b[0m\u001b[0mmerchant_id\u001b[0m\u001b[1;33m[\u001b[0m\u001b[0mdf_new_merchant_trans\u001b[0m\u001b[1;33m.\u001b[0m\u001b[0mcard_id\u001b[0m\u001b[1;33m==\u001b[0m\u001b[0mcard_id\u001b[0m\u001b[1;33m]\u001b[0m\u001b[1;33m.\u001b[0m\u001b[0mvalues\u001b[0m\u001b[1;33m\u001b[0m\u001b[0m\n\u001b[1;32m----> 9\u001b[1;33m     \u001b[0mold_merchants\u001b[0m\u001b[1;33m=\u001b[0m\u001b[0mdf_hist_trans\u001b[0m\u001b[1;33m.\u001b[0m\u001b[0mmerchant_id\u001b[0m\u001b[1;33m[\u001b[0m\u001b[0mdf_hist_trans\u001b[0m\u001b[1;33m.\u001b[0m\u001b[0mcard_id\u001b[0m\u001b[1;33m==\u001b[0m\u001b[0mcard_id\u001b[0m\u001b[1;33m]\u001b[0m\u001b[1;33m.\u001b[0m\u001b[0mvalues\u001b[0m\u001b[1;33m\u001b[0m\u001b[0m\n\u001b[0m\u001b[0;32m     10\u001b[0m     \u001b[0ma\u001b[0m\u001b[1;33m=\u001b[0m\u001b[0mset\u001b[0m\u001b[1;33m(\u001b[0m\u001b[0mnew_merchants\u001b[0m\u001b[1;33m)\u001b[0m\u001b[1;33m\u001b[0m\u001b[0m\n\u001b[0;32m     11\u001b[0m     \u001b[0mb\u001b[0m\u001b[1;33m=\u001b[0m\u001b[0mset\u001b[0m\u001b[1;33m(\u001b[0m\u001b[0mold_merchants\u001b[0m\u001b[1;33m)\u001b[0m\u001b[1;33m\u001b[0m\u001b[0m\n",
      "\u001b[1;32m~\\Anaconda3\\lib\\site-packages\\pandas\\core\\ops.py\u001b[0m in \u001b[0;36mwrapper\u001b[1;34m(self, other, axis)\u001b[0m\n\u001b[0;32m    877\u001b[0m \u001b[1;33m\u001b[0m\u001b[0m\n\u001b[0;32m    878\u001b[0m             \u001b[1;32mwith\u001b[0m \u001b[0mnp\u001b[0m\u001b[1;33m.\u001b[0m\u001b[0merrstate\u001b[0m\u001b[1;33m(\u001b[0m\u001b[0mall\u001b[0m\u001b[1;33m=\u001b[0m\u001b[1;34m'ignore'\u001b[0m\u001b[1;33m)\u001b[0m\u001b[1;33m:\u001b[0m\u001b[1;33m\u001b[0m\u001b[0m\n\u001b[1;32m--> 879\u001b[1;33m                 \u001b[0mres\u001b[0m \u001b[1;33m=\u001b[0m \u001b[0mna_op\u001b[0m\u001b[1;33m(\u001b[0m\u001b[0mvalues\u001b[0m\u001b[1;33m,\u001b[0m \u001b[0mother\u001b[0m\u001b[1;33m)\u001b[0m\u001b[1;33m\u001b[0m\u001b[0m\n\u001b[0m\u001b[0;32m    880\u001b[0m             \u001b[1;32mif\u001b[0m \u001b[0mis_scalar\u001b[0m\u001b[1;33m(\u001b[0m\u001b[0mres\u001b[0m\u001b[1;33m)\u001b[0m\u001b[1;33m:\u001b[0m\u001b[1;33m\u001b[0m\u001b[0m\n\u001b[0;32m    881\u001b[0m                 raise TypeError('Could not compare {typ} type with Series'\n",
      "\u001b[1;32m~\\Anaconda3\\lib\\site-packages\\pandas\\core\\ops.py\u001b[0m in \u001b[0;36mna_op\u001b[1;34m(x, y)\u001b[0m\n\u001b[0;32m    781\u001b[0m \u001b[1;33m\u001b[0m\u001b[0m\n\u001b[0;32m    782\u001b[0m         \u001b[1;32mif\u001b[0m \u001b[0mis_object_dtype\u001b[0m\u001b[1;33m(\u001b[0m\u001b[0mx\u001b[0m\u001b[1;33m.\u001b[0m\u001b[0mdtype\u001b[0m\u001b[1;33m)\u001b[0m\u001b[1;33m:\u001b[0m\u001b[1;33m\u001b[0m\u001b[0m\n\u001b[1;32m--> 783\u001b[1;33m             \u001b[0mresult\u001b[0m \u001b[1;33m=\u001b[0m \u001b[0m_comp_method_OBJECT_ARRAY\u001b[0m\u001b[1;33m(\u001b[0m\u001b[0mop\u001b[0m\u001b[1;33m,\u001b[0m \u001b[0mx\u001b[0m\u001b[1;33m,\u001b[0m \u001b[0my\u001b[0m\u001b[1;33m)\u001b[0m\u001b[1;33m\u001b[0m\u001b[0m\n\u001b[0m\u001b[0;32m    784\u001b[0m         \u001b[1;32melse\u001b[0m\u001b[1;33m:\u001b[0m\u001b[1;33m\u001b[0m\u001b[0m\n\u001b[0;32m    785\u001b[0m \u001b[1;33m\u001b[0m\u001b[0m\n",
      "\u001b[1;31mKeyboardInterrupt\u001b[0m: "
     ]
    }
   ],
   "source": [
    "df_train_ex=df_train_original.copy()\n",
    "#df.set_index('card_id',inplace=True)\n",
    "intersect=[]\n",
    "\n",
    "hist_freq=[]\n",
    "new_freq=[]\n",
    "\n",
    "\n",
    "df_hist_group=df_hist_trans.groupby('card_id').agg('count')\n",
    "df_new_group=df_new_merchant_trans.groupby('card_id')\n",
    "\n",
    "\n",
    "df_hist_group['hist_pur_counts']=df_hist_group.counts()\n",
    "\n",
    "\n",
    "\n",
    "\n",
    "\n",
    "\n",
    "for card_id in df_train_original.card_id:\n",
    "    \n",
    "    new_merchants=df_new_merchant_trans.merchant_id[df_new_merchant_trans.card_id==card_id].values\n",
    "    old_merchants=df_hist_trans.merchant_id[df_hist_trans.card_id==card_id].values\n",
    "    a=set(new_merchants)\n",
    "    b=set(old_merchants)\n",
    "    intersect.append(b.intersection(a))\n",
    "    \n",
    "    hist_freq.append(len(old_merchants)/(len(b)+1e-3)) # add small number to avoid division by zero\n",
    "    new_freq.append(len(new_merchants)/(len(a)+1e-3)) # add small number to avoid division by zero\n",
    "df_train_ex['intersec_merchant_id']=intersect\n",
    "df_train_ex['hist_freq']=hist_freq\n",
    "df_train_ex['new_freq']=new_freq "
   ]
  },
  {
   "cell_type": "code",
   "execution_count": 509,
   "metadata": {
    "scrolled": true
   },
   "outputs": [
    {
     "data": {
      "text/plain": [
       "236"
      ]
     },
     "execution_count": 509,
     "metadata": {},
     "output_type": "execute_result"
    }
   ],
   "source": [
    "len(new_freq)"
   ]
  },
  {
   "cell_type": "code",
   "execution_count": 510,
   "metadata": {},
   "outputs": [
    {
     "data": {
      "text/plain": [
       "[0.9999565236294073,\n",
       " 0.9998333611064822,\n",
       " 0.9990009990009991,\n",
       " 0.999857163262391,\n",
       " 0.9999722229938058,\n",
       " 0.9997500624843788,\n",
       " 0.9998000399920015,\n",
       " 0.9996667777407531,\n",
       " 0.9995002498750625,\n",
       " 0.9996667777407531,\n",
       " 0.9995002498750625,\n",
       " 0.9990009990009991,\n",
       " 0.9990009990009991,\n",
       " 0.9997500624843788,\n",
       " 0.9998333611064822,\n",
       " 0.0,\n",
       " 0.9996667777407531,\n",
       " 0.9990009990009991,\n",
       " 0.9997500624843788,\n",
       " 0.9999000099990002,\n",
       " 0.9999696978879429,\n",
       " 0.0,\n",
       " 0.9990009990009991,\n",
       " 0.9999000099990002,\n",
       " 0.9998889012331964,\n",
       " 0.0,\n",
       " 0.9998889012331964,\n",
       " 0.9990009990009991,\n",
       " 0.9997500624843788,\n",
       " 0.999857163262391,\n",
       " 0.9998889012331964,\n",
       " 0.9998000399920015,\n",
       " 0.9995002498750625,\n",
       " 0.9997500624843788,\n",
       " 0.9999000099990002,\n",
       " 0.9997500624843788,\n",
       " 0.9990009990009991,\n",
       " 0.9999615399407714,\n",
       " 0.9998333611064822,\n",
       " 0.9995002498750625,\n",
       " 0.9998750156230471,\n",
       " 0.9999375039060058,\n",
       " 0.999857163262391,\n",
       " 0.9995002498750625,\n",
       " 0.9998750156230471,\n",
       " 0.9999230828397816,\n",
       " 0.9999333377774815,\n",
       " 0.9990009990009991,\n",
       " 0.999857163262391,\n",
       " 0.0,\n",
       " 0.9998750156230471,\n",
       " 0.0,\n",
       " 0.9996667777407531,\n",
       " 0.9999285765302479,\n",
       " 0.9999473711909899,\n",
       " 0.999857163262391,\n",
       " 0.9998333611064822,\n",
       " 0.9999166736105325,\n",
       " 0.9995002498750625,\n",
       " 0.9999230828397816,\n",
       " 0.9996667777407531,\n",
       " 0.9990009990009991,\n",
       " 0.9995002498750625,\n",
       " 1.0713520462824084,\n",
       " 0.9999166736105325,\n",
       " 0.9996667777407531,\n",
       " 0.9995002498750625,\n",
       " 0.0,\n",
       " 0.9990009990009991,\n",
       " 0.9999230828397816,\n",
       " 0.9998333611064822,\n",
       " 0.9996667777407531,\n",
       " 0.9999285765302479,\n",
       " 0.9997500624843788,\n",
       " 0.0,\n",
       " 0.9995002498750625,\n",
       " 1.052576180201042,\n",
       " 0.9999090991728026,\n",
       " 0.9990009990009991,\n",
       " 0.0,\n",
       " 0.9999285765302479,\n",
       " 0.9999375039060058,\n",
       " 0.9999285765302479,\n",
       " 0.9998750156230471,\n",
       " 0.9997500624843788,\n",
       " 0.9998750156230471,\n",
       " 0.999857163262391,\n",
       " 0.0,\n",
       " 0.9990009990009991,\n",
       " 0.9999090991728026,\n",
       " 0.9998000399920015,\n",
       " 0.9998333611064822,\n",
       " 0.9998000399920015,\n",
       " 0.9998000399920015,\n",
       " 0.9998889012331964,\n",
       " 0.9997500624843788,\n",
       " 0.999857163262391,\n",
       " 0.9990009990009991,\n",
       " 0.9998000399920015,\n",
       " 0.9997500624843788,\n",
       " 0.9996667777407531,\n",
       " 0.9990009990009991,\n",
       " 0.9996667777407531,\n",
       " 0.9999000099990002,\n",
       " 0.9998333611064822,\n",
       " 0.9999285765302479,\n",
       " 0.999857163262391,\n",
       " 0.9995002498750625,\n",
       " 0.9990009990009991,\n",
       " 0.9995002498750625,\n",
       " 0.9996667777407531,\n",
       " 0.9990009990009991,\n",
       " 0.999857163262391,\n",
       " 0.9990009990009991,\n",
       " 0.9997500624843788,\n",
       " 0.999857163262391,\n",
       " 0.9998333611064822,\n",
       " 0.9998000399920015,\n",
       " 0.9997500624843788,\n",
       " 0.999857163262391,\n",
       " 0.9998000399920015,\n",
       " 0.9999714293877319,\n",
       " 0.9990009990009991,\n",
       " 0.0,\n",
       " 0.9999090991728026,\n",
       " 0.0,\n",
       " 0.9998750156230471,\n",
       " 0.9997500624843788,\n",
       " 0.9997500624843788,\n",
       " 0.9996667777407531,\n",
       " 0.9990009990009991,\n",
       " 0.0,\n",
       " 0.9998000399920015,\n",
       " 0.9997500624843788,\n",
       " 0.9990009990009991,\n",
       " 0.9999666677777407,\n",
       " 0.0,\n",
       " 0.9998889012331964,\n",
       " 0.999857163262391,\n",
       " 0.9998000399920015,\n",
       " 0.9998000399920015,\n",
       " 0.999857163262391,\n",
       " 0.9990009990009991,\n",
       " 0.9998000399920015,\n",
       " 0.9998000399920015,\n",
       " 0.9995002498750625,\n",
       " 0.9996667777407531,\n",
       " 0.9997500624843788,\n",
       " 0.9998333611064822,\n",
       " 0.0,\n",
       " 0.9999375039060058,\n",
       " 0.0,\n",
       " 0.9998333611064822,\n",
       " 0.9999285765302479,\n",
       " 0.9999411799305923,\n",
       " 0.9995002498750625,\n",
       " 0.9998000399920015,\n",
       " 0.9999090991728026,\n",
       " 0.9999473711909899,\n",
       " 0.9996667777407531,\n",
       " 0.9990009990009991,\n",
       " 0.9998000399920015,\n",
       " 0.9997500624843788,\n",
       " 0.9998000399920015,\n",
       " 0.9995002498750625,\n",
       " 0.9990009990009991,\n",
       " 0.9997500624843788,\n",
       " 0.9999000099990002,\n",
       " 0.999857163262391,\n",
       " 0.0,\n",
       " 0.999857163262391,\n",
       " 0.9997500624843788,\n",
       " 0.9995002498750625,\n",
       " 0.9998889012331964,\n",
       " 0.9997500624843788,\n",
       " 0.0,\n",
       " 0.9997500624843788,\n",
       " 0.9990009990009991,\n",
       " 0.9998333611064822,\n",
       " 0.9990009990009991,\n",
       " 0.9995002498750625,\n",
       " 0.9995002498750625,\n",
       " 0.9998000399920015,\n",
       " 0.9990009990009991,\n",
       " 0.999857163262391,\n",
       " 0.9998889012331964,\n",
       " 0.9995002498750625,\n",
       " 0.9999285765302479,\n",
       " 0.9990009990009991,\n",
       " 0.9999761910430705,\n",
       " 0.9998889012331964,\n",
       " 0.9999642869897504,\n",
       " 0.9997500624843788,\n",
       " 0.9997500624843788,\n",
       " 0.9999285765302479,\n",
       " 0.9998333611064822,\n",
       " 0.9999375039060058,\n",
       " 0.0,\n",
       " 0.9996667777407531,\n",
       " 0.999857163262391,\n",
       " 0.9998750156230471,\n",
       " 0.9999285765302479,\n",
       " 0.9998750156230471,\n",
       " 0.9999230828397816,\n",
       " 1.0454070269533202,\n",
       " 0.9997500624843788,\n",
       " 0.9999444475306927,\n",
       " 0.9997500624843788,\n",
       " 0.9990009990009991,\n",
       " 0.9990009990009991,\n",
       " 0.9990009990009991,\n",
       " 0.9995002498750625,\n",
       " 0.9996667777407531,\n",
       " 0.9999411799305923,\n",
       " 0.9999761910430705,\n",
       " 0.9998889012331964,\n",
       " 0.9998000399920015,\n",
       " 0.9990009990009991,\n",
       " 0.0,\n",
       " 0.9999090991728026,\n",
       " 0.9990009990009991,\n",
       " 0.9999166736105325,\n",
       " 0.9995002498750625,\n",
       " 0.0,\n",
       " 0.9998333611064822,\n",
       " 0.9996667777407531,\n",
       " 0.9998889012331964,\n",
       " 0.999950002499875,\n",
       " 0.9999000099990002,\n",
       " 0.9999000099990002,\n",
       " 0.9998750156230471,\n",
       " 0.9990009990009991,\n",
       " 0.9997500624843788,\n",
       " 0.0,\n",
       " 0.9998889012331964,\n",
       " 0.9995002498750625]"
      ]
     },
     "execution_count": 510,
     "metadata": {},
     "output_type": "execute_result"
    }
   ],
   "source": [
    "new_freq"
   ]
  },
  {
   "cell_type": "code",
   "execution_count": 504,
   "metadata": {},
   "outputs": [
    {
     "data": {
      "text/plain": [
       "array(['M_ID_47179467b9', 'M_ID_87c8e4b8c0', 'M_ID_c0499d51ac',\n",
       "       'M_ID_f87158682e', 'M_ID_cd2c0b07e9', 'M_ID_7502bfffb5',\n",
       "       'M_ID_dc9b2bc91f', 'M_ID_02e6a68aab', 'M_ID_b361c6a843'],\n",
       "      dtype=object)"
      ]
     },
     "execution_count": 504,
     "metadata": {},
     "output_type": "execute_result"
    }
   ],
   "source": [
    "df_new_merchant_trans.merchant_id[df_new_merchant_trans.card_id==card_id].values"
   ]
  },
  {
   "cell_type": "code",
   "execution_count": 502,
   "metadata": {},
   "outputs": [
    {
     "data": {
      "application/javascript": [
       "/* Put everything inside the global mpl namespace */\n",
       "window.mpl = {};\n",
       "\n",
       "\n",
       "mpl.get_websocket_type = function() {\n",
       "    if (typeof(WebSocket) !== 'undefined') {\n",
       "        return WebSocket;\n",
       "    } else if (typeof(MozWebSocket) !== 'undefined') {\n",
       "        return MozWebSocket;\n",
       "    } else {\n",
       "        alert('Your browser does not have WebSocket support.' +\n",
       "              'Please try Chrome, Safari or Firefox ≥ 6. ' +\n",
       "              'Firefox 4 and 5 are also supported but you ' +\n",
       "              'have to enable WebSockets in about:config.');\n",
       "    };\n",
       "}\n",
       "\n",
       "mpl.figure = function(figure_id, websocket, ondownload, parent_element) {\n",
       "    this.id = figure_id;\n",
       "\n",
       "    this.ws = websocket;\n",
       "\n",
       "    this.supports_binary = (this.ws.binaryType != undefined);\n",
       "\n",
       "    if (!this.supports_binary) {\n",
       "        var warnings = document.getElementById(\"mpl-warnings\");\n",
       "        if (warnings) {\n",
       "            warnings.style.display = 'block';\n",
       "            warnings.textContent = (\n",
       "                \"This browser does not support binary websocket messages. \" +\n",
       "                    \"Performance may be slow.\");\n",
       "        }\n",
       "    }\n",
       "\n",
       "    this.imageObj = new Image();\n",
       "\n",
       "    this.context = undefined;\n",
       "    this.message = undefined;\n",
       "    this.canvas = undefined;\n",
       "    this.rubberband_canvas = undefined;\n",
       "    this.rubberband_context = undefined;\n",
       "    this.format_dropdown = undefined;\n",
       "\n",
       "    this.image_mode = 'full';\n",
       "\n",
       "    this.root = $('<div/>');\n",
       "    this._root_extra_style(this.root)\n",
       "    this.root.attr('style', 'display: inline-block');\n",
       "\n",
       "    $(parent_element).append(this.root);\n",
       "\n",
       "    this._init_header(this);\n",
       "    this._init_canvas(this);\n",
       "    this._init_toolbar(this);\n",
       "\n",
       "    var fig = this;\n",
       "\n",
       "    this.waiting = false;\n",
       "\n",
       "    this.ws.onopen =  function () {\n",
       "            fig.send_message(\"supports_binary\", {value: fig.supports_binary});\n",
       "            fig.send_message(\"send_image_mode\", {});\n",
       "            if (mpl.ratio != 1) {\n",
       "                fig.send_message(\"set_dpi_ratio\", {'dpi_ratio': mpl.ratio});\n",
       "            }\n",
       "            fig.send_message(\"refresh\", {});\n",
       "        }\n",
       "\n",
       "    this.imageObj.onload = function() {\n",
       "            if (fig.image_mode == 'full') {\n",
       "                // Full images could contain transparency (where diff images\n",
       "                // almost always do), so we need to clear the canvas so that\n",
       "                // there is no ghosting.\n",
       "                fig.context.clearRect(0, 0, fig.canvas.width, fig.canvas.height);\n",
       "            }\n",
       "            fig.context.drawImage(fig.imageObj, 0, 0);\n",
       "        };\n",
       "\n",
       "    this.imageObj.onunload = function() {\n",
       "        fig.ws.close();\n",
       "    }\n",
       "\n",
       "    this.ws.onmessage = this._make_on_message_function(this);\n",
       "\n",
       "    this.ondownload = ondownload;\n",
       "}\n",
       "\n",
       "mpl.figure.prototype._init_header = function() {\n",
       "    var titlebar = $(\n",
       "        '<div class=\"ui-dialog-titlebar ui-widget-header ui-corner-all ' +\n",
       "        'ui-helper-clearfix\"/>');\n",
       "    var titletext = $(\n",
       "        '<div class=\"ui-dialog-title\" style=\"width: 100%; ' +\n",
       "        'text-align: center; padding: 3px;\"/>');\n",
       "    titlebar.append(titletext)\n",
       "    this.root.append(titlebar);\n",
       "    this.header = titletext[0];\n",
       "}\n",
       "\n",
       "\n",
       "\n",
       "mpl.figure.prototype._canvas_extra_style = function(canvas_div) {\n",
       "\n",
       "}\n",
       "\n",
       "\n",
       "mpl.figure.prototype._root_extra_style = function(canvas_div) {\n",
       "\n",
       "}\n",
       "\n",
       "mpl.figure.prototype._init_canvas = function() {\n",
       "    var fig = this;\n",
       "\n",
       "    var canvas_div = $('<div/>');\n",
       "\n",
       "    canvas_div.attr('style', 'position: relative; clear: both; outline: 0');\n",
       "\n",
       "    function canvas_keyboard_event(event) {\n",
       "        return fig.key_event(event, event['data']);\n",
       "    }\n",
       "\n",
       "    canvas_div.keydown('key_press', canvas_keyboard_event);\n",
       "    canvas_div.keyup('key_release', canvas_keyboard_event);\n",
       "    this.canvas_div = canvas_div\n",
       "    this._canvas_extra_style(canvas_div)\n",
       "    this.root.append(canvas_div);\n",
       "\n",
       "    var canvas = $('<canvas/>');\n",
       "    canvas.addClass('mpl-canvas');\n",
       "    canvas.attr('style', \"left: 0; top: 0; z-index: 0; outline: 0\")\n",
       "\n",
       "    this.canvas = canvas[0];\n",
       "    this.context = canvas[0].getContext(\"2d\");\n",
       "\n",
       "    var backingStore = this.context.backingStorePixelRatio ||\n",
       "\tthis.context.webkitBackingStorePixelRatio ||\n",
       "\tthis.context.mozBackingStorePixelRatio ||\n",
       "\tthis.context.msBackingStorePixelRatio ||\n",
       "\tthis.context.oBackingStorePixelRatio ||\n",
       "\tthis.context.backingStorePixelRatio || 1;\n",
       "\n",
       "    mpl.ratio = (window.devicePixelRatio || 1) / backingStore;\n",
       "\n",
       "    var rubberband = $('<canvas/>');\n",
       "    rubberband.attr('style', \"position: absolute; left: 0; top: 0; z-index: 1;\")\n",
       "\n",
       "    var pass_mouse_events = true;\n",
       "\n",
       "    canvas_div.resizable({\n",
       "        start: function(event, ui) {\n",
       "            pass_mouse_events = false;\n",
       "        },\n",
       "        resize: function(event, ui) {\n",
       "            fig.request_resize(ui.size.width, ui.size.height);\n",
       "        },\n",
       "        stop: function(event, ui) {\n",
       "            pass_mouse_events = true;\n",
       "            fig.request_resize(ui.size.width, ui.size.height);\n",
       "        },\n",
       "    });\n",
       "\n",
       "    function mouse_event_fn(event) {\n",
       "        if (pass_mouse_events)\n",
       "            return fig.mouse_event(event, event['data']);\n",
       "    }\n",
       "\n",
       "    rubberband.mousedown('button_press', mouse_event_fn);\n",
       "    rubberband.mouseup('button_release', mouse_event_fn);\n",
       "    // Throttle sequential mouse events to 1 every 20ms.\n",
       "    rubberband.mousemove('motion_notify', mouse_event_fn);\n",
       "\n",
       "    rubberband.mouseenter('figure_enter', mouse_event_fn);\n",
       "    rubberband.mouseleave('figure_leave', mouse_event_fn);\n",
       "\n",
       "    canvas_div.on(\"wheel\", function (event) {\n",
       "        event = event.originalEvent;\n",
       "        event['data'] = 'scroll'\n",
       "        if (event.deltaY < 0) {\n",
       "            event.step = 1;\n",
       "        } else {\n",
       "            event.step = -1;\n",
       "        }\n",
       "        mouse_event_fn(event);\n",
       "    });\n",
       "\n",
       "    canvas_div.append(canvas);\n",
       "    canvas_div.append(rubberband);\n",
       "\n",
       "    this.rubberband = rubberband;\n",
       "    this.rubberband_canvas = rubberband[0];\n",
       "    this.rubberband_context = rubberband[0].getContext(\"2d\");\n",
       "    this.rubberband_context.strokeStyle = \"#000000\";\n",
       "\n",
       "    this._resize_canvas = function(width, height) {\n",
       "        // Keep the size of the canvas, canvas container, and rubber band\n",
       "        // canvas in synch.\n",
       "        canvas_div.css('width', width)\n",
       "        canvas_div.css('height', height)\n",
       "\n",
       "        canvas.attr('width', width * mpl.ratio);\n",
       "        canvas.attr('height', height * mpl.ratio);\n",
       "        canvas.attr('style', 'width: ' + width + 'px; height: ' + height + 'px;');\n",
       "\n",
       "        rubberband.attr('width', width);\n",
       "        rubberband.attr('height', height);\n",
       "    }\n",
       "\n",
       "    // Set the figure to an initial 600x600px, this will subsequently be updated\n",
       "    // upon first draw.\n",
       "    this._resize_canvas(600, 600);\n",
       "\n",
       "    // Disable right mouse context menu.\n",
       "    $(this.rubberband_canvas).bind(\"contextmenu\",function(e){\n",
       "        return false;\n",
       "    });\n",
       "\n",
       "    function set_focus () {\n",
       "        canvas.focus();\n",
       "        canvas_div.focus();\n",
       "    }\n",
       "\n",
       "    window.setTimeout(set_focus, 100);\n",
       "}\n",
       "\n",
       "mpl.figure.prototype._init_toolbar = function() {\n",
       "    var fig = this;\n",
       "\n",
       "    var nav_element = $('<div/>')\n",
       "    nav_element.attr('style', 'width: 100%');\n",
       "    this.root.append(nav_element);\n",
       "\n",
       "    // Define a callback function for later on.\n",
       "    function toolbar_event(event) {\n",
       "        return fig.toolbar_button_onclick(event['data']);\n",
       "    }\n",
       "    function toolbar_mouse_event(event) {\n",
       "        return fig.toolbar_button_onmouseover(event['data']);\n",
       "    }\n",
       "\n",
       "    for(var toolbar_ind in mpl.toolbar_items) {\n",
       "        var name = mpl.toolbar_items[toolbar_ind][0];\n",
       "        var tooltip = mpl.toolbar_items[toolbar_ind][1];\n",
       "        var image = mpl.toolbar_items[toolbar_ind][2];\n",
       "        var method_name = mpl.toolbar_items[toolbar_ind][3];\n",
       "\n",
       "        if (!name) {\n",
       "            // put a spacer in here.\n",
       "            continue;\n",
       "        }\n",
       "        var button = $('<button/>');\n",
       "        button.addClass('ui-button ui-widget ui-state-default ui-corner-all ' +\n",
       "                        'ui-button-icon-only');\n",
       "        button.attr('role', 'button');\n",
       "        button.attr('aria-disabled', 'false');\n",
       "        button.click(method_name, toolbar_event);\n",
       "        button.mouseover(tooltip, toolbar_mouse_event);\n",
       "\n",
       "        var icon_img = $('<span/>');\n",
       "        icon_img.addClass('ui-button-icon-primary ui-icon');\n",
       "        icon_img.addClass(image);\n",
       "        icon_img.addClass('ui-corner-all');\n",
       "\n",
       "        var tooltip_span = $('<span/>');\n",
       "        tooltip_span.addClass('ui-button-text');\n",
       "        tooltip_span.html(tooltip);\n",
       "\n",
       "        button.append(icon_img);\n",
       "        button.append(tooltip_span);\n",
       "\n",
       "        nav_element.append(button);\n",
       "    }\n",
       "\n",
       "    var fmt_picker_span = $('<span/>');\n",
       "\n",
       "    var fmt_picker = $('<select/>');\n",
       "    fmt_picker.addClass('mpl-toolbar-option ui-widget ui-widget-content');\n",
       "    fmt_picker_span.append(fmt_picker);\n",
       "    nav_element.append(fmt_picker_span);\n",
       "    this.format_dropdown = fmt_picker[0];\n",
       "\n",
       "    for (var ind in mpl.extensions) {\n",
       "        var fmt = mpl.extensions[ind];\n",
       "        var option = $(\n",
       "            '<option/>', {selected: fmt === mpl.default_extension}).html(fmt);\n",
       "        fmt_picker.append(option)\n",
       "    }\n",
       "\n",
       "    // Add hover states to the ui-buttons\n",
       "    $( \".ui-button\" ).hover(\n",
       "        function() { $(this).addClass(\"ui-state-hover\");},\n",
       "        function() { $(this).removeClass(\"ui-state-hover\");}\n",
       "    );\n",
       "\n",
       "    var status_bar = $('<span class=\"mpl-message\"/>');\n",
       "    nav_element.append(status_bar);\n",
       "    this.message = status_bar[0];\n",
       "}\n",
       "\n",
       "mpl.figure.prototype.request_resize = function(x_pixels, y_pixels) {\n",
       "    // Request matplotlib to resize the figure. Matplotlib will then trigger a resize in the client,\n",
       "    // which will in turn request a refresh of the image.\n",
       "    this.send_message('resize', {'width': x_pixels, 'height': y_pixels});\n",
       "}\n",
       "\n",
       "mpl.figure.prototype.send_message = function(type, properties) {\n",
       "    properties['type'] = type;\n",
       "    properties['figure_id'] = this.id;\n",
       "    this.ws.send(JSON.stringify(properties));\n",
       "}\n",
       "\n",
       "mpl.figure.prototype.send_draw_message = function() {\n",
       "    if (!this.waiting) {\n",
       "        this.waiting = true;\n",
       "        this.ws.send(JSON.stringify({type: \"draw\", figure_id: this.id}));\n",
       "    }\n",
       "}\n",
       "\n",
       "\n",
       "mpl.figure.prototype.handle_save = function(fig, msg) {\n",
       "    var format_dropdown = fig.format_dropdown;\n",
       "    var format = format_dropdown.options[format_dropdown.selectedIndex].value;\n",
       "    fig.ondownload(fig, format);\n",
       "}\n",
       "\n",
       "\n",
       "mpl.figure.prototype.handle_resize = function(fig, msg) {\n",
       "    var size = msg['size'];\n",
       "    if (size[0] != fig.canvas.width || size[1] != fig.canvas.height) {\n",
       "        fig._resize_canvas(size[0], size[1]);\n",
       "        fig.send_message(\"refresh\", {});\n",
       "    };\n",
       "}\n",
       "\n",
       "mpl.figure.prototype.handle_rubberband = function(fig, msg) {\n",
       "    var x0 = msg['x0'] / mpl.ratio;\n",
       "    var y0 = (fig.canvas.height - msg['y0']) / mpl.ratio;\n",
       "    var x1 = msg['x1'] / mpl.ratio;\n",
       "    var y1 = (fig.canvas.height - msg['y1']) / mpl.ratio;\n",
       "    x0 = Math.floor(x0) + 0.5;\n",
       "    y0 = Math.floor(y0) + 0.5;\n",
       "    x1 = Math.floor(x1) + 0.5;\n",
       "    y1 = Math.floor(y1) + 0.5;\n",
       "    var min_x = Math.min(x0, x1);\n",
       "    var min_y = Math.min(y0, y1);\n",
       "    var width = Math.abs(x1 - x0);\n",
       "    var height = Math.abs(y1 - y0);\n",
       "\n",
       "    fig.rubberband_context.clearRect(\n",
       "        0, 0, fig.canvas.width, fig.canvas.height);\n",
       "\n",
       "    fig.rubberband_context.strokeRect(min_x, min_y, width, height);\n",
       "}\n",
       "\n",
       "mpl.figure.prototype.handle_figure_label = function(fig, msg) {\n",
       "    // Updates the figure title.\n",
       "    fig.header.textContent = msg['label'];\n",
       "}\n",
       "\n",
       "mpl.figure.prototype.handle_cursor = function(fig, msg) {\n",
       "    var cursor = msg['cursor'];\n",
       "    switch(cursor)\n",
       "    {\n",
       "    case 0:\n",
       "        cursor = 'pointer';\n",
       "        break;\n",
       "    case 1:\n",
       "        cursor = 'default';\n",
       "        break;\n",
       "    case 2:\n",
       "        cursor = 'crosshair';\n",
       "        break;\n",
       "    case 3:\n",
       "        cursor = 'move';\n",
       "        break;\n",
       "    }\n",
       "    fig.rubberband_canvas.style.cursor = cursor;\n",
       "}\n",
       "\n",
       "mpl.figure.prototype.handle_message = function(fig, msg) {\n",
       "    fig.message.textContent = msg['message'];\n",
       "}\n",
       "\n",
       "mpl.figure.prototype.handle_draw = function(fig, msg) {\n",
       "    // Request the server to send over a new figure.\n",
       "    fig.send_draw_message();\n",
       "}\n",
       "\n",
       "mpl.figure.prototype.handle_image_mode = function(fig, msg) {\n",
       "    fig.image_mode = msg['mode'];\n",
       "}\n",
       "\n",
       "mpl.figure.prototype.updated_canvas_event = function() {\n",
       "    // Called whenever the canvas gets updated.\n",
       "    this.send_message(\"ack\", {});\n",
       "}\n",
       "\n",
       "// A function to construct a web socket function for onmessage handling.\n",
       "// Called in the figure constructor.\n",
       "mpl.figure.prototype._make_on_message_function = function(fig) {\n",
       "    return function socket_on_message(evt) {\n",
       "        if (evt.data instanceof Blob) {\n",
       "            /* FIXME: We get \"Resource interpreted as Image but\n",
       "             * transferred with MIME type text/plain:\" errors on\n",
       "             * Chrome.  But how to set the MIME type?  It doesn't seem\n",
       "             * to be part of the websocket stream */\n",
       "            evt.data.type = \"image/png\";\n",
       "\n",
       "            /* Free the memory for the previous frames */\n",
       "            if (fig.imageObj.src) {\n",
       "                (window.URL || window.webkitURL).revokeObjectURL(\n",
       "                    fig.imageObj.src);\n",
       "            }\n",
       "\n",
       "            fig.imageObj.src = (window.URL || window.webkitURL).createObjectURL(\n",
       "                evt.data);\n",
       "            fig.updated_canvas_event();\n",
       "            fig.waiting = false;\n",
       "            return;\n",
       "        }\n",
       "        else if (typeof evt.data === 'string' && evt.data.slice(0, 21) == \"data:image/png;base64\") {\n",
       "            fig.imageObj.src = evt.data;\n",
       "            fig.updated_canvas_event();\n",
       "            fig.waiting = false;\n",
       "            return;\n",
       "        }\n",
       "\n",
       "        var msg = JSON.parse(evt.data);\n",
       "        var msg_type = msg['type'];\n",
       "\n",
       "        // Call the  \"handle_{type}\" callback, which takes\n",
       "        // the figure and JSON message as its only arguments.\n",
       "        try {\n",
       "            var callback = fig[\"handle_\" + msg_type];\n",
       "        } catch (e) {\n",
       "            console.log(\"No handler for the '\" + msg_type + \"' message type: \", msg);\n",
       "            return;\n",
       "        }\n",
       "\n",
       "        if (callback) {\n",
       "            try {\n",
       "                // console.log(\"Handling '\" + msg_type + \"' message: \", msg);\n",
       "                callback(fig, msg);\n",
       "            } catch (e) {\n",
       "                console.log(\"Exception inside the 'handler_\" + msg_type + \"' callback:\", e, e.stack, msg);\n",
       "            }\n",
       "        }\n",
       "    };\n",
       "}\n",
       "\n",
       "// from http://stackoverflow.com/questions/1114465/getting-mouse-location-in-canvas\n",
       "mpl.findpos = function(e) {\n",
       "    //this section is from http://www.quirksmode.org/js/events_properties.html\n",
       "    var targ;\n",
       "    if (!e)\n",
       "        e = window.event;\n",
       "    if (e.target)\n",
       "        targ = e.target;\n",
       "    else if (e.srcElement)\n",
       "        targ = e.srcElement;\n",
       "    if (targ.nodeType == 3) // defeat Safari bug\n",
       "        targ = targ.parentNode;\n",
       "\n",
       "    // jQuery normalizes the pageX and pageY\n",
       "    // pageX,Y are the mouse positions relative to the document\n",
       "    // offset() returns the position of the element relative to the document\n",
       "    var x = e.pageX - $(targ).offset().left;\n",
       "    var y = e.pageY - $(targ).offset().top;\n",
       "\n",
       "    return {\"x\": x, \"y\": y};\n",
       "};\n",
       "\n",
       "/*\n",
       " * return a copy of an object with only non-object keys\n",
       " * we need this to avoid circular references\n",
       " * http://stackoverflow.com/a/24161582/3208463\n",
       " */\n",
       "function simpleKeys (original) {\n",
       "  return Object.keys(original).reduce(function (obj, key) {\n",
       "    if (typeof original[key] !== 'object')\n",
       "        obj[key] = original[key]\n",
       "    return obj;\n",
       "  }, {});\n",
       "}\n",
       "\n",
       "mpl.figure.prototype.mouse_event = function(event, name) {\n",
       "    var canvas_pos = mpl.findpos(event)\n",
       "\n",
       "    if (name === 'button_press')\n",
       "    {\n",
       "        this.canvas.focus();\n",
       "        this.canvas_div.focus();\n",
       "    }\n",
       "\n",
       "    var x = canvas_pos.x * mpl.ratio;\n",
       "    var y = canvas_pos.y * mpl.ratio;\n",
       "\n",
       "    this.send_message(name, {x: x, y: y, button: event.button,\n",
       "                             step: event.step,\n",
       "                             guiEvent: simpleKeys(event)});\n",
       "\n",
       "    /* This prevents the web browser from automatically changing to\n",
       "     * the text insertion cursor when the button is pressed.  We want\n",
       "     * to control all of the cursor setting manually through the\n",
       "     * 'cursor' event from matplotlib */\n",
       "    event.preventDefault();\n",
       "    return false;\n",
       "}\n",
       "\n",
       "mpl.figure.prototype._key_event_extra = function(event, name) {\n",
       "    // Handle any extra behaviour associated with a key event\n",
       "}\n",
       "\n",
       "mpl.figure.prototype.key_event = function(event, name) {\n",
       "\n",
       "    // Prevent repeat events\n",
       "    if (name == 'key_press')\n",
       "    {\n",
       "        if (event.which === this._key)\n",
       "            return;\n",
       "        else\n",
       "            this._key = event.which;\n",
       "    }\n",
       "    if (name == 'key_release')\n",
       "        this._key = null;\n",
       "\n",
       "    var value = '';\n",
       "    if (event.ctrlKey && event.which != 17)\n",
       "        value += \"ctrl+\";\n",
       "    if (event.altKey && event.which != 18)\n",
       "        value += \"alt+\";\n",
       "    if (event.shiftKey && event.which != 16)\n",
       "        value += \"shift+\";\n",
       "\n",
       "    value += 'k';\n",
       "    value += event.which.toString();\n",
       "\n",
       "    this._key_event_extra(event, name);\n",
       "\n",
       "    this.send_message(name, {key: value,\n",
       "                             guiEvent: simpleKeys(event)});\n",
       "    return false;\n",
       "}\n",
       "\n",
       "mpl.figure.prototype.toolbar_button_onclick = function(name) {\n",
       "    if (name == 'download') {\n",
       "        this.handle_save(this, null);\n",
       "    } else {\n",
       "        this.send_message(\"toolbar_button\", {name: name});\n",
       "    }\n",
       "};\n",
       "\n",
       "mpl.figure.prototype.toolbar_button_onmouseover = function(tooltip) {\n",
       "    this.message.textContent = tooltip;\n",
       "};\n",
       "mpl.toolbar_items = [[\"Home\", \"Reset original view\", \"fa fa-home icon-home\", \"home\"], [\"Back\", \"Back to  previous view\", \"fa fa-arrow-left icon-arrow-left\", \"back\"], [\"Forward\", \"Forward to next view\", \"fa fa-arrow-right icon-arrow-right\", \"forward\"], [\"\", \"\", \"\", \"\"], [\"Pan\", \"Pan axes with left mouse, zoom with right\", \"fa fa-arrows icon-move\", \"pan\"], [\"Zoom\", \"Zoom to rectangle\", \"fa fa-square-o icon-check-empty\", \"zoom\"], [\"\", \"\", \"\", \"\"], [\"Download\", \"Download plot\", \"fa fa-floppy-o icon-save\", \"download\"]];\n",
       "\n",
       "mpl.extensions = [\"eps\", \"jpeg\", \"pdf\", \"png\", \"ps\", \"raw\", \"svg\", \"tif\"];\n",
       "\n",
       "mpl.default_extension = \"png\";var comm_websocket_adapter = function(comm) {\n",
       "    // Create a \"websocket\"-like object which calls the given IPython comm\n",
       "    // object with the appropriate methods. Currently this is a non binary\n",
       "    // socket, so there is still some room for performance tuning.\n",
       "    var ws = {};\n",
       "\n",
       "    ws.close = function() {\n",
       "        comm.close()\n",
       "    };\n",
       "    ws.send = function(m) {\n",
       "        //console.log('sending', m);\n",
       "        comm.send(m);\n",
       "    };\n",
       "    // Register the callback with on_msg.\n",
       "    comm.on_msg(function(msg) {\n",
       "        //console.log('receiving', msg['content']['data'], msg);\n",
       "        // Pass the mpl event to the overriden (by mpl) onmessage function.\n",
       "        ws.onmessage(msg['content']['data'])\n",
       "    });\n",
       "    return ws;\n",
       "}\n",
       "\n",
       "mpl.mpl_figure_comm = function(comm, msg) {\n",
       "    // This is the function which gets called when the mpl process\n",
       "    // starts-up an IPython Comm through the \"matplotlib\" channel.\n",
       "\n",
       "    var id = msg.content.data.id;\n",
       "    // Get hold of the div created by the display call when the Comm\n",
       "    // socket was opened in Python.\n",
       "    var element = $(\"#\" + id);\n",
       "    var ws_proxy = comm_websocket_adapter(comm)\n",
       "\n",
       "    function ondownload(figure, format) {\n",
       "        window.open(figure.imageObj.src);\n",
       "    }\n",
       "\n",
       "    var fig = new mpl.figure(id, ws_proxy,\n",
       "                           ondownload,\n",
       "                           element.get(0));\n",
       "\n",
       "    // Call onopen now - mpl needs it, as it is assuming we've passed it a real\n",
       "    // web socket which is closed, not our websocket->open comm proxy.\n",
       "    ws_proxy.onopen();\n",
       "\n",
       "    fig.parent_element = element.get(0);\n",
       "    fig.cell_info = mpl.find_output_cell(\"<div id='\" + id + \"'></div>\");\n",
       "    if (!fig.cell_info) {\n",
       "        console.error(\"Failed to find cell for figure\", id, fig);\n",
       "        return;\n",
       "    }\n",
       "\n",
       "    var output_index = fig.cell_info[2]\n",
       "    var cell = fig.cell_info[0];\n",
       "\n",
       "};\n",
       "\n",
       "mpl.figure.prototype.handle_close = function(fig, msg) {\n",
       "    var width = fig.canvas.width/mpl.ratio\n",
       "    fig.root.unbind('remove')\n",
       "\n",
       "    // Update the output cell to use the data from the current canvas.\n",
       "    fig.push_to_output();\n",
       "    var dataURL = fig.canvas.toDataURL();\n",
       "    // Re-enable the keyboard manager in IPython - without this line, in FF,\n",
       "    // the notebook keyboard shortcuts fail.\n",
       "    IPython.keyboard_manager.enable()\n",
       "    $(fig.parent_element).html('<img src=\"' + dataURL + '\" width=\"' + width + '\">');\n",
       "    fig.close_ws(fig, msg);\n",
       "}\n",
       "\n",
       "mpl.figure.prototype.close_ws = function(fig, msg){\n",
       "    fig.send_message('closing', msg);\n",
       "    // fig.ws.close()\n",
       "}\n",
       "\n",
       "mpl.figure.prototype.push_to_output = function(remove_interactive) {\n",
       "    // Turn the data on the canvas into data in the output cell.\n",
       "    var width = this.canvas.width/mpl.ratio\n",
       "    var dataURL = this.canvas.toDataURL();\n",
       "    this.cell_info[1]['text/html'] = '<img src=\"' + dataURL + '\" width=\"' + width + '\">';\n",
       "}\n",
       "\n",
       "mpl.figure.prototype.updated_canvas_event = function() {\n",
       "    // Tell IPython that the notebook contents must change.\n",
       "    IPython.notebook.set_dirty(true);\n",
       "    this.send_message(\"ack\", {});\n",
       "    var fig = this;\n",
       "    // Wait a second, then push the new image to the DOM so\n",
       "    // that it is saved nicely (might be nice to debounce this).\n",
       "    setTimeout(function () { fig.push_to_output() }, 1000);\n",
       "}\n",
       "\n",
       "mpl.figure.prototype._init_toolbar = function() {\n",
       "    var fig = this;\n",
       "\n",
       "    var nav_element = $('<div/>')\n",
       "    nav_element.attr('style', 'width: 100%');\n",
       "    this.root.append(nav_element);\n",
       "\n",
       "    // Define a callback function for later on.\n",
       "    function toolbar_event(event) {\n",
       "        return fig.toolbar_button_onclick(event['data']);\n",
       "    }\n",
       "    function toolbar_mouse_event(event) {\n",
       "        return fig.toolbar_button_onmouseover(event['data']);\n",
       "    }\n",
       "\n",
       "    for(var toolbar_ind in mpl.toolbar_items){\n",
       "        var name = mpl.toolbar_items[toolbar_ind][0];\n",
       "        var tooltip = mpl.toolbar_items[toolbar_ind][1];\n",
       "        var image = mpl.toolbar_items[toolbar_ind][2];\n",
       "        var method_name = mpl.toolbar_items[toolbar_ind][3];\n",
       "\n",
       "        if (!name) { continue; };\n",
       "\n",
       "        var button = $('<button class=\"btn btn-default\" href=\"#\" title=\"' + name + '\"><i class=\"fa ' + image + ' fa-lg\"></i></button>');\n",
       "        button.click(method_name, toolbar_event);\n",
       "        button.mouseover(tooltip, toolbar_mouse_event);\n",
       "        nav_element.append(button);\n",
       "    }\n",
       "\n",
       "    // Add the status bar.\n",
       "    var status_bar = $('<span class=\"mpl-message\" style=\"text-align:right; float: right;\"/>');\n",
       "    nav_element.append(status_bar);\n",
       "    this.message = status_bar[0];\n",
       "\n",
       "    // Add the close button to the window.\n",
       "    var buttongrp = $('<div class=\"btn-group inline pull-right\"></div>');\n",
       "    var button = $('<button class=\"btn btn-mini btn-primary\" href=\"#\" title=\"Stop Interaction\"><i class=\"fa fa-power-off icon-remove icon-large\"></i></button>');\n",
       "    button.click(function (evt) { fig.handle_close(fig, {}); } );\n",
       "    button.mouseover('Stop Interaction', toolbar_mouse_event);\n",
       "    buttongrp.append(button);\n",
       "    var titlebar = this.root.find($('.ui-dialog-titlebar'));\n",
       "    titlebar.prepend(buttongrp);\n",
       "}\n",
       "\n",
       "mpl.figure.prototype._root_extra_style = function(el){\n",
       "    var fig = this\n",
       "    el.on(\"remove\", function(){\n",
       "\tfig.close_ws(fig, {});\n",
       "    });\n",
       "}\n",
       "\n",
       "mpl.figure.prototype._canvas_extra_style = function(el){\n",
       "    // this is important to make the div 'focusable\n",
       "    el.attr('tabindex', 0)\n",
       "    // reach out to IPython and tell the keyboard manager to turn it's self\n",
       "    // off when our div gets focus\n",
       "\n",
       "    // location in version 3\n",
       "    if (IPython.notebook.keyboard_manager) {\n",
       "        IPython.notebook.keyboard_manager.register_events(el);\n",
       "    }\n",
       "    else {\n",
       "        // location in version 2\n",
       "        IPython.keyboard_manager.register_events(el);\n",
       "    }\n",
       "\n",
       "}\n",
       "\n",
       "mpl.figure.prototype._key_event_extra = function(event, name) {\n",
       "    var manager = IPython.notebook.keyboard_manager;\n",
       "    if (!manager)\n",
       "        manager = IPython.keyboard_manager;\n",
       "\n",
       "    // Check for shift+enter\n",
       "    if (event.shiftKey && event.which == 13) {\n",
       "        this.canvas_div.blur();\n",
       "        event.shiftKey = false;\n",
       "        // Send a \"J\" for go to next cell\n",
       "        event.which = 74;\n",
       "        event.keyCode = 74;\n",
       "        manager.command_mode();\n",
       "        manager.handle_keydown(event);\n",
       "    }\n",
       "}\n",
       "\n",
       "mpl.figure.prototype.handle_save = function(fig, msg) {\n",
       "    fig.ondownload(fig, null);\n",
       "}\n",
       "\n",
       "\n",
       "mpl.find_output_cell = function(html_output) {\n",
       "    // Return the cell and output element which can be found *uniquely* in the notebook.\n",
       "    // Note - this is a bit hacky, but it is done because the \"notebook_saving.Notebook\"\n",
       "    // IPython event is triggered only after the cells have been serialised, which for\n",
       "    // our purposes (turning an active figure into a static one), is too late.\n",
       "    var cells = IPython.notebook.get_cells();\n",
       "    var ncells = cells.length;\n",
       "    for (var i=0; i<ncells; i++) {\n",
       "        var cell = cells[i];\n",
       "        if (cell.cell_type === 'code'){\n",
       "            for (var j=0; j<cell.output_area.outputs.length; j++) {\n",
       "                var data = cell.output_area.outputs[j];\n",
       "                if (data.data) {\n",
       "                    // IPython >= 3 moved mimebundle to data attribute of output\n",
       "                    data = data.data;\n",
       "                }\n",
       "                if (data['text/html'] == html_output) {\n",
       "                    return [cell, data, j];\n",
       "                }\n",
       "            }\n",
       "        }\n",
       "    }\n",
       "}\n",
       "\n",
       "// Register the function which deals with the matplotlib target/channel.\n",
       "// The kernel may be null if the page has been refreshed.\n",
       "if (IPython.notebook.kernel != null) {\n",
       "    IPython.notebook.kernel.comm_manager.register_target('matplotlib', mpl.mpl_figure_comm);\n",
       "}\n"
      ],
      "text/plain": [
       "<IPython.core.display.Javascript object>"
      ]
     },
     "metadata": {},
     "output_type": "display_data"
    },
    {
     "data": {
      "text/html": [
       "<img src=\"data:image/png;base64,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\" width=\"639.9999861283738\">"
      ],
      "text/plain": [
       "<IPython.core.display.HTML object>"
      ]
     },
     "metadata": {},
     "output_type": "display_data"
    },
    {
     "data": {
      "text/plain": [
       "<matplotlib.collections.PathCollection at 0x137fe7d9cc0>"
      ]
     },
     "execution_count": 502,
     "metadata": {},
     "output_type": "execute_result"
    }
   ],
   "source": [
    "plt.figure()\n",
    "plt.scatter(hist_freq,new_freq)"
   ]
  },
  {
   "cell_type": "code",
   "execution_count": 500,
   "metadata": {},
   "outputs": [
    {
     "data": {
      "text/plain": [
       "137"
      ]
     },
     "execution_count": 500,
     "metadata": {},
     "output_type": "execute_result"
    }
   ],
   "source": [
    "len(new_freq)"
   ]
  },
  {
   "cell_type": "code",
   "execution_count": 473,
   "metadata": {},
   "outputs": [],
   "source": [
    "new_merchants=df_new_merchant_trans[df_new_merchant_trans.card_id=='C_ID_92a2005557'].merchant_id.values"
   ]
  },
  {
   "cell_type": "code",
   "execution_count": 475,
   "metadata": {},
   "outputs": [],
   "source": [
    "old_merchants=df_hist_trans[df_hist_trans.card_id=='C_ID_92a2005557'].merchant_id.values"
   ]
  },
  {
   "cell_type": "code",
   "execution_count": 477,
   "metadata": {},
   "outputs": [],
   "source": [
    "a=set(new_merchants)\n",
    "b=set(old_merchants)"
   ]
  },
  {
   "cell_type": "code",
   "execution_count": 486,
   "metadata": {},
   "outputs": [
    {
     "data": {
      "text/plain": [
       "23"
      ]
     },
     "execution_count": 486,
     "metadata": {},
     "output_type": "execute_result"
    }
   ],
   "source": [
    "len(a)"
   ]
  },
  {
   "cell_type": "code",
   "execution_count": 484,
   "metadata": {},
   "outputs": [
    {
     "data": {
      "text/plain": [
       "94"
      ]
     },
     "execution_count": 484,
     "metadata": {},
     "output_type": "execute_result"
    }
   ],
   "source": [
    "len(b)"
   ]
  },
  {
   "cell_type": "code",
   "execution_count": 487,
   "metadata": {},
   "outputs": [
    {
     "data": {
      "text/plain": [
       "(260,)"
      ]
     },
     "execution_count": 487,
     "metadata": {},
     "output_type": "execute_result"
    }
   ],
   "source": [
    "old_merchants.shape"
   ]
  },
  {
   "cell_type": "code",
   "execution_count": 480,
   "metadata": {},
   "outputs": [
    {
     "data": {
      "text/plain": [
       "set()"
      ]
     },
     "execution_count": 480,
     "metadata": {},
     "output_type": "execute_result"
    }
   ],
   "source": [
    "a.intersection(b)"
   ]
  },
  {
   "cell_type": "code",
   "execution_count": null,
   "metadata": {},
   "outputs": [],
   "source": []
  },
  {
   "cell_type": "code",
   "execution_count": 170,
   "metadata": {},
   "outputs": [],
   "source": [
    "model_with_mixed.loc[map2.index]=model_with_outlier.loc[map2.index]"
   ]
  },
  {
   "cell_type": "code",
   "execution_count": 171,
   "metadata": {},
   "outputs": [],
   "source": [
    "model_with_mixed.reset_index(inplace=True)"
   ]
  },
  {
   "cell_type": "code",
   "execution_count": 172,
   "metadata": {},
   "outputs": [],
   "source": [
    "model_with_mixed.to_csv(\"Bayesian_Ridge_Stacking_mixed_outliers.csv\",index=False)"
   ]
  },
  {
   "cell_type": "code",
   "execution_count": 218,
   "metadata": {},
   "outputs": [],
   "source": [
    "index_high_prob=map2[map2.target>0.5]"
   ]
  },
  {
   "cell_type": "code",
   "execution_count": 429,
   "metadata": {
    "scrolled": true
   },
   "outputs": [
    {
     "data": {
      "text/plain": [
       "(201917, 87)"
      ]
     },
     "execution_count": 429,
     "metadata": {},
     "output_type": "execute_result"
    }
   ],
   "source": [
    "df_train.shape"
   ]
  },
  {
   "cell_type": "code",
   "execution_count": 430,
   "metadata": {},
   "outputs": [
    {
     "data": {
      "text/plain": [
       "(123623, 85)"
      ]
     },
     "execution_count": 430,
     "metadata": {},
     "output_type": "execute_result"
    }
   ],
   "source": [
    "df_test.shape"
   ]
  },
  {
   "cell_type": "code",
   "execution_count": 223,
   "metadata": {},
   "outputs": [
    {
     "data": {
      "text/html": [
       "<div>\n",
       "<style scoped>\n",
       "    .dataframe tbody tr th:only-of-type {\n",
       "        vertical-align: middle;\n",
       "    }\n",
       "\n",
       "    .dataframe tbody tr th {\n",
       "        vertical-align: top;\n",
       "    }\n",
       "\n",
       "    .dataframe thead th {\n",
       "        text-align: right;\n",
       "    }\n",
       "</style>\n",
       "<table border=\"1\" class=\"dataframe\">\n",
       "  <thead>\n",
       "    <tr style=\"text-align: right;\">\n",
       "      <th></th>\n",
       "      <th>card_id</th>\n",
       "      <th>target</th>\n",
       "    </tr>\n",
       "  </thead>\n",
       "  <tbody>\n",
       "    <tr>\n",
       "      <th>7750</th>\n",
       "      <td>C_ID_a74b12dcf8</td>\n",
       "      <td>-25.262202</td>\n",
       "    </tr>\n",
       "    <tr>\n",
       "      <th>20556</th>\n",
       "      <td>C_ID_aae50409e7</td>\n",
       "      <td>-21.672768</td>\n",
       "    </tr>\n",
       "    <tr>\n",
       "      <th>27982</th>\n",
       "      <td>C_ID_e7f772dfc0</td>\n",
       "      <td>-18.387164</td>\n",
       "    </tr>\n",
       "    <tr>\n",
       "      <th>30248</th>\n",
       "      <td>C_ID_65a0e440f8</td>\n",
       "      <td>-15.969893</td>\n",
       "    </tr>\n",
       "    <tr>\n",
       "      <th>32446</th>\n",
       "      <td>C_ID_ac114ef831</td>\n",
       "      <td>-21.413514</td>\n",
       "    </tr>\n",
       "    <tr>\n",
       "      <th>70804</th>\n",
       "      <td>C_ID_833aa2f7af</td>\n",
       "      <td>-15.424178</td>\n",
       "    </tr>\n",
       "    <tr>\n",
       "      <th>77945</th>\n",
       "      <td>C_ID_6ab591cf62</td>\n",
       "      <td>-20.672101</td>\n",
       "    </tr>\n",
       "    <tr>\n",
       "      <th>80840</th>\n",
       "      <td>C_ID_bced41d837</td>\n",
       "      <td>-15.642591</td>\n",
       "    </tr>\n",
       "    <tr>\n",
       "      <th>104991</th>\n",
       "      <td>C_ID_86ddafb51c</td>\n",
       "      <td>-20.197719</td>\n",
       "    </tr>\n",
       "    <tr>\n",
       "      <th>114106</th>\n",
       "      <td>C_ID_e54aeb08f7</td>\n",
       "      <td>-17.926073</td>\n",
       "    </tr>\n",
       "  </tbody>\n",
       "</table>\n",
       "</div>"
      ],
      "text/plain": [
       "                card_id     target\n",
       "7750    C_ID_a74b12dcf8 -25.262202\n",
       "20556   C_ID_aae50409e7 -21.672768\n",
       "27982   C_ID_e7f772dfc0 -18.387164\n",
       "30248   C_ID_65a0e440f8 -15.969893\n",
       "32446   C_ID_ac114ef831 -21.413514\n",
       "70804   C_ID_833aa2f7af -15.424178\n",
       "77945   C_ID_6ab591cf62 -20.672101\n",
       "80840   C_ID_bced41d837 -15.642591\n",
       "104991  C_ID_86ddafb51c -20.197719\n",
       "114106  C_ID_e54aeb08f7 -17.926073"
      ]
     },
     "execution_count": 223,
     "metadata": {},
     "output_type": "execute_result"
    }
   ],
   "source": [
    "model_with_mixed[model_with_mixed.card_id.isin(index_high_prob.index)]"
   ]
  },
  {
   "cell_type": "code",
   "execution_count": 225,
   "metadata": {},
   "outputs": [],
   "source": [
    "model_with_mixed_2=model_with_mixed.copy()\n",
    "model_with_mixed_2.set_index('card_id',inplace=True)\n",
    "model_with_mixed_2.loc[index_high_prob.index]=-33.21928095"
   ]
  },
  {
   "cell_type": "code",
   "execution_count": 227,
   "metadata": {},
   "outputs": [],
   "source": [
    "model_with_mixed_2.reset_index(inplace=True)\n",
    "model_with_mixed.to_csv(\"chau_feature_engineering_date_fixed_4_mixed_outliers_whighprop.csv\",index=False)"
   ]
  },
  {
   "cell_type": "code",
   "execution_count": null,
   "metadata": {},
   "outputs": [],
   "source": [
    "from sklearn.metrics import log_loss\n",
    "from sklearn.metrics import roc_auc_score\n",
    "#sklearn.metrics.roc_auc_score(y_true, y_score, average=’macro’, sample_weight=None, max_fpr=None)"
   ]
  },
  {
   "cell_type": "code",
   "execution_count": null,
   "metadata": {},
   "outputs": [],
   "source": [
    "sub_df = pd.DataFrame({\"card_id\":df_test[\"card_id\"].values})\n",
    "sub_df[\"target\"] = predictions\n",
    "sub_df.to_csv(\"chau_pur_date_4_trained_wo_out.csv\", index=False)"
   ]
  },
  {
   "cell_type": "code",
   "execution_count": 151,
   "metadata": {
    "scrolled": true
   },
   "outputs": [],
   "source": [
    "map_out=pd.read_csv(\"predicted_outliers_test.csv\",squeeze=True)\n",
    "map_out.set_index(\"card_id\",inplace=True)"
   ]
  },
  {
   "cell_type": "code",
   "execution_count": 169,
   "metadata": {},
   "outputs": [],
   "source": [
    "map1=map_out.sort_values('target',ascending=False).head(1340)"
   ]
  },
  {
   "cell_type": "code",
   "execution_count": 166,
   "metadata": {
    "scrolled": true
   },
   "outputs": [
    {
     "data": {
      "text/plain": [
       "1347.4907"
      ]
     },
     "execution_count": 166,
     "metadata": {},
     "output_type": "execute_result"
    }
   ],
   "source": [
    "len(map_out)*1.09/100"
   ]
  },
  {
   "cell_type": "code",
   "execution_count": 165,
   "metadata": {
    "scrolled": true
   },
   "outputs": [
    {
     "name": "stdout",
     "output_type": "stream",
     "text": [
      "ration of outliers\n",
      "0.010930233709890698\n",
      " unique values of outliers\n",
      "[-33.21928095]\n"
     ]
    }
   ],
   "source": [
    "df_train_origina=pd.read_csv('train.csv')\n",
    "print(\"ration of outliers\")\n",
    "print(len(df_train_origina[df_train_origina.target<-20])/len(df_train_origina))\n",
    "print(\" unique values of outliers\")\n",
    "print(df_train_origina[df_train_origina.target<-20].target.unique())\n"
   ]
  },
  {
   "cell_type": "code",
   "execution_count": 189,
   "metadata": {},
   "outputs": [],
   "source": [
    "map1=map_out.sort_values('target',ascending=False).head(1340)\n",
    "map2=map_out.sort_values('target',ascending=False).head(25000)\n",
    "\n",
    "\n",
    "\n",
    "sub_df=pd.read_csv(\"chau_pur_date_4_trained_wo_out.csv\")\n",
    "sub_df.set_index('card_id',inplace=True)\n",
    "sub_df.loc[map2.index,'target']=-33.21928095\n",
    "sub_df.reset_index(inplace=True)\n",
    "sub_df.to_csv(\"chau_pur_date_4_trained_w_out_25000.csv\", index=False)"
   ]
  },
  {
   "cell_type": "markdown",
   "metadata": {},
   "source": [
    "If that it is same ration than outliers will be ~1340 in test set. Howver, according to their results \n",
    "https://www.kaggle.com/waitingli/combining-your-model-with-a-model-without-outlier\n",
    "they choose first 25000 to be outliers rather than 1340.\n"
   ]
  },
  {
   "cell_type": "code",
   "execution_count": null,
   "metadata": {},
   "outputs": [],
   "source": [
    "sub_df = pd.DataFrame({\"card_id\":df_train[\"card_id\"].values})\n",
    "sub_df[\"target_predicted\"] = oof\n",
    "sub_df[\"target_real\"]=target\n",
    "sub_df.to_csv(\"predicted_outliers_train.csv\", index=False)"
   ]
  },
  {
   "cell_type": "code",
   "execution_count": 160,
   "metadata": {},
   "outputs": [],
   "source": [
    "df_train_origina=pd.read_csv('train.csv')"
   ]
  },
  {
   "cell_type": "code",
   "execution_count": null,
   "metadata": {},
   "outputs": [],
   "source": [
    "name='purchase_date_'\n",
    "for i in range(1,5):\n",
    "    name_=name+str(i)\n",
    "    sub_df = pd.DataFrame({\"card_id\":df_test[\"card_id\"].values})\n",
    "    sub_df[\"target\"] = results[i-1]\n",
    "    sub_df.to_csv(\"chau_feature_engineering_date_fixed_\"+str(i)+\".csv\", index=False)"
   ]
  },
  {
   "cell_type": "code",
   "execution_count": null,
   "metadata": {},
   "outputs": [],
   "source": [
    "sub_df = pd.DataFrame({\"card_id\":df_test[\"card_id\"].values})\n",
    "sub_df[\"target\"] = predictions\n",
    "sub_df.to_csv(\"chau_feature_engineering_date_fixed_4_catfeatures.csv\", index=False)"
   ]
  },
  {
   "cell_type": "markdown",
   "metadata": {},
   "source": [
    "pur_date_1,pur_date_2,pur_date_3,pur_date_4\n",
    "best seems to be still first and last\n",
    "[3.6503261351619978, 3.652261631810461, 3.6524115687225662, 3.6506695114985384]\n",
    "\n",
    "\n",
    "trying without using maping outliers: CV score \n",
    "3.649842864600676\n",
    "     for f in ['feature_1','feature_2','feature_3']:\n",
    "         order_label = df_train.groupby([f])['outliers'].mean()\n",
    "         df_train[f] = df_train[f].map(order_label)\n",
    "         df_test[f] = df_test[f].map(order_label)\n",
    "         \n",
    "         \n",
    "same as previous with categorical features for fearure_1,2,3\n",
    "3.6491202164373253\n",
    "\n",
    "Same as previous but without outliers: CV_score\n",
    "Outliers have significant effect on the score\n",
    "\n",
    "1.5559535690683506\n",
    "\n",
    "predicting outliers based on pur_date_4\n",
    "log_loss on train\n",
    "0.044014957513606616\n",
    "roc_auc\n",
    "0.903436128739\n",
    "\n",
    "with categorical feature_1,feature_2,feature_3\n",
    "0.0440283251986\n",
    "0.903455034721\n",
    "\n"
   ]
  },
  {
   "cell_type": "code",
   "execution_count": null,
   "metadata": {},
   "outputs": [],
   "source": [
    "mask_out=pd.read_csv(\"predicted_outliers_test.csv\",index_col='card_id')"
   ]
  },
  {
   "cell_type": "markdown",
   "metadata": {},
   "source": [
    "### 1 fixed\n",
    "\n",
    "3.6499271201859389\n"
   ]
  },
  {
   "cell_type": "code",
   "execution_count": null,
   "metadata": {
    "_uuid": "40b64481054fa71e692829c7039eccceb31b77fe"
   },
   "outputs": [],
   "source": [
    "cols = (feature_importance_df[[\"Feature\", \"importance\"]]\n",
    "        .groupby(\"Feature\")\n",
    "        .mean()\n",
    "        .sort_values(by=\"importance\", ascending=False)[:1000].index)\n",
    "\n",
    "best_features = feature_importance_df.loc[feature_importance_df.Feature.isin(cols)]\n",
    "\n",
    "plt.figure(figsize=(14,25))\n",
    "sns.barplot(x=\"importance\",\n",
    "            y=\"Feature\",\n",
    "            data=best_features.sort_values(by=\"importance\",\n",
    "                                           ascending=False))\n",
    "plt.title('LightGBM Features (avg over folds)')\n",
    "plt.tight_layout()\n",
    "plt.savefig('lgbm_importances_feature_date_fixed_outlier_prediction.png')"
   ]
  },
  {
   "cell_type": "code",
   "execution_count": null,
   "metadata": {
    "_uuid": "355e9c24949b8e5d677fe5a2f117228c3310dab6"
   },
   "outputs": [],
   "source": [
    "sub_df = pd.DataFrame({\"card_id\":df_test[\"card_id\"].values})\n",
    "sub_df[\"target\"] = predictions\n",
    "sub_df.to_csv(\"chau_feature_engineering_3_date_updated3.csv\", index=False)"
   ]
  },
  {
   "cell_type": "markdown",
   "metadata": {
    "_uuid": "58c9a5445698e42dfbd9548695290487a2ce171a"
   },
   "source": [
    "**To be continued ...**"
   ]
  },
  {
   "cell_type": "code",
   "execution_count": null,
   "metadata": {},
   "outputs": [],
   "source": [
    "best_features.groupby('Feature').mean().sort_values('importance',ascending=False).to_csv('feature_importance2.csv')"
   ]
  },
  {
   "cell_type": "code",
   "execution_count": null,
   "metadata": {},
   "outputs": [],
   "source": [
    "df_train.to_csv('C:/Users/user/Documents/Salamat/ELO/train_new_lag_updated.csv',index=False)"
   ]
  },
  {
   "cell_type": "code",
   "execution_count": null,
   "metadata": {},
   "outputs": [],
   "source": [
    "df_test.to_csv('C:/Users/user/Documents/Salamat/ELO/test_new_lag_updated.csv',index=False)"
   ]
  },
  {
   "cell_type": "code",
   "execution_count": null,
   "metadata": {},
   "outputs": [],
   "source": [
    "best_features.groupby('Feature').mean().sort_values('importance',ascending=False).to_csv('best_features_dates.csv')"
   ]
  },
  {
   "cell_type": "code",
   "execution_count": null,
   "metadata": {},
   "outputs": [],
   "source": [
    "len(target[(target<=1)&(target>=-1)])/len(target)"
   ]
  },
  {
   "cell_type": "code",
   "execution_count": null,
   "metadata": {},
   "outputs": [],
   "source": []
  }
 ],
 "metadata": {
  "kernelspec": {
   "display_name": "Python 3",
   "language": "python",
   "name": "python3"
  },
  "language_info": {
   "codemirror_mode": {
    "name": "ipython",
    "version": 3
   },
   "file_extension": ".py",
   "mimetype": "text/x-python",
   "name": "python",
   "nbconvert_exporter": "python",
   "pygments_lexer": "ipython3",
   "version": "3.6.4"
  }
 },
 "nbformat": 4,
 "nbformat_minor": 1
}
