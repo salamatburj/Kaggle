{
 "cells": [
  {
   "cell_type": "markdown",
   "metadata": {
    "_uuid": "6df55b542f152882e00385a0f73198f4e3bc4316"
   },
   "source": [
    "Changing feature enginering"
   ]
  },
  {
   "cell_type": "code",
   "execution_count": 118,
   "metadata": {},
   "outputs": [
    {
     "data": {
      "text/plain": [
       "2817"
      ]
     },
     "execution_count": 118,
     "metadata": {},
     "output_type": "execute_result"
    }
   ],
   "source": [
    "import gc\n",
    "gc.collect()"
   ]
  },
  {
   "cell_type": "code",
   "execution_count": 119,
   "metadata": {},
   "outputs": [
    {
     "name": "stdout",
     "output_type": "stream",
     "text": [
      "Once deleted, variables cannot be recovered. Proceed (y/[n])? y\n"
     ]
    }
   ],
   "source": [
    "%reset"
   ]
  },
  {
   "cell_type": "code",
   "execution_count": 120,
   "metadata": {
    "_cell_guid": "b1076dfc-b9ad-4769-8c92-a6c4dae69d19",
    "_uuid": "8f2839f25d086af736a60e9eeb907d3b93b6e0e5"
   },
   "outputs": [],
   "source": [
    "import numpy as np\n",
    "import pandas as pd\n",
    "import datetime\n",
    "import gc\n",
    "import matplotlib.pyplot as plt\n",
    "import seaborn as sns\n",
    "import lightgbm as lgb\n",
    "from sklearn.model_selection import StratifiedKFold\n",
    "from sklearn.metrics import mean_squared_error\n",
    "import warnings\n",
    "warnings.filterwarnings('ignore')\n",
    "np.random.seed(4590)"
   ]
  },
  {
   "cell_type": "code",
   "execution_count": 121,
   "metadata": {
    "_uuid": "3f389b05b579223e6833cc0a824c8256d037a3f3"
   },
   "outputs": [],
   "source": [
    "def reduce_mem_usage(df, verbose=True):\n",
    "    numerics = ['int16', 'int32', 'int64', 'float16', 'float32', 'float64']\n",
    "    start_mem = df.memory_usage().sum() / 1024**2    \n",
    "    for col in df.columns:\n",
    "        col_type = df[col].dtypes\n",
    "        if col_type in numerics:\n",
    "            c_min = df[col].min()\n",
    "            c_max = df[col].max(\n",
    "            )\n",
    "            if str(col_type)[:3] == 'int':\n",
    "                if c_min > np.iinfo(np.int8).min and c_max < np.iinfo(np.int8).max:\n",
    "                    df[col] = df[col].astype(np.int8)\n",
    "                elif c_min > np.iinfo(np.int16).min and c_max < np.iinfo(np.int16).max:\n",
    "                    df[col] = df[col].astype(np.int16)\n",
    "                elif c_min > np.iinfo(np.int32).min and c_max < np.iinfo(np.int32).max:\n",
    "                    df[col] = df[col].astype(np.int32)\n",
    "                elif c_min > np.iinfo(np.int64).min and c_max < np.iinfo(np.int64).max:\n",
    "                    df[col] = df[col].astype(np.int64)  \n",
    "            else:\n",
    "                if c_min > np.finfo(np.float16).min and c_max < np.finfo(np.float16).max:\n",
    "                    df[col] = df[col].astype(np.float16)\n",
    "                elif c_min > np.finfo(np.float32).min and c_max < np.finfo(np.float32).max:\n",
    "                    df[col] = df[col].astype(np.float32)\n",
    "                else:\n",
    "                    df[col] = df[col].astype(np.float64)    \n",
    "    end_mem = df.memory_usage().sum() / 1024**2\n",
    "    if verbose: print('Mem. usage decreased to {:5.2f} Mb ({:.1f}% reduction)'.format(end_mem, 100 * (start_mem - end_mem) / start_mem))\n",
    "    return df"
   ]
  },
  {
   "cell_type": "code",
   "execution_count": 320,
   "metadata": {
    "_cell_guid": "79c7e3d0-c299-4dcb-8224-4455121ee9b0",
    "_uuid": "d629ff2d2480ee46fbb7e2d37f6b5fab8052498a"
   },
   "outputs": [],
   "source": [
    "df_train = pd.read_csv('C:/Users/user/Documents/Salamat/ELO/train.csv')\n",
    "df_test = pd.read_csv('C:/Users/user/Documents/Salamat/ELO/test.csv')\n",
    "df_hist_trans = pd.read_csv('C:/Users/user/Documents/Salamat/ELO/historical_transactions_new.csv')\n",
    "df_new_merchant_trans = pd.read_csv('C:/Users/user/Documents/Salamat/ELO/new_merchant_transactions_new.csv')"
   ]
  },
  {
   "cell_type": "code",
   "execution_count": 321,
   "metadata": {
    "_uuid": "d349a4ebccd9cb8250ff796f0d631ad9a73dffc4"
   },
   "outputs": [
    {
     "name": "stdout",
     "output_type": "stream",
     "text": [
      "Mem. usage decreased to  4.04 Mb (56.2% reduction)\n",
      "Mem. usage decreased to  2.24 Mb (52.5% reduction)\n",
      "Mem. usage decreased to 1749.11 Mb (43.7% reduction)\n",
      "Mem. usage decreased to 114.20 Mb (45.5% reduction)\n"
     ]
    }
   ],
   "source": [
    "df_train=reduce_mem_usage(df_train)\n",
    "df_test=reduce_mem_usage(df_test)\n",
    "df_hist_trans=reduce_mem_usage(df_hist_trans)\n",
    "df_new_merchant_trans=reduce_mem_usage(df_new_merchant_trans)"
   ]
  },
  {
   "cell_type": "code",
   "execution_count": 297,
   "metadata": {},
   "outputs": [],
   "source": [
    "train_month_lag_0=pd.read_csv('C:/Users/user/Documents/Salamat/ELO/train_month_lag_0.csv',header=None,squeeze=True,parse_dates=[0])\n",
    "test_month_lag_0=pd.read_csv('C:/Users/user/Documents/Salamat/ELO/test_month_lag_0.csv',header=None,squeeze=True,parse_dates=[0])\n",
    "hist_lag_0=pd.read_csv('C:/Users/user/Documents/Salamat/ELO/hist_month_lag_0.csv',header=None,squeeze=True,parse_dates=[0])\n",
    "new_mech_lag_0=pd.read_csv('C:/Users/user/Documents/Salamat/ELO/new_mech_month_lag_0.csv',header=None,squeeze=True,parse_dates=[0])"
   ]
  },
  {
   "cell_type": "code",
   "execution_count": 298,
   "metadata": {
    "scrolled": true
   },
   "outputs": [
    {
     "data": {
      "text/plain": [
       "False"
      ]
     },
     "execution_count": 298,
     "metadata": {},
     "output_type": "execute_result"
    }
   ],
   "source": [
    "\n",
    "(df_hist_trans.isnull().any().any()) and (df_new_merchant_trans.isnull().any().any())"
   ]
  },
  {
   "cell_type": "code",
   "execution_count": 299,
   "metadata": {
    "scrolled": true
   },
   "outputs": [
    {
     "data": {
      "text/plain": [
       "card_id                 False\n",
       "authorized_flag         False\n",
       "city_id                 False\n",
       "category_1              False\n",
       "installments            False\n",
       "category_3              False\n",
       "merchant_category_id    False\n",
       "merchant_id             False\n",
       "month_lag               False\n",
       "purchase_amount         False\n",
       "purchase_date           False\n",
       "category_2              False\n",
       "state_id                False\n",
       "subsector_id            False\n",
       "dtype: bool"
      ]
     },
     "execution_count": 299,
     "metadata": {},
     "output_type": "execute_result"
    }
   ],
   "source": [
    "df_hist_trans.isnull().any()"
   ]
  },
  {
   "cell_type": "markdown",
   "metadata": {},
   "source": [
    "## Chau's  nan engineering "
   ]
  },
  {
   "cell_type": "code",
   "execution_count": 438,
   "metadata": {},
   "outputs": [],
   "source": [
    "df_train = pd.read_csv('C:/Users/user/Documents/Salamat/ELO/train.csv')\n",
    "df_test = pd.read_csv('C:/Users/user/Documents/Salamat/ELO/test.csv')\n",
    "# df_hist_trans = pd.read_csv('C:/Users/user/Documents/Salamat/ELO/historical_transactions.csv')\n",
    "# df_new_merchant_trans = pd.read_csv('C:/Users/user/Documents/Salamat/ELO/new_merchant_transactions.csv')\n",
    "# df_train=reduce_mem_usage(df_train)\n",
    "# df_test=reduce_mem_usage(df_test)\n",
    "# df_hist_trans=reduce_mem_usage(df_hist_trans)\n",
    "# df_new_merchant_trans=reduce_mem_usage(df_new_merchant_trans)"
   ]
  },
  {
   "cell_type": "code",
   "execution_count": 440,
   "metadata": {},
   "outputs": [
    {
     "data": {
      "text/plain": [
       "first_active_month    False\n",
       "card_id               False\n",
       "feature_1             False\n",
       "feature_2             False\n",
       "feature_3             False\n",
       "target                False\n",
       "dtype: bool"
      ]
     },
     "execution_count": 440,
     "metadata": {},
     "output_type": "execute_result"
    }
   ],
   "source": [
    "df_train.isnull().any()"
   ]
  },
  {
   "cell_type": "code",
   "execution_count": 445,
   "metadata": {},
   "outputs": [
    {
     "data": {
      "text/html": [
       "<div>\n",
       "<style scoped>\n",
       "    .dataframe tbody tr th:only-of-type {\n",
       "        vertical-align: middle;\n",
       "    }\n",
       "\n",
       "    .dataframe tbody tr th {\n",
       "        vertical-align: top;\n",
       "    }\n",
       "\n",
       "    .dataframe thead th {\n",
       "        text-align: right;\n",
       "    }\n",
       "</style>\n",
       "<table border=\"1\" class=\"dataframe\">\n",
       "  <thead>\n",
       "    <tr style=\"text-align: right;\">\n",
       "      <th></th>\n",
       "      <th>first_active_month</th>\n",
       "      <th>card_id</th>\n",
       "      <th>feature_1</th>\n",
       "      <th>feature_2</th>\n",
       "      <th>feature_3</th>\n",
       "    </tr>\n",
       "  </thead>\n",
       "  <tbody>\n",
       "    <tr>\n",
       "      <th>11578</th>\n",
       "      <td>NaN</td>\n",
       "      <td>C_ID_c27b4f80f7</td>\n",
       "      <td>5</td>\n",
       "      <td>2</td>\n",
       "      <td>1</td>\n",
       "    </tr>\n",
       "  </tbody>\n",
       "</table>\n",
       "</div>"
      ],
      "text/plain": [
       "      first_active_month          card_id  feature_1  feature_2  feature_3\n",
       "11578                NaN  C_ID_c27b4f80f7          5          2          1"
      ]
     },
     "execution_count": 445,
     "metadata": {},
     "output_type": "execute_result"
    }
   ],
   "source": [
    "df_test[df_test.first_active_month.isnull()]"
   ]
  },
  {
   "cell_type": "code",
   "execution_count": 422,
   "metadata": {},
   "outputs": [],
   "source": [
    "for df in [df_hist_trans,df_new_merchant_trans]:\n",
    "   df['category_2'].fillna(1.0,inplace=True)\n",
    "   df['category_3'].fillna('A',inplace=True)\n",
    "   df['merchant_id'].fillna('M_ID_00a6ca8a8a',inplace=True)"
   ]
  },
  {
   "cell_type": "markdown",
   "metadata": {},
   "source": [
    "This part is based on https://www.kaggle.com/delayedkarma/let-s-add-some-features-for-the-national-holidays.\n",
    "\n",
    "Bojan Tunguz's post (https://www.kaggle.com/c/elo-merchant-category-recommendation/discussion/74052) by Kjetil Åmdal-Sævik.\n",
    "As a first cursory effort, I've created new features in the train and test sets based on the number of working days (in the Brazilian calendar) between the first_active_month and the 8 major national holidays.¶"
   ]
  },
  {
   "cell_type": "code",
   "execution_count": 423,
   "metadata": {
    "scrolled": true
   },
   "outputs": [
    {
     "name": "stdout",
     "output_type": "stream",
     "text": [
      "2011 2011-04-21\n"
     ]
    }
   ],
   "source": [
    "from workalendar.america import Brazil\n",
    "cal = Brazil()\n",
    "for yr in [2011]:\n",
    "    print(yr,cal.holidays(yr)[1][0])"
   ]
  },
  {
   "cell_type": "markdown",
   "metadata": {},
   "source": [
    "We can simply make dataframe or series of working days between holidays starting from the yearliest date going to latest date.\n",
    "After we can just use map functions which is much faster."
   ]
  },
  {
   "cell_type": "code",
   "execution_count": 424,
   "metadata": {
    "_uuid": "dda90662d05e22310dd713df106ea07f4b8bccfc"
   },
   "outputs": [],
   "source": [
    "def get_new_columns(name,aggs):\n",
    "    return [name + '_' + k + '_' + agg for k in aggs.keys() for agg in aggs[k]]"
   ]
  },
  {
   "cell_type": "markdown",
   "metadata": {
    "_uuid": "6ce81345de5cf46eb239fc2ec035142d952c64f1"
   },
   "source": [
    "I we can take weekofyear,day of week, weekend as extra parameter which I didn't. I am not sure if month diff is correct. Still confused about this issue"
   ]
  },
  {
   "cell_type": "code",
   "execution_count": 425,
   "metadata": {
    "_uuid": "690ba01a38f524e9345b419200f588f937bc067a"
   },
   "outputs": [],
   "source": [
    "for df in [df_hist_trans,df_new_merchant_trans]:\n",
    "    df['purchase_date'] = pd.to_datetime(df['purchase_date'])\n",
    "    df['year'] = df['purchase_date'].dt.year\n",
    "    df['weekofyear'] = df['purchase_date'].dt.weekofyear\n",
    "    df['month'] = df['purchase_date'].dt.month\n",
    "    df['dayofweek'] = df['purchase_date'].dt.dayofweek\n",
    "    df['weekend'] = (df.purchase_date.dt.weekday >=5).astype(int)\n",
    "    df['hour'] = df['purchase_date'].dt.hour\n",
    "    df['authorized_flag'] = df['authorized_flag'].map({'Y':1, 'N':0})\n",
    "    df['category_1'] = df['category_1'].map({'Y':1, 'N':0}) \n",
    "    #https://www.kaggle.com/c/elo-merchant-category-recommendation/discussion/73244\n",
    "    df['month_diff'] = ((datetime.datetime.today() - df['purchase_date']).dt.days)//30\n",
    "    df['month_diff'] += df['month_lag']\n",
    "    \n",
    "# We will use our extracted values for reference. From month_lag at zero (max)    \n",
    "    \n",
    "# df_hist_trans['month_diff'] = ((hist_lag_0 - df_hist_trans['purchase_date']).dt.days)//30\n",
    "# df_hist_trans['month_diff'] += df_hist_trans['month_lag']\n",
    "\n",
    "# df_new_merchant_trans['month_diff'] = ((new_mech_lag_0 - df_new_merchant_trans['purchase_date']).dt.days)//30\n",
    "# df_new_merchant_trans['month_diff'] += df_new_merchant_trans['month_lag']\n"
   ]
  },
  {
   "cell_type": "markdown",
   "metadata": {},
   "source": [
    "#### Let's first create mask than use map function to assign date differences."
   ]
  },
  {
   "cell_type": "code",
   "execution_count": 304,
   "metadata": {},
   "outputs": [],
   "source": [
    "# day_diff_mask=pd.DataFrame()\n",
    "# day_diff_mask['date_range']=pd.date_range('2017-01-01','2018-04-30') # you can check\n",
    "# day_diff_mask['date_range']=day_diff_mask['date_range'].dt.date\n",
    "# ref_name='day_diff'\n",
    "# for i in range(1,9):\n",
    "#     name=ref_name+str(i)\n",
    "#     day_diff_mask[name]=day_diff_mask['date_range'].apply(lambda x: cal.get_working_days_delta(x,cal.holidays(x.year)[i-1][0]))\n",
    "\n",
    "# day_diff_mask.set_index('date_range',inplace=True)\n",
    "# for df in [df_hist_trans,df_new_merchant_trans]:\n",
    "#     df['date'] = df['purchase_date'].dt.date\n",
    "#     for col in day_diff_mask.columns:\n",
    "#         df[col]=df.date.map(day_diff_mask[col])\n",
    "#     df.drop(columns='date',inplace=True)"
   ]
  },
  {
   "cell_type": "code",
   "execution_count": null,
   "metadata": {},
   "outputs": [],
   "source": []
  },
  {
   "cell_type": "code",
   "execution_count": 426,
   "metadata": {
    "_uuid": "f7f5625db40db4395374991124fb796c9decd60b"
   },
   "outputs": [],
   "source": [
    "aggs = {}\n",
    "for col in ['month','hour','weekofyear','dayofweek','year','subsector_id','merchant_id','merchant_category_id']:\n",
    "    aggs[col] = ['nunique']\n",
    "\n",
    "aggs['purchase_amount'] = ['sum','max','min','mean','var']\n",
    "aggs['installments'] = ['sum','max','min','mean','var']\n",
    "aggs['purchase_date'] = ['max','min']\n",
    "aggs['month_lag'] = ['max','min','mean','var']\n",
    "aggs['month_diff'] = ['mean']\n",
    "aggs['authorized_flag'] = ['sum', 'mean']\n",
    "aggs['weekend'] = ['sum', 'mean']\n",
    "aggs['category_1'] = ['sum', 'mean']\n",
    "aggs['card_id'] = ['size']\n",
    "\n",
    "# ref_name='day_diff'\n",
    "# for i in range(1,9):\n",
    "#     name=ref_name+str(i)\n",
    "#     aggs[name]=['sum','mean']\n",
    "    \n",
    "\n",
    "for col in ['category_2','category_3']:\n",
    "    df_hist_trans[col+'_mean'] = df_hist_trans.groupby([col])['purchase_amount'].transform('mean')\n",
    "    aggs[col+'_mean'] = ['mean']    \n",
    "\n",
    "new_columns = get_new_columns('hist',aggs)\n",
    "df_hist_trans_group = df_hist_trans.groupby('card_id').agg(aggs)\n",
    "df_hist_trans_group.columns = new_columns\n",
    "df_hist_trans_group.reset_index(drop=False,inplace=True)\n",
    "df_hist_trans_group['hist_purchase_date_diff'] = (df_hist_trans_group['hist_purchase_date_max'] - df_hist_trans_group['hist_purchase_date_min']).dt.days\n",
    "df_hist_trans_group['hist_purchase_date_average'] = df_hist_trans_group['hist_purchase_date_diff']/df_hist_trans_group['hist_card_id_size']\n",
    "\n",
    "df_hist_trans_group['hist_purchase_date_uptonow'] = (datetime.datetime.today() - df_hist_trans_group['hist_purchase_date_max']).dt.days\n",
    "#df_hist_trans_group['hist_purchase_date_uptonow'] = (hist_lag_0 - df_hist_trans_group['hist_purchase_date_max']).dt.days\n",
    "\n",
    "df_train = df_train.merge(df_hist_trans_group,on='card_id',how='left')\n",
    "df_test = df_test.merge(df_hist_trans_group,on='card_id',how='left')\n",
    "#del df_hist_trans_group;gc.collect()"
   ]
  },
  {
   "cell_type": "code",
   "execution_count": 427,
   "metadata": {},
   "outputs": [],
   "source": [
    "aggs = {}\n",
    "for col in ['month','hour','weekofyear','dayofweek','year','subsector_id','merchant_id','merchant_category_id']:\n",
    "    aggs[col] = ['nunique']\n",
    "aggs['purchase_amount'] = ['sum','max','min','mean','var']\n",
    "aggs['installments'] = ['sum','max','min','mean','var']\n",
    "aggs['purchase_date'] = ['max','min']\n",
    "aggs['month_lag'] = ['max','min','mean','var']\n",
    "aggs['month_diff'] = ['mean']\n",
    "aggs['weekend'] = ['sum', 'mean']\n",
    "aggs['category_1'] = ['sum', 'mean']\n",
    "aggs['card_id'] = ['size']\n",
    "\n",
    "\n",
    "# ref_name='day_diff'\n",
    "# for i in range(1,9):\n",
    "#     name=ref_name+str(i)\n",
    "#     aggs[name]=['sum','mean']\n",
    "\n",
    "for col in ['category_2','category_3']:\n",
    "    df_new_merchant_trans[col+'_mean'] = df_new_merchant_trans.groupby([col])['purchase_amount'].transform('mean')\n",
    "    aggs[col+'_mean'] = ['mean']\n",
    "    \n",
    "    \n",
    "new_columns = get_new_columns('new_hist',aggs)\n",
    "df_hist_trans_group = df_new_merchant_trans.groupby('card_id').agg(aggs)\n",
    "df_hist_trans_group.columns = new_columns\n",
    "df_hist_trans_group.reset_index(drop=False,inplace=True)\n",
    "df_hist_trans_group['new_hist_purchase_date_diff'] = (df_hist_trans_group['new_hist_purchase_date_max'] - df_hist_trans_group['new_hist_purchase_date_min']).dt.days\n",
    "df_hist_trans_group['new_hist_purchase_date_average'] = df_hist_trans_group['new_hist_purchase_date_diff']/df_hist_trans_group['new_hist_card_id_size']\n",
    "\n",
    "df_hist_trans_group['new_hist_purchase_date_uptonow'] = (datetime.datetime.today() - df_hist_trans_group['new_hist_purchase_date_max']).dt.days\n",
    "#df_hist_trans_group['new_hist_purchase_date_uptonow'] = (new_mech_lag_0 - df_hist_trans_group['new_hist_purchase_date_max']).dt.days\n",
    "\n",
    "df_train = df_train.merge(df_hist_trans_group,on='card_id',how='left')\n",
    "df_test = df_test.merge(df_hist_trans_group,on='card_id',how='left')\n",
    "#del df_hist_trans_group;gc.collect()"
   ]
  },
  {
   "cell_type": "code",
   "execution_count": 428,
   "metadata": {
    "_uuid": "a075cc90ab1322829e4fad3ff39fce307c5db93c"
   },
   "outputs": [
    {
     "data": {
      "text/html": [
       "<div>\n",
       "<style scoped>\n",
       "    .dataframe tbody tr th:only-of-type {\n",
       "        vertical-align: middle;\n",
       "    }\n",
       "\n",
       "    .dataframe tbody tr th {\n",
       "        vertical-align: top;\n",
       "    }\n",
       "\n",
       "    .dataframe thead th {\n",
       "        text-align: right;\n",
       "    }\n",
       "</style>\n",
       "<table border=\"1\" class=\"dataframe\">\n",
       "  <thead>\n",
       "    <tr style=\"text-align: right;\">\n",
       "      <th></th>\n",
       "      <th>first_active_month</th>\n",
       "      <th>card_id</th>\n",
       "      <th>feature_1</th>\n",
       "      <th>feature_2</th>\n",
       "      <th>feature_3</th>\n",
       "      <th>target</th>\n",
       "      <th>hist_month_nunique</th>\n",
       "      <th>hist_hour_nunique</th>\n",
       "      <th>hist_weekofyear_nunique</th>\n",
       "      <th>hist_dayofweek_nunique</th>\n",
       "      <th>...</th>\n",
       "      <th>new_hist_weekend_sum</th>\n",
       "      <th>new_hist_weekend_mean</th>\n",
       "      <th>new_hist_category_1_sum</th>\n",
       "      <th>new_hist_category_1_mean</th>\n",
       "      <th>new_hist_card_id_size</th>\n",
       "      <th>new_hist_category_2_mean_mean</th>\n",
       "      <th>new_hist_category_3_mean_mean</th>\n",
       "      <th>new_hist_purchase_date_diff</th>\n",
       "      <th>new_hist_purchase_date_average</th>\n",
       "      <th>new_hist_purchase_date_uptonow</th>\n",
       "    </tr>\n",
       "  </thead>\n",
       "  <tbody>\n",
       "    <tr>\n",
       "      <th>0</th>\n",
       "      <td>2017-06</td>\n",
       "      <td>C_ID_92a2005557</td>\n",
       "      <td>5</td>\n",
       "      <td>2</td>\n",
       "      <td>1</td>\n",
       "      <td>-0.820312</td>\n",
       "      <td>9</td>\n",
       "      <td>23</td>\n",
       "      <td>35</td>\n",
       "      <td>7</td>\n",
       "      <td>...</td>\n",
       "      <td>6.0</td>\n",
       "      <td>0.260870</td>\n",
       "      <td>0.0</td>\n",
       "      <td>0.000000</td>\n",
       "      <td>23.0</td>\n",
       "      <td>-0.550293</td>\n",
       "      <td>-0.592773</td>\n",
       "      <td>54.0</td>\n",
       "      <td>2.347826</td>\n",
       "      <td>231.0</td>\n",
       "    </tr>\n",
       "    <tr>\n",
       "      <th>1</th>\n",
       "      <td>2017-01</td>\n",
       "      <td>C_ID_3d0044924f</td>\n",
       "      <td>4</td>\n",
       "      <td>1</td>\n",
       "      <td>0</td>\n",
       "      <td>0.392822</td>\n",
       "      <td>12</td>\n",
       "      <td>24</td>\n",
       "      <td>50</td>\n",
       "      <td>7</td>\n",
       "      <td>...</td>\n",
       "      <td>0.0</td>\n",
       "      <td>0.000000</td>\n",
       "      <td>0.0</td>\n",
       "      <td>0.000000</td>\n",
       "      <td>6.0</td>\n",
       "      <td>-0.550293</td>\n",
       "      <td>-0.606445</td>\n",
       "      <td>56.0</td>\n",
       "      <td>9.333333</td>\n",
       "      <td>261.0</td>\n",
       "    </tr>\n",
       "    <tr>\n",
       "      <th>2</th>\n",
       "      <td>2016-08</td>\n",
       "      <td>C_ID_d639edf6cd</td>\n",
       "      <td>2</td>\n",
       "      <td>2</td>\n",
       "      <td>0</td>\n",
       "      <td>0.687988</td>\n",
       "      <td>10</td>\n",
       "      <td>14</td>\n",
       "      <td>22</td>\n",
       "      <td>7</td>\n",
       "      <td>...</td>\n",
       "      <td>1.0</td>\n",
       "      <td>1.000000</td>\n",
       "      <td>0.0</td>\n",
       "      <td>0.000000</td>\n",
       "      <td>1.0</td>\n",
       "      <td>-0.548828</td>\n",
       "      <td>-0.592773</td>\n",
       "      <td>0.0</td>\n",
       "      <td>0.000000</td>\n",
       "      <td>231.0</td>\n",
       "    </tr>\n",
       "    <tr>\n",
       "      <th>3</th>\n",
       "      <td>2017-09</td>\n",
       "      <td>C_ID_186d6a6901</td>\n",
       "      <td>4</td>\n",
       "      <td>3</td>\n",
       "      <td>0</td>\n",
       "      <td>0.142456</td>\n",
       "      <td>6</td>\n",
       "      <td>16</td>\n",
       "      <td>20</td>\n",
       "      <td>7</td>\n",
       "      <td>...</td>\n",
       "      <td>3.0</td>\n",
       "      <td>0.428571</td>\n",
       "      <td>1.0</td>\n",
       "      <td>0.142857</td>\n",
       "      <td>7.0</td>\n",
       "      <td>-0.556641</td>\n",
       "      <td>-0.604492</td>\n",
       "      <td>41.0</td>\n",
       "      <td>5.857143</td>\n",
       "      <td>242.0</td>\n",
       "    </tr>\n",
       "    <tr>\n",
       "      <th>4</th>\n",
       "      <td>2017-11</td>\n",
       "      <td>C_ID_cdbd2c0db2</td>\n",
       "      <td>1</td>\n",
       "      <td>3</td>\n",
       "      <td>0</td>\n",
       "      <td>-0.159790</td>\n",
       "      <td>4</td>\n",
       "      <td>22</td>\n",
       "      <td>17</td>\n",
       "      <td>7</td>\n",
       "      <td>...</td>\n",
       "      <td>12.0</td>\n",
       "      <td>0.333333</td>\n",
       "      <td>2.0</td>\n",
       "      <td>0.055556</td>\n",
       "      <td>36.0</td>\n",
       "      <td>-0.555664</td>\n",
       "      <td>-0.588379</td>\n",
       "      <td>57.0</td>\n",
       "      <td>1.583333</td>\n",
       "      <td>231.0</td>\n",
       "    </tr>\n",
       "  </tbody>\n",
       "</table>\n",
       "<p>5 rows × 78 columns</p>\n",
       "</div>"
      ],
      "text/plain": [
       "  first_active_month          card_id  feature_1  feature_2  feature_3  \\\n",
       "0            2017-06  C_ID_92a2005557          5          2          1   \n",
       "1            2017-01  C_ID_3d0044924f          4          1          0   \n",
       "2            2016-08  C_ID_d639edf6cd          2          2          0   \n",
       "3            2017-09  C_ID_186d6a6901          4          3          0   \n",
       "4            2017-11  C_ID_cdbd2c0db2          1          3          0   \n",
       "\n",
       "     target  hist_month_nunique  hist_hour_nunique  hist_weekofyear_nunique  \\\n",
       "0 -0.820312                   9                 23                       35   \n",
       "1  0.392822                  12                 24                       50   \n",
       "2  0.687988                  10                 14                       22   \n",
       "3  0.142456                   6                 16                       20   \n",
       "4 -0.159790                   4                 22                       17   \n",
       "\n",
       "   hist_dayofweek_nunique               ...                \\\n",
       "0                       7               ...                 \n",
       "1                       7               ...                 \n",
       "2                       7               ...                 \n",
       "3                       7               ...                 \n",
       "4                       7               ...                 \n",
       "\n",
       "   new_hist_weekend_sum  new_hist_weekend_mean  new_hist_category_1_sum  \\\n",
       "0                   6.0               0.260870                      0.0   \n",
       "1                   0.0               0.000000                      0.0   \n",
       "2                   1.0               1.000000                      0.0   \n",
       "3                   3.0               0.428571                      1.0   \n",
       "4                  12.0               0.333333                      2.0   \n",
       "\n",
       "   new_hist_category_1_mean  new_hist_card_id_size  \\\n",
       "0                  0.000000                   23.0   \n",
       "1                  0.000000                    6.0   \n",
       "2                  0.000000                    1.0   \n",
       "3                  0.142857                    7.0   \n",
       "4                  0.055556                   36.0   \n",
       "\n",
       "   new_hist_category_2_mean_mean  new_hist_category_3_mean_mean  \\\n",
       "0                      -0.550293                      -0.592773   \n",
       "1                      -0.550293                      -0.606445   \n",
       "2                      -0.548828                      -0.592773   \n",
       "3                      -0.556641                      -0.604492   \n",
       "4                      -0.555664                      -0.588379   \n",
       "\n",
       "   new_hist_purchase_date_diff  new_hist_purchase_date_average  \\\n",
       "0                         54.0                        2.347826   \n",
       "1                         56.0                        9.333333   \n",
       "2                          0.0                        0.000000   \n",
       "3                         41.0                        5.857143   \n",
       "4                         57.0                        1.583333   \n",
       "\n",
       "   new_hist_purchase_date_uptonow  \n",
       "0                           231.0  \n",
       "1                           261.0  \n",
       "2                           231.0  \n",
       "3                           242.0  \n",
       "4                           231.0  \n",
       "\n",
       "[5 rows x 78 columns]"
      ]
     },
     "execution_count": 428,
     "metadata": {},
     "output_type": "execute_result"
    }
   ],
   "source": [
    "del df_hist_trans;gc.collect()\n",
    "del df_new_merchant_trans;gc.collect()\n",
    "df_train.head(5)"
   ]
  },
  {
   "cell_type": "code",
   "execution_count": 429,
   "metadata": {},
   "outputs": [
    {
     "data": {
      "text/plain": [
       "(78,)"
      ]
     },
     "execution_count": 429,
     "metadata": {},
     "output_type": "execute_result"
    }
   ],
   "source": [
    "df_train.columns.shape"
   ]
  },
  {
   "cell_type": "code",
   "execution_count": 430,
   "metadata": {
    "_uuid": "6f3182aeac0c3bf7a061a1b9e25e859f25fee9b5"
   },
   "outputs": [
    {
     "data": {
      "text/plain": [
       "0    199710\n",
       "1      2207\n",
       "Name: outliers, dtype: int64"
      ]
     },
     "execution_count": 430,
     "metadata": {},
     "output_type": "execute_result"
    }
   ],
   "source": [
    "df_train['outliers'] = 0\n",
    "df_train.loc[df_train['target'] < -30, 'outliers'] = 1\n",
    "df_train['outliers'].value_counts()"
   ]
  },
  {
   "cell_type": "code",
   "execution_count": 431,
   "metadata": {},
   "outputs": [],
   "source": [
    "# Dealing with the one nan in df_test.first_active_month a bit arbitrarily for now\n",
    "df_test.loc[df_test['first_active_month'].isna(),'first_active_month'] = df_test.iloc[11577]['first_active_month']"
   ]
  },
  {
   "cell_type": "code",
   "execution_count": 432,
   "metadata": {
    "_uuid": "ce2082fc1fb0e3f8f7d27fc166aa7a8351b65504"
   },
   "outputs": [],
   "source": [
    "\n",
    "\n",
    "for df in [df_train,df_test]:\n",
    "    df['first_active_month'] = pd.to_datetime(df['first_active_month'])\n",
    "    df['dayofweek'] = df['first_active_month'].dt.dayofweek\n",
    "    df['weekofyear'] = df['first_active_month'].dt.weekofyear\n",
    "    df['month'] = df['first_active_month'].dt.month\n",
    "    \n",
    "    df['elapsed_time'] = (datetime.datetime.today() - df['first_active_month']).dt.days\n",
    "    \n",
    "    df['hist_first_buy'] = (df['hist_purchase_date_min'] - df['first_active_month']).dt.days\n",
    "    df['new_hist_first_buy'] = (df['new_hist_purchase_date_min'] - df['first_active_month']).dt.days\n",
    "    for f in ['hist_purchase_date_max','hist_purchase_date_min','new_hist_purchase_date_max',\\\n",
    "                     'new_hist_purchase_date_min']:\n",
    "        df[f] = df[f].astype(np.int64) * 1e-9\n",
    "    df['card_id_total'] = df['new_hist_card_id_size']+df['hist_card_id_size']\n",
    "    df['purchase_amount_total'] = df['new_hist_purchase_amount_sum']+df['hist_purchase_amount_sum']\n",
    "\n",
    "for f in ['feature_1','feature_2','feature_3']:\n",
    "    order_label = df_train.groupby([f])['outliers'].mean()\n",
    "    df_train[f] = df_train[f].map(order_label)\n",
    "    df_test[f] = df_test[f].map(order_label)\n"
   ]
  },
  {
   "cell_type": "code",
   "execution_count": 433,
   "metadata": {},
   "outputs": [
    {
     "data": {
      "text/html": [
       "<div>\n",
       "<style scoped>\n",
       "    .dataframe tbody tr th:only-of-type {\n",
       "        vertical-align: middle;\n",
       "    }\n",
       "\n",
       "    .dataframe tbody tr th {\n",
       "        vertical-align: top;\n",
       "    }\n",
       "\n",
       "    .dataframe thead th {\n",
       "        text-align: right;\n",
       "    }\n",
       "</style>\n",
       "<table border=\"1\" class=\"dataframe\">\n",
       "  <thead>\n",
       "    <tr style=\"text-align: right;\">\n",
       "      <th></th>\n",
       "      <th>first_active_month</th>\n",
       "      <th>card_id</th>\n",
       "      <th>feature_1</th>\n",
       "      <th>feature_2</th>\n",
       "      <th>feature_3</th>\n",
       "      <th>target</th>\n",
       "      <th>hist_month_nunique</th>\n",
       "      <th>hist_hour_nunique</th>\n",
       "      <th>hist_weekofyear_nunique</th>\n",
       "      <th>hist_dayofweek_nunique</th>\n",
       "      <th>...</th>\n",
       "      <th>new_hist_purchase_date_uptonow</th>\n",
       "      <th>outliers</th>\n",
       "      <th>dayofweek</th>\n",
       "      <th>weekofyear</th>\n",
       "      <th>month</th>\n",
       "      <th>elapsed_time</th>\n",
       "      <th>hist_first_buy</th>\n",
       "      <th>new_hist_first_buy</th>\n",
       "      <th>card_id_total</th>\n",
       "      <th>purchase_amount_total</th>\n",
       "    </tr>\n",
       "  </thead>\n",
       "  <tbody>\n",
       "    <tr>\n",
       "      <th>0</th>\n",
       "      <td>2017-06-01</td>\n",
       "      <td>C_ID_92a2005557</td>\n",
       "      <td>0.013145</td>\n",
       "      <td>0.008752</td>\n",
       "      <td>0.011428</td>\n",
       "      <td>-0.820312</td>\n",
       "      <td>9</td>\n",
       "      <td>23</td>\n",
       "      <td>35</td>\n",
       "      <td>7</td>\n",
       "      <td>...</td>\n",
       "      <td>231.0</td>\n",
       "      <td>0</td>\n",
       "      <td>3</td>\n",
       "      <td>22</td>\n",
       "      <td>6</td>\n",
       "      <td>563</td>\n",
       "      <td>26</td>\n",
       "      <td>277.0</td>\n",
       "      <td>283.0</td>\n",
       "      <td>-179.210922</td>\n",
       "    </tr>\n",
       "    <tr>\n",
       "      <th>1</th>\n",
       "      <td>2017-01-01</td>\n",
       "      <td>C_ID_3d0044924f</td>\n",
       "      <td>0.010712</td>\n",
       "      <td>0.011385</td>\n",
       "      <td>0.010283</td>\n",
       "      <td>0.392822</td>\n",
       "      <td>12</td>\n",
       "      <td>24</td>\n",
       "      <td>50</td>\n",
       "      <td>7</td>\n",
       "      <td>...</td>\n",
       "      <td>261.0</td>\n",
       "      <td>0</td>\n",
       "      <td>6</td>\n",
       "      <td>52</td>\n",
       "      <td>1</td>\n",
       "      <td>714</td>\n",
       "      <td>5</td>\n",
       "      <td>396.0</td>\n",
       "      <td>356.0</td>\n",
       "      <td>-214.361801</td>\n",
       "    </tr>\n",
       "    <tr>\n",
       "      <th>2</th>\n",
       "      <td>2016-08-01</td>\n",
       "      <td>C_ID_d639edf6cd</td>\n",
       "      <td>0.010610</td>\n",
       "      <td>0.008752</td>\n",
       "      <td>0.010283</td>\n",
       "      <td>0.687988</td>\n",
       "      <td>10</td>\n",
       "      <td>14</td>\n",
       "      <td>22</td>\n",
       "      <td>7</td>\n",
       "      <td>...</td>\n",
       "      <td>231.0</td>\n",
       "      <td>0</td>\n",
       "      <td>0</td>\n",
       "      <td>31</td>\n",
       "      <td>8</td>\n",
       "      <td>867</td>\n",
       "      <td>163</td>\n",
       "      <td>635.0</td>\n",
       "      <td>44.0</td>\n",
       "      <td>-29.867586</td>\n",
       "    </tr>\n",
       "    <tr>\n",
       "      <th>3</th>\n",
       "      <td>2017-09-01</td>\n",
       "      <td>C_ID_186d6a6901</td>\n",
       "      <td>0.010712</td>\n",
       "      <td>0.014166</td>\n",
       "      <td>0.010283</td>\n",
       "      <td>0.142456</td>\n",
       "      <td>6</td>\n",
       "      <td>16</td>\n",
       "      <td>20</td>\n",
       "      <td>7</td>\n",
       "      <td>...</td>\n",
       "      <td>242.0</td>\n",
       "      <td>0</td>\n",
       "      <td>4</td>\n",
       "      <td>35</td>\n",
       "      <td>9</td>\n",
       "      <td>471</td>\n",
       "      <td>25</td>\n",
       "      <td>187.0</td>\n",
       "      <td>84.0</td>\n",
       "      <td>-54.147614</td>\n",
       "    </tr>\n",
       "    <tr>\n",
       "      <th>4</th>\n",
       "      <td>2017-11-01</td>\n",
       "      <td>C_ID_cdbd2c0db2</td>\n",
       "      <td>0.008058</td>\n",
       "      <td>0.014166</td>\n",
       "      <td>0.010283</td>\n",
       "      <td>-0.159790</td>\n",
       "      <td>4</td>\n",
       "      <td>22</td>\n",
       "      <td>17</td>\n",
       "      <td>7</td>\n",
       "      <td>...</td>\n",
       "      <td>231.0</td>\n",
       "      <td>0</td>\n",
       "      <td>2</td>\n",
       "      <td>44</td>\n",
       "      <td>11</td>\n",
       "      <td>410</td>\n",
       "      <td>11</td>\n",
       "      <td>121.0</td>\n",
       "      <td>169.0</td>\n",
       "      <td>-68.609528</td>\n",
       "    </tr>\n",
       "  </tbody>\n",
       "</table>\n",
       "<p>5 rows × 87 columns</p>\n",
       "</div>"
      ],
      "text/plain": [
       "  first_active_month          card_id  feature_1  feature_2  feature_3  \\\n",
       "0         2017-06-01  C_ID_92a2005557   0.013145   0.008752   0.011428   \n",
       "1         2017-01-01  C_ID_3d0044924f   0.010712   0.011385   0.010283   \n",
       "2         2016-08-01  C_ID_d639edf6cd   0.010610   0.008752   0.010283   \n",
       "3         2017-09-01  C_ID_186d6a6901   0.010712   0.014166   0.010283   \n",
       "4         2017-11-01  C_ID_cdbd2c0db2   0.008058   0.014166   0.010283   \n",
       "\n",
       "     target  hist_month_nunique  hist_hour_nunique  hist_weekofyear_nunique  \\\n",
       "0 -0.820312                   9                 23                       35   \n",
       "1  0.392822                  12                 24                       50   \n",
       "2  0.687988                  10                 14                       22   \n",
       "3  0.142456                   6                 16                       20   \n",
       "4 -0.159790                   4                 22                       17   \n",
       "\n",
       "   hist_dayofweek_nunique          ...            \\\n",
       "0                       7          ...             \n",
       "1                       7          ...             \n",
       "2                       7          ...             \n",
       "3                       7          ...             \n",
       "4                       7          ...             \n",
       "\n",
       "   new_hist_purchase_date_uptonow  outliers  dayofweek  weekofyear  month  \\\n",
       "0                           231.0         0          3          22      6   \n",
       "1                           261.0         0          6          52      1   \n",
       "2                           231.0         0          0          31      8   \n",
       "3                           242.0         0          4          35      9   \n",
       "4                           231.0         0          2          44     11   \n",
       "\n",
       "   elapsed_time  hist_first_buy  new_hist_first_buy  card_id_total  \\\n",
       "0           563              26               277.0          283.0   \n",
       "1           714               5               396.0          356.0   \n",
       "2           867             163               635.0           44.0   \n",
       "3           471              25               187.0           84.0   \n",
       "4           410              11               121.0          169.0   \n",
       "\n",
       "   purchase_amount_total  \n",
       "0            -179.210922  \n",
       "1            -214.361801  \n",
       "2             -29.867586  \n",
       "3             -54.147614  \n",
       "4             -68.609528  \n",
       "\n",
       "[5 rows x 87 columns]"
      ]
     },
     "execution_count": 433,
     "metadata": {},
     "output_type": "execute_result"
    }
   ],
   "source": [
    "df_train.head()"
   ]
  },
  {
   "cell_type": "code",
   "execution_count": 434,
   "metadata": {},
   "outputs": [],
   "source": [
    "day_diff_mask=pd.DataFrame()\n",
    "day_diff_mask['date_range']=pd.date_range('2011-01','2018-02') # you can check\n",
    "day_diff_mask['date_range']=day_diff_mask['date_range'].dt.date\n",
    "ref_name='day_diff'\n",
    "for i in range(1,9):\n",
    "    name=ref_name+str(i)\n",
    "    day_diff_mask[name]=day_diff_mask['date_range'].apply(lambda x: cal.get_working_days_delta(x,cal.holidays(x.year)[i-1][0]))\n",
    "    \n",
    "day_diff_mask.set_index('date_range',inplace=True)\n",
    "for df in [df_train,df_test]:\n",
    "    df['date']=df['first_active_month'].dt.date # first actie month here\n",
    "    for col in day_diff_mask.columns:\n",
    "        df[col]=df.date.map(day_diff_mask[col])\n",
    "    df.drop(columns='date',inplace=True)"
   ]
  },
  {
   "cell_type": "markdown",
   "metadata": {},
   "source": [
    "### We will change only elapsed time"
   ]
  },
  {
   "cell_type": "code",
   "execution_count": 313,
   "metadata": {},
   "outputs": [],
   "source": [
    "# df_train['elapsed_time'] = (train_month_lag_0 - df_train['first_active_month']).dt.days\n",
    "# df_test['elapsed_time'] = (test_month_lag_0 - df_test['first_active_month']).dt.days  "
   ]
  },
  {
   "cell_type": "code",
   "execution_count": 435,
   "metadata": {
    "_uuid": "c4f20f27679889542acfd60d1f1ac381b201ac43"
   },
   "outputs": [],
   "source": [
    "df_train_columns = [c for c in df_train.columns if c not in ['card_id', 'first_active_month','target','outliers']]\n",
    "target = df_train['target']\n",
    "del df_train['target']"
   ]
  },
  {
   "cell_type": "code",
   "execution_count": 436,
   "metadata": {},
   "outputs": [
    {
     "ename": "NameError",
     "evalue": "name 'df_hist_trans' is not defined",
     "output_type": "error",
     "traceback": [
      "\u001b[1;31m---------------------------------------------------------------------------\u001b[0m",
      "\u001b[1;31mNameError\u001b[0m                                 Traceback (most recent call last)",
      "\u001b[1;32m<ipython-input-436-7269738e8058>\u001b[0m in \u001b[0;36m<module>\u001b[1;34m()\u001b[0m\n\u001b[1;32m----> 1\u001b[1;33m \u001b[1;32mdel\u001b[0m \u001b[0mdf_hist_trans\u001b[0m\u001b[1;33m;\u001b[0m\u001b[0mgc\u001b[0m\u001b[1;33m.\u001b[0m\u001b[0mcollect\u001b[0m\u001b[1;33m(\u001b[0m\u001b[1;33m)\u001b[0m\u001b[1;33m\u001b[0m\u001b[0m\n\u001b[0m\u001b[0;32m      2\u001b[0m \u001b[1;32mdel\u001b[0m \u001b[0mdf_new_merchant_trans\u001b[0m\u001b[1;33m;\u001b[0m\u001b[0mgc\u001b[0m\u001b[1;33m.\u001b[0m\u001b[0mcollect\u001b[0m\u001b[1;33m(\u001b[0m\u001b[1;33m)\u001b[0m\u001b[1;33m\u001b[0m\u001b[0m\n",
      "\u001b[1;31mNameError\u001b[0m: name 'df_hist_trans' is not defined"
     ]
    }
   ],
   "source": [
    "del df_hist_trans;gc.collect()\n",
    "del df_new_merchant_trans;gc.collect()"
   ]
  },
  {
   "cell_type": "code",
   "execution_count": 437,
   "metadata": {
    "_uuid": "c9bbc95244978b519d94131907b547c2b6c94191",
    "scrolled": false
   },
   "outputs": [
    {
     "name": "stdout",
     "output_type": "stream",
     "text": [
      "fold 0\n",
      "Training until validation scores don't improve for 100 rounds.\n",
      "[100]\ttraining's rmse: 3.6631\tvalid_1's rmse: 3.73361\n",
      "[200]\ttraining's rmse: 3.58616\tvalid_1's rmse: 3.70315\n",
      "[300]\ttraining's rmse: 3.53873\tvalid_1's rmse: 3.69036\n",
      "[400]\ttraining's rmse: 3.50277\tvalid_1's rmse: 3.6834\n",
      "[500]\ttraining's rmse: 3.47194\tvalid_1's rmse: 3.67864\n",
      "[600]\ttraining's rmse: 3.44628\tvalid_1's rmse: 3.67494\n",
      "[700]\ttraining's rmse: 3.42397\tvalid_1's rmse: 3.67312\n",
      "[800]\ttraining's rmse: 3.4038\tvalid_1's rmse: 3.67139\n",
      "[900]\ttraining's rmse: 3.38455\tvalid_1's rmse: 3.67039\n",
      "[1000]\ttraining's rmse: 3.36801\tvalid_1's rmse: 3.67024\n",
      "[1100]\ttraining's rmse: 3.35052\tvalid_1's rmse: 3.66973\n",
      "[1200]\ttraining's rmse: 3.33484\tvalid_1's rmse: 3.66994\n",
      "Early stopping, best iteration is:\n",
      "[1122]\ttraining's rmse: 3.34691\tvalid_1's rmse: 3.66965\n",
      "fold 1\n",
      "Training until validation scores don't improve for 100 rounds.\n",
      "[100]\ttraining's rmse: 3.67216\tvalid_1's rmse: 3.7018\n",
      "[200]\ttraining's rmse: 3.59622\tvalid_1's rmse: 3.66667\n",
      "[300]\ttraining's rmse: 3.54946\tvalid_1's rmse: 3.65256\n",
      "[400]\ttraining's rmse: 3.51276\tvalid_1's rmse: 3.64444\n",
      "[500]\ttraining's rmse: 3.48356\tvalid_1's rmse: 3.63944\n",
      "[600]\ttraining's rmse: 3.45828\tvalid_1's rmse: 3.63618\n",
      "[700]\ttraining's rmse: 3.43692\tvalid_1's rmse: 3.63429\n",
      "[800]\ttraining's rmse: 3.41522\tvalid_1's rmse: 3.63303\n",
      "[900]\ttraining's rmse: 3.39633\tvalid_1's rmse: 3.63173\n",
      "[1000]\ttraining's rmse: 3.37927\tvalid_1's rmse: 3.63084\n",
      "[1100]\ttraining's rmse: 3.36274\tvalid_1's rmse: 3.63036\n",
      "[1200]\ttraining's rmse: 3.34733\tvalid_1's rmse: 3.63026\n",
      "[1300]\ttraining's rmse: 3.33266\tvalid_1's rmse: 3.63022\n",
      "[1400]\ttraining's rmse: 3.31833\tvalid_1's rmse: 3.62977\n",
      "[1500]\ttraining's rmse: 3.30483\tvalid_1's rmse: 3.62982\n",
      "[1600]\ttraining's rmse: 3.29073\tvalid_1's rmse: 3.62963\n",
      "[1700]\ttraining's rmse: 3.27703\tvalid_1's rmse: 3.62884\n",
      "[1800]\ttraining's rmse: 3.262\tvalid_1's rmse: 3.62892\n",
      "Early stopping, best iteration is:\n",
      "[1746]\ttraining's rmse: 3.27028\tvalid_1's rmse: 3.62866\n",
      "fold 2\n",
      "Training until validation scores don't improve for 100 rounds.\n",
      "[100]\ttraining's rmse: 3.66338\tvalid_1's rmse: 3.72147\n",
      "[200]\ttraining's rmse: 3.58606\tvalid_1's rmse: 3.69153\n",
      "[300]\ttraining's rmse: 3.53681\tvalid_1's rmse: 3.68102\n",
      "[400]\ttraining's rmse: 3.50176\tvalid_1's rmse: 3.67544\n",
      "[500]\ttraining's rmse: 3.47222\tvalid_1's rmse: 3.67072\n",
      "[600]\ttraining's rmse: 3.44758\tvalid_1's rmse: 3.66751\n",
      "[700]\ttraining's rmse: 3.42489\tvalid_1's rmse: 3.66614\n",
      "[800]\ttraining's rmse: 3.40294\tvalid_1's rmse: 3.66523\n",
      "[900]\ttraining's rmse: 3.3833\tvalid_1's rmse: 3.66476\n",
      "[1000]\ttraining's rmse: 3.36457\tvalid_1's rmse: 3.66462\n",
      "[1100]\ttraining's rmse: 3.34704\tvalid_1's rmse: 3.66379\n",
      "[1200]\ttraining's rmse: 3.33093\tvalid_1's rmse: 3.66385\n",
      "Early stopping, best iteration is:\n",
      "[1105]\ttraining's rmse: 3.34604\tvalid_1's rmse: 3.66374\n",
      "fold 3\n",
      "Training until validation scores don't improve for 100 rounds.\n",
      "[100]\ttraining's rmse: 3.66722\tvalid_1's rmse: 3.7157\n",
      "[200]\ttraining's rmse: 3.58915\tvalid_1's rmse: 3.68573\n",
      "[300]\ttraining's rmse: 3.54156\tvalid_1's rmse: 3.67376\n",
      "[400]\ttraining's rmse: 3.50566\tvalid_1's rmse: 3.667\n",
      "[500]\ttraining's rmse: 3.47569\tvalid_1's rmse: 3.66295\n",
      "[600]\ttraining's rmse: 3.44929\tvalid_1's rmse: 3.6606\n",
      "[700]\ttraining's rmse: 3.42595\tvalid_1's rmse: 3.65838\n",
      "[800]\ttraining's rmse: 3.40549\tvalid_1's rmse: 3.65742\n",
      "[900]\ttraining's rmse: 3.38689\tvalid_1's rmse: 3.65691\n",
      "[1000]\ttraining's rmse: 3.37007\tvalid_1's rmse: 3.6563\n",
      "[1100]\ttraining's rmse: 3.35316\tvalid_1's rmse: 3.65612\n",
      "Early stopping, best iteration is:\n",
      "[1086]\ttraining's rmse: 3.35578\tvalid_1's rmse: 3.65587\n",
      "fold 4\n",
      "Training until validation scores don't improve for 100 rounds.\n",
      "[100]\ttraining's rmse: 3.66656\tvalid_1's rmse: 3.71144\n",
      "[200]\ttraining's rmse: 3.58852\tvalid_1's rmse: 3.68624\n",
      "[300]\ttraining's rmse: 3.5406\tvalid_1's rmse: 3.67436\n",
      "[400]\ttraining's rmse: 3.50389\tvalid_1's rmse: 3.66814\n",
      "[500]\ttraining's rmse: 3.47382\tvalid_1's rmse: 3.66463\n",
      "[600]\ttraining's rmse: 3.44737\tvalid_1's rmse: 3.66263\n",
      "[700]\ttraining's rmse: 3.42465\tvalid_1's rmse: 3.66127\n",
      "[800]\ttraining's rmse: 3.40432\tvalid_1's rmse: 3.6607\n",
      "[900]\ttraining's rmse: 3.38597\tvalid_1's rmse: 3.66028\n",
      "[1000]\ttraining's rmse: 3.36799\tvalid_1's rmse: 3.65998\n",
      "[1100]\ttraining's rmse: 3.35152\tvalid_1's rmse: 3.65976\n",
      "[1200]\ttraining's rmse: 3.3364\tvalid_1's rmse: 3.65977\n",
      "Early stopping, best iteration is:\n",
      "[1137]\ttraining's rmse: 3.34603\tvalid_1's rmse: 3.65956\n"
     ]
    },
    {
     "data": {
      "text/plain": [
       "3.6555228832805886"
      ]
     },
     "execution_count": 437,
     "metadata": {},
     "output_type": "execute_result"
    }
   ],
   "source": [
    "param = {'num_leaves': 31,\n",
    "         'min_data_in_leaf': 30, \n",
    "         'objective':'regression',\n",
    "         'max_depth': -1,\n",
    "         'learning_rate': 0.01,\n",
    "         \"min_child_samples\": 20,\n",
    "         \"boosting\": \"gbdt\",\n",
    "         \"feature_fraction\": 0.9,\n",
    "         \"bagging_freq\": 1,\n",
    "         \"bagging_fraction\": 0.9 ,\n",
    "         \"bagging_seed\": 11,\n",
    "         \"metric\": 'rmse',\n",
    "         \"lambda_l1\": 0.1,\n",
    "         \"verbosity\": -1,\n",
    "         \"nthread\": 4,\n",
    "         \"random_state\": 4590}\n",
    "folds = StratifiedKFold(n_splits=5, shuffle=True, random_state=4590)\n",
    "oof = np.zeros(len(df_train))\n",
    "predictions = np.zeros(len(df_test))\n",
    "feature_importance_df = pd.DataFrame()\n",
    "\n",
    "for fold_, (trn_idx, val_idx) in enumerate(folds.split(df_train,df_train['outliers'].values)):\n",
    "    print(\"fold {}\".format(fold_))\n",
    "    trn_data = lgb.Dataset(df_train.iloc[trn_idx][df_train_columns], label=target.iloc[trn_idx])#, categorical_feature=categorical_feats)\n",
    "    val_data = lgb.Dataset(df_train.iloc[val_idx][df_train_columns], label=target.iloc[val_idx])#, categorical_feature=categorical_feats)\n",
    "\n",
    "    num_round = 10000\n",
    "    clf = lgb.train(param, trn_data, num_round, valid_sets = [trn_data, val_data], verbose_eval=100, early_stopping_rounds = 100)\n",
    "    oof[val_idx] = clf.predict(df_train.iloc[val_idx][df_train_columns], num_iteration=clf.best_iteration)\n",
    "    \n",
    "    fold_importance_df = pd.DataFrame()\n",
    "    fold_importance_df[\"Feature\"] = df_train_columns\n",
    "    fold_importance_df[\"importance\"] = clf.feature_importance()\n",
    "    fold_importance_df[\"fold\"] = fold_ + 1\n",
    "    feature_importance_df = pd.concat([feature_importance_df, fold_importance_df], axis=0)\n",
    "    \n",
    "    predictions += clf.predict(df_test[df_train_columns], num_iteration=clf.best_iteration) / folds.n_splits\n",
    "\n",
    "np.sqrt(mean_squared_error(oof, target))"
   ]
  },
  {
   "cell_type": "code",
   "execution_count": 392,
   "metadata": {},
   "outputs": [
    {
     "data": {
      "text/plain": [
       "{'bagging_fraction': 0.9,\n",
       " 'bagging_freq': 1,\n",
       " 'bagging_seed': 11,\n",
       " 'boosting': 'gbdt',\n",
       " 'feature_fraction': 0.9,\n",
       " 'lambda_l1': 0.1,\n",
       " 'learning_rate': 0.01,\n",
       " 'max_depth': -1,\n",
       " 'metric': 'rmse',\n",
       " 'min_child_samples': 20,\n",
       " 'min_data_in_leaf': 30,\n",
       " 'nthread': 4,\n",
       " 'num_leaves': 31,\n",
       " 'objective': 'regression',\n",
       " 'random_state': 4590,\n",
       " 'verbosity': -1}"
      ]
     },
     "execution_count": 392,
     "metadata": {},
     "output_type": "execute_result"
    }
   ],
   "source": [
    "clf.params"
   ]
  },
  {
   "cell_type": "code",
   "execution_count": 365,
   "metadata": {},
   "outputs": [
    {
     "name": "stdout",
     "output_type": "stream",
     "text": [
      "0\n",
      "[     0      1      3 ..., 201914 201915 201916]\n",
      "[     2      4     12 ..., 201898 201910 201913]\n",
      "1\n",
      "[     0      1      2 ..., 201914 201915 201916]\n",
      "[     5      8      9 ..., 201903 201904 201905]\n",
      "2\n",
      "[     0      1      2 ..., 201914 201915 201916]\n",
      "[    13     24     25 ..., 201882 201885 201908]\n",
      "3\n",
      "[     2      4      5 ..., 201913 201914 201915]\n",
      "[     0      1      3 ..., 201911 201912 201916]\n",
      "4\n",
      "[     0      1      2 ..., 201912 201913 201916]\n",
      "[     7     14     26 ..., 201907 201914 201915]\n"
     ]
    }
   ],
   "source": [
    "for fold_, (trn_idx, val_idx) in enumerate(folds.split(df_train,df_train['outliers'].values)):\n",
    "    print(fold_)\n",
    "    print(trn_idx)\n",
    "    print(val_idx)"
   ]
  },
  {
   "cell_type": "code",
   "execution_count": 379,
   "metadata": {},
   "outputs": [
    {
     "name": "stdout",
     "output_type": "stream",
     "text": [
      "0\n",
      "[     0      1      3 ..., 201914 201915 201916]\n",
      "[     2      4     12 ..., 201898 201910 201913]\n",
      "1\n",
      "[     0      1      2 ..., 201914 201915 201916]\n",
      "[     5      8      9 ..., 201903 201904 201905]\n",
      "2\n",
      "[     0      1      2 ..., 201914 201915 201916]\n",
      "[    13     24     25 ..., 201882 201885 201908]\n",
      "3\n",
      "[     2      4      5 ..., 201913 201914 201915]\n",
      "[     0      1      3 ..., 201911 201912 201916]\n",
      "4\n",
      "[     0      1      2 ..., 201912 201913 201916]\n",
      "[     7     14     26 ..., 201907 201914 201915]\n"
     ]
    }
   ],
   "source": [
    "for num, (train_index,test_index) in enumerate(folds.split(df_train,df_train['outliers'].values)):\n",
    "    print(num)\n",
    "    print(train_index)\n",
    "    print(test_index)"
   ]
  },
  {
   "cell_type": "code",
   "execution_count": 385,
   "metadata": {},
   "outputs": [
    {
     "data": {
      "text/plain": [
       "<generator object _BaseKFold.split at 0x0000023E695CFB48>"
      ]
     },
     "execution_count": 385,
     "metadata": {},
     "output_type": "execute_result"
    }
   ],
   "source": [
    "folds.split(df_train,df_train['outliers'].values)"
   ]
  },
  {
   "cell_type": "markdown",
   "metadata": {},
   "source": [
    "\n",
    "\n",
    "## with diff dates both on historical, new_merchant as well as train test with agg(['sum',mean'])\n",
    "\n",
    "CV is 3.6600256977854881\n",
    "\n",
    "### With only train and test day_diff\n",
    "\n",
    "CV is 3.6548093801759296\n",
    "\n",
    "### Without any holidays\n",
    "\n",
    "CV is 3.6549163764964536\n",
    "\n",
    "\n",
    "### Chau's results without any modifications\n",
    "\n",
    "CV is 3.6546139352564322\n",
    "\n",
    "\n",
    "### Chau's results with train test holidays\n",
    "\n",
    "CV is 3.6563929499943408\n",
    "\n",
    "### Chau's results with train test holidays. Removing nan values in df_test set\n",
    "\n",
    "\n",
    "CV is 3.6555228832805886\n",
    "\n",
    "\n",
    "### Original holiday code\n",
    "\n",
    "CV is 3.6562194146442479\n",
    "\n",
    "\n",
    "### Original holiday code from kernel\n",
    "\n",
    "CV is 3.65316420144404\n"
   ]
  },
  {
   "cell_type": "code",
   "execution_count": 409,
   "metadata": {},
   "outputs": [
    {
     "data": {
      "text/html": [
       "<div>\n",
       "<style scoped>\n",
       "    .dataframe tbody tr th:only-of-type {\n",
       "        vertical-align: middle;\n",
       "    }\n",
       "\n",
       "    .dataframe tbody tr th {\n",
       "        vertical-align: top;\n",
       "    }\n",
       "\n",
       "    .dataframe thead th {\n",
       "        text-align: right;\n",
       "    }\n",
       "</style>\n",
       "<table border=\"1\" class=\"dataframe\">\n",
       "  <thead>\n",
       "    <tr style=\"text-align: right;\">\n",
       "      <th></th>\n",
       "      <th>rmse_test</th>\n",
       "      <th>model</th>\n",
       "      <th>forked_from</th>\n",
       "      <th>features_changed</th>\n",
       "    </tr>\n",
       "  </thead>\n",
       "  <tbody>\n",
       "    <tr>\n",
       "      <th>0</th>\n",
       "      <td>3.660026</td>\n",
       "      <td>LightGBM</td>\n",
       "      <td>Chau</td>\n",
       "      <td>diff dates both on historical, new_merchant as...</td>\n",
       "    </tr>\n",
       "    <tr>\n",
       "      <th>1</th>\n",
       "      <td>3.654809</td>\n",
       "      <td>LightGBM</td>\n",
       "      <td>Chau</td>\n",
       "      <td>day_diff from holidays to first active month i...</td>\n",
       "    </tr>\n",
       "    <tr>\n",
       "      <th>2</th>\n",
       "      <td>3.654916</td>\n",
       "      <td>LightGBM</td>\n",
       "      <td>Chau</td>\n",
       "      <td>mine feature engineering</td>\n",
       "    </tr>\n",
       "    <tr>\n",
       "      <th>3</th>\n",
       "      <td>3.654614</td>\n",
       "      <td>LightGBM</td>\n",
       "      <td>Chau</td>\n",
       "      <td>Chau original</td>\n",
       "    </tr>\n",
       "  </tbody>\n",
       "</table>\n",
       "</div>"
      ],
      "text/plain": [
       "   rmse_test     model forked_from  \\\n",
       "0   3.660026  LightGBM        Chau   \n",
       "1   3.654809  LightGBM        Chau   \n",
       "2   3.654916  LightGBM        Chau   \n",
       "3   3.654614  LightGBM        Chau   \n",
       "\n",
       "                                    features_changed  \n",
       "0  diff dates both on historical, new_merchant as...  \n",
       "1  day_diff from holidays to first active month i...  \n",
       "2                           mine feature engineering  \n",
       "3                                      Chau original  "
      ]
     },
     "execution_count": 409,
     "metadata": {},
     "output_type": "execute_result"
    }
   ],
   "source": [
    "df=pd.read_csv('rmse_test.csv')\n",
    "df\n"
   ]
  },
  {
   "cell_type": "code",
   "execution_count": null,
   "metadata": {},
   "outputs": [],
   "source": []
  },
  {
   "cell_type": "code",
   "execution_count": 319,
   "metadata": {
    "_uuid": "40b64481054fa71e692829c7039eccceb31b77fe"
   },
   "outputs": [
    {
     "data": {
      "image/png": "[encoded data removed]",
      "text/plain": [
       "<matplotlib.figure.Figure at 0x23bdb843978>"
      ]
     },
     "metadata": {},
     "output_type": "display_data"
    }
   ],
   "source": [
    "cols = (feature_importance_df[[\"Feature\", \"importance\"]]\n",
    "        .groupby(\"Feature\")\n",
    "        .mean()\n",
    "        .sort_values(by=\"importance\", ascending=False)[:1000].index)\n",
    "\n",
    "best_features = feature_importance_df.loc[feature_importance_df.Feature.isin(cols)]\n",
    "\n",
    "plt.figure(figsize=(14,25))\n",
    "sns.barplot(x=\"importance\",\n",
    "            y=\"Feature\",\n",
    "            data=best_features.sort_values(by=\"importance\",\n",
    "                                           ascending=False))\n",
    "plt.title('LightGBM Features (avg over folds)')\n",
    "plt.tight_layout()\n",
    "#plt.savefig('lgbm_importances_feature_eng_2_date.png')"
   ]
  },
  {
   "cell_type": "code",
   "execution_count": 79,
   "metadata": {
    "_uuid": "355e9c24949b8e5d677fe5a2f117228c3310dab6"
   },
   "outputs": [],
   "source": [
    "sub_df = pd.DataFrame({\"card_id\":df_test[\"card_id\"].values})\n",
    "sub_df[\"target\"] = predictions\n",
    "sub_df.to_csv(\"chau_feature_engineering_3_date.csv\", index=False)"
   ]
  },
  {
   "cell_type": "markdown",
   "metadata": {
    "_uuid": "58c9a5445698e42dfbd9548695290487a2ce171a"
   },
   "source": [
    "**To be continued ...**"
   ]
  },
  {
   "cell_type": "code",
   "execution_count": 243,
   "metadata": {},
   "outputs": [],
   "source": [
    "best_features.groupby('Feature').mean().sort_values('importance',ascending=False).to_csv('feature_importance2.csv')"
   ]
  },
  {
   "cell_type": "code",
   "execution_count": 83,
   "metadata": {},
   "outputs": [],
   "source": [
    "df_train.to_csv('C:/Users/user/Documents/Salamat/ELO/train_new_lag.csv',index=False)"
   ]
  },
  {
   "cell_type": "code",
   "execution_count": 84,
   "metadata": {},
   "outputs": [],
   "source": [
    "df_test.to_csv('C:/Users/user/Documents/Salamat/ELO/test_new_lag.csv',index=False)"
   ]
  },
  {
   "cell_type": "code",
   "execution_count": 88,
   "metadata": {},
   "outputs": [],
   "source": [
    "best_features.groupby('Feature').mean().sort_values('importance',ascending=False).to_csv('best_features_dates.csv')"
   ]
  },
  {
   "cell_type": "code",
   "execution_count": null,
   "metadata": {},
   "outputs": [],
   "source": []
  }
 ],
 "metadata": {
  "kernelspec": {
   "display_name": "Python 3",
   "language": "python",
   "name": "python3"
  },
  "language_info": {
   "codemirror_mode": {
    "name": "ipython",
    "version": 3
   },
   "file_extension": ".py",
   "mimetype": "text/x-python",
   "name": "python",
   "nbconvert_exporter": "python",
   "pygments_lexer": "ipython3",
   "version": "3.6.4"
  }
 },
 "nbformat": 4,
 "nbformat_minor": 1
}
