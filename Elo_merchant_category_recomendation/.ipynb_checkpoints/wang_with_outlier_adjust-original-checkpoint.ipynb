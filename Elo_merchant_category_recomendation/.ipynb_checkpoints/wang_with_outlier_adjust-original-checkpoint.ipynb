{
 "cells": [
  {
   "cell_type": "markdown",
   "metadata": {
    "_uuid": "6df55b542f152882e00385a0f73198f4e3bc4316"
   },
   "source": [
    "**FEEL FREE TO UPVOTE**  （＾ｖ＾）"
   ]
  },
  {
   "cell_type": "code",
   "execution_count": 1,
   "metadata": {
    "_uuid": "b00db406434116eaef1206208331f97fe0542872"
   },
   "outputs": [],
   "source": [
    "#v20提交成绩得到了3.688， cv 成绩3.6519\n",
    "#使用authorized_flag 进行特征分别处理,收到了奇效\n",
    "#使用countVectorizer 对类别变量进行编码，内存存在压力"
   ]
  },
  {
   "cell_type": "code",
   "execution_count": 1,
   "metadata": {
    "_cell_guid": "b1076dfc-b9ad-4769-8c92-a6c4dae69d19",
    "_uuid": "8f2839f25d086af736a60e9eeb907d3b93b6e0e5"
   },
   "outputs": [],
   "source": [
    "import numpy as np\n",
    "import pandas as pd\n",
    "import datetime\n",
    "import gc\n",
    "import matplotlib.pyplot as plt\n",
    "import seaborn as sns\n",
    "import lightgbm as lgb\n",
    "from sklearn.model_selection import StratifiedKFold\n",
    "from sklearn.metrics import mean_squared_error\n",
    "import warnings\n",
    "import time\n",
    "warnings.filterwarnings('ignore')\n",
    "np.random.seed(4950)"
   ]
  },
  {
   "cell_type": "code",
   "execution_count": 2,
   "metadata": {},
   "outputs": [],
   "source": [
    "import pickle"
   ]
  },
  {
   "cell_type": "code",
   "execution_count": 3,
   "metadata": {
    "_uuid": "337eacd2e6e13207d06cb90f9f8cd352d300b323"
   },
   "outputs": [],
   "source": [
    "def reduce_mem_usage(df, verbose=True):\n",
    "    numerics = ['int16', 'int32', 'int64', 'float16', 'float32', 'float64']\n",
    "    start_mem = df.memory_usage().sum() / 1024**2    \n",
    "    for col in df.columns:\n",
    "        col_type = df[col].dtypes\n",
    "        if col_type in numerics:\n",
    "            c_min = df[col].min()\n",
    "            c_max = df[col].max()\n",
    "            if str(col_type)[:3] == 'int':\n",
    "                if c_min > np.iinfo(np.int8).min and c_max < np.iinfo(np.int8).max:\n",
    "                    df[col] = df[col].astype(np.int8)\n",
    "                elif c_min > np.iinfo(np.int16).min and c_max < np.iinfo(np.int16).max:\n",
    "                    df[col] = df[col].astype(np.int16)\n",
    "                elif c_min > np.iinfo(np.int32).min and c_max < np.iinfo(np.int32).max:\n",
    "                    df[col] = df[col].astype(np.int32)\n",
    "                elif c_min > np.iinfo(np.int64).min and c_max < np.iinfo(np.int64).max:\n",
    "                    df[col] = df[col].astype(np.int64)  \n",
    "            else:\n",
    "                if c_min > np.finfo(np.float16).min and c_max < np.finfo(np.float16).max:\n",
    "                    df[col] = df[col].astype(np.float16)\n",
    "                elif c_min > np.finfo(np.float32).min and c_max < np.finfo(np.float32).max:\n",
    "                    df[col] = df[col].astype(np.float32)\n",
    "                else:\n",
    "                    df[col] = df[col].astype(np.float64)    \n",
    "    end_mem = df.memory_usage().sum() / 1024**2\n",
    "    if verbose: print('Mem. usage decreased to {:5.2f} Mb ({:.1f}% reduction)'.format(end_mem, 100 * (start_mem - end_mem) / start_mem))\n",
    "    return df"
   ]
  },
  {
   "cell_type": "code",
   "execution_count": 4,
   "metadata": {
    "_cell_guid": "79c7e3d0-c299-4dcb-8224-4455121ee9b0",
    "_uuid": "d629ff2d2480ee46fbb7e2d37f6b5fab8052498a"
   },
   "outputs": [],
   "source": [
    "df_train = pd.read_csv('../input/train.csv')\n",
    "df_test = pd.read_csv('../input/test.csv')\n",
    "df_hist_trans = pd.read_csv('../input/historical_transactions.csv')\n",
    "df_new_merchant_trans = pd.read_csv('../input/new_merchant_transactions.csv')"
   ]
  },
  {
   "cell_type": "code",
   "execution_count": 5,
   "metadata": {
    "_uuid": "252db1c4842288dc2c4c5a116daa5674073c6daf"
   },
   "outputs": [
    {
     "name": "stdout",
     "output_type": "stream",
     "text": [
      "Mem. usage decreased to 1749.11 Mb (43.7% reduction)\n",
      "Mem. usage decreased to 114.20 Mb (45.5% reduction)\n"
     ]
    }
   ],
   "source": [
    "df_hist_trans = reduce_mem_usage(df_hist_trans)\n",
    "df_new_merchant_trans = reduce_mem_usage(df_new_merchant_trans)"
   ]
  },
  {
   "cell_type": "code",
   "execution_count": 6,
   "metadata": {
    "_uuid": "71f89a3b8a93b2f2feb2cd0a45f860cde33687be"
   },
   "outputs": [],
   "source": [
    "for df in [df_hist_trans,df_new_merchant_trans]:\n",
    "#     df['category_2'].fillna(1.0,inplace=True)\n",
    "#     df['category_3'].fillna('A',inplace=True)\n",
    "#     df['merchant_id'].fillna('M_ID_00a6ca8a8a',inplace=True)\n",
    "    #修改特征\n",
    "    df['category_2'].fillna(-1,inplace=True)\n",
    "    df['category_3'].fillna('other',inplace=True)\n",
    "    df['merchant_id'].fillna('other',inplace=True)\n",
    "#     df.loc[df['installments'].isin([999,-1]),'installments'] = 0 "
   ]
  },
  {
   "cell_type": "code",
   "execution_count": 7,
   "metadata": {
    "_uuid": "dda90662d05e22310dd713df106ea07f4b8bccfc"
   },
   "outputs": [],
   "source": [
    "def get_new_columns(name,aggs):\n",
    "    #for for 写法 nice\n",
    "    return [name + '_' + k + '_' + agg for k in aggs.keys() for agg in aggs[k]]"
   ]
  },
  {
   "cell_type": "code",
   "execution_count": 8,
   "metadata": {
    "_uuid": "690ba01a38f524e9345b419200f588f937bc067a"
   },
   "outputs": [],
   "source": [
    "for df in [df_hist_trans,df_new_merchant_trans]:\n",
    "    df['purchase_date'] = pd.to_datetime(df['purchase_date'])\n",
    "    df['year'] = df['purchase_date'].dt.year\n",
    "    df['weekofyear'] = df['purchase_date'].dt.weekofyear\n",
    "    df['month'] = df['purchase_date'].dt.month\n",
    "    df['dayofweek'] = df['purchase_date'].dt.dayofweek\n",
    "    df['weekend'] = (df.purchase_date.dt.weekday >=5).astype(int)\n",
    "    df['hour'] = df['purchase_date'].dt.hour\n",
    "    df['authorized_flag'] = df['authorized_flag'].map({'Y':1, 'N':0})\n",
    "    df['category_1'] = df['category_1'].map({'Y':1, 'N':0}) \n",
    "    #https://www.kaggle.com/c/elo-merchant-category-recommendation/discussion/73244\n",
    "    df['month_diff'] = ((datetime.datetime(2018,6,1) - df['purchase_date']).dt.days)//30\n",
    "    df['month_diff'] += df['month_lag']"
   ]
  },
  {
   "cell_type": "code",
   "execution_count": 9,
   "metadata": {
    "_uuid": "80aadb70cf47be8cf45b681d73214ace43fe8d1d"
   },
   "outputs": [
    {
     "data": {
      "text/plain": [
       "69"
      ]
     },
     "execution_count": 9,
     "metadata": {},
     "output_type": "execute_result"
    }
   ],
   "source": [
    "#因为根据auth_flag 将特征分成了两部分，这里聚合一个全局的auth_flag 特征\n",
    "aggs = {}\n",
    "aggs['purchase_amount'] = ['sum']\n",
    "# aggs['installments'] = ['sum','max','min','mean','var','median']\n",
    "aggs['authorized_flag'] = ['sum', 'mean','std']\n",
    "aggs['card_id'] = ['size']\n",
    "auth_flag = df_hist_trans.groupby(['card_id']).agg(aggs)\n",
    "auth_flag.columns = get_new_columns('auth_flag',aggs)\n",
    "auth_flag.reset_index(inplace=True)\n",
    "df_train = df_train.merge(auth_flag,on='card_id',how='left')\n",
    "df_test = df_test.merge(auth_flag,on='card_id',how='left')\n",
    "del auth_flag\n",
    "gc.collect()"
   ]
  },
  {
   "cell_type": "code",
   "execution_count": 10,
   "metadata": {
    "_uuid": "49db45166453de5e0509d5e43d52604344954744"
   },
   "outputs": [
    {
     "data": {
      "text/plain": [
       "49"
      ]
     },
     "execution_count": 10,
     "metadata": {},
     "output_type": "execute_result"
    }
   ],
   "source": [
    "#对 authorized_flag进行结果编码\n",
    "aggs = {}\n",
    "for col in ['category_2','category_3','state_id','subsector_id','merchant_category_id','city_id']:\n",
    "    df_hist_trans[col+'_auth_mean'] = df_hist_trans.groupby([col])['authorized_flag'].transform('mean')\n",
    "    df_hist_trans[col+'_auth_sum'] = df_hist_trans.groupby([col])['authorized_flag'].transform('sum') \n",
    "    aggs[col+'_auth_mean'] = ['mean']\n",
    "    aggs[col+'_auth_sum'] = ['sum'] \n",
    "auth_encoder = df_hist_trans.groupby(['card_id']).agg(aggs)\n",
    "auth_encoder.columns = get_new_columns('auth_encoder',aggs)\n",
    "auth_encoder.reset_index(inplace=True)\n",
    "df_train = df_train.merge(auth_encoder,on='card_id',how='left')\n",
    "df_test = df_test.merge(auth_encoder,on='card_id',how='left')\n",
    "del auth_encoder\n",
    "gc.collect()"
   ]
  },
  {
   "cell_type": "code",
   "execution_count": 11,
   "metadata": {
    "_uuid": "5b08ce613977fc59acfdac57c208ba71db6a5ea3"
   },
   "outputs": [],
   "source": [
    "def aggregate_per_month(prefix,history,agg_func):\n",
    "    grouped = history.groupby(['card_id', 'month_lag'])\n",
    "    intermediate_group = grouped.agg(agg_func)\n",
    "    intermediate_group.columns = [prefix + '_'.join(col).strip() for col in intermediate_group.columns.values]\n",
    "    intermediate_group.reset_index(inplace=True)\n",
    "\n",
    "    final_group = intermediate_group.groupby('card_id').agg(['mean', 'std'])\n",
    "    final_group.columns = [prefix + '_'.join(col).strip() for col in final_group.columns.values]\n",
    "    final_group.reset_index(inplace=True) \n",
    "    return final_group"
   ]
  },
  {
   "cell_type": "code",
   "execution_count": 12,
   "metadata": {
    "_uuid": "508c91c2f30371a3bb5a8e5daac36f43749c55c7"
   },
   "outputs": [],
   "source": [
    "#对授权码 进行按月聚合\n",
    "agg_func = {'authorized_flag': [ 'sum', 'mean','median']}\n",
    "final_group =  aggregate_per_month('agg_per_month_total',df_hist_trans,agg_func) \n",
    "df_train = df_train.merge(final_group,on='card_id',how='left')\n",
    "df_test = df_test.merge(final_group,on='card_id',how='left')\n",
    "del final_group"
   ]
  },
  {
   "cell_type": "code",
   "execution_count": 13,
   "metadata": {
    "_uuid": "6dfd525f8227507cad2d8d3a6144bb1708f7e462"
   },
   "outputs": [],
   "source": [
    "authorized_transactions = df_hist_trans[df_hist_trans['authorized_flag'] == 1]\n",
    "df_hist_trans = df_hist_trans[df_hist_trans['authorized_flag'] == 0]"
   ]
  },
  {
   "cell_type": "code",
   "execution_count": null,
   "metadata": {
    "_uuid": "3102d6a23f76d423d622e2177aea1dcc19abdbb4"
   },
   "outputs": [],
   "source": [
    "#使用countVectorizer对category特征进行处理，别人号称可以提升 千分之3\n",
    "# from sklearn.feature_extraction.text import CountVectorizer\n",
    "# cv = CountVectorizer(token_pattern='\\w{1,}')   "
   ]
  },
  {
   "cell_type": "code",
   "execution_count": 14,
   "metadata": {
    "_uuid": "22f8b5af830b7591197956f40b8b575d1e75c713"
   },
   "outputs": [
    {
     "data": {
      "text/plain": [
       "(2516909, 33)"
      ]
     },
     "execution_count": 14,
     "metadata": {},
     "output_type": "execute_result"
    }
   ],
   "source": [
    "df_hist_trans.shape"
   ]
  },
  {
   "cell_type": "code",
   "execution_count": 15,
   "metadata": {
    "_uuid": "53204f1e1752f4e51d96e7c05360898ababc655d"
   },
   "outputs": [
    {
     "data": {
      "text/plain": [
       "85"
      ]
     },
     "execution_count": 15,
     "metadata": {},
     "output_type": "execute_result"
    }
   ],
   "source": [
    "agg_func = {'purchase_amount': [ 'sum', 'mean', 'min', 'max', 'std']}\n",
    "final_group =  aggregate_per_month('agg_per_month_auth',authorized_transactions,agg_func) \n",
    "df_train = df_train.merge(final_group,on='card_id',how='left')\n",
    "df_test = df_test.merge(final_group,on='card_id',how='left')\n",
    "del final_group\n",
    "final_group =  aggregate_per_month('agg_per_month_hist',df_hist_trans,agg_func) \n",
    "df_train = df_train.merge(final_group,on='card_id',how='left')\n",
    "df_test = df_test.merge(final_group,on='card_id',how='left')\n",
    "del final_group\n",
    "final_group =  aggregate_per_month('agg_per_month_hist_new',df_new_merchant_trans,agg_func) \n",
    "df_train = df_train.merge(final_group,on='card_id',how='left')\n",
    "df_test = df_test.merge(final_group,on='card_id',how='left')\n",
    "del final_group\n",
    "gc.collect()"
   ]
  },
  {
   "cell_type": "code",
   "execution_count": 16,
   "metadata": {
    "_uuid": "6bc6f16f1dbf38bcb45a9345fd1e789b23f0efb2"
   },
   "outputs": [
    {
     "data": {
      "text/plain": [
       "0    199710\n",
       "1      2207\n",
       "Name: outliers, dtype: int64"
      ]
     },
     "execution_count": 16,
     "metadata": {},
     "output_type": "execute_result"
    }
   ],
   "source": [
    "df_train['outliers'] = 0\n",
    "df_train.loc[df_train['target'] < -30, 'outliers'] = 1\n",
    "df_train['outliers'].value_counts()"
   ]
  },
  {
   "cell_type": "code",
   "execution_count": 17,
   "metadata": {
    "_uuid": "ddf1d5bb0ade2b22b0f072c208c1506ea64503ea"
   },
   "outputs": [],
   "source": [
    "i = 0\n",
    "for df in [authorized_transactions,df_hist_trans]:\n",
    "    aggs = {}\n",
    "    for col in ['month','hour','weekofyear','dayofweek','year','subsector_id','merchant_id','merchant_category_id',\n",
    "                'state_id','city_id']:\n",
    "        aggs[col] = ['nunique']\n",
    "\n",
    "    aggs['purchase_amount'] = ['sum','max','min','mean','var','median']\n",
    "    aggs['installments'] = ['sum','max','min','mean','var','median']\n",
    "    aggs['purchase_date'] = ['max','min']\n",
    "    aggs['month_lag'] = ['max','min','mean','var','median']\n",
    "    aggs['month_diff'] = ['mean','median']\n",
    "#     aggs['authorized_flag'] = ['sum', 'mean','median']\n",
    "    aggs['weekend'] = ['sum', 'mean']\n",
    "    aggs['category_1'] = ['sum', 'mean']\n",
    "    aggs['card_id'] = ['size']\n",
    "    #产生交叉特征，内存有问题\n",
    "    features = ['category_2','category_3','state_id','subsector_id','merchant_category_id','city_id'\n",
    "               ,'merchant_id']\n",
    "#     for coli in ['category_2','category_3','state_id','subsector_id','merchant_category_id','city_id']:\n",
    "#         for colj in ['category_2','category_3','state_id','subsector_id','merchant_category_id','city_id']:\n",
    "#             df[coli + colj] = df[coli].astype(str) + df[colj].astype(str)\n",
    "#             features.append(coli + colj)\n",
    "    for col in features:\n",
    "        df[col+'_mean'] = df.groupby([col])['purchase_amount'].transform('mean')\n",
    "        df[col+'_sum'] = df.groupby([col])['purchase_amount'].transform('sum') \n",
    "        aggs[col+'_mean'] = ['mean']\n",
    "        aggs[col+'_sum'] = ['sum'] \n",
    "#         添加特征，使用outlier进行编码\n",
    "#         outliers_mean = df.groupby([col])['outliers'].mean()\n",
    "#         outliers_sum = df.groupby([col])['outliers'].sum()\n",
    "#         df[col+'_outliers_mean'] = df[col].map(outliers_mean)\n",
    "#         df[col+'_outliers_sum'] = df[col].map(outliers_sum)\n",
    "#         aggs[col+'_outliers_mean'] = ['mean']\n",
    "#         aggs[col+'_outliers_sum'] =['sum']   \n",
    "        \n",
    "    if i == 0:\n",
    "        prefix = 'auth_hist'\n",
    "    else:\n",
    "        prefix = 'hist'\n",
    "    new_columns = get_new_columns(prefix,aggs)\n",
    "    i += 1\n",
    "    # df_hist_trans.sort_values(['card_id','purchase_date'],inplace = True)\n",
    "\n",
    "    df_hist_trans_group = df.groupby('card_id').agg(aggs)\n",
    "    df_hist_trans_group.columns = new_columns\n",
    "    df_hist_trans_group.reset_index(drop=False,inplace=True)\n",
    "    df_hist_trans_group[prefix + '_purchase_date_diff'] = (df_hist_trans_group[prefix + '_purchase_date_max'] - df_hist_trans_group[prefix + '_purchase_date_min']).dt.days\n",
    "    df_hist_trans_group[prefix + '_purchase_date_average'] = df_hist_trans_group[prefix + '_purchase_date_diff']/df_hist_trans_group[prefix + '_card_id_size']\n",
    "    df_hist_trans_group[prefix + '_purchase_date_uptonow'] = (datetime.datetime(2018,6,1) - df_hist_trans_group[prefix + '_purchase_date_max']).dt.days\n",
    "    #下面这个特征考虑了：有的人可能购买频率较低，但是还是忠实粉丝的情况\n",
    "#     df_hist_trans_group[prefix + '_purchase_date_uptonow_ave'] =  df_hist_trans_group[prefix + '_purchase_date_uptonow']/df_hist_trans_group[prefix + '_purchase_date_average']\n",
    "\n",
    "    #每一个card中未授权消费次数\n",
    "#     df_hist_trans_group[prefix + '_unauthorized_number'] = df_hist_trans_group[prefix + '_card_id_size'] - df_hist_trans_group[prefix + '_authorized_flag_sum']\n",
    "    #最近活跃时间，确实是一个强特征，感觉可以再挖出来几个特征，比如最近5次消费时间，最近10次消费时间，如果值比较小，说明最近很活跃\n",
    "    #没有效果\n",
    "    # grouped =  df_hist_trans.groupby('card_id')['purchase_date']\n",
    "    # df_hist_trans_group['hist_purchase_5thdate_uptonow'] =  (datetime.datetime.today() -grouped.shift(5)).dt.days\n",
    "    # df_hist_trans_group['hist_purchase_3thdate_uptonow'] =  (datetime.datetime.today() -grouped.shift(3)).dt.days\n",
    "    # df_hist_trans_group['hist_purchase_10thdate_uptonow'] =  (datetime.datetime.today() -grouped.shift(10)).dt.days\n",
    "    df_train = df_train.merge(df_hist_trans_group,on='card_id',how='left')\n",
    "    df_test = df_test.merge(df_hist_trans_group,on='card_id',how='left')\n",
    "    del df_hist_trans_group\n",
    "    time.sleep(5)\n",
    "    gc.collect()\n",
    "    del df;gc.collect()\n",
    "    time.sleep(5)"
   ]
  },
  {
   "cell_type": "code",
   "execution_count": 18,
   "metadata": {
    "_uuid": "f7f5625db40db4395374991124fb796c9decd60b"
   },
   "outputs": [],
   "source": [
    "aggs = {}\n",
    "#添加特征\n",
    "for col in ['month','hour','weekofyear','dayofweek','year','subsector_id','merchant_id','merchant_category_id',\n",
    "            'state_id','city_id']:\n",
    "    aggs[col] = ['nunique']\n",
    "    \n",
    "aggs['purchase_amount'] = ['sum','max','min','mean','var','median']\n",
    "aggs['installments'] = ['sum','max','min','mean','var','median']\n",
    "aggs['purchase_date'] = ['max','min']\n",
    "aggs['month_lag'] = ['max','min','mean','var','median']\n",
    "aggs['month_diff'] = ['mean','median']\n",
    "aggs['weekend'] = ['sum', 'mean']\n",
    "aggs['authorized_flag'] = ['sum', 'mean','median']\n",
    "aggs['category_1'] = ['sum', 'mean']\n",
    "aggs['card_id'] = ['size']\n",
    "\n",
    "#添加特征   \n",
    "features = ['category_2','category_3','state_id','subsector_id','merchant_category_id','city_id'\n",
    "               ,'merchant_id']\n",
    "#产生交叉特征，内存有问题\n",
    "# for coli in ['category_2','category_3','state_id','subsector_id','merchant_category_id','city_id']:\n",
    "#     for colj in ['category_2','category_3','state_id','subsector_id','merchant_category_id','city_id']:\n",
    "#         df_new_merchant_trans[coli + colj] = df_new_merchant_trans[coli].astype(str) + df_new_merchant_trans[colj].astype(str)\n",
    "#         features.append(coli + colj)\n",
    "for col in features:\n",
    "    df_new_merchant_trans[col+'_mean'] = df_new_merchant_trans.groupby([col])['purchase_amount'].transform('mean')\n",
    "    df_new_merchant_trans[col+'_sum'] = df_new_merchant_trans.groupby([col])['purchase_amount'].transform('sum')\n",
    "    aggs[col+'_mean'] = ['mean']\n",
    "    aggs[col+'_sum'] = ['sum']\n",
    "    #添加特征，使用outlier进行编码\n",
    "#     outliers_mean = df.groupby([col])['outliers'].mean()\n",
    "#     outliers_sum = df.groupby([col])['outliers'].sum()\n",
    "#     df[col+'_outliers_mean'] = df[col].map(outliers_mean)\n",
    "#     df[col+'_outliers_sum'] = df[col].map(outliers_sum)\n",
    "#     aggs[col+'_outliers_mean'] = ['mean']\n",
    "#     aggs[col+'_outliers_sum'] =['sum']   \n",
    "    \n",
    "new_columns = get_new_columns('new_hist',aggs)\n",
    "# df_new_merchant_trans.sort_values(['card_id','purchase_date'],inplace = True)\n",
    "df_hist_trans_group = df_new_merchant_trans.groupby('card_id').agg(aggs)\n",
    "df_hist_trans_group.columns = new_columns\n",
    "df_hist_trans_group.reset_index(drop=False,inplace=True)\n",
    "df_hist_trans_group['new_hist_purchase_date_diff'] = (df_hist_trans_group['new_hist_purchase_date_max'] - df_hist_trans_group['new_hist_purchase_date_min']).dt.days\n",
    "df_hist_trans_group['new_hist_purchase_date_average'] = df_hist_trans_group['new_hist_purchase_date_diff']/df_hist_trans_group['new_hist_card_id_size']\n",
    "df_hist_trans_group['new_hist_purchase_date_uptonow'] = (datetime.datetime(2018,6,1) - df_hist_trans_group['new_hist_purchase_date_max']).dt.days\n",
    "#下面这个特征考虑了：有的人可能购买频率较低，但是还是忠实粉丝的情况\n",
    "# df_hist_trans_group['new_hist_purchase_date_uptonow_ave'] =  df_hist_trans_group['new_hist_purchase_date_uptonow']/df_hist_trans_group['new_hist_purchase_date_average']\n",
    "\n",
    "#每一个card中未授权消费次数\n",
    "df_hist_trans_group['new_hist_unauthorized_number'] = df_hist_trans_group['new_hist_card_id_size'] - df_hist_trans_group['new_hist_authorized_flag_sum']\n",
    "# grouped = df_new_merchant_trans.groupby('card_id')['purchase_date']\n",
    "# df_hist_trans_group['new_hist_purchase_5thdate_uptonow'] =  (datetime.datetime.today() - grouped.shift(5)).dt.days\n",
    "# df_hist_trans_group['new_hist_purchase_3thdate_uptonow'] =  (datetime.datetime.today() - grouped.shift(3)).dt.days\n",
    "# df_hist_trans_group['new_hist_purchase_10thdate_uptonow'] =  (datetime.datetime.today() - grouped.shift(10)).dt.days\n",
    "\n",
    "df_train = df_train.merge(df_hist_trans_group,on='card_id',how='left')\n",
    "df_test = df_test.merge(df_hist_trans_group,on='card_id',how='left')\n",
    "del df_hist_trans_group\n",
    "gc.collect()\n",
    "del df_new_merchant_trans\n",
    "gc.collect()\n",
    "time.sleep(5)"
   ]
  },
  {
   "cell_type": "code",
   "execution_count": 19,
   "metadata": {
    "_uuid": "ce2082fc1fb0e3f8f7d27fc166aa7a8351b65504"
   },
   "outputs": [],
   "source": [
    "for df in [df_train,df_test]:\n",
    "    df['first_active_month'] = pd.to_datetime(df['first_active_month'])\n",
    "    df['dayofweek'] = df['first_active_month'].dt.dayofweek\n",
    "    df['weekofyear'] = df['first_active_month'].dt.weekofyear\n",
    "    df['month'] = df['first_active_month'].dt.month\n",
    "    df['elapsed_time'] = (datetime.datetime(2018,6,1) - df['first_active_month']).dt.days\n",
    "    df['hist_first_buy'] = (df['hist_purchase_date_min'] - df['first_active_month']).dt.days\n",
    "    df['new_hist_first_buy'] = (df['new_hist_purchase_date_min'] - df['first_active_month']).dt.days\n",
    "    #添加特征\n",
    "    df['auth_hist_first_buy'] = (df['auth_hist_purchase_date_min'] - df['first_active_month']).dt.days\n",
    "    #修改特征\n",
    "    for f in ['hist_purchase_date_max','hist_purchase_date_min','new_hist_purchase_date_max',\\\n",
    "                     'new_hist_purchase_date_min','auth_hist_purchase_date_max','auth_hist_purchase_date_min']:\n",
    "        df[f] = df[f].astype(np.int64) * 1e-9\n",
    "    for f in ['auth_encoder_category_2_auth_sum_sum','auth_encoder_category_3_auth_sum_sum',\n",
    "            'auth_encoder_state_id_auth_sum_sum','auth_encoder_subsector_id_auth_sum_sum',\n",
    "            'auth_encoder_merchant_category_id_auth_sum_sum','auth_encoder_city_id_auth_sum_sum']:\n",
    "        df[f] = df[f].astype(np.int64) * 1e-9\n",
    "    #上面auth_flag已经聚合过了card_id_size ,purchase_amount\n",
    "#     df['card_id_total'] = df['new_hist_card_id_size']+df['hist_card_id_size']  + df['auth_hist_card_id_size']\n",
    "#     df['purchase_amount_total'] = df['new_hist_purchase_amount_sum']+df['hist_purchase_amount_sum']+df['auth_hist_purchase_amount_sum']\n",
    "#添加特征\n",
    "\n",
    "for f in ['feature_1','feature_2','feature_3','month','dayofweek']:\n",
    "    order_label1 = df_train.groupby([f])['outliers'].mean()\n",
    "    df_train[f+'_outliers_mean'] = df_train[f].map(order_label1)\n",
    "    df_test[f+'_outliers_mean'] = df_test[f].map(order_label1)\n",
    "    \n",
    "    order_label2 = df_train.groupby([f])['outliers'].sum()\n",
    "    df_train[f+'_outliers_sum'] = df_train[f].map(order_label2)\n",
    "    df_test[f+'_outliers_sum'] = df_test[f].map(order_label2)\n",
    "    \n",
    "#     order_label1 = df_train.groupby([f])['target'].mean()\n",
    "#     df_train[f+'_target_mean'] = df_train[f].map(order_label1)\n",
    "#     df_test[f+'_target_sum'] = df_test[f].map(order_label1)\n",
    "#     order_label2 = df_train.gorupby([f])['target'].sum()\n",
    "#     df_train[f+'_target_sum'] = df_train[f].map(order_label2)\n",
    "#     df_test[f+'_target_sum'] = df_test[f].map(order_label2)\n",
    " \n",
    "# get_dummies 似乎有一点点不良影响\n",
    "df_train = pd.get_dummies(df_train,columns =['feature_1','feature_2'])\n",
    "df_test = pd.get_dummies(df_test,columns =['feature_1','feature_2'])"
   ]
  },
  {
   "cell_type": "code",
   "execution_count": 20,
   "metadata": {
    "_uuid": "3877e4f1418facb4da080ba31ef8ebae1724e7b1"
   },
   "outputs": [
    {
     "data": {
      "text/html": [
       "<div>\n",
       "<style scoped>\n",
       "    .dataframe tbody tr th:only-of-type {\n",
       "        vertical-align: middle;\n",
       "    }\n",
       "\n",
       "    .dataframe tbody tr th {\n",
       "        vertical-align: top;\n",
       "    }\n",
       "\n",
       "    .dataframe thead th {\n",
       "        text-align: right;\n",
       "    }\n",
       "</style>\n",
       "<table border=\"1\" class=\"dataframe\">\n",
       "  <thead>\n",
       "    <tr style=\"text-align: right;\">\n",
       "      <th></th>\n",
       "      <th>first_active_month</th>\n",
       "      <th>card_id</th>\n",
       "      <th>feature_3</th>\n",
       "      <th>target</th>\n",
       "      <th>auth_flag_purchase_amount_sum</th>\n",
       "      <th>auth_flag_authorized_flag_sum</th>\n",
       "      <th>auth_flag_authorized_flag_mean</th>\n",
       "      <th>auth_flag_authorized_flag_std</th>\n",
       "      <th>auth_flag_card_id_size</th>\n",
       "      <th>auth_encoder_category_2_auth_mean_mean</th>\n",
       "      <th>...</th>\n",
       "      <th>dayofweek_outliers_mean</th>\n",
       "      <th>dayofweek_outliers_sum</th>\n",
       "      <th>feature_1_1</th>\n",
       "      <th>feature_1_2</th>\n",
       "      <th>feature_1_3</th>\n",
       "      <th>feature_1_4</th>\n",
       "      <th>feature_1_5</th>\n",
       "      <th>feature_2_1</th>\n",
       "      <th>feature_2_2</th>\n",
       "      <th>feature_2_3</th>\n",
       "    </tr>\n",
       "  </thead>\n",
       "  <tbody>\n",
       "    <tr>\n",
       "      <th>0</th>\n",
       "      <td>2017-06-01</td>\n",
       "      <td>C_ID_92a2005557</td>\n",
       "      <td>1</td>\n",
       "      <td>-0.820283</td>\n",
       "      <td>-165.968735</td>\n",
       "      <td>247</td>\n",
       "      <td>0.950000</td>\n",
       "      <td>0.218365</td>\n",
       "      <td>260</td>\n",
       "      <td>0.927583</td>\n",
       "      <td>...</td>\n",
       "      <td>0.015174</td>\n",
       "      <td>401</td>\n",
       "      <td>0</td>\n",
       "      <td>0</td>\n",
       "      <td>0</td>\n",
       "      <td>0</td>\n",
       "      <td>1</td>\n",
       "      <td>0</td>\n",
       "      <td>1</td>\n",
       "      <td>0</td>\n",
       "    </tr>\n",
       "    <tr>\n",
       "      <th>1</th>\n",
       "      <td>2017-01-01</td>\n",
       "      <td>C_ID_3d0044924f</td>\n",
       "      <td>0</td>\n",
       "      <td>0.392913</td>\n",
       "      <td>-210.006332</td>\n",
       "      <td>339</td>\n",
       "      <td>0.968571</td>\n",
       "      <td>0.174723</td>\n",
       "      <td>350</td>\n",
       "      <td>0.914943</td>\n",
       "      <td>...</td>\n",
       "      <td>0.009631</td>\n",
       "      <td>289</td>\n",
       "      <td>0</td>\n",
       "      <td>0</td>\n",
       "      <td>0</td>\n",
       "      <td>1</td>\n",
       "      <td>0</td>\n",
       "      <td>1</td>\n",
       "      <td>0</td>\n",
       "      <td>0</td>\n",
       "    </tr>\n",
       "    <tr>\n",
       "      <th>2</th>\n",
       "      <td>2016-08-01</td>\n",
       "      <td>C_ID_d639edf6cd</td>\n",
       "      <td>0</td>\n",
       "      <td>0.688056</td>\n",
       "      <td>-29.167391</td>\n",
       "      <td>41</td>\n",
       "      <td>0.953488</td>\n",
       "      <td>0.213083</td>\n",
       "      <td>43</td>\n",
       "      <td>0.933632</td>\n",
       "      <td>...</td>\n",
       "      <td>0.013597</td>\n",
       "      <td>247</td>\n",
       "      <td>0</td>\n",
       "      <td>1</td>\n",
       "      <td>0</td>\n",
       "      <td>0</td>\n",
       "      <td>0</td>\n",
       "      <td>0</td>\n",
       "      <td>1</td>\n",
       "      <td>0</td>\n",
       "    </tr>\n",
       "    <tr>\n",
       "      <th>3</th>\n",
       "      <td>2017-09-01</td>\n",
       "      <td>C_ID_186d6a6901</td>\n",
       "      <td>0</td>\n",
       "      <td>0.142495</td>\n",
       "      <td>-49.491364</td>\n",
       "      <td>77</td>\n",
       "      <td>1.000000</td>\n",
       "      <td>0.000000</td>\n",
       "      <td>77</td>\n",
       "      <td>0.905491</td>\n",
       "      <td>...</td>\n",
       "      <td>0.005835</td>\n",
       "      <td>201</td>\n",
       "      <td>0</td>\n",
       "      <td>0</td>\n",
       "      <td>0</td>\n",
       "      <td>1</td>\n",
       "      <td>0</td>\n",
       "      <td>0</td>\n",
       "      <td>0</td>\n",
       "      <td>1</td>\n",
       "    </tr>\n",
       "    <tr>\n",
       "      <th>4</th>\n",
       "      <td>2017-11-01</td>\n",
       "      <td>C_ID_cdbd2c0db2</td>\n",
       "      <td>0</td>\n",
       "      <td>-0.159749</td>\n",
       "      <td>-48.687656</td>\n",
       "      <td>128</td>\n",
       "      <td>0.962406</td>\n",
       "      <td>0.190931</td>\n",
       "      <td>133</td>\n",
       "      <td>0.911664</td>\n",
       "      <td>...</td>\n",
       "      <td>0.011268</td>\n",
       "      <td>409</td>\n",
       "      <td>1</td>\n",
       "      <td>0</td>\n",
       "      <td>0</td>\n",
       "      <td>0</td>\n",
       "      <td>0</td>\n",
       "      <td>0</td>\n",
       "      <td>0</td>\n",
       "      <td>1</td>\n",
       "    </tr>\n",
       "  </tbody>\n",
       "</table>\n",
       "<p>5 rows × 254 columns</p>\n",
       "</div>"
      ],
      "text/plain": [
       "  first_active_month          card_id  feature_3    target  \\\n",
       "0         2017-06-01  C_ID_92a2005557          1 -0.820283   \n",
       "1         2017-01-01  C_ID_3d0044924f          0  0.392913   \n",
       "2         2016-08-01  C_ID_d639edf6cd          0  0.688056   \n",
       "3         2017-09-01  C_ID_186d6a6901          0  0.142495   \n",
       "4         2017-11-01  C_ID_cdbd2c0db2          0 -0.159749   \n",
       "\n",
       "   auth_flag_purchase_amount_sum  auth_flag_authorized_flag_sum  \\\n",
       "0                    -165.968735                            247   \n",
       "1                    -210.006332                            339   \n",
       "2                     -29.167391                             41   \n",
       "3                     -49.491364                             77   \n",
       "4                     -48.687656                            128   \n",
       "\n",
       "   auth_flag_authorized_flag_mean  auth_flag_authorized_flag_std  \\\n",
       "0                        0.950000                       0.218365   \n",
       "1                        0.968571                       0.174723   \n",
       "2                        0.953488                       0.213083   \n",
       "3                        1.000000                       0.000000   \n",
       "4                        0.962406                       0.190931   \n",
       "\n",
       "   auth_flag_card_id_size  auth_encoder_category_2_auth_mean_mean  \\\n",
       "0                     260                                0.927583   \n",
       "1                     350                                0.914943   \n",
       "2                      43                                0.933632   \n",
       "3                      77                                0.905491   \n",
       "4                     133                                0.911664   \n",
       "\n",
       "      ...       dayofweek_outliers_mean  dayofweek_outliers_sum  feature_1_1  \\\n",
       "0     ...                      0.015174                     401            0   \n",
       "1     ...                      0.009631                     289            0   \n",
       "2     ...                      0.013597                     247            0   \n",
       "3     ...                      0.005835                     201            0   \n",
       "4     ...                      0.011268                     409            1   \n",
       "\n",
       "   feature_1_2  feature_1_3  feature_1_4  feature_1_5  feature_2_1  \\\n",
       "0            0            0            0            1            0   \n",
       "1            0            0            1            0            1   \n",
       "2            1            0            0            0            0   \n",
       "3            0            0            1            0            0   \n",
       "4            0            0            0            0            0   \n",
       "\n",
       "   feature_2_2  feature_2_3  \n",
       "0            1            0  \n",
       "1            0            0  \n",
       "2            1            0  \n",
       "3            0            1  \n",
       "4            0            1  \n",
       "\n",
       "[5 rows x 254 columns]"
      ]
     },
     "execution_count": 20,
     "metadata": {},
     "output_type": "execute_result"
    }
   ],
   "source": [
    "#首次购买的时间居然早于首次激活的时间，进行调整\n",
    "df_train.loc[df_train['auth_hist_first_buy'] < 0, 'auth_hist_first_buy'] = -1\n",
    "df_train.loc[df_train['hist_first_buy'] < 0, 'hist_first_buy'] = -1\n",
    "df_train.head()"
   ]
  },
  {
   "cell_type": "code",
   "execution_count": 21,
   "metadata": {
    "_uuid": "c4f20f27679889542acfd60d1f1ac381b201ac43"
   },
   "outputs": [],
   "source": [
    "exclude_features = []\n",
    "exclude_features += ['card_id', 'first_active_month','target','outliers']\n",
    "df_train_columns = [c for c in df_train.columns if c not in exclude_features ]\n",
    "target = df_train['target']\n",
    "del df_train['target']"
   ]
  },
  {
   "cell_type": "code",
   "execution_count": 22,
   "metadata": {
    "_uuid": "b7ff07b98323cf30f11ec6130f5c64e6c4db0aac",
    "scrolled": false
   },
   "outputs": [
    {
     "data": {
      "text/plain": [
       "4"
      ]
     },
     "execution_count": 22,
     "metadata": {},
     "output_type": "execute_result"
    }
   ],
   "source": [
    "len(df_train_columns)\n",
    "len(exclude_features)"
   ]
  },
  {
   "cell_type": "code",
   "execution_count": null,
   "metadata": {},
   "outputs": [],
   "source": []
  },
  {
   "cell_type": "markdown",
   "metadata": {},
   "source": [
    "## Above is the same with wang, I call it wang's features"
   ]
  },
  {
   "cell_type": "code",
   "execution_count": null,
   "metadata": {},
   "outputs": [],
   "source": []
  },
  {
   "cell_type": "markdown",
   "metadata": {},
   "source": [
    "### I replace wang's stratified CV with normal lgb.cv"
   ]
  },
  {
   "cell_type": "code",
   "execution_count": 35,
   "metadata": {},
   "outputs": [],
   "source": [
    "param = {'num_leaves': 31,\n",
    "         'min_data_in_leaf': 32, \n",
    "         'objective':'regression',\n",
    "         'max_depth': -1,\n",
    "         'learning_rate': 0.01,\n",
    "         \"min_child_samples\": 20,\n",
    "         \"boosting\": \"gbdt\",\n",
    "         \"feature_fraction\": 0.9,\n",
    "         \"bagging_freq\": 1,\n",
    "         \"bagging_fraction\": 0.9 ,\n",
    "         \"bagging_seed\": 42,\n",
    "         \"metric\": 'rmse',\n",
    "         \"lambda_l1\": 0.1,\n",
    "         \"verbosity\": -1,\n",
    "         \"nthread\": 48,\n",
    "         \"random_state\": 4950}"
   ]
  },
  {
   "cell_type": "code",
   "execution_count": 36,
   "metadata": {},
   "outputs": [],
   "source": [
    "trn_data = lgb.Dataset(df_train[df_train_columns], label=target)#, categorical_feature=categorical_feats)"
   ]
  },
  {
   "cell_type": "code",
   "execution_count": 37,
   "metadata": {},
   "outputs": [
    {
     "name": "stdout",
     "output_type": "stream",
     "text": [
      "[200]\tcv_agg's rmse: 3.68615 + 0.0282081\n",
      "[400]\tcv_agg's rmse: 3.6668 + 0.0265823\n",
      "[600]\tcv_agg's rmse: 3.65987 + 0.0255071\n",
      "[800]\tcv_agg's rmse: 3.6573 + 0.0250177\n",
      "[1000]\tcv_agg's rmse: 3.65601 + 0.0250614\n",
      "[1200]\tcv_agg's rmse: 3.65523 + 0.0246955\n",
      "[1400]\tcv_agg's rmse: 3.65529 + 0.024449\n",
      "[1600]\tcv_agg's rmse: 3.65535 + 0.024517\n",
      "[1800]\tcv_agg's rmse: 3.65527 + 0.0247631\n"
     ]
    }
   ],
   "source": [
    "lgb_cv = lgb.cv(param, trn_data, 10000, early_stopping_rounds=600, verbose_eval=200, stratified=False)"
   ]
  },
  {
   "cell_type": "markdown",
   "metadata": {},
   "source": [
    "lgb.cv show's that num_boost_round is around 2000, so we train a model with num_boost_round=2000"
   ]
  },
  {
   "cell_type": "code",
   "execution_count": 38,
   "metadata": {},
   "outputs": [
    {
     "name": "stdout",
     "output_type": "stream",
     "text": [
      "[200]\ttraining's rmse: 3.57876\n",
      "[400]\ttraining's rmse: 3.49202\n",
      "[600]\ttraining's rmse: 3.43501\n",
      "[800]\ttraining's rmse: 3.39164\n",
      "[1000]\ttraining's rmse: 3.35386\n",
      "[1200]\ttraining's rmse: 3.3212\n",
      "[1400]\ttraining's rmse: 3.28996\n",
      "[1600]\ttraining's rmse: 3.26061\n",
      "[1800]\ttraining's rmse: 3.23226\n",
      "[2000]\ttraining's rmse: 3.20493\n"
     ]
    }
   ],
   "source": [
    "clf = lgb.train(param, trn_data, 2000, valid_sets=(trn_data), verbose_eval=200)"
   ]
  },
  {
   "cell_type": "markdown",
   "metadata": {},
   "source": [
    "predict and save"
   ]
  },
  {
   "cell_type": "code",
   "execution_count": 41,
   "metadata": {},
   "outputs": [],
   "source": [
    "y_pred = clf.predict(df_test[df_train_columns], num_iteration=clf.best_iteration)\n",
    "\n",
    "pd.DataFrame({\n",
    "        'card_id': df_test.card_id,\n",
    "        'target': y_pred\n",
    "}).to_csv('wang_lgb_cv.csv', index=False)"
   ]
  },
  {
   "cell_type": "markdown",
   "metadata": {},
   "source": [
    "## Outlier detection using wang's features"
   ]
  },
  {
   "cell_type": "code",
   "execution_count": 14,
   "metadata": {},
   "outputs": [],
   "source": [
    "outlier = np.zeros(len(target), dtype=np.int)"
   ]
  },
  {
   "cell_type": "code",
   "execution_count": 15,
   "metadata": {},
   "outputs": [],
   "source": [
    "outlier[target < -33] = 1"
   ]
  },
  {
   "cell_type": "markdown",
   "metadata": {},
   "source": [
    "the param is same as regression and just adjust to binary classification"
   ]
  },
  {
   "cell_type": "code",
   "execution_count": 20,
   "metadata": {},
   "outputs": [],
   "source": [
    "param = {'num_leaves': 31,\n",
    "         'min_data_in_leaf': 32, \n",
    "         'objective':'binary',\n",
    "         'max_depth': -1,\n",
    "         'learning_rate': 0.01,\n",
    "         \"min_child_samples\": 20,\n",
    "         \"boosting\": \"gbdt\",\n",
    "         \"feature_fraction\": 0.9,\n",
    "         \"bagging_freq\": 1,\n",
    "         \"bagging_fraction\": 0.9 ,\n",
    "         \"bagging_seed\": 42,\n",
    "         \"metric\": 'auc',\n",
    "         \"lambda_l1\": 0.1,\n",
    "         \"verbosity\": -1,\n",
    "         \"nthread\": 48,\n",
    "         \"scale_pos_weight\": 15,\n",
    "         \"random_state\": 4950}"
   ]
  },
  {
   "cell_type": "code",
   "execution_count": 22,
   "metadata": {},
   "outputs": [],
   "source": [
    "trn_data = lgb.Dataset(train[df_train_columns], label=outlier)#, categorical_feature=categorical_feats)"
   ]
  },
  {
   "cell_type": "code",
   "execution_count": 23,
   "metadata": {},
   "outputs": [
    {
     "name": "stdout",
     "output_type": "stream",
     "text": [
      "[200]\tcv_agg's auc: 0.904527 + 0.00536859\n",
      "[400]\tcv_agg's auc: 0.904872 + 0.00550933\n",
      "[600]\tcv_agg's auc: 0.904333 + 0.00563883\n",
      "[800]\tcv_agg's auc: 0.903508 + 0.00588203\n"
     ]
    }
   ],
   "source": [
    "lgb_cv = lgb.cv(param, trn_data, 10000, early_stopping_rounds=600, verbose_eval=200, stratified=False)"
   ]
  },
  {
   "cell_type": "code",
   "execution_count": 26,
   "metadata": {},
   "outputs": [
    {
     "data": {
      "text/plain": [
       "0.9050613313442047"
      ]
     },
     "execution_count": 26,
     "metadata": {},
     "output_type": "execute_result"
    }
   ],
   "source": [
    "lgb_cv['auc-mean'][-1]"
   ]
  },
  {
   "cell_type": "markdown",
   "metadata": {},
   "source": [
    "best num_boost_round is 500, so we use 500 to train a classifer"
   ]
  },
  {
   "cell_type": "code",
   "execution_count": 28,
   "metadata": {},
   "outputs": [
    {
     "name": "stdout",
     "output_type": "stream",
     "text": [
      "[100]\ttraining's auc: 0.95442\n",
      "[200]\ttraining's auc: 0.961968\n",
      "[300]\ttraining's auc: 0.967783\n",
      "[400]\ttraining's auc: 0.972515\n",
      "[500]\ttraining's auc: 0.976593\n"
     ]
    }
   ],
   "source": [
    "clf = lgb.train(param, trn_data, 500, verbose_eval=100, valid_sets=(trn_data))"
   ]
  },
  {
   "cell_type": "code",
   "execution_count": 29,
   "metadata": {},
   "outputs": [],
   "source": [
    "te_prob = clf.predict(test[df_train_columns])"
   ]
  },
  {
   "cell_type": "code",
   "execution_count": 30,
   "metadata": {},
   "outputs": [
    {
     "data": {
      "text/plain": [
       "(0.0004428745997142606, 0.8690567940374151)"
      ]
     },
     "execution_count": 30,
     "metadata": {},
     "output_type": "execute_result"
    }
   ],
   "source": [
    "te_prob.min(), te_prob.max()"
   ]
  },
  {
   "cell_type": "code",
   "execution_count": 31,
   "metadata": {},
   "outputs": [],
   "source": [
    "wang_out = pd.read_csv('wang_lgb_cv.csv.gz')"
   ]
  },
  {
   "cell_type": "code",
   "execution_count": 32,
   "metadata": {},
   "outputs": [
    {
     "data": {
      "text/html": [
       "<div>\n",
       "<style scoped>\n",
       "    .dataframe tbody tr th:only-of-type {\n",
       "        vertical-align: middle;\n",
       "    }\n",
       "\n",
       "    .dataframe tbody tr th {\n",
       "        vertical-align: top;\n",
       "    }\n",
       "\n",
       "    .dataframe thead th {\n",
       "        text-align: right;\n",
       "    }\n",
       "</style>\n",
       "<table border=\"1\" class=\"dataframe\">\n",
       "  <thead>\n",
       "    <tr style=\"text-align: right;\">\n",
       "      <th></th>\n",
       "      <th>card_id</th>\n",
       "      <th>target</th>\n",
       "    </tr>\n",
       "  </thead>\n",
       "  <tbody>\n",
       "    <tr>\n",
       "      <th>0</th>\n",
       "      <td>C_ID_0ab67a22ab</td>\n",
       "      <td>-2.764160</td>\n",
       "    </tr>\n",
       "    <tr>\n",
       "      <th>1</th>\n",
       "      <td>C_ID_130fd0cbdd</td>\n",
       "      <td>-0.419947</td>\n",
       "    </tr>\n",
       "    <tr>\n",
       "      <th>2</th>\n",
       "      <td>C_ID_b709037bc5</td>\n",
       "      <td>-1.318852</td>\n",
       "    </tr>\n",
       "    <tr>\n",
       "      <th>3</th>\n",
       "      <td>C_ID_d27d835a9f</td>\n",
       "      <td>-0.109764</td>\n",
       "    </tr>\n",
       "    <tr>\n",
       "      <th>4</th>\n",
       "      <td>C_ID_2b5e3df5c2</td>\n",
       "      <td>-1.263915</td>\n",
       "    </tr>\n",
       "  </tbody>\n",
       "</table>\n",
       "</div>"
      ],
      "text/plain": [
       "           card_id    target\n",
       "0  C_ID_0ab67a22ab -2.764160\n",
       "1  C_ID_130fd0cbdd -0.419947\n",
       "2  C_ID_b709037bc5 -1.318852\n",
       "3  C_ID_d27d835a9f -0.109764\n",
       "4  C_ID_2b5e3df5c2 -1.263915"
      ]
     },
     "execution_count": 32,
     "metadata": {},
     "output_type": "execute_result"
    }
   ],
   "source": [
    "wang_out.head()"
   ]
  },
  {
   "cell_type": "code",
   "execution_count": 33,
   "metadata": {},
   "outputs": [],
   "source": [
    "wang_out['outlier_prob1'] = te_prob"
   ]
  },
  {
   "cell_type": "markdown",
   "metadata": {},
   "source": [
    "**outlier_prob2 is just for compare you can ignore**"
   ]
  },
  {
   "cell_type": "code",
   "execution_count": 35,
   "metadata": {},
   "outputs": [],
   "source": [
    "te_prob_ashish = np.loadtxt('../_ashish3_data/outlier_prob.txt.gz')"
   ]
  },
  {
   "cell_type": "code",
   "execution_count": 37,
   "metadata": {},
   "outputs": [],
   "source": [
    "wang_out['outlier_prob2'] = te_prob_ashish"
   ]
  },
  {
   "cell_type": "code",
   "execution_count": 38,
   "metadata": {},
   "outputs": [
    {
     "data": {
      "text/html": [
       "<div>\n",
       "<style scoped>\n",
       "    .dataframe tbody tr th:only-of-type {\n",
       "        vertical-align: middle;\n",
       "    }\n",
       "\n",
       "    .dataframe tbody tr th {\n",
       "        vertical-align: top;\n",
       "    }\n",
       "\n",
       "    .dataframe thead th {\n",
       "        text-align: right;\n",
       "    }\n",
       "</style>\n",
       "<table border=\"1\" class=\"dataframe\">\n",
       "  <thead>\n",
       "    <tr style=\"text-align: right;\">\n",
       "      <th></th>\n",
       "      <th>card_id</th>\n",
       "      <th>target</th>\n",
       "      <th>outlier_prob1</th>\n",
       "      <th>outlier_prob2</th>\n",
       "    </tr>\n",
       "  </thead>\n",
       "  <tbody>\n",
       "    <tr>\n",
       "      <th>0</th>\n",
       "      <td>C_ID_0ab67a22ab</td>\n",
       "      <td>-2.764160</td>\n",
       "      <td>0.406350</td>\n",
       "      <td>0.574925</td>\n",
       "    </tr>\n",
       "    <tr>\n",
       "      <th>1</th>\n",
       "      <td>C_ID_130fd0cbdd</td>\n",
       "      <td>-0.419947</td>\n",
       "      <td>0.011391</td>\n",
       "      <td>0.014464</td>\n",
       "    </tr>\n",
       "    <tr>\n",
       "      <th>2</th>\n",
       "      <td>C_ID_b709037bc5</td>\n",
       "      <td>-1.318852</td>\n",
       "      <td>0.088588</td>\n",
       "      <td>0.088909</td>\n",
       "    </tr>\n",
       "    <tr>\n",
       "      <th>3</th>\n",
       "      <td>C_ID_d27d835a9f</td>\n",
       "      <td>-0.109764</td>\n",
       "      <td>0.000747</td>\n",
       "      <td>0.001070</td>\n",
       "    </tr>\n",
       "    <tr>\n",
       "      <th>4</th>\n",
       "      <td>C_ID_2b5e3df5c2</td>\n",
       "      <td>-1.263915</td>\n",
       "      <td>0.015534</td>\n",
       "      <td>0.009293</td>\n",
       "    </tr>\n",
       "  </tbody>\n",
       "</table>\n",
       "</div>"
      ],
      "text/plain": [
       "           card_id    target  outlier_prob1  outlier_prob2\n",
       "0  C_ID_0ab67a22ab -2.764160       0.406350       0.574925\n",
       "1  C_ID_130fd0cbdd -0.419947       0.011391       0.014464\n",
       "2  C_ID_b709037bc5 -1.318852       0.088588       0.088909\n",
       "3  C_ID_d27d835a9f -0.109764       0.000747       0.001070\n",
       "4  C_ID_2b5e3df5c2 -1.263915       0.015534       0.009293"
      ]
     },
     "execution_count": 38,
     "metadata": {},
     "output_type": "execute_result"
    }
   ],
   "source": [
    "wang_out.head()"
   ]
  },
  {
   "cell_type": "code",
   "execution_count": 40,
   "metadata": {
    "scrolled": true
   },
   "outputs": [
    {
     "data": {
      "text/html": [
       "<div>\n",
       "<style scoped>\n",
       "    .dataframe tbody tr th:only-of-type {\n",
       "        vertical-align: middle;\n",
       "    }\n",
       "\n",
       "    .dataframe tbody tr th {\n",
       "        vertical-align: top;\n",
       "    }\n",
       "\n",
       "    .dataframe thead th {\n",
       "        text-align: right;\n",
       "    }\n",
       "</style>\n",
       "<table border=\"1\" class=\"dataframe\">\n",
       "  <thead>\n",
       "    <tr style=\"text-align: right;\">\n",
       "      <th></th>\n",
       "      <th>card_id</th>\n",
       "      <th>target</th>\n",
       "      <th>outlier_prob1</th>\n",
       "      <th>outlier_prob2</th>\n",
       "    </tr>\n",
       "  </thead>\n",
       "  <tbody>\n",
       "    <tr>\n",
       "      <th>78078</th>\n",
       "      <td>C_ID_922f9c5ea6</td>\n",
       "      <td>-22.745534</td>\n",
       "      <td>0.869057</td>\n",
       "      <td>0.862953</td>\n",
       "    </tr>\n",
       "    <tr>\n",
       "      <th>88754</th>\n",
       "      <td>C_ID_02871a2207</td>\n",
       "      <td>-15.954320</td>\n",
       "      <td>0.861804</td>\n",
       "      <td>0.854475</td>\n",
       "    </tr>\n",
       "    <tr>\n",
       "      <th>118268</th>\n",
       "      <td>C_ID_3420e285b9</td>\n",
       "      <td>-15.433602</td>\n",
       "      <td>0.861054</td>\n",
       "      <td>0.860737</td>\n",
       "    </tr>\n",
       "    <tr>\n",
       "      <th>115682</th>\n",
       "      <td>C_ID_099d9774e2</td>\n",
       "      <td>-12.377131</td>\n",
       "      <td>0.855161</td>\n",
       "      <td>0.832710</td>\n",
       "    </tr>\n",
       "    <tr>\n",
       "      <th>1772</th>\n",
       "      <td>C_ID_4299911620</td>\n",
       "      <td>-18.860423</td>\n",
       "      <td>0.853740</td>\n",
       "      <td>0.843684</td>\n",
       "    </tr>\n",
       "    <tr>\n",
       "      <th>100556</th>\n",
       "      <td>C_ID_70c457436a</td>\n",
       "      <td>-21.097380</td>\n",
       "      <td>0.852554</td>\n",
       "      <td>0.837081</td>\n",
       "    </tr>\n",
       "    <tr>\n",
       "      <th>20556</th>\n",
       "      <td>C_ID_aae50409e7</td>\n",
       "      <td>-21.037031</td>\n",
       "      <td>0.852145</td>\n",
       "      <td>0.844683</td>\n",
       "    </tr>\n",
       "    <tr>\n",
       "      <th>5008</th>\n",
       "      <td>C_ID_be92f84f5c</td>\n",
       "      <td>-16.025497</td>\n",
       "      <td>0.852141</td>\n",
       "      <td>0.860169</td>\n",
       "    </tr>\n",
       "    <tr>\n",
       "      <th>87789</th>\n",
       "      <td>C_ID_bdfdcbb1a0</td>\n",
       "      <td>-19.461891</td>\n",
       "      <td>0.848176</td>\n",
       "      <td>0.832338</td>\n",
       "    </tr>\n",
       "    <tr>\n",
       "      <th>17778</th>\n",
       "      <td>C_ID_866eae8fb0</td>\n",
       "      <td>-12.374922</td>\n",
       "      <td>0.848054</td>\n",
       "      <td>0.818394</td>\n",
       "    </tr>\n",
       "    <tr>\n",
       "      <th>109705</th>\n",
       "      <td>C_ID_d596794318</td>\n",
       "      <td>-12.803438</td>\n",
       "      <td>0.847943</td>\n",
       "      <td>0.832373</td>\n",
       "    </tr>\n",
       "    <tr>\n",
       "      <th>88371</th>\n",
       "      <td>C_ID_26f775a95b</td>\n",
       "      <td>-11.787471</td>\n",
       "      <td>0.846682</td>\n",
       "      <td>0.840512</td>\n",
       "    </tr>\n",
       "    <tr>\n",
       "      <th>109960</th>\n",
       "      <td>C_ID_ba513d72b8</td>\n",
       "      <td>-11.737588</td>\n",
       "      <td>0.846672</td>\n",
       "      <td>0.835668</td>\n",
       "    </tr>\n",
       "    <tr>\n",
       "      <th>5707</th>\n",
       "      <td>C_ID_a8e502820c</td>\n",
       "      <td>-11.089037</td>\n",
       "      <td>0.846529</td>\n",
       "      <td>0.820786</td>\n",
       "    </tr>\n",
       "    <tr>\n",
       "      <th>104735</th>\n",
       "      <td>C_ID_6e089361a2</td>\n",
       "      <td>-7.900539</td>\n",
       "      <td>0.845620</td>\n",
       "      <td>0.828673</td>\n",
       "    </tr>\n",
       "    <tr>\n",
       "      <th>57626</th>\n",
       "      <td>C_ID_944c62886f</td>\n",
       "      <td>-13.708090</td>\n",
       "      <td>0.844946</td>\n",
       "      <td>0.845235</td>\n",
       "    </tr>\n",
       "    <tr>\n",
       "      <th>94759</th>\n",
       "      <td>C_ID_fc4463e3bd</td>\n",
       "      <td>-14.473601</td>\n",
       "      <td>0.844694</td>\n",
       "      <td>0.821313</td>\n",
       "    </tr>\n",
       "    <tr>\n",
       "      <th>96354</th>\n",
       "      <td>C_ID_b237ce01cb</td>\n",
       "      <td>-23.592609</td>\n",
       "      <td>0.844581</td>\n",
       "      <td>0.858382</td>\n",
       "    </tr>\n",
       "    <tr>\n",
       "      <th>6026</th>\n",
       "      <td>C_ID_91cc0c06ca</td>\n",
       "      <td>-13.075557</td>\n",
       "      <td>0.844265</td>\n",
       "      <td>0.845360</td>\n",
       "    </tr>\n",
       "    <tr>\n",
       "      <th>18363</th>\n",
       "      <td>C_ID_d2871ae781</td>\n",
       "      <td>-14.776148</td>\n",
       "      <td>0.843754</td>\n",
       "      <td>0.818236</td>\n",
       "    </tr>\n",
       "    <tr>\n",
       "      <th>58516</th>\n",
       "      <td>C_ID_e94aaeede0</td>\n",
       "      <td>-13.078331</td>\n",
       "      <td>0.843476</td>\n",
       "      <td>0.837671</td>\n",
       "    </tr>\n",
       "    <tr>\n",
       "      <th>68143</th>\n",
       "      <td>C_ID_3af6df55e2</td>\n",
       "      <td>-12.758308</td>\n",
       "      <td>0.842819</td>\n",
       "      <td>0.824539</td>\n",
       "    </tr>\n",
       "    <tr>\n",
       "      <th>17720</th>\n",
       "      <td>C_ID_938dec7a1a</td>\n",
       "      <td>-18.855122</td>\n",
       "      <td>0.842738</td>\n",
       "      <td>0.832439</td>\n",
       "    </tr>\n",
       "    <tr>\n",
       "      <th>72221</th>\n",
       "      <td>C_ID_464246c0a5</td>\n",
       "      <td>-14.512923</td>\n",
       "      <td>0.842661</td>\n",
       "      <td>0.831291</td>\n",
       "    </tr>\n",
       "    <tr>\n",
       "      <th>120151</th>\n",
       "      <td>C_ID_3e3bb028d1</td>\n",
       "      <td>-10.840605</td>\n",
       "      <td>0.842293</td>\n",
       "      <td>0.823255</td>\n",
       "    </tr>\n",
       "    <tr>\n",
       "      <th>5656</th>\n",
       "      <td>C_ID_126a403be9</td>\n",
       "      <td>-14.726226</td>\n",
       "      <td>0.841536</td>\n",
       "      <td>0.833318</td>\n",
       "    </tr>\n",
       "    <tr>\n",
       "      <th>16074</th>\n",
       "      <td>C_ID_9c760806b5</td>\n",
       "      <td>-15.801676</td>\n",
       "      <td>0.840880</td>\n",
       "      <td>0.841599</td>\n",
       "    </tr>\n",
       "    <tr>\n",
       "      <th>43215</th>\n",
       "      <td>C_ID_dc60219f6c</td>\n",
       "      <td>-17.294313</td>\n",
       "      <td>0.839005</td>\n",
       "      <td>0.834371</td>\n",
       "    </tr>\n",
       "    <tr>\n",
       "      <th>104991</th>\n",
       "      <td>C_ID_86ddafb51c</td>\n",
       "      <td>-19.791141</td>\n",
       "      <td>0.838494</td>\n",
       "      <td>0.857541</td>\n",
       "    </tr>\n",
       "    <tr>\n",
       "      <th>4191</th>\n",
       "      <td>C_ID_87b47c2ac5</td>\n",
       "      <td>-11.298274</td>\n",
       "      <td>0.838183</td>\n",
       "      <td>0.817676</td>\n",
       "    </tr>\n",
       "    <tr>\n",
       "      <th>...</th>\n",
       "      <td>...</td>\n",
       "      <td>...</td>\n",
       "      <td>...</td>\n",
       "      <td>...</td>\n",
       "    </tr>\n",
       "    <tr>\n",
       "      <th>27976</th>\n",
       "      <td>C_ID_1c09ca6cf0</td>\n",
       "      <td>-0.492621</td>\n",
       "      <td>0.000508</td>\n",
       "      <td>0.000622</td>\n",
       "    </tr>\n",
       "    <tr>\n",
       "      <th>59126</th>\n",
       "      <td>C_ID_e893d16803</td>\n",
       "      <td>0.213365</td>\n",
       "      <td>0.000508</td>\n",
       "      <td>0.000682</td>\n",
       "    </tr>\n",
       "    <tr>\n",
       "      <th>5376</th>\n",
       "      <td>C_ID_1d38bf0c9d</td>\n",
       "      <td>0.269419</td>\n",
       "      <td>0.000508</td>\n",
       "      <td>0.000826</td>\n",
       "    </tr>\n",
       "    <tr>\n",
       "      <th>73513</th>\n",
       "      <td>C_ID_f8e4f9c2ae</td>\n",
       "      <td>-0.364491</td>\n",
       "      <td>0.000507</td>\n",
       "      <td>0.000721</td>\n",
       "    </tr>\n",
       "    <tr>\n",
       "      <th>84629</th>\n",
       "      <td>C_ID_3e4595b0aa</td>\n",
       "      <td>-0.127500</td>\n",
       "      <td>0.000507</td>\n",
       "      <td>0.000759</td>\n",
       "    </tr>\n",
       "    <tr>\n",
       "      <th>12812</th>\n",
       "      <td>C_ID_64948b72c0</td>\n",
       "      <td>-0.661055</td>\n",
       "      <td>0.000506</td>\n",
       "      <td>0.000717</td>\n",
       "    </tr>\n",
       "    <tr>\n",
       "      <th>30514</th>\n",
       "      <td>C_ID_b47696477d</td>\n",
       "      <td>0.095425</td>\n",
       "      <td>0.000506</td>\n",
       "      <td>0.000747</td>\n",
       "    </tr>\n",
       "    <tr>\n",
       "      <th>34289</th>\n",
       "      <td>C_ID_7e813d8200</td>\n",
       "      <td>-0.121124</td>\n",
       "      <td>0.000504</td>\n",
       "      <td>0.000804</td>\n",
       "    </tr>\n",
       "    <tr>\n",
       "      <th>42610</th>\n",
       "      <td>C_ID_a98acf0d29</td>\n",
       "      <td>-0.053163</td>\n",
       "      <td>0.000503</td>\n",
       "      <td>0.000878</td>\n",
       "    </tr>\n",
       "    <tr>\n",
       "      <th>8242</th>\n",
       "      <td>C_ID_369c4ce047</td>\n",
       "      <td>0.077645</td>\n",
       "      <td>0.000502</td>\n",
       "      <td>0.000598</td>\n",
       "    </tr>\n",
       "    <tr>\n",
       "      <th>73640</th>\n",
       "      <td>C_ID_e57de9936f</td>\n",
       "      <td>-0.044130</td>\n",
       "      <td>0.000500</td>\n",
       "      <td>0.000683</td>\n",
       "    </tr>\n",
       "    <tr>\n",
       "      <th>3591</th>\n",
       "      <td>C_ID_86fcda1933</td>\n",
       "      <td>-0.451789</td>\n",
       "      <td>0.000500</td>\n",
       "      <td>0.000781</td>\n",
       "    </tr>\n",
       "    <tr>\n",
       "      <th>84218</th>\n",
       "      <td>C_ID_8049d4d005</td>\n",
       "      <td>-0.119574</td>\n",
       "      <td>0.000500</td>\n",
       "      <td>0.000896</td>\n",
       "    </tr>\n",
       "    <tr>\n",
       "      <th>119153</th>\n",
       "      <td>C_ID_f6dccb2986</td>\n",
       "      <td>-0.296984</td>\n",
       "      <td>0.000499</td>\n",
       "      <td>0.000687</td>\n",
       "    </tr>\n",
       "    <tr>\n",
       "      <th>96414</th>\n",
       "      <td>C_ID_4c046ccd1c</td>\n",
       "      <td>-0.224856</td>\n",
       "      <td>0.000498</td>\n",
       "      <td>0.000801</td>\n",
       "    </tr>\n",
       "    <tr>\n",
       "      <th>36418</th>\n",
       "      <td>C_ID_aae3296122</td>\n",
       "      <td>-0.065526</td>\n",
       "      <td>0.000498</td>\n",
       "      <td>0.000656</td>\n",
       "    </tr>\n",
       "    <tr>\n",
       "      <th>55981</th>\n",
       "      <td>C_ID_6d3a13e1c6</td>\n",
       "      <td>-0.749246</td>\n",
       "      <td>0.000497</td>\n",
       "      <td>0.000702</td>\n",
       "    </tr>\n",
       "    <tr>\n",
       "      <th>115587</th>\n",
       "      <td>C_ID_56216d8860</td>\n",
       "      <td>0.234476</td>\n",
       "      <td>0.000495</td>\n",
       "      <td>0.000731</td>\n",
       "    </tr>\n",
       "    <tr>\n",
       "      <th>96152</th>\n",
       "      <td>C_ID_92b0df0dfb</td>\n",
       "      <td>-0.406429</td>\n",
       "      <td>0.000495</td>\n",
       "      <td>0.000773</td>\n",
       "    </tr>\n",
       "    <tr>\n",
       "      <th>97297</th>\n",
       "      <td>C_ID_75631c31b9</td>\n",
       "      <td>-0.233328</td>\n",
       "      <td>0.000494</td>\n",
       "      <td>0.000918</td>\n",
       "    </tr>\n",
       "    <tr>\n",
       "      <th>39541</th>\n",
       "      <td>C_ID_dc9b612f54</td>\n",
       "      <td>-0.457811</td>\n",
       "      <td>0.000491</td>\n",
       "      <td>0.000737</td>\n",
       "    </tr>\n",
       "    <tr>\n",
       "      <th>54503</th>\n",
       "      <td>C_ID_cabe5fbdc4</td>\n",
       "      <td>-0.068454</td>\n",
       "      <td>0.000490</td>\n",
       "      <td>0.000826</td>\n",
       "    </tr>\n",
       "    <tr>\n",
       "      <th>106137</th>\n",
       "      <td>C_ID_2b4cc2cf98</td>\n",
       "      <td>0.081711</td>\n",
       "      <td>0.000489</td>\n",
       "      <td>0.000667</td>\n",
       "    </tr>\n",
       "    <tr>\n",
       "      <th>95112</th>\n",
       "      <td>C_ID_999acfb02e</td>\n",
       "      <td>-0.766127</td>\n",
       "      <td>0.000487</td>\n",
       "      <td>0.001005</td>\n",
       "    </tr>\n",
       "    <tr>\n",
       "      <th>3152</th>\n",
       "      <td>C_ID_d3e59676d1</td>\n",
       "      <td>-0.430994</td>\n",
       "      <td>0.000477</td>\n",
       "      <td>0.000670</td>\n",
       "    </tr>\n",
       "    <tr>\n",
       "      <th>34564</th>\n",
       "      <td>C_ID_179975c189</td>\n",
       "      <td>-0.069303</td>\n",
       "      <td>0.000472</td>\n",
       "      <td>0.000727</td>\n",
       "    </tr>\n",
       "    <tr>\n",
       "      <th>19222</th>\n",
       "      <td>C_ID_ed3e30bac6</td>\n",
       "      <td>-0.498710</td>\n",
       "      <td>0.000466</td>\n",
       "      <td>0.000786</td>\n",
       "    </tr>\n",
       "    <tr>\n",
       "      <th>33773</th>\n",
       "      <td>C_ID_4f851a3c3f</td>\n",
       "      <td>-0.141993</td>\n",
       "      <td>0.000465</td>\n",
       "      <td>0.000723</td>\n",
       "    </tr>\n",
       "    <tr>\n",
       "      <th>91671</th>\n",
       "      <td>C_ID_c91f8e6e1f</td>\n",
       "      <td>-0.537566</td>\n",
       "      <td>0.000463</td>\n",
       "      <td>0.000802</td>\n",
       "    </tr>\n",
       "    <tr>\n",
       "      <th>80754</th>\n",
       "      <td>C_ID_7f8a29ed63</td>\n",
       "      <td>-0.267573</td>\n",
       "      <td>0.000443</td>\n",
       "      <td>0.000675</td>\n",
       "    </tr>\n",
       "  </tbody>\n",
       "</table>\n",
       "<p>123623 rows × 4 columns</p>\n",
       "</div>"
      ],
      "text/plain": [
       "                card_id     target  outlier_prob1  outlier_prob2\n",
       "78078   C_ID_922f9c5ea6 -22.745534       0.869057       0.862953\n",
       "88754   C_ID_02871a2207 -15.954320       0.861804       0.854475\n",
       "118268  C_ID_3420e285b9 -15.433602       0.861054       0.860737\n",
       "115682  C_ID_099d9774e2 -12.377131       0.855161       0.832710\n",
       "1772    C_ID_4299911620 -18.860423       0.853740       0.843684\n",
       "100556  C_ID_70c457436a -21.097380       0.852554       0.837081\n",
       "20556   C_ID_aae50409e7 -21.037031       0.852145       0.844683\n",
       "5008    C_ID_be92f84f5c -16.025497       0.852141       0.860169\n",
       "87789   C_ID_bdfdcbb1a0 -19.461891       0.848176       0.832338\n",
       "17778   C_ID_866eae8fb0 -12.374922       0.848054       0.818394\n",
       "109705  C_ID_d596794318 -12.803438       0.847943       0.832373\n",
       "88371   C_ID_26f775a95b -11.787471       0.846682       0.840512\n",
       "109960  C_ID_ba513d72b8 -11.737588       0.846672       0.835668\n",
       "5707    C_ID_a8e502820c -11.089037       0.846529       0.820786\n",
       "104735  C_ID_6e089361a2  -7.900539       0.845620       0.828673\n",
       "57626   C_ID_944c62886f -13.708090       0.844946       0.845235\n",
       "94759   C_ID_fc4463e3bd -14.473601       0.844694       0.821313\n",
       "96354   C_ID_b237ce01cb -23.592609       0.844581       0.858382\n",
       "6026    C_ID_91cc0c06ca -13.075557       0.844265       0.845360\n",
       "18363   C_ID_d2871ae781 -14.776148       0.843754       0.818236\n",
       "58516   C_ID_e94aaeede0 -13.078331       0.843476       0.837671\n",
       "68143   C_ID_3af6df55e2 -12.758308       0.842819       0.824539\n",
       "17720   C_ID_938dec7a1a -18.855122       0.842738       0.832439\n",
       "72221   C_ID_464246c0a5 -14.512923       0.842661       0.831291\n",
       "120151  C_ID_3e3bb028d1 -10.840605       0.842293       0.823255\n",
       "5656    C_ID_126a403be9 -14.726226       0.841536       0.833318\n",
       "16074   C_ID_9c760806b5 -15.801676       0.840880       0.841599\n",
       "43215   C_ID_dc60219f6c -17.294313       0.839005       0.834371\n",
       "104991  C_ID_86ddafb51c -19.791141       0.838494       0.857541\n",
       "4191    C_ID_87b47c2ac5 -11.298274       0.838183       0.817676\n",
       "...                 ...        ...            ...            ...\n",
       "27976   C_ID_1c09ca6cf0  -0.492621       0.000508       0.000622\n",
       "59126   C_ID_e893d16803   0.213365       0.000508       0.000682\n",
       "5376    C_ID_1d38bf0c9d   0.269419       0.000508       0.000826\n",
       "73513   C_ID_f8e4f9c2ae  -0.364491       0.000507       0.000721\n",
       "84629   C_ID_3e4595b0aa  -0.127500       0.000507       0.000759\n",
       "12812   C_ID_64948b72c0  -0.661055       0.000506       0.000717\n",
       "30514   C_ID_b47696477d   0.095425       0.000506       0.000747\n",
       "34289   C_ID_7e813d8200  -0.121124       0.000504       0.000804\n",
       "42610   C_ID_a98acf0d29  -0.053163       0.000503       0.000878\n",
       "8242    C_ID_369c4ce047   0.077645       0.000502       0.000598\n",
       "73640   C_ID_e57de9936f  -0.044130       0.000500       0.000683\n",
       "3591    C_ID_86fcda1933  -0.451789       0.000500       0.000781\n",
       "84218   C_ID_8049d4d005  -0.119574       0.000500       0.000896\n",
       "119153  C_ID_f6dccb2986  -0.296984       0.000499       0.000687\n",
       "96414   C_ID_4c046ccd1c  -0.224856       0.000498       0.000801\n",
       "36418   C_ID_aae3296122  -0.065526       0.000498       0.000656\n",
       "55981   C_ID_6d3a13e1c6  -0.749246       0.000497       0.000702\n",
       "115587  C_ID_56216d8860   0.234476       0.000495       0.000731\n",
       "96152   C_ID_92b0df0dfb  -0.406429       0.000495       0.000773\n",
       "97297   C_ID_75631c31b9  -0.233328       0.000494       0.000918\n",
       "39541   C_ID_dc9b612f54  -0.457811       0.000491       0.000737\n",
       "54503   C_ID_cabe5fbdc4  -0.068454       0.000490       0.000826\n",
       "106137  C_ID_2b4cc2cf98   0.081711       0.000489       0.000667\n",
       "95112   C_ID_999acfb02e  -0.766127       0.000487       0.001005\n",
       "3152    C_ID_d3e59676d1  -0.430994       0.000477       0.000670\n",
       "34564   C_ID_179975c189  -0.069303       0.000472       0.000727\n",
       "19222   C_ID_ed3e30bac6  -0.498710       0.000466       0.000786\n",
       "33773   C_ID_4f851a3c3f  -0.141993       0.000465       0.000723\n",
       "91671   C_ID_c91f8e6e1f  -0.537566       0.000463       0.000802\n",
       "80754   C_ID_7f8a29ed63  -0.267573       0.000443       0.000675\n",
       "\n",
       "[123623 rows x 4 columns]"
      ]
     },
     "execution_count": 40,
     "metadata": {},
     "output_type": "execute_result"
    }
   ],
   "source": [
    "wang_out.sort_values('outlier_prob1', ascending=False)"
   ]
  },
  {
   "cell_type": "code",
   "execution_count": 48,
   "metadata": {},
   "outputs": [],
   "source": [
    "top20 = _40.card_id.values[:20].tolist()"
   ]
  },
  {
   "cell_type": "code",
   "execution_count": 51,
   "metadata": {},
   "outputs": [],
   "source": [
    "top20_50 = _40.card_id.values[20:50].tolist()"
   ]
  },
  {
   "cell_type": "code",
   "execution_count": 57,
   "metadata": {},
   "outputs": [],
   "source": [
    "top20_50_df = wang_out[wang_out.card_id.isin(top20_50)]"
   ]
  },
  {
   "cell_type": "code",
   "execution_count": 59,
   "metadata": {},
   "outputs": [],
   "source": [
    "top20_50_target = top20_50_df.outlier_prob1 * (-33.21928095)"
   ]
  },
  {
   "cell_type": "code",
   "execution_count": 62,
   "metadata": {},
   "outputs": [],
   "source": [
    "wang_out.loc[wang_out.card_id.isin(top20_50), 'target'] = top20_50_target"
   ]
  },
  {
   "cell_type": "code",
   "execution_count": 63,
   "metadata": {},
   "outputs": [
    {
     "data": {
      "text/plain": [
       "4191     -27.843826\n",
       "5656     -27.955206\n",
       "16074    -27.933424\n",
       "17720    -27.995155\n",
       "19114    -27.624854\n",
       "21724    -27.652138\n",
       "23022    -27.753802\n",
       "26864    -27.703031\n",
       "29142    -27.745715\n",
       "32446    -27.730496\n",
       "33759    -27.713778\n",
       "40613    -27.710207\n",
       "43215    -27.871128\n",
       "44180    -27.787061\n",
       "44743    -27.694937\n",
       "54900    -27.716925\n",
       "58516    -28.019674\n",
       "63477    -27.659973\n",
       "68143    -27.997839\n",
       "72221    -27.992593\n",
       "75740    -27.780281\n",
       "102469   -27.614838\n",
       "104274   -27.762162\n",
       "104991   -27.854166\n",
       "108111   -27.779117\n",
       "117442   -27.634532\n",
       "119449   -27.689908\n",
       "120151   -27.980374\n",
       "120513   -27.633225\n",
       "122519   -27.665491\n",
       "Name: target, dtype: float64"
      ]
     },
     "execution_count": 63,
     "metadata": {},
     "output_type": "execute_result"
    }
   ],
   "source": [
    "wang_out.loc[wang_out.card_id.isin(top20_50), 'target'] "
   ]
  },
  {
   "cell_type": "code",
   "execution_count": 65,
   "metadata": {},
   "outputs": [],
   "source": [
    "wang_out[['card_id', 'target']].to_csv('wang_top20_top50.csv', index=False)"
   ]
  },
  {
   "cell_type": "code",
   "execution_count": 2,
   "metadata": {},
   "outputs": [],
   "source": [
    "import pandas as pd"
   ]
  },
  {
   "cell_type": "code",
   "execution_count": 3,
   "metadata": {},
   "outputs": [
    {
     "data": {
      "text/html": [
       "<div>\n",
       "<style scoped>\n",
       "    .dataframe tbody tr th:only-of-type {\n",
       "        vertical-align: middle;\n",
       "    }\n",
       "\n",
       "    .dataframe tbody tr th {\n",
       "        vertical-align: top;\n",
       "    }\n",
       "\n",
       "    .dataframe thead th {\n",
       "        text-align: right;\n",
       "    }\n",
       "</style>\n",
       "<table border=\"1\" class=\"dataframe\">\n",
       "  <thead>\n",
       "    <tr style=\"text-align: right;\">\n",
       "      <th></th>\n",
       "      <th>card_id</th>\n",
       "      <th>target</th>\n",
       "    </tr>\n",
       "  </thead>\n",
       "  <tbody>\n",
       "    <tr>\n",
       "      <th>0</th>\n",
       "      <td>C_ID_0ab67a22ab</td>\n",
       "      <td>-2.243668</td>\n",
       "    </tr>\n",
       "    <tr>\n",
       "      <th>1</th>\n",
       "      <td>C_ID_130fd0cbdd</td>\n",
       "      <td>-0.514302</td>\n",
       "    </tr>\n",
       "    <tr>\n",
       "      <th>2</th>\n",
       "      <td>C_ID_b709037bc5</td>\n",
       "      <td>-1.196668</td>\n",
       "    </tr>\n",
       "    <tr>\n",
       "      <th>3</th>\n",
       "      <td>C_ID_d27d835a9f</td>\n",
       "      <td>-0.112978</td>\n",
       "    </tr>\n",
       "    <tr>\n",
       "      <th>4</th>\n",
       "      <td>C_ID_2b5e3df5c2</td>\n",
       "      <td>-1.340485</td>\n",
       "    </tr>\n",
       "  </tbody>\n",
       "</table>\n",
       "</div>"
      ],
      "text/plain": [
       "           card_id    target\n",
       "0  C_ID_0ab67a22ab -2.243668\n",
       "1  C_ID_130fd0cbdd -0.514302\n",
       "2  C_ID_b709037bc5 -1.196668\n",
       "3  C_ID_d27d835a9f -0.112978\n",
       "4  C_ID_2b5e3df5c2 -1.340485"
      ]
     },
     "execution_count": 3,
     "metadata": {},
     "output_type": "execute_result"
    }
   ],
   "source": [
    "test=pd.read_csv('wang_top20_top50.csv')\n",
    "test.head()"
   ]
  },
  {
   "cell_type": "code",
   "execution_count": null,
   "metadata": {},
   "outputs": [],
   "source": []
  }
 ],
 "metadata": {
  "kernelspec": {
   "display_name": "Python 3",
   "language": "python",
   "name": "python3"
  },
  "language_info": {
   "codemirror_mode": {
    "name": "ipython",
    "version": 3
   },
   "file_extension": ".py",
   "mimetype": "text/x-python",
   "name": "python",
   "nbconvert_exporter": "python",
   "pygments_lexer": "ipython3",
   "version": "3.6.4"
  }
 },
 "nbformat": 4,
 "nbformat_minor": 1
}
