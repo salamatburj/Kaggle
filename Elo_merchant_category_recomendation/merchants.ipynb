{
 "cells": [
  {
   "cell_type": "code",
   "execution_count": 1,
   "metadata": {},
   "outputs": [],
   "source": [
    "import pandas as pd\n",
    "import numpy as np\n",
    "import matplotlib.pylab as plt"
   ]
  },
  {
   "cell_type": "code",
   "execution_count": 2,
   "metadata": {},
   "outputs": [],
   "source": [
    "def reduce_mem_usage(df, verbose=True):\n",
    "    numerics = ['int16', 'int32', 'int64', 'float16', 'float32', 'float64']\n",
    "    start_mem = df.memory_usage().sum() / 1024**2    \n",
    "    for col in df.columns:\n",
    "        col_type = df[col].dtypes\n",
    "        if col_type in numerics:\n",
    "            c_min = df[col].min()\n",
    "            c_max = df[col].max(\n",
    "            )\n",
    "            if str(col_type)[:3] == 'int':\n",
    "                if c_min > np.iinfo(np.int8).min and c_max < np.iinfo(np.int8).max:\n",
    "                    df[col] = df[col].astype(np.int8)\n",
    "                elif c_min > np.iinfo(np.int16).min and c_max < np.iinfo(np.int16).max:\n",
    "                    df[col] = df[col].astype(np.int16)\n",
    "                elif c_min > np.iinfo(np.int32).min and c_max < np.iinfo(np.int32).max:\n",
    "                    df[col] = df[col].astype(np.int32)\n",
    "                elif c_min > np.iinfo(np.int64).min and c_max < np.iinfo(np.int64).max:\n",
    "                    df[col] = df[col].astype(np.int64)  \n",
    "            else:\n",
    "                if c_min > np.finfo(np.float16).min and c_max < np.finfo(np.float16).max:\n",
    "                    df[col] = df[col].astype(np.float16)\n",
    "                elif c_min > np.finfo(np.float32).min and c_max < np.finfo(np.float32).max:\n",
    "                    df[col] = df[col].astype(np.float32)\n",
    "                else:\n",
    "                    df[col] = df[col].astype(np.float64)    \n",
    "    end_mem = df.memory_usage().sum() / 1024**2\n",
    "    if verbose: print('Mem. usage decreased to {:5.2f} Mb ({:.1f}% reduction)'.format(end_mem, 100 * (start_mem - end_mem) / start_mem))\n",
    "    return df"
   ]
  },
  {
   "cell_type": "code",
   "execution_count": 3,
   "metadata": {},
   "outputs": [],
   "source": [
    "df_train = pd.read_csv('C:/Users/user/Documents/Salamat/ELO/train.csv')\n",
    "df_test = pd.read_csv('C:/Users/user/Documents/Salamat/ELO/test.csv')\n",
    "df_hist_trans = pd.read_csv('C:/Users/user/Documents/Salamat/ELO/historical_transactions.csv')\n",
    "df_new_merchant_trans = pd.read_csv('C:/Users/user/Documents/Salamat/ELO/new_merchant_transactions.csv')"
   ]
  },
  {
   "cell_type": "code",
   "execution_count": 4,
   "metadata": {},
   "outputs": [
    {
     "name": "stdout",
     "output_type": "stream",
     "text": [
      "Mem. usage decreased to  4.04 Mb (56.2% reduction)\n",
      "Mem. usage decreased to  2.24 Mb (52.5% reduction)\n",
      "Mem. usage decreased to 1749.11 Mb (43.7% reduction)\n",
      "Mem. usage decreased to 114.20 Mb (45.5% reduction)\n"
     ]
    }
   ],
   "source": [
    "df_train=reduce_mem_usage(df_train)\n",
    "df_test=reduce_mem_usage(df_test)\n",
    "df_hist_trans=reduce_mem_usage(df_hist_trans)\n",
    "df_new_merchant_trans=reduce_mem_usage(df_new_merchant_trans)"
   ]
  },
  {
   "cell_type": "code",
   "execution_count": 6,
   "metadata": {},
   "outputs": [
    {
     "name": "stdout",
     "output_type": "stream",
     "text": [
      "Mem. usage decreased to 30.32 Mb (46.0% reduction)\n"
     ]
    }
   ],
   "source": [
    "df_merchants=pd.read_csv('C:/Users/user/Documents/Salamat/ELO/merchants.csv')\n",
    "df_merchants=reduce_mem_usage(df_merchants)"
   ]
  },
  {
   "cell_type": "code",
   "execution_count": 7,
   "metadata": {},
   "outputs": [
    {
     "data": {
      "text/html": [
       "<div>\n",
       "<style scoped>\n",
       "    .dataframe tbody tr th:only-of-type {\n",
       "        vertical-align: middle;\n",
       "    }\n",
       "\n",
       "    .dataframe tbody tr th {\n",
       "        vertical-align: top;\n",
       "    }\n",
       "\n",
       "    .dataframe thead th {\n",
       "        text-align: right;\n",
       "    }\n",
       "</style>\n",
       "<table border=\"1\" class=\"dataframe\">\n",
       "  <thead>\n",
       "    <tr style=\"text-align: right;\">\n",
       "      <th></th>\n",
       "      <th>merchant_id</th>\n",
       "      <th>merchant_group_id</th>\n",
       "      <th>merchant_category_id</th>\n",
       "      <th>subsector_id</th>\n",
       "      <th>numerical_1</th>\n",
       "      <th>numerical_2</th>\n",
       "      <th>category_1</th>\n",
       "      <th>most_recent_sales_range</th>\n",
       "      <th>most_recent_purchases_range</th>\n",
       "      <th>avg_sales_lag3</th>\n",
       "      <th>...</th>\n",
       "      <th>avg_sales_lag6</th>\n",
       "      <th>avg_purchases_lag6</th>\n",
       "      <th>active_months_lag6</th>\n",
       "      <th>avg_sales_lag12</th>\n",
       "      <th>avg_purchases_lag12</th>\n",
       "      <th>active_months_lag12</th>\n",
       "      <th>category_4</th>\n",
       "      <th>city_id</th>\n",
       "      <th>state_id</th>\n",
       "      <th>category_2</th>\n",
       "    </tr>\n",
       "  </thead>\n",
       "  <tbody>\n",
       "    <tr>\n",
       "      <th>0</th>\n",
       "      <td>M_ID_838061e48c</td>\n",
       "      <td>8353</td>\n",
       "      <td>792</td>\n",
       "      <td>9</td>\n",
       "      <td>-0.057465</td>\n",
       "      <td>-0.057465</td>\n",
       "      <td>N</td>\n",
       "      <td>E</td>\n",
       "      <td>E</td>\n",
       "      <td>-0.400000</td>\n",
       "      <td>...</td>\n",
       "      <td>-2.250000</td>\n",
       "      <td>18.666667</td>\n",
       "      <td>6</td>\n",
       "      <td>-2.320000</td>\n",
       "      <td>13.916667</td>\n",
       "      <td>12</td>\n",
       "      <td>N</td>\n",
       "      <td>242</td>\n",
       "      <td>9</td>\n",
       "      <td>1.0</td>\n",
       "    </tr>\n",
       "    <tr>\n",
       "      <th>1</th>\n",
       "      <td>M_ID_9339d880ad</td>\n",
       "      <td>3184</td>\n",
       "      <td>840</td>\n",
       "      <td>20</td>\n",
       "      <td>-0.057465</td>\n",
       "      <td>-0.057465</td>\n",
       "      <td>N</td>\n",
       "      <td>E</td>\n",
       "      <td>E</td>\n",
       "      <td>-0.720000</td>\n",
       "      <td>...</td>\n",
       "      <td>-0.740000</td>\n",
       "      <td>1.291667</td>\n",
       "      <td>6</td>\n",
       "      <td>-0.570000</td>\n",
       "      <td>1.687500</td>\n",
       "      <td>12</td>\n",
       "      <td>N</td>\n",
       "      <td>22</td>\n",
       "      <td>16</td>\n",
       "      <td>1.0</td>\n",
       "    </tr>\n",
       "    <tr>\n",
       "      <th>2</th>\n",
       "      <td>M_ID_e726bbae1e</td>\n",
       "      <td>447</td>\n",
       "      <td>690</td>\n",
       "      <td>1</td>\n",
       "      <td>-0.057465</td>\n",
       "      <td>-0.057465</td>\n",
       "      <td>N</td>\n",
       "      <td>E</td>\n",
       "      <td>E</td>\n",
       "      <td>-82.129997</td>\n",
       "      <td>...</td>\n",
       "      <td>-82.129997</td>\n",
       "      <td>260.000000</td>\n",
       "      <td>2</td>\n",
       "      <td>-82.129997</td>\n",
       "      <td>260.000000</td>\n",
       "      <td>2</td>\n",
       "      <td>N</td>\n",
       "      <td>-1</td>\n",
       "      <td>5</td>\n",
       "      <td>5.0</td>\n",
       "    </tr>\n",
       "    <tr>\n",
       "      <th>3</th>\n",
       "      <td>M_ID_a70e9c5f81</td>\n",
       "      <td>5026</td>\n",
       "      <td>792</td>\n",
       "      <td>9</td>\n",
       "      <td>-0.057465</td>\n",
       "      <td>-0.057465</td>\n",
       "      <td>Y</td>\n",
       "      <td>E</td>\n",
       "      <td>E</td>\n",
       "      <td>NaN</td>\n",
       "      <td>...</td>\n",
       "      <td>NaN</td>\n",
       "      <td>4.666667</td>\n",
       "      <td>6</td>\n",
       "      <td>NaN</td>\n",
       "      <td>3.833333</td>\n",
       "      <td>12</td>\n",
       "      <td>Y</td>\n",
       "      <td>-1</td>\n",
       "      <td>-1</td>\n",
       "      <td>NaN</td>\n",
       "    </tr>\n",
       "    <tr>\n",
       "      <th>4</th>\n",
       "      <td>M_ID_64456c37ce</td>\n",
       "      <td>2228</td>\n",
       "      <td>222</td>\n",
       "      <td>21</td>\n",
       "      <td>-0.057465</td>\n",
       "      <td>-0.057465</td>\n",
       "      <td>Y</td>\n",
       "      <td>E</td>\n",
       "      <td>E</td>\n",
       "      <td>NaN</td>\n",
       "      <td>...</td>\n",
       "      <td>NaN</td>\n",
       "      <td>0.361111</td>\n",
       "      <td>6</td>\n",
       "      <td>NaN</td>\n",
       "      <td>0.347222</td>\n",
       "      <td>12</td>\n",
       "      <td>Y</td>\n",
       "      <td>-1</td>\n",
       "      <td>-1</td>\n",
       "      <td>NaN</td>\n",
       "    </tr>\n",
       "  </tbody>\n",
       "</table>\n",
       "<p>5 rows × 22 columns</p>\n",
       "</div>"
      ],
      "text/plain": [
       "       merchant_id  merchant_group_id  merchant_category_id  subsector_id  \\\n",
       "0  M_ID_838061e48c               8353                   792             9   \n",
       "1  M_ID_9339d880ad               3184                   840            20   \n",
       "2  M_ID_e726bbae1e                447                   690             1   \n",
       "3  M_ID_a70e9c5f81               5026                   792             9   \n",
       "4  M_ID_64456c37ce               2228                   222            21   \n",
       "\n",
       "   numerical_1  numerical_2 category_1 most_recent_sales_range  \\\n",
       "0    -0.057465    -0.057465          N                       E   \n",
       "1    -0.057465    -0.057465          N                       E   \n",
       "2    -0.057465    -0.057465          N                       E   \n",
       "3    -0.057465    -0.057465          Y                       E   \n",
       "4    -0.057465    -0.057465          Y                       E   \n",
       "\n",
       "  most_recent_purchases_range  avg_sales_lag3     ...      avg_sales_lag6  \\\n",
       "0                           E       -0.400000     ...           -2.250000   \n",
       "1                           E       -0.720000     ...           -0.740000   \n",
       "2                           E      -82.129997     ...          -82.129997   \n",
       "3                           E             NaN     ...                 NaN   \n",
       "4                           E             NaN     ...                 NaN   \n",
       "\n",
       "   avg_purchases_lag6  active_months_lag6  avg_sales_lag12  \\\n",
       "0           18.666667                   6        -2.320000   \n",
       "1            1.291667                   6        -0.570000   \n",
       "2          260.000000                   2       -82.129997   \n",
       "3            4.666667                   6              NaN   \n",
       "4            0.361111                   6              NaN   \n",
       "\n",
       "   avg_purchases_lag12  active_months_lag12  category_4  city_id state_id  \\\n",
       "0            13.916667                   12           N      242        9   \n",
       "1             1.687500                   12           N       22       16   \n",
       "2           260.000000                    2           N       -1        5   \n",
       "3             3.833333                   12           Y       -1       -1   \n",
       "4             0.347222                   12           Y       -1       -1   \n",
       "\n",
       "   category_2  \n",
       "0         1.0  \n",
       "1         1.0  \n",
       "2         5.0  \n",
       "3         NaN  \n",
       "4         NaN  \n",
       "\n",
       "[5 rows x 22 columns]"
      ]
     },
     "execution_count": 7,
     "metadata": {},
     "output_type": "execute_result"
    }
   ],
   "source": [
    "df_merchants.head()"
   ]
  },
  {
   "cell_type": "code",
   "execution_count": 10,
   "metadata": {
    "scrolled": true
   },
   "outputs": [
    {
     "data": {
      "text/plain": [
       "35      46026\n",
       "434       482\n",
       "419       365\n",
       "713       333\n",
       "3648      305\n",
       "Name: merchant_group_id, dtype: int64"
      ]
     },
     "execution_count": 10,
     "metadata": {},
     "output_type": "execute_result"
    }
   ],
   "source": [
    "df_merchants.merchant_group_id.value_counts(dropna=False).head()"
   ]
  },
  {
   "cell_type": "code",
   "execution_count": 11,
   "metadata": {},
   "outputs": [
    {
     "data": {
      "text/plain": [
       "705    30666\n",
       "278    17992\n",
       "307    17528\n",
       "367    15387\n",
       "68     14341\n",
       "Name: merchant_category_id, dtype: int64"
      ]
     },
     "execution_count": 11,
     "metadata": {},
     "output_type": "execute_result"
    }
   ],
   "source": [
    "df_merchants.merchant_category_id.value_counts(dropna=False).head()"
   ]
  },
  {
   "cell_type": "markdown",
   "metadata": {},
   "source": [
    "### Before exploring merchants. Let's look at history of transactions. And see if there is any relation between average frequency of going to some merchant and target"
   ]
  },
  {
   "cell_type": "code",
   "execution_count": 23,
   "metadata": {},
   "outputs": [],
   "source": [
    "df_hist_trans_group=df_hist_trans.groupby(['card_id'])"
   ]
  },
  {
   "cell_type": "code",
   "execution_count": 37,
   "metadata": {},
   "outputs": [],
   "source": [
    "# Total number of purchases made\n",
    "df=df_hist_trans_group.authorized_flag.count()\n",
    "df=df.to_frame()"
   ]
  },
  {
   "cell_type": "code",
   "execution_count": 40,
   "metadata": {},
   "outputs": [],
   "source": [
    "df.columns=['num_purchases']"
   ]
  },
  {
   "cell_type": "code",
   "execution_count": 43,
   "metadata": {},
   "outputs": [],
   "source": [
    "df['num_unique_merchants']=df_hist_trans_group.merchant_id.nunique()"
   ]
  },
  {
   "cell_type": "code",
   "execution_count": 44,
   "metadata": {},
   "outputs": [],
   "source": [
    "df['pur_freq_unique']=df['num_unique_merchants']/df['num_purchases']"
   ]
  },
  {
   "cell_type": "code",
   "execution_count": 47,
   "metadata": {},
   "outputs": [],
   "source": [
    "df['max_month']=df_hist_trans_group.month_lag.min().abs()"
   ]
  },
  {
   "cell_type": "code",
   "execution_count": 49,
   "metadata": {},
   "outputs": [],
   "source": [
    "df['pur_freq_unique_month']=df['pur_freq_unique']/df['pur_freq_unique']/df['max_month']"
   ]
  },
  {
   "cell_type": "code",
   "execution_count": 51,
   "metadata": {},
   "outputs": [
    {
     "data": {
      "text/plain": [
       "Index(['authorized_flag', 'card_id', 'city_id', 'category_1', 'installments',\n",
       "       'category_3', 'merchant_category_id', 'merchant_id', 'month_lag',\n",
       "       'purchase_amount', 'purchase_date', 'category_2', 'state_id',\n",
       "       'subsector_id'],\n",
       "      dtype='object')"
      ]
     },
     "execution_count": 51,
     "metadata": {},
     "output_type": "execute_result"
    }
   ],
   "source": [
    "df_hist_trans.columns"
   ]
  },
  {
   "cell_type": "code",
   "execution_count": 151,
   "metadata": {
    "scrolled": true
   },
   "outputs": [],
   "source": [
    "# Now let's check seperately authorized frequency and non authorized\n",
    "df_hist_trans_group_auth=df_hist_trans.groupby(['card_id','authorized_flag'])"
   ]
  },
  {
   "cell_type": "code",
   "execution_count": 152,
   "metadata": {},
   "outputs": [],
   "source": [
    "df2=df_hist_trans_group_auth.city_id.count().reset_index()"
   ]
  },
  {
   "cell_type": "code",
   "execution_count": 153,
   "metadata": {},
   "outputs": [],
   "source": [
    "df2.columns=['card_id','authorized_flag','num_purchases']"
   ]
  },
  {
   "cell_type": "code",
   "execution_count": 154,
   "metadata": {},
   "outputs": [],
   "source": [
    "df2['num_unique_merchants']=df_hist_trans_group_auth.merchant_id.nunique().reset_index().merchant_id\n",
    "df2['pur_freq_unique']=df2['num_unique_merchants']/df2['num_purchases']"
   ]
  },
  {
   "cell_type": "code",
   "execution_count": 155,
   "metadata": {},
   "outputs": [],
   "source": [
    "df2['month_diff']=df2.card_id.map(df_hist_trans.groupby('card_id').month_lag.min().abs())\n"
   ]
  },
  {
   "cell_type": "code",
   "execution_count": 156,
   "metadata": {},
   "outputs": [],
   "source": [
    "df2['pur_freq_unique_month']=df2['pur_freq_unique']/df2['month_diff']"
   ]
  },
  {
   "cell_type": "code",
   "execution_count": 171,
   "metadata": {
    "scrolled": true
   },
   "outputs": [
    {
     "data": {
      "text/plain": [
       "card_id                  False\n",
       "authorized_flag          False\n",
       "num_purchases            False\n",
       "num_unique_merchants     False\n",
       "pur_freq_unique          False\n",
       "month_diff               False\n",
       "pur_freq_unique_month    False\n",
       "dtype: bool"
      ]
     },
     "execution_count": 171,
     "metadata": {},
     "output_type": "execute_result"
    }
   ],
   "source": [
    "df2.isnull().any()"
   ]
  },
  {
   "cell_type": "code",
   "execution_count": 172,
   "metadata": {},
   "outputs": [],
   "source": [
    "dfT=df.merge(df2[df2.authorized_flag=='Y'],on='card_id', how='outer')"
   ]
  },
  {
   "cell_type": "code",
   "execution_count": 173,
   "metadata": {},
   "outputs": [],
   "source": [
    "dfT=dfT.merge(df2[df2.authorized_flag=='N'],on='card_id', how='outer')"
   ]
  },
  {
   "cell_type": "code",
   "execution_count": 176,
   "metadata": {},
   "outputs": [
    {
     "data": {
      "text/plain": [
       "index                      False\n",
       "card_id                    False\n",
       "num_purchases_x            False\n",
       "num_unique_merchants_x     False\n",
       "pur_freq_unique_x          False\n",
       "max_month                  False\n",
       "pur_freq_unique_month_x    False\n",
       "authorized_flag_x          False\n",
       "num_purchases_y            False\n",
       "num_unique_merchants_y     False\n",
       "pur_freq_unique_y          False\n",
       "month_diff_x               False\n",
       "pur_freq_unique_month_y    False\n",
       "authorized_flag_y           True\n",
       "num_purchases               True\n",
       "num_unique_merchants        True\n",
       "pur_freq_unique             True\n",
       "month_diff_y                True\n",
       "pur_freq_unique_month       True\n",
       "dtype: bool"
      ]
     },
     "execution_count": 176,
     "metadata": {},
     "output_type": "execute_result"
    }
   ],
   "source": [
    "dfT.isnull().any()"
   ]
  },
  {
   "cell_type": "code",
   "execution_count": 183,
   "metadata": {},
   "outputs": [
    {
     "data": {
      "text/plain": [
       "Index(['authorized_flag_y', 'num_purchases', 'num_unique_merchants',\n",
       "       'pur_freq_unique', 'month_diff_y', 'pur_freq_unique_month'],\n",
       "      dtype='object')"
      ]
     },
     "execution_count": 183,
     "metadata": {},
     "output_type": "execute_result"
    }
   ],
   "source": [
    "dfT.columns[-6:]"
   ]
  },
  {
   "cell_type": "code",
   "execution_count": 184,
   "metadata": {},
   "outputs": [],
   "source": [
    "# will put zero who never did nonauthorized purchases\n",
    "dfT.loc[dfT.authorized_flag_y.isnull(),dfT.columns[-6:]]=np.zeros(dfT[dfT.authorized_flag_y.isnull()].iloc[:,-6:].shape)"
   ]
  },
  {
   "cell_type": "code",
   "execution_count": 190,
   "metadata": {
    "scrolled": false
   },
   "outputs": [
    {
     "data": {
      "text/plain": [
       "Index(['index', 'card_id', 'num_purchases_x', 'num_unique_merchants_x',\n",
       "       'pur_freq_unique_x', 'max_month', 'pur_freq_unique_month_x',\n",
       "       'authorized_flag_x', 'num_purchases_y', 'num_unique_merchants_y',\n",
       "       'pur_freq_unique_y', 'month_diff_x', 'pur_freq_unique_month_y',\n",
       "       'authorized_flag_y', 'num_purchases', 'num_unique_merchants',\n",
       "       'pur_freq_unique', 'month_diff_y', 'pur_freq_unique_month'],\n",
       "      dtype='object')"
      ]
     },
     "execution_count": 190,
     "metadata": {},
     "output_type": "execute_result"
    }
   ],
   "source": [
    "dfT.columns"
   ]
  },
  {
   "cell_type": "code",
   "execution_count": 198,
   "metadata": {},
   "outputs": [],
   "source": [
    "columns=['card_id', 'pur_freq_unique_x', 'pur_freq_unique_month_x',\n",
    "       'pur_freq_unique_y', 'pur_freq_unique_month_y',\n",
    "        'pur_freq_unique',  'pur_freq_unique_month']"
   ]
  },
  {
   "cell_type": "code",
   "execution_count": 199,
   "metadata": {},
   "outputs": [
    {
     "data": {
      "text/plain": [
       "index                      False\n",
       "card_id                    False\n",
       "num_purchases_x            False\n",
       "num_unique_merchants_x     False\n",
       "pur_freq_unique_x          False\n",
       "max_month                  False\n",
       "pur_freq_unique_month_x    False\n",
       "authorized_flag_x          False\n",
       "num_purchases_y            False\n",
       "num_unique_merchants_y     False\n",
       "pur_freq_unique_y          False\n",
       "month_diff_x               False\n",
       "pur_freq_unique_month_y    False\n",
       "authorized_flag_y          False\n",
       "num_purchases              False\n",
       "num_unique_merchants       False\n",
       "pur_freq_unique            False\n",
       "month_diff_y               False\n",
       "pur_freq_unique_month      False\n",
       "dtype: bool"
      ]
     },
     "execution_count": 199,
     "metadata": {},
     "output_type": "execute_result"
    }
   ],
   "source": [
    "dfT.isnull().any()"
   ]
  },
  {
   "cell_type": "code",
   "execution_count": 200,
   "metadata": {},
   "outputs": [],
   "source": [
    "df_final=dfT.loc[:,columns]"
   ]
  },
  {
   "cell_type": "code",
   "execution_count": 201,
   "metadata": {},
   "outputs": [
    {
     "data": {
      "text/html": [
       "<div>\n",
       "<style scoped>\n",
       "    .dataframe tbody tr th:only-of-type {\n",
       "        vertical-align: middle;\n",
       "    }\n",
       "\n",
       "    .dataframe tbody tr th {\n",
       "        vertical-align: top;\n",
       "    }\n",
       "\n",
       "    .dataframe thead th {\n",
       "        text-align: right;\n",
       "    }\n",
       "</style>\n",
       "<table border=\"1\" class=\"dataframe\">\n",
       "  <thead>\n",
       "    <tr style=\"text-align: right;\">\n",
       "      <th></th>\n",
       "      <th>card_id</th>\n",
       "      <th>pur_freq_unique_x</th>\n",
       "      <th>pur_freq_unique_month_x</th>\n",
       "      <th>pur_freq_unique_y</th>\n",
       "      <th>pur_freq_unique_month_y</th>\n",
       "      <th>pur_freq_unique</th>\n",
       "      <th>pur_freq_unique_month</th>\n",
       "    </tr>\n",
       "  </thead>\n",
       "  <tbody>\n",
       "    <tr>\n",
       "      <th>0</th>\n",
       "      <td>C_ID_00007093c1</td>\n",
       "      <td>0.194631</td>\n",
       "      <td>0.083333</td>\n",
       "      <td>0.245614</td>\n",
       "      <td>0.020468</td>\n",
       "      <td>0.314286</td>\n",
       "      <td>0.026190</td>\n",
       "    </tr>\n",
       "    <tr>\n",
       "      <th>1</th>\n",
       "      <td>C_ID_0001238066</td>\n",
       "      <td>0.528455</td>\n",
       "      <td>0.200000</td>\n",
       "      <td>0.541667</td>\n",
       "      <td>0.108333</td>\n",
       "      <td>0.666667</td>\n",
       "      <td>0.133333</td>\n",
       "    </tr>\n",
       "    <tr>\n",
       "      <th>2</th>\n",
       "      <td>C_ID_0001506ef0</td>\n",
       "      <td>0.424242</td>\n",
       "      <td>0.076923</td>\n",
       "      <td>0.451613</td>\n",
       "      <td>0.034739</td>\n",
       "      <td>1.000000</td>\n",
       "      <td>0.076923</td>\n",
       "    </tr>\n",
       "    <tr>\n",
       "      <th>3</th>\n",
       "      <td>C_ID_0001793786</td>\n",
       "      <td>0.550926</td>\n",
       "      <td>0.111111</td>\n",
       "      <td>0.603175</td>\n",
       "      <td>0.067019</td>\n",
       "      <td>0.629630</td>\n",
       "      <td>0.069959</td>\n",
       "    </tr>\n",
       "    <tr>\n",
       "      <th>4</th>\n",
       "      <td>C_ID_000183fdda</td>\n",
       "      <td>0.506944</td>\n",
       "      <td>0.166667</td>\n",
       "      <td>0.518248</td>\n",
       "      <td>0.086375</td>\n",
       "      <td>0.571429</td>\n",
       "      <td>0.095238</td>\n",
       "    </tr>\n",
       "    <tr>\n",
       "      <th>5</th>\n",
       "      <td>C_ID_00024e244b</td>\n",
       "      <td>0.271429</td>\n",
       "      <td>0.076923</td>\n",
       "      <td>0.339623</td>\n",
       "      <td>0.026125</td>\n",
       "      <td>0.411765</td>\n",
       "      <td>0.031674</td>\n",
       "    </tr>\n",
       "    <tr>\n",
       "      <th>6</th>\n",
       "      <td>C_ID_0002709b5a</td>\n",
       "      <td>0.479452</td>\n",
       "      <td>0.076923</td>\n",
       "      <td>0.477612</td>\n",
       "      <td>0.036739</td>\n",
       "      <td>0.833333</td>\n",
       "      <td>0.064103</td>\n",
       "    </tr>\n",
       "    <tr>\n",
       "      <th>7</th>\n",
       "      <td>C_ID_00027503e2</td>\n",
       "      <td>0.285714</td>\n",
       "      <td>0.125000</td>\n",
       "      <td>0.458333</td>\n",
       "      <td>0.057292</td>\n",
       "      <td>0.277778</td>\n",
       "      <td>0.034722</td>\n",
       "    </tr>\n",
       "    <tr>\n",
       "      <th>8</th>\n",
       "      <td>C_ID_000298032a</td>\n",
       "      <td>0.666667</td>\n",
       "      <td>0.090909</td>\n",
       "      <td>0.714286</td>\n",
       "      <td>0.064935</td>\n",
       "      <td>1.000000</td>\n",
       "      <td>0.090909</td>\n",
       "    </tr>\n",
       "    <tr>\n",
       "      <th>9</th>\n",
       "      <td>C_ID_0002ba3c2e</td>\n",
       "      <td>0.500000</td>\n",
       "      <td>0.111111</td>\n",
       "      <td>0.581818</td>\n",
       "      <td>0.064646</td>\n",
       "      <td>0.400000</td>\n",
       "      <td>0.044444</td>\n",
       "    </tr>\n",
       "    <tr>\n",
       "      <th>10</th>\n",
       "      <td>C_ID_0002c7c2c1</td>\n",
       "      <td>0.567164</td>\n",
       "      <td>0.111111</td>\n",
       "      <td>0.655172</td>\n",
       "      <td>0.072797</td>\n",
       "      <td>0.888889</td>\n",
       "      <td>0.098765</td>\n",
       "    </tr>\n",
       "    <tr>\n",
       "      <th>11</th>\n",
       "      <td>C_ID_00032df08f</td>\n",
       "      <td>0.406897</td>\n",
       "      <td>0.100000</td>\n",
       "      <td>0.464000</td>\n",
       "      <td>0.046400</td>\n",
       "      <td>0.450000</td>\n",
       "      <td>0.045000</td>\n",
       "    </tr>\n",
       "    <tr>\n",
       "      <th>12</th>\n",
       "      <td>C_ID_0003754056</td>\n",
       "      <td>0.388889</td>\n",
       "      <td>0.100000</td>\n",
       "      <td>0.400000</td>\n",
       "      <td>0.040000</td>\n",
       "      <td>1.000000</td>\n",
       "      <td>0.100000</td>\n",
       "    </tr>\n",
       "    <tr>\n",
       "      <th>13</th>\n",
       "      <td>C_ID_000377f6a0</td>\n",
       "      <td>0.571429</td>\n",
       "      <td>0.090909</td>\n",
       "      <td>0.636364</td>\n",
       "      <td>0.057851</td>\n",
       "      <td>0.833333</td>\n",
       "      <td>0.075758</td>\n",
       "    </tr>\n",
       "    <tr>\n",
       "      <th>14</th>\n",
       "      <td>C_ID_0003be3c83</td>\n",
       "      <td>0.397661</td>\n",
       "      <td>0.166667</td>\n",
       "      <td>0.458904</td>\n",
       "      <td>0.076484</td>\n",
       "      <td>0.480000</td>\n",
       "      <td>0.080000</td>\n",
       "    </tr>\n",
       "    <tr>\n",
       "      <th>15</th>\n",
       "      <td>C_ID_0003f41435</td>\n",
       "      <td>0.425856</td>\n",
       "      <td>0.125000</td>\n",
       "      <td>0.431907</td>\n",
       "      <td>0.053988</td>\n",
       "      <td>1.000000</td>\n",
       "      <td>0.125000</td>\n",
       "    </tr>\n",
       "    <tr>\n",
       "      <th>16</th>\n",
       "      <td>C_ID_00042d509c</td>\n",
       "      <td>0.177419</td>\n",
       "      <td>0.200000</td>\n",
       "      <td>0.555556</td>\n",
       "      <td>0.111111</td>\n",
       "      <td>0.136364</td>\n",
       "      <td>0.027273</td>\n",
       "    </tr>\n",
       "    <tr>\n",
       "      <th>17</th>\n",
       "      <td>C_ID_0004587331</td>\n",
       "      <td>0.642857</td>\n",
       "      <td>0.250000</td>\n",
       "      <td>0.666667</td>\n",
       "      <td>0.166667</td>\n",
       "      <td>0.500000</td>\n",
       "      <td>0.125000</td>\n",
       "    </tr>\n",
       "    <tr>\n",
       "      <th>18</th>\n",
       "      <td>C_ID_0004725b87</td>\n",
       "      <td>0.410256</td>\n",
       "      <td>0.076923</td>\n",
       "      <td>0.422535</td>\n",
       "      <td>0.032503</td>\n",
       "      <td>0.285714</td>\n",
       "      <td>0.021978</td>\n",
       "    </tr>\n",
       "    <tr>\n",
       "      <th>19</th>\n",
       "      <td>C_ID_0004888ddd</td>\n",
       "      <td>0.487805</td>\n",
       "      <td>0.166667</td>\n",
       "      <td>0.527778</td>\n",
       "      <td>0.087963</td>\n",
       "      <td>0.400000</td>\n",
       "      <td>0.066667</td>\n",
       "    </tr>\n",
       "    <tr>\n",
       "      <th>20</th>\n",
       "      <td>C_ID_0004b68c49</td>\n",
       "      <td>1.000000</td>\n",
       "      <td>0.333333</td>\n",
       "      <td>1.000000</td>\n",
       "      <td>0.333333</td>\n",
       "      <td>0.000000</td>\n",
       "      <td>0.000000</td>\n",
       "    </tr>\n",
       "    <tr>\n",
       "      <th>21</th>\n",
       "      <td>C_ID_0004c2a5ab</td>\n",
       "      <td>0.547945</td>\n",
       "      <td>0.076923</td>\n",
       "      <td>0.571429</td>\n",
       "      <td>0.043956</td>\n",
       "      <td>0.666667</td>\n",
       "      <td>0.051282</td>\n",
       "    </tr>\n",
       "    <tr>\n",
       "      <th>22</th>\n",
       "      <td>C_ID_00057b99fe</td>\n",
       "      <td>0.714286</td>\n",
       "      <td>0.076923</td>\n",
       "      <td>0.757576</td>\n",
       "      <td>0.058275</td>\n",
       "      <td>1.000000</td>\n",
       "      <td>0.076923</td>\n",
       "    </tr>\n",
       "    <tr>\n",
       "      <th>23</th>\n",
       "      <td>C_ID_000599daf9</td>\n",
       "      <td>0.628571</td>\n",
       "      <td>0.100000</td>\n",
       "      <td>0.666667</td>\n",
       "      <td>0.066667</td>\n",
       "      <td>1.000000</td>\n",
       "      <td>0.100000</td>\n",
       "    </tr>\n",
       "    <tr>\n",
       "      <th>24</th>\n",
       "      <td>C_ID_0005b2f279</td>\n",
       "      <td>0.437500</td>\n",
       "      <td>0.090909</td>\n",
       "      <td>0.437500</td>\n",
       "      <td>0.039773</td>\n",
       "      <td>0.000000</td>\n",
       "      <td>0.000000</td>\n",
       "    </tr>\n",
       "    <tr>\n",
       "      <th>25</th>\n",
       "      <td>C_ID_0005b5804f</td>\n",
       "      <td>0.625000</td>\n",
       "      <td>0.142857</td>\n",
       "      <td>0.625000</td>\n",
       "      <td>0.089286</td>\n",
       "      <td>0.000000</td>\n",
       "      <td>0.000000</td>\n",
       "    </tr>\n",
       "    <tr>\n",
       "      <th>26</th>\n",
       "      <td>C_ID_0005f16cc8</td>\n",
       "      <td>0.444444</td>\n",
       "      <td>0.076923</td>\n",
       "      <td>0.477941</td>\n",
       "      <td>0.036765</td>\n",
       "      <td>0.529412</td>\n",
       "      <td>0.040724</td>\n",
       "    </tr>\n",
       "    <tr>\n",
       "      <th>27</th>\n",
       "      <td>C_ID_0006152db8</td>\n",
       "      <td>0.313953</td>\n",
       "      <td>0.125000</td>\n",
       "      <td>0.342105</td>\n",
       "      <td>0.042763</td>\n",
       "      <td>0.600000</td>\n",
       "      <td>0.075000</td>\n",
       "    </tr>\n",
       "    <tr>\n",
       "      <th>28</th>\n",
       "      <td>C_ID_000616f4a8</td>\n",
       "      <td>0.789474</td>\n",
       "      <td>0.076923</td>\n",
       "      <td>0.805556</td>\n",
       "      <td>0.061966</td>\n",
       "      <td>0.500000</td>\n",
       "      <td>0.038462</td>\n",
       "    </tr>\n",
       "    <tr>\n",
       "      <th>29</th>\n",
       "      <td>C_ID_000664aa02</td>\n",
       "      <td>0.714286</td>\n",
       "      <td>0.500000</td>\n",
       "      <td>0.714286</td>\n",
       "      <td>0.357143</td>\n",
       "      <td>0.000000</td>\n",
       "      <td>0.000000</td>\n",
       "    </tr>\n",
       "    <tr>\n",
       "      <th>...</th>\n",
       "      <td>...</td>\n",
       "      <td>...</td>\n",
       "      <td>...</td>\n",
       "      <td>...</td>\n",
       "      <td>...</td>\n",
       "      <td>...</td>\n",
       "      <td>...</td>\n",
       "    </tr>\n",
       "    <tr>\n",
       "      <th>325510</th>\n",
       "      <td>C_ID_fffb79fb56</td>\n",
       "      <td>0.333333</td>\n",
       "      <td>0.250000</td>\n",
       "      <td>0.333333</td>\n",
       "      <td>0.083333</td>\n",
       "      <td>0.000000</td>\n",
       "      <td>0.000000</td>\n",
       "    </tr>\n",
       "    <tr>\n",
       "      <th>325511</th>\n",
       "      <td>C_ID_fffb9ea3f6</td>\n",
       "      <td>0.327586</td>\n",
       "      <td>0.142857</td>\n",
       "      <td>0.404762</td>\n",
       "      <td>0.057823</td>\n",
       "      <td>0.187500</td>\n",
       "      <td>0.026786</td>\n",
       "    </tr>\n",
       "    <tr>\n",
       "      <th>325512</th>\n",
       "      <td>C_ID_fffba72dc5</td>\n",
       "      <td>0.370370</td>\n",
       "      <td>0.250000</td>\n",
       "      <td>0.416667</td>\n",
       "      <td>0.104167</td>\n",
       "      <td>0.222222</td>\n",
       "      <td>0.055556</td>\n",
       "    </tr>\n",
       "    <tr>\n",
       "      <th>325513</th>\n",
       "      <td>C_ID_fffbdf036b</td>\n",
       "      <td>0.319588</td>\n",
       "      <td>0.250000</td>\n",
       "      <td>0.397436</td>\n",
       "      <td>0.099359</td>\n",
       "      <td>0.315789</td>\n",
       "      <td>0.078947</td>\n",
       "    </tr>\n",
       "    <tr>\n",
       "      <th>325514</th>\n",
       "      <td>C_ID_fffbee5c24</td>\n",
       "      <td>0.727273</td>\n",
       "      <td>0.100000</td>\n",
       "      <td>0.800000</td>\n",
       "      <td>0.080000</td>\n",
       "      <td>0.500000</td>\n",
       "      <td>0.050000</td>\n",
       "    </tr>\n",
       "    <tr>\n",
       "      <th>325515</th>\n",
       "      <td>C_ID_fffc96bf24</td>\n",
       "      <td>0.359447</td>\n",
       "      <td>0.076923</td>\n",
       "      <td>0.383085</td>\n",
       "      <td>0.029468</td>\n",
       "      <td>0.437500</td>\n",
       "      <td>0.033654</td>\n",
       "    </tr>\n",
       "    <tr>\n",
       "      <th>325516</th>\n",
       "      <td>C_ID_fffcb74f49</td>\n",
       "      <td>0.330275</td>\n",
       "      <td>0.125000</td>\n",
       "      <td>0.354167</td>\n",
       "      <td>0.044271</td>\n",
       "      <td>0.692308</td>\n",
       "      <td>0.086538</td>\n",
       "    </tr>\n",
       "    <tr>\n",
       "      <th>325517</th>\n",
       "      <td>C_ID_fffcf66e12</td>\n",
       "      <td>0.323529</td>\n",
       "      <td>0.076923</td>\n",
       "      <td>0.333333</td>\n",
       "      <td>0.025641</td>\n",
       "      <td>1.000000</td>\n",
       "      <td>0.076923</td>\n",
       "    </tr>\n",
       "    <tr>\n",
       "      <th>325518</th>\n",
       "      <td>C_ID_fffd070e0e</td>\n",
       "      <td>0.571429</td>\n",
       "      <td>0.076923</td>\n",
       "      <td>0.638889</td>\n",
       "      <td>0.049145</td>\n",
       "      <td>0.333333</td>\n",
       "      <td>0.025641</td>\n",
       "    </tr>\n",
       "    <tr>\n",
       "      <th>325519</th>\n",
       "      <td>C_ID_fffd1207a8</td>\n",
       "      <td>0.157697</td>\n",
       "      <td>0.076923</td>\n",
       "      <td>0.163185</td>\n",
       "      <td>0.012553</td>\n",
       "      <td>0.515152</td>\n",
       "      <td>0.039627</td>\n",
       "    </tr>\n",
       "    <tr>\n",
       "      <th>325520</th>\n",
       "      <td>C_ID_fffd24dcf3</td>\n",
       "      <td>0.857143</td>\n",
       "      <td>0.111111</td>\n",
       "      <td>0.846154</td>\n",
       "      <td>0.094017</td>\n",
       "      <td>1.000000</td>\n",
       "      <td>0.111111</td>\n",
       "    </tr>\n",
       "    <tr>\n",
       "      <th>325521</th>\n",
       "      <td>C_ID_fffd337484</td>\n",
       "      <td>0.647059</td>\n",
       "      <td>0.200000</td>\n",
       "      <td>0.645161</td>\n",
       "      <td>0.129032</td>\n",
       "      <td>1.000000</td>\n",
       "      <td>0.200000</td>\n",
       "    </tr>\n",
       "    <tr>\n",
       "      <th>325522</th>\n",
       "      <td>C_ID_fffd345048</td>\n",
       "      <td>0.420290</td>\n",
       "      <td>0.166667</td>\n",
       "      <td>0.482759</td>\n",
       "      <td>0.080460</td>\n",
       "      <td>0.727273</td>\n",
       "      <td>0.121212</td>\n",
       "    </tr>\n",
       "    <tr>\n",
       "      <th>325523</th>\n",
       "      <td>C_ID_fffd351e7f</td>\n",
       "      <td>0.597403</td>\n",
       "      <td>0.111111</td>\n",
       "      <td>0.642857</td>\n",
       "      <td>0.071429</td>\n",
       "      <td>0.571429</td>\n",
       "      <td>0.063492</td>\n",
       "    </tr>\n",
       "    <tr>\n",
       "      <th>325524</th>\n",
       "      <td>C_ID_fffd93c8bf</td>\n",
       "      <td>0.432836</td>\n",
       "      <td>0.250000</td>\n",
       "      <td>0.440945</td>\n",
       "      <td>0.110236</td>\n",
       "      <td>0.857143</td>\n",
       "      <td>0.214286</td>\n",
       "    </tr>\n",
       "    <tr>\n",
       "      <th>325525</th>\n",
       "      <td>C_ID_fffd943b91</td>\n",
       "      <td>0.421875</td>\n",
       "      <td>0.100000</td>\n",
       "      <td>0.448980</td>\n",
       "      <td>0.044898</td>\n",
       "      <td>0.400000</td>\n",
       "      <td>0.040000</td>\n",
       "    </tr>\n",
       "    <tr>\n",
       "      <th>325526</th>\n",
       "      <td>C_ID_fffdad8aa0</td>\n",
       "      <td>0.416000</td>\n",
       "      <td>0.250000</td>\n",
       "      <td>0.440678</td>\n",
       "      <td>0.110169</td>\n",
       "      <td>0.428571</td>\n",
       "      <td>0.107143</td>\n",
       "    </tr>\n",
       "    <tr>\n",
       "      <th>325527</th>\n",
       "      <td>C_ID_fffde15ab6</td>\n",
       "      <td>0.390244</td>\n",
       "      <td>0.125000</td>\n",
       "      <td>0.444444</td>\n",
       "      <td>0.055556</td>\n",
       "      <td>0.400000</td>\n",
       "      <td>0.050000</td>\n",
       "    </tr>\n",
       "    <tr>\n",
       "      <th>325528</th>\n",
       "      <td>C_ID_fffdf34798</td>\n",
       "      <td>0.298246</td>\n",
       "      <td>0.100000</td>\n",
       "      <td>0.298246</td>\n",
       "      <td>0.029825</td>\n",
       "      <td>0.000000</td>\n",
       "      <td>0.000000</td>\n",
       "    </tr>\n",
       "    <tr>\n",
       "      <th>325529</th>\n",
       "      <td>C_ID_fffe29a04a</td>\n",
       "      <td>0.597701</td>\n",
       "      <td>0.100000</td>\n",
       "      <td>0.619048</td>\n",
       "      <td>0.061905</td>\n",
       "      <td>0.333333</td>\n",
       "      <td>0.033333</td>\n",
       "    </tr>\n",
       "    <tr>\n",
       "      <th>325530</th>\n",
       "      <td>C_ID_fffe78b232</td>\n",
       "      <td>0.403955</td>\n",
       "      <td>0.076923</td>\n",
       "      <td>0.416910</td>\n",
       "      <td>0.032070</td>\n",
       "      <td>0.454545</td>\n",
       "      <td>0.034965</td>\n",
       "    </tr>\n",
       "    <tr>\n",
       "      <th>325531</th>\n",
       "      <td>C_ID_fffe866457</td>\n",
       "      <td>0.448276</td>\n",
       "      <td>0.100000</td>\n",
       "      <td>0.472727</td>\n",
       "      <td>0.047273</td>\n",
       "      <td>0.666667</td>\n",
       "      <td>0.066667</td>\n",
       "    </tr>\n",
       "    <tr>\n",
       "      <th>325532</th>\n",
       "      <td>C_ID_fffea6de74</td>\n",
       "      <td>0.369727</td>\n",
       "      <td>0.125000</td>\n",
       "      <td>0.374684</td>\n",
       "      <td>0.046835</td>\n",
       "      <td>0.500000</td>\n",
       "      <td>0.062500</td>\n",
       "    </tr>\n",
       "    <tr>\n",
       "      <th>325533</th>\n",
       "      <td>C_ID_fffeced303</td>\n",
       "      <td>0.180851</td>\n",
       "      <td>0.100000</td>\n",
       "      <td>0.192771</td>\n",
       "      <td>0.019277</td>\n",
       "      <td>0.318182</td>\n",
       "      <td>0.031818</td>\n",
       "    </tr>\n",
       "    <tr>\n",
       "      <th>325534</th>\n",
       "      <td>C_ID_fffeed3a89</td>\n",
       "      <td>0.684524</td>\n",
       "      <td>0.333333</td>\n",
       "      <td>0.696970</td>\n",
       "      <td>0.232323</td>\n",
       "      <td>0.666667</td>\n",
       "      <td>0.222222</td>\n",
       "    </tr>\n",
       "    <tr>\n",
       "      <th>325535</th>\n",
       "      <td>C_ID_ffff1d9928</td>\n",
       "      <td>0.666667</td>\n",
       "      <td>0.250000</td>\n",
       "      <td>0.777778</td>\n",
       "      <td>0.194444</td>\n",
       "      <td>0.666667</td>\n",
       "      <td>0.166667</td>\n",
       "    </tr>\n",
       "    <tr>\n",
       "      <th>325536</th>\n",
       "      <td>C_ID_ffff579d3a</td>\n",
       "      <td>0.543860</td>\n",
       "      <td>0.166667</td>\n",
       "      <td>0.616162</td>\n",
       "      <td>0.102694</td>\n",
       "      <td>0.600000</td>\n",
       "      <td>0.100000</td>\n",
       "    </tr>\n",
       "    <tr>\n",
       "      <th>325537</th>\n",
       "      <td>C_ID_ffff756266</td>\n",
       "      <td>0.541667</td>\n",
       "      <td>0.076923</td>\n",
       "      <td>0.714286</td>\n",
       "      <td>0.054945</td>\n",
       "      <td>0.500000</td>\n",
       "      <td>0.038462</td>\n",
       "    </tr>\n",
       "    <tr>\n",
       "      <th>325538</th>\n",
       "      <td>C_ID_ffff828181</td>\n",
       "      <td>0.468421</td>\n",
       "      <td>0.076923</td>\n",
       "      <td>0.512048</td>\n",
       "      <td>0.039388</td>\n",
       "      <td>0.541667</td>\n",
       "      <td>0.041667</td>\n",
       "    </tr>\n",
       "    <tr>\n",
       "      <th>325539</th>\n",
       "      <td>C_ID_fffffd5772</td>\n",
       "      <td>0.226190</td>\n",
       "      <td>0.166667</td>\n",
       "      <td>0.253333</td>\n",
       "      <td>0.042222</td>\n",
       "      <td>0.222222</td>\n",
       "      <td>0.037037</td>\n",
       "    </tr>\n",
       "  </tbody>\n",
       "</table>\n",
       "<p>325540 rows × 7 columns</p>\n",
       "</div>"
      ],
      "text/plain": [
       "                card_id  pur_freq_unique_x  pur_freq_unique_month_x  \\\n",
       "0       C_ID_00007093c1           0.194631                 0.083333   \n",
       "1       C_ID_0001238066           0.528455                 0.200000   \n",
       "2       C_ID_0001506ef0           0.424242                 0.076923   \n",
       "3       C_ID_0001793786           0.550926                 0.111111   \n",
       "4       C_ID_000183fdda           0.506944                 0.166667   \n",
       "5       C_ID_00024e244b           0.271429                 0.076923   \n",
       "6       C_ID_0002709b5a           0.479452                 0.076923   \n",
       "7       C_ID_00027503e2           0.285714                 0.125000   \n",
       "8       C_ID_000298032a           0.666667                 0.090909   \n",
       "9       C_ID_0002ba3c2e           0.500000                 0.111111   \n",
       "10      C_ID_0002c7c2c1           0.567164                 0.111111   \n",
       "11      C_ID_00032df08f           0.406897                 0.100000   \n",
       "12      C_ID_0003754056           0.388889                 0.100000   \n",
       "13      C_ID_000377f6a0           0.571429                 0.090909   \n",
       "14      C_ID_0003be3c83           0.397661                 0.166667   \n",
       "15      C_ID_0003f41435           0.425856                 0.125000   \n",
       "16      C_ID_00042d509c           0.177419                 0.200000   \n",
       "17      C_ID_0004587331           0.642857                 0.250000   \n",
       "18      C_ID_0004725b87           0.410256                 0.076923   \n",
       "19      C_ID_0004888ddd           0.487805                 0.166667   \n",
       "20      C_ID_0004b68c49           1.000000                 0.333333   \n",
       "21      C_ID_0004c2a5ab           0.547945                 0.076923   \n",
       "22      C_ID_00057b99fe           0.714286                 0.076923   \n",
       "23      C_ID_000599daf9           0.628571                 0.100000   \n",
       "24      C_ID_0005b2f279           0.437500                 0.090909   \n",
       "25      C_ID_0005b5804f           0.625000                 0.142857   \n",
       "26      C_ID_0005f16cc8           0.444444                 0.076923   \n",
       "27      C_ID_0006152db8           0.313953                 0.125000   \n",
       "28      C_ID_000616f4a8           0.789474                 0.076923   \n",
       "29      C_ID_000664aa02           0.714286                 0.500000   \n",
       "...                 ...                ...                      ...   \n",
       "325510  C_ID_fffb79fb56           0.333333                 0.250000   \n",
       "325511  C_ID_fffb9ea3f6           0.327586                 0.142857   \n",
       "325512  C_ID_fffba72dc5           0.370370                 0.250000   \n",
       "325513  C_ID_fffbdf036b           0.319588                 0.250000   \n",
       "325514  C_ID_fffbee5c24           0.727273                 0.100000   \n",
       "325515  C_ID_fffc96bf24           0.359447                 0.076923   \n",
       "325516  C_ID_fffcb74f49           0.330275                 0.125000   \n",
       "325517  C_ID_fffcf66e12           0.323529                 0.076923   \n",
       "325518  C_ID_fffd070e0e           0.571429                 0.076923   \n",
       "325519  C_ID_fffd1207a8           0.157697                 0.076923   \n",
       "325520  C_ID_fffd24dcf3           0.857143                 0.111111   \n",
       "325521  C_ID_fffd337484           0.647059                 0.200000   \n",
       "325522  C_ID_fffd345048           0.420290                 0.166667   \n",
       "325523  C_ID_fffd351e7f           0.597403                 0.111111   \n",
       "325524  C_ID_fffd93c8bf           0.432836                 0.250000   \n",
       "325525  C_ID_fffd943b91           0.421875                 0.100000   \n",
       "325526  C_ID_fffdad8aa0           0.416000                 0.250000   \n",
       "325527  C_ID_fffde15ab6           0.390244                 0.125000   \n",
       "325528  C_ID_fffdf34798           0.298246                 0.100000   \n",
       "325529  C_ID_fffe29a04a           0.597701                 0.100000   \n",
       "325530  C_ID_fffe78b232           0.403955                 0.076923   \n",
       "325531  C_ID_fffe866457           0.448276                 0.100000   \n",
       "325532  C_ID_fffea6de74           0.369727                 0.125000   \n",
       "325533  C_ID_fffeced303           0.180851                 0.100000   \n",
       "325534  C_ID_fffeed3a89           0.684524                 0.333333   \n",
       "325535  C_ID_ffff1d9928           0.666667                 0.250000   \n",
       "325536  C_ID_ffff579d3a           0.543860                 0.166667   \n",
       "325537  C_ID_ffff756266           0.541667                 0.076923   \n",
       "325538  C_ID_ffff828181           0.468421                 0.076923   \n",
       "325539  C_ID_fffffd5772           0.226190                 0.166667   \n",
       "\n",
       "        pur_freq_unique_y  pur_freq_unique_month_y  pur_freq_unique  \\\n",
       "0                0.245614                 0.020468         0.314286   \n",
       "1                0.541667                 0.108333         0.666667   \n",
       "2                0.451613                 0.034739         1.000000   \n",
       "3                0.603175                 0.067019         0.629630   \n",
       "4                0.518248                 0.086375         0.571429   \n",
       "5                0.339623                 0.026125         0.411765   \n",
       "6                0.477612                 0.036739         0.833333   \n",
       "7                0.458333                 0.057292         0.277778   \n",
       "8                0.714286                 0.064935         1.000000   \n",
       "9                0.581818                 0.064646         0.400000   \n",
       "10               0.655172                 0.072797         0.888889   \n",
       "11               0.464000                 0.046400         0.450000   \n",
       "12               0.400000                 0.040000         1.000000   \n",
       "13               0.636364                 0.057851         0.833333   \n",
       "14               0.458904                 0.076484         0.480000   \n",
       "15               0.431907                 0.053988         1.000000   \n",
       "16               0.555556                 0.111111         0.136364   \n",
       "17               0.666667                 0.166667         0.500000   \n",
       "18               0.422535                 0.032503         0.285714   \n",
       "19               0.527778                 0.087963         0.400000   \n",
       "20               1.000000                 0.333333         0.000000   \n",
       "21               0.571429                 0.043956         0.666667   \n",
       "22               0.757576                 0.058275         1.000000   \n",
       "23               0.666667                 0.066667         1.000000   \n",
       "24               0.437500                 0.039773         0.000000   \n",
       "25               0.625000                 0.089286         0.000000   \n",
       "26               0.477941                 0.036765         0.529412   \n",
       "27               0.342105                 0.042763         0.600000   \n",
       "28               0.805556                 0.061966         0.500000   \n",
       "29               0.714286                 0.357143         0.000000   \n",
       "...                   ...                      ...              ...   \n",
       "325510           0.333333                 0.083333         0.000000   \n",
       "325511           0.404762                 0.057823         0.187500   \n",
       "325512           0.416667                 0.104167         0.222222   \n",
       "325513           0.397436                 0.099359         0.315789   \n",
       "325514           0.800000                 0.080000         0.500000   \n",
       "325515           0.383085                 0.029468         0.437500   \n",
       "325516           0.354167                 0.044271         0.692308   \n",
       "325517           0.333333                 0.025641         1.000000   \n",
       "325518           0.638889                 0.049145         0.333333   \n",
       "325519           0.163185                 0.012553         0.515152   \n",
       "325520           0.846154                 0.094017         1.000000   \n",
       "325521           0.645161                 0.129032         1.000000   \n",
       "325522           0.482759                 0.080460         0.727273   \n",
       "325523           0.642857                 0.071429         0.571429   \n",
       "325524           0.440945                 0.110236         0.857143   \n",
       "325525           0.448980                 0.044898         0.400000   \n",
       "325526           0.440678                 0.110169         0.428571   \n",
       "325527           0.444444                 0.055556         0.400000   \n",
       "325528           0.298246                 0.029825         0.000000   \n",
       "325529           0.619048                 0.061905         0.333333   \n",
       "325530           0.416910                 0.032070         0.454545   \n",
       "325531           0.472727                 0.047273         0.666667   \n",
       "325532           0.374684                 0.046835         0.500000   \n",
       "325533           0.192771                 0.019277         0.318182   \n",
       "325534           0.696970                 0.232323         0.666667   \n",
       "325535           0.777778                 0.194444         0.666667   \n",
       "325536           0.616162                 0.102694         0.600000   \n",
       "325537           0.714286                 0.054945         0.500000   \n",
       "325538           0.512048                 0.039388         0.541667   \n",
       "325539           0.253333                 0.042222         0.222222   \n",
       "\n",
       "        pur_freq_unique_month  \n",
       "0                    0.026190  \n",
       "1                    0.133333  \n",
       "2                    0.076923  \n",
       "3                    0.069959  \n",
       "4                    0.095238  \n",
       "5                    0.031674  \n",
       "6                    0.064103  \n",
       "7                    0.034722  \n",
       "8                    0.090909  \n",
       "9                    0.044444  \n",
       "10                   0.098765  \n",
       "11                   0.045000  \n",
       "12                   0.100000  \n",
       "13                   0.075758  \n",
       "14                   0.080000  \n",
       "15                   0.125000  \n",
       "16                   0.027273  \n",
       "17                   0.125000  \n",
       "18                   0.021978  \n",
       "19                   0.066667  \n",
       "20                   0.000000  \n",
       "21                   0.051282  \n",
       "22                   0.076923  \n",
       "23                   0.100000  \n",
       "24                   0.000000  \n",
       "25                   0.000000  \n",
       "26                   0.040724  \n",
       "27                   0.075000  \n",
       "28                   0.038462  \n",
       "29                   0.000000  \n",
       "...                       ...  \n",
       "325510               0.000000  \n",
       "325511               0.026786  \n",
       "325512               0.055556  \n",
       "325513               0.078947  \n",
       "325514               0.050000  \n",
       "325515               0.033654  \n",
       "325516               0.086538  \n",
       "325517               0.076923  \n",
       "325518               0.025641  \n",
       "325519               0.039627  \n",
       "325520               0.111111  \n",
       "325521               0.200000  \n",
       "325522               0.121212  \n",
       "325523               0.063492  \n",
       "325524               0.214286  \n",
       "325525               0.040000  \n",
       "325526               0.107143  \n",
       "325527               0.050000  \n",
       "325528               0.000000  \n",
       "325529               0.033333  \n",
       "325530               0.034965  \n",
       "325531               0.066667  \n",
       "325532               0.062500  \n",
       "325533               0.031818  \n",
       "325534               0.222222  \n",
       "325535               0.166667  \n",
       "325536               0.100000  \n",
       "325537               0.038462  \n",
       "325538               0.041667  \n",
       "325539               0.037037  \n",
       "\n",
       "[325540 rows x 7 columns]"
      ]
     },
     "execution_count": 201,
     "metadata": {},
     "output_type": "execute_result"
    }
   ],
   "source": [
    "df_final"
   ]
  },
  {
   "cell_type": "code",
   "execution_count": 203,
   "metadata": {},
   "outputs": [],
   "source": [
    "df_final.columns=['card_id','pur_freq_unique', 'pur_freq_unique_month', 'auth_pur_freq_unique',\n",
    "       'auth_pur_freq_unique_month', 'nonauth_pur_freq_unique', 'nonauth_freq_unique_month']"
   ]
  },
  {
   "cell_type": "code",
   "execution_count": 204,
   "metadata": {
    "scrolled": true
   },
   "outputs": [
    {
     "data": {
      "text/plain": [
       "card_id                       False\n",
       "pur_freq_unique               False\n",
       "pur_freq_unique_month         False\n",
       "auth_pur_freq_unique          False\n",
       "auth_pur_freq_unique_month    False\n",
       "nonauth_pur_freq_unique       False\n",
       "nonauth_freq_unique_month     False\n",
       "dtype: bool"
      ]
     },
     "execution_count": 204,
     "metadata": {},
     "output_type": "execute_result"
    }
   ],
   "source": [
    "df_final.isnull().any()\n"
   ]
  },
  {
   "cell_type": "code",
   "execution_count": 206,
   "metadata": {},
   "outputs": [],
   "source": [
    "df_final.to_csv('merchants_map.csv',index=False)"
   ]
  },
  {
   "cell_type": "code",
   "execution_count": 207,
   "metadata": {},
   "outputs": [],
   "source": [
    "import numpy as np\n",
    "import lightgbm as lgb\n",
    "import pickle\n",
    "import pandas as pd\n",
    "\n",
    "import matplotlib.pyplot as plt\n",
    "%matplotlib inline\n",
    "\n",
    "from sklearn.model_selection import train_test_split\n",
    "from sklearn.metrics import roc_auc_score, roc_curve, mean_squared_error "
   ]
  },
  {
   "cell_type": "code",
   "execution_count": 208,
   "metadata": {},
   "outputs": [],
   "source": [
    "# train = pd.read_pickle('df_train.pickle')\n",
    "# test = pd.read_pickle('df_test.pickle')\n",
    "\n",
    "train = pd.read_csv('df_train_2_extra.csv')\n",
    "test = pd.read_csv('df_test_2_extra.csv')\n",
    "#target = np.loadtxt('wang.target.txt')\n",
    "target=train['target']\n",
    "outlier=train['outliers']\n",
    "#outlier = np.zeros(len(target), dtype=np.int)\n",
    "#outlier[target < -33] = 1"
   ]
  },
  {
   "cell_type": "code",
   "execution_count": 210,
   "metadata": {},
   "outputs": [],
   "source": [
    "data=pd.read_csv('merchants_map.csv')"
   ]
  },
  {
   "cell_type": "code",
   "execution_count": 218,
   "metadata": {},
   "outputs": [
    {
     "data": {
      "text/plain": [
       "(325540, 7)"
      ]
     },
     "execution_count": 218,
     "metadata": {},
     "output_type": "execute_result"
    }
   ],
   "source": [
    "data.shape"
   ]
  },
  {
   "cell_type": "code",
   "execution_count": 220,
   "metadata": {},
   "outputs": [],
   "source": [
    "train=train.merge(data,on='card_id')\n",
    "test=test.merge(data,on='card_id')"
   ]
  },
  {
   "cell_type": "code",
   "execution_count": 221,
   "metadata": {},
   "outputs": [],
   "source": [
    "feats = [c for c in train.columns if c not in ['card_id', 'first_active_month','target','outliers']]"
   ]
  },
  {
   "cell_type": "code",
   "execution_count": 222,
   "metadata": {},
   "outputs": [],
   "source": [
    "target_with_outlier = pd.DataFrame({\n",
    "    'target': target,\n",
    "    'outlier': outlier\n",
    "})"
   ]
  },
  {
   "cell_type": "code",
   "execution_count": 223,
   "metadata": {},
   "outputs": [],
   "source": [
    "X_tr, X_va, y_tr, y_va = train_test_split(train[feats].values, target_with_outlier, test_size=0.38, random_state=12)"
   ]
  },
  {
   "cell_type": "code",
   "execution_count": 224,
   "metadata": {},
   "outputs": [],
   "source": [
    "def get_lb(pred_target):\n",
    "    return mean_squared_error(y_va.target, pred_target) ** 0.5"
   ]
  },
  {
   "cell_type": "markdown",
   "metadata": {},
   "source": [
    "# Outliers predictions"
   ]
  },
  {
   "cell_type": "code",
   "execution_count": 228,
   "metadata": {},
   "outputs": [],
   "source": [
    "cl_param = {\n",
    "         'num_leaves': 31,\n",
    "         'min_data_in_leaf': 20, \n",
    "         'objective':'binary',\n",
    "         'max_depth': -1,\n",
    "         'learning_rate': 0.01,\n",
    "         \"boosting\": \"gbdt\",\n",
    "         \"feature_fraction\": 0.9, #\n",
    "         \"bagging_freq\": 1,\n",
    "         \"bagging_fraction\": 0.9, #\n",
    "         \"metric\": 'auc',\n",
    "         \"lambda_l1\": 0.1,\n",
    "         \"verbosity\": -1,\n",
    "         \"scale_pos_weight\": 15,\n",
    "}"
   ]
  },
  {
   "cell_type": "code",
   "execution_count": 226,
   "metadata": {},
   "outputs": [],
   "source": [
    "tr_data = lgb.Dataset(X_tr, label=y_tr.outlier)"
   ]
  },
  {
   "cell_type": "code",
   "execution_count": 229,
   "metadata": {},
   "outputs": [
    {
     "name": "stdout",
     "output_type": "stream",
     "text": [
      "[100]\tcv_agg's auc: 0.902945 + 0.00734746\n",
      "[200]\tcv_agg's auc: 0.904339 + 0.00709242\n",
      "[300]\tcv_agg's auc: 0.904113 + 0.0072194\n",
      "[400]\tcv_agg's auc: 0.903562 + 0.00720682\n",
      "[500]\tcv_agg's auc: 0.902888 + 0.00729769\n",
      "[600]\tcv_agg's auc: 0.902122 + 0.00729537\n",
      "[700]\tcv_agg's auc: 0.901353 + 0.00731498\n",
      "[800]\tcv_agg's auc: 0.900676 + 0.00745622\n"
     ]
    }
   ],
   "source": [
    "cv_score = lgb.cv(cl_param, tr_data, 10000, early_stopping_rounds=600, verbose_eval=100)"
   ]
  },
  {
   "cell_type": "code",
   "execution_count": 230,
   "metadata": {},
   "outputs": [
    {
     "name": "stdout",
     "output_type": "stream",
     "text": [
      "best num:  234 \n",
      "best score: 0.9044947779733421\n"
     ]
    }
   ],
   "source": [
    "print('best num: ', len(cv_score['auc-mean']), '\\nbest score:', cv_score['auc-mean'][-1])"
   ]
  },
  {
   "cell_type": "code",
   "execution_count": 231,
   "metadata": {},
   "outputs": [
    {
     "name": "stdout",
     "output_type": "stream",
     "text": [
      "[100]\ttraining's auc: 0.967096\n",
      "[200]\ttraining's auc: 0.974609\n",
      "[300]\ttraining's auc: 0.980398\n",
      "[400]\ttraining's auc: 0.984948\n"
     ]
    }
   ],
   "source": [
    "clf = lgb.train(cl_param, tr_data, 400, valid_sets=(tr_data), verbose_eval=100)"
   ]
  },
  {
   "cell_type": "code",
   "execution_count": 233,
   "metadata": {},
   "outputs": [
    {
     "data": {
      "text/plain": [
       "0.903642710498444"
      ]
     },
     "execution_count": 233,
     "metadata": {},
     "output_type": "execute_result"
    }
   ],
   "source": [
    "# Slightly better than previous results (0.902935029308729)\n",
    "prob = clf.predict(X_va, num_iteration=clf.best_iteration)\n",
    "roc_auc_score(y_va.outlier, prob)"
   ]
  },
  {
   "cell_type": "markdown",
   "metadata": {},
   "source": [
    "## Regression"
   ]
  },
  {
   "cell_type": "code",
   "execution_count": 235,
   "metadata": {},
   "outputs": [
    {
     "name": "stdout",
     "output_type": "stream",
     "text": [
      "[200]\tcv_agg's rmse: 3.65345 + 0.122583\n",
      "[400]\tcv_agg's rmse: 3.634 + 0.121164\n",
      "[600]\tcv_agg's rmse: 3.62711 + 0.121091\n",
      "[800]\tcv_agg's rmse: 3.62482 + 0.120194\n",
      "[1000]\tcv_agg's rmse: 3.6244 + 0.120639\n",
      "[1200]\tcv_agg's rmse: 3.6242 + 0.12108\n",
      "[1400]\tcv_agg's rmse: 3.62423 + 0.121415\n",
      "[1600]\tcv_agg's rmse: 3.62488 + 0.122439\n"
     ]
    }
   ],
   "source": [
    "rg_param = {\n",
    "         'num_leaves': 31,\n",
    "         'min_data_in_leaf': 20,\n",
    "         'objective':'regression',\n",
    "         'max_depth': -1,\n",
    "         'learning_rate': 0.01,\n",
    "         \"boosting\": \"gbdt\",\n",
    "         \"feature_fraction\": 0.9,\n",
    "         \"bagging_freq\": 1,\n",
    "         \"bagging_fraction\": 0.9,\n",
    "         \"metric\": 'rmse',\n",
    "         \"lambda_l1\": 0.1,\n",
    "         \"verbosity\": -1,\n",
    "         \n",
    "}\n",
    "tr_data = lgb.Dataset(X_tr, label=y_tr.target)\n",
    "cv_score = lgb.cv(rg_param, tr_data, 10000, early_stopping_rounds=600, verbose_eval=200, stratified=False)"
   ]
  },
  {
   "cell_type": "code",
   "execution_count": 236,
   "metadata": {},
   "outputs": [
    {
     "name": "stdout",
     "output_type": "stream",
     "text": [
      "best num:  1172 \n",
      "best score: 3.624118993720347\n"
     ]
    }
   ],
   "source": [
    "print('best num: ', len(cv_score['rmse-mean']), '\\nbest score:', cv_score['rmse-mean'][-1])"
   ]
  },
  {
   "cell_type": "code",
   "execution_count": 237,
   "metadata": {},
   "outputs": [
    {
     "name": "stdout",
     "output_type": "stream",
     "text": [
      "[200]\ttraining's rmse: 3.4861\n",
      "[400]\ttraining's rmse: 3.3683\n",
      "[600]\ttraining's rmse: 3.29015\n",
      "[800]\ttraining's rmse: 3.23059\n",
      "[1000]\ttraining's rmse: 3.1771\n",
      "[1200]\ttraining's rmse: 3.12849\n",
      "[1400]\ttraining's rmse: 3.083\n",
      "[1600]\ttraining's rmse: 3.03736\n",
      "[1800]\ttraining's rmse: 2.99701\n",
      "[2000]\ttraining's rmse: 2.95647\n"
     ]
    }
   ],
   "source": [
    "clf = lgb.train(rg_param, tr_data, 2000, valid_sets=(tr_data), verbose_eval=200)"
   ]
  },
  {
   "cell_type": "code",
   "execution_count": 238,
   "metadata": {},
   "outputs": [
    {
     "data": {
      "text/plain": [
       "3.6998631401240067"
      ]
     },
     "execution_count": 238,
     "metadata": {},
     "output_type": "execute_result"
    }
   ],
   "source": [
    "pred = clf.predict(X_va, num_iteration=clf.best_iteration)\n",
    "get_lb(pred)\n",
    "# small improvement than previous results 3.7026626002538454"
   ]
  },
  {
   "cell_type": "code",
   "execution_count": 239,
   "metadata": {},
   "outputs": [
    {
     "name": "stdout",
     "output_type": "stream",
     "text": [
      "[200]\tcv_agg's rmse: 3.68231 + 0.0292198\n",
      "[400]\tcv_agg's rmse: 3.66166 + 0.0279358\n",
      "[600]\tcv_agg's rmse: 3.65358 + 0.0271903\n",
      "[800]\tcv_agg's rmse: 3.65077 + 0.0271296\n",
      "[1000]\tcv_agg's rmse: 3.65013 + 0.0271201\n",
      "[1200]\tcv_agg's rmse: 3.65004 + 0.0267076\n",
      "[1400]\tcv_agg's rmse: 3.6498 + 0.0262773\n",
      "[1600]\tcv_agg's rmse: 3.64973 + 0.0261065\n",
      "[1800]\tcv_agg's rmse: 3.64974 + 0.0258073\n",
      "[2000]\tcv_agg's rmse: 3.65008 + 0.025922\n"
     ]
    }
   ],
   "source": [
    "rg_param = {\n",
    "         'num_leaves': 31,\n",
    "         'min_data_in_leaf': 20,\n",
    "         'objective':'regression',\n",
    "         'max_depth': -1,\n",
    "         'learning_rate': 0.01,\n",
    "         \"boosting\": \"gbdt\",\n",
    "         \"feature_fraction\": 0.9,\n",
    "         \"bagging_freq\": 1,\n",
    "         \"bagging_fraction\": 0.9,\n",
    "         \"metric\": 'rmse',\n",
    "         \"lambda_l1\": 0.1,\n",
    "         \"verbosity\": -1,\n",
    "         \n",
    "}\n",
    "tr_data = lgb.Dataset(train[feats], label=train.target)\n",
    "cv_score = lgb.cv(rg_param, tr_data, 10000, early_stopping_rounds=600, verbose_eval=200, stratified=False)"
   ]
  },
  {
   "cell_type": "code",
   "execution_count": 240,
   "metadata": {},
   "outputs": [
    {
     "name": "stdout",
     "output_type": "stream",
     "text": [
      "best num:  1429 \n",
      "best score: 3.6496132351691117\n"
     ]
    }
   ],
   "source": [
    "print('best num: ', len(cv_score['rmse-mean']), '\\nbest score:', cv_score['rmse-mean'][-1])"
   ]
  },
  {
   "cell_type": "code",
   "execution_count": 241,
   "metadata": {},
   "outputs": [
    {
     "name": "stdout",
     "output_type": "stream",
     "text": [
      "[200]\ttraining's rmse: 3.56656\n",
      "[400]\ttraining's rmse: 3.46941\n",
      "[600]\ttraining's rmse: 3.40747\n",
      "[800]\ttraining's rmse: 3.36017\n",
      "[1000]\ttraining's rmse: 3.3212\n",
      "[1200]\ttraining's rmse: 3.28551\n",
      "[1400]\ttraining's rmse: 3.252\n",
      "[1600]\ttraining's rmse: 3.21674\n",
      "[1800]\ttraining's rmse: 3.18612\n",
      "[2000]\ttraining's rmse: 3.15434\n"
     ]
    }
   ],
   "source": [
    "clf = lgb.train(rg_param, tr_data, 2000, valid_sets=(tr_data), verbose_eval=200)"
   ]
  },
  {
   "cell_type": "code",
   "execution_count": 242,
   "metadata": {},
   "outputs": [],
   "source": [
    "pred = clf.predict(test[feats], num_iteration=clf.best_iteration)"
   ]
  },
  {
   "cell_type": "code",
   "execution_count": 245,
   "metadata": {},
   "outputs": [],
   "source": [
    "test['target']=pred"
   ]
  },
  {
   "cell_type": "code",
   "execution_count": 247,
   "metadata": {},
   "outputs": [],
   "source": [
    "test[['card_id','target']].to_csv('submission_with_merchats.csv',index=False)"
   ]
  },
  {
   "cell_type": "code",
   "execution_count": 248,
   "metadata": {},
   "outputs": [
    {
     "data": {
      "text/html": [
       "<div>\n",
       "<style scoped>\n",
       "    .dataframe tbody tr th:only-of-type {\n",
       "        vertical-align: middle;\n",
       "    }\n",
       "\n",
       "    .dataframe tbody tr th {\n",
       "        vertical-align: top;\n",
       "    }\n",
       "\n",
       "    .dataframe thead th {\n",
       "        text-align: right;\n",
       "    }\n",
       "</style>\n",
       "<table border=\"1\" class=\"dataframe\">\n",
       "  <thead>\n",
       "    <tr style=\"text-align: right;\">\n",
       "      <th></th>\n",
       "      <th>card_id</th>\n",
       "      <th>target</th>\n",
       "    </tr>\n",
       "  </thead>\n",
       "  <tbody>\n",
       "    <tr>\n",
       "      <th>0</th>\n",
       "      <td>C_ID_0ab67a22ab</td>\n",
       "      <td>-2.304720</td>\n",
       "    </tr>\n",
       "    <tr>\n",
       "      <th>1</th>\n",
       "      <td>C_ID_130fd0cbdd</td>\n",
       "      <td>-0.465607</td>\n",
       "    </tr>\n",
       "    <tr>\n",
       "      <th>2</th>\n",
       "      <td>C_ID_b709037bc5</td>\n",
       "      <td>-0.982526</td>\n",
       "    </tr>\n",
       "    <tr>\n",
       "      <th>3</th>\n",
       "      <td>C_ID_d27d835a9f</td>\n",
       "      <td>-0.095061</td>\n",
       "    </tr>\n",
       "    <tr>\n",
       "      <th>4</th>\n",
       "      <td>C_ID_2b5e3df5c2</td>\n",
       "      <td>-1.288827</td>\n",
       "    </tr>\n",
       "  </tbody>\n",
       "</table>\n",
       "</div>"
      ],
      "text/plain": [
       "           card_id    target\n",
       "0  C_ID_0ab67a22ab -2.304720\n",
       "1  C_ID_130fd0cbdd -0.465607\n",
       "2  C_ID_b709037bc5 -0.982526\n",
       "3  C_ID_d27d835a9f -0.095061\n",
       "4  C_ID_2b5e3df5c2 -1.288827"
      ]
     },
     "execution_count": 248,
     "metadata": {},
     "output_type": "execute_result"
    }
   ],
   "source": [
    "check=pd.read_csv('submission_with_merchats.csv')\n",
    "check.head()"
   ]
  },
  {
   "cell_type": "code",
   "execution_count": 250,
   "metadata": {},
   "outputs": [],
   "source": [
    "check=pd.read_csv('submission.csv')"
   ]
  },
  {
   "cell_type": "code",
   "execution_count": 251,
   "metadata": {},
   "outputs": [
    {
     "data": {
      "text/html": [
       "<div>\n",
       "<style scoped>\n",
       "    .dataframe tbody tr th:only-of-type {\n",
       "        vertical-align: middle;\n",
       "    }\n",
       "\n",
       "    .dataframe tbody tr th {\n",
       "        vertical-align: top;\n",
       "    }\n",
       "\n",
       "    .dataframe thead th {\n",
       "        text-align: right;\n",
       "    }\n",
       "</style>\n",
       "<table border=\"1\" class=\"dataframe\">\n",
       "  <thead>\n",
       "    <tr style=\"text-align: right;\">\n",
       "      <th></th>\n",
       "      <th>card_id</th>\n",
       "      <th>target</th>\n",
       "    </tr>\n",
       "  </thead>\n",
       "  <tbody>\n",
       "    <tr>\n",
       "      <th>0</th>\n",
       "      <td>C_ID_0ab67a22ab</td>\n",
       "      <td>-2.730562</td>\n",
       "    </tr>\n",
       "    <tr>\n",
       "      <th>1</th>\n",
       "      <td>C_ID_130fd0cbdd</td>\n",
       "      <td>-0.245508</td>\n",
       "    </tr>\n",
       "    <tr>\n",
       "      <th>2</th>\n",
       "      <td>C_ID_b709037bc5</td>\n",
       "      <td>-0.895980</td>\n",
       "    </tr>\n",
       "    <tr>\n",
       "      <th>3</th>\n",
       "      <td>C_ID_d27d835a9f</td>\n",
       "      <td>-0.154691</td>\n",
       "    </tr>\n",
       "    <tr>\n",
       "      <th>4</th>\n",
       "      <td>C_ID_2b5e3df5c2</td>\n",
       "      <td>-1.264231</td>\n",
       "    </tr>\n",
       "  </tbody>\n",
       "</table>\n",
       "</div>"
      ],
      "text/plain": [
       "           card_id    target\n",
       "0  C_ID_0ab67a22ab -2.730562\n",
       "1  C_ID_130fd0cbdd -0.245508\n",
       "2  C_ID_b709037bc5 -0.895980\n",
       "3  C_ID_d27d835a9f -0.154691\n",
       "4  C_ID_2b5e3df5c2 -1.264231"
      ]
     },
     "execution_count": 251,
     "metadata": {},
     "output_type": "execute_result"
    }
   ],
   "source": [
    "check.head()"
   ]
  },
  {
   "cell_type": "markdown",
   "metadata": {},
   "source": [
    "# Let's check one by one "
   ]
  },
  {
   "cell_type": "code",
   "execution_count": 253,
   "metadata": {
    "scrolled": true
   },
   "outputs": [
    {
     "data": {
      "text/plain": [
       "['pur_freq_unique',\n",
       " 'pur_freq_unique_month',\n",
       " 'auth_pur_freq_unique',\n",
       " 'auth_pur_freq_unique_month',\n",
       " 'nonauth_pur_freq_unique',\n",
       " 'nonauth_freq_unique_month']"
      ]
     },
     "execution_count": 253,
     "metadata": {},
     "output_type": "execute_result"
    }
   ],
   "source": [
    "feats[-6:]"
   ]
  },
  {
   "cell_type": "code",
   "execution_count": 261,
   "metadata": {},
   "outputs": [],
   "source": [
    "feats.remove('pur_freq_unique')"
   ]
  },
  {
   "cell_type": "code",
   "execution_count": 260,
   "metadata": {},
   "outputs": [],
   "source": [
    "feats_to_remove=feats[-6:][:]"
   ]
  },
  {
   "cell_type": "code",
   "execution_count": 271,
   "metadata": {},
   "outputs": [
    {
     "name": "stdout",
     "output_type": "stream",
     "text": [
      "[200]\tcv_agg's rmse: 3.67446 + 0.0658473\n",
      "[400]\tcv_agg's rmse: 3.6543 + 0.0636794\n",
      "[600]\tcv_agg's rmse: 3.64709 + 0.0634064\n",
      "[800]\tcv_agg's rmse: 3.64434 + 0.0630859\n",
      "[1000]\tcv_agg's rmse: 3.64368 + 0.0633575\n",
      "[1200]\tcv_agg's rmse: 3.6434 + 0.0634779\n",
      "[1400]\tcv_agg's rmse: 3.64342 + 0.0627258\n",
      "[1600]\tcv_agg's rmse: 3.64389 + 0.0625041\n",
      "[1800]\tcv_agg's rmse: 3.64415 + 0.0626921\n",
      "best num:  1225 \n",
      "best score: 3.6432888323737664\n",
      "[200]\ttraining's rmse: 3.54864\n",
      "[400]\ttraining's rmse: 3.45079\n",
      "[600]\ttraining's rmse: 3.3844\n",
      "[800]\ttraining's rmse: 3.33506\n",
      "[1000]\ttraining's rmse: 3.29204\n",
      "[1200]\ttraining's rmse: 3.25451\n",
      "[1400]\ttraining's rmse: 3.21599\n",
      "[1600]\ttraining's rmse: 3.18052\n",
      "[1800]\ttraining's rmse: 3.14556\n",
      "[2000]\ttraining's rmse: 3.11245\n",
      "[200]\tcv_agg's rmse: 3.67385 + 0.0652736\n",
      "[400]\tcv_agg's rmse: 3.65408 + 0.063005\n",
      "[600]\tcv_agg's rmse: 3.64677 + 0.0625379\n",
      "[800]\tcv_agg's rmse: 3.64419 + 0.0623363\n",
      "[1000]\tcv_agg's rmse: 3.64328 + 0.0626654\n",
      "[1200]\tcv_agg's rmse: 3.64314 + 0.062608\n",
      "[1400]\tcv_agg's rmse: 3.64304 + 0.0624028\n",
      "[1600]\tcv_agg's rmse: 3.64359 + 0.0624076\n",
      "[1800]\tcv_agg's rmse: 3.64398 + 0.0620753\n",
      "best num:  1395 \n",
      "best score: 3.642963458380403\n",
      "[200]\ttraining's rmse: 3.54838\n",
      "[400]\ttraining's rmse: 3.44879\n",
      "[600]\ttraining's rmse: 3.38425\n",
      "[800]\ttraining's rmse: 3.33382\n",
      "[1000]\ttraining's rmse: 3.29098\n",
      "[1200]\ttraining's rmse: 3.25225\n",
      "[1400]\ttraining's rmse: 3.21393\n",
      "[1600]\ttraining's rmse: 3.1786\n",
      "[1800]\ttraining's rmse: 3.14489\n",
      "[2000]\ttraining's rmse: 3.11281\n",
      "[200]\tcv_agg's rmse: 3.67536 + 0.064792\n",
      "[400]\tcv_agg's rmse: 3.65576 + 0.0633495\n",
      "[600]\tcv_agg's rmse: 3.64829 + 0.0633789\n",
      "[800]\tcv_agg's rmse: 3.64593 + 0.0634673\n",
      "[1000]\tcv_agg's rmse: 3.64533 + 0.0635706\n",
      "[1200]\tcv_agg's rmse: 3.64521 + 0.0634899\n",
      "[1400]\tcv_agg's rmse: 3.64545 + 0.0630529\n",
      "[1600]\tcv_agg's rmse: 3.64528 + 0.062878\n",
      "best num:  1158 \n",
      "best score: 3.645140506414972\n",
      "[200]\ttraining's rmse: 3.54948\n",
      "[400]\ttraining's rmse: 3.45111\n",
      "[600]\ttraining's rmse: 3.38347\n",
      "[800]\ttraining's rmse: 3.33325\n",
      "[1000]\ttraining's rmse: 3.28987\n",
      "[1200]\ttraining's rmse: 3.25134\n",
      "[1400]\ttraining's rmse: 3.21286\n",
      "[1600]\ttraining's rmse: 3.17668\n",
      "[1800]\ttraining's rmse: 3.14174\n",
      "[2000]\ttraining's rmse: 3.10753\n",
      "[200]\tcv_agg's rmse: 3.67496 + 0.0654526\n",
      "[400]\tcv_agg's rmse: 3.65613 + 0.0637873\n",
      "[600]\tcv_agg's rmse: 3.64857 + 0.0641425\n",
      "[800]\tcv_agg's rmse: 3.64589 + 0.0639435\n",
      "[1000]\tcv_agg's rmse: 3.64517 + 0.0640561\n",
      "[1200]\tcv_agg's rmse: 3.64464 + 0.0639461\n",
      "[1400]\tcv_agg's rmse: 3.64459 + 0.063854\n",
      "[1600]\tcv_agg's rmse: 3.64483 + 0.0634742\n",
      "[1800]\tcv_agg's rmse: 3.64509 + 0.0639086\n",
      "best num:  1396 \n",
      "best score: 3.6445256325926842\n",
      "[200]\ttraining's rmse: 3.54834\n",
      "[400]\ttraining's rmse: 3.45061\n",
      "[600]\ttraining's rmse: 3.38424\n",
      "[800]\ttraining's rmse: 3.33284\n",
      "[1000]\ttraining's rmse: 3.28798\n",
      "[1200]\ttraining's rmse: 3.24926\n",
      "[1400]\ttraining's rmse: 3.21212\n",
      "[1600]\ttraining's rmse: 3.17709\n",
      "[1800]\ttraining's rmse: 3.14315\n",
      "[2000]\ttraining's rmse: 3.11004\n",
      "[200]\tcv_agg's rmse: 3.67531 + 0.0648784\n",
      "[400]\tcv_agg's rmse: 3.65671 + 0.0630056\n",
      "[600]\tcv_agg's rmse: 3.64961 + 0.062665\n",
      "[800]\tcv_agg's rmse: 3.64702 + 0.0626382\n",
      "[1000]\tcv_agg's rmse: 3.64636 + 0.0625096\n",
      "[1200]\tcv_agg's rmse: 3.64585 + 0.062861\n",
      "[1400]\tcv_agg's rmse: 3.64554 + 0.0626728\n",
      "[1600]\tcv_agg's rmse: 3.64596 + 0.0624263\n",
      "[1800]\tcv_agg's rmse: 3.64628 + 0.0622764\n",
      "best num:  1378 \n",
      "best score: 3.6454962565043396\n",
      "[200]\ttraining's rmse: 3.54853\n",
      "[400]\ttraining's rmse: 3.44981\n",
      "[600]\ttraining's rmse: 3.38379\n",
      "[800]\ttraining's rmse: 3.33366\n",
      "[1000]\ttraining's rmse: 3.2887\n",
      "[1200]\ttraining's rmse: 3.2504\n",
      "[1400]\ttraining's rmse: 3.21302\n",
      "[1600]\ttraining's rmse: 3.17688\n",
      "[1800]\ttraining's rmse: 3.14313\n",
      "[2000]\ttraining's rmse: 3.10947\n",
      "[200]\tcv_agg's rmse: 3.67596 + 0.0662132\n",
      "[400]\tcv_agg's rmse: 3.65666 + 0.064121\n",
      "[600]\tcv_agg's rmse: 3.64939 + 0.0637227\n",
      "[800]\tcv_agg's rmse: 3.64671 + 0.06366\n",
      "[1000]\tcv_agg's rmse: 3.64556 + 0.0641499\n",
      "[1200]\tcv_agg's rmse: 3.64534 + 0.0640076\n",
      "[1400]\tcv_agg's rmse: 3.64544 + 0.0636625\n",
      "[1600]\tcv_agg's rmse: 3.6455 + 0.0634445\n",
      "best num:  1185 \n",
      "best score: 3.6452598075140883\n",
      "[200]\ttraining's rmse: 3.54848\n",
      "[400]\ttraining's rmse: 3.44962\n",
      "[600]\ttraining's rmse: 3.38297\n",
      "[800]\ttraining's rmse: 3.33231\n",
      "[1000]\ttraining's rmse: 3.28916\n",
      "[1200]\ttraining's rmse: 3.25011\n",
      "[1400]\ttraining's rmse: 3.21241\n",
      "[1600]\ttraining's rmse: 3.17768\n",
      "[1800]\ttraining's rmse: 3.1444\n",
      "[2000]\ttraining's rmse: 3.11075\n"
     ]
    }
   ],
   "source": [
    "feats = [c for c in train.columns if c not in ['card_id', 'first_active_month','target','outliers']]\n",
    "feats_to_remove=feats[-6:][:]\n",
    "\n",
    "results=[]\n",
    "predictions=pd.DataFrame()\n",
    "predictions_test=pd.DataFrame()\n",
    "for item in feats_to_remove:\n",
    "    feats.remove(item)\n",
    "    X_tr, X_va, y_tr, y_va = train_test_split(train[feats].values, target_with_outlier, test_size=0.10, random_state=12)\n",
    "\n",
    "    rg_param = {\n",
    "             'num_leaves': 31,\n",
    "             'min_data_in_leaf': 20,\n",
    "             'objective':'regression',\n",
    "             'max_depth': -1,\n",
    "             'learning_rate': 0.01,\n",
    "             \"boosting\": \"gbdt\",\n",
    "             \"feature_fraction\": 0.9,\n",
    "             \"bagging_freq\": 1,\n",
    "             \"bagging_fraction\": 0.9,\n",
    "             \"metric\": 'rmse',\n",
    "             \"lambda_l1\": 0.1,\n",
    "             \"verbosity\": -1,\n",
    "\n",
    "    }\n",
    "    tr_data = lgb.Dataset(X_tr, label=y_tr.target)\n",
    "    cv_score = lgb.cv(rg_param, tr_data, 10000, early_stopping_rounds=600, verbose_eval=200, stratified=False)\n",
    "\n",
    "    print('best num: ', len(cv_score['rmse-mean']), '\\nbest score:', cv_score['rmse-mean'][-1])\n",
    "\n",
    "    clf = lgb.train(rg_param, tr_data, 2000, valid_sets=(tr_data), verbose_eval=200)\n",
    "    pred = clf.predict(X_va, num_iteration=clf.best_iteration)\n",
    "    pred_test = clf.predict(test[feats], num_iteration=clf.best_iteration)\n",
    "    results.append(get_lb(pred))\n",
    "    predictions[item]=pred\n",
    "    predictions_test[item]=pred_test\n"
   ]
  },
  {
   "cell_type": "code",
   "execution_count": 272,
   "metadata": {},
   "outputs": [
    {
     "data": {
      "text/plain": [
       "[3.7153126450315446,\n",
       " 3.7163047225306935,\n",
       " 3.715715768050351,\n",
       " 3.717204255728074,\n",
       " 3.7172264715184706,\n",
       " 3.7144518960693516]"
      ]
     },
     "execution_count": 272,
     "metadata": {},
     "output_type": "execute_result"
    }
   ],
   "source": [
    "results"
   ]
  },
  {
   "cell_type": "code",
   "execution_count": 273,
   "metadata": {},
   "outputs": [
    {
     "name": "stdout",
     "output_type": "stream",
     "text": [
      "[200]\tcv_agg's rmse: 3.6742 + 0.0655648\n",
      "[400]\tcv_agg's rmse: 3.65491 + 0.0627464\n",
      "[600]\tcv_agg's rmse: 3.64762 + 0.0623429\n",
      "[800]\tcv_agg's rmse: 3.64522 + 0.0618497\n",
      "[1000]\tcv_agg's rmse: 3.64438 + 0.0621163\n",
      "[1200]\tcv_agg's rmse: 3.64388 + 0.0620205\n",
      "[1400]\tcv_agg's rmse: 3.64368 + 0.0616158\n",
      "[1600]\tcv_agg's rmse: 3.64415 + 0.0613986\n",
      "[1800]\tcv_agg's rmse: 3.64469 + 0.0610068\n",
      "best num:  1327 \n",
      "best score: 3.6435045058099695\n",
      "[200]\ttraining's rmse: 3.54755\n",
      "[400]\ttraining's rmse: 3.44802\n",
      "[600]\ttraining's rmse: 3.38134\n",
      "[800]\ttraining's rmse: 3.33297\n",
      "[1000]\ttraining's rmse: 3.29076\n",
      "[1200]\ttraining's rmse: 3.25225\n",
      "[1400]\ttraining's rmse: 3.21382\n",
      "[1600]\ttraining's rmse: 3.17801\n",
      "[1800]\ttraining's rmse: 3.14248\n",
      "[2000]\ttraining's rmse: 3.10848\n"
     ]
    }
   ],
   "source": [
    "feats = [c for c in train.columns if c not in ['card_id', 'first_active_month','target','outliers']]\n",
    "\n",
    "X_tr, X_va, y_tr, y_va = train_test_split(train[feats].values, target_with_outlier, test_size=0.10, random_state=12)\n",
    "\n",
    "rg_param = {\n",
    "         'num_leaves': 31,\n",
    "         'min_data_in_leaf': 20,\n",
    "         'objective':'regression',\n",
    "         'max_depth': -1,\n",
    "         'learning_rate': 0.01,\n",
    "         \"boosting\": \"gbdt\",\n",
    "         \"feature_fraction\": 0.9,\n",
    "         \"bagging_freq\": 1,\n",
    "         \"bagging_fraction\": 0.9,\n",
    "         \"metric\": 'rmse',\n",
    "         \"lambda_l1\": 0.1,\n",
    "         \"verbosity\": -1,\n",
    "\n",
    "}\n",
    "tr_data = lgb.Dataset(X_tr, label=y_tr.target)\n",
    "cv_score = lgb.cv(rg_param, tr_data, 10000, early_stopping_rounds=600, verbose_eval=200, stratified=False)\n",
    "\n",
    "print('best num: ', len(cv_score['rmse-mean']), '\\nbest score:', cv_score['rmse-mean'][-1])\n",
    "\n",
    "clf = lgb.train(rg_param, tr_data, 2000, valid_sets=(tr_data), verbose_eval=200)\n",
    "pred = clf.predict(X_va, num_iteration=clf.best_iteration)\n",
    "pred_test = clf.predict(test[feats], num_iteration=clf.best_iteration)\n",
    "results.append(get_lb(pred))\n",
    "predictions['all']=pred\n",
    "predictions_test['all']=pred_test\n"
   ]
  },
  {
   "cell_type": "code",
   "execution_count": 274,
   "metadata": {},
   "outputs": [
    {
     "data": {
      "text/plain": [
       "[3.7153126450315446,\n",
       " 3.7163047225306935,\n",
       " 3.715715768050351,\n",
       " 3.717204255728074,\n",
       " 3.7172264715184706,\n",
       " 3.7144518960693516,\n",
       " 3.7128954654832427]"
      ]
     },
     "execution_count": 274,
     "metadata": {},
     "output_type": "execute_result"
    }
   ],
   "source": [
    "results\n"
   ]
  },
  {
   "cell_type": "code",
   "execution_count": null,
   "metadata": {},
   "outputs": [],
   "source": []
  }
 ],
 "metadata": {
  "kernelspec": {
   "display_name": "Python 3",
   "language": "python",
   "name": "python3"
  },
  "language_info": {
   "codemirror_mode": {
    "name": "ipython",
    "version": 3
   },
   "file_extension": ".py",
   "mimetype": "text/x-python",
   "name": "python",
   "nbconvert_exporter": "python",
   "pygments_lexer": "ipython3",
   "version": "3.6.4"
  }
 },
 "nbformat": 4,
 "nbformat_minor": 2
}
