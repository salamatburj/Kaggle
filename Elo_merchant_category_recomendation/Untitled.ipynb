{
 "cells": [
  {
   "cell_type": "code",
   "execution_count": 2,
   "metadata": {},
   "outputs": [],
   "source": [
    "import numpy as np\n",
    "import pandas as pd\n",
    "import datetime\n",
    "import gc\n",
    "import matplotlib.pyplot as plt\n",
    "import seaborn as sns\n",
    "import lightgbm as lgb\n",
    "from sklearn.model_selection import StratifiedKFold\n",
    "from sklearn.metrics import mean_squared_error\n",
    "import warnings\n",
    "warnings.filterwarnings('ignore')\n",
    "np.random.seed(4590)"
   ]
  },
  {
   "cell_type": "code",
   "execution_count": 2,
   "metadata": {},
   "outputs": [],
   "source": [
    "def reduce_mem_usage(df, verbose=True):\n",
    "    numerics = ['int16', 'int32', 'int64', 'float16', 'float32', 'float64']\n",
    "    start_mem = df.memory_usage().sum() / 1024**2    \n",
    "    for col in df.columns:\n",
    "        col_type = df[col].dtypes\n",
    "        if col_type in numerics:\n",
    "            c_min = df[col].min()\n",
    "            c_max = df[col].max(\n",
    "            )\n",
    "            if str(col_type)[:3] == 'int':\n",
    "                if c_min > np.iinfo(np.int8).min and c_max < np.iinfo(np.int8).max:\n",
    "                    df[col] = df[col].astype(np.int8)\n",
    "                elif c_min > np.iinfo(np.int16).min and c_max < np.iinfo(np.int16).max:\n",
    "                    df[col] = df[col].astype(np.int16)\n",
    "                elif c_min > np.iinfo(np.int32).min and c_max < np.iinfo(np.int32).max:\n",
    "                    df[col] = df[col].astype(np.int32)\n",
    "                elif c_min > np.iinfo(np.int64).min and c_max < np.iinfo(np.int64).max:\n",
    "                    df[col] = df[col].astype(np.int64)  \n",
    "            else:\n",
    "                if c_min > np.finfo(np.float16).min and c_max < np.finfo(np.float16).max:\n",
    "                    df[col] = df[col].astype(np.float16)\n",
    "                elif c_min > np.finfo(np.float32).min and c_max < np.finfo(np.float32).max:\n",
    "                    df[col] = df[col].astype(np.float32)\n",
    "                else:\n",
    "                    df[col] = df[col].astype(np.float64)    \n",
    "    end_mem = df.memory_usage().sum() / 1024**2\n",
    "    if verbose: print('Mem. usage decreased to {:5.2f} Mb ({:.1f}% reduction)'.format(end_mem, 100 * (start_mem - end_mem) / start_mem))\n",
    "    return df"
   ]
  },
  {
   "cell_type": "code",
   "execution_count": 29,
   "metadata": {},
   "outputs": [],
   "source": [
    "df_train = pd.read_csv('C:/Users/user/Documents/Salamat/ELO/train.csv')\n",
    "df_test = pd.read_csv('C:/Users/user/Documents/Salamat/ELO/test.csv')\n",
    "# df_hist_trans = pd.read_csv('C:/Users/user/Documents/Salamat/ELO/historical_transactions.csv')\n",
    "# df_new_merchant_trans = pd.read_csv('C:/Users/user/Documents/Salamat/ELO/new_merchant_transactions.csv')"
   ]
  },
  {
   "cell_type": "code",
   "execution_count": 4,
   "metadata": {},
   "outputs": [
    {
     "name": "stdout",
     "output_type": "stream",
     "text": [
      "Mem. usage decreased to  4.04 Mb (56.2% reduction)\n",
      "Mem. usage decreased to  2.24 Mb (52.5% reduction)\n",
      "Mem. usage decreased to 1749.11 Mb (43.7% reduction)\n",
      "Mem. usage decreased to 114.20 Mb (45.5% reduction)\n"
     ]
    }
   ],
   "source": [
    "df_train=reduce_mem_usage(df_train)\n",
    "df_test=reduce_mem_usage(df_test)\n",
    "df_hist_trans=reduce_mem_usage(df_hist_trans)\n",
    "df_new_merchant_trans=reduce_mem_usage(df_new_merchant_trans)"
   ]
  },
  {
   "cell_type": "code",
   "execution_count": 9,
   "metadata": {},
   "outputs": [
    {
     "data": {
      "image/png": "[encoded data removed]",
      "text/plain": [
       "<matplotlib.figure.Figure at 0x15a6c7a8208>"
      ]
     },
     "metadata": {},
     "output_type": "display_data"
    }
   ],
   "source": [
    "plt.figure()\n",
    "df_train.target.hist(bins=100)\n",
    "plt.yscale('log')"
   ]
  },
  {
   "cell_type": "code",
   "execution_count": 21,
   "metadata": {},
   "outputs": [],
   "source": [
    "index_out=df_train[df_train.target<-30].card_id.values"
   ]
  },
  {
   "cell_type": "code",
   "execution_count": 28,
   "metadata": {},
   "outputs": [
    {
     "data": {
      "text/plain": [
       "(2207,)"
      ]
     },
     "execution_count": 28,
     "metadata": {},
     "output_type": "execute_result"
    }
   ],
   "source": [
    "index_out.shape"
   ]
  },
  {
   "cell_type": "code",
   "execution_count": 31,
   "metadata": {},
   "outputs": [
    {
     "name": "stdout",
     "output_type": "stream",
     "text": [
      "Percentage of outliers in provided data\n",
      "1.0930233709890698\n"
     ]
    }
   ],
   "source": [
    "print(\"Percentage of outliers in provided data\")\n",
    "print(index_out.shape[0]/df_train.shape[0]*100)"
   ]
  },
  {
   "cell_type": "code",
   "execution_count": null,
   "metadata": {},
   "outputs": [],
   "source": [
    "df_hist_trans\n",
    "df_new_merchant_trans"
   ]
  },
  {
   "cell_type": "code",
   "execution_count": 27,
   "metadata": {},
   "outputs": [
    {
     "data": {
      "text/plain": [
       "(180105, 14)"
      ]
     },
     "execution_count": 27,
     "metadata": {},
     "output_type": "execute_result"
    }
   ],
   "source": [
    "df_hist_trans[df_hist_trans.card_id.isin(index_out)].shape"
   ]
  },
  {
   "cell_type": "code",
   "execution_count": 39,
   "metadata": {},
   "outputs": [],
   "source": [
    "hist_out=df_hist_trans[df_hist_trans.card_id.isin(index_out)]"
   ]
  },
  {
   "cell_type": "code",
   "execution_count": 44,
   "metadata": {},
   "outputs": [
    {
     "data": {
      "text/plain": [
       " 9     53712\n",
       "-1     37040\n",
       " 15    13728\n",
       " 16    12148\n",
       " 22     6971\n",
       " 5      6937\n",
       " 19     5832\n",
       " 4      5308\n",
       " 20     5164\n",
       " 13     4404\n",
       " 11     3864\n",
       " 21     3763\n",
       " 3      3699\n",
       " 12     2990\n",
       " 24     2462\n",
       " 7      2222\n",
       " 2      1982\n",
       " 18     1649\n",
       " 10     1602\n",
       " 8      1136\n",
       " 23     1019\n",
       " 14      959\n",
       " 1       812\n",
       " 17      668\n",
       " 6        34\n",
       "Name: state_id, dtype: int64"
      ]
     },
     "execution_count": 44,
     "metadata": {},
     "output_type": "execute_result"
    }
   ],
   "source": [
    "hist_out.state_id.value_counts()"
   ]
  },
  {
   "cell_type": "code",
   "execution_count": 57,
   "metadata": {},
   "outputs": [
    {
     "data": {
      "text/plain": [
       "0    199710\n",
       "1      2207\n",
       "Name: outliers, dtype: int64"
      ]
     },
     "execution_count": 57,
     "metadata": {},
     "output_type": "execute_result"
    }
   ],
   "source": [
    "df_train['outliers'] = 0\n",
    "df_train.loc[df_train['target'] < -30, 'outliers'] = 1\n",
    "df_train['outliers'].value_counts()"
   ]
  },
  {
   "cell_type": "code",
   "execution_count": 59,
   "metadata": {},
   "outputs": [
    {
     "data": {
      "text/plain": [
       "array([-33.21928095])"
      ]
     },
     "execution_count": 59,
     "metadata": {},
     "output_type": "execute_result"
    }
   ],
   "source": [
    "df_train[df_train['outliers']==1].target.unique()"
   ]
  },
  {
   "cell_type": "code",
   "execution_count": 61,
   "metadata": {},
   "outputs": [
    {
     "data": {
      "text/plain": [
       "17.9650684"
      ]
     },
     "execution_count": 61,
     "metadata": {},
     "output_type": "execute_result"
    }
   ],
   "source": [
    "df_train[df_train['outliers']==0].target.max()"
   ]
  },
  {
   "cell_type": "code",
   "execution_count": 62,
   "metadata": {},
   "outputs": [
    {
     "data": {
      "text/plain": [
       "-17.608146510000001"
      ]
     },
     "execution_count": 62,
     "metadata": {},
     "output_type": "execute_result"
    }
   ],
   "source": [
    "df_train[df_train['outliers']==0].target.min()"
   ]
  },
  {
   "cell_type": "code",
   "execution_count": 63,
   "metadata": {
    "scrolled": true
   },
   "outputs": [
    {
     "data": {
      "text/plain": [
       "0.010544299051383967"
      ]
     },
     "execution_count": 63,
     "metadata": {},
     "output_type": "execute_result"
    }
   ],
   "source": [
    "df_train['outliers'].corr(df_train['feature_1'])"
   ]
  },
  {
   "cell_type": "code",
   "execution_count": 64,
   "metadata": {},
   "outputs": [
    {
     "data": {
      "text/plain": [
       "0.0051907081306825312"
      ]
     },
     "execution_count": 64,
     "metadata": {},
     "output_type": "execute_result"
    }
   ],
   "source": [
    "df_train['outliers'].corr(df_train['feature_2'])"
   ]
  },
  {
   "cell_type": "code",
   "execution_count": 65,
   "metadata": {
    "scrolled": true
   },
   "outputs": [
    {
     "data": {
      "text/plain": [
       "0.0054570917423288953"
      ]
     },
     "execution_count": 65,
     "metadata": {},
     "output_type": "execute_result"
    }
   ],
   "source": [
    "df_train['outliers'].corr(df_train['feature_3'])"
   ]
  },
  {
   "cell_type": "code",
   "execution_count": 66,
   "metadata": {},
   "outputs": [],
   "source": [
    " order_label = df_train.groupby(['feature_1'])['outliers'].mean()"
   ]
  },
  {
   "cell_type": "code",
   "execution_count": 67,
   "metadata": {},
   "outputs": [
    {
     "data": {
      "text/plain": [
       "feature_1\n",
       "1    0.008058\n",
       "2    0.010610\n",
       "3    0.010479\n",
       "4    0.010712\n",
       "5    0.013145\n",
       "Name: outliers, dtype: float64"
      ]
     },
     "execution_count": 67,
     "metadata": {},
     "output_type": "execute_result"
    }
   ],
   "source": [
    "order_label"
   ]
  },
  {
   "cell_type": "code",
   "execution_count": null,
   "metadata": {},
   "outputs": [],
   "source": []
  },
  {
   "cell_type": "code",
   "execution_count": null,
   "metadata": {},
   "outputs": [],
   "source": []
  },
  {
   "cell_type": "code",
   "execution_count": 49,
   "metadata": {},
   "outputs": [],
   "source": [
    "for f in ['feature_1','feature_2','feature_3']:\n",
    "    order_label = df_train.groupby([f])['outliers'].mean()\n",
    "    df_train[f] = df_train[f].map(order_label)\n",
    "    df_test[f] = df_test[f].map(order_label)"
   ]
  },
  {
   "cell_type": "code",
   "execution_count": 54,
   "metadata": {},
   "outputs": [
    {
     "data": {
      "text/html": [
       "<div>\n",
       "<style scoped>\n",
       "    .dataframe tbody tr th:only-of-type {\n",
       "        vertical-align: middle;\n",
       "    }\n",
       "\n",
       "    .dataframe tbody tr th {\n",
       "        vertical-align: top;\n",
       "    }\n",
       "\n",
       "    .dataframe thead th {\n",
       "        text-align: right;\n",
       "    }\n",
       "</style>\n",
       "<table border=\"1\" class=\"dataframe\">\n",
       "  <thead>\n",
       "    <tr style=\"text-align: right;\">\n",
       "      <th></th>\n",
       "      <th>first_active_month</th>\n",
       "      <th>card_id</th>\n",
       "      <th>feature_1</th>\n",
       "      <th>feature_2</th>\n",
       "      <th>feature_3</th>\n",
       "      <th>target</th>\n",
       "      <th>outliers</th>\n",
       "    </tr>\n",
       "  </thead>\n",
       "  <tbody>\n",
       "    <tr>\n",
       "      <th>0</th>\n",
       "      <td>2017-06</td>\n",
       "      <td>C_ID_92a2005557</td>\n",
       "      <td>0.013145</td>\n",
       "      <td>0.008752</td>\n",
       "      <td>0.011428</td>\n",
       "      <td>-0.820312</td>\n",
       "      <td>0</td>\n",
       "    </tr>\n",
       "    <tr>\n",
       "      <th>1</th>\n",
       "      <td>2017-01</td>\n",
       "      <td>C_ID_3d0044924f</td>\n",
       "      <td>0.010712</td>\n",
       "      <td>0.011385</td>\n",
       "      <td>0.010283</td>\n",
       "      <td>0.392822</td>\n",
       "      <td>0</td>\n",
       "    </tr>\n",
       "    <tr>\n",
       "      <th>2</th>\n",
       "      <td>2016-08</td>\n",
       "      <td>C_ID_d639edf6cd</td>\n",
       "      <td>0.010610</td>\n",
       "      <td>0.008752</td>\n",
       "      <td>0.010283</td>\n",
       "      <td>0.687988</td>\n",
       "      <td>0</td>\n",
       "    </tr>\n",
       "    <tr>\n",
       "      <th>3</th>\n",
       "      <td>2017-09</td>\n",
       "      <td>C_ID_186d6a6901</td>\n",
       "      <td>0.010712</td>\n",
       "      <td>0.014166</td>\n",
       "      <td>0.010283</td>\n",
       "      <td>0.142456</td>\n",
       "      <td>0</td>\n",
       "    </tr>\n",
       "    <tr>\n",
       "      <th>4</th>\n",
       "      <td>2017-11</td>\n",
       "      <td>C_ID_cdbd2c0db2</td>\n",
       "      <td>0.008058</td>\n",
       "      <td>0.014166</td>\n",
       "      <td>0.010283</td>\n",
       "      <td>-0.159790</td>\n",
       "      <td>0</td>\n",
       "    </tr>\n",
       "    <tr>\n",
       "      <th>5</th>\n",
       "      <td>2016-09</td>\n",
       "      <td>C_ID_0894217f2f</td>\n",
       "      <td>0.010712</td>\n",
       "      <td>0.008752</td>\n",
       "      <td>0.010283</td>\n",
       "      <td>0.871582</td>\n",
       "      <td>0</td>\n",
       "    </tr>\n",
       "    <tr>\n",
       "      <th>6</th>\n",
       "      <td>2016-12</td>\n",
       "      <td>C_ID_7e63323c00</td>\n",
       "      <td>0.010479</td>\n",
       "      <td>0.008752</td>\n",
       "      <td>0.011428</td>\n",
       "      <td>0.230103</td>\n",
       "      <td>0</td>\n",
       "    </tr>\n",
       "    <tr>\n",
       "      <th>7</th>\n",
       "      <td>2017-09</td>\n",
       "      <td>C_ID_dfa21fc124</td>\n",
       "      <td>0.010479</td>\n",
       "      <td>0.008752</td>\n",
       "      <td>0.011428</td>\n",
       "      <td>2.136719</td>\n",
       "      <td>0</td>\n",
       "    </tr>\n",
       "    <tr>\n",
       "      <th>8</th>\n",
       "      <td>2017-08</td>\n",
       "      <td>C_ID_fe0fdac8ea</td>\n",
       "      <td>0.010610</td>\n",
       "      <td>0.011385</td>\n",
       "      <td>0.010283</td>\n",
       "      <td>-0.065430</td>\n",
       "      <td>0</td>\n",
       "    </tr>\n",
       "    <tr>\n",
       "      <th>9</th>\n",
       "      <td>2016-08</td>\n",
       "      <td>C_ID_bf62c0b49d</td>\n",
       "      <td>0.010610</td>\n",
       "      <td>0.008752</td>\n",
       "      <td>0.010283</td>\n",
       "      <td>0.300049</td>\n",
       "      <td>0</td>\n",
       "    </tr>\n",
       "    <tr>\n",
       "      <th>10</th>\n",
       "      <td>2016-10</td>\n",
       "      <td>C_ID_92853cdb2c</td>\n",
       "      <td>0.013145</td>\n",
       "      <td>0.008752</td>\n",
       "      <td>0.011428</td>\n",
       "      <td>-1.029297</td>\n",
       "      <td>0</td>\n",
       "    </tr>\n",
       "    <tr>\n",
       "      <th>11</th>\n",
       "      <td>2016-03</td>\n",
       "      <td>C_ID_269d816788</td>\n",
       "      <td>0.010610</td>\n",
       "      <td>0.008752</td>\n",
       "      <td>0.010283</td>\n",
       "      <td>-2.433594</td>\n",
       "      <td>0</td>\n",
       "    </tr>\n",
       "    <tr>\n",
       "      <th>12</th>\n",
       "      <td>2017-09</td>\n",
       "      <td>C_ID_61d50d7057</td>\n",
       "      <td>0.013145</td>\n",
       "      <td>0.008752</td>\n",
       "      <td>0.011428</td>\n",
       "      <td>1.304688</td>\n",
       "      <td>0</td>\n",
       "    </tr>\n",
       "    <tr>\n",
       "      <th>13</th>\n",
       "      <td>2017-04</td>\n",
       "      <td>C_ID_4e07413433</td>\n",
       "      <td>0.010610</td>\n",
       "      <td>0.011385</td>\n",
       "      <td>0.010283</td>\n",
       "      <td>0.093628</td>\n",
       "      <td>0</td>\n",
       "    </tr>\n",
       "    <tr>\n",
       "      <th>14</th>\n",
       "      <td>2017-08</td>\n",
       "      <td>C_ID_b6302b31c6</td>\n",
       "      <td>0.010479</td>\n",
       "      <td>0.008752</td>\n",
       "      <td>0.011428</td>\n",
       "      <td>1.597656</td>\n",
       "      <td>0</td>\n",
       "    </tr>\n",
       "    <tr>\n",
       "      <th>15</th>\n",
       "      <td>2017-02</td>\n",
       "      <td>C_ID_3b69154173</td>\n",
       "      <td>0.010610</td>\n",
       "      <td>0.011385</td>\n",
       "      <td>0.010283</td>\n",
       "      <td>1.010742</td>\n",
       "      <td>0</td>\n",
       "    </tr>\n",
       "    <tr>\n",
       "      <th>16</th>\n",
       "      <td>2016-07</td>\n",
       "      <td>C_ID_9feec11e78</td>\n",
       "      <td>0.010610</td>\n",
       "      <td>0.008752</td>\n",
       "      <td>0.010283</td>\n",
       "      <td>1.131836</td>\n",
       "      <td>0</td>\n",
       "    </tr>\n",
       "    <tr>\n",
       "      <th>17</th>\n",
       "      <td>2016-12</td>\n",
       "      <td>C_ID_f6658dbefe</td>\n",
       "      <td>0.010712</td>\n",
       "      <td>0.008752</td>\n",
       "      <td>0.010283</td>\n",
       "      <td>0.318115</td>\n",
       "      <td>0</td>\n",
       "    </tr>\n",
       "    <tr>\n",
       "      <th>18</th>\n",
       "      <td>2017-11</td>\n",
       "      <td>C_ID_4a7dda0f9e</td>\n",
       "      <td>0.010610</td>\n",
       "      <td>0.011385</td>\n",
       "      <td>0.010283</td>\n",
       "      <td>0.757324</td>\n",
       "      <td>0</td>\n",
       "    </tr>\n",
       "    <tr>\n",
       "      <th>19</th>\n",
       "      <td>2017-01</td>\n",
       "      <td>C_ID_6adae2a906</td>\n",
       "      <td>0.010712</td>\n",
       "      <td>0.011385</td>\n",
       "      <td>0.010283</td>\n",
       "      <td>0.334229</td>\n",
       "      <td>0</td>\n",
       "    </tr>\n",
       "    <tr>\n",
       "      <th>20</th>\n",
       "      <td>2017-09</td>\n",
       "      <td>C_ID_0b70ca7347</td>\n",
       "      <td>0.013145</td>\n",
       "      <td>0.008752</td>\n",
       "      <td>0.011428</td>\n",
       "      <td>1.442383</td>\n",
       "      <td>0</td>\n",
       "    </tr>\n",
       "    <tr>\n",
       "      <th>21</th>\n",
       "      <td>2016-06</td>\n",
       "      <td>C_ID_25b2509282</td>\n",
       "      <td>0.008058</td>\n",
       "      <td>0.008752</td>\n",
       "      <td>0.010283</td>\n",
       "      <td>4.746094</td>\n",
       "      <td>0</td>\n",
       "    </tr>\n",
       "    <tr>\n",
       "      <th>22</th>\n",
       "      <td>2017-09</td>\n",
       "      <td>C_ID_82fb11db22</td>\n",
       "      <td>0.010610</td>\n",
       "      <td>0.008752</td>\n",
       "      <td>0.010283</td>\n",
       "      <td>0.464355</td>\n",
       "      <td>0</td>\n",
       "    </tr>\n",
       "    <tr>\n",
       "      <th>23</th>\n",
       "      <td>2017-10</td>\n",
       "      <td>C_ID_e03db05bde</td>\n",
       "      <td>0.010610</td>\n",
       "      <td>0.008752</td>\n",
       "      <td>0.010283</td>\n",
       "      <td>-0.529785</td>\n",
       "      <td>0</td>\n",
       "    </tr>\n",
       "    <tr>\n",
       "      <th>24</th>\n",
       "      <td>2015-10</td>\n",
       "      <td>C_ID_dcb7c76747</td>\n",
       "      <td>0.013145</td>\n",
       "      <td>0.011385</td>\n",
       "      <td>0.011428</td>\n",
       "      <td>-0.084961</td>\n",
       "      <td>0</td>\n",
       "    </tr>\n",
       "    <tr>\n",
       "      <th>25</th>\n",
       "      <td>2016-04</td>\n",
       "      <td>C_ID_749cfc0c3a</td>\n",
       "      <td>0.010610</td>\n",
       "      <td>0.008752</td>\n",
       "      <td>0.010283</td>\n",
       "      <td>1.525391</td>\n",
       "      <td>0</td>\n",
       "    </tr>\n",
       "    <tr>\n",
       "      <th>26</th>\n",
       "      <td>2017-07</td>\n",
       "      <td>C_ID_4a97126360</td>\n",
       "      <td>0.010610</td>\n",
       "      <td>0.014166</td>\n",
       "      <td>0.010283</td>\n",
       "      <td>-0.090759</td>\n",
       "      <td>0</td>\n",
       "    </tr>\n",
       "    <tr>\n",
       "      <th>27</th>\n",
       "      <td>2017-09</td>\n",
       "      <td>C_ID_17dea8d446</td>\n",
       "      <td>0.010479</td>\n",
       "      <td>0.014166</td>\n",
       "      <td>0.011428</td>\n",
       "      <td>-1.361328</td>\n",
       "      <td>0</td>\n",
       "    </tr>\n",
       "    <tr>\n",
       "      <th>28</th>\n",
       "      <td>2016-01</td>\n",
       "      <td>C_ID_fcef0dfd67</td>\n",
       "      <td>0.013145</td>\n",
       "      <td>0.011385</td>\n",
       "      <td>0.011428</td>\n",
       "      <td>0.727051</td>\n",
       "      <td>0</td>\n",
       "    </tr>\n",
       "    <tr>\n",
       "      <th>29</th>\n",
       "      <td>2016-06</td>\n",
       "      <td>C_ID_82868156f0</td>\n",
       "      <td>0.013145</td>\n",
       "      <td>0.008752</td>\n",
       "      <td>0.011428</td>\n",
       "      <td>1.143555</td>\n",
       "      <td>0</td>\n",
       "    </tr>\n",
       "    <tr>\n",
       "      <th>...</th>\n",
       "      <td>...</td>\n",
       "      <td>...</td>\n",
       "      <td>...</td>\n",
       "      <td>...</td>\n",
       "      <td>...</td>\n",
       "      <td>...</td>\n",
       "      <td>...</td>\n",
       "    </tr>\n",
       "    <tr>\n",
       "      <th>201887</th>\n",
       "      <td>2017-01</td>\n",
       "      <td>C_ID_fa343b1b60</td>\n",
       "      <td>0.010610</td>\n",
       "      <td>0.008752</td>\n",
       "      <td>0.010283</td>\n",
       "      <td>0.193237</td>\n",
       "      <td>0</td>\n",
       "    </tr>\n",
       "    <tr>\n",
       "      <th>201888</th>\n",
       "      <td>2016-08</td>\n",
       "      <td>C_ID_8fb51d131f</td>\n",
       "      <td>0.010712</td>\n",
       "      <td>0.008752</td>\n",
       "      <td>0.010283</td>\n",
       "      <td>0.076477</td>\n",
       "      <td>0</td>\n",
       "    </tr>\n",
       "    <tr>\n",
       "      <th>201889</th>\n",
       "      <td>2017-07</td>\n",
       "      <td>C_ID_ea7df02b8d</td>\n",
       "      <td>0.010479</td>\n",
       "      <td>0.008752</td>\n",
       "      <td>0.011428</td>\n",
       "      <td>-0.024216</td>\n",
       "      <td>0</td>\n",
       "    </tr>\n",
       "    <tr>\n",
       "      <th>201890</th>\n",
       "      <td>2015-09</td>\n",
       "      <td>C_ID_82554b8b1f</td>\n",
       "      <td>0.010610</td>\n",
       "      <td>0.008752</td>\n",
       "      <td>0.010283</td>\n",
       "      <td>0.666016</td>\n",
       "      <td>0</td>\n",
       "    </tr>\n",
       "    <tr>\n",
       "      <th>201891</th>\n",
       "      <td>2016-10</td>\n",
       "      <td>C_ID_ec1fdc9c13</td>\n",
       "      <td>0.013145</td>\n",
       "      <td>0.008752</td>\n",
       "      <td>0.011428</td>\n",
       "      <td>-1.327148</td>\n",
       "      <td>0</td>\n",
       "    </tr>\n",
       "    <tr>\n",
       "      <th>201892</th>\n",
       "      <td>2017-04</td>\n",
       "      <td>C_ID_be5a444ff5</td>\n",
       "      <td>0.010712</td>\n",
       "      <td>0.014166</td>\n",
       "      <td>0.010283</td>\n",
       "      <td>0.130005</td>\n",
       "      <td>0</td>\n",
       "    </tr>\n",
       "    <tr>\n",
       "      <th>201893</th>\n",
       "      <td>2017-10</td>\n",
       "      <td>C_ID_6c40a68e73</td>\n",
       "      <td>0.013145</td>\n",
       "      <td>0.011385</td>\n",
       "      <td>0.011428</td>\n",
       "      <td>1.047852</td>\n",
       "      <td>0</td>\n",
       "    </tr>\n",
       "    <tr>\n",
       "      <th>201894</th>\n",
       "      <td>2015-07</td>\n",
       "      <td>C_ID_d02dd24e29</td>\n",
       "      <td>0.010610</td>\n",
       "      <td>0.008752</td>\n",
       "      <td>0.010283</td>\n",
       "      <td>-0.882812</td>\n",
       "      <td>0</td>\n",
       "    </tr>\n",
       "    <tr>\n",
       "      <th>201895</th>\n",
       "      <td>2017-01</td>\n",
       "      <td>C_ID_2e16d5537d</td>\n",
       "      <td>0.013145</td>\n",
       "      <td>0.011385</td>\n",
       "      <td>0.011428</td>\n",
       "      <td>-0.549316</td>\n",
       "      <td>0</td>\n",
       "    </tr>\n",
       "    <tr>\n",
       "      <th>201896</th>\n",
       "      <td>2015-03</td>\n",
       "      <td>C_ID_808ba69dff</td>\n",
       "      <td>0.010479</td>\n",
       "      <td>0.014166</td>\n",
       "      <td>0.011428</td>\n",
       "      <td>-0.616699</td>\n",
       "      <td>0</td>\n",
       "    </tr>\n",
       "    <tr>\n",
       "      <th>201897</th>\n",
       "      <td>2016-11</td>\n",
       "      <td>C_ID_095bca2d92</td>\n",
       "      <td>0.013145</td>\n",
       "      <td>0.008752</td>\n",
       "      <td>0.011428</td>\n",
       "      <td>-0.133179</td>\n",
       "      <td>0</td>\n",
       "    </tr>\n",
       "    <tr>\n",
       "      <th>201898</th>\n",
       "      <td>2017-06</td>\n",
       "      <td>C_ID_123b4b8d1e</td>\n",
       "      <td>0.008058</td>\n",
       "      <td>0.011385</td>\n",
       "      <td>0.010283</td>\n",
       "      <td>-3.359375</td>\n",
       "      <td>0</td>\n",
       "    </tr>\n",
       "    <tr>\n",
       "      <th>201899</th>\n",
       "      <td>2017-10</td>\n",
       "      <td>C_ID_58e359763e</td>\n",
       "      <td>0.013145</td>\n",
       "      <td>0.011385</td>\n",
       "      <td>0.011428</td>\n",
       "      <td>-2.703125</td>\n",
       "      <td>0</td>\n",
       "    </tr>\n",
       "    <tr>\n",
       "      <th>201900</th>\n",
       "      <td>2017-07</td>\n",
       "      <td>C_ID_0032aebb26</td>\n",
       "      <td>0.010479</td>\n",
       "      <td>0.008752</td>\n",
       "      <td>0.011428</td>\n",
       "      <td>-0.151733</td>\n",
       "      <td>0</td>\n",
       "    </tr>\n",
       "    <tr>\n",
       "      <th>201901</th>\n",
       "      <td>2017-11</td>\n",
       "      <td>C_ID_3814ea6382</td>\n",
       "      <td>0.010479</td>\n",
       "      <td>0.008752</td>\n",
       "      <td>0.011428</td>\n",
       "      <td>-1.743164</td>\n",
       "      <td>0</td>\n",
       "    </tr>\n",
       "    <tr>\n",
       "      <th>201902</th>\n",
       "      <td>2017-01</td>\n",
       "      <td>C_ID_b9cd68366b</td>\n",
       "      <td>0.008058</td>\n",
       "      <td>0.014166</td>\n",
       "      <td>0.010283</td>\n",
       "      <td>1.001953</td>\n",
       "      <td>0</td>\n",
       "    </tr>\n",
       "    <tr>\n",
       "      <th>201903</th>\n",
       "      <td>2016-05</td>\n",
       "      <td>C_ID_b860347cb0</td>\n",
       "      <td>0.010479</td>\n",
       "      <td>0.008752</td>\n",
       "      <td>0.011428</td>\n",
       "      <td>0.251709</td>\n",
       "      <td>0</td>\n",
       "    </tr>\n",
       "    <tr>\n",
       "      <th>201904</th>\n",
       "      <td>2017-01</td>\n",
       "      <td>C_ID_debbad9dec</td>\n",
       "      <td>0.010479</td>\n",
       "      <td>0.014166</td>\n",
       "      <td>0.011428</td>\n",
       "      <td>-0.401367</td>\n",
       "      <td>0</td>\n",
       "    </tr>\n",
       "    <tr>\n",
       "      <th>201905</th>\n",
       "      <td>2017-06</td>\n",
       "      <td>C_ID_75a2251acf</td>\n",
       "      <td>0.010479</td>\n",
       "      <td>0.008752</td>\n",
       "      <td>0.011428</td>\n",
       "      <td>1.182617</td>\n",
       "      <td>0</td>\n",
       "    </tr>\n",
       "    <tr>\n",
       "      <th>201906</th>\n",
       "      <td>2017-02</td>\n",
       "      <td>C_ID_1f777cd9b3</td>\n",
       "      <td>0.010479</td>\n",
       "      <td>0.008752</td>\n",
       "      <td>0.011428</td>\n",
       "      <td>0.279785</td>\n",
       "      <td>0</td>\n",
       "    </tr>\n",
       "    <tr>\n",
       "      <th>201907</th>\n",
       "      <td>2017-06</td>\n",
       "      <td>C_ID_598ecf1dfe</td>\n",
       "      <td>0.010610</td>\n",
       "      <td>0.011385</td>\n",
       "      <td>0.010283</td>\n",
       "      <td>0.145630</td>\n",
       "      <td>0</td>\n",
       "    </tr>\n",
       "    <tr>\n",
       "      <th>201908</th>\n",
       "      <td>2016-06</td>\n",
       "      <td>C_ID_c2124fa8ce</td>\n",
       "      <td>0.010479</td>\n",
       "      <td>0.014166</td>\n",
       "      <td>0.011428</td>\n",
       "      <td>0.319336</td>\n",
       "      <td>0</td>\n",
       "    </tr>\n",
       "    <tr>\n",
       "      <th>201909</th>\n",
       "      <td>2014-10</td>\n",
       "      <td>C_ID_64545039d3</td>\n",
       "      <td>0.013145</td>\n",
       "      <td>0.011385</td>\n",
       "      <td>0.011428</td>\n",
       "      <td>-0.822266</td>\n",
       "      <td>0</td>\n",
       "    </tr>\n",
       "    <tr>\n",
       "      <th>201910</th>\n",
       "      <td>2017-10</td>\n",
       "      <td>C_ID_9072609210</td>\n",
       "      <td>0.010610</td>\n",
       "      <td>0.014166</td>\n",
       "      <td>0.010283</td>\n",
       "      <td>-1.752930</td>\n",
       "      <td>0</td>\n",
       "    </tr>\n",
       "    <tr>\n",
       "      <th>201911</th>\n",
       "      <td>2015-02</td>\n",
       "      <td>C_ID_0443db161f</td>\n",
       "      <td>0.010479</td>\n",
       "      <td>0.014166</td>\n",
       "      <td>0.011428</td>\n",
       "      <td>0.100159</td>\n",
       "      <td>0</td>\n",
       "    </tr>\n",
       "    <tr>\n",
       "      <th>201912</th>\n",
       "      <td>2017-09</td>\n",
       "      <td>C_ID_963962de2c</td>\n",
       "      <td>0.010479</td>\n",
       "      <td>0.008752</td>\n",
       "      <td>0.011428</td>\n",
       "      <td>-2.740234</td>\n",
       "      <td>0</td>\n",
       "    </tr>\n",
       "    <tr>\n",
       "      <th>201913</th>\n",
       "      <td>2015-10</td>\n",
       "      <td>C_ID_1314773c0b</td>\n",
       "      <td>0.010479</td>\n",
       "      <td>0.011385</td>\n",
       "      <td>0.011428</td>\n",
       "      <td>0.312988</td>\n",
       "      <td>0</td>\n",
       "    </tr>\n",
       "    <tr>\n",
       "      <th>201914</th>\n",
       "      <td>2017-08</td>\n",
       "      <td>C_ID_7666735b3d</td>\n",
       "      <td>0.010712</td>\n",
       "      <td>0.014166</td>\n",
       "      <td>0.010283</td>\n",
       "      <td>0.093506</td>\n",
       "      <td>0</td>\n",
       "    </tr>\n",
       "    <tr>\n",
       "      <th>201915</th>\n",
       "      <td>2016-07</td>\n",
       "      <td>C_ID_73f5a0efd0</td>\n",
       "      <td>0.010479</td>\n",
       "      <td>0.008752</td>\n",
       "      <td>0.011428</td>\n",
       "      <td>-4.675781</td>\n",
       "      <td>0</td>\n",
       "    </tr>\n",
       "    <tr>\n",
       "      <th>201916</th>\n",
       "      <td>2017-07</td>\n",
       "      <td>C_ID_92c9984c58</td>\n",
       "      <td>0.010479</td>\n",
       "      <td>0.011385</td>\n",
       "      <td>0.011428</td>\n",
       "      <td>-1.859375</td>\n",
       "      <td>0</td>\n",
       "    </tr>\n",
       "  </tbody>\n",
       "</table>\n",
       "<p>199710 rows × 7 columns</p>\n",
       "</div>"
      ],
      "text/plain": [
       "       first_active_month          card_id  feature_1  feature_2  feature_3  \\\n",
       "0                 2017-06  C_ID_92a2005557   0.013145   0.008752   0.011428   \n",
       "1                 2017-01  C_ID_3d0044924f   0.010712   0.011385   0.010283   \n",
       "2                 2016-08  C_ID_d639edf6cd   0.010610   0.008752   0.010283   \n",
       "3                 2017-09  C_ID_186d6a6901   0.010712   0.014166   0.010283   \n",
       "4                 2017-11  C_ID_cdbd2c0db2   0.008058   0.014166   0.010283   \n",
       "5                 2016-09  C_ID_0894217f2f   0.010712   0.008752   0.010283   \n",
       "6                 2016-12  C_ID_7e63323c00   0.010479   0.008752   0.011428   \n",
       "7                 2017-09  C_ID_dfa21fc124   0.010479   0.008752   0.011428   \n",
       "8                 2017-08  C_ID_fe0fdac8ea   0.010610   0.011385   0.010283   \n",
       "9                 2016-08  C_ID_bf62c0b49d   0.010610   0.008752   0.010283   \n",
       "10                2016-10  C_ID_92853cdb2c   0.013145   0.008752   0.011428   \n",
       "11                2016-03  C_ID_269d816788   0.010610   0.008752   0.010283   \n",
       "12                2017-09  C_ID_61d50d7057   0.013145   0.008752   0.011428   \n",
       "13                2017-04  C_ID_4e07413433   0.010610   0.011385   0.010283   \n",
       "14                2017-08  C_ID_b6302b31c6   0.010479   0.008752   0.011428   \n",
       "15                2017-02  C_ID_3b69154173   0.010610   0.011385   0.010283   \n",
       "16                2016-07  C_ID_9feec11e78   0.010610   0.008752   0.010283   \n",
       "17                2016-12  C_ID_f6658dbefe   0.010712   0.008752   0.010283   \n",
       "18                2017-11  C_ID_4a7dda0f9e   0.010610   0.011385   0.010283   \n",
       "19                2017-01  C_ID_6adae2a906   0.010712   0.011385   0.010283   \n",
       "20                2017-09  C_ID_0b70ca7347   0.013145   0.008752   0.011428   \n",
       "21                2016-06  C_ID_25b2509282   0.008058   0.008752   0.010283   \n",
       "22                2017-09  C_ID_82fb11db22   0.010610   0.008752   0.010283   \n",
       "23                2017-10  C_ID_e03db05bde   0.010610   0.008752   0.010283   \n",
       "24                2015-10  C_ID_dcb7c76747   0.013145   0.011385   0.011428   \n",
       "25                2016-04  C_ID_749cfc0c3a   0.010610   0.008752   0.010283   \n",
       "26                2017-07  C_ID_4a97126360   0.010610   0.014166   0.010283   \n",
       "27                2017-09  C_ID_17dea8d446   0.010479   0.014166   0.011428   \n",
       "28                2016-01  C_ID_fcef0dfd67   0.013145   0.011385   0.011428   \n",
       "29                2016-06  C_ID_82868156f0   0.013145   0.008752   0.011428   \n",
       "...                   ...              ...        ...        ...        ...   \n",
       "201887            2017-01  C_ID_fa343b1b60   0.010610   0.008752   0.010283   \n",
       "201888            2016-08  C_ID_8fb51d131f   0.010712   0.008752   0.010283   \n",
       "201889            2017-07  C_ID_ea7df02b8d   0.010479   0.008752   0.011428   \n",
       "201890            2015-09  C_ID_82554b8b1f   0.010610   0.008752   0.010283   \n",
       "201891            2016-10  C_ID_ec1fdc9c13   0.013145   0.008752   0.011428   \n",
       "201892            2017-04  C_ID_be5a444ff5   0.010712   0.014166   0.010283   \n",
       "201893            2017-10  C_ID_6c40a68e73   0.013145   0.011385   0.011428   \n",
       "201894            2015-07  C_ID_d02dd24e29   0.010610   0.008752   0.010283   \n",
       "201895            2017-01  C_ID_2e16d5537d   0.013145   0.011385   0.011428   \n",
       "201896            2015-03  C_ID_808ba69dff   0.010479   0.014166   0.011428   \n",
       "201897            2016-11  C_ID_095bca2d92   0.013145   0.008752   0.011428   \n",
       "201898            2017-06  C_ID_123b4b8d1e   0.008058   0.011385   0.010283   \n",
       "201899            2017-10  C_ID_58e359763e   0.013145   0.011385   0.011428   \n",
       "201900            2017-07  C_ID_0032aebb26   0.010479   0.008752   0.011428   \n",
       "201901            2017-11  C_ID_3814ea6382   0.010479   0.008752   0.011428   \n",
       "201902            2017-01  C_ID_b9cd68366b   0.008058   0.014166   0.010283   \n",
       "201903            2016-05  C_ID_b860347cb0   0.010479   0.008752   0.011428   \n",
       "201904            2017-01  C_ID_debbad9dec   0.010479   0.014166   0.011428   \n",
       "201905            2017-06  C_ID_75a2251acf   0.010479   0.008752   0.011428   \n",
       "201906            2017-02  C_ID_1f777cd9b3   0.010479   0.008752   0.011428   \n",
       "201907            2017-06  C_ID_598ecf1dfe   0.010610   0.011385   0.010283   \n",
       "201908            2016-06  C_ID_c2124fa8ce   0.010479   0.014166   0.011428   \n",
       "201909            2014-10  C_ID_64545039d3   0.013145   0.011385   0.011428   \n",
       "201910            2017-10  C_ID_9072609210   0.010610   0.014166   0.010283   \n",
       "201911            2015-02  C_ID_0443db161f   0.010479   0.014166   0.011428   \n",
       "201912            2017-09  C_ID_963962de2c   0.010479   0.008752   0.011428   \n",
       "201913            2015-10  C_ID_1314773c0b   0.010479   0.011385   0.011428   \n",
       "201914            2017-08  C_ID_7666735b3d   0.010712   0.014166   0.010283   \n",
       "201915            2016-07  C_ID_73f5a0efd0   0.010479   0.008752   0.011428   \n",
       "201916            2017-07  C_ID_92c9984c58   0.010479   0.011385   0.011428   \n",
       "\n",
       "          target  outliers  \n",
       "0      -0.820312         0  \n",
       "1       0.392822         0  \n",
       "2       0.687988         0  \n",
       "3       0.142456         0  \n",
       "4      -0.159790         0  \n",
       "5       0.871582         0  \n",
       "6       0.230103         0  \n",
       "7       2.136719         0  \n",
       "8      -0.065430         0  \n",
       "9       0.300049         0  \n",
       "10     -1.029297         0  \n",
       "11     -2.433594         0  \n",
       "12      1.304688         0  \n",
       "13      0.093628         0  \n",
       "14      1.597656         0  \n",
       "15      1.010742         0  \n",
       "16      1.131836         0  \n",
       "17      0.318115         0  \n",
       "18      0.757324         0  \n",
       "19      0.334229         0  \n",
       "20      1.442383         0  \n",
       "21      4.746094         0  \n",
       "22      0.464355         0  \n",
       "23     -0.529785         0  \n",
       "24     -0.084961         0  \n",
       "25      1.525391         0  \n",
       "26     -0.090759         0  \n",
       "27     -1.361328         0  \n",
       "28      0.727051         0  \n",
       "29      1.143555         0  \n",
       "...          ...       ...  \n",
       "201887  0.193237         0  \n",
       "201888  0.076477         0  \n",
       "201889 -0.024216         0  \n",
       "201890  0.666016         0  \n",
       "201891 -1.327148         0  \n",
       "201892  0.130005         0  \n",
       "201893  1.047852         0  \n",
       "201894 -0.882812         0  \n",
       "201895 -0.549316         0  \n",
       "201896 -0.616699         0  \n",
       "201897 -0.133179         0  \n",
       "201898 -3.359375         0  \n",
       "201899 -2.703125         0  \n",
       "201900 -0.151733         0  \n",
       "201901 -1.743164         0  \n",
       "201902  1.001953         0  \n",
       "201903  0.251709         0  \n",
       "201904 -0.401367         0  \n",
       "201905  1.182617         0  \n",
       "201906  0.279785         0  \n",
       "201907  0.145630         0  \n",
       "201908  0.319336         0  \n",
       "201909 -0.822266         0  \n",
       "201910 -1.752930         0  \n",
       "201911  0.100159         0  \n",
       "201912 -2.740234         0  \n",
       "201913  0.312988         0  \n",
       "201914  0.093506         0  \n",
       "201915 -4.675781         0  \n",
       "201916 -1.859375         0  \n",
       "\n",
       "[199710 rows x 7 columns]"
      ]
     },
     "execution_count": 54,
     "metadata": {},
     "output_type": "execute_result"
    }
   ],
   "source": [
    "df_train[df_train['outliers']==0]"
   ]
  },
  {
   "cell_type": "code",
   "execution_count": 68,
   "metadata": {},
   "outputs": [],
   "source": [
    "del df_hist_trans\n",
    "del df_new_merchant_trans"
   ]
  },
  {
   "cell_type": "code",
   "execution_count": 3,
   "metadata": {},
   "outputs": [],
   "source": [
    "df=pd.read_csv(\"chau_feature_engineering_3_date.csv\")"
   ]
  },
  {
   "cell_type": "code",
   "execution_count": 26,
   "metadata": {},
   "outputs": [
    {
     "data": {
      "text/plain": [
       "(245, 2)"
      ]
     },
     "execution_count": 26,
     "metadata": {},
     "output_type": "execute_result"
    }
   ],
   "source": [
    "df[df.target<-10].shape\n"
   ]
  },
  {
   "cell_type": "code",
   "execution_count": 42,
   "metadata": {},
   "outputs": [
    {
     "data": {
      "text/plain": [
       "0.9884891969940869"
      ]
     },
     "execution_count": 42,
     "metadata": {},
     "output_type": "execute_result"
    }
   ],
   "source": [
    "df[df.target<-5].shape[0]/df.shape[0]*100\n"
   ]
  },
  {
   "cell_type": "code",
   "execution_count": 16,
   "metadata": {},
   "outputs": [
    {
     "data": {
      "text/plain": [
       "<matplotlib.figure.Figure at 0x25a6a82a0f0>"
      ]
     },
     "metadata": {},
     "output_type": "display_data"
    },
    {
     "data": {
      "image/png": "[encoded data removed]",
      "text/plain": [
       "<matplotlib.figure.Figure at 0x25a6ac24358>"
      ]
     },
     "metadata": {},
     "output_type": "display_data"
    }
   ],
   "source": [
    "plt.figure()\n",
    "df.hist(bins=50)\n",
    "plt.yscale('log')\n"
   ]
  },
  {
   "cell_type": "code",
   "execution_count": 34,
   "metadata": {
    "scrolled": false
   },
   "outputs": [
    {
     "data": {
      "text/plain": [
       "1.0930233709890698"
      ]
     },
     "execution_count": 34,
     "metadata": {},
     "output_type": "execute_result"
    }
   ],
   "source": [
    "df_train[df_train.target<-20].shape[0]/df_train.shape[0]*100"
   ]
  },
  {
   "cell_type": "code",
   "execution_count": 58,
   "metadata": {},
   "outputs": [
    {
     "data": {
      "text/plain": [
       "(123623, 2)"
      ]
     },
     "execution_count": 58,
     "metadata": {},
     "output_type": "execute_result"
    }
   ],
   "source": [
    "df.shape"
   ]
  },
  {
   "cell_type": "code",
   "execution_count": 56,
   "metadata": {},
   "outputs": [],
   "source": [
    "df_changed=df.copy()\n"
   ]
  },
  {
   "cell_type": "code",
   "execution_count": 64,
   "metadata": {},
   "outputs": [
    {
     "data": {
      "text/html": [
       "<div>\n",
       "<style scoped>\n",
       "    .dataframe tbody tr th:only-of-type {\n",
       "        vertical-align: middle;\n",
       "    }\n",
       "\n",
       "    .dataframe tbody tr th {\n",
       "        vertical-align: top;\n",
       "    }\n",
       "\n",
       "    .dataframe thead th {\n",
       "        text-align: right;\n",
       "    }\n",
       "</style>\n",
       "<table border=\"1\" class=\"dataframe\">\n",
       "  <thead>\n",
       "    <tr style=\"text-align: right;\">\n",
       "      <th></th>\n",
       "      <th>card_id</th>\n",
       "      <th>target</th>\n",
       "    </tr>\n",
       "  </thead>\n",
       "  <tbody>\n",
       "    <tr>\n",
       "      <th>5008</th>\n",
       "      <td>C_ID_be92f84f5c</td>\n",
       "      <td>-21.208025</td>\n",
       "    </tr>\n",
       "    <tr>\n",
       "      <th>7750</th>\n",
       "      <td>C_ID_a74b12dcf8</td>\n",
       "      <td>-23.452014</td>\n",
       "    </tr>\n",
       "    <tr>\n",
       "      <th>20556</th>\n",
       "      <td>C_ID_aae50409e7</td>\n",
       "      <td>-21.288833</td>\n",
       "    </tr>\n",
       "    <tr>\n",
       "      <th>25568</th>\n",
       "      <td>C_ID_767923bdb9</td>\n",
       "      <td>-18.258673</td>\n",
       "    </tr>\n",
       "    <tr>\n",
       "      <th>27982</th>\n",
       "      <td>C_ID_e7f772dfc0</td>\n",
       "      <td>-17.808302</td>\n",
       "    </tr>\n",
       "    <tr>\n",
       "      <th>32446</th>\n",
       "      <td>C_ID_ac114ef831</td>\n",
       "      <td>-19.902603</td>\n",
       "    </tr>\n",
       "    <tr>\n",
       "      <th>35851</th>\n",
       "      <td>C_ID_5ee52cf9f6</td>\n",
       "      <td>-17.461169</td>\n",
       "    </tr>\n",
       "    <tr>\n",
       "      <th>43215</th>\n",
       "      <td>C_ID_dc60219f6c</td>\n",
       "      <td>-17.628725</td>\n",
       "    </tr>\n",
       "    <tr>\n",
       "      <th>47616</th>\n",
       "      <td>C_ID_eccc654bc9</td>\n",
       "      <td>-18.994837</td>\n",
       "    </tr>\n",
       "    <tr>\n",
       "      <th>61601</th>\n",
       "      <td>C_ID_55f33eeda6</td>\n",
       "      <td>-17.520793</td>\n",
       "    </tr>\n",
       "    <tr>\n",
       "      <th>77945</th>\n",
       "      <td>C_ID_6ab591cf62</td>\n",
       "      <td>-21.081354</td>\n",
       "    </tr>\n",
       "    <tr>\n",
       "      <th>100556</th>\n",
       "      <td>C_ID_70c457436a</td>\n",
       "      <td>-17.225248</td>\n",
       "    </tr>\n",
       "    <tr>\n",
       "      <th>103851</th>\n",
       "      <td>C_ID_877b879853</td>\n",
       "      <td>-20.843068</td>\n",
       "    </tr>\n",
       "    <tr>\n",
       "      <th>104991</th>\n",
       "      <td>C_ID_86ddafb51c</td>\n",
       "      <td>-18.412496</td>\n",
       "    </tr>\n",
       "    <tr>\n",
       "      <th>107443</th>\n",
       "      <td>C_ID_c38764a32f</td>\n",
       "      <td>-17.938126</td>\n",
       "    </tr>\n",
       "    <tr>\n",
       "      <th>107752</th>\n",
       "      <td>C_ID_0c22eb865e</td>\n",
       "      <td>-18.049507</td>\n",
       "    </tr>\n",
       "  </tbody>\n",
       "</table>\n",
       "</div>"
      ],
      "text/plain": [
       "                card_id     target\n",
       "5008    C_ID_be92f84f5c -21.208025\n",
       "7750    C_ID_a74b12dcf8 -23.452014\n",
       "20556   C_ID_aae50409e7 -21.288833\n",
       "25568   C_ID_767923bdb9 -18.258673\n",
       "27982   C_ID_e7f772dfc0 -17.808302\n",
       "32446   C_ID_ac114ef831 -19.902603\n",
       "35851   C_ID_5ee52cf9f6 -17.461169\n",
       "43215   C_ID_dc60219f6c -17.628725\n",
       "47616   C_ID_eccc654bc9 -18.994837\n",
       "61601   C_ID_55f33eeda6 -17.520793\n",
       "77945   C_ID_6ab591cf62 -21.081354\n",
       "100556  C_ID_70c457436a -17.225248\n",
       "103851  C_ID_877b879853 -20.843068\n",
       "104991  C_ID_86ddafb51c -18.412496\n",
       "107443  C_ID_c38764a32f -17.938126\n",
       "107752  C_ID_0c22eb865e -18.049507"
      ]
     },
     "execution_count": 64,
     "metadata": {},
     "output_type": "execute_result"
    }
   ],
   "source": [
    "df_changed[df_changed.target<-17]"
   ]
  },
  {
   "cell_type": "code",
   "execution_count": 65,
   "metadata": {},
   "outputs": [],
   "source": [
    "index=df_changed[df_changed.target<-17].index"
   ]
  },
  {
   "cell_type": "code",
   "execution_count": 66,
   "metadata": {},
   "outputs": [],
   "source": [
    "df_changed.loc[index,'target']=-33.219281"
   ]
  },
  {
   "cell_type": "code",
   "execution_count": 67,
   "metadata": {},
   "outputs": [],
   "source": [
    "df_changed.to_csv('chau_feature_engineering_3_date_manual_outliers.csv',index=False)"
   ]
  },
  {
   "cell_type": "code",
   "execution_count": null,
   "metadata": {},
   "outputs": [],
   "source": []
  }
 ],
 "metadata": {
  "kernelspec": {
   "display_name": "Python 3",
   "language": "python",
   "name": "python3"
  },
  "language_info": {
   "codemirror_mode": {
    "name": "ipython",
    "version": 3
   },
   "file_extension": ".py",
   "mimetype": "text/x-python",
   "name": "python",
   "nbconvert_exporter": "python",
   "pygments_lexer": "ipython3",
   "version": "3.6.4"
  }
 },
 "nbformat": 4,
 "nbformat_minor": 2
}
