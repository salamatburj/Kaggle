{
 "cells": [
  {
   "cell_type": "code",
   "execution_count": 1,
   "metadata": {
    "collapsed": true
   },
   "outputs": [],
   "source": []
  },
  {
   "cell_type": "code",
   "execution_count": 5,
   "metadata": {},
   "outputs": [
    {
     "name": "stdout",
     "output_type": "stream",
     "text": [
      "{ gamma: 0.1 }\n",
      "| accuracy:   0.100000 |\n",
      "This run of Digits Classifier ran for 0:00:01 and logs are available locally at: /Users/nus/.hyperdash/logs/digits-classifier/digits-classifier_2018-04-15t20-51-19-353744.log\n"
     ]
    }
   ],
   "source": [
    "from sklearn import svm, datasets\n",
    "from hyperdash import Experiment\n",
    "\n",
    "# Preprocess data\n",
    "digits = datasets.load_digits()\n",
    "test_cases = 50\n",
    "X_train, y_train = digits.data[:-test_cases], digits.target[:-test_cases]\n",
    "X_test, y_test = digits.data[-test_cases:], digits.target[-test_cases:]\n",
    "\n",
    "# Create an experiment with a model name, then autostart\n",
    "exp = Experiment(\"Digits Classifier\")\n",
    "# Record the value of hyperparameter gamma for this experiment\n",
    "gamma = exp.param(\"gamma\", 0.1)\n",
    "# Param can record any basic type (Number, Boolean, String)\n",
    "\n",
    "classifer = svm.SVC(gamma=gamma)\n",
    "classifer.fit(X_train, y_train)\n",
    "\n",
    "# Record a numerical performance metric\n",
    "exp.metric(\"accuracy\", classifer.score(X_test, y_test))\n",
    "\n",
    "# Cleanup and mark that the experiment successfully completed\n",
    "exp.end()\n"
   ]
  },
  {
   "cell_type": "code",
   "execution_count": null,
   "metadata": {
    "collapsed": true
   },
   "outputs": [],
   "source": []
  }
 ],
 "metadata": {
  "kernelspec": {
   "display_name": "Python 3",
   "language": "python",
   "name": "python3"
  },
  "language_info": {
   "codemirror_mode": {
    "name": "ipython",
    "version": 3
   },
   "file_extension": ".py",
   "mimetype": "text/x-python",
   "name": "python",
   "nbconvert_exporter": "python",
   "pygments_lexer": "ipython3",
   "version": "3.6.1"
  }
 },
 "nbformat": 4,
 "nbformat_minor": 2
}
