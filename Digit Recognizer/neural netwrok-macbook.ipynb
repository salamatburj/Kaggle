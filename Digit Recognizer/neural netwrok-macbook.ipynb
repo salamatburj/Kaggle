{
 "cells": [
  {
   "cell_type": "code",
   "execution_count": 1,
   "metadata": {
    "collapsed": true
   },
   "outputs": [],
   "source": [
    "import pandas as pd\n",
    "import numpy as np\n",
    "import matplotlib.pylab as plt\n",
    "%matplotlib notebook"
   ]
  },
  {
   "cell_type": "code",
   "execution_count": 2,
   "metadata": {
    "collapsed": true
   },
   "outputs": [],
   "source": [
    "train_data=pd.read_csv('train.csv')\n",
    "train_data.iloc[:,1:]=train_data.iloc[:,1:]/255 # normalize to 1, 255 is max\n",
    "test_data=pd.read_csv('test.csv')\n",
    "test_data=test_data/255 # normalize to 1, 255 is max"
   ]
  },
  {
   "cell_type": "code",
   "execution_count": 3,
   "metadata": {
    "scrolled": true
   },
   "outputs": [
    {
     "data": {
      "text/html": [
       "<div>\n",
       "<style>\n",
       "    .dataframe thead tr:only-child th {\n",
       "        text-align: right;\n",
       "    }\n",
       "\n",
       "    .dataframe thead th {\n",
       "        text-align: left;\n",
       "    }\n",
       "\n",
       "    .dataframe tbody tr th {\n",
       "        vertical-align: top;\n",
       "    }\n",
       "</style>\n",
       "<table border=\"1\" class=\"dataframe\">\n",
       "  <thead>\n",
       "    <tr style=\"text-align: right;\">\n",
       "      <th></th>\n",
       "      <th>label</th>\n",
       "      <th>pixel0</th>\n",
       "      <th>pixel1</th>\n",
       "      <th>pixel2</th>\n",
       "      <th>pixel3</th>\n",
       "      <th>pixel4</th>\n",
       "      <th>pixel5</th>\n",
       "      <th>pixel6</th>\n",
       "      <th>pixel7</th>\n",
       "      <th>pixel8</th>\n",
       "      <th>...</th>\n",
       "      <th>pixel774</th>\n",
       "      <th>pixel775</th>\n",
       "      <th>pixel776</th>\n",
       "      <th>pixel777</th>\n",
       "      <th>pixel778</th>\n",
       "      <th>pixel779</th>\n",
       "      <th>pixel780</th>\n",
       "      <th>pixel781</th>\n",
       "      <th>pixel782</th>\n",
       "      <th>pixel783</th>\n",
       "    </tr>\n",
       "  </thead>\n",
       "  <tbody>\n",
       "    <tr>\n",
       "      <th>0</th>\n",
       "      <td>1</td>\n",
       "      <td>0.0</td>\n",
       "      <td>0.0</td>\n",
       "      <td>0.0</td>\n",
       "      <td>0.0</td>\n",
       "      <td>0.0</td>\n",
       "      <td>0.0</td>\n",
       "      <td>0.0</td>\n",
       "      <td>0.0</td>\n",
       "      <td>0.0</td>\n",
       "      <td>...</td>\n",
       "      <td>0.0</td>\n",
       "      <td>0.0</td>\n",
       "      <td>0.0</td>\n",
       "      <td>0.0</td>\n",
       "      <td>0.0</td>\n",
       "      <td>0.0</td>\n",
       "      <td>0.0</td>\n",
       "      <td>0.0</td>\n",
       "      <td>0.0</td>\n",
       "      <td>0.0</td>\n",
       "    </tr>\n",
       "    <tr>\n",
       "      <th>1</th>\n",
       "      <td>0</td>\n",
       "      <td>0.0</td>\n",
       "      <td>0.0</td>\n",
       "      <td>0.0</td>\n",
       "      <td>0.0</td>\n",
       "      <td>0.0</td>\n",
       "      <td>0.0</td>\n",
       "      <td>0.0</td>\n",
       "      <td>0.0</td>\n",
       "      <td>0.0</td>\n",
       "      <td>...</td>\n",
       "      <td>0.0</td>\n",
       "      <td>0.0</td>\n",
       "      <td>0.0</td>\n",
       "      <td>0.0</td>\n",
       "      <td>0.0</td>\n",
       "      <td>0.0</td>\n",
       "      <td>0.0</td>\n",
       "      <td>0.0</td>\n",
       "      <td>0.0</td>\n",
       "      <td>0.0</td>\n",
       "    </tr>\n",
       "    <tr>\n",
       "      <th>2</th>\n",
       "      <td>1</td>\n",
       "      <td>0.0</td>\n",
       "      <td>0.0</td>\n",
       "      <td>0.0</td>\n",
       "      <td>0.0</td>\n",
       "      <td>0.0</td>\n",
       "      <td>0.0</td>\n",
       "      <td>0.0</td>\n",
       "      <td>0.0</td>\n",
       "      <td>0.0</td>\n",
       "      <td>...</td>\n",
       "      <td>0.0</td>\n",
       "      <td>0.0</td>\n",
       "      <td>0.0</td>\n",
       "      <td>0.0</td>\n",
       "      <td>0.0</td>\n",
       "      <td>0.0</td>\n",
       "      <td>0.0</td>\n",
       "      <td>0.0</td>\n",
       "      <td>0.0</td>\n",
       "      <td>0.0</td>\n",
       "    </tr>\n",
       "    <tr>\n",
       "      <th>3</th>\n",
       "      <td>4</td>\n",
       "      <td>0.0</td>\n",
       "      <td>0.0</td>\n",
       "      <td>0.0</td>\n",
       "      <td>0.0</td>\n",
       "      <td>0.0</td>\n",
       "      <td>0.0</td>\n",
       "      <td>0.0</td>\n",
       "      <td>0.0</td>\n",
       "      <td>0.0</td>\n",
       "      <td>...</td>\n",
       "      <td>0.0</td>\n",
       "      <td>0.0</td>\n",
       "      <td>0.0</td>\n",
       "      <td>0.0</td>\n",
       "      <td>0.0</td>\n",
       "      <td>0.0</td>\n",
       "      <td>0.0</td>\n",
       "      <td>0.0</td>\n",
       "      <td>0.0</td>\n",
       "      <td>0.0</td>\n",
       "    </tr>\n",
       "    <tr>\n",
       "      <th>4</th>\n",
       "      <td>0</td>\n",
       "      <td>0.0</td>\n",
       "      <td>0.0</td>\n",
       "      <td>0.0</td>\n",
       "      <td>0.0</td>\n",
       "      <td>0.0</td>\n",
       "      <td>0.0</td>\n",
       "      <td>0.0</td>\n",
       "      <td>0.0</td>\n",
       "      <td>0.0</td>\n",
       "      <td>...</td>\n",
       "      <td>0.0</td>\n",
       "      <td>0.0</td>\n",
       "      <td>0.0</td>\n",
       "      <td>0.0</td>\n",
       "      <td>0.0</td>\n",
       "      <td>0.0</td>\n",
       "      <td>0.0</td>\n",
       "      <td>0.0</td>\n",
       "      <td>0.0</td>\n",
       "      <td>0.0</td>\n",
       "    </tr>\n",
       "  </tbody>\n",
       "</table>\n",
       "<p>5 rows × 785 columns</p>\n",
       "</div>"
      ],
      "text/plain": [
       "   label  pixel0  pixel1  pixel2  pixel3  pixel4  pixel5  pixel6  pixel7  \\\n",
       "0      1     0.0     0.0     0.0     0.0     0.0     0.0     0.0     0.0   \n",
       "1      0     0.0     0.0     0.0     0.0     0.0     0.0     0.0     0.0   \n",
       "2      1     0.0     0.0     0.0     0.0     0.0     0.0     0.0     0.0   \n",
       "3      4     0.0     0.0     0.0     0.0     0.0     0.0     0.0     0.0   \n",
       "4      0     0.0     0.0     0.0     0.0     0.0     0.0     0.0     0.0   \n",
       "\n",
       "   pixel8    ...     pixel774  pixel775  pixel776  pixel777  pixel778  \\\n",
       "0     0.0    ...          0.0       0.0       0.0       0.0       0.0   \n",
       "1     0.0    ...          0.0       0.0       0.0       0.0       0.0   \n",
       "2     0.0    ...          0.0       0.0       0.0       0.0       0.0   \n",
       "3     0.0    ...          0.0       0.0       0.0       0.0       0.0   \n",
       "4     0.0    ...          0.0       0.0       0.0       0.0       0.0   \n",
       "\n",
       "   pixel779  pixel780  pixel781  pixel782  pixel783  \n",
       "0       0.0       0.0       0.0       0.0       0.0  \n",
       "1       0.0       0.0       0.0       0.0       0.0  \n",
       "2       0.0       0.0       0.0       0.0       0.0  \n",
       "3       0.0       0.0       0.0       0.0       0.0  \n",
       "4       0.0       0.0       0.0       0.0       0.0  \n",
       "\n",
       "[5 rows x 785 columns]"
      ]
     },
     "execution_count": 3,
     "metadata": {},
     "output_type": "execute_result"
    }
   ],
   "source": [
    "train_data.head()"
   ]
  },
  {
   "cell_type": "code",
   "execution_count": 4,
   "metadata": {},
   "outputs": [
    {
     "data": {
      "text/plain": [
       "(1.0, 0.0)"
      ]
     },
     "execution_count": 4,
     "metadata": {},
     "output_type": "execute_result"
    }
   ],
   "source": [
    "train_data.iloc[:,1:].max().max(),train_data.iloc[:,1:].min().min()"
   ]
  },
  {
   "cell_type": "code",
   "execution_count": 5,
   "metadata": {},
   "outputs": [
    {
     "data": {
      "text/plain": [
       "(1.0, 0.0)"
      ]
     },
     "execution_count": 5,
     "metadata": {},
     "output_type": "execute_result"
    }
   ],
   "source": [
    "test_data.max().max(),test_data.min().min()"
   ]
  },
  {
   "cell_type": "code",
   "execution_count": 6,
   "metadata": {},
   "outputs": [
    {
     "data": {
      "text/html": [
       "<div>\n",
       "<style>\n",
       "    .dataframe thead tr:only-child th {\n",
       "        text-align: right;\n",
       "    }\n",
       "\n",
       "    .dataframe thead th {\n",
       "        text-align: left;\n",
       "    }\n",
       "\n",
       "    .dataframe tbody tr th {\n",
       "        vertical-align: top;\n",
       "    }\n",
       "</style>\n",
       "<table border=\"1\" class=\"dataframe\">\n",
       "  <thead>\n",
       "    <tr style=\"text-align: right;\">\n",
       "      <th></th>\n",
       "      <th>pixel0</th>\n",
       "      <th>pixel1</th>\n",
       "      <th>pixel2</th>\n",
       "      <th>pixel3</th>\n",
       "      <th>pixel4</th>\n",
       "      <th>pixel5</th>\n",
       "      <th>pixel6</th>\n",
       "      <th>pixel7</th>\n",
       "      <th>pixel8</th>\n",
       "      <th>pixel9</th>\n",
       "      <th>...</th>\n",
       "      <th>pixel774</th>\n",
       "      <th>pixel775</th>\n",
       "      <th>pixel776</th>\n",
       "      <th>pixel777</th>\n",
       "      <th>pixel778</th>\n",
       "      <th>pixel779</th>\n",
       "      <th>pixel780</th>\n",
       "      <th>pixel781</th>\n",
       "      <th>pixel782</th>\n",
       "      <th>pixel783</th>\n",
       "    </tr>\n",
       "  </thead>\n",
       "  <tbody>\n",
       "    <tr>\n",
       "      <th>0</th>\n",
       "      <td>0.0</td>\n",
       "      <td>0.0</td>\n",
       "      <td>0.0</td>\n",
       "      <td>0.0</td>\n",
       "      <td>0.0</td>\n",
       "      <td>0.0</td>\n",
       "      <td>0.0</td>\n",
       "      <td>0.0</td>\n",
       "      <td>0.0</td>\n",
       "      <td>0.0</td>\n",
       "      <td>...</td>\n",
       "      <td>0.0</td>\n",
       "      <td>0.0</td>\n",
       "      <td>0.0</td>\n",
       "      <td>0.0</td>\n",
       "      <td>0.0</td>\n",
       "      <td>0.0</td>\n",
       "      <td>0.0</td>\n",
       "      <td>0.0</td>\n",
       "      <td>0.0</td>\n",
       "      <td>0.0</td>\n",
       "    </tr>\n",
       "    <tr>\n",
       "      <th>1</th>\n",
       "      <td>0.0</td>\n",
       "      <td>0.0</td>\n",
       "      <td>0.0</td>\n",
       "      <td>0.0</td>\n",
       "      <td>0.0</td>\n",
       "      <td>0.0</td>\n",
       "      <td>0.0</td>\n",
       "      <td>0.0</td>\n",
       "      <td>0.0</td>\n",
       "      <td>0.0</td>\n",
       "      <td>...</td>\n",
       "      <td>0.0</td>\n",
       "      <td>0.0</td>\n",
       "      <td>0.0</td>\n",
       "      <td>0.0</td>\n",
       "      <td>0.0</td>\n",
       "      <td>0.0</td>\n",
       "      <td>0.0</td>\n",
       "      <td>0.0</td>\n",
       "      <td>0.0</td>\n",
       "      <td>0.0</td>\n",
       "    </tr>\n",
       "    <tr>\n",
       "      <th>2</th>\n",
       "      <td>0.0</td>\n",
       "      <td>0.0</td>\n",
       "      <td>0.0</td>\n",
       "      <td>0.0</td>\n",
       "      <td>0.0</td>\n",
       "      <td>0.0</td>\n",
       "      <td>0.0</td>\n",
       "      <td>0.0</td>\n",
       "      <td>0.0</td>\n",
       "      <td>0.0</td>\n",
       "      <td>...</td>\n",
       "      <td>0.0</td>\n",
       "      <td>0.0</td>\n",
       "      <td>0.0</td>\n",
       "      <td>0.0</td>\n",
       "      <td>0.0</td>\n",
       "      <td>0.0</td>\n",
       "      <td>0.0</td>\n",
       "      <td>0.0</td>\n",
       "      <td>0.0</td>\n",
       "      <td>0.0</td>\n",
       "    </tr>\n",
       "    <tr>\n",
       "      <th>3</th>\n",
       "      <td>0.0</td>\n",
       "      <td>0.0</td>\n",
       "      <td>0.0</td>\n",
       "      <td>0.0</td>\n",
       "      <td>0.0</td>\n",
       "      <td>0.0</td>\n",
       "      <td>0.0</td>\n",
       "      <td>0.0</td>\n",
       "      <td>0.0</td>\n",
       "      <td>0.0</td>\n",
       "      <td>...</td>\n",
       "      <td>0.0</td>\n",
       "      <td>0.0</td>\n",
       "      <td>0.0</td>\n",
       "      <td>0.0</td>\n",
       "      <td>0.0</td>\n",
       "      <td>0.0</td>\n",
       "      <td>0.0</td>\n",
       "      <td>0.0</td>\n",
       "      <td>0.0</td>\n",
       "      <td>0.0</td>\n",
       "    </tr>\n",
       "    <tr>\n",
       "      <th>4</th>\n",
       "      <td>0.0</td>\n",
       "      <td>0.0</td>\n",
       "      <td>0.0</td>\n",
       "      <td>0.0</td>\n",
       "      <td>0.0</td>\n",
       "      <td>0.0</td>\n",
       "      <td>0.0</td>\n",
       "      <td>0.0</td>\n",
       "      <td>0.0</td>\n",
       "      <td>0.0</td>\n",
       "      <td>...</td>\n",
       "      <td>0.0</td>\n",
       "      <td>0.0</td>\n",
       "      <td>0.0</td>\n",
       "      <td>0.0</td>\n",
       "      <td>0.0</td>\n",
       "      <td>0.0</td>\n",
       "      <td>0.0</td>\n",
       "      <td>0.0</td>\n",
       "      <td>0.0</td>\n",
       "      <td>0.0</td>\n",
       "    </tr>\n",
       "  </tbody>\n",
       "</table>\n",
       "<p>5 rows × 784 columns</p>\n",
       "</div>"
      ],
      "text/plain": [
       "   pixel0  pixel1  pixel2  pixel3  pixel4  pixel5  pixel6  pixel7  pixel8  \\\n",
       "0     0.0     0.0     0.0     0.0     0.0     0.0     0.0     0.0     0.0   \n",
       "1     0.0     0.0     0.0     0.0     0.0     0.0     0.0     0.0     0.0   \n",
       "2     0.0     0.0     0.0     0.0     0.0     0.0     0.0     0.0     0.0   \n",
       "3     0.0     0.0     0.0     0.0     0.0     0.0     0.0     0.0     0.0   \n",
       "4     0.0     0.0     0.0     0.0     0.0     0.0     0.0     0.0     0.0   \n",
       "\n",
       "   pixel9    ...     pixel774  pixel775  pixel776  pixel777  pixel778  \\\n",
       "0     0.0    ...          0.0       0.0       0.0       0.0       0.0   \n",
       "1     0.0    ...          0.0       0.0       0.0       0.0       0.0   \n",
       "2     0.0    ...          0.0       0.0       0.0       0.0       0.0   \n",
       "3     0.0    ...          0.0       0.0       0.0       0.0       0.0   \n",
       "4     0.0    ...          0.0       0.0       0.0       0.0       0.0   \n",
       "\n",
       "   pixel779  pixel780  pixel781  pixel782  pixel783  \n",
       "0       0.0       0.0       0.0       0.0       0.0  \n",
       "1       0.0       0.0       0.0       0.0       0.0  \n",
       "2       0.0       0.0       0.0       0.0       0.0  \n",
       "3       0.0       0.0       0.0       0.0       0.0  \n",
       "4       0.0       0.0       0.0       0.0       0.0  \n",
       "\n",
       "[5 rows x 784 columns]"
      ]
     },
     "execution_count": 6,
     "metadata": {},
     "output_type": "execute_result"
    }
   ],
   "source": [
    "test_data.head()"
   ]
  },
  {
   "cell_type": "code",
   "execution_count": 7,
   "metadata": {
    "collapsed": true
   },
   "outputs": [],
   "source": [
    "def showimage(row_num):\n",
    "    a=255*train_data.iloc[row_num,1:].values\n",
    "    a=a.reshape(28,28).astype('uint8')\n",
    "    plt.imshow(a)"
   ]
  },
  {
   "cell_type": "code",
   "execution_count": 13,
   "metadata": {},
   "outputs": [
    {
     "data": {
      "application/javascript": [
       "/* Put everything inside the global mpl namespace */\n",
       "window.mpl = {};\n",
       "\n",
       "\n",
       "mpl.get_websocket_type = function() {\n",
       "    if (typeof(WebSocket) !== 'undefined') {\n",
       "        return WebSocket;\n",
       "    } else if (typeof(MozWebSocket) !== 'undefined') {\n",
       "        return MozWebSocket;\n",
       "    } else {\n",
       "        alert('Your browser does not have WebSocket support.' +\n",
       "              'Please try Chrome, Safari or Firefox ≥ 6. ' +\n",
       "              'Firefox 4 and 5 are also supported but you ' +\n",
       "              'have to enable WebSockets in about:config.');\n",
       "    };\n",
       "}\n",
       "\n",
       "mpl.figure = function(figure_id, websocket, ondownload, parent_element) {\n",
       "    this.id = figure_id;\n",
       "\n",
       "    this.ws = websocket;\n",
       "\n",
       "    this.supports_binary = (this.ws.binaryType != undefined);\n",
       "\n",
       "    if (!this.supports_binary) {\n",
       "        var warnings = document.getElementById(\"mpl-warnings\");\n",
       "        if (warnings) {\n",
       "            warnings.style.display = 'block';\n",
       "            warnings.textContent = (\n",
       "                \"This browser does not support binary websocket messages. \" +\n",
       "                    \"Performance may be slow.\");\n",
       "        }\n",
       "    }\n",
       "\n",
       "    this.imageObj = new Image();\n",
       "\n",
       "    this.context = undefined;\n",
       "    this.message = undefined;\n",
       "    this.canvas = undefined;\n",
       "    this.rubberband_canvas = undefined;\n",
       "    this.rubberband_context = undefined;\n",
       "    this.format_dropdown = undefined;\n",
       "\n",
       "    this.image_mode = 'full';\n",
       "\n",
       "    this.root = $('<div/>');\n",
       "    this._root_extra_style(this.root)\n",
       "    this.root.attr('style', 'display: inline-block');\n",
       "\n",
       "    $(parent_element).append(this.root);\n",
       "\n",
       "    this._init_header(this);\n",
       "    this._init_canvas(this);\n",
       "    this._init_toolbar(this);\n",
       "\n",
       "    var fig = this;\n",
       "\n",
       "    this.waiting = false;\n",
       "\n",
       "    this.ws.onopen =  function () {\n",
       "            fig.send_message(\"supports_binary\", {value: fig.supports_binary});\n",
       "            fig.send_message(\"send_image_mode\", {});\n",
       "            if (mpl.ratio != 1) {\n",
       "                fig.send_message(\"set_dpi_ratio\", {'dpi_ratio': mpl.ratio});\n",
       "            }\n",
       "            fig.send_message(\"refresh\", {});\n",
       "        }\n",
       "\n",
       "    this.imageObj.onload = function() {\n",
       "            if (fig.image_mode == 'full') {\n",
       "                // Full images could contain transparency (where diff images\n",
       "                // almost always do), so we need to clear the canvas so that\n",
       "                // there is no ghosting.\n",
       "                fig.context.clearRect(0, 0, fig.canvas.width, fig.canvas.height);\n",
       "            }\n",
       "            fig.context.drawImage(fig.imageObj, 0, 0);\n",
       "        };\n",
       "\n",
       "    this.imageObj.onunload = function() {\n",
       "        this.ws.close();\n",
       "    }\n",
       "\n",
       "    this.ws.onmessage = this._make_on_message_function(this);\n",
       "\n",
       "    this.ondownload = ondownload;\n",
       "}\n",
       "\n",
       "mpl.figure.prototype._init_header = function() {\n",
       "    var titlebar = $(\n",
       "        '<div class=\"ui-dialog-titlebar ui-widget-header ui-corner-all ' +\n",
       "        'ui-helper-clearfix\"/>');\n",
       "    var titletext = $(\n",
       "        '<div class=\"ui-dialog-title\" style=\"width: 100%; ' +\n",
       "        'text-align: center; padding: 3px;\"/>');\n",
       "    titlebar.append(titletext)\n",
       "    this.root.append(titlebar);\n",
       "    this.header = titletext[0];\n",
       "}\n",
       "\n",
       "\n",
       "\n",
       "mpl.figure.prototype._canvas_extra_style = function(canvas_div) {\n",
       "\n",
       "}\n",
       "\n",
       "\n",
       "mpl.figure.prototype._root_extra_style = function(canvas_div) {\n",
       "\n",
       "}\n",
       "\n",
       "mpl.figure.prototype._init_canvas = function() {\n",
       "    var fig = this;\n",
       "\n",
       "    var canvas_div = $('<div/>');\n",
       "\n",
       "    canvas_div.attr('style', 'position: relative; clear: both; outline: 0');\n",
       "\n",
       "    function canvas_keyboard_event(event) {\n",
       "        return fig.key_event(event, event['data']);\n",
       "    }\n",
       "\n",
       "    canvas_div.keydown('key_press', canvas_keyboard_event);\n",
       "    canvas_div.keyup('key_release', canvas_keyboard_event);\n",
       "    this.canvas_div = canvas_div\n",
       "    this._canvas_extra_style(canvas_div)\n",
       "    this.root.append(canvas_div);\n",
       "\n",
       "    var canvas = $('<canvas/>');\n",
       "    canvas.addClass('mpl-canvas');\n",
       "    canvas.attr('style', \"left: 0; top: 0; z-index: 0; outline: 0\")\n",
       "\n",
       "    this.canvas = canvas[0];\n",
       "    this.context = canvas[0].getContext(\"2d\");\n",
       "\n",
       "    var backingStore = this.context.backingStorePixelRatio ||\n",
       "\tthis.context.webkitBackingStorePixelRatio ||\n",
       "\tthis.context.mozBackingStorePixelRatio ||\n",
       "\tthis.context.msBackingStorePixelRatio ||\n",
       "\tthis.context.oBackingStorePixelRatio ||\n",
       "\tthis.context.backingStorePixelRatio || 1;\n",
       "\n",
       "    mpl.ratio = (window.devicePixelRatio || 1) / backingStore;\n",
       "\n",
       "    var rubberband = $('<canvas/>');\n",
       "    rubberband.attr('style', \"position: absolute; left: 0; top: 0; z-index: 1;\")\n",
       "\n",
       "    var pass_mouse_events = true;\n",
       "\n",
       "    canvas_div.resizable({\n",
       "        start: function(event, ui) {\n",
       "            pass_mouse_events = false;\n",
       "        },\n",
       "        resize: function(event, ui) {\n",
       "            fig.request_resize(ui.size.width, ui.size.height);\n",
       "        },\n",
       "        stop: function(event, ui) {\n",
       "            pass_mouse_events = true;\n",
       "            fig.request_resize(ui.size.width, ui.size.height);\n",
       "        },\n",
       "    });\n",
       "\n",
       "    function mouse_event_fn(event) {\n",
       "        if (pass_mouse_events)\n",
       "            return fig.mouse_event(event, event['data']);\n",
       "    }\n",
       "\n",
       "    rubberband.mousedown('button_press', mouse_event_fn);\n",
       "    rubberband.mouseup('button_release', mouse_event_fn);\n",
       "    // Throttle sequential mouse events to 1 every 20ms.\n",
       "    rubberband.mousemove('motion_notify', mouse_event_fn);\n",
       "\n",
       "    rubberband.mouseenter('figure_enter', mouse_event_fn);\n",
       "    rubberband.mouseleave('figure_leave', mouse_event_fn);\n",
       "\n",
       "    canvas_div.on(\"wheel\", function (event) {\n",
       "        event = event.originalEvent;\n",
       "        event['data'] = 'scroll'\n",
       "        if (event.deltaY < 0) {\n",
       "            event.step = 1;\n",
       "        } else {\n",
       "            event.step = -1;\n",
       "        }\n",
       "        mouse_event_fn(event);\n",
       "    });\n",
       "\n",
       "    canvas_div.append(canvas);\n",
       "    canvas_div.append(rubberband);\n",
       "\n",
       "    this.rubberband = rubberband;\n",
       "    this.rubberband_canvas = rubberband[0];\n",
       "    this.rubberband_context = rubberband[0].getContext(\"2d\");\n",
       "    this.rubberband_context.strokeStyle = \"#000000\";\n",
       "\n",
       "    this._resize_canvas = function(width, height) {\n",
       "        // Keep the size of the canvas, canvas container, and rubber band\n",
       "        // canvas in synch.\n",
       "        canvas_div.css('width', width)\n",
       "        canvas_div.css('height', height)\n",
       "\n",
       "        canvas.attr('width', width * mpl.ratio);\n",
       "        canvas.attr('height', height * mpl.ratio);\n",
       "        canvas.attr('style', 'width: ' + width + 'px; height: ' + height + 'px;');\n",
       "\n",
       "        rubberband.attr('width', width);\n",
       "        rubberband.attr('height', height);\n",
       "    }\n",
       "\n",
       "    // Set the figure to an initial 600x600px, this will subsequently be updated\n",
       "    // upon first draw.\n",
       "    this._resize_canvas(600, 600);\n",
       "\n",
       "    // Disable right mouse context menu.\n",
       "    $(this.rubberband_canvas).bind(\"contextmenu\",function(e){\n",
       "        return false;\n",
       "    });\n",
       "\n",
       "    function set_focus () {\n",
       "        canvas.focus();\n",
       "        canvas_div.focus();\n",
       "    }\n",
       "\n",
       "    window.setTimeout(set_focus, 100);\n",
       "}\n",
       "\n",
       "mpl.figure.prototype._init_toolbar = function() {\n",
       "    var fig = this;\n",
       "\n",
       "    var nav_element = $('<div/>')\n",
       "    nav_element.attr('style', 'width: 100%');\n",
       "    this.root.append(nav_element);\n",
       "\n",
       "    // Define a callback function for later on.\n",
       "    function toolbar_event(event) {\n",
       "        return fig.toolbar_button_onclick(event['data']);\n",
       "    }\n",
       "    function toolbar_mouse_event(event) {\n",
       "        return fig.toolbar_button_onmouseover(event['data']);\n",
       "    }\n",
       "\n",
       "    for(var toolbar_ind in mpl.toolbar_items) {\n",
       "        var name = mpl.toolbar_items[toolbar_ind][0];\n",
       "        var tooltip = mpl.toolbar_items[toolbar_ind][1];\n",
       "        var image = mpl.toolbar_items[toolbar_ind][2];\n",
       "        var method_name = mpl.toolbar_items[toolbar_ind][3];\n",
       "\n",
       "        if (!name) {\n",
       "            // put a spacer in here.\n",
       "            continue;\n",
       "        }\n",
       "        var button = $('<button/>');\n",
       "        button.addClass('ui-button ui-widget ui-state-default ui-corner-all ' +\n",
       "                        'ui-button-icon-only');\n",
       "        button.attr('role', 'button');\n",
       "        button.attr('aria-disabled', 'false');\n",
       "        button.click(method_name, toolbar_event);\n",
       "        button.mouseover(tooltip, toolbar_mouse_event);\n",
       "\n",
       "        var icon_img = $('<span/>');\n",
       "        icon_img.addClass('ui-button-icon-primary ui-icon');\n",
       "        icon_img.addClass(image);\n",
       "        icon_img.addClass('ui-corner-all');\n",
       "\n",
       "        var tooltip_span = $('<span/>');\n",
       "        tooltip_span.addClass('ui-button-text');\n",
       "        tooltip_span.html(tooltip);\n",
       "\n",
       "        button.append(icon_img);\n",
       "        button.append(tooltip_span);\n",
       "\n",
       "        nav_element.append(button);\n",
       "    }\n",
       "\n",
       "    var fmt_picker_span = $('<span/>');\n",
       "\n",
       "    var fmt_picker = $('<select/>');\n",
       "    fmt_picker.addClass('mpl-toolbar-option ui-widget ui-widget-content');\n",
       "    fmt_picker_span.append(fmt_picker);\n",
       "    nav_element.append(fmt_picker_span);\n",
       "    this.format_dropdown = fmt_picker[0];\n",
       "\n",
       "    for (var ind in mpl.extensions) {\n",
       "        var fmt = mpl.extensions[ind];\n",
       "        var option = $(\n",
       "            '<option/>', {selected: fmt === mpl.default_extension}).html(fmt);\n",
       "        fmt_picker.append(option)\n",
       "    }\n",
       "\n",
       "    // Add hover states to the ui-buttons\n",
       "    $( \".ui-button\" ).hover(\n",
       "        function() { $(this).addClass(\"ui-state-hover\");},\n",
       "        function() { $(this).removeClass(\"ui-state-hover\");}\n",
       "    );\n",
       "\n",
       "    var status_bar = $('<span class=\"mpl-message\"/>');\n",
       "    nav_element.append(status_bar);\n",
       "    this.message = status_bar[0];\n",
       "}\n",
       "\n",
       "mpl.figure.prototype.request_resize = function(x_pixels, y_pixels) {\n",
       "    // Request matplotlib to resize the figure. Matplotlib will then trigger a resize in the client,\n",
       "    // which will in turn request a refresh of the image.\n",
       "    this.send_message('resize', {'width': x_pixels, 'height': y_pixels});\n",
       "}\n",
       "\n",
       "mpl.figure.prototype.send_message = function(type, properties) {\n",
       "    properties['type'] = type;\n",
       "    properties['figure_id'] = this.id;\n",
       "    this.ws.send(JSON.stringify(properties));\n",
       "}\n",
       "\n",
       "mpl.figure.prototype.send_draw_message = function() {\n",
       "    if (!this.waiting) {\n",
       "        this.waiting = true;\n",
       "        this.ws.send(JSON.stringify({type: \"draw\", figure_id: this.id}));\n",
       "    }\n",
       "}\n",
       "\n",
       "\n",
       "mpl.figure.prototype.handle_save = function(fig, msg) {\n",
       "    var format_dropdown = fig.format_dropdown;\n",
       "    var format = format_dropdown.options[format_dropdown.selectedIndex].value;\n",
       "    fig.ondownload(fig, format);\n",
       "}\n",
       "\n",
       "\n",
       "mpl.figure.prototype.handle_resize = function(fig, msg) {\n",
       "    var size = msg['size'];\n",
       "    if (size[0] != fig.canvas.width || size[1] != fig.canvas.height) {\n",
       "        fig._resize_canvas(size[0], size[1]);\n",
       "        fig.send_message(\"refresh\", {});\n",
       "    };\n",
       "}\n",
       "\n",
       "mpl.figure.prototype.handle_rubberband = function(fig, msg) {\n",
       "    var x0 = msg['x0'] / mpl.ratio;\n",
       "    var y0 = (fig.canvas.height - msg['y0']) / mpl.ratio;\n",
       "    var x1 = msg['x1'] / mpl.ratio;\n",
       "    var y1 = (fig.canvas.height - msg['y1']) / mpl.ratio;\n",
       "    x0 = Math.floor(x0) + 0.5;\n",
       "    y0 = Math.floor(y0) + 0.5;\n",
       "    x1 = Math.floor(x1) + 0.5;\n",
       "    y1 = Math.floor(y1) + 0.5;\n",
       "    var min_x = Math.min(x0, x1);\n",
       "    var min_y = Math.min(y0, y1);\n",
       "    var width = Math.abs(x1 - x0);\n",
       "    var height = Math.abs(y1 - y0);\n",
       "\n",
       "    fig.rubberband_context.clearRect(\n",
       "        0, 0, fig.canvas.width, fig.canvas.height);\n",
       "\n",
       "    fig.rubberband_context.strokeRect(min_x, min_y, width, height);\n",
       "}\n",
       "\n",
       "mpl.figure.prototype.handle_figure_label = function(fig, msg) {\n",
       "    // Updates the figure title.\n",
       "    fig.header.textContent = msg['label'];\n",
       "}\n",
       "\n",
       "mpl.figure.prototype.handle_cursor = function(fig, msg) {\n",
       "    var cursor = msg['cursor'];\n",
       "    switch(cursor)\n",
       "    {\n",
       "    case 0:\n",
       "        cursor = 'pointer';\n",
       "        break;\n",
       "    case 1:\n",
       "        cursor = 'default';\n",
       "        break;\n",
       "    case 2:\n",
       "        cursor = 'crosshair';\n",
       "        break;\n",
       "    case 3:\n",
       "        cursor = 'move';\n",
       "        break;\n",
       "    }\n",
       "    fig.rubberband_canvas.style.cursor = cursor;\n",
       "}\n",
       "\n",
       "mpl.figure.prototype.handle_message = function(fig, msg) {\n",
       "    fig.message.textContent = msg['message'];\n",
       "}\n",
       "\n",
       "mpl.figure.prototype.handle_draw = function(fig, msg) {\n",
       "    // Request the server to send over a new figure.\n",
       "    fig.send_draw_message();\n",
       "}\n",
       "\n",
       "mpl.figure.prototype.handle_image_mode = function(fig, msg) {\n",
       "    fig.image_mode = msg['mode'];\n",
       "}\n",
       "\n",
       "mpl.figure.prototype.updated_canvas_event = function() {\n",
       "    // Called whenever the canvas gets updated.\n",
       "    this.send_message(\"ack\", {});\n",
       "}\n",
       "\n",
       "// A function to construct a web socket function for onmessage handling.\n",
       "// Called in the figure constructor.\n",
       "mpl.figure.prototype._make_on_message_function = function(fig) {\n",
       "    return function socket_on_message(evt) {\n",
       "        if (evt.data instanceof Blob) {\n",
       "            /* FIXME: We get \"Resource interpreted as Image but\n",
       "             * transferred with MIME type text/plain:\" errors on\n",
       "             * Chrome.  But how to set the MIME type?  It doesn't seem\n",
       "             * to be part of the websocket stream */\n",
       "            evt.data.type = \"image/png\";\n",
       "\n",
       "            /* Free the memory for the previous frames */\n",
       "            if (fig.imageObj.src) {\n",
       "                (window.URL || window.webkitURL).revokeObjectURL(\n",
       "                    fig.imageObj.src);\n",
       "            }\n",
       "\n",
       "            fig.imageObj.src = (window.URL || window.webkitURL).createObjectURL(\n",
       "                evt.data);\n",
       "            fig.updated_canvas_event();\n",
       "            fig.waiting = false;\n",
       "            return;\n",
       "        }\n",
       "        else if (typeof evt.data === 'string' && evt.data.slice(0, 21) == \"data:image/png;base64\") {\n",
       "            fig.imageObj.src = evt.data;\n",
       "            fig.updated_canvas_event();\n",
       "            fig.waiting = false;\n",
       "            return;\n",
       "        }\n",
       "\n",
       "        var msg = JSON.parse(evt.data);\n",
       "        var msg_type = msg['type'];\n",
       "\n",
       "        // Call the  \"handle_{type}\" callback, which takes\n",
       "        // the figure and JSON message as its only arguments.\n",
       "        try {\n",
       "            var callback = fig[\"handle_\" + msg_type];\n",
       "        } catch (e) {\n",
       "            console.log(\"No handler for the '\" + msg_type + \"' message type: \", msg);\n",
       "            return;\n",
       "        }\n",
       "\n",
       "        if (callback) {\n",
       "            try {\n",
       "                // console.log(\"Handling '\" + msg_type + \"' message: \", msg);\n",
       "                callback(fig, msg);\n",
       "            } catch (e) {\n",
       "                console.log(\"Exception inside the 'handler_\" + msg_type + \"' callback:\", e, e.stack, msg);\n",
       "            }\n",
       "        }\n",
       "    };\n",
       "}\n",
       "\n",
       "// from http://stackoverflow.com/questions/1114465/getting-mouse-location-in-canvas\n",
       "mpl.findpos = function(e) {\n",
       "    //this section is from http://www.quirksmode.org/js/events_properties.html\n",
       "    var targ;\n",
       "    if (!e)\n",
       "        e = window.event;\n",
       "    if (e.target)\n",
       "        targ = e.target;\n",
       "    else if (e.srcElement)\n",
       "        targ = e.srcElement;\n",
       "    if (targ.nodeType == 3) // defeat Safari bug\n",
       "        targ = targ.parentNode;\n",
       "\n",
       "    // jQuery normalizes the pageX and pageY\n",
       "    // pageX,Y are the mouse positions relative to the document\n",
       "    // offset() returns the position of the element relative to the document\n",
       "    var x = e.pageX - $(targ).offset().left;\n",
       "    var y = e.pageY - $(targ).offset().top;\n",
       "\n",
       "    return {\"x\": x, \"y\": y};\n",
       "};\n",
       "\n",
       "/*\n",
       " * return a copy of an object with only non-object keys\n",
       " * we need this to avoid circular references\n",
       " * http://stackoverflow.com/a/24161582/3208463\n",
       " */\n",
       "function simpleKeys (original) {\n",
       "  return Object.keys(original).reduce(function (obj, key) {\n",
       "    if (typeof original[key] !== 'object')\n",
       "        obj[key] = original[key]\n",
       "    return obj;\n",
       "  }, {});\n",
       "}\n",
       "\n",
       "mpl.figure.prototype.mouse_event = function(event, name) {\n",
       "    var canvas_pos = mpl.findpos(event)\n",
       "\n",
       "    if (name === 'button_press')\n",
       "    {\n",
       "        this.canvas.focus();\n",
       "        this.canvas_div.focus();\n",
       "    }\n",
       "\n",
       "    var x = canvas_pos.x * mpl.ratio;\n",
       "    var y = canvas_pos.y * mpl.ratio;\n",
       "\n",
       "    this.send_message(name, {x: x, y: y, button: event.button,\n",
       "                             step: event.step,\n",
       "                             guiEvent: simpleKeys(event)});\n",
       "\n",
       "    /* This prevents the web browser from automatically changing to\n",
       "     * the text insertion cursor when the button is pressed.  We want\n",
       "     * to control all of the cursor setting manually through the\n",
       "     * 'cursor' event from matplotlib */\n",
       "    event.preventDefault();\n",
       "    return false;\n",
       "}\n",
       "\n",
       "mpl.figure.prototype._key_event_extra = function(event, name) {\n",
       "    // Handle any extra behaviour associated with a key event\n",
       "}\n",
       "\n",
       "mpl.figure.prototype.key_event = function(event, name) {\n",
       "\n",
       "    // Prevent repeat events\n",
       "    if (name == 'key_press')\n",
       "    {\n",
       "        if (event.which === this._key)\n",
       "            return;\n",
       "        else\n",
       "            this._key = event.which;\n",
       "    }\n",
       "    if (name == 'key_release')\n",
       "        this._key = null;\n",
       "\n",
       "    var value = '';\n",
       "    if (event.ctrlKey && event.which != 17)\n",
       "        value += \"ctrl+\";\n",
       "    if (event.altKey && event.which != 18)\n",
       "        value += \"alt+\";\n",
       "    if (event.shiftKey && event.which != 16)\n",
       "        value += \"shift+\";\n",
       "\n",
       "    value += 'k';\n",
       "    value += event.which.toString();\n",
       "\n",
       "    this._key_event_extra(event, name);\n",
       "\n",
       "    this.send_message(name, {key: value,\n",
       "                             guiEvent: simpleKeys(event)});\n",
       "    return false;\n",
       "}\n",
       "\n",
       "mpl.figure.prototype.toolbar_button_onclick = function(name) {\n",
       "    if (name == 'download') {\n",
       "        this.handle_save(this, null);\n",
       "    } else {\n",
       "        this.send_message(\"toolbar_button\", {name: name});\n",
       "    }\n",
       "};\n",
       "\n",
       "mpl.figure.prototype.toolbar_button_onmouseover = function(tooltip) {\n",
       "    this.message.textContent = tooltip;\n",
       "};\n",
       "mpl.toolbar_items = [[\"Home\", \"Reset original view\", \"fa fa-home icon-home\", \"home\"], [\"Back\", \"Back to  previous view\", \"fa fa-arrow-left icon-arrow-left\", \"back\"], [\"Forward\", \"Forward to next view\", \"fa fa-arrow-right icon-arrow-right\", \"forward\"], [\"\", \"\", \"\", \"\"], [\"Pan\", \"Pan axes with left mouse, zoom with right\", \"fa fa-arrows icon-move\", \"pan\"], [\"Zoom\", \"Zoom to rectangle\", \"fa fa-square-o icon-check-empty\", \"zoom\"], [\"\", \"\", \"\", \"\"], [\"Download\", \"Download plot\", \"fa fa-floppy-o icon-save\", \"download\"]];\n",
       "\n",
       "mpl.extensions = [\"eps\", \"jpeg\", \"pdf\", \"png\", \"ps\", \"raw\", \"svg\", \"tif\"];\n",
       "\n",
       "mpl.default_extension = \"png\";var comm_websocket_adapter = function(comm) {\n",
       "    // Create a \"websocket\"-like object which calls the given IPython comm\n",
       "    // object with the appropriate methods. Currently this is a non binary\n",
       "    // socket, so there is still some room for performance tuning.\n",
       "    var ws = {};\n",
       "\n",
       "    ws.close = function() {\n",
       "        comm.close()\n",
       "    };\n",
       "    ws.send = function(m) {\n",
       "        //console.log('sending', m);\n",
       "        comm.send(m);\n",
       "    };\n",
       "    // Register the callback with on_msg.\n",
       "    comm.on_msg(function(msg) {\n",
       "        //console.log('receiving', msg['content']['data'], msg);\n",
       "        // Pass the mpl event to the overriden (by mpl) onmessage function.\n",
       "        ws.onmessage(msg['content']['data'])\n",
       "    });\n",
       "    return ws;\n",
       "}\n",
       "\n",
       "mpl.mpl_figure_comm = function(comm, msg) {\n",
       "    // This is the function which gets called when the mpl process\n",
       "    // starts-up an IPython Comm through the \"matplotlib\" channel.\n",
       "\n",
       "    var id = msg.content.data.id;\n",
       "    // Get hold of the div created by the display call when the Comm\n",
       "    // socket was opened in Python.\n",
       "    var element = $(\"#\" + id);\n",
       "    var ws_proxy = comm_websocket_adapter(comm)\n",
       "\n",
       "    function ondownload(figure, format) {\n",
       "        window.open(figure.imageObj.src);\n",
       "    }\n",
       "\n",
       "    var fig = new mpl.figure(id, ws_proxy,\n",
       "                           ondownload,\n",
       "                           element.get(0));\n",
       "\n",
       "    // Call onopen now - mpl needs it, as it is assuming we've passed it a real\n",
       "    // web socket which is closed, not our websocket->open comm proxy.\n",
       "    ws_proxy.onopen();\n",
       "\n",
       "    fig.parent_element = element.get(0);\n",
       "    fig.cell_info = mpl.find_output_cell(\"<div id='\" + id + \"'></div>\");\n",
       "    if (!fig.cell_info) {\n",
       "        console.error(\"Failed to find cell for figure\", id, fig);\n",
       "        return;\n",
       "    }\n",
       "\n",
       "    var output_index = fig.cell_info[2]\n",
       "    var cell = fig.cell_info[0];\n",
       "\n",
       "};\n",
       "\n",
       "mpl.figure.prototype.handle_close = function(fig, msg) {\n",
       "    var width = fig.canvas.width/mpl.ratio\n",
       "    fig.root.unbind('remove')\n",
       "\n",
       "    // Update the output cell to use the data from the current canvas.\n",
       "    fig.push_to_output();\n",
       "    var dataURL = fig.canvas.toDataURL();\n",
       "    // Re-enable the keyboard manager in IPython - without this line, in FF,\n",
       "    // the notebook keyboard shortcuts fail.\n",
       "    IPython.keyboard_manager.enable()\n",
       "    $(fig.parent_element).html('<img src=\"' + dataURL + '\" width=\"' + width + '\">');\n",
       "    fig.close_ws(fig, msg);\n",
       "}\n",
       "\n",
       "mpl.figure.prototype.close_ws = function(fig, msg){\n",
       "    fig.send_message('closing', msg);\n",
       "    // fig.ws.close()\n",
       "}\n",
       "\n",
       "mpl.figure.prototype.push_to_output = function(remove_interactive) {\n",
       "    // Turn the data on the canvas into data in the output cell.\n",
       "    var width = this.canvas.width/mpl.ratio\n",
       "    var dataURL = this.canvas.toDataURL();\n",
       "    this.cell_info[1]['text/html'] = '<img src=\"' + dataURL + '\" width=\"' + width + '\">';\n",
       "}\n",
       "\n",
       "mpl.figure.prototype.updated_canvas_event = function() {\n",
       "    // Tell IPython that the notebook contents must change.\n",
       "    IPython.notebook.set_dirty(true);\n",
       "    this.send_message(\"ack\", {});\n",
       "    var fig = this;\n",
       "    // Wait a second, then push the new image to the DOM so\n",
       "    // that it is saved nicely (might be nice to debounce this).\n",
       "    setTimeout(function () { fig.push_to_output() }, 1000);\n",
       "}\n",
       "\n",
       "mpl.figure.prototype._init_toolbar = function() {\n",
       "    var fig = this;\n",
       "\n",
       "    var nav_element = $('<div/>')\n",
       "    nav_element.attr('style', 'width: 100%');\n",
       "    this.root.append(nav_element);\n",
       "\n",
       "    // Define a callback function for later on.\n",
       "    function toolbar_event(event) {\n",
       "        return fig.toolbar_button_onclick(event['data']);\n",
       "    }\n",
       "    function toolbar_mouse_event(event) {\n",
       "        return fig.toolbar_button_onmouseover(event['data']);\n",
       "    }\n",
       "\n",
       "    for(var toolbar_ind in mpl.toolbar_items){\n",
       "        var name = mpl.toolbar_items[toolbar_ind][0];\n",
       "        var tooltip = mpl.toolbar_items[toolbar_ind][1];\n",
       "        var image = mpl.toolbar_items[toolbar_ind][2];\n",
       "        var method_name = mpl.toolbar_items[toolbar_ind][3];\n",
       "\n",
       "        if (!name) { continue; };\n",
       "\n",
       "        var button = $('<button class=\"btn btn-default\" href=\"#\" title=\"' + name + '\"><i class=\"fa ' + image + ' fa-lg\"></i></button>');\n",
       "        button.click(method_name, toolbar_event);\n",
       "        button.mouseover(tooltip, toolbar_mouse_event);\n",
       "        nav_element.append(button);\n",
       "    }\n",
       "\n",
       "    // Add the status bar.\n",
       "    var status_bar = $('<span class=\"mpl-message\" style=\"text-align:right; float: right;\"/>');\n",
       "    nav_element.append(status_bar);\n",
       "    this.message = status_bar[0];\n",
       "\n",
       "    // Add the close button to the window.\n",
       "    var buttongrp = $('<div class=\"btn-group inline pull-right\"></div>');\n",
       "    var button = $('<button class=\"btn btn-mini btn-primary\" href=\"#\" title=\"Stop Interaction\"><i class=\"fa fa-power-off icon-remove icon-large\"></i></button>');\n",
       "    button.click(function (evt) { fig.handle_close(fig, {}); } );\n",
       "    button.mouseover('Stop Interaction', toolbar_mouse_event);\n",
       "    buttongrp.append(button);\n",
       "    var titlebar = this.root.find($('.ui-dialog-titlebar'));\n",
       "    titlebar.prepend(buttongrp);\n",
       "}\n",
       "\n",
       "mpl.figure.prototype._root_extra_style = function(el){\n",
       "    var fig = this\n",
       "    el.on(\"remove\", function(){\n",
       "\tfig.close_ws(fig, {});\n",
       "    });\n",
       "}\n",
       "\n",
       "mpl.figure.prototype._canvas_extra_style = function(el){\n",
       "    // this is important to make the div 'focusable\n",
       "    el.attr('tabindex', 0)\n",
       "    // reach out to IPython and tell the keyboard manager to turn it's self\n",
       "    // off when our div gets focus\n",
       "\n",
       "    // location in version 3\n",
       "    if (IPython.notebook.keyboard_manager) {\n",
       "        IPython.notebook.keyboard_manager.register_events(el);\n",
       "    }\n",
       "    else {\n",
       "        // location in version 2\n",
       "        IPython.keyboard_manager.register_events(el);\n",
       "    }\n",
       "\n",
       "}\n",
       "\n",
       "mpl.figure.prototype._key_event_extra = function(event, name) {\n",
       "    var manager = IPython.notebook.keyboard_manager;\n",
       "    if (!manager)\n",
       "        manager = IPython.keyboard_manager;\n",
       "\n",
       "    // Check for shift+enter\n",
       "    if (event.shiftKey && event.which == 13) {\n",
       "        this.canvas_div.blur();\n",
       "        // select the cell after this one\n",
       "        var index = IPython.notebook.find_cell_index(this.cell_info[0]);\n",
       "        IPython.notebook.select(index + 1);\n",
       "    }\n",
       "}\n",
       "\n",
       "mpl.figure.prototype.handle_save = function(fig, msg) {\n",
       "    fig.ondownload(fig, null);\n",
       "}\n",
       "\n",
       "\n",
       "mpl.find_output_cell = function(html_output) {\n",
       "    // Return the cell and output element which can be found *uniquely* in the notebook.\n",
       "    // Note - this is a bit hacky, but it is done because the \"notebook_saving.Notebook\"\n",
       "    // IPython event is triggered only after the cells have been serialised, which for\n",
       "    // our purposes (turning an active figure into a static one), is too late.\n",
       "    var cells = IPython.notebook.get_cells();\n",
       "    var ncells = cells.length;\n",
       "    for (var i=0; i<ncells; i++) {\n",
       "        var cell = cells[i];\n",
       "        if (cell.cell_type === 'code'){\n",
       "            for (var j=0; j<cell.output_area.outputs.length; j++) {\n",
       "                var data = cell.output_area.outputs[j];\n",
       "                if (data.data) {\n",
       "                    // IPython >= 3 moved mimebundle to data attribute of output\n",
       "                    data = data.data;\n",
       "                }\n",
       "                if (data['text/html'] == html_output) {\n",
       "                    return [cell, data, j];\n",
       "                }\n",
       "            }\n",
       "        }\n",
       "    }\n",
       "}\n",
       "\n",
       "// Register the function which deals with the matplotlib target/channel.\n",
       "// The kernel may be null if the page has been refreshed.\n",
       "if (IPython.notebook.kernel != null) {\n",
       "    IPython.notebook.kernel.comm_manager.register_target('matplotlib', mpl.mpl_figure_comm);\n",
       "}\n"
      ],
      "text/plain": [
       "<IPython.core.display.Javascript object>"
      ]
     },
     "metadata": {},
     "output_type": "display_data"
    },
    {
     "data": {
      "text/html": [
       "<img src=\"data:image/png;base64,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\" width=\"640\">"
      ],
      "text/plain": [
       "<IPython.core.display.HTML object>"
      ]
     },
     "metadata": {},
     "output_type": "display_data"
    }
   ],
   "source": [
    "showimage(100)"
   ]
  },
  {
   "cell_type": "markdown",
   "metadata": {},
   "source": [
    "## Train test split"
   ]
  },
  {
   "cell_type": "code",
   "execution_count": 14,
   "metadata": {},
   "outputs": [],
   "source": [
    "from sklearn.cross_validation import train_test_split\n",
    "from sklearn.metrics import accuracy_score, precision_score, recall_score, f1_score\n"
   ]
  },
  {
   "cell_type": "code",
   "execution_count": 21,
   "metadata": {
    "collapsed": true
   },
   "outputs": [],
   "source": [
    "X_train,X_test,y_train,y_test=train_test_split(train_data.iloc[:,1:],train_data.iloc[:,0],random_state=7)"
   ]
  },
  {
   "cell_type": "code",
   "execution_count": 16,
   "metadata": {
    "collapsed": true,
    "scrolled": true
   },
   "outputs": [],
   "source": [
    "from sklearn.model_selection import GridSearchCV"
   ]
  },
  {
   "cell_type": "code",
   "execution_count": 20,
   "metadata": {},
   "outputs": [
    {
     "data": {
      "text/plain": [
       "70000"
      ]
     },
     "execution_count": 20,
     "metadata": {},
     "output_type": "execute_result"
    }
   ],
   "source": [
    "train_data.shape[0]+test_data.shape[0]"
   ]
  },
  {
   "cell_type": "code",
   "execution_count": null,
   "metadata": {
    "collapsed": true
   },
   "outputs": [],
   "source": []
  },
  {
   "cell_type": "markdown",
   "metadata": {},
   "source": [
    "## Lets use neural networks"
   ]
  },
  {
   "cell_type": "code",
   "execution_count": 12,
   "metadata": {
    "collapsed": true
   },
   "outputs": [],
   "source": [
    "from sklearn.neural_network import MLPClassifier"
   ]
  },
  {
   "cell_type": "markdown",
   "metadata": {},
   "source": [
    "### Lets check how random_state changes accuracy in MLP Classifier with default settings"
   ]
  },
  {
   "cell_type": "code",
   "execution_count": 14,
   "metadata": {},
   "outputs": [
    {
     "data": {
      "text/plain": [
       "[mean: 0.96710, std: 0.00394, params: {'random_state': 0},\n",
       " mean: 0.97052, std: 0.00143, params: {'random_state': 1},\n",
       " mean: 0.96879, std: 0.00169, params: {'random_state': 2},\n",
       " mean: 0.96988, std: 0.00117, params: {'random_state': 3},\n",
       " mean: 0.96983, std: 0.00131, params: {'random_state': 4},\n",
       " mean: 0.96821, std: 0.00300, params: {'random_state': 5},\n",
       " mean: 0.96819, std: 0.00049, params: {'random_state': 6},\n",
       " mean: 0.96700, std: 0.00262, params: {'random_state': 7},\n",
       " mean: 0.97029, std: 0.00209, params: {'random_state': 8},\n",
       " mean: 0.96990, std: 0.00123, params: {'random_state': 9},\n",
       " mean: 0.96760, std: 0.00151, params: {'random_state': 10},\n",
       " mean: 0.97014, std: 0.00174, params: {'random_state': 11},\n",
       " mean: 0.96860, std: 0.00152, params: {'random_state': 12},\n",
       " mean: 0.96871, std: 0.00157, params: {'random_state': 13}]"
      ]
     },
     "execution_count": 14,
     "metadata": {},
     "output_type": "execute_result"
    }
   ],
   "source": [
    "param_grid={'random_state':[0,1,2,3,4,5,6,7,8,9,10,11,12,13]}\n",
    "grid=GridSearchCV(MLPClassifier(),param_grid,cv=3,scoring='accuracy')\n",
    "grid.fit(train_data.iloc[:,1:],train_data.iloc[:,0])\n",
    "grid.grid_scores_"
   ]
  },
  {
   "cell_type": "code",
   "execution_count": 16,
   "metadata": {},
   "outputs": [
    {
     "data": {
      "text/plain": [
       "[mean: 0.97271, std: 0.00065, params: {'hidden_layer_sizes': [200]},\n",
       " mean: 0.97255, std: 0.00325, params: {'hidden_layer_sizes': [200, 100]},\n",
       " mean: 0.97043, std: 0.00199, params: {'hidden_layer_sizes': [200, 100, 50]},\n",
       " mean: 0.96755, std: 0.00173, params: {'hidden_layer_sizes': [200, 100, 50, 20]},\n",
       " mean: 0.96086, std: 0.00511, params: {'hidden_layer_sizes': [200, 100, 50, 20, 10]}]"
      ]
     },
     "execution_count": 16,
     "metadata": {},
     "output_type": "execute_result"
    }
   ],
   "source": [
    "param_grid={'hidden_layer_sizes':[[200],[200,100],[200,100,50],[200,100,50,20],[200,100,50,20,10]]}\n",
    "grid=GridSearchCV(MLPClassifier(random_state=1),param_grid,cv=3,scoring='accuracy')\n",
    "grid.fit(train_data.iloc[:,1:],train_data.iloc[:,0])\n",
    "grid.grid_scores_"
   ]
  },
  {
   "cell_type": "code",
   "execution_count": 17,
   "metadata": {},
   "outputs": [
    {
     "data": {
      "text/plain": [
       "[mean: 0.97590, std: 0.00111, params: {'hidden_layer_sizes': 400},\n",
       " mean: 0.97300, std: 0.00300, params: {'hidden_layer_sizes': 300},\n",
       " mean: 0.97271, std: 0.00065, params: {'hidden_layer_sizes': 200},\n",
       " mean: 0.97052, std: 0.00143, params: {'hidden_layer_sizes': 100},\n",
       " mean: 0.96507, std: 0.00262, params: {'hidden_layer_sizes': 70},\n",
       " mean: 0.96448, std: 0.00150, params: {'hidden_layer_sizes': 50},\n",
       " mean: 0.94531, std: 0.00378, params: {'hidden_layer_sizes': 20},\n",
       " mean: 0.92945, std: 0.00320, params: {'hidden_layer_sizes': 10}]"
      ]
     },
     "execution_count": 17,
     "metadata": {},
     "output_type": "execute_result"
    }
   ],
   "source": [
    "param_grid={'hidden_layer_sizes':[400,300,200,100,70,50,20,10]}\n",
    "grid=GridSearchCV(MLPClassifier(random_state=1),param_grid,cv=3,scoring='accuracy')\n",
    "grid.fit(train_data.iloc[:,1:],train_data.iloc[:,0])\n",
    "grid.grid_scores_"
   ]
  },
  {
   "cell_type": "code",
   "execution_count": 18,
   "metadata": {
    "scrolled": true
   },
   "outputs": [
    {
     "data": {
      "text/plain": [
       "[mean: 0.97560, std: 0.00083, params: {'hidden_layer_sizes': 450},\n",
       " mean: 0.97567, std: 0.00073, params: {'hidden_layer_sizes': 500},\n",
       " mean: 0.97569, std: 0.00100, params: {'hidden_layer_sizes': 550},\n",
       " mean: 0.97607, std: 0.00117, params: {'hidden_layer_sizes': 600},\n",
       " mean: 0.97612, std: 0.00151, params: {'hidden_layer_sizes': 650},\n",
       " mean: 0.97652, std: 0.00133, params: {'hidden_layer_sizes': 700},\n",
       " mean: 0.97631, std: 0.00108, params: {'hidden_layer_sizes': 750}]"
      ]
     },
     "execution_count": 18,
     "metadata": {},
     "output_type": "execute_result"
    }
   ],
   "source": [
    "param_grid={'hidden_layer_sizes':[450,500,550,600,650,700,750]}\n",
    "grid=GridSearchCV(MLPClassifier(random_state=1),param_grid,cv=3,scoring='accuracy')\n",
    "grid.fit(train_data.iloc[:,1:],train_data.iloc[:,0])\n",
    "grid.grid_scores_"
   ]
  },
  {
   "cell_type": "code",
   "execution_count": 20,
   "metadata": {},
   "outputs": [
    {
     "data": {
      "text/plain": [
       "[mean: 0.97638, std: 0.00127, params: {'hidden_layer_sizes': 800},\n",
       " mean: 0.97590, std: 0.00165, params: {'hidden_layer_sizes': 850},\n",
       " mean: 0.97676, std: 0.00102, params: {'hidden_layer_sizes': 900},\n",
       " mean: 0.97679, std: 0.00107, params: {'hidden_layer_sizes': 1000},\n",
       " mean: 0.97679, std: 0.00071, params: {'hidden_layer_sizes': 1100},\n",
       " mean: 0.97340, std: 0.00625, params: {'hidden_layer_sizes': 1200}]"
      ]
     },
     "execution_count": 20,
     "metadata": {},
     "output_type": "execute_result"
    }
   ],
   "source": [
    "param_grid={'hidden_layer_sizes':[800,850,900,1000,1100,1200]}\n",
    "grid=GridSearchCV(MLPClassifier(random_state=1),param_grid,cv=3,scoring='accuracy')\n",
    "grid.fit(train_data.iloc[:,1:],train_data.iloc[:,0])\n",
    "grid.grid_scores_"
   ]
  },
  {
   "cell_type": "code",
   "execution_count": 19,
   "metadata": {
    "scrolled": true
   },
   "outputs": [
    {
     "data": {
      "text/plain": [
       "[mean: 0.97569, std: 0.00052, params: {'hidden_layer_sizes': [700, 400]},\n",
       " mean: 0.97600, std: 0.00180, params: {'hidden_layer_sizes': [700, 400, 200]},\n",
       " mean: 0.97138, std: 0.00080, params: {'hidden_layer_sizes': [700, 400, 200, 100]},\n",
       " mean: 0.97410, std: 0.00110, params: {'hidden_layer_sizes': [700, 400, 200, 100, 50]},\n",
       " mean: 0.97226, std: 0.00121, params: {'hidden_layer_sizes': [700, 400, 200, 100, 50, 20]}]"
      ]
     },
     "execution_count": 19,
     "metadata": {},
     "output_type": "execute_result"
    }
   ],
   "source": [
    "param_grid={'hidden_layer_sizes':[[700,400],[700,400,200],[700,400,200,100],[700,400,200,100,50],[700,400,200,100,50,20]]}\n",
    "grid=GridSearchCV(MLPClassifier(random_state=1),param_grid,cv=3,scoring='accuracy')\n",
    "grid.fit(train_data.iloc[:,1:],train_data.iloc[:,0])\n",
    "grid.grid_scores_"
   ]
  },
  {
   "cell_type": "code",
   "execution_count": 29,
   "metadata": {
    "collapsed": true
   },
   "outputs": [],
   "source": [
    "nn=MLPClassifier(hidden_layer_sizes=[900],random_state=1).fit(train_data.iloc[:,1:],train_data.iloc[:,0])\n",
    "\n"
   ]
  },
  {
   "cell_type": "code",
   "execution_count": 30,
   "metadata": {
    "scrolled": true
   },
   "outputs": [
    {
     "data": {
      "text/plain": [
       "MLPClassifier(activation='relu', alpha=0.0001, batch_size='auto', beta_1=0.9,\n",
       "       beta_2=0.999, early_stopping=False, epsilon=1e-08,\n",
       "       hidden_layer_sizes=[900], learning_rate='constant',\n",
       "       learning_rate_init=0.001, max_iter=200, momentum=0.9,\n",
       "       nesterovs_momentum=True, power_t=0.5, random_state=1, shuffle=True,\n",
       "       solver='adam', tol=0.0001, validation_fraction=0.1, verbose=False,\n",
       "       warm_start=False)"
      ]
     },
     "execution_count": 30,
     "metadata": {},
     "output_type": "execute_result"
    }
   ],
   "source": [
    "nn"
   ]
  },
  {
   "cell_type": "code",
   "execution_count": 33,
   "metadata": {},
   "outputs": [
    {
     "data": {
      "text/plain": [
       "0.99623809523809526"
      ]
     },
     "execution_count": 33,
     "metadata": {},
     "output_type": "execute_result"
    }
   ],
   "source": [
    "y_pred=nn.predict(train_data.iloc[:,1:])\n",
    "accuracy_score(train_data.iloc[:,0],y_pred)"
   ]
  },
  {
   "cell_type": "code",
   "execution_count": 34,
   "metadata": {
    "collapsed": true
   },
   "outputs": [],
   "source": [
    "df=pd.DataFrame([])\n",
    "df['ImageId']=np.arange(1,len(test_data)+1)\n",
    "df['Label']=nn.predict(test_data)\n",
    "df.to_csv('nn3trial900.csv',index=False)"
   ]
  },
  {
   "cell_type": "code",
   "execution_count": 35,
   "metadata": {},
   "outputs": [
    {
     "data": {
      "text/plain": [
       "[mean: 0.97276, std: 0.00575, params: {'hidden_layer_sizes': [700], 'random_state': 0},\n",
       " mean: 0.97652, std: 0.00133, params: {'hidden_layer_sizes': [700], 'random_state': 1},\n",
       " mean: 0.97483, std: 0.00257, params: {'hidden_layer_sizes': [700], 'random_state': 2},\n",
       " mean: 0.97464, std: 0.00195, params: {'hidden_layer_sizes': [700], 'random_state': 3},\n",
       " mean: 0.97324, std: 0.00444, params: {'hidden_layer_sizes': [700], 'random_state': 4},\n",
       " mean: 0.97350, std: 0.00421, params: {'hidden_layer_sizes': [700], 'random_state': 5},\n",
       " mean: 0.97626, std: 0.00156, params: {'hidden_layer_sizes': [700], 'random_state': 6},\n",
       " mean: 0.97595, std: 0.00097, params: {'hidden_layer_sizes': [700], 'random_state': 7},\n",
       " mean: 0.97681, std: 0.00109, params: {'hidden_layer_sizes': [700], 'random_state': 8},\n",
       " mean: 0.97607, std: 0.00097, params: {'hidden_layer_sizes': [700], 'random_state': 9},\n",
       " mean: 0.96943, std: 0.00552, params: {'hidden_layer_sizes': [700], 'random_state': 10},\n",
       " mean: 0.97626, std: 0.00103, params: {'hidden_layer_sizes': [700], 'random_state': 11},\n",
       " mean: 0.97610, std: 0.00122, params: {'hidden_layer_sizes': [700], 'random_state': 12},\n",
       " mean: 0.97693, std: 0.00117, params: {'hidden_layer_sizes': [700], 'random_state': 13},\n",
       " mean: 0.97236, std: 0.00080, params: {'hidden_layer_sizes': [700, 400], 'random_state': 0},\n",
       " mean: 0.97569, std: 0.00052, params: {'hidden_layer_sizes': [700, 400], 'random_state': 1},\n",
       " mean: 0.97355, std: 0.00198, params: {'hidden_layer_sizes': [700, 400], 'random_state': 2},\n",
       " mean: 0.97355, std: 0.00390, params: {'hidden_layer_sizes': [700, 400], 'random_state': 3},\n",
       " mean: 0.97169, std: 0.00091, params: {'hidden_layer_sizes': [700, 400], 'random_state': 4},\n",
       " mean: 0.96567, std: 0.00645, params: {'hidden_layer_sizes': [700, 400], 'random_state': 5},\n",
       " mean: 0.96610, std: 0.00561, params: {'hidden_layer_sizes': [700, 400], 'random_state': 6},\n",
       " mean: 0.97583, std: 0.00249, params: {'hidden_layer_sizes': [700, 400], 'random_state': 7},\n",
       " mean: 0.97067, std: 0.00526, params: {'hidden_layer_sizes': [700, 400], 'random_state': 8},\n",
       " mean: 0.97529, std: 0.00319, params: {'hidden_layer_sizes': [700, 400], 'random_state': 9},\n",
       " mean: 0.97176, std: 0.00196, params: {'hidden_layer_sizes': [700, 400], 'random_state': 10},\n",
       " mean: 0.97467, std: 0.00298, params: {'hidden_layer_sizes': [700, 400], 'random_state': 11},\n",
       " mean: 0.96940, std: 0.01222, params: {'hidden_layer_sizes': [700, 400], 'random_state': 12},\n",
       " mean: 0.96893, std: 0.00146, params: {'hidden_layer_sizes': [700, 400], 'random_state': 13},\n",
       " mean: 0.97276, std: 0.00048, params: {'hidden_layer_sizes': [700, 400, 200], 'random_state': 0},\n",
       " mean: 0.97600, std: 0.00180, params: {'hidden_layer_sizes': [700, 400, 200], 'random_state': 1},\n",
       " mean: 0.97355, std: 0.00125, params: {'hidden_layer_sizes': [700, 400, 200], 'random_state': 2},\n",
       " mean: 0.97410, std: 0.00196, params: {'hidden_layer_sizes': [700, 400, 200], 'random_state': 3},\n",
       " mean: 0.96950, std: 0.00715, params: {'hidden_layer_sizes': [700, 400, 200], 'random_state': 4},\n",
       " mean: 0.97486, std: 0.00073, params: {'hidden_layer_sizes': [700, 400, 200], 'random_state': 5},\n",
       " mean: 0.97133, std: 0.00340, params: {'hidden_layer_sizes': [700, 400, 200], 'random_state': 6},\n",
       " mean: 0.97379, std: 0.00212, params: {'hidden_layer_sizes': [700, 400, 200], 'random_state': 7},\n",
       " mean: 0.97214, std: 0.00046, params: {'hidden_layer_sizes': [700, 400, 200], 'random_state': 8},\n",
       " mean: 0.97326, std: 0.00174, params: {'hidden_layer_sizes': [700, 400, 200], 'random_state': 9},\n",
       " mean: 0.97155, std: 0.00471, params: {'hidden_layer_sizes': [700, 400, 200], 'random_state': 10},\n",
       " mean: 0.97343, std: 0.00361, params: {'hidden_layer_sizes': [700, 400, 200], 'random_state': 11},\n",
       " mean: 0.97343, std: 0.00215, params: {'hidden_layer_sizes': [700, 400, 200], 'random_state': 12},\n",
       " mean: 0.97414, std: 0.00259, params: {'hidden_layer_sizes': [700, 400, 200], 'random_state': 13}]"
      ]
     },
     "execution_count": 35,
     "metadata": {},
     "output_type": "execute_result"
    }
   ],
   "source": [
    "param_grid={'random_state':[0,1,2,3,4,5,6,7,8,9,10,11,12,13],'hidden_layer_sizes':[[700],[700,400],[700,400,200]]}\n",
    "grid=GridSearchCV(MLPClassifier(),param_grid,cv=3,scoring='accuracy')\n",
    "grid.fit(train_data.iloc[:,1:],train_data.iloc[:,0])\n",
    "grid.grid_scores_"
   ]
  },
  {
   "cell_type": "code",
   "execution_count": 36,
   "metadata": {},
   "outputs": [
    {
     "name": "stdout",
     "output_type": "stream",
     "text": [
      "Best Score\n",
      "0.9769285714285715\n",
      "Best model\n",
      "MLPClassifier(activation='relu', alpha=0.0001, batch_size='auto', beta_1=0.9,\n",
      "       beta_2=0.999, early_stopping=False, epsilon=1e-08,\n",
      "       hidden_layer_sizes=[700], learning_rate='constant',\n",
      "       learning_rate_init=0.001, max_iter=200, momentum=0.9,\n",
      "       nesterovs_momentum=True, power_t=0.5, random_state=13, shuffle=True,\n",
      "       solver='adam', tol=0.0001, validation_fraction=0.1, verbose=False,\n",
      "       warm_start=False)\n"
     ]
    }
   ],
   "source": [
    "print('Best Score')\n",
    "print(grid.best_score_)\n",
    "print('Best model')\n",
    "print(grid.best_estimator_)"
   ]
  },
  {
   "cell_type": "code",
   "execution_count": 17,
   "metadata": {
    "scrolled": true
   },
   "outputs": [
    {
     "data": {
      "text/plain": [
       "'0.19.1'"
      ]
     },
     "execution_count": 17,
     "metadata": {},
     "output_type": "execute_result"
    }
   ],
   "source": [
    "import sklearn\n",
    "sklearn.__version__"
   ]
  },
  {
   "cell_type": "code",
   "execution_count": 22,
   "metadata": {},
   "outputs": [
    {
     "name": "stderr",
     "output_type": "stream",
     "text": [
      "/anaconda/lib/python3.6/site-packages/sklearn/model_selection/_search.py:761: DeprecationWarning: The grid_scores_ attribute was deprecated in version 0.18 in favor of the more elaborate cv_results_ attribute. The grid_scores_ attribute will not be available from 0.20\n",
      "  DeprecationWarning)\n"
     ]
    },
    {
     "data": {
      "text/plain": [
       "[mean: 0.97283, std: 0.00069, params: {'alpha': 0.001},\n",
       " mean: 0.97307, std: 0.00081, params: {'alpha': 0.01},\n",
       " mean: 0.97214, std: 0.00208, params: {'alpha': 0.1},\n",
       " mean: 0.94071, std: 0.00584, params: {'alpha': 1},\n",
       " mean: 0.86536, std: 0.01282, params: {'alpha': 10}]"
      ]
     },
     "execution_count": 22,
     "metadata": {},
     "output_type": "execute_result"
    }
   ],
   "source": [
    "param_grid={'alpha':[0.001,0.01,0.1,1,10]}\n",
    "grid=GridSearchCV(MLPClassifier(random_state=1,hidden_layer_sizes=[200]),param_grid,cv=3,scoring='accuracy')\n",
    "grid.fit(train_data.iloc[:,1:],train_data.iloc[:,0])\n",
    "grid.grid_scores_"
   ]
  },
  {
   "cell_type": "code",
   "execution_count": 23,
   "metadata": {},
   "outputs": [
    {
     "name": "stderr",
     "output_type": "stream",
     "text": [
      "/anaconda/lib/python3.6/site-packages/sklearn/utils/deprecation.py:122: FutureWarning: You are accessing a training score ('mean_train_score'), which will not be available by default any more in 0.21. If you need training scores, please set return_train_score=True\n",
      "  warnings.warn(*warn_args, **warn_kwargs)\n",
      "/anaconda/lib/python3.6/site-packages/sklearn/utils/deprecation.py:122: FutureWarning: You are accessing a training score ('split0_train_score'), which will not be available by default any more in 0.21. If you need training scores, please set return_train_score=True\n",
      "  warnings.warn(*warn_args, **warn_kwargs)\n",
      "/anaconda/lib/python3.6/site-packages/sklearn/utils/deprecation.py:122: FutureWarning: You are accessing a training score ('split1_train_score'), which will not be available by default any more in 0.21. If you need training scores, please set return_train_score=True\n",
      "  warnings.warn(*warn_args, **warn_kwargs)\n",
      "/anaconda/lib/python3.6/site-packages/sklearn/utils/deprecation.py:122: FutureWarning: You are accessing a training score ('split2_train_score'), which will not be available by default any more in 0.21. If you need training scores, please set return_train_score=True\n",
      "  warnings.warn(*warn_args, **warn_kwargs)\n",
      "/anaconda/lib/python3.6/site-packages/sklearn/utils/deprecation.py:122: FutureWarning: You are accessing a training score ('std_train_score'), which will not be available by default any more in 0.21. If you need training scores, please set return_train_score=True\n",
      "  warnings.warn(*warn_args, **warn_kwargs)\n"
     ]
    },
    {
     "data": {
      "text/plain": [
       "{'mean_fit_time': array([ 50.06158559,  44.80725765,  50.05350304,  34.92439898,  36.38743424]),\n",
       " 'mean_score_time': array([ 0.14317433,  0.14801502,  0.14528163,  0.14734507,  0.14388132]),\n",
       " 'mean_test_score': array([ 0.97283333,  0.97307143,  0.97214286,  0.94071429,  0.86535714]),\n",
       " 'mean_train_score': array([ 0.99976191,  0.99939287,  0.99285752,  0.94900075,  0.86801305]),\n",
       " 'param_alpha': masked_array(data = [0.001 0.01 0.1 1 10],\n",
       "              mask = [False False False False False],\n",
       "        fill_value = ?),\n",
       " 'params': [{'alpha': 0.001},\n",
       "  {'alpha': 0.01},\n",
       "  {'alpha': 0.1},\n",
       "  {'alpha': 1},\n",
       "  {'alpha': 10}],\n",
       " 'rank_test_score': array([2, 1, 3, 4, 5], dtype=int32),\n",
       " 'split0_test_score': array([ 0.97336475,  0.97415024,  0.97507855,  0.94858612,  0.8828906 ]),\n",
       " 'split0_train_score': array([ 0.99989284,  0.99957137,  0.99807115,  0.95952993,  0.88398343]),\n",
       " 'split1_test_score': array([ 0.9732819 ,  0.97285326,  0.97049579,  0.93891985,  0.8526218 ]),\n",
       " 'split1_train_score': array([ 1.        ,  0.99996429,  0.99253625,  0.94793229,  0.85983144]),\n",
       " 'split2_test_score': array([ 0.97185312,  0.97221032,  0.97085298,  0.93463352,  0.86055151]),\n",
       " 'split2_train_score': array([ 0.9993929 ,  0.99864295,  0.98796515,  0.93954003,  0.86022427]),\n",
       " 'std_fit_time': array([  8.59015117,   4.30602519,  11.33098766,   3.06204858,   9.13777532]),\n",
       " 'std_score_time': array([ 0.00433987,  0.01462196,  0.01051218,  0.00375315,  0.00680924]),\n",
       " 'std_test_score': array([ 0.00069386,  0.00080688,  0.00208141,  0.00583591,  0.01281622]),\n",
       " 'std_train_score': array([ 0.00026457,  0.000554  ,  0.00413201,  0.00819574,  0.0112939 ])}"
      ]
     },
     "execution_count": 23,
     "metadata": {},
     "output_type": "execute_result"
    }
   ],
   "source": [
    "grid.cv_results_"
   ]
  },
  {
   "cell_type": "code",
   "execution_count": 20,
   "metadata": {},
   "outputs": [
    {
     "name": "stdout",
     "output_type": "stream",
     "text": [
      "Train accuracy single layer 200 neurons\n"
     ]
    },
    {
     "ename": "ValueError",
     "evalue": "Found input variables with inconsistent numbers of samples: [10500, 31500]",
     "output_type": "error",
     "traceback": [
      "\u001b[0;31m---------------------------------------------------------------------------\u001b[0m",
      "\u001b[0;31mValueError\u001b[0m                                Traceback (most recent call last)",
      "\u001b[0;32m<ipython-input-20-d92b357f07fe>\u001b[0m in \u001b[0;36m<module>\u001b[0;34m()\u001b[0m\n\u001b[1;32m      3\u001b[0m \u001b[0my_pred_train\u001b[0m\u001b[0;34m=\u001b[0m\u001b[0mnn\u001b[0m\u001b[0;34m.\u001b[0m\u001b[0mpredict\u001b[0m\u001b[0;34m(\u001b[0m\u001b[0mX_train\u001b[0m\u001b[0;34m)\u001b[0m\u001b[0;34m\u001b[0m\u001b[0m\n\u001b[1;32m      4\u001b[0m \u001b[0mprint\u001b[0m\u001b[0;34m(\u001b[0m\u001b[0;34m'Train accuracy single layer 200 neurons'\u001b[0m\u001b[0;34m)\u001b[0m\u001b[0;34m\u001b[0m\u001b[0m\n\u001b[0;32m----> 5\u001b[0;31m \u001b[0mprint\u001b[0m\u001b[0;34m(\u001b[0m\u001b[0maccuracy_score\u001b[0m\u001b[0;34m(\u001b[0m\u001b[0my_test\u001b[0m\u001b[0;34m,\u001b[0m\u001b[0my_pred_train\u001b[0m\u001b[0;34m)\u001b[0m\u001b[0;34m)\u001b[0m\u001b[0;34m\u001b[0m\u001b[0m\n\u001b[0m\u001b[1;32m      6\u001b[0m \u001b[0mprint\u001b[0m\u001b[0;34m(\u001b[0m\u001b[0;34m'Test accuracy single layer 200 neurons'\u001b[0m\u001b[0;34m)\u001b[0m\u001b[0;34m\u001b[0m\u001b[0m\n\u001b[1;32m      7\u001b[0m \u001b[0mprint\u001b[0m\u001b[0;34m(\u001b[0m\u001b[0maccuracy_score\u001b[0m\u001b[0;34m(\u001b[0m\u001b[0my_test\u001b[0m\u001b[0;34m,\u001b[0m\u001b[0my_pred\u001b[0m\u001b[0;34m)\u001b[0m\u001b[0;34m)\u001b[0m\u001b[0;34m\u001b[0m\u001b[0m\n",
      "\u001b[0;32m/anaconda/lib/python3.6/site-packages/sklearn/metrics/classification.py\u001b[0m in \u001b[0;36maccuracy_score\u001b[0;34m(y_true, y_pred, normalize, sample_weight)\u001b[0m\n\u001b[1;32m    174\u001b[0m \u001b[0;34m\u001b[0m\u001b[0m\n\u001b[1;32m    175\u001b[0m     \u001b[0;31m# Compute accuracy for each possible representation\u001b[0m\u001b[0;34m\u001b[0m\u001b[0;34m\u001b[0m\u001b[0m\n\u001b[0;32m--> 176\u001b[0;31m     \u001b[0my_type\u001b[0m\u001b[0;34m,\u001b[0m \u001b[0my_true\u001b[0m\u001b[0;34m,\u001b[0m \u001b[0my_pred\u001b[0m \u001b[0;34m=\u001b[0m \u001b[0m_check_targets\u001b[0m\u001b[0;34m(\u001b[0m\u001b[0my_true\u001b[0m\u001b[0;34m,\u001b[0m \u001b[0my_pred\u001b[0m\u001b[0;34m)\u001b[0m\u001b[0;34m\u001b[0m\u001b[0m\n\u001b[0m\u001b[1;32m    177\u001b[0m     \u001b[0;32mif\u001b[0m \u001b[0my_type\u001b[0m\u001b[0;34m.\u001b[0m\u001b[0mstartswith\u001b[0m\u001b[0;34m(\u001b[0m\u001b[0;34m'multilabel'\u001b[0m\u001b[0;34m)\u001b[0m\u001b[0;34m:\u001b[0m\u001b[0;34m\u001b[0m\u001b[0m\n\u001b[1;32m    178\u001b[0m         \u001b[0mdiffering_labels\u001b[0m \u001b[0;34m=\u001b[0m \u001b[0mcount_nonzero\u001b[0m\u001b[0;34m(\u001b[0m\u001b[0my_true\u001b[0m \u001b[0;34m-\u001b[0m \u001b[0my_pred\u001b[0m\u001b[0;34m,\u001b[0m \u001b[0maxis\u001b[0m\u001b[0;34m=\u001b[0m\u001b[0;36m1\u001b[0m\u001b[0;34m)\u001b[0m\u001b[0;34m\u001b[0m\u001b[0m\n",
      "\u001b[0;32m/anaconda/lib/python3.6/site-packages/sklearn/metrics/classification.py\u001b[0m in \u001b[0;36m_check_targets\u001b[0;34m(y_true, y_pred)\u001b[0m\n\u001b[1;32m     69\u001b[0m     \u001b[0my_pred\u001b[0m \u001b[0;34m:\u001b[0m \u001b[0marray\u001b[0m \u001b[0;32mor\u001b[0m \u001b[0mindicator\u001b[0m \u001b[0mmatrix\u001b[0m\u001b[0;34m\u001b[0m\u001b[0m\n\u001b[1;32m     70\u001b[0m     \"\"\"\n\u001b[0;32m---> 71\u001b[0;31m     \u001b[0mcheck_consistent_length\u001b[0m\u001b[0;34m(\u001b[0m\u001b[0my_true\u001b[0m\u001b[0;34m,\u001b[0m \u001b[0my_pred\u001b[0m\u001b[0;34m)\u001b[0m\u001b[0;34m\u001b[0m\u001b[0m\n\u001b[0m\u001b[1;32m     72\u001b[0m     \u001b[0mtype_true\u001b[0m \u001b[0;34m=\u001b[0m \u001b[0mtype_of_target\u001b[0m\u001b[0;34m(\u001b[0m\u001b[0my_true\u001b[0m\u001b[0;34m)\u001b[0m\u001b[0;34m\u001b[0m\u001b[0m\n\u001b[1;32m     73\u001b[0m     \u001b[0mtype_pred\u001b[0m \u001b[0;34m=\u001b[0m \u001b[0mtype_of_target\u001b[0m\u001b[0;34m(\u001b[0m\u001b[0my_pred\u001b[0m\u001b[0;34m)\u001b[0m\u001b[0;34m\u001b[0m\u001b[0m\n",
      "\u001b[0;32m/anaconda/lib/python3.6/site-packages/sklearn/utils/validation.py\u001b[0m in \u001b[0;36mcheck_consistent_length\u001b[0;34m(*arrays)\u001b[0m\n\u001b[1;32m    202\u001b[0m     \u001b[0;32mif\u001b[0m \u001b[0mlen\u001b[0m\u001b[0;34m(\u001b[0m\u001b[0muniques\u001b[0m\u001b[0;34m)\u001b[0m \u001b[0;34m>\u001b[0m \u001b[0;36m1\u001b[0m\u001b[0;34m:\u001b[0m\u001b[0;34m\u001b[0m\u001b[0m\n\u001b[1;32m    203\u001b[0m         raise ValueError(\"Found input variables with inconsistent numbers of\"\n\u001b[0;32m--> 204\u001b[0;31m                          \" samples: %r\" % [int(l) for l in lengths])\n\u001b[0m\u001b[1;32m    205\u001b[0m \u001b[0;34m\u001b[0m\u001b[0m\n\u001b[1;32m    206\u001b[0m \u001b[0;34m\u001b[0m\u001b[0m\n",
      "\u001b[0;31mValueError\u001b[0m: Found input variables with inconsistent numbers of samples: [10500, 31500]"
     ]
    }
   ],
   "source": [
    "nn=MLPClassifier(hidden_layer_sizes=[200],random_state=1).fit(X_train,y_train)\n",
    "y_pred=nn.predict(X_test)\n",
    "y_pred_train=nn.predict(X_train)\n"
   ]
  },
  {
   "cell_type": "code",
   "execution_count": 21,
   "metadata": {},
   "outputs": [
    {
     "name": "stdout",
     "output_type": "stream",
     "text": [
      "Train accuracy single layer 200 neurons\n",
      "1.0\n",
      "Test accuracy single layer 200 neurons\n",
      "0.975714285714\n"
     ]
    }
   ],
   "source": [
    "print('Train accuracy single layer 200 neurons')\n",
    "print(accuracy_score(y_train,y_pred_train))\n",
    "print('Test accuracy single layer 200 neurons')\n",
    "print(accuracy_score(y_test,y_pred))"
   ]
  },
  {
   "cell_type": "code",
   "execution_count": 18,
   "metadata": {},
   "outputs": [
    {
     "ename": "TypeError",
     "evalue": "__init__() got an unexpected keyword argument 'return_train_score'",
     "output_type": "error",
     "traceback": [
      "\u001b[0;31m---------------------------------------------------------------------------\u001b[0m",
      "\u001b[0;31mTypeError\u001b[0m                                 Traceback (most recent call last)",
      "\u001b[0;32m<ipython-input-18-3bd7561f9829>\u001b[0m in \u001b[0;36m<module>\u001b[0;34m()\u001b[0m\n\u001b[1;32m      1\u001b[0m \u001b[0mparam_grid\u001b[0m\u001b[0;34m=\u001b[0m\u001b[0;34m{\u001b[0m\u001b[0;34m'hidden_layer_sizes'\u001b[0m\u001b[0;34m:\u001b[0m\u001b[0;34m[\u001b[0m\u001b[0;34m[\u001b[0m\u001b[0;36m200\u001b[0m\u001b[0;34m]\u001b[0m\u001b[0;34m,\u001b[0m\u001b[0;34m[\u001b[0m\u001b[0;36m200\u001b[0m\u001b[0;34m,\u001b[0m\u001b[0;36m100\u001b[0m\u001b[0;34m]\u001b[0m\u001b[0;34m,\u001b[0m\u001b[0;34m[\u001b[0m\u001b[0;36m200\u001b[0m\u001b[0;34m,\u001b[0m\u001b[0;36m100\u001b[0m\u001b[0;34m,\u001b[0m\u001b[0;36m50\u001b[0m\u001b[0;34m]\u001b[0m\u001b[0;34m,\u001b[0m\u001b[0;34m[\u001b[0m\u001b[0;36m200\u001b[0m\u001b[0;34m,\u001b[0m\u001b[0;36m100\u001b[0m\u001b[0;34m,\u001b[0m\u001b[0;36m50\u001b[0m\u001b[0;34m,\u001b[0m\u001b[0;36m20\u001b[0m\u001b[0;34m]\u001b[0m\u001b[0;34m,\u001b[0m\u001b[0;34m[\u001b[0m\u001b[0;36m200\u001b[0m\u001b[0;34m,\u001b[0m\u001b[0;36m100\u001b[0m\u001b[0;34m,\u001b[0m\u001b[0;36m50\u001b[0m\u001b[0;34m,\u001b[0m\u001b[0;36m20\u001b[0m\u001b[0;34m,\u001b[0m\u001b[0;36m10\u001b[0m\u001b[0;34m]\u001b[0m\u001b[0;34m]\u001b[0m\u001b[0;34m}\u001b[0m\u001b[0;34m\u001b[0m\u001b[0m\n\u001b[0;32m----> 2\u001b[0;31m \u001b[0mgrid\u001b[0m\u001b[0;34m=\u001b[0m\u001b[0mGridSearchCV\u001b[0m\u001b[0;34m(\u001b[0m\u001b[0mMLPClassifier\u001b[0m\u001b[0;34m(\u001b[0m\u001b[0mrandom_state\u001b[0m\u001b[0;34m=\u001b[0m\u001b[0;36m1\u001b[0m\u001b[0;34m)\u001b[0m\u001b[0;34m,\u001b[0m\u001b[0mparam_grid\u001b[0m\u001b[0;34m,\u001b[0m\u001b[0mcv\u001b[0m\u001b[0;34m=\u001b[0m\u001b[0;36m3\u001b[0m\u001b[0;34m,\u001b[0m\u001b[0mscoring\u001b[0m\u001b[0;34m=\u001b[0m\u001b[0;34m'accuracy'\u001b[0m\u001b[0;34m,\u001b[0m\u001b[0mreturn_train_score\u001b[0m\u001b[0;34m=\u001b[0m\u001b[0;32mTrue\u001b[0m\u001b[0;34m)\u001b[0m\u001b[0;34m\u001b[0m\u001b[0m\n\u001b[0m\u001b[1;32m      3\u001b[0m \u001b[0mgrid\u001b[0m\u001b[0;34m.\u001b[0m\u001b[0mfit\u001b[0m\u001b[0;34m(\u001b[0m\u001b[0mtrain_data\u001b[0m\u001b[0;34m.\u001b[0m\u001b[0miloc\u001b[0m\u001b[0;34m[\u001b[0m\u001b[0;34m:\u001b[0m\u001b[0;34m,\u001b[0m\u001b[0;36m1\u001b[0m\u001b[0;34m:\u001b[0m\u001b[0;34m]\u001b[0m\u001b[0;34m,\u001b[0m\u001b[0mtrain_data\u001b[0m\u001b[0;34m.\u001b[0m\u001b[0miloc\u001b[0m\u001b[0;34m[\u001b[0m\u001b[0;34m:\u001b[0m\u001b[0;34m,\u001b[0m\u001b[0;36m0\u001b[0m\u001b[0;34m]\u001b[0m\u001b[0;34m)\u001b[0m\u001b[0;34m\u001b[0m\u001b[0m\n\u001b[1;32m      4\u001b[0m \u001b[0mgrid\u001b[0m\u001b[0;34m.\u001b[0m\u001b[0mgrid_scores_\u001b[0m\u001b[0;34m\u001b[0m\u001b[0m\n",
      "\u001b[0;31mTypeError\u001b[0m: __init__() got an unexpected keyword argument 'return_train_score'"
     ]
    }
   ],
   "source": [
    "param_grid={'hidden_layer_sizes':[[200],[200,100],[200,100,50],[200,100,50,20],[200,100,50,20,10]]}\n",
    "grid=GridSearchCV(MLPClassifier(random_state=1),param_grid,cv=3,scoring='accuracy',return_train_score=True)\n",
    "grid.fit(train_data.iloc[:,1:],train_data.iloc[:,0])\n",
    "grid.grid_scores_"
   ]
  },
  {
   "cell_type": "code",
   "execution_count": 5,
   "metadata": {
    "scrolled": true
   },
   "outputs": [
    {
     "name": "stdout",
     "output_type": "stream",
     "text": [
      "Iteration 1, loss = 0.43471426\n",
      "Iteration 2, loss = 0.20556213\n",
      "Iteration 3, loss = 0.15416142\n",
      "Iteration 4, loss = 0.12356414\n",
      "Iteration 5, loss = 0.10257062\n",
      "Iteration 6, loss = 0.08586438\n",
      "Iteration 7, loss = 0.07395911\n",
      "Iteration 8, loss = 0.06469260\n",
      "Iteration 9, loss = 0.05593641\n",
      "Iteration 10, loss = 0.05010502\n",
      "Iteration 11, loss = 0.04461080\n",
      "Iteration 12, loss = 0.03921453\n",
      "Iteration 13, loss = 0.03453824\n",
      "Iteration 14, loss = 0.03106020\n",
      "Iteration 15, loss = 0.02792967\n",
      "Iteration 16, loss = 0.02452409\n",
      "Iteration 17, loss = 0.02205413\n",
      "Iteration 18, loss = 0.01990611\n",
      "Iteration 19, loss = 0.01722551\n",
      "Iteration 20, loss = 0.01571201\n",
      "Iteration 21, loss = 0.01429605\n",
      "Iteration 22, loss = 0.01273820\n",
      "Iteration 23, loss = 0.01132272\n",
      "Iteration 24, loss = 0.01041662\n",
      "Iteration 25, loss = 0.00919763\n",
      "Iteration 26, loss = 0.00807811\n",
      "Iteration 27, loss = 0.00742990\n",
      "Iteration 28, loss = 0.00685021\n",
      "Iteration 29, loss = 0.00572193\n",
      "Iteration 30, loss = 0.00560572\n",
      "Iteration 31, loss = 0.00456151\n",
      "Iteration 32, loss = 0.00376708\n",
      "Iteration 33, loss = 0.00420496\n",
      "Iteration 34, loss = 0.00466815\n",
      "Iteration 35, loss = 0.00374385\n",
      "Training loss did not improve more than tol=0.000100 for two consecutive epochs. Stopping.\n"
     ]
    },
    {
     "data": {
      "text/plain": [
       "MLPClassifier(activation='relu', alpha=0.0001, batch_size='auto', beta_1=0.9,\n",
       "       beta_2=0.999, early_stopping=False, epsilon=1e-08,\n",
       "       hidden_layer_sizes=(100,), learning_rate='constant',\n",
       "       learning_rate_init=0.001, max_iter=200, momentum=0.9,\n",
       "       nesterovs_momentum=True, power_t=0.5, random_state=None,\n",
       "       shuffle=True, solver='adam', tol=0.0001, validation_fraction=0.1,\n",
       "       verbose=10, warm_start=True)"
      ]
     },
     "execution_count": 5,
     "metadata": {},
     "output_type": "execute_result"
    }
   ],
   "source": [
    "nn=MLPClassifier(verbose=10,warm_start=True).fit(X_train,y_train)\n",
    "nn"
   ]
  },
  {
   "cell_type": "code",
   "execution_count": 7,
   "metadata": {},
   "outputs": [
    {
     "name": "stdout",
     "output_type": "stream",
     "text": [
      "Test accuracy of neural network with default settings\n",
      "0.9792\n",
      "Train accuracy of neural network with default settings\n",
      "0.999816666667\n"
     ]
    }
   ],
   "source": [
    "from sklearn.metrics import accuracy_score\n",
    "y_predict=nn.predict(X_test)\n",
    "print('Test accuracy of neural network with default settings')\n",
    "print(accuracy_score(y_test,y_predict))\n",
    "y_predict_train=nn.predict(X_train)\n",
    "print('Train accuracy of neural network with default settings')\n",
    "print(accuracy_score(y_train,y_predict_train))"
   ]
  },
  {
   "cell_type": "code",
   "execution_count": 3,
   "metadata": {},
   "outputs": [
    {
     "name": "stdout",
     "output_type": "stream",
     "text": [
      "\n",
      "mlp = MLPClassifier(hidden_layer_sizes=(50,), max_iter=10, alpha=1e-4,\n",
      "                    solver='sgd', verbose=10, tol=1e-4, random_state=1,\n",
      "                    learning_rate_init=.1)\n",
      "\n",
      "Iteration 1, loss = 2.25749605\n",
      "Iteration 2, loss = 1.62138080\n",
      "Iteration 3, loss = 0.89536100\n",
      "Iteration 4, loss = 0.59770935\n",
      "Iteration 5, loss = 0.47234338\n",
      "Iteration 6, loss = 0.39842064\n",
      "Iteration 7, loss = 0.35044991\n",
      "Iteration 8, loss = 0.31438554\n",
      "Iteration 9, loss = 0.28575745\n",
      "Iteration 10, loss = 0.26276419\n",
      "Iteration 11, loss = 0.24330524\n",
      "Iteration 12, loss = 0.22587648\n",
      "Iteration 13, loss = 0.21068529\n",
      "Iteration 14, loss = 0.19710762\n",
      "Iteration 15, loss = 0.18543891\n",
      "Iteration 16, loss = 0.17482346\n",
      "Iteration 17, loss = 0.16538028\n",
      "Iteration 18, loss = 0.15642997\n",
      "Iteration 19, loss = 0.14891424\n",
      "Iteration 20, loss = 0.14161593\n",
      "Iteration 21, loss = 0.13509260\n",
      "Iteration 22, loss = 0.12879921\n",
      "Iteration 23, loss = 0.12304022\n",
      "Iteration 24, loss = 0.11760306\n",
      "Iteration 25, loss = 0.11291989\n",
      "Iteration 26, loss = 0.10807688\n",
      "Iteration 27, loss = 0.10395498\n",
      "Iteration 28, loss = 0.09986883\n",
      "Iteration 29, loss = 0.09589079\n",
      "Iteration 30, loss = 0.09238863\n",
      "Iteration 31, loss = 0.08931971\n",
      "Iteration 32, loss = 0.08554932\n",
      "Iteration 33, loss = 0.08218113\n",
      "Iteration 34, loss = 0.07981230\n",
      "Iteration 35, loss = 0.07689319\n",
      "Iteration 36, loss = 0.07383148\n",
      "Iteration 37, loss = 0.07115901\n",
      "Iteration 38, loss = 0.06857915\n",
      "Iteration 39, loss = 0.06648722\n",
      "Iteration 40, loss = 0.06398824\n",
      "Iteration 41, loss = 0.06196522\n",
      "Iteration 42, loss = 0.05973451\n",
      "Iteration 43, loss = 0.05808645\n",
      "Iteration 44, loss = 0.05548713\n",
      "Iteration 45, loss = 0.05378603\n",
      "Iteration 46, loss = 0.05172075\n",
      "Iteration 47, loss = 0.04990136\n",
      "Iteration 48, loss = 0.04772158\n",
      "Iteration 49, loss = 0.04623691\n",
      "Iteration 50, loss = 0.04484896\n",
      "Iteration 51, loss = 0.04306946\n",
      "Iteration 52, loss = 0.04129273\n",
      "Iteration 53, loss = 0.04013020\n",
      "Iteration 54, loss = 0.03855028\n",
      "Iteration 55, loss = 0.03683114\n",
      "Iteration 56, loss = 0.03578411\n",
      "Iteration 57, loss = 0.03475052\n",
      "Iteration 58, loss = 0.03308666\n",
      "Iteration 59, loss = 0.03187228\n",
      "Iteration 60, loss = 0.03080271\n",
      "Iteration 61, loss = 0.02914836\n",
      "Iteration 62, loss = 0.02837772\n",
      "Iteration 63, loss = 0.02710461\n",
      "Iteration 64, loss = 0.02633894\n",
      "Iteration 65, loss = 0.02515499\n",
      "Iteration 66, loss = 0.02400412\n",
      "Iteration 67, loss = 0.02311752\n",
      "Iteration 68, loss = 0.02216734\n",
      "Iteration 69, loss = 0.02134794\n",
      "Iteration 70, loss = 0.02020519\n",
      "Iteration 71, loss = 0.01943660\n",
      "Iteration 72, loss = 0.01874437\n",
      "Iteration 73, loss = 0.01776153\n",
      "Iteration 74, loss = 0.01707160\n",
      "Iteration 75, loss = 0.01653299\n",
      "Iteration 76, loss = 0.01577439\n",
      "Iteration 77, loss = 0.01504202\n",
      "Iteration 78, loss = 0.01473234\n",
      "Iteration 79, loss = 0.01395584\n",
      "Iteration 80, loss = 0.01353665\n",
      "Iteration 81, loss = 0.01269376\n",
      "Iteration 82, loss = 0.01234250\n",
      "Iteration 83, loss = 0.01185901\n",
      "Iteration 84, loss = 0.01123741\n",
      "Iteration 85, loss = 0.01075674\n",
      "Iteration 86, loss = 0.01021486\n",
      "Iteration 87, loss = 0.00971353\n",
      "Iteration 88, loss = 0.00941352\n",
      "Iteration 89, loss = 0.00915765\n",
      "Iteration 90, loss = 0.00869796\n",
      "Iteration 91, loss = 0.00828153\n",
      "Iteration 92, loss = 0.00784003\n",
      "Iteration 93, loss = 0.00762915\n",
      "Iteration 94, loss = 0.00725579\n",
      "Iteration 95, loss = 0.00699869\n",
      "Iteration 96, loss = 0.00669132\n",
      "Iteration 97, loss = 0.00641234\n",
      "Iteration 98, loss = 0.00614585\n",
      "Iteration 99, loss = 0.00584530\n",
      "Iteration 100, loss = 0.00565512\n",
      "Iteration 101, loss = 0.00548192\n",
      "Iteration 102, loss = 0.00516172\n",
      "Iteration 103, loss = 0.00501417\n",
      "Iteration 104, loss = 0.00474582\n",
      "Iteration 105, loss = 0.00460489\n",
      "Iteration 106, loss = 0.00445580\n",
      "Iteration 107, loss = 0.00438569\n",
      "Iteration 108, loss = 0.00413757\n",
      "Iteration 109, loss = 0.00404700\n",
      "Iteration 110, loss = 0.00385112\n",
      "Iteration 111, loss = 0.00373480\n",
      "Iteration 112, loss = 0.00363131\n",
      "Iteration 113, loss = 0.00351524\n",
      "Iteration 114, loss = 0.00337664\n",
      "Iteration 115, loss = 0.00327555\n",
      "Iteration 116, loss = 0.00316472\n",
      "Iteration 117, loss = 0.00311793\n",
      "Iteration 118, loss = 0.00300838\n",
      "Iteration 119, loss = 0.00291747\n",
      "Iteration 120, loss = 0.00284198\n",
      "Iteration 121, loss = 0.00278984\n",
      "Training loss did not improve more than tol=0.000100 for two consecutive epochs. Stopping.\n",
      "Training set score: 1.000000\n",
      "Test set score: 0.972400\n"
     ]
    },
    {
     "data": {
      "image/png": "[encoded data removed]",
      "text/plain": [
       "<matplotlib.figure.Figure at 0x26d1eceddd8>"
      ]
     },
     "metadata": {},
     "output_type": "display_data"
    }
   ],
   "source": [
    "print(__doc__)\n",
    "\n",
    "import matplotlib.pyplot as plt\n",
    "from sklearn.datasets import fetch_mldata\n",
    "from sklearn.neural_network import MLPClassifier\n",
    "\n",
    "mnist = fetch_mldata(\"MNIST original\")\n",
    "# rescale the data, use the traditional train/test split\n",
    "X, y = mnist.data / 255., mnist.target\n",
    "X_train, X_test = X[:60000], X[60000:]\n",
    "y_train, y_test = y[:60000], y[60000:]\n",
    "\n",
    "mlp = MLPClassifier(hidden_layer_sizes=(200, 100,60,30,10), max_iter=400, alpha=1e-4,\n",
    "                     solver='sgd', verbose=10, tol=1e-4, random_state=1)\n",
    "'''\n",
    "mlp = MLPClassifier(hidden_layer_sizes=(50,), max_iter=10, alpha=1e-4,\n",
    "                    solver='sgd', verbose=10, tol=1e-4, random_state=1,\n",
    "                    learning_rate_init=.1)\n",
    "'''\n",
    "mlp.fit(X_train, y_train)\n",
    "print(\"Training set score: %f\" % mlp.score(X_train, y_train))\n",
    "print(\"Test set score: %f\" % mlp.score(X_test, y_test))\n",
    "\n",
    "fig, axes = plt.subplots(4, 4)\n",
    "# use global min / max to ensure all weights are shown on the same scale\n",
    "vmin, vmax = mlp.coefs_[0].min(), mlp.coefs_[0].max()\n",
    "for coef, ax in zip(mlp.coefs_[0].T, axes.ravel()):\n",
    "    ax.matshow(coef.reshape(28, 28), cmap=plt.cm.gray, vmin=.5 * vmin,\n",
    "               vmax=.5 * vmax)\n",
    "    ax.set_xticks(())\n",
    "    ax.set_yticks(())\n",
    "\n",
    "plt.show()"
   ]
  },
  {
   "cell_type": "code",
   "execution_count": 25,
   "metadata": {},
   "outputs": [
    {
     "name": "stdout",
     "output_type": "stream",
     "text": [
      "Iteration 1, loss = 0.58222317\n",
      "Iteration 2, loss = 0.26383552\n",
      "Iteration 3, loss = 0.21111508\n",
      "Iteration 4, loss = 0.17590192\n",
      "Iteration 5, loss = 0.15070966\n",
      "Iteration 6, loss = 0.12950719\n",
      "Iteration 7, loss = 0.11354796\n",
      "Iteration 8, loss = 0.09871257\n",
      "Iteration 9, loss = 0.08831940\n"
     ]
    },
    {
     "name": "stderr",
     "output_type": "stream",
     "text": [
      "D:\\anaconda\\lib\\site-packages\\sklearn\\neural_network\\multilayer_perceptron.py:565: UserWarning: Training interrupted by user.\n",
      "  warnings.warn(\"Training interrupted by user.\")\n"
     ]
    },
    {
     "data": {
      "text/plain": [
       "MLPClassifier(activation='relu', alpha=0.0001, batch_size='auto', beta_1=0.9,\n",
       "       beta_2=0.999, early_stopping=False, epsilon=1e-08,\n",
       "       hidden_layer_sizes=(100,), learning_rate='constant',\n",
       "       learning_rate_init=0.001, max_iter=200, momentum=0.9,\n",
       "       nesterovs_momentum=True, power_t=0.5, random_state=None,\n",
       "       shuffle=True, solver='adam', tol=0.0001, validation_fraction=0.1,\n",
       "       verbose=True, warm_start=True)"
      ]
     },
     "execution_count": 25,
     "metadata": {},
     "output_type": "execute_result"
    }
   ],
   "source": [
    "MLPClassifier(verbose=True,warm_start=True).fit(X_train,y_train)"
   ]
  },
  {
   "cell_type": "code",
   "execution_count": 23,
   "metadata": {},
   "outputs": [
    {
     "name": "stdout",
     "output_type": "stream",
     "text": [
      "Test accuracy of neural network with default settings\n",
      "0.965047619048\n",
      "Train accuracy of neural network with default settings\n",
      "0.995587301587\n"
     ]
    }
   ],
   "source": [
    "y_predict=nn.predict(X_test)\n",
    "print('Test accuracy of neural network with default settings')\n",
    "print(accuracy_score(y_test,y_predict))\n",
    "y_predict_train=nn.predict(X_train)\n",
    "print('Train accuracy of neural network with default settings')\n",
    "print(accuracy_score(y_train,y_predict_train))"
   ]
  },
  {
   "cell_type": "code",
   "execution_count": 94,
   "metadata": {
    "collapsed": true
   },
   "outputs": [],
   "source": [
    "# let's try by just 10 neurons\n",
    "nn10=MLPClassifier(hidden_layer_sizes=10).fit(X_train,y_train)"
   ]
  },
  {
   "cell_type": "code",
   "execution_count": 96,
   "metadata": {},
   "outputs": [
    {
     "name": "stdout",
     "output_type": "stream",
     "text": [
      "Test accuracy of neural network with 10 neurons\n",
      "0.928952380952\n",
      "Train accuracy of neural network with 10 neurons\n",
      "1.0\n"
     ]
    }
   ],
   "source": [
    "y_predict=nn10.predict(X_test)\n",
    "print('Test accuracy of neural network with 10 neurons')\n",
    "print(accuracy_score(y_test,y_predict))\n",
    "y_predict_train=nn10.predict(X_train)\n",
    "print('Train accuracy of neural network with 10 neurons')\n",
    "print(accuracy_score(y_train,y_predict_train))"
   ]
  },
  {
   "cell_type": "code",
   "execution_count": 98,
   "metadata": {
    "collapsed": true
   },
   "outputs": [],
   "source": [
    "nnm=MLPClassifier(hidden_layer_sizes=[200,100,60,30,10]).fit(X_train,y_train)"
   ]
  },
  {
   "cell_type": "code",
   "execution_count": 99,
   "metadata": {
    "scrolled": true
   },
   "outputs": [
    {
     "name": "stdout",
     "output_type": "stream",
     "text": [
      "Test accuracy of neural network with 10 neurons\n",
      "0.974761904762\n",
      "Train accuracy of neural network with 10 neurons\n",
      "1.0\n"
     ]
    }
   ],
   "source": [
    "y_predict=nnm.predict(X_test)\n",
    "print('Test accuracy of neural network with 10 neurons')\n",
    "print(accuracy_score(y_test,y_predict))\n",
    "y_predict_train=nnm.predict(X_train)\n",
    "print('Train accuracy of neural network with 10 neurons')\n",
    "print(accuracy_score(y_train,y_predict_train))"
   ]
  },
  {
   "cell_type": "code",
   "execution_count": 110,
   "metadata": {
    "collapsed": true
   },
   "outputs": [],
   "source": [
    "df=pd.DataFrame([])\n",
    "df['ImageId']=np.arange(1,len(test_data)+1)\n",
    "df['Label']=nnm.predict(test_data)"
   ]
  },
  {
   "cell_type": "code",
   "execution_count": 111,
   "metadata": {
    "collapsed": true
   },
   "outputs": [],
   "source": [
    "df.to_csv('nn1trial.csv',index=False)"
   ]
  },
  {
   "cell_type": "code",
   "execution_count": 113,
   "metadata": {},
   "outputs": [
    {
     "data": {
      "text/html": [
       "<div>\n",
       "<style>\n",
       "    .dataframe thead tr:only-child th {\n",
       "        text-align: right;\n",
       "    }\n",
       "\n",
       "    .dataframe thead th {\n",
       "        text-align: left;\n",
       "    }\n",
       "\n",
       "    .dataframe tbody tr th {\n",
       "        vertical-align: top;\n",
       "    }\n",
       "</style>\n",
       "<table border=\"1\" class=\"dataframe\">\n",
       "  <thead>\n",
       "    <tr style=\"text-align: right;\">\n",
       "      <th></th>\n",
       "      <th>ImageId</th>\n",
       "      <th>Label</th>\n",
       "    </tr>\n",
       "  </thead>\n",
       "  <tbody>\n",
       "    <tr>\n",
       "      <th>27995</th>\n",
       "      <td>27996</td>\n",
       "      <td>9</td>\n",
       "    </tr>\n",
       "    <tr>\n",
       "      <th>27996</th>\n",
       "      <td>27997</td>\n",
       "      <td>7</td>\n",
       "    </tr>\n",
       "    <tr>\n",
       "      <th>27997</th>\n",
       "      <td>27998</td>\n",
       "      <td>3</td>\n",
       "    </tr>\n",
       "    <tr>\n",
       "      <th>27998</th>\n",
       "      <td>27999</td>\n",
       "      <td>9</td>\n",
       "    </tr>\n",
       "    <tr>\n",
       "      <th>27999</th>\n",
       "      <td>28000</td>\n",
       "      <td>2</td>\n",
       "    </tr>\n",
       "  </tbody>\n",
       "</table>\n",
       "</div>"
      ],
      "text/plain": [
       "       ImageId  Label\n",
       "27995    27996      9\n",
       "27996    27997      7\n",
       "27997    27998      3\n",
       "27998    27999      9\n",
       "27999    28000      2"
      ]
     },
     "execution_count": 113,
     "metadata": {},
     "output_type": "execute_result"
    }
   ],
   "source": [
    "df.tail()"
   ]
  },
  {
   "cell_type": "code",
   "execution_count": null,
   "metadata": {
    "collapsed": true
   },
   "outputs": [],
   "source": []
  },
  {
   "cell_type": "code",
   "execution_count": null,
   "metadata": {
    "collapsed": true
   },
   "outputs": [],
   "source": []
  },
  {
   "cell_type": "code",
   "execution_count": null,
   "metadata": {
    "collapsed": true
   },
   "outputs": [],
   "source": []
  },
  {
   "cell_type": "code",
   "execution_count": null,
   "metadata": {
    "collapsed": true
   },
   "outputs": [],
   "source": []
  },
  {
   "cell_type": "code",
   "execution_count": null,
   "metadata": {
    "collapsed": true
   },
   "outputs": [],
   "source": []
  },
  {
   "cell_type": "code",
   "execution_count": null,
   "metadata": {
    "collapsed": true
   },
   "outputs": [],
   "source": []
  },
  {
   "cell_type": "code",
   "execution_count": null,
   "metadata": {
    "collapsed": true
   },
   "outputs": [],
   "source": [
    "nnm2=MLPClassifier(hidden_layer_sizes=[200,100,60,30,10],max_iter=1000).fit(X_train,y_train)"
   ]
  },
  {
   "cell_type": "code",
   "execution_count": null,
   "metadata": {
    "collapsed": true
   },
   "outputs": [],
   "source": [
    "y_predict=nnm2.predict(X_test,verbose=true)\n",
    "print('Test accuracy of neural network with 10 neurons')\n",
    "print(accuracy_score(y_test,y_predict))\n",
    "y_predict_train=nnm2.predict(X_train)\n",
    "print('Train accuracy of neural network with 10 neurons')\n",
    "print(accuracy_score(y_train,y_predict_train))"
   ]
  },
  {
   "cell_type": "code",
   "execution_count": 109,
   "metadata": {},
   "outputs": [
    {
     "data": {
      "text/plain": [
       "MLPClassifier(activation='relu', alpha=0.0001, batch_size='auto', beta_1=0.9,\n",
       "       beta_2=0.999, early_stopping=False, epsilon=1e-08,\n",
       "       hidden_layer_sizes=[200, 100, 60, 30, 10], learning_rate='constant',\n",
       "       learning_rate_init=0.001, max_iter=1000, momentum=0.9,\n",
       "       nesterovs_momentum=True, power_t=0.5, random_state=None,\n",
       "       shuffle=True, solver='adam', tol=0.0001, validation_fraction=0.1,\n",
       "       verbose=False, warm_start=False)"
      ]
     },
     "execution_count": 109,
     "metadata": {},
     "output_type": "execute_result"
    }
   ],
   "source": [
    "nnm2"
   ]
  },
  {
   "cell_type": "code",
   "execution_count": 4,
   "metadata": {},
   "outputs": [
    {
     "ename": "NameError",
     "evalue": "name 'nnm2' is not defined",
     "output_type": "error",
     "traceback": [
      "\u001b[1;31m---------------------------------------------------------------------------\u001b[0m",
      "\u001b[1;31mNameError\u001b[0m                                 Traceback (most recent call last)",
      "\u001b[1;32m<ipython-input-4-a444cbf62166>\u001b[0m in \u001b[0;36m<module>\u001b[1;34m()\u001b[0m\n\u001b[1;32m----> 1\u001b[1;33m \u001b[0mnnm2\u001b[0m\u001b[1;33m\u001b[0m\u001b[0m\n\u001b[0m",
      "\u001b[1;31mNameError\u001b[0m: name 'nnm2' is not defined"
     ]
    }
   ],
   "source": [
    "nnm2"
   ]
  },
  {
   "cell_type": "code",
   "execution_count": 23,
   "metadata": {
    "collapsed": true
   },
   "outputs": [],
   "source": [
    "param_grid={'activation':[10,100,500,1000] }"
   ]
  },
  {
   "cell_type": "code",
   "execution_count": null,
   "metadata": {
    "collapsed": true
   },
   "outputs": [],
   "source": []
  },
  {
   "cell_type": "code",
   "execution_count": 35,
   "metadata": {
    "collapsed": true
   },
   "outputs": [],
   "source": [
    "# Lets start with default settings. To use is as benchmark\n",
    "nn=MLPClassifier().fit(X_train,y_train)"
   ]
  },
  {
   "cell_type": "code",
   "execution_count": 36,
   "metadata": {
    "collapsed": true
   },
   "outputs": [],
   "source": [
    "y_predict_nn=nn.predict(X_test)"
   ]
  },
  {
   "cell_type": "code",
   "execution_count": 37,
   "metadata": {
    "scrolled": true
   },
   "outputs": [
    {
     "name": "stdout",
     "output_type": "stream",
     "text": [
      "Accuracy of MLPClassifier with default settings is:\n",
      "0.943238095238\n"
     ]
    }
   ],
   "source": [
    "print('Accuracy of MLPClassifier with default settings is:')\n",
    "print(accuracy_score(y_test,y_predict_nn))"
   ]
  },
  {
   "cell_type": "code",
   "execution_count": 38,
   "metadata": {},
   "outputs": [
    {
     "data": {
      "text/plain": [
       "MLPClassifier(activation='relu', alpha=0.0001, batch_size='auto', beta_1=0.9,\n",
       "       beta_2=0.999, early_stopping=False, epsilon=1e-08,\n",
       "       hidden_layer_sizes=(100,), learning_rate='constant',\n",
       "       learning_rate_init=0.001, max_iter=200, momentum=0.9,\n",
       "       nesterovs_momentum=True, power_t=0.5, random_state=None,\n",
       "       shuffle=True, solver='adam', tol=0.0001, validation_fraction=0.1,\n",
       "       verbose=False, warm_start=False)"
      ]
     },
     "execution_count": 38,
     "metadata": {},
     "output_type": "execute_result"
    }
   ],
   "source": [
    "nn"
   ]
  },
  {
   "cell_type": "code",
   "execution_count": 39,
   "metadata": {
    "collapsed": true
   },
   "outputs": [],
   "source": [
    "nn3=MLPClassifier(hidden_layer_sizes=(1000, 500, 300,200,100)).fit(X_train,y_train)"
   ]
  },
  {
   "cell_type": "code",
   "execution_count": 40,
   "metadata": {
    "scrolled": true
   },
   "outputs": [
    {
     "name": "stdout",
     "output_type": "stream",
     "text": [
      "Accuracy of MLPClassifier with 3 layer[1000, 500, 300,200,100] settings is:\n",
      "0.969238095238\n"
     ]
    }
   ],
   "source": [
    "y_predict_nn3=nn3.predict(X_test)\n",
    "print('Accuracy of MLPClassifier with 3 layer[1000, 500, 300,200,100] settings is:')\n",
    "print(accuracy_score(y_test,y_predict_nn3))"
   ]
  },
  {
   "cell_type": "markdown",
   "metadata": {},
   "source": [
    "### Results are not impressive in fact it is not better than random forrest classifier. Tunning parameters is eccential. we will change alpha and learning rate"
   ]
  },
  {
   "cell_type": "code",
   "execution_count": 31,
   "metadata": {},
   "outputs": [
    {
     "data": {
      "text/plain": [
       "1200"
      ]
     },
     "execution_count": 31,
     "metadata": {},
     "output_type": "execute_result"
    }
   ],
   "source": [
    "nn3.max_iter"
   ]
  },
  {
   "cell_type": "code",
   "execution_count": 41,
   "metadata": {
    "collapsed": true
   },
   "outputs": [],
   "source": [
    "nn4=MLPClassifier(hidden_layer_sizes=(1000, 500, 300,200,100), max_iter=1200).fit(X_train,y_train)"
   ]
  },
  {
   "cell_type": "code",
   "execution_count": 43,
   "metadata": {},
   "outputs": [
    {
     "name": "stdout",
     "output_type": "stream",
     "text": [
      "Accuracy of MLPClassifier with 3 layer[200,100,500] settings is:\n",
      "0.965714285714\n"
     ]
    }
   ],
   "source": [
    "y_predict_nn4=nn4.predict(X_test)\n",
    "print('Accuracy of MLPClassifier with 3 layer[200,100,500] settings is:')\n",
    "print(accuracy_score(y_test,y_predict_nn4))"
   ]
  },
  {
   "cell_type": "code",
   "execution_count": 67,
   "metadata": {
    "scrolled": true
   },
   "outputs": [
    {
     "data": {
      "text/plain": [
       "10"
      ]
     },
     "execution_count": 67,
     "metadata": {},
     "output_type": "execute_result"
    }
   ],
   "source": [
    "nn4.hidden_layer_sizes"
   ]
  },
  {
   "cell_type": "code",
   "execution_count": 65,
   "metadata": {
    "collapsed": true
   },
   "outputs": [],
   "source": [
    "# Lets just try to use 10 neurons\n",
    "nn4=MLPClassifier(hidden_layer_sizes=[10],max_iter=1000,activation='relu').fit(X_train,y_train)"
   ]
  },
  {
   "cell_type": "code",
   "execution_count": 68,
   "metadata": {},
   "outputs": [
    {
     "name": "stdout",
     "output_type": "stream",
     "text": [
      "Accuracy of MLPClassifier with 1 layer, 10 neurons  settings is:\n",
      "0.870095238095\n"
     ]
    }
   ],
   "source": [
    "y_predict_nn4=nn4.predict(X_test)\n",
    "print('Accuracy of MLPClassifier with 1 layer, 10 neurons  settings is:')\n",
    "print(accuracy_score(y_test,y_predict_nn4))"
   ]
  },
  {
   "cell_type": "markdown",
   "metadata": {
    "collapsed": true
   },
   "source": [
    "## This block will be used to train neural networks"
   ]
  },
  {
   "cell_type": "code",
   "execution_count": 44,
   "metadata": {
    "collapsed": true
   },
   "outputs": [],
   "source": [
    "layers=[784,374,187,93,46,28,14]\n",
    "nn5=MLPClassifier(hidden_layer_sizes=layers).fit(X_train,y_train)"
   ]
  },
  {
   "cell_type": "code",
   "execution_count": 46,
   "metadata": {
    "scrolled": false
   },
   "outputs": [
    {
     "name": "stdout",
     "output_type": "stream",
     "text": [
      "Accuracy of MLPClassifier with[784,374,187,93,46,28,14] layer settings is:\n",
      "0.967904761905\n"
     ]
    }
   ],
   "source": [
    "y_predict_nn5=nn5.predict(X_test)\n",
    "print('Accuracy of MLPClassifier with[784,374,187,93,46,28,14] layer settings is:')\n",
    "print(accuracy_score(y_test,y_predict_nn5))"
   ]
  },
  {
   "cell_type": "code",
   "execution_count": 55,
   "metadata": {
    "collapsed": true
   },
   "outputs": [],
   "source": [
    "layers=[784]\n",
    "nn6=MLPClassifier(hidden_layer_sizes=layers).fit(X_train,y_train)"
   ]
  },
  {
   "cell_type": "code",
   "execution_count": 57,
   "metadata": {},
   "outputs": [
    {
     "name": "stdout",
     "output_type": "stream",
     "text": [
      "Accuracy of MLPClassifier with[784] layer settings is:\n",
      "0.960952380952\n"
     ]
    }
   ],
   "source": [
    "y_predict_nn6=nn6.predict(X_test)\n",
    "print('Accuracy of MLPClassifier with[784] layer settings is:')\n",
    "print(accuracy_score(y_test,y_predict_nn6))"
   ]
  },
  {
   "cell_type": "code",
   "execution_count": 53,
   "metadata": {},
   "outputs": [
    {
     "data": {
      "text/plain": [
       "[784]"
      ]
     },
     "execution_count": 53,
     "metadata": {},
     "output_type": "execute_result"
    }
   ],
   "source": [
    "nn6.hidden_layer_sizes"
   ]
  },
  {
   "cell_type": "code",
   "execution_count": 52,
   "metadata": {},
   "outputs": [
    {
     "data": {
      "text/plain": [
       "[784, 374, 187, 93, 46, 28, 14]"
      ]
     },
     "execution_count": 52,
     "metadata": {},
     "output_type": "execute_result"
    }
   ],
   "source": [
    "layers=[784,374,187,93,46,28,14] \n",
    "layers[:7]"
   ]
  },
  {
   "cell_type": "code",
   "execution_count": 1,
   "metadata": {},
   "outputs": [
    {
     "ename": "NameError",
     "evalue": "name 'MLPClassifier' is not defined",
     "output_type": "error",
     "traceback": [
      "\u001b[0;31m---------------------------------------------------------------------------\u001b[0m",
      "\u001b[0;31mNameError\u001b[0m                                 Traceback (most recent call last)",
      "\u001b[0;32m<ipython-input-1-3d67051c6519>\u001b[0m in \u001b[0;36m<module>\u001b[0;34m()\u001b[0m\n\u001b[1;32m      3\u001b[0m \u001b[0;32mfor\u001b[0m \u001b[0mi\u001b[0m \u001b[0;32min\u001b[0m \u001b[0mrange\u001b[0m\u001b[0;34m(\u001b[0m\u001b[0mlen\u001b[0m\u001b[0;34m(\u001b[0m\u001b[0mlayers\u001b[0m\u001b[0;34m)\u001b[0m\u001b[0;34m)\u001b[0m\u001b[0;34m:\u001b[0m\u001b[0;34m\u001b[0m\u001b[0m\n\u001b[1;32m      4\u001b[0m     \u001b[0mlayer\u001b[0m\u001b[0;34m=\u001b[0m\u001b[0mlayers\u001b[0m\u001b[0;34m[\u001b[0m\u001b[0;34m:\u001b[0m\u001b[0;34m(\u001b[0m\u001b[0mi\u001b[0m\u001b[0;34m+\u001b[0m\u001b[0;36m1\u001b[0m\u001b[0;34m)\u001b[0m\u001b[0;34m]\u001b[0m\u001b[0;34m\u001b[0m\u001b[0m\n\u001b[0;32m----> 5\u001b[0;31m     \u001b[0mnn\u001b[0m\u001b[0;34m=\u001b[0m\u001b[0mMLPClassifier\u001b[0m\u001b[0;34m(\u001b[0m\u001b[0mhidden_layer_sizes\u001b[0m\u001b[0;34m=\u001b[0m\u001b[0mlayer\u001b[0m\u001b[0;34m)\u001b[0m\u001b[0;34m.\u001b[0m\u001b[0mfit\u001b[0m\u001b[0;34m(\u001b[0m\u001b[0mX_train\u001b[0m\u001b[0;34m,\u001b[0m\u001b[0my_train\u001b[0m\u001b[0;34m)\u001b[0m\u001b[0;34m\u001b[0m\u001b[0m\n\u001b[0m\u001b[1;32m      6\u001b[0m     \u001b[0my_predict\u001b[0m\u001b[0;34m=\u001b[0m\u001b[0mnn\u001b[0m\u001b[0;34m.\u001b[0m\u001b[0mpredict\u001b[0m\u001b[0;34m(\u001b[0m\u001b[0mX_test\u001b[0m\u001b[0;34m)\u001b[0m\u001b[0;34m\u001b[0m\u001b[0m\n\u001b[1;32m      7\u001b[0m     \u001b[0mprint\u001b[0m\u001b[0;34m(\u001b[0m\u001b[0;34m'Accuracy of MLPClassifier with '\u001b[0m\u001b[0;34m+\u001b[0m\u001b[0mstr\u001b[0m\u001b[0;34m(\u001b[0m\u001b[0mnn\u001b[0m\u001b[0;34m.\u001b[0m\u001b[0mhidden_layer_sizes\u001b[0m\u001b[0;34m)\u001b[0m \u001b[0;34m+\u001b[0m\u001b[0;34m' layer settings is:'\u001b[0m\u001b[0;34m)\u001b[0m\u001b[0;34m\u001b[0m\u001b[0m\n",
      "\u001b[0;31mNameError\u001b[0m: name 'MLPClassifier' is not defined"
     ]
    }
   ],
   "source": [
    "layers=[784,374,187,93,46,28,14] # number of points is 784 pixels\n",
    "accuracy=[]\n",
    "for i in range(len(layers)):\n",
    "    layer=layers[:(i+1)]\n",
    "    nn=MLPClassifier(hidden_layer_sizes=layer).fit(X_train,y_train)\n",
    "    y_predict=nn.predict(X_test)\n",
    "    print('Accuracy of MLPClassifier with '+str(nn.hidden_layer_sizes) +' layer settings is:')\n",
    "    print(accuracy_score(y_test,y_predict))\n",
    "    accuracy.append(y_predict)\n",
    "    "
   ]
  },
  {
   "cell_type": "code",
   "execution_count": 48,
   "metadata": {},
   "outputs": [
    {
     "data": {
      "text/plain": [
       "GridSearchCV(cv=3, error_score='raise',\n",
       "       estimator=MLPClassifier(activation='relu', alpha=0.0001, batch_size='auto', beta_1=0.9,\n",
       "       beta_2=0.999, early_stopping=False, epsilon=1e-08,\n",
       "       hidden_layer_sizes=[10], learning_rate='constant',\n",
       "       learning_rate_init=0.001, max_iter=200, momentum=0.9,\n",
       "       nesterovs_momentum=True, power_t=0.5, random_state=7, shuffle=True,\n",
       "       solver='adam', tol=0.0001, validation_fraction=0.1, verbose=False,\n",
       "       warm_start=False),\n",
       "       fit_params={}, iid=True, n_jobs=1,\n",
       "       param_grid={'alpha': [0.0001, 0.001, 0.01, 0.1, 1, 10]},\n",
       "       pre_dispatch='2*n_jobs', refit=True, scoring='accuracy', verbose=0)"
      ]
     },
     "execution_count": 48,
     "metadata": {},
     "output_type": "execute_result"
    }
   ],
   "source": [
    "param_grid={'alpha':[0.0001,0.001,0.01,0.1,1,10] }\n",
    "grid=GridSearchCV(MLPClassifier(hidden_layer_sizes=[10],random_state=7),param_grid,cv=3,scoring='accuracy')\n",
    "grid.fit(X_train,y_train)"
   ]
  },
  {
   "cell_type": "code",
   "execution_count": 49,
   "metadata": {
    "scrolled": true
   },
   "outputs": [
    {
     "data": {
      "text/plain": [
       "[mean: 0.79924, std: 0.02996, params: {'alpha': 0.0001},\n",
       " mean: 0.77857, std: 0.08257, params: {'alpha': 0.001},\n",
       " mean: 0.80422, std: 0.05476, params: {'alpha': 0.01},\n",
       " mean: 0.79251, std: 0.07973, params: {'alpha': 0.1},\n",
       " mean: 0.88752, std: 0.01199, params: {'alpha': 1},\n",
       " mean: 0.90698, std: 0.01081, params: {'alpha': 10}]"
      ]
     },
     "execution_count": 49,
     "metadata": {},
     "output_type": "execute_result"
    }
   ],
   "source": [
    "grid.grid_scores_"
   ]
  },
  {
   "cell_type": "code",
   "execution_count": 58,
   "metadata": {
    "scrolled": true
   },
   "outputs": [
    {
     "data": {
      "text/plain": [
       "GridSearchCV(cv=3, error_score='raise',\n",
       "       estimator=MLPClassifier(activation='relu', alpha=0.0001, batch_size='auto', beta_1=0.9,\n",
       "       beta_2=0.999, early_stopping=False, epsilon=1e-08,\n",
       "       hidden_layer_sizes=[10], learning_rate='constant',\n",
       "       learning_rate_init=0.001, max_iter=200, momentum=0.9,\n",
       "       nesterovs_momentum=True, power_t=0.5, random_state=7, shuffle=True,\n",
       "       solver='adam', tol=0.0001, validation_fraction=0.1, verbose=False,\n",
       "       warm_start=False),\n",
       "       fit_params={}, iid=True, n_jobs=1,\n",
       "       param_grid={'alpha': [20, 40, 60, 80, 100]},\n",
       "       pre_dispatch='2*n_jobs', refit=True, scoring='accuracy', verbose=0)"
      ]
     },
     "execution_count": 58,
     "metadata": {},
     "output_type": "execute_result"
    }
   ],
   "source": [
    "param_grid={'alpha':[20,40,60,80,100] }\n",
    "grid=GridSearchCV(MLPClassifier(hidden_layer_sizes=[10],random_state=7),param_grid,cv=3,scoring='accuracy')\n",
    "grid.fit(X_train,y_train)"
   ]
  },
  {
   "cell_type": "code",
   "execution_count": 55,
   "metadata": {},
   "outputs": [
    {
     "data": {
      "text/plain": [
       "[mean: 0.90178, std: 0.01438, params: {'alpha': 20},\n",
       " mean: 0.91349, std: 0.00562, params: {'alpha': 40},\n",
       " mean: 0.90330, std: 0.01957, params: {'alpha': 60},\n",
       " mean: 0.90775, std: 0.01284, params: {'alpha': 80},\n",
       " mean: 0.90413, std: 0.00274, params: {'alpha': 100}]"
      ]
     },
     "execution_count": 55,
     "metadata": {},
     "output_type": "execute_result"
    }
   ],
   "source": [
    "grid.grid_scores_"
   ]
  },
  {
   "cell_type": "code",
   "execution_count": 65,
   "metadata": {
    "collapsed": true
   },
   "outputs": [],
   "source": [
    "nn=MLPClassifier(hidden_layer_sizes=[10],random_state=7,alpha=40,max_iter=1000).fit(X_train,y_train)"
   ]
  },
  {
   "cell_type": "code",
   "execution_count": 66,
   "metadata": {},
   "outputs": [
    {
     "data": {
      "text/plain": [
       "0.91780952380952385"
      ]
     },
     "execution_count": 66,
     "metadata": {},
     "output_type": "execute_result"
    }
   ],
   "source": [
    "y_pred=nn.predict(X_test)\n",
    "accuracy_score(y_test,y_pred)"
   ]
  },
  {
   "cell_type": "code",
   "execution_count": 64,
   "metadata": {},
   "outputs": [
    {
     "data": {
      "text/plain": [
       "MLPClassifier(activation='relu', alpha=40, batch_size='auto', beta_1=0.9,\n",
       "       beta_2=0.999, early_stopping=False, epsilon=1e-08,\n",
       "       hidden_layer_sizes=[200, 100, 60, 30, 10], learning_rate='constant',\n",
       "       learning_rate_init=0.001, max_iter=200, momentum=0.9,\n",
       "       nesterovs_momentum=True, power_t=0.5, random_state=7, shuffle=True,\n",
       "       solver='adam', tol=0.0001, validation_fraction=0.1, verbose=False,\n",
       "       warm_start=False)"
      ]
     },
     "execution_count": 64,
     "metadata": {},
     "output_type": "execute_result"
    }
   ],
   "source": [
    "nn"
   ]
  },
  {
   "cell_type": "code",
   "execution_count": 63,
   "metadata": {},
   "outputs": [
    {
     "ename": "ValueError",
     "evalue": "learning rate decay is not supported. ",
     "output_type": "error",
     "traceback": [
      "\u001b[0;31m---------------------------------------------------------------------------\u001b[0m",
      "\u001b[0;31mValueError\u001b[0m                                Traceback (most recent call last)",
      "\u001b[0;32m<ipython-input-63-f9c6ea13d145>\u001b[0m in \u001b[0;36m<module>\u001b[0;34m()\u001b[0m\n\u001b[0;32m----> 1\u001b[0;31m \u001b[0mnn\u001b[0m\u001b[0;34m=\u001b[0m\u001b[0mMLPClassifier\u001b[0m\u001b[0;34m(\u001b[0m\u001b[0mhidden_layer_sizes\u001b[0m\u001b[0;34m=\u001b[0m\u001b[0;34m[\u001b[0m\u001b[0;36m200\u001b[0m\u001b[0;34m,\u001b[0m\u001b[0;36m100\u001b[0m\u001b[0;34m,\u001b[0m\u001b[0;36m60\u001b[0m\u001b[0;34m,\u001b[0m\u001b[0;36m30\u001b[0m\u001b[0;34m,\u001b[0m\u001b[0;36m10\u001b[0m\u001b[0;34m]\u001b[0m\u001b[0;34m,\u001b[0m\u001b[0mrandom_state\u001b[0m\u001b[0;34m=\u001b[0m\u001b[0;36m7\u001b[0m\u001b[0;34m,\u001b[0m\u001b[0malpha\u001b[0m\u001b[0;34m=\u001b[0m\u001b[0;36m40\u001b[0m\u001b[0;34m,\u001b[0m\u001b[0mlearning_rate\u001b[0m\u001b[0;34m=\u001b[0m\u001b[0;34m'decay'\u001b[0m\u001b[0;34m)\u001b[0m\u001b[0;34m.\u001b[0m\u001b[0mfit\u001b[0m\u001b[0;34m(\u001b[0m\u001b[0mX_train\u001b[0m\u001b[0;34m,\u001b[0m\u001b[0my_train\u001b[0m\u001b[0;34m)\u001b[0m\u001b[0;34m\u001b[0m\u001b[0m\n\u001b[0m",
      "\u001b[0;32m/anaconda/lib/python3.6/site-packages/sklearn/neural_network/multilayer_perceptron.py\u001b[0m in \u001b[0;36mfit\u001b[0;34m(self, X, y)\u001b[0m\n\u001b[1;32m    616\u001b[0m         \u001b[0mself\u001b[0m \u001b[0;34m:\u001b[0m \u001b[0mreturns\u001b[0m \u001b[0ma\u001b[0m \u001b[0mtrained\u001b[0m \u001b[0mMLP\u001b[0m \u001b[0mmodel\u001b[0m\u001b[0;34m.\u001b[0m\u001b[0;34m\u001b[0m\u001b[0m\n\u001b[1;32m    617\u001b[0m         \"\"\"\n\u001b[0;32m--> 618\u001b[0;31m         \u001b[0;32mreturn\u001b[0m \u001b[0mself\u001b[0m\u001b[0;34m.\u001b[0m\u001b[0m_fit\u001b[0m\u001b[0;34m(\u001b[0m\u001b[0mX\u001b[0m\u001b[0;34m,\u001b[0m \u001b[0my\u001b[0m\u001b[0;34m,\u001b[0m \u001b[0mincremental\u001b[0m\u001b[0;34m=\u001b[0m\u001b[0;32mFalse\u001b[0m\u001b[0;34m)\u001b[0m\u001b[0;34m\u001b[0m\u001b[0m\n\u001b[0m\u001b[1;32m    619\u001b[0m \u001b[0;34m\u001b[0m\u001b[0m\n\u001b[1;32m    620\u001b[0m     \u001b[0;34m@\u001b[0m\u001b[0mproperty\u001b[0m\u001b[0;34m\u001b[0m\u001b[0m\n",
      "\u001b[0;32m/anaconda/lib/python3.6/site-packages/sklearn/neural_network/multilayer_perceptron.py\u001b[0m in \u001b[0;36m_fit\u001b[0;34m(self, X, y, incremental)\u001b[0m\n\u001b[1;32m    323\u001b[0m \u001b[0;34m\u001b[0m\u001b[0m\n\u001b[1;32m    324\u001b[0m         \u001b[0;31m# Validate input parameters.\u001b[0m\u001b[0;34m\u001b[0m\u001b[0;34m\u001b[0m\u001b[0m\n\u001b[0;32m--> 325\u001b[0;31m         \u001b[0mself\u001b[0m\u001b[0;34m.\u001b[0m\u001b[0m_validate_hyperparameters\u001b[0m\u001b[0;34m(\u001b[0m\u001b[0;34m)\u001b[0m\u001b[0;34m\u001b[0m\u001b[0m\n\u001b[0m\u001b[1;32m    326\u001b[0m         \u001b[0;32mif\u001b[0m \u001b[0mnp\u001b[0m\u001b[0;34m.\u001b[0m\u001b[0many\u001b[0m\u001b[0;34m(\u001b[0m\u001b[0mnp\u001b[0m\u001b[0;34m.\u001b[0m\u001b[0marray\u001b[0m\u001b[0;34m(\u001b[0m\u001b[0mhidden_layer_sizes\u001b[0m\u001b[0;34m)\u001b[0m \u001b[0;34m<=\u001b[0m \u001b[0;36m0\u001b[0m\u001b[0;34m)\u001b[0m\u001b[0;34m:\u001b[0m\u001b[0;34m\u001b[0m\u001b[0m\n\u001b[1;32m    327\u001b[0m             raise ValueError(\"hidden_layer_sizes must be > 0, got %s.\" %\n",
      "\u001b[0;32m/anaconda/lib/python3.6/site-packages/sklearn/neural_network/multilayer_perceptron.py\u001b[0m in \u001b[0;36m_validate_hyperparameters\u001b[0;34m(self)\u001b[0m\n\u001b[1;32m    424\u001b[0m         \u001b[0;32mif\u001b[0m \u001b[0mself\u001b[0m\u001b[0;34m.\u001b[0m\u001b[0mlearning_rate\u001b[0m \u001b[0;32mnot\u001b[0m \u001b[0;32min\u001b[0m \u001b[0;34m[\u001b[0m\u001b[0;34m\"constant\"\u001b[0m\u001b[0;34m,\u001b[0m \u001b[0;34m\"invscaling\"\u001b[0m\u001b[0;34m,\u001b[0m \u001b[0;34m\"adaptive\"\u001b[0m\u001b[0;34m]\u001b[0m\u001b[0;34m:\u001b[0m\u001b[0;34m\u001b[0m\u001b[0m\n\u001b[1;32m    425\u001b[0m             raise ValueError(\"learning rate %s is not supported. \" %\n\u001b[0;32m--> 426\u001b[0;31m                              self.learning_rate)\n\u001b[0m\u001b[1;32m    427\u001b[0m         \u001b[0msupported_solvers\u001b[0m \u001b[0;34m=\u001b[0m \u001b[0m_STOCHASTIC_SOLVERS\u001b[0m \u001b[0;34m+\u001b[0m \u001b[0;34m[\u001b[0m\u001b[0;34m\"lbfgs\"\u001b[0m\u001b[0;34m]\u001b[0m\u001b[0;34m\u001b[0m\u001b[0m\n\u001b[1;32m    428\u001b[0m         \u001b[0;32mif\u001b[0m \u001b[0mself\u001b[0m\u001b[0;34m.\u001b[0m\u001b[0msolver\u001b[0m \u001b[0;32mnot\u001b[0m \u001b[0;32min\u001b[0m \u001b[0msupported_solvers\u001b[0m\u001b[0;34m:\u001b[0m\u001b[0;34m\u001b[0m\u001b[0m\n",
      "\u001b[0;31mValueError\u001b[0m: learning rate decay is not supported. "
     ]
    }
   ],
   "source": [
    "nn=MLPClassifier(hidden_layer_sizes=[200,100,60,30,10],random_state=7,alpha=40,learning_rate='decay').fit(X_train,y_train)"
   ]
  },
  {
   "cell_type": "code",
   "execution_count": 60,
   "metadata": {},
   "outputs": [
    {
     "data": {
      "text/plain": [
       "0.89361904761904765"
      ]
     },
     "execution_count": 60,
     "metadata": {},
     "output_type": "execute_result"
    }
   ],
   "source": [
    "y_pred=nn.predict(X_test)\n",
    "accuracy_score(y_test,y_pred)"
   ]
  },
  {
   "cell_type": "code",
   "execution_count": 67,
   "metadata": {},
   "outputs": [
    {
     "name": "stdout",
     "output_type": "stream",
     "text": [
      "Automatically created module for IPython interactive environment\n",
      "Iteration 1, loss = 0.32212731\n",
      "Iteration 2, loss = 0.15738787\n",
      "Iteration 3, loss = 0.11647274\n",
      "Iteration 4, loss = 0.09631113\n",
      "Iteration 5, loss = 0.08074513\n",
      "Iteration 6, loss = 0.07163224\n",
      "Iteration 7, loss = 0.06351392\n",
      "Iteration 8, loss = 0.05694146\n",
      "Iteration 9, loss = 0.05213487\n",
      "Iteration 10, loss = 0.04708320\n"
     ]
    },
    {
     "name": "stderr",
     "output_type": "stream",
     "text": [
      "/anaconda/lib/python3.6/site-packages/sklearn/neural_network/multilayer_perceptron.py:563: ConvergenceWarning: Stochastic Optimizer: Maximum iterations reached and the optimization hasn't converged yet.\n",
      "  % (), ConvergenceWarning)\n"
     ]
    },
    {
     "name": "stdout",
     "output_type": "stream",
     "text": [
      "Training set score: 0.985733\n",
      "Test set score: 0.971000\n"
     ]
    },
    {
     "data": {
      "application/javascript": [
       "/* Put everything inside the global mpl namespace */\n",
       "window.mpl = {};\n",
       "\n",
       "\n",
       "mpl.get_websocket_type = function() {\n",
       "    if (typeof(WebSocket) !== 'undefined') {\n",
       "        return WebSocket;\n",
       "    } else if (typeof(MozWebSocket) !== 'undefined') {\n",
       "        return MozWebSocket;\n",
       "    } else {\n",
       "        alert('Your browser does not have WebSocket support.' +\n",
       "              'Please try Chrome, Safari or Firefox ≥ 6. ' +\n",
       "              'Firefox 4 and 5 are also supported but you ' +\n",
       "              'have to enable WebSockets in about:config.');\n",
       "    };\n",
       "}\n",
       "\n",
       "mpl.figure = function(figure_id, websocket, ondownload, parent_element) {\n",
       "    this.id = figure_id;\n",
       "\n",
       "    this.ws = websocket;\n",
       "\n",
       "    this.supports_binary = (this.ws.binaryType != undefined);\n",
       "\n",
       "    if (!this.supports_binary) {\n",
       "        var warnings = document.getElementById(\"mpl-warnings\");\n",
       "        if (warnings) {\n",
       "            warnings.style.display = 'block';\n",
       "            warnings.textContent = (\n",
       "                \"This browser does not support binary websocket messages. \" +\n",
       "                    \"Performance may be slow.\");\n",
       "        }\n",
       "    }\n",
       "\n",
       "    this.imageObj = new Image();\n",
       "\n",
       "    this.context = undefined;\n",
       "    this.message = undefined;\n",
       "    this.canvas = undefined;\n",
       "    this.rubberband_canvas = undefined;\n",
       "    this.rubberband_context = undefined;\n",
       "    this.format_dropdown = undefined;\n",
       "\n",
       "    this.image_mode = 'full';\n",
       "\n",
       "    this.root = $('<div/>');\n",
       "    this._root_extra_style(this.root)\n",
       "    this.root.attr('style', 'display: inline-block');\n",
       "\n",
       "    $(parent_element).append(this.root);\n",
       "\n",
       "    this._init_header(this);\n",
       "    this._init_canvas(this);\n",
       "    this._init_toolbar(this);\n",
       "\n",
       "    var fig = this;\n",
       "\n",
       "    this.waiting = false;\n",
       "\n",
       "    this.ws.onopen =  function () {\n",
       "            fig.send_message(\"supports_binary\", {value: fig.supports_binary});\n",
       "            fig.send_message(\"send_image_mode\", {});\n",
       "            if (mpl.ratio != 1) {\n",
       "                fig.send_message(\"set_dpi_ratio\", {'dpi_ratio': mpl.ratio});\n",
       "            }\n",
       "            fig.send_message(\"refresh\", {});\n",
       "        }\n",
       "\n",
       "    this.imageObj.onload = function() {\n",
       "            if (fig.image_mode == 'full') {\n",
       "                // Full images could contain transparency (where diff images\n",
       "                // almost always do), so we need to clear the canvas so that\n",
       "                // there is no ghosting.\n",
       "                fig.context.clearRect(0, 0, fig.canvas.width, fig.canvas.height);\n",
       "            }\n",
       "            fig.context.drawImage(fig.imageObj, 0, 0);\n",
       "        };\n",
       "\n",
       "    this.imageObj.onunload = function() {\n",
       "        this.ws.close();\n",
       "    }\n",
       "\n",
       "    this.ws.onmessage = this._make_on_message_function(this);\n",
       "\n",
       "    this.ondownload = ondownload;\n",
       "}\n",
       "\n",
       "mpl.figure.prototype._init_header = function() {\n",
       "    var titlebar = $(\n",
       "        '<div class=\"ui-dialog-titlebar ui-widget-header ui-corner-all ' +\n",
       "        'ui-helper-clearfix\"/>');\n",
       "    var titletext = $(\n",
       "        '<div class=\"ui-dialog-title\" style=\"width: 100%; ' +\n",
       "        'text-align: center; padding: 3px;\"/>');\n",
       "    titlebar.append(titletext)\n",
       "    this.root.append(titlebar);\n",
       "    this.header = titletext[0];\n",
       "}\n",
       "\n",
       "\n",
       "\n",
       "mpl.figure.prototype._canvas_extra_style = function(canvas_div) {\n",
       "\n",
       "}\n",
       "\n",
       "\n",
       "mpl.figure.prototype._root_extra_style = function(canvas_div) {\n",
       "\n",
       "}\n",
       "\n",
       "mpl.figure.prototype._init_canvas = function() {\n",
       "    var fig = this;\n",
       "\n",
       "    var canvas_div = $('<div/>');\n",
       "\n",
       "    canvas_div.attr('style', 'position: relative; clear: both; outline: 0');\n",
       "\n",
       "    function canvas_keyboard_event(event) {\n",
       "        return fig.key_event(event, event['data']);\n",
       "    }\n",
       "\n",
       "    canvas_div.keydown('key_press', canvas_keyboard_event);\n",
       "    canvas_div.keyup('key_release', canvas_keyboard_event);\n",
       "    this.canvas_div = canvas_div\n",
       "    this._canvas_extra_style(canvas_div)\n",
       "    this.root.append(canvas_div);\n",
       "\n",
       "    var canvas = $('<canvas/>');\n",
       "    canvas.addClass('mpl-canvas');\n",
       "    canvas.attr('style', \"left: 0; top: 0; z-index: 0; outline: 0\")\n",
       "\n",
       "    this.canvas = canvas[0];\n",
       "    this.context = canvas[0].getContext(\"2d\");\n",
       "\n",
       "    var backingStore = this.context.backingStorePixelRatio ||\n",
       "\tthis.context.webkitBackingStorePixelRatio ||\n",
       "\tthis.context.mozBackingStorePixelRatio ||\n",
       "\tthis.context.msBackingStorePixelRatio ||\n",
       "\tthis.context.oBackingStorePixelRatio ||\n",
       "\tthis.context.backingStorePixelRatio || 1;\n",
       "\n",
       "    mpl.ratio = (window.devicePixelRatio || 1) / backingStore;\n",
       "\n",
       "    var rubberband = $('<canvas/>');\n",
       "    rubberband.attr('style', \"position: absolute; left: 0; top: 0; z-index: 1;\")\n",
       "\n",
       "    var pass_mouse_events = true;\n",
       "\n",
       "    canvas_div.resizable({\n",
       "        start: function(event, ui) {\n",
       "            pass_mouse_events = false;\n",
       "        },\n",
       "        resize: function(event, ui) {\n",
       "            fig.request_resize(ui.size.width, ui.size.height);\n",
       "        },\n",
       "        stop: function(event, ui) {\n",
       "            pass_mouse_events = true;\n",
       "            fig.request_resize(ui.size.width, ui.size.height);\n",
       "        },\n",
       "    });\n",
       "\n",
       "    function mouse_event_fn(event) {\n",
       "        if (pass_mouse_events)\n",
       "            return fig.mouse_event(event, event['data']);\n",
       "    }\n",
       "\n",
       "    rubberband.mousedown('button_press', mouse_event_fn);\n",
       "    rubberband.mouseup('button_release', mouse_event_fn);\n",
       "    // Throttle sequential mouse events to 1 every 20ms.\n",
       "    rubberband.mousemove('motion_notify', mouse_event_fn);\n",
       "\n",
       "    rubberband.mouseenter('figure_enter', mouse_event_fn);\n",
       "    rubberband.mouseleave('figure_leave', mouse_event_fn);\n",
       "\n",
       "    canvas_div.on(\"wheel\", function (event) {\n",
       "        event = event.originalEvent;\n",
       "        event['data'] = 'scroll'\n",
       "        if (event.deltaY < 0) {\n",
       "            event.step = 1;\n",
       "        } else {\n",
       "            event.step = -1;\n",
       "        }\n",
       "        mouse_event_fn(event);\n",
       "    });\n",
       "\n",
       "    canvas_div.append(canvas);\n",
       "    canvas_div.append(rubberband);\n",
       "\n",
       "    this.rubberband = rubberband;\n",
       "    this.rubberband_canvas = rubberband[0];\n",
       "    this.rubberband_context = rubberband[0].getContext(\"2d\");\n",
       "    this.rubberband_context.strokeStyle = \"#000000\";\n",
       "\n",
       "    this._resize_canvas = function(width, height) {\n",
       "        // Keep the size of the canvas, canvas container, and rubber band\n",
       "        // canvas in synch.\n",
       "        canvas_div.css('width', width)\n",
       "        canvas_div.css('height', height)\n",
       "\n",
       "        canvas.attr('width', width * mpl.ratio);\n",
       "        canvas.attr('height', height * mpl.ratio);\n",
       "        canvas.attr('style', 'width: ' + width + 'px; height: ' + height + 'px;');\n",
       "\n",
       "        rubberband.attr('width', width);\n",
       "        rubberband.attr('height', height);\n",
       "    }\n",
       "\n",
       "    // Set the figure to an initial 600x600px, this will subsequently be updated\n",
       "    // upon first draw.\n",
       "    this._resize_canvas(600, 600);\n",
       "\n",
       "    // Disable right mouse context menu.\n",
       "    $(this.rubberband_canvas).bind(\"contextmenu\",function(e){\n",
       "        return false;\n",
       "    });\n",
       "\n",
       "    function set_focus () {\n",
       "        canvas.focus();\n",
       "        canvas_div.focus();\n",
       "    }\n",
       "\n",
       "    window.setTimeout(set_focus, 100);\n",
       "}\n",
       "\n",
       "mpl.figure.prototype._init_toolbar = function() {\n",
       "    var fig = this;\n",
       "\n",
       "    var nav_element = $('<div/>')\n",
       "    nav_element.attr('style', 'width: 100%');\n",
       "    this.root.append(nav_element);\n",
       "\n",
       "    // Define a callback function for later on.\n",
       "    function toolbar_event(event) {\n",
       "        return fig.toolbar_button_onclick(event['data']);\n",
       "    }\n",
       "    function toolbar_mouse_event(event) {\n",
       "        return fig.toolbar_button_onmouseover(event['data']);\n",
       "    }\n",
       "\n",
       "    for(var toolbar_ind in mpl.toolbar_items) {\n",
       "        var name = mpl.toolbar_items[toolbar_ind][0];\n",
       "        var tooltip = mpl.toolbar_items[toolbar_ind][1];\n",
       "        var image = mpl.toolbar_items[toolbar_ind][2];\n",
       "        var method_name = mpl.toolbar_items[toolbar_ind][3];\n",
       "\n",
       "        if (!name) {\n",
       "            // put a spacer in here.\n",
       "            continue;\n",
       "        }\n",
       "        var button = $('<button/>');\n",
       "        button.addClass('ui-button ui-widget ui-state-default ui-corner-all ' +\n",
       "                        'ui-button-icon-only');\n",
       "        button.attr('role', 'button');\n",
       "        button.attr('aria-disabled', 'false');\n",
       "        button.click(method_name, toolbar_event);\n",
       "        button.mouseover(tooltip, toolbar_mouse_event);\n",
       "\n",
       "        var icon_img = $('<span/>');\n",
       "        icon_img.addClass('ui-button-icon-primary ui-icon');\n",
       "        icon_img.addClass(image);\n",
       "        icon_img.addClass('ui-corner-all');\n",
       "\n",
       "        var tooltip_span = $('<span/>');\n",
       "        tooltip_span.addClass('ui-button-text');\n",
       "        tooltip_span.html(tooltip);\n",
       "\n",
       "        button.append(icon_img);\n",
       "        button.append(tooltip_span);\n",
       "\n",
       "        nav_element.append(button);\n",
       "    }\n",
       "\n",
       "    var fmt_picker_span = $('<span/>');\n",
       "\n",
       "    var fmt_picker = $('<select/>');\n",
       "    fmt_picker.addClass('mpl-toolbar-option ui-widget ui-widget-content');\n",
       "    fmt_picker_span.append(fmt_picker);\n",
       "    nav_element.append(fmt_picker_span);\n",
       "    this.format_dropdown = fmt_picker[0];\n",
       "\n",
       "    for (var ind in mpl.extensions) {\n",
       "        var fmt = mpl.extensions[ind];\n",
       "        var option = $(\n",
       "            '<option/>', {selected: fmt === mpl.default_extension}).html(fmt);\n",
       "        fmt_picker.append(option)\n",
       "    }\n",
       "\n",
       "    // Add hover states to the ui-buttons\n",
       "    $( \".ui-button\" ).hover(\n",
       "        function() { $(this).addClass(\"ui-state-hover\");},\n",
       "        function() { $(this).removeClass(\"ui-state-hover\");}\n",
       "    );\n",
       "\n",
       "    var status_bar = $('<span class=\"mpl-message\"/>');\n",
       "    nav_element.append(status_bar);\n",
       "    this.message = status_bar[0];\n",
       "}\n",
       "\n",
       "mpl.figure.prototype.request_resize = function(x_pixels, y_pixels) {\n",
       "    // Request matplotlib to resize the figure. Matplotlib will then trigger a resize in the client,\n",
       "    // which will in turn request a refresh of the image.\n",
       "    this.send_message('resize', {'width': x_pixels, 'height': y_pixels});\n",
       "}\n",
       "\n",
       "mpl.figure.prototype.send_message = function(type, properties) {\n",
       "    properties['type'] = type;\n",
       "    properties['figure_id'] = this.id;\n",
       "    this.ws.send(JSON.stringify(properties));\n",
       "}\n",
       "\n",
       "mpl.figure.prototype.send_draw_message = function() {\n",
       "    if (!this.waiting) {\n",
       "        this.waiting = true;\n",
       "        this.ws.send(JSON.stringify({type: \"draw\", figure_id: this.id}));\n",
       "    }\n",
       "}\n",
       "\n",
       "\n",
       "mpl.figure.prototype.handle_save = function(fig, msg) {\n",
       "    var format_dropdown = fig.format_dropdown;\n",
       "    var format = format_dropdown.options[format_dropdown.selectedIndex].value;\n",
       "    fig.ondownload(fig, format);\n",
       "}\n",
       "\n",
       "\n",
       "mpl.figure.prototype.handle_resize = function(fig, msg) {\n",
       "    var size = msg['size'];\n",
       "    if (size[0] != fig.canvas.width || size[1] != fig.canvas.height) {\n",
       "        fig._resize_canvas(size[0], size[1]);\n",
       "        fig.send_message(\"refresh\", {});\n",
       "    };\n",
       "}\n",
       "\n",
       "mpl.figure.prototype.handle_rubberband = function(fig, msg) {\n",
       "    var x0 = msg['x0'] / mpl.ratio;\n",
       "    var y0 = (fig.canvas.height - msg['y0']) / mpl.ratio;\n",
       "    var x1 = msg['x1'] / mpl.ratio;\n",
       "    var y1 = (fig.canvas.height - msg['y1']) / mpl.ratio;\n",
       "    x0 = Math.floor(x0) + 0.5;\n",
       "    y0 = Math.floor(y0) + 0.5;\n",
       "    x1 = Math.floor(x1) + 0.5;\n",
       "    y1 = Math.floor(y1) + 0.5;\n",
       "    var min_x = Math.min(x0, x1);\n",
       "    var min_y = Math.min(y0, y1);\n",
       "    var width = Math.abs(x1 - x0);\n",
       "    var height = Math.abs(y1 - y0);\n",
       "\n",
       "    fig.rubberband_context.clearRect(\n",
       "        0, 0, fig.canvas.width, fig.canvas.height);\n",
       "\n",
       "    fig.rubberband_context.strokeRect(min_x, min_y, width, height);\n",
       "}\n",
       "\n",
       "mpl.figure.prototype.handle_figure_label = function(fig, msg) {\n",
       "    // Updates the figure title.\n",
       "    fig.header.textContent = msg['label'];\n",
       "}\n",
       "\n",
       "mpl.figure.prototype.handle_cursor = function(fig, msg) {\n",
       "    var cursor = msg['cursor'];\n",
       "    switch(cursor)\n",
       "    {\n",
       "    case 0:\n",
       "        cursor = 'pointer';\n",
       "        break;\n",
       "    case 1:\n",
       "        cursor = 'default';\n",
       "        break;\n",
       "    case 2:\n",
       "        cursor = 'crosshair';\n",
       "        break;\n",
       "    case 3:\n",
       "        cursor = 'move';\n",
       "        break;\n",
       "    }\n",
       "    fig.rubberband_canvas.style.cursor = cursor;\n",
       "}\n",
       "\n",
       "mpl.figure.prototype.handle_message = function(fig, msg) {\n",
       "    fig.message.textContent = msg['message'];\n",
       "}\n",
       "\n",
       "mpl.figure.prototype.handle_draw = function(fig, msg) {\n",
       "    // Request the server to send over a new figure.\n",
       "    fig.send_draw_message();\n",
       "}\n",
       "\n",
       "mpl.figure.prototype.handle_image_mode = function(fig, msg) {\n",
       "    fig.image_mode = msg['mode'];\n",
       "}\n",
       "\n",
       "mpl.figure.prototype.updated_canvas_event = function() {\n",
       "    // Called whenever the canvas gets updated.\n",
       "    this.send_message(\"ack\", {});\n",
       "}\n",
       "\n",
       "// A function to construct a web socket function for onmessage handling.\n",
       "// Called in the figure constructor.\n",
       "mpl.figure.prototype._make_on_message_function = function(fig) {\n",
       "    return function socket_on_message(evt) {\n",
       "        if (evt.data instanceof Blob) {\n",
       "            /* FIXME: We get \"Resource interpreted as Image but\n",
       "             * transferred with MIME type text/plain:\" errors on\n",
       "             * Chrome.  But how to set the MIME type?  It doesn't seem\n",
       "             * to be part of the websocket stream */\n",
       "            evt.data.type = \"image/png\";\n",
       "\n",
       "            /* Free the memory for the previous frames */\n",
       "            if (fig.imageObj.src) {\n",
       "                (window.URL || window.webkitURL).revokeObjectURL(\n",
       "                    fig.imageObj.src);\n",
       "            }\n",
       "\n",
       "            fig.imageObj.src = (window.URL || window.webkitURL).createObjectURL(\n",
       "                evt.data);\n",
       "            fig.updated_canvas_event();\n",
       "            fig.waiting = false;\n",
       "            return;\n",
       "        }\n",
       "        else if (typeof evt.data === 'string' && evt.data.slice(0, 21) == \"data:image/png;base64\") {\n",
       "            fig.imageObj.src = evt.data;\n",
       "            fig.updated_canvas_event();\n",
       "            fig.waiting = false;\n",
       "            return;\n",
       "        }\n",
       "\n",
       "        var msg = JSON.parse(evt.data);\n",
       "        var msg_type = msg['type'];\n",
       "\n",
       "        // Call the  \"handle_{type}\" callback, which takes\n",
       "        // the figure and JSON message as its only arguments.\n",
       "        try {\n",
       "            var callback = fig[\"handle_\" + msg_type];\n",
       "        } catch (e) {\n",
       "            console.log(\"No handler for the '\" + msg_type + \"' message type: \", msg);\n",
       "            return;\n",
       "        }\n",
       "\n",
       "        if (callback) {\n",
       "            try {\n",
       "                // console.log(\"Handling '\" + msg_type + \"' message: \", msg);\n",
       "                callback(fig, msg);\n",
       "            } catch (e) {\n",
       "                console.log(\"Exception inside the 'handler_\" + msg_type + \"' callback:\", e, e.stack, msg);\n",
       "            }\n",
       "        }\n",
       "    };\n",
       "}\n",
       "\n",
       "// from http://stackoverflow.com/questions/1114465/getting-mouse-location-in-canvas\n",
       "mpl.findpos = function(e) {\n",
       "    //this section is from http://www.quirksmode.org/js/events_properties.html\n",
       "    var targ;\n",
       "    if (!e)\n",
       "        e = window.event;\n",
       "    if (e.target)\n",
       "        targ = e.target;\n",
       "    else if (e.srcElement)\n",
       "        targ = e.srcElement;\n",
       "    if (targ.nodeType == 3) // defeat Safari bug\n",
       "        targ = targ.parentNode;\n",
       "\n",
       "    // jQuery normalizes the pageX and pageY\n",
       "    // pageX,Y are the mouse positions relative to the document\n",
       "    // offset() returns the position of the element relative to the document\n",
       "    var x = e.pageX - $(targ).offset().left;\n",
       "    var y = e.pageY - $(targ).offset().top;\n",
       "\n",
       "    return {\"x\": x, \"y\": y};\n",
       "};\n",
       "\n",
       "/*\n",
       " * return a copy of an object with only non-object keys\n",
       " * we need this to avoid circular references\n",
       " * http://stackoverflow.com/a/24161582/3208463\n",
       " */\n",
       "function simpleKeys (original) {\n",
       "  return Object.keys(original).reduce(function (obj, key) {\n",
       "    if (typeof original[key] !== 'object')\n",
       "        obj[key] = original[key]\n",
       "    return obj;\n",
       "  }, {});\n",
       "}\n",
       "\n",
       "mpl.figure.prototype.mouse_event = function(event, name) {\n",
       "    var canvas_pos = mpl.findpos(event)\n",
       "\n",
       "    if (name === 'button_press')\n",
       "    {\n",
       "        this.canvas.focus();\n",
       "        this.canvas_div.focus();\n",
       "    }\n",
       "\n",
       "    var x = canvas_pos.x * mpl.ratio;\n",
       "    var y = canvas_pos.y * mpl.ratio;\n",
       "\n",
       "    this.send_message(name, {x: x, y: y, button: event.button,\n",
       "                             step: event.step,\n",
       "                             guiEvent: simpleKeys(event)});\n",
       "\n",
       "    /* This prevents the web browser from automatically changing to\n",
       "     * the text insertion cursor when the button is pressed.  We want\n",
       "     * to control all of the cursor setting manually through the\n",
       "     * 'cursor' event from matplotlib */\n",
       "    event.preventDefault();\n",
       "    return false;\n",
       "}\n",
       "\n",
       "mpl.figure.prototype._key_event_extra = function(event, name) {\n",
       "    // Handle any extra behaviour associated with a key event\n",
       "}\n",
       "\n",
       "mpl.figure.prototype.key_event = function(event, name) {\n",
       "\n",
       "    // Prevent repeat events\n",
       "    if (name == 'key_press')\n",
       "    {\n",
       "        if (event.which === this._key)\n",
       "            return;\n",
       "        else\n",
       "            this._key = event.which;\n",
       "    }\n",
       "    if (name == 'key_release')\n",
       "        this._key = null;\n",
       "\n",
       "    var value = '';\n",
       "    if (event.ctrlKey && event.which != 17)\n",
       "        value += \"ctrl+\";\n",
       "    if (event.altKey && event.which != 18)\n",
       "        value += \"alt+\";\n",
       "    if (event.shiftKey && event.which != 16)\n",
       "        value += \"shift+\";\n",
       "\n",
       "    value += 'k';\n",
       "    value += event.which.toString();\n",
       "\n",
       "    this._key_event_extra(event, name);\n",
       "\n",
       "    this.send_message(name, {key: value,\n",
       "                             guiEvent: simpleKeys(event)});\n",
       "    return false;\n",
       "}\n",
       "\n",
       "mpl.figure.prototype.toolbar_button_onclick = function(name) {\n",
       "    if (name == 'download') {\n",
       "        this.handle_save(this, null);\n",
       "    } else {\n",
       "        this.send_message(\"toolbar_button\", {name: name});\n",
       "    }\n",
       "};\n",
       "\n",
       "mpl.figure.prototype.toolbar_button_onmouseover = function(tooltip) {\n",
       "    this.message.textContent = tooltip;\n",
       "};\n",
       "mpl.toolbar_items = [[\"Home\", \"Reset original view\", \"fa fa-home icon-home\", \"home\"], [\"Back\", \"Back to  previous view\", \"fa fa-arrow-left icon-arrow-left\", \"back\"], [\"Forward\", \"Forward to next view\", \"fa fa-arrow-right icon-arrow-right\", \"forward\"], [\"\", \"\", \"\", \"\"], [\"Pan\", \"Pan axes with left mouse, zoom with right\", \"fa fa-arrows icon-move\", \"pan\"], [\"Zoom\", \"Zoom to rectangle\", \"fa fa-square-o icon-check-empty\", \"zoom\"], [\"\", \"\", \"\", \"\"], [\"Download\", \"Download plot\", \"fa fa-floppy-o icon-save\", \"download\"]];\n",
       "\n",
       "mpl.extensions = [\"eps\", \"jpeg\", \"pdf\", \"png\", \"ps\", \"raw\", \"svg\", \"tif\"];\n",
       "\n",
       "mpl.default_extension = \"png\";var comm_websocket_adapter = function(comm) {\n",
       "    // Create a \"websocket\"-like object which calls the given IPython comm\n",
       "    // object with the appropriate methods. Currently this is a non binary\n",
       "    // socket, so there is still some room for performance tuning.\n",
       "    var ws = {};\n",
       "\n",
       "    ws.close = function() {\n",
       "        comm.close()\n",
       "    };\n",
       "    ws.send = function(m) {\n",
       "        //console.log('sending', m);\n",
       "        comm.send(m);\n",
       "    };\n",
       "    // Register the callback with on_msg.\n",
       "    comm.on_msg(function(msg) {\n",
       "        //console.log('receiving', msg['content']['data'], msg);\n",
       "        // Pass the mpl event to the overriden (by mpl) onmessage function.\n",
       "        ws.onmessage(msg['content']['data'])\n",
       "    });\n",
       "    return ws;\n",
       "}\n",
       "\n",
       "mpl.mpl_figure_comm = function(comm, msg) {\n",
       "    // This is the function which gets called when the mpl process\n",
       "    // starts-up an IPython Comm through the \"matplotlib\" channel.\n",
       "\n",
       "    var id = msg.content.data.id;\n",
       "    // Get hold of the div created by the display call when the Comm\n",
       "    // socket was opened in Python.\n",
       "    var element = $(\"#\" + id);\n",
       "    var ws_proxy = comm_websocket_adapter(comm)\n",
       "\n",
       "    function ondownload(figure, format) {\n",
       "        window.open(figure.imageObj.src);\n",
       "    }\n",
       "\n",
       "    var fig = new mpl.figure(id, ws_proxy,\n",
       "                           ondownload,\n",
       "                           element.get(0));\n",
       "\n",
       "    // Call onopen now - mpl needs it, as it is assuming we've passed it a real\n",
       "    // web socket which is closed, not our websocket->open comm proxy.\n",
       "    ws_proxy.onopen();\n",
       "\n",
       "    fig.parent_element = element.get(0);\n",
       "    fig.cell_info = mpl.find_output_cell(\"<div id='\" + id + \"'></div>\");\n",
       "    if (!fig.cell_info) {\n",
       "        console.error(\"Failed to find cell for figure\", id, fig);\n",
       "        return;\n",
       "    }\n",
       "\n",
       "    var output_index = fig.cell_info[2]\n",
       "    var cell = fig.cell_info[0];\n",
       "\n",
       "};\n",
       "\n",
       "mpl.figure.prototype.handle_close = function(fig, msg) {\n",
       "    var width = fig.canvas.width/mpl.ratio\n",
       "    fig.root.unbind('remove')\n",
       "\n",
       "    // Update the output cell to use the data from the current canvas.\n",
       "    fig.push_to_output();\n",
       "    var dataURL = fig.canvas.toDataURL();\n",
       "    // Re-enable the keyboard manager in IPython - without this line, in FF,\n",
       "    // the notebook keyboard shortcuts fail.\n",
       "    IPython.keyboard_manager.enable()\n",
       "    $(fig.parent_element).html('<img src=\"' + dataURL + '\" width=\"' + width + '\">');\n",
       "    fig.close_ws(fig, msg);\n",
       "}\n",
       "\n",
       "mpl.figure.prototype.close_ws = function(fig, msg){\n",
       "    fig.send_message('closing', msg);\n",
       "    // fig.ws.close()\n",
       "}\n",
       "\n",
       "mpl.figure.prototype.push_to_output = function(remove_interactive) {\n",
       "    // Turn the data on the canvas into data in the output cell.\n",
       "    var width = this.canvas.width/mpl.ratio\n",
       "    var dataURL = this.canvas.toDataURL();\n",
       "    this.cell_info[1]['text/html'] = '<img src=\"' + dataURL + '\" width=\"' + width + '\">';\n",
       "}\n",
       "\n",
       "mpl.figure.prototype.updated_canvas_event = function() {\n",
       "    // Tell IPython that the notebook contents must change.\n",
       "    IPython.notebook.set_dirty(true);\n",
       "    this.send_message(\"ack\", {});\n",
       "    var fig = this;\n",
       "    // Wait a second, then push the new image to the DOM so\n",
       "    // that it is saved nicely (might be nice to debounce this).\n",
       "    setTimeout(function () { fig.push_to_output() }, 1000);\n",
       "}\n",
       "\n",
       "mpl.figure.prototype._init_toolbar = function() {\n",
       "    var fig = this;\n",
       "\n",
       "    var nav_element = $('<div/>')\n",
       "    nav_element.attr('style', 'width: 100%');\n",
       "    this.root.append(nav_element);\n",
       "\n",
       "    // Define a callback function for later on.\n",
       "    function toolbar_event(event) {\n",
       "        return fig.toolbar_button_onclick(event['data']);\n",
       "    }\n",
       "    function toolbar_mouse_event(event) {\n",
       "        return fig.toolbar_button_onmouseover(event['data']);\n",
       "    }\n",
       "\n",
       "    for(var toolbar_ind in mpl.toolbar_items){\n",
       "        var name = mpl.toolbar_items[toolbar_ind][0];\n",
       "        var tooltip = mpl.toolbar_items[toolbar_ind][1];\n",
       "        var image = mpl.toolbar_items[toolbar_ind][2];\n",
       "        var method_name = mpl.toolbar_items[toolbar_ind][3];\n",
       "\n",
       "        if (!name) { continue; };\n",
       "\n",
       "        var button = $('<button class=\"btn btn-default\" href=\"#\" title=\"' + name + '\"><i class=\"fa ' + image + ' fa-lg\"></i></button>');\n",
       "        button.click(method_name, toolbar_event);\n",
       "        button.mouseover(tooltip, toolbar_mouse_event);\n",
       "        nav_element.append(button);\n",
       "    }\n",
       "\n",
       "    // Add the status bar.\n",
       "    var status_bar = $('<span class=\"mpl-message\" style=\"text-align:right; float: right;\"/>');\n",
       "    nav_element.append(status_bar);\n",
       "    this.message = status_bar[0];\n",
       "\n",
       "    // Add the close button to the window.\n",
       "    var buttongrp = $('<div class=\"btn-group inline pull-right\"></div>');\n",
       "    var button = $('<button class=\"btn btn-mini btn-primary\" href=\"#\" title=\"Stop Interaction\"><i class=\"fa fa-power-off icon-remove icon-large\"></i></button>');\n",
       "    button.click(function (evt) { fig.handle_close(fig, {}); } );\n",
       "    button.mouseover('Stop Interaction', toolbar_mouse_event);\n",
       "    buttongrp.append(button);\n",
       "    var titlebar = this.root.find($('.ui-dialog-titlebar'));\n",
       "    titlebar.prepend(buttongrp);\n",
       "}\n",
       "\n",
       "mpl.figure.prototype._root_extra_style = function(el){\n",
       "    var fig = this\n",
       "    el.on(\"remove\", function(){\n",
       "\tfig.close_ws(fig, {});\n",
       "    });\n",
       "}\n",
       "\n",
       "mpl.figure.prototype._canvas_extra_style = function(el){\n",
       "    // this is important to make the div 'focusable\n",
       "    el.attr('tabindex', 0)\n",
       "    // reach out to IPython and tell the keyboard manager to turn it's self\n",
       "    // off when our div gets focus\n",
       "\n",
       "    // location in version 3\n",
       "    if (IPython.notebook.keyboard_manager) {\n",
       "        IPython.notebook.keyboard_manager.register_events(el);\n",
       "    }\n",
       "    else {\n",
       "        // location in version 2\n",
       "        IPython.keyboard_manager.register_events(el);\n",
       "    }\n",
       "\n",
       "}\n",
       "\n",
       "mpl.figure.prototype._key_event_extra = function(event, name) {\n",
       "    var manager = IPython.notebook.keyboard_manager;\n",
       "    if (!manager)\n",
       "        manager = IPython.keyboard_manager;\n",
       "\n",
       "    // Check for shift+enter\n",
       "    if (event.shiftKey && event.which == 13) {\n",
       "        this.canvas_div.blur();\n",
       "        // select the cell after this one\n",
       "        var index = IPython.notebook.find_cell_index(this.cell_info[0]);\n",
       "        IPython.notebook.select(index + 1);\n",
       "    }\n",
       "}\n",
       "\n",
       "mpl.figure.prototype.handle_save = function(fig, msg) {\n",
       "    fig.ondownload(fig, null);\n",
       "}\n",
       "\n",
       "\n",
       "mpl.find_output_cell = function(html_output) {\n",
       "    // Return the cell and output element which can be found *uniquely* in the notebook.\n",
       "    // Note - this is a bit hacky, but it is done because the \"notebook_saving.Notebook\"\n",
       "    // IPython event is triggered only after the cells have been serialised, which for\n",
       "    // our purposes (turning an active figure into a static one), is too late.\n",
       "    var cells = IPython.notebook.get_cells();\n",
       "    var ncells = cells.length;\n",
       "    for (var i=0; i<ncells; i++) {\n",
       "        var cell = cells[i];\n",
       "        if (cell.cell_type === 'code'){\n",
       "            for (var j=0; j<cell.output_area.outputs.length; j++) {\n",
       "                var data = cell.output_area.outputs[j];\n",
       "                if (data.data) {\n",
       "                    // IPython >= 3 moved mimebundle to data attribute of output\n",
       "                    data = data.data;\n",
       "                }\n",
       "                if (data['text/html'] == html_output) {\n",
       "                    return [cell, data, j];\n",
       "                }\n",
       "            }\n",
       "        }\n",
       "    }\n",
       "}\n",
       "\n",
       "// Register the function which deals with the matplotlib target/channel.\n",
       "// The kernel may be null if the page has been refreshed.\n",
       "if (IPython.notebook.kernel != null) {\n",
       "    IPython.notebook.kernel.comm_manager.register_target('matplotlib', mpl.mpl_figure_comm);\n",
       "}\n"
      ],
      "text/plain": [
       "<IPython.core.display.Javascript object>"
      ]
     },
     "metadata": {},
     "output_type": "display_data"
    },
    {
     "data": {
      "text/html": [
       "<img src=\"data:image/png;base64,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\" width=\"640\">"
      ],
      "text/plain": [
       "<IPython.core.display.HTML object>"
      ]
     },
     "metadata": {},
     "output_type": "display_data"
    }
   ],
   "source": [
    "print(__doc__)\n",
    "\n",
    "import matplotlib.pyplot as plt\n",
    "from sklearn.datasets import fetch_mldata\n",
    "from sklearn.neural_network import MLPClassifier\n",
    "\n",
    "mnist = fetch_mldata(\"MNIST original\")\n",
    "# rescale the data, use the traditional train/test split\n",
    "X, y = mnist.data / 255., mnist.target\n",
    "X_train, X_test = X[:60000], X[60000:]\n",
    "y_train, y_test = y[:60000], y[60000:]\n",
    "\n",
    "# mlp = MLPClassifier(hidden_layer_sizes=(100, 100), max_iter=400, alpha=1e-4,\n",
    "#                     solver='sgd', verbose=10, tol=1e-4, random_state=1)\n",
    "mlp = MLPClassifier(hidden_layer_sizes=(50,), max_iter=10, alpha=1e-4,\n",
    "                    solver='sgd', verbose=10, tol=1e-4, random_state=1,\n",
    "                    learning_rate_init=.1)\n",
    "\n",
    "mlp.fit(X_train, y_train)\n",
    "print(\"Training set score: %f\" % mlp.score(X_train, y_train))\n",
    "print(\"Test set score: %f\" % mlp.score(X_test, y_test))\n",
    "\n",
    "fig, axes = plt.subplots(4, 4)\n",
    "# use global min / max to ensure all weights are shown on the same scale\n",
    "vmin, vmax = mlp.coefs_[0].min(), mlp.coefs_[0].max()\n",
    "for coef, ax in zip(mlp.coefs_[0].T, axes.ravel()):\n",
    "    ax.matshow(coef.reshape(28, 28), cmap=plt.cm.gray, vmin=.5 * vmin,\n",
    "               vmax=.5 * vmax)\n",
    "    ax.set_xticks(())\n",
    "    ax.set_yticks(())\n",
    "\n",
    "plt.show()"
   ]
  },
  {
   "cell_type": "code",
   "execution_count": null,
   "metadata": {
    "collapsed": true
   },
   "outputs": [],
   "source": []
  }
 ],
 "metadata": {
  "kernelspec": {
   "display_name": "Python 3",
   "language": "python",
   "name": "python3"
  },
  "language_info": {
   "codemirror_mode": {
    "name": "ipython",
    "version": 3
   },
   "file_extension": ".py",
   "mimetype": "text/x-python",
   "name": "python",
   "nbconvert_exporter": "python",
   "pygments_lexer": "ipython3",
   "version": "3.6.1"
  }
 },
 "nbformat": 4,
 "nbformat_minor": 2
}
